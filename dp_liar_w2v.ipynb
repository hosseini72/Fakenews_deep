{
  "nbformat": 4,
  "nbformat_minor": 0,
  "metadata": {
    "colab": {
      "provenance": [],
      "gpuType": "T4"
    },
    "kernelspec": {
      "name": "python3",
      "display_name": "Python 3"
    },
    "language_info": {
      "name": "python"
    },
    "accelerator": "GPU"
  },
  "cells": [
    {
      "cell_type": "code",
      "execution_count": 48,
      "metadata": {
        "id": "n8jI_MXV4S40"
      },
      "outputs": [],
      "source": [
        "import tensorflow as tf\n",
        "from tensorflow import keras\n",
        "import pandas as pd\n",
        "import numpy as np\n",
        "import os\n",
        "import matplotlib.pyplot as plt\n",
        "import time\n",
        "# preprocessing\n",
        "import re\n",
        "import string\n",
        "import nltk\n",
        "from nltk import  pos_tag\n",
        "from nltk.corpus import stopwords\n",
        "import nltk.stem as stemmer\n",
        "\n",
        "from sklearn.model_selection import train_test_split\n",
        "from gensim.models import Word2Vec\n",
        "\n",
        "\n",
        "from collections import Counter\n",
        "# Tokenizer\n",
        "from tensorflow.keras.preprocessing.text import Tokenizer\n",
        "from tensorflow.keras.preprocessing.sequence import pad_sequences\n",
        "from tensorflow.keras import layers\n",
        "from tensorflow.keras.metrics import Precision, Recall\n",
        "from keras.callbacks import EarlyStopping\n",
        "from sklearn.metrics import classification_report\n",
        "\n"
      ]
    },
    {
      "cell_type": "code",
      "source": [
        "#read data\n",
        "dataset= pd.read_csv('liar.csv')\n",
        "dataset"
      ],
      "metadata": {
        "id": "5G2VPSGA42nP",
        "colab": {
          "base_uri": "https://localhost:8080/",
          "height": 424
        },
        "outputId": "ff9e8c0f-a9b9-4615-d54a-61bef9dcd708"
      },
      "execution_count": 2,
      "outputs": [
        {
          "output_type": "execute_result",
          "data": {
            "text/plain": [
              "      label  speaker  speaker's job title  state info  party affiliation  \\\n",
              "0         1        0                    0          -1                  0   \n",
              "1         1        1                   -1           0                  1   \n",
              "2         1        2                   -1          -1                  1   \n",
              "3         1        3                    1           1                  1   \n",
              "4         0        4                    2           2                  1   \n",
              "...     ...      ...                  ...         ...                ...   \n",
              "9995      0     1208                  528          10                  1   \n",
              "9996      0      143                   84          -1                  0   \n",
              "9997      0     2836                   -1          -1                  5   \n",
              "9998      0     2099                  882          29                  0   \n",
              "9999      0       40                   15           5                  1   \n",
              "\n",
              "      the context                                               news  \n",
              "0               0  veteransIts been nearly three weeks since the ...  \n",
              "1               1  educationWe have about six school districts th...  \n",
              "2               2  crime immigration134,000 (criminal) aliens hav...  \n",
              "3               3  elections immigration message-machine-2012Says...  \n",
              "4               4  electionsSays Jeb Bush said he would take his ...  \n",
              "...           ...                                                ...  \n",
              "9995            9  energy message-machineJoe Garcia raised utilit...  \n",
              "9996         1744  federal-budget health-care medicare abc-news-w...  \n",
              "9997           30  state-budget state-finances transportationThan...  \n",
              "9998          552  religionSays a Portland school gives Muslim st...  \n",
              "9999           74                              electionsOn debating.  \n",
              "\n",
              "[10000 rows x 7 columns]"
            ],
            "text/html": [
              "\n",
              "  <div id=\"df-1413aa7f-d544-4d76-8e74-07ecfaf4ffdf\" class=\"colab-df-container\">\n",
              "    <div>\n",
              "<style scoped>\n",
              "    .dataframe tbody tr th:only-of-type {\n",
              "        vertical-align: middle;\n",
              "    }\n",
              "\n",
              "    .dataframe tbody tr th {\n",
              "        vertical-align: top;\n",
              "    }\n",
              "\n",
              "    .dataframe thead th {\n",
              "        text-align: right;\n",
              "    }\n",
              "</style>\n",
              "<table border=\"1\" class=\"dataframe\">\n",
              "  <thead>\n",
              "    <tr style=\"text-align: right;\">\n",
              "      <th></th>\n",
              "      <th>label</th>\n",
              "      <th>speaker</th>\n",
              "      <th>speaker's job title</th>\n",
              "      <th>state info</th>\n",
              "      <th>party affiliation</th>\n",
              "      <th>the context</th>\n",
              "      <th>news</th>\n",
              "    </tr>\n",
              "  </thead>\n",
              "  <tbody>\n",
              "    <tr>\n",
              "      <th>0</th>\n",
              "      <td>1</td>\n",
              "      <td>0</td>\n",
              "      <td>0</td>\n",
              "      <td>-1</td>\n",
              "      <td>0</td>\n",
              "      <td>0</td>\n",
              "      <td>veteransIts been nearly three weeks since the ...</td>\n",
              "    </tr>\n",
              "    <tr>\n",
              "      <th>1</th>\n",
              "      <td>1</td>\n",
              "      <td>1</td>\n",
              "      <td>-1</td>\n",
              "      <td>0</td>\n",
              "      <td>1</td>\n",
              "      <td>1</td>\n",
              "      <td>educationWe have about six school districts th...</td>\n",
              "    </tr>\n",
              "    <tr>\n",
              "      <th>2</th>\n",
              "      <td>1</td>\n",
              "      <td>2</td>\n",
              "      <td>-1</td>\n",
              "      <td>-1</td>\n",
              "      <td>1</td>\n",
              "      <td>2</td>\n",
              "      <td>crime immigration134,000 (criminal) aliens hav...</td>\n",
              "    </tr>\n",
              "    <tr>\n",
              "      <th>3</th>\n",
              "      <td>1</td>\n",
              "      <td>3</td>\n",
              "      <td>1</td>\n",
              "      <td>1</td>\n",
              "      <td>1</td>\n",
              "      <td>3</td>\n",
              "      <td>elections immigration message-machine-2012Says...</td>\n",
              "    </tr>\n",
              "    <tr>\n",
              "      <th>4</th>\n",
              "      <td>0</td>\n",
              "      <td>4</td>\n",
              "      <td>2</td>\n",
              "      <td>2</td>\n",
              "      <td>1</td>\n",
              "      <td>4</td>\n",
              "      <td>electionsSays Jeb Bush said he would take his ...</td>\n",
              "    </tr>\n",
              "    <tr>\n",
              "      <th>...</th>\n",
              "      <td>...</td>\n",
              "      <td>...</td>\n",
              "      <td>...</td>\n",
              "      <td>...</td>\n",
              "      <td>...</td>\n",
              "      <td>...</td>\n",
              "      <td>...</td>\n",
              "    </tr>\n",
              "    <tr>\n",
              "      <th>9995</th>\n",
              "      <td>0</td>\n",
              "      <td>1208</td>\n",
              "      <td>528</td>\n",
              "      <td>10</td>\n",
              "      <td>1</td>\n",
              "      <td>9</td>\n",
              "      <td>energy message-machineJoe Garcia raised utilit...</td>\n",
              "    </tr>\n",
              "    <tr>\n",
              "      <th>9996</th>\n",
              "      <td>0</td>\n",
              "      <td>143</td>\n",
              "      <td>84</td>\n",
              "      <td>-1</td>\n",
              "      <td>0</td>\n",
              "      <td>1744</td>\n",
              "      <td>federal-budget health-care medicare abc-news-w...</td>\n",
              "    </tr>\n",
              "    <tr>\n",
              "      <th>9997</th>\n",
              "      <td>0</td>\n",
              "      <td>2836</td>\n",
              "      <td>-1</td>\n",
              "      <td>-1</td>\n",
              "      <td>5</td>\n",
              "      <td>30</td>\n",
              "      <td>state-budget state-finances transportationThan...</td>\n",
              "    </tr>\n",
              "    <tr>\n",
              "      <th>9998</th>\n",
              "      <td>0</td>\n",
              "      <td>2099</td>\n",
              "      <td>882</td>\n",
              "      <td>29</td>\n",
              "      <td>0</td>\n",
              "      <td>552</td>\n",
              "      <td>religionSays a Portland school gives Muslim st...</td>\n",
              "    </tr>\n",
              "    <tr>\n",
              "      <th>9999</th>\n",
              "      <td>0</td>\n",
              "      <td>40</td>\n",
              "      <td>15</td>\n",
              "      <td>5</td>\n",
              "      <td>1</td>\n",
              "      <td>74</td>\n",
              "      <td>electionsOn debating.</td>\n",
              "    </tr>\n",
              "  </tbody>\n",
              "</table>\n",
              "<p>10000 rows × 7 columns</p>\n",
              "</div>\n",
              "    <div class=\"colab-df-buttons\">\n",
              "\n",
              "  <div class=\"colab-df-container\">\n",
              "    <button class=\"colab-df-convert\" onclick=\"convertToInteractive('df-1413aa7f-d544-4d76-8e74-07ecfaf4ffdf')\"\n",
              "            title=\"Convert this dataframe to an interactive table.\"\n",
              "            style=\"display:none;\">\n",
              "\n",
              "  <svg xmlns=\"http://www.w3.org/2000/svg\" height=\"24px\" viewBox=\"0 -960 960 960\">\n",
              "    <path d=\"M120-120v-720h720v720H120Zm60-500h600v-160H180v160Zm220 220h160v-160H400v160Zm0 220h160v-160H400v160ZM180-400h160v-160H180v160Zm440 0h160v-160H620v160ZM180-180h160v-160H180v160Zm440 0h160v-160H620v160Z\"/>\n",
              "  </svg>\n",
              "    </button>\n",
              "\n",
              "  <style>\n",
              "    .colab-df-container {\n",
              "      display:flex;\n",
              "      gap: 12px;\n",
              "    }\n",
              "\n",
              "    .colab-df-convert {\n",
              "      background-color: #E8F0FE;\n",
              "      border: none;\n",
              "      border-radius: 50%;\n",
              "      cursor: pointer;\n",
              "      display: none;\n",
              "      fill: #1967D2;\n",
              "      height: 32px;\n",
              "      padding: 0 0 0 0;\n",
              "      width: 32px;\n",
              "    }\n",
              "\n",
              "    .colab-df-convert:hover {\n",
              "      background-color: #E2EBFA;\n",
              "      box-shadow: 0px 1px 2px rgba(60, 64, 67, 0.3), 0px 1px 3px 1px rgba(60, 64, 67, 0.15);\n",
              "      fill: #174EA6;\n",
              "    }\n",
              "\n",
              "    .colab-df-buttons div {\n",
              "      margin-bottom: 4px;\n",
              "    }\n",
              "\n",
              "    [theme=dark] .colab-df-convert {\n",
              "      background-color: #3B4455;\n",
              "      fill: #D2E3FC;\n",
              "    }\n",
              "\n",
              "    [theme=dark] .colab-df-convert:hover {\n",
              "      background-color: #434B5C;\n",
              "      box-shadow: 0px 1px 3px 1px rgba(0, 0, 0, 0.15);\n",
              "      filter: drop-shadow(0px 1px 2px rgba(0, 0, 0, 0.3));\n",
              "      fill: #FFFFFF;\n",
              "    }\n",
              "  </style>\n",
              "\n",
              "    <script>\n",
              "      const buttonEl =\n",
              "        document.querySelector('#df-1413aa7f-d544-4d76-8e74-07ecfaf4ffdf button.colab-df-convert');\n",
              "      buttonEl.style.display =\n",
              "        google.colab.kernel.accessAllowed ? 'block' : 'none';\n",
              "\n",
              "      async function convertToInteractive(key) {\n",
              "        const element = document.querySelector('#df-1413aa7f-d544-4d76-8e74-07ecfaf4ffdf');\n",
              "        const dataTable =\n",
              "          await google.colab.kernel.invokeFunction('convertToInteractive',\n",
              "                                                    [key], {});\n",
              "        if (!dataTable) return;\n",
              "\n",
              "        const docLinkHtml = 'Like what you see? Visit the ' +\n",
              "          '<a target=\"_blank\" href=https://colab.research.google.com/notebooks/data_table.ipynb>data table notebook</a>'\n",
              "          + ' to learn more about interactive tables.';\n",
              "        element.innerHTML = '';\n",
              "        dataTable['output_type'] = 'display_data';\n",
              "        await google.colab.output.renderOutput(dataTable, element);\n",
              "        const docLink = document.createElement('div');\n",
              "        docLink.innerHTML = docLinkHtml;\n",
              "        element.appendChild(docLink);\n",
              "      }\n",
              "    </script>\n",
              "  </div>\n",
              "\n",
              "\n",
              "<div id=\"df-1ac2cfb2-0d1e-46ac-b50d-2876c130debc\">\n",
              "  <button class=\"colab-df-quickchart\" onclick=\"quickchart('df-1ac2cfb2-0d1e-46ac-b50d-2876c130debc')\"\n",
              "            title=\"Suggest charts.\"\n",
              "            style=\"display:none;\">\n",
              "\n",
              "<svg xmlns=\"http://www.w3.org/2000/svg\" height=\"24px\"viewBox=\"0 0 24 24\"\n",
              "     width=\"24px\">\n",
              "    <g>\n",
              "        <path d=\"M19 3H5c-1.1 0-2 .9-2 2v14c0 1.1.9 2 2 2h14c1.1 0 2-.9 2-2V5c0-1.1-.9-2-2-2zM9 17H7v-7h2v7zm4 0h-2V7h2v10zm4 0h-2v-4h2v4z\"/>\n",
              "    </g>\n",
              "</svg>\n",
              "  </button>\n",
              "\n",
              "<style>\n",
              "  .colab-df-quickchart {\n",
              "    background-color: #E8F0FE;\n",
              "    border: none;\n",
              "    border-radius: 50%;\n",
              "    cursor: pointer;\n",
              "    display: none;\n",
              "    fill: #1967D2;\n",
              "    height: 32px;\n",
              "    padding: 0 0 0 0;\n",
              "    width: 32px;\n",
              "  }\n",
              "\n",
              "  .colab-df-quickchart:hover {\n",
              "    background-color: #E2EBFA;\n",
              "    box-shadow: 0px 1px 2px rgba(60, 64, 67, 0.3), 0px 1px 3px 1px rgba(60, 64, 67, 0.15);\n",
              "    fill: #174EA6;\n",
              "  }\n",
              "\n",
              "  [theme=dark] .colab-df-quickchart {\n",
              "    background-color: #3B4455;\n",
              "    fill: #D2E3FC;\n",
              "  }\n",
              "\n",
              "  [theme=dark] .colab-df-quickchart:hover {\n",
              "    background-color: #434B5C;\n",
              "    box-shadow: 0px 1px 3px 1px rgba(0, 0, 0, 0.15);\n",
              "    filter: drop-shadow(0px 1px 2px rgba(0, 0, 0, 0.3));\n",
              "    fill: #FFFFFF;\n",
              "  }\n",
              "</style>\n",
              "\n",
              "  <script>\n",
              "    async function quickchart(key) {\n",
              "      const charts = await google.colab.kernel.invokeFunction(\n",
              "          'suggestCharts', [key], {});\n",
              "    }\n",
              "    (() => {\n",
              "      let quickchartButtonEl =\n",
              "        document.querySelector('#df-1ac2cfb2-0d1e-46ac-b50d-2876c130debc button');\n",
              "      quickchartButtonEl.style.display =\n",
              "        google.colab.kernel.accessAllowed ? 'block' : 'none';\n",
              "    })();\n",
              "  </script>\n",
              "</div>\n",
              "    </div>\n",
              "  </div>\n"
            ]
          },
          "metadata": {},
          "execution_count": 2
        }
      ]
    },
    {
      "cell_type": "code",
      "source": [
        "print((dataset.label == 1).sum()) # real news number\n",
        "print((dataset.label == 0).sum()) # fake news number"
      ],
      "metadata": {
        "colab": {
          "base_uri": "https://localhost:8080/"
        },
        "id": "yhbOQIbOHu2c",
        "outputId": "05b6499f-5647-4cd9-a74b-3c0efee91ea6"
      },
      "execution_count": 3,
      "outputs": [
        {
          "output_type": "stream",
          "name": "stdout",
          "text": [
            "5638\n",
            "4362\n"
          ]
        }
      ]
    },
    {
      "cell_type": "code",
      "source": [
        "df= dataset[['news']]\n",
        "label= dataset[['label']]\n",
        "other_features= dataset.drop(['news', 'label'], axis= 1)\n",
        "df.head(3)"
      ],
      "metadata": {
        "id": "cXViQE-GifxK",
        "colab": {
          "base_uri": "https://localhost:8080/",
          "height": 143
        },
        "outputId": "959993bd-d0c1-4b81-e2ae-4887ddb2c883"
      },
      "execution_count": 4,
      "outputs": [
        {
          "output_type": "execute_result",
          "data": {
            "text/plain": [
              "                                                news\n",
              "0  veteransIts been nearly three weeks since the ...\n",
              "1  educationWe have about six school districts th...\n",
              "2  crime immigration134,000 (criminal) aliens hav..."
            ],
            "text/html": [
              "\n",
              "  <div id=\"df-b08153ab-c0d2-40f9-907c-0ca46c3c7e5a\" class=\"colab-df-container\">\n",
              "    <div>\n",
              "<style scoped>\n",
              "    .dataframe tbody tr th:only-of-type {\n",
              "        vertical-align: middle;\n",
              "    }\n",
              "\n",
              "    .dataframe tbody tr th {\n",
              "        vertical-align: top;\n",
              "    }\n",
              "\n",
              "    .dataframe thead th {\n",
              "        text-align: right;\n",
              "    }\n",
              "</style>\n",
              "<table border=\"1\" class=\"dataframe\">\n",
              "  <thead>\n",
              "    <tr style=\"text-align: right;\">\n",
              "      <th></th>\n",
              "      <th>news</th>\n",
              "    </tr>\n",
              "  </thead>\n",
              "  <tbody>\n",
              "    <tr>\n",
              "      <th>0</th>\n",
              "      <td>veteransIts been nearly three weeks since the ...</td>\n",
              "    </tr>\n",
              "    <tr>\n",
              "      <th>1</th>\n",
              "      <td>educationWe have about six school districts th...</td>\n",
              "    </tr>\n",
              "    <tr>\n",
              "      <th>2</th>\n",
              "      <td>crime immigration134,000 (criminal) aliens hav...</td>\n",
              "    </tr>\n",
              "  </tbody>\n",
              "</table>\n",
              "</div>\n",
              "    <div class=\"colab-df-buttons\">\n",
              "\n",
              "  <div class=\"colab-df-container\">\n",
              "    <button class=\"colab-df-convert\" onclick=\"convertToInteractive('df-b08153ab-c0d2-40f9-907c-0ca46c3c7e5a')\"\n",
              "            title=\"Convert this dataframe to an interactive table.\"\n",
              "            style=\"display:none;\">\n",
              "\n",
              "  <svg xmlns=\"http://www.w3.org/2000/svg\" height=\"24px\" viewBox=\"0 -960 960 960\">\n",
              "    <path d=\"M120-120v-720h720v720H120Zm60-500h600v-160H180v160Zm220 220h160v-160H400v160Zm0 220h160v-160H400v160ZM180-400h160v-160H180v160Zm440 0h160v-160H620v160ZM180-180h160v-160H180v160Zm440 0h160v-160H620v160Z\"/>\n",
              "  </svg>\n",
              "    </button>\n",
              "\n",
              "  <style>\n",
              "    .colab-df-container {\n",
              "      display:flex;\n",
              "      gap: 12px;\n",
              "    }\n",
              "\n",
              "    .colab-df-convert {\n",
              "      background-color: #E8F0FE;\n",
              "      border: none;\n",
              "      border-radius: 50%;\n",
              "      cursor: pointer;\n",
              "      display: none;\n",
              "      fill: #1967D2;\n",
              "      height: 32px;\n",
              "      padding: 0 0 0 0;\n",
              "      width: 32px;\n",
              "    }\n",
              "\n",
              "    .colab-df-convert:hover {\n",
              "      background-color: #E2EBFA;\n",
              "      box-shadow: 0px 1px 2px rgba(60, 64, 67, 0.3), 0px 1px 3px 1px rgba(60, 64, 67, 0.15);\n",
              "      fill: #174EA6;\n",
              "    }\n",
              "\n",
              "    .colab-df-buttons div {\n",
              "      margin-bottom: 4px;\n",
              "    }\n",
              "\n",
              "    [theme=dark] .colab-df-convert {\n",
              "      background-color: #3B4455;\n",
              "      fill: #D2E3FC;\n",
              "    }\n",
              "\n",
              "    [theme=dark] .colab-df-convert:hover {\n",
              "      background-color: #434B5C;\n",
              "      box-shadow: 0px 1px 3px 1px rgba(0, 0, 0, 0.15);\n",
              "      filter: drop-shadow(0px 1px 2px rgba(0, 0, 0, 0.3));\n",
              "      fill: #FFFFFF;\n",
              "    }\n",
              "  </style>\n",
              "\n",
              "    <script>\n",
              "      const buttonEl =\n",
              "        document.querySelector('#df-b08153ab-c0d2-40f9-907c-0ca46c3c7e5a button.colab-df-convert');\n",
              "      buttonEl.style.display =\n",
              "        google.colab.kernel.accessAllowed ? 'block' : 'none';\n",
              "\n",
              "      async function convertToInteractive(key) {\n",
              "        const element = document.querySelector('#df-b08153ab-c0d2-40f9-907c-0ca46c3c7e5a');\n",
              "        const dataTable =\n",
              "          await google.colab.kernel.invokeFunction('convertToInteractive',\n",
              "                                                    [key], {});\n",
              "        if (!dataTable) return;\n",
              "\n",
              "        const docLinkHtml = 'Like what you see? Visit the ' +\n",
              "          '<a target=\"_blank\" href=https://colab.research.google.com/notebooks/data_table.ipynb>data table notebook</a>'\n",
              "          + ' to learn more about interactive tables.';\n",
              "        element.innerHTML = '';\n",
              "        dataTable['output_type'] = 'display_data';\n",
              "        await google.colab.output.renderOutput(dataTable, element);\n",
              "        const docLink = document.createElement('div');\n",
              "        docLink.innerHTML = docLinkHtml;\n",
              "        element.appendChild(docLink);\n",
              "      }\n",
              "    </script>\n",
              "  </div>\n",
              "\n",
              "\n",
              "<div id=\"df-07774bef-7079-4f51-b822-6c7f79a75080\">\n",
              "  <button class=\"colab-df-quickchart\" onclick=\"quickchart('df-07774bef-7079-4f51-b822-6c7f79a75080')\"\n",
              "            title=\"Suggest charts.\"\n",
              "            style=\"display:none;\">\n",
              "\n",
              "<svg xmlns=\"http://www.w3.org/2000/svg\" height=\"24px\"viewBox=\"0 0 24 24\"\n",
              "     width=\"24px\">\n",
              "    <g>\n",
              "        <path d=\"M19 3H5c-1.1 0-2 .9-2 2v14c0 1.1.9 2 2 2h14c1.1 0 2-.9 2-2V5c0-1.1-.9-2-2-2zM9 17H7v-7h2v7zm4 0h-2V7h2v10zm4 0h-2v-4h2v4z\"/>\n",
              "    </g>\n",
              "</svg>\n",
              "  </button>\n",
              "\n",
              "<style>\n",
              "  .colab-df-quickchart {\n",
              "    background-color: #E8F0FE;\n",
              "    border: none;\n",
              "    border-radius: 50%;\n",
              "    cursor: pointer;\n",
              "    display: none;\n",
              "    fill: #1967D2;\n",
              "    height: 32px;\n",
              "    padding: 0 0 0 0;\n",
              "    width: 32px;\n",
              "  }\n",
              "\n",
              "  .colab-df-quickchart:hover {\n",
              "    background-color: #E2EBFA;\n",
              "    box-shadow: 0px 1px 2px rgba(60, 64, 67, 0.3), 0px 1px 3px 1px rgba(60, 64, 67, 0.15);\n",
              "    fill: #174EA6;\n",
              "  }\n",
              "\n",
              "  [theme=dark] .colab-df-quickchart {\n",
              "    background-color: #3B4455;\n",
              "    fill: #D2E3FC;\n",
              "  }\n",
              "\n",
              "  [theme=dark] .colab-df-quickchart:hover {\n",
              "    background-color: #434B5C;\n",
              "    box-shadow: 0px 1px 3px 1px rgba(0, 0, 0, 0.15);\n",
              "    filter: drop-shadow(0px 1px 2px rgba(0, 0, 0, 0.3));\n",
              "    fill: #FFFFFF;\n",
              "  }\n",
              "</style>\n",
              "\n",
              "  <script>\n",
              "    async function quickchart(key) {\n",
              "      const charts = await google.colab.kernel.invokeFunction(\n",
              "          'suggestCharts', [key], {});\n",
              "    }\n",
              "    (() => {\n",
              "      let quickchartButtonEl =\n",
              "        document.querySelector('#df-07774bef-7079-4f51-b822-6c7f79a75080 button');\n",
              "      quickchartButtonEl.style.display =\n",
              "        google.colab.kernel.accessAllowed ? 'block' : 'none';\n",
              "    })();\n",
              "  </script>\n",
              "</div>\n",
              "    </div>\n",
              "  </div>\n"
            ]
          },
          "metadata": {},
          "execution_count": 4
        }
      ]
    },
    {
      "cell_type": "code",
      "source": [
        "# cleanning dataset"
      ],
      "metadata": {
        "id": "D8ucKYFGJKvg"
      },
      "execution_count": null,
      "outputs": []
    },
    {
      "cell_type": "code",
      "source": [
        "def remove_URL(text):\n",
        "  url= re.compile(r'https?://\\S+|www\\.|S+')\n",
        "  return url.sub(r\"\", text)"
      ],
      "metadata": {
        "id": "RCtVRiRE4-QA"
      },
      "execution_count": 5,
      "outputs": []
    },
    {
      "cell_type": "code",
      "source": [
        "def remove_punctuation(text):\n",
        "  trnsltr= str.maketrans(\"\",\"\", string.punctuation)\n",
        "  return text.translate(trnsltr)"
      ],
      "metadata": {
        "id": "dNcQOzRl4-ql"
      },
      "execution_count": 6,
      "outputs": []
    },
    {
      "cell_type": "code",
      "source": [
        "df['news']= df.news.map(remove_punctuation)\n",
        "df['news']= df.news.map(remove_URL)"
      ],
      "metadata": {
        "id": "Z8SW5aVK4-tF",
        "colab": {
          "base_uri": "https://localhost:8080/"
        },
        "outputId": "dc781eed-a840-4db5-e75b-5f16536d8aab"
      },
      "execution_count": 7,
      "outputs": [
        {
          "output_type": "stream",
          "name": "stderr",
          "text": [
            "<ipython-input-7-a35a6abdf14c>:1: SettingWithCopyWarning: \n",
            "A value is trying to be set on a copy of a slice from a DataFrame.\n",
            "Try using .loc[row_indexer,col_indexer] = value instead\n",
            "\n",
            "See the caveats in the documentation: https://pandas.pydata.org/pandas-docs/stable/user_guide/indexing.html#returning-a-view-versus-a-copy\n",
            "  df['news']= df.news.map(remove_punctuation)\n",
            "<ipython-input-7-a35a6abdf14c>:2: SettingWithCopyWarning: \n",
            "A value is trying to be set on a copy of a slice from a DataFrame.\n",
            "Try using .loc[row_indexer,col_indexer] = value instead\n",
            "\n",
            "See the caveats in the documentation: https://pandas.pydata.org/pandas-docs/stable/user_guide/indexing.html#returning-a-view-versus-a-copy\n",
            "  df['news']= df.news.map(remove_URL)\n"
          ]
        }
      ]
    },
    {
      "cell_type": "code",
      "source": [
        "#remove stop words"
      ],
      "metadata": {
        "id": "Kf7oNETu4-vq"
      },
      "execution_count": null,
      "outputs": []
    },
    {
      "cell_type": "code",
      "source": [
        "nltk.download('stopwords')\n",
        "stop= set(stopwords.words(\"english\"))\n",
        "def remove_stopwords(text):\n",
        "  result= [word.lower() for word in text.split() if word.lower() not in stop]\n",
        "  return ' '.join(result)\n"
      ],
      "metadata": {
        "id": "4m5pteo0KHq_",
        "colab": {
          "base_uri": "https://localhost:8080/"
        },
        "outputId": "381f9bfe-3f81-451b-a235-5273e81fcd10"
      },
      "execution_count": 8,
      "outputs": [
        {
          "output_type": "stream",
          "name": "stderr",
          "text": [
            "[nltk_data] Downloading package stopwords to /root/nltk_data...\n",
            "[nltk_data]   Unzipping corpora/stopwords.zip.\n"
          ]
        }
      ]
    },
    {
      "cell_type": "code",
      "source": [
        "df['news']= df.news.map(remove_stopwords)"
      ],
      "metadata": {
        "id": "OPldIi3eKyTw",
        "colab": {
          "base_uri": "https://localhost:8080/"
        },
        "outputId": "d4307d2e-9dbb-48f3-c817-4f39798b1540"
      },
      "execution_count": 9,
      "outputs": [
        {
          "output_type": "stream",
          "name": "stderr",
          "text": [
            "<ipython-input-9-b1b16693267d>:1: SettingWithCopyWarning: \n",
            "A value is trying to be set on a copy of a slice from a DataFrame.\n",
            "Try using .loc[row_indexer,col_indexer] = value instead\n",
            "\n",
            "See the caveats in the documentation: https://pandas.pydata.org/pandas-docs/stable/user_guide/indexing.html#returning-a-view-versus-a-copy\n",
            "  df['news']= df.news.map(remove_stopwords)\n"
          ]
        }
      ]
    },
    {
      "cell_type": "code",
      "source": [
        "nltk.download('averaged_perceptron_tagger')\n"
      ],
      "metadata": {
        "colab": {
          "base_uri": "https://localhost:8080/"
        },
        "id": "_nE3seq87y_k",
        "outputId": "93173617-8825-43fa-9eab-753aebb53ba7"
      },
      "execution_count": 10,
      "outputs": [
        {
          "output_type": "stream",
          "name": "stderr",
          "text": [
            "[nltk_data] Downloading package averaged_perceptron_tagger to\n",
            "[nltk_data]     /root/nltk_data...\n",
            "[nltk_data]   Unzipping taggers/averaged_perceptron_tagger.zip.\n"
          ]
        },
        {
          "output_type": "execute_result",
          "data": {
            "text/plain": [
              "True"
            ]
          },
          "metadata": {},
          "execution_count": 10
        }
      ]
    },
    {
      "cell_type": "code",
      "source": [
        "from nltk.stem import *\n",
        "from nltk.stem.porter import *\n",
        "stemmer = PorterStemmer()\n",
        "\n",
        "pos= pos_tag(df['news'])\n",
        "df['news'] = [stemmer.stem(tagged_word[0]) for tagged_word in pos]\n",
        "\n"
      ],
      "metadata": {
        "id": "t71s3CTz7haq",
        "colab": {
          "base_uri": "https://localhost:8080/"
        },
        "outputId": "5ce83f9e-f9b6-460d-86df-3c42a214dd71"
      },
      "execution_count": 11,
      "outputs": [
        {
          "output_type": "stream",
          "name": "stderr",
          "text": [
            "<ipython-input-11-75a18c877c3d>:6: SettingWithCopyWarning: \n",
            "A value is trying to be set on a copy of a slice from a DataFrame.\n",
            "Try using .loc[row_indexer,col_indexer] = value instead\n",
            "\n",
            "See the caveats in the documentation: https://pandas.pydata.org/pandas-docs/stable/user_guide/indexing.html#returning-a-view-versus-a-copy\n",
            "  df['news'] = [stemmer.stem(tagged_word[0]) for tagged_word in pos]\n"
          ]
        }
      ]
    },
    {
      "cell_type": "code",
      "source": [
        "df"
      ],
      "metadata": {
        "colab": {
          "base_uri": "https://localhost:8080/",
          "height": 424
        },
        "id": "j02d3pNlKyjt",
        "outputId": "fc7f7ca4-7124-4f8b-cea5-8e3001a5df66"
      },
      "execution_count": 12,
      "outputs": [
        {
          "output_type": "execute_result",
          "data": {
            "text/plain": [
              "                                                   news\n",
              "0     veteransits nearly three weeks since president...\n",
              "1     educationwe six school districts school 140 15...\n",
              "2     crime immigration134000 criminal aliens releas...\n",
              "3     elections immigration messagemachine2012ays ne...\n",
              "4     electionsays jeb bush said would take pants mo...\n",
              "...                                                 ...\n",
              "9995  energy messagemachinejoe garcia raised utility...\n",
              "9996  federalbudget healthcare medicare abcnewsweeka...\n",
              "9997  statebudget statefinances transportationthanks...\n",
              "9998  religionays portland school gives muslim stude...\n",
              "9999                                    electionson deb\n",
              "\n",
              "[10000 rows x 1 columns]"
            ],
            "text/html": [
              "\n",
              "  <div id=\"df-7a93e664-e0fb-4db7-9865-927abe3fc86e\" class=\"colab-df-container\">\n",
              "    <div>\n",
              "<style scoped>\n",
              "    .dataframe tbody tr th:only-of-type {\n",
              "        vertical-align: middle;\n",
              "    }\n",
              "\n",
              "    .dataframe tbody tr th {\n",
              "        vertical-align: top;\n",
              "    }\n",
              "\n",
              "    .dataframe thead th {\n",
              "        text-align: right;\n",
              "    }\n",
              "</style>\n",
              "<table border=\"1\" class=\"dataframe\">\n",
              "  <thead>\n",
              "    <tr style=\"text-align: right;\">\n",
              "      <th></th>\n",
              "      <th>news</th>\n",
              "    </tr>\n",
              "  </thead>\n",
              "  <tbody>\n",
              "    <tr>\n",
              "      <th>0</th>\n",
              "      <td>veteransits nearly three weeks since president...</td>\n",
              "    </tr>\n",
              "    <tr>\n",
              "      <th>1</th>\n",
              "      <td>educationwe six school districts school 140 15...</td>\n",
              "    </tr>\n",
              "    <tr>\n",
              "      <th>2</th>\n",
              "      <td>crime immigration134000 criminal aliens releas...</td>\n",
              "    </tr>\n",
              "    <tr>\n",
              "      <th>3</th>\n",
              "      <td>elections immigration messagemachine2012ays ne...</td>\n",
              "    </tr>\n",
              "    <tr>\n",
              "      <th>4</th>\n",
              "      <td>electionsays jeb bush said would take pants mo...</td>\n",
              "    </tr>\n",
              "    <tr>\n",
              "      <th>...</th>\n",
              "      <td>...</td>\n",
              "    </tr>\n",
              "    <tr>\n",
              "      <th>9995</th>\n",
              "      <td>energy messagemachinejoe garcia raised utility...</td>\n",
              "    </tr>\n",
              "    <tr>\n",
              "      <th>9996</th>\n",
              "      <td>federalbudget healthcare medicare abcnewsweeka...</td>\n",
              "    </tr>\n",
              "    <tr>\n",
              "      <th>9997</th>\n",
              "      <td>statebudget statefinances transportationthanks...</td>\n",
              "    </tr>\n",
              "    <tr>\n",
              "      <th>9998</th>\n",
              "      <td>religionays portland school gives muslim stude...</td>\n",
              "    </tr>\n",
              "    <tr>\n",
              "      <th>9999</th>\n",
              "      <td>electionson deb</td>\n",
              "    </tr>\n",
              "  </tbody>\n",
              "</table>\n",
              "<p>10000 rows × 1 columns</p>\n",
              "</div>\n",
              "    <div class=\"colab-df-buttons\">\n",
              "\n",
              "  <div class=\"colab-df-container\">\n",
              "    <button class=\"colab-df-convert\" onclick=\"convertToInteractive('df-7a93e664-e0fb-4db7-9865-927abe3fc86e')\"\n",
              "            title=\"Convert this dataframe to an interactive table.\"\n",
              "            style=\"display:none;\">\n",
              "\n",
              "  <svg xmlns=\"http://www.w3.org/2000/svg\" height=\"24px\" viewBox=\"0 -960 960 960\">\n",
              "    <path d=\"M120-120v-720h720v720H120Zm60-500h600v-160H180v160Zm220 220h160v-160H400v160Zm0 220h160v-160H400v160ZM180-400h160v-160H180v160Zm440 0h160v-160H620v160ZM180-180h160v-160H180v160Zm440 0h160v-160H620v160Z\"/>\n",
              "  </svg>\n",
              "    </button>\n",
              "\n",
              "  <style>\n",
              "    .colab-df-container {\n",
              "      display:flex;\n",
              "      gap: 12px;\n",
              "    }\n",
              "\n",
              "    .colab-df-convert {\n",
              "      background-color: #E8F0FE;\n",
              "      border: none;\n",
              "      border-radius: 50%;\n",
              "      cursor: pointer;\n",
              "      display: none;\n",
              "      fill: #1967D2;\n",
              "      height: 32px;\n",
              "      padding: 0 0 0 0;\n",
              "      width: 32px;\n",
              "    }\n",
              "\n",
              "    .colab-df-convert:hover {\n",
              "      background-color: #E2EBFA;\n",
              "      box-shadow: 0px 1px 2px rgba(60, 64, 67, 0.3), 0px 1px 3px 1px rgba(60, 64, 67, 0.15);\n",
              "      fill: #174EA6;\n",
              "    }\n",
              "\n",
              "    .colab-df-buttons div {\n",
              "      margin-bottom: 4px;\n",
              "    }\n",
              "\n",
              "    [theme=dark] .colab-df-convert {\n",
              "      background-color: #3B4455;\n",
              "      fill: #D2E3FC;\n",
              "    }\n",
              "\n",
              "    [theme=dark] .colab-df-convert:hover {\n",
              "      background-color: #434B5C;\n",
              "      box-shadow: 0px 1px 3px 1px rgba(0, 0, 0, 0.15);\n",
              "      filter: drop-shadow(0px 1px 2px rgba(0, 0, 0, 0.3));\n",
              "      fill: #FFFFFF;\n",
              "    }\n",
              "  </style>\n",
              "\n",
              "    <script>\n",
              "      const buttonEl =\n",
              "        document.querySelector('#df-7a93e664-e0fb-4db7-9865-927abe3fc86e button.colab-df-convert');\n",
              "      buttonEl.style.display =\n",
              "        google.colab.kernel.accessAllowed ? 'block' : 'none';\n",
              "\n",
              "      async function convertToInteractive(key) {\n",
              "        const element = document.querySelector('#df-7a93e664-e0fb-4db7-9865-927abe3fc86e');\n",
              "        const dataTable =\n",
              "          await google.colab.kernel.invokeFunction('convertToInteractive',\n",
              "                                                    [key], {});\n",
              "        if (!dataTable) return;\n",
              "\n",
              "        const docLinkHtml = 'Like what you see? Visit the ' +\n",
              "          '<a target=\"_blank\" href=https://colab.research.google.com/notebooks/data_table.ipynb>data table notebook</a>'\n",
              "          + ' to learn more about interactive tables.';\n",
              "        element.innerHTML = '';\n",
              "        dataTable['output_type'] = 'display_data';\n",
              "        await google.colab.output.renderOutput(dataTable, element);\n",
              "        const docLink = document.createElement('div');\n",
              "        docLink.innerHTML = docLinkHtml;\n",
              "        element.appendChild(docLink);\n",
              "      }\n",
              "    </script>\n",
              "  </div>\n",
              "\n",
              "\n",
              "<div id=\"df-45459ba6-9fdd-4c19-a810-0ef84dd0b44c\">\n",
              "  <button class=\"colab-df-quickchart\" onclick=\"quickchart('df-45459ba6-9fdd-4c19-a810-0ef84dd0b44c')\"\n",
              "            title=\"Suggest charts.\"\n",
              "            style=\"display:none;\">\n",
              "\n",
              "<svg xmlns=\"http://www.w3.org/2000/svg\" height=\"24px\"viewBox=\"0 0 24 24\"\n",
              "     width=\"24px\">\n",
              "    <g>\n",
              "        <path d=\"M19 3H5c-1.1 0-2 .9-2 2v14c0 1.1.9 2 2 2h14c1.1 0 2-.9 2-2V5c0-1.1-.9-2-2-2zM9 17H7v-7h2v7zm4 0h-2V7h2v10zm4 0h-2v-4h2v4z\"/>\n",
              "    </g>\n",
              "</svg>\n",
              "  </button>\n",
              "\n",
              "<style>\n",
              "  .colab-df-quickchart {\n",
              "    background-color: #E8F0FE;\n",
              "    border: none;\n",
              "    border-radius: 50%;\n",
              "    cursor: pointer;\n",
              "    display: none;\n",
              "    fill: #1967D2;\n",
              "    height: 32px;\n",
              "    padding: 0 0 0 0;\n",
              "    width: 32px;\n",
              "  }\n",
              "\n",
              "  .colab-df-quickchart:hover {\n",
              "    background-color: #E2EBFA;\n",
              "    box-shadow: 0px 1px 2px rgba(60, 64, 67, 0.3), 0px 1px 3px 1px rgba(60, 64, 67, 0.15);\n",
              "    fill: #174EA6;\n",
              "  }\n",
              "\n",
              "  [theme=dark] .colab-df-quickchart {\n",
              "    background-color: #3B4455;\n",
              "    fill: #D2E3FC;\n",
              "  }\n",
              "\n",
              "  [theme=dark] .colab-df-quickchart:hover {\n",
              "    background-color: #434B5C;\n",
              "    box-shadow: 0px 1px 3px 1px rgba(0, 0, 0, 0.15);\n",
              "    filter: drop-shadow(0px 1px 2px rgba(0, 0, 0, 0.3));\n",
              "    fill: #FFFFFF;\n",
              "  }\n",
              "</style>\n",
              "\n",
              "  <script>\n",
              "    async function quickchart(key) {\n",
              "      const charts = await google.colab.kernel.invokeFunction(\n",
              "          'suggestCharts', [key], {});\n",
              "    }\n",
              "    (() => {\n",
              "      let quickchartButtonEl =\n",
              "        document.querySelector('#df-45459ba6-9fdd-4c19-a810-0ef84dd0b44c button');\n",
              "      quickchartButtonEl.style.display =\n",
              "        google.colab.kernel.accessAllowed ? 'block' : 'none';\n",
              "    })();\n",
              "  </script>\n",
              "</div>\n",
              "    </div>\n",
              "  </div>\n"
            ]
          },
          "metadata": {},
          "execution_count": 12
        }
      ]
    },
    {
      "cell_type": "code",
      "source": [
        "# counting unique words of news column\n",
        "def count_words(text_col):\n",
        "  counter= Counter()\n",
        "  for text in text_col:\n",
        "    for word in text.split():\n",
        "      counter[word] += 1\n",
        "  return counter\n"
      ],
      "metadata": {
        "id": "Uci-BLs44-zJ"
      },
      "execution_count": 13,
      "outputs": []
    },
    {
      "cell_type": "code",
      "source": [
        "counter= count_words(df['news'])"
      ],
      "metadata": {
        "id": "P5WujK969t2k"
      },
      "execution_count": 14,
      "outputs": []
    },
    {
      "cell_type": "code",
      "source": [
        "# number of unique words\n",
        "len(counter)"
      ],
      "metadata": {
        "colab": {
          "base_uri": "https://localhost:8080/"
        },
        "id": "q4lNc8eg_crU",
        "outputId": "f9960f56-69f2-4b8b-aab9-b23e80bc71d6"
      },
      "execution_count": 15,
      "outputs": [
        {
          "output_type": "execute_result",
          "data": {
            "text/plain": [
              "18213"
            ]
          },
          "metadata": {},
          "execution_count": 15
        }
      ]
    },
    {
      "cell_type": "code",
      "source": [
        "unique_words_num= len(counter)"
      ],
      "metadata": {
        "id": "pUQ_Gg3X_c50"
      },
      "execution_count": 16,
      "outputs": []
    },
    {
      "cell_type": "code",
      "source": [
        "embedding_dim= 100"
      ],
      "metadata": {
        "id": "OU2s-FYnaNrH"
      },
      "execution_count": 17,
      "outputs": []
    },
    {
      "cell_type": "code",
      "source": [
        "# Word2Vec"
      ],
      "metadata": {
        "id": "qOgG_RQTYZxG"
      },
      "execution_count": null,
      "outputs": []
    },
    {
      "cell_type": "code",
      "source": [
        "X= [x.split() for x in df['news'].tolist()]"
      ],
      "metadata": {
        "id": "qlkV183XYZ5j"
      },
      "execution_count": 18,
      "outputs": []
    },
    {
      "cell_type": "code",
      "source": [
        "print(X[0])"
      ],
      "metadata": {
        "colab": {
          "base_uri": "https://localhost:8080/"
        },
        "id": "kMoCjdZ3YZ7W",
        "outputId": "7ee5a674-6733-4451-baf8-46dc8ae7eeff"
      },
      "execution_count": 19,
      "outputs": [
        {
          "output_type": "stream",
          "name": "stdout",
          "text": [
            "['veteransits', 'nearly', 'three', 'weeks', 'since', 'president', 'commented', 'questions', 'possible', 'hidden', 'wait', 'lists', 'veterans', 'hospit']\n"
          ]
        }
      ]
    },
    {
      "cell_type": "code",
      "source": [
        "w2v_mdl= Word2Vec(sentences= X, window= 10, min_count=1 )"
      ],
      "metadata": {
        "id": "wtQys_t1YZ9P"
      },
      "execution_count": 20,
      "outputs": []
    },
    {
      "cell_type": "code",
      "source": [
        "len(w2v_mdl.wv.index_to_key)"
      ],
      "metadata": {
        "colab": {
          "base_uri": "https://localhost:8080/"
        },
        "id": "JtZf8frMapsm",
        "outputId": "29b12675-c08d-4e78-a166-a3f9912b63e0"
      },
      "execution_count": 21,
      "outputs": [
        {
          "output_type": "execute_result",
          "data": {
            "text/plain": [
              "18213"
            ]
          },
          "metadata": {},
          "execution_count": 21
        }
      ]
    },
    {
      "cell_type": "code",
      "source": [
        "# most similarity of 5 most common words"
      ],
      "metadata": {
        "id": "nfb4ksmGuHYE"
      },
      "execution_count": null,
      "outputs": []
    },
    {
      "cell_type": "code",
      "source": [
        "print(most_common:= counter.most_common(5))"
      ],
      "metadata": {
        "colab": {
          "base_uri": "https://localhost:8080/"
        },
        "id": "vabP4rHw_c0j",
        "outputId": "38e56e64-20bd-4c1c-d111-060c71c5a0ef"
      },
      "execution_count": 22,
      "outputs": [
        {
          "output_type": "stream",
          "name": "stdout",
          "text": [
            "[('economy', 1036), ('percent', 998), ('tax', 745), ('year', 739), ('jobs', 707)]\n"
          ]
        }
      ]
    },
    {
      "cell_type": "code",
      "source": [
        "print('word is: ',wrd:= most_common[0][0])\n",
        "w2v_mdl.wv.most_similar(wrd)"
      ],
      "metadata": {
        "colab": {
          "base_uri": "https://localhost:8080/"
        },
        "id": "GnSC1--Xtwmd",
        "outputId": "546ffecb-0858-460c-f02c-8191ed83c3f9"
      },
      "execution_count": 23,
      "outputs": [
        {
          "output_type": "stream",
          "name": "stdout",
          "text": [
            "word is:  economy\n"
          ]
        },
        {
          "output_type": "execute_result",
          "data": {
            "text/plain": [
              "[('jobaccomplishments', 0.9995083808898926),\n",
              " ('jobs', 0.9993886947631836),\n",
              " ('corporations', 0.9991641044616699),\n",
              " ('poverty', 0.9988983273506165),\n",
              " ('labor', 0.9988031387329102),\n",
              " ('governmentefficiency', 0.998790442943573),\n",
              " ('lost', 0.9987818598747253),\n",
              " ('weve', 0.9986720681190491),\n",
              " ('jobsthe', 0.9986433982849121),\n",
              " ('created', 0.9985685348510742)]"
            ]
          },
          "metadata": {},
          "execution_count": 23
        }
      ]
    },
    {
      "cell_type": "code",
      "source": [
        "print('word is: ',wrd:= most_common[1][0])\n",
        "w2v_mdl.wv.most_similar(wrd)"
      ],
      "metadata": {
        "colab": {
          "base_uri": "https://localhost:8080/"
        },
        "id": "Yp-_JTXGt9Cs",
        "outputId": "23a30325-71da-4eb1-f9df-af2480abcb30"
      },
      "execution_count": null,
      "outputs": [
        {
          "output_type": "stream",
          "name": "stdout",
          "text": [
            "word is:  percent\n"
          ]
        },
        {
          "output_type": "execute_result",
          "data": {
            "text/plain": [
              "[('50', 0.999713659286499),\n",
              " ('per', 0.9996345639228821),\n",
              " ('20', 0.9996093511581421),\n",
              " ('average', 0.999586820602417),\n",
              " ('less', 0.9995606541633606),\n",
              " ('perc', 0.9995264410972595),\n",
              " ('25', 0.9995084404945374),\n",
              " ('almost', 0.9995012879371643),\n",
              " ('10', 0.9994626641273499),\n",
              " ('15', 0.9994621872901917)]"
            ]
          },
          "metadata": {},
          "execution_count": 136
        }
      ]
    },
    {
      "cell_type": "code",
      "source": [
        "print('word is: ',wrd:= most_common[2][0])\n",
        "w2v_mdl.wv.most_similar(wrd)"
      ],
      "metadata": {
        "colab": {
          "base_uri": "https://localhost:8080/"
        },
        "id": "jtKT8VV5t9HU",
        "outputId": "25be6019-d26f-4243-f1d3-9637118652c9"
      },
      "execution_count": null,
      "outputs": [
        {
          "output_type": "stream",
          "name": "stdout",
          "text": [
            "word is:  tax\n"
          ]
        },
        {
          "output_type": "execute_result",
          "data": {
            "text/plain": [
              "[('taxes', 0.9996284246444702),\n",
              " ('property', 0.9993863105773926),\n",
              " ('cuts', 0.9992422461509705),\n",
              " ('sales', 0.9991356134414673),\n",
              " ('pay', 0.9991346001625061),\n",
              " ('cut', 0.9990787506103516),\n",
              " ('increase', 0.9989890456199646),\n",
              " ('spending', 0.9988909363746643),\n",
              " ('raising', 0.9988863468170166),\n",
              " ('billion', 0.9988747835159302)]"
            ]
          },
          "metadata": {},
          "execution_count": 137
        }
      ]
    },
    {
      "cell_type": "code",
      "source": [
        "print('word is: ',wrd:= most_common[3][0])\n",
        "w2v_mdl.wv.most_similar(wrd)"
      ],
      "metadata": {
        "colab": {
          "base_uri": "https://localhost:8080/"
        },
        "id": "xu8nHQMWt9Ml",
        "outputId": "165a7566-523d-4088-cc77-6a454d61f8d4"
      },
      "execution_count": null,
      "outputs": [
        {
          "output_type": "stream",
          "name": "stdout",
          "text": [
            "word is:  year\n"
          ]
        },
        {
          "output_type": "execute_result",
          "data": {
            "text/plain": [
              "[('10', 0.9997023344039917),\n",
              " ('25', 0.9995036721229553),\n",
              " ('percent', 0.9994322657585144),\n",
              " ('per', 0.9994140863418579),\n",
              " ('50', 0.9993869066238403),\n",
              " ('years', 0.9993715286254883),\n",
              " ('less', 0.9993689656257629),\n",
              " ('average', 0.9993591904640198),\n",
              " ('3', 0.9993425607681274),\n",
              " ('next', 0.9993128776550293)]"
            ]
          },
          "metadata": {},
          "execution_count": 138
        }
      ]
    },
    {
      "cell_type": "code",
      "source": [
        "print('word is: ',wrd:= most_common[4][0])\n",
        "w2v_mdl.wv.most_similar(wrd)"
      ],
      "metadata": {
        "colab": {
          "base_uri": "https://localhost:8080/"
        },
        "id": "SPAUkNZUt9WM",
        "outputId": "32b259cf-ac41-4a1d-8339-c581909eeea4"
      },
      "execution_count": null,
      "outputs": [
        {
          "output_type": "stream",
          "name": "stdout",
          "text": [
            "word is:  jobs\n"
          ]
        },
        {
          "output_type": "execute_result",
          "data": {
            "text/plain": [
              "[('economy', 0.999290406703949),\n",
              " ('created', 0.99923175573349),\n",
              " ('jobaccomplishments', 0.9990849494934082),\n",
              " ('poverty', 0.9986536502838135),\n",
              " ('labor', 0.9984905123710632),\n",
              " ('lost', 0.9984301924705505),\n",
              " ('corporations', 0.9984152317047119),\n",
              " ('unemployment', 0.9982870817184448),\n",
              " ('job', 0.998195230960846),\n",
              " ('growth', 0.998171329498291)]"
            ]
          },
          "metadata": {},
          "execution_count": 139
        }
      ]
    },
    {
      "cell_type": "code",
      "source": [
        "# vectorize a text into a sequence of integers by tokenizing\n",
        "# converting text into a sequence of integers\n",
        "def tokenize(text):\n",
        "  tokenizer= Tokenizer(num_words= unique_words_num)\n",
        "  tokenizer.fit_on_texts(text)\n",
        "  return tokenizer"
      ],
      "metadata": {
        "id": "x4i7rBNk_c_T"
      },
      "execution_count": 24,
      "outputs": []
    },
    {
      "cell_type": "code",
      "source": [
        "tokenizer= tokenize(X)\n"
      ],
      "metadata": {
        "id": "ElPB97MH_dBW"
      },
      "execution_count": 25,
      "outputs": []
    },
    {
      "cell_type": "code",
      "source": [
        "print(word_index:= tokenizer.word_index)"
      ],
      "metadata": {
        "id": "YILhT7Sa_dDe",
        "colab": {
          "base_uri": "https://localhost:8080/"
        },
        "outputId": "f6cd2399-a52f-4417-9f5d-c2d094ab07ab"
      },
      "execution_count": 26,
      "outputs": [
        {
          "output_type": "stream",
          "name": "stdout",
          "text": [
            "{'economy': 1, 'percent': 2, 'tax': 3, 'year': 4, 'jobs': 5, 'state': 6, 'healthcare': 7, 'obama': 8, 'health': 9, 'people': 10, 'would': 11, 'education': 12, 'million': 13, 'federalbudget': 14, 'president': 15, 'crime': 16, 'care': 17, 'new': 18, 'candidatesbiography': 19, 'years': 20, 'one': 21, 'billion': 22, 'taxes': 23, 'u': 24, 'said': 25, 'history': 26, 'federal': 27, 'statebudget': 28, 'congress': 29, 'foreignpolicy': 30, 'budget': 31, 'voted': 32, 'energy': 33, 'bill': 34, 'every': 35, 'elections': 36, 'law': 37, 'children': 38, 'united': 39, 'texas': 40, 'income': 41, 'deficit': 42, 'debt': 43, 'barack': 44, 'government': 45, 'pay': 46, 'last': 47, 'states': 48, 'cut': 49, 'money': 50, 'plan': 51, 'job': 52, 'since': 53, 'clinton': 54, 'rate': 55, 'immigration': 56, 'school': 57, 'first': 58, 'abortion': 59, 'tates': 60, '1': 61, 'medicare': 62, 'republican': 63, 'get': 64, 'florida': 65, 'military': 66, 'even': 67, 'american': 68, 'wisconsin': 69, 'public': 70, 'country': 71, 'environment': 72, 'taxesays': 73, 'spending': 74, 'time': 75, 'dont': 76, 'americans': 77, 'labor': 78, 'criminaljustice': 79, '10': 80, 'enate': 81, 'legalissues': 82, 'jobaccomplishments': 83, 'national': 84, 'governor': 85, 'women': 86, 'cott': 87, 'average': 88, 'america': 89, 'correctionsandupdates': 90, 'house': 91, 'perc': 92, 'hillary': 93, 'campaign': 94, 'world': 95, 'never': 96, 'guns': 97, 'families': 98, 'two': 99, 'could': 100, 'insurance': 101, 'city': 102, 'corporations': 103, 'per': 104, 'going': 105, 'cost': 106, 'three': 107, 'day': 108, 'work': 109, 'stimulus': 110, 'office': 111, 'less': 112, 'unemployment': 113, 'trump': 114, 'right': 115, 'governmentregulation': 116, 'support': 117, 'go': 118, 'obamas': 119, 'county': 120, 'illegal': 121, 'bush': 122, 'dollars': 123, 'gov': 124, 'took': 125, 'nearly': 126, 'half': 127, 'increase': 128, 'iraq': 129, 'act': 130, 'gun': 131, 'four': 132, 'like': 133, 'oil': 134, 'program': 135, 'campaignfinance': 136, 'times': 137, 'countri': 138, 'poverty': 139, 'highest': 140, 'created': 141, 'romney': 142, 'donald': 143, 'today': 144, 'climatechange': 145, 'make': 146, 'democrats': 147, 'medicaid': 148, 'administration': 149, 'lost': 150, 'cuts': 151, 'vote': 152, 'actually': 153, 'number': 154, 'funding': 155, 'says': 156, '20': 157, 'ocial': 158, 'without': 159, 'got': 160, 'citygovernment': 161, 'statefinances': 162, 'made': 163, '50': 164, 'system': 165, 'obamacare': 166, 'almost': 167, 'candidate': 168, 'passed': 169, 'messagemachine2012': 170, 'thats': 171, 'trillion': 172, 'en': 173, 'rick': 174, 'five': 175, 'spend': 176, 'paid': 177, 'raise': 178, 'st': 179, 'wants': 180, 'china': 181, 'taxesthe': 182, 'fund': 183, '40': 184, 'take': 185, 'ohio': 186, 'higher': 187, 'spent': 188, 'high': 189, 'republicans': 190, 'ecurity': 191, 'war': 192, 'governmentefficiency': 193, 'department': 194, 'supported': 195, 'back': 196, 'court': 197, 'messagemachine': 198, '30': 199, 'still': 200, 'rep': 201, 'costs': 202, 'private': 203, 'proposed': 204, 'top': 205, 'use': 206, 'tim': 207, 'civilrights': 208, 'put': 209, 'ago': 210, '2': 211, 'georgia': 212, 'publichealth': 213, 'know': 214, 'walker': 215, 'past': 216, 'much': 217, '25': 218, 'many': 219, 'mitt': 220, 'reform': 221, 'car': 222, 'record': 223, 'statebudgetays': 224, 'didnt': 225, 'john': 226, 'us': 227, 'companies': 228, '15': 229, 'economic': 230, 'doesnt': 231, 'democratic': 232, '100': 233, 'college': 234, 'mccain': 235, 'single': 236, 'homelandsecurity': 237, 'majority': 238, 'rates': 239, 'largest': 240, 'millions': 241, 'went': 242, 'ethics': 243, 'students': 244, 'used': 245, 'tate': 246, 'drugs': 247, 'say': 248, 'nation': 249, 'district': 250, 'island': 251, 'gaysandlesbians': 252, 'lowest': 253, 'party': 254, 'white': 255, 'immigrationays': 256, 'agriculture': 257, 'business': 258, 'afghanistan': 259, 'legislation': 260, 'democrat': 261, 'population': 262, 'family': 263, 'month': 264, 'votingrecordays': 265, 'employees': 266, 'want': 267, 'workers': 268, 'minimum': 269, 'george': 270, 'gas': 271, 'healthcareays': 272, 'growth': 273, 'give': 274, 'increased': 275, 'weve': 276, 't': 277, 'jersey': 278, 'away': 279, 'vot': 280, 'six': 281, 'raised': 282, 'healthcarethe': 283, 'dollar': 284, 'diversity': 285, 'citybudget': 286, 'electionsays': 287, 'retirement': 288, 'cant': 289, 'pundits': 290, 'voting': 291, 'keep': 292, 'schools': 293, 'control': 294, 'next': 295, 'ever': 296, 'working': 297, 'already': 298, 'home': 299, '12': 300, 'election': 301, 'came': 302, 'called': 303, 'months': 304, '4': 305, 'food': 306, 'including': 307, 'wage': 308, 'washington': 309, 'marijuana': 310, 'bipartisanship': 311, '2008': 312, 'general': 313, 'nuclear': 314, 'help': 315, 'candidatesbiographyays': 316, 'least': 317, 'congressional': 318, 'businesses': 319, 'milwaukee': 320, 'deal': 321, 'buy': 322, 'come': 323, '2009': 324, 'small': 325, 'housing': 326, 'property': 327, 'members': 328, '2011': 329, 'jobsays': 330, 'border': 331, 'financialregulation': 332, '2010': 333, 'middle': 334, 'among': 335, 'educationays': 336, 'days': 337, 'terrorismays': 338, 'offic': 339, 'upreme': 340, '5': 341, 'supports': 342, 'child': 343, 'n': 344, 'countries': 345, 'ban': 346, 'york': 347, 'end': 348, 'police': 349, '0': 350, 'rhode': 351, 'making': 352, 'taxpayers': 353, '3': 354, 'whether': 355, 'entire': 356, 'hes': 357, 'virginia': 358, 'publicsafety': 359, 'votes': 360, 'veterans': 361, 'union': 362, '60': 363, 'board': 364, 'second': 365, 'level': 366, 'way': 367, 'left': 368, 'nations': 369, 'debates': 370, 'major': 371, 'local': 372, '2012': 373, 'reagan': 374, '500': 375, 'theyre': 376, 'mayor': 377, 'allow': 378, 'big': 379, 'planned': 380, '80': 381, 'think': 382, 'iran': 383, 'gone': 384, 'perry': 385, 'wall': 386, 'create': 387, 'messagemachine2012ays': 388, 'workersays': 389, 'obamacar': 390, 'change': 391, '2000': 392, 'helped': 393, '90': 394, 'voters': 395, 'sent': 396, 'lower': 397, 'polls': 398, 'thousands': 399, 'university': 400, 'getting': 401, 'paul': 402, 'bil': 403, 'opposed': 404, 'immigr': 405, 'ii': 406, '18': 407, '11': 408, 'eight': 409, 'oregon': 410, 'foreign': 411, 'company': 412, 'sector': 413, '70': 414, 'black': 415, 'youre': 416, 'laws': 417, 'background': 418, 'womenays': 419, 'austin': 420, 'humanrights': 421, 'found': 422, 'parenthood': 423, 'part': 424, 'histori': 425, 'gave': 426, 'class': 427, 'theres': 428, 'trade': 429, 'worst': 430, 'religion': 431, 'infrastructure': 432, 'force': 433, 'presidential': 434, 'combin': 435, 'far': 436, 'check': 437, '16': 438, 'seven': 439, 'amendment': 440, 'person': 441, 'water': 442, 'allowed': 443, 'medical': 444, 'marriage': 445, 'great': 446, 'death': 447, 'recent': 448, 'received': 449, 'see': 450, 'benefits': 451, 'told': 452, 'financial': 453, 'done': 454, 'men': 455, 'total': 456, 'bills': 457, 'affordable': 458, 'running': 459, 'capandtrade': 460, 'jobsthe': 461, 'man': 462, 'r': 463, 'mexico': 464, 'revenue': 465, 'sales': 466, 'transportation': 467, 'immigrants': 468, 'kids': 469, 'taken': 470, 'current': 471, 'pass': 472, 'taxpayer': 473, 'coverage': 474, 'citizens': 475, 'fact': 476, 'transportationays': 477, 'federalbudgetthe': 478, 'young': 479, 'legislature': 480, 'across': 481, 'show': 482, 'proposal': 483, 'countygovernment': 484, 'countybudget': 485, 'failed': 486, 'group': 487, 'massachusetts': 488, 'raising': 489, 'twice': 490, 'political': 491, 'student': 492, 'also': 493, 'free': 494, 'drug': 495, 'atlanta': 496, 'treet': 497, 'look': 498, 'run': 499, 'shows': 500, 'w': 501, 'funds': 502, 'animals': 503, 'presidents': 504, 'seen': 505, 'elect': 506, 'former': 507, 'power': 508, 'chris': 509, 'signed': 510, 'voter': 511, 'census': 512, 'biggest': 513, 'gay': 514, 'lot': 515, 'save': 516, 'report': 517, 'became': 518, 'executive': 519, 'stop': 520, 'nothing': 521, 'around': 522, 'best': 523, 'unions': 524, 'federalbudgetays': 525, 'gunsays': 526, '8': 527, 'week': 528, 'added': 529, 'industry': 530, 'teachers': 531, 'policy': 532, 'plans': 533, 'killed': 534, 'alcohol': 535, '100000': 536, '10000': 537, 'texa': 538, 'zero': 539, 'troops': 540, 'brown': 541, 'policies': 542, 'terrorismthe': 543, 'interest': 544, 'paying': 545, 'christie': 546, 'israel': 547, 'tuition': 548, 'led': 549, 'credit': 550, 'presid': 551, 'defense': 552, 'legal': 553, 'doubled': 554, 'build': 555, 'born': 556, 'fewer': 557, 'special': 558, 'tried': 559, 'security': 560, 'smallbusiness': 561, 'given': 562, 'need': 563, 'result': 564, 'able': 565, '14': 566, 'rubio': 567, 'ryan': 568, 'hundreds': 569, 'violence': 570, 'climate': 571, 'good': 572, 'taking': 573, 'percentage': 574, 'another': 575, 'pensions': 576, 'electionsthe': 577, 'point': 578, 'economi': 579, 'benefit': 580, 'statefinancesays': 581, 'let': 582, 'cents': 583, 'bankruptcy': 584, 'elected': 585, 'domestic': 586, '35': 587, 'term': 588, 'arizona': 589, 'hour': 590, 'bring': 591, 'enough': 592, 'corporate': 593, 'david': 594, 'insur': 595, 'terms': 596, 'ronald': 597, 'numbers': 598, 'coming': 599, 'live': 600, 'ted': 601, 'california': 602, 'sex': 603, 'terrorist': 604, 'crist': 605, '6': 606, 'marketregulation': 607, 'third': 608, 'member': 609, 'north': 610, 'due': 611, 'air': 612, 'transportationthe': 613, 'worth': 614, 'provide': 615, 'attorney': 616, 'outh': 617, 'bipartisan': 618, 'medicareays': 619, 'amount': 620, 'started': 621, 'likely': 622, 'congressionalrules': 623, 'ir': 624, 'decade': 625, 'aid': 626, 'immigrationthe': 627, 'low': 628, 'makes': 629, 'criminal': 630, 'hours': 631, 'hasnt': 632, 'ranks': 633, 'science': 634, 'reduce': 635, 'bank': 636, 'access': 637, 'programs': 638, '13': 639, 'fraud': 640, 'trying': 641, 'individual': 642, 'cities': 643, 'well': 644, 'residents': 645, 'land': 646, 'rape': 647, 'fiscal': 648, 'believe': 649, 'govern': 650, 'educationthe': 651, 'famili': 652, 'joe': 653, 'open': 654, 'wanted': 655, 'violent': 656, 'legalissuesays': 657, 'common': 658, 'behind': 659, 'workersthe': 660, 'tom': 661, 'better': 662, 'gop': 663, 'decad': 664, 'anders': 665, 'goes': 666, 'abort': 667, 'things': 668, 'debate': 669, 'someone': 670, 'cases': 671, 'worked': 672, 'little': 673, 'poll': 674, 'attack': 675, 'forced': 676, 'opponent': 677, 'study': 678, 'real': 679, 'saying': 680, 'educ': 681, 'dropped': 682, 'secretary': 683, 'yet': 684, 'governors': 685, 'marco': 686, 'seniors': 687, '17': 688, 'living': 689, 'increases': 690, 'within': 691, '300': 692, 'africanamerican': 693, 'leave': 694, 'something': 695, 'ebola': 696, '2013': 697, 'asked': 698, 'close': 699, 'historyays': 700, 'mandate': 701, 'walkers': 702, 'longer': 703, 'either': 704, 'community': 705, 'place': 706, 'changed': 707, 'using': 708, 'lose': 709, 'medicar': 710, 'nancy': 711, 'wealth': 712, 'reduced': 713, 'long': 714, 'abortions': 715, 'charlie': 716, 'pension': 717, 'market': 718, 'officers': 719, 'breaks': 720, 'weapon': 721, 'militarythe': 722, 'rights': 723, 'clintons': 724, 'old': 725, 'promised': 726, 'ive': 727, 'weeks': 728, 'news': 729, 'welfare': 730, 'different': 731, '400': 732, 'environmentays': 733, 'taxeswe': 734, 'order': 735, 'saved': 736, 'capita': 737, '7': 738, 'includes': 739, 'brought': 740, '24': 741, 'worker': 742, 'yria': 743, 'comes': 744, 'primary': 745, 'global': 746, 'officials': 747, 'size': 748, 'publichealthays': 749, 'building': 750, 'peopl': 751, 'busi': 752, 'project': 753, 'contributions': 754, 'early': 755, 'may': 756, 'full': 757, 'birth': 758, 'refugees': 759, 'weapons': 760, 'age': 761, 'changes': 762, 'messagemachineays': 763, 'council': 764, 'receive': 765, 'graduation': 766, 'cruz': 767, 'drilling': 768, 'fire': 769, 'johnson': 770, 'muslim': 771, 'send': 772, 'prison': 773, 'gdp': 774, 'prices': 775, 'kill': 776, 'premiums': 777, 'senior': 778, 'carolina': 779, 'congressman': 780, 'find': 781, 'research': 782, 'increas': 783, 'ballot': 784, 'required': 785, 'roughly': 786, 'account': 787, 'poor': 788, 'personal': 789, 'id': 790, 'socialsecurity': 791, 'earn': 792, 'districts': 793, 'become': 794, 'dc': 795, 'rules': 796, '1000': 797, 'set': 798, 'really': 799, 'jim': 800, 'cause': 801, 'ecur': 802, 'previous': 803, 'gets': 804, 'illinois': 805, 'pelosi': 806, 'require': 807, 'additional': 808, 'compared': 809, 'creation': 810, 'carry': 811, 'charge': 812, 'nine': 813, 'theyve': 814, 'watch': 815, 'development': 816, 'islam': 817, 'problem': 818, 'position': 819, 'allowing': 820, '50000': 821, 'agreement': 822, 'light': 823, 'jail': 824, 'militaryays': 825, 'mark': 826, '9': 827, 'stimulusays': 828, 'kind': 829, 'citizenship': 830, 'spends': 831, 'bernie': 832, 'fight': 833, 'shut': 834, 'call': 835, 'refused': 836, '2014': 837, 'justice': 838, 'double': 839, 'massive': 840, 'gives': 841, 'popular': 842, 'projects': 843, 'doctors': 844, 'means': 845, 'released': 846, 'funded': 847, 'service': 848, 'messagemachine2014': 849, 'life': 850, 'line': 851, 'always': 852, 'currently': 853, 'recall': 854, 'bord': 855, 'constitution': 856, 'media': 857, 'creating': 858, 'international': 859, 'leader': 860, 'pollsays': 861, 'rating': 862, 'sports': 863, 'equal': 864, '45': 865, 'millionaires': 866, '200': 867, '95': 868, 'foreignpolicyays': 869, 'wont': 870, 'statebudgetthe': 871, '36': 872, 'bushadministration': 873, 'responsible': 874, '2015': 875, '23': 876, 'collective': 877, 'enator': 878, 'trumps': 879, 'bottom': 880, 'stay': 881, 'statesays': 882, 'farm': 883, 'parents': 884, 'greater': 885, 'director': 886, 'governments': 887, 'sold': 888, 'disability': 889, 'cutting': 890, 'protect': 891, 'candidates': 892, 'meet': 893, '19': 894, 'gallon': 895, 'consumersafety': 896, 'giving': 897, 'effect': 898, 'civil': 899, 'losing': 900, 'grown': 901, '2007': 902, '38': 903, 'economythe': 904, 'favor': 905, 'cancer': 906, 'idea': 907, 'held': 908, 'net': 909, 'balance': 910, 'leadership': 911, 'according': 912, 'caused': 913, 'c': 914, 'americas': 915, 'near': 916, 'bargaining': 917, 'saw': 918, 'campaignadvertising': 919, 'large': 920, 'rise': 921, 'pays': 922, 'ranked': 923, 'terrorists': 924, 'area': 925, 'newhampshire2012': 926, 'rest': 927, 'hispanic': 928, 'opposes': 929, 'drop': 930, '75': 931, 'romneys': 932, '2006': 933, 'billions': 934, 'huge': 935, 'wages': 936, 'im': 937, 'recently': 938, 'cash': 939, '21': 940, 'staff': 941, 'counties': 942, 'kaine': 943, 'auto': 944, 'gambling': 945, 'die': 946, 'compani': 947, 'turned': 948, 'senator': 949, 'built': 950, 'address': 951, 'earth': 952, 'lobbyist': 953, 'economyays': 954, 'administr': 955, 'email': 956, 'tell': 957, 'experience': 958, 'gotten': 959, 'committee': 960, 'estimated': 961, 'benghazi': 962, 'break': 963, 'lives': 964, 'takes': 965, 'liberal': 966, 'registered': 967, 'provided': 968, 'privatesector': 969, 'team': 970, 'victims': 971, '911': 972, 'lawmakers': 973, 'happen': 974, 'convicted': 975, 'thinks': 976, 'assault': 977, 'start': 978, 'illegally': 979, 'ad': 980, 'attacks': 981, 'balanced': 982, 'west': 983, 'limit': 984, 'annual': 985, 'couldnt': 986, 'test': 987, 'form': 988, 'floridas': 989, 'eliminate': 990, 'services': 991, 'homes': 992, 'manufacturing': 993, '150': 994, '2001': 995, 'capital': 996, 'providence': 997, 'coverag': 998, '300000': 999, 'cannot': 1000, 'on': 1001, 'representatives': 1002, 'add': 1003, 'approved': 1004, 'rail': 1005, 'larger': 1006, 'wrote': 1007, 'feingold': 1008, '22': 1009, 'banks': 1010, 'fbi': 1011, 'loan': 1012, 'audi': 1013, '20000': 1014, 'hous': 1015, 'conservative': 1016, 'folks': 1017, 'serving': 1018, '30000': 1019, 'bailout': 1020, 'decision': 1021, 'havent': 1022, 'coast': 1023, 'abortionays': 1024, 'risk': 1025, 'checks': 1026, 'basically': 1027, 'technology': 1028, 'action': 1029, 'terrorism': 1030, 'lead': 1031, 'flag': 1032, 'islamic': 1033, 'woman': 1034, 'legislative': 1035, 'approximately': 1036, 'firearm': 1037, 'name': 1038, 'bushs': 1039, 'sign': 1040, 'patrick': 1041, 'growing': 1042, 'gingrich': 1043, 'jeb': 1044, 'keystone': 1045, 'moving': 1046, 'averag': 1047, 'recreation': 1048, 'wouldnt': 1049, 'authority': 1050, 'stamp': 1051, 'simply': 1052, 'return': 1053, 'east': 1054, 'alone': 1055, 'speech': 1056, 'ev': 1057, 'supporting': 1058, 'quarter': 1059, 'commission': 1060, 'significant': 1061, 'began': 1062, 'savings': 1063, 'mass': 1064, 'looking': 1065, 'socialsecurityays': 1066, 'tradeays': 1067, 'served': 1068, 'regulations': 1069, 'impact': 1070, 'offshore': 1071, 'period': 1072, 'read': 1073, 'groups': 1074, 'employee': 1075, 'driving': 1076, 'data': 1077, 'january': 1078, 'stand': 1079, 'construction': 1080, 'enforcement': 1081, 'turn': 1082, 'earmarks': 1083, 'ron': 1084, 'assembly': 1085, 'needs': 1086, 'ethicsays': 1087, 'measure': 1088, 'plant': 1089, 'undocumented': 1090, 'russia': 1091, 'crimes': 1092, 'herrod': 1093, 'human': 1094, 'relief': 1095, 'terror': 1096, 'broke': 1097, 'punditsays': 1098, 'georgias': 1099, '29': 1100, 'product': 1101, 'instead': 1102, 'partnership': 1103, 'died': 1104, 'electric': 1105, 'budgets': 1106, 'legally': 1107, 'uninsured': 1108, 'bridge': 1109, 'unionsays': 1110, 'portland': 1111, 'sell': 1112, 'legalissuesthe': 1113, 'miles': 1114, 'surplus': 1115, '2016': 1116, 'core': 1117, 'approval': 1118, 'stopped': 1119, 'prevent': 1120, 'wind': 1121, 'hom': 1122, 'though': 1123, 'africa': 1124, 'instate': 1125, 'ceo': 1126, 'leaders': 1127, 'estate': 1128, 'town': 1129, 'hampshire': 1130, 'agencies': 1131, 'allows': 1132, 'alaska': 1133, 'payroll': 1134, 'race': 1135, 'dead': 1136, 'harry': 1137, 'reid': 1138, 'list': 1139, 'recovery': 1140, 'gains': 1141, 'fought': 1142, 'fully': 1143, 'share': 1144, 'anything': 1145, 'reduction': 1146, 'murder': 1147, 'shot': 1148, '200000': 1149, 'citizen': 1150, 'eligible': 1151, 'natural': 1152, 'agenda': 1153, 'leading': 1154, 'jobaccomplishmentsays': 1155, 'thompson': 1156, 'crisis': 1157, 'protection': 1158, 'bureau': 1159, 'taxesin': 1160, 'yrian': 1161, 'career': 1162, 'reserve': 1163, 'mean': 1164, 'coal': 1165, 'issue': 1166, 'publicsafetyays': 1167, 'cover': 1168, 'thing': 1169, 'price': 1170, '27': 1171, '250000': 1172, 'deny': 1173, 'information': 1174, 'investigation': 1175, 'd': 1176, 'african': 1177, 'traffic': 1178, '65': 1179, 'projected': 1180, 'wag': 1181, 'airport': 1182, 'train': 1183, 'gunsthe': 1184, 'individuals': 1185, 'agency': 1186, 'virtually': 1187, 'lobbyists': 1188, 'threat': 1189, 'requires': 1190, 'expand': 1191, 'abcnewsweekthe': 1192, 'standard': 1193, 'drivers': 1194, 'transparencyays': 1195, 'include': 1196, '700': 1197, 'nominee': 1198, 'cast': 1199, 'nelson': 1200, 'stimulusthe': 1201, 'perrys': 1202, 'expansion': 1203, 'ecretary': 1204, 'constitutional': 1205, 'environmentthe': 1206, 'stood': 1207, '42': 1208, 'bad': 1209, 'popul': 1210, 'outside': 1211, 'cap': 1212, 'raises': 1213, 'profit': 1214, 'politician': 1215, 'central': 1216, 'palin': 1217, 'muslims': 1218, 'colleg': 1219, 'mike': 1220, '5000': 1221, 'politicians': 1222, 'earning': 1223, 'ordered': 1224, 'announced': 1225, 'endorsed': 1226, 'houston': 1227, 'womens': 1228, 'middleclass': 1229, 'transpacific': 1230, 'polici': 1231, 'russ': 1232, 'workersin': 1233, 'move': 1234, 'arabia': 1235, 'parts': 1236, 'taxesunder': 1237, 'safe': 1238, 'criminaljusticeays': 1239, 'gulf': 1240, 'head': 1241, 'ability': 1242, 'internet': 1243, 'bob': 1244, 'points': 1245, 'baby': 1246, 'ran': 1247, 'teach': 1248, 'employers': 1249, 'countrys': 1250, 'several': 1251, 'levels': 1252, 'center': 1253, 'loophole': 1254, 'ask': 1255, 'texans': 1256, 'allen': 1257, 'closed': 1258, 'case': 1259, 'teacher': 1260, 'road': 1261, 'veteransays': 1262, 'wasnt': 1263, 'photo': 1264, 'carbon': 1265, 'richest': 1266, 'jobswe': 1267, 'deaths': 1268, 'probably': 1269, 'amnesty': 1270, 'peaker': 1271, 'records': 1272, 'grew': 1273, 'reason': 1274, 'win': 1275, 'isnt': 1276, 'increasing': 1277, 'faster': 1278, 'sexual': 1279, 'investment': 1280, 'expanded': 1281, 'anyone': 1282, 'everybody': 1283, 'historythe': 1284, 'christian': 1285, 'except': 1286, 'foreignpolicythe': 1287, 'salary': 1288, 'lif': 1289, 'incest': 1290, 'punditsthe': 1291, '250': 1292, 'capitol': 1293, 'putting': 1294, 'serious': 1295, 'promise': 1296, 'offered': 1297, 'shootings': 1298, 'legisl': 1299, 'independent': 1300, 'foodsafety': 1301, 'industri': 1302, 'gasoline': 1303, 'press': 1304, 'statebudgetin': 1305, 'crim': 1306, 'issued': 1307, 'earned': 1308, 'along': 1309, 'wisconsins': 1310, 'solar': 1311, 'supremecourtays': 1312, 'ervice': 1313, 'repeatedly': 1314, 'chang': 1315, 'must': 1316, 'privatize': 1317, 'worse': 1318, 'leaving': 1319, 'cr': 1320, 'floridians': 1321, 'amend': 1322, 'straight': 1323, 'parti': 1324, 'marriag': 1325, 'committed': 1326, 'hit': 1327, 'red': 1328, 'similar': 1329, 'healthcarein': 1330, 'taxesi': 1331, 'samesex': 1332, 'epa': 1333, 'oversea': 1334, 'modern': 1335, 'extra': 1336, 'might': 1337, '3000': 1338, 'household': 1339, 'fighting': 1340, 'claims': 1341, 'anywhere': 1342, 'ground': 1343, '43': 1344, 'senators': 1345, 'subsidies': 1346, 'prescription': 1347, 'forces': 1348, 'statewide': 1349, 'moved': 1350, 'directly': 1351, 'universities': 1352, 'newhampshire2012ays': 1353, '28': 1354, 'abbott': 1355, 'whos': 1356, 'provides': 1357, 'barrett': 1358, '2003': 1359, 'arah': 1360, 'fees': 1361, 'fouryear': 1362, 'remove': 1363, 'licenses': 1364, 'true': 1365, 'forward': 1366, 'repeal': 1367, 'reports': 1368, 'cars': 1369, 'deficits': 1370, 'korea': 1371, 'possible': 1372, 'aliens': 1373, 'words': 1374, '55': 1375, 'costing': 1376, 'basic': 1377, 'babies': 1378, 'park': 1379, 'release': 1380, 'matter': 1381, '400000': 1382, 'dallas': 1383, 'resulted': 1384, '800': 1385, 'fired': 1386, '77': 1387, 'illeg': 1388, 'estimates': 1389, 'hospital': 1390, 'efforts': 1391, 'campaignfinanceays': 1392, 'issues': 1393, 'important': 1394, 'statesthe': 1395, 'arent': 1396, 'waterays': 1397, 'contract': 1398, 'tens': 1399, 'twothirds': 1400, 'commercial': 1401, 'together': 1402, 'requiring': 1403, 'median': 1404, 'crimeays': 1405, 'foundation': 1406, 'tammy': 1407, 'revenues': 1408, 'sure': 1409, 'chools': 1410, 'salaries': 1411, 'nra': 1412, 'earmark': 1413, 'missouri': 1414, 'households': 1415, 'receiving': 1416, 'voucher': 1417, 'gap': 1418, '32': 1419, 'judge': 1420, 'thanks': 1421, '2005': 1422, 'overall': 1423, 'employe': 1424, 'showing': 1425, 'stamps': 1426, '48': 1427, 'bay': 1428, 'side': 1429, 'tommy': 1430, 'decline': 1431, 'stadium': 1432, 'cicilline': 1433, 'wrong': 1434, 'mack': 1435, 'standards': 1436, 'mental': 1437, 'clear': 1438, 'murphy': 1439, 'night': 1440, 'dream': 1441, 'anybody': 1442, 'adults': 1443, 'pipeline': 1444, 'baseball': 1445, 'connie': 1446, 'workforce': 1447, 'chinese': 1448, 'educationwe': 1449, 'eric': 1450, 'xl': 1451, '33': 1452, 'issu': 1453, 'sexuality': 1454, 'literally': 1455, 'dril': 1456, 'welfareays': 1457, 'flat': 1458, 'taxesa': 1459, 'commit': 1460, 'trust': 1461, 'friends': 1462, 'employer': 1463, 'ystem': 1464, 'row': 1465, 'healthcarewe': 1466, 'production': 1467, 'throughout': 1468, '2004': 1469, 'talking': 1470, '34': 1471, 'profits': 1472, 'attacked': 1473, 'turnout': 1474, 'unemployed': 1475, 'va': 1476, 'hunger': 1477, 'advantage': 1478, 'england': 1479, 'administrations': 1480, 'track': 1481, 'clean': 1482, 'k12': 1483, 'inflation': 1484, 'healthcarehealth': 1485, 'bureaucrats': 1486, 'body': 1487, 'introduced': 1488, '41': 1489, 'written': 1490, 'minority': 1491, 'libya': 1492, '60000': 1493, 'walk': 1494, 'afford': 1495, 'electionson': 1496, 'advanced': 1497, 'places': 1498, 'letter': 1499, 'oilspill': 1500, 'electionsin': 1501, 'colorado': 1502, 'combined': 1503, 'code': 1504, 'november': 1505, 'emergency': 1506, '47': 1507, 'michael': 1508, 'guard': 1509, 'green': 1510, 'measures': 1511, 'communities': 1512, 'package': 1513, 'owners': 1514, 'iowa': 1515, 'fix': 1516, 'popculture': 1517, 'consumer': 1518, 'army': 1519, 'recession': 1520, '85': 1521, 'space': 1522, 'convention': 1523, 'continue': 1524, 'believes': 1525, 'beginning': 1526, 'canada': 1527, 'holding': 1528, 'king': 1529, 'question': 1530, 'impose': 1531, 'hospitals': 1532, '160': 1533, 'privacy': 1534, 'electionsi': 1535, 'risen': 1536, '82': 1537, 'alien': 1538, 'rid': 1539, 'koch': 1540, 'freedom': 1541, 'evidence': 1542, 'kasich': 1543, 'else': 1544, 'strong': 1545, 'gasprices': 1546, 'nobody': 1547, 'statefinancesthe': 1548, 'youve': 1549, 'bigger': 1550, '49': 1551, 'reached': 1552, 'region': 1553, 'official': 1554, 'judges': 1555, 'arrested': 1556, 'training': 1557, 'mccains': 1558, 'vetoed': 1559, 'cosponsored': 1560, 'lowincome': 1561, 'facing': 1562, 'employment': 1563, 'accused': 1564, 'andy': 1565, 'reps': 1566, 'commissioner': 1567, 'homeless': 1568, 'immediately': 1569, '2002': 1570, 'taxesif': 1571, 'energyays': 1572, 'certain': 1573, 'gubernatorial': 1574, 'immigrationin': 1575, 'easier': 1576, 'worlds': 1577, 'counti': 1578, 'baldwin': 1579, 'review': 1580, 'course': 1581, 'redistricting': 1582, 'calls': 1583, 'fastest': 1584, 'card': 1585, 'grant': 1586, 'fin': 1587, 'book': 1588, 'nevada': 1589, 'wealthy': 1590, 'serve': 1591, 'mary': 1592, 'commerce': 1593, 'suggested': 1594, 'actions': 1595, 'subject': 1596, 'soldiers': 1597, 'invested': 1598, 'dangerous': 1599, 'option': 1600, 'equivalent': 1601, 'bond': 1602, 'veto': 1603, 'purchase': 1604, 'registration': 1605, 'regulatory': 1606, 'process': 1607, 'colleges': 1608, 'try': 1609, 'deport': 1610, '56': 1611, 'session': 1612, 'indiana': 1613, 'direct': 1614, 'june': 1615, 'penny': 1616, 'count': 1617, 'religious': 1618, 'decided': 1619, '99': 1620, 'consecutive': 1621, 'exist': 1622, 'attend': 1623, 'ceiling': 1624, 'revenu': 1625, 'seeing': 1626, 'somebody': 1627, 'flipflopped': 1628, 'statebudgetwe': 1629, 'sportsays': 1630, 'ryans': 1631, '62': 1632, 'accepted': 1633, 'mortgage': 1634, 'maybe': 1635, 'deciding': 1636, 'effort': 1637, 'backed': 1638, 'tv': 1639, 'shown': 1640, 'online': 1641, 'womenin': 1642, '6000': 1643, 'fallen': 1644, 'healthcarea': 1645, 'involved': 1646, 'jon': 1647, 'safety': 1648, '44': 1649, '40000': 1650, 'football': 1651, 'known': 1652, 'later': 1653, 'successful': 1654, 'needed': 1655, 'denied': 1656, 'essentially': 1657, 'guarantee': 1658, 'highspeed': 1659, 'newt': 1660, 'metro': 1661, 'healthcareunder': 1662, 'assistance': 1663, 'utility': 1664, 'doctor': 1665, 'shutdown': 1666, 'multiple': 1667, 'wealthiest': 1668, 'michigan': 1669, 'gener': 1670, 'antonio': 1671, 'stud': 1672, 'face': 1673, 'roads': 1674, 'block': 1675, 'buffett': 1676, '58': 1677, '97': 1678, 'despite': 1679, 'poverti': 1680, 'overseas': 1681, 'cell': 1682, 'holiday': 1683, 'presidency': 1684, 'hard': 1685, 'healthcareif': 1686, 'secret': 1687, 'permanent': 1688, 'field': 1689, 'womenthe': 1690, 'medicarethe': 1691, 'decades': 1692, 'biden': 1693, 'smaller': 1694, 'fifth': 1695, 'others': 1696, 'lanes': 1697, 'reported': 1698, 'transportationon': 1699, 'firearms': 1700, 'guantanamo': 1701, 'treatment': 1702, 'couple': 1703, 'grade': 1704, 'failing': 1705, 'associated': 1706, '26': 1707, 'choice': 1708, 'permit': 1709, 'accept': 1710, 'lawsuit': 1711, 'gold': 1712, 'opportunity': 1713, 'mostly': 1714, 'laid': 1715, 'fuel': 1716, 'remain': 1717, 'womans': 1718, '67': 1719, 'sale': 1720, 'rule': 1721, 'chief': 1722, 'eliminated': 1723, 'hikes': 1724, 'jobsince': 1725, 'pollsthe': 1726, 'environmental': 1727, 'hearing': 1728, 'bruce': 1729, 'religionays': 1730, 'pac': 1731, 'patrol': 1732, 'none': 1733, 'platform': 1734, 'charges': 1735, 'ink': 1736, 'begin': 1737, 'historic': 1738, 'wat': 1739, 'claim': 1740, 'takeover': 1741, 'dropout': 1742, 'sponsored': 1743, 'jeff': 1744, 'expanding': 1745, 'prayer': 1746, 'publichealththe': 1747, 'model': 1748, 'governmentefficiencyays': 1749, 'jobsthere': 1750, 'banned': 1751, 'commitment': 1752, 'developed': 1753, 'produce': 1754, 'oppose': 1755, 'expensive': 1756, 'publicservice': 1757, 'video': 1758, 'completely': 1759, 'pain': 1760, 'dog': 1761, 'servic': 1762, 'energywe': 1763, 'citygovernmentays': 1764, 'becoming': 1765, 'warming': 1766, 'identification': 1767, 'alltime': 1768, 'lee': 1769, 'hear': 1770, 'based': 1771, 'whole': 1772, 'hispanics': 1773, 'portman': 1774, 'stage': 1775, 'fulltime': 1776, 'nathan': 1777, 'oregons': 1778, 'enacted': 1779, 'everyone': 1780, 'talk': 1781, 'radical': 1782, 'inherited': 1783, 'transit': 1784, 'fox': 1785, 'expected': 1786, 'tuit': 1787, 'healthcareobamacare': 1788, 'prior': 1789, 'pakistan': 1790, 'decreased': 1791, 'mcconnell': 1792, 'often': 1793, 'resid': 1794, 'absolutely': 1795, 'taxpayerfunded': 1796, 'pick': 1797, 'foreignpolicyobama': 1798, 'murdered': 1799, 'status': 1800, 'sitting': 1801, '37': 1802, 'premium': 1803, 'energythe': 1804, 'personnel': 1805, 'produced': 1806, 'mandatory': 1807, 'typical': 1808, 'pollution': 1809, 'margin': 1810, 'immigrant': 1811, 'prolife': 1812, 'eisenhower': 1813, 'teve': 1814, 'religionthe': 1815, 'preexisting': 1816, 'india': 1817, 'taxeson': 1818, 'phone': 1819, 'constitut': 1820, 'pace': 1821, 'rich': 1822, 'fee': 1823, 'room': 1824, 'sportsthe': 1825, 'ratings': 1826, 'islands': 1827, 'advocated': 1828, 'supposed': 1829, 'date': 1830, 'nursing': 1831, 'universal': 1832, 'agreed': 1833, 'killing': 1834, 'pennsylvania': 1835, 'umexico': 1836, 'ga': 1837, 'ended': 1838, 'specifically': 1839, 'social': 1840, 'false': 1841, 'god': 1842, 'provisions': 1843, 'cuba': 1844, 'apply': 1845, 'adopted': 1846, 'loss': 1847, 'chairman': 1848, 'felons': 1849, 'broward': 1850, 'werent': 1851, 'waste': 1852, 'continues': 1853, 'abcnewsweek': 1854, 'amnesti': 1855, 'gross': 1856, 'finance': 1857, 'minnesota': 1858, 'nomination': 1859, 'nuclearays': 1860, 'exchange': 1861, 'iraqi': 1862, 'wealththe': 1863, 'blacks': 1864, 'loans': 1865, 'affect': 1866, 'donors': 1867, 'agree': 1868, 'fair': 1869, '1980': 1870, 'bp': 1871, 'virginias': 1872, 'al': 1873, 'inmates': 1874, 'rob': 1875, 'patients': 1876, 'candidatesbiographyi': 1877, 'kid': 1878, 'campaignadvertisingays': 1879, 'pell': 1880, 'centers': 1881, 'ending': 1882, 'hands': 1883, 'standing': 1884, 'supremecourt': 1885, 'scholarship': 1886, 'word': 1887, 'suicide': 1888, 'bag': 1889, 'jerseys': 1890, 'reagans': 1891, 'minutes': 1892, 'commun': 1893, 'surplu': 1894, 'vacation': 1895, 'alqaida': 1896, 'bucks': 1897, 'reading': 1898, 'parks': 1899, 'attempted': 1900, 'destroy': 1901, 'walmart': 1902, 'facebook': 1903, 'adding': 1904, 'returns': 1905, 'un': 1906, 'redistrictingays': 1907, 'tenure': 1908, 'math': 1909, 'offenders': 1910, 'future': 1911, 'donations': 1912, 'pork': 1913, 'enrolled': 1914, 'crossing': 1915, 'duty': 1916, 'reducing': 1917, 'pledge': 1918, 'urban': 1919, 'consistently': 1920, 'available': 1921, 'corporation': 1922, 'girls': 1923, 'graduate': 1924, 'tied': 1925, 'workersa': 1926, 'treat': 1927, 'appointed': 1928, 'criminaljusticethe': 1929, 'primari': 1930, '71': 1931, 'f': 1932, 'hired': 1933, 'testing': 1934, 'cotts': 1935, 'effective': 1936, 'beer': 1937, 'significantly': 1938, 'clos': 1939, 'energi': 1940, 'accountability': 1941, '1994': 1942, 'travel': 1943, 'covered': 1944, 'post': 1945, 'permits': 1946, 'condit': 1947, 'gained': 1948, 'fourth': 1949, 'meetings': 1950, 'burden': 1951, 'earners': 1952, 'website': 1953, 'separate': 1954, 'feet': 1955, 'marketregulationthe': 1956, 'interview': 1957, 'path': 1958, 'lik': 1959, 'ferguson': 1960, 'owe': 1961, 'econd': 1962, 'sending': 1963, 'midwest': 1964, '72': 1965, 'taxeswhen': 1966, 'jobsin': 1967, 'declined': 1968, 'uper': 1969, 'chance': 1970, 'sotomayornomination': 1971, 'accepting': 1972, 'pot': 1973, 'influence': 1974, 'following': 1975, 'federalbudgetpresident': 1976, 'exactly': 1977, 'proposing': 1978, 'happening': 1979, 'navy': 1980, 'electionswe': 1981, 'toward': 1982, 'blocked': 1983, 'mine': 1984, 'oversight': 1985, 'kennedy': 1986, 'openly': 1987, 'pushed': 1988, 'taxesobama': 1989, 'hook': 1990, 'intelligence': 1991, 'heard': 1992, 'socalled': 1993, 'mandates': 1994, 'hall': 1995, 'replace': 1996, 'irans': 1997, 'initially': 1998, 'barely': 1999, 'considered': 2000, 'stock': 2001, 'vast': 2002, 'choose': 2003, 'viol': 2004, 'manufacturers': 2005, 'hold': 2006, 'technologyays': 2007, 'protections': 2008, 'prevention': 2009, 'selling': 2010, 'scienceays': 2011, 'conducted': 2012, 'causes': 2013, 'governmentrun': 2014, 'financialregulationays': 2015, 'management': 2016, 'patient': 2017, 'povertyays': 2018, 'obtain': 2019, 'latino': 2020, 'owns': 2021, 'kinds': 2022, 'perdue': 2023, 'accounts': 2024, 'helping': 2025, 'dewhurst': 2026, 'panel': 2027, '12000': 2028, 'nationally': 2029, 'waiting': 2030, 'hurricane': 2031, 'ays': 2032, 'sanctuary': 2033, 'remains': 2034, 'caught': 2035, 'povertythe': 2036, 'chool': 2037, 'michelle': 2038, 'bowl': 2039, 'discrimination': 2040, 'opt': 2041, 'invest': 2042, 'hope': 2043, 'votingrecordin': 2044, 'approve': 2045, 'disease': 2046, 'immigrationon': 2047, 'female': 2048, 'deals': 2049, 'television': 2050, 'lake': 2051, 'educationin': 2052, 'otomayor': 2053, 'jack': 2054, 'brothers': 2055, 'delivered': 2056, 'happened': 2057, 'pentagon': 2058, 'alex': 2059, 'potential': 2060, 'success': 2061, 'philadelphia': 2062, 'bankrupt': 2063, 'pages': 2064, 'reach': 2065, 'pump': 2066, 'christmas': 2067, 'judicial': 2068, 'agents': 2069, 'met': 2070, 'forcing': 2071, 'guy': 2072, 'questions': 2073, 'borrow': 2074, 'annually': 2075, 'terrorismin': 2076, 'signs': 2077, 'graduates': 2078, 'proposals': 2079, 'homeland': 2080, 'represent': 2081, '53': 2082, 'ethicsi': 2083, 'fe': 2084, 'protesters': 2085, 'extremists': 2086, 'incomes': 2087, 'countys': 2088, 'mitch': 2089, 'peoples': 2090, 'criminals': 2091, 'abuse': 2092, 'investments': 2093, 'medicine': 2094, 'classroom': 2095, 'spread': 2096, 'ag': 2097, 'broken': 2098, 'previously': 2099, 'request': 2100, 'credits': 2101, 'rent': 2102, 'speaker': 2103, 'door': 2104, '500000': 2105, 'grocery': 2106, 'decisions': 2107, 'delayed': 2108, 'lawyer': 2109, 'vice': 2110, 'organ': 2111, 'antorum': 2112, 'africanamericans': 2113, 'streets': 2114, 'removed': 2115, 'exempt': 2116, 'depend': 2117, 'seat': 2118, 'survey': 2119, 'factor': 2120, 'payments': 2121, 'sen': 2122, 'longterm': 2123, 'unemploy': 2124, 'protected': 2125, 'referendum': 2126, 'struck': 2127, '600': 2128, 'adjusted': 2129, 'endorse': 2130, 'miami': 2131, 'short': 2132, 'amounts': 2133, 'allies': 2134, 'strikes': 2135, 'parties': 2136, 'lincoln': 2137, 'taxesthere': 2138, 'husband': 2139, 'charter': 2140, 'fall': 2141, 'deduction': 2142, 'candidatesbiographythe': 2143, 'passage': 2144, 'bringing': 2145, 'truth': 2146, 'church': 2147, '31': 2148, 'type': 2149, 'depress': 2150, 'campaigned': 2151, 'zika': 2152, 'march': 2153, 'challenger': 2154, 'regulation': 2155, 'visit': 2156, 'europe': 2157, 'freddie': 2158, 'negotiations': 2159, 'extending': 2160, '98': 2161, '15000': 2162, 'shes': 2163, 'handgun': 2164, '80000': 2165, 'legislators': 2166, 'gallons': 2167, 'burke': 2168, 'debbie': 2169, 'chultz': 2170, '86': 2171, 'played': 2172, 'ship': 2173, 'dime': 2174, 'thousand': 2175, 'contribute': 2176, 'mandel': 2177, 'clearly': 2178, 'rac': 2179, 'rose': 2180, 'immigrationa': 2181, 'sanctions': 2182, 'taxesjohn': 2183, 'crimethe': 2184, 'officer': 2185, 'concealed': 2186, 'missed': 2187, 'granted': 2188, 'plane': 2189, 'key': 2190, 'northern': 2191, 'pl': 2192, 'closing': 2193, 'substantial': 2194, 'joined': 2195, 'hik': 2196, 'institutions': 2197, 'view': 2198, 'products': 2199, 'healthy': 2200, 'goal': 2201, '800000': 2202, 'bin': 2203, 'laden': 2204, 'drove': 2205, 'kept': 2206, 'historically': 2207, 'righttowork': 2208, 'provid': 2209, 'doubl': 2210, 'arm': 2211, 'travis': 2212, 'drive': 2213, 'votingrecordi': 2214, 'accidents': 2215, 'hire': 2216, 'rival': 2217, 'greg': 2218, 'organizations': 2219, 'workerswe': 2220, 'foreclosure': 2221, '57': 2222, 'firefighters': 2223, 'soon': 2224, 'actual': 2225, 'whites': 2226, 'negative': 2227, 'longest': 2228, 'indicate': 2229, 'governmentefficiencythe': 2230, 'operations': 2231, 'conditions': 2232, 'incarceration': 2233, 'hed': 2234, 'headed': 2235, 'overwhelming': 2236, 'rifle': 2237, 'organization': 2238, 'welfar': 2239, 'statesrhode': 2240, 'communist': 2241, 'hell': 2242, 'mostlytrue': 2243, 'halftrue': 2244, 'threatened': 2245, 'lack': 2246, '900': 2247, 'tea': 2248, 'fast': 2249, 'mexican': 2250, 'father': 2251, '150000': 2252, 'veteran': 2253, 'ne': 2254, 'sequester': 2255, 'thought': 2256, 'repealing': 2257, 'statebudgettate': 2258, 'bulbs': 2259, 'robert': 2260, 'compare': 2261, 'positive': 2262, 'lines': 2263, 'childrens': 2264, 'vaccine': 2265, 'april': 2266, 'chicago': 2267, '1990': 2268, 'plus': 2269, 'experi': 2270, 'roosevelt': 2271, 'heck': 2272, 'recess': 2273, 'qualify': 2274, '51': 2275, 'flow': 2276, 'everything': 2277, 'newark': 2278, 'difference': 2279, 'mak': 2280, 'immigrationwe': 2281, 'subsidize': 2282, 'mccollum': 2283, 'yes': 2284, 'kil': 2285, 'fine': 2286, 'medicaremedicare': 2287, '39': 2288, 'requirement': 2289, 'represents': 2290, 'areas': 2291, 'terrorismii': 2292, 'film': 2293, 'plac': 2294, 'heroin': 2295, 'language': 2296, 'serv': 2297, 'conflict': 2298, 'victim': 2299, 'rap': 2300, 'gunswe': 2301, 'retire': 2302, 'front': 2303, 'guess': 2304, 'carrying': 2305, 'demand': 2306, 'el': 2307, 'push': 2308, 'contribution': 2309, 'b': 2310, 'improve': 2311, 'industrialized': 2312, 'lieutenant': 2313, 'tourism': 2314, 'transportationif': 2315, 'outlaw': 2316, 'marketregulationa': 2317, 'tour': 2318, 'marketregulationays': 2319, 'nato': 2320, 'strip': 2321, 'investigations': 2322, 'apparently': 2323, 'listed': 2324, 'terrible': 2325, 'ends': 2326, 'restore': 2327, '700000': 2328, 'socialsecurityin': 2329, 'street': 2330, 'losses': 2331, 'combat': 2332, 'admits': 2333, 'inside': 2334, 'hand': 2335, 'quality': 2336, 'strike': 2337, 'gunsin': 2338, 'existing': 2339, 'renacci': 2340, 'contracts': 2341, 'lunch': 2342, 'penalty': 2343, 'arms': 2344, 'noth': 2345, 'uses': 2346, 'kagannomination': 2347, 'kagan': 2348, 'infl': 2349, 'scores': 2350, 'weekend': 2351, '96': 2352, 'nfl': 2353, 'patriotism': 2354, 'tobacco': 2355, 'payment': 2356, 'nafta': 2357, 'jet': 2358, 'womenwomen': 2359, 'centuri': 2360, 'operating': 2361, 'bear': 2362, 'problems': 2363, 'votingrecord': 2364, 'wasserman': 2365, 'politics': 2366, 'stands': 2367, 'machines': 2368, 'messagemachine2012mitt': 2369, 'golf': 2370, 'generated': 2371, 'license': 2372, 'crisi': 2373, 'kentucky': 2374, 'extend': 2375, 'elementary': 2376, 'lived': 2377, 'warm': 2378, 'limits': 2379, 'josh': 2380, 'incomethe': 2381, 'mr': 2382, 'economyon': 2383, 'lawsuits': 2384, 'deportation': 2385, 'incidents': 2386, 'ideas': 2387, 'cas': 2388, 'treaty': 2389, 'disaster': 2390, 'included': 2391, 'studies': 2392, 'fortune': 2393, 'housingays': 2394, 'borrowing': 2395, 'rubios': 2396, 'oviet': 2397, 'statestexas': 2398, 'visa': 2399, 'trip': 2400, 'pretty': 2401, 'emissions': 2402, 'nonpartisan': 2403, 'legalissuesin': 2404, 'bus': 2405, 'deadly': 2406, 'fill': 2407, 'positions': 2408, 'banning': 2409, '94': 2410, 'arab': 2411, 'traus': 2412, 'floridaamendments': 2413, 'supporters': 2414, 'troop': 2415, 'campus': 2416, 'federalbudgetwe': 2417, '46': 2418, 'commiss': 2419, 'pipelin': 2420, 'english': 2421, 'resources': 2422, 'delegates': 2423, 'jobaccomplishmentsthe': 2424, 'offend': 2425, 'rainy': 2426, 'nuclearthe': 2427, 'congressays': 2428, 'shoot': 2429, 'interests': 2430, 'passing': 2431, 'detainees': 2432, 'totally': 2433, 'soccer': 2434, 'discretionary': 2435, 'harder': 2436, 'enforce': 2437, 'expenses': 2438, 'hotel': 2439, 'estimate': 2440, 'lottery': 2441, 'di': 2442, 'nomine': 2443, 'decide': 2444, 'casino': 2445, 'onethird': 2446, 'georgians': 2447, 'marriageays': 2448, 'event': 2449, 'friend': 2450, 'lakes': 2451, 'jobless': 2452, 'agr': 2453, 'don': 2454, 'provision': 2455, 'newly': 2456, 'ethanol': 2457, 'knew': 2458, 'dozens': 2459, 'acorn': 2460, 'database': 2461, 'barbara': 2462, 'hussein': 2463, 'defund': 2464, 'july': 2465, 'tarp': 2466, '1970': 2467, 'western': 2468, 'immigrationthere': 2469, 'telling': 2470, 'covers': 2471, 'haria': 2472, 'reserves': 2473, 'publicly': 2474, 'taxesen': 2475, 'ken': 2476, 'unlike': 2477, 'tough': 2478, 'roe': 2479, 'amendments': 2480, '1200': 2481, 'healthcarei': 2482, '8000': 2483, 'hassan': 2484, 'medicaidays': 2485, 'glenn': 2486, 'loopholes': 2487, 'confirmed': 2488, 'hundred': 2489, 'changing': 2490, 'reserv': 2491, 'tart': 2492, 'fellow': 2493, 'hate': 2494, 'japan': 2495, 'milk': 2496, 'step': 2497, 'wealthi': 2498, 'reelection': 2499, '1990s': 2500, 'decrease': 2501, 'cabinet': 2502, 'dozen': 2503, 'seeking': 2504, 'drinking': 2505, 'hiring': 2506, 'lobby': 2507, 'outofstate': 2508, 'grants': 2509, 'ones': 2510, 'vac': 2511, 'militaryon': 2512, 'hurt': 2513, 'super': 2514, 'showed': 2515, 'scientists': 2516, 'rank': 2517, 'opposition': 2518, 'wife': 2519, 'jobsunder': 2520, 'browns': 2521, 'workforc': 2522, 'economywe': 2523, 'related': 2524, 'sciencethe': 2525, 'mand': 2526, 'univers': 2527, 'incumbent': 2528, 'exception': 2529, '4000': 2530, 'l': 2531, 'rais': 2532, 'floor': 2533, 'diploma': 2534, 'transportationa': 2535, 'cleveland': 2536, 'automatic': 2537, 'cbo': 2538, 'wait': 2539, 'jewish': 2540, 'february': 2541, 'owned': 2542, 'publicsafetythe': 2543, 'picture': 2544, 'dirty': 2545, 'apprehended': 2546, 'licensed': 2547, 'offer': 2548, 'especially': 2549, 'named': 2550, 'failure': 2551, 'gon': 2552, 'rush': 2553, 'unelected': 2554, 'stem': 2555, 'ocean': 2556, 'fort': 2557, 'educationon': 2558, 'departments': 2559, 'mortality': 2560, 'patriotismays': 2561, 'donated': 2562, 'retirees': 2563, 'trillions': 2564, 'crimein': 2565, 'turns': 2566, '163': 2567, 'successfully': 2568, 'crashes': 2569, 'cameras': 2570, 'murders': 2571, 'privatizing': 2572, 'committing': 2573, 'pushing': 2574, 'immediate': 2575, 'male': 2576, 'winning': 2577, 'belief': 2578, 'akin': 2579, 'scheme': 2580, 'rul': 2581, 'willing': 2582, 'refuse': 2583, 'taxed': 2584, 'taxesas': 2585, 'respons': 2586, 'puts': 2587, 'emails': 2588, 'delay': 2589, 'largely': 2590, 'supporter': 2591, 'committe': 2592, 'resign': 2593, 'requests': 2594, 'carried': 2595, 'vet': 2596, 'technical': 2597, 'driven': 2598, 'subprime': 2599, 'webster': 2600, 'h': 2601, 'citys': 2602, 'fewest': 2603, 'foreignpolicyi': 2604, 'fannie': 2605, 'contains': 2606, 'tennessee': 2607, 'gaysandlesbiansays': 2608, 'pregnancy': 2609, 'occur': 2610, 'story': 2611, 'wars': 2612, 'inches': 2613, 'youth': 2614, 'acres': 2615, 'declared': 2616, 'concluded': 2617, 'unconstitut': 2618, 'unless': 2619, 'mind': 2620, 'meeting': 2621, 'play': 2622, 'chemical': 2623, 'quote': 2624, 'stateson': 2625, 'waters': 2626, 'regul': 2627, 'understand': 2628, 'recreationays': 2629, 'designed': 2630, 'personally': 2631, 'outsourcing': 2632, 'hedge': 2633, 'taxesbarack': 2634, 'immigrationpresident': 2635, 'planet': 2636, 'gradu': 2637, 'mac': 2638, 'greenhouse': 2639, 'louisiana': 2640, 'austins': 2641, '83': 2642, 'jobsweve': 2643, 'tremendous': 2644, 'martin': 2645, 'minimumwage': 2646, 'barnes': 2647, 'executives': 2648, 'restrictions': 2649, '54': 2650, 'pens': 2651, 'hunting': 2652, 'unlimited': 2653, 'simple': 2654, 'exchang': 2655, '50th': 2656, 'keeping': 2657, 'quite': 2658, 'jumped': 2659, 'haheen': 2660, 'protecting': 2661, 'eliminating': 2662, 'shooting': 2663, 'screenings': 2664, 'supply': 2665, 'duffy': 2666, '1300': 2667, 'overhaul': 2668, 'caucus': 2669, 'extreme': 2670, 'piece': 2671, 'shortfall': 2672, 'owes': 2673, 'exceed': 2674, 'requested': 2675, 'recovered': 2676, 'harm': 2677, 'computer': 2678, 'plants': 2679, 'stimulu': 2680, 'fish': 2681, '81': 2682, 'populationays': 2683, 'percentof': 2684, 'militarywe': 2685, 'thomas': 2686, 'jefferson': 2687, 'alon': 2688, 'financing': 2689, 'tests': 2690, 'systems': 2691, 'legislatur': 2692, 'statebudgeti': 2693, 'ads': 2694, 'pledged': 2695, 'hide': 2696, 'jobsa': 2697, 'unpopular': 2698, 'mcauliffe': 2699, 'independ': 2700, 'childhood': 2701, 'developing': 2702, 'extended': 2703, 'couples': 2704, 'cent': 2705, 'highway': 2706, 'arrest': 2707, 'frank': 2708, 'ayotte': 2709, 'value': 2710, 'militarypresident': 2711, '1800': 2712, 'th': 2713, 'alabama': 2714, 'felony': 2715, 'candidatesbiographyin': 2716, 'providing': 2717, 'rated': 2718, 'crash': 2719, 'mother': 2720, 'partner': 2721, 'wear': 2722, 'adult': 2723, 'classrooms': 2724, 'socialist': 2725, 'proud': 2726, 'retirementays': 2727, 'chose': 2728, 'represented': 2729, 'singlepayer': 2730, 'affairs': 2731, 'leg': 2732, 'pregnant': 2733, 'corzine': 2734, 'brother': 2735, 'responsibility': 2736, 'sit': 2737, 'game': 2738, 'authored': 2739, 'own': 2740, 'candidatesbiographyive': 2741, 'avoid': 2742, 'lying': 2743, 'ohios': 2744, 'bathroom': 2745, 'gender': 2746, 'sued': 2747, 'armed': 2748, 'closest': 2749, 'hiv': 2750, 'invented': 2751, 'fracking': 2752, 'lets': 2753, 'club': 2754, 'contributed': 2755, 'max': 2756, '92': 2757, 'layoffs': 2758, 'kingston': 2759, 'century': 2760, 'kasichs': 2761, 'neighborhood': 2762, 'charged': 2763, '74': 2764, 'jobswhen': 2765, 'poorest': 2766, 'smart': 2767, 'tripled': 2768, 'advisers': 2769, 'luther': 2770, 'franklin': 2771, 'association': 2772, 'knows': 2773, 'proven': 2774, 'response': 2775, 'attacking': 2776, 'surpassed': 2777, 'intended': 2778, 'depart': 2779, 'bridges': 2780, 'towards': 2781, 'dekalb': 2782, '1960': 2783, 'homicides': 2784, 'barackobama': 2785, 'overwhelmingly': 2786, 'somewhere': 2787, 'pence': 2788, 'davis': 2789, 'books': 2790, 'legalissuesa': 2791, 'los': 2792, 'leav': 2793, 'seats': 2794, 'transportationwe': 2795, 'results': 2796, 'jimmy': 2797, 'driver': 2798, 'ownership': 2799, 'ruled': 2800, '63': 2801, 'wealthays': 2802, 'disabled': 2803, 'dan': 2804, 'oilspillthe': 2805, 'dramatically': 2806, 'luxury': 2807, 'bar': 2808, 'minister': 2809, '13000': 2810, 'surge': 2811, 'gunsa': 2812, 'generate': 2813, 'hidden': 2814, '1999': 2815, 'defeat': 2816, 'appoint': 2817, 'generation': 2818, 'supremecourtthe': 2819, 'mayoral': 2820, 'recipients': 2821, 'fre': 2822, 'pric': 2823, 'occupywallstreet': 2824, 'letting': 2825, 'borders': 2826, 'privatization': 2827, 'candidatesbiographyon': 2828, 'statesin': 2829, 'learn': 2830, 'paso': 2831, '9000': 2832, 'numb': 2833, 'warren': 2834, 'active': 2835, '47th': 2836, 'healthcarepresident': 2837, 'teaching': 2838, 'chinas': 2839, '1992': 2840, 'passes': 2841, 'suspected': 2842, 'hood': 2843, 'married': 2844, 'focused': 2845, 'activity': 2846, 'dramatic': 2847, 'wiped': 2848, 'doddfrank': 2849, 'sites': 2850, 'stor': 2851, 'scandal': 2852, 'socialsecurityocial': 2853, 'ponzi': 2854, 'schem': 2855, 'offices': 2856, 'lie': 2857, 'attendance': 2858, '68': 2859, 'suffer': 2860, 'marketregulationin': 2861, 'transportationwhen': 2862, 'resolution': 2863, 'monthly': 2864, 'motors': 2865, 'detroit': 2866, 'saving': 2867, 'collecting': 2868, 'katrina': 2869, 'renewable': 2870, 'pow': 2871, 'inequality': 2872, 'floridian': 2873, 'rolls': 2874, 'ervices': 2875, 'carlos': 2876, 'advisory': 2877, 'northeast': 2878, 'dwight': 2879, 'borrowed': 2880, 'hike': 2881, 'theyll': 2882, 'proportion': 2883, 'islanders': 2884, 'christians': 2885, 'compromise': 2886, 'lock': 2887, 'attorneys': 2888, 'ultimately': 2889, 'prosecuted': 2890, 'color': 2891, 'payday': 2892, 'dr': 2893, 'drink': 2894, 'ambassador': 2895, 'beach': 2896, 'opening': 2897, 'pacs': 2898, 'kenya': 2899, 'secur': 2900, 'tar': 2901, 'ratio': 2902, '600000': 2903, 'sexualityays': 2904, 'defended': 2905, 'abolish': 2906, 'mining': 2907, 'deer': 2908, 'hunt': 2909, 'jobsmore': 2910, '84': 2911, 'drunk': 2912, '120000': 2913, 'performed': 2914, '1993': 2915, 'bulb': 2916, 'prochoice': 2917, 'loses': 2918, 'males': 2919, 'develop': 2920, 'taxeswere': 2921, 'tru': 2922, 'follow': 2923, 'phones': 2924, 'arkansas': 2925, 'transparency': 2926, 'users': 2927, 'carter': 2928, 'congressmen': 2929, 'waterthe': 2930, 'rounds': 2931, 'israelays': 2932, 'kindergarten': 2933, 'collect': 2934, 'braley': 2935, 'billionaires': 2936, 'taxesour': 2937, 'humans': 2938, '49th': 2939, 'promises': 2940, 'candid': 2941, 'opposing': 2942, 'opinion': 2943, 'charitable': 2944, 'implemented': 2945, 'pati': 2946, 'outhwest': 2947, 'facility': 2948, 'visited': 2949, 'appropriations': 2950, 'ticket': 2951, 'classified': 2952, 'managed': 2953, 'iranian': 2954, 'fastestgrowing': 2955, 'steps': 2956, 'beyond': 2957, 'boehner': 2958, 'ean': 2959, 'battle': 2960, 'vietnam': 2961, 'mississippi': 2962, 'moment': 2963, 'whitehouse': 2964, 'millionair': 2965, 'races': 2966, 'felon': 2967, 'prohibited': 2968, 'embassy': 2969, 'ahead': 2970, 'original': 2971, 'source': 2972, '1980s': 2973, 'filled': 2974, 'entered': 2975, 'osama': 2976, 'jeanne': 2977, 'offers': 2978, 'saves': 2979, '350': 2980, 'deductions': 2981, 'taxpay': 2982, 'grow': 2983, 'subsidy': 2984, 'shops': 2985, '125': 2986, 'relations': 2987, 'bonds': 2988, 'games': 2989, '61': 2990, 'mcdonnell': 2991, 'immigrationif': 2992, 'efficiency': 2993, 'elderly': 2994, 'talked': 2995, 'perhaps': 2996, 'kerry': 2997, 'conduct': 2998, 'affecting': 2999, 'earlier': 3000, 'corpor': 3001, 'democracy': 3002, 'join': 3003, 'ultrasound': 3004, 'rely': 3005, 'compensation': 3006, 'federalbudgetu': 3007, 'unfair': 3008, 'degrees': 3009, 'consume': 3010, 'workman': 3011, 'occurred': 3012, 'whatever': 3013, 'repair': 3014, 'trees': 3015, 'uninsur': 3016, 'reed': 3017, 'farmers': 3018, 'fat': 3019, 'relatively': 3020, 'immigrationi': 3021, 'newspaper': 3022, '1968': 3023, 'oversaw': 3024, 'busiest': 3025, 'refusing': 3026, 'deb': 3027, 'illness': 3028, 'admitted': 3029, 'insider': 3030, 'revealed': 3031, 'sue': 3032, 'crists': 3033, 'tradethe': 3034, '18000': 3035, 'doubledigit': 3036, 'gam': 3037, 'sense': 3038, 'improving': 3039, 'jobsif': 3040, 'ris': 3041, 'role': 3042, 'historyin': 3043, 'federalbudgetunder': 3044, 'minor': 3045, 'network': 3046, 'target': 3047, 'rice': 3048, 'alternative': 3049, 'experienced': 3050, 'activist': 3051, 'generates': 3052, 'gunfire': 3053, 'skipped': 3054, 'kelly': 3055, 'industries': 3056, 'toxic': 3057, 'achs': 3058, 'mans': 3059, 'representative': 3060, 'draw': 3061, 'speak': 3062, 'river': 3063, 'import': 3064, 'rand': 3065, 'magazine': 3066, 'specific': 3067, 'impossible': 3068, 'mandated': 3069, 'faculty': 3070, 'votingrecordthe': 3071, 'lots': 3072, '42000': 3073, 'addam': 3074, 'facilities': 3075, 'example': 3076, 'correct': 3077, 'virus': 3078, 'cold': 3079, 'nj': 3080, 'richard': 3081, '73': 3082, 'vehicles': 3083, 'statebudgetwisconsin': 3084, 'energyon': 3085, 'visitors': 3086, 'coalition': 3087, 'prisons': 3088, 'cuccinelli': 3089, 'candidatesbiographybarack': 3090, 'purchasing': 3091, 'expense': 3092, 'meek': 3093, 'polling': 3094, 'beat': 3095, 'statebudgetwhen': 3096, 'putin': 3097, 'abus': 3098, 'treasurer': 3099, 'financialregulationthe': 3100, 'respect': 3101, 'maggie': 3102, 'corruption': 3103, 'smoking': 3104, 'bans': 3105, 'implementation': 3106, 'behalf': 3107, 'sav': 3108, 'jr': 3109, 'onto': 3110, 'ua': 3111, 'recorded': 3112, 'ties': 3113, 'slush': 3114, 'statebudgetrick': 3115, 'anytime': 3116, 'till': 3117, '1973': 3118, 'onia': 3119, 'exceeded': 3120, 'tolls': 3121, '1500': 3122, 'pinellas': 3123, 'bit': 3124, 'ballots': 3125, 'electricity': 3126, 'sells': 3127, 'daily': 3128, 'consumers': 3129, 'paycheck': 3130, 'gunsthere': 3131, 'late': 3132, 'mo': 3133, 'fatalities': 3134, 'marta': 3135, 'southern': 3136, 'jobswisconsin': 3137, 'tampa': 3138, '2500': 3139, 'federalbudgetobama': 3140, 'overhead': 3141, 'waterboarding': 3142, 'audit': 3143, 'branch': 3144, 'lobbied': 3145, 'justic': 3146, 'decis': 3147, 'rising': 3148, 'lin': 3149, 'campaigns': 3150, 'charity': 3151, 'ohioans': 3152, 'rejected': 3153, 'tradeon': 3154, 'default': 3155, 'polit': 3156, 'wed': 3157, 'chuck': 3158, 'drone': 3159, 'greatest': 3160, 'kay': 3161, 'v': 3162, 'filed': 3163, 'analysis': 3164, 'collected': 3165, 'plastic': 3166, 'pete': 3167, 'forc': 3168, 'scholarships': 3169, 'rather': 3170, 'progressive': 3171, 'appeared': 3172, 'trickland': 3173, 'brady': 3174, 'solution': 3175, 'camera': 3176, 'violations': 3177, 'slashed': 3178, 'workersince': 3179, 'diseas': 3180, 'clunkers': 3181, 'adam': 3182, 'critical': 3183, 'utton': 3184, 'els': 3185, 'healthcareon': 3186, 'incom': 3187, 'babi': 3188, 'foreignpolicywhen': 3189, 'attended': 3190, 'missing': 3191, 'fail': 3192, 'version': 3193, 'begich': 3194, 'baucus': 3195, 'faced': 3196, 'reforms': 3197, 'frankly': 3198, 'federalbudgetif': 3199, '52': 3200, 'academic': 3201, 'restrictive': 3202, 'prime': 3203, 'entitlement': 3204, 'jones': 3205, 'tephen': 3206, 'pockets': 3207, 'nominees': 3208, 'ethicsthe': 3209, 'latest': 3210, 'oper': 3211, 'guaranteed': 3212, 'ruling': 3213, 'nationwide': 3214, 'cory': 3215, 'sponsor': 3216, 'degre': 3217, 'dealing': 3218, 'hamas': 3219, 'internal': 3220, 'statebudgetfor': 3221, 'healthcarebarack': 3222, 'stimulusince': 3223, 'workerson': 3224, 'smallest': 3225, 'bridg': 3226, 'persons': 3227, 'hospit': 3228, '140': 3229, 'panish': 3230, 'dating': 3231, 'main': 3232, 'forprofit': 3233, 'gwinnett': 3234, 'valley': 3235, 'gaspricesthe': 3236, 'cross': 3237, 'headquarters': 3238, 'proposition': 3239, 'abortionon': 3240, 'posted': 3241, 'refuses': 3242, 'deep': 3243, 'medicarewe': 3244, 'healthcarethere': 3245, 'energyif': 3246, 'strictest': 3247, '130000': 3248, 'recognize': 3249, 'whose': 3250, 'morning': 3251, 'trail': 3252, 'jobaccomplishmentswhen': 3253, 'terrorismwe': 3254, 'disast': 3255, 'expectancy': 3256, 'vehicle': 3257, 'taxesgov': 3258, 'patriot': 3259, '88': 3260, 'heavily': 3261, 'sick': 3262, 'avail': 3263, 'workersif': 3264, '1979': 3265, 'screen': 3266, 'francisco': 3267, 'trucks': 3268, 'nunn': 3269, 'talks': 3270, 'purchased': 3271, 'barrel': 3272, 'messagemachinewhen': 3273, 'transparencythe': 3274, 'exxon': 3275, 'finish': 3276, 'favors': 3277, 'exceeds': 3278, 'equipment': 3279, 'william': 3280, 'bureaucrat': 3281, 'holder': 3282, 'knowledge': 3283, 'resource': 3284, 'barrels': 3285, 'regulate': 3286, 'twic': 3287, 'dying': 3288, 'politifact': 3289, 'lies': 3290, 'applied': 3291, 'rebuild': 3292, 'statefinancesi': 3293, 'installed': 3294, 'provisional': 3295, 'taxesmy': 3296, 'creates': 3297, 'environmenta': 3298, 'aircraft': 3299, 'recognized': 3300, 'sheriffs': 3301, 'starting': 3302, 'expens': 3303, 'bas': 3304, 'considering': 3305, 'corridor': 3306, 'vaccines': 3307, 'pulled': 3308, 'risky': 3309, 'formula': 3310, 'felonies': 3311, 'lyndon': 3312, 'denying': 3313, 'dad': 3314, 'stronger': 3315, 'signing': 3316, 'chair': 3317, 'sess': 3318, 'li': 3319, 'filibuster': 3320, 'tevens': 3321, 'memorial': 3322, '93': 3323, 'referring': 3324, 'carolinas': 3325, 'gerald': 3326, 'match': 3327, 'billionaire': 3328, 'marriageon': 3329, 'consent': 3330, 'par': 3331, 'reproductive': 3332, 'abusers': 3333, 'propos': 3334, 'stayed': 3335, 'elimin': 3336, 'treatments': 3337, 'wasteful': 3338, 'dick': 3339, 'weatherays': 3340, 'flood': 3341, '201113': 3342, 'toomey': 3343, 'shouldnt': 3344, 'boys': 3345, 'base': 3346, 'jobaccomplishmentsas': 3347, 'reelect': 3348, 'shutting': 3349, 'violation': 3350, 'publicsafetyin': 3351, 'throw': 3352, 'ten': 3353, 'pink': 3354, 'kitzhaber': 3355, 'secure': 3356, 'farms': 3357, 'reality': 3358, 'whatsoever': 3359, 'prostate': 3360, 'civilian': 3361, 'genetically': 3362, 'modified': 3363, 'doyle': 3364, 'joanne': 3365, 'charg': 3366, 'totaling': 3367, 'peak': 3368, 'solutions': 3369, 'victory': 3370, 'bunch': 3371, 'lineitem': 3372, 'environmenton': 3373, 'yemen': 3374, 'situation': 3375, 'obamabirthcertificateays': 3376, 'export': 3377, 'ammunition': 3378, 'permanently': 3379, 'bars': 3380, 'documented': 3381, 'pray': 3382, 'pat': 3383, 'statebudgeton': 3384, 'port': 3385, 'requirements': 3386, 'followed': 3387, 'declaration': 3388, 'pet': 3389, 'terry': 3390, 'youll': 3391, 'accumulated': 3392, 'particularly': 3393, 'bonus': 3394, 'write': 3395, 'mile': 3396, '90000': 3397, 'parttime': 3398, 'crimewe': 3399, '1981': 3400, 'truck': 3401, 'leads': 3402, 'illnesses': 3403, 'taxesevery': 3404, 'negotiating': 3405, 'candidatesbiographyay': 3406, 'marcy': 3407, 'kaptur': 3408, 'socialists': 3409, 'threatens': 3410, 'entirely': 3411, 'potentially': 3412, 'society': 3413, 'returning': 3414, 'las': 3415, 'environmentwe': 3416, 'halfway': 3417, 'bennet': 3418, 'grand': 3419, 'towns': 3420, 'bipartisanshipays': 3421, 'environmentin': 3422, 'russian': 3423, 'walked': 3424, 'unit': 3425, 'israeli': 3426, 'miamidade': 3427, 'choices': 3428, '70000': 3429, 'faith': 3430, 'sequest': 3431, 'proof': 3432, 'kidnapping': 3433, 'older': 3434, 'illegals': 3435, 'stated': 3436, 'federalbudgeta': 3437, 'jobsduring': 3438, 'involve': 3439, 'round': 3440, 'californias': 3441, 'healthcarewhen': 3442, 'outrageous': 3443, 'pol': 3444, 'congressionalrulesays': 3445, 'acting': 3446, 'appeals': 3447, 'figures': 3448, 'regular': 3449, 'enter': 3450, 'regarding': 3451, 'addiction': 3452, 'perfect': 3453, 'blow': 3454, 'presided': 3455, 'era': 3456, '28000': 3457, 'providers': 3458, 'prop': 3459, 'toughest': 3460, 'tre': 3461, 'egypt': 3462, 'choic': 3463, 'beef': 3464, 'teen': 3465, 'contraception': 3466, 'permission': 3467, 'adds': 3468, 'billiondollar': 3469, 'input': 3470, 'mayors': 3471, '110': 3472, 'comments': 3473, '1700': 3474, 'jobson': 3475, 'automobile': 3476, 'kathleen': 3477, 'rol': 3478, 'secondhighest': 3479, 'obesity': 3480, 'gen': 3481, 'pollsin': 3482, 'established': 3483, 'fulton': 3484, 'workersas': 3485, 'directed': 3486, 'disproportionately': 3487, 'socialsecuritythe': 3488, 'link': 3489, 'dogs': 3490, 'dane': 3491, 'adviser': 3492, 'onetenth': 3493, 'catherine': 3494, 'cortez': 3495, 'masto': 3496, 'historyi': 3497, 'whats': 3498, 'taxesfor': 3499, 'authorize': 3500, 'exports': 3501, 'rapists': 3502, 'taxesamericans': 3503, 'clothing': 3504, 'compact': 3505, 'downtown': 3506, 'terrorismthere': 3507, 'refuge': 3508, 'perpupil': 3509, 'facts': 3510, 'figure': 3511, 'operate': 3512, 'relationship': 3513, 'enemi': 3514, 'meaning': 3515, 'prosecution': 3516, 'votingrecordon': 3517, 'requir': 3518, 'lynch': 3519, 'promote': 3520, 'unionsthe': 3521, 'recoveri': 3522, 'terrorismit': 3523, 'puerto': 3524, 'buono': 3525, 'wives': 3526, 'battlefield': 3527, 'committees': 3528, 'regard': 3529, 'religionobama': 3530, 'pupil': 3531, 'jobsnew': 3532, 'burr': 3533, 'cod': 3534, 'bought': 3535, 'workerswomen': 3536, 'innocent': 3537, '716': 3538, 'flu': 3539, 'healthcareu': 3540, 'contribut': 3541, 'actively': 3542, 'environ': 3543, 'escaped': 3544, 'prisoners': 3545, 'williams': 3546, 'cdc': 3547, 'columbia': 3548, 'remember': 3549, 'workerswisconsin': 3550, 'wisconsinites': 3551, 'min': 3552, 'warner': 3553, 'vladimir': 3554, 'abele': 3555, 'initiative': 3556, '10th': 3557, '1978': 3558, 'healthcareevery': 3559, 'cliff': 3560, 'courts': 3561, 'prosecutors': 3562, 'nurses': 3563, 'madison': 3564, 'finally': 3565, 'kurt': 3566, 'inaction': 3567, 'tech': 3568, 'wounded': 3569, 'statebudgetgov': 3570, 'milwauke': 3571, 'newhampshire2012the': 3572, 'cornyn': 3573, 'funneled': 3574, 'chosen': 3575, 'utah': 3576, 'reids': 3577, 'crimin': 3578, 'cantor': 3579, 'events': 3580, 'opponents': 3581, 'damage': 3582, 'chamber': 3583, 'violated': 3584, 'calling': 3585, 'technologythe': 3586, 'cotton': 3587, 'mission': 3588, 'holds': 3589, 'canceled': 3590, 'eptember': 3591, 'cia': 3592, 'popcultureays': 3593, 'european': 3594, 'becomes': 3595, 'returned': 3596, 'federalbudgeton': 3597, 'treasury': 3598, 'toll': 3599, 'smallbusinessays': 3600, 'sessions': 3601, 'supplies': 3602, 'defend': 3603, 'lemieux': 3604, 'terrorismwhen': 3605, 'search': 3606, 'bett': 3607, 'destroyed': 3608, 'mess': 3609, 'champion': 3610, 'planning': 3611, 'boston': 3612, '25000': 3613, 'reasons': 3614, 'marijuanaays': 3615, 'enrollment': 3616, 'turning': 3617, 'foreignpolicyin': 3618, 'attempt': 3619, '2017': 3620, 'lands': 3621, '76': 3622, '1010': 3623, 'complete': 3624, 'spokesman': 3625, 'regulating': 3626, 'error': 3627, 'happens': 3628, 'guilty': 3629, '87': 3630, 'employed': 3631, 'animal': 3632, 'structural': 3633, 'accid': 3634, 'huckabee': 3635, 'leaves': 3636, 'healthcarebecause': 3637, 'safest': 3638, 'connection': 3639, 'quit': 3640, 'treated': 3641, 'energya': 3642, 'cornilles': 3643, 'retired': 3644, 'paper': 3645, 'nowher': 3646, 'suggest': 3647, 'confirmation': 3648, 'elimination': 3649, 'weatherthe': 3650, 'fundraising': 3651, 'dependence': 3652, 'womena': 3653, 'fields': 3654, 'sentences': 3655, 'vegas': 3656, 'october': 3657, 'abortionthe': 3658, 'theft': 3659, 'latinos': 3660, 'russians': 3661, 'maintained': 3662, 'ceos': 3663, 'exam': 3664, 'cuban': 3665, 'conserv': 3666, 'organized': 3667, 'tells': 3668, 'table': 3669, 'participate': 3670, 'preventable': 3671, 'murd': 3672, 'ninth': 3673, 'mith': 3674, 'usage': 3675, 'birthright': 3676, 'proficiency': 3677, 'regime': 3678, 'anchor': 3679, 'angeles': 3680, 'investigated': 3681, 'rally': 3682, 'mail': 3683, 'fundraiser': 3684, 'consider': 3685, 'degree': 3686, 'korean': 3687, 'medicarepresident': 3688, 'lay': 3689, 'touch': 3690, 'sal': 3691, 'behavior': 3692, 'restrict': 3693, 'firm': 3694, 'protest': 3695, 'posit': 3696, 'suffered': 3697, 'jobsour': 3698, 'socialsecuritywhen': 3699, 'metropolitan': 3700, 'stateswisconsin': 3701, 'gm': 3702, 'wildlife': 3703, 'approach': 3704, 'summer': 3705, 'salari': 3706, 'rigs': 3707, 'precedent': 3708, 'thom': 3709, 'tillis': 3710, 'kicked': 3711, 'prevents': 3712, 'elective': 3713, 'backlog': 3714, 'oregonians': 3715, 'participation': 3716, 'gunsmore': 3717, 'love': 3718, 'expire': 3719, 'corn': 3720, 'switched': 3721, 'marquette': 3722, 'annu': 3723, 'admit': 3724, 'countybudgetays': 3725, 'healthcaremore': 3726, 'ept': 3727, 'benjamin': 3728, 'slavery': 3729, 'gutted': 3730, 'legitimate': 3731, 'iranians': 3732, 'oldest': 3733, 'bain': 3734, 'tested': 3735, 'rural': 3736, 'ord': 3737, 'ukraine': 3738, 'sworn': 3739, 'paris': 3740, 'native': 3741, 'trafficking': 3742, 'measles': 3743, 'birther': 3744, 'fed': 3745, 'comprehensive': 3746, 'gang': 3747, 'daughter': 3748, 'fung': 3749, 'suspend': 3750, 'homeowners': 3751, 'ordinance': 3752, 'firms': 3753, 'religionthere': 3754, 'povertyince': 3755, 'racial': 3756, 'makeup': 3757, 'skyrocket': 3758, '45th': 3759, 'establishment': 3760, 'horse': 3761, 'marry': 3762, 'switch': 3763, 'trategic': 3764, 'dealer': 3765, 'creator': 3766, 'burkes': 3767, '1995': 3768, 'conference': 3769, 'piec': 3770, 'ineffective': 3771, 'incentives': 3772, 'chapter': 3773, 'kander': 3774, 'commissioners': 3775, 'religionin': 3776, 'contain': 3777, 'cnn': 3778, 'secretari': 3779, 'messagemachineas': 3780, 'healthcareaccording': 3781, 'wound': 3782, 'subsidized': 3783, 'criticizing': 3784, 'argued': 3785, 'merit': 3786, 'mate': 3787, 'surrounding': 3788, 'temporary': 3789, '15th': 3790, 'crimethere': 3791, 'stateswe': 3792, 'raid': 3793, '350000': 3794, 'infant': 3795, 'ralph': 3796, 'cat': 3797, 'investigate': 3798, 'tap': 3799, 'indeed': 3800, 'floridaays': 3801, 'todays': 3802, 'militarya': 3803, 'recruiting': 3804, 'prohibit': 3805, 'shift': 3806, 'pm': 3807, 'homosexual': 3808, 'poss': 3809, 'averaged': 3810, 'federalbudgetour': 3811, 'opened': 3812, 'paychecks': 3813, 'chairs': 3814, 'lenders': 3815, 'resulting': 3816, 'wins': 3817, 'transportationthere': 3818, 'ultrasounds': 3819, 'seems': 3820, 'offering': 3821, 'columbiahca': 3822, 'curbelo': 3823, 'inperson': 3824, '1985': 3825, 'bible': 3826, 'economist': 3827, 'accommodate': 3828, 'taxesweve': 3829, 'stolen': 3830, 'turnpike': 3831, 'engage': 3832, 'bradley': 3833, 'reduces': 3834, 'entering': 3835, 'gunsflorida': 3836, 'chafee': 3837, 'du': 3838, 'expect': 3839, 'hivaid': 3840, 'massachusett': 3841, 'brand': 3842, 'prostitutes': 3843, 'mammograms': 3844, 'barred': 3845, 'substantially': 3846, 'purpose': 3847, 'discussed': 3848, 'hurd': 3849, 'division': 3850, 'loaded': 3851, 'authorizing': 3852, 'bicycle': 3853, 'ethicsobama': 3854, 'weather': 3855, 'repeated': 3856, 'anybodys': 3857, 'reversed': 3858, 'twitter': 3859, 'administrative': 3860, 'blank': 3861, 'goods': 3862, 'economya': 3863, 'forms': 3864, 'auditor': 3865, 'welfarewhen': 3866, 'cheney': 3867, 'warr': 3868, 'naturaldisasters': 3869, 'bullets': 3870, 'impl': 3871, 'todd': 3872, 'iraqfirst': 3873, '4th': 3874, 'mismanaged': 3875, 'rig': 3876, 'respected': 3877, 'possession': 3878, 'processed': 3879, '79': 3880, 'statement': 3881, 'choos': 3882, 'publ': 3883, 'google': 3884, 'marketregulationwe': 3885, '120': 3886, 'strategy': 3887, 'taxesafter': 3888, 'steadily': 3889, 'parent': 3890, 'slashing': 3891, 'joni': 3892, 'ernst': 3893, 'diversityays': 3894, 'repres': 3895, 'anyth': 3896, 'streetcar': 3897, 'crossings': 3898, 'electoral': 3899, 'militaryin': 3900, 'operation': 3901, 'missile': 3902, 'perform': 3903, 'music': 3904, 'kirk': 3905, 'complicated': 3906, 'aaa': 3907, 'administrator': 3908, 'hawaii': 3909, 'certificate': 3910, 'whitman': 3911, 'whatsoev': 3912, 'proposes': 3913, 'ok': 3914, 'brazil': 3915, 'defending': 3916, 'processing': 3917, 'legalissuesunder': 3918, 'visits': 3919, 'docu': 3920, 'ranking': 3921, 'limited': 3922, 'shop': 3923, 'whopping': 3924, 'federalbudgetwhen': 3925, 'james': 3926, 'abraham': 3927, 'veteransthe': 3928, 'abcnewsweekwe': 3929, 'statistically': 3930, 'votingrecordu': 3931, 'acted': 3932, '1913': 3933, 'statebudgetvirginia': 3934, '89': 3935, 'jobsevery': 3936, 'governmentregulationays': 3937, 'paytoplay': 3938, 'bombing': 3939, 'managers': 3940, 'repaid': 3941, 'ore': 3942, 'pregnancies': 3943, 'counting': 3944, 'dim': 3945, 'otherwise': 3946, 'loophol': 3947, 'exact': 3948, 'kucinich': 3949, 'energyobama': 3950, 'screening': 3951, 'agricultural': 3952, 'attention': 3953, 'brat': 3954, 'hardly': 3955, 'replaced': 3956, 'wake': 3957, 'borrows': 3958, 'protests': 3959, 'handguns': 3960, 'contracept': 3961, 'possibly': 3962, 'quickly': 3963, 'officially': 3964, 'tourismthe': 3965, 'solely': 3966, 'stores': 3967, 'nonviolent': 3968, 'thre': 3969, 'analysts': 3970, 'giuliani': 3971, 'mosque': 3972, 'environmenti': 3973, '180000': 3974, 'deported': 3975, 'ethicsin': 3976, 'gain': 3977, 'inherit': 3978, 'placed': 3979, 'mothers': 3980, 'weak': 3981, 'contained': 3982, 'procedure': 3983, 'december': 3984, 'existed': 3985, 'sooner': 3986, 'fatal': 3987, 'prosperity': 3988, 'rock': 3989, 'peace': 3990, 'investors': 3991, 'vacant': 3992, 'statebudgetif': 3993, 'economyince': 3994, 'cheaper': 3995, 'arrests': 3996, 'unsafe': 3997, 'eat': 3998, 'electionsdemocrats': 3999, 'secondlargest': 4000, 'neither': 4001, '66': 4002, 'kasim': 4003, 'resident': 4004, 'undergo': 4005, 'iraqbarack': 4006, 'league': 4007, 'campaignadvertisingthe': 4008, 'secretly': 4009, 'sometime': 4010, 'tank': 4011, 'garcia': 4012, 'bail': 4013, 'relative': 4014, 'clackamas': 4015, 'messagemachine2012because': 4016, 'prescribed': 4017, 'pawlenty': 4018, 'bachmann': 4019, 'score': 4020, 'policemen': 4021, 'bid': 4022, 'traditional': 4023, 'taliban': 4024, 'bowe': 4025, 'bergdahl': 4026, 'arena': 4027, 'withdrawal': 4028, 'players': 4029, 'mens': 4030, 'foreignpolicya': 4031, 'peter': 4032, 'fil': 4033, 'reductions': 4034, 'lowered': 4035, 'cor': 4036, 'bermuda': 4037, 'confederate': 4038, 'promis': 4039, 'playing': 4040, 'prosecutor': 4041, 'taxesyou': 4042, 'ethicson': 4043, 'espionage': 4044, 'desk': 4045, 'petraeus': 4046, 'kuster': 4047, 'revolution': 4048, 'finished': 4049, 'warmer': 4050, 'print': 4051, 'taxesdemocrats': 4052, 'institut': 4053, 'rises': 4054, 'tougher': 4055, 'pursue': 4056, 'tape': 4057, 'foreignpolicyon': 4058, 'establish': 4059, 'mov': 4060, 'workersmore': 4061, 'nh': 4062, 'steel': 4063, 'producing': 4064, 'educational': 4065, 'buchanan': 4066, 'vs': 4067, 'healthcarejohn': 4068, 'crimea': 4069, 'cats': 4070, 'art': 4071, 'lois': 4072, 'superintendent': 4073, 'execut': 4074, 'clinics': 4075, 'gunsince': 4076, 'rebecca': 4077, 'com': 4078, 'temperature': 4079, 'cruzs': 4080, 'catholic': 4081, 'institution': 4082, 'goldman': 4083, 'energyi': 4084, 'independence': 4085, 'impsonbowles': 4086, 'negotiate': 4087, 'stimuluspresident': 4088, 'olyndra': 4089, 'bankruptci': 4090, 'co2': 4091, 'educationa': 4092, 'spoken': 4093, 'outheast': 4094, 'womenmore': 4095, 'graduating': 4096, 'pool': 4097, 'ince': 4098, 'barelytrue': 4099, 'regardless': 4100, 'oilspillays': 4101, 'daniel': 4102, 'clubs': 4103, 'rifl': 4104, 'cheap': 4105, 'earns': 4106, 'identified': 4107, 'camp': 4108, 'adopt': 4109, 'hardearned': 4110, 'governmentregulationthe': 4111, 'terrorismi': 4112, 'collaps': 4113, 'il': 4114, 'middleincome': 4115, 'energywere': 4116, 'marijuanathe': 4117, 'denver': 4118, 'johnsons': 4119, 'sends': 4120, 'effectively': 4121, 'mismanagement': 4122, 'expans': 4123, 'punditsunder': 4124, 'unilaterally': 4125, 'rec': 4126, 'qaeda': 4127, 'electionsjohn': 4128, 'millionaire': 4129, 'sexually': 4130, 'draft': 4131, 'newport': 4132, 'haiti': 4133, 'renewal': 4134, 'dental': 4135, 'trad': 4136, 'messagemachinethe': 4137, 'ens': 4138, 'receives': 4139, 'wipe': 4140, 'overturning': 4141, 'claimed': 4142, 'taxation': 4143, 'delays': 4144, 'filling': 4145, '107': 4146, 'transgender': 4147, 'practices': 4148, 'chrader': 4149, 'reflect': 4150, 'happy': 4151, 'buying': 4152, 'consumption': 4153, 'calendar': 4154, 'mixed': 4155, 'jobaccomplishmentshe': 4156, 'iraqobama': 4157, 'births': 4158, 'surviving': 4159, 'pop': 4160, 'deficitays': 4161, 'inmate': 4162, 'municipal': 4163, 'disney': 4164, 'believed': 4165, 'hemp': 4166, '1982': 4167, '1986': 4168, 'gr': 4169, 'vacancy': 4170, 'electionsthere': 4171, 'cycle': 4172, 'taxesproperty': 4173, 'corrections': 4174, 'surveys': 4175, 'welfarea': 4176, 'abolishing': 4177, 'federalbudgetfor': 4178, 'abcnewsweekin': 4179, 'orlando': 4180, 'supremecourton': 4181, 'racist': 4182, 'historythis': 4183, 'bench': 4184, 'rare': 4185, 'coalfired': 4186, 'practic': 4187, 'bracket': 4188, 'rushed': 4189, 'phil': 4190, 'moratorium': 4191, 'asking': 4192, 'cannon': 4193, 'bomb': 4194, 'task': 4195, 'spike': 4196, 'socialized': 4197, 'medicin': 4198, 'candidatesbiographywhen': 4199, 'boeing': 4200, 'factory': 4201, 'countybudgetthe': 4202, 'immigrationrick': 4203, 'mentally': 4204, 'hutchison': 4205, 'ensure': 4206, 'dies': 4207, 'moder': 4208, 'marketregulationnew': 4209, 'file': 4210, 'fathers': 4211, '650': 4212, 'progress': 4213, 'ways': 4214, 'ri': 4215, 'unday': 4216, 'negotiated': 4217, 'terrorismyou': 4218, 'statebudgetince': 4219, 'povertyif': 4220, 'messagemachine2012president': 4221, 'precinct': 4222, 'statefinanceswhen': 4223, 'submitted': 4224, 'donor': 4225, 'sun': 4226, 'attributed': 4227, 'truman': 4228, 'chances': 4229, 'restoration': 4230, 'panels': 4231, 'competitive': 4232, 'parole': 4233, 'museum': 4234, 'suspects': 4235, 'aflcio': 4236, 'banking': 4237, 'sat': 4238, 'convent': 4239, 'strongest': 4240, 'pocketed': 4241, 'stimulusin': 4242, 'sic': 4243, 'unprecedented': 4244, 'immigrationphoenix': 4245, '7000': 4246, 'amtrak': 4247, 'fluorescent': 4248, 'minute': 4249, 'promoting': 4250, 'secondmost': 4251, 'hampshir': 4252, 'purge': 4253, 'deliberately': 4254, 'winter': 4255, '1997': 4256, '45000': 4257, 'pocket': 4258, 'register': 4259, 'imposed': 4260, 'pascrell': 4261, 'okay': 4262, 'delegation': 4263, 'prosecute': 4264, 'various': 4265, 'braves': 4266, 'federalbudgeti': 4267, 'meant': 4268, 'wonder': 4269, 'smallbusinessthe': 4270, 'square': 4271, 'sudden': 4272, 'bailey': 4273, 'driv': 4274, 'pill': 4275, 'mil': 4276, 'anniversary': 4277, 'founders': 4278, 'petersburg': 4279, 'safer': 4280, '14000': 4281, 'federalbudgetin': 4282, 'jerry': 4283, 'unpaid': 4284, 'fines': 4285, 'convictions': 4286, 'recommended': 4287, 'exemption': 4288, 'fell': 4289, 'texting': 4290, 'ebay': 4291, 'bushera': 4292, 'physically': 4293, 'present': 4294, 'whit': 4295, 'educationflorida': 4296, 'crossed': 4297, 'skills': 4298, 'iraqays': 4299, 'mom': 4300, 'codes': 4301, 'threatening': 4302, 'wasted': 4303, 'spoke': 4304, 'petition': 4305, 'bears': 4306, 'churches': 4307, 'non': 4308, 'workersevery': 4309, 'publicsafetythere': 4310, 'seriously': 4311, 'consistent': 4312, 'housingthe': 4313, 'gingrichs': 4314, 'mahmoud': 4315, 'hasner': 4316, 'jobkilling': 4317, 'dealers': 4318, 'fly': 4319, 'betty': 4320, 'controlled': 4321, 'iraqen': 4322, 'girl': 4323, 'economyjohn': 4324, 'treaties': 4325, 'views': 4326, 'julie': 4327, 'langevin': 4328, 'martial': 4329, 'vehicl': 4330, 'mandating': 4331, 'deleted': 4332, 'elderli': 4333, 'forest': 4334, 'host': 4335, 'contributing': 4336, 'cart': 4337, 'taxeshillary': 4338, 'dedicated': 4339, 'lacks': 4340, 'improved': 4341, 'iraqthe': 4342, 'billionair': 4343, 'manag': 4344, 'chaired': 4345, 'condition': 4346, 'injuries': 4347, 'releasing': 4348, 'jobsover': 4349, 'jobaccomplishmentsi': 4350, 'familiesays': 4351, 'ongoing': 4352, 'drinks': 4353, 'inform': 4354, 'flight': 4355, 'vaccin': 4356, 'ice': 4357, 'ranch': 4358, 'plot': 4359, 'formed': 4360, 'fetus': 4361, 'kicking': 4362, 'uborn': 4363, 'devastating': 4364, 'waited': 4365, 'wine': 4366, 'burn': 4367, 'concerns': 4368, 'legislator': 4369, 'mexicans': 4370, 'immigrationmore': 4371, '46th': 4372, 'gunsyou': 4373, 'barrow': 4374, 'library': 4375, 'stimulusthere': 4376, 'destruction': 4377, 'sport': 4378, 'developers': 4379, 'spouses': 4380, 'pastor': 4381, 'assets': 4382, 'inspect': 4383, 'fla': 4384, 'instances': 4385, 'responding': 4386, 'ullivan': 4387, 'enroll': 4388, 'sort': 4389, 'embargo': 4390, 'sewer': 4391, '850000': 4392, 'fishing': 4393, '02': 4394, 'maternity': 4395, 'netanyahu': 4396, 'criminaljusticewe': 4397, 'professional': 4398, 'tudy': 4399, 'rescue': 4400, 'freeway': 4401, 'explicitly': 4402, 'shrink': 4403, 'certif': 4404, 'engaged': 4405, 'federalbudgetgeorge': 4406, '1100': 4407, 'objective': 4408, 'nonprofit': 4409, 'son': 4410, 'messagemachine2012in': 4411, 'demanded': 4412, 'uniforms': 4413, 'storm': 4414, 'removing': 4415, 'wel': 4416, 'taxesbill': 4417, 'confirms': 4418, 'jennifer': 4419, 'taxesgeorgia': 4420, 'priorities': 4421, 'ahmadinejad': 4422, 'economyi': 4423, 'menendez': 4424, 'oros': 4425, 'equality': 4426, 'upcoming': 4427, 'founded': 4428, 'uk': 4429, 'harbor': 4430, 'identify': 4431, 'lifted': 4432, 'healthcarewith': 4433, 'engaging': 4434, 'candidatesbiographymarco': 4435, 'aside': 4436, 'homicide': 4437, 'falling': 4438, 'scientific': 4439, 'togeth': 4440, 'movement': 4441, 'handing': 4442, 'highly': 4443, 'penalti': 4444, 'definition': 4445, 'statebudgetas': 4446, 'dairy': 4447, 'responded': 4448, 'comply': 4449, 'immigrationweve': 4450, 'interstate': 4451, 'cheating': 4452, 'candidatesbiographyobama': 4453, 'practice': 4454, 'historical': 4455, 'difficult': 4456, 'foreignpolicymccain': 4457, 'numerous': 4458, 'henry': 4459, 'tweeted': 4460, 'coach': 4461, 'relocate': 4462, 'rapes': 4463, 'allan': 4464, 'workplace': 4465, 'answer': 4466, 'falls': 4467, 'messagemachine2012as': 4468, 'disabilities': 4469, 'enrollee': 4470, 'slaves': 4471, 'legalissueswhen': 4472, 'rightwing': 4473, 'erie': 4474, 'overturn': 4475, 'endorsement': 4476, 'dictator': 4477, 'immigrationwhen': 4478, 'jobsafter': 4479, 'roof': 4480, 'speaking': 4481, 'author': 4482, 'properties': 4483, 'gunsi': 4484, 'junket': 4485, 'workersunder': 4486, 'custody': 4487, 'remaining': 4488, 'controls': 4489, 'germany': 4490, 'statesgeorgia': 4491, 'healthcareits': 4492, 'lists': 4493, 'pants': 4494, 'nazis': 4495, 'justify': 4496, 'genocide': 4497, 'paperwork': 4498, '190': 4499, 'mistake': 4500, '175': 4501, 'transportationone': 4502, 'publichealthin': 4503, 'physicians': 4504, 'federally': 4505, 'conservation': 4506, 'educationthis': 4507, 'pollsif': 4508, 'brok': 4509, 'legalissuesmy': 4510, 'womennearly': 4511, 'statebudgetflorida': 4512, 'employ': 4513, 'powers': 4514, 'carries': 4515, 'debtunder': 4516, 'marriagethe': 4517, 'marshall': 4518, 'charles': 4519, '115': 4520, 'stole': 4521, 'petroleum': 4522, 'worldwide': 4523, 'occupy': 4524, 'acts': 4525, 'gunsunder': 4526, '59': 4527, 'foster': 4528, 'nam': 4529, 'promising': 4530, 'jason': 4531, 'skipping': 4532, 'predators': 4533, 'educations': 4534, 'suspended': 4535, 'pensionsays': 4536, 'apologize': 4537, 'statesince': 4538, 'groceries': 4539, 'educationince': 4540, 'taxeswhile': 4541, 'hardworking': 4542, 'pharmacists': 4543, 'maine': 4544, 'vermont': 4545, 'admission': 4546, 'wyoming': 4547, '43rd': 4548, 'mort': 4549, 'tune': 4550, 'fleet': 4551, 'republicancontrolled': 4552, 'advis': 4553, 'transparent': 4554, 'negoti': 4555, 'statebudgetcharlie': 4556, 'taxeslast': 4557, 'publicserviceays': 4558, 'messagemachine2012newt': 4559, 'brutal': 4560, 'onechild': 4561, 'relies': 4562, 'messagemachine2014in': 4563, 'constant': 4564, '1960s': 4565, 'lift': 4566, 'finland': 4567, 'discussing': 4568, 'obsolete': 4569, '18th': 4570, 'items': 4571, 'brain': 4572, 'distributed': 4573, 'bailouts': 4574, 'energymccain': 4575, 'nowhere': 4576, 'trends': 4577, '155': 4578, 'liberals': 4579, 'obamabirthcertificatethe': 4580, 'stabilize': 4581, 'discovered': 4582, 'causing': 4583, 'helby': 4584, 'merger': 4585, 'foreignpolicybarack': 4586, 'apology': 4587, 'defens': 4588, 'wilson': 4589, 'homelessness': 4590, 'fights': 4591, 'candidatesbiographytheres': 4592, '21st': 4593, 'van': 4594, 'drawn': 4595, 'taxespresident': 4596, 'contributes': 4597, 'trayvon': 4598, 'immigrationnearly': 4599, 'obtained': 4600, 'marines': 4601, 'watching': 4602, 'tuesday': 4603, 'cov': 4604, 'wic': 4605, 'incredibly': 4606, 'tow': 4607, 'stating': 4608, 'jolly': 4609, 'kenosha': 4610, 'solitary': 4611, 'messagemachine2012under': 4612, 'innovation': 4613, 'thanksgiving': 4614, 'increasingly': 4615, 'heriff': 4616, '2nd': 4617, 'leases': 4618, 'gunson': 4619, 'eclipse': 4620, 'predatory': 4621, '136': 4622, 'tradeour': 4623, 'cops': 4624, 'robbery': 4625, 'ages': 4626, 'punditsmitt': 4627, 'urged': 4628, 'postal': 4629, 'covering': 4630, 'lightning': 4631, 'textbook': 4632, 'youd': 4633, 'traff': 4634, 'publichealththere': 4635, 'phon': 4636, 'fails': 4637, 'rug': 4638, 'finds': 4639, 'waiver': 4640, 'appropriately': 4641, 'prekindergarten': 4642, 'substance': 4643, 'primarily': 4644, '168': 4645, 'outherland': 4646, 'declaring': 4647, 'healthcarerick': 4648, 'referred': 4649, 'addition': 4650, 'factories': 4651, 'lending': 4652, 'killer': 4653, 'reporting': 4654, 'pledg': 4655, 'taxeswisconsin': 4656, 'endorsing': 4657, 'anymor': 4658, 'fundrais': 4659, 'hospitality': 4660, 'noncitizens': 4661, 'deeper': 4662, 'erased': 4663, 'religionif': 4664, 'enjoying': 4665, 'harvard': 4666, 'jobsfor': 4667, 'attempts': 4668, 'electionstheres': 4669, 'discriminating': 4670, 'lawyers': 4671, 's': 4672, 'reliable': 4673, 'ride': 4674, 'daugherty': 4675, 'filing': 4676, 'twoyear': 4677, 'moth': 4678, 'carcieri': 4679, 'honor': 4680, 'jobaccomplishmentswe': 4681, 'youtube': 4682, 'connected': 4683, 'parking': 4684, 'lifetime': 4685, 'drill': 4686, 'socialsecurityon': 4687, 'romneyryan': 4688, 'damaging': 4689, 'candidatesbiographyim': 4690, 'maryland': 4691, 'womenunder': 4692, 'exempts': 4693, 'fuels': 4694, 'rejecting': 4695, 'habits': 4696, 'turkey': 4697, 'zip': 4698, 'midterm': 4699, '145': 4700, 'bed': 4701, 'taxestom': 4702, 'ganley': 4703, 'counterpart': 4704, 'trailing': 4705, 'convert': 4706, 'store': 4707, 'matters': 4708, 'medal': 4709, 'colleagues': 4710, 'garbag': 4711, 'portmans': 4712, 'slash': 4713, 'holes': 4714, 'taxesobamacare': 4715, 'harassment': 4716, 'blamed': 4717, 'sacrificed': 4718, 'flawed': 4719, 'p': 4720, 'define': 4721, 'kloppenburg': 4722, 'mountain': 4723, 'militarymore': 4724, 'diverse': 4725, 'prek': 4726, 'exportimport': 4727, '51000': 4728, '930': 4729, 'boots': 4730, 'outlined': 4731, 'oilspillon': 4732, 'messagemachine2014ays': 4733, 'cruise': 4734, 'heterosexual': 4735, 'kim': 4736, 'arts': 4737, 'rein': 4738, 'everify': 4739, 'audis': 4740, 'schedule': 4741, 'popculturethe': 4742, 'rifles': 4743, 'patdown': 4744, 'procedures': 4745, 'czar': 4746, 'fairness': 4747, 'ethicsim': 4748, 'glad': 4749, 'defined': 4750, 'statebudgettwo': 4751, 'strongly': 4752, 'bargain': 4753, 'beneficiari': 4754, 'rulings': 4755, 'thrown': 4756, 'mae': 4757, 'regional': 4758, 'estak': 4759, 'runs': 4760, 'manipulated': 4761, 'appear': 4762, 'deporting': 4763, 'preschool': 4764, 'palm': 4765, 'libertarian': 4766, 'angry': 4767, 'resignation': 4768, 'oklahoma': 4769, 'abcnewsweekays': 4770, 'reject': 4771, 'shooter': 4772, 'properti': 4773, 'healthcarefor': 4774, 'statebudgetim': 4775, 'coins': 4776, 'pizza': 4777, 'joint': 4778, 'heldon': 4779, 'sizes': 4780, 'matt': 4781, 'costofliving': 4782, 'jerseyans': 4783, 'polluters': 4784, 'machine': 4785, 'lloyd': 4786, 'doggett': 4787, 'attempting': 4788, 'disrupt': 4789, 'traveling': 4790, 'aspects': 4791, 'taxestim': 4792, '17000': 4793, 'partial': 4794, 'jobsoregon': 4795, 'wors': 4796, 'iron': 4797, 'peanut': 4798, 'deprive': 4799, 'statefinanceson': 4800, 'begging': 4801, 'costly': 4802, 'prohibits': 4803, 'dennis': 4804, 'productive': 4805, 'windfall': 4806, 'advocate': 4807, 'trained': 4808, 'remarks': 4809, 'forum': 4810, 'alan': 4811, 'secured': 4812, 'pending': 4813, 'interior': 4814, 'fresh': 4815, 'hurricanes': 4816, 'membership': 4817, 'engagement': 4818, 'educated': 4819, 'povertythere': 4820, 'economyour': 4821, 'runoff': 4822, 'historywhen': 4823, 'majorities': 4824, 'criminaljusticea': 4825, 'deployed': 4826, 'fl': 4827, 'electionsof': 4828, 'onequarter': 4829, 'cup': 4830, 'providences': 4831, 'amongst': 4832, 'edward': 4833, 'nowden': 4834, 'reveal': 4835, 'invasion': 4836, 'workersunemployment': 4837, 'constituents': 4838, 'federalbudgettheres': 4839, 'acknowledged': 4840, 'targets': 4841, 'forev': 4842, 'deficitthe': 4843, 'ethicsbarack': 4844, 'christies': 4845, 'tonight': 4846, 'derail': 4847, 'captured': 4848, 'danny': 4849, 'sixth': 4850, 'educationit': 4851, 'propose': 4852, 'implementing': 4853, 'cartel': 4854, 'signature': 4855, 'strik': 4856, 'kicker': 4857, 'alem': 4858, 'budg': 4859, 'whove': 4860, 'publichealthwe': 4861, 'electronic': 4862, '550': 4863, 'sexualitywe': 4864, 'hb2': 4865, 'environmentrick': 4866, 'direction': 4867, 'edwards': 4868, 'afraid': 4869, 'energyjohn': 4870, 'eligibility': 4871, 'donates': 4872, 'labeled': 4873, 'lobbying': 4874, 'jobswere': 4875, 'mortgages': 4876, 'hovde': 4877, 'eri': 4878, 'votingrecordmark': 4879, 'warners': 4880, 'taxesfrom': 4881, 'lied': 4882, 'candidaci': 4883, 'educationunder': 4884, 'standardized': 4885, 'immedi': 4886, 'websit': 4887, 'bruun': 4888, 'latin': 4889, 'poses': 4890, 'imminent': 4891, 'material': 4892, 'britain': 4893, 'militarywhen': 4894, 'ix': 4895, 'looked': 4896, 'strict': 4897, 'statesa': 4898, 'practicing': 4899, 'alligator': 4900, 'gunsevery': 4901, 'blame': 4902, 'refusal': 4903, 'surface': 4904, 'cowboys': 4905, 'angle': 4906, 'disparity': 4907, 'perstudent': 4908, 'basis': 4909, 'agrees': 4910, 'hardcore': 4911, 'portion': 4912, 'tort': 4913, 'zone': 4914, 'zon': 4915, 'raids': 4916, 'slow': 4917, 'meat': 4918, 'repealed': 4919, 'deportations': 4920, 'crackdown': 4921, 'feloni': 4922, 'educationnew': 4923, 'twenty': 4924, 'defazio': 4925, 'campaigning': 4926, 'lifting': 4927, 'misconduct': 4928, 'attracted': 4929, 'insurers': 4930, 'federalbudgetcongress': 4931, 'er': 4932, 'fal': 4933, 'remained': 4934, '33000': 4935, 'repay': 4936, 'appearance': 4937, 'quart': 4938, 'globe': 4939, 'punditsone': 4940, 'determine': 4941, '750': 4942, 'customers': 4943, 'laborays': 4944, 'mcdonalds': 4945, 'gift': 4946, 'fraction': 4947, 'risks': 4948, 'derivatives': 4949, 'cracking': 4950, 'methods': 4951, 'blind': 4952, 'eye': 4953, 'institutes': 4954, 'bonuses': 4955, 'twothird': 4956, 'bureaucracy': 4957, 'suggests': 4958, 'span': 4959, 'panther': 4960, 'physician': 4961, 'electionsmy': 4962, 'electionscott': 4963, 'earthquake': 4964, 'federalbudgetmccain': 4965, 'autism': 4966, 'recommending': 4967, 'transactions': 4968, 'dome': 4969, 'incomein': 4970, 'sellers': 4971, 'existence': 4972, 'prepared': 4973, 'residency': 4974, '64': 4975, 'usan': 4976, 'uranium': 4977, 'consum': 4978, 'responders': 4979, 'subpoena': 4980, 'turbines': 4981, 'minut': 4982, 'charging': 4983, 'classes': 4984, 'basketball': 4985, 'frankel': 4986, 'helicopter': 4987, 'dinner': 4988, 'riding': 4989, 'turnaround': 4990, 'gut': 4991, 'palestinian': 4992, 'parental': 4993, 'terrorismguantanamo': 4994, 'chicken': 4995, 'tortur': 4996, 'disastrous': 4997, 'supposedly': 4998, 'houses': 4999, 'servicemen': 5000, 'viagra': 5001, 'bushadministrationays': 5002, 'flint': 5003, 'mich': 5004, 'poison': 5005, 'guinta': 5006, 'galveston': 5007, 'flying': 5008, 'crops': 5009, 'yesterday': 5010, 'counterparts': 5011, 'transport': 5012, 'typically': 5013, 'gases': 5014, 'chevron': 5015, 'financ': 5016, 'legalissuesflorida': 5017, 'unsustainable': 5018, 'described': 5019, 'incumbents': 5020, 'sheet': 5021, 'buildings': 5022, 'phoenix': 5023, 'scheduled': 5024, 'embryonic': 5025, 'encouraged': 5026, 'contraceptive': 5027, 'merrick': 5028, '137': 5029, 'partn': 5030, 'gunsgeorgia': 5031, 'invasive': 5032, 'skyrocketing': 5033, 'triple': 5034, 'foreignpolicyas': 5035, 'favored': 5036, 'practically': 5037, 'malaria': 5038, 'secondlowest': 5039, '06': 5040, 'oh': 5041, 'assure': 5042, 'monitor': 5043, 'respond': 5044, 'ricos': 5045, '154': 5046, 'utilities': 5047, 'legalized': 5048, '10year': 5049, 'hammers': 5050, 'addicted': 5051, 'enjoy': 5052, '2100': 5053, 'citygovernmentthe': 5054, 'womenwhen': 5055, 'gallup': 5056, 'silent': 5057, 'honoring': 5058, 'chambliss': 5059, 'taxesmitt': 5060, 'backs': 5061, 'rico': 5062, 'wright': 5063, 'tatistics': 5064, 'marketplace': 5065, 'fighters': 5066, 'tiny': 5067, 'pose': 5068, 'fairly': 5069, 'punditsen': 5070, 'lat': 5071, 'reformed': 5072, 'atlantic': 5073, 'sonogram': 5074, 'jobaccomplishmentson': 5075, 'allens': 5076, 'extent': 5077, '78': 5078, 'publichealthif': 5079, 'subsequent': 5080, 'brags': 5081, 'page': 5082, 'mid': 5083, 'comparable': 5084, 'texan': 5085, 'energyweve': 5086, 'publichealthaccording': 5087, 'immigrationbetween': 5088, 'foreignpolicyjohn': 5089, 'disclosur': 5090, 'madigan': 5091, 'marwig': 5092, 'corrupt': 5093, 'phony': 5094, 'enterprise': 5095, 'ignored': 5096, 'ceil': 5097, 'wade': 5098, 'dragged': 5099, 'quest': 5100, 'contributors': 5101, 'messagemachineunder': 5102, 'fisher': 5103, 'chedule': 5104, 'europ': 5105, 'iraqjohn': 5106, 'minorities': 5107, 'flights': 5108, 'privacythe': 5109, 'adams': 5110, 'martinez': 5111, '100million': 5112, 'implement': 5113, 'dem': 5114, 'maxed': 5115, 'continued': 5116, 'viable': 5117, 'solut': 5118, 'aborted': 5119, 'deemed': 5120, 'governorship': 5121, 'blocking': 5122, 'amazing': 5123, '68000': 5124, 'marijuanain': 5125, 'gaspricesays': 5126, 'usually': 5127, 'effectiveness': 5128, 'craig': 5129, 'mutual': 5130, 'defeated': 5131, 'assad': 5132, 'representing': 5133, 'orientation': 5134, 'marketregulationwere': 5135, 'incident': 5136, 'bathrooms': 5137, '1950': 5138, 'olympic': 5139, 'awarded': 5140, 'nondefense': 5141, 'margaret': 5142, 'anger': 5143, 'ethicsjohn': 5144, 'shady': 5145, 'vicious': 5146, '144': 5147, 'congressionalruleson': 5148, 'filibusters': 5149, '1984': 5150, 'suits': 5151, 'immigrationevery': 5152, 'chines': 5153, 'terrorismhillary': 5154, '725': 5155, 'medicarein': 5156, 'federalbudgetobamas': 5157, 'doug': 5158, 'refund': 5159, 'indicators': 5160, 'militari': 5161, 'linked': 5162, 'predecessor': 5163, '787': 5164, 'hopeful': 5165, 'box': 5166, 'spree': 5167, 'boss': 5168, 'historywe': 5169, 'decreases': 5170, 'leagu': 5171, 'folk': 5172, 'certainly': 5173, 'assist': 5174, 'levy': 5175, 'alberta': 5176, 'darling': 5177, '22000': 5178, 'unique': 5179, 'wanting': 5180, 'transportationunder': 5181, 'kilmartin': 5182, 'aboard': 5183, 'venture': 5184, 'site': 5185, 'freshmen': 5186, 'jan': 5187, 'torture': 5188, 'exxonmobil': 5189, 'ordinary': 5190, 'upstate': 5191, 'isakson': 5192, 'teven': 5193, 'independents': 5194, 'depression': 5195, 'grothman': 5196, 'transportationin': 5197, 'exotic': 5198, 'controversial': 5199, 'applicants': 5200, 'ox': 5201, 'castro': 5202, 'immigrationone': 5203, 'paint': 5204, 'vouch': 5205, 'debunk': 5206, 'afety': 5207, 'disrespect': 5208, 'spot': 5209, 'fiorina': 5210, 'pressure': 5211, 'nonunion': 5212, 'preventing': 5213, 'imposing': 5214, 'taxesthanks': 5215, 'transfer': 5216, 'damages': 5217, 'ill': 5218, 'defunding': 5219, 'financialregulationon': 5220, 'troubled': 5221, 'trouble': 5222, 'tradein': 5223, 'eu': 5224, 'landslide': 5225, 'publicsafetygeorgia': 5226, 'motorists': 5227, 'foreclosures': 5228, 'holidays': 5229, 'thank': 5230, 'reporters': 5231, '88000': 5232, 'jobstoday': 5233, 'ridership': 5234, 'statistics': 5235, 'statefinancesour': 5236, '240': 5237, 'overstay': 5238, 'invite': 5239, 'blocks': 5240, 'entry': 5241, 'performing': 5242, 'somehow': 5243, 'employs': 5244, 'bernanke': 5245, 'begun': 5246, 'populationmore': 5247, 'earliest': 5248, 'dioxide': 5249, 'everifi': 5250, '142': 5251, 'apple': 5252, 'co': 5253, 'airplane': 5254, 'citation': 5255, 'impacted': 5256, 'picked': 5257, 'advocating': 5258, 'neumann': 5259, 'slowed': 5260, 'tries': 5261, '360': 5262, 'delano': 5263, 'felt': 5264, 'zones': 5265, 'defunded': 5266, 'presence': 5267, 'extraordinary': 5268, 'electionswhen': 5269, 'verify': 5270, 'mention': 5271, 'taxing': 5272, 'shelt': 5273, 'brian': 5274, 'highways': 5275, 'traveled': 5276, 'historyduring': 5277, 'coupl': 5278, 'laborin': 5279, 'overdoses': 5280, 'pounds': 5281, 'criminaljusticein': 5282, 'cranston': 5283, 'terrorismover': 5284, 'manhattan': 5285, '153': 5286, 'timing': 5287, 'announcement': 5288, 'accidental': 5289, 'movie': 5290, 'trading': 5291, 'overdose': 5292, 'republic': 5293, 'taxesaccording': 5294, 'gaysandlesbiansthe': 5295, 'penalties': 5296, 'lifetim': 5297, 'candidacy': 5298, 'incarcerated': 5299, 'jeopardize': 5300, '130': 5301, '25th': 5302, 'buck': 5303, 'hadnt': 5304, 'gibbs': 5305, 'memo': 5306, 'maximum': 5307, 'drafted': 5308, 'womenas': 5309, 'coffman': 5310, 'redefine': 5311, 'childs': 5312, 'praised': 5313, 'located': 5314, 'statemandated': 5315, 'taxesrepublican': 5316, '20th': 5317, 'wad': 5318, 'papers': 5319, 'partners': 5320, 'taxesmccain': 5321, 'capacity': 5322, 'secondary': 5323, 'electionsa': 5324, 'stories': 5325, 'capability': 5326, 'januari': 5327, 'healthcarenew': 5328, 'projections': 5329, 'originally': 5330, 'hank': 5331, 'uw': 5332, 'footbal': 5333, '23000': 5334, 'dean': 5335, 'homelandsecurityays': 5336, 'arizonas': 5337, 'mainly': 5338, 'heavy': 5339, '17th': 5340, '1920': 5341, 'predecessors': 5342, 'iraqwe': 5343, 'kit': 5344, 'conviction': 5345, 'educationwhen': 5346, 'oath': 5347, 'technologya': 5348, 'taxesive': 5349, 'regulators': 5350, 'curr': 5351, 'taxesover': 5352, 'punditspresident': 5353, 'pharmaceutical': 5354, 'stuff': 5355, 'challenges': 5356, 'demanding': 5357, 'statebudgeta': 5358, 'falsely': 5359, 'budgetrepair': 5360, 'sought': 5361, 'immigrationillegal': 5362, 'commercials': 5363, '370000': 5364, 'bankruptcies': 5365, 'redskins': 5366, 'owner': 5367, 'foreclosur': 5368, 'ed': 5369, 'horrendous': 5370, 'laborwe': 5371, 'mittromney': 5372, 'advocacy': 5373, 'award': 5374, 'ecret': 5375, 'traumatic': 5376, 'dues': 5377, 'swine': 5378, 'viru': 5379, 'lavish': 5380, 'doe': 5381, 'taxesnew': 5382, 'punditsthere': 5383, 'petitions': 5384, 'swapped': 5385, 'dna': 5386, 'mandels': 5387, 'healthcareas': 5388, 'seek': 5389, 'approaching': 5390, 'routinely': 5391, 'barretts': 5392, '1928': 5393, 'boards': 5394, 'legalissuesif': 5395, 'harass': 5396, 'recommendations': 5397, 'questioning': 5398, 'pack': 5399, 'sets': 5400, 'series': 5401, 'automatically': 5402, 'ann': 5403, 'provider': 5404, 'immigrationobama': 5405, 'economypresident': 5406, 'punditsa': 5407, 'biennium': 5408, 'liquor': 5409, 'angel': 5410, 'abcnewsweeka': 5411, 'injured': 5412, 'aimed': 5413, 'ku': 5414, 'klux': 5415, 'klan': 5416, 'walton': 5417, 'obamabirthcertificate': 5418, 'taxesright': 5419, 'outofpocket': 5420, 'craft': 5421, 'parrish': 5422, 'scale': 5423, 'outbreak': 5424, 'purchases': 5425, 'vehicular': 5426, 'counseling': 5427, 'championship': 5428, 'dallasfort': 5429, 'unknown': 5430, 'taxesdan': 5431, 'richmond': 5432, 'consumes': 5433, 'justified': 5434, 'flew': 5435, 'challenge': 5436, 'rutgers': 5437, 'terrorisma': 5438, 'wash': 5439, 'sandwich': 5440, 'transportationit': 5441, 'launched': 5442, 'hagel': 5443, 'abroad': 5444, 'workerstoday': 5445, 'convict': 5446, 'emerged': 5447, 'sequestration': 5448, 'discretion': 5449, 'militaryit': 5450, 'exists': 5451, 'legalissueson': 5452, 'etc': 5453, 'likes': 5454, 'connecticut': 5455, 'urbanays': 5456, 'houstons': 5457, 'atlantas': 5458, '1991': 5459, 'ford': 5460, 'gadhafi': 5461, 'est': 5462, 'deregulation': 5463, 'lesbian': 5464, 'encourage': 5465, 'candidatesbiographyarah': 5466, 'humanrightsays': 5467, 'visas': 5468, 'ample': 5469, 'shale': 5470, 'heart': 5471, 'suffering': 5472, 'severe': 5473, 'eventually': 5474, 'disarm': 5475, 'manager': 5476, 'underage': 5477, 'mouse': 5478, 'transvaginal': 5479, 'excess': 5480, 'newhampshire2012in': 5481, 'mentioned': 5482, 'conspiracy': 5483, '103': 5484, 'abortionin': 5485, 'infants': 5486, 'statebudgetwere': 5487, 'affirmative': 5488, 'partialbirth': 5489, 'cartels': 5490, 'admissions': 5491, 'asthma': 5492, 'tarr': 5493, 'testified': 5494, 'widely': 5495, 'upon': 5496, 'veteransa': 5497, 'electing': 5498, 'ukrain': 5499, 'jews': 5500, 'multnomah': 5501, 'speeches': 5502, 'deduct': 5503, 'devices': 5504, 'contributor': 5505, 'reaching': 5506, 'nondiscrimination': 5507, 'fool': 5508, '69': 5509, 'sugar': 5510, 'milwaukees': 5511, 'counts': 5512, 'inch': 5513, 'workersrhode': 5514, 'expressly': 5515, '401k': 5516, 'froze': 5517, 'celebrated': 5518, 'france': 5519, 'japanese': 5520, 'advertising': 5521, 'iv': 5522, 'via': 5523, 'spill': 5524, 'fertil': 5525, 'geographic': 5526, 'eminent': 5527, 'domain': 5528, 'legalizing': 5529, 'pauls': 5530, 'camps': 5531, 'mal': 5532, 'rolling': 5533, 'perri': 5534, 'log': 5535, 'ransom': 5536, 'web': 5537, 'shipping': 5538, 'homosexu': 5539, 'antiabortion': 5540, 'values': 5541, 'greene': 5542, 'generous': 5543, '1930s': 5544, 'item': 5545, 'orange': 5546, 'unfunded': 5547, 'federalbudgetenator': 5548, 'statesif': 5549, 'achiev': 5550, 'buses': 5551, 'viewers': 5552, 'epidemic': 5553, 'imposes': 5554, 'boomers': 5555, 'proves': 5556, 'counted': 5557, 'function': 5558, 'stateswhen': 5559, 'inspection': 5560, 'indicted': 5561, 'regulates': 5562, 'rasmussen': 5563, '999': 5564, 'inspected': 5565, 'films': 5566, 'interim': 5567, 'approves': 5568, 'dreamers': 5569, 'restaurant': 5570, '6th': 5571, 'invited': 5572, 'authorized': 5573, 'doyles': 5574, 'waivers': 5575, 'predicted': 5576, 'reelected': 5577, 'freeze': 5578, 'designated': 5579, 'militarybarack': 5580, 'dis': 5581, 'executions': 5582, 'ireland': 5583, 'doubt': 5584, 'conventional': 5585, 'struggling': 5586, 'studying': 5587, 'ants': 5588, 'healthcarenearly': 5589, 'fals': 5590, 'prolif': 5591, 'jobsobamacare': 5592, 'offici': 5593, 'familiesin': 5594, 'signatures': 5595, 'stays': 5596, 'libyan': 5597, 'hole': 5598, 'taxesthis': 5599, '4500': 5600, 'cited': 5601, 'weaken': 5602, 'addictive': 5603, 'povertyflorida': 5604, 'religiona': 5605, 'laborthe': 5606, 'outreach': 5607, 'teenagers': 5608, 'immigrationamong': 5609, 'casualties': 5610, 'israelthe': 5611, 'educationour': 5612, 'legalize': 5613, 'pen': 5614, 'appears': 5615, 'transparencyi': 5616, 'guys': 5617, 'damaged': 5618, 'delaying': 5619, 'environmentince': 5620, 'wells': 5621, 'lab': 5622, 'aclu': 5623, 'suit': 5624, 'complet': 5625, 'hillarys': 5626, 'staterun': 5627, 'gardner': 5628, 'gore': 5629, 'austinites': 5630, 'kochs': 5631, 'septic': 5632, 'ethnicity': 5633, 'ought': 5634, 'povertywe': 5635, 'range': 5636, 'recipient': 5637, '6400': 5638, 'drunken': 5639, '1940': 5640, 'nazi': 5641, 'taxesrhode': 5642, 'pearl': 5643, 'tuberculosis': 5644, 'firing': 5645, 'everybodi': 5646, 'insured': 5647, 'lewis': 5648, 'contractors': 5649, 'favorite': 5650, 'nomin': 5651, 'votingrecorden': 5652, 'rebates': 5653, 'licens': 5654, 'experts': 5655, 'beverage': 5656, 'opposit': 5657, '16000': 5658, 'involving': 5659, 'crct': 5660, 'pursuing': 5661, 'prostitution': 5662, 'affiliated': 5663, 'fined': 5664, 'fossil': 5665, 'soar': 5666, 'bass': 5667, 'transparencybill': 5668, 'timeline': 5669, 'organizers': 5670, 'targeted': 5671, 'granite': 5672, 'hostages': 5673, 'jobsnearly': 5674, 'seem': 5675, 'bike': 5676, 'nixon': 5677, 'representation': 5678, '1400': 5679, 'pieces': 5680, 'staffers': 5681, 'recipi': 5682, 'aggressive': 5683, 'pour': 5684, 'proper': 5685, 'neighboring': 5686, 'waived': 5687, 'tudios': 5688, 'recessions': 5689, 'rapid': 5690, 'quadrupled': 5691, 'plummeted': 5692, 'australia': 5693, 'gonna': 5694, 'homestead': 5695, 'poland': 5696, 'chambers': 5697, 'exemptions': 5698, 'enact': 5699, 'healthcarebefore': 5700, 'brad': 5701, 'spills': 5702, 'conflicts': 5703, 'digits': 5704, 'sided': 5705, 'disappear': 5706, 'economyduring': 5707, 'suicid': 5708, 'iraqyou': 5709, '160000': 5710, 'abortionim': 5711, 'beliefs': 5712, 'justin': 5713, 'raimondo': 5714, 'fasttrack': 5715, 'cheese': 5716, 'uda': 5717, 'campaignfinancein': 5718, '180': 5719, 'recount': 5720, 'helps': 5721, 'slower': 5722, 'ready': 5723, 'twoandahalf': 5724, 'plain': 5725, 'schoolchildren': 5726, 'economyunder': 5727, 'workersby': 5728, 'commonwealth': 5729, 'unionized': 5730, '450': 5731, 'boxer': 5732, 'tradewe': 5733, 'scored': 5734, 'pro': 5735, 'prevented': 5736, 'revolutionary': 5737, 'prosecut': 5738, 'mph': 5739, 'hamilton': 5740, 'goals': 5741, '106': 5742, 'candidatesbiographyas': 5743, 'seeks': 5744, 'webb': 5745, 'temporarily': 5746, 'ablebodied': 5747, 'baltimore': 5748, 'amounted': 5749, 'statefinancesgreg': 5750, 'healthcaremost': 5751, 'neighbors': 5752, 'trademark': 5753, 'jobaccomplishmentsunder': 5754, 'fishermen': 5755, 'miss': 5756, 'device': 5757, 'povertymore': 5758, 'stadiums': 5759, 'surprised': 5760, 'skip': 5761, 'earli': 5762, 'nationwid': 5763, 'pony': 5764, 'productivity': 5765, 'hottest': 5766, 'legislatures': 5767, 'compliance': 5768, 'retir': 5769, 'militaryunder': 5770, 'lady': 5771, 'benefitted': 5772, 'advantag': 5773, 'unarmed': 5774, 'determined': 5775, 'governing': 5776, 'breast': 5777, 'jobsunemployment': 5778, 'waterboard': 5779, 'toughen': 5780, 'jackson': 5781, 'mansion': 5782, 'booker': 5783, 'recidivism': 5784, 'rang': 5785, 'pollsa': 5786, '75000': 5787, 'kansas': 5788, 'portlands': 5789, 'extremist': 5790, 'wedlock': 5791, 'tribe': 5792, 'wild': 5793, 'warning': 5794, 'sentenced': 5795, 'options': 5796, 'childless': 5797, 'climbed': 5798, 'frozen': 5799, 'languished': 5800, 'atf': 5801, 'gamblingays': 5802, 'photographs': 5803, 'forcible': 5804, 'thc': 5805, 'cal': 5806, 'absentee': 5807, 'trusts': 5808, 'votingrecordas': 5809, 'tennessees': 5810, 'murphys': 5811, 'uber': 5812, 'planes': 5813, 'exams': 5814, 'brotherhood': 5815, 'canadians': 5816, 'reactions': 5817, 'moon': 5818, 'subhuman': 5819, 'fakenews': 5820, 'mount': 5821, 'rushmore': 5822, '151': 5823, 'purpos': 5824, 'heriffs': 5825, 'mirrors': 5826, 'academy': 5827, 'assess': 5828, 'stag': 5829, 'socialsecuritytoday': 5830, 'fundamentally': 5831, 'concentrated': 5832, 'healthcareblue': 5833, 'necessarily': 5834, 'advoc': 5835, 'massaged': 5836, 'heads': 5837, 'wealthunder': 5838, 'dga': 5839, 'povertyover': 5840, 'destabilize': 5841, 'stops': 5842, 'publicsafetyon': 5843, 'afghanistanin': 5844, 'de': 5845, 'jobsmary': 5846, 'hosted': 5847, 'occasions': 5848, 'renegotiated': 5849, 'portlandmilwaukie': 5850, '199': 5851, 'publicsafetynot': 5852, 'guts': 5853, 'revoked': 5854, 'cairo': 5855, 'packed': 5856, 'pollsmore': 5857, 'watched': 5858, 'jd': 5859, 'hayworth': 5860, 'avid': 5861, 'manmade': 5862, 'volt': 5863, 'naval': 5864, '1917': 5865, 'malaysia': 5866, 'crack': 5867, 'traffick': 5868, 'duti': 5869, 'welfarein': 5870, '1950s': 5871, 'workerswhile': 5872, 'arctic': 5873, 'terrorismince': 5874, 'evenly': 5875, 'healthcaretexas': 5876, 'util': 5877, 'pasch': 5878, 'tab': 5879, 'studentathletes': 5880, 'proceeds': 5881, 'basi': 5882, 'inspections': 5883, 'eggs': 5884, 'circle': 5885, 'militaryfor': 5886, 'exercises': 5887, 'frederica': 5888, 'ocialist': 5889, 'veteransince': 5890, 'appointees': 5891, 'lifesaving': 5892, 'mammogram': 5893, 'prince': 5894, 'offens': 5895, 'scan': 5896, 'leaks': 5897, 'vetting': 5898, 'lane': 5899, 'jobscalifornia': 5900, 'robust': 5901, 'affair': 5902, 'delphi': 5903, 'salaried': 5904, 'favoritism': 5905, 'backroom': 5906, 'nelsons': 5907, 'arlen': 5908, 'statu': 5909, 'trimet': 5910, 'alter': 5911, 'gaysandlesbiansa': 5912, 'attract': 5913, 'sp': 5914, 'militaryat': 5915, 'particular': 5916, 'uniform': 5917, 'interestingly': 5918, 'insecurity': 5919, 'belt': 5920, 'jobsi': 5921, 'infrastructur': 5922, '1908': 5923, 'medicareeniors': 5924, 'journal': 5925, 'unregulated': 5926, 'virtu': 5927, 'crimeonly': 5928, 'solv': 5929, 'blowing': 5930, 'relationships': 5931, 'governmentefficiencyas': 5932, 'questionable': 5933, 'calculated': 5934, 'pollsamericans': 5935, 'clarke': 5936, 'deputies': 5937, 'economymore': 5938, 'gao': 5939, 'orlean': 5940, 'entirety': 5941, '141': 5942, 'weigh': 5943, 'pollspolls': 5944, 'oppon': 5945, 'futur': 5946, 'crimejoe': 5947, 'eightyear': 5948, 'historyover': 5949, 'motorist': 5950, 'fatally': 5951, '184': 5952, 'incomeincome': 5953, 'deposition': 5954, 'dealings': 5955, 'selfdefens': 5956, 'energydrilling': 5957, 'acr': 5958, 'kean': 5959, 'purchas': 5960, 'amtraks': 5961, 'i95': 5962, 'coons': 5963, 'marxist': 5964, 'vaccination': 5965, 'intends': 5966, 'imported': 5967, 'progun': 5968, 'lease': 5969, 'volunteer': 5970, 'workerspeople': 5971, 'williamson': 5972, 'jobaccomplishmentsaid': 5973, 'infrastructurewere': 5974, 'jan1': 5975, 'slam': 5976, 'opportun': 5977, 'mcdonnells': 5978, 'conceal': 5979, 'revok': 5980, 'probe': 5981, 'randy': 5982, 'hopper': 5983, 'rfond': 5984, 'lac': 5985, 'recal': 5986, 'midnight': 5987, 'destroying': 5988, 'educationeducation': 5989, 'staunch': 5990, 'hollywood': 5991, 'celebrities': 5992, 'economynew': 5993, 'campaignadvertisingon': 5994, 'polite': 5995, 'marijuanawe': 5996, 'currency': 5997, '24000': 5998, 'statefinancesas': 5999, 'mobile': 6000, 'gp': 6001, 'wholly': 6002, 'militaryduring': 6003, 'recruiters': 6004, 'legalissuesweve': 6005, '11000': 6006, 'religionpresident': 6007, 'pornography': 6008, 'trial': 6009, 'location': 6010, 'balancing': 6011, 'smal': 6012, 'thirdgrade': 6013, 'beaches': 6014, 'privately': 6015, 'doors': 6016, 'sexualitythere': 6017, 'transportationtatistics': 6018, 'worried': 6019, 'switching': 6020, 'veteransi': 6021, 'stimulusdubious': 6022, 'published': 6023, 'articles': 6024, 'scienceif': 6025, 'sea': 6026, 'arthur': 6027, 'teenager': 6028, 'retiring': 6029, '119000': 6030, 'depends': 6031, 'detailed': 6032, 'jonathan': 6033, 'omnibus': 6034, 'retention': 6035, 'locked': 6036, 'ration': 6037, 'grandfather': 6038, 'gunstates': 6039, 'tend': 6040, 'abortionbarack': 6041, 'drawing': 6042, 'tak': 6043, 'boon': 6044, 'unable': 6045, 'outstanding': 6046, 'motor': 6047, 'statebudgetohio': 6048, 'insure': 6049, 'limitation': 6050, 'taxespat': 6051, 'bipartisanshiplangevin': 6052, 'teenaged': 6053, 'shower': 6054, 'collection': 6055, 'immigrationamerican': 6056, 'abortionu': 6057, 'extension': 6058, 'tourismays': 6059, 'fy': 6060, 'hyde': 6061, 'headlines': 6062, 'aides': 6063, 'taxescott': 6064, 'cfl': 6065, 'federalbudgetthere': 6066, 'sequestr': 6067, 'abortionjohn': 6068, 'liberation': 6069, 'armi': 6070, 'jobaccomplishmentshillary': 6071, 'wave': 6072, 'surrender': 6073, 'withdraw': 6074, 'labora': 6075, 'screwdriver': 6076, 'garden': 6077, 'environmentevery': 6078, 'hijacked': 6079, 'technologyin': 6080, 'foods': 6081, 'gmo': 6082, 'prosser': 6083, 'incomewomen': 6084, 'iraqmitt': 6085, 'tragic': 6086, 'fema': 6087, 'beds': 6088, 'whod': 6089, 'bidens': 6090, 'stimulusgov': 6091, 'dishonest': 6092, 'taxes98': 6093, 'supremecourtupreme': 6094, 'targeting': 6095, 'courage': 6096, '100yearold': 6097, 'norm': 6098, 'richards': 6099, 'parenthoods': 6100, 'drainage': 6101, 'ditch': 6102, 'offender': 6103, 'protects': 6104, 'wolves': 6105, 'rocky': 6106, '179': 6107, '5600': 6108, 'kremlin': 6109, 'wish': 6110, 'landslid': 6111, 'prenatal': 6112, 'privacya': 6113, 'identifiable': 6114, 'clerk': 6115, 'davi': 6116, 'exclusively': 6117, 'drastic': 6118, 'federalbudgetjohn': 6119, 'tool': 6120, 'excessive': 6121, 'energyoil': 6122, 'hiking': 6123, 'latenight': 6124, 'unveiled': 6125, 'caliber': 6126, 'voice': 6127, 'consid': 6128, 'bet': 6129, 'congested': 6130, 'roadway': 6131, 'wording': 6132, 'thirds': 6133, 'fifteen': 6134, 'supremecourtotomayor': 6135, 'troubling': 6136, 'stateowned': 6137, 'explore': 6138, 'gunscalifornia': 6139, 'mrs': 6140, '20072008': 6141, 'transportationevery': 6142, 'airline': 6143, 'recreational': 6144, 'commissions': 6145, 'congressionalrulesi': 6146, 'filibust': 6147, 'dole': 6148, 'comment': 6149, 'pollsalmost': 6150, 'sees': 6151, 'robbed': 6152, 'unequivocally': 6153, 'humanrightsin': 6154, 'enrichment': 6155, 'resolve': 6156, 'crippling': 6157, 'naturaldisastersays': 6158, 'wildfires': 6159, 'burning': 6160, 'text': 6161, 'tattoos': 6162, 'fac': 6163, 'chattanooga': 6164, 'advertis': 6165, 'kentuckian': 6166, 'patriotismon': 6167, 'renee': 6168, 'ellmers': 6169, 'pinprick': 6170, 'jobstwentyfive': 6171, 'classify': 6172, 'ugly': 6173, 'rd': 6174, 'suddenly': 6175, 'qualifi': 6176, 'rewarded': 6177, 'hunters': 6178, 'herd': 6179, 'enators': 6180, 'jobaccomplishmentsjohn': 6181, 'terrorismwere': 6182, 'pollut': 6183, '40year': 6184, 'sweetheart': 6185, 'abolished': 6186, '1983': 6187, 'whitewater': 6188, 'reduct': 6189, 'educationwere': 6190, '48th': 6191, 'punditsin': 6192, 'nurs': 6193, 'unintend': 6194, 'attitude': 6195, 'traced': 6196, 'gaspricesgas': 6197, 'protein': 6198, 'depriving': 6199, '38000': 6200, 'apologizing': 6201, 'educationby': 6202, 'thompsons': 6203, 'custodi': 6204, 'participating': 6205, 'pilot': 6206, 'ease': 6207, 'shortage': 6208, 'tudent': 6209, 'taxeskathryn': 6210, 'tarkey': 6211, 'tourist': 6212, 'availability': 6213, 'versus': 6214, 'mechanic': 6215, 'afcme': 6216, 'greenspan': 6217, 'immigrationclose': 6218, 'overstayed': 6219, 'transportationtaxpayers': 6220, 'concerned': 6221, 'taylor': 6222, 'mahoning': 6223, 'waterwe': 6224, 'bloated': 6225, 'publicsafetyevery': 6226, 'rita': 6227, 'abcnewsweekover': 6228, 'memb': 6229, '40hour': 6230, 'apart': 6231, 'redistribution': 6232, 'structure': 6233, 'littleknown': 6234, 'anford': 6235, 'terrorismduring': 6236, 'prominent': 6237, 'preparing': 6238, 'immigrationup': 6239, 'proponent': 6240, 'keith': 6241, 'tudio': 6242, 'amazon': 6243, 'rainforest': 6244, 'afterward': 6245, 'worldclass': 6246, 'staggering': 6247, 'statebudgetdespite': 6248, '1935': 6249, 'irresponsible': 6250, 'deliver': 6251, 'onlin': 6252, 'ribble': 6253, 'locate': 6254, 'nuclearpresident': 6255, 'thanked': 6256, 'transportationince': 6257, 'injuri': 6258, 'capitals': 6259, 'messagemachinewarren': 6260, 'destruct': 6261, 'workerstheres': 6262, 'furniture': 6263, 'wing': 6264, 'colleague': 6265, 'cousin': 6266, 'threaten': 6267, 'wrongdoing': 6268, 'tarkanian': 6269, 'fr': 6270, 'thirdbiggest': 6271, 'taxesgovernor': 6272, 'healthcareromneycare': 6273, 'trafficked': 6274, 'notion': 6275, 'cigarette': 6276, 'extrem': 6277, 'wouldve': 6278, 'messagemachine2012ince': 6279, 'wiss': 6280, 'correctionsandupdateswe': 6281, 'militaryobama': 6282, 'talin': 6283, 'undermine': 6284, 'leased': 6285, 'hid': 6286, 'arriving': 6287, 'onetime': 6288, 'craigslist': 6289, 'militarybill': 6290, 'dividend': 6291, 'environmentwhen': 6292, 'partisan': 6293, '80s': 6294, 'environmentolar': 6295, 'nuclearjust': 6296, 'percentag': 6297, 'types': 6298, 'bribe': 6299, '14th': 6300, 'nominated': 6301, 'circuit': 6302, 'withdrawn': 6303, 'educationbefore': 6304, 'hillari': 6305, 'annexation': 6306, 'fouryearolds': 6307, 'withdrawing': 6308, '34000': 6309, 'invade': 6310, 'milliondollar': 6311, 'selecting': 6312, 'funnel': 6313, 'venezuela': 6314, 'warheads': 6315, 'rushing': 6316, 'ottumwa': 6317, 'newspap': 6318, 'evalu': 6319, 'abused': 6320, 'medicaida': 6321, 'outcomes': 6322, 'clin': 6323, 'capped': 6324, 'cours': 6325, 'michele': 6326, 'downgraded': 6327, 'retirementmembers': 6328, 'spacethe': 6329, 'meal': 6330, 'recreationmore': 6331, 'instructions': 6332, 'cards': 6333, 'welcome': 6334, 'katie': 6335, 'everyth': 6336, 'gt': 6337, 'highrisk': 6338, 'split': 6339, 'egyptians': 6340, 'rationing': 6341, 'retirementthe': 6342, 'discriminated': 6343, 'lawy': 6344, 'earths': 6345, 'habit': 6346, 'plummet': 6347, 'immigrationgeorgia': 6348, 'apartheid': 6349, 'transportationroad': 6350, 'baker': 6351, 'statefinancesin': 6352, 'earl': 6353, 'blumenauer': 6354, 'taxesenator': 6355, 'aspirin': 6356, 'messagemachine2012one': 6357, 'marriagei': 6358, 'rammed': 6359, 'poizner': 6360, 'medicaretheres': 6361, 'endorses': 6362, 'stretch': 6363, 'offshor': 6364, 'reining': 6365, '35000': 6366, 'fixed': 6367, 'normal': 6368, 'companys': 6369, 'confines': 6370, 'rosemary': 6371, 'lehmberg': 6372, 'vodka': 6373, 'ebelius': 6374, 'neglected': 6375, 'kick': 6376, 'shor': 6377, 'converting': 6378, 'metric': 6379, 'guest': 6380, 'lowwage': 6381, 'leaked': 6382, 'journalists': 6383, 'addressing': 6384, 'discussions': 6385, 'povertyour': 6386, 'contact': 6387, 'nashville': 6388, 'names': 6389, 'environmentally': 6390, 'minimize': 6391, 'fda': 6392, 'rebate': 6393, 'kloppenburgs': 6394, 'statebudgetone': 6395, 'sportswe': 6396, 'elena': 6397, 'solicitor': 6398, 'pathway': 6399, 'exploited': 6400, '64000': 6401, 'environmentthere': 6402, 'hah': 6403, 'commonly': 6404, 'semiautomatic': 6405, 'housingtoday': 6406, 'continent': 6407, 'flores': 6408, 'ethicstate': 6409, 'haitian': 6410, 'polar': 6411, 'vortex': 6412, 'bachelors': 6413, 'instant': 6414, 'motion': 6415, 'wiretap': 6416, 'administered': 6417, 'ellen': 6418, 'educationgeorgia': 6419, 'votingrecordwe': 6420, 'toy': 6421, 'dreams': 6422, 'historyince': 6423, 'taxesdavid': 6424, 'crosswalk': 6425, 'ala': 6426, 'festival': 6427, 'statebudgetonly': 6428, 'lowerincome': 6429, '4154': 6430, '450000': 6431, 'taught': 6432, 'stimuluswe': 6433, 'campaignfinancevern': 6434, 'exonerated': 6435, 'feral': 6436, 'instruction': 6437, 'messagemachine2012while': 6438, 'ribboncutting': 6439, 'testimony': 6440, 'taxesronald': 6441, 'nusbaum': 6442, 'terrorismon': 6443, 'publichealtha': 6444, 'tb': 6445, 'cayman': 6446, 'scam': 6447, 'assassinated': 6448, 'cobb': 6449, 'statewid': 6450, 'pipes': 6451, 'iraqis': 6452, 'carol': 6453, 'heaporter': 6454, 'pelosis': 6455, 'valu': 6456, 'opted': 6457, 'airplanes': 6458, 'picking': 6459, 'feasible': 6460, 'taj': 6461, 'mahal': 6462, 'protestant': 6463, 'circumstance': 6464, 'peacekeeping': 6465, 'setting': 6466, 'lebanon': 6467, 'trusted': 6468, 'winds': 6469, 'energyboth': 6470, 'statefinancesa': 6471, 'translates': 6472, 'abide': 6473, 'statesunder': 6474, 'anthony': 6475, 'differed': 6476, 'trap': 6477, 'def': 6478, 'gi': 6479, 'plumbers': 6480, 'metal': 6481, 'offset': 6482, 'sciencea': 6483, 'burger': 6484, 'healthcarerepublicans': 6485, 'environmentif': 6486, 'deferred': 6487, 'registr': 6488, 'citrus': 6489, 'growers': 6490, 'downstream': 6491, 'wealthin': 6492, 'hoping': 6493, 'guardsmen': 6494, 'lax': 6495, 'cpa': 6496, 'comptroller': 6497, 'exploration': 6498, 'wisconsinmilwaukee': 6499, '05': 6500, '07': 6501, '09': 6502, 'pollswhen': 6503, 'withdrew': 6504, 'medicaidgeorgia': 6505, 'devils': 6506, 'managing': 6507, 'vanderbeek': 6508, 'trenton': 6509, 'architect': 6510, 'privileg': 6511, 'submit': 6512, 'wellpaid': 6513, 'administrators': 6514, 'columbus': 6515, 'boosted': 6516, 'detained': 6517, 'politically': 6518, 'federalbudgeteliminating': 6519, 'bucket': 6520, 'chamb': 6521, 'centerpiece': 6522, 'slot': 6523, 'melania': 6524, 'electionsim': 6525, 'healthcarebill': 6526, '44th': 6527, 'rev': 6528, 'marine': 6529, 'corps': 6530, 'stimulusto': 6531, 'powell': 6532, 'reservoir': 6533, 'noshow': 6534, 'republicanled': 6535, 'afterthefact': 6536, 'succeed': 6537, '1964': 6538, 'federalbudgetmy': 6539, 'tewart': 6540, 'assisted': 6541, '2037': 6542, 'eliminates': 6543, 'transportationgov': 6544, 'walking': 6545, 'governmentefficiencywe': 6546, 'satisfied': 6547, 'richardson': 6548, 'renegotiate': 6549, 'wentworth': 6550, 'senate': 6551, 'hits': 6552, 'religionmuslims': 6553, 'unsuccessful': 6554, 'perimeter': 6555, 'testify': 6556, 'earnings': 6557, 'transmitted': 6558, 'gunsas': 6559, 'unnecessary': 6560, 'disclose': 6561, 'welfarethe': 6562, 'motorcycles': 6563, 'nofly': 6564, 'rooted': 6565, 'collapse': 6566, 'taxesmike': 6567, 'merry': 6568, 'handpicked': 6569, 'profiting': 6570, 'orient': 6571, 'votingrecorda': 6572, 'kendrick': 6573, 'tent': 6574, 'sunset': 6575, 'dday': 6576, 'normandy': 6577, 'obes': 6578, 'legalissueswe': 6579, 'fluorid': 6580, 'healthcarehillary': 6581, 'languag': 6582, 'chai': 6583, 'flies': 6584, 'concept': 6585, 'dee': 6586, 'christopher': 6587, 'unwanted': 6588, 'populationtexas': 6589, 'experiencing': 6590, 'equ': 6591, 'stimulusfor': 6592, 'grass': 6593, 'iraqin': 6594, 'propositions': 6595, 'doc': 6596, 'treating': 6597, 'spring': 6598, 'longstanding': 6599, 'tradition': 6600, 'vacancies': 6601, 'caus': 6602, 'pillowtex': 6603, 'lone': 6604, 'legalissuesmike': 6605, 'stuck': 6606, 'diseases': 6607, 'feed': 6608, 'improv': 6609, 'educationamericans': 6610, 'ganleys': 6611, 'monday': 6612, 'unlawful': 6613, 'healthinsurance': 6614, 'statefinancestheres': 6615, 'prob': 6616, 'underfunding': 6617, 'sixthhighest': 6618, 'smallbusinessfor': 6619, 'latina': 6620, 'trend': 6621, 'massacre': 6622, 'healthcaremany': 6623, 'complex': 6624, 'lassa': 6625, 'hefty': 6626, 'gasolin': 6627, 'environmentfor': 6628, 'attackers': 6629, 'tradenafta': 6630, 'messagemachineruss': 6631, 'worsened': 6632, 'admire': 6633, 'balancedbudget': 6634, 'courses': 6635, 'reformer': 6636, 'aide': 6637, 'votingrecordjohn': 6638, 'kosher': 6639, 'meals': 6640, 'depicting': 6641, 'worldwid': 6642, 'charleston': 6643, 'french': 6644, 'federalbudgetas': 6645, '60s': 6646, 'abortionbirth': 6647, 'pioneer': 6648, 'premise': 6649, 'duncan': 6650, 'huntsman': 6651, 'netherlands': 6652, 'statesby': 6653, 'precious': 6654, 'taxesbecause': 6655, 'landing': 6656, 'supremecourtit': 6657, 'wand': 6658, 'sidelin': 6659, 'stupid': 6660, 'criminaljusticeright': 6661, 'incomewhen': 6662, 'starvation': 6663, 'ierra': 6664, 'unacceptable': 6665, 'deserve': 6666, 'economylast': 6667, 'blue': 6668, 'chip': 6669, 'predicting': 6670, 'easily': 6671, 'infected': 6672, 'strides': 6673, '1969': 6674, 'messagemachine2012romney': 6675, 'messagemachinecalifornia': 6676, 'stopandfrisk': 6677, 'bragged': 6678, 'elements': 6679, 'educationaustin': 6680, 'chevrolet': 6681, 'examples': 6682, 'unionswe': 6683, 'tellers': 6684, 'condemned': 6685, 'workerstexas': 6686, 'ceremony': 6687, 'mulim': 6688, 'hill': 6689, 'rides': 6690, 'importance': 6691, 'lasting': 6692, 'transportationall': 6693, 'transfers': 6694, 'consideration': 6695, 'dayton': 6696, 'taxeswith': 6697, 'homeowner': 6698, 'gingrey': 6699, 'tshirt': 6700, 'hopes': 6701, 'pristine': 6702, 'mitchell': 6703, 'encouraging': 6704, 'johnny': 6705, 'proportions': 6706, 'downgrade': 6707, 'overseeing': 6708, 'messagemachineof': 6709, 'med': 6710, 'marriagein': 6711, 'registry': 6712, 'monies': 6713, 'shall': 6714, 'messagemachinerick': 6715, 'injecting': 6716, 'hpv': 6717, 'organic': 6718, 'sexting': 6719, 'playoff': 6720, 'preferences': 6721, 'ali': 6722, 'khamenei': 6723, 'oversee': 6724, 'rabid': 6725, 'religioni': 6726, 'brewing': 6727, 'poisoning': 6728, 'candidatesbiographyenator': 6729, 'excluding': 6730, 'environmentunder': 6731, 'suppli': 6732, 'environmentpalin': 6733, 'taxesgeorge': 6734, 'looks': 6735, 'electionsted': 6736, 'mathematically': 6737, 'healthcarewhat': 6738, 'chairwoman': 6739, 'gays': 6740, 'religionyou': 6741, 'healthcaremillions': 6742, 'photographed': 6743, 'fear': 6744, 'barbecue': 6745, 'restaur': 6746, 'geared': 6747, 'abandoned': 6748, 'smallbusinessninety': 6749, 'section': 6750, 'pursuit': 6751, 'happi': 6752, 'asset': 6753, 'ramp': 6754, 'rivers': 6755, 'delicious': 6756, 'statebudgetome': 6757, 'taxescorporate': 6758, 'socialsecurityjohn': 6759, 'lunches': 6760, 'virginians': 6761, 'iraqhe': 6762, 'instance': 6763, 'megyn': 6764, 'pine': 6765, 'tier': 6766, 'foreignpolicyiran': 6767, 'phds': 6768, 'prove': 6769, 'transportationaccording': 6770, 'harmful': 6771, 'taxestaxpayers': 6772, 'immigrationalmost': 6773, 'popculturein': 6774, 'candidatesbiographydavid': 6775, 'statebudgetgeorgia': 6776, 'fifthhighest': 6777, 'dine': 6778, 'fleeing': 6779, 'trolley': 6780, 'answered': 6781, 'followup': 6782, 'candidatesbiographybill': 6783, 'dupl': 6784, 'downturn': 6785, 'hegar': 6786, 'expressed': 6787, 'pride': 6788, 'economyaig': 6789, 'inflationary': 6790, 'militaryafter': 6791, 'acrosstheboard': 6792, 'condemning': 6793, 'leftwing': 6794, 'casting': 6795, 'immigrationromney': 6796, 'supremecourti': 6797, 'healthcarehouse': 6798, 'hb': 6799, 'solve': 6800, 'sailed': 6801, 'womenwe': 6802, 'terrorismnobody': 6803, 'francis': 6804, 'modest': 6805, 'drives': 6806, 'staffer': 6807, 'warms': 6808, 'investing': 6809, 'civilrightsays': 6810, 'energylast': 6811, 'militarythis': 6812, 'indianas': 6813, 'differ': 6814, 'forget': 6815, '3million': 6816, 'impson': 6817, 'forbidden': 6818, 'bobby': 6819, 'obvious': 6820, 'affordability': 6821, 'tourisma': 6822, 'broad': 6823, 'improvements': 6824, 'emiss': 6825, '31000': 6826, 'citations': 6827, 'tickets': 6828, 'performance': 6829, 'altogeth': 6830, 'lilly': 6831, 'ledbetter': 6832, 'devoted': 6833, 'trials': 6834, 'complying': 6835, 'supremecourtpeople': 6836, 'oral': 6837, 'calia': 6838, 'antibusiness': 6839, 'factors': 6840, 'hostage': 6841, 'travelers': 6842, 'passport': 6843, 'sexualitythe': 6844, 'statebudgetwhile': 6845, 'plale': 6846, 'threshold': 6847, 'gary': 6848, 'agent': 6849, 'tighten': 6850, 'privacyays': 6851, 'homosexuals': 6852, 'nye': 6853, '510': 6854, 'lgbt': 6855, 'beating': 6856, 'flooding': 6857, 'm': 6858, 'attracting': 6859, 'abcnewsweekpresident': 6860, 'hoover': 6861, 'quonset': 6862, 'mnbc': 6863, 'marijuanaamendment': 6864, 'kemp': 6865, 'healthcareobama': 6866, 'messagemachineroy': 6867, 'apolog': 6868, 'electionspresident': 6869, 'suspicious': 6870, 'lord': 6871, '290': 6872, 'assumption': 6873, 'reinstate': 6874, 'educationtexas': 6875, 'infusion': 6876, 'supremecourtone': 6877, 'dildo': 6878, 'directing': 6879, 'federalbudgetince': 6880, '201213': 6881, 'janitor': 6882, 'maternal': 6883, 'authorities': 6884, 'educationnathan': 6885, 'badly': 6886, 'pound': 6887, 'crimeof': 6888, '320000': 6889, '138': 6890, 'meltdown': 6891, 'discuss': 6892, 'taxesamericas': 6893, 'iraqon': 6894, 'povertyi': 6895, 'breath': 6896, 'morgan': 6897, 'profiles': 6898, 'pred': 6899, 'prioritize': 6900, 'botched': 6901, 'attending': 6902, 'fancy': 6903, 'bell': 6904, 'pallone': 6905, 'gutting': 6906, 'biggovernment': 6907, '1915': 6908, 'soldi': 6909, '460': 6910, 'exploded': 6911, 'salmonella': 6912, 'gunsabout': 6913, 'wasilla': 6914, '7th': 6915, 'fernandez': 6916, 'medicareon': 6917, '315000': 6918, 'teddy': 6919, 'pled': 6920, 'immunity': 6921, 'exempted': 6922, 'drops': 6923, 'workersabout': 6924, '230000': 6925, 'producer': 6926, '7500': 6927, 'promoted': 6928, 'advisors': 6929, 'taxesnevada': 6930, 'nevadas': 6931, 'northeastern': 6932, 'wastewater': 6933, 'shopping': 6934, 'interrogation': 6935, 'judg': 6936, 'publicsafetyif': 6937, 'staffing': 6938, 'eattle': 6939, 'hagels': 6940, 'trigger': 6941, 'debatesthe': 6942, 'continuing': 6943, 'engineers': 6944, 'dates': 6945, 'pocketing': 6946, 'veteranspresident': 6947, '38th': 6948, 'geopolitical': 6949, 'porkfilled': 6950, 'stuffed': 6951, 'startups': 6952, 'scenario': 6953, 'anymore': 6954, 'breaking': 6955, 'ton': 6956, 'missiles': 6957, 'winners': 6958, 'husted': 6959, 'volcano': 6960, 'transportationfor': 6961, 'registri': 6962, 'historymartin': 6963, 'redistrictingthe': 6964, 'prings': 6965, 'nuclearnorth': 6966, 'tradeaccording': 6967, 'jobaccomplishmentscongressman': 6968, 'rarer': 6969, 'battlefields': 6970, 'smallbusinessince': 6971, 'alleged': 6972, 'garbage': 6973, 'ben': 6974, 'lynn': 6975, 'abcnewsweeki': 6976, 'partition': 6977, 'holly': 6978, 'turner': 6979, 'recruit': 6980, 'criminaljusticeive': 6981, 'soft': 6982, 'ward': 6983, 'darryl': 6984, 'modeled': 6985, 'bureaucraci': 6986, 'socialsecuritymembers': 6987, 'inflating': 6988, 'tires': 6989, 'telecommunications': 6990, 'welfaremore': 6991, 'guatemala': 6992, 'honduras': 6993, 'naral': 6994, 'whol': 6995, 'beachs': 6996, 'easy': 6997, 'catch': 6998, '201517': 6999, 'greenlight': 7000, '1cent': 7001, 'patterson': 7002, 'liens': 7003, 'drugsthe': 7004, 'terrorismthree': 7005, 'converted': 7006, 'participants': 7007, 'needy': 7008, 'handel': 7009, 'grassroots': 7010, 'tag': 7011, 'treason': 7012, 'piracy': 7013, 'counterfeiting': 7014, 'candidatesbiographyit': 7015, 'mall': 7016, 'pr': 7017, 'publichealthover': 7018, 'declin': 7019, 'wheel': 7020, 'terrorismmore': 7021, 'percentincrease': 7022, 'selection': 7023, 'governmentefficiencyonly': 7024, 'cure': 7025, 'objection': 7026, 'porn': 7027, 'jacobs': 7028, 'yorks': 7029, 'religionflorida': 7030, 'engineering': 7031, 'donu2019t': 7032, 'doherty': 7033, 'pollsno': 7034, 'juarez': 7035, 'sound': 7036, 'equally': 7037, 'wrongly': 7038, 'claiming': 7039, 'gunsu': 7040, 'olsen': 7041, '10newstampabayunder': 7042, 'immigrationover': 7043, 'foreignborn': 7044, 'august': 7045, 'octob': 7046, 'gunswhen': 7047, 'acquire': 7048, 'drones': 7049, 'wealthix': 7050, 'lt': 7051, 'settle': 7052, 'untrained': 7053, 'statesthis': 7054, 'supremecourtevery': 7055, 'publichealthwisconsin': 7056, 'fitzgerald': 7057, 'cnbc': 7058, 'correctional': 7059, '750000': 7060, 'liked': 7061, 'confrontation': 7062, 'tarbucks': 7063, 'disneyland': 7064, 'immigrationunder': 7065, '1798': 7066, 'criminalize': 7067, 'healthcarefact': 7068, 'fbis': 7069, 'mortgag': 7070, 'wearing': 7071, 'glasses': 7072, '32000': 7073, 'enlist': 7074, 'suspect': 7075, 'buried': 7076, 'kennedys': 7077, 'jobsjob': 7078, 'healthcarean': 7079, 'exposed': 7080, 'temperatures': 7081, 'outsource': 7082, 'keeps': 7083, 'cholarship': 7084, 'jobaccomplishmentsand': 7085, 'remodeling': 7086, '1998': 7087, 'enjoyed': 7088, 'clips': 7089, 'holperin': 7090, 'federalbudgetyou': 7091, 'resourc': 7092, 'marriages': 7093, 'womentwothirds': 7094, 'elector': 7095, 'busy': 7096, 'undays': 7097, 'achieved': 7098, 'tons': 7099, 'roger': 7100, 'fires': 7101, 'layoff': 7102, 'climb': 7103, 'statebudgetunder': 7104, 'hassans': 7105, 'rio': 7106, 'grande': 7107, 'congressthe': 7108, 'criminaljusticeweve': 7109, 'geneva': 7110, 'lowering': 7111, 'tenth': 7112, 'slav': 7113, 'socialsecurityone': 7114, 'handout': 7115, 'safeti': 7116, 'extinction': 7117, 'songs': 7118, 'mclane': 7119, 'elevated': 7120, 'beaten': 7121, 'copenhagen': 7122, 'assisting': 7123, 'applying': 7124, '1988': 7125, 'foodsafetyays': 7126, 'specialists': 7127, 'comey': 7128, 'answers': 7129, 'messagemachine2012barack': 7130, 'disput': 7131, 'electionsgovernor': 7132, 'guarante': 7133, 'candidatesbiographymccain': 7134, 'messagemachineken': 7135, 'intent': 7136, 'repeating': 7137, 'design': 7138, 'economytoday': 7139, 'abbas': 7140, 'gaspricesin': 7141, 'educationthere': 7142, 'elsewhere': 7143, 'devastated': 7144, 'healthcareover': 7145, 'incandescent': 7146, 'taxesrepublicans': 7147, 'surrogate': 7148, 'missourians': 7149, '172': 7150, 'pumps': 7151, 'barr': 7152, 'lagged': 7153, 'limbaugh': 7154, 'workersrepublicans': 7155, 'taxestheres': 7156, 'exceptions': 7157, 'educationeven': 7158, 'exploring': 7159, 'challeng': 7160, 'casinos': 7161, 'applications': 7162, 'substances': 7163, 'governmentregulationan': 7164, 'bird': 7165, 'environmentnot': 7166, 'environmentjohn': 7167, 'antichrist': 7168, 'uncle': 7169, 'aunt': 7170, 'rivera': 7171, 'islamays': 7172, 'copay': 7173, 'womendavid': 7174, 'millage': 7175, 'naa': 7176, 'publichealthevery': 7177, 'opportunities': 7178, 'kittens': 7179, 'countless': 7180, 'dramat': 7181, 'punditsamericas': 7182, 'sources': 7183, 'campaignfinancefor': 7184, 'electionsover': 7185, 'uncontested': 7186, 'pensionsmy': 7187, 'simultaneously': 7188, 'activated': 7189, 'economyafter': 7190, 'entitlements': 7191, 'memphis': 7192, 'doubles': 7193, 'gamblers': 7194, 'statistical': 7195, 'focusing': 7196, 'aarp': 7197, 'communicate': 7198, 'credenti': 7199, 'educationone': 7200, '16th': 7201, 'warmed': 7202, 'precisely': 7203, 'transportationyou': 7204, 'mica': 7205, 'endoflife': 7206, 'star': 7207, '1961': 7208, 'electionsen': 7209, 'choosing': 7210, 'unaccountable': 7211, 'secede': 7212, 'dinosaurs': 7213, 'medicarerep': 7214, 'attrit': 7215, 'histor': 7216, 'jihad': 7217, 'enters': 7218, 'hijackers': 7219, 'succeeded': 7220, 'delivering': 7221, 'deadline': 7222, 'taxesherrod': 7223, 'bonamici': 7224, 'championed': 7225, 'sidewalks': 7226, 'suing': 7227, 'whine': 7228, 'bearing': 7229, '201315': 7230, 'tradeamerica': 7231, 'nevadans': 7232, 'bps': 7233, 'intervened': 7234, 'keating': 7235, 'tatist': 7236, 'bulk': 7237, 'jobaccomplishmentsive': 7238, 'communists': 7239, 'jessica': 7240, 'unstein': 7241, 'denies': 7242, 'ceremonies': 7243, 'electionsweve': 7244, 'hampshires': 7245, 'consult': 7246, 'nominating': 7247, 'scrutiny': 7248, 'statebudgetour': 7249, 'taxcredit': 7250, 'aggressively': 7251, 'aka': 7252, 'plotting': 7253, 'matching': 7254, 'povertyamong': 7255, 'suburb': 7256, 'mistak': 7257, '115000': 7258, 'statebudgetive': 7259, 'joke': 7260, 'healthcarehalf': 7261, 'ame': 7262, 'votingrecorddavid': 7263, 'relied': 7264, 'writing': 7265, 'cooking': 7266, 'serial': 7267, 'killers': 7268, 'countygovernmentays': 7269, 'rolled': 7270, 'grandchildren': 7271, 'workerswhen': 7272, 'char': 7273, 'delivery': 7274, 'correctionsandupdatesays': 7275, 'moore': 7276, 'absent': 7277, 'healthcaredid': 7278, 'reconciliation': 7279, 'tenur': 7280, 'stimulate': 7281, '2300': 7282, 'boats': 7283, 'rooting': 7284, 'gentrified': 7285, 'anglos': 7286, 'laying': 7287, 'regularly': 7288, 'forests': 7289, 'mercury': 7290, 'propaganda': 7291, 'educationrural': 7292, 'urging': 7293, 'disabilityays': 7294, 'mocked': 7295, 'map': 7296, 'pacific': 7297, 'removal': 7298, 'barriers': 7299, 'celebrate': 7300, 'incoming': 7301, 'haridopolos': 7302, 'pa': 7303, 'moammar': 7304, 'elaborate': 7305, 'economymccain': 7306, 'entrance': 7307, 'fit': 7308, 'bisexual': 7309, 'populations': 7310, 'duties': 7311, 'manufacturer': 7312, 'beneath': 7313, 'oceans': 7314, 'alive': 7315, 'harvest': 7316, 'millionplus': 7317, 'povertyhalf': 7318, 'statesmassachusetts': 7319, 'noaa': 7320, 'climatechangei': 7321, 'kits': 7322, 'traditionally': 7323, 'economyfor': 7324, 'slated': 7325, 'broker': 7326, 'buyback': 7327, 'eighth': 7328, 'bean': 7329, 'array': 7330, 'properly': 7331, 'hearings': 7332, 'palins': 7333, 'sand': 7334, 'theorist': 7335, 'guarantees': 7336, 'numberone': 7337, 'immigrationdonald': 7338, 'transportationour': 7339, 'healthcareeach': 7340, 'cohen': 7341, 'abortiongov': 7342, 'altered': 7343, '176000': 7344, 'amanda': 7345, 'fritz': 7346, 'stroke': 7347, 'medicares': 7348, 'bombed': 7349, 'critics': 7350, 'gunsgun': 7351, 'celebrates': 7352, 'prompting': 7353, 'historytexas': 7354, 'stimulusdiscretionary': 7355, 'educationunited': 7356, 'achieving': 7357, 'citygovernmentwhen': 7358, 'condoms': 7359, 'surgical': 7360, 'abortionplanned': 7361, 'raked': 7362, 'invaded': 7363, 'cashed': 7364, 'launch': 7365, 'asks': 7366, '1790': 7367, 'accounted': 7368, 'stimulusweve': 7369, 'gamblingthe': 7370, 'destination': 7371, 'gambl': 7372, 'transition': 7373, 'federalbudgetdemocrats': 7374, 'das': 7375, 'flags': 7376, 'immigrationenate': 7377, '1070': 7378, 'civilized': 7379, 'clause': 7380, 'kills': 7381, 'pittsburgh': 7382, 'snow': 7383, 'huey': 7384, 'nearby': 7385, 'witzerland': 7386, 'although': 7387, 'vetted': 7388, 'ch': 7389, 'appropriate': 7390, 'britains': 7391, 'deposit': 7392, 'warrant': 7393, 'seize': 7394, 'taxesben': 7395, 'imprisonment': 7396, 'taxesjim': 7397, 'honest': 7398, 'visitor': 7399, 'packers': 7400, 'foreignpolicywe': 7401, 'alexi': 7402, 'statebudgetfrom': 7403, 'candidatesbiographythis': 7404, 'libraries': 7405, 'publichealthu': 7406, 'liberia': 7407, 'iil': 7408, 'healthcaregov': 7409, 'wikipedia': 7410, 'knife': 7411, 'federalbudgetevery': 7412, 'window': 7413, 'divorce': 7414, 'dumping': 7415, 'lend': 7416, 'diplomatic': 7417, 'povertyone': 7418, 'hostag': 7419, 'advocates': 7420, 'solid': 7421, '2040': 7422, 'oilspillwe': 7423, 'soldier': 7424, 'embrace': 7425, 'multiplied': 7426, 'however': 7427, 'economically': 7428, 'workersmost': 7429, 'imam': 7430, 'sermon': 7431, 'undercover': 7432, '2025': 7433, 'roy': 7434, '1st': 7435, 'unilateral': 7436, 'jobsof': 7437, 'publicsector': 7438, 'stateswere': 7439, 'militaryone': 7440, 'mcchrystal': 7441, 'competitor': 7442, 'terrorismunder': 7443, 'gunfree': 7444, 'pringsteen': 7445, '1975': 7446, 'gym': 7447, 'terrorismwhile': 7448, 'rudy': 7449, 'relatives': 7450, 'removes': 7451, 'newborn': 7452, 'economyover': 7453, 'federalbudgetthis': 7454, 'remedial': 7455, 'renaissance': 7456, 'opioid': 7457, 'thirdlargest': 7458, 'locking': 7459, 'economies': 7460, 'floridathe': 7461, 'howard': 7462, 'pilots': 7463, 'taxeseven': 7464, 'religionwhen': 7465, 'condemn': 7466, 'sentencing': 7467, 'dade': 7468, 'urbanthe': 7469, 'christine': 7470, 'pryor': 7471, 'patriots': 7472, 'slaveri': 7473, '201415': 7474, 'cooperative': 7475, 'jobsohio': 7476, 'rushhour': 7477, 'unset': 7478, 'facil': 7479, 'referral': 7480, 'notorious': 7481, 'injury': 7482, 'locks': 7483, 'transparencyin': 7484, 'womenrepublican': 7485, 'holders': 7486, '1972': 7487, '005': 7488, 'ilberkraus': 7489, 'naked': 7490, 'degrade': 7491, 'healthcaretates': 7492, 'blackberry': 7493, 'forfeiture': 7494, 'affects': 7495, 'gunsif': 7496, 'prevailing': 7497, 'unionization': 7498, 'punditsif': 7499, 'decreas': 7500, 'brazilian': 7501, 'injected': 7502, 'hp': 7503, 'carly': 7504, 'recklessly': 7505, 'debunked': 7506, 'thin': 7507, 'finest': 7508, 'uv': 7509, 'contrast': 7510, 'cavity': 7511, 'budgeting': 7512, 'harrisburg': 7513, 'statebudgetnew': 7514, 'station': 7515, 'constantly': 7516, 'mix': 7517, 'afghanistanwe': 7518, 'conducting': 7519, 'cuyahoga': 7520, 'discussion': 7521, 'watera': 7522, 'cosponsor': 7523, 'widget': 7524, 'steril': 7525, 'unconstitutional': 7526, 'kb': 7527, 'toys': 7528, 'presiding': 7529, 'leffingwell': 7530, 'racing': 7531, 'boost': 7532, 'superdelegate': 7533, 'ignore': 7534, 'closes': 7535, 'unexpected': 7536, 'tricklands': 7537, 'recreationthe': 7538, 'and': 7539, 'allegedly': 7540, 'maddox': 7541, 'helmets': 7542, 'murderers': 7543, 'connections': 7544, 'regimes': 7545, 'gates': 7546, 'bushadministrationjohn': 7547, 'expenditures': 7548, 'algebra': 7549, 'chickens': 7550, 'hazardous': 7551, 'candidatesbiographyjohn': 7552, 'czech': 7553, 'tourismtourism': 7554, 'engines': 7555, 'franchise': 7556, 'philippine': 7557, 'revolut': 7558, 'terrorismpresident': 7559, 'rugs': 7560, 'loving': 7561, 'reversal': 7562, 'raped': 7563, 'abortionmccain': 7564, 'ellwood': 7565, 'shar': 7566, 'audience': 7567, 'atwaters': 7568, 'grades': 7569, 'migrants': 7570, '269': 7571, 'confer': 7572, 'harvey': 7573, 'oswald': 7574, 'assassination': 7575, 'kennedi': 7576, 'educationmost': 7577, 'researchers': 7578, 'overweight': 7579, 'taxestax': 7580, 'jobseighty': 7581, 'obamabirthcertificatea': 7582, 'occidental': 7583, 'taxi': 7584, 'weight': 7585, 'declining': 7586, 'ross': 7587, 'jobaccomplishmentspresident': 7588, '307': 7589, 'errors': 7590, 'mistakes': 7591, 'corrected': 7592, 'requesting': 7593, 'incomeince': 7594, 'paulson': 7595, 'interviewed': 7596, 'ray': 7597, 'infrastructurea': 7598, 'womenby': 7599, '12th': 7600, 'g': 7601, 'historytoday': 7602, 'smallbusinessmall': 7603, 'segments': 7604, 'extremely': 7605, 'dumped': 7606, 'raw': 7607, 'condo': 7608, 'blood': 7609, 'reward': 7610, 'manmad': 7611, 'fracked': 7612, 'describe': 7613, 'jobaccomplishmentsbarack': 7614, 'mob': 7615, 'electr': 7616, 'summit': 7617, 'beckhams': 7618, 'deepest': 7619, 'healthcareall': 7620, 'tel': 7621, 'picks': 7622, 'garland': 7623, 'islamist': 7624, 'messagemachine2012after': 7625, 'teamed': 7626, 'featuring': 7627, 'airports': 7628, '9th': 7629, 'actors': 7630, 'neutral': 7631, 'obrien': 7632, 'distort': 7633, 'womenthere': 7634, 'fir': 7635, 'tallahassee': 7636, 'unionswhen': 7637, 'womenafter': 7638, 'unintended': 7639, 'indicates': 7640, 'fulfilled': 7641, 'grad': 7642, 'cleanup': 7643, 'ipod': 7644, 'soda': 7645, 'juice': 7646, 'accepts': 7647, 'sci': 7648, 'ar15': 7649, 'povertyfor': 7650, 'pollspresident': 7651, 'diowa': 7652, 'carters': 7653, 'transportationby': 7654, 'taveras': 7655, 'germans': 7656, 'sens': 7657, 'carriers': 7658, 'punditsmost': 7659, 'restored': 7660, 'app': 7661, 'gillnets': 7662, 'aig': 7663, 'hoax': 7664, 'welfareproposed': 7665, '850': 7666, 'minors': 7667, 'medicareobamacare': 7668, 'skyrocketed': 7669, 'hemispher': 7670, 'workersover': 7671, 'primaries': 7672, 'cofounder': 7673, 'cured': 7674, 'volunteers': 7675, 'ladies': 7676, 'achievement': 7677, 'electionsherrod': 7678, 'butt': 7679, 'asianamerican': 7680, 'uncompensated': 7681, 'unanimously': 7682, 'electionsunder': 7683, 'nuclearrussia': 7684, 'younger': 7685, 'civilians': 7686, 'outer': 7687, 'continental': 7688, 'helf': 7689, 'urbanin': 7690, 'scientist': 7691, 'stack': 7692, 'abc': 7693, 'hobby': 7694, 'lobster': 7695, 'transportationportland': 7696, 'witnessed': 7697, 'sharing': 7698, 'scal': 7699, 'belongs': 7700, 'titled': 7701, 'koster': 7702, 'submarines': 7703, 'smallpox': 7704, 'polluting': 7705, 'librarian': 7706, 'intact': 7707, 'bodies': 7708, '108': 7709, 'oilspillin': 7710, 'segment': 7711, 'tamp': 7712, 'pluto': 7713, 'milken': 7714, 'institute': 7715, 'topperforming': 7716, 'borne': 7717, 'originated': 7718, 'alaskas': 7719, 'swing': 7720, 'tradeu': 7721, 'flip': 7722, 'qatar': 7723, 'gunseven': 7724, 'cattle': 7725, 'oct': 7726, 'exchanges': 7727, 'partys': 7728, 'taxesduring': 7729, 'taters': 7730, 'messagemachineharry': 7731, 'amash': 7732, 'historyronald': 7733, 'strength': 7734, 'premature': 7735, '1900': 7736, 'justices': 7737, 'final': 7738, '22million': 7739, 'imperson': 7740, 'anyon': 7741, 'packag': 7742, 'buddies': 7743, 'empty': 7744, 'nutrition': 7745, '270000': 7746, 'drastically': 7747, 'lan': 7748, 'installation': 7749, '1976': 7750, 'congest': 7751, 'junk': 7752, 'documents': 7753, 'duckworth': 7754, 'surveillance': 7755, 'encourages': 7756, 'compete': 7757, 'carrolls': 7758, 'outsid': 7759, 'funneling': 7760, 'disgraced': 7761, 'socially': 7762, 'qualified': 7763, '900000': 7764, 'transferred': 7765, 'posed': 7766, 'incometax': 7767, 'nickel': 7768, 'ridesharing': 7769, 'taxesome': 7770, 'underground': 7771, 'ayers': 7772, 'producers': 7773, 'comprise': 7774, 'misdemeanor': 7775, 'frames': 7776, 'murray': 7777, 'educationgeorgias': 7778, 'proabortion': 7779, 'nucleari': 7780, 'herbert': 7781, 'taxesflorida': 7782, '135': 7783, 'outlawed': 7784, 'ballooned': 7785, 'nc': 7786, 'unopposed': 7787, 'diverting': 7788, 'conversion': 7789, 'donaldtrump': 7790, 'columnist': 7791, 'appropri': 7792, 'teams': 7793, 'votingrecordits': 7794, 'context': 7795, 'nick': 7796, 'jobaccomplishmentsin': 7797, 'militaryif': 7798, 'ensures': 7799, 'gaza': 7800, 'instructed': 7801, 'protester': 7802, 'electionspaul': 7803, 'spil': 7804, 'nose': 7805, 'trek': 7806, 'bicycles': 7807, 'legacy': 7808, 'overnight': 7809, 'cells': 7810, 'everywhere': 7811, 'catastrophic': 7812, 'hero': 7813, 'thwart': 7814, 'messagemachine2012virginia': 7815, 'ection': 7816, 'postage': 7817, 'fincher': 7818, 'farmer': 7819, 'crop': 7820, 'livestock': 7821, 'pull': 7822, 'pave': 7823, 'childcare': 7824, 'jobsgeorgia': 7825, 'patty': 7826, 'filers': 7827, 'produces': 7828, 'statefinancesunder': 7829, 'terrorismif': 7830, 'missions': 7831, 'ham': 7832, 'bread': 7833, 'complaining': 7834, '590000': 7835, 'militaryjohn': 7836, 'airbus': 7837, 'widespread': 7838, 'electionswisconsin': 7839, 'drain': 7840, 'soundly': 7841, 'robberies': 7842, 'sinc': 7843, 'gunsover': 7844, 'judgment': 7845, 'hoped': 7846, 'votingrecordherrod': 7847, 'facilitate': 7848, 'stimulusour': 7849, 'handling': 7850, 'looming': 7851, 'disgrac': 7852, 'modify': 7853, 'marriagepolls': 7854, '170000': 7855, 'economyin': 7856, '54000': 7857, 'lid': 7858, 'violating': 7859, 'suspicion': 7860, 'statebudgetmedicaid': 7861, '2021': 7862, '25year': 7863, 'supremacist': 7864, '04': 7865, 'master': 7866, 'capac': 7867, 'familys': 7868, 'musharraf': 7869, 'highpaying': 7870, 'antichoice': 7871, 'womenone': 7872, 'haslam': 7873, 'marketregulationrhode': 7874, 'graduated': 7875, 'taxeseach': 7876, 'commute': 7877, 'votingrecordwhen': 7878, 'statebudgettim': 7879, 'hiked': 7880, 'perks': 7881, 'atheists': 7882, 'electorate': 7883, 'punish': 7884, 'shrinking': 7885, 'taxespaul': 7886, 'healthcareome': 7887, 'immigrationgeorgias': 7888, 'upheld': 7889, 'happily': 7890, 'gamblingnevada': 7891, 'divorc': 7892, 'holton': 7893, 'foot': 7894, 'disagrees': 7895, 'messagemachine2012obama': 7896, 'clock': 7897, 'packs': 7898, 'conforming': 7899, 'norton': 7900, 'staying': 7901, 'statements': 7902, 'residential': 7903, 'electionsvoter': 7904, 'endors': 7905, 'taxestexas': 7906, 'allegations': 7907, 'environmentan': 7908, 'estabrook': 7909, 'dam': 7910, '16500': 7911, 'deborah': 7912, 'abortionone': 7913, 'unemployments': 7914, 'apprehensions': 7915, 'reaches': 7916, 'asia': 7917, 'farmland': 7918, 'statebudgetjason': 7919, 'pennies': 7920, 'applauded': 7921, 'infrastructurewhen': 7922, 'fixing': 7923, 'unionsthere': 7924, 'fence': 7925, 'electionsany': 7926, 'stress': 7927, 'outspent': 7928, 'illinoi': 7929, 'congressionalrulescongress': 7930, 'personhood': 7931, 'watertexas': 7932, 'governmentregulationa': 7933, 'extortion': 7934, 'stimulusrep': 7935, 'oppos': 7936, 'statebudgetrepublicans': 7937, 'trash': 7938, 'collapsed': 7939, 'daca': 7940, 'mosqu': 7941, 'associate': 7942, 'gordon': 7943, 'religiontoday': 7944, 'assistant': 7945, 'neighborhoods': 7946, 'workrelated': 7947, 'dark': 7948, 'electionsaid': 7949, 'casey': 7950, 'freed': 7951, 'caucuses': 7952, 'statefinancesnew': 7953, 'floridaamendmentsays': 7954, 'cancel': 7955, 'patent': 7956, 'immigrationyou': 7957, 'wast': 7958, 'shore': 7959, 'falk': 7960, 'defeating': 7961, 'riv': 7962, 'taxesnot': 7963, 'runyan': 7964, 'payout': 7965, 'daylight': 7966, 'notes': 7967, 'striking': 7968, 'medicaidmedicaid': 7969, 'worship': 7970, 'roadside': 7971, 'deepwater': 7972, 'everyon': 7973, 'taxespeople': 7974, 'mcdonald': 7975, 'campaignfinancemy': 7976, 'povertyrhode': 7977, '275': 7978, 'economists': 7979, 'novemb': 7980, 'messagemachineen': 7981, 'economytwo': 7982, '20billion': 7983, 'publicserviceafter': 7984, 'armies': 7985, 'randi': 7986, 'climatechangeays': 7987, 'sealevel': 7988, 'burdensome': 7989, '185': 7990, 'allah': 7991, 'legalissuesi': 7992, 'fred': 7993, 'detail': 7994, 'educationafter': 7995, 'jew': 7996, 'greece': 7997, 'healthcarerepealing': 7998, '4billion': 7999, '41000': 8000, '4400': 8001, 'syndrom': 8002, 'copy': 8003, 'kenyan': 8004, 'materi': 8005, 'introduce': 8006, 'misinformed': 8007, 'civilrightsin': 8008, 'brennan': 8009, '196': 8010, 'blaming': 8011, 'militaryhe': 8012, 'populationin': 8013, 'understood': 8014, 'approv': 8015, 'hagan': 8016, 'statebudgetmost': 8017, 'argu': 8018, 'footprint': 8019, 'radio': 8020, 'retained': 8021, 'gina': 8022, 'punishment': 8023, 'sorry': 8024, 'memphi': 8025, 'internment': 8026, 'incid': 8027, 'riders': 8028, 'animalsays': 8029, 'sid': 8030, '143': 8031, 'failures': 8032, 'thurmond': 8033, 'defect': 8034, 'foreignpolicythere': 8035, 'debtays': 8036, 'jobaccomplishmentsince': 8037, 'militarycrimea': 8038, '1954': 8039, 'whenever': 8040, 'votingrecordcongressman': 8041, 'wis': 8042, 'candidatesbiographyu': 8043, 'aligned': 8044, 'racked': 8045, 'workersone': 8046, 'investig': 8047, 'byrne': 8048, 'shape': 8049, 'healthcaremarco': 8050, 'gores': 8051, 'registering': 8052, 'grab': 8053, 'stimulusa': 8054, 'economyu': 8055, 'prosecutions': 8056, 'singleuse': 8057, 'bosnia': 8058, 'statefunded': 8059, 'abramoff': 8060, 'popculturei': 8061, 'sock': 8062, 'chinaays': 8063, 'transportationits': 8064, 'deposits': 8065, 'popculturefor': 8066, 'clap': 8067, 'isolated': 8068, 'hw': 8069, 'knowing': 8070, 'classmate': 8071, 'cannabis': 8072, 'des': 8073, 'moines': 8074, 'campaignadvertisingwhen': 8075, 'witness': 8076, 'jobsgov': 8077, 'pollsright': 8078, 'yearlong': 8079, 'stoves': 8080, 'replacing': 8081, 'soared': 8082, 'housingflorida': 8083, 'tandard': 8084, 'immigrationmexican': 8085, 'lawabiding': 8086, 'reopen': 8087, 'hol': 8088, 'topsecret': 8089, 'absence': 8090, 'foreignpolicyhillary': 8091, 'spying': 8092, 'hud': 8093, 'exclusive': 8094, 'economymy': 8095, 'jill': 8096, 'supportive': 8097, 'detention': 8098, 'federalbudgetat': 8099, '1970s': 8100, 'happiness': 8101, 'tradetrade': 8102, 'campaignfinancewe': 8103, 'dimora': 8104, 'allocated': 8105, 'unpreced': 8106, 'federalbudgetwere': 8107, 'chimel': 8108, 'domes': 8109, 'educationfloridas': 8110, 'brunner': 8111, 'petit': 8112, '13th': 8113, 'swap': 8114, 'taxesby': 8115, 'nonu': 8116, 'exclusion': 8117, 'neglect': 8118, 'generic': 8119, 'aut': 8120, 'instability': 8121, 'yorkers': 8122, 'hurting': 8123, 'taxesnow': 8124, 'perman': 8125, 'womendan': 8126, '140000': 8127, 'cycl': 8128, 'cocaine': 8129, 'womenmy': 8130, '228': 8131, 'punditsince': 8132, 'learning': 8133, 'gogebic': 8134, 'campaignfinanceim': 8135, 'establishing': 8136, 'weinstein': 8137, 'cargo': 8138, 'hog': 8139, 'intelligent': 8140, '\\x90': 8141, 'rachel': 8142, 'zenzinger': 8143, 'oman': 8144, 'mccrory': 8145, 'expenditure': 8146, 'povertywhen': 8147, 'heila': 8148, 'initial': 8149, 'staged': 8150, 'statebudgetthis': 8151, 'cience': 8152, 'unarm': 8153, 'marketplac': 8154, 'jobsherrod': 8155, 'jobswhile': 8156, 'pensionsthe': 8157, 'faces': 8158, 'ident': 8159, 'immigrationcongressman': 8160, 'alert': 8161, 'dorm': 8162, 'gath': 8163, 'globally': 8164, 'publichealthas': 8165, 'ibm': 8166, 'evolut': 8167, '1989': 8168, 'hey': 8169, 'contrary': 8170, 'questioned': 8171, 'conclude': 8172, 'morocco': 8173, 'sharply': 8174, 'adjust': 8175, 'runaway': 8176, 'bags': 8177, 'ratios': 8178, 'canadianstyle': 8179, 'workersaccording': 8180, 'cool': 8181, 'bright': 8182, 'hillsborough': 8183, '367': 8184, 'identical': 8185, 'immigrationimmigrants': 8186, 'gunsits': 8187, 'healthcareup': 8188, 'steady': 8189, '125000': 8190, 'violate': 8191, '55000': 8192, 'jobswisconsins': 8193, 'substantive': 8194, 'confidential': 8195, 'verified': 8196, 'transportationmany': 8197, 'millennials': 8198, 'tri': 8199, 'complaints': 8200, 'jobseven': 8201, 'rooms': 8202, 'fundraisers': 8203, 'flaw': 8204, 'lamar': 8205, '1996': 8206, 'teenage': 8207, 'capit': 8208, 'supremecourtin': 8209, 'statesmore': 8210, 'tradei': 8211, 'tpp': 8212, 'cop': 8213, 'dea': 8214, 'sciencein': 8215, 'statefinancesby': 8216, 'jeopardi': 8217, 'denmark': 8218, 'shield': 8219, 'taxesit': 8220, 'tearing': 8221, 'chronic': 8222, 'sectors': 8223, 'category': 8224, 'clearance': 8225, 'foreignpolicycongress': 8226, 'turnpik': 8227, 'publicsafetywe': 8228, 'theyr': 8229, 'punditswhen': 8230, 'lanier': 8231, 'jury': 8232, 'controlling': 8233, 'merkley': 8234, 'exempting': 8235, 'omething': 8236, 'electionsmore': 8237, 'selected': 8238, 'handful': 8239, 'proved': 8240, 'bankrolling': 8241, 'incometoday': 8242, 'exceeding': 8243, 'lbj': 8244, 'uptick': 8245, 'delta': 8246, 'tradeweve': 8247, 'y': 8248, 'rebuilt': 8249, 'historyon': 8250, 'sourc': 8251, 'candidatesbiographyhe': 8252, 'essions': 8253, 'threequarters': 8254, 'fahrenheit': 8255, 'tweet': 8256, 'baseballays': 8257, 'raila': 8258, 'odinga': 8259, 'corporationsays': 8260, '770': 8261, 'povertytoday': 8262, 'reputation': 8263, 'h1n1': 8264, 'marti': 8265, 'firefight': 8266, 'belonged': 8267, 'housingdonald': 8268, 'excited': 8269, 'sadly': 8270, 'mobil': 8271, 'dwi': 8272, 'conversation': 8273, 'falcons': 8274, 'landrieu': 8275, 'understanding': 8276, 'tripoli': 8277, '275000': 8278, 'violators': 8279, 'jihadists': 8280, 'dependency': 8281, 'immigrationundocumented': 8282, 'underwear': 8283, 'bomber': 8284, 'footage': 8285, 'renaccis': 8286, 'crowd': 8287, 'vaccinated': 8288, 'taxesof': 8289, 'strategies': 8290, 'transportationwisconsins': 8291, 'paved': 8292, 'gravel': 8293, 'labeling': 8294, 'governmentefficiencyits': 8295, 'factually': 8296, 'campaignadvertisingrob': 8297, 'damag': 8298, 'portfolio': 8299, 'superior': 8300, 'educationat': 8301, 'realize': 8302, 'player': 8303, 'trooper': 8304, 'joblessness': 8305, 'criteria': 8306, 'defendants': 8307, '105': 8308, 'reuses': 8309, 'consists': 8310, 'offense': 8311, 'economyhillary': 8312, 'brackets': 8313, '235': 8314, 'governmentregulationunder': 8315, 'seamen': 8316, 'convened': 8317, 'taxestaxes': 8318, 'boot': 8319, 'instituting': 8320, 'eminole': 8321, 'discovering': 8322, 'educationonly': 8323, 'emory': 8324, 'closer': 8325, 'recover': 8326, 'transportationgeorgia': 8327, 'religiongov': 8328, 'abortiona': 8329, 'academies': 8330, 'duke': 8331, 'championships': 8332, 'fraudulent': 8333, 'infrastructurethere': 8334, 'affected': 8335, 'militaryan': 8336, 'valid': 8337, 'liberate': 8338, 'ethicsa': 8339, 'destructive': 8340, 'terrorismits': 8341, 'votingage': 8342, 'transportationmore': 8343, 'gunsaccording': 8344, '31st': 8345, 'veteransits': 8346, 'commented': 8347, 'immigration134000': 8348, 'ghetto': 8349, 'candidatesbiographypaul': 8350, 'mongrel': 8351, 'nugent': 8352, 'halfbilliondollar': 8353, '278': 8354, 'cantors': 8355, 'transportationonly': 8356, 'accessible': 8357, 'messagemachine2012we': 8358, 'healthcareobamacarecaused': 8359, 'absorb': 8360, 'moreand': 8361, '1547': 8362, 'trademake': 8363, 'advertise': 8364, 'statefinances18': 8365, 'ethnic': 8366, 'blackstone': 8367, 'elementaryage': 8368, 'proficient': 8369, 'the1992': 8370, 'electionbill': 8371, 'beenon': 8372, 'recreationmilwaukee': 8373, 'welfare60': 8374, 'geography': 8375, 'fragile': 8376, 'fum': 8377, '90million': 8378, 'outfitted': 8379, 'decor': 8380, 'energycontends': 8381, 'neenah': 8382, 'bow': 8383, 'arrow': 8384, 'energymccains': 8385, 'singleanswer': 8386, 'workersjerry': 8387, 'spaceyouve': 8388, 'tremendously': 8389, 'deceived': 8390, 'posing': 8391, 'decapitated': 8392, 'mongrels': 8393, '01': 8394, 'courtdefined': 8395, 'quotethe': 8396, 'intimacy': 8397, 'affection': 8398, 'hors': 8399, 'messagemachineu': 8400, '37000': 8401, 'rangel': 8402, 'dni': 8403, 'healthcareof': 8404, 'deformed': 8405, 'alcoholics': 8406, 'iraqregarding': 8407, 'lessen': 8408, 'woodruff': 8409, 'publicsafetywashington': 8410, 'candidatesbiographyoy': 8411, 'nico': 8412, 'estatal': 8413, 'quin': 8414, 'es': 8415, 'hombre': 8416, 'negocio': 8417, 'obamaclinton': 8418, '10newstampabay20': 8419, 'nonfederally': 8420, 'statesutah': 8421, 'taxesince': 8422, 'muffins': 8423, 'kriseman': 8424, 'krisemans': 8425, 'deutsche': 8426, 'naacps': 8427, 'economyhes': 8428, 'manipulating': 8429, 'transportationclackamas': 8430, 'trimets': 8431, 'immigrationfences': 8432, 'berlin': 8433, 'afest': 8434, 'crimeanimal': 8435, 'indicative': 8436, 'trait': 8437, 'certifications': 8438, 'campaignfinanceon': 8439, 'volvo': 8440, 'spurned': 8441, '3455': 8442, 'peach': 8443, 'fakenewslady': 8444, 'gaga': 8445, 'transportationtaxes': 8446, 'trains': 8447, 'leaderships': 8448, 'hln': 8449, 'belittled': 8450, 'bandaid': 8451, 'earmarker': 8452, '220000': 8453, 'renovate': 8454, 'blueberry': 8455, 'snowmobile': 8456, 'marijuanatransporting': 8457, 'electionswashington': 8458, 'substitutes': 8459, 'technologyfederal': 8460, 'zandi': 8461, 'bizarrely': 8462, 'tradebecause': 8463, 'statefinancesaustin': 8464, 'constables': 8465, 'workersthree': 8466, 'americanstheyre': 8467, 'immigrationat': 8468, 'governmentefficiencyof': 8469, 'medicarecongress': 8470, 'uhaul': 8471, 'flee': 8472, 'golden': 8473, 'electionsmichelle': 8474, 'microchips': 8475, 'seceding': 8476, 'unionsbefore': 8477, 'leaner': 8478, 'off': 8479, 'incomenearly': 8480, 'financialregulationwall': 8481, 'megabanks': 8482, 'advantages': 8483, 'terrorismmaj': 8484, 'nidal': 8485, 'hasan': 8486, 'advior': 8487, 'telecom': 8488, 'rateofreturn': 8489, 'womenbased': 8490, 'chet': 8491, 'forviagra': 8492, 'medicarenobody': 8493, 'attent': 8494, 'sportsmore': 8495, 'studentathlet': 8496, 'billed': 8497, 'revolving': 8498, 'reopened': 8499, '650000': 8500, 'accomplishments': 8501, 'intrinsically': 8502, 'immigrationwhy': 8503, 'eizure': 8504, 'energygas': 8505, 'mobils': 8506, 'sciencehuman': 8507, 'clim': 8508, 'financialregulationover': 8509, 'midsize': 8510, 'retail': 8511, 'publichealthwithin': 8512, 'hardware': 8513, 'purposes': 8514, 'britsare': 8515, 'spotting': 8516, 'chopp': 8517, 'corrine': 8518, 'alcee': 8519, 'hastings': 8520, 'abcnewsweekthese': 8521, 'ipab': 8522, 'womenaid': 8523, 'hudgens': 8524, 'punditsalaskas': 8525, 'ound': 8526, 'pristin': 8527, 'patriotismthomas': 8528, 'paine': 8529, 'stateswhether': 8530, 'housingpasco': 8531, 'prospect': 8532, 'involvement': 8533, 'closur': 8534, 'outpaces': 8535, 'electionstexas': 8536, 'governmentregulationepa': 8537, 'bbq': 8538, 'economyome': 8539, 'wanggaard': 8540, 'messagemachine2012bill': 8541, 'statebudgetagriculture': 8542, 'att': 8543, 'yoho': 8544, 'threefifths': 8545, 'pecter': 8546, 'anglo': 8547, 'lights': 8548, '513': 8549, 'verdict': 8550, '11106': 8551, 'virtue': 8552, 'candidatesbiographywhile': 8553, 'untruthful': 8554, 'politifacts': 8555, 'weatherit': 8556, 'citygovernmentalison': 8557, 'unanimous': 8558, 'stimulusonly': 8559, 'energytapping': 8560, 'incomemost': 8561, 'comprised': 8562, 'multimillionair': 8563, 'gunsfrom': 8564, 'averaging': 8565, 'threefold': 8566, 'onand': 8567, 'that': 8568, 'candidatesbiographywe': 8569, 'mainstream': 8570, '1percent': 8571, '89376857': 8572, 'marketregulationthere': 8573, 'projecting': 8574, 'transportationcongresswoman': 8575, 'postpones': 8576, 'closure': 8577, 'profession': 8578, 'louis': 8579, 'uline': 8580, 'electionsohio': 8581, 'uncounted': 8582, 'installment': 8583, 'dealerships': 8584, 'unionspublic': 8585, '7step': 8586, 'ratepayers': 8587, 'millionyear': 8588, 'overtime': 8589, 'passively': 8590, 'courthouse': 8591, '45193289': 8592, 'watt': 8593, 'jobaccomplishmentsdewine': 8594, 'madoff': 8595, 'taxesloranne': 8596, 'ausleys': 8597, 'wreck': 8598, 'disposal': 8599, 'wastes': 8600, 'ashbritt': 8601, 'south': 8602, 'contaminated': 8603, 'uperfund': 8604, 'deficitif': 8605, 'printed': 8606, 'pile': 8607, 'carri': 8608, 'jobaccomplishmentsdekalb': 8609, 'stimulusu': 8610, '71500': 8611, 'showhillary': 8612, 'environmentnevada': 8613, 'statesaccording': 8614, '2yearold': 8615, '13year': 8616, 'sentence': 8617, 'energyelectricity': 8618, 'workersu': 8619, '60year': 8620, 'transportationblocking': 8621, 'sealed': 8622, 'healthcarecover': 8623, 'invoked': 8624, 'chain': 8625, 'energyaustin': 8626, 'workerswalmart': 8627, '5800': 8628, 'likewis': 8629, 'drains': 8630, 'overpay': 8631, 'anwr': 8632, 'minimal': 8633, '20million': 8634, 'electionsyoure': 8635, 'thanfind': 8636, 'supremecourtprior': 8637, '1962': 8638, 'prayed': 8639, 'principal': 8640, 'establishes': 8641, 'dictate': 8642, 'protimulus': 8643, 'economychris': 8644, 'taxesboth': 8645, 'publichealthpediatricians': 8646, 'proximity': 8647, 'drugsa': 8648, 'bath': 8649, 'salts': 8650, 'raccoons': 8651, 'technologyif': 8652, 'abcnewsweekdubai': 8653, 'vehemently': 8654, 'antitax': 8655, 'lined': 8656, 'taxescocacolas': 8657, 'socialsecuritydonald': 8658, 'workershillary': 8659, 'garnisheed': 8660, 'jobaccomplishmentspoints': 8661, 'workplaces': 8662, 'misdemeanors': 8663, 'batting': 8664, 'sewag': 8665, 'federalbudgetto': 8666, 'taxespls': 8667, 'refer': 8668, 'welfarefortythree': 8669, 'settled': 8670, '19percentrais': 8671, 'jobsemployment': 8672, 'longestrunning': 8673, 'wi': 8674, 'statebudgetthen': 8675, 'theatrically': 8676, 'stopgap': 8677, 'newhampshire2012it': 8678, 'healthcareohioans': 8679, 'ingapor': 8680, 'publichealthnine': 8681, 'lowercost': 8682, 'smallbusinesswere': 8683, '71000': 8684, 'educationof': 8685, 'lotteries': 8686, 'wherev': 8687, 'energymy': 8688, 'gasguzzling': 8689, 'dinosaur': 8690, 'elusive': 8691, 'defender': 8692, 'monopoli': 8693, 'patterned': 8694, 'povertyfloridas': 8695, 'tiller': 8696, 'merely': 8697, 'prolifers': 8698, 'notax': 8699, 'hot': 8700, 'hypocritically': 8701, 'embracing': 8702, 'immigrationit': 8703, 'weird': 8704, 'countygovernmenton': 8705, 'elections14': 8706, 'stimuluscongresswoman': 8707, 'kathy': 8708, 'castor': 8709, 'seized': 8710, 'outbound': 8711, 'publichealth97': 8712, 'preventative': 8713, 'mormon': 8714, 'obey': 8715, 'obedience': 8716, 'technologyanywhere': 8717, 'miracl': 8718, 'isthe': 8719, 'statebudgetenate': 8720, 'exercised': 8721, 'shrunk': 8722, '1789': 8723, 'correlation': 8724, 'reinstated': 8725, 'legalissuesformer': 8726, 'personalinjury': 8727, 'votingrecordglen': 8728, 'turtevant': 8729, 'terrorismemails': 8730, 'candidatesbiographycurrently': 8731, 'accomplished': 8732, 'educationgraduation': 8733, 'oilspilli': 8734, 'panhandl': 8735, 'incomepoint': 8736, 'pleasant': 8737, 'operated': 8738, 'jenkinson': 8739, 'votingrecordwill': 8740, 'tends': 8741, 'dolphins': 8742, 'terrorismnato': 8743, 'criticism': 8744, 'boccieri': 8745, 'economyfactories': 8746, 'agricultures': 8747, 'freshfromfloridacom': 8748, 'telecommute': 8749, 'carpools': 8750, 'americantatesman': 8751, 'transparencyaid': 8752, 'gration': 8753, 'abortiononly': 8754, 'pregn': 8755, 'terrorismbarbara': 8756, 'boxers': 8757, 'legalissuesafter': 8758, 'taxesreconciliation': 8759, 'militaryclinton': 8760, 'trick': 8761, 'campaignadvertisinggovernor': 8762, 'popculturepwned': 8763, 'dominates': 8764, 'messagemachine2014right': 8765, 'supremecourtelena': 8766, 'scholarly': 8767, 'procedural': 8768, 'terrorismillegal': 8769, 'multiyear': 8770, 'waterplace': 8771, 'wickford': 8772, 'village': 8773, 'swamp': 8774, 'transparencytate': 8775, 'marijuanaa': 8776, 'recommendation': 8777, 'medicarea': 8778, '357000': 8779, 'jobsalaries': 8780, 'energywell': 8781, 'teamsters': 8782, 'dunk': 8783, 'publichealthmore': 8784, 'gunsthis': 8785, 'frequ': 8786, 'preference': 8787, 'sidestep': 8788, 'abuser': 8789, 'campaignfinanceour': 8790, 'abuses': 8791, 'concrete': 8792, 'teitz': 8793, 'electionsdaniel': 8794, 'panasonic': 8795, 'relocation': 8796, 'brrag': 8797, 'retirementthis': 8798, 'arrived': 8799, 'gianna': 8800, 'jessens': 8801, 'qualifications': 8802, 'statefinanceslawmakers': 8803, 'offseason': 8804, 'wouldbe': 8805, 'newhampshire2012our': 8806, 'occasion': 8807, 'barber': 8808, 'longthe': 8809, 'revelation': 8810, 'terrorismformer': 8811, 'wolfe': 8812, 'mu': 8813, 'homecoming': 8814, 'parad': 8815, '440000': 8816, 'womenattacks': 8817, 'resisted': 8818, '733': 8819, 'nuclearrand': 8820, 'stateseightyfive': 8821, 'electrocution': 8822, 'environmentenvironmentalists': 8823, 'drought': 8824, 'economymarco': 8825, 'locker': 8826, 'terrorismtwentyfive': 8827, 'taxesfiftyone': 8828, 'nada': 8829, 'campaignfinancei': 8830, 'penni': 8831, 'transparencypresident': 8832, 'nineday': 8833, 'underemploy': 8834, 'electionstravis': 8835, 'surrounded': 8836, 'steadfast': 8837, 'administer': 8838, 'pollsobamas': 8839, 'ethicscongress': 8840, 'spousal': 8841, 'creditand': 8842, 'partly': 8843, 'workerslast': 8844, '23rd': 8845, 'wealth500': 8846, 'panhandle': 8847, 'highestever': 8848, 'collections': 8849, '327653': 8850, '528': 8851, 'legalissuesdefensive': 8852, 'militaryweve': 8853, 'moyouve': 8854, 'threeblack': 8855, 'taxesforty': 8856, '333485': 8857, 'pollstoday': 8858, 'energyyoure': 8859, 'shoes': 8860, 'ifmercury': 8861, 'weatherannual': 8862, 'precipitation': 8863, 'gunsobamas': 8864, 'amendmentban': 8865, 'manufacture': 8866, 'slips': 8867, 'militaryby': 8868, 'militarywere': 8869, 'batterypowered': 8870, 'pressurized': 8871, 'hos': 8872, '800010000': 8873, 'militaryactive': 8874, 'hewas': 8875, 'architects': 8876, 'welfareayspresident': 8877, 'atms': 8878, 'organisms': 8879, 'legalissuespolitifact': 8880, 'prejudges': 8881, 'acceptance': 8882, 'deficitgeorge': 8883, '2877': 8884, 'legalissuesgeorge': 8885, 'collects': 8886, 'transparencyvice': 8887, 'traderob': 8888, 'devastate': 8889, 'ohioan': 8890, 'plug': 8891, 'technologytwitter': 8892, 'burying': 8893, 'marijuanaless': 8894, 'ceasing': 8895, 'fundamental': 8896, 'jobs92': 8897, 'islamparents': 8898, 'worrying': 8899, 'bullying': 8900, 'muslimsand': 8901, 'axelrod': 8902, 'advisor': 8903, 'israelu': 8904, 'hama': 8905, 'iraqone': 8906, 'electionsrhode': 8907, 'optech': 8908, 'iii': 8909, 'abcnewsweekbrazil': 8910, 'cecile': 8911, 'concede': 8912, 'candidatesbiographyenate': 8913, 'welfare7': 8914, 'puddle': 8915, 'navigable': 8916, 'thus': 8917, 'technicality': 8918, 'socialsecurityfiorinas': 8919, 'socialsecuritynot': 8920, 'electionsless': 8921, 'sore': 8922, 'infects': 8923, 'educationan': 8924, 'deficitevery': 8925, 'militaryinflationadjusted': 8926, 'discount': 8927, 'drawdowns': 8928, 'immigrationbarack': 8929, 'healthcareafter': 8930, 'diagnosis': 8931, 'syndrome': 8932, 'downrange': 8933, 'tomahawk': 8934, 'weddings': 8935, 'exposes': 8936, 'congressionalrulesharry': 8937, 'certified': 8938, 'criminaljusticei': 8939, 'no1': 8940, 'campaignfinancerepublican': 8941, 'punditsgeorge': 8942, 'healthcareenator': 8943, '882billion': 8944, 'rebounding': 8945, 'extracts': 8946, 'preparation': 8947, 'statefinancesgeorgia': 8948, 'youths': 8949, '68million': 8950, 'malpractice': 8951, 'messagemachine2012romneycare': 8952, 'spiraling': 8953, 'squeezing': 8954, 'historych': 8955, 'guevara': 8956, 'extensively': 8957, 'superiority': 8958, 'europeans': 8959, 'desc': 8960, 'terrorisminstead': 8961, 'oust': 8962, 'iranbacked': 8963, 'houthi': 8964, 'rebels': 8965, 'secures': 8966, 'neil': 8967, 'abercrombie': 8968, 'kinkos': 8969, 'forge': 8970, 'createda': 8971, 'maximize': 8972, 'jobsand': 8973, 'largecapacity': 8974, 'magazines': 8975, 'jobs95': 8976, 'initiated': 8977, 'procedur': 8978, 'transportationnone': 8979, 'technologybarack': 8980, 'doctrine': 8981, 'links': 8982, 'corporatesponsored': 8983, 'trips': 8984, 'exoner': 8985, 'disagree': 8986, 'shared': 8987, 'fingerprinting': 8988, 'humanrightseightyfive': 8989, 'nucleardonald': 8990, 'proliferation': 8991, 'unleashes': 8992, 'votingrecorddefends': 8993, 'lent': 8994, 'validated': 8995, 'independently': 8996, 'adan': 8997, 'ballestero': 8998, 'dianne': 8999, 'feinstein': 9000, 'rounding': 9001, 'em': 9002, 'troubles': 9003, 'lit': 9004, 'redistrictingthere': 9005, 'bordentown': 9006, 'in': 9007, 'advancing': 9008, 'healthcaretheaffordable': 9009, 'actalters': 9010, 'sensible': 9011, 'doctorpatientrelationshipcentered': 9012, 'jobaccomplishmentsweve': 9013, 'transportationcolorado': 9014, 'legalization': 9015, 'welfareweve': 9016, 'jv': 9017, 'lucie': 9018, 'educationfiftythree': 9019, 'taxesjasper': 9020, 'medicare700': 9021, 'transparencyhe': 9022, 'nuclearunder': 9023, 'nonproliferation': 9024, 'doorstep': 9025, 'alcoholwe': 9026, 'driveup': 9027, 'daiquiri': 9028, 'transportationavannah': 9029, 'criminaljusticefrom': 9030, 'messagemachine2014a': 9031, 'rothstein': 9032, 'swindled': 9033, 'nuclearthis': 9034, 'burned': 9035, 'declar': 9036, 'jobkiller': 9037, 'educationken': 9038, 'mercer': 9039, 'hannity': 9040, 'dobson': 9041, 'hel': 9042, 'slavesfreedom': 9043, 'publish': 9044, 'ethicstheres': 9045, 'mcauliff': 9046, 'discharging': 9047, 'historylook': 9048, 'bulldozing': 9049, 'housei': 9050, 'bulldozed': 9051, 'gunseverywhere': 9052, 'republicancandidate': 9053, 'votingrecordtwenty': 9054, 'intervention': 9055, 'abcnewsweekgroups': 9056, 'sums': 9057, 'publichealthhouse': 9058, 'ramming': 9059, 'vegetable': 9060, 'taxesassembly': 9061, 'thattheyre': 9062, 'sweating': 9063, 'twitching': 9064, '252': 9065, 'stimulusroy': 9066, 'technologyat': 9067, '025': 9068, 'electionsif': 9069, 'socialsecuritypoverty': 9070, 'unchanged': 9071, 'povertypeople': 9072, 'su': 9073, 'dnr': 9074, 'dwindl': 9075, 'crow': 9076, 'crimehuckabee': 9077, '1033': 9078, 'pardons': 9079, 'commutations': 9080, 'clemencies': 9081, 'punditsbefore': 9082, 'floridaalex': 9083, 'bahama': 9084, 'occupywallstreet1': 9085, 'taxestimulus': 9086, 'johns': 9087, 'foreignpolicyurveys': 9088, 'devote': 9089, 'publicsafetywhen': 9090, 'fairmount': 9091, 'conservancy': 9092, 'radius': 9093, '2800': 9094, 'adjustment': 9095, 'jobswhat': 9096, '9900': 9097, '225000': 9098, 'laborthis': 9099, 'tools': 9100, 'milking': 9101, 'wheelbarrow': 9102, 'pensionsi': 9103, 'retirements': 9104, 'abortionunder': 9105, 'miscarry': 9106, 'blatantly': 9107, 'obamabirthcertificatewhen': 9108, '1525': 9109, 'ethicsafter': 9110, 'resigned': 9111, 'militaryunlike': 9112, 'beirut': 9113, 'barracks': 9114, 'historyafter': 9115, 'inquiry': 9116, 'corroborated': 9117, 'wealthfrom': 9118, '20132015': 9119, '157': 9120, 'jos': 9121, 'taxeshedge': 9122, 'equity': 9123, 'federalbudgetrep': 9124, 'goodlattes': 9125, 'budgetamendment': 9126, 'federalbudgethouse': 9127, 'obeys': 9128, 'manufactur': 9129, 'abortionweve': 9130, 'antiwomens': 9131, 'assembl': 9132, 'lifts': 9133, 'transportationgm': 9134, 'schedul': 9135, 'consumersafetyays': 9136, 'careless': 9137, 'educationto': 9138, 'underprivileged': 9139, 'meatbased': 9140, 'shortfal': 9141, 'iraqgeorge': 9142, 'armor': 9143, '36000': 9144, 'stimuluso': 9145, 'yuri': 9146, 'andropov': 9147, 'oviets': 9148, 'overreact': 9149, 'paidfor': 9150, 'campuses': 9151, '186740': 9152, '61050': 9153, 'statesour': 9154, 'medicarefederal': 9155, '535': 9156, 'marcia': 9157, 'fudge': 9158, 'criminaljusticeim': 9159, 'historywith': 9160, 'probationers': 9161, 'financialregulationobama': 9162, 'igns': 9163, 'forgiving': 9164, 'floridafiftyseven': 9165, 'terrorismrefugees': 9166, 'rigorous': 9167, 'taxesan': 9168, 'taxexempt': 9169, 'incomeits': 9170, 'tradevirginia': 9171, 'exporter': 9172, 'militaryince': 9173, 'distinction': 9174, 'economylets': 9175, '6192007': 9176, 'insecure': 9177, 'masters': 9178, 'gladly': 9179, 'wrecked': 9180, 'footed': 9181, 'bachelor': 9182, 'vega': 9183, 'dave': 9184, 'wiretappings': 9185, 'briefings': 9186, 'larry': 9187, 'substitution': 9188, 'prosper': 9189, 'spous': 9190, 'federalbudgetcongressman': 9191, '116838763': 9192, '27095000': 9193, 'fy2010': 9194, 'salmon': 9195, 'handles': 9196, 'saltwat': 9197, 'terrorismaccuses': 9198, 'contradictory': 9199, 'messagemachine2012tim': 9200, 'wilsonville': 9201, 'difficulti': 9202, 'wealthwe': 9203, 'oligarchs': 9204, 'unionsdid': 9205, 'taxesremember': 9206, 'higherincome': 9207, 'specifying': 9208, 'twobedroom': 9209, 'experiment': 9210, 'soci': 9211, 'freely': 9212, 'lov': 9213, 'abcnewsweekunemployment': 9214, 'healthcaremccain': 9215, 'endured': 9216, 'terrorismlast': 9217, '244': 9218, '223': 9219, 'weatherover': 9220, 'reimburs': 9221, 'abcnewsweekcrime': 9222, 'organize': 9223, 'manage': 9224, 'rallies': 9225, 'zimmerman': 9226, 'fascist': 9227, 'challenging': 9228, 'taxeseconomic': 9229, 'tokes': 9230, 'disenfranchised': 9231, 'sportsbrazil': 9232, 'misquoted': 9233, 'measured': 9234, 'militarydocuments': 9235, 'britishand': 9236, 'gunsthroughout': 9237, 'finances': 9238, 'statebudgetdata': 9239, 'jobsright': 9240, 'techs': 9241, 'federalbudgetit': 9242, 'unrest': 9243, 'jobsvirginia': 9244, '35th': 9245, 'newhampshire2012under': 9246, 'complied': 9247, '620000': 9248, 'tiverton': 9249, 'abcnewsweekturkey': 9250, 'impaired': 9251, 'transportationeighty': 9252, 'catches': 9253, 'releases': 9254, 'medicareu': 9255, 'brigades': 9256, 'economyrisk': 9257, 'threats': 9258, 'unionsgiant': 9259, 'toyota': 9260, 'educationnationwide': 9261, 'abortionfollowing': 9262, 'tireless': 9263, 'premier': 9264, 'crimephoenix': 9265, 'greenes': 9266, 'upwards': 9267, 'wheretheres': 9268, 'artwork': 9269, 'marijuanaunder': 9270, 'refills': 9271, 'artificial': 9272, 'povertyix': 9273, 'impeached': 9274, '48700': 9275, '128300': 9276, 'candidatesbiographyat': 9277, 'electionsmost': 9278, 'exelon': 9279, 'yucca': 9280, 'depositori': 9281, 'abcnewsweekthis': 9282, 'cultural': 9283, 'disagreed': 9284, 'povertycalifornia': 9285, 'roaming': 9286, 'peaceful': 9287, 'candidatesbiographytrump': 9288, 'denounce': 9289, 'kkk': 9290, 'officeholders': 9291, 'sanctioned': 9292, 'electionsat': 9293, 'publichealthafter': 9294, 'agreeing': 9295, '2019': 9296, 'jobsimmigrants': 9297, 'messagemachine2014if': 9298, 'kiss': 9299, 'goodby': 9300, 'housingcalifornia': 9301, 'welfareince': 9302, '23billion': 9303, '29billion': 9304, 'sportstate': 9305, 'appraises': 9306, 'apprais': 9307, 'hani': 9308, 'baragwanath': 9309, 'jumpstarting': 9310, 'trickledown': 9311, 'giveaways': 9312, 'disappoint': 9313, 'transportationnorthern': 9314, 'educationamerican': 9315, 'terrorismaidpresident': 9316, 'smallbusinessmore': 9317, 'healthcareeven': 9318, 'workersfortyfive': 9319, 'iroquois': 9320, 'trib': 9321, 'vapor': 9322, 'abortionthis': 9323, 'medicarebut': 9324, 'battered': 9325, 'immigrationrealdonaldtrump': 9326, 'mexicanamerican': 9327, 'cervical': 9328, 'jobstarting': 9329, 'reliability': 9330, 'ercot': 9331, 'joseph': 9332, 'spiritual': 9333, 'mor': 9334, 'healthcare25': 9335, 'drugrelated': 9336, 'unreasonable': 9337, 'screamed': 9338, 'punditsresearch': 9339, 'diana': 9340, 'maldonado': 9341, 'heading': 9342, 'chwarzenegger': 9343, 'preserved': 9344, 'votingrecordlike': 9345, 'uwgreen': 9346, 'bia': 9347, 'worries': 9348, 'womenyou': 9349, 'sciences': 9350, '2plu': 9351, '257000': 9352, 'medicareweve': 9353, 'watson': 9354, 'passthroughs': 9355, 'foodsafetymany': 9356, 'shellfish': 9357, 'newports': 9358, 'ethicsuses': 9359, 'portray': 9360, 'beholden': 9361, 'stateschristmas': 9362, 'medicaidinsured': 9363, 'redistrictinga': 9364, 'oakland': 9365, 'debo': 9366, 'adegbile': 9367, 'abruptly': 9368, 'foreignpolicyiraq': 9369, 'oilfields': 9370, 'standpoint': 9371, 'readiness': 9372, 'coordinating': 9373, 'electionsatlanta': 9374, 'legalissuespolice': 9375, 'tear': 9376, 'federalbudget16': 9377, 'smallbusinessamong': 9378, 'bipartisanshipwhen': 9379, 'guide': 9380, 'upervisor': 9381, 'steam': 9382, 'hezbollah': 9383, 'veteransobamacare': 9384, 'foodeurope': 9385, 'marked': 9386, 'server': 9387, 'whilesecretary': 9388, 'nuclearpakistan': 9389, 'heartland': 9390, 'bilingual': 9391, 'ofa': 9392, 'fillup': 9393, 'risen30': 9394, 'sincebarack': 9395, 'drugstexas': 9396, 'stateswisconsins': 9397, 'sexualitywill': 9398, 'hb2threaten': 9399, 'title': 9400, 'publichealthtwentythree': 9401, 'entrylevel': 9402, 'womennorth': 9403, 'convene': 9404, 'publicsafetyprovidence': 9405, 'legion': 9406, 'statebudgetthanks': 9407, 'thirdlowest': 9408, 'viciously': 9409, '1956': 9410, 'asylum': 9411, 'reciprocity': 9412, 'federalbudgetthese': 9413, 'spacechina': 9414, 'satellit': 9415, 'pulls': 9416, 'curtain': 9417, 'medicaids': 9418, 'tragically': 9419, 'abortionbill': 9420, 'oak': 9421, 'grove': 9422, 'modernizing': 9423, 'familiesmuch': 9424, 'spank': 9425, 'animalsayvideo': 9426, 'strolling': 9427, 'federalbudgetone': 9428, 'socialsecurityjust': 9429, 'statebudgethes': 9430, 'slightly': 9431, 'owning': 9432, 'powerful': 9433, 'proactive': 9434, 'aggress': 9435, 'tailgating': 9436, 'wisconsinmadison': 9437, 'holy': 9438, 'communion': 9439, 'refers': 9440, 'mammography': 9441, 'middlewoman': 9442, 'mavericks': 9443, 'rockets': 9444, 'religionover': 9445, 'statesharron': 9446, 'subpar': 9447, 'votingrecordclaims': 9448, 'bishop': 9449, 'inaccur': 9450, 'criminaljusticebrock': 9451, 'turners': 9452, 'occurrence': 9453, 'ethicshe': 9454, 'veteransvirginia': 9455, 'governmentregulationrichard': 9456, 'cordrays': 9457, 'marks': 9458, 'worry': 9459, 'wallace': 9460, 'swings': 9461, '611000': 9462, 'mcgintyactually': 9463, 'abortionmore': 9464, 'selfinduce': 9465, 'seced': 9466, 'immigrationamerica': 9467, 'onefourth': 9468, 'mexicos': 9469, 'hardest': 9470, 'lifespan': 9471, 'bluntly': 9472, '20year': 9473, '5050': 9474, 'publicprivate': 9475, 'dodd': 9476, 'depending': 9477, 'stimulusnondefense': 9478, 'warns': 9479, 'taxman': 9480, 'cometh': 9481, 'governmentregulationmultnomah': 9482, 'foodsafetymcdonalds': 9483, 'hamburgers': 9484, 'filler': 9485, 'cleansed': 9486, 'ammonia': 9487, 'stomach': 9488, 'intestinal': 9489, 'canc': 9490, 'anoth': 9491, 'educationfcat': 9492, 'instructional': 9493, 'gravy': 9494, 'spacenewt': 9495, 'mirror': 9496, 'ignor': 9497, 'punditscharlie': 9498, 'blackwhite': 9499, 'knocks': 9500, 'tariffs': 9501, 'bids': 9502, 'legalissuesthurbert': 9503, 'upgrad': 9504, 'healthcareted': 9505, 'educationi': 9506, 'unused': 9507, 'supplement': 9508, '358': 9509, 'closeddoor': 9510, 'technologyjust': 9511, 'disgrace': 9512, 'embarrassment': 9513, 'transparencyprovidence': 9514, 'marketbased': 9515, 'healthcareyou': 9516, 'medication': 9517, 'askedthedivision': 9518, 'toreport': 9519, 'directli': 9520, 'roadmap': 9521, '2060s': 9522, 'unthinkable': 9523, 'candidatesbiographyno': 9524, 'messagemachineteve': 9525, 'healthcarethanks': 9526, 'housingmy': 9527, 'seminar': 9528, 'quarterbillion': 9529, 'immigrationexisting': 9530, 'doublelayered': 9531, 'fencing': 9532, 'socialsecurityome': 9533, 'publichealththis': 9534, 'arwas': 9535, 'statebudgettakes': 9536, 'statehouse': 9537, 'sovereignti': 9538, 'jobaccomplishments92': 9539, 'unionsi': 9540, 'pollsafter': 9541, 'taxesterry': 9542, 'infinite': 9543, 'punditshutdowns': 9544, 'shutdowns': 9545, 'tip': 9546, 'oneill': 9547, 'speakership': 9548, 'gamblingwe': 9549, 'publichealthweve': 9550, 'outbreaks': 9551, 'candidatesbiographytexas': 9552, 'bottles': 9553, '10yearold': 9554, 'lung': 9555, 'murnaghan': 9556, 'taxesdid': 9557, 'immigrationfor': 9558, 'infrastructural': 9559, 'democratled': 9560, 'messagemachine2012gov': 9561, 'trade95': 9562, 'ue': 9563, 'energyit': 9564, '1billion': 9565, 'childrengeorgia': 9566, 'takingbob': 9567, 'whistleblowers': 9568, 'newhampshire2012there': 9569, 'bloggers': 9570, 'voicing': 9571, 'frustration': 9572, 'discont': 9573, 'entrepreneurs': 9574, 'governmentefficiencyif': 9575, 'initials': 9576, 'carved': 9577, 'gabrielle': 9578, 'giffords': 9579, 'emphasis': 9580, 'stabbing': 9581, 'clubbing': 9582, 'enemy': 9583, 'output': 9584, 'stimulusmichael': 9585, 'womenann': 9586, 'healthcare85': 9587, 'campaignfinance\\ufeffays': 9588, '3to1': 9589, 'financialregulationa': 9590, 'refinanced': 9591, 'loved': 9592, 'scienceon': 9593, 'presidentially': 9594, 'countygovernmenta': 9595, 'chess': 9596, 'grandmasters': 9597, 'cityrun': 9598, 'subsume': 9599, 'averageand': 9600, '87000': 9601, 'climatechangemy': 9602, 'missive': 9603, 'obamaelect': 9604, 'heres': 9605, 'produc': 9606, 'recused': 9607, 'workersrecoverygov': 9608, 'publicsafetyobamacare': 9609, 'stations': 9610, 'entir': 9611, 'ethicsalison': 9612, 'broadbased': 9613, 'theocraci': 9614, 'self': 9615, '1130': 9616, 'robocall': 9617, '10newstampabayays': 9618, '144541': 9619, 'monkeys': 9620, 'react': 9621, 'cocain': 9622, 'statesfloridas': 9623, 'lenient': 9624, 'medicalmarijuana': 9625, 'limitless': 9626, 'specified': 9627, 'diminish': 9628, 'unheard': 9629, 'foreignpolicyince': 9630, '1990every': 9631, 'messagemachinerepublican': 9632, 'weatherits': 9633, 'mars': 9634, 'educationall': 9635, 'economychina': 9636, 'everybodys': 9637, 'jobskohls': 9638, 'tores': 9639, 'civilrightshe': 9640, 'censure': 9641, 'systemic': 9642, 'educationright': 9643, 'autismas': 9644, 'jobscreating': 9645, 'umatilla': 9646, 'halfcenturi': 9647, 'transparencymayor': 9648, 'stake': 9649, 'barnett': 9650, 'hale': 9651, 'rosenblum': 9652, 'taxespres': 9653, 'scraping': 9654, 'gamblingcrime': 9655, 'fakenewsays': 9656, 'religionmr': 9657, 'drugstudies': 9658, 'harshness': 9659, 'taxesroy': 9660, 'cooper': 9661, 'statesfor': 9662, 'pedestrians': 9663, 'historybirmingham': 9664, 'cradle': 9665, 'daddy': 9666, 'unionson': 9667, 'constitutes': 9668, 'parallel': 9669, 'batteries': 9670, 'foreignpolicypaul': 9671, 'keene': 9672, 'militarygrade': 9673, 'armored': 9674, 'citing': 9675, 'pumpkin': 9676, 'conceded': 9677, 'excise': 9678, 'aredisproportionately': 9679, 'burdening': 9680, 'messagemachine2012every': 9681, 'supervisors': 9682, '355': 9683, 'correctionsandupdatesthe': 9684, 'raisingis': 9685, 'transparencyyou': 9686, 'delete': 9687, 'obamastyle': 9688, 'educationlatinos': 9689, 'avings': 9690, 'omar': 9691, 'mateen': 9692, 'shoots': 9693, 'incomea': 9694, 'candidatesbiographypolitifact': 9695, 'pantsonfire': 9696, 'financialregulationpayday': 9697, '1000plus': 9698, 'hoarding': 9699, 'reardon': 9700, 'volleyball': 9701, 'nikki': 9702, 'haley': 9703, 'environmentit': 9704, 'demond': 9705, 'militaryisrael': 9706, 'haskilled': 9707, 'veteransalready': 9708, 'energydeepwaters': 9709, 'doma': 9710, 'tattoo': 9711, 'cons': 9712, 'traderhode': 9713, 'messagemachine2012together': 9714, 'taxpayerpaidfor': 9715, 'rugsthey': 9716, 'honeyglazed': 9717, 'pilaf': 9718, 'healthcarethirty': 9719, 'socialsecurityjeb': 9720, 'drugsthere': 9721, 'taxesyouve': 9722, '1963': 9723, 'northwest': 9724, 'cherokee': 9725, '9700': 9726, 'bradleys': 9727, 'socialsecurityharry': 9728, 'waterin': 9729, 'isfighting': 9730, 'votingrecordrep': 9731, 'matagorda': 9732, 'brazoria': 9733, 'wellfunded': 9734, 'electionshes': 9735, 'weatherafter': 9736, 'grounded': 9737, 'healthcareit': 9738, 'cramming': 9739, 'throat': 9740, 'immigrationless': 9741, 'buyers': 9742, 'outperforming': 9743, 'containers': 9744, 'housingwhen': 9745, 'foreclose': 9746, 'environmentkoch': 9747, 'churns': 9748, 'climatechanging': 9749, 'giants': 9750, 'valero': 9751, 'taxesusing': 9752, 'surcharge': 9753, 'ronda': 9754, 'torms': 9755, 'courthous': 9756, 'newhampshire2012federal': 9757, 'grenada': 9758, 'jobsgiving': 9759, '73000': 9760, 'medicareromney': 9761, 'electionshillary': 9762, 'consumersafetyince': 9763, 'suction': 9764, 'entrapment': 9765, 'swimming': 9766, 'pools': 9767, 'spas': 9768, 'groundlaw': 9769, 'barton': 9770, 'rtexas': 9771, 'finite': 9772, 'harnessing': 9773, '813': 9774, 'pollsat': 9775, 'gemma': 9776, 'prochoic': 9777, 'statebudgetover': 9778, 'womenwebster': 9779, 'abusive': 9780, 'dissuade': 9781, 'cruzswife': 9782, 'heidi': 9783, 'ladi': 9784, 'healthcaregradinsurance': 9785, 'debacle': 9786, 'mizzou': 9787, 'redistrictingin': 9788, '420': 9789, 'statebudgetrhode': 9790, 'burst': 9791, 'selfpronounced': 9792, 'guidelines': 9793, 'acceptingforeign': 9794, 'donationsthere': 9795, 'clip': 9796, 'post911': 9797, 'electricians': 9798, 'retrofitting': 9799, 'effici': 9800, 'adjustments': 9801, 'environmentjob': 9802, 'capandtax': 9803, 'accommodating': 9804, 'driedup': 9805, 'theinsurance': 9806, 'cornell': 9807, 'concludes': 9808, 'punditsdespite': 9809, 'merging': 9810, 'hortons': 9811, 'qu': 9812, 'moves': 9813, 'persisting': 9814, 'succeeding': 9815, 'firstoffenders': 9816, 'statesouth': 9817, 'votingrecordof': 9818, 'garlandvoted': 9819, 'oclock': 9820, 'traces': 9821, 'gathered': 9822, 'taxesaypresident': 9823, 'legalissuesrepublican': 9824, 'confirming': 9825, 'loretta': 9826, 'oilspillalex': 9827, 'statebudgetall': 9828, 'citru': 9829, 'educationtwo': 9830, 'prep': 9831, 'rufus': 9832, 'mp': 9833, 'marketregulationits': 9834, 'equaled': 9835, 'spouse': 9836, 'bloomberg': 9837, 'exporting': 9838, 'species': 9839, 'ballast': 9840, 'healthcareaid': 9841, 'energytoday': 9842, 'gunstheres': 9843, 'fourthmost': 9844, 'rickgreen': 9845, '2552json': 9846, 'healthcaremedicaremessagemachine': 9847, 'jackconway': 9848, '9353json': 9849, 'healthcarepublichealth': 9850, 'bobbyjindal': 9851, 'oped': 9852, 'politico': 9853, '9577json': 9854, 'medicaidpoverty': 9855, 'kirkcox': 9856, '4318json': 9857, 'jobsstatebudget': 9858, 'chrischristie': 9859, 'belmar': 9860, '9864json': 9861, 'childreneducationmessagemachine2014statebudgetstatestaxes': 9862, 'greaterwisconsinpoliticalfund': 9863, '8243json': 9864, 'raultorres': 9865, 'accountant': 9866, '13500json': 9867, 'citybudgetcountybudgetfederalbudgethomelandsecurityimmigrationstatebudget': 9868, 'billdeblasio': 9869, 'wnyc': 9870, '9854json': 9871, 'governs': 9872, 'discipline': 9873, 'jodyhice': 9874, '7737json': 9875, 'crimecriminaljusticegovernmentregulationgunsmarketregulation': 9876, 'eddoyle': 9877, '12293json': 9878, 'pretending': 9879, 'restroom': 9880, 'candidatesbiographycorrectionsandupdatesgaysandlesbianscampaignadvertising': 9881, 'tedcruz': 9882, '457json': 9883, 'circumst': 9884, 'costsaving': 9885, 'taxesteve': 9886, '08': 9887, 'taxesfortysix': 9888, 'newhampshire2012china': 9889, 'englishspeaking': 9890, 'arbitr': 9891, 'na': 9892, 'fia': 9893, 'deficiton': 9894, 'correctionsandupdatesmy': 9895, 'taxesbarbara': 9896, 'gyms': 9897, 'corzines': 9898, 'backward': 9899, 'educationwisconsin': 9900, 'wristbands': 9901, 'reminder': 9902, 'populated': 9903, 'statebudgetterry': 9904, 'publichealthmonarch': 9905, 'butterflies': 9906, 'extinct': 9907, 'withstand': 9908, 'pesticid': 9909, 'governmentefficiencyportland': 9910, 'invites': 9911, 'wellfed': 9912, 'nonneedy': 9913, 'affluent': 9914, 'fanatical': 9915, 'breakfasts': 9916, 'taxpayerpaid': 9917, 'amidst': 9918, 'terrorismby': 9919, 'dron': 9920, 'guaranteedcheck': 9921, 'israelobama': 9922, 'antilikud': 9923, 'antinetanyahu': 9924, 'israelfor': 9925, 'telecast': 9926, 'proceedings': 9927, 'workersamericans': 9928, 'tradeduring': 9929, 'immigrationince': 9930, 'encountered': 9931, 'customs': 9932, 'electrical': 9933, 'outlet': 9934, 'historyabraham': 9935, 'danced': 9936, 'characteristics': 9937, 'atheist': 9938, 'feels': 9939, 'farrakhan': 9940, 'untoward': 9941, 'gav': 9942, 'statebudgetuncompensated': 9943, 'endorsements': 9944, 'jobsens': 9945, 'isaksons': 9946, 'louie': 9947, 'xiv': 9948, 'boasts': 9949, 'oth': 9950, 'marginal': 9951, 'obriens': 9952, 'compulsory': 9953, 'roman': 9954, 'legionnaires': 9955, 'avior': 9956, 'scienceglobal': 9957, 'quicker': 9958, 'mosquitoes': 9959, 'mature': 9960, 'bite': 9961, 'metabolism': 9962, 'incubate': 9963, 'votingrecordobamas': 9964, 'flush': 9965, 'manner': 9966, 'crimefloridas': 9967, 'fingerprint': 9968, 'solving': 9969, 'cheering': 9970, 'womenen': 9971, 'suffers': 9972, 'butte': 9973, 'wealthwealthy': 9974, 'energymore': 9975, '27000': 9976, 'peaked': 9977, 'poverty64': 9978, 'ashland': 9979, 'healthcareidaho': 9980, 'statebased': 9981, '236': 9982, 'terrorismat': 9983, '200406': 9984, 'wandering': 9985, 'ruble': 9986, 'candidatesbiographyaid': 9987, 'editor': 9988, 'militaryother': 9989, 'medicarei': 9990, 'ocieti': 9991, 'corey': 9992, '28776': 9993, '597': 9994, 'simulation': 9995, 'conceive': 9996, 'continu': 9997, '825': 9998, 'liebermans': 9999, 'homelessin': 10000, 'brandnew': 10001, 'womenhivaid': 10002, 'statesdue': 10003, 'alreadi': 10004, 'welfarerick': 10005, 'legalissuesbarry': 10006, 'mitherman': 10007, 'generals': 10008, 'overexaggerated': 10009, 'iraqbill': 10010, 'indefinit': 10011, 'votingrecord70': 10012, 'feel': 10013, 'comfortable': 10014, 'weakening': 10015, '1929': 10016, 'unseemly': 10017, 'slaughtered': 10018, 'ethicsmccain': 10019, 'preventive': 10020, 'vaccinations': 10021, 'avoided': 10022, 'unionsif': 10023, 'grandfathered': 10024, 'criminaljusticemark': 10025, 'herring': 10026, 'shorter': 10027, 'barrier': 10028, 'oneterm': 10029, 'jobsninety': 10030, 'newhampshire2012paul': 10031, 'transparencyfor': 10032, 'posts': 10033, 'dorman': 10034, 'grace': 10035, 'expenditur': 10036, 'economyaysdonald': 10037, 'inconveni': 10038, 'statesuniversity': 10039, 'ystems': 10040, 'lowrange': 10041, 'terrorismonly': 10042, 'truly': 10043, 'federalbudgetgov': 10044, 'sportsquarterbacks': 10045, 'mvp': 10046, 'obamasown': 10047, 'assessments': 10048, 'statebudgetprivate': 10049, 'chase': 10050, 'subpoenaed': 10051, 'colleagu': 10052, '240000': 10053, 'robin': 10054, 'transparencytheres': 10055, 'messagemachine2012there': 10056, 'fiduciary': 10057, 'ally': 10058, 'legalissuesu': 10059, 'roland': 10060, 'burri': 10061, 'horror': 10062, 'sympathy': 10063, 'tragedi': 10064, 'economytheres': 10065, 'datastoring': 10066, 'microchip': 10067, 'implanted': 10068, 'obamacars': 10069, 'scoot': 10070, 'punditsobamacare': 10071, 'candidatesbiographyusie': 10072, 'vacations': 10073, 'halliburton': 10074, 'geo': 10075, 'gee': 10076, 'patriotismq': 10077, 'patriotic': 10078, 'dodg': 10079, 'aving': 10080, 'madigans': 10081, 'aved': 10082, 'jobsdont': 10083, 'immigrationheriffs': 10084, 'lynching': 10085, 'meets': 10086, 'messagemachineron': 10087, 'anyway': 10088, 'jobaccomplishmentseventy': 10089, 'smallbusinessevery': 10090, 'pitch': 10091, 'soonerthan': 10092, 'infrastructureelectric': 10093, 'firstenergys': 10094, 'kyrgyzstan': 10095, 'iceland': 10096, 'coauthor': 10097, 'statefinancesother': 10098, 'housingnewark': 10099, 'multifamily': 10100, 'obamabirthcertificateon': 10101, 'marijuanapeople': 10102, 'potshoot': 10103, 'stab': 10104, 'strangle': 10105, 'republicansenators': 10106, 'theislamic': 10107, 'fortyseven': 10108, 'monument': 10109, 'occupywallstreetif': 10110, 'bull': 10111, 'connor': 10112, 'publichealthnearly': 10113, 'mcallenarea': 10114, 'marketregulationfederal': 10115, 'collectivebargaining': 10116, 'immigrationroy': 10117, 'proclaimed': 10118, 'kyl': 10119, '524': 10120, 'electionsnitker': 10121, 'statebudgethitler': 10122, 'latourette': 10123, '5516': 10124, 'abcnewsweekmost': 10125, 'legalissuesdid': 10126, 'immigrationmexico': 10127, 'remittances': 10128, 'nationals': 10129, 'obamabirthcertificateobama': 10130, 'oneshots': 10131, 'womenplanned': 10132, 'invasionwrote': 10133, 'landings': 10134, 'normandi': 10135, 'countygovernmentit': 10136, 'newhampshire2012eliminating': 10137, 'publichealthformer': 10138, 'watereddown': 10139, 'hivaiddrugs': 10140, 'subaharan': 10141, 'treasur': 10142, 'supremecourthillary': 10143, 'rivals': 10144, 'terrorisman': 10145, 'myers': 10146, 'contacts': 10147, 'debatesin': 10148, 'fec': 10149, 'tefani': 10150, 'margarita': 10151, 'foodtopped': 10152, 'miley': 10153, 'cookie': 10154, 'cookies': 10155, 'rudi': 10156, 'terrorismaysthe': 10157, 'document': 10158, 'scrap': 10159, 'pap': 10160, 'marriageeventy': 10161, 'electionsbecause': 10162, 'upkeep': 10163, 'lawns': 10164, 'legalissueswhat': 10165, 'narcotic': 10166, '22000the': 10167, 'pickup': 10168, 'refinance': 10169, 'historyaysgary': 10170, 'publicsafetygermany': 10171, 'crimeriddled': 10172, 'migration': 10173, 'falkland': 10174, 'waterflint': 10175, 'burlington': 10176, 'vt': 10177, 'messagemachinemccain': 10178, 'terrorismbin': 10179, 'punditsfour': 10180, 'invading': 10181, 'impacting': 10182, 'renal': 10183, 'diabet': 10184, 'familiesby': 10185, 'transportationtheres': 10186, 'slowdown': 10187, 'supremecourtaysenate': 10188, 'gridlocked': 10189, 'interviewer': 10190, 'treats': 10191, 'replied': 10192, 'statebudgetmilwaukees': 10193, 'economyperdue': 10194, '991': 10195, 'dissent': 10196, 'legalissuesthree': 10197, 'economyrubio': 10198, 'punditsfox': 10199, 'spark': 10200, '2465750': 10201, 'unionsenate': 10202, 'publicsafetylyme': 10203, 'infectious': 10204, 'incidence': 10205, 'riots': 10206, 'statefinancesjosh': 10207, 'governmentefficiencyoil': 10208, 'acre': 10209, '1904': 10210, 'victor': 10211, 'fafa': 10212, '55500': 10213, 'identifi': 10214, 'electionswar': 10215, 'soul': 10216, 'txdems': 10217, 'tx': 10218, 'deceptive': 10219, 'unconscion': 10220, 'broth': 10221, 'lazi': 10222, 'chapters': 10223, 'fetuses': 10224, 'gunskip': 10225, 'kinkel': 10226, 'jobswelders': 10227, 'philosoph': 10228, 'womenwisconsin': 10229, 'teyer': 10230, 'acalifornia': 10231, 'topdown': 10232, 'criminaljusticeloretta': 10233, 'educationjason': 10234, 'accuses': 10235, 'publichealthan': 10236, '5400': 10237, 'taxestexans': 10238, 'womentexas': 10239, 'latinas': 10240, 'abcnewsweekaturdays': 10241, 'disturbing': 10242, 'commonplace': 10243, 'tallied': 10244, 'mcauliffes': 10245, 'chile': 10246, 'supremecourtwhat': 10247, 'dowith': 10248, 'toddlers': 10249, 'navigators': 10250, 'maneuver': 10251, 'processes': 10252, 'statebudgetjulie': 10253, 'willingly': 10254, 'technologyattempts': 10255, 'indictment': 10256, 'filtered': 10257, 'coyote': 10258, 'multipli': 10259, 'commissioned': 10260, 'inconvenient': 10261, 'harmed': 10262, 'buybacks': 10263, 'hotline': 10264, 'stimuluswas': 10265, 'martha': 10266, 'kanter': 10267, 'dispatched': 10268, 'corvallis': 10269, 'robinsons': 10270, 'electionsrick': 10271, 'medicaidtaxpayers': 10272, 'workersbarack': 10273, 'deficitbarack': 10274, 'civilrightscharlie': 10275, 'populationfamilies': 10276, 'del': 10277, 'valle': 10278, 'bastrop': 10279, 'religionamericans': 10280, 'beck': 10281, '401ks': 10282, 'firemen': 10283, 'handed': 10284, 'jrs': 10285, '492': 10286, 'digital': 10287, 'chairmanship': 10288, 'socialsecurityive': 10289, 'reich': 10290, '141600': 10291, 'taxesjorge': 10292, 'elorza': 10293, 'sportsflorida': 10294, 'yrias': 10295, 'statesroy': 10296, 'coopers': 10297, 'electionsan': 10298, 'publichealthwaziland': 10299, 'infection': 10300, 'punditsgangs': 10301, 'floridaflorida': 10302, 'averages': 10303, 'retirementgov': 10304, 'feces': 10305, 'swastika': 10306, 'halls': 10307, 'gunsone': 10308, 'leonard': 10309, 'lance': 10310, 'mart': 10311, 'transportationfaced': 10312, 'unloading': 10313, 'publichealthmeasles': 10314, 'blindness': 10315, 'payback': 10316, 'recreationwhen': 10317, 'supremecourtits': 10318, '1888': 10319, 'estim': 10320, 'gunsaysbernie': 10321, 'gunslets': 10322, 'oxendine': 10323, 'terrorismobama': 10324, 'antiemitic': 10325, 'motivation': 10326, 'pari': 10327, 'terrorismregarding': 10328, 'healthcarewitzerland': 10329, 'minions': 10330, 'nestle': 10331, 'smallbusinessfederal': 10332, 'industrial': 10333, 'healthcareto': 10334, 'delegated': 10335, 'obamaexempted': 10336, 'wealthhalf': 10337, '1987': 10338, 'healthcarebaseball': 10339, 'antitrust': 10340, 'votingrecordkelly': 10341, 'jobsmercedes': 10342, 'headquart': 10343, 'outlaws': 10344, 'womeni': 10345, 'censusays': 10346, 'shirts': 10347, 'bangladesh': 10348, 'crystal': 10349, 'barware': 10350, 'lovenia': 10351, 'cufflinks': 10352, 'publicsafetyay': 10353, 'troutdale': 10354, 'whenmark': 10355, 'harpefirst': 10356, 'medicarewhen': 10357, 'commanderinchiefs': 10358, 'commanderinchief': 10359, 'turtles': 10360, 'carveout': 10361, 'gunso': 10362, 'electionstate': 10363, 'mckillips': 10364, 'forecasters': 10365, 'jobswith': 10366, 'islamabad': 10367, 'f16s': 10368, 'harbored': 10369, 'enacting': 10370, 'publichealthcurrently': 10371, 'diagnosed': 10372, 'adjusting': 10373, '112': 10374, 'crimefelony': 10375, 'outsourced': 10376, 'meg': 10377, 'dwis': 10378, 'punditsduring': 10379, 'noisy': 10380, 'demonstrations': 10381, 'disruptive': 10382, 'crowds': 10383, 'booed': 10384, 'statebudgetprotesters': 10385, 'taxesfive': 10386, 'forty': 10387, 'amounting': 10388, 'uperstorm': 10389, 'survived': 10390, 'tomorrow': 10391, 'gaspricestudies': 10392, 'civilrightsif': 10393, 'frisked': 10394, '10newstampabayeniors': 10395, 'abortionabortionists': 10396, 'clifford': 10397, 'povertymarriage': 10398, 'probability': 10399, 'inventing': 10400, 'googl': 10401, 'womenrecently': 10402, 'educationcommon': 10403, 'jobsgeorgias': 10404, 'fantasy': 10405, 'immigrationu': 10406, 'luis': 10407, 'gutierrez': 10408, 'touring': 10409, 'hip': 10410, 'fashion': 10411, 'abstinence': 10412, 'enemies': 10413, 'pause': 10414, 'resettlement': 10415, 'intimate': 10416, 'closetothevestsecret': 10417, 'votingrecordaystom': 10418, 'pandemics': 10419, 'supremecourtwalking': 10420, 'varied': 10421, 'transportationbuilding': 10422, 'treetcar': 10423, '1399': 10424, 'pentagons': 10425, 'compromising': 10426, 'readi': 10427, 'veteransnationally': 10428, 'workersonethird': 10429, 'unqualified': 10430, 'jobaccomplishmentsover': 10431, 'protocol': 10432, 'addresses': 10433, 'downloaded': 10434, 'pornographi': 10435, 'religionthis': 10436, 'ruse': 10437, 'anyonebut': 10438, 'beside': 10439, 'abortionen': 10440, 'supremecourttheres': 10441, '237': 10442, 'involv': 10443, 'belly': 10444, 'healthcarerhode': 10445, 'fiat': 10446, 'jobsive': 10447, 'taxestwothirds': 10448, 'historyaustin': 10449, 'tick': 10450, 'hardshipand': 10451, 'your': 10452, '219000': 10453, 'taxesohio': 10454, 'inheritance': 10455, 'societi': 10456, 'taxeshould': 10457, 'chatter': 10458, 'toetotoe': 10459, 'russias': 10460, 'stockpil': 10461, 'psychologists': 10462, 'wealthfor': 10463, 'solvent': 10464, '2033': 10465, 'populationan': 10466, 'redesigned': 10467, 'downsizing': 10468, 'ms': 10469, 'latvala': 10470, '156': 10471, '680': 10472, 'smallminded': 10473, 'allpowerful': 10474, 'sovereign': 10475, 'actor': 10476, 'dwayne': 10477, 'wore': 10478, 'tand': 10479, 'kneel': 10480, 'veteransron': 10481, 'canals': 10482, 'womenof': 10483, '385': 10484, '615': 10485, 'transportationhalf': 10486, 'mahlon': 10487, 'boycott': 10488, 'debtu': 10489, 'gaspricesobamas': 10490, 'chu': 10491, 'immigrationenglish': 10492, 'languageif': 10493, 'abcnewsweekabout': 10494, '106000': 10495, 'anxiety': 10496, 'veteransit': 10497, 'ecuritys': 10498, 'jurisdictions': 10499, 'la': 10500, 'leibham': 10501, '788': 10502, 'statebudgeteducation': 10503, '7176': 10504, 'recouped': 10505, 'statebudgetwisconsins': 10506, 'wyden': 10507, '12yearold': 10508, 'abcnewsweekmcdonalds': 10509, 'freerange': 10510, 'nutritious': 10511, 'offerings': 10512, 'veteransbefore': 10513, 'intolerable': 10514, 'jb': 10515, 'hollen': 10516, 'kratz': 10517, 'militarytoo': 10518, 'visible': 10519, 'keepsome': 10520, 'baseballmathematically': 10521, 'electionsdavid': 10522, 'mopac': 10523, 'foreignpolicyfidel': 10524, 'unkind': 10525, 'sixtytwo': 10526, 'avg': 10527, 'franchised': 10528, 'accusing': 10529, 'profiling': 10530, 'alcoholnew': 10531, 'glarus': 10532, 'cos': 10533, 'potted': 10534, 'cow': 10535, 'carpet': 10536, 'herwinwilliams': 10537, 'federation': 10538, 'listening': 10539, 'inviteonly': 10540, 'educationvirginia': 10541, 'attainment': 10542, 'climatechangethe': 10543, 'tail': 10544, 'logo': 10545, 'wealthhistorically': 10546, 'assessed': 10547, 'captures': 10548, 'environmentrenewable': 10549, 'entanglements': 10550, 'poverty3': 10551, 'federalbudgetpayasyougo': 10552, 'principle': 10553, 'transform': 10554, 'surpluses': 10555, 'publicserviceaysmaggie': 10556, 'bounty': 10557, 'severed': 10558, 'foreleg': 10559, 'wolf': 10560, 'strikingly': 10561, 'empower': 10562, 'republicangovernors': 10563, 'medicaidto': 10564, 'suspending': 10565, 'rejects': 10566, 'grandpar': 10567, 'empirical': 10568, 'climatic': 10569, 'crimecrime': 10570, 'transparencytraditionally': 10571, 'technologygoogle': 10572, 'brexit': 10573, '110th': 10574, 'waterproposition': 10575, 'novembers': 10576, 'marketregulationigns': 10577, 'consultation': 10578, 'buckybal': 10579, 'imprisons': 10580, 'gaysandlesbianshandel': 10581, 'adoption': 10582, 'sportsfifa': 10583, 'pressured': 10584, 'budweiser': 10585, 'lowesttaxed': 10586, 'surcharg': 10587, 'pollsevery': 10588, 'popcorn': 10589, 'popper': 10590, 'fry': 10591, 'squirrel': 10592, 'utax': 10593, '446': 10594, 'messagemachinecarly': 10595, 'sons': 10596, 'robs': 10597, 'progrowth': 10598, 'healthcareabout': 10599, 'beneficiaries': 10600, 'cemetery': 10601, 'prayers': 10602, 'funer': 10603, 'foodsafetyaustin': 10604, 'omehow': 10605, 'appraisers': 10606, 'pag': 10607, 'environmentoil': 10608, 'globalist': 10609, 'agreements': 10610, '5000page': 10611, 'obamatrade': 10612, 'squad': 10613, 'sometimes': 10614, 'healthcareen': 10615, 'quickli': 10616, 'liberty': 10617, 'housingon': 10618, 'publicsafetyyoure': 10619, 'urbanfor': 10620, 'inner': 10621, 'multibillion': 10622, 'suff': 10623, 'taxeskewpie': 10624, 'burgers': 10625, 'immigrationhillary': 10626, 'terrorismtwo': 10627, 'waterevery': 10628, 'seconds': 10629, 'sanit': 10630, 'housingmitt': 10631, 'slots': 10632, 'electionsnevada': 10633, '428000': 10634, 'reducedprice': 10635, 'inelig': 10636, 'heaven': 10637, 'consul': 10638, 'diversityay': 10639, 'apples': 10640, 'cook': 10641, 'debatesi': 10642, '284': 10643, 'accommodation': 10644, 'beard': 10645, 'marijuanadepartment': 10646, '1trillion': 10647, 'statesthirteen': 10648, 'taxescongressman': 10649, 'energygeorgia': 10650, '224000': 10651, 'wealthmitt': 10652, 'redistrictingthis': 10653, 'interactive': 10654, 'bargainedfor': 10655, 'breathtaking': 10656, 'messagemachinewe': 10657, 'healthcareusually': 10658, 'electionsevery': 10659, 'frack': 10660, 'utaustin': 10661, 'rouhani': 10662, 'transparencyjeb': 10663, 'disclos': 10664, 'transportationphotos': 10665, 'unfund': 10666, 'taxesexperts': 10667, 'workersup': 10668, 'undocumentedimmigrants': 10669, 'abortiontoday': 10670, '1in2': 10671, 'governmentregulationwe': 10672, 'youngstown': 10673, 'aprovision': 10674, 'immigrationchildren': 10675, 'toothpaste': 10676, 'toothbrush': 10677, 'customer': 10678, 'taxesmilwaukee': 10679, 'prepar': 10680, 'foreignpolicymitt': 10681, 'healthcareteddy': 10682, 'healthcarethecbo': 10683, 'saysthe': 10684, 'originallyproject': 10685, 'kosovo': 10686, '205': 10687, 'dispensari': 10688, 'faceless': 10689, 'lifesustaining': 10690, 'consci': 10691, '27300': 10692, 'redistrictingmore': 10693, 'pb': 10694, 'energygovernment': 10695, 'energies': 10696, '899': 10697, 'druginduced': 10698, 'risking': 10699, 'ethicsgreg': 10700, 'surrogates': 10701, 'confronting': 10702, 'fatalitie': 10703, 'thi': 10704, 'pleae': 10705, 'af': 10706, '124': 10707, 'highesttaxed': 10708, 'actu': 10709, '2070': 10710, 'perpetuity': 10711, 'statefinancesopponent': 10712, 'legislated': 10713, 'termin': 10714, 'economyben': 10715, 'hollowed': 10716, 'kips': 10717, 'intellectually': 10718, 'reference': 10719, 'almighti': 10720, 'ducks': 10721, '6800': 10722, 'wealthless': 10723, 'subscript': 10724, 'what': 10725, 'electionswrong': 10726, 'exacerbate': 10727, '194': 10728, 'wrongprecinct': 10729, 'ghosts': 10730, '6million': 10731, 'transportationpaul': 10732, 'punditsdonald': 10733, 'appealing': 10734, 'militarygranite': 10735, 'shipbuilders': 10736, '381': 10737, 'supermax': 10738, 'dcarea': 10739, 'congressadjourned': 10740, 'religionpope': 10741, 'creflo': 10742, 'statesen': 10743, 'kentucki': 10744, 'campaignfinancemr': 10745, 'selffinancing': 10746, 'federalbudgetwhile': 10747, 'fatcat': 10748, '102000': 10749, 'educationcrist': 10750, 'weatheryou': 10751, 'fifthgrader': 10752, 'laborcanadian': 10753, 'inequ': 10754, 'prank': 10755, 'drugsone': 10756, 'donna': 10757, 'campbell': 10758, 'laborif': 10759, 'unfairly': 10760, 'fccs': 10761, 'neutrality': 10762, 'whatis': 10763, 'violatedfederal': 10764, 'scuba': 10765, 'diving': 10766, 'transportationright': 10767, 'governmentefficiencywere': 10768, 'photovoltaic': 10769, 'nytimes': 10770, 'subscribers': 10771, 'projector': 10772, 'planetarium': 10773, 'sexualityidaho': 10774, 'synagogues': 10775, 'terrorismyouve': 10776, 'endlessly': 10777, 'conflictfree': 10778, 'intel': 10779, 'conflictfre': 10780, 'underutil': 10781, 'taxesraising': 10782, 'diversitybeaverton': 10783, 'enjoys': 10784, 'electionsit': 10785, 'pollscongress': 10786, 'inv': 10787, 'differences': 10788, 'messagemachine2012herman': 10789, 'cain': 10790, 'debteven': 10791, 'ounce': 10792, 'platinum': 10793, 'marijuanathere': 10794, 'probation': 10795, 'enslaved': 10796, '1850': 10797, 'womenome': 10798, 'cubas': 10799, 'survival': 10800, 'venezuelan': 10801, 'dri': 10802, 'supremecourtwisconsin': 10803, 'federalbudgetmayor': 10804, 'giulianis': 10805, 'alameel': 10806, 'shuttle': 10807, 'boarding': 10808, 'dynamite': 10809, 'ak47': 10810, 'sciencetoothpaste': 10811, 'indicator': 10812, 'legalissuestwo': 10813, 'educationtoday': 10814, 'labordan': 10815, 'womenmargaret': 10816, 'judas': 10817, 'goat': 10818, 'speculative': 10819, 'namely': 10820, 'reinstating': 10821, 'glassteagal': 10822, 'economymillions': 10823, 'healthcareno': 10824, 'numberonein': 10825, 'energyresourcesrussia': 10826, 'isnumber': 10827, '37th': 10828, 'pollsays76': 10829, 'johnsonweld': 10830, 'povertybefore': 10831, 'struggle': 10832, 'desks': 10833, '2733page': 10834, 'witch': 10835, 'electionsvictory': 10836, 'durable': 10837, 'jobaccomplishmentsher': 10838, 'candidatesbiographyworked': 10839, 'waterthere': 10840, 'faucet': 10841, 'wealthfewer': 10842, 'transcripts': 10843, 'arguments': 10844, 'antonin': 10845, 'jokes': 10846, 'laughs': 10847, 'smallbusinesswisconsin': 10848, 'litigation': 10849, 'halt': 10850, 'homelandsecurityall': 10851, 'transparencyninetyfour': 10852, 'electionshuman': 10853, 'votetabulation': 10854, 'peters': 10855, 'client': 10856, 'duvalier': 10857, 'despot': 10858, 'statebudgetno': 10859, 'drilled': 10860, 'alway': 10861, 'forums': 10862, 'announcing': 10863, 'poliquin': 10864, 'transexuals': 10865, 'grabbing': 10866, 'strangerdanger': 10867, 'healthcarecongressman': 10868, 'toimplement': 10869, 'binational': 10870, 'gaysandlesbiansexit': 10871, 'needless': 10872, 'pure': 10873, 'pollsim': 10874, 'trumpsfoundation': 10875, 'sixfoottall': 10876, 'immigrationtudy': 10877, 'undocu': 10878, 'wateronion': 10879, 'creeks': 10880, 'cubic': 10881, 'niagara': 10882, 'proposedcorporate': 10883, 'statebudgetyoure': 10884, 'forstate': 10885, 'diane': 10886, 'hungerunder': 10887, 'deprived': 10888, 'supremecourtif': 10889, 'throws': 10890, 'democratically': 10891, 'safetyeducation': 10892, 'cracked': 10893, 'supervised': 10894, 'alito': 10895, 'sits': 10896, 'affords': 10897, 'legalissuespresidents': 10898, 'collectively': 10899, 'bumped': 10900, 'medicaidrelated': 10901, 'statefinancesweve': 10902, 'nanjoe': 10903, 'healthcaretaxes': 10904, 'richarddurbin': 10905, 'gunsnearly': 10906, '270': 10907, 'monoxide': 10908, 'euthanize': 10909, 'immigrationnet': 10910, 'factcheck': 10911, 'walgreens': 10912, 'publicservicegeorgia': 10913, 'foreignpolicyukraine': 10914, 'voluntarily': 10915, 'territorial': 10916, 'integrity': 10917, 'outward': 10918, 'deleg': 10919, 'statesrepublicanleaning': 10920, 'terrorismdemocrats': 10921, 'kurds': 10922, 'gamed': 10923, 'statebudgetnewspapers': 10924, 'ethicsemail': 10925, 'quotes': 10926, 'maureen': 10927, 'dowd': 10928, 'column': 10929, 'transportationlast': 10930, 'marketregulationcompact': 10931, 'friendli': 10932, 'debtdebt': 10933, 'tripling': 10934, 'declares': 10935, 'appreciation': 10936, 'transportationalready': 10937, 'prototype': 10938, 'driverless': 10939, 'crowded': 10940, 'maze': 10941, 'statefinancesthis': 10942, 'landfill': 10943, 'nashua': 10944, 'cit': 10945, 'agricultureoregon': 10946, 'substitute': 10947, 'taxesobamas': 10948, 'campaignfinancethis': 10949, 'timulus': 10950, '523': 10951, 'trespassing': 10952, 'mul': 10953, 'gaysandlesbiansfox': 10954, 'boccieris': 10955, 'statesdrug': 10956, 'verona': 10957, 'wanigan': 10958, 'womenbetween': 10959, 'deeply': 10960, 'in2004': 10961, 'corleone': 10962, 'endowed': 10963, 'scienceturkeys': 10964, '298': 10965, '30s': 10966, 'weighed': 10967, '132': 10968, 'casualti': 10969, '183rd': 10970, 'tradewith': 10971, 'notifications': 10972, 'redistrictingliberal': 10973, 'draws': 10974, 'weath': 10975, 'restaurants': 10976, 'educationcharlie': 10977, 'punditsfortyfive': 10978, 'taxwas': 10979, 'indexed': 10980, '35million': 10981, 'federalbudgetover': 10982, '375': 10983, 'invent': 10984, 'immigrationnot': 10985, 'villain': 10986, 'batman': 10987, 'inherits': 10988, 'kyrillos': 10989, 'publichealthabout': 10990, 'cellphon': 10991, 'brav': 10992, 'outnumber': 10993, 'bipartisanshiprob': 10994, 'straightforward': 10995, 'carroll': 10996, 'backing': 10997, '401kstyle': 10998, 'mirrored': 10999, 'electionsacross': 11000, 'cay': 11001, 'johnston': 11002, 'ethicsrather': 11003, 'terrorismassault': 11004, 'publicsafetydoctors': 11005, 'surgeri': 11006, 'radicalized': 11007, 'followers': 11008, '830000': 11009, 'electionsbruce': 11010, 'rauner': 11011, 'candidatejason': 11012, 'dinners': 11013, 'cargill': 11014, 'holt': 11015, '741': 11016, 'takeov': 11017, 'gunsfar': 11018, 'drowning': 11019, 'bathtubs': 11020, 'accidentally': 11021, 'iraqixtyfive': 11022, 'energyamerican': 11023, 'bases': 11024, 'stimulushaving': 11025, 'statesits': 11026, 'noncitizen': 11027, 'republicandominated': 11028, 'foregone': 11029, 'urinals': 11030, 'giblet': 11031, 'consumersafetywhen': 11032, 'electionsarah': 11033, '65th': 11034, 'territories': 11035, 'untreated': 11036, 'decay': 11037, 'taxesgrateful': 11038, 'oddest': 11039, 'hillarycare': 11040, 'profiteered': 11041, 'aftermath': 11042, 'jobsrick': 11043, 'statebudgetdemocrats': 11044, 'scoreboard': 11045, 'gaysandlesbianshes': 11046, 'economyonly': 11047, 'systematic': 11048, 'obamabirthcertificatewhite': 11049, 'legalissuesaysbernie': 11050, 'sel': 11051, 'abcnewsweekindependent': 11052, 'foreigncontrolled': 11053, 'dhimmitude': 11054, 'jobaccomplishmentsafter': 11055, 'govjaynixon': 11056, 'overridden': 11057, 'moleg': 11058, 'environmentwind': 11059, '9241': 11060, '295': 11061, 'lamp': 11062, 'veteransruss': 11063, 'governmentregulationfive': 11064, 'childrenthe': 11065, 'raided': 11066, 'povertywhy': 11067, 'taxesdave': 11068, 'kaines': 11069, 'upper': 11070, 'evading': 11071, 'intervene': 11072, 'rightsmike': 11073, 'electionsno': 11074, 'terrorismevery': 11075, 'terrorismu': 11076, 'electronically': 11077, 'spy': 11078, 'statebudgetcongressman': 11079, 'workersalthough': 11080, 'oblig': 11081, 'campaignfinanceyou': 11082, 'enhanced': 11083, 'techniques': 11084, 'character': 11085, 'bravery': 11086, 'julio': 11087, 'robaina': 11088, '260000': 11089, 'dnc': 11090, 'hack': 11091, 'ploy': 11092, 'jobscongressional': 11093, 'transportation75': 11094, 'towers': 11095, 'supremecourtfor': 11096, 'thirdgraders': 11097, 'wartim': 11098, 'believeinsocialism': 11099, 'militaryamerican': 11100, 'formal': 11101, 'taxesninetyfour': 11102, 'infrastructurewe': 11103, 'profited': 11104, 'homelandsecuritywe': 11105, 'cyberattacks': 11106, 'messagemachine2014the': 11107, 'mcconnel': 11108, 'retrofitted': 11109, 'unionseth': 11110, 'magaziner': 11111, 'ismore': 11112, 'appropriated': 11113, 'advertises': 11114, 'breakup': 11115, 'tragedy': 11116, 'taxes47': 11117, 'jerusalem': 11118, 'educationas': 11119, 'finishing': 11120, '3400': 11121, '10billion': 11122, 'technologyaustin': 11123, 'economyclinton': 11124, 'militarythree': 11125, 'legalissuestrump': 11126, 'incomerichmond': 11127, 'oon': 11128, 'dial': 11129, 'islamaccording': 11130, 'pew': 11131, 'oppressive': 11132, 'playboy': 11133, 'networking': 11134, 'messagemachine2014wisconsins': 11135, 'prize': 11136, 'pollseventyfour': 11137, 'personone': 11138, 'unstable': 11139, 'unfriendly': 11140, 'regim': 11141, 'electionsince': 11142, 'explod': 11143, 'distracted': 11144, 'reauthorization': 11145, 'lightrail': 11146, 'debatesays': 11147, 'isunder': 11148, 'criminaljusticetwo': 11149, 'notifying': 11150, 'educationnearly': 11151, 'historyredskins': 11152, 'acidic': 11153, 'messagemachinevotingrecord': 11154, 'dougmacginnitie': 11155, 'councilman': 11156, '789json': 11157, 'refundable': 11158, 'healthcareive': 11159, 'expecting': 11160, 'protracted': 11161, 'malaise': 11162, 'groped': 11163, 'payne': 11164, 'messagemachine2012for': 11165, 'koreas': 11166, 'desjarlais': 11167, '176': 11168, '940': 11169, 'stateslast': 11170, 'advised': 11171, 'nonintervention': 11172, 'impressive': 11173, 'gunsguns': 11174, 'fosters': 11175, 'transportationfour': 11176, 'newhampshire2012by': 11177, 'statefinancesfaculty': 11178, 'homelandsecuritypresident': 11179, 'disasters': 11180, 'ciancis': 11181, 'marijuanafloridas': 11182, 'ailments': 11183, 'muscle': 11184, 'spasms': 11185, 'neck': 11186, 'menstrual': 11187, 'cramps': 11188, 'governmentsanctioned': 11189, 'potsmok': 11190, 'gunsbecause': 11191, 'smelter': 11192, 'immigrationworkers': 11193, 'imprisoning': 11194, 'immigrationlatina': 11195, 'enthusiastically': 11196, 'republicansponsored': 11197, 'benefiting': 11198, 'pronounced': 11199, 'environmenttwelve': 11200, 'olv': 11201, 'cleanups': 11202, 'volume': 11203, 'westlund': 11204, 'patridge': 11205, 'hetterly': 11206, 'lundquist': 11207, 'sportslast': 11208, 'mostviewed': 11209, 'wereunday': 11210, 'thursday': 11211, 'stimulusunder': 11212, 'punditsforty': 11213, 'oilspillright': 11214, 'royalti': 11215, 'elllis': 11216, 'rneenah': 11217, 'electionshouse': 11218, '120member': 11219, 'abcnewsweekelena': 11220, 'congressmore': 11221, 'jobsmembers': 11222, 'lambeau': 11223, 'scienceonly': 11224, 'marketregulationtheres': 11225, 'chunk': 11226, 'indication': 11227, 'counselors': 11228, 'woods': 11229, 'kelli': 11230, 'indicated': 11231, 'pursued': 11232, 'votingrecordlincoln': 11233, 'federalbudgetweve': 11234, 'lpezcantera': 11235, 'staunchly': 11236, 'workerschris': 11237, 'senseless': 11238, 'taxeswisconsins': 11239, 'prerecession': 11240, 'trailed': 11241, 'tuneup': 11242, 'womenfrankly': 11243, 'cubans': 11244, 'punditschile': 11245, 'internationally': 11246, 'alvador': 11247, 'tradekasichs': 11248, '49000': 11249, '91000': 11250, 'workersdemocratic': 11251, 'considerably': 11252, 'publicserviceas': 11253, 'univision': 11254, 'rescind': 11255, 'wealthincome': 11256, 'disparities': 11257, 'floridaamendmentst': 11258, 'experiences': 11259, 'publichealthebola': 11260, 'contagious': 11261, 'transmissible': 11262, 'workerscott': 11263, 'ct': 11264, 'statefinancesborrowing': 11265, 'stimulusrick': 11266, 'superpower': 11267, 'legalissuesmccain': 11268, 'gilbert': 11269, 'adequately': 11270, 'smoked': 11271, 'marlins': 11272, 'incurred': 11273, 'tourists': 11274, 'visiting': 11275, 'immigrationgwinnett': 11276, 'ac': 11277, 'antiii': 11278, 'religionit': 11279, 'thengeorgia': 11280, 'educationdan': 11281, 'gelber': 11282, 'campaignadvertisingrepublican': 11283, 'karen': 11284, 'ales': 11285, 'unmatch': 11286, 'smallbusinessif': 11287, 'welfaretwo': 11288, 'obamatook': 11289, '20s': 11290, '405': 11291, 'familieschild': 11292, 'securities': 11293, 'economyohio': 11294, 'selffunded': 11295, 'pasco': 11296, 'laborour': 11297, 'harms': 11298, 'dumps': 11299, 'ucceed': 11300, 'candidatesbiographyources': 11301, 'transportationdistracted': 11302, 'roadways': 11303, 'fairtax': 11304, 'governmentregulationnew': 11305, 'moroccans': 11306, 'potteri': 11307, 'sciencecientists': 11308, 'alzheimers': 11309, 'overzealous': 11310, 'greedy': 11311, 'litig': 11312, 'medicaidweve': 11313, 'religionwayne': 11314, 'kurd': 11315, 'campaignfinancechris': 11316, 'financed': 11317, 'anthropology': 11318, 'tem': 11319, 'lowtax': 11320, 'hightax': 11321, 'votingrecordmassachusetts': 11322, 'iraqu201cthirtyfour': 11323, 'insuranceu201d': 11324, 'socialsecuritybrendan': 11325, 'occup': 11326, 'truethat': 11327, 'ciudad': 11328, 'hughes': 11329, 'paving': 11330, 'overdevelopment': 11331, 'sprawl': 11332, 'healthcarehe': 11333, 'socialsecurityallen': 11334, 'footing': 11335, 'explanation': 11336, 'healthcareflorida': 11337, 'rigell': 11338, 'waushara': 11339, 'historyfdr': 11340, 'biological': 11341, 'boyfriend': 11342, 'girlfriend': 11343, 'publicemployee': 11344, 'tracks': 11345, 'workersmissouri': 11346, 'friendship': 11347, 'privacydrone': 11348, 'birds': 11349, 'uploaded': 11350, 'isto': 11351, 'roll': 11352, 'retrain': 11353, 'publicsafetymilwaukee': 11354, 'lakefront': 11355, 'terrorismrussia': 11356, 'someplac': 11357, 'smallbusinesshalf': 11358, 'norcross': 11359, 'likedsized': 11360, 'bypassed': 11361, 'housingbill': 11362, 'explained': 11363, '1875': 11364, 'energyamericans': 11365, 'guardians': 11366, 'estonia': 11367, '300k': 11368, 'suicides': 11369, 'ethicsaccuses': 11370, 'economybecause': 11371, 'discredited': 11372, 'punditspreventive': 11373, 'impeachment': 11374, 'rubberstamped': 11375, 'cnbcs': 11376, 'harwood': 11377, '5802json': 11378, 'democratcontrolled': 11379, 'deficitfederalbudgetjobaccomplishments': 11380, 'johnboehner': 11381, '6153json': 11382, 'economyincomejobs': 11383, '6515json': 11384, 'energyfederalbudgetstimulus': 11385, 'crossroadsgps': 11386, '385json': 11387, 'westerville': 11388, '10932json': 11389, 'secondbest': 11390, 'educationgovernmentregulationjobaccomplishmentslaborunions': 11391, 'scottwalker': 11392, '5076json': 11393, 'editorial': 11394, '12189json': 11395, 'healthcaremedicaid': 11396, 'rickscottsstarbucksheckler': 11397, 'stayathome': 11398, '945json': 11399, 'magnetic': 11400, 'levitation': 11401, 'exile': 11402, 'historythomas': 11403, 'holdings': 11404, 'womennevada': 11405, 'educationay': 11406, 'history1928': 11407, 'messagemachinean': 11408, 'syndicate': 11409, 'extorting': 11410, 'spiral': 11411, 'staircase': 11412, 'congestion': 11413, 'statebudgetminnesota': 11414, 'terrorismboston': 11415, 'marathon': 11416, 'tamerlan': 11417, 'tsarnaev': 11418, 'grav': 11419, 'democraticsteered': 11420, 'challenged': 11421, 'obstruction': 11422, 'votingrecordmaggie': 11423, 'weatherglobal': 11424, 'workerstommy': 11425, 'foreignpolicyforeign': 11426, 'altern': 11427, 'resolved': 11428, 'nuclearobama': 11429, 'abolishes': 11430, 'midwestern': 11431, 'taxeslike': 11432, 'exponential': 11433, 'harassing': 11434, 'telemarketers': 11435, 'insinuating': 11436, 'foul': 11437, 'circul': 11438, 'wealththeyre': 11439, 'montana': 11440, 'taxesits': 11441, 'uncollected': 11442, 'crimeour': 11443, 'gaysandlesbianswere': 11444, 'bakers': 11445, 'florists': 11446, 'photographers': 11447, 'povertytwothirds': 11448, 'publichealthheroin': 11449, 'opioids': 11450, 'votingrecordometimes': 11451, 'campaignadvertisingwhile': 11452, 'stimulusinside': 11453, 'antichristian': 11454, 'boy': 11455, 'couts': 11456, 'gamble': 11457, 'marriagelegislation': 11458, 'clerks': 11459, 'populationwere': 11460, 'censu': 11461, 'noted': 11462, 'observers': 11463, 'jobaccomplishmentsjoe': 11464, 'morrissey': 11465, 'delegate': 11466, 'statefinancesavings': 11467, '21500': 11468, 'narcotics': 11469, 'confisc': 11470, 'recreationeven': 11471, 'erv': 11472, 'proamnesty': 11473, 'urgingcongress': 11474, 'residing': 11475, 'fires90': 11476, 'humancaus': 11477, 'statebudgetcuts': 11478, 'levies': 11479, 'supplysider': 11480, 'coops': 11481, 'enterpris': 11482, 'gunsresearch': 11483, 'insiders': 11484, 'candidatesbiographyted': 11485, 'ethicsgeorgia': 11486, 'immigrationno': 11487, 'socialsecurityblames': 11488, 'mcintyre': 11489, 'floridawhy': 11490, '8th': 11491, '1835': 11492, 'remarkable': 11493, 'executed': 11494, 'flatout': 11495, 'friday': 11496, 'cla': 11497, 'funct': 11498, 'housingjohn': 11499, 'strangulation': 11500, 'transportationixtyone': 11501, 'troubl': 11502, 'killings': 11503, 'twodecade': 11504, 'malfunctioning': 11505, '109': 11506, 'educationprovidence': 11507, 'incomeif': 11508, 'ladder': 11509, 'hewlettpackard': 11510, 'terrorismrepeated': 11511, 'jobsmayor': 11512, 'newhampshire2012community': 11513, 'citygovernment500': 11514, 'abrahamlincoln': 11515, 'bedroom': 11516, 'transportationred': 11517, 'abortionwendy': 11518, 'taxesmiddleclass': 11519, 'statebudgetclosing': 11520, '50000000': 11521, 'sung': 11522, 'pryorcut': 11523, 'ethicsdarryl': 11524, 'hicks': 11525, 'medicareann': 11526, 'outstripped': 11527, '1959': 11528, 'greatly': 11529, 'weakens': 11530, 'temperatur': 11531, 'weakest': 11532, 'letters': 11533, 'statebudgethere': 11534, 'punditshusbands': 11535, 'rarely': 11536, 'ingle': 11537, 'forever': 11538, 'unionsdocuments': 11539, 'cyber': 11540, 'mailin': 11541, 'oyst': 11542, '50if': 11543, 'truthful': 11544, 'messagemachinepam': 11545, 'bonditold': 11546, 'shell': 11547, 'plummeting': 11548, 'immigrationthey': 11549, 'stat': 11550, 'stimulusthat': 11551, 'fourthquarter': 11552, 'firsttime': 11553, 'buyer': 11554, 'jobaccomplishmentsprovidence': 11555, 'environmentcientists': 11556, 'gunsmitch': 11557, 'infringe': 11558, 'abortionany': 11559, 'prematurely': 11560, 'unchecked': 11561, 'diversions': 11562, 'fortyfive': 11563, 'womenowned': 11564, 'waterbetween': 11565, 'nuclearchina': 11566, 'inflammatory': 11567, 'newslett': 11568, 'housinghave': 11569, 'suburbs': 11570, 'inundated': 11571, 'absolut': 11572, 'awardwinning': 11573, 'megan': 11574, 'ampson': 11575, 'unwinding': 11576, 'welfaretowork': 11577, '4yearolds': 11578, 'kirkpatrick': 11579, 'hodges': 11580, 'rocket': 11581, 'underfund': 11582, 'sixthfastest': 11583, 'patrice': 11584, 'lumumba': 11585, 'moscow': 11586, 'criminaljusticeheldon': 11587, 'censor': 11588, 'healthcarevolunteer': 11589, 'warrantless': 11590, '1729000000': 11591, 'isner': 11592, 'mahut': 11593, 'rubber': 11594, '214000': 11595, 'technologylast': 11596, 'campaignstyle': 11597, 'featured': 11598, 'fram': 11599, 'environmentits': 11600, 'crazy': 11601, 'immigrationhundreds': 11602, 'penitentiari': 11603, 'burton': 11604, 'laborweve': 11605, 'medicarehouse': 11606, 'vouchers': 11607, 'persecutes': 11608, 'crimei': 11609, 'omalley': 11610, '19000': 11611, 'legalissuesrequiring': 11612, 'immigrationmany': 11613, 'scholars': 11614, 'sexualitymedicare': 11615, 'penis': 11616, 'foreignpolicyobamas': 11617, 'fatah': 11618, 'territori': 11619, 'votingrecordformer': 11620, 'itd': 11621, 'crimehollywood': 11622, 'guns90': 11623, 'campaignadvertisingan': 11624, 'tactic': 11625, 'rallying': 11626, 'energycurrently': 11627, 'competition': 11628, 'supremecourtrep': 11629, 'putnam': 11630, 'statebudgeteightyfive': 11631, 'statefinancesay': 11632, 'housingamerican': 11633, 'homeownership': 11634, 'q2': 11635, '629': 11636, '51yr': 11637, 'unionsome': 11638, 'unionsthey': 11639, 'binding': 11640, 'arbitration': 11641, 'zanesville': 11642, 'settlement': 11643, 'womeneventy': 11644, 'abject': 11645, 'messagemachine2012gas': 11646, 'electionsenator': 11647, 'withdrawals': 11648, 'privacyoregon': 11649, 'dishonorably': 11650, 'discharged': 11651, 'stalk': 11652, '11yearold': 11653, 'woodpecker': 11654, 'cage': 11655, 'candidatesbiographymr': 11656, 'caprio': 11657, 'freddiebut': 11658, 'economybarack': 11659, 'frisk': 11660, 'bottled': 11661, 'perrier': 11662, 'evian': 11663, 'mines': 11664, 'socialsecurityundocumented': 11665, 'immigrantspay': 11666, 'pattern': 11667, 'ducking': 11668, 'religionaccording': 11669, 'revelations': 11670, '40s': 11671, 'descent': 11672, 'floridaa': 11673, 'publications': 11674, 'tossup': 11675, 'grady': 11676, 'yarbrough': 11677, 'pencer': 11678, 'bachus': 11679, 'abcnewsweekhistorically': 11680, 'ratification': 11681, 'workersrichard': 11682, 'womendaniel': 11683, 'teaches': 11684, 'taxesonehalf': 11685, 'chanting': 11686, 'oklahomas': 11687, 'severance': 11688, 'ky': 11689, 'crimemy': 11690, '142400': 11691, 'dentists': 11692, 'healthcareobamas': 11693, 'exorbitant': 11694, 'deductibles': 11695, 'congressionalrulesall': 11696, 'content': 11697, 'speakers': 11698, 'explain': 11699, 'explan': 11700, 'taxesclayton': 11701, 'mut': 11702, 'pollsnone': 11703, 'johnsontrumpclinton': 11704, 'sciencetatistics': 11705, '420000': 11706, 'militaryvery': 11707, 'brewery': 11708, 'brew': 11709, 'legalissuestheres': 11710, 'votingrecordchris': 11711, 'ununu': 11712, 'inflationadjusted': 11713, 'foreignpolicywere': 11714, 'leasttrusted': 11715, 'abel': 11716, 'messagemachinegeorgia': 11717, 'campaignadvertisingjimmy': 11718, 'declare': 11719, 'publicsafetyaccording': 11720, 'supplier': 11721, 'taxesnobody': 11722, 'myth': 11723, 'load': 11724, 'gamblingtheres': 11725, 'publichealththeres': 11726, 'educationdepartment': 11727, 'investigating': 11728, 'blacksburg': 11729, 'singleoccupancy': 11730, 'educationaysgop': 11731, 'fundingfor': 11732, 'coloradan': 11733, 'oilspillhouse': 11734, 'complained': 11735, 'shoved': 11736, 'humana': 11737, 'inconsistently': 11738, 'educationrebuilding': 11739, 'jobsonly': 11740, 'scientif': 11741, 'candidatesbiographygovernor': 11742, 'childrenince': 11743, 'heatstrok': 11744, 'taxesjoe': 11745, 'faux': 11746, 'punditsrepublicans': 11747, 'grassley': 11748, 'packer': 11749, 'planted': 11750, 'transportationinvested': 11751, 'fixes': 11752, 'welfareunder': 11753, 'povertynew': 11754, 'jobstampa': 11755, 'isleading': 11756, 'hunted': 11757, 'educationemory': 11758, 'chalk': 11759, 'campu': 11760, 'economyoverall': 11761, '981': 11762, 'ignores': 11763, '178': 11764, 'electionsby': 11765, 'religionfor': 11766, 'lighting': 11767, 'welfareour': 11768, 'publicservicerob': 11769, 'teilhet': 11770, 'socialsecurityart': 11771, 'robinson': 11772, 'economy13million': 11773, 'preferring': 11774, '300000000': 11775, 'veteranshealth': 11776, 'energybarack': 11777, 'workersonce': 11778, 'husbands': 11779, 'marketregulationince': 11780, '468500': 11781, '11100': 11782, 'islandbased': 11783, 'conferences': 11784, '2325000': 11785, 'laborjobs': 11786, 'deportationsin': 11787, 'panishlanguage': 11788, 'deportedin': 11789, 'englishlanguage': 11790, 'taxesestimates': 11791, 'healthcarefloridas': 11792, 'marriagebob': 11793, 'transportationunlike': 11794, 'registrations': 11795, 'abortionzero': 11796, 'educationwhat': 11797, 'montclair': 11798, 'tockton': 11799, 'rowan': 11800, 'paterson': 11801, 'publichealthbicycle': 11802, '453': 11803, 'votingrecorduzanne': 11804, 'medicaidtwentyfour': 11805, 'reimbursement': 11806, 'yohoattempts': 11807, 'mainten': 11808, 'veteransobama': 11809, 'privatesale': 11810, 'historyneville': 11811, 'chamberlain': 11812, 'british': 11813, 'dominate': 11814, 'appease': 11815, 'statebudgetfederal': 11816, 'reneging': 11817, 'nearlyone': 11818, 'enactment': 11819, 'obamacareexchange': 11820, 'oilspilldan': 11821, 'gelbers': 11822, 'disqualify': 11823, 'defer': 11824, 'rotunda': 11825, 'incredible': 11826, 'urbanmilwaukee': 11827, 'workersix': 11828, 'publicsafetyenacting': 11829, 'righttocarry': 11830, 'statesflorida': 11831, 'japanes': 11832, 'abcnewsweekmedicare': 11833, 'supremecourtrepublicans': 11834, 'butterandjelly': 11835, 'gillespies': 11836, 'mislead': 11837, 'gangs': 11838, 'counterterrorism': 11839, 'impeachments': 11840, 'tradeforeign': 11841, 'inhabited': 11842, 'taxeshouston': 11843, 'infrastructurethe': 11844, 'ethicseleven': 11845, 'votingrecordoverwhelming': 11846, 'demonstrated': 11847, 'nature': 11848, 'cass': 11849, 'obamabirthcertificatei': 11850, 'controversyabout': 11851, 'wherepresident': 11852, 'religionreligious': 11853, 'knights': 11854, 'publichealth13': 11855, 'tatutes': 11856, 'cloture': 11857, 'liechtenstein': 11858, 'luxembourg': 11859, 'populationnearly': 11860, 'alternatives': 11861, 'marketregulationemiautomatic': 11862, 'pistol': 11863, 'housinghair': 11864, 'stylists': 11865, 'bogged': 11866, 'christi': 11867, 'lien': 11868, 'messagemachine700': 11869, 'boyd': 11870, 'educationtwothirds': 11871, 'votingrecordninetyseven': 11872, 'needbased': 11873, 'revokes': 11874, 'retains': 11875, 'electionsits': 11876, 'preside': 11877, 'clintonsposit': 11878, 'governmentefficiencymembers': 11879, 'environmentoregon': 11880, 'burnt': 11881, 'rot': 11882, 'vicepresidential': 11883, 'economyit': 11884, 'taxesmiller': 11885, 'anheuserbusch': 11886, 'womenif': 11887, 'odds': 11888, 'foreignpolicyjust': 11889, 'runin': 11890, 'socialsecurityean': 11891, 'ethicsyou': 11892, 'chrysler': 11893, 'sportswithout': 11894, 'habitat': 11895, 'poachers': 11896, 'ariz': 11897, 'instal': 11898, 'messagemachine2012bryce': 11899, 'reeves': 11900, 'bankrolled': 11901, 'affecttheir': 11902, 'remind': 11903, 'abcnewsweekfederal': 11904, 'foreignpolicyfor': 11905, 'ubaharan': 11906, 'gunstoday': 11907, 'scratch': 11908, 'dreamed': 11909, 'economyagriculture': 11910, 'publicsafetymost': 11911, 'abusing': 11912, 'anim': 11913, 'oilspilldave': 11914, 'aronberg': 11915, 'devast': 11916, 'energyenator': 11917, 'immigrationromneycare': 11918, 'determination': 11919, 'percentlow': 11920, 'drugstrey': 11921, 'radel': 11922, 'occupies': 11923, 'healthcareixtytwo': 11924, 'moroccan': 11925, 'pottery': 11926, 'watermelon': 11927, 'queen': 11928, 'popculturepaula': 11929, 'deen': 11930, 'messagemachine2012college': 11931, 'messagemachineue': 11932, 'lowden': 11933, 'highpowered': 11934, 'exploit': 11935, 'tying': 11936, '3386': 11937, '3388': 11938, 'federalbudgetixteen': 11939, '765828': 11940, 'pancakes': 11941, 'yuppies': 11942, 'empowered': 11943, 'taxessome': 11944, 'courtordered': 11945, 'statebudgetto': 11946, 'candidatesbiographyever': 11947, 'punditsthomas': 11948, 'pirates': 11949, 'medicaidlast': 11950, 'splitting': 11951, 'splintering': 11952, 'connecting': 11953, 'messagemachine2012rob': 11954, 'crucifying': 11955, 'nailing': 11956, 'dudley': 11957, 'iraqim': 11958, 'threestate': 11959, 'mcmansion': 11960, 'comparison': 11961, 'taxesonethird': 11962, 'recreationcott': 11963, 'bidd': 11964, 'taxesrand': 11965, 'faithbased': 11966, 'initiatives': 11967, 'socialsecurityreport': 11968, 'insisting': 11969, 'fiscalcliff': 11970, 'btw': 11971, 'gwen': 11972, 'healthcarethose': 11973, 'largestever': 11974, 'endur': 11975, 'workersmillennials': 11976, 'ethical': 11977, 'cloud': 11978, 'partially': 11979, 'policyholders': 11980, 'incontrovertible': 11981, 'speed': 11982, 'eventu': 11983, 'stateswithout': 11984, 'jobstwo': 11985, 'boucher': 11986, '924': 11987, 'udal': 11988, 'bennett': 11989, 'rutah': 11990, 'alice': 11991, 'rivlin': 11992, 'technologythere': 11993, 'websites': 11994, 'monk': 11995, 'elmer': 11996, 'widebodied': 11997, 'taxesrepealing': 11998, 'spawned': 11999, 'tore': 12000, 'havens': 12001, 'baseballrooting': 12002, 'candidatesbiographynatalyn': 12003, 'archibong': 12004, 'messagemachineince': 12005, 'surtax': 12006, 'businessmen': 12007, 'legalissues200': 12008, 'iq': 12009, 'buffalos': 12010, 'olarcity': 12011, 'andrew': 12012, 'cuomo': 12013, 'weathera': 12014, 'environmentalist': 12015, 'oilspillfloridas': 12016, 'terrorismisrael': 12017, 'attributes': 12018, '500mile': 12019, 'technologywind': 12020, 'undependable': 12021, 'immigrationan': 12022, 'aluminum': 12023, 'saysabout': 12024, 'external': 12025, 'workersmacys': 12026, 'loves': 12027, 'nuk': 12028, 'transportationless': 12029, 'gunsrepublican': 12030, 'candidatemarilinda': 12031, 'bundy': 12032, 'resell': 12033, 'conocophillips': 12034, 'ethicsas': 12035, 'laundered': 12036, 'laureate': 12037, 'honorary': 12038, 'laborwithheld': 12039, 'reimbursed': 12040, 'republicandrawn': 12041, 'gerrymanders': 12042, 'healthcar': 12043, 'nuclearince': 12044, 'lubbock': 12045, 'dolls': 12046, 'explosives': 12047, 'jumbo': 12048, 'jets': 12049, 'mediumsized': 12050, 'rehabilitate': 12051, 'offroading': 12052, 'trails': 12053, 'atv': 12054, 'legalissuesit': 12055, 'releas': 12056, 'religionour': 12057, 'candidatesbiographyince': 12058, 'oilspillincoming': 12059, 'wolfs': 12060, 'westchester': 12061, 'poorer': 12062, 'poverty57': 12063, 'harshest': 12064, 'gamblingflorida': 12065, 'fourthlargest': 12066, 'bipartisanshipcreflo': 12067, 'electionsbroward': 12068, 'pivotal': 12069, 'communications': 12070, 'gramm': 12071, 'yacht': 12072, 'startup': 12073, 'statebudget43000': 12074, 'militaryeventyfive': 12075, 'governmentregulationwisconsins': 12076, 'weathercongressman': 12077, 'arkansan': 12078, 'jimrenacci': 12079, 'talgo': 12080, 'milwaukeemadison': 12081, 'immigrationhalf': 12082, 'energythere': 12083, 'federalbudget94': 12084, 'nonessential': 12085, 'debatesone': 12086, 'videos': 12087, 'legs': 12088, 'marketregulationtabilizing': 12089, '5500': 12090, 'statebudgetf': 12091, 'fiveplus': 12092, 'hospitalized': 12093, 'malnutrition': 12094, 'katko': 12095, 'jobshowever': 12096, '195': 12097, 'centerpacif': 12098, 'medicareafter': 12099, 'foreignpolicyeven': 12100, 'bashar': 12101, 'alassad': 12102, 'postfertil': 12103, 'legalissuesweeks': 12104, 'quartermilliondollar': 12105, 'drugtaking': 12106, 'neurosurgeon': 12107, 'jobfriendli': 12108, 'statesgreg': 12109, 'jade': 12110, 'helm': 12111, 'detain': 12112, 'tunnels': 12113, 'certainty': 12114, 'capandtradewould': 12115, 'candidatesbiography80': 12116, 'technologytommy': 12117, 'implant': 12118, 'chips': 12119, 'dynamic': 12120, 'analysi': 12121, 'statebudgetohios': 12122, 'woefully': 12123, 'underpaid': 12124, 'statebudgetmissouri': 12125, 'frontline': 12126, 'expir': 12127, 'taxpayerowned': 12128, 'anight': 12129, 'denham': 12130, 'rca': 12131, 'brag': 12132, 'foreignpolicyen': 12133, 'reaffirmed': 12134, 'intention': 12135, 'precondit': 12136, 'socialsecuritydan': 12137, 'windmills': 12138, 'eagl': 12139, 'shipment': 12140, 'click': 12141, 'ducey': 12142, 'immigrationaaron': 12143, 'patriotismhillary': 12144, 'sportsuper': 12145, 'watersh': 12146, 'governorwe': 12147, 'stakes': 12148, 'bushadministrationobama': 12149, 'candidatesbiographythrough': 12150, 'pp': 12151, 'redistrictingwe': 12152, 'locations': 12153, 'campaignfinancewhen': 12154, 'mama': 12155, 'grizzli': 12156, 'criminaljusticewhen': 12157, 'portends': 12158, 'horrific': 12159, 'situ': 12160, 'votingrecordenmark': 12161, 'environmentkeystone': 12162, 'unlocking': 12163, 'canadian': 12164, 'hunger29': 12165, 'nap': 12166, 'ie': 12167, 'jazzercise': 12168, 'gardening': 12169, 'massage': 12170, 'therapy': 12171, 'redirected': 12172, 'candidatesbiography10': 12173, 'thedollar': 12174, 'punditsim': 12175, 'theorists': 12176, 'taxesglenn': 12177, 'historyiowas': 12178, 'mattering': 12179, 'determines': 12180, 'campaignfinancelast': 12181, 'smallbusiness80': 12182, 'carolinians': 12183, 'abcnewsweekninety': 12184, 'bipartisanshipevery': 12185, 'restricts': 12186, 'salt': 12187, '1270': 12188, 'notably': 12189, '854489': 12190, 'jeopardizing': 12191, 'gillespie': 12192, 'frontman': 12193, 'tuitions': 12194, 'collegeshave': 12195, 'rapist': 12196, 'environmentflorida': 12197, 'negligent': 12198, 'jobaccomplishmentsdavid': 12199, '5th': 12200, 'healthcareeightyseven': 12201, 'instituted': 12202, 'congressionalrulesin': 12203, 'donothing': 12204, '352': 12205, 'awaiting': 12206, 'electionsiowa': 12207, 'taxesletting': 12208, 'clears': 12209, 'taxesbernie': 12210, 'anderss': 12211, 'contracting': 12212, 'brooks': 12213, 'contracted': 12214, 'barbaric': 12215, 'workersthere': 12216, 'gaspricesince': 12217, 'governmentefficiencyone': 12218, 'abortiontatistics': 12219, 'complications': 12220, 'guid': 12221, 'statesafter': 12222, 'acute': 12223, 'myocardial': 12224, 'infarction': 12225, 'angina': 12226, 'maui': 12227, 'gunsfirearms': 12228, 'concealedgun': 12229, '29th': 12230, 'aggie': 12231, 'statebudgetpart': 12232, 'upstream': 12233, 'immigrationreport': 12234, 'terrorismmike': 12235, 'morell': 12236, 'iioil': 12237, 'publichealthcervical': 12238, 'screeningand': 12239, 'overlooked': 12240, 'concussion': 12241, 'recov': 12242, 'healthcarepeople': 12243, 'involuntarily': 12244, 'dischargeand': 12245, 'databas': 12246, 'marketplaces': 12247, 'seller': 12248, 'educationaustins': 12249, 'pease': 12250, 'healthcareprobably': 12251, 'marketregulationoil': 12252, '20some': 12253, 'accurate': 12254, 'prediction': 12255, 'islamwhen': 12256, 'koran': 12257, 'washingtons': 12258, 'extends': 12259, 'electionsfor': 12260, 'unionselorza': 12261, 'nonexistence': 12262, 'busting': 12263, 'badgercare': 12264, 'elizabeth': 12265, 'coggs': 12266, 'ideolog': 12267, 'moderate': 12268, 'socialsecuritycongresswoman': 12269, 'weaned': 12270, 'improper': 12271, 'countering': 12272, 'extremism': 12273, 'xray': 12274, 'needl': 12275, 'taxesfilm': 12276, 'productions': 12277, 'disagreement': 12278, 'jumpstart': 12279, 'campaignadvertisingflorida': 12280, 'wifes': 12281, 'snack': 12282, 'governmentchartered': 12283, 'cooperatives': 12284, 'funny': 12285, 'imprison': 12286, 'iraqwhen': 12287, 'captur': 12288, 'federalbudgetbushs': 12289, 'spaceshuttle': 12290, 'terminated': 12291, 'spac': 12292, 'gamblingwhen': 12293, 'censusthe': 12294, 'thenpresident': 12295, 'postag': 12296, 'veteransonly': 12297, 'inadequate': 12298, 'statefinancestuition': 12299, 'welfaregov': 12300, 'diversityinnercity': 12301, 'workersqataris': 12302, 'travelling': 12303, 'resorts': 12304, 'imprisoned': 12305, 'wwe': 12306, 'linda': 12307, 'mcmahon': 12308, 'tipping': 12309, 'ringside': 12310, 'distributing': 12311, 'steroids': 12312, 'wrestl': 12313, 'perceived': 12314, 'metros': 12315, 'cheerleaders': 12316, 'entertained': 12317, 'hop': 12318, 'semblance': 12319, 'democraci': 12320, 'federalbudgetlets': 12321, '9trillion': 12322, 'crimeduring': 12323, '500billion': 12324, 'ethicsfinancial': 12325, 'conflictofinterest': 12326, 'discriminates': 12327, 'daycare': 12328, 'broadband': 12329, 'womendo': 12330, 'concussions': 12331, 'cheerlead': 12332, 'gunsassault': 12333, 'bullhorns': 12334, 'trumpets': 12335, 'helium': 12336, 'balloons': 12337, 'poles': 12338, 'awhile': 12339, 'astray': 12340, 'hungerfederal': 12341, 'wheat': 12342, 'terrorismfor': 12343, 'gunsamericans': 12344, 'marijuananobodys': 12345, 'laborregulations': 12346, 'thwarted': 12347, 'countyowned': 12348, 'healthcaretimulus': 12349, '378000': 12350, '283': 12351, 'foreignpolicytheres': 12352, 'emoluments': 12353, 'foreigners': 12354, 'publichealthobesity': 12355, 'incomemt': 12356, 'sportsi': 12357, 'teelers': 12358, 'nanthe': 12359, 'megachurch': 12360, 'calif': 12361, '2724json': 12362, 'economyjobaccomplishmentsjobsstimulus': 12363, 'gpa': 12364, 'profil': 12365, 'sneezes': 12366, 'votingrecorderic': 12367, 'cryptosporidium': 12368, 'ch2m': 12369, 'urbana': 12370, 'reaped': 12371, 'continually': 12372, 'waiv': 12373, 'punditscongress': 12374, 'shoveled': 12375, '325': 12376, 'immigrationnewt': 12377, 'doorway': 12378, 'retirementafter': 12379, 'punditsas': 12380, 'bats': 12381, 'healthcarejason': 12382, 'elsewher': 12383, 'homelandsecurityu': 12384, 'boxes': 12385, 'silver': 12386, 'valuables': 12387, 'quipped': 12388, 'envision': 12389, 'noncollegeeduc': 12390, 'reinvesting': 12391, 'stateslatinos': 12392, '0809': 12393, 'lifethreatening': 12394, 'gecker': 12395, 'chesterfield': 12396, '322': 12397, 'cheated': 12398, 'deadbeat': 12399, 'sly': 12400, 'busing': 12401, 'tourismatlanta': 12402, 'diego': 12403, 'campaignadvertisinguzanne': 12404, 'marijuanaas': 12405, 'synthetic': 12406, 'bodily': 12407, 'medicaidif': 12408, 'sportsnorth': 12409, 'proamerican': 12410, 'energyclinton': 12411, 'ammo': 12412, 'deerhunting': 12413, 'ammunit': 12414, 'terrorismwith': 12415, 'reconcili': 12416, 'messagemachineat': 12417, 'mobsters': 12418, 'educationwendy': 12419, 'baggage': 12420, 'singleparent': 12421, 'dentures': 12422, 'abortionohios': 12423, 'oilspill150000': 12424, 'fourcounty': 12425, 'taxestarting': 12426, 'worldleading': 12427, 'deployment': 12428, 'ethicsclinton': 12429, 'womenpaul': 12430, 'vitro': 12431, 'sportsatmospheric': 12432, 'footballs': 12433, 'oneandahalf': 12434, '41st': 12435, '57percent': 12436, 'fireworksrelated': 12437, 'sparklers': 12438, 'medicaidanyone': 12439, 'toothach': 12440, 'foodsafetywith': 12441, 'expiration': 12442, 'vary': 12443, 'wid': 12444, '244000': 12445, 'urbannew': 12446, 'steeper': 12447, 'campaignfinancecantors': 12448, 'steakhouses': 12449, 'bending': 12450, '21174396': 12451, 'statesixty': 12452, 'retirementover': 12453, '601': 12454, 'deceased': 12455, 'healthcare53': 12456, 'aged': 12457, 'congressionalruleshouse': 12458, 'tyrofoam': 12459, 'cups': 12460, 'cafeterias': 12461, 'punditsrand': 12462, 'gattaca': 12463, 'ripped': 12464, 'occupywallstreetays': 12465, 'candidatesbiographyrick': 12466, 'energypresident': 12467, 'blackout': 12468, 'technologyregarding': 12469, 'correctionsandupdateson': 12470, 'statebudgetabraham': 12471, 'quorum': 12472, 'economydebt': 12473, 'tradeit': 12474, 'educationgains': 12475, 'credence': 12476, 'terrorismafter': 12477, 'benghazilibyathe': 12478, 'ambassadors': 12479, 'cabin': 12480, 'videotape': 12481, 'bipartisanshiptexas': 12482, 'pitts': 12483, 'lieutenants': 12484, 'economyan': 12485, 'anonymous': 12486, 'federalbudgetocial': 12487, 'abortiono': 12488, 'norms': 12489, 'animmigrant': 12490, 'directs': 12491, 'federalbudgetquite': 12492, 'installations': 12493, 'energyrecent': 12494, 'vi': 12495, 'thirdworld': 12496, 'transportationrhode': 12497, 'crimeunder': 12498, 'preacher': 12499, 'priest': 12500, 'rabbi': 12501, 'moral': 12502, 'traditions': 12503, 'recreationproximity': 12504, 'highvoltage': 12505, 'lowers': 12506, 'housingjeff': 12507, 'wap': 12508, 'infrastructureweve': 12509, 'immigrationcandidate': 12510, 'unethical': 12511, 'partitioning': 12512, 'ent': 12513, 'nearbeach': 12514, 'cam': 12515, 'workerscranstons': 12516, '20142015': 12517, 'retiree': 12518, 'debtin': 12519, 'militaryobamas': 12520, 'equip': 12521, 'rebel': 12522, 'tennesseans': 12523, 'warrior': 12524, 'mattis': 12525, 'keane': 12526, 'flynn': 12527, 'workersforty': 12528, 'workersocial': 12529, 'confined': 12530, 'scarcity': 12531, 'massively': 12532, 'vaginal': 12533, 'eton': 12534, 'walsh': 12535, 'familiesthe': 12536, 'patriotismthe': 12537, 'loyalty': 12538, 'introducing': 12539, 'omitted': 12540, 'economygeorgia': 12541, 'populous': 12542, 'the100': 12543, 'redistrictingthousands': 12544, 'financialregulationlloyd': 12545, 'militarymilitary': 12546, 'giannoulias': 12547, 'pouring': 12548, '18billion': 12549, 'votingrecordjust': 12550, 'abortionfreds': 12551, 'righttolife': 12552, 'punditsgreece': 12553, 'metroplex': 12554, 'healthcareformer': 12555, 'transportationi': 12556, 'mayweatherpacquiao': 12557, 'wendy': 12558, 'pediatric': 12559, 'consequence': 12560, '84000': 12561, 'jobsdue': 12562, 'overincarceration': 12563, 'avert': 12564, 'environmentgas': 12565, '2487': 12566, 'educationrecent': 12567, 'groom': 12568, 'healthcareinsurers': 12569, 'sexualitytransgender': 12570, '1in12': 12571, 'povertybarack': 12572, 'womentatistics': 12573, 'transportationripta': 12574, 'fullest': 12575, 'motives': 12576, 'gunsoregons': 12577, 'umpqua': 12578, 'mcginty': 12579, 'smallbusinesscompany': 12580, 'lifeguard': 12581, 'scramble': 12582, 'healthcareonethird': 12583, 'statesthere': 12584, 'marketregulationwitzerland': 12585, 'backyard': 12586, 'immigrationcurrently': 12587, 'statebudgetfifty': 12588, 'collegelevel': 12589, 'twostate': 12590, 'almanac': 12591, 'drugswere': 12592, 'congressin': 12593, 'candidatesbiographydave': 12594, 'aronbergs': 12595, 'asst': 12596, 'agprivate': 12597, 'statesmy': 12598, 'socialsecurityyouve': 12599, 'messagemachinebruce': 12600, 'melt': 12601, 'federalbudgetrick': 12602, 'tracking': 12603, 'educationregarding': 12604, 'rays': 12605, 'judged': 12606, 'messagemachinefor': 12607, 'falks': 12608, 'zinn': 12609, 'antiamerican': 12610, 'transportationgovernorelect': 12611, '2038': 12612, 'legalissuested': 12613, 'longestserving': 12614, 'militarynot': 12615, 'saluted': 12616, 'povertymanufacturing': 12617, 'perhour': 12618, '128000': 12619, 'mosquito': 12620, 'socialsecurityrob': 12621, 'disputed': 12622, 'trimming': 12623, '1938': 12624, 'violates': 12625, 'normalization': 12626, 'capps': 12627, 'capable': 12628, '2020': 12629, 'socialsecuritynearly': 12630, 'messagemachine2014while': 12631, 'tradeby': 12632, 'coffee': 12633, 'elephant': 12634, 'ivory': 12635, 'tusk': 12636, 'legalissuesbarack': 12637, 'criminaljusticeharris': 12638, 'jailing': 12639, 'insist': 12640, 'gunshe': 12641, 'restriction': 12642, 'abcnewsweekrep': 12643, 'energys': 12644, '1977': 12645, 'historyevery': 12646, 'signer': 12647, 'krolicki': 12648, '4year': 12649, 'marijuanaweve': 12650, 'pedernales': 12651, 'educationtommy': 12652, 'supremecourtthere': 12653, 'evening': 12654, 'commuters': 12655, 'banfield': 12656, 'okays': 12657, 'disposing': 12658, 'unclaimed': 12659, 'religionon': 12660, 'julin': 12661, 'sevenfigure': 12662, 'smells': 12663, 'mikal': 12664, 'watts': 12665, 'gunsobama': 12666, 'admin': 12667, 'projchildafe': 12668, 'necap': 12669, 'regiven': 12670, 'chees': 12671, 'economywhen': 12672, 'obamabirthcertificatebarack': 12673, 'barry': 12674, 'oetoro': 12675, 'supremecourta': 12676, 'otomayors': 12677, 'ornamental': 12678, 'twitt': 12679, '179000': 12680, 'beings': 12681, '23million': 12682, 'welfareabout': 12683, 'thanthe': 12684, 'obamabirthcertificatepresident': 12685, 'marketregulationwhile': 12686, 'noncompliant': 12687, 'governmentefficiencyboccieri': 12688, 'candidatesbiographyits': 12689, 'fetish': 12690, 'kidnapped': 12691, 'kennels': 12692, 'pets': 12693, 'stalking': 12694, 'portug': 12695, 'oilspillproposed': 12696, 'healthcare15': 12697, 'cumulatively': 12698, 'technologyholding': 12699, 'miracle': 12700, 'marijuanaif': 12701, 'forfeitur': 12702, 'taxestravis': 12703, 'basheden': 12704, 'workers170000': 12705, 'socialsecuritychained': 12706, 'cpi': 12707, 'inventory': 12708, 'gainrevenue': 12709, 'smallbusiness95': 12710, 'creators': 12711, 'tourismthere': 12712, 'airconditioned': 12713, 'len': 12714, 'tended': 12715, 'unionsix': 12716, 'index': 12717, '3rd': 12718, 'electionsnobodys': 12719, 'markkirk': 12720, 'andwas': 12721, 'tilltooracist': 12722, 'triggering': 12723, 'microcephaly': 12724, 'dtap': 12725, 'phasing': 12726, 'swift': 12727, 'mindless': 12728, 'drawdown': 12729, 'generations': 12730, 'gimmick': 12731, 'gamblingan': 12732, 'sweepstakes': 12733, 'cafe': 12734, 'woodstock': 12735, 'concert': 12736, 'yale': 12737, 'raging': 12738, 'fiorinasaying': 12739, 'isone': 12740, 'memory': 12741, 'povertytwentyfive': 12742, 'needle': 12743, 'iota': 12744, 'verifies': 12745, 'inaccurate': 12746, 'ecure': 12747, '287g': 12748, 'consumersafetyour': 12749, 'countrymost': 12750, 'engineered': 12751, 'consequences': 12752, 'spillover': 12753, 'escal': 12754, 'rack': 12755, 'causingclimate': 12756, 'intergovernmental': 12757, 'confidently': 12758, 'surg': 12759, 'wealthif': 12760, 'tradelast': 12761, 'idiots': 12762, 'punditswarren': 12763, 'crap': 12764, 'bankrupting': 12765, 'alderman': 12766, 'abu': 12767, 'bakr': 12768, 'baghdadi': 12769, 'oval': 12770, 'jacket': 12771, 'revered': 12772, 'appropriation': 12773, 'abortionhillary': 12774, 'energyive': 12775, 'emir': 12776, 'cdcs': 12777, 'transportationbecause': 12778, 'waterour': 12779, 'hydropow': 12780, 'redistrictingdistrict': 12781, 'observer': 12782, 'acquisition': 12783, 'decadesold': 12784, 'refugee': 12785, 'governmentefficiencyin': 12786, 'heaviest': 12787, 'citybudgetthe': 12788, 'electionsuperdelegates': 12789, 'determining': 12790, 'housingwe': 12791, 'overbuilt': 12792, 'groupfeeding': 12793, 'claimsthat': 12794, 'messagemachinein': 12795, 'moments': 12796, 'educator': 12797, 'restricting': 12798, 'vitter': 12799, 'energyo': 12800, 'backwards': 12801, 'poverty9997': 12802, 'prejudged': 12803, 'votingrecordmike': 12804, 'transportationthey': 12805, 'threehour': 12806, 'winnebago': 12807, 'marketregulationwhat': 12808, 'clarkston': 12809, 'decriminalize': 12810, 'loughlin': 12811, 'anwar': 12812, 'alawlakis': 12813, 'fath': 12814, 'ethicsjeff': 12815, 'hewent': 12816, 'educationhispanic': 12817, 'jobaccomplishmentsevery': 12818, 'citybudgetays': 12819, 'hesecured': 12820, 'taxesdo': 12821, 'bloc': 12822, 'wisdom': 12823, 'quot': 12824, 'manufacturingled': 12825, 'factchecking': 12826, 'jobaccomplishmentsmore': 12827, 'floridaclaims': 12828, 'chinachina': 12829, 'gaysandlesbianson': 12830, 'taxestrickland': 12831, '840': 12832, 'stimulustimulus': 12833, 'critically': 12834, 'perspective': 12835, 'jesus': 12836, 'christ': 12837, 'se': 12838, 'criminaljusticebernie': 12839, 'messagemachinepolitifact': 12840, 'sexualityive': 12841, 'invades': 12842, 'electionsfewer': 12843, 'assertion': 12844, 'foreignpolicyfox': 12845, 'violatesa': 12846, 'thatprevents': 12847, 'channels': 12848, 'herald': 12849, 'disgust': 12850, 'statefinancesplanned': 12851, 'repeals': 12852, 'tourismrhode': 12853, 'tid': 12854, 'immigrationnobody': 12855, 'federalbudgeteightyfive': 12856, 'electionsdespite': 12857, 'newborns': 12858, 'abortionmitt': 12859, 'bound': 12860, 'cruzsnam': 12861, 'stripping': 12862, 'waterron': 12863, 'oakleys': 12864, 'thewater': 12865, 'georgian': 12866, 'workerswisconsins': 12867, 'healthcareabortion': 12868, 'abcnewsweekfifteen': 12869, 'totaled': 12870, 'parttim': 12871, 'federalbudgetdemocratic': 12872, 'boswell': 12873, 'carnahan': 12874, 'critz': 12875, 'gamblinghorse': 12876, 'electionsgiven': 12877, 'educationhouse': 12878, '2301': 12879, '201516': 12880, 'campaignfinancegonzales': 12881, 'raun': 12882, 'sportsa': 12883, 'denmarks': 12884, 'homelandsecuritya': 12885, 'interpol': 12886, 'immigrationpanish': 12887, 'monetary': 12888, 'disabilityover': 12889, 'anxious': 12890, 'decent': 12891, 'healthcarediane': 12892, 'weatherwe': 12893, 'confronted': 12894, 'jobsu': 12895, 'lindsey': 12896, 'graham': 12897, '16400': 12898, '825000': 12899, '111': 12900, 'relation': 12901, 'migraines': 12902, 'epilepsy': 12903, 'environmenttwenty': 12904, '104': 12905, 'costsharing': 12906, 'womenfor': 12907, 'crimeif': 12908, 'strictly': 12909, 'obamaphon': 12910, 'historyvirginias': 12911, 'crowera': 12912, 'continual': 12913, 'sportsits': 12914, 'olymp': 12915, 'sticker': 12916, 'rejection': 12917, 'cheat': 12918, 'defies': 12919, 'logic': 12920, 'uaw': 12921, 'environmentnew': 12922, 'publichealthafricanamerican': 12923, 'jacky': 12924, 'rosen': 12925, 'length': 12926, 'firstdegree': 12927, 'parol': 12928, 'inspector': 12929, 'marijuana76': 12930, 'nuclearas': 12931, 'jobsearlier': 12932, 'military153': 12933, 'dividends': 12934, 'nonmexicans': 12935, 'deficitronald': 12936, 'historyfour': 12937, 'labori': 12938, 'belong': 12939, 'taxescontrary': 12940, 'taxesamiddleclass': 12941, 'unequivocal': 12942, 'jam': 12943, 'educationchoolchildren': 12944, 'racking': 12945, 'urbancaution': 12946, 'kissing': 12947, 'cuddling': 12948, 'pal': 12949, 'jobsyouth': 12950, 'healthcaregoverning': 12951, 'commanders': 12952, 'notspend': 12953, 'marijuanamarijuana': 12954, 'confederacy': 12955, 'fools': 12956, 'dominant': 12957, 'continuously': 12958, 'courtmartialed': 12959, 'insurgents': 12960, 'womenresearch': 12961, 'gunsfortyfive': 12962, 'tradechinese': 12963, 'tire': 12964, 'imports': 12965, 'kristi': 12966, 'thibaut': 12967, 'hydraulic': 12968, 'polluted': 12969, 'groundwat': 12970, 'wealtha': 12971, 'repatriate': 12972, 'bullion': 12973, 'pil': 12974, 'pollsninety': 12975, 'strengthened': 12976, 'terrorismprayer': 12977, 'brush': 12978, 'childreneveral': 12979, 'backdoor': 12980, 'deducted': 12981, 'publichealth40': 12982, 'occurring': 12983, 'rebidding': 12984, 'metrorail': 12985, 'exclude': 12986, 'electionsgeorgia': 12987, 'pastors': 12988, 'medicareif': 12989, 'congressdecision': 12990, 'tofrom': 12991, 'thoroughly': 12992, 'oregonian': 12993, 'sexualityat': 12994, 'benediction': 12995, 'invocation': 12996, 'silence': 12997, 'immigrationpolice': 12998, 'statebudgetjeff': 12999, 'wasting': 13000, 'dubbed': 13001, 'musuem': 13002, 'islamchool': 13003, 'thecongressional': 13004, 'officehas': 13005, 'estimatedevery': 13006, 'workersome': 13007, 'candidatesbiographyhis': 13008, 'biography': 13009, 'rotc': 13010, 'jobsohios': 13011, 'reclaiming': 13012, 'terrorismlook': 13013, 'taxeseighty': 13014, 'edition': 13015, 'embellished': 13016, 'peyton': 13017, 'manning': 13018, 'struggles': 13019, 'workerstypical': 13020, 'censusthis': 13021, 'shortest': 13022, 'intrusive': 13023, 'statefinancesflorida': 13024, 'aa': 13025, 'iraqroadside': 13026, 'bombs': 13027, 'mineresistant': 13028, 'regions': 13029, 'publichealthwhen': 13030, '111th': 13031, 'congresses': 13032, 'publichealtheventy': 13033, 'granholm': 13034, 'womenearlier': 13035, 'depetro': 13036, 'assaulting': 13037, 'cowork': 13038, 'hillarycar': 13039, 'seventh': 13040, 'transcript': 13041, 'indonesian': 13042, 'economyweve': 13043, 'farther': 13044, 'treatyinfringes': 13045, 'assaulted': 13046, 'ridehailing': 13047, 'statefinancespuerto': 13048, 'unpayable': 13049, 'greed': 13050, 'vulture': 13051, 'veteransdeborah': 13052, 'defends': 13053, 'flagburning': 13054, 'ridiculous': 13055, '230': 13056, '10million': 13057, '30th': 13058, 'marketregulationdeer': 13059, 'baiting': 13060, 'publichealthim': 13061, 'aware': 13062, 'pancreas': 13063, 'unusually': 13064, 'brilli': 13065, 'macks': 13066, 'marketregulationyou': 13067, 'messagemachinekendrick': 13068, 'candidatesbiographywhether': 13069, 'bridged': 13070, 'partisanship': 13071, 'incomeof': 13072, 'waterwater': 13073, 'manila': 13074, 'philippines': 13075, '845': 13076, 'subsidiary': 13077, 'elev': 13078, 'goodell': 13079, 'janay': 13080, 'nono': 13081, 'advance': 13082, 'ovide': 13083, 'lamontagne': 13084, 'incomeearners': 13085, 'educating': 13086, 'unionsin': 13087, 'gunspolls': 13088, 'herserverof': 13089, 'packaday': 13090, 'smoker': 13091, 'quits': 13092, '1650': 13093, 'curbside': 13094, 'recycl': 13095, 'smallbusinessa': 13096, 'abill': 13097, 'havechanged': 13098, 'votingrecordroy': 13099, 'gunshillary': 13100, 'confiscation': 13101, 'marriageforty': 13102, 'tolerant': 13103, 'statebudgetclaims': 13104, 'necessary': 13105, 'technologythings': 13106, 'blog': 13107, 'midlevel': 13108, 'treasuri': 13109, 'financialregulationwashington': 13110, 'economyhistory': 13111, 'lags': 13112, 'governmentefficiencyohio': 13113, '443': 13114, '380million': 13115, '850million': 13116, 'marketregulationless': 13117, 'abcnewsweekwere': 13118, 'nationbuilding': 13119, 'publicservicethe': 13120, 'freshman': 13121, 'statesohio': 13122, 'mcnultys': 13123, 'orp': 13124, 'taxespepper': 13125, 'jock': 13126, 'entertainment': 13127, 'statefinancesfor': 13128, '499': 13129, 'sewage': 13130, 'hawaiian': 13131, 'sportsnacar': 13132, '932million': 13133, '1million': 13134, 'federalbudgetbob': 13135, 'overspend': 13136, '94000': 13137, 'transportationeven': 13138, 'hourly': 13139, 'environmentgov': 13140, 'assemblies': 13141, 'environmentfracturing': 13142, 'horizontally': 13143, 'fracturing': 13144, 'burns': 13145, 'transportationexcept': 13146, 'socialsecuritycurrent': 13147, 'omali': 13148, 'delawar': 13149, 'bioweapons': 13150, 'leone': 13151, 'sweater': 13152, 'kohl': 13153, 'floridajebs': 13154, 'jobsbusinesses': 13155, 'certify': 13156, 'perjury': 13157, 'motivating': 13158, 'whoomp': 13159, 'healthcareless': 13160, 'corporationsbig': 13161, '454260': 13162, 'transportationduring': 13163, 'fivestar': 13164, 'terrorismthese': 13165, 'mittromneys': 13166, 'economyrob': 13167, 'sucked': 13168, 'adopting': 13169, 'candidatesbiographyjim': 13170, 'dunnam': 13171, 'immigrationron': 13172, 'klein': 13173, '858': 13174, '133000': 13175, 'jobaccomplishmentstheres': 13176, 'campaignfinancebig': 13177, 'polls70': 13178, 'jobaccomplishmentsen': 13179, 'messagemachine2012eight': 13180, 'campaignadvertisinglet': 13181, 'healthcarecongress': 13182, 'crimedo': 13183, 'abortionobamacare': 13184, 'publichealthcalifornias': 13185, 'requirecondom': 13186, 'usein': 13187, 'riskfor': 13188, 'federalbudgeteven': 13189, 'j': 13190, 'legalissuesamerican': 13191, 'hustleshows': 13192, 'reallife': 13193, 'bribes': 13194, 'sexualityhomosexual': 13195, 'lifeby': 13196, 'celebrity': 13197, 'grads': 13198, 'cocacola': 13199, 'medicarejim': 13200, '2003and': 13201, 'enrol': 13202, 'overhauled': 13203, 'messagemachinealex': 13204, 'quarters': 13205, 'nobid': 13206, 'censusan': 13207, 'agre': 13208, 'transportationlongterm': 13209, 'urgent': 13210, 'redistrictingabout': 13211, 'elections\\ufeff\\ufeffince': 13212, 'ayreville': 13213, '22081': 13214, 'bradys': 13215, 'priority': 13216, 'masseuthanize': 13217, 'sheltered': 13218, 'votingrecordens': 13219, 'transparencyfox': 13220, 'airwav': 13221, 'clippers': 13222, 'terling': 13223, 'messagemachine2012gingrich': 13224, 'healthcarehomeopathy': 13225, 'acupuncture': 13226, 'aromatherapy': 13227, 'legitimacy': 13228, 'udall': 13229, 'stateswendy': 13230, 'bloombergstyle': 13231, 'crimeflorida': 13232, 'winner': 13233, 'laborevery': 13234, 'strawberry': 13235, 'rough': 13236, 'socialsecuritya': 13237, 'smallbusiness75': 13238, 'sniper': 13239, 'males1534': 13240, 'militaryregime': 13241, 'statebudgetaysproposal': 13242, 'boostteacherpension': 13243, 'fundputs': 13244, 'fakenewsa': 13245, 'renders': 13246, 'mailer': 13247, 'accurately': 13248, 'reconvicted': 13249, 'iraqthree': 13250, 'benchmarks': 13251, 'terrorismbarack': 13252, 'haven': 13253, 'governmentefficiencyfor': 13254, 'mitigation': 13255, 'poststorm': 13256, 'rebuilding': 13257, 'percentages': 13258, 'nonprofits': 13259, 'messagemachinedan': 13260, 'eals': 13261, 'drowned': 13262, 'publichealthunder': 13263, 'ubstance': 13264, 'environmentvirtually': 13265, 'neighbor': 13266, 'economyamerica': 13267, 'easiest': 13268, 'naive': 13269, 'taxesrep': 13270, 'publicsafetytwo': 13271, 'extendedcapacity': 13272, '100round': 13273, 'magazin': 13274, 'kitzhabers': 13275, 'socialsecurityif': 13276, 'automated': 13277, 'womenlast': 13278, 'federalbudgetrevenues': 13279, 'afterschool': 13280, 'homemortgage': 13281, 'quartermillion': 13282, 'messagemachine2012montana': 13283, 'tester': 13284, 'penalize': 13285, 'medicarerepublicans': 13286, 'messagemachine2012even': 13287, 'candidatesbiographyobamas': 13288, 'foremost': 13289, 'sanctity': 13290, 'celebrations': 13291, '7eleven': 13292, 'yeah': 13293, 'evey': 13294, 'immigrationaystheres': 13295, 'areindividuals': 13296, '466': 13297, 'criminaljusticethere': 13298, 'jobaccomplishmentsfarouk': 13299, 'capt': 13300, 'humayun': 13301, 'khans': 13302, 'argument': 13303, 'credibly': 13304, 'undertaxed': 13305, 'criminaljusticewere': 13306, 'divestment': 13307, 'relates': 13308, 'divesting': 13309, 'privacyobamacare': 13310, 'healthcaredoctors': 13311, 'familiesour': 13312, 'degraded': 13313, 'foreignpolicyif': 13314, 'hair': 13315, 'longrange': 13316, 'bombers': 13317, 'submarin': 13318, 'newspapers': 13319, 'percentofpoor': 13320, 'cottons': 13321, 'arkansa': 13322, 'clay': 13323, 'legalissueseventy': 13324, 'sincedebunked': 13325, 'heroics': 13326, 'capture': 13327, 'environmentno': 13328, 'macginnitie': 13329, 'payingjust': 13330, 'veteransour': 13331, 'propertytax': 13332, 'incomemequon': 13333, 'retirementaig': 13334, 'insures': 13335, 'jobaccomplishmentsif': 13336, 'supremecourtjudge': 13337, 'bidder': 13338, 'iraqmccain': 13339, 'timelines': 13340, 'laborby': 13341, 'healthcareclaims': 13342, 'daschle': 13343, 'eniors': 13344, 'tr': 13345, 'sportsin': 13346, 'lasted': 13347, 'emit': 13348, 'quick': 13349, 'ide': 13350, 'desirable': 13351, 'publichealthcancer': 13352, 'kidney': 13353, 'publicsafetyan': 13354, 'gunshot': 13355, 'competit': 13356, 'educationweve': 13357, 'healthcaremembers': 13358, 'inland': 13359, 'jobaccomplishmentspeople': 13360, 'hopeless': 13361, 'ixty': 13362, 'jobswhats': 13363, 'alcoholexpanding': 13364, 'fullstrength': 13365, 'isgood': 13366, 'valuable': 13367, 'legalissuesto': 13368, 'tamperproof': 13369, 'photoid': 13370, 'thumbprint': 13371, 'embossed': 13372, 'hologram': 13373, 'discriminatory': 13374, 'marketregulationan': 13375, 'immigrationalready': 13376, 'unauthor': 13377, 'environmentglobal': 13378, 'publicserviceabout': 13379, 'appointments': 13380, 'stimulusgeorgia': 13381, '124000': 13382, 'sunsets': 13383, 'possess': 13384, '210000': 13385, 'breakfast': 13386, 'punditswhite': 13387, 'gaspard': 13388, 'righthand': 13389, 'bertha': 13390, 'softening': 13391, 'immigrationciting': 13392, 'fran': 13393, 'dewines': 13394, 'madefromscratch': 13395, 'dinn': 13396, 'trainorstill': 13397, 'pres': 13398, 'finding': 13399, 'terrorismhate': 13400, 'mosques': 13401, 'bernardino': 13402, 'hanoi': 13403, 'hilton': 13404, 'songbird': 13405, 'collaborated': 13406, 'consuming': 13407, 'trendline': 13408, 'cease': 13409, 'allocate': 13410, 'satisfy': 13411, 'electionsgoing': 13412, 'disadvantages': 13413, 'taxeswendy': 13414, 'transportationatlanta': 13415, 'dooley': 13416, 'newtown': 13417, 'disapproval': 13418, 'definitions': 13419, 'alqaeda': 13420, 'loosely': 13421, 'godknowswhoels': 13422, 'treati': 13423, 'workerscontrary': 13424, 'employeeswe': 13425, 'financialregulationeighty': 13426, 'jobaccomplishmentsthere': 13427, 'congresswoman': 13428, 'uozzi': 13429, 'nassau': 13430, 'newhampshire2012when': 13431, 'implied': 13432, 'narrowing': 13433, 'ethn': 13434, 'gunsroughly': 13435, 'halfcent': 13436, 'haveweakened': 13437, 'afghanistanmost': 13438, 'nationalized': 13439, '3128': 13440, 'statestoday': 13441, 'censusmore': 13442, 'nationsbank': 13443, 'rpg': 13444, 'jobsone': 13445, 'pridemore': 13446, 'absorbed': 13447, '1916': 13448, '1940s': 13449, 'loaning': 13450, 'enable': 13451, 'juveniles': 13452, 'juvenile': 13453, 'fourthhighest': 13454, 'gunrelated': 13455, 'belgiums': 13456, 'faulti': 13457, 'jobaccomplishmentsgov': 13458, '4250': 13459, '18972': 13460, 'educationfor': 13461, 'transportation65': 13462, 'overpass': 13463, 'tysons': 13464, 'broader': 13465, 'medicareexplosive': 13466, 'statebudgetyou': 13467, 'ticketing': 13468, 'sciencetheres': 13469, 'conclusion': 13470, 'genet': 13471, 'norway': 13472, 'astronom': 13473, 'statebudgetlimiting': 13474, 'grandmother': 13475, 'gunscalifornias': 13476, 'helter': 13477, 'proudly': 13478, 'features': 13479, 'monsanto': 13480, 'yngenta': 13481, 'biotech': 13482, 'campaignfinancethe': 13483, 'individually': 13484, 'healthcarecientists': 13485, 'possibilities': 13486, 'embryon': 13487, 'military2008': 13488, 'deadliest': 13489, 'ouzinkie': 13490, '165': 13491, 'workerslikens': 13492, 'predicament': 13493, 'twentysixth': 13494, 'nonnegotiable': 13495, 'stateshealth': 13496, 'retirementif': 13497, 'prying': 13498, 'eyeing': 13499, 'prescriptions': 13500, 'pamphlet': 13501, 'hoot': 13502, 'crimeit': 13503, 'untagged': 13504, 'silentas': 13505, 'militarychina': 13506, 'immun': 13507, 'copycat': 13508, 'votingrecordobamacare': 13509, 'terrorismdonna': 13510, 'halala': 13511, 'doses': 13512, 'vaccinate': 13513, 'religionjoe': 13514, 'linn': 13515, 'legalissuesno': 13516, 'rode': 13517, 'polluter': 13518, 'civilrightswhile': 13519, 'remov': 13520, 'statesright': 13521, 'hasners': 13522, '922': 13523, 'taxesto': 13524, 'waterto': 13525, 'caution': 13526, 'disturb': 13527, 'puddl': 13528, 'measl': 13529, 'spilled': 13530, 'spewing': 13531, 'transportationnot': 13532, 'beltline': 13533, 'intersects': 13534, 'educationeventy': 13535, 'welfarenewly': 13536, 'ign': 13537, 'islamtudents': 13538, 'recite': 13539, 'immigrationonce': 13540, 'publichealthwhile': 13541, 'hatecrimes': 13542, 'preach': 13543, 'outage': 13544, 'legalissuesaccording': 13545, '712': 13546, 'participated': 13547, 'taxes65': 13548, 'recreationwe': 13549, 'painting': 13550, 'spaceby': 13551, 'astronomical': 13552, 'planetary': 13553, 'declassified': 13554, 'marion': 13555, 'ind': 13556, 'jobsmy': 13557, 'standalone': 13558, '1761': 13559, 'yearly': 13560, 'workerswages': 13561, 'obamabirthcertificateher': 13562, 'campaignfinanceyour': 13563, '166000': 13564, 'heritage': 13565, 'balfour': 13566, 'duk': 13567, 'americanscan': 13568, 'diverted': 13569, 'misuse': 13570, 'landed': 13571, 'greet': 13572, 'prestigious': 13573, 'penn': 13574, 'cigarettes': 13575, 'cigarett': 13576, 'manufactured': 13577, 'berkeley': 13578, 'helly': 13579, 'waterpeople': 13580, '439000': 13581, '135000': 13582, 'netted': 13583, 'terrorismmuslim': 13584, 'candidatesbiographymichelle': 13585, 'caviar': 13586, 'knives': 13587, 'stringent': 13588, 'gaysandlesbianshe': 13589, 'immigrationas': 13590, 'endanger': 13591, '575': 13592, 'tennesse': 13593, 'healthcarerepeal': 13594, 'govt': 13595, 'abcnewsweekduring': 13596, 'perversity': 13597, 'electronics': 13598, 'recycling': 13599, 'votingrecordive': 13600, 'gunsgene': 13601, 'nras': 13602, 'immigrationmccain': 13603, '2009s': 13604, 'thevalley': 13605, 'pollstwothirds': 13606, 'medicaidix': 13607, 'eatwarmer': 13608, 'incomeamericans': 13609, 'statefinancesless': 13610, 'carrier': 13611, 'healthcareone': 13612, 'derrick': 13613, 'housingclayton': 13614, 'tabilization': 13615, 'taxesonce': 13616, 'blueprint': 13617, 'ay': 13618, 'fuelefficiency': 13619, 'statebudgetbefore': 13620, 'abortionjustin': 13621, 'michigans': 13622, 'philosophy': 13623, 'educationlook': 13624, 'publichealthmercury': 13625, 'mercuri': 13626, 'supremecourtince': 13627, 'taxespalin': 13628, 'indebtedness': 13629, 'healthcaremental': 13630, 'meanstested': 13631, 'federalbudgetcredit': 13632, 'outmigration': 13633, 'wauwatosa': 13634, 'gloria': 13635, 'teinem': 13636, 'figur': 13637, 'wealthome': 13638, 'floridaamendmentswhat': 13639, 'diversityto': 13640, 'wedding': 13641, 'cakes': 13642, 'egging': 13643, 'spitting': 13644, 'policemens': 13645, 'sportsas': 13646, 'usual': 13647, 'dems': 13648, 'abcnewsweekif': 13649, 'perquisites': 13650, 'iraqcasualties': 13651, 'paula': 13652, 'chos': 13653, 'dairies': 13654, 'electionscould': 13655, 'statebudgettexas': 13656, 'familiesinequality': 13657, 'middl': 13658, 'scammed': 13659, 'statebudgeteliminating': 13660, 'naturaldisastersafter': 13661, 'apartment': 13662, 'rents': 13663, 'orleans': 13664, '3504': 13665, 'foreignpolicyronald': 13666, 'gorbachev': 13667, 'khruschev': 13668, 'mao': 13669, 'terrorismjust': 13670, 'viewii': 13671, 'favorably': 13672, 'unfortunately': 13673, 'electionsaustin': 13674, 'federalbudgetby': 13675, '610': 13676, 'welfaregeorgia': 13677, 'upplemental': 13678, 'medicaidmore': 13679, 'taxesu': 13680, 'medicaidexpanding': 13681, 'lotteri': 13682, 'votingrecordthere': 13683, 'pacemaker': 13684, 'anticipated': 13685, 'demands': 13686, '2035': 13687, 'southbound': 13688, 'sportsalabamas': 13689, 'crimson': 13690, 'tide': 13691, 'underdog': 13692, 'aturdays': 13693, 'bulldogs': 13694, 'oddsmakers': 13695, 'grub': 13696, 'aftertax': 13697, 'diabetes': 13698, 'infomercials': 13699, 'cures': 13700, 'educationchools': 13701, 'testprep': 13702, 'killeen': 13703, 'navys': 13704, 'liaison': 13705, 'nuclearweve': 13706, 'messagemachine2014ken': 13707, 'healthcarethis': 13708, 'transportationlight': 13709, 'attached': 13710, 'keffer': 13711, 'trama': 13712, 'caseload': 13713, 'nuclearecret': 13714, '192000': 13715, 'immigrationwere': 13716, 'thousandfold': 13717, 'glob': 13718, '34yearolds': 13719, 'electionsjennifer': 13720, 'legalissuespremeditation': 13721, 'oscar': 13722, 'pistorius': 13723, 'twinkling': 13724, 'ey': 13725, 'terrorismamericans': 13726, 'gunsmilwaukee': 13727, 'bosses': 13728, 'bused': 13729, 'acentral': 13730, 'prodemocratic': 13731, 'laboramong': 13732, 'workersobama': 13733, 'lowet': 13734, 'increae': 13735, 'tollfre': 13736, 'oreilly': 13737, 'factorand': 13738, 'bybilloreilli': 13739, 'publicsafetyal': 13740, 'harpton': 13741, 'freeing': 13742, 'workersalready': 13743, 'messagemachine2012thousands': 13744, 'electionskansas': 13745, 'wizard': 13746, 'oz': 13747, 'theat': 13748, 'bushadministrationmore': 13749, 'ufos': 13750, 'messagemachineweve': 13751, '997': 13752, 'transportationaustins': 13753, 'survivors': 13754, 'womenchris': 13755, 'housingfourteen': 13756, 'pollswendy': 13757, 'federalbudgetbetty': 13758, 'unsealed': 13759, 'healthcarejust': 13760, 'sportsthese': 13761, 'statesall': 13762, 'sportsgraduation': 13763, 'peers': 13764, 'increment': 13765, 'federalbudgetjack': 13766, 'countermeasure': 13767, 'spilt': 13768, 'economygov': 13769, 'overseen': 13770, 'pollsthis': 13771, 'foreignpolicyit': 13772, 'spokesperson': 13773, 'citywide': 13774, 'electionsonly': 13775, 'narrow': 13776, 'recreationrichmond': 13777, 'veganfriendly': 13778, 'marketregulationall': 13779, 'conform': 13780, 'graveyard': 13781, 'ankledeep': 13782, 'loud': 13783, 'yell': 13784, 'environmentone': 13785, 'ewerage': 13786, 'federalbudgetits': 13787, 'messagemachine2014republicans': 13788, 'impeach': 13789, 'taxesredistribution': 13790, 'characteristic': 13791, 'jfk': 13792, 'oilspillevery': 13793, 'projection': 13794, 'boundaries': 13795, 'publicsafetyrhode': 13796, 'binge': 13797, 'elig': 13798, 'womenfulton': 13799, '19yearold': 13800, 'abcnewsweekanybody': 13801, 'familiar': 13802, 'womenthis': 13803, 'gamblingtexans': 13804, 'sentenc': 13805, 'campaignfinanceplanned': 13806, 'funnels': 13807, 'statefinancespeter': 13808, 'twist': 13809, 'votingrecordvirginias': 13810, 'jobsthis': 13811, 'taxesthree': 13812, 'harding': 13813, 'recoveries': 13814, 'candidatesbiographyill': 13815, 'disclosing': 13816, 'whistleblower': 13817, 'energyethanol': 13818, 'disappeared': 13819, 'burma': 13820, 'technologywisconsin': 13821, 'historyeven': 13822, 'legalissuesattorney': 13823, 'peakerdesignate': 13824, 'presidentdesignate': 13825, 'greer': 13826, 'federalbudgetthenen': 13827, 'punditsobamas': 13828, '5600page': 13829, 'millionword': 13830, 'campaignadvertisingherrod': 13831, 'pollst': 13832, 'nuclearonthe': 13833, 'stateshalf': 13834, 'gerrymand': 13835, 'healthcareoregons': 13836, 'electionsnewt': 13837, 'enables': 13838, 'amputee': 13839, 'allfunds': 13840, 'reincarcerated': 13841, 'therapi': 13842, 'crimegeorgia': 13843, 'maryn': 13844, '3666json': 13845, 'tephanopoulos': 13846, '4608json': 13847, 'successor': 13848, 'childrenhealthcarenewhampshire2012': 13849, 'republicam': 13850, 'hanover': 13851, '11023json': 13852, 'bookthe': 13853, 'dealis': 13854, 'candidatesbiographyjobaccomplishments': 13855, 'presidentelect': 13856, '114': 13857, '2096json': 13858, 'historypunditsabcnewsweek': 13859, 'georgewill': 13860, 'roundtable': 13861, 'abcs': 13862, '12853json': 13863, 'jackyrosen': 13864, '12670json': 13865, 'pantsfire': 13866, 'markedly': 13867, 'williamjohnson': 13868, '1508json': 13869, 'socialsecuritytwothirds': 13870, 'taxesjon': 13871, '134': 13872, 'jobsfigures': 13873, 'statefinancesmitt': 13874, 'taxesclaims': 13875, 'unusual': 13876, 'rahall': 13877, 'healthcarevirtually': 13878, 'povertyto': 13879, 'qualifies': 13880, 'healthcareany': 13881, 'legalissuesonce': 13882, 'method': 13883, 'evaluating': 13884, 'questionnaires': 13885, 'yost': 13886, 'shuts': 13887, 'accrue': 13888, 'publichealthtoday': 13889, 'selectively': 13890, 'editing': 13891, 'wordsbiden': 13892, 'spin': 13893, 'waterninety': 13894, 'candidatesbiographypalin': 13895, 'pta': 13896, 'iraqwars': 13897, 'voteradopted': 13898, 'healthcareforty': 13899, 'publichealthpeople': 13900, 'taxescobb': 13901, 'antiillegalimmigrant': 13902, 'diap': 13903, 'legalissuesgeorgias': 13904, 'taxesgwinnett': 13905, 'cutbacks': 13906, 'staf': 13907, 'foreignpolicyat': 13908, 'mere': 13909, 'republ': 13910, 'statefinancesalaries': 13911, 'uri': 13912, '339': 13913, 'respectively': 13914, 'headquarter': 13915, 'publicsafetytexas': 13916, 'zack': 13917, 'gunsgov': 13918, 'wavered': 13919, 'electionsaysjeb': 13920, 'bushcheney': 13921, '6billion': 13922, 'medicaidabout': 13923, '7776billion': 13924, 'fakenewsdonald': 13925, 'peaks': 13926, '3500': 13927, 'seizing': 13928, 'bibles': 13929, 'rwis': 13930, 'stopping': 13931, 'chneiders': 13932, 'energized': 13933, 'spreading': 13934, 'valdez': 13935, 'dive': 13936, 'landscaper': 13937, 'lawnmower': 13938, 'icemaker': 13939, 'disposable': 13940, 'scheduling': 13941, 'sauc': 13942, 'jared': 13943, 'loughner': 13944, 'fedex': 13945, 'gunsan': 13946, 'insufficient': 13947, 'derailment': 13948, 'socialsecuritymarco': 13949, 'supremecourtflorida': 13950, 'exonerations': 13951, 'workersmary': 13952, 'bikes': 13953, 'crippled': 13954, 'workersmiddleclass': 13955, 'rubiochumer': 13956, 'blanket': 13957, 'dimassimo': 13958, 'dragging': 13959, 'debated': 13960, '235000': 13961, '395': 13962, 'triplebunked': 13963, 'bunked': 13964, 'albany': 13965, 'messagemachine2012george': 13966, 'involves': 13967, 'manchester': 13968, 'gatsa': 13969, 'gaspriceskeystone': 13970, 'climatechangewisconsins': 13971, 'founder': 13972, 'gaylord': 13973, 'atlantaarea': 13974, 'selfdestruct': 13975, 'dialysis': 13976, 'chemotherapi': 13977, 'militaryfour': 13978, 'mccainis': 13979, 'selective': 13980, 'labortim': 13981, 'battleground': 13982, 'votingrecordhaheen': 13983, 'uled': 13984, 'alliance': 13985, 'ejected': 13986, 'husseins': 13987, 'kuwait': 13988, 'kuwaitis': 13989, 'supremecourtopponents': 13990, 'complain': 13991, 'manpower': 13992, 'copies': 13993, 'raffled': 13994, 'energycincinnati': 13995, 'grandparents': 13996, 'immigrated': 13997, 'embroiled': 13998, 'popculturerichard': 13999, 'hayne': 14000, 'outfitters': 14001, 'jobaccomplishmentsrudy': 14002, 'underqualified': 14003, 'agricultureu': 14004, 'manual': 14005, '60000014': 14006, '90000027': 14007, 'iraqweve': 14008, 'radar': 14009, 'poultry': 14010, 'upervisors': 14011, 'ships': 14012, 'absolute': 14013, 'criminaljusticeaysloretta': 14014, 'lynchs': 14015, 'logist': 14016, 'educationformer': 14017, 'uperintendent': 14018, 'beverly': 14019, 'abortionted': 14020, 'lockstep': 14021, 'desire': 14022, 'catchup': 14023, 'healthcareby': 14024, 'jobaccomplishmentsbecause': 14025, 'enelect': 14026, 'constrained': 14027, 'newhampshire2012ince': 14028, '123': 14029, '326': 14030, 'polic': 14031, 'punditsrhode': 14032, 'congressionalrulesthe': 14033, 'barring': 14034, 'hats': 14035, '1800s': 14036, 'hated': 14037, 'messagemachineim': 14038, 'draining': 14039, 'everglad': 14040, 'biebers': 14041, 'crimedemocrat': 14042, 'webber': 14043, 'playgrounds': 14044, 'persuaded': 14045, 'educationpresident': 14046, 'nationalize': 14047, 'curriculum': 14048, 'transportationmitchell': 14049, 'professionals': 14050, 'yanked': 14051, 'taxesonly': 14052, 'legalissuescass': 14053, 'eating': 14054, 'infrastructuredid': 14055, 'bi': 14056, 'terrorismtop': 14057, 'toldevery': 14058, 'emanating': 14059, 'federalbudgetwithin': 14060, '8200': 14061, 'statefinancesgina': 14062, 'alfred': 14063, 'brissett': 14064, 'prolific': 14065, 'glass': 14066, 'jose': 14067, 'camilo': 14068, 'maria': 14069, 'phased': 14070, 'nephew': 14071, 'taco': 14072, 'candidatesbiographyactually': 14073, 'tradeproposed': 14074, 'override': 14075, 'veteranscongress': 14076, 'relying': 14077, 'highcost': 14078, 'pawn': 14079, 'gunsconnecticut': 14080, 'gunsduring': 14081, '18year': 14082, 'punditsay71': 14083, 'disqualifi': 14084, 'handsomely': 14085, 'publicschool': 14086, 'airstrikes': 14087, 'messagemachine2012when': 14088, 'slice': 14089, 'slices': 14090, 'superrich': 14091, 'hazmat': 14092, 'anticipating': 14093, 'stimulusmembers': 14094, 'waterten': 14095, '2403': 14096, 'anomalies': 14097, 'visibly': 14098, 'waukesha': 14099, 'hungerone': 14100, 'furloughing': 14101, 'obamareid': 14102, 'censusacorn': 14103, 'doortodoor': 14104, 'affirm': 14105, 'stagnant': 14106, 'statebudgetbill': 14107, 'gunter': 14108, 'publichealthcuba': 14109, 'nuclearuntil': 14110, '760000': 14111, 'candidatesbiographyformer': 14112, 'educationuniversity': 14113, 'fiveyearsold': 14114, 'helpless': 14115, 'slept': 14116, 'military360': 14117, 'terminally': 14118, 'jobs6400': 14119, 'eptemb': 14120, 'genital': 14121, 'mutilation': 14122, 'maher': 14123, 'economycorporate': 14124, 'jobshas': 14125, '278000': 14126, 'recreationin': 14127, 'dare': 14128, 'assaults': 14129, 'stimulusan': 14130, 'spay': 14131, 'neuter': 14132, 'antiobesity': 14133, 'educationthree': 14134, 'zuckerberg': 14135, 'bookers': 14136, 'gunviolence': 14137, 'researching': 14138, 'prev': 14139, 'religionpentagon': 14140, 'reserving': 14141, 'governmentefficiencyon': 14142, 'freez': 14143, 'deters': 14144, 'tradeoregon': 14145, 'tradedependent': 14146, 'sheriff': 14147, 'factchecked': 14148, '047': 14149, 'immigrationonly': 14150, 'recovering': 14151, 'candidatesbiographyyou': 14152, 'commander': 14153, 'countrynot': 14154, 'agendas': 14155, 'badger': 14156, 'ancestors': 14157, 'taxesjudithanne': 14158, 'mclauchlan': 14159, 'womeneven': 14160, 'lawmaking': 14161, '181': 14162, 'terrorismabout': 14163, 'reentered': 14164, 'unionsnumerous': 14165, 'medford': 14166, '279000': 14167, 'stream': 14168, 'citygovernmentif': 14169, 'phillys': 14170, 'costli': 14171, 'candidatesbiographyrubios': 14172, 'frequently': 14173, 'americanmade': 14174, 'buyamerican': 14175, 'messagemachinejeff': 14176, 'fd': 14177, 'candidateterri': 14178, 'guaranteeing': 14179, 'shortterm': 14180, 'notifi': 14181, 'mccainfeingold': 14182, 'housingenators': 14183, 'supremecourtvery': 14184, 'outlive': 14185, 'statebudget120000': 14186, 'photoop': 14187, 'turbine': 14188, 'flicker': 14189, 'shadows': 14190, 'blades': 14191, 'seizur': 14192, 'povertytudies': 14193, 'motto': 14194, 'februari': 14195, 'taxescurrently': 14196, '4045': 14197, '431000': 14198, 'terrorismto': 14199, 'fugit': 14200, 'offensive': 14201, '47that': 14202, 'caps': 14203, 'terrorismthousands': 14204, 'westerners': 14205, 'eastern': 14206, 'immigrationmike': 14207, 'groping': 14208, 'medicareflorida': 14209, 'heen': 14210, 'comoros': 14211, 'goats': 14212, 'arthr': 14213, 'photographedwith': 14214, 'kelodecis': 14215, 'militaryfrom': 14216, 'incumb': 14217, 'oilspilllouisiana': 14218, 'terrorismour': 14219, 'debt50000': 14220, 'campaignadvertisingnazi': 14221, 'imagery': 14222, 'educationpending': 14223, 'overtesting': 14224, 'decreasing': 14225, 'statebudgetgiven': 14226, 'expansive': 14227, 'terrorismmichelle': 14228, 'nunns': 14229, 'jobaccomplishmentsthis': 14230, 'stark': 14231, 'stimulushispanic': 14232, 'ticking': 14233, '139': 14234, 'legalissuesdr': 14235, 'dispute': 14236, 'supremecourtwisconsins': 14237, 'opinions': 14238, 'tradetoday': 14239, 'taxesmost': 14240, 'supremecourthe': 14241, 'terrorismome': 14242, 'erupted': 14243, 'immigrationamajority': 14244, 'embraced': 14245, 'supportedamnesti': 14246, 'workerspublic': 14247, 'sentiment': 14248, 'overreached': 14249, 'julia': 14250, '6350': 14251, 'quarterbacks': 14252, 'tenured': 14253, 'weaspons': 14254, 'gaysandlesbiansjosh': 14255, 'sympathetic': 14256, 'lesbians': 14257, 'transportationwelcome': 14258, 'wisconsinbut': 14259, 'themto': 14260, 'cuccinellis': 14261, 'divisions': 14262, 'scand': 14263, 'veteranson': 14264, 'religionmassachusetts': 14265, 'kindergartners': 14266, 'economygdp': 14267, 'publicsafetyof': 14268, 'oxycodonedispensing': 14269, 'promotes': 14270, 'ideology': 14271, 'corbett': 14272, 'crusade': 14273, 'jobaccomplishmentstommy': 14274, 'groundbreaking': 14275, 'works': 14276, 'transportationgeorgias': 14277, 'taxesmetro': 14278, 'restor': 14279, 'welfarewere': 14280, 'taxesminimum': 14281, '16000year': 14282, 'ceogoldman': 14283, 'blankfein': 14284, '16000hour': 14285, 'retirementbarbara': 14286, 'waterg': 14287, 'candidatesbiographykendrick': 14288, 'cigars': 14289, 'statebudgetjust': 14290, 'terrorismamerica': 14291, 'tenets': 14292, 'intellig': 14293, 'famous': 14294, '211000': 14295, 'chancellor': 14296, 'upscale': 14297, 'allowance': 14298, 'dining': 14299, 'succe': 14300, 'fisker': 14301, 'tesla': 14302, 'ener1': 14303, 'hindus': 14304, 'buddhists': 14305, '170': 14306, 'floridaamendmentsamendment': 14307, 'pollsted': 14308, 'socialsecuritywest': 14309, 'ruins': 14310, 'reign': 14311, 'abortiontoomey': 14312, 'votingrecordamendments': 14313, 'israelyou': 14314, 'antiisrael': 14315, 'greers': 14316, 'irregular': 14317, 'jobsfour': 14318, 'hops': 14319, 'socialsecuritywashington': 14320, 'cardiologists': 14321, 'legalissuestechnically': 14322, 'donate': 14323, 'illegalimmigration': 14324, 'follows': 14325, 'trirail': 14326, 'terrorismout': 14327, 'obtaining': 14328, 'polls74': 14329, 'ernesto': 14330, 'che': 14331, 'guevaras': 14332, 'welfareome': 14333, 'statebudgetoregon': 14334, 'courtroom': 14335, 'aryan': 14336, 'housinga': 14337, 'top25': 14338, 'smallbusinesswisconsins': 14339, 'promiscuous': 14340, 'spotti': 14341, 'votingrecordpolitifact': 14342, 'publicsafetydriving': 14343, 'lap': 14344, '80pound': 14345, '2400pound': 14346, 'punch': 14347, '2200': 14348, 'nolan': 14349, 'partyline': 14350, 'harmony': 14351, 'liberties': 14352, 'voluntari': 14353, 'mcgreevey': 14354, 'jane': 14355, 'exploding': 14356, 'statebudgetthere': 14357, 'informal': 14358, 'psychiatric': 14359, 'electionsgov': 14360, 'offlexible': 14361, 'nonprescription': 14362, 'hore': 14363, 'satisfaction': 14364, 'salesclerk': 14365, 'demograph': 14366, 'immigrationice': 14367, 'retirementtate': 14368, 'twotoone': 14369, 'defaulted': 14370, 'stripclub': 14371, 'distributor': 14372, 'urbanoregon': 14373, 'landuse': 14374, 'messagemachinehows': 14375, 'fromolantic': 14376, '65yearold': 14377, 'legalissuesalabamians': 14378, 'depressed': 14379, 'antidepressant': 14380, 'image': 14381, 'chrisabele': 14382, 'depicts': 14383, 'economyas': 14384, 'manipulation': 14385, 'inflated': 14386, 'surgeon': 14387, 'translate': 14388, 'fourthpoorest': 14389, 'nonmilitary': 14390, 'militaryaid': 14391, 'calamity': 14392, 'saidthe': 14393, 'concedes': 14394, 'policing': 14395, 'publichealthpresident': 14396, 'laborninetyfive': 14397, 'unionoperated': 14398, 'audits': 14399, 'foreignpolicycompared': 14400, 'obamapresident': 14401, 'anta': 14402, 'jetliner': 14403, 'disadvantage': 14404, 'redistrictingits': 14405, 'granting': 14406, 'taxesmark': 14407, 'tradehillary': 14408, 'surged': 14409, 'medicaidfederal': 14410, 'pakistani': 14411, 'abortionalmost': 14412, 'abcnewsweeknumbers': 14413, 'gunsmitt': 14414, '106258': 14415, '98213': 14416, 'stimulus52': 14417, '34th': 14418, 'olens': 14419, 'preservation': 14420, '46000': 14421, 'dropping': 14422, 'deception': 14423, 'medicareonly': 14424, 'factuallychallenged': 14425, 'workersgoodwill': 14426, 'menhaden': 14427, '82nd': 14428, 'waterannual': 14429, 'bust': 14430, 'pundits1': 14431, '188': 14432, 'ovietstyle': 14433, 'corporationswhen': 14434, 'godfathers': 14435, 'commonsense': 14436, 'principl': 14437, 'patriotismal': 14438, 'franken': 14439, 'environmentoklahomas': 14440, 'fallin': 14441, 'gamblinglot': 14442, 'healthcarethirtyfour': 14443, 'vetoing': 14444, 'jobsmike': 14445, 'dovillas': 14446, 'avengers': 14447, '⅔': 14448, 'transportationmetro': 14449, 'atlantans': 14450, 'commuting': 14451, '260': 14452, 'dialogues': 14453, '100plus': 14454, 'addressed': 14455, 'cybersecur': 14456, 'pasadena': 14457, 'healthcarepage': 14458, 'drugs90': 14459, 'medications': 14460, 'boycotts': 14461, 'transparencyjust': 14462, 'entities': 14463, 'associ': 14464, 'constituent': 14465, 'religionwhile': 14466, 'preaches': 14467, 'keeper': 14468, 'promotional': 14469, 'bal': 14470, 'socialsecuritylindsay': 14471, 'parkhurst': 14472, 'votingrecordenator': 14473, 'marriagechristian': 14474, 'entenced': 14475, 'waved': 14476, 'childrenthis': 14477, 'preborn': 14478, 'humanrightshuman': 14479, 'jobsillegal': 14480, 'mow': 14481, 'population100': 14482, 'historyyoull': 14483, 'regiment': 14484, 'alongside': 14485, 'outherners': 14486, 'solarheated': 14487, 'immigrationcongress': 14488, 'seed': 14489, 'immigrationpresidentelect': 14490, 'statefinancesrick': 14491, 'liquidate': 14492, 'electionsliberty': 14493, 'prohibitions': 14494, 'outlawing': 14495, '1947': 14496, 'lions': 14497, 'mid70s': 14498, 'respiratory': 14499, 'inks': 14500, 'jindals': 14501, 'religionwe': 14502, 'aigs': 14503, 'mysteriously': 14504, 'palestine': 14505, 'distressed': 14506, 'nigeria': 14507, 'abortionthere': 14508, 'healthcarefederal': 14509, 'favorability': 14510, 'clocked': 14511, 'pretrial': 14512, 'historyminnesotas': 14513, 'bipartisanshipthe': 14514, '376': 14515, 'statefinancescalifornia': 14516, 'reinvested': 14517, 'jobsflorida': 14518, 'nonclassroom': 14519, 'whistleblow': 14520, 'occupywallstreetnot': 14521, 'banker': 14522, 'statebudgetcott': 14523, 'schoolaid': 14524, 'halting': 14525, 'hypocrite': 14526, 'uphold': 14527, 'dcs': 14528, 'messagemachine201291': 14529, 'trippi': 14530, 'crimewhen': 14531, '227': 14532, 'correctionsandupdatesif': 14533, 'womendomestic': 14534, 'womenii': 14535, 'lures': 14536, 'nutella': 14537, 'endowment': 14538, 'labor25': 14539, 'medicareall': 14540, 'realized': 14541, 'islander': 14542, 'marijuanaeighty': 14543, 'parkinsons': 14544, 'glaucoma': 14545, 'economycurrently': 14546, 'mint': 14547, 'coin': 14548, 'transparencycreflo': 14549, 'gulfstream': 14550, 'g650': 14551, 'citygovernmentoutside': 14552, 'malfeasance': 14553, 'economygeneral': 14554, '3629': 14555, '7075': 14556, 'tiebreaking': 14557, 'transportationthat': 14558, 'debatesrepublican': 14559, 'uks': 14560, 'marijuanalegal': 14561, 'immigrationixty': 14562, 'ethicsfiftysix': 14563, 'motorvehicle': 14564, 'rudygiuliani': 14565, 'ny': 14566, '5122json': 14567, '1958': 14568, 'caucasian': 14569, 'civilrightsgaysandlesbiansmarriage': 14570, 'sheilaoliver': 14571, 'assemblywoman': 14572, '11191json': 14573, 'carlyfiorina': 14574, '10315json': 14575, 'completed': 14576, 'correctionsandupdatescriminaljusticepublicsafety': 14577, 'lcbusterevans': 14578, '1964json': 14579, 'mccaul': 14580, 'sixthrichest': 14581, 'tedankrum': 14582, '624json': 14583, 'abramoffs': 14584, 'scandalplagued': 14585, 're': 14586, 'thirdhighest': 14587, '980000': 14588, 'defaulting': 14589, 'nuisance': 14590, 'physical': 14591, 'fitness': 14592, 'veteranswhen': 14593, 'powersharing': 14594, 'cagl': 14595, 'historylincoln': 14596, 'fervently': 14597, 'jungles': 14598, 'assassin': 14599, '190000': 14600, 'taxesaustin': 14601, 'burdened': 14602, 'treasurers': 14603, 'wrap': 14604, 'jun': 14605, 'shocking': 14606, '200911': 14607, 'votingrecordmaurice': 14608, 'ferre': 14609, '986': 14610, '2534': 14611, 'olds': 14612, 'federalbudgetalready': 14613, 'sameday': 14614, 'marketregulationthree': 14615, 'terrorismaysmichael': 14616, 'prisonand': 14617, 'hor': 14618, 'transportationweve': 14619, 'ped': 14620, 'triples': 14621, 'charterschool': 14622, '220': 14623, 'immigration22': 14624, 'antideportation': 14625, 'militaryas': 14626, '775': 14627, 'operator': 14628, 'streams': 14629, 'ponds': 14630, 'educationjust': 14631, 'abcnewsweekmilitary': 14632, 'multitude': 14633, 'awho': 14634, 'portrays': 14635, 'obstacle': 14636, 'pallon': 14637, 'governmentregulationthis': 14638, 'sanction': 14639, 'governmentefficiencyit': 14640, 'nacar': 14641, 'povertyunder': 14642, 'socialsecuritybarack': 14643, 'taxesand': 14644, 'maxine': 14645, 'dcalif': 14646, 'pundits25': 14647, '319000': 14648, '93000': 14649, 'loading': 14650, 'buildup': 14651, 'czars': 14652, 'militarynato': 14653, 'sexualityteenage': 14654, 'careand': 14655, 'onehalf': 14656, 'trilliondollar': 14657, 'economyunemployment': 14658, 'secondgeorge': 14659, 'theu': 14660, 'frustrations': 14661, 'fcat': 14662, 'taxeslouisianas': 14663, 'tradecrist': 14664, 'suites': 14665, 'racks': 14666, 'minibar': 14667, 'castle': 14668, 'ethicsohioans': 14669, 'grounds': 14670, 'statebudgetat': 14671, 'excuse': 14672, 'citygovernmentwhile': 14673, 'kenney': 14674, 'fault': 14675, 'utilizing': 14676, 'camper': 14677, 'stateswhile': 14678, 'anglers': 14679, 'electionsdemocrat': 14680, 'fromcalifornia': 14681, 'concern': 14682, 'subjected': 14683, 'energyin': 14684, 'technologydelaware': 14685, 'electionsthis': 14686, '90percent': 14687, 'yndrome': 14688, 'cheetos': 14689, 'luck': 14690, 'banana': 14691, 'spacetoday': 14692, 'satellites': 14693, 'environmentcalifornians': 14694, 'legalissuesas': 14695, '37900': 14696, '189000': 14697, 'runnerup': 14698, 'caitlyn': 14699, 'jenner': 14700, 'epns': 14701, 'ashe': 14702, 'noah': 14703, 'galloway': 14704, 'oilspillive': 14705, 'sixmonth': 14706, 'upgrading': 14707, 'minus': 14708, 'energythanks': 14709, 'alloftheabove': 14710, 'anybodi': 14711, 'businessfriendly': 14712, '24th': 14713, 'marketregulationhigher': 14714, 'handinhand': 14715, 'militarytim': 14716, 'tradeunder': 14717, 'gill': 14718, 'viewed': 14719, 'brainwashing': 14720, 'healthcarecoloradocare': 14721, 'scienceover': 14722, 'veteransthere': 14723, 'repatri': 14724, 'statebudgetchesterfield': 14725, 'statebudgetduring': 14726, 'privileges': 14727, 'workersford': 14728, 'smallcar': 14729, 'remarkably': 14730, 'unstimulative': 14731, 'taxesresidential': 14732, 'tavera': 14733, 'publicsafetybarack': 14734, 'religioncongress': 14735, 'cientologists': 14736, 'terrorismive': 14737, 'prosecuting': 14738, 'wide': 14739, 'thencongressman': 14740, 'environmentcapandtrade': 14741, 'wildly': 14742, 'circulating': 14743, 'socialsecuritypolitician': 14744, 'phase': 14745, 'fend': 14746, 'economyhe': 14747, 'ushered': 14748, 'sportsresearch': 14749, 'arising': 14750, 'franchis': 14751, 'workersdep': 14752, '2812': 14753, 'mid80': 14754, 'pollspublic': 14755, 'dismal': 14756, '00': 14757, 'preschoolers': 14758, 'pollsabout': 14759, 'wu': 14760, 'federalbudgethillarys': 14761, '4million': 14762, '80billion': 14763, 'pressing': 14764, 'governmentregulationphil': 14765, 'puckett': 14766, 'message': 14767, 'interlink': 14768, 'tf': 14769, 'airrail': 14770, 'aneducational': 14771, 'gettysburg': 14772, 'statebudgetpublic': 14773, 'cutby': 14774, 'tandards': 14775, 'divert': 14776, 'tupak': 14777, 'terrorismwhy': 14778, 'useless': 14779, 'historyfor': 14780, 'republicansdont': 14781, 'hades': 14782, 'racetrack': 14783, 'weakened': 14784, 'populationdid': 14785, 'hansen': 14786, 'jobsincreasing': 14787, 'deqs': 14788, 'disproportionate': 14789, '675000': 14790, 'wif': 14791, 'gaysandlesbiansmost': 14792, 'dearborn': 14793, 'advancement': 14794, 'statefinancesdavid': 14795, 'continuous': 14796, 'user': 14797, 'financialregulationaig': 14798, 'punditsed': 14799, 'grayson': 14800, 'drugsof': 14801, 'messagemachinetim': 14802, 'overcrowded': 14803, 'fourday': 14804, 'notices': 14805, 'indicating': 14806, 'statefinancesalthough': 14807, 'antiequality': 14808, 'groundwork': 14809, 'afternoon': 14810, 'commut': 14811, 'stimulusthree': 14812, 'statebudgetlorain': 14813, 'educationyou': 14814, 'therefore': 14815, 'alleviating': 14816, 'waitlist': 14817, 'financialbased': 14818, 'historygerman': 14819, 'disarmed': 14820, 'evil': 14821, 'intentions': 14822, 'resist': 14823, 'iraqdue': 14824, 'severely': 14825, 'proponents': 14826, 'marketregulationunder': 14827, 'diversitythis': 14828, 'gunspassing': 14829, 'nic': 14830, 'amassing': 14831, 'obamabirthcertificatebirthers': 14832, 'businessincentive': 14833, 'shortcomings': 14834, 'jobsdidnt': 14835, 'cashier': 14836, 'laborunder': 14837, 'jobsclaims': 14838, 'appalled': 14839, 'securitiesproduct': 14840, 'liabilityinterstate': 14841, 'commerc': 14842, '1944': 14843, 'warmest': 14844, 'immigrationmarco': 14845, 'olo': 14846, 'ingles': 14847, 'popularity': 14848, 'debut': 14849, 'cardson': 14850, 'netflix': 14851, 'fishers': 14852, 'statebudgetassaults': 14853, '224': 14854, 'marriagewe': 14855, 'electionsboth': 14856, 'popculturewhen': 14857, 'affiliates': 14858, 'nonalqaida': 14859, 'demonstrates': 14860, 'workersonly': 14861, 'dodging': 14862, 'populationmcginty': 14863, 'alarming': 14864, 'undercurrent': 14865, 'nordic': 14866, 'liability': 14867, 'pip': 14868, 'wateryou': 14869, 'flows': 14870, '863': 14871, 'bankruptcyjohn': 14872, 'criminaljusticeover': 14873, 'sexualitygreg': 14874, 'predator': 14875, 'pedophil': 14876, 'publicsafetycharlottes': 14877, 'antidiscrimination': 14878, 'sexes': 14879, 'povertyraising': 14880, 'immigrationhuckabee': 14881, 'governmentefficiencyfortysix': 14882, 'cpan': 14883, 'sitin': 14884, 'taxesmore': 14885, 'countygovernmentthe': 14886, 'economytwothirds': 14887, 'abortioninspections': 14888, '500million': 14889, 'invitation': 14890, 'sanitary': 14891, 'gaysandlesbiansan': 14892, '22yearold': 14893, 'eightyearold': 14894, 'guise': 14895, 'undisclosed': 14896, '816': 14897, 'emitted': 14898, 'chemicals': 14899, 'tankers': 14900, 'publichealthback': 14901, '104000': 14902, 'plagiarizing': 14903, 'urbaneleven': 14904, 'resemble': 14905, 'deserv': 14906, 'taxesboston': 14907, 'skyline': 14908, 'dominated': 14909, 'cran': 14910, 'vans': 14911, 'shred': 14912, 'presented': 14913, 'thatthe': 14914, 'spontaneous': 14915, 'electionsanother': 14916, 'explains': 14917, 'jody': 14918, 'hic': 14919, 'taxescolorado': 14920, 'licensing': 14921, 'zoo': 14922, 'healthcaredavid': 14923, 'diversityinitial': 14924, 'firefighter': 14925, 'sixdistrict': 14926, 'statefinancesyouve': 14927, 'tourismalthough': 14928, 'jobsending': 14929, 'candidatesbiographywho': 14930, 'monitoring': 14931, 'storing': 14932, 'campaignfinancethirty': 14933, 'interven': 14934, 'economylim': 14935, 'jims': 14936, 'unionsrhode': 14937, 'annuity': 14938, 'chart': 14939, 'veteranstea': 14940, 'punditson': 14941, 'legalissueslavery': 14942, 'allowable': 14943, 'infrastructurehelby': 14944, 'stimulusome': 14945, 'ribbon': 14946, 'tourismgeorgia': 14947, '47500': 14948, 'stimulusolyndrahad': 14949, 'robots': 14950, 'whistled': 14951, 'marketregulationgoldman': 14952, 'chumer': 14953, 'philando': 14954, 'castile': 14955, 'purim': 14956, 'halloween': 14957, 'elections13000': 14958, 'shrank': 14959, 'militaryixtyone': 14960, 'headtohead': 14961, 'romanticized': 14962, 'leandertoaustin': 14963, 'pollutants': 14964, 'nitrogen': 14965, 'oxide': 14966, '625': 14967, 'ozone': 14968, 'percenta': 14969, 'economythanks': 14970, 'policiesthe': 14971, 'healthcareeniors': 14972, 'subjective': 14973, 'worthy': 14974, 'votingrecordboth': 14975, 'andrubio': 14976, 'votingrecordjim': 14977, 'apear': 14978, 'strains': 14979, 'rabies': 14980, 'serums': 14981, 'electionslets': 14982, 'iowas': 14983, 'israelunder': 14984, 'federalbudgetwashington': 14985, 'educationtudents': 14986, 'messagemachine201420000': 14987, 'kansans': 14988, 'welfareaysthere': 14989, 'trom': 14990, 'unrecognized': 14991, 'congenital': 14992, 'cambodia': 14993, 'taxesvirginia': 14994, '40th': 14995, 'marriageocial': 14996, 'irrefutable': 14997, 'fullday': 14998, 'persuade': 14999, 'nikita': 15000, 'khrushchev': 15001, 'gesture': 15002, 'mystified': 15003, 'terrorismnumber': 15004, '280024': 15005, 'siphon': 15006, 'seam': 15007, 'automak': 15008, 'ucceeds': 15009, 'federalbudget50': 15010, 'veteransveterans': 15011, 'regulation21': 15012, 'legalissuespeople': 15013, 'missouris': 15014, 'militaryfranklin': 15015, 'jobstakes': 15016, 'poster': 15017, 'discover': 15018, 'infractions': 15019, 'ncaa': 15020, 'nonstop': 15021, 'socialsecuritybuck': 15022, 'workersninetyfive': 15023, 'unger': 15024, 'workersaustin': 15025, 'sixfigure': 15026, 'dismantle': 15027, 'dismantling': 15028, 'sanct': 15029, 'historyrhode': 15030, 'nonaffili': 15031, 'gunsair': 15032, 'tightened': 15033, 'photographer': 15034, 'ids': 15035, 'jobsixteen': 15036, 'panama': 15037, 'thefirst': 15038, 'afterfive': 15039, '13m': 15040, 'transportation71': 15041, 'mediocre': 15042, 'structurally': 15043, 'deficient': 15044, 'functionally': 15045, 'obsolet': 15046, 'crimebecause': 15047, '33year': 15048, 'listen': 15049, '46year': 15050, '162nd': 15051, 'avenue': 15052, 'burnside': 15053, 'jobsat': 15054, 'doughnuts': 15055, '830': 15056, 'marriageover': 15057, 'wwii': 15058, 'wwi': 15059, 'jobshalf': 15060, 'abcnewsweekpoll': 15061, 'maverick': 15062, 'punditsthis': 15063, 'wilmington': 15064, 'importing': 15065, 'dairyland': 15066, 'cheesemak': 15067, 'chor': 15068, 'statefinanceswe': 15069, 'percapita': 15070, 'dakota': 15071, '177': 15072, 'votingrecordkesha': 15073, 'rogers': 15074, 'economygeithner': 15075, 'flagged': 15076, 'recognizes': 15077, 'democraticcongressional': 15078, 'morgancarroll': 15079, 'molesters': 15080, 'eliot': 15081, 'pitzer': 15082, 'barrows': 15083, 'prehillary': 15084, 'electionsaysjosh': 15085, 'singlebiggest': 15086, 'taxesbuono': 15087, 'publichealthour': 15088, 'gamblingthis': 15089, 'votingrecordunder': 15090, 'dewhursts': 15091, 'taxescalifornias': 15092, 'diverts': 15093, 'democratbacked': 15094, 'wealththere': 15095, 'contest': 15096, 'costeffective': 15097, 'unamerican': 15098, 'redistrictingafter': 15099, 'multimilliondollar': 15100, 'packages': 15101, 'transportationnafta': 15102, 'repayments': 15103, 'allocation': 15104, 'corner': 15105, 'transportationelectric': 15106, '200913': 15107, '314': 15108, 'lockout': 15109, 'abcnewsweektheres': 15110, 'mcdonnellsbudget': 15111, 'plantakesmoney': 15112, 'southwest': 15113, 'medicaid500000': 15114, 'candidatesbiographyfemale': 15115, 'buffalo': 15116, 'pollsobamacare': 15117, 'veterans41200': 15118, 'publichealthbecause': 15119, 'seedy': 15120, 'universityhave': 15121, 'radiation': 15122, 'ta': 15123, 'scanners': 15124, 'campaignfinancecandidate': 15125, 'idney': 15126, 'blumenthal': 15127, 'consulate': 15128, 'popculturea': 15129, '30day': 15130, 'chronically': 15131, 'shedding': 15132, 'punditsnobody': 15133, 'pollswe': 15134, 'quieter': 15135, 'mayberri': 15136, 'underus': 15137, 'bbb': 15138, 'junkbond': 15139, 'foreignpolicyagain': 15140, 'contenders': 15141, 'badli': 15142, 'astonishing': 15143, '335': 15144, 'litter': 15145, 'transportationbike': 15146, 'statefinanceschris': 15147, 'recordbreaking': 15148, 'downgrad': 15149, 'sexualitya': 15150, 'lotteryodds': 15151, 'monopoly': 15152, '327': 15153, 'foreignpolicybiden': 15154, 'medicaldevice': 15155, 'margins': 15156, 'embarked': 15157, 'statebudgetpending': 15158, 'foreignpolicyrussian': 15159, 'viktor': 15160, 'yanukovych': 15161, 'promoscow': 15162, 'drugsillinois': 15163, '1652': 15164, 'messagemachine2012obamacare': 15165, 'statebudgetdel': 15166, 'chafin': 15167, 'votingto': 15168, 'palac': 15169, 'messagemachinelinks': 15170, 'jailed': 15171, 'cw': 15172, 'technologyhidden': 15173, 'waive': 15174, 'reasonable': 15175, 'curt': 15176, 'chillings': 15177, 'teammates': 15178, 'painted': 15179, 'bloody': 15180, 'terrorismbefore': 15181, 'statebudgetted': 15182, 'busted': 15183, 'sympathized': 15184, 'secondguess': 15185, 'abcnewsweekits': 15186, 'countygovernmentarah': 15187, 'eckhardt': 15188, 'repeatedli': 15189, 'tradetheres': 15190, 'whereas': 15191, 'congressionalrulesthere': 15192, 'jobsfifty': 15193, 'educationthey': 15194, 'averagein': 15195, 'yearthey': 15196, 'wheelers': 15197, 'accelerate': 15198, 'acquiring': 15199, 'forbes': 15200, 'criminaljusticehomicides': 15201, 'fatality': 15202, 'legalissuesyour': 15203, 'kickbacks': 15204, 'thors': 15205, 'hammer': 15206, 'veteranslee': 15207, 'zeldin': 15208, '23rds': 15209, 'curbing': 15210, 'forensic': 15211, 'debtat': 15212, '587': 15213, 'apiece': 15214, '331': 15215, 'medals': 15216, 'wateraustin': 15217, 'arid': 15218, 'landscape': 15219, 'dependent': 15220, 'thatcher': 15221, 'wobbl': 15222, 'universe': 15223, 'pageant': 15224, 'homelandsecurity91': 15225, 'lipreading': 15226, 'instructor': 15227, 'deaf': 15228, 'damn': 15229, 'homelandsecuritythe': 15230, 'stockpiling': 15231, 'bracelets': 15232, 'failings': 15233, 'similarity': 15234, 'workersninety': 15235, 'punditsurveys': 15236, 'teens': 15237, 'blaspheming': 15238, 'mohammad': 15239, 'aug': 15240, '2015i': 15241, 'messagemachine2014raising': 15242, 'taxesgubernatorial': 15243, 'jtrump': 15244, 'foundations': 15245, 'healthcareayspresident': 15246, 'stepped': 15247, 'deficittoday': 15248, 'transparencyafter': 15249, 'immigrationby': 15250, 'healthcare300000': 15251, 'womenchildren': 15252, 'coyotes': 15253, 'statebudgetrecent': 15254, 'electionsdemocratic': 15255, 'numbersand': 15256, 'remodel': 15257, 'composting': 15258, 'federalbudgetaid': 15259, 'economyevery': 15260, 'supremecourtkendrick': 15261, 'saidonia': 15262, 'excellent': 15263, 'stateshivaid': 15264, 'incidentally': 15265, 'reforming': 15266, 'punditsattorney': 15267, 'dismissal': 15268, 'intimid': 15269, 'functioning': 15270, 'governmentcertified': 15271, 'supremecourtnow': 15272, 'ginsburg': 15273, '95plus': 15274, 'statebudgetits': 15275, 'bankruptcyhe': 15276, 'candidatesbiographyamanda': 15277, 'stimulusput': 15278, 'equals': 15279, 'marijuanalots': 15280, 'welfarecongress': 15281, 'transparencytaxpayers': 15282, 'afforded': 15283, 'rezkos': 15284, 'adlers': 15285, 'damascus': 15286, 'disincorporation': 15287, 'sportsnfl': 15288, '201112': 15289, 'federalbudgetwhy': 15290, 'unnecessarily': 15291, 'faa': 15292, 'taxeslouisiana': 15293, 'browning': 15294, 'financialregulationif': 15295, 'alcoholunday': 15296, 'standdown': 15297, 'clothes': 15298, 'commuter': 15299, 'elections2008': 15300, 'pent': 15301, 'transportationas': 15302, 'redistrictingduring': 15303, 'taxescharlie': 15304, 'environmentlarge': 15305, 'rainfal': 15306, 'educationteachers': 15307, 'withheld': 15308, 'jensen': 15309, 'veteransin': 15310, 'improvised': 15311, 'explosive': 15312, 'i': 15313, 'socialsecuritydave': 15314, 'tva': 15315, 'obamabirthcertificaterepublican': 15316, 'dabbled': 15317, 'theori': 15318, 'statist': 15319, 'breathe': 15320, 'doled': 15321, 'scions': 15322, 'messagemachinemr': 15323, 'darn': 15324, 'doughnut': 15325, 'economybelieve': 15326, 'statebudgetevery': 15327, 'punditsyes': 15328, 'hoekstra': 15329, 'whereabouts': 15330, 'ricci': 15331, 'detefano': 15332, 'northam': 15333, 'label': 15334, 'healthcareopponent': 15335, 'benson': 15336, 'unhealthy': 15337, 'terrorismcurrently': 15338, 'electionsay': 15339, 'taxesbetween': 15340, 'abcnewsweekmanufacturing': 15341, 'technologymost': 15342, 'tourismflorida': 15343, 'correctionsandupdateswendy': 15344, 'newhampshire2012if': 15345, 'threw': 15346, 'womenten': 15347, 'strangul': 15348, 'medicareaarp': 15349, 'reseller': 15350, 'vested': 15351, 'reselling': 15352, 'supplemental': 15353, 'stimuluscharlie': 15354, 'excons': 15355, 'penitentiary': 15356, 'campaignfinancegeorgia': 15357, 'tan': 15358, 'wise': 15359, 'privacywe': 15360, 'incarcer': 15361, 'wealthaccording': 15362, 'patently': 15363, 'unjust': 15364, '300step': 15365, 'votingrecordmarco': 15366, '1absentee': 15367, 'publicsafetyafricanamericans': 15368, 'ratlanta': 15369, 'gunshes': 15370, 'workersiowa': 15371, 'statefinancesthirtyone': 15372, 'gaining': 15373, 'pembroke': 15374, 'pines': 15375, 'povertyafter': 15376, 'electionsfinal': 15377, 'oilspillone': 15378, 'outstripping': 15379, 'computers': 15380, 'collector': 15381, 'halfmilliondollar': 15382, 'stimulusone': 15383, 'interesting': 15384, '3c': 15385, 'passengers': 15386, 'technologyit': 15387, 'religionlouie': 15388, 'gohmert': 15389, 'theater': 15390, 'judeochristian': 15391, 'chi': 15392, 'tourismlake': 15393, 'evers': 15394, 'detert': 15395, 'transportationtheyre': 15396, 'akonnet': 15397, 'jobswho': 15398, 'oneyear': 15399, 'chairmen': 15400, 'overse': 15401, 'populationour': 15402, 'mccabe': 15403, 'vegan': 15404, 'spares': 15405, 'nucleareven': 15406, 'arsenal': 15407, 'indentured': 15408, 'servants': 15409, 'passports': 15410, 'slavelike': 15411, 'historyif': 15412, 'dictionary': 15413, 'wahabi': 15414, 'jakarta': 15415, 'wahabism': 15416, 'waging': 15417, 'patriotismwhile': 15418, 'hearts': 15419, 'slouch': 15420, 'workersit': 15421, 'evict': 15422, 'tenant': 15423, 'familiesunder': 15424, 'cows': 15425, 'dodge': 15426, '43000': 15427, 'jobslast': 15428, 'electionsteam': 15429, 'interestspoliticians': 15430, 'steelworkers': 15431, 'economytate': 15432, 'blake': 15433, 'rocap': 15434, 'unionsforeign': 15435, 'overal': 15436, 'militarydue': 15437, 'pulling': 15438, 'franchises': 15439, 'designs': 15440, 'reviving': 15441, 'gig': 15442, 'specialinterest': 15443, 'nev': 15444, 'campaignadvertisingmatt': 15445, 'patten': 15446, 'russo': 15447, 'workersfifty': 15448, 'daughters': 15449, 'dminus': 15450, 'governmentefficiencyhillsboroughs': 15451, 'cabbies': 15452, 'socks': 15453, 'please': 15454, '143000': 15455, 'deposed': 15456, 'taxesallowing': 15457, 'dec': 15458, 'pacur': 15459, 'plastics': 15460, 'debtrick': 15461, 'iraqjoe': 15462, 'workersmitch': 15463, 'kentuckys': 15464, 'federalbudgetcary': 15465, '1791': 15466, 'transportationobama': 15467, 'cloe': 15468, 'povertyfood': 15469, 'welfarethere': 15470, 'supremecourtnothing': 15471, 'israelpalin': 15472, 'economyproductivity': 15473, '5million': 15474, 'publichealthnot': 15475, 'israelon': 15476, 'uisraeli': 15477, 'cooperation': 15478, 'murrayryan': 15479, 'dividedgovernment': 15480, 'strayed': 15481, 'festiv': 15482, 'horn': 15483, '92000': 15484, 'braking': 15485, 'statesattorney': 15486, 'cahoots': 15487, 'statebudgetpublicemployee': 15488, 'unsuccessfully': 15489, 'diversitywe': 15490, 'marriagewhen': 15491, 'oilspillen': 15492, 'energyjeff': 15493, 'weems': 15494, 'enron': 15495, '98184': 15496, 'lacking': 15497, 'miser': 15498, 'taxesminnesota': 15499, 'congressthis': 15500, 'atmosphere': 15501, '170300': 15502, 'legalissuesjustice': 15503, 'roberts': 15504, 'igned': 15505, 'weatherthis': 15506, 'forecasting': 15507, 'warn': 15508, 'taxesfortyseven': 15509, 'bergdahltaliban': 15510, 'danger': 15511, 'publicserviceeightythree': 15512, 'twentyfour': 15513, 'crimeromney': 15514, 'pardon': 15515, 'decorated': 15516, 'bb': 15517, 'tourismpresident': 15518, 'conventions': 15519, 'soaring': 15520, 'reluctance': 15521, 'hiding': 15522, 'disclosed': 15523, 'immigrationall': 15524, 'historyregulations': 15525, 'endemic': 15526, 'weakness': 15527, 'immigrationwith': 15528, 'parenthoodit': 15529, 'statefinancesfour': 15530, 'legalissueswisconsin': 15531, 'mickey': 15532, 'hitler': 15533, 'formally': 15534, 'nobel': 15535, 'foodsafetya': 15536, 'carcasses': 15537, 'e': 15538, 'coli': 15539, 'hungerpresident': 15540, 'deserves': 15541, 'governmentefficiencydekalb': 15542, 'publichealthcience': 15543, 'terrorism22': 15544, 'limitations': 15545, 'lev': 15546, 'menendezs': 15547, 'quadrupl': 15548, 'institutionalization': 15549, 'developmental': 15550, 'supervisor': 15551, 'brenda': 15552, 'nip': 15553, 'corporationsaustin': 15554, 'financialregulationtheres': 15555, 'glassteagall': 15556, 'educationarizona': 15557, 'religionby': 15558, 'wedc': 15559, 'retore': 15560, 'dedicate': 15561, 'steer': 15562, 'militarydonald': 15563, 'incomeu': 15564, 'unauthorized': 15565, 'terrorismmarco': 15566, '220000new': 15567, 'affirmedo': 15568, 'opium': 15569, 'sevenfold': 15570, 'healthcareoregon': 15571, 'psychological': 15572, 'distress': 15573, 'cellular': 15574, 'energythis': 15575, 'publicservicelegally': 15576, 'largescale': 15577, 'lugar': 15578, 'loose': 15579, 'candidatesbiographyaysruben': 15580, 'kihuen': 15581, 'womencory': 15582, 'sponsoring': 15583, 'oncountries': 15584, 'predominantly': 15585, 'marriageopinion': 15586, 'tourismtoday': 15587, 'nonexist': 15588, 'transportationfederal': 15589, 'redirect': 15590, 'modes': 15591, 'smallbusinessagallup': 15592, 'uncertainti': 15593, 'abortionvagina': 15594, 'twoday': 15595, 'statebudgetbeer': 15596, 'danc': 15597, '175587': 15598, 'quail': 15599, 'candidatesbiographytampa': 15600, 'buckhorn': 15601, 'trunks': 15602, 'cruis': 15603, 'unionseven': 15604, 'enforcing': 15605, 'legalissuesaturday': 15606, 'lorne': 15607, 'michaels': 15608, 'fun': 15609, 'alot': 15610, 'sewers': 15611, 'agoi': 15612, 'campaignfinanceif': 15613, '1965': 15614, 'untold': 15615, 'tock': 15616, 'punished': 15617, 'exercising': 15618, 'crimeneighborhoods': 15619, 'violentunder': 15620, 'dug': 15621, 'examined': 15622, 'quarantined': 15623, 'newhampshire2012you': 15624, 'hodes': 15625, 'dnh': 15626, 'upgrades': 15627, 'selffunding': 15628, 'statesnewt': 15629, 'religioncasey': 15630, 'cadets': 15631, 'ued': 15632, 'quartercenturi': 15633, 'socialism': 15634, 'josef': 15635, 'replicate': 15636, 'ethicsthere': 15637, 'sportsdavid': 15638, 'miamis': 15639, '207000': 15640, 'povertyit': 15641, 'prematur': 15642, 'agriculturegeorgia': 15643, 'feasting': 15644, 'housingin': 15645, 'bubble': 15646, 'electionsdonald': 15647, 'historygrocery': 15648, 'gunspolling': 15649, 'workersmilwaukee': 15650, 'arvada': 15651, 'algeria': 15652, 'emirates': 15653, 'foreignpolicyof': 15654, 'fetched': 15655, 'campaignfinanceflorida': 15656, 'dccitycouncilpasseda': 15657, 'lawbanninglethalrat': 15658, 'publicsafetytephen': 15659, 'zappala': 15660, 'da': 15661, 'onduty': 15662, 'homicid': 15663, 'excludes': 15664, 'warrants': 15665, 'immigrationthousands': 15666, 'subcommitte': 15667, 'outsp': 15668, 'harsdorf': 15669, '27th': 15670, 'checkout': 15671, 'punditsvan': 15672, 'avowed': 15673, 'selfavowed': 15674, 'contests': 15675, 'topfive': 15676, 'taxespeter': 15677, 'sneak': 15678, 'transact': 15679, 'jollys': 15680, 'searches': 15681, 'terrorismwashington': 15682, 'incentivized': 15683, 'militarization': 15684, 'supremecourthate': 15685, 'excluded': 15686, 'publichealthmost': 15687, 'militarywhile': 15688, 'surround': 15689, 'marketregulationobamacare': 15690, 'sacrificing': 15691, 'bled': 15692, 'womenyoung': 15693, 'areaswho': 15694, 'outearning': 15695, 'uns': 15696, 'mus': 15697, 'madisonmilwaukee': 15698, 'gunsnothing': 15699, 'ownershipdatabas': 15700, 'dontre': 15701, 'katy': 15702, 'widest': 15703, 'frontage': 15704, 'fastestrising': 15705, 'incomeohio': 15706, 'restrooms': 15707, 'bores': 15708, 'militaryeach': 15709, '739': 15710, 'hardline': 15711, 'indefinite': 15712, 'vigilantes': 15713, 'minutemen': 15714, 'outposts': 15715, 'militaryalmost': 15716, 'unaccounted': 15717, 'hurtling': 15718, 'redistrictingrepublican': 15719, 'iraq21million': 15720, 'squandered': 15721, '76million': 15722, 'squandering': 15723, 'zoning': 15724, 'supremecourtan': 15725, 'purchasers': 15726, 'federalbudgetrepublicans': 15727, 'floridaamendmentsfor': 15728, 'workersagriculture': 15729, 'variety': 15730, 'restoring': 15731, 'imac': 15732, 'delinquent': 15733, 'jobswomen': 15734, 'statefinanceswhile': 15735, 'forecasts': 15736, 'underfunded': 15737, 'obligations': 15738, 'meanwhile': 15739, 'tanking': 15740, 'colbertreporta': 15741, 'sodas': 15742, 'iced': 15743, 'teas': 15744, 'flavored': 15745, 'tenet': 15746, 'notic': 15747, 'cresent': 15748, 'hardy': 15749, 'wrangle': 15750, 'streaming': 15751, 'calculate': 15752, 'subjugation': 15753, 'taxesmiamidade': 15754, 'indigent': 15755, 'abcnewsweekpassage': 15756, 'enormous': 15757, 'flowering': 15758, 'statesninetyseven': 15759, 'taxesfloridas': 15760, 'updated': 15761, 'denhamhas': 15762, 'flexible': 15763, 'fas': 15764, 'marketregulationlast': 15765, '81000': 15766, 'threestory': 15767, 'bushadministrationits': 15768, 'amber': 15769, 'immigrationmayor': 15770, 'federalbudgetnational': 15771, 'liabilities': 15772, '520000': 15773, 'federalbudgetearmarks': 15774, '277000': 15775, 'potato': 15776, 'pest': 15777, 'dorms': 15778, 'repaired': 15779, 'studi': 15780, 'publicsafetyatlanta': 15781, 'statebudgetchris': 15782, 'profitmaking': 15783, 'railroad': 15784, 'workersohio': 15785, 'wishing': 15786, 'healthi': 15787, 'militaryboeing': 15788, '747': 15789, 'veteranscongresswoman': 15790, 'roslehtinen': 15791, 'immigrationrather': 15792, 'refinery': 15793, 'statebudgetre': 15794, 'povertyweve': 15795, '37million': 15796, '12million': 15797, '13million': 15798, 'managua': 15799, 'ortega': 15800, 'statesnorth': 15801, 'daines': 15802, 'rmont': 15803, 'showered': 15804, 'gifts': 15805, 'yuma': 15806, 'pollsone': 15807, 'quinnipiac': 15808, 'sixinten': 15809, 'kidfriendly': 15810, 'candy': 15811, 'affairshealth': 15812, 'mound': 15813, 'tal': 15814, 'polled': 15815, 'impression': 15816, 'economybusiness': 15817, 'formation': 15818, '44443': 15819, 'publicsafetyharvard': 15820, 'sharp': 15821, 'areunwilling': 15822, 'canned': 15823, 'blueberries': 15824, 'publicsafetyexposure': 15825, 'electromagnetic': 15826, 'leukemia': 15827, 'educationless': 15828, 'medicareamong': 15829, 'votingrecordayspeter': 15830, 'statute': 15831, 'dropouts': 15832, 'campaignadvertisingheila': 15833, 'wrinkly': 15834, 'whiteaged': 15835, 'hasbeens': 15836, 'gaspriceson': 15837, 'crimewhite': 15838, 'polls99': 15839, 'auk': 15840, 'wednesday': 15841, 'jobsan': 15842, 'homelandsecurityvery': 15843, 'rigells': 15844, 'kings': 15845, 'drugseven': 15846, 'ratifies': 15847, 'clinic': 15848, 'costeffectively': 15849, 'educationtennessee': 15850, 'abortionkaren': 15851, 'trig': 15852, 'transportationalmost': 15853, '200mile': 15854, 'electionsvoting': 15855, 'sights': 15856, 'occupation': 15857, 'jobs60': 15858, 'livingwage': 15859, 'livingwag': 15860, 'taxesharry': 15861, 'patriotismnot': 15862, 'pathet': 15863, 'apprehend': 15864, 'supremecourtthis': 15865, 'preceding': 15866, 'electionsdark': 15867, 'topped': 15868, '308': 15869, 'wisely': 15870, 'governmentregulationwisconsin': 15871, 'healthcare1': 15872, 'acela': 15873, 'limiting': 15874, 'educationperstudent': 15875, 'dipped': 15876, '6036': 15877, '5644': 15878, '20102011': 15879, 'heinous': 15880, 'intentional': 15881, 'disfigurement': 15882, 'militarycreeping': 15883, 'commitments': 15884, 'drugswe': 15885, 'drugshackers': 15886, 'prescriptiondrug': 15887, 'prescript': 15888, 'childrenays': 15889, 'wrotei': 15890, 'ins': 15891, 'reflects': 15892, 'marking': 15893, 'perriello': 15894, 'jobaccomplishmentsu': 15895, 'workersite': 15896, 'selectors': 15897, 'shun': 15898, 'statefinancesillegal': 15899, 'jobaccomplishmentstim': 15900, '7800': 15901, 'screaming': 15902, 'gaysandlesbianschallenger': 15903, 'tuggey': 15904, 'educationome': 15905, 'feds': 15906, 'arabic': 15907, 'technologythis': 15908, 'hare': 15909, 'spik': 15910, 'portugal': 15911, 'prohibiting': 15912, 'pediatricians': 15913, 'stimulusthis': 15914, 'jobsforlife': 15915, 'professor': 15916, 'percentagewise': 15917, 'congressayscongressman': 15918, 'amenities': 15919, 'gorgonzola': 15920, 'immigrationhow': 15921, 'poiler': 15922, 'messagemachinedemocratic': 15923, 'informed': 15924, 'owed': 15925, 'publichealthbefore': 15926, 'abcnewsweekjohn': 15927, 'workersresearch': 15928, 'tradeenator': 15929, 'bucyrus': 15930, 'intern': 15931, 'recreationits': 15932, 'towpath': 15933, 'can': 15934, 'pollsthere': 15935, 'tainted': 15936, 'cafeteria': 15937, 'employerbased': 15938, 'tips': 15939, 'dunkin': 15940, 'donuts': 15941, 'pricetag': 15942, 'catholics': 15943, 'paves': 15944, 'punditsfor': 15945, '300vote': 15946, 'overturned': 15947, 'bald': 15948, 'levees': 15949, 'considers': 15950, 'transparencya': 15951, 'futures': 15952, 'onecent': 15953, 'povertypoverty': 15954, 'languages': 15955, '977': 15956, 'stratosphere': 15957, 'immokalee': 15958, 'weathercitizens': 15959, 'auditing': 15960, 'taxesodd': 15961, 'odd': 15962, 'racially': 15963, 'ethnically': 15964, 'genderwis': 15965, 'tradethere': 15966, 'messagemachinearkansas': 15967, 'chad': 15968, 'causey': 15969, 'weathergeorgia': 15970, 'ethicswe': 15971, 'governmentregulationlarge': 15972, '271': 15973, 'jobsvirginias': 15974, '292': 15975, 'loaned': 15976, '103000': 15977, 'taxfriendly': 15978, 'cleans': 15979, 'severity': 15980, 'intersections': 15981, 'weeney': 15982, 'legalissuesillegal': 15983, 'electionsrob': 15984, 'crimedozens': 15985, 'artists': 15986, 'timberlake': 15987, 'jay': 15988, 'z': 15989, 'rihanna': 15990, 'canceling': 15991, 'tevie': 15992, 'educationmccain': 15993, 'punditswe': 15994, 'mornings': 15995, 'tourismcalifornias': 15996, 'transportationpalin': 15997, 'messagemachinevows': 15998, 'imitation': 15999, 'tradeeven': 16000, 'refus': 16001, 'campaignadvertisingit': 16002, 'alaskans': 16003, 'imposter': 16004, 'ovation': 16005, 'angelo': 16006, 'rodeo': 16007, 'immigrationwhat': 16008, 'patriotismhe': 16009, 'improperly': 16010, 'mingling': 16011, 'jobaccomplishmentsour': 16012, 'retaining': 16013, 'terrorismanctuary': 16014, 'cooperate': 16015, 'locating': 16016, 'womenmillions': 16017, 'healthcarefortyfive': 16018, 'sportsfox': 16019, 'airs': 16020, 'tuart': 16021, 'rip': 16022, 'tribute': 16023, 'federalbudgetcomic': 16024, 'introduces': 16025, 'raese': 16026, 'laser': 16027, 'sky': 16028, 'fertilizer': 16029, 'texashad': 16030, 'jobspresident': 16031, 'correctionsandupdatesclassified': 16032, 'header': 16033, 'repeat': 16034, 'reauthorizes': 16035, 'easons': 16036, 'resort': 16037, 'medicaidafter': 16038, 'downit': 16039, 'statefinancescalifornias': 16040, 'bolted': 16041, 'windows': 16042, 'jurisdict': 16043, 'nbc': 16044, 'candidatesbiographygo': 16045, 'immigrationpending': 16046, 'outundocumented': 16047, 'energykendrick': 16048, 'electionstwentyseven': 16049, '400k': 16050, 'membersonly': 16051, 'loung': 16052, 'populationthere': 16053, 'corporationsmost': 16054, 'causation': 16055, 'comp': 16056, 'negatively': 16057, 'tability': 16058, 'messagemachine2012republicans': 16059, 'electionsone': 16060, 'eries': 16061, 'areon': 16062, 'koreahas': 16063, 'twodozennuclear': 16064, 'warhead': 16065, 'punditsemergency': 16066, 'resolving': 16067, 'wealthyou': 16068, 'disclosure': 16069, '4800': 16070, 'acknowledging': 16071, 'epas': 16072, 'sportsover': 16073, 'golfed': 16074, 'component': 16075, 'governmentefficiencydue': 16076, 'royalty': 16077, 'royalties': 16078, 'environmentgeorgias': 16079, 'saidas': 16080, 'doubleaballpark': 16081, 'thugs': 16082, 'curbs': 16083, 'incomewe': 16084, 'statebudgetdavid': 16085, 'electionsbarack': 16086, 'marijuanajudging': 16087, 'retirementunder': 16088, 'urbanwelfare': 16089, 'atomic': 16090, 'hiroshima': 16091, 'hb2like': 16092, 'renaming': 16093, 'campaignfinanceive': 16094, 'ociety': 16095, 'actuaries': 16096, 'therell': 16097, 'gunsive': 16098, 'thereabout': 16099, 'marshals': 16100, 'immigrationour': 16101, 'desert': 16102, 'behead': 16103, 'electionswinning': 16104, 'imposs': 16105, 'hometown': 16106, 'creek': 16107, 'intervenors': 16108, 'gamblingin': 16109, 'pathological': 16110, 'categorize': 16111, 'urveillance': 16112, 'transpar': 16113, 'teel': 16114, 'environmentafter': 16115, 'economyyouth': 16116, 'activities': 16117, 'technologyamericans': 16118, 'automobil': 16119, 'energyfully': 16120, 'expert': 16121, 'transparencyon': 16122, 'espoused': 16123, 'makework': 16124, 'unionsan': 16125, 'uperpacs': 16126, 'diversitybill': 16127, 'factori': 16128, 'terrificand': 16129, 'ethicswhen': 16130, 'nerve': 16131, 'educationcuyahoga': 16132, 'candidatesbiographymy': 16133, 'exhausted': 16134, 'burdens': 16135, 'fluid': 16136, 'earthquakes': 16137, 'unleash': 16138, '2030': 16139, 'punditsno': 16140, 'vietnams': 16141, 'exchanging': 16142, 'supremecourttwelve': 16143, 'kagen': 16144, '77000': 16145, 'workersmcdonalds': 16146, '45000year': 16147, 'paramilitary': 16148, 'singing': 16149, 'rations': 16150, 'publichealthevidence': 16151, 'brains': 16152, 'liquid': 16153, 'predict': 16154, '60000plus': 16155, 'erode': 16156, 'militarize': 16157, 'bend': 16158, 'beloved': 16159, 'statebudgetcalifornias': 16160, 'candidatesbiographydollar': 16161, 'eyes': 16162, 'transportationdemocrats': 16163, 'votingrecordmichele': 16164, 'bachmanns': 16165, 'gunsvirginia': 16166, 'womenabortions': 16167, 'pointed': 16168, 'healthcareince': 16169, 'privilege': 16170, 'tractor': 16171, 'foreignpolicyiranian': 16172, 'mullahs': 16173, '444': 16174, 'stateseven': 16175, 'wagenow': 16176, 'humanitarian': 16177, 'displaced': 16178, 'socialsecurityevery': 16179, 'validate': 16180, 'spite': 16181, 'yard': 16182, 'transparencywhen': 16183, '18yearold': 16184, 'behindcloseddoors': 16185, 'revel': 16186, '3000squarefoot': 16187, '11000squarefoot': 16188, 'statebudgetmany': 16189, 'radically': 16190, 'sciencepeople': 16191, 'federalbudgetroyalties': 16192, 'foroil': 16193, 'shelled': 16194, 'weatherayspresident': 16195, 'inaugural': 16196, 'snowstorm': 16197, 'redlight': 16198, 'patents': 16199, 'revolutionized': 16200, 'immigrationabout': 16201, 'electionswith': 16202, 'principles': 16203, 'educationbarnes': 16204, 'zell': 16205, 'miller': 16206, 'absurd': 16207, 'encephalopathi': 16208, 'laborright': 16209, 'leisure': 16210, 'subminimum': 16211, 'socialsecurityixty': 16212, 'rwi': 16213, 'hoosiers': 16214, '200year': 16215, 'iraqiraq': 16216, 'diversitywhat': 16217, 'energyamerica': 16218, 'statebudgetmy': 16219, 'bishops': 16220, '1919': 16221, 'votingrecordlaurie': 16222, 'monnes': 16223, 'anderson': 16224, 'application': 16225, 'incarcerates': 16226, 'tragedies': 16227, 'jobsmichael': 16228, 'dukakis': 16229, 'taxesno': 16230, 'salestax': 16231, 'boosting': 16232, 'electionshad': 16233, 'amending': 16234, 'historyaysmichele': 16235, 'begged': 16236, 'smallbusinessunder': 16237, 'ethiopia': 16238, 'marshal': 16239, 'punditsfranklin': 16240, 'letterman': 16241, 'healththreatening': 16242, 'immigrationforty': 16243, 'overstaying': 16244, 'drugsince': 16245, 'prescriptiononly': 16246, 'meth': 16247, 'methrelated': 16248, 'indias': 16249, 'pharmacy': 16250, 'containment': 16251, 'healthcaremr': 16252, 'workerswhat': 16253, 'criminaljusticelast': 16254, 'bipartisanshippowerful': 16255, 'ylvia': 16256, 'harris': 16257, 'elyse': 16258, 'highranking': 16259, 'wealthnine': 16260, 'sexualitybarack': 16261, 'decree': 16262, 'workersthats': 16263, 'elses': 16264, 'retaliated': 16265, 'tradeif': 16266, 'betterpaying': 16267, 'confidentiality': 16268, 'stiff': 16269, 'civilrightspolls': 16270, 'trustworthy': 16271, 'enrolling': 16272, 'triggers': 16273, 'designation': 16274, 'aspect': 16275, 'mileage': 16276, 'publichealthno': 16277, 'freshwater': 16278, 'crimeheres': 16279, 'population110': 16280, 'brewpubs': 16281, 'environmentcommerce': 16282, 'bryson': 16283, 'tradethanks': 16284, 'drafting': 16285, 'presenting': 16286, 'economyen': 16287, 'publichealthmedicalgrade': 16288, 'alonewill': 16289, 'cbd': 16290, 'compound': 16291, 'gallego': 16292, 'proofofinsurance': 16293, 'criminaljusticecrime': 16294, 'arguing': 16295, 'economythis': 16296, 'terrorismcongress': 16297, 'bewildered': 16298, 'scope': 16299, 'apparatus': 16300, 'sticking': 16301, 'populationaustins': 16302, 'futile': 16303, 'suns': 16304, 'veteranscongressman': 16305, 'graders': 16306, 'womenhaving': 16307, 'aleading': 16308, 'spells': 16309, 'reasoning': 16310, 'unrelated': 16311, 'ranging': 16312, 'spectrum': 16313, 'legalissuestennessees': 16314, 'scienceeighty': 16315, 'antibiotics': 16316, 'wateray': 16317, 'fluoridation': 16318, 'ghettos': 16319, 'pacify': 16320, 'weathertallahassee': 16321, 'ninthrainiest': 16322, 'duggars': 16323, 'transgressions': 16324, 'affront': 16325, 'crimekilmartin': 16326, 'oilspilla': 16327, 'sciencebill': 16328, 'revive': 16329, 'faltering': 16330, 'dust': 16331, 'medicaidixty': 16332, 'womenon': 16333, 'jobaccomplishmentsoregon': 16334, 'tina': 16335, 'kotek': 16336, 'dportland': 16337, 'marketregulationi': 16338, 'poors': 16339, 'campaignfinancemillionaires': 16340, 'religionwhy': 16341, 'vatican': 16342, 'hopefully': 16343, 'retribution': 16344, 'educationatlanta': 16345, 'educationninetysix': 16346, '8400': 16347, 'stimuluspalin': 16348, 'weatherization': 16349, 'onesizefitsall': 16350, '440': 16351, 'proportionally': 16352, 'statefinancesgross': 16353, 'receipts': 16354, 'andi': 16355, 'governorelect': 16356, 'medicaideightyfive': 16357, 'candidatesbiographyabout': 16358, 'caucu': 16359, 'environmentas': 16360, 'noticing': 16361, 'lak': 16362, 'drugdealing': 16363, 'burglary': 16364, 'decrimin': 16365, 'eamus': 16366, 'strapped': 16367, 'marginoferror': 16368, 'animalsthis': 16369, 'breed': 16370, 'pit': 16371, 'bulls': 16372, 'jobsbecause': 16373, 'flagging': 16374, 'unaccompanied': 16375, '100watt': 16376, 'governmentmandated': 16377, 'ethicsbig': 16378, 'oils': 16379, '2million': 16380, 'deficitspending': 16381, 'transparencythere': 16382, 'controversi': 16383, 'retirementno': 16384, 'accruals': 16385, 'publichealthon': 16386, 'foreignpolicygreece': 16387, 'fare': 16388, 'tohave': 16389, 'messagemachine2012a': 16390, 'enduring': 16391, 'taxesdemocratic': 16392, 'incomeunder': 16393, 'weekly': 16394, 'estimated15': 16395, 'emphat': 16396, 'electionscharges': 16397, 'punditsjohn': 16398, 'holdren': 16399, 'sterilants': 16400, 'gallaghers': 16401, 'reporter': 16402, 'nodded': 16403, 'taxesromneys': 16404, '730million': 16405, 'welfareon': 16406, 'takers': 16407, '9500': 16408, 'foreignpolicydonald': 16409, 'secretaries': 16410, 'gunsecretary': 16411, 'gunsua': 16412, 'terrorismclimate': 16413, 'bombings': 16414, 'sole': 16415, 'earner': 16416, 'urbanyoure': 16417, 'healthcareright': 16418, 'economywarren': 16419, 'tracked': 16420, 'fled': 16421, 'compensate': 16422, 'wayne': 16423, 'lapierre': 16424, 'transportationeightyfive': 16425, 'redistributed': 16426, 'drugsheroin': 16427, 'pours': 16428, '2023': 16429, '722': 16430, '696': 16431, 'henceforth': 16432, 'automat': 16433, 'religionarah': 16434, 'lincolns': 16435, 'oilspillcanada': 16436, 'redistrictingi': 16437, 'giveways': 16438, 'markets': 16439, 'waterreplacing': 16440, 'toilets': 16441, 'waterefficient': 16442, 'models': 16443, 'taxestwo': 16444, 'flunked': 16445, 'gops': 16446, 'crashed': 16447, 'terrorismrepublicans': 16448, 'doctored': 16449, 'sportsno': 16450, 'compli': 16451, 'thinking': 16452, 'overcrowding': 16453, 'laborissue': 16454, 'environmenthe': 16455, 'clunk': 16456, 'promptli': 16457, 'surgery': 16458, 'infrastructuret': 16459, 'seemingly': 16460, 'endless': 16461, 'decimated': 16462, 'influx': 16463, 'educationchicago': 16464, 'eighthgrade': 16465, 'fourthgrade': 16466, 'marketregulationepa': 16467, 'commended': 16468, 'cleaner': 16469, 'groceri': 16470, 'votingrecordpatrick': 16471, 'immigrationfederal': 16472, 'pollswikileaks': 16473, 'podesta': 16474, 'rigged': 16475, 'oversampling': 16476, 'suppression': 16477, 'techniqu': 16478, 'transtexas': 16479, 'federalbudgetno': 16480, 'overdraft': 16481, 'terrorismalqaida': 16482, 'operatives': 16483, 'statesdespite': 16484, 'distance': 16485, 'interviewers': 16486, 'trapped': 16487, 'underperforming': 16488, 'jobaccomplishmentstexas': 16489, 'sciencenarragansett': 16490, 'ratify': 16491, 'workersfederal': 16492, 'investigators': 16493, 'foreignpolicyamong': 16494, 'reparations': 16495, 'contends': 16496, 'limbaughs': 16497, 'cruzsaid': 16498, 'ununus': 16499, 'accessed': 16500, 'alicia': 16501, 'machado': 16502, 'floridano': 16503, 'nuclearthere': 16504, 'reactor': 16505, 'brent': 16506, 'beavers': 16507, 'statebudgetabout': 16508, '489': 16509, 'debtceiling': 16510, 'presurge': 16511, 'basra': 16512, 'mosul': 16513, 'adr': 16514, 'quiet': 16515, 'setback': 16516, 'gunsrepublicans': 16517, 'carsgov': 16518, 'alison': 16519, 'lundergan': 16520, 'grimes': 16521, 'agricultureonly': 16522, 'heinrich': 16523, 'historyay': 16524, 'cafes': 16525, 'diners': 16526, 'gather': 16527, 'unshine': 16528, 'federalbudgetabout': 16529, 'jobaccomplishments400': 16530, 'sportsweve': 16531, 'outdrawn': 16532, 'arenas': 16533, 'foreignpolicylibya': 16534, 'educationnot': 16535, 'theyd': 16536, 'tree': 16537, 'elma': 16538, 'warned': 16539, 'ave': 16540, 'foolproof': 16541, 'verifying': 16542, 'childbearing': 16543, 'statefinancestrenton': 16544, 'healthcarepreventive': 16545, 'threequart': 16546, 'socialsecurityfederal': 16547, '2045': 16548, '42inch': 16549, 'redfish': 16550, 'publichealthmoney': 16551, 'hillaryclintons': 16552, 'tradebernie': 16553, 'opposesthe': 16554, 'supportsit': 16555, 'fictional': 16556, 'avoidance': 16557, 'schemes': 16558, 'historylast': 16559, 'workersthis': 16560, 'historyas': 16561, 'roberson': 16562, 'gamblingfor': 16563, 'religionill': 16564, 'plenty': 16565, 'ethicscongressman': 16566, 'messagemachine2014when': 16567, '7million': 16568, '110million': 16569, 'punditsyou': 16570, 'neurological': 16571, 'cochaired': 16572, 'foreignpolicyradio': 16573, 'residual': 16574, 'punditsonly': 16575, 'againhats': 16576, 'blasio': 16577, 'subway': 16578, 'tockman': 16579, 'gunfilled': 16580, '7030': 16581, '1034': 16582, 'hooting': 16583, '1045': 16584, 'tenn': 16585, 'workersfact': 16586, 'johnkasichs': 16587, 'patriotismrev': 16588, 'cutback': 16589, 'gaos': 16590, 'kiters': 16591, 'womenwhile': 16592, 'cleaning': 16593, 'wealthhillary': 16594, 'polls59': 16595, 'statesanyone': 16596, 'statefinancesafter': 16597, 'trauss': 16598, 'governmentregulationmore': 16599, 'scoop': 16600, '265': 16601, '91': 16602, '229': 16603, 'medicaretrumps': 16604, 'phaseout': 16605, 'ummer': 16606, 'abcnewsweekon': 16607, 'afghanistanome': 16608, 'afghan': 16609, 'messagemachine2012lois': 16610, 'marble': 16611, 'toilet': 16612, 'shares': 16613, 'publichealthamniocentesis': 16614, 'electionstoday': 16615, 'turnouts': 16616, 'zippo': 16617, 'veteranstexas': 16618, 'transportationrecent': 16619, 'pollsmy': 16620, 'parma': 16621, 'transparencyatlanta': 16622, 'ate': 16623, 'supremecourtmary': 16624, 'admiral': 16625, 'blair': 16626, 'highvalue': 16627, 'interrogations': 16628, 'resume': 16629, 'nameresum': 16630, 'immigrationalexander': 16631, 'hawk': 16632, 'diversityhomicides': 16633, 'unequal': 16634, 'distribution': 16635, 'touched': 16636, 'retirementtheres': 16637, 'confiscating': 16638, 'ira': 16639, 'strengthen': 16640, 'jobsfewer': 16641, 'persists': 16642, 'negating': 16643, 'floridaamendmentsmany': 16644, 'humongous': 16645, 'refunds': 16646, 'downstate': 16647, 'legler': 16648, 'installing': 16649, 'sprinklers': 16650, 'generators': 16651, 'technologyfacebook': 16652, 'creatingposts': 16653, 'moms': 16654, 'undereducated': 16655, 'starving': 16656, 'cfo': 16657, 'krakows': 16658, 'refunded': 16659, 'josephine': 16660, 'con': 16661, 'candidatesbiographycongressman': 16662, 'repudiate': 16663, 'remark': 16664, 'wal': 16665, 'financialregulationwe': 16666, 'wrestling': 16667, 'transportationcommercial': 16668, 'stellar': 16669, 'mode': 16670, 'mod': 16671, 'hass': 16672, 'ourneighboring': 16673, 'statefinancescollege': 16674, 'jobaccomplishmentsan': 16675, '2billion': 16676, 'bogus': 16677, 'tanker': 16678, 'cris': 16679, 'candidatesbiographyhillary': 16680, 'interned': 16681, 'treuhaft': 16682, 'governmentregulationcommon': 16683, 'fingerprints': 16684, 'trumphas': 16685, 'sister': 16686, 'educationpasco': 16687, 'unionsjorgeelorza': 16688, 'captain': 16689, 'kenyon': 16690, 'wealthwhite': 16691, 'educationeliminating': 16692, 'marketregulationappalachian': 16693, 'terroristsfriends': 16694, 'girlfriends': 16695, 'tateswere': 16696, 'boyfriends': 16697, 'televis': 16698, 'stimuluswhat': 16699, 'votingrecordgop': 16700, 'fluoride': 16701, 'mankind': 16702, 'ancient': 16703, 'babylonians': 16704, 'compass': 16705, 'discoveri': 16706, 'laundry': 16707, 'veteransyou': 16708, 'womenfbi': 16709, 'weatherjanuary': 16710, 'advice': 16711, '10420': 16712, '24700': 16713, 'incorporated': 16714, 'purposely': 16715, 'confuse': 16716, 'abilities': 16717, 'historynewt': 16718, 'singleyear': 16719, 'jump': 16720, 'taxesmccains': 16721, '100billion': 16722, 'environmenttheres': 16723, 'refug': 16724, 'cleared': 16725, 'ovarian': 16726, 'oilspillwhile': 16727, 'environmentayspatrick': 16728, 'demographic': 16729, 'tout': 16730, 'retirementof': 16731, '98000': 16732, '53000': 16733, 'electionsrepublicans': 16734, 'militarycheney': 16735, 'disagreeing': 16736, 'audiences': 16737, '41500': 16738, 'stone': 16739, 'unturned': 16740, 'patrons': 16741, 'shots': 16742, 'swim': 16743, 'panhandling': 16744, 'insulted': 16745, 'statefinancestaxpayers': 16746, 'gastax': 16747, '80yearold': 16748, 'vegetation': 16749, 'feingolds': 16750, 'powered': 16751, 'smalldollar': 16752, 'statesit': 16753, 'marsh': 16754, 'affiliation': 16755, 'display': 16756, 'bulli': 16757, 'welfareben': 16758, 'carson': 16759, 'statefinancesright': 16760, 'sufficient': 16761, 'clintoninsists': 16762, 'encounters': 16763, 'oswego': 16764, 'understands': 16765, 'kelo': 16766, 'governmentefficiencyome': 16767, 'legalissuesgeorgia': 16768, 'breweries': 16769, 'pint': 16770, 'sixpack': 16771, 'norbert': 16772, 'collegewisconsin': 16773, 'publicsafetyharron': 16774, 'blasphemy': 16775, 'ipads': 16776, 'iphones': 16777, 'shocked': 16778, 'asleep': 16779, 'taxesninetyeight': 16780, 'sexualitymilwaukee': 16781, 'womenince': 16782, 'nontoll': 16783, '\\u202abernie\\u202c': 16784, 'wealthwhen': 16785, 'thatd': 16786, '1900s': 16787, 'style': 16788, 'electionsthanks': 16789, 'anticompetitive': 16790, 'gunsit': 16791, 'unlicensed': 16792, 'criminaljusticeince': 16793, 'abolition': 16794, 'legalissuesthis': 16795, 'lunatic': 16796, '501c4': 16797, 'immigrationtom': 16798, 'leppert': 16799, 'immigrationmitt': 16800, 'terrorismpeakers': 16801, 'mentions': 16802, 'veteransnine': 16803, 'educationthirtyeight': 16804, 'superintend': 16805, 'nuclearthanks': 16806, '365': 16807, 'recyclers': 16808, 'recycle': 16809, 'povertywithout': 16810, 'miranda': 16811, 'marriageevery': 16812, 'quiones': 16813, 'napolitano': 16814, 'acknowledges': 16815, '630000': 16816, 'instill': 16817, 'attitudes': 16818, 'mindsets': 16819, 'jobstwenty': 16820, 'stimulus100000': 16821, 'martini': 16822, 'teakhous': 16823, 'transparencyproposed': 16824, 'nclaw': 16825, 'sportsif': 16826, 'tradeexporters': 16827, 'deceptively': 16828, 'fur': 16829, 'udan': 16830, 'childbirth': 16831, 'abortioneven': 16832, 'governmentregulationtoday': 16833, 'garage': 16834, 'fake': 16835, 'stateshere': 16836, 'educationafrica': 16837, 'whack': 16838, 'economys': 16839, 'enzi': 16840, 'washingtonbased': 16841, 'historyphoto': 16842, 'sprawling': 16843, 'monu': 16844, 'curry': 16845, 'unfairli': 16846, 'healthcaretheyve': 16847, 'employersupported': 16848, 'romneycare': 16849, 'electionstudies': 16850, 'nonexistent': 16851, 'mafia': 16852, 'payrol': 16853, 'gunsen': 16854, 'transparencygov': 16855, 'criminaljusticetexas': 16856, 'messagemachine2012by': 16857, 'childrenin': 16858, 'mahatma': 16859, 'gandhi': 16860, 'laugh': 16861, 'yulin': 16862, '1600': 16863, 'immigrationronald': 16864, 'socialsecuritypat': 16865, 'taxesnever': 16866, 'commonwealths': 16867, 'publicservicein': 16868, 'kahl': 16869, 'electionsrepublican': 16870, 'donovan': 16871, 'colbertreportwe': 16872, 'workersjust': 16873, '76800': 16874, 'bevin': 16875, 'statefinancesmost': 16876, 'messagemachinebill': 16877, 'historytuitionfree': 16878, 'pipe': 16879, 'gu': 16880, 'boosts': 16881, '161': 16882, 'writes': 16883, 'paragraph': 16884, 'terrorismwrote': 16885, 'capturing': 16886, 'federalbudgetdue': 16887, '265000': 16888, 'healthcare400000': 16889, 'inspired': 16890, 'amended': 16891, 'components': 16892, 'disqualified': 16893, 'duly': 16894, 'jobspennsylvania': 16895, 'mandatori': 16896, 'educationdo': 16897, 'womenover': 16898, 'socialsecurityharron': 16899, 'laborunions': 16900, 'eighthour': 16901, 'communitybased': 16902, 'waterpassage': 16903, 'aquarium': 16904, 'clearwater': 16905, 'iraqevery': 16906, 'abillion': 16907, 'dollarsout': 16908, 'brookhavens': 16909, 'thereby': 16910, 'waving': 16911, 'magic': 16912, 'slammed': 16913, 'nuclearwe': 16914, 'damon': 16915, 'defrauding': 16916, 'jobstexas': 16917, 'taxesmayor': 16918, 'housingyou': 16919, 'applicant': 16920, 'tradeevery': 16921, 'healthcarerepublican': 16922, 'healthcarewashing': 16923, 'mouth': 16924, 'cough': 16925, 'transmission': 16926, 'carl': 16927, 'councilor': 16928, 'campaignfinancegov': 16929, '15600': 16930, 'healthcareduring': 16931, 'elections55': 16932, 'wealthwhile': 16933, 'spew': 16934, 'marshawn': 16935, 'yards': 16936, 'terrell': 16937, 'bestknown': 16938, 'taxeshes': 16939, 'pinnett': 16940, 'judgments': 16941, 'trespass': 16942, 'educationportland': 16943, '500k': 16944, 'deem': 16945, 'pbj': 16946, 'sandwiches': 16947, 'federalbudgetfailure': 16948, 'cv': 16949, 'combination': 16950, 'tebow': 16951, 'praying': 16952, 'womengeorgia': 16953, 'brochures': 16954, 'references': 16955, 'housingmore': 16956, 'borrowers': 16957, 'underwater': 16958, 'gunsbarack': 16959, 'criminaljusticemore': 16960, 'environmentnaa': 16961, 'fudged': 16962, 'overstate': 16963, 'slapped': 16964, 'junkyard': 16965, '448': 16966, 'deathpenalty': 16967, 'electionscalifornia': 16968, 'giant': 16969, 'snail': 16970, 'mening': 16971, 'environmenturface': 16972, 'stabil': 16973, 'taxestennessees': 16974, 'votingrecordalaska': 16975, 'lisa': 16976, 'murkowski': 16977, 'residence': 16978, 'immigrationobamacare': 16979, 'wealthcott': 16980, 'firework': 16981, 'workersemployees': 16982, 'immigrationrhode': 16983, '300131': 16984, 'countryoforigin': 16985, 'calligraphers': 16986, '86000': 16987, '97000': 16988, 'swarming': 16989, 'technologydui': 16990, 'secondterm': 16991, 'taxesrubios': 16992, 'povertypoor': 16993, 'lenderand': 16994, 'jobaccomplishmentsat': 16995, 'horizons': 16996, 'rightly': 16997, 'prais': 16998, 'comedians': 16999, 'immigrationted': 17000, 'blackwells': 17001, 'victors': 17002, 'nuclearwhen': 17003, 'industrialsize': 17004, 'abcnewsweekevery': 17005, 'pricing': 17006, 'statebudgetmorgan': 17007, 'griffith': 17008, 'workersemployers': 17009, 'cubicl': 17010, 'immigrationwhile': 17011, 'marketregulationfireworks': 17012, '9427': 17013, 'cascading': 17014, 'effects': 17015, 'forthcoming': 17016, 'beaumont': 17017, 'highestpaid': 17018, 'governmentefficiencyour': 17019, 'colbertreportjohn': 17020, 'reclaimed': 17021, 'bipartisanshipninetysix': 17022, 'cuellar': 17023, 'wantsillegal': 17024, 'collectingocial': 17025, '15anhourproposal': 17026, 'distinguished': 17027, 'mullen': 17028, 'pickering': 17029, 'element': 17030, 'transportationrail': 17031, 'lessening': 17032, 'taxesjeanne': 17033, 'principally': 17034, 'lerner': 17035, 'appointee': 17036, 'marketregulationnext': 17037, 'financialregulationgreg': 17038, 'legalissuesheres': 17039, 'undeniable': 17040, 'innercity': 17041, 'foodsafetylean': 17042, 'finely': 17043, 'textured': 17044, 'slime': 17045, 'immigrationjust': 17046, 'veteranswere': 17047, 'speedy': 17048, 'femal': 17049, 'campaignadvertisingforeign': 17050, 'educationdallas': 17051, 'ap': 17052, '950k': 17053, 'genetic': 17054, '12year': 17055, 'halve': 17056, 'signers': 17057, 'gamblingbecause': 17058, 'whelan': 17059, '1920s': 17060, 'rewards': 17061, 'au': 17062, 'pair': 17063, 'alaskan': 17064, 'seafood': 17065, 'processors': 17066, 'healthcarejeff': 17067, 'unmitigated': 17068, 'payasyougo': 17069, 'dalla': 17070, 'messagemachine2014providence': 17071, 'campaignadvertisingix': 17072, 'allegation': 17073, 'statesmany': 17074, 'enatebecause': 17075, '293000': 17076, 'workersixtypercent': 17077, 'retireesdont': 17078, 'eisenhow': 17079, 'axby': 17080, 'povertyhere': 17081, 'statefinancesohio': 17082, 'filipino': 17083, 'philippin': 17084, '133600': 17085, 'deputy': 17086, 'supremecourtbill': 17087, 'confirm': 17088, 'debti': 17089, 'tasked': 17090, 'stems': 17091, 'popculturethanks': 17092, 'gaspump': 17093, 'inspectors': 17094, 'hebs': 17095, 'brookshires': 17096, 'calibrating': 17097, 'stickers': 17098, 'calibr': 17099, 'coowner': 17100, 'celilo': 17101, 'gaysandlesbiansfor': 17102, 'glbt': 17103, 'lifestyle': 17104, '272': 17105, 'povertyeventy': 17106, 'familiescurrently': 17107, '4200': 17108, 'libyas': 17109, 'persian': 17110, '19901991': 17111, 'sportsyou': 17112, 'technology28': 17113, 'kentuckians': 17114, 'educationdemocrats': 17115, 'spacefrom': 17116, 'astronaut': 17117, 'openings': 17118, 'oglins': 17119, 'discourage': 17120, 'disagre': 17121, 'tourismin': 17122, 'unborn': 17123, 'smallbusinessvirginia': 17124, 'toraise': 17125, 'skew': 17126, 'season': 17127, 'saidhewould': 17128, 'wealthkelly': 17129, 'popcultureaysted': 17130, 'nude': 17131, 'unsuccess': 17132, 'generosity': 17133, 'electionsten': 17134, 'nuns': 17135, 'twin': 17136, 'consided': 17137, 'candidatesbiographynot': 17138, 'taxesgeneral': 17139, 'pharmacies': 17140, 'omebody': 17141, 'debthow': 17142, 'concerts': 17143, 'wift': 17144, '1540': 17145, 'nominations': 17146, 'publicsafetya': 17147, 'incomeays': 17148, '57000': 17149, 'religionu': 17150, 'statefinancesand': 17151, 'obamagop': 17152, 'glorifying': 17153, 'environmentpresident': 17154, 'taxesnancy': 17155, 'surveille': 17156, 'broun': 17157, 'legalissuesfour': 17158, 'vacuum': 17159, 'cleaners': 17160, 'salesman': 17161, 'custom': 17162, 'historyjayz': 17163, 'beyonce': 17164, 'electionsmickey': 17165, 'healthcareyouve': 17166, 'moose': 17167, 'jobsmilwaukees': 17168, 'electionsbefore': 17169, 'cathy': 17170, 'jordan': 17171, 'hooligans': 17172, 'popculturetampa': 17173, 'litmus': 17174, 'taxesrecommendations': 17175, 'educationu': 17176, 'inversions': 17177, 'journalsurprisingly': 17178, 'publichealthamid': 17179, 'socialsecuritywe': 17180, 'porkbarrel': 17181, 'weathergov': 17182, '697': 17183, 'jobsnonpartisan': 17184, 'debatesfox': 17185, 'diversitya': 17186, 'oneinthree': 17187, 'stimulusrecent': 17188, 'urbantwenty': 17189, 'ethicsfor': 17190, 'censored': 17191, 'muzzl': 17192, 'candidatesbiographydan': 17193, 'goeb': 17194, 'tradeas': 17195, 'freeloaders': 17196, 'militarycountries': 17197, 'statefinanceswere': 17198, 'corzinebuono': 17199, 'legalissueswell': 17200, 'fatherabsent': 17201, 'medicaidindividuals': 17202, 'legalissuescobb': 17203, 'emmigrate': 17204, 'marriageassertions': 17205, 'shattered': 17206, 'swaps': 17207, 'sciencedolphins': 17208, 'abortiontudies': 17209, 'healthcarepolls': 17210, 'preserve': 17211, 'pig': 17212, 'megans': 17213, 'crooked': 17214, 'voteand': 17215, 'candidatesbiographycott': 17216, 'spiraled': 17217, 'vacancyexcept': 17218, 'forfeit': 17219, 'governmentefficiencywhen': 17220, 'debatesgeorge': 17221, '72000': 17222, 'assessment': 17223, 'notice': 17224, 'smear': 17225, 'medicareunder': 17226, 'planthose': 17227, 'logistically': 17228, 'messagemachine2014before': 17229, 'bernies': 17230, 'foodsafetygeorgia': 17231, 'welldeserved': 17232, 'ranger': 17233, 'recon': 17234, 'adamantly': 17235, 'scienceembryonic': 17236, 'populationwisconsin': 17237, 'outmigr': 17238, 'taxeswithout': 17239, 'firsts': 17240, 'coos': 17241, 'ensuring': 17242, 'candidatesbiographyafter': 17243, 'framers': 17244, '1792': 17245, 'veteransu': 17246, 'transportationuber': 17247, 'rideshare': 17248, 'statesno': 17249, 'drugsoverdosing': 17250, 'jobaccomplishmentscongress': 17251, 'hmo': 17252, 'educationblack': 17253, 'constitute': 17254, 'expel': 17255, 'urban78702': 17256, 'criminaljusticeunder': 17257, 'misadventures': 17258, 'transportationwater': 17259, 'efficient': 17260, 'curtail': 17261, 'is3': 17262, 'taller': 17263, 'gulag': 17264, 'dip': 17265, 'sporting': 17266, 'devic': 17267, 'micas': 17268, 'campaignfinancecicilline': 17269, 'publichealthbioweapon': 17270, 'mosquitos': 17271, '21000': 17272, 'nominal': 17273, 'abortionaid': 17274, 'civilrightsjohn': 17275, 'messagemachinejohn': 17276, 'raeses': 17277, 'ayerss': 17278, 'jana': 17279, 'messagemachine2012ay': 17280, 'phrase': 17281, 'urbantampa': 17282, 'blight': 17283, 'scoring': 17284, 'truancy': 17285, 'terrorismhere': 17286, 'urbanfifteen': 17287, 'censusearly': 17288, 'conservatives': 17289, 'measurably': 17290, 'levying': 17291, 'economyecretary': 17292, 'geithner': 17293, 'abandoning': 17294, 'multinational': 17295, 'outlived': 17296, 'usefulness': 17297, 'vital': 17298, 'distinct': 17299, 'immigrationcanada': 17300, 'delivers': 17301, 'debaathisized': 17302, 'activates': 17303, 'anticipation': 17304, 'furloughed': 17305, 'reimbursable': 17306, 'disappearing': 17307, 'manchintoomey': 17308, 'criminalized': 17309, 'lifelong': 17310, 'activists': 17311, 'porous': 17312, 'lucky': 17313, '2400': 17314, 'bonding': 17315, 'tradefor': 17316, 'fiveweek': 17317, 'punditslouisiana': 17318, 'sportstudies': 17319, 'federalbudgetacorn': 17320, 'spr': 17321, 'megarich': 17322, 'gunsayspresident': 17323, 'topselling': 17324, 'mostused': 17325, 'bullet': 17326, 'legalissuesacross': 17327, 'huma': 17328, 'abedin': 17329, 'workersyoung': 17330, 'stateswhat': 17331, 'creationism': 17332, 'evolution': 17333, 'decid': 17334, 'sustained': 17335, 'confidence': 17336, 'competence': 17337, '10in': 17338, 'debatesdonald': 17339, 'newsgoogle': 17340, 'statehired': 17341, 'evaluates': 17342, 'examiners': 17343, 'essay': 17344, 'deathpenaltyince': 17345, 'iraqand': 17346, 'weatherchris': 17347, 'belleville': 17348, 'environmentearth': 17349, 'wonhealth': 17350, 'federalbudgettwo': 17351, 'fighter': 17352, 'women90': 17353, 'illiterate': 17354, 'stimulusunemployment': 17355, 'crises': 17356, 'reviewed': 17357, '23608': 17358, 'modernday': 17359, 'horribly': 17360, 'electionsblack': 17361, 'colonia': 17362, 'goldplated': 17363, 'marriagedonald': 17364, 'economymitt': 17365, 'pioneers': 17366, 'predominantislamist': 17367, 'federalbudgetof': 17368, 'congresscongress': 17369, '964': 17370, 'statebudgetken': 17371, 'taxesoregon': 17372, 'commerces': 17373, 'respondents': 17374, 'windshield': 17375, 'overcharging': 17376, 'statesas': 17377, 'labormore': 17378, 'federalbudgetabortion': 17379, 'knox': 17380, '425': 17381, 'oilspillmore': 17382, 'statebudgethospitals': 17383, '428': 17384, 'curb': 17385, 'healthcareeveryone': 17386, 'votingreform': 17387, 'unaccount': 17388, 'cromnibus': 17389, 'cutoff': 17390, 'pecters': 17391, 'judiciary': 17392, 'jobaccomplishmentsduring': 17393, 'transportationmilwaukee': 17394, 'millercoors': 17395, 'stimulusdespite': 17396, 'touting': 17397, 'triumph': 17398, 'transparencyknopp': 17399, 'concessions': 17400, 'correctionsandupdatesin': 17401, 'thirdtrimester': 17402, 'punditsover': 17403, 'learned': 17404, 'stimulus3000': 17405, 'terrorismone': 17406, 'stirred': 17407, 'energyeighty': 17408, 'taxeswhat': 17409, 'himselfpay': 17410, 'photographic': 17411, 'militaryouth': 17412, 'statefinancesgov': 17413, '7300': 17414, '6500': 17415, 'watercalifornia': 17416, 'statebudgetoregons': 17417, 'flipflopflipped': 17418, 'twoor': 17419, 'gulp': 17420, 'religioneven': 17421, 'assimil': 17422, 'votingrecordheldon': 17423, '525billion': 17424, 'jobsbroward': 17425, 'transf': 17426, 'chickfila': 17427, 'feedback': 17428, 'taxesobamacarerepresents': 17429, 'publichealthpeachtree': 17430, 'healthcareoperating': 17431, 'supremecourthobby': 17432, 'governmentefficiencyeleven': 17433, 'bienni': 17434, 'redistrictingyour': 17435, 'floridai': 17436, 'naming': 17437, 'jobseconomic': 17438, 'underemployed': 17439, 'jobaccomplishmentsim': 17440, 'jobsnow': 17441, 'airways': 17442, 'ukrainians': 17443, 'historyall': 17444, 'dold': 17445, 'legalissuesobama': 17446, 'taps': 17447, 'smallbusinesswhat': 17448, 'religionno': 17449, 'christma': 17450, '442': 17451, 'pope': 17452, 'saint': 17453, 'immigrationnothing': 17454, 'identity': 17455, 'taxpayersubsidized': 17456, 'federalbudgetearmarked': 17457, 'publichealthit': 17458, 'enrollees': 17459, 'technologyonline': 17460, 'abcnewsweekhalliburton': 17461, 'defrauded': 17462, 'economyfarming': 17463, 'waterwisconsin': 17464, 'foreignpolicyunder': 17465, 'thankyous': 17466, 'statefinancestatistically': 17467, 'lawenforcement': 17468, 'immigrationbill': 17469, 'immunizations': 17470, '113000': 17471, 'boozman': 17472, 'pollutant': 17473, 'concentrations': 17474, 'ecosystems': 17475, 'technology20': 17476, '11collecting': 17477, 'guardian': 17478, 'survivor': 17479, '100000000': 17480, 'environmentdenali': 17481, 'incomeevery': 17482, 'thereafter': 17483, 'survive': 17484, 'statesten': 17485, '11th': 17486, 'correctionsandupdatesi': 17487, 'ethicsgiving': 17488, 'transportationaccidents': 17489, 'interchange': 17490, 'eems': 17491, 'shark': 17492, 'compliant': 17493, 'specializes': 17494, 'inmigration': 17495, 'governmentefficiencythere': 17496, 'hungerno': 17497, 'feeding': 17498, 'accelerated': 17499, 'narrowed': 17500, 'yougovcom': 17501, 'regret': 17502, 'needing': 17503, 'publichealthcertainly': 17504, 'crimejanice': 17505, 'hahn': 17506, 'gangintervention': 17507, 'stimulustaxpayer': 17508, 'smokers': 17509, 'healthcareecretly': 17510, 'unbeknownst': 17511, 'transportationdemand': 17512, 'heath': 17513, 'voterid': 17514, 'necessari': 17515, 'accumulate': 17516, 'educationamericanschools': 17517, 'segregated': 17518, 'punditsorrin': 17519, 'hatch': 17520, 'chinago': 17521, 'educationover': 17522, 'jihadi': 17523, 'iraqnearly': 17524, 'crimerhode': 17525, 'alcoholrelated': 17526, 'threecentsperounce': 17527, 'familysustaining': 17528, 'teamster': 17529, 'clinical': 17530, 'vaccinating': 17531, 'execute': 17532, 'energycuba': 17533, 'statesupported': 17534, 'electionshere': 17535, 'gavin': 17536, 'newsom': 17537, 'kamala': 17538, 'harri': 17539, 'recreationon': 17540, 'governmentefficiencybecause': 17541, 'cooks': 17542, 'helpers': 17543, 'dmv': 17544, 'k': 17545, 'retirementeniors': 17546, '12500': 17547, 'fourthlowest': 17548, 'greensboro': 17549, 'punditsgov': 17550, 'votingrecordbetty': 17551, 'sensitive': 17552, 'confidenti': 17553, 'religionbarack': 17554, 'terrorismjason': 17555, 'soil': 17556, 'kvamme': 17557, 'clawed': 17558, 'gaysandlesbiansobama': 17559, 'employersponsored': 17560, 'birmingham': 17561, 'nonmuslims': 17562, 'pring': 17563, 'spaceays': 17564, 'tradetom': 17565, 'incl': 17566, 'antigov': 17567, 'populationalmost': 17568, 'taxesdue': 17569, 'afloat': 17570, 'maryellen': 17571, 'ohaughnessy': 17572, 'militarymccain': 17573, 'messagemachine201241': 17574, 'countygovernmentresidents': 17575, '48m': 17576, 'dept': 17577, 'ervic': 17578, 'registrar': 17579, 'hypothet': 17580, 'energygasoline': 17581, 'mccainlieberman': 17582, 'statebudgetit': 17583, 'electionsearly': 17584, 'wasan': 17585, 'participant': 17586, '5cent': 17587, 'inall': 17588, 'outstrip': 17589, 'pul': 17590, 'smuggled': 17591, 'wealthtyler': 17592, 'mcpherson': 17593, 'studio': 17594, 'nuclearirans': 17595, 'watermiamidade': 17596, 'highestrated': 17597, 'ethicspete': 17598, 'adultthemed': 17599, 'nuclearon': 17600, 'jurors': 17601, 'witnesses': 17602, 'lateterm': 17603, 'touted': 17604, 'hardcover': 17605, 'paperback': 17606, 'edit': 17607, 'publicsafetydekalb': 17608, 'ambitious': 17609, 'publichealthmalawi': 17610, 'economytexas': 17611, 'debra': 17612, 'medina': 17613, 'remainder': 17614, 'statefinancesconnecticuts': 17615, 'workerscountries': 17616, 'at1581': 17617, 'at11and': 17618, 'at1235': 17619, 'taxeshealth': 17620, 'renewals': 17621, 'individu': 17622, 'healthcareindividuals': 17623, 'stripped': 17624, 'hutchisons': 17625, 'concession': 17626, 'precincts': 17627, 'sixyear': 17628, 'approving': 17629, 'courageous': 17630, 'restraint': 17631, 'charliecrist': 17632, '20112012': 17633, '4191': 17634, 'religionmost': 17635, 'regress': 17636, 'electionsive': 17637, 'economywisconsin': 17638, 'healthcareinsurance': 17639, 'wmds': 17640, 'honeymoon': 17641, 'dock': 17642, 'tourismwhales': 17643, 'eaworld': 17644, 'messagemachinetwothirds': 17645, 'toprated': 17646, 'economyindependent': 17647, 'unionspoliticians': 17648, 'taxesmichael': 17649, 'regressive': 17650, 'legalissuespeaker': 17651, 'hungeroregon': 17652, 'hungriest': 17653, 'rex': 17654, 'yorkthe': 17655, 'afc': 17656, 'tradealmost': 17657, 'jobsbudget': 17658, 'advising': 17659, 'bluest': 17660, 'laborwisconsins': 17661, 'israelo': 17662, '331247': 17663, 'cancers': 17664, 'taxcut': 17665, 'sportswhen': 17666, 'mentioning': 17667, 'villanovas': 17668, 'buzzerbeating': 17669, 'comefrombehind': 17670, 'victori': 17671, 'deserted': 17672, 'deans': 17673, 'antoniorooted': 17674, 'populationnorth': 17675, 'reasonably': 17676, 'smallbusinessour': 17677, 'legalissuesfederal': 17678, 'digit': 17679, 'populationwelcome': 17680, 'federalbudgetoregon': 17681, 'veteransweve': 17682, 'gunslast': 17683, 'weden': 17684, '10728': 17685, 'detainee': 17686, '40billion': 17687, 'leadup': 17688, 'blown': 17689, 'crimeafricanamericans': 17690, 'governmentcontrolled': 17691, 'infrastructureit': 17692, 'ironic': 17693, 'corp': 17694, 'statebudgetan': 17695, 'inserted': 17696, 'cruelty': 17697, 'recreationim': 17698, 'aints': 17699, 'undefeated': 17700, 'truckers': 17701, 'subst': 17702, 'saidin': 17703, 'stationed': 17704, 'aaron': 17705, 'votingrecordevery': 17706, 'transportationultimately': 17707, 'exhaustive': 17708, 'minneapolis': 17709, 'seg': 17710, 'privacylocal': 17711, 'hubs': 17712, 'treasure': 17713, 'trove': 17714, 'info': 17715, 'poverty70000': 17716, 'threeyearolds': 17717, 'dealt': 17718, 'climbing': 17719, '643': 17720, '205075': 17721, 'shrub': 17722, 'reined': 17723, 'sexualitymore': 17724, 'debtthe': 17725, 'healthcarecharlie': 17726, 'fortunately': 17727, 'transportationwithout': 17728, 'westside': 17729, 'congressfortyseven': 17730, 'sleep': 17731, 'coffers': 17732, 'stimulusaid': 17733, 'dmacon': 17734, 'hungerthe': 17735, 'occupant': 17736, 'governmentassisted': 17737, 'unaffordable': 17738, 'chasing': 17739, 'telephone': 17740, 'landline': 17741, 'wireless': 17742, 'criminaljusticeas': 17743, 'happ': 17744, 'authorizes': 17745, 'crc': 17746, 'governmentregulationthere': 17747, 'details': 17748, 'throwing': 17749, 'stimulusrigells': 17750, 'dealership': 17751, 'environmentthey': 17752, 'campaignadvertisingtom': 17753, 'fs': 17754, 'familiesaysbarack': 17755, 'ofindianas': 17756, 'exual': 17757, 'firefighting': 17758, 'coats': 17759, 'incomefrom': 17760, '20102014': 17761, 'medicaidtheres': 17762, 'peoplecarly': 17763, 'retrospect': 17764, 'punditswoodrow': 17765, 'nurse': 17766, 'transportationnew': 17767, 'miscarriage': 17768, 'insecur': 17769, 'marketregulationpresident': 17770, 'foreignpolicychina': 17771, 'housingmccollum': 17772, 'exaggerated': 17773, 'merited': 17774, 'taxesmany': 17775, 'faso': 17776, 'hales': 17777, 'sweeping': 17778, 'infill': 17779, '8million': 17780, 'educationdavid': 17781, 'marriagebetween': 17782, 'gorillas': 17783, 'campaignadvertisingmy': 17784, 'pollsindependent': 17785, 'tenpoint': 17786, 'acceleration': 17787, 'sexualityvirginia': 17788, 'howell': 17789, 'allied': 17790, 'ex': 17791, 'tafford': 17792, 'statesunlike': 17793, '1336page': 17794, 'hade': 17795, 'startedwaronpoverty': 17796, 'yrs': 17797, 'betterway': 17798, 'immigrationgov': 17799, 'comparative': 17800, 'nuclearhere': 17801, 'andra': 17802, 'oconnor': 17803, 'terrorismmany': 17804, 'conspirators': 17805, 'ayman': 17806, 'zawahiri': 17807, 'khalid': 17808, 'heikh': 17809, 'moham': 17810, 'goodpaying': 17811, 'texasmexico': 17812, 'discretionari': 17813, 'jobaccomplishmentsunlike': 17814, 'gridlock': 17815, 'womenkelly': 17816, 'lameduck': 17817, 'concealedweapon': 17818, 'immigrationometime': 17819, 'israelpresident': 17820, 'egypts': 17821, 'hung': 17822, 'pows': 17823, 'jobaccomplishmentsdodd': 17824, '540000': 17825, 'healthcareohio': 17826, 'gunsteve': 17827, 'antarsiero': 17828, 'pas': 17829, 'sciencetodays': 17830, 'potent': 17831, 'yesteryear': 17832, 'financialregulationix': 17833, 'bribed': 17834, 'devlin': 17835, 'outcomesbased': 17836, 'postsecondary': 17837, '482': 17838, 'environmentmichigan': 17839, 'bottle': 17840, 'redemptions': 17841, 'reformers': 17842, 'clark': 17843, 'dbaraboo': 17844, 'bicyclist': 17845, 'noncollegeeducated': 17846, 'congressmost': 17847, 'prefer': 17848, 'zombies': 17849, 'expended': 17850, '805': 17851, 'importantly': 17852, 'taxesjane': 17853, 'punditswho': 17854, 'jobaccomplishmentsfreshman': 17855, 'terrorismiisends': 17856, 'mediamessages': 17857, 'sexselective': 17858, 'infanticide': 17859, 'egregious': 17860, 'sexlinked': 17861, 'strife': 17862, 'bornagain': 17863, 'religionmccain': 17864, 'hagee': 17865, 'gods': 17866, 'cult': 17867, 'educationmaggie': 17868, 'votingrecordbernie': 17869, 'borderlong': 17870, 'shrinkwrapped': 17871, 'pallets': 17872, 'receipt': 17873, 'overrun': 17874, 'neversaid': 17875, 'punditsdo': 17876, 'wood': 17877, 'jok': 17878, 'immigration50': 17879, 'federalbudgetharry': 17880, 'acid': 17881, 'smartphones': 17882, 'to1': 17883, 'electionstens': 17884, 'warehous': 17885, 'abortionmillennials': 17886, 'riot': 17887, 'unfettered': 17888, '5anight': 17889, 'hotelmotel': 17890, 'economyone': 17891, 'gaming': 17892, 'nadergonzalez': 17893, 'earpiec': 17894, 'minerals': 17895, 'recommends': 17896, 'stateshow': 17897, 'misogynist': 17898, 'bigot': 17899, 'epic': 17900, 'chiefs': 17901, 'manages': 17902, 'frivolous': 17903, 'officerrelated': 17904, 'occupywallstreettoday': 17905, 'income47': 17906, 'americanscant': 17907, 'stimulusdemocrats': 17908, '141000': 17909, 'welfaretwothirds': 17910, 'immigrationinterior': 17911, 'nineyear': 17912, 'militaryneither': 17913, 'workersthanks': 17914, 'teachersalary': 17915, 'publichealthmike': 17916, 'surveil': 17917, 'explicit': 17918, 'myriad': 17919, 'statesunemployment': 17920, 'noncontiguous': 17921, 'incomepersonal': 17922, 'bailed': 17923, 'newhampshire2012mitt': 17924, 'redistrictingbecause': 17925, 'experienc': 17926, 'marijuanaevery': 17927, 'taxesfrank': 17928, 'widows': 17929, 'orphans': 17930, 'obligated': 17931, 'incentive': 17932, 'laboratories': 17933, 'weatherresponding': 17934, 'earthquak': 17935, 'bu': 17936, 'raking': 17937, 'healthcaremedicare': 17938, '15billion': 17939, 'loc': 17940, 'womenupwards': 17941, 'transportationeveryone': 17942, 'expectations': 17943, 'spacepresident': 17944, 'statebudgetalaries': 17945, 'discrimin': 17946, 'governmentissued': 17947, 'taxesfinance': 17948, 'transportationtrimet': 17949, '168k': 17950, 'achievements': 17951, 'spirit': 17952, 'notre': 17953, 'dame': 17954, 'tanford': 17955, 'smallbusiness25000': 17956, 'federallyowned': 17957, 'lesser': 17958, 'healthcaregranite': 17959, 'anthemcan': 17960, 'renew': 17961, 'residentsand': 17962, 'quarterofamillion': 17963, 'healthcarethey': 17964, 'swearingin': 17965, 'ram': 17966, 'womenlizbeth': 17967, 'benacquistos': 17968, 'hartsfieldjackson': 17969, 'terminal': 17970, 'incomeby': 17971, 'hears': 17972, 'welloff': 17973, 'transportationdespite': 17974, 'carpool': 17975, 'carpooled': 17976, 'uvs': 17977, 'veterans22': 17978, '2054th': 17979, '9999': 17980, 'mild': 17981, 'evere': 17982, 'intensive': 17983, 'supremecourtblocking': 17984, 'floridain': 17985, 'trickle': 17986, 'militaryvenezuela': 17987, '1600th': 17988, 'stranded': 17989, 'eddie': 17990, 'bernice': 17991, 'ocialists': 17992, 'debatenot': 17993, 'alwaleed': 17994, 'talal': 17995, 'pollsbarack': 17996, 'legalissuesaustin': 17997, 'adler': 17998, 'jobsobamanelson': 17999, 'slowest': 18000, 'postrecession': 18001, 'populationaustin': 18002, 'dir': 18003, 'statebudgetgovernors': 18004, 'dh': 18005, 'energytexas': 18006, 'tenandahalf': 18007, 'alcoholay': 18008, 'easing': 18009, 'exterior': 18010, 'occupants': 18011, 'statebudgetby': 18012, 'drained': 18013, '360000': 18014, 'rental': 18015, '874billion': 18016, 'manifests': 18017, 'ethicsten': 18018, 'incorporates': 18019, 'sportsheres': 18020, 'chiano': 18021, 'votingrecordpresident': 18022, 'cientific': 18023, 'taxesfifty': 18024, 'publichealthmarijuana': 18025, 'surpass': 18026, 'consumersafetyevery': 18027, 'slipped': 18028, 'healthcareher': 18029, '110billion': 18030, 'transportationtailpipe': 18031, 'onehundredths': 18032, '2050': 18033, 'taxesundocumented': 18034, 'primaryage': 18035, '320': 18036, 'campaignadvertisingjames': 18037, 'brandes': 18038, 'dump': 18039, 'transparencywere': 18040, 'jobsderegulation': 18041, 'urbanthis': 18042, 'legalissuesdo': 18043, 'gaspriceswithout': 18044, 'unbelievable': 18045, 'sounds': 18046, 'zombie': 18047, 'apocalypse': 18048, 'israelisraels': 18049, 'threefourths': 18050, 'crimeat': 18051, 'molesting': 18052, 'drunkendriving': 18053, 'education95': 18054, 'principals': 18055, 'implicated': 18056, 'worthless': 18057, 'floridawhen': 18058, 'homosexuality': 18059, 'squat': 18060, 'subsidi': 18061, 'militaryu': 18062, 'newhampshire2012during': 18063, 'jongll': 18064, 'chavez': 18065, 'militaryi': 18066, 'accountable': 18067, 'forged': 18068, 'messagemachine2012despite': 18069, 'barehanded': 18070, 'olbermann': 18071, 'jobsaid': 18072, 'transportationgreenlight': 18073, 'publicservicemost': 18074, 'ags': 18075, 'populationeight': 18076, 'federalbudgetlast': 18077, 'investor': 18078, 'taxesbrookhaven': 18079, 'samevalue': 18080, 'unincorporated': 18081, 'furious': 18082, 'gunwalking': 18083, 'electionseverything': 18084, 'accur': 18085, 'diesel': 18086, '1949': 18087, 'tribuneseditorial': 18088, 'leslie': 18089, 'munger': 18090, 'redistrictingdemcontrolled': 18091, 'boundari': 18092, 'inintellectual': 18093, 'launchers': 18094, 'mostregressive': 18095, 'structur': 18096, 'statesi': 18097, 'actthan': 18098, 'concealandcarry': 18099, 'keystonexl': 18100, 'weatherhurricane': 18101, 'percentjon': 18102, 'corzin': 18103, 'endure': 18104, 'legalissuescanadianborn': 18105, 'punditswith': 18106, 'tanley': 18107, 'pediatrics': 18108, 'criminaljusticemilwaukee': 18109, 'calm': 18110, 'environmentwoonsocket': 18111, 'garbageburning': 18112, 'fueled': 18113, 'someones': 18114, 'lawn': 18115, 'overgrown': 18116, 'barking': 18117, 'loudli': 18118, 'healthcaredonald': 18119, 'immigrationprince': 18120, 'governmentregulationwhat': 18121, 'limitedly': 18122, 'technologyunder': 18123, 'publicserviceohaughnessy': 18124, 'stoned': 18125, 'adulteryand': 18126, 'richardsondenish': 18127, 'gaspricesoil': 18128, 'womenalmost': 18129, '328': 18130, 'patriotismobama': 18131, 'anthem': 18132, 'irving': 18133, 'prosecutorial': 18134, 'educationrhode': 18135, 'twentythree': 18136, 'gonzalo': 18137, 'curiel': 18138, 'promexican': 18139, 'fatherinlaw': 18140, 'linwood': 18141, 'integrated': 18142, 'patriotismi': 18143, 'pins': 18144, 'pin': 18145, 'rwisconsin': 18146, 'urbantarpon': 18147, 'auschwitz': 18148, 'concentration': 18149, 'historymaking': 18150, 'tuitionfree': 18151, '248': 18152, 'apex': 18153, 'transportationdelta': 18154, 'masshealth': 18155, 'kerri': 18156, 'analyzed': 18157, 'deficitneutral': 18158, 'beruff': 18159, 'mechanisms': 18160, 'priv': 18161, 'dovilla': 18162, 'diversitywhen': 18163, 'aerial': 18164, 'wildlif': 18165, 'iraqhillary': 18166, 'energywhen': 18167, 'sofa': 18168, 'encourag': 18169, 'distinguish': 18170, 'taxesany': 18171, 'votingrecordhank': 18172, 'vets': 18173, 'unionsevery': 18174, 'tradejohn': 18175, 'sciencetells': 18176, 'natur': 18177, 'messagemachineed': 18178, 'perlmutter': 18179, 'statesabout': 18180, 'meaningful': 18181, 'housingthere': 18182, 'surv': 18183, 'weathernorth': 18184, 'windfarm': 18185, 'factored': 18186, 'mossad': 18187, 'hin': 18188, 'stimulusherrod': 18189, 'foreignpolicyhe': 18190, 'subcommittee': 18191, 'militaryfleeing': 18192, 'publichealth200000': 18193, 'constitutionally': 18194, 'scuttle': 18195, 'ethicsrep': 18196, 'petrarca': 18197, 'sciencemarijuana': 18198, 'exacerbated': 18199, 'federalbudgettwice': 18200, '11plus': 18201, 'realistic': 18202, 'soup': 18203, 'kitchen': 18204, 'abortionas': 18205, 'patientdoctor': 18206, 'debtwhat': 18207, 'duration': 18208, 'workersi': 18209, 'gunstexas': 18210, 'express': 18211, 'messagemachinejoe': 18212, 'transportationthanks': 18213}\n"
          ]
        }
      ]
    },
    {
      "cell_type": "code",
      "source": [
        "tokenizer.word_counts"
      ],
      "metadata": {
        "id": "Hl84WIhd_dGL",
        "colab": {
          "base_uri": "https://localhost:8080/"
        },
        "outputId": "9afc1846-f007-45a8-bed7-5097cb2f8a74"
      },
      "execution_count": 27,
      "outputs": [
        {
          "output_type": "execute_result",
          "data": {
            "text/plain": [
              "OrderedDict([('veteransits', 1),\n",
              "             ('nearly', 141),\n",
              "             ('three', 154),\n",
              "             ('weeks', 30),\n",
              "             ('since', 250),\n",
              "             ('president', 473),\n",
              "             ('commented', 1),\n",
              "             ('questions', 9),\n",
              "             ('possible', 15),\n",
              "             ('hidden', 6),\n",
              "             ('wait', 7),\n",
              "             ('lists', 3),\n",
              "             ('veterans', 60),\n",
              "             ('hospit', 5),\n",
              "             ('educationwe', 14),\n",
              "             ('six', 75),\n",
              "             ('school', 241),\n",
              "             ('districts', 27),\n",
              "             ('140', 5),\n",
              "             ('150', 21),\n",
              "             ('days', 64),\n",
              "             ('year', 739),\n",
              "             ('crime', 449),\n",
              "             ('immigration134000', 1),\n",
              "             ('criminal', 35),\n",
              "             ('aliens', 15),\n",
              "             ('released', 25),\n",
              "             ('obama', 610),\n",
              "             ('administration', 121),\n",
              "             ('past', 93),\n",
              "             ('two', 161),\n",
              "             ('elections', 308),\n",
              "             ('immigration', 242),\n",
              "             ('messagemachine2012ays', 55),\n",
              "             ('newt', 12),\n",
              "             ('gingrich', 20),\n",
              "             ('said', 363),\n",
              "             ('panish', 5),\n",
              "             ('language', 8),\n",
              "             ('ghetto', 1),\n",
              "             ('electionsays', 73),\n",
              "             ('jeb', 20),\n",
              "             ('bush', 145),\n",
              "             ('would', 527),\n",
              "             ('take', 107),\n",
              "             ('pants', 3),\n",
              "             ('moon', 2),\n",
              "             ('everybody', 16),\n",
              "             ('nobody', 13),\n",
              "             ('report', 43),\n",
              "             ('candidatesbiographypaul', 1),\n",
              "             ('ryan', 39),\n",
              "             ('actually', 120),\n",
              "             ('proposed', 98),\n",
              "             ('total', 48),\n",
              "             ('bills', 48),\n",
              "             ('become', 27),\n",
              "             ('law', 308),\n",
              "             ('entire', 61),\n",
              "             ('career', 18),\n",
              "             ('dating', 5),\n",
              "             ('back', 103),\n",
              "             ('1999', 6),\n",
              "             ('historythe', 16),\n",
              "             ('words', 15),\n",
              "             ('subhuman', 2),\n",
              "             ('mongrel', 1),\n",
              "             ('ted', 37),\n",
              "             ('nugent', 1),\n",
              "             ('called', 70),\n",
              "             ('barack', 294),\n",
              "             ('used', 85),\n",
              "             ('nazis', 3),\n",
              "             ('justify', 3),\n",
              "             ('genocide', 3),\n",
              "             ('jewish', 7),\n",
              "             ('commun', 10),\n",
              "             ('statebudget', 340),\n",
              "             ('statefinancesthe', 13),\n",
              "             ('36', 24),\n",
              "             ('billion', 384),\n",
              "             ('deficit', 296),\n",
              "             ('inherited', 11),\n",
              "             ('turned', 22),\n",
              "             ('halfbilliondollar', 1),\n",
              "             ('surplu', 10),\n",
              "             ('congress', 335),\n",
              "             ('diversity', 74),\n",
              "             ('religionthere', 4),\n",
              "             ('278', 1),\n",
              "             ('republicans', 106),\n",
              "             ('eric', 14),\n",
              "             ('cantors', 1),\n",
              "             ('defeat', 6),\n",
              "             ('christian', 16),\n",
              "             ('white', 82),\n",
              "             ('except', 16),\n",
              "             ('one', 396),\n",
              "             ('black', 52),\n",
              "             ('senator', 22),\n",
              "             ('appoint', 6),\n",
              "             ('climatechange', 126),\n",
              "             ('energy', 323),\n",
              "             ('environment', 209),\n",
              "             ('jobsays', 66),\n",
              "             ('bill', 322),\n",
              "             ('clinton', 246),\n",
              "             ('george', 77),\n",
              "             ('say', 84),\n",
              "             ('build', 40),\n",
              "             ('keystone', 20),\n",
              "             ('xl', 14),\n",
              "             ('economy', 1036),\n",
              "             ('transportationonly', 1),\n",
              "             ('18', 53),\n",
              "             ('percent', 998),\n",
              "             ('jobs', 707),\n",
              "             ('accessible', 1),\n",
              "             ('transit', 11),\n",
              "             ('metro', 12),\n",
              "             ('atlanta', 45),\n",
              "             ('residents', 34),\n",
              "             ('33', 14),\n",
              "             ('living', 32),\n",
              "             ('c', 23),\n",
              "             ('china', 109),\n",
              "             ('debt', 296),\n",
              "             ('federalbudget', 477),\n",
              "             ('foreignpolicy', 335),\n",
              "             ('messagemachine2012we', 1),\n",
              "             ('borrow', 9),\n",
              "             ('4', 69),\n",
              "             ('every', 317),\n",
              "             ('single', 88),\n",
              "             ('day', 154),\n",
              "             ('much', 93),\n",
              "             ('bushadministration', 24),\n",
              "             ('fakenews', 2),\n",
              "             ('governmentefficiency', 105),\n",
              "             ('history', 358),\n",
              "             ('jobaccomplishments', 184),\n",
              "             ('votingrecordays', 78),\n",
              "             ('taken', 47),\n",
              "             ('less', 151),\n",
              "             ('vacation', 10),\n",
              "             ('generation', 6),\n",
              "             ('histori', 51),\n",
              "             ('healthcareobamacarecaused', 1),\n",
              "             ('paperwork', 3),\n",
              "             ('annually', 9),\n",
              "             ('absorb', 1),\n",
              "             ('190', 3),\n",
              "             ('million', 494),\n",
              "             ('hours', 35),\n",
              "             ('moreand', 1),\n",
              "             ('mount', 2),\n",
              "             ('rushmore', 2),\n",
              "             ('could', 161),\n",
              "             ('built', 22),\n",
              "             ('1547', 1),\n",
              "             ('times', 134),\n",
              "             ('trademake', 1),\n",
              "             ('mistake', 3),\n",
              "             ('herrod', 19),\n",
              "             ('brown', 41),\n",
              "             ('main', 5),\n",
              "             ('dc', 27),\n",
              "             ('politicians', 17),\n",
              "             ('responsible', 24),\n",
              "             ('ohio', 107),\n",
              "             ('moving', 20),\n",
              "             ('afghanistan', 81),\n",
              "             ('iraq', 139),\n",
              "             ('terrorismin', 9),\n",
              "             ('obamas', 146),\n",
              "             ('2015', 24),\n",
              "             ('tate', 85),\n",
              "             ('union', 60),\n",
              "             ('address', 22),\n",
              "             ('alqaida', 10),\n",
              "             ('never', 166),\n",
              "             ('first', 241),\n",
              "             ('time', 197),\n",
              "             ('february', 7),\n",
              "             ('2001', 21),\n",
              "             ('povertyince', 4),\n",
              "             ('rick', 112),\n",
              "             ('perry', 56),\n",
              "             ('became', 43),\n",
              "             ('governor', 181),\n",
              "             ('poverty', 131),\n",
              "             ('rates', 87),\n",
              "             ('texas', 300),\n",
              "             ('increased', 76),\n",
              "             ('151', 2),\n",
              "             ('175', 3),\n",
              "             ('higher', 107),\n",
              "             ('national', 183),\n",
              "             ('averag', 20),\n",
              "             ('healthcareunder', 12),\n",
              "             ('health', 563),\n",
              "             ('care', 438),\n",
              "             ('proposal', 46),\n",
              "             ('youve', 13),\n",
              "             ('got', 116),\n",
              "             ('plan', 258),\n",
              "             ('like', 135),\n",
              "             ('keep', 72),\n",
              "             ('stimulus', 152),\n",
              "             ('transportationone', 3),\n",
              "             ('state', 624),\n",
              "             ('even', 214),\n",
              "             ('spent', 107),\n",
              "             ('bucks', 10),\n",
              "             ('put', 96),\n",
              "             ('signs', 9),\n",
              "             ('advertise', 1),\n",
              "             ('spending', 202),\n",
              "             ('federal', 352),\n",
              "             ('project', 29),\n",
              "             ('education', 520),\n",
              "             ('healthcare', 619),\n",
              "             ('publichealthin', 3),\n",
              "             ('rhode', 62),\n",
              "             ('island', 83),\n",
              "             ('25', 93),\n",
              "             ('current', 47),\n",
              "             ('physicians', 3),\n",
              "             ('graduates', 9),\n",
              "             ('forprofit', 5),\n",
              "             ('medical', 49),\n",
              "             ('animals', 44),\n",
              "             ('recreation', 20),\n",
              "             ('statefinances18', 1),\n",
              "             ('land', 34),\n",
              "             ('right', 150),\n",
              "             ('either', 31),\n",
              "             ('federally', 3),\n",
              "             ('county', 146),\n",
              "             ('owned', 7),\n",
              "             ('conservation', 3),\n",
              "             ('purpos', 2),\n",
              "             ('publichealth', 94),\n",
              "             ('states', 272),\n",
              "             ('supremecourtthe', 6),\n",
              "             ('affordable', 48),\n",
              "             ('act', 138),\n",
              "             ('countygovernment', 46),\n",
              "             ('criminaljustice', 186),\n",
              "             ('publicsafetythe', 7),\n",
              "             ('racial', 4),\n",
              "             ('ethnic', 1),\n",
              "             ('makeup', 4),\n",
              "             ('gwinnett', 5),\n",
              "             ('heriffs', 2),\n",
              "             ('office', 152),\n",
              "             ('mirrors', 2),\n",
              "             ('community', 31),\n",
              "             ('serv', 8),\n",
              "             ('children', 308),\n",
              "             ('educationthis', 3),\n",
              "             ('blackstone', 1),\n",
              "             ('valley', 5),\n",
              "             ('mayoral', 6),\n",
              "             ('academy', 2),\n",
              "             ('public', 210),\n",
              "             ('100', 89),\n",
              "             ('elementaryage', 1),\n",
              "             ('students', 86),\n",
              "             ('proficient', 1),\n",
              "             ('reading', 10),\n",
              "             ('assess', 2),\n",
              "             ('pollsif', 3),\n",
              "             ('fox', 11),\n",
              "             ('news', 30),\n",
              "             ('presidential', 50),\n",
              "             ('debate', 33),\n",
              "             ('rules', 27),\n",
              "             ('place', 31),\n",
              "             ('the1992', 1),\n",
              "             ('electionbill', 1),\n",
              "             ('wouldnt', 20),\n",
              "             ('beenon', 1),\n",
              "             ('stag', 2),\n",
              "             ('countybudget', 46),\n",
              "             ('recreationmilwaukee', 1),\n",
              "             ('parks', 10),\n",
              "             ('capital', 21),\n",
              "             ('budget', 327),\n",
              "             ('thats', 113),\n",
              "             ('bigger', 13),\n",
              "             ('last', 273),\n",
              "             ('10', 186),\n",
              "             ('socialsecuritytoday', 2),\n",
              "             ('ocial', 117),\n",
              "             ('ecurity', 106),\n",
              "             ('system', 115),\n",
              "             ('brok', 3),\n",
              "             ('welfare60', 1),\n",
              "             ('people', 528),\n",
              "             ('food', 69),\n",
              "             ('assistance', 12),\n",
              "             ('work', 154),\n",
              "             ('foreignpolicythe', 16),\n",
              "             ('geography', 1),\n",
              "             ('changed', 31),\n",
              "             ('fundamentally', 2),\n",
              "             ('15', 90),\n",
              "             ('years', 404),\n",
              "             ('concentrated', 2),\n",
              "             ('fragile', 1),\n",
              "             ('conflict', 8),\n",
              "             ('st', 110),\n",
              "             ('legalissuesmy', 3),\n",
              "             ('position', 26),\n",
              "             ('hasnt', 35),\n",
              "             ('using', 31),\n",
              "             ('executive', 43),\n",
              "             ('authority', 20),\n",
              "             ('issu', 14),\n",
              "             ('gaspricesthe', 5),\n",
              "             ('failed', 46),\n",
              "             ('economic', 90),\n",
              "             ('policies', 41),\n",
              "             ('democrats', 123),\n",
              "             ('reserve', 18),\n",
              "             ('making', 62),\n",
              "             ('gas', 77),\n",
              "             ('prices', 28),\n",
              "             ('americas', 23),\n",
              "             ('running', 48),\n",
              "             ('fum', 1),\n",
              "             ('healthcareblue', 2),\n",
              "             ('cross', 5),\n",
              "             ('new', 435),\n",
              "             ('90million', 1),\n",
              "             ('providence', 21),\n",
              "             ('headquarters', 5),\n",
              "             ('outfitted', 1),\n",
              "             ('decor', 1),\n",
              "             ('sexuality', 14),\n",
              "             ('womennearly', 3),\n",
              "             ('five', 112),\n",
              "             ('women', 181),\n",
              "             ('america', 175),\n",
              "             ('victim', 8),\n",
              "             ('rape', 34),\n",
              "             ('attempted', 10),\n",
              "             ('rap', 8),\n",
              "             ('healthcareays', 77),\n",
              "             ('expected', 11),\n",
              "             ('destroy', 10),\n",
              "             ('23', 24),\n",
              "             ('job', 257),\n",
              "             ('energycontends', 1),\n",
              "             ('literally', 14),\n",
              "             ('capandtrade', 48),\n",
              "             ('proposals', 9),\n",
              "             ('pass', 47),\n",
              "             ('utility', 12),\n",
              "             ('necessarily', 2),\n",
              "             ('skyrocket', 4),\n",
              "             ('gunswe', 8),\n",
              "             ('someone', 33),\n",
              "             ('week', 42),\n",
              "             ('neenah', 1),\n",
              "             ('near', 23),\n",
              "             ('kill', 28),\n",
              "             ('bow', 1),\n",
              "             ('arrow', 1),\n",
              "             ('energymccains', 1),\n",
              "             ('singleanswer', 1),\n",
              "             ('proposition', 5),\n",
              "             ('domestic', 38),\n",
              "             ('oil', 135),\n",
              "             ('dril', 14),\n",
              "             ('homelandsecurity', 88),\n",
              "             ('terrorismthe', 41),\n",
              "             ('department', 105),\n",
              "             ('homeland', 9),\n",
              "             ('funded', 25),\n",
              "             ('fiscal', 34),\n",
              "             ('statebudgetflorida', 3),\n",
              "             ('ranks', 35),\n",
              "             ('45th', 4),\n",
              "             ('nation', 84),\n",
              "             ('tuit', 11),\n",
              "             ('welfareays', 14),\n",
              "             ('11', 53),\n",
              "             ('welfare', 30),\n",
              "             ('employ', 3),\n",
              "             ('messagemachine', 102),\n",
              "             ('retirement', 73),\n",
              "             ('workersjerry', 1),\n",
              "             ('gave', 51),\n",
              "             ('california', 37),\n",
              "             ('employees', 78),\n",
              "             ('collective', 24),\n",
              "             ('bargaining', 23),\n",
              "             ('powers', 3),\n",
              "             ('retire', 8),\n",
              "             ('55', 15),\n",
              "             ('salary', 16),\n",
              "             ('lif', 16),\n",
              "             ('correctionsandupdates', 173),\n",
              "             ('science', 35),\n",
              "             ('spaceyouve', 1),\n",
              "             ('tremendously', 1),\n",
              "             ('deceived', 1),\n",
              "             ('earth', 22),\n",
              "             ('flat', 14),\n",
              "             ('abortionon', 5),\n",
              "             ('allowing', 26),\n",
              "             ('abortion', 235),\n",
              "             ('cases', 33),\n",
              "             ('incest', 16),\n",
              "             ('advoc', 2),\n",
              "             ('jobsthe', 48),\n",
              "             ('u', 379),\n",
              "             ('unemployment', 151),\n",
              "             ('rate', 246),\n",
              "             ('massaged', 2),\n",
              "             ('doctor', 12),\n",
              "             ('healthcareobamacare', 11),\n",
              "             ('carries', 3),\n",
              "             ('government', 291),\n",
              "             ('shutdown', 12),\n",
              "             ('corporations', 160),\n",
              "             ('medicaid', 122),\n",
              "             ('workersays', 55),\n",
              "             ('walmart', 10),\n",
              "             ('represent', 9),\n",
              "             ('largest', 87),\n",
              "             ('group', 46),\n",
              "             ('stamp', 20),\n",
              "             ('recipients', 6),\n",
              "             ('many', 93),\n",
              "             ('costing', 15),\n",
              "             ('taxpayer', 47),\n",
              "             ('1000', 27),\n",
              "             ('per', 159),\n",
              "             ('terrorismays', 64),\n",
              "             ('picture', 7),\n",
              "             ('posted', 5),\n",
              "             ('facebook', 10),\n",
              "             ('man', 48),\n",
              "             ('posing', 1),\n",
              "             ('front', 8),\n",
              "             ('decapitated', 1),\n",
              "             ('human', 19),\n",
              "             ('heads', 2),\n",
              "             ('mongrels', 1),\n",
              "             ('set', 27),\n",
              "             ('fre', 6),\n",
              "             ('debtunder', 3),\n",
              "             ('eight', 53),\n",
              "             ('added', 42),\n",
              "             ('49', 13),\n",
              "             ('trillion', 113),\n",
              "             ('weve', 76),\n",
              "             ('53', 9),\n",
              "             ('35', 38),\n",
              "             ('hes', 61),\n",
              "             ('offic', 64),\n",
              "             ('ethicsi', 9),\n",
              "             ('believe', 34),\n",
              "             ('enator', 24),\n",
              "             ('raised', 75),\n",
              "             ('money', 266),\n",
              "             ('industry', 42),\n",
              "             ('candidate', 114),\n",
              "             ('democrat', 80),\n",
              "             ('republican', 229),\n",
              "             ('income', 297),\n",
              "             ('taxes', 380),\n",
              "             ('wealthunder', 2),\n",
              "             ('donald', 127),\n",
              "             ('trumps', 24),\n",
              "             ('tax', 745),\n",
              "             ('top', 98),\n",
              "             ('01', 1),\n",
              "             ('taxpayers', 62),\n",
              "             ('earning', 17),\n",
              "             ('multiple', 12),\n",
              "             ('millions', 87),\n",
              "             ('dollars', 144),\n",
              "             ('average', 176),\n",
              "             ('get', 220),\n",
              "             ('relief', 19),\n",
              "             ('bottom', 24),\n",
              "             ('60', 60),\n",
              "             ('combin', 50),\n",
              "             ('gaysandlesbians', 83),\n",
              "             ('marriagethe', 3),\n",
              "             ('massachusetts', 46),\n",
              "             ('upreme', 64),\n",
              "             ('courtdefined', 1),\n",
              "             ('marriage', 49),\n",
              "             ('simply', 20),\n",
              "             ('quotethe', 1),\n",
              "             ('establishment', 4),\n",
              "             ('intimacy', 1),\n",
              "             ('guess', 8),\n",
              "             ('mean', 18),\n",
              "             ('really', 27),\n",
              "             ('affection', 1),\n",
              "             ('horse', 4),\n",
              "             ('marry', 4),\n",
              "             ('hors', 1),\n",
              "             ('messagemachineu', 1),\n",
              "             ('rep', 100),\n",
              "             ('jim', 27),\n",
              "             ('marshall', 3),\n",
              "             ('dga', 2),\n",
              "             ('refuses', 5),\n",
              "             ('return', 20),\n",
              "             ('37000', 1),\n",
              "             ('dirty', 7),\n",
              "             ('campaign', 167),\n",
              "             ('contributions', 29),\n",
              "             ('charles', 3),\n",
              "             ('rangel', 1),\n",
              "             ('dni', 1),\n",
              "             ('healthcareof', 1),\n",
              "             ('wealthiest', 12),\n",
              "             ('nations', 58),\n",
              "             ('doesnt', 90),\n",
              "             ('provide', 36),\n",
              "             ('basic', 15),\n",
              "             ('coverag', 21),\n",
              "             ('povertyover', 2),\n",
              "             ('deep', 5),\n",
              "             ('reached', 13),\n",
              "             ('highest', 131),\n",
              "             ('level', 59),\n",
              "             ('record', 92),\n",
              "             ('taxesa', 14),\n",
              "             ('far', 50),\n",
              "             ('different', 30),\n",
              "             ('prior', 11),\n",
              "             ('saw', 23),\n",
              "             ('115', 3),\n",
              "             ('increases', 32),\n",
              "             ('fe', 9),\n",
              "             ('medicarewe', 5),\n",
              "             ('know', 94),\n",
              "             ('stole', 3),\n",
              "             ('500', 57),\n",
              "             ('medicare', 231),\n",
              "             ('switch', 4),\n",
              "             ('obamacar', 55),\n",
              "             ('healthcarethere', 5),\n",
              "             ('300000', 21),\n",
              "             ('babies', 15),\n",
              "             ('born', 40),\n",
              "             ('deformed', 1),\n",
              "             ('country', 210),\n",
              "             ('alcoholics', 1),\n",
              "             ('theyre', 57),\n",
              "             ('carrying', 8),\n",
              "             ('term', 38),\n",
              "             ('debates', 58),\n",
              "             ('iraqregarding', 1),\n",
              "             ('war', 106),\n",
              "             ('dont', 189),\n",
              "             ('go', 147),\n",
              "             ('youre', 52),\n",
              "             ('going', 159),\n",
              "             ('destabilize', 2),\n",
              "             ('middle', 65),\n",
              "             ('east', 20),\n",
              "             ('energyif', 5),\n",
              "             ('stops', 2),\n",
              "             ('adding', 10),\n",
              "             ('trategic', 4),\n",
              "             ('petroleum', 3),\n",
              "             ('lessen', 1),\n",
              "             ('worldwide', 3),\n",
              "             ('demand', 8),\n",
              "             ('reduce', 35),\n",
              "             ('pric', 6),\n",
              "             ('occupywallstreet', 6),\n",
              "             ('publicsafetyon', 2),\n",
              "             ('letting', 6),\n",
              "             ('occupy', 3),\n",
              "             ('protesters', 9),\n",
              "             ('stay', 24),\n",
              "             ('woodruff', 1),\n",
              "             ('park', 15),\n",
              "             ('afghanistanin', 2),\n",
              "             ('months', 70),\n",
              "             ('alone', 20),\n",
              "             ('apprehended', 7),\n",
              "             ('extremists', 9),\n",
              "             ('within', 32),\n",
              "             ('borders', 6),\n",
              "             ('sent', 54),\n",
              "             ('border', 66),\n",
              "             ('region', 13),\n",
              "             ('pakistan', 11),\n",
              "             ('commit', 14),\n",
              "             ('acts', 3),\n",
              "             ('terror', 19),\n",
              "             ('punditsthe', 16),\n",
              "             ('presidents', 44),\n",
              "             ('cause', 27),\n",
              "             ('americans', 189),\n",
              "             ('premiums', 28),\n",
              "             ('decreased', 11),\n",
              "             ('hundreds', 39),\n",
              "             ('lose', 31),\n",
              "             ('insurance', 161),\n",
              "             ('drugs', 85),\n",
              "             ('governmentregulation', 150),\n",
              "             ('guns', 165),\n",
              "             ('publicsafetywashington', 1),\n",
              "             ('strictest', 5),\n",
              "             ('gun', 137),\n",
              "             ('laws', 52),\n",
              "             ('passed', 114),\n",
              "             ('violence', 39),\n",
              "             ('candidatesbiographyays', 68),\n",
              "             ('release', 15),\n",
              "             ('returns', 10),\n",
              "             ('candidatesbiographyoy', 1),\n",
              "             ('el', 8),\n",
              "             ('nico', 1),\n",
              "             ('official', 13),\n",
              "             ('estatal', 1),\n",
              "             ('quin', 1),\n",
              "             ('es', 1),\n",
              "             ('un', 10),\n",
              "             ('hombre', 1),\n",
              "             ('de', 2),\n",
              "             ('negocio', 1),\n",
              "             ('obamaclinton', 1),\n",
              "             ('coal', 18),\n",
              "             ('cost', 158),\n",
              "             ('michigan', 12),\n",
              "             ('50000', 26),\n",
              "             ('statebudgetays', 92),\n",
              "             ('trust', 14),\n",
              "             ('fund', 108),\n",
              "             ('broke', 19),\n",
              "             ('govern', 34),\n",
              "             ('messagemachine2012', 114),\n",
              "             ('10newstampabay20', 1),\n",
              "             ('coverage', 47),\n",
              "             ('including', 69),\n",
              "             ('senior', 28),\n",
              "             ('citizens', 47),\n",
              "             ('medicar', 31),\n",
              "             ('gunsunder', 3),\n",
              "             ('virginia', 61),\n",
              "             ('nonfederally', 1),\n",
              "             ('licensed', 7),\n",
              "             ('dealer', 4),\n",
              "             ('cannot', 21),\n",
              "             ('background', 52),\n",
              "             ('check', 50),\n",
              "             ('want', 78),\n",
              "             ('on', 21),\n",
              "             ('statesutah', 1),\n",
              "             ('1', 232),\n",
              "             ('creator', 4),\n",
              "             ('service', 25),\n",
              "             ('59', 3),\n",
              "             ('increase', 140),\n",
              "             ('jobsmary', 2),\n",
              "             ('burkes', 4),\n",
              "             ('130000', 5),\n",
              "             ('fewer', 40),\n",
              "             ('taxesince', 1),\n",
              "             ('1995', 4),\n",
              "             ('400', 30),\n",
              "             ('families', 163),\n",
              "             ('seen', 44),\n",
              "             ('incomes', 9),\n",
              "             ('40', 108),\n",
              "             ('perc', 168),\n",
              "             ('punditsays', 19),\n",
              "             ('hosted', 2),\n",
              "             ('conference', 4),\n",
              "             ('ordered', 17),\n",
              "             ('250', 16),\n",
              "             ('muffins', 1),\n",
              "             ('16', 50),\n",
              "             ('piec', 4),\n",
              "             ('florida', 216),\n",
              "             ('statesays', 24),\n",
              "             ('foster', 3),\n",
              "             ('mayor', 57),\n",
              "             ('kriseman', 1),\n",
              "             ('ineffective', 4),\n",
              "             ('house', 169),\n",
              "             ('representatives', 21),\n",
              "             ('legislation', 81),\n",
              "             ('krisemans', 1),\n",
              "             ('nam', 3),\n",
              "             ('didnt', 92),\n",
              "             ('offer', 7),\n",
              "             ('special', 40),\n",
              "             ('incentives', 4),\n",
              "             ('deutsche', 1),\n",
              "             ('bank', 35),\n",
              "             ('announced', 17),\n",
              "             ('add', 21),\n",
              "             ('300', 32),\n",
              "             ('redistrictingays', 10),\n",
              "             ('naacps', 1),\n",
              "             ('chapter', 4),\n",
              "             ('endorsed', 17),\n",
              "             ('issue', 18),\n",
              "             ('2', 95),\n",
              "             ('economyhes', 1),\n",
              "             ('promising', 3),\n",
              "             ('four', 136),\n",
              "             ('push', 8),\n",
              "             ('privatization', 6),\n",
              "             ('ecur', 27),\n",
              "             ('candidatesbiographyon', 6),\n",
              "             ('occasions', 2),\n",
              "             ('judges', 13),\n",
              "             ('stop', 43),\n",
              "             ('jason', 3),\n",
              "             ('kander', 4),\n",
              "             ('manipulating', 1),\n",
              "             ('elect', 44),\n",
              "             ('transportationclackamas', 1),\n",
              "             ('commissioners', 4),\n",
              "             ('approved', 21),\n",
              "             ('renegotiated', 2),\n",
              "             ('agreement', 26),\n",
              "             ('lower', 54),\n",
              "             ('countys', 9),\n",
              "             ('contribution', 8),\n",
              "             ('trimets', 1),\n",
              "             ('portlandmilwaukie', 2),\n",
              "             ('light', 26),\n",
              "             ('rail', 21),\n",
              "             ('199', 2),\n",
              "             ('messagemachine2014', 25),\n",
              "             ('womenays', 52),\n",
              "             ('mitch', 9),\n",
              "             ('mcconnell', 11),\n",
              "             ('voted', 327),\n",
              "             ('campaignadvertising', 23),\n",
              "             ('polls', 54),\n",
              "             ('publicsafetynot', 2),\n",
              "             ('guts', 2),\n",
              "             ('recognize', 5),\n",
              "             ('climate', 39),\n",
              "             ('change', 55),\n",
              "             ('r', 48),\n",
              "             ('statesin', 6),\n",
              "             ('seven', 50),\n",
              "             ('tenure', 10),\n",
              "             ('created', 130),\n",
              "             ('matter', 15),\n",
              "             ('fact', 47),\n",
              "             ('without', 117),\n",
              "             ('lost', 121),\n",
              "             ('400000', 15),\n",
              "             ('religionin', 4),\n",
              "             ('oregon', 53),\n",
              "             ('skipping', 3),\n",
              "             ('math', 10),\n",
              "             ('class', 51),\n",
              "             ('learn', 6),\n",
              "             ('b', 8),\n",
              "             ('immigrationfences', 1),\n",
              "             ('worked', 33),\n",
              "             ('great', 49),\n",
              "             ('wall', 56),\n",
              "             ('berlin', 1),\n",
              "             ('good', 39),\n",
              "             ('among', 65),\n",
              "             ('peoples', 9),\n",
              "             ('especially', 7),\n",
              "             ('friends', 14),\n",
              "             ('united', 302),\n",
              "             ('tates', 234),\n",
              "             ('mexico', 48),\n",
              "             ('publicsafetyays', 18),\n",
              "             ('arrested', 13),\n",
              "             ('criminals', 9),\n",
              "             ('thousands', 54),\n",
              "             ('child', 63),\n",
              "             ('predators', 3),\n",
              "             ('sex', 37),\n",
              "             ('offenders', 10),\n",
              "             ('previous', 27),\n",
              "             ('attorney', 36),\n",
              "             ('gener', 12),\n",
              "             ('paso', 6),\n",
              "             ('named', 7),\n",
              "             ('afest', 1),\n",
              "             ('large', 23),\n",
              "             ('city', 161),\n",
              "             ('antonio', 12),\n",
              "             ('houston', 17),\n",
              "             ('dallas', 15),\n",
              "             ('crimeanimal', 1),\n",
              "             ('abuse', 9),\n",
              "             ('often', 11),\n",
              "             ('indicative', 1),\n",
              "             ('trait', 1),\n",
              "             ('future', 10),\n",
              "             ('educationthe', 34),\n",
              "             ('arizona', 38),\n",
              "             ('board', 60),\n",
              "             ('educations', 3),\n",
              "             ('failure', 7),\n",
              "             ('teachers', 42),\n",
              "             ('whose', 5),\n",
              "             ('certifications', 1),\n",
              "             ('revoked', 2),\n",
              "             ('suspended', 3),\n",
              "             ('resulted', 15),\n",
              "             ('death', 49),\n",
              "             ('stud', 12),\n",
              "             ('pensionsays', 3),\n",
              "             ('employer', 14),\n",
              "             ('ystem', 14),\n",
              "             ('campaignfinanceon', 1),\n",
              "             ('donations', 10),\n",
              "             ('capitol', 16),\n",
              "             ('lobbyist', 22),\n",
              "             ('major', 58),\n",
              "             ('foreign', 53),\n",
              "             ('policy', 42),\n",
              "             ('speech', 20),\n",
              "             ('cairo', 2),\n",
              "             ('apologize', 3),\n",
              "             ('countri', 132),\n",
              "             ('statesince', 3),\n",
              "             ('volvo', 1),\n",
              "             ('spurned', 1),\n",
              "             ('georgia', 95),\n",
              "             ('outh', 36),\n",
              "             ('carolina', 28),\n",
              "             ('early', 29),\n",
              "             ('may', 29),\n",
              "             ('3455', 1),\n",
              "             ('800', 15),\n",
              "             ('investments', 9),\n",
              "             ('come', 67),\n",
              "             ('peach', 1),\n",
              "             ('t', 76),\n",
              "             ('fakenewslady', 1),\n",
              "             ('gaga', 1),\n",
              "             ('cover', 18),\n",
              "             ('face', 12),\n",
              "             ('trump', 151),\n",
              "             ('gets', 27),\n",
              "             ('fired', 15),\n",
              "             ('transportationtaxes', 1),\n",
              "             ('groceries', 3),\n",
              "             ('medicine', 9),\n",
              "             ('rise', 23),\n",
              "             ('improve', 8),\n",
              "             ('roads', 12),\n",
              "             ('educationince', 3),\n",
              "             ('2009', 67),\n",
              "             ('georgias', 19),\n",
              "             ('schools', 72),\n",
              "             ('9000', 6),\n",
              "             ('classroom', 9),\n",
              "             ('number', 120),\n",
              "             ('gon', 7),\n",
              "             ('taxeswhile', 3),\n",
              "             ('illinois', 27),\n",
              "             ('enate', 185),\n",
              "             ('cuts', 121),\n",
              "             ('hardworking', 3),\n",
              "             ('famili', 34),\n",
              "             ('transportationays', 47),\n",
              "             ('austin', 52),\n",
              "             ('trains', 1),\n",
              "             ('full', 29),\n",
              "             ('rush', 7),\n",
              "             ('hour', 38),\n",
              "             ('packed', 2),\n",
              "             ('ev', 20),\n",
              "             ('federalbudgetthe', 47),\n",
              "             ('leaderships', 1),\n",
              "             ('contain', 4),\n",
              "             ('numb', 6),\n",
              "             ('pollsmore', 2),\n",
              "             ('watched', 2),\n",
              "             ('morning', 5),\n",
              "             ('joe', 34),\n",
              "             ('cnn', 4),\n",
              "             ('hln', 1),\n",
              "             ('5', 64),\n",
              "             ('row', 14),\n",
              "             ('cott', 180),\n",
              "             ('walker', 94),\n",
              "             ('tried', 40),\n",
              "             ('allow', 57),\n",
              "             ('pharmacists', 3),\n",
              "             ('block', 12),\n",
              "             ('womens', 17),\n",
              "             ('access', 35),\n",
              "             ('birth', 29),\n",
              "             ('control', 72),\n",
              "             ('taxesays', 205),\n",
              "             ('mitt', 93),\n",
              "             ('romney', 128),\n",
              "             ('belittled', 1),\n",
              "             ('middleclass', 17),\n",
              "             ('nothing', 43),\n",
              "             ('little', 33),\n",
              "             ('bandaid', 1),\n",
              "             ('thing', 18),\n",
              "             ('warren', 6),\n",
              "             ('buffett', 12),\n",
              "             ('pays', 23),\n",
              "             ('secretari', 4),\n",
              "             ('messagemachineas', 4),\n",
              "             ('congressman', 28),\n",
              "             ('jd', 2),\n",
              "             ('hayworth', 2),\n",
              "             ('avid', 2),\n",
              "             ('earmarker', 1),\n",
              "             ('supported', 104),\n",
              "             ('pork', 10),\n",
              "             ('220000', 1),\n",
              "             ('renovate', 1),\n",
              "             ('maine', 3),\n",
              "             ('blueberry', 1),\n",
              "             ('farm', 24),\n",
              "             ('58', 12),\n",
              "             ('vermont', 3),\n",
              "             ('snowmobile', 1),\n",
              "             ('trail', 5),\n",
              "             ('healthcareaccording', 4),\n",
              "             ('recent', 49),\n",
              "             ('poll', 33),\n",
              "             ('young', 47),\n",
              "             ('enrolled', 10),\n",
              "             ('parents', 24),\n",
              "             ('plans', 42),\n",
              "             ('jobaccomplishmentswhen', 5),\n",
              "             ('wound', 4),\n",
              "             ('putting', 16),\n",
              "             ('legislature', 47),\n",
              "             ('jail', 26),\n",
              "             ('77', 15),\n",
              "             ('training', 13),\n",
              "             ('programs', 35),\n",
              "             ('spread', 9),\n",
              "             ('across', 47),\n",
              "             ('13', 35),\n",
              "             ('ag', 9),\n",
              "             ('humanrights', 52),\n",
              "             ('marijuanatransporting', 1),\n",
              "             ('price', 18),\n",
              "             ('admission', 3),\n",
              "             ('crossing', 10),\n",
              "             ('illeg', 15),\n",
              "             ('electionswashington', 1),\n",
              "             ('greater', 24),\n",
              "             ('population', 79),\n",
              "             ('wyoming', 3),\n",
              "             ('active', 6),\n",
              "             ('duty', 10),\n",
              "             ('military', 215),\n",
              "             ('29', 19),\n",
              "             ('revenue', 48),\n",
              "             ('larger', 21),\n",
              "             ('product', 19),\n",
              "             ('27', 18),\n",
              "             ('terrorismwe', 5),\n",
              "             ('director', 24),\n",
              "             ('security', 40),\n",
              "             ('use', 98),\n",
              "             ('terrorist', 37),\n",
              "             ('attack', 33),\n",
              "             ('instead', 19),\n",
              "             ('substitutes', 1),\n",
              "             ('manmade', 2),\n",
              "             ('disast', 5),\n",
              "             ('healthcarewe', 14),\n",
              "             ('spend', 112),\n",
              "             ('ranked', 23),\n",
              "             ('47th', 6),\n",
              "             ('life', 25),\n",
              "             ('expectancy', 5),\n",
              "             ('43rd', 3),\n",
              "             ('mort', 3),\n",
              "             ('technologyfederal', 1),\n",
              "             ('local', 58),\n",
              "             ('governments', 24),\n",
              "             ('subsidized', 4),\n",
              "             ('production', 14),\n",
              "             ('volt', 2),\n",
              "             ('tune', 3),\n",
              "             ('estimates', 15),\n",
              "             ('250000', 18),\n",
              "             ...])"
            ]
          },
          "metadata": {},
          "execution_count": 27
        }
      ]
    },
    {
      "cell_type": "code",
      "source": [
        "text_sentences= df['news'].to_numpy()\n",
        "text_sequences= tokenizer.texts_to_sequences(X)\n"
      ],
      "metadata": {
        "id": "omMPl3LC_dIn"
      },
      "execution_count": 28,
      "outputs": []
    },
    {
      "cell_type": "code",
      "source": [
        "print(text_sentences[100])\n",
        "print(text_sequences[100])"
      ],
      "metadata": {
        "id": "Qk78A46v_dLa",
        "colab": {
          "base_uri": "https://localhost:8080/"
        },
        "outputId": "6b454b96-efce-47d2-91e1-3cf8ff916137"
      },
      "execution_count": 29,
      "outputs": [
        {
          "output_type": "stream",
          "name": "stdout",
          "text": [
            "taxesays mitt romney belittled middleclass tax cuts nothing little bandaid\n",
            "[73, 220, 142, 8450, 1229, 3, 151, 521, 673, 8451]\n"
          ]
        }
      ]
    },
    {
      "cell_type": "code",
      "source": [
        "#reversing tokenization\n",
        "# test_sequences"
      ],
      "metadata": {
        "id": "n71a1WOJiKaj"
      },
      "execution_count": null,
      "outputs": []
    },
    {
      "cell_type": "code",
      "source": [
        "# min and max lengh of train sequences\n",
        "train_min_lenght= len(min(text_sequences, key= len))\n",
        "train_max_lenght= len(max(text_sequences, key= len))\n",
        "train_min_lenght , train_max_lenght\n"
      ],
      "metadata": {
        "id": "iSQ8HJg-mbUj",
        "colab": {
          "base_uri": "https://localhost:8080/"
        },
        "outputId": "d5fc18b5-ce1e-42c3-c65c-154e2e7477b0"
      },
      "execution_count": 30,
      "outputs": [
        {
          "output_type": "execute_result",
          "data": {
            "text/plain": [
              "(2, 319)"
            ]
          },
          "metadata": {},
          "execution_count": 30
        }
      ]
    },
    {
      "cell_type": "code",
      "source": [
        "# plotting len of each sentence\n",
        "plt.hist([len(x) for x in X], bins=500);"
      ],
      "metadata": {
        "colab": {
          "base_uri": "https://localhost:8080/",
          "height": 430
        },
        "id": "GSH0hzx_wGPH",
        "outputId": "be2a82b4-c446-4255-f917-0ea6c20e97af"
      },
      "execution_count": 31,
      "outputs": [
        {
          "output_type": "display_data",
          "data": {
            "text/plain": [
              "<Figure size 640x480 with 1 Axes>"
            ],
            "image/png": "[encoded data removed]"
          },
          "metadata": {}
        }
      ]
    },
    {
      "cell_type": "code",
      "source": [
        "sentence_len= np.array([len(x) for x in X])\n",
        "print(f'There are {len(sentence_len[sentence_len > 25])} sentences which have more than 25 words.')\n",
        "max_len= 25"
      ],
      "metadata": {
        "colab": {
          "base_uri": "https://localhost:8080/"
        },
        "id": "9MiECpfZoKlG",
        "outputId": "e1ce0016-39c3-4f02-851a-4f34fd34f1e1"
      },
      "execution_count": 32,
      "outputs": [
        {
          "output_type": "stream",
          "name": "stdout",
          "text": [
            "There are 138 sentences which have more than 25 words.\n"
          ]
        }
      ]
    },
    {
      "cell_type": "code",
      "source": [
        "# padding\n",
        "def padding_sequences(seq, max_len):\n",
        "  return pad_sequences(seq, maxlen= max_len, padding= \"post\", truncating=\"post\")"
      ],
      "metadata": {
        "id": "3dFcV1E1_dNo"
      },
      "execution_count": 33,
      "outputs": []
    },
    {
      "cell_type": "code",
      "source": [
        "text_padded= padding_sequences(text_sequences, max_len)"
      ],
      "metadata": {
        "id": "87G5KHHin_OF"
      },
      "execution_count": 34,
      "outputs": []
    },
    {
      "cell_type": "code",
      "source": [],
      "metadata": {
        "id": "nkOkLtBr1Biy"
      },
      "execution_count": null,
      "outputs": []
    },
    {
      "cell_type": "code",
      "source": [
        "print(text_sentences[100])\n",
        "print(text_sequences[100])\n",
        "print(text_padded[100])"
      ],
      "metadata": {
        "id": "cPgFVB3un_fN",
        "colab": {
          "base_uri": "https://localhost:8080/"
        },
        "outputId": "f97e1c62-8e1f-4422-f559-4535844f1cb6"
      },
      "execution_count": 35,
      "outputs": [
        {
          "output_type": "stream",
          "name": "stdout",
          "text": [
            "taxesays mitt romney belittled middleclass tax cuts nothing little bandaid\n",
            "[73, 220, 142, 8450, 1229, 3, 151, 521, 673, 8451]\n",
            "[  73  220  142 8450 1229    3  151  521  673 8451    0    0    0    0\n",
            "    0    0    0    0    0    0    0    0    0    0    0]\n"
          ]
        }
      ]
    },
    {
      "cell_type": "code",
      "source": [
        "# checking tokenization by reversing from sequences to sentences\n",
        "# filp word_index dictionay index and value\n",
        "reversed_index= dict([(idx, word) for (word, idx) in word_index.items()])"
      ],
      "metadata": {
        "id": "GhkFOO1U7gI6"
      },
      "execution_count": 36,
      "outputs": []
    },
    {
      "cell_type": "code",
      "source": [
        "def decode(seq):\n",
        "  result= \" \".join([reversed_index.get(idx, \"?\") for idx in seq])\n",
        "  return result"
      ],
      "metadata": {
        "id": "rApX9AaO8KbH"
      },
      "execution_count": 37,
      "outputs": []
    },
    {
      "cell_type": "code",
      "source": [
        "decoded_news= decode(text_sequences[100])\n",
        "print(text_sequences[100])\n",
        "print(text_sentences[100])\n",
        "print(decoded_news)"
      ],
      "metadata": {
        "id": "RDpHAw0S8ozW",
        "colab": {
          "base_uri": "https://localhost:8080/"
        },
        "outputId": "27418f8a-d0e7-424c-b8e0-2858ccaf3c4d"
      },
      "execution_count": 38,
      "outputs": [
        {
          "output_type": "stream",
          "name": "stdout",
          "text": [
            "[73, 220, 142, 8450, 1229, 3, 151, 521, 673, 8451]\n",
            "taxesays mitt romney belittled middleclass tax cuts nothing little bandaid\n",
            "taxesays mitt romney belittled middleclass tax cuts nothing little bandaid\n"
          ]
        }
      ]
    },
    {
      "cell_type": "code",
      "source": [
        "#concatinating other features to tokenized data"
      ],
      "metadata": {
        "id": "JbLcImg3iKeZ"
      },
      "execution_count": 39,
      "outputs": []
    },
    {
      "cell_type": "code",
      "source": [
        "full_df_padded= np.hstack([text_padded, other_features])\n",
        "max_len+= len(other_features.columns)\n"
      ],
      "metadata": {
        "id": "WQiAkFioiKi9"
      },
      "execution_count": 40,
      "outputs": []
    },
    {
      "cell_type": "code",
      "source": [
        "# vocab_size\n",
        "vocab_size= len(tokenizer.word_index) +1 # because word_index starts from zero"
      ],
      "metadata": {
        "id": "h93A6-w-1vOy"
      },
      "execution_count": 41,
      "outputs": []
    },
    {
      "cell_type": "code",
      "source": [
        "def get_weight_matrix(model):\n",
        "  weight_matrix= np.zeros((vocab_size, embedding_dim))\n",
        "  for word, i in tokenizer.word_index.items():\n",
        "    weight_matrix[i]= model.wv[word]\n",
        "  return weight_matrix\n"
      ],
      "metadata": {
        "id": "bQruASl41fER"
      },
      "execution_count": 42,
      "outputs": []
    },
    {
      "cell_type": "code",
      "source": [
        "embedding_vectors= get_weight_matrix(w2v_mdl)"
      ],
      "metadata": {
        "id": "20Ii6aSu2qw_"
      },
      "execution_count": 43,
      "outputs": []
    },
    {
      "cell_type": "code",
      "source": [
        "X_train, X_test, y_train, y_test= train_test_split(full_df_padded, label, test_size= 0.2, random_state= 10)"
      ],
      "metadata": {
        "id": "sEM76j2W4sv5"
      },
      "execution_count": 44,
      "outputs": []
    },
    {
      "cell_type": "code",
      "source": [
        "\n",
        "# create LSTM model\n",
        "model= keras.models.Sequential()\n",
        "model.add(layers.Embedding(vocab_size, output_dim= embedding_dim,  input_length= max_len , weights=[embedding_vectors],  trainable=False)) # with other features\n",
        "model.add(layers.LSTM(128, dropout= 0.1))\n",
        "model.add(layers.Dense(1,  activation='sigmoid'))\n",
        "loss= keras.losses.BinaryCrossentropy(from_logits= False)\n",
        "optim= keras.optimizers.Adam(learning_rate=0.005)\n",
        "metrics= [\"accuracy\"]#,  Precision(), Recall()]\n",
        "model.compile(loss= loss, optimizer= optim, metrics= metrics)\n",
        "model.summary()"
      ],
      "metadata": {
        "colab": {
          "base_uri": "https://localhost:8080/"
        },
        "id": "shoAUoLZ9HQ0",
        "outputId": "00ccae6a-7586-4395-a3fc-b8a722229ccc"
      },
      "execution_count": 68,
      "outputs": [
        {
          "output_type": "stream",
          "name": "stdout",
          "text": [
            "Model: \"sequential_6\"\n",
            "_________________________________________________________________\n",
            " Layer (type)                Output Shape              Param #   \n",
            "=================================================================\n",
            " embedding_6 (Embedding)     (None, 30, 100)           1821400   \n",
            "                                                                 \n",
            " lstm_5 (LSTM)               (None, 128)               117248    \n",
            "                                                                 \n",
            " dense_6 (Dense)             (None, 1)                 129       \n",
            "                                                                 \n",
            "=================================================================\n",
            "Total params: 1,938,777\n",
            "Trainable params: 117,377\n",
            "Non-trainable params: 1,821,400\n",
            "_________________________________________________________________\n"
          ]
        }
      ]
    },
    {
      "cell_type": "code",
      "source": [
        "early_stopping = EarlyStopping(monitor='val_loss', patience=5)\n",
        "model.fit(X_train, y_train, epochs=50, validation_data=(X_test, y_test),  verbose=2)"
      ],
      "metadata": {
        "id": "uUp8wSo_iKo7",
        "colab": {
          "base_uri": "https://localhost:8080/"
        },
        "outputId": "bd397d86-0d42-4054-8a54-95c1e6b9f6ac"
      },
      "execution_count": 69,
      "outputs": [
        {
          "output_type": "stream",
          "name": "stdout",
          "text": [
            "Epoch 1/50\n",
            "250/250 - 4s - loss: 0.6879 - accuracy: 0.5665 - val_loss: 0.6862 - val_accuracy: 0.5610 - 4s/epoch - 14ms/step\n",
            "Epoch 2/50\n",
            "250/250 - 1s - loss: 0.6831 - accuracy: 0.5717 - val_loss: 0.6905 - val_accuracy: 0.5525 - 1s/epoch - 5ms/step\n",
            "Epoch 3/50\n",
            "250/250 - 1s - loss: 0.6823 - accuracy: 0.5716 - val_loss: 0.6855 - val_accuracy: 0.5640 - 1s/epoch - 5ms/step\n",
            "Epoch 4/50\n",
            "250/250 - 1s - loss: 0.6790 - accuracy: 0.5770 - val_loss: 0.6821 - val_accuracy: 0.5615 - 1s/epoch - 5ms/step\n",
            "Epoch 5/50\n",
            "250/250 - 1s - loss: 0.6779 - accuracy: 0.5826 - val_loss: 0.6850 - val_accuracy: 0.5665 - 1s/epoch - 5ms/step\n",
            "Epoch 6/50\n",
            "250/250 - 1s - loss: 0.6768 - accuracy: 0.5809 - val_loss: 0.6806 - val_accuracy: 0.5700 - 1s/epoch - 6ms/step\n",
            "Epoch 7/50\n",
            "250/250 - 2s - loss: 0.6761 - accuracy: 0.5859 - val_loss: 0.6853 - val_accuracy: 0.5675 - 2s/epoch - 7ms/step\n",
            "Epoch 8/50\n",
            "250/250 - 1s - loss: 0.6821 - accuracy: 0.5723 - val_loss: 0.6838 - val_accuracy: 0.5550 - 1s/epoch - 5ms/step\n",
            "Epoch 9/50\n",
            "250/250 - 1s - loss: 0.6801 - accuracy: 0.5742 - val_loss: 0.6812 - val_accuracy: 0.5630 - 1s/epoch - 5ms/step\n",
            "Epoch 10/50\n",
            "250/250 - 1s - loss: 0.6772 - accuracy: 0.5817 - val_loss: 0.6859 - val_accuracy: 0.5570 - 1s/epoch - 5ms/step\n",
            "Epoch 11/50\n",
            "250/250 - 1s - loss: 0.6765 - accuracy: 0.5790 - val_loss: 0.6865 - val_accuracy: 0.5650 - 1s/epoch - 5ms/step\n",
            "Epoch 12/50\n",
            "250/250 - 1s - loss: 0.6772 - accuracy: 0.5820 - val_loss: 0.6845 - val_accuracy: 0.5655 - 1s/epoch - 4ms/step\n",
            "Epoch 13/50\n",
            "250/250 - 1s - loss: 0.6764 - accuracy: 0.5835 - val_loss: 0.6852 - val_accuracy: 0.5670 - 1s/epoch - 5ms/step\n",
            "Epoch 14/50\n",
            "250/250 - 1s - loss: 0.6767 - accuracy: 0.5838 - val_loss: 0.6809 - val_accuracy: 0.5720 - 1s/epoch - 5ms/step\n",
            "Epoch 15/50\n",
            "250/250 - 1s - loss: 0.6730 - accuracy: 0.5845 - val_loss: 0.6819 - val_accuracy: 0.5720 - 1s/epoch - 4ms/step\n",
            "Epoch 16/50\n",
            "250/250 - 1s - loss: 0.6726 - accuracy: 0.5819 - val_loss: 0.6803 - val_accuracy: 0.5675 - 1s/epoch - 6ms/step\n",
            "Epoch 17/50\n",
            "250/250 - 2s - loss: 0.6714 - accuracy: 0.5863 - val_loss: 0.6821 - val_accuracy: 0.5700 - 2s/epoch - 6ms/step\n",
            "Epoch 18/50\n",
            "250/250 - 1s - loss: 0.6713 - accuracy: 0.5874 - val_loss: 0.6841 - val_accuracy: 0.5715 - 1s/epoch - 5ms/step\n",
            "Epoch 19/50\n",
            "250/250 - 1s - loss: 0.6725 - accuracy: 0.5830 - val_loss: 0.6847 - val_accuracy: 0.5670 - 1s/epoch - 5ms/step\n",
            "Epoch 20/50\n",
            "250/250 - 1s - loss: 0.6708 - accuracy: 0.5886 - val_loss: 0.6826 - val_accuracy: 0.5740 - 1s/epoch - 5ms/step\n",
            "Epoch 21/50\n",
            "250/250 - 1s - loss: 0.6705 - accuracy: 0.5869 - val_loss: 0.6831 - val_accuracy: 0.5750 - 1s/epoch - 5ms/step\n",
            "Epoch 22/50\n",
            "250/250 - 1s - loss: 0.6694 - accuracy: 0.5905 - val_loss: 0.6849 - val_accuracy: 0.5685 - 1s/epoch - 5ms/step\n",
            "Epoch 23/50\n",
            "250/250 - 1s - loss: 0.6693 - accuracy: 0.5920 - val_loss: 0.6845 - val_accuracy: 0.5620 - 1s/epoch - 5ms/step\n",
            "Epoch 24/50\n",
            "250/250 - 1s - loss: 0.6699 - accuracy: 0.5913 - val_loss: 0.6819 - val_accuracy: 0.5645 - 1s/epoch - 5ms/step\n",
            "Epoch 25/50\n",
            "250/250 - 1s - loss: 0.6658 - accuracy: 0.5972 - val_loss: 0.6831 - val_accuracy: 0.5700 - 1s/epoch - 5ms/step\n",
            "Epoch 26/50\n",
            "250/250 - 2s - loss: 0.6661 - accuracy: 0.5971 - val_loss: 0.6879 - val_accuracy: 0.5625 - 2s/epoch - 7ms/step\n",
            "Epoch 27/50\n",
            "250/250 - 1s - loss: 0.6640 - accuracy: 0.5938 - val_loss: 0.6901 - val_accuracy: 0.5730 - 1s/epoch - 5ms/step\n",
            "Epoch 28/50\n",
            "250/250 - 1s - loss: 0.6650 - accuracy: 0.5945 - val_loss: 0.6905 - val_accuracy: 0.5670 - 1s/epoch - 5ms/step\n",
            "Epoch 29/50\n",
            "250/250 - 1s - loss: 0.6627 - accuracy: 0.5934 - val_loss: 0.6871 - val_accuracy: 0.5670 - 1s/epoch - 5ms/step\n",
            "Epoch 30/50\n",
            "250/250 - 1s - loss: 0.6591 - accuracy: 0.6039 - val_loss: 0.6875 - val_accuracy: 0.5650 - 1s/epoch - 5ms/step\n",
            "Epoch 31/50\n",
            "250/250 - 1s - loss: 0.6583 - accuracy: 0.6037 - val_loss: 0.6830 - val_accuracy: 0.5695 - 1s/epoch - 5ms/step\n",
            "Epoch 32/50\n",
            "250/250 - 1s - loss: 0.6537 - accuracy: 0.6145 - val_loss: 0.6796 - val_accuracy: 0.5790 - 1s/epoch - 5ms/step\n",
            "Epoch 33/50\n",
            "250/250 - 1s - loss: 0.6521 - accuracy: 0.6094 - val_loss: 0.6861 - val_accuracy: 0.5695 - 1s/epoch - 5ms/step\n",
            "Epoch 34/50\n",
            "250/250 - 1s - loss: 0.6538 - accuracy: 0.6140 - val_loss: 0.6867 - val_accuracy: 0.5780 - 1s/epoch - 5ms/step\n",
            "Epoch 35/50\n",
            "250/250 - 2s - loss: 0.6506 - accuracy: 0.6177 - val_loss: 0.6887 - val_accuracy: 0.5750 - 2s/epoch - 6ms/step\n",
            "Epoch 36/50\n",
            "250/250 - 2s - loss: 0.6454 - accuracy: 0.6192 - val_loss: 0.6893 - val_accuracy: 0.5825 - 2s/epoch - 6ms/step\n",
            "Epoch 37/50\n",
            "250/250 - 1s - loss: 0.6423 - accuracy: 0.6242 - val_loss: 0.6940 - val_accuracy: 0.5780 - 1s/epoch - 5ms/step\n",
            "Epoch 38/50\n",
            "250/250 - 1s - loss: 0.6414 - accuracy: 0.6256 - val_loss: 0.6941 - val_accuracy: 0.5775 - 1s/epoch - 4ms/step\n",
            "Epoch 39/50\n",
            "250/250 - 1s - loss: 0.6331 - accuracy: 0.6317 - val_loss: 0.6915 - val_accuracy: 0.5820 - 1s/epoch - 5ms/step\n",
            "Epoch 40/50\n",
            "250/250 - 1s - loss: 0.6313 - accuracy: 0.6390 - val_loss: 0.7045 - val_accuracy: 0.5745 - 1s/epoch - 5ms/step\n",
            "Epoch 41/50\n",
            "250/250 - 1s - loss: 0.6252 - accuracy: 0.6430 - val_loss: 0.6997 - val_accuracy: 0.5825 - 1s/epoch - 5ms/step\n",
            "Epoch 42/50\n",
            "250/250 - 1s - loss: 0.6222 - accuracy: 0.6495 - val_loss: 0.7025 - val_accuracy: 0.5710 - 1s/epoch - 5ms/step\n",
            "Epoch 43/50\n",
            "250/250 - 1s - loss: 0.6180 - accuracy: 0.6535 - val_loss: 0.7136 - val_accuracy: 0.5710 - 1s/epoch - 5ms/step\n",
            "Epoch 44/50\n",
            "250/250 - 1s - loss: 0.6145 - accuracy: 0.6547 - val_loss: 0.7119 - val_accuracy: 0.5685 - 1s/epoch - 5ms/step\n",
            "Epoch 45/50\n",
            "250/250 - 2s - loss: 0.6173 - accuracy: 0.6501 - val_loss: 0.7226 - val_accuracy: 0.5770 - 2s/epoch - 7ms/step\n",
            "Epoch 46/50\n",
            "250/250 - 1s - loss: 0.6107 - accuracy: 0.6551 - val_loss: 0.7225 - val_accuracy: 0.5680 - 1s/epoch - 5ms/step\n",
            "Epoch 47/50\n",
            "250/250 - 1s - loss: 0.5985 - accuracy: 0.6679 - val_loss: 0.7223 - val_accuracy: 0.5825 - 1s/epoch - 5ms/step\n",
            "Epoch 48/50\n",
            "250/250 - 1s - loss: 0.5965 - accuracy: 0.6718 - val_loss: 0.7233 - val_accuracy: 0.5650 - 1s/epoch - 5ms/step\n",
            "Epoch 49/50\n",
            "250/250 - 1s - loss: 0.5906 - accuracy: 0.6805 - val_loss: 0.7215 - val_accuracy: 0.5800 - 1s/epoch - 4ms/step\n",
            "Epoch 50/50\n",
            "250/250 - 1s - loss: 0.5840 - accuracy: 0.6851 - val_loss: 0.7422 - val_accuracy: 0.5685 - 1s/epoch - 5ms/step\n"
          ]
        },
        {
          "output_type": "execute_result",
          "data": {
            "text/plain": [
              "<keras.callbacks.History at 0x7ee5e5fc9d80>"
            ]
          },
          "metadata": {},
          "execution_count": 69
        }
      ]
    },
    {
      "cell_type": "code",
      "source": [
        "y_pred= (model.predict(X_test) > 0.5).astype(int)\n",
        "print(classification_report(y_test, y_pred))"
      ],
      "metadata": {
        "id": "lA4DgD4b_dQB",
        "colab": {
          "base_uri": "https://localhost:8080/"
        },
        "outputId": "6d44bf06-163e-4a44-d654-ed8519e50b00"
      },
      "execution_count": 70,
      "outputs": [
        {
          "output_type": "stream",
          "name": "stdout",
          "text": [
            "63/63 [==============================] - 1s 3ms/step\n",
            "              precision    recall  f1-score   support\n",
            "\n",
            "           0       0.52      0.37      0.43       894\n",
            "           1       0.59      0.73      0.65      1106\n",
            "\n",
            "    accuracy                           0.57      2000\n",
            "   macro avg       0.56      0.55      0.54      2000\n",
            "weighted avg       0.56      0.57      0.55      2000\n",
            "\n"
          ]
        }
      ]
    },
    {
      "cell_type": "code",
      "source": [
        "# Bidirectional LSTM"
      ],
      "metadata": {
        "id": "nTc-_LEhB5lK"
      },
      "execution_count": null,
      "outputs": []
    },
    {
      "cell_type": "code",
      "source": [
        "bi_model =  keras.models.Sequential()\n",
        "bi_model.add(layers.Embedding(vocab_size, output_dim= embedding_dim,  weights=[embedding_vectors], input_length= max_len , trainable=False))\n",
        "bi_model.add(layers.Bidirectional(layers.LSTM(128, dropout=0.1)))  # Use Bidirectional LSTM layer\n",
        "bi_model.add(layers.Dense(1, activation='sigmoid'))\n",
        "loss = tf.keras.losses.BinaryCrossentropy(from_logits=False)\n",
        "optim = tf.keras.optimizers.Adam(learning_rate=0.0001)\n",
        "metrics = [\"accuracy\"] #, Precision(), Recall()]\n",
        "\n",
        "bi_model.compile(loss=loss, optimizer=optim, metrics=metrics)"
      ],
      "metadata": {
        "id": "9MRcDvri77CN"
      },
      "execution_count": 56,
      "outputs": []
    },
    {
      "cell_type": "code",
      "source": [
        "early_stopping = EarlyStopping(monitor='val_loss', patience=5)\n",
        "bi_model.fit(X_train, y_train, epochs=50, validation_data=(X_test, y_test),  verbose=2)\n"
      ],
      "metadata": {
        "colab": {
          "base_uri": "https://localhost:8080/"
        },
        "id": "xHX7aAeK8bZd",
        "outputId": "597252df-e89f-478e-c1b1-1ed13199a627"
      },
      "execution_count": 61,
      "outputs": [
        {
          "output_type": "stream",
          "name": "stdout",
          "text": [
            "Epoch 1/50\n",
            "250/250 - 2s - loss: 0.6578 - accuracy: 0.6084 - val_loss: 0.6631 - val_accuracy: 0.5950 - 2s/epoch - 7ms/step\n",
            "Epoch 2/50\n",
            "250/250 - 2s - loss: 0.6570 - accuracy: 0.6074 - val_loss: 0.6631 - val_accuracy: 0.5885 - 2s/epoch - 7ms/step\n",
            "Epoch 3/50\n",
            "250/250 - 2s - loss: 0.6570 - accuracy: 0.6083 - val_loss: 0.6644 - val_accuracy: 0.5860 - 2s/epoch - 7ms/step\n",
            "Epoch 4/50\n",
            "250/250 - 2s - loss: 0.6569 - accuracy: 0.6071 - val_loss: 0.6653 - val_accuracy: 0.5960 - 2s/epoch - 7ms/step\n",
            "Epoch 5/50\n",
            "250/250 - 2s - loss: 0.6572 - accuracy: 0.6102 - val_loss: 0.6759 - val_accuracy: 0.5820 - 2s/epoch - 7ms/step\n",
            "Epoch 6/50\n",
            "250/250 - 2s - loss: 0.6572 - accuracy: 0.6041 - val_loss: 0.6617 - val_accuracy: 0.5940 - 2s/epoch - 7ms/step\n",
            "Epoch 7/50\n",
            "250/250 - 2s - loss: 0.6561 - accuracy: 0.6097 - val_loss: 0.6631 - val_accuracy: 0.5970 - 2s/epoch - 9ms/step\n",
            "Epoch 8/50\n",
            "250/250 - 2s - loss: 0.6560 - accuracy: 0.6070 - val_loss: 0.6612 - val_accuracy: 0.5995 - 2s/epoch - 7ms/step\n",
            "Epoch 9/50\n",
            "250/250 - 2s - loss: 0.6556 - accuracy: 0.6056 - val_loss: 0.6619 - val_accuracy: 0.5950 - 2s/epoch - 7ms/step\n",
            "Epoch 10/50\n",
            "250/250 - 2s - loss: 0.6553 - accuracy: 0.6091 - val_loss: 0.6630 - val_accuracy: 0.5855 - 2s/epoch - 7ms/step\n",
            "Epoch 11/50\n",
            "250/250 - 2s - loss: 0.6541 - accuracy: 0.6097 - val_loss: 0.6628 - val_accuracy: 0.6000 - 2s/epoch - 6ms/step\n",
            "Epoch 12/50\n",
            "250/250 - 2s - loss: 0.6530 - accuracy: 0.6115 - val_loss: 0.6610 - val_accuracy: 0.5950 - 2s/epoch - 7ms/step\n",
            "Epoch 13/50\n",
            "250/250 - 2s - loss: 0.6538 - accuracy: 0.6152 - val_loss: 0.6648 - val_accuracy: 0.6000 - 2s/epoch - 7ms/step\n",
            "Epoch 14/50\n",
            "250/250 - 2s - loss: 0.6532 - accuracy: 0.6111 - val_loss: 0.6620 - val_accuracy: 0.5990 - 2s/epoch - 8ms/step\n",
            "Epoch 15/50\n",
            "250/250 - 2s - loss: 0.6538 - accuracy: 0.6121 - val_loss: 0.6632 - val_accuracy: 0.5965 - 2s/epoch - 6ms/step\n",
            "Epoch 16/50\n",
            "250/250 - 2s - loss: 0.6536 - accuracy: 0.6094 - val_loss: 0.6611 - val_accuracy: 0.6035 - 2s/epoch - 6ms/step\n",
            "Epoch 17/50\n",
            "250/250 - 2s - loss: 0.6539 - accuracy: 0.6099 - val_loss: 0.6608 - val_accuracy: 0.5985 - 2s/epoch - 6ms/step\n",
            "Epoch 18/50\n",
            "250/250 - 2s - loss: 0.6511 - accuracy: 0.6161 - val_loss: 0.6633 - val_accuracy: 0.5890 - 2s/epoch - 7ms/step\n",
            "Epoch 19/50\n",
            "250/250 - 2s - loss: 0.6519 - accuracy: 0.6112 - val_loss: 0.6612 - val_accuracy: 0.5990 - 2s/epoch - 6ms/step\n",
            "Epoch 20/50\n",
            "250/250 - 2s - loss: 0.6508 - accuracy: 0.6109 - val_loss: 0.6642 - val_accuracy: 0.5965 - 2s/epoch - 7ms/step\n",
            "Epoch 21/50\n",
            "250/250 - 2s - loss: 0.6518 - accuracy: 0.6141 - val_loss: 0.6599 - val_accuracy: 0.5960 - 2s/epoch - 9ms/step\n",
            "Epoch 22/50\n",
            "250/250 - 2s - loss: 0.6507 - accuracy: 0.6150 - val_loss: 0.6635 - val_accuracy: 0.5940 - 2s/epoch - 7ms/step\n",
            "Epoch 23/50\n",
            "250/250 - 2s - loss: 0.6508 - accuracy: 0.6173 - val_loss: 0.6633 - val_accuracy: 0.6040 - 2s/epoch - 7ms/step\n",
            "Epoch 24/50\n",
            "250/250 - 2s - loss: 0.6503 - accuracy: 0.6174 - val_loss: 0.6605 - val_accuracy: 0.6065 - 2s/epoch - 7ms/step\n",
            "Epoch 25/50\n",
            "250/250 - 2s - loss: 0.6512 - accuracy: 0.6097 - val_loss: 0.6649 - val_accuracy: 0.5970 - 2s/epoch - 7ms/step\n",
            "Epoch 26/50\n",
            "250/250 - 2s - loss: 0.6503 - accuracy: 0.6136 - val_loss: 0.6601 - val_accuracy: 0.6030 - 2s/epoch - 7ms/step\n",
            "Epoch 27/50\n",
            "250/250 - 2s - loss: 0.6507 - accuracy: 0.6146 - val_loss: 0.6629 - val_accuracy: 0.5940 - 2s/epoch - 8ms/step\n",
            "Epoch 28/50\n",
            "250/250 - 2s - loss: 0.6480 - accuracy: 0.6206 - val_loss: 0.6618 - val_accuracy: 0.5965 - 2s/epoch - 7ms/step\n",
            "Epoch 29/50\n",
            "250/250 - 2s - loss: 0.6493 - accuracy: 0.6173 - val_loss: 0.6632 - val_accuracy: 0.6045 - 2s/epoch - 6ms/step\n",
            "Epoch 30/50\n",
            "250/250 - 2s - loss: 0.6488 - accuracy: 0.6187 - val_loss: 0.6614 - val_accuracy: 0.5950 - 2s/epoch - 7ms/step\n",
            "Epoch 31/50\n",
            "250/250 - 2s - loss: 0.6476 - accuracy: 0.6150 - val_loss: 0.6626 - val_accuracy: 0.6040 - 2s/epoch - 7ms/step\n",
            "Epoch 32/50\n",
            "250/250 - 2s - loss: 0.6465 - accuracy: 0.6269 - val_loss: 0.6619 - val_accuracy: 0.6045 - 2s/epoch - 7ms/step\n",
            "Epoch 33/50\n",
            "250/250 - 2s - loss: 0.6468 - accuracy: 0.6175 - val_loss: 0.6674 - val_accuracy: 0.6000 - 2s/epoch - 6ms/step\n",
            "Epoch 34/50\n",
            "250/250 - 2s - loss: 0.6469 - accuracy: 0.6161 - val_loss: 0.6707 - val_accuracy: 0.5990 - 2s/epoch - 8ms/step\n",
            "Epoch 35/50\n",
            "250/250 - 2s - loss: 0.6459 - accuracy: 0.6264 - val_loss: 0.6628 - val_accuracy: 0.5975 - 2s/epoch - 8ms/step\n",
            "Epoch 36/50\n",
            "250/250 - 2s - loss: 0.6443 - accuracy: 0.6241 - val_loss: 0.6646 - val_accuracy: 0.6005 - 2s/epoch - 7ms/step\n",
            "Epoch 37/50\n",
            "250/250 - 2s - loss: 0.6462 - accuracy: 0.6224 - val_loss: 0.6630 - val_accuracy: 0.5940 - 2s/epoch - 7ms/step\n",
            "Epoch 38/50\n",
            "250/250 - 2s - loss: 0.6449 - accuracy: 0.6250 - val_loss: 0.6618 - val_accuracy: 0.5980 - 2s/epoch - 7ms/step\n",
            "Epoch 39/50\n",
            "250/250 - 2s - loss: 0.6435 - accuracy: 0.6251 - val_loss: 0.6625 - val_accuracy: 0.5955 - 2s/epoch - 7ms/step\n",
            "Epoch 40/50\n",
            "250/250 - 2s - loss: 0.6436 - accuracy: 0.6249 - val_loss: 0.6635 - val_accuracy: 0.5980 - 2s/epoch - 6ms/step\n",
            "Epoch 41/50\n",
            "250/250 - 2s - loss: 0.6437 - accuracy: 0.6234 - val_loss: 0.6651 - val_accuracy: 0.5965 - 2s/epoch - 8ms/step\n",
            "Epoch 42/50\n",
            "250/250 - 2s - loss: 0.6426 - accuracy: 0.6242 - val_loss: 0.6652 - val_accuracy: 0.5930 - 2s/epoch - 8ms/step\n",
            "Epoch 43/50\n",
            "250/250 - 2s - loss: 0.6432 - accuracy: 0.6284 - val_loss: 0.6667 - val_accuracy: 0.5980 - 2s/epoch - 6ms/step\n",
            "Epoch 44/50\n",
            "250/250 - 2s - loss: 0.6431 - accuracy: 0.6221 - val_loss: 0.6648 - val_accuracy: 0.5930 - 2s/epoch - 7ms/step\n",
            "Epoch 45/50\n",
            "250/250 - 2s - loss: 0.6416 - accuracy: 0.6302 - val_loss: 0.6686 - val_accuracy: 0.5935 - 2s/epoch - 7ms/step\n",
            "Epoch 46/50\n",
            "250/250 - 2s - loss: 0.6412 - accuracy: 0.6294 - val_loss: 0.6663 - val_accuracy: 0.5865 - 2s/epoch - 6ms/step\n",
            "Epoch 47/50\n",
            "250/250 - 2s - loss: 0.6406 - accuracy: 0.6277 - val_loss: 0.6651 - val_accuracy: 0.5845 - 2s/epoch - 6ms/step\n",
            "Epoch 48/50\n",
            "250/250 - 2s - loss: 0.6403 - accuracy: 0.6251 - val_loss: 0.6717 - val_accuracy: 0.5990 - 2s/epoch - 8ms/step\n",
            "Epoch 49/50\n",
            "250/250 - 2s - loss: 0.6387 - accuracy: 0.6334 - val_loss: 0.6712 - val_accuracy: 0.5935 - 2s/epoch - 8ms/step\n",
            "Epoch 50/50\n",
            "250/250 - 2s - loss: 0.6390 - accuracy: 0.6305 - val_loss: 0.6675 - val_accuracy: 0.5955 - 2s/epoch - 7ms/step\n"
          ]
        },
        {
          "output_type": "execute_result",
          "data": {
            "text/plain": [
              "<keras.callbacks.History at 0x7ee5e5c49ae0>"
            ]
          },
          "metadata": {},
          "execution_count": 61
        }
      ]
    },
    {
      "cell_type": "code",
      "source": [
        "y_pred= (bi_model.predict(X_test) > 0.5).astype(int)\n",
        "print(classification_report(y_test, y_pred))"
      ],
      "metadata": {
        "id": "vMY4JFeX8ccc",
        "colab": {
          "base_uri": "https://localhost:8080/"
        },
        "outputId": "91dc50bb-f430-435a-cc14-d6fe8034d823"
      },
      "execution_count": 63,
      "outputs": [
        {
          "output_type": "stream",
          "name": "stdout",
          "text": [
            "63/63 [==============================] - 0s 3ms/step\n",
            "              precision    recall  f1-score   support\n",
            "\n",
            "           0       0.60      0.28      0.38       894\n",
            "           1       0.59      0.85      0.70      1106\n",
            "\n",
            "    accuracy                           0.60      2000\n",
            "   macro avg       0.60      0.56      0.54      2000\n",
            "weighted avg       0.60      0.60      0.56      2000\n",
            "\n"
          ]
        }
      ]
    },
    {
      "cell_type": "code",
      "source": [],
      "metadata": {
        "id": "ecdxU7d-CBLh"
      },
      "execution_count": null,
      "outputs": []
    },
    {
      "cell_type": "code",
      "source": [
        "S_model =  keras.models.Sequential()\n",
        "S_model.add(layers.Embedding(vocab_size, output_dim= embedding_dim,  weights=[embedding_vectors], input_length= max_len , trainable=False))\n",
        "S_model.add(layers.SimpleRNN(128, dropout=0.1))\n",
        "S_model.add(layers.Dense(1, activation='sigmoid'))\n",
        "loss = tf.keras.losses.BinaryCrossentropy(from_logits=False)\n",
        "optim = tf.keras.optimizers.Adam(learning_rate=0.0001)\n",
        "metrics = [\"accuracy\"] #, Precision(), Recall()]\n",
        "\n",
        "S_model.compile(loss=loss, optimizer=optim, metrics=metrics)"
      ],
      "metadata": {
        "id": "iyklCr8MCBaA"
      },
      "execution_count": 64,
      "outputs": []
    },
    {
      "cell_type": "code",
      "source": [
        "early_stopping = EarlyStopping(monitor='val_loss', patience=5)\n",
        "S_model.fit(X_train, y_train, epochs=50, validation_data=(X_test, y_test), verbose=2)\n"
      ],
      "metadata": {
        "colab": {
          "base_uri": "https://localhost:8080/"
        },
        "id": "MIbJFcsDCBdS",
        "outputId": "20c52a40-5d8f-4530-d42c-7b93c80bd9cf"
      },
      "execution_count": 65,
      "outputs": [
        {
          "output_type": "stream",
          "name": "stdout",
          "text": [
            "Epoch 1/50\n",
            "250/250 - 7s - loss: 0.6878 - accuracy: 0.5592 - val_loss: 0.6841 - val_accuracy: 0.5715 - 7s/epoch - 29ms/step\n",
            "Epoch 2/50\n",
            "250/250 - 6s - loss: 0.6820 - accuracy: 0.5689 - val_loss: 0.6820 - val_accuracy: 0.5650 - 6s/epoch - 22ms/step\n",
            "Epoch 3/50\n",
            "250/250 - 5s - loss: 0.6776 - accuracy: 0.5780 - val_loss: 0.6830 - val_accuracy: 0.5710 - 5s/epoch - 19ms/step\n",
            "Epoch 4/50\n",
            "250/250 - 6s - loss: 0.6739 - accuracy: 0.5819 - val_loss: 0.6790 - val_accuracy: 0.5710 - 6s/epoch - 22ms/step\n",
            "Epoch 5/50\n",
            "250/250 - 5s - loss: 0.6728 - accuracy: 0.5807 - val_loss: 0.6846 - val_accuracy: 0.5665 - 5s/epoch - 20ms/step\n",
            "Epoch 6/50\n",
            "250/250 - 5s - loss: 0.6694 - accuracy: 0.5906 - val_loss: 0.6797 - val_accuracy: 0.5655 - 5s/epoch - 21ms/step\n",
            "Epoch 7/50\n",
            "250/250 - 6s - loss: 0.6717 - accuracy: 0.5856 - val_loss: 0.6788 - val_accuracy: 0.5725 - 6s/epoch - 22ms/step\n",
            "Epoch 8/50\n",
            "250/250 - 5s - loss: 0.6684 - accuracy: 0.5924 - val_loss: 0.6813 - val_accuracy: 0.5605 - 5s/epoch - 19ms/step\n",
            "Epoch 9/50\n",
            "250/250 - 6s - loss: 0.6694 - accuracy: 0.5881 - val_loss: 0.6773 - val_accuracy: 0.5700 - 6s/epoch - 22ms/step\n",
            "Epoch 10/50\n",
            "250/250 - 5s - loss: 0.6678 - accuracy: 0.5950 - val_loss: 0.6781 - val_accuracy: 0.5745 - 5s/epoch - 19ms/step\n",
            "Epoch 11/50\n",
            "250/250 - 6s - loss: 0.6665 - accuracy: 0.5925 - val_loss: 0.6769 - val_accuracy: 0.5685 - 6s/epoch - 22ms/step\n",
            "Epoch 12/50\n",
            "250/250 - 5s - loss: 0.6660 - accuracy: 0.5976 - val_loss: 0.6839 - val_accuracy: 0.5695 - 5s/epoch - 20ms/step\n",
            "Epoch 13/50\n",
            "250/250 - 5s - loss: 0.6661 - accuracy: 0.5941 - val_loss: 0.6814 - val_accuracy: 0.5700 - 5s/epoch - 19ms/step\n",
            "Epoch 14/50\n",
            "250/250 - 6s - loss: 0.6639 - accuracy: 0.6016 - val_loss: 0.6745 - val_accuracy: 0.5785 - 6s/epoch - 22ms/step\n",
            "Epoch 15/50\n",
            "250/250 - 5s - loss: 0.6635 - accuracy: 0.6001 - val_loss: 0.6901 - val_accuracy: 0.5725 - 5s/epoch - 19ms/step\n",
            "Epoch 16/50\n",
            "250/250 - 6s - loss: 0.6621 - accuracy: 0.5975 - val_loss: 0.6745 - val_accuracy: 0.5740 - 6s/epoch - 22ms/step\n",
            "Epoch 17/50\n",
            "250/250 - 5s - loss: 0.6599 - accuracy: 0.6066 - val_loss: 0.6722 - val_accuracy: 0.5790 - 5s/epoch - 19ms/step\n",
            "Epoch 18/50\n",
            "250/250 - 5s - loss: 0.6622 - accuracy: 0.5981 - val_loss: 0.6739 - val_accuracy: 0.5835 - 5s/epoch - 20ms/step\n",
            "Epoch 19/50\n",
            "250/250 - 5s - loss: 0.6579 - accuracy: 0.6096 - val_loss: 0.6724 - val_accuracy: 0.5725 - 5s/epoch - 22ms/step\n",
            "Epoch 20/50\n",
            "250/250 - 5s - loss: 0.6595 - accuracy: 0.6069 - val_loss: 0.6716 - val_accuracy: 0.5785 - 5s/epoch - 19ms/step\n",
            "Epoch 21/50\n",
            "250/250 - 6s - loss: 0.6562 - accuracy: 0.6139 - val_loss: 0.6730 - val_accuracy: 0.5785 - 6s/epoch - 23ms/step\n",
            "Epoch 22/50\n",
            "250/250 - 5s - loss: 0.6591 - accuracy: 0.6102 - val_loss: 0.6721 - val_accuracy: 0.5805 - 5s/epoch - 20ms/step\n",
            "Epoch 23/50\n",
            "250/250 - 6s - loss: 0.6568 - accuracy: 0.6102 - val_loss: 0.6721 - val_accuracy: 0.5840 - 6s/epoch - 24ms/step\n",
            "Epoch 24/50\n",
            "250/250 - 5s - loss: 0.6547 - accuracy: 0.6162 - val_loss: 0.6725 - val_accuracy: 0.5790 - 5s/epoch - 19ms/step\n",
            "Epoch 25/50\n",
            "250/250 - 5s - loss: 0.6538 - accuracy: 0.6176 - val_loss: 0.6742 - val_accuracy: 0.5690 - 5s/epoch - 18ms/step\n",
            "Epoch 26/50\n",
            "250/250 - 6s - loss: 0.6517 - accuracy: 0.6186 - val_loss: 0.6710 - val_accuracy: 0.5900 - 6s/epoch - 23ms/step\n",
            "Epoch 27/50\n",
            "250/250 - 5s - loss: 0.6516 - accuracy: 0.6224 - val_loss: 0.6700 - val_accuracy: 0.5905 - 5s/epoch - 19ms/step\n",
            "Epoch 28/50\n",
            "250/250 - 6s - loss: 0.6532 - accuracy: 0.6164 - val_loss: 0.6762 - val_accuracy: 0.5675 - 6s/epoch - 23ms/step\n",
            "Epoch 29/50\n",
            "250/250 - 5s - loss: 0.6503 - accuracy: 0.6227 - val_loss: 0.6710 - val_accuracy: 0.5840 - 5s/epoch - 19ms/step\n",
            "Epoch 30/50\n",
            "250/250 - 5s - loss: 0.6492 - accuracy: 0.6180 - val_loss: 0.6709 - val_accuracy: 0.5900 - 5s/epoch - 21ms/step\n",
            "Epoch 31/50\n",
            "250/250 - 5s - loss: 0.6483 - accuracy: 0.6242 - val_loss: 0.6731 - val_accuracy: 0.5875 - 5s/epoch - 20ms/step\n",
            "Epoch 32/50\n",
            "250/250 - 5s - loss: 0.6470 - accuracy: 0.6254 - val_loss: 0.6729 - val_accuracy: 0.5785 - 5s/epoch - 19ms/step\n",
            "Epoch 33/50\n",
            "250/250 - 6s - loss: 0.6479 - accuracy: 0.6251 - val_loss: 0.6743 - val_accuracy: 0.5845 - 6s/epoch - 22ms/step\n",
            "Epoch 34/50\n",
            "250/250 - 5s - loss: 0.6449 - accuracy: 0.6277 - val_loss: 0.6760 - val_accuracy: 0.5840 - 5s/epoch - 19ms/step\n",
            "Epoch 35/50\n",
            "250/250 - 6s - loss: 0.6447 - accuracy: 0.6249 - val_loss: 0.6729 - val_accuracy: 0.5965 - 6s/epoch - 23ms/step\n",
            "Epoch 36/50\n",
            "250/250 - 5s - loss: 0.6427 - accuracy: 0.6273 - val_loss: 0.6754 - val_accuracy: 0.5725 - 5s/epoch - 18ms/step\n",
            "Epoch 37/50\n",
            "250/250 - 5s - loss: 0.6426 - accuracy: 0.6305 - val_loss: 0.6749 - val_accuracy: 0.5760 - 5s/epoch - 20ms/step\n",
            "Epoch 38/50\n",
            "250/250 - 6s - loss: 0.6397 - accuracy: 0.6295 - val_loss: 0.6776 - val_accuracy: 0.5775 - 6s/epoch - 23ms/step\n",
            "Epoch 39/50\n",
            "250/250 - 5s - loss: 0.6394 - accuracy: 0.6327 - val_loss: 0.6797 - val_accuracy: 0.5875 - 5s/epoch - 19ms/step\n",
            "Epoch 40/50\n",
            "250/250 - 6s - loss: 0.6401 - accuracy: 0.6331 - val_loss: 0.6857 - val_accuracy: 0.5880 - 6s/epoch - 23ms/step\n",
            "Epoch 41/50\n",
            "250/250 - 5s - loss: 0.6395 - accuracy: 0.6327 - val_loss: 0.6779 - val_accuracy: 0.5755 - 5s/epoch - 19ms/step\n",
            "Epoch 42/50\n",
            "250/250 - 5s - loss: 0.6361 - accuracy: 0.6436 - val_loss: 0.6744 - val_accuracy: 0.5895 - 5s/epoch - 21ms/step\n",
            "Epoch 43/50\n",
            "250/250 - 5s - loss: 0.6334 - accuracy: 0.6392 - val_loss: 0.6766 - val_accuracy: 0.5885 - 5s/epoch - 20ms/step\n",
            "Epoch 44/50\n",
            "250/250 - 5s - loss: 0.6340 - accuracy: 0.6389 - val_loss: 0.6761 - val_accuracy: 0.5940 - 5s/epoch - 19ms/step\n",
            "Epoch 45/50\n",
            "250/250 - 6s - loss: 0.6317 - accuracy: 0.6407 - val_loss: 0.6856 - val_accuracy: 0.5710 - 6s/epoch - 22ms/step\n",
            "Epoch 46/50\n",
            "250/250 - 5s - loss: 0.6317 - accuracy: 0.6423 - val_loss: 0.6786 - val_accuracy: 0.5900 - 5s/epoch - 19ms/step\n",
            "Epoch 47/50\n",
            "250/250 - 6s - loss: 0.6340 - accuracy: 0.6445 - val_loss: 0.6786 - val_accuracy: 0.5915 - 6s/epoch - 24ms/step\n",
            "Epoch 48/50\n",
            "250/250 - 6s - loss: 0.6293 - accuracy: 0.6467 - val_loss: 0.6779 - val_accuracy: 0.5825 - 6s/epoch - 22ms/step\n",
            "Epoch 49/50\n",
            "250/250 - 6s - loss: 0.6279 - accuracy: 0.6481 - val_loss: 0.6843 - val_accuracy: 0.5755 - 6s/epoch - 22ms/step\n",
            "Epoch 50/50\n",
            "250/250 - 5s - loss: 0.6271 - accuracy: 0.6484 - val_loss: 0.6845 - val_accuracy: 0.5910 - 5s/epoch - 21ms/step\n"
          ]
        },
        {
          "output_type": "execute_result",
          "data": {
            "text/plain": [
              "<keras.callbacks.History at 0x7ee5e5ccc460>"
            ]
          },
          "metadata": {},
          "execution_count": 65
        }
      ]
    },
    {
      "cell_type": "code",
      "source": [
        "y_pred= (S_model.predict(X_test) > 0.5).astype(int)\n",
        "print(classification_report(y_test, y_pred))"
      ],
      "metadata": {
        "id": "682eZSmPCBgg",
        "colab": {
          "base_uri": "https://localhost:8080/"
        },
        "outputId": "e5aaae59-f598-485c-d804-2d5983aa1621"
      },
      "execution_count": 66,
      "outputs": [
        {
          "output_type": "stream",
          "name": "stdout",
          "text": [
            "63/63 [==============================] - 0s 4ms/step\n",
            "              precision    recall  f1-score   support\n",
            "\n",
            "           0       0.57      0.34      0.43       894\n",
            "           1       0.60      0.79      0.68      1106\n",
            "\n",
            "    accuracy                           0.59      2000\n",
            "   macro avg       0.58      0.57      0.56      2000\n",
            "weighted avg       0.59      0.59      0.57      2000\n",
            "\n"
          ]
        }
      ]
    }
  ]
}