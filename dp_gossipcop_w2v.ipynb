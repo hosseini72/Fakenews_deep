{
  "nbformat": 4,
  "nbformat_minor": 0,
  "metadata": {
    "colab": {
      "provenance": [],
      "gpuType": "T4"
    },
    "kernelspec": {
      "name": "python3",
      "display_name": "Python 3"
    },
    "language_info": {
      "name": "python"
    },
    "accelerator": "GPU"
  },
  "cells": [
    {
      "cell_type": "code",
      "execution_count": 1,
      "metadata": {
        "id": "n8jI_MXV4S40"
      },
      "outputs": [],
      "source": [
        "import tensorflow as tf\n",
        "from tensorflow import keras\n",
        "import pandas as pd\n",
        "import numpy as np\n",
        "import os\n",
        "import matplotlib.pyplot as plt\n",
        "import time\n",
        "# preprocessing\n",
        "import re\n",
        "import string\n",
        "import nltk\n",
        "from nltk import  pos_tag\n",
        "from nltk.corpus import stopwords\n",
        "import nltk.stem as stemmer\n",
        "\n",
        "from sklearn.model_selection import train_test_split\n",
        "from gensim.models import Word2Vec\n",
        "\n",
        "\n",
        "from collections import Counter\n",
        "# Tokenizer\n",
        "from tensorflow.keras.preprocessing.text import Tokenizer\n",
        "from tensorflow.keras.preprocessing.sequence import pad_sequences\n",
        "from tensorflow.keras import layers\n",
        "from tensorflow.keras.metrics import Precision, Recall\n",
        "from sklearn.metrics import classification_report\n",
        "\n"
      ]
    },
    {
      "cell_type": "code",
      "source": [
        "#read data\n",
        "dataset= pd.read_csv('gossipcop.csv')\n",
        "dataset"
      ],
      "metadata": {
        "id": "5G2VPSGA42nP",
        "colab": {
          "base_uri": "https://localhost:8080/",
          "height": 424
        },
        "outputId": "d3492a0a-89cb-4c24-8a44-2ab8d4b51e97"
      },
      "execution_count": 4,
      "outputs": [
        {
          "output_type": "execute_result",
          "data": {
            "text/plain": [
              "                         id  \\\n",
              "0      gossipcop-2493749932   \n",
              "1      gossipcop-4580247171   \n",
              "2       gossipcop-941805037   \n",
              "3      gossipcop-2547891536   \n",
              "4      gossipcop-5476631226   \n",
              "...                     ...   \n",
              "22135      gossipcop-891749   \n",
              "22136      gossipcop-941486   \n",
              "22137      gossipcop-953143   \n",
              "22138      gossipcop-954366   \n",
              "22139      gossipcop-877062   \n",
              "\n",
              "                                                news_url  \\\n",
              "0      www.dailymail.co.uk/tvshowbiz/article-5874213/...   \n",
              "1      hollywoodlife.com/2018/05/05/paris-jackson-car...   \n",
              "2      variety.com/2017/biz/news/tax-march-donald-tru...   \n",
              "3      www.dailymail.co.uk/femail/article-3499192/Do-...   \n",
              "4      variety.com/2018/film/news/list-2018-oscar-nom...   \n",
              "...                                                  ...   \n",
              "22135  https://omgcheckitout.com/2017-hollywood-film-...   \n",
              "22136  https://pagesix.com/2018/06/04/jada-pinkett-sm...   \n",
              "22137  https://www.etonline.com/tinsley-mortimer-reac...   \n",
              "22138  https://www.healthbreakingnews.net/2018/07/pri...   \n",
              "22139  https://www.cosmopolitan.com/uk/entertainment/...   \n",
              "\n",
              "                                                   title  \\\n",
              "0      Did Miley Cyrus and Liam Hemsworth secretly ge...   \n",
              "1      Paris Jackson & Cara Delevingne Enjoy Night Ou...   \n",
              "2      Celebrities Join Tax March in Protest of Donal...   \n",
              "3      Cindy Crawford's daughter Kaia Gerber wears a ...   \n",
              "4          Full List of 2018 Oscar Nominations – Variety   \n",
              "...                                                  ...   \n",
              "22135  2017 Hollywood Film Awards: The Complete List ...   \n",
              "22136  Jada Pinkett Smith explains why son Jaden move...   \n",
              "22137  Tinsley Mortimer Reacts to Luann de Lesseps' R...   \n",
              "22138  Prince Harry Carries on Princess Diana’s Legac...   \n",
              "22139  Kylie Jenner is actually terrified of butterflies   \n",
              "\n",
              "                                               tweet_ids  label  \n",
              "0      284329075902926848\\t284332744559968256\\t284335...      0  \n",
              "1      992895508267130880\\t992897935418503169\\t992899...      0  \n",
              "2      853359353532829696\\t853359576543920128\\t853359...      0  \n",
              "3      988821905196158981\\t988824206556172288\\t988825...      0  \n",
              "4      955792793632432131\\t955795063925301249\\t955798...      0  \n",
              "...                                                  ...    ...  \n",
              "22135  927385466357260288\\t927386601034010625\\t927387...      1  \n",
              "22136  1004044947006386178\\t1004045964401889285\\t1004...      1  \n",
              "22137  1019924845889572864\\t1019925702676709377\\t1019...      1  \n",
              "22138  1021766291139584000\\t1021772054599802880\\t1021...      1  \n",
              "22139                                                NaN      1  \n",
              "\n",
              "[22140 rows x 5 columns]"
            ],
            "text/html": [
              "\n",
              "  <div id=\"df-667f6c75-50e2-487c-8eb7-07d88e265216\" class=\"colab-df-container\">\n",
              "    <div>\n",
              "<style scoped>\n",
              "    .dataframe tbody tr th:only-of-type {\n",
              "        vertical-align: middle;\n",
              "    }\n",
              "\n",
              "    .dataframe tbody tr th {\n",
              "        vertical-align: top;\n",
              "    }\n",
              "\n",
              "    .dataframe thead th {\n",
              "        text-align: right;\n",
              "    }\n",
              "</style>\n",
              "<table border=\"1\" class=\"dataframe\">\n",
              "  <thead>\n",
              "    <tr style=\"text-align: right;\">\n",
              "      <th></th>\n",
              "      <th>id</th>\n",
              "      <th>news_url</th>\n",
              "      <th>title</th>\n",
              "      <th>tweet_ids</th>\n",
              "      <th>label</th>\n",
              "    </tr>\n",
              "  </thead>\n",
              "  <tbody>\n",
              "    <tr>\n",
              "      <th>0</th>\n",
              "      <td>gossipcop-2493749932</td>\n",
              "      <td>www.dailymail.co.uk/tvshowbiz/article-5874213/...</td>\n",
              "      <td>Did Miley Cyrus and Liam Hemsworth secretly ge...</td>\n",
              "      <td>284329075902926848\\t284332744559968256\\t284335...</td>\n",
              "      <td>0</td>\n",
              "    </tr>\n",
              "    <tr>\n",
              "      <th>1</th>\n",
              "      <td>gossipcop-4580247171</td>\n",
              "      <td>hollywoodlife.com/2018/05/05/paris-jackson-car...</td>\n",
              "      <td>Paris Jackson &amp; Cara Delevingne Enjoy Night Ou...</td>\n",
              "      <td>992895508267130880\\t992897935418503169\\t992899...</td>\n",
              "      <td>0</td>\n",
              "    </tr>\n",
              "    <tr>\n",
              "      <th>2</th>\n",
              "      <td>gossipcop-941805037</td>\n",
              "      <td>variety.com/2017/biz/news/tax-march-donald-tru...</td>\n",
              "      <td>Celebrities Join Tax March in Protest of Donal...</td>\n",
              "      <td>853359353532829696\\t853359576543920128\\t853359...</td>\n",
              "      <td>0</td>\n",
              "    </tr>\n",
              "    <tr>\n",
              "      <th>3</th>\n",
              "      <td>gossipcop-2547891536</td>\n",
              "      <td>www.dailymail.co.uk/femail/article-3499192/Do-...</td>\n",
              "      <td>Cindy Crawford's daughter Kaia Gerber wears a ...</td>\n",
              "      <td>988821905196158981\\t988824206556172288\\t988825...</td>\n",
              "      <td>0</td>\n",
              "    </tr>\n",
              "    <tr>\n",
              "      <th>4</th>\n",
              "      <td>gossipcop-5476631226</td>\n",
              "      <td>variety.com/2018/film/news/list-2018-oscar-nom...</td>\n",
              "      <td>Full List of 2018 Oscar Nominations – Variety</td>\n",
              "      <td>955792793632432131\\t955795063925301249\\t955798...</td>\n",
              "      <td>0</td>\n",
              "    </tr>\n",
              "    <tr>\n",
              "      <th>...</th>\n",
              "      <td>...</td>\n",
              "      <td>...</td>\n",
              "      <td>...</td>\n",
              "      <td>...</td>\n",
              "      <td>...</td>\n",
              "    </tr>\n",
              "    <tr>\n",
              "      <th>22135</th>\n",
              "      <td>gossipcop-891749</td>\n",
              "      <td>https://omgcheckitout.com/2017-hollywood-film-...</td>\n",
              "      <td>2017 Hollywood Film Awards: The Complete List ...</td>\n",
              "      <td>927385466357260288\\t927386601034010625\\t927387...</td>\n",
              "      <td>1</td>\n",
              "    </tr>\n",
              "    <tr>\n",
              "      <th>22136</th>\n",
              "      <td>gossipcop-941486</td>\n",
              "      <td>https://pagesix.com/2018/06/04/jada-pinkett-sm...</td>\n",
              "      <td>Jada Pinkett Smith explains why son Jaden move...</td>\n",
              "      <td>1004044947006386178\\t1004045964401889285\\t1004...</td>\n",
              "      <td>1</td>\n",
              "    </tr>\n",
              "    <tr>\n",
              "      <th>22137</th>\n",
              "      <td>gossipcop-953143</td>\n",
              "      <td>https://www.etonline.com/tinsley-mortimer-reac...</td>\n",
              "      <td>Tinsley Mortimer Reacts to Luann de Lesseps' R...</td>\n",
              "      <td>1019924845889572864\\t1019925702676709377\\t1019...</td>\n",
              "      <td>1</td>\n",
              "    </tr>\n",
              "    <tr>\n",
              "      <th>22138</th>\n",
              "      <td>gossipcop-954366</td>\n",
              "      <td>https://www.healthbreakingnews.net/2018/07/pri...</td>\n",
              "      <td>Prince Harry Carries on Princess Diana’s Legac...</td>\n",
              "      <td>1021766291139584000\\t1021772054599802880\\t1021...</td>\n",
              "      <td>1</td>\n",
              "    </tr>\n",
              "    <tr>\n",
              "      <th>22139</th>\n",
              "      <td>gossipcop-877062</td>\n",
              "      <td>https://www.cosmopolitan.com/uk/entertainment/...</td>\n",
              "      <td>Kylie Jenner is actually terrified of butterflies</td>\n",
              "      <td>NaN</td>\n",
              "      <td>1</td>\n",
              "    </tr>\n",
              "  </tbody>\n",
              "</table>\n",
              "<p>22140 rows × 5 columns</p>\n",
              "</div>\n",
              "    <div class=\"colab-df-buttons\">\n",
              "\n",
              "  <div class=\"colab-df-container\">\n",
              "    <button class=\"colab-df-convert\" onclick=\"convertToInteractive('df-667f6c75-50e2-487c-8eb7-07d88e265216')\"\n",
              "            title=\"Convert this dataframe to an interactive table.\"\n",
              "            style=\"display:none;\">\n",
              "\n",
              "  <svg xmlns=\"http://www.w3.org/2000/svg\" height=\"24px\" viewBox=\"0 -960 960 960\">\n",
              "    <path d=\"M120-120v-720h720v720H120Zm60-500h600v-160H180v160Zm220 220h160v-160H400v160Zm0 220h160v-160H400v160ZM180-400h160v-160H180v160Zm440 0h160v-160H620v160ZM180-180h160v-160H180v160Zm440 0h160v-160H620v160Z\"/>\n",
              "  </svg>\n",
              "    </button>\n",
              "\n",
              "  <style>\n",
              "    .colab-df-container {\n",
              "      display:flex;\n",
              "      gap: 12px;\n",
              "    }\n",
              "\n",
              "    .colab-df-convert {\n",
              "      background-color: #E8F0FE;\n",
              "      border: none;\n",
              "      border-radius: 50%;\n",
              "      cursor: pointer;\n",
              "      display: none;\n",
              "      fill: #1967D2;\n",
              "      height: 32px;\n",
              "      padding: 0 0 0 0;\n",
              "      width: 32px;\n",
              "    }\n",
              "\n",
              "    .colab-df-convert:hover {\n",
              "      background-color: #E2EBFA;\n",
              "      box-shadow: 0px 1px 2px rgba(60, 64, 67, 0.3), 0px 1px 3px 1px rgba(60, 64, 67, 0.15);\n",
              "      fill: #174EA6;\n",
              "    }\n",
              "\n",
              "    .colab-df-buttons div {\n",
              "      margin-bottom: 4px;\n",
              "    }\n",
              "\n",
              "    [theme=dark] .colab-df-convert {\n",
              "      background-color: #3B4455;\n",
              "      fill: #D2E3FC;\n",
              "    }\n",
              "\n",
              "    [theme=dark] .colab-df-convert:hover {\n",
              "      background-color: #434B5C;\n",
              "      box-shadow: 0px 1px 3px 1px rgba(0, 0, 0, 0.15);\n",
              "      filter: drop-shadow(0px 1px 2px rgba(0, 0, 0, 0.3));\n",
              "      fill: #FFFFFF;\n",
              "    }\n",
              "  </style>\n",
              "\n",
              "    <script>\n",
              "      const buttonEl =\n",
              "        document.querySelector('#df-667f6c75-50e2-487c-8eb7-07d88e265216 button.colab-df-convert');\n",
              "      buttonEl.style.display =\n",
              "        google.colab.kernel.accessAllowed ? 'block' : 'none';\n",
              "\n",
              "      async function convertToInteractive(key) {\n",
              "        const element = document.querySelector('#df-667f6c75-50e2-487c-8eb7-07d88e265216');\n",
              "        const dataTable =\n",
              "          await google.colab.kernel.invokeFunction('convertToInteractive',\n",
              "                                                    [key], {});\n",
              "        if (!dataTable) return;\n",
              "\n",
              "        const docLinkHtml = 'Like what you see? Visit the ' +\n",
              "          '<a target=\"_blank\" href=https://colab.research.google.com/notebooks/data_table.ipynb>data table notebook</a>'\n",
              "          + ' to learn more about interactive tables.';\n",
              "        element.innerHTML = '';\n",
              "        dataTable['output_type'] = 'display_data';\n",
              "        await google.colab.output.renderOutput(dataTable, element);\n",
              "        const docLink = document.createElement('div');\n",
              "        docLink.innerHTML = docLinkHtml;\n",
              "        element.appendChild(docLink);\n",
              "      }\n",
              "    </script>\n",
              "  </div>\n",
              "\n",
              "\n",
              "<div id=\"df-26ea953b-7034-4dd9-9b30-f96f0310f2cc\">\n",
              "  <button class=\"colab-df-quickchart\" onclick=\"quickchart('df-26ea953b-7034-4dd9-9b30-f96f0310f2cc')\"\n",
              "            title=\"Suggest charts.\"\n",
              "            style=\"display:none;\">\n",
              "\n",
              "<svg xmlns=\"http://www.w3.org/2000/svg\" height=\"24px\"viewBox=\"0 0 24 24\"\n",
              "     width=\"24px\">\n",
              "    <g>\n",
              "        <path d=\"M19 3H5c-1.1 0-2 .9-2 2v14c0 1.1.9 2 2 2h14c1.1 0 2-.9 2-2V5c0-1.1-.9-2-2-2zM9 17H7v-7h2v7zm4 0h-2V7h2v10zm4 0h-2v-4h2v4z\"/>\n",
              "    </g>\n",
              "</svg>\n",
              "  </button>\n",
              "\n",
              "<style>\n",
              "  .colab-df-quickchart {\n",
              "    background-color: #E8F0FE;\n",
              "    border: none;\n",
              "    border-radius: 50%;\n",
              "    cursor: pointer;\n",
              "    display: none;\n",
              "    fill: #1967D2;\n",
              "    height: 32px;\n",
              "    padding: 0 0 0 0;\n",
              "    width: 32px;\n",
              "  }\n",
              "\n",
              "  .colab-df-quickchart:hover {\n",
              "    background-color: #E2EBFA;\n",
              "    box-shadow: 0px 1px 2px rgba(60, 64, 67, 0.3), 0px 1px 3px 1px rgba(60, 64, 67, 0.15);\n",
              "    fill: #174EA6;\n",
              "  }\n",
              "\n",
              "  [theme=dark] .colab-df-quickchart {\n",
              "    background-color: #3B4455;\n",
              "    fill: #D2E3FC;\n",
              "  }\n",
              "\n",
              "  [theme=dark] .colab-df-quickchart:hover {\n",
              "    background-color: #434B5C;\n",
              "    box-shadow: 0px 1px 3px 1px rgba(0, 0, 0, 0.15);\n",
              "    filter: drop-shadow(0px 1px 2px rgba(0, 0, 0, 0.3));\n",
              "    fill: #FFFFFF;\n",
              "  }\n",
              "</style>\n",
              "\n",
              "  <script>\n",
              "    async function quickchart(key) {\n",
              "      const charts = await google.colab.kernel.invokeFunction(\n",
              "          'suggestCharts', [key], {});\n",
              "    }\n",
              "    (() => {\n",
              "      let quickchartButtonEl =\n",
              "        document.querySelector('#df-26ea953b-7034-4dd9-9b30-f96f0310f2cc button');\n",
              "      quickchartButtonEl.style.display =\n",
              "        google.colab.kernel.accessAllowed ? 'block' : 'none';\n",
              "    })();\n",
              "  </script>\n",
              "</div>\n",
              "    </div>\n",
              "  </div>\n"
            ]
          },
          "metadata": {},
          "execution_count": 4
        }
      ]
    },
    {
      "cell_type": "code",
      "source": [
        "print((dataset.label == 1).sum()) # real news number\n",
        "print((dataset.label == 0).sum()) # fake news number"
      ],
      "metadata": {
        "colab": {
          "base_uri": "https://localhost:8080/"
        },
        "id": "yhbOQIbOHu2c",
        "outputId": "8056aa94-e375-40f3-9fe1-9cefc1e74ebd"
      },
      "execution_count": 5,
      "outputs": [
        {
          "output_type": "stream",
          "name": "stdout",
          "text": [
            "16817\n",
            "5323\n"
          ]
        }
      ]
    },
    {
      "cell_type": "code",
      "source": [
        "#rename the title column to news\n",
        "dataset.rename(columns= {'title': 'news'}, inplace= True)"
      ],
      "metadata": {
        "id": "4B746I0dHxrS"
      },
      "execution_count": 7,
      "outputs": []
    },
    {
      "cell_type": "code",
      "source": [
        "df= dataset[['news']]\n",
        "label= dataset[['label']]\n",
        "other_features= dataset.drop(['news', 'label'], axis= 1)\n",
        "df.head(3)"
      ],
      "metadata": {
        "id": "cXViQE-GifxK",
        "colab": {
          "base_uri": "https://localhost:8080/",
          "height": 143
        },
        "outputId": "b94199fd-a4ad-437e-9009-3d0d758b0882"
      },
      "execution_count": 13,
      "outputs": [
        {
          "output_type": "execute_result",
          "data": {
            "text/plain": [
              "                                                news\n",
              "0  Did Miley Cyrus and Liam Hemsworth secretly ge...\n",
              "1  Paris Jackson & Cara Delevingne Enjoy Night Ou...\n",
              "2  Celebrities Join Tax March in Protest of Donal..."
            ],
            "text/html": [
              "\n",
              "  <div id=\"df-926d55b0-12e7-4b1c-aa96-ef47cc6c4b92\" class=\"colab-df-container\">\n",
              "    <div>\n",
              "<style scoped>\n",
              "    .dataframe tbody tr th:only-of-type {\n",
              "        vertical-align: middle;\n",
              "    }\n",
              "\n",
              "    .dataframe tbody tr th {\n",
              "        vertical-align: top;\n",
              "    }\n",
              "\n",
              "    .dataframe thead th {\n",
              "        text-align: right;\n",
              "    }\n",
              "</style>\n",
              "<table border=\"1\" class=\"dataframe\">\n",
              "  <thead>\n",
              "    <tr style=\"text-align: right;\">\n",
              "      <th></th>\n",
              "      <th>news</th>\n",
              "    </tr>\n",
              "  </thead>\n",
              "  <tbody>\n",
              "    <tr>\n",
              "      <th>0</th>\n",
              "      <td>Did Miley Cyrus and Liam Hemsworth secretly ge...</td>\n",
              "    </tr>\n",
              "    <tr>\n",
              "      <th>1</th>\n",
              "      <td>Paris Jackson &amp; Cara Delevingne Enjoy Night Ou...</td>\n",
              "    </tr>\n",
              "    <tr>\n",
              "      <th>2</th>\n",
              "      <td>Celebrities Join Tax March in Protest of Donal...</td>\n",
              "    </tr>\n",
              "  </tbody>\n",
              "</table>\n",
              "</div>\n",
              "    <div class=\"colab-df-buttons\">\n",
              "\n",
              "  <div class=\"colab-df-container\">\n",
              "    <button class=\"colab-df-convert\" onclick=\"convertToInteractive('df-926d55b0-12e7-4b1c-aa96-ef47cc6c4b92')\"\n",
              "            title=\"Convert this dataframe to an interactive table.\"\n",
              "            style=\"display:none;\">\n",
              "\n",
              "  <svg xmlns=\"http://www.w3.org/2000/svg\" height=\"24px\" viewBox=\"0 -960 960 960\">\n",
              "    <path d=\"M120-120v-720h720v720H120Zm60-500h600v-160H180v160Zm220 220h160v-160H400v160Zm0 220h160v-160H400v160ZM180-400h160v-160H180v160Zm440 0h160v-160H620v160ZM180-180h160v-160H180v160Zm440 0h160v-160H620v160Z\"/>\n",
              "  </svg>\n",
              "    </button>\n",
              "\n",
              "  <style>\n",
              "    .colab-df-container {\n",
              "      display:flex;\n",
              "      gap: 12px;\n",
              "    }\n",
              "\n",
              "    .colab-df-convert {\n",
              "      background-color: #E8F0FE;\n",
              "      border: none;\n",
              "      border-radius: 50%;\n",
              "      cursor: pointer;\n",
              "      display: none;\n",
              "      fill: #1967D2;\n",
              "      height: 32px;\n",
              "      padding: 0 0 0 0;\n",
              "      width: 32px;\n",
              "    }\n",
              "\n",
              "    .colab-df-convert:hover {\n",
              "      background-color: #E2EBFA;\n",
              "      box-shadow: 0px 1px 2px rgba(60, 64, 67, 0.3), 0px 1px 3px 1px rgba(60, 64, 67, 0.15);\n",
              "      fill: #174EA6;\n",
              "    }\n",
              "\n",
              "    .colab-df-buttons div {\n",
              "      margin-bottom: 4px;\n",
              "    }\n",
              "\n",
              "    [theme=dark] .colab-df-convert {\n",
              "      background-color: #3B4455;\n",
              "      fill: #D2E3FC;\n",
              "    }\n",
              "\n",
              "    [theme=dark] .colab-df-convert:hover {\n",
              "      background-color: #434B5C;\n",
              "      box-shadow: 0px 1px 3px 1px rgba(0, 0, 0, 0.15);\n",
              "      filter: drop-shadow(0px 1px 2px rgba(0, 0, 0, 0.3));\n",
              "      fill: #FFFFFF;\n",
              "    }\n",
              "  </style>\n",
              "\n",
              "    <script>\n",
              "      const buttonEl =\n",
              "        document.querySelector('#df-926d55b0-12e7-4b1c-aa96-ef47cc6c4b92 button.colab-df-convert');\n",
              "      buttonEl.style.display =\n",
              "        google.colab.kernel.accessAllowed ? 'block' : 'none';\n",
              "\n",
              "      async function convertToInteractive(key) {\n",
              "        const element = document.querySelector('#df-926d55b0-12e7-4b1c-aa96-ef47cc6c4b92');\n",
              "        const dataTable =\n",
              "          await google.colab.kernel.invokeFunction('convertToInteractive',\n",
              "                                                    [key], {});\n",
              "        if (!dataTable) return;\n",
              "\n",
              "        const docLinkHtml = 'Like what you see? Visit the ' +\n",
              "          '<a target=\"_blank\" href=https://colab.research.google.com/notebooks/data_table.ipynb>data table notebook</a>'\n",
              "          + ' to learn more about interactive tables.';\n",
              "        element.innerHTML = '';\n",
              "        dataTable['output_type'] = 'display_data';\n",
              "        await google.colab.output.renderOutput(dataTable, element);\n",
              "        const docLink = document.createElement('div');\n",
              "        docLink.innerHTML = docLinkHtml;\n",
              "        element.appendChild(docLink);\n",
              "      }\n",
              "    </script>\n",
              "  </div>\n",
              "\n",
              "\n",
              "<div id=\"df-49bddb31-0a68-4953-bbf6-e3cc89bf6f35\">\n",
              "  <button class=\"colab-df-quickchart\" onclick=\"quickchart('df-49bddb31-0a68-4953-bbf6-e3cc89bf6f35')\"\n",
              "            title=\"Suggest charts.\"\n",
              "            style=\"display:none;\">\n",
              "\n",
              "<svg xmlns=\"http://www.w3.org/2000/svg\" height=\"24px\"viewBox=\"0 0 24 24\"\n",
              "     width=\"24px\">\n",
              "    <g>\n",
              "        <path d=\"M19 3H5c-1.1 0-2 .9-2 2v14c0 1.1.9 2 2 2h14c1.1 0 2-.9 2-2V5c0-1.1-.9-2-2-2zM9 17H7v-7h2v7zm4 0h-2V7h2v10zm4 0h-2v-4h2v4z\"/>\n",
              "    </g>\n",
              "</svg>\n",
              "  </button>\n",
              "\n",
              "<style>\n",
              "  .colab-df-quickchart {\n",
              "    background-color: #E8F0FE;\n",
              "    border: none;\n",
              "    border-radius: 50%;\n",
              "    cursor: pointer;\n",
              "    display: none;\n",
              "    fill: #1967D2;\n",
              "    height: 32px;\n",
              "    padding: 0 0 0 0;\n",
              "    width: 32px;\n",
              "  }\n",
              "\n",
              "  .colab-df-quickchart:hover {\n",
              "    background-color: #E2EBFA;\n",
              "    box-shadow: 0px 1px 2px rgba(60, 64, 67, 0.3), 0px 1px 3px 1px rgba(60, 64, 67, 0.15);\n",
              "    fill: #174EA6;\n",
              "  }\n",
              "\n",
              "  [theme=dark] .colab-df-quickchart {\n",
              "    background-color: #3B4455;\n",
              "    fill: #D2E3FC;\n",
              "  }\n",
              "\n",
              "  [theme=dark] .colab-df-quickchart:hover {\n",
              "    background-color: #434B5C;\n",
              "    box-shadow: 0px 1px 3px 1px rgba(0, 0, 0, 0.15);\n",
              "    filter: drop-shadow(0px 1px 2px rgba(0, 0, 0, 0.3));\n",
              "    fill: #FFFFFF;\n",
              "  }\n",
              "</style>\n",
              "\n",
              "  <script>\n",
              "    async function quickchart(key) {\n",
              "      const charts = await google.colab.kernel.invokeFunction(\n",
              "          'suggestCharts', [key], {});\n",
              "    }\n",
              "    (() => {\n",
              "      let quickchartButtonEl =\n",
              "        document.querySelector('#df-49bddb31-0a68-4953-bbf6-e3cc89bf6f35 button');\n",
              "      quickchartButtonEl.style.display =\n",
              "        google.colab.kernel.accessAllowed ? 'block' : 'none';\n",
              "    })();\n",
              "  </script>\n",
              "</div>\n",
              "    </div>\n",
              "  </div>\n"
            ]
          },
          "metadata": {},
          "execution_count": 13
        }
      ]
    },
    {
      "cell_type": "code",
      "source": [
        "# cleanning dataset"
      ],
      "metadata": {
        "id": "D8ucKYFGJKvg"
      },
      "execution_count": null,
      "outputs": []
    },
    {
      "cell_type": "code",
      "source": [
        "def remove_URL(text):\n",
        "  url= re.compile(r'https?://\\S+|www\\.|S+')\n",
        "  return url.sub(r\"\", text)"
      ],
      "metadata": {
        "id": "RCtVRiRE4-QA"
      },
      "execution_count": 9,
      "outputs": []
    },
    {
      "cell_type": "code",
      "source": [
        "def remove_punctuation(text):\n",
        "  trnsltr= str.maketrans(\"\",\"\", string.punctuation)\n",
        "  return text.translate(trnsltr)"
      ],
      "metadata": {
        "id": "dNcQOzRl4-ql"
      },
      "execution_count": 10,
      "outputs": []
    },
    {
      "cell_type": "code",
      "source": [
        "df['news']= df.news.map(remove_punctuation)\n",
        "df['news']= df.news.map(remove_URL)"
      ],
      "metadata": {
        "id": "Z8SW5aVK4-tF",
        "colab": {
          "base_uri": "https://localhost:8080/"
        },
        "outputId": "39542265-fd47-4cd0-9dd2-b99d80d748b2"
      },
      "execution_count": 14,
      "outputs": [
        {
          "output_type": "stream",
          "name": "stderr",
          "text": [
            "<ipython-input-14-a35a6abdf14c>:1: SettingWithCopyWarning: \n",
            "A value is trying to be set on a copy of a slice from a DataFrame.\n",
            "Try using .loc[row_indexer,col_indexer] = value instead\n",
            "\n",
            "See the caveats in the documentation: https://pandas.pydata.org/pandas-docs/stable/user_guide/indexing.html#returning-a-view-versus-a-copy\n",
            "  df['news']= df.news.map(remove_punctuation)\n",
            "<ipython-input-14-a35a6abdf14c>:2: SettingWithCopyWarning: \n",
            "A value is trying to be set on a copy of a slice from a DataFrame.\n",
            "Try using .loc[row_indexer,col_indexer] = value instead\n",
            "\n",
            "See the caveats in the documentation: https://pandas.pydata.org/pandas-docs/stable/user_guide/indexing.html#returning-a-view-versus-a-copy\n",
            "  df['news']= df.news.map(remove_URL)\n"
          ]
        }
      ]
    },
    {
      "cell_type": "code",
      "source": [
        "#remove stop words"
      ],
      "metadata": {
        "id": "Kf7oNETu4-vq"
      },
      "execution_count": null,
      "outputs": []
    },
    {
      "cell_type": "code",
      "source": [
        "nltk.download('stopwords')\n",
        "stop= set(stopwords.words(\"english\"))\n",
        "def remove_stopwords(text):\n",
        "  result= [word.lower() for word in text.split() if word.lower() not in stop]\n",
        "  return ' '.join(result)\n"
      ],
      "metadata": {
        "id": "4m5pteo0KHq_",
        "colab": {
          "base_uri": "https://localhost:8080/"
        },
        "outputId": "740edbec-9507-42ba-b0d3-eef21789d153"
      },
      "execution_count": 16,
      "outputs": [
        {
          "output_type": "stream",
          "name": "stderr",
          "text": [
            "[nltk_data] Downloading package stopwords to /root/nltk_data...\n",
            "[nltk_data]   Package stopwords is already up-to-date!\n"
          ]
        }
      ]
    },
    {
      "cell_type": "code",
      "source": [
        "df['news']= df.news.map(remove_stopwords)"
      ],
      "metadata": {
        "id": "OPldIi3eKyTw",
        "colab": {
          "base_uri": "https://localhost:8080/"
        },
        "outputId": "279e9a5c-bf35-45da-e621-35017f65d88b"
      },
      "execution_count": 17,
      "outputs": [
        {
          "output_type": "stream",
          "name": "stderr",
          "text": [
            "<ipython-input-17-b1b16693267d>:1: SettingWithCopyWarning: \n",
            "A value is trying to be set on a copy of a slice from a DataFrame.\n",
            "Try using .loc[row_indexer,col_indexer] = value instead\n",
            "\n",
            "See the caveats in the documentation: https://pandas.pydata.org/pandas-docs/stable/user_guide/indexing.html#returning-a-view-versus-a-copy\n",
            "  df['news']= df.news.map(remove_stopwords)\n"
          ]
        }
      ]
    },
    {
      "cell_type": "code",
      "source": [
        "nltk.download('averaged_perceptron_tagger')\n"
      ],
      "metadata": {
        "colab": {
          "base_uri": "https://localhost:8080/"
        },
        "id": "_nE3seq87y_k",
        "outputId": "e9f73c5b-954b-44fc-f87d-ccd2b2b035a1"
      },
      "execution_count": 18,
      "outputs": [
        {
          "output_type": "stream",
          "name": "stderr",
          "text": [
            "[nltk_data] Downloading package averaged_perceptron_tagger to\n",
            "[nltk_data]     /root/nltk_data...\n",
            "[nltk_data]   Unzipping taggers/averaged_perceptron_tagger.zip.\n"
          ]
        },
        {
          "output_type": "execute_result",
          "data": {
            "text/plain": [
              "True"
            ]
          },
          "metadata": {},
          "execution_count": 18
        }
      ]
    },
    {
      "cell_type": "code",
      "source": [
        "from nltk.stem import *\n",
        "from nltk.stem.porter import *\n",
        "stemmer = PorterStemmer()\n",
        "\n",
        "pos= pos_tag(df['news'])\n",
        "df['news'] = [stemmer.stem(tagged_word[0]) for tagged_word in pos]\n",
        "\n"
      ],
      "metadata": {
        "id": "t71s3CTz7haq",
        "colab": {
          "base_uri": "https://localhost:8080/"
        },
        "outputId": "a3d10da4-04e5-4dce-c22f-f7fa745faefc"
      },
      "execution_count": 19,
      "outputs": [
        {
          "output_type": "stream",
          "name": "stderr",
          "text": [
            "<ipython-input-19-75a18c877c3d>:6: SettingWithCopyWarning: \n",
            "A value is trying to be set on a copy of a slice from a DataFrame.\n",
            "Try using .loc[row_indexer,col_indexer] = value instead\n",
            "\n",
            "See the caveats in the documentation: https://pandas.pydata.org/pandas-docs/stable/user_guide/indexing.html#returning-a-view-versus-a-copy\n",
            "  df['news'] = [stemmer.stem(tagged_word[0]) for tagged_word in pos]\n"
          ]
        }
      ]
    },
    {
      "cell_type": "code",
      "source": [
        "df"
      ],
      "metadata": {
        "colab": {
          "base_uri": "https://localhost:8080/",
          "height": 424
        },
        "id": "j02d3pNlKyjt",
        "outputId": "59775985-c950-4fa7-9140-a4c13ed339b6"
      },
      "execution_count": 20,
      "outputs": [
        {
          "output_type": "execute_result",
          "data": {
            "text/plain": [
              "                                                    news\n",
              "0          miley cyrus liam hemsworth secretly get marri\n",
              "1      paris jackson cara delevingne enjoy night matc...\n",
              "2        celebrities join tax march protest donald trump\n",
              "3      cindy crawfords daughter kaia gerber wears wig...\n",
              "4             full list 2018 oscar nominations – varieti\n",
              "...                                                  ...\n",
              "22135      2017 hollywood film awards complete list winn\n",
              "22136      jada pinkett mith explains son jaden moved 15\n",
              "22137    tinsley mortimer reacts luann de lesseps relaps\n",
              "22138  prince harry carries princess diana’s legacy a...\n",
              "22139          kylie jenner actually terrified butterfli\n",
              "\n",
              "[22140 rows x 1 columns]"
            ],
            "text/html": [
              "\n",
              "  <div id=\"df-9b777d6e-3f29-4763-adfd-1fb26a9e249d\" class=\"colab-df-container\">\n",
              "    <div>\n",
              "<style scoped>\n",
              "    .dataframe tbody tr th:only-of-type {\n",
              "        vertical-align: middle;\n",
              "    }\n",
              "\n",
              "    .dataframe tbody tr th {\n",
              "        vertical-align: top;\n",
              "    }\n",
              "\n",
              "    .dataframe thead th {\n",
              "        text-align: right;\n",
              "    }\n",
              "</style>\n",
              "<table border=\"1\" class=\"dataframe\">\n",
              "  <thead>\n",
              "    <tr style=\"text-align: right;\">\n",
              "      <th></th>\n",
              "      <th>news</th>\n",
              "    </tr>\n",
              "  </thead>\n",
              "  <tbody>\n",
              "    <tr>\n",
              "      <th>0</th>\n",
              "      <td>miley cyrus liam hemsworth secretly get marri</td>\n",
              "    </tr>\n",
              "    <tr>\n",
              "      <th>1</th>\n",
              "      <td>paris jackson cara delevingne enjoy night matc...</td>\n",
              "    </tr>\n",
              "    <tr>\n",
              "      <th>2</th>\n",
              "      <td>celebrities join tax march protest donald trump</td>\n",
              "    </tr>\n",
              "    <tr>\n",
              "      <th>3</th>\n",
              "      <td>cindy crawfords daughter kaia gerber wears wig...</td>\n",
              "    </tr>\n",
              "    <tr>\n",
              "      <th>4</th>\n",
              "      <td>full list 2018 oscar nominations – varieti</td>\n",
              "    </tr>\n",
              "    <tr>\n",
              "      <th>...</th>\n",
              "      <td>...</td>\n",
              "    </tr>\n",
              "    <tr>\n",
              "      <th>22135</th>\n",
              "      <td>2017 hollywood film awards complete list winn</td>\n",
              "    </tr>\n",
              "    <tr>\n",
              "      <th>22136</th>\n",
              "      <td>jada pinkett mith explains son jaden moved 15</td>\n",
              "    </tr>\n",
              "    <tr>\n",
              "      <th>22137</th>\n",
              "      <td>tinsley mortimer reacts luann de lesseps relaps</td>\n",
              "    </tr>\n",
              "    <tr>\n",
              "      <th>22138</th>\n",
              "      <td>prince harry carries princess diana’s legacy a...</td>\n",
              "    </tr>\n",
              "    <tr>\n",
              "      <th>22139</th>\n",
              "      <td>kylie jenner actually terrified butterfli</td>\n",
              "    </tr>\n",
              "  </tbody>\n",
              "</table>\n",
              "<p>22140 rows × 1 columns</p>\n",
              "</div>\n",
              "    <div class=\"colab-df-buttons\">\n",
              "\n",
              "  <div class=\"colab-df-container\">\n",
              "    <button class=\"colab-df-convert\" onclick=\"convertToInteractive('df-9b777d6e-3f29-4763-adfd-1fb26a9e249d')\"\n",
              "            title=\"Convert this dataframe to an interactive table.\"\n",
              "            style=\"display:none;\">\n",
              "\n",
              "  <svg xmlns=\"http://www.w3.org/2000/svg\" height=\"24px\" viewBox=\"0 -960 960 960\">\n",
              "    <path d=\"M120-120v-720h720v720H120Zm60-500h600v-160H180v160Zm220 220h160v-160H400v160Zm0 220h160v-160H400v160ZM180-400h160v-160H180v160Zm440 0h160v-160H620v160ZM180-180h160v-160H180v160Zm440 0h160v-160H620v160Z\"/>\n",
              "  </svg>\n",
              "    </button>\n",
              "\n",
              "  <style>\n",
              "    .colab-df-container {\n",
              "      display:flex;\n",
              "      gap: 12px;\n",
              "    }\n",
              "\n",
              "    .colab-df-convert {\n",
              "      background-color: #E8F0FE;\n",
              "      border: none;\n",
              "      border-radius: 50%;\n",
              "      cursor: pointer;\n",
              "      display: none;\n",
              "      fill: #1967D2;\n",
              "      height: 32px;\n",
              "      padding: 0 0 0 0;\n",
              "      width: 32px;\n",
              "    }\n",
              "\n",
              "    .colab-df-convert:hover {\n",
              "      background-color: #E2EBFA;\n",
              "      box-shadow: 0px 1px 2px rgba(60, 64, 67, 0.3), 0px 1px 3px 1px rgba(60, 64, 67, 0.15);\n",
              "      fill: #174EA6;\n",
              "    }\n",
              "\n",
              "    .colab-df-buttons div {\n",
              "      margin-bottom: 4px;\n",
              "    }\n",
              "\n",
              "    [theme=dark] .colab-df-convert {\n",
              "      background-color: #3B4455;\n",
              "      fill: #D2E3FC;\n",
              "    }\n",
              "\n",
              "    [theme=dark] .colab-df-convert:hover {\n",
              "      background-color: #434B5C;\n",
              "      box-shadow: 0px 1px 3px 1px rgba(0, 0, 0, 0.15);\n",
              "      filter: drop-shadow(0px 1px 2px rgba(0, 0, 0, 0.3));\n",
              "      fill: #FFFFFF;\n",
              "    }\n",
              "  </style>\n",
              "\n",
              "    <script>\n",
              "      const buttonEl =\n",
              "        document.querySelector('#df-9b777d6e-3f29-4763-adfd-1fb26a9e249d button.colab-df-convert');\n",
              "      buttonEl.style.display =\n",
              "        google.colab.kernel.accessAllowed ? 'block' : 'none';\n",
              "\n",
              "      async function convertToInteractive(key) {\n",
              "        const element = document.querySelector('#df-9b777d6e-3f29-4763-adfd-1fb26a9e249d');\n",
              "        const dataTable =\n",
              "          await google.colab.kernel.invokeFunction('convertToInteractive',\n",
              "                                                    [key], {});\n",
              "        if (!dataTable) return;\n",
              "\n",
              "        const docLinkHtml = 'Like what you see? Visit the ' +\n",
              "          '<a target=\"_blank\" href=https://colab.research.google.com/notebooks/data_table.ipynb>data table notebook</a>'\n",
              "          + ' to learn more about interactive tables.';\n",
              "        element.innerHTML = '';\n",
              "        dataTable['output_type'] = 'display_data';\n",
              "        await google.colab.output.renderOutput(dataTable, element);\n",
              "        const docLink = document.createElement('div');\n",
              "        docLink.innerHTML = docLinkHtml;\n",
              "        element.appendChild(docLink);\n",
              "      }\n",
              "    </script>\n",
              "  </div>\n",
              "\n",
              "\n",
              "<div id=\"df-4a2dedf9-0dd9-4abb-823d-dd0fbbce6462\">\n",
              "  <button class=\"colab-df-quickchart\" onclick=\"quickchart('df-4a2dedf9-0dd9-4abb-823d-dd0fbbce6462')\"\n",
              "            title=\"Suggest charts.\"\n",
              "            style=\"display:none;\">\n",
              "\n",
              "<svg xmlns=\"http://www.w3.org/2000/svg\" height=\"24px\"viewBox=\"0 0 24 24\"\n",
              "     width=\"24px\">\n",
              "    <g>\n",
              "        <path d=\"M19 3H5c-1.1 0-2 .9-2 2v14c0 1.1.9 2 2 2h14c1.1 0 2-.9 2-2V5c0-1.1-.9-2-2-2zM9 17H7v-7h2v7zm4 0h-2V7h2v10zm4 0h-2v-4h2v4z\"/>\n",
              "    </g>\n",
              "</svg>\n",
              "  </button>\n",
              "\n",
              "<style>\n",
              "  .colab-df-quickchart {\n",
              "    background-color: #E8F0FE;\n",
              "    border: none;\n",
              "    border-radius: 50%;\n",
              "    cursor: pointer;\n",
              "    display: none;\n",
              "    fill: #1967D2;\n",
              "    height: 32px;\n",
              "    padding: 0 0 0 0;\n",
              "    width: 32px;\n",
              "  }\n",
              "\n",
              "  .colab-df-quickchart:hover {\n",
              "    background-color: #E2EBFA;\n",
              "    box-shadow: 0px 1px 2px rgba(60, 64, 67, 0.3), 0px 1px 3px 1px rgba(60, 64, 67, 0.15);\n",
              "    fill: #174EA6;\n",
              "  }\n",
              "\n",
              "  [theme=dark] .colab-df-quickchart {\n",
              "    background-color: #3B4455;\n",
              "    fill: #D2E3FC;\n",
              "  }\n",
              "\n",
              "  [theme=dark] .colab-df-quickchart:hover {\n",
              "    background-color: #434B5C;\n",
              "    box-shadow: 0px 1px 3px 1px rgba(0, 0, 0, 0.15);\n",
              "    filter: drop-shadow(0px 1px 2px rgba(0, 0, 0, 0.3));\n",
              "    fill: #FFFFFF;\n",
              "  }\n",
              "</style>\n",
              "\n",
              "  <script>\n",
              "    async function quickchart(key) {\n",
              "      const charts = await google.colab.kernel.invokeFunction(\n",
              "          'suggestCharts', [key], {});\n",
              "    }\n",
              "    (() => {\n",
              "      let quickchartButtonEl =\n",
              "        document.querySelector('#df-4a2dedf9-0dd9-4abb-823d-dd0fbbce6462 button');\n",
              "      quickchartButtonEl.style.display =\n",
              "        google.colab.kernel.accessAllowed ? 'block' : 'none';\n",
              "    })();\n",
              "  </script>\n",
              "</div>\n",
              "    </div>\n",
              "  </div>\n"
            ]
          },
          "metadata": {},
          "execution_count": 20
        }
      ]
    },
    {
      "cell_type": "code",
      "source": [
        "# counting unique words of news column\n",
        "def count_words(text_col):\n",
        "  counter= Counter()\n",
        "  for text in text_col:\n",
        "    for word in text.split():\n",
        "      counter[word] += 1\n",
        "  return counter\n"
      ],
      "metadata": {
        "id": "Uci-BLs44-zJ"
      },
      "execution_count": 21,
      "outputs": []
    },
    {
      "cell_type": "code",
      "source": [
        "counter= count_words(df['news'])"
      ],
      "metadata": {
        "id": "P5WujK969t2k"
      },
      "execution_count": 22,
      "outputs": []
    },
    {
      "cell_type": "code",
      "source": [
        "# number of unique words\n",
        "len(counter)"
      ],
      "metadata": {
        "colab": {
          "base_uri": "https://localhost:8080/"
        },
        "id": "q4lNc8eg_crU",
        "outputId": "639bb062-08a8-440d-a6d5-a03da97a0bf3"
      },
      "execution_count": 23,
      "outputs": [
        {
          "output_type": "execute_result",
          "data": {
            "text/plain": [
              "22801"
            ]
          },
          "metadata": {},
          "execution_count": 23
        }
      ]
    },
    {
      "cell_type": "code",
      "source": [
        "unique_words_num= len(counter)"
      ],
      "metadata": {
        "id": "pUQ_Gg3X_c50"
      },
      "execution_count": 24,
      "outputs": []
    },
    {
      "cell_type": "code",
      "source": [
        "embedding_dim= 100"
      ],
      "metadata": {
        "id": "OU2s-FYnaNrH"
      },
      "execution_count": 25,
      "outputs": []
    },
    {
      "cell_type": "code",
      "source": [
        "# Word2Vec"
      ],
      "metadata": {
        "id": "qOgG_RQTYZxG"
      },
      "execution_count": 26,
      "outputs": []
    },
    {
      "cell_type": "code",
      "source": [
        "X= [x.split() for x in df['news'].tolist()]"
      ],
      "metadata": {
        "id": "qlkV183XYZ5j"
      },
      "execution_count": 27,
      "outputs": []
    },
    {
      "cell_type": "code",
      "source": [
        "print(X[0])"
      ],
      "metadata": {
        "colab": {
          "base_uri": "https://localhost:8080/"
        },
        "id": "kMoCjdZ3YZ7W",
        "outputId": "60755cb6-e641-4f08-9196-ce4f2338f1f7"
      },
      "execution_count": 28,
      "outputs": [
        {
          "output_type": "stream",
          "name": "stdout",
          "text": [
            "['miley', 'cyrus', 'liam', 'hemsworth', 'secretly', 'get', 'marri']\n"
          ]
        }
      ]
    },
    {
      "cell_type": "code",
      "source": [
        "w2v_mdl= Word2Vec(sentences= X, window= 10, min_count=1 )"
      ],
      "metadata": {
        "id": "wtQys_t1YZ9P"
      },
      "execution_count": 29,
      "outputs": []
    },
    {
      "cell_type": "code",
      "source": [
        "len(w2v_mdl.wv.index_to_key)"
      ],
      "metadata": {
        "colab": {
          "base_uri": "https://localhost:8080/"
        },
        "id": "JtZf8frMapsm",
        "outputId": "8b8ca8c2-c288-405d-f630-1bfc7469a48c"
      },
      "execution_count": 30,
      "outputs": [
        {
          "output_type": "execute_result",
          "data": {
            "text/plain": [
              "22801"
            ]
          },
          "metadata": {},
          "execution_count": 30
        }
      ]
    },
    {
      "cell_type": "code",
      "source": [
        "# most similarity of 5 most common words"
      ],
      "metadata": {
        "id": "nfb4ksmGuHYE"
      },
      "execution_count": 31,
      "outputs": []
    },
    {
      "cell_type": "code",
      "source": [
        "print(most_common:= counter.most_common(5))"
      ],
      "metadata": {
        "colab": {
          "base_uri": "https://localhost:8080/"
        },
        "id": "vabP4rHw_c0j",
        "outputId": "5403ebde-1648-4295-dd58-d0b6e7f7ef9b"
      },
      "execution_count": 32,
      "outputs": [
        {
          "output_type": "stream",
          "name": "stdout",
          "text": [
            "[('new', 1137), ('kardashian', 1065), ('jennifer', 794), ('2018', 754), ('kim', 705)]\n"
          ]
        }
      ]
    },
    {
      "cell_type": "code",
      "source": [
        "print('word is: ',wrd:= most_common[0][0])\n",
        "w2v_mdl.wv.most_similar(wrd)"
      ],
      "metadata": {
        "colab": {
          "base_uri": "https://localhost:8080/"
        },
        "id": "GnSC1--Xtwmd",
        "outputId": "69a46242-6c45-425f-db43-e9327e2569a4"
      },
      "execution_count": 33,
      "outputs": [
        {
          "output_type": "stream",
          "name": "stdout",
          "text": [
            "word is:  new\n"
          ]
        },
        {
          "output_type": "execute_result",
          "data": {
            "text/plain": [
              "[('instagram', 0.9969065189361572),\n",
              " ('fear', 0.9966990351676941),\n",
              " ('fans', 0.9966177940368652),\n",
              " ('impson', 0.9964540004730225),\n",
              " ('campaign', 0.996318519115448),\n",
              " ('hares', 0.996316134929657),\n",
              " ('costume', 0.9962589740753174),\n",
              " ('track', 0.9962204694747925),\n",
              " ('shares', 0.9962005615234375),\n",
              " ('happy', 0.9961593747138977)]"
            ]
          },
          "metadata": {},
          "execution_count": 33
        }
      ]
    },
    {
      "cell_type": "code",
      "source": [
        "print('word is: ',wrd:= most_common[1][0])\n",
        "w2v_mdl.wv.most_similar(wrd)"
      ],
      "metadata": {
        "colab": {
          "base_uri": "https://localhost:8080/"
        },
        "id": "Yp-_JTXGt9Cs",
        "outputId": "c6e70199-b58f-481b-ae0c-5401a6ebe293"
      },
      "execution_count": 34,
      "outputs": [
        {
          "output_type": "stream",
          "name": "stdout",
          "text": [
            "word is:  kardashian\n"
          ]
        },
        {
          "output_type": "execute_result",
          "data": {
            "text/plain": [
              "[('kardashian’s', 0.992742657661438),\n",
              " ('kuwtk', 0.9896014928817749),\n",
              " ('thompson', 0.9883383512496948),\n",
              " ('west', 0.9882493615150452),\n",
              " ('tristan', 0.9867110252380371),\n",
              " ('wests', 0.9860159754753113),\n",
              " ('cattrall', 0.9844964742660522),\n",
              " ('kardashians', 0.9843482971191406),\n",
              " ('north', 0.9834754467010498),\n",
              " ('kanye', 0.9824379086494446)]"
            ]
          },
          "metadata": {},
          "execution_count": 34
        }
      ]
    },
    {
      "cell_type": "code",
      "source": [
        "print('word is: ',wrd:= most_common[2][0])\n",
        "w2v_mdl.wv.most_similar(wrd)"
      ],
      "metadata": {
        "colab": {
          "base_uri": "https://localhost:8080/"
        },
        "id": "jtKT8VV5t9HU",
        "outputId": "88de9a1e-e0b1-47a4-d0a0-eee33beafb7c"
      },
      "execution_count": 35,
      "outputs": [
        {
          "output_type": "stream",
          "name": "stdout",
          "text": [
            "word is:  jennifer\n"
          ]
        },
        {
          "output_type": "execute_result",
          "data": {
            "text/plain": [
              "[('alex', 0.9840958118438721),\n",
              " ('rodriguez', 0.9832463264465332),\n",
              " ('courteney', 0.9831142425537109),\n",
              " ('garner', 0.9810687303543091),\n",
              " ('casually', 0.9793148040771484),\n",
              " ('affleck', 0.9779932498931885),\n",
              " ('anistons', 0.9779021739959717),\n",
              " ('aniston’s', 0.9763872623443604),\n",
              " ('aniston', 0.9761765599250793),\n",
              " ('lawrence', 0.9753913879394531)]"
            ]
          },
          "metadata": {},
          "execution_count": 35
        }
      ]
    },
    {
      "cell_type": "code",
      "source": [
        "print('word is: ',wrd:= most_common[3][0])\n",
        "w2v_mdl.wv.most_similar(wrd)"
      ],
      "metadata": {
        "colab": {
          "base_uri": "https://localhost:8080/"
        },
        "id": "xu8nHQMWt9Ml",
        "outputId": "ab419779-b6a9-41c4-c611-28376dee4d07"
      },
      "execution_count": 36,
      "outputs": [
        {
          "output_type": "stream",
          "name": "stdout",
          "text": [
            "word is:  2018\n"
          ]
        },
        {
          "output_type": "execute_result",
          "data": {
            "text/plain": [
              "[('winners', 0.9969887137413025),\n",
              " ('ag', 0.9969119429588318),\n",
              " ('nominations', 0.9944235682487488),\n",
              " ('list', 0.9944152235984802),\n",
              " ('winn', 0.9936884641647339),\n",
              " ('award', 0.993586003780365),\n",
              " ('choice', 0.9928593039512634),\n",
              " ('awards', 0.9921836853027344),\n",
              " ('cma', 0.9918481111526489),\n",
              " ('nominees', 0.9913429021835327)]"
            ]
          },
          "metadata": {},
          "execution_count": 36
        }
      ]
    },
    {
      "cell_type": "code",
      "source": [
        "print('word is: ',wrd:= most_common[4][0])\n",
        "w2v_mdl.wv.most_similar(wrd)"
      ],
      "metadata": {
        "colab": {
          "base_uri": "https://localhost:8080/"
        },
        "id": "SPAUkNZUt9WM",
        "outputId": "5a187b72-fe92-4b6d-ae44-d16cd061664e"
      },
      "execution_count": 37,
      "outputs": [
        {
          "output_type": "stream",
          "name": "stdout",
          "text": [
            "word is:  kim\n"
          ]
        },
        {
          "output_type": "execute_result",
          "data": {
            "text/plain": [
              "[('tristan', 0.9925581216812134),\n",
              " ('khloe', 0.9924763441085815),\n",
              " ('north', 0.9918752908706665),\n",
              " ('wests', 0.9913380146026611),\n",
              " ('thompson', 0.9906131029129028),\n",
              " ('khloé', 0.9902854561805725),\n",
              " ('kourtney', 0.9892439246177673),\n",
              " ('west', 0.9892203211784363),\n",
              " ('kuwtk', 0.9887500405311584),\n",
              " ('kanye', 0.9881780743598938)]"
            ]
          },
          "metadata": {},
          "execution_count": 37
        }
      ]
    },
    {
      "cell_type": "code",
      "source": [
        "# vectorize a text into a sequence of integers by tokenizing\n",
        "# converting text into a sequence of integers\n",
        "def tokenize(text):\n",
        "  tokenizer= Tokenizer(num_words= unique_words_num)\n",
        "  tokenizer.fit_on_texts(text)\n",
        "  return tokenizer"
      ],
      "metadata": {
        "id": "x4i7rBNk_c_T"
      },
      "execution_count": 38,
      "outputs": []
    },
    {
      "cell_type": "code",
      "source": [
        "tokenizer= tokenize(X)\n"
      ],
      "metadata": {
        "id": "ElPB97MH_dBW"
      },
      "execution_count": 39,
      "outputs": []
    },
    {
      "cell_type": "code",
      "source": [
        "print(word_index:= tokenizer.word_index)"
      ],
      "metadata": {
        "id": "YILhT7Sa_dDe",
        "colab": {
          "base_uri": "https://localhost:8080/"
        },
        "outputId": "6ec3b113-b3ca-40c6-b431-3af9dda17a1d"
      },
      "execution_count": 40,
      "outputs": [
        {
          "output_type": "stream",
          "name": "stdout",
          "text": [
            "{'new': 1, 'kardashian': 2, 'jennifer': 3, '2018': 4, 'kim': 5, 'jenner': 6, 'baby': 7, 'justin': 8, 'meghan': 9, 'prince': 10, 'first': 11, 'eason': 12, 'wedding': 13, 'brad': 14, '–': 15, 'reveals': 16, 'elena': 17, '—': 18, 'tar': 19, 'watch': 20, 'best': 21, 'taylor': 22, '2017': 23, 'video': 24, 'pitt': 25, 'awards': 26, 'kylie': 27, 'harry': 28, 'ee': 29, 'ays': 30, 'kate': 31, 'gomez': 32, 'back': 33, 'photo': 34, 'angelina': 35, 'markle': 36, 'report': 37, 'get': 38, '2': 39, 'cott': 40, 'tv': 41, 'royal': 42, 'blake': 43, 'chris': 44, 'relationship': 45, 'award': 46, 'birthday': 47, 'love': 48, 'day': 49, 'aniston': 50, 'family': 51, 'west': 52, 'wift': 53, 'kanye': 54, 'look': 55, 'ex': 56, 'khloe': 57, 'jolie': 58, 'plit': 59, 'tars': 60, 'daughter': 61, 'dating': 62, 'bella': 63, 'pregnant': 64, 'music': 65, 'bieber': 66, 'red': 67, 'real': 68, 'james': 69, 'trump': 70, 'mom': 71, 'year': 72, 'tom': 73, 'ryan': 74, 'know': 75, 'worth': 76, 'inside': 77, 'gets': 78, 'divorce': 79, 'cast': 80, 'john': 81, 'like': 82, 'time': 83, 'middleton': 84, 'ben': 85, 'years': 86, 'carpet': 87, '3': 88, 'life': 89, 'kourtney': 90, 'fans': 91, 'hollywood': 92, 'death': 93, '5': 94, 'one': 95, 'bachelor': 96, 'hes': 97, 'big': 98, 'gwen': 99, 'net': 100, 'helton': 101, 'ecret': 102, 'wife': 103, 'celebrity': 104, 'kelly': 105, 'date': 106, 'instagram': 107, 'jessica': 108, 'wed': 109, 'night': 110, 'child': 111, 'hares': 112, 'boyfriend': 113, 'katie': 114, 'fashion': 115, 'lopez': 116, 'reportedly': 117, 'p': 118, 'jackson': 119, 'kendall': 120, 'david': 121, 'list': 122, 'talks': 123, 'tefani': 124, 'wants': 125, 'rumors': 126, 'hadid': 127, 'met': 128, 'husband': 129, 'williams': 130, 'dress': 131, 'makes': 132, '‘the': 133, 'kids': 134, 'robert': 135, 'star': 136, 'us': 137, 'married': 138, 'birth': 139, 'nicole': 140, 'katy': 141, 'top': 142, '10': 143, 'news': 144, 'marriage': 145, 'says': 146, 'harvey': 147, 'despite': 148, 'got': 149, 'reunion': 150, 'things': 151, 'celebrities': 152, 'really': 153, 'pregnancy': 154, 'disick': 155, 'kardashians': 156, 'cyrus': 157, 'miley': 158, 'calls': 159, 'paris': 160, 'jamie': 161, 'million': 162, 'princess': 163, 'affleck': 164, 'movie': 165, 'drama': 166, 'everything': 167, 'gala': 168, 'amid': 169, 'season': 170, 'kris': 171, 'girl': 172, 'american': 173, 'perry': 174, 'jimmy': 175, 'opens': 176, 'rumor': 177, 'george': 178, 'tour': 179, 'photos': 180, 'varieti': 181, 'caitlyn': 182, 'getting': 183, 'together': 184, 'gives': 185, 'william': 186, 'golden': 187, 'tristan': 188, 'theroux': 189, 'alex': 190, 'ellen': 191, 'd': 192, 'chrissy': 193, 'make': 194, 'looks': 195, 'christmas': 196, 'liam': 197, 'heres': 198, '7': 199, 'girlfriend': 200, 'he’s': 201, 'matt': 202, 'la': 203, 'holmes': 204, 'teen': 205, 'body': 206, 'engaged': 207, 'michael': 208, 'beauty': 209, 'thompson': 210, 'gigi': 211, 'return': 212, 'two': 213, 'rodriguez': 214, 'ofia': 215, 'housewives': 216, 'made': 217, 'feud': 218, 'brown': 219, 'kristen': 220, 'party': 221, 'nick': 222, 'choice': 223, 'man': 224, 'nikki': 225, 'last': 226, 'weinstein': 227, 'recap': 228, 'ariana': 229, 'game': 230, 'beyoncé': 231, 'never': 232, 'de': 233, 'hair': 234, 'hows': 235, 'show': 236, 'travis': 237, 'b': 238, 'exual': 239, 'till': 240, 'black': 241, 'arah': 242, 'could': 243, 'people': 244, 'every': 245, 'world': 246, 'film': 247, 'little': 248, 'queen': 249, 'breaks': 250, '4': 251, 'good': 252, 'behind': 253, '8': 254, 'donald': 255, 'joe': 256, 'lawrence': 257, 'tory': 258, 'live': 259, 'miranda': 260, 'split': 261, 'week': 262, 'woman': 263, 'want': 264, 'kidman': 265, 'garner': 266, 'need': 267, 'way': 268, 'econd': 269, 'late': 270, 'jayz': 271, 'clooney': 272, 'women': 273, 'rose': 274, 'pattinson': 275, 'break': 276, 'oscars': 277, 'celebrates': 278, 'finale': 279, 'beyonce': 280, 'ay': 281, 'mith': 282, 'go': 283, 'end': 284, 'dancing': 285, 'ong': 286, 'engagement': 287, 'happy': 288, 'lindsay': 289, 'demi': 290, 'interview': 291, 'much': 292, 'premiere': 293, 'pratt': 294, 'finally': 295, 'dad': 296, 'house': 297, 'moments': 298, 'bachelorette': 299, 'claims': 300, 'react': 301, 'anna': 302, 'emma': 303, 'cheating': 304, 'take': 305, 'home': 306, 'actor': 307, 'kevin': 308, 'netflix': 309, 'rihanna': 310, 'friends': 311, 'markles': 312, 'romance': 313, 'complete': 314, 'tyle': 315, 'foxx': 316, 'exclu': 317, 'makeup': 318, 'explains': 319, 'billboard': 320, 'details': 321, 'et': 322, 'welcome': 323, 'teigen': 324, 'mtv': 325, 'tribute': 326, 'would': 327, 'following': 328, 'final': 329, 'wears': 330, '1': 331, 'may': 332, 'khloé': 333, 'dead': 334, 'beckham': 335, 'u': 336, 'admits': 337, 'richie': 338, 'togeth': 339, 'celebrate': 340, 'globes': 341, 'going': 342, 'parti': 343, 'responds': 344, 'total': 345, '15': 346, 'degeneres': 347, 'grande': 348, 'erena': 349, 'trailer': 350, 'oscar': 351, 'biggest': 352, 'meet': 353, 'josh': 354, 'tim': 355, 'divorc': 356, 'full': 357, 'ev': 358, 'media': 359, 'emotional': 360, 'car': 361, 'fan': 362, 'former': 363, 'weeknd': 364, 'claim': 365, 'breakup': 366, 'twitter': 367, 'rob': 368, '6': 369, 'perfect': 370, 'friend': 371, 'cruise': 372, '13': 373, 'exclus': 374, 'johnson': 375, 'months': 376, 'britney': 377, 'rachel': 378, 'lady': 379, 'im': 380, 'cardi': 381, 'kid': 382, 'babi': 383, 'tori': 384, 'boy': 385, 'goes': 386, 'ever': 387, 'christina': 388, 'times': 389, 'hemsworth': 390, 'jr': 391, 'album': 392, 'concert': 393, 'e': 394, 'uper': 395, 'girls': 396, 'white': 397, 'expecting': 398, 'ashley': 399, 'help': 400, 'next': 401, 'name': 402, 'talk': 403, 'r': 404, 'actress': 405, 'fight': 406, 'revenge': 407, 'lovato': 408, 'lauren': 409, 'hot': 410, 'twin': 411, 'twins': 412, 'rev': 413, 'drake': 414, 'vegas': 415, 'thrones': 416, 'pippa': 417, 'jokes': 418, 'host': 419, 'tyler': 420, 'eries': 421, 'marriag': 422, 'takes': 423, 'today': 424, 'timeline': 425, 'adorable': 426, 'halloween': 427, 'jonas': 428, 'carrie': 429, 'york': 430, 'ag': 431, '20': 432, 'parker': 433, 'bump': 434, 'trip': 435, 'weet': 436, 'winners': 437, 'didnt': 438, 'true': 439, 'away': 440, 'latest': 441, 'heart': 442, 'ready': 443, 'perform': 444, 'emmy': 445, 'amber': 446, 'wear': 447, 'lif': 448, 'vanessa': 449, 'pears': 450, 'blac': 451, 'kimmel': 452, 'making': 453, 'winter': 454, 'ince': 455, 'miss': 456, 'couple': 457, 'las': 458, 'lov': 459, 'denies': 460, 'adam': 461, 'leaving': 462, '9': 463, 'jenna': 464, 'reveal': 465, 'dies': 466, 'gwyneth': 467, 'alleged': 468, 'sexual': 469, 'olivia': 470, 'king': 471, 'impson': 472, 'mariah': 473, 'public': 474, 'oprah': 475, 'reason': 476, 'dream': 477, 'plans': 478, 'weight': 479, 'assault': 480, 'pink': 481, 'urprise': 482, 'victoria': 483, 'romantic': 484, 'hudson': 485, 'jenners': 486, 'review': 487, 'epic': 488, 'war': 489, 'michelle': 490, 'history': 491, 'chyna': 492, 'baldwin': 493, 'win': 494, 'cant': 495, 'another': 496, 'might': 497, 'anthony': 498, 'disney': 499, 'order': 500, 'paradise': 501, 'episode': 502, 'corden': 503, 'think': 504, 'tewart': 505, 'elizabeth': 506, 'gift': 507, 'amal': 508, 'play': 509, 'wifts': 510, 'clarkson': 511, 'cover': 512, 'model': 513, 'wag': 514, 'engag': 515, 'dog': 516, 'celeb': 517, 'celebs': 518, 'anniversary': 519, 'announces': 520, 'debut': 521, 'luann': 522, 'addresses': 523, 'lams': 524, 'jason': 525, 'reasons': 526, 'face': 527, 'tells': 528, 'grammys': 529, 'shares': 530, 'ring': 531, 'cena': 532, 'old': 533, 'returns': 534, 'brother': 535, 'paul': 536, 'rom': 537, 'ed': 538, 'pay': 539, 'even': 540, 'confirms': 541, 'wont': 542, 'kiss': 543, 'eva': 544, 'camila': 545, 'favorite': 546, 'plan': 547, 'timberlake': 548, 'planning': 549, 'performance': 550, 'amy': 551, 'ome': 552, 'medium': 553, 'revealed': 554, 'apologizes': 555, 'peek': 556, 'tyles': 557, 'famili': 558, 'shows': 559, 'bryan': 560, 'truth': 561, 'bad': 562, 'reese': 563, 'found': 564, 'fallon': 565, 'neak': 566, 'custody': 567, 'bowl': 568, 'son': 569, 'tweet': 570, 'lee': 571, 'battle': 572, 'give': 573, 'reports': 574, 'work': 575, 'k': 576, 'aturday': 577, 'moore': 578, 'mark': 579, 'tatum': 580, 'arrested': 581, 'nominations': 582, 'l': 583, 'dont': 584, 'ingle': 585, 'carey': 586, 'without': 587, 'ummer': 588, 'post': 589, 'jersey': 590, 'three': 591, 'message': 592, 'bell': 593, 'fake': 594, 'find': 595, 'dinner': 596, 'rules': 597, 'eric': 598, 'faris': 599, 'misconduct': 600, 'great': 601, 'reunite': 602, 'keith': 603, 'national': 604, '12': 605, 'bikini': 606, 'mother': 607, 'actually': 608, 'wins': 609, 'abc': 610, 'candal': 611, 'ahead': 612, 'decker': 613, 'say': 614, 'rock': 615, 'el': 616, 'attack': 617, 'hailey': 618, 'younes': 619, 'marries': 620, 'arie': 621, 'julia': 622, '50': 623, 'keep': 624, 'mo': 625, 'visit': 626, 'couples': 627, 'it’s': 628, 'wore': 629, 'paltrow': 630, 'coming': 631, 'arrest': 632, 'aaron': 633, 'dressed': 634, 'brie': 635, 'hit': 636, 'johnny': 637, 'eacrest': 638, 'call': 639, 'children': 640, 'book': 641, 'tone': 642, 'miami': 643, 'far': 644, 'london': 645, 'gaga': 646, 'outfit': 647, 'mendes': 648, 'worst': 649, 'coachella': 650, 'hilarious': 651, 'jessie': 652, 'diana': 653, 'health': 654, 'orlando': 655, 'jenn': 656, 'obama': 657, 'inger': 658, 'markl': 659, 'ister': 660, 'witherspoon': 661, 'lively': 662, 'here’s': 663, 'anatomy': 664, 'stars': 665, 'gave': 666, 'wearing': 667, 'wars': 668, 'fall': 669, 'lambert': 670, 'bloom': 671, 'lost': 672, 'young': 673, 'allegations': 674, 'pregn': 675, 'daught': 676, 'teases': 677, 'roseanne': 678, 'holiday': 679, 'tephen': 680, 'bobby': 681, 'mandy': 682, 'feel': 683, 'open': 684, 'los': 685, 'marri': 686, 'tormi': 687, 'father': 688, 'private': 689, 'nude': 690, 'j': 691, '‘i': 692, 'hould': 693, 'zayn': 694, 'fox': 695, 'days': 696, 'role': 697, '11': 698, 'release': 699, 'cancer': 700, 'didn’t': 701, 'dance': 702, 'ocial': 703, 'pretty': 704, 'matthew': 705, 'riverdale': 706, 'vote': 707, 'roberts': 708, 'feels': 709, 'giving': 710, 'isnt': 711, 'margot': 712, 'thinks': 713, 'city': 714, 'reynolds': 715, '14': 716, 'upport': 717, 'trail': 718, 'andy': 719, 'emily': 720, 'renewed': 721, 'can’t': 722, '25': 723, 'crash': 724, 'urban': 725, 'bill': 726, 'harassment': 727, 'secret': 728, 'returning': 729, 'team': 730, 'theyre': 731, 'walk': 732, 'beach': 733, 'peaks': 734, 'miller': 735, 'russell': 736, 'kuwtk': 737, 'america': 738, 'vacation': 739, 'urgery': 740, 'middletons': 741, 'exy': 742, 'loss': 743, 'guide': 744, 'long': 745, 'cutest': 746, 'high': 747, 'nyc': 748, 'month': 749, 'greys': 750, 'went': 751, 'luyendyk': 752, 'north': 753, 'peoples': 754, 'charles': 755, 'taking': 756, 'moment': 757, 'rehab': 758, 'hocking': 759, 'caught': 760, 'pda': 761, 'reboot': 762, 'friendship': 763, '’': 764, 'voice': 765, 'mama': 766, 'hades': 767, 'nicki': 768, 'tears': 769, 'ilence': 770, 'run': 771, 'right': 772, 'cabello': 773, 'heidi': 774, 'legend': 775, 'channing': 776, 'joins': 777, 'hilton': 778, 'ross': 779, 'plastic': 780, 'doesnt': 781, 'future': 782, 'moms': 783, 'vs': 784, 'hugh': 785, 'ecrets': 786, 'jay': 787, 'reality': 788, 'left': 789, 'mila': 790, 'pete': 791, 'major': 792, 'lip': 793, 'aid': 794, 'artist': 795, 'grammy': 796, 'lesseps': 797, 'vanderpump': 798, 'enjoy': 799, 'lawsuit': 800, 'third': 801, 'janet': 802, 'gossip': 803, 'chool': 804, 'career': 805, 'still': 806, 'called': 807, 'working': 808, 'president': 809, 'bff': 810, 'officially': 811, 'manchester': 812, 'hurricane': 813, 'premier': 814, 'cute': 815, 'defends': 816, 'alleg': 817, 'awkward': 818, 'carter': 819, 'hore': 820, 'rumored': 821, 'nam': 822, 'hits': 823, 'drew': 824, 'appearance': 825, 'weeks': 826, 'malik': 827, 'martin': 828, 'accused': 829, 'hoot': 830, 'past': 831, 'already': 832, 'thing': 833, 'al': 834, 'welcomes': 835, 'hawn': 836, 'episod': 837, 'evans': 838, 'money': 839, 'emmys': 840, 'portia': 841, 'dakota': 842, 'lauer': 843, 'lot': 844, 'due': 845, 'abuse': 846, 'heeran': 847, 'easter': 848, 'hart': 849, 'bendjima': 850, 'underwood': 851, 'changed': 852, 'duchess': 853, 'dewan': 854, 'hom': 855, 'alum': 856, 'avings': 857, 'join': 858, 'marry': 859, 'ecretly': 860, 'payne': 861, 'mean': 862, 'set': 863, 'kardashian’s': 864, 'men': 865, 'check': 866, 'guest': 867, 'idol': 868, 'mike': 869, 'hills': 870, 'alwyn': 871, 'tiffany': 872, 'almost': 873, 'age': 874, 'eye': 875, 'ad': 876, '100': 877, 'amazoncom': 878, 'winn': 879, 'thanks': 880, '30': 881, 'ourc': 882, 'cheryl': 883, 'meeting': 884, 'took': 885, 'wests': 886, 'minaj': 887, 'part': 888, 'platinum': 889, 'always': 890, 'kunis': 891, 'davidson': 892, 'according': 893, 'reaction': 894, 'reunites': 895, 'allegedly': 896, 'reputation': 897, 'larry': 898, 'kendra': 899, 'advice': 900, 'read': 901, 'grace': 902, 'becca': 903, 'botched': 904, 'wwe': 905, 'gal': 906, 'fergie': 907, 'jack': 908, 'prison': 909, 'thought': 910, 'come': 911, 'diva': 912, 'hare': 913, 'daughters': 914, 'shes': 915, 'tranger': 916, 'melania': 917, 'charlie': 918, 'jordan': 919, 'horror': 920, 'famous': 921, 'naked': 922, 'trend': 923, 'meryl': 924, 'cand': 925, 'blue': 926, 'recalls': 927, 'backlash': 928, 'brings': 929, 'cavallari': 930, 'xl': 931, 'reacts': 932, 'depp': 933, 'biographi': 934, 'louis': 935, 'everyone': 936, 'person': 937, 'biel': 938, 'gay': 939, 'robbie': 940, 'gomezs': 941, 'park': 942, 'daniel': 943, 'posts': 944, 'comes': 945, 'moussa': 946, 'jones': 947, 'pecial': 948, 'trying': 949, 'movi': 950, 'leonardo': 951, 'dwt': 952, 'robin': 953, 'drops': 954, 'priyanka': 955, 'canceled': 956, 'megan': 957, 'bethenny': 958, 'tyl': 959, 'duhamel': 960, 'gushes': 961, 'ripa': 962, 'upset': 963, 'keeping': 964, 'carlett': 965, 'female': 966, 'workout': 967, 'looking': 968, 'rare': 969, 'cohen': 970, 'jon': 971, 'mel': 972, 'fun': 973, 'danny': 974, 'diet': 975, 'debuts': 976, 'ways': 977, 'honor': 978, 'seri': 979, 'cameron': 980, 'director': 981, 'gown': 982, 'fifth': 983, 'hospital': 984, 'law': 985, 'song': 986, 'iconic': 987, 'products': 988, 'henry': 989, 'happened': 990, 'ean': 991, 'markle’s': 992, 'broke': 993, 'mindy': 994, 'parks': 995, 'bradley': 996, 'whats': 997, 'rossi': 998, 'hoda': 999, 'playing': 1000, 'dicaprio': 1001, 'tried': 1002, 'royals': 1003, 'potted': 1004, 'july': 1005, 'coop': 1006, 'andra': 1007, 'sex': 1008, 'fisher': 1009, 'dresses': 1010, 'twist': 1011, 'avengers': 1012, 'nbc': 1013, 'turns': 1014, 'nl': 1015, 'atlanta': 1016, 'winfrey': 1017, 'julianne': 1018, 'hilariously': 1019, 'pays': 1020, 'terling': 1021, 'revival': 1022, 'head': 1023, 'tips': 1024, 'kristin': 1025, 'mystery': 1026, 'cole': 1027, 'cotar': 1028, 'hop': 1029, 'police': 1030, 'ource': 1031, 'brothers': 1032, 'won’t': 1033, 'billy': 1034, 'pics': 1035, 'support': 1036, 'let': 1037, 'peech': 1038, 'attend': 1039, 'motherhood': 1040, 'close': 1041, 'crazy': 1042, 'tattoo': 1043, 'cannes': 1044, 'lamar': 1045, 'walking': 1046, 'biebers': 1047, 'card': 1048, 'teve': 1049, 'aguilera': 1050, '2019': 1051, 'asked': 1052, 'chopra': 1053, 'divas': 1054, 'ceremoni': 1055, 'nomin': 1056, 'losing': 1057, 'named': 1058, 'pop': 1059, 'jenner’s': 1060, 'johansson': 1061, 'files': 1062, 'wonder': 1063, 'don’t': 1064, 'lisa': 1065, 'tart': 1066, 'chicago': 1067, 'bet': 1068, 'honeymoon': 1069, 'hookus': 1070, 'official': 1071, 'moving': 1072, 'apart': 1073, 'pinoff': 1074, 'wish': 1075, 'jada': 1076, 'rape': 1077, 'treep': 1078, 'appear': 1079, 'haddish': 1080, 'beautiful': 1081, 'line': 1082, 'tonight': 1083, 'wilkinson': 1084, 'act': 1085, 'musical': 1086, 'infinity': 1087, 'jax': 1088, 'jen': 1089, 'nominees': 1090, 'pictures': 1091, 'quit': 1092, 'harri': 1093, 'tay': 1094, 'watching': 1095, 'comments': 1096, 'pend': 1097, 'actors': 1098, 'thomas': 1099, 'job': 1100, 'move': 1101, 'around': 1102, 'told': 1103, 'zac': 1104, 'parents': 1105, 'acting': 1106, 'lies': 1107, 'ashton': 1108, 'longoria': 1109, 'mexico': 1110, 'megyn': 1111, 'winner': 1112, 'rapper': 1113, 'beau': 1114, 'weekend': 1115, 'releases': 1116, 'gam': 1117, 'helped': 1118, '16': 1119, 'movies': 1120, 'mental': 1121, 'reflects': 1122, 'tage': 1123, 'march': 1124, 'victims': 1125, 'morgan': 1126, 'anderson': 1127, 'joli': 1128, 'issues': 1129, 'ends': 1130, 'figure': 1131, 'dj': 1132, 'four': 1133, 'club': 1134, 'furious': 1135, 'bush': 1136, 'nearly': 1137, 'judge': 1138, 'deal': 1139, 'wilson': 1140, 'joanna': 1141, 'queer': 1142, 'internet': 1143, 'huge': 1144, 'leave': 1145, 'ton': 1146, 'meets': 1147, 'explain': 1148, 'chloe': 1149, 'become': 1150, 'ets': 1151, 'abby': 1152, 'farrah': 1153, 'frankel': 1154, 'ua': 1155, 'kaia': 1156, 'damon': 1157, 'tabloid': 1158, 'exhusband': 1159, 'leaves': 1160, 'fighting': 1161, 'hassan': 1162, 'cooper': 1163, 'jolie’s': 1164, 'lena': 1165, 'see': 1166, 'lohan': 1167, 'luke': 1168, 'chance': 1169, 'kotb': 1170, '19': 1171, 'wasnt': 1172, 'com': 1173, 'june': 1174, 'goodbye': 1175, 'dates': 1176, '17': 1177, 'hands': 1178, 'isn’t': 1179, 'lead': 1180, 'griffin': 1181, 'ophie': 1182, 'living': 1183, 'pinkett': 1184, 'graham': 1185, 'personal': 1186, 'using': 1187, 'questions': 1188, 'lea': 1189, 'gorgeous': 1190, 'double': 1191, 'cb': 1192, 'dean': 1193, 'denim': 1194, 'matching': 1195, 'halle': 1196, 'ch': 1197, 'talking': 1198, 'nina': 1199, 'accuses': 1200, 'madonna': 1201, 'corey': 1202, 'knew': 1203, 'drug': 1204, 'yet': 1205, 'bieb': 1206, 'hard': 1207, 'lose': 1208, 'costar': 1209, 'wanted': 1210, 'gun': 1211, 'change': 1212, 'ago': 1213, 'proves': 1214, 'online': 1215, 'chumer': 1216, 'tweets': 1217, 'comiccon': 1218, 'colbert': 1219, 'jane': 1220, 'asks': 1221, 'campaign': 1222, 'crown': 1223, 'latin': 1224, 'amanda': 1225, 'crime': 1226, 'mcgowan': 1227, 'hannon': 1228, 'gaines': 1229, 'heartbreak': 1230, 'desperate': 1231, 'mad': 1232, 'battl': 1233, 'jameel': 1234, 'urprising': 1235, 'happen': 1236, 'timelin': 1237, 'avannah': 1238, 'wives': 1239, 'upd': 1240, 'five': 1241, 'missing': 1242, 'fifty': 1243, 'ii': 1244, 'picture': 1245, 'uri': 1246, 'channels': 1247, 'christian': 1248, 'dwayne': 1249, 'dishes': 1250, 'better': 1251, 'leslie': 1252, 'alicia': 1253, 'hough': 1254, 'excluive': 1255, 'beverly': 1256, 'comeback': 1257, 'melissa': 1258, 'anniversari': 1259, 'put': 1260, 'detail': 1261, 'exclusive': 1262, 'dark': 1263, 'country': 1264, 'rita': 1265, '‘american': 1266, 'believe': 1267, 'anthem': 1268, 'killed': 1269, 'died': 1270, 'front': 1271, 'arrangement': 1272, 'happens': 1273, 'outfits': 1274, 'critics': 1275, 'wift’s': 1276, 'trumps': 1277, 'anistons': 1278, 'glob': 1279, 'begging': 1280, 'colin': 1281, 'eve': 1282, 'became': 1283, 'newborn': 1284, 'affair': 1285, 'gosling': 1286, 'restraining': 1287, 'kisses': 1288, 'arod': 1289, 'possible': 1290, 'heartbreaking': 1291, 'poses': 1292, 'catherine': 1293, 'court': 1294, 'millie': 1295, 'thorne': 1296, 'fired': 1297, 'upon': 1298, 'jared': 1299, 'bullock': 1300, 'onlin': 1301, 'eri': 1302, 'different': 1303, 'used': 1304, 'turned': 1305, 'loves': 1306, 'jim': 1307, 'ending': 1308, 'fire': 1309, 'allison': 1310, 'controversial': 1311, 'offers': 1312, 'wishes': 1313, 'ing': 1314, 'calling': 1315, 'pacey': 1316, 'prove': 1317, 'teps': 1318, 'bruno': 1319, 'boss': 1320, 'evan': 1321, 'totally': 1322, 'elfie': 1323, 'mars': 1324, 'bellas': 1325, 'male': 1326, 'ronnie': 1327, 'care': 1328, 'track': 1329, 'including': 1330, 'berry': 1331, 'philip': 1332, 'gadot': 1333, 'throwback': 1334, 'foster': 1335, 'cancels': 1336, 'marc': 1337, 'oj': 1338, 'sweet': 1339, 'kerr': 1340, 'debunk': 1341, 'performs': 1342, 'broken': 1343, 'update': 1344, 'magazine': 1345, 'efron': 1346, 'bring': 1347, 'victim': 1348, 'room': 1349, 'throws': 1350, 'fourth': 1351, 'free': 1352, 'uses': 1353, 'filming': 1354, 'feeling': 1355, 'voice’': 1356, 'less': 1357, 'victorias': 1358, 'franco': 1359, 'behavior': 1360, 'wild': 1361, 'valentines': 1362, 'puts': 1363, 'helps': 1364, 'heard': 1365, 'vac': 1366, 'drop': 1367, 'turn': 1368, 'costume': 1369, 'theres': 1370, 'tep': 1371, 'immons': 1372, 'ellis': 1373, 'fame': 1374, 'woods': 1375, 'channel': 1376, 'jenelle': 1377, 'abraham': 1378, 'brittany': 1379, 'hilary': 1380, 'pencer': 1381, 'gerber': 1382, 'loving': 1383, 'neri': 1384, 'gold': 1385, 'journey': 1386, 'hell': 1387, 'bond': 1388, 'domestic': 1389, 'cancel': 1390, 'pic': 1391, 'hurt': 1392, 'missed': 1393, 'keeps': 1394, 'orange': 1395, 'cut': 1396, 'happi': 1397, 'brooklyn': 1398, 'intense': 1399, 'mus': 1400, 'brand': 1401, 'case': 1402, 'ienna': 1403, 'exit': 1404, 'proud': 1405, 'fitness': 1406, 'place': 1407, 'thanksgiving': 1408, 'kaling': 1409, 'danielle': 1410, 'since': 1411, 'oules': 1412, 'they’re': 1413, 'festival': 1414, 'tartudded': 1415, '40': 1416, 'green': 1417, 'adams': 1418, 'houston': 1419, 'relief': 1420, 'uits': 1421, 'patrick': 1422, 'powerful': 1423, 'tracee': 1424, 'trends': 1425, 'uit': 1426, 'ophia': 1427, 'rol': 1428, 'response': 1429, 'gender': 1430, 'slams': 1431, 'dumped': 1432, 'olo': 1433, 'pitts': 1434, 'probably': 1435, 'silence': 1436, 'ariel': 1437, 'fast': 1438, 'food': 1439, 'guess': 1440, 'americas': 1441, 'comedy': 1442, 'metoo': 1443, 'chip': 1444, 'speech': 1445, 'faith': 1446, 'hepard': 1447, 'hill': 1448, 'buy': 1449, 'tories': 1450, 'tell': 1451, 'mothers': 1452, 'ciara': 1453, 'fights': 1454, 'memoir': 1455, 'many': 1456, 'terry': 1457, 'munn': 1458, 'yes': 1459, 'grammi': 1460, 'dion': 1461, 'corinne': 1462, 'olympios': 1463, 'finds': 1464, 'angeles': 1465, 'michele': 1466, 'learned': 1467, 'amazing': 1468, 'jonathan': 1469, 'roy': 1470, 'carpool': 1471, 'hirtless': 1472, 'kin': 1473, 'hyland': 1474, 'portwood': 1475, 'brady': 1476, 'jeremy': 1477, 'kyle': 1478, 'candid': 1479, 'clip': 1480, 'cindy': 1481, 'led': 1482, 'chester': 1483, 'twitt': 1484, 'butt': 1485, 'hate': 1486, 'character': 1487, 'opening': 1488, 'peak': 1489, 'pice': 1490, 'andrew': 1491, 'fear': 1492, 'jealous': 1493, 'z': 1494, 'ratings': 1495, 'claps': 1496, 'kissing': 1497, 'imon': 1498, 'hold': 1499, 'bt': 1500, 'ports': 1501, 'uicide': 1502, 'fears': 1503, 'inspired': 1504, 'teresa': 1505, 'giudice': 1506, 'gomez’s': 1507, 'kutcher': 1508, 'kit': 1509, 'church': 1510, 'hadids': 1511, 'guilty': 1512, 'laura': 1513, 'refuses': 1514, 'alexis': 1515, 'pose': 1516, 'ivanka': 1517, 'vma': 1518, 'rolling': 1519, 'felt': 1520, 'celine': 1521, 'hank': 1522, 'heads': 1523, 'gifts': 1524, 'magazin': 1525, 'partner': 1526, 'winning': 1527, 'exgirlfriend': 1528, 'cool': 1529, 'cma': 1530, 'angel': 1531, 'hannah': 1532, 'drag': 1533, 'celebr': 1534, 'touching': 1535, 'plays': 1536, 'whitney': 1537, 'allen': 1538, 'montag': 1539, 'challenge': 1540, 'kufrin': 1541, 'cara': 1542, 'air': 1543, 'tyga': 1544, 'jacket': 1545, 'oxman': 1546, 'wait': 1547, 'ian': 1548, 'pring': 1549, 'lopezs': 1550, 'promo': 1551, 'nba': 1552, 'well': 1553, 'een': 1554, 'ix': 1555, 'upcoming': 1556, 'road': 1557, 'jolies': 1558, 'rumours': 1559, 'british': 1560, 'connecting': 1561, 'massive': 1562, 'crawford': 1563, 'account': 1564, 'kidney': 1565, 'page': 1566, 'harrys': 1567, 'entertainment': 1568, 'flashes': 1569, 'naomi': 1570, 'blonde': 1571, 'cream': 1572, 'everyth': 1573, 'greatest': 1574, 'randall': 1575, 'hospitalized': 1576, 'revealing': 1577, 'april': 1578, 'pens': 1579, 'fair': 1580, 'fal': 1581, 'miles': 1582, 'ultimate': 1583, 'alba': 1584, 'cas': 1585, 'eth': 1586, 'heat': 1587, 'power': 1588, 'brought': 1589, 'harass': 1590, 'olymp': 1591, 'versace': 1592, 'original': 1593, 'hudgens': 1594, 'ide': 1595, '22': 1596, 'contestant': 1597, 'lili': 1598, 'duff': 1599, 'nassar': 1600, 'abbey': 1601, 'jeff': 1602, 'rhony': 1603, 'guy': 1604, 'darren': 1605, 'camilla': 1606, 'diamond': 1607, 'cop': 1608, 'gisele': 1609, 'cause': 1610, 'cenes': 1611, 'jesse': 1612, '21': 1613, 'couldnt': 1614, 'richard': 1615, 'messag': 1616, 'mourns': 1617, 'east': 1618, 'walks': 1619, 'kaley': 1620, 'quotes': 1621, 'social': 1622, 'wrong': 1623, 'fathers': 1624, 'academy': 1625, 'vanity': 1626, 'georgina': 1627, 'perri': 1628, 'trump’s': 1629, 'playboy': 1630, 'odom': 1631, 'getaway': 1632, 'nomine': 1633, 'travel': 1634, 'gibson': 1635, 'charlize': 1636, 'visits': 1637, 'california': 1638, 'lik': 1639, 'word': 1640, 'whos': 1641, 'class': 1642, 'hook': 1643, 'hospit': 1644, 'turner': 1645, 'cox': 1646, 'mayer': 1647, 'nose': 1648, 'carrey': 1649, 'barack': 1650, '27': 1651, 'camp': 1652, 'match': 1653, 'estranged': 1654, 'scandal': 1655, 'murder': 1656, 'listen': 1657, 'announce': 1658, 'tina': 1659, 'accidentally': 1660, 'how': 1661, 'letter': 1662, 'cosby': 1663, 'marvel': 1664, 'lachey': 1665, 'racist': 1666, 'colton': 1667, 'adds': 1668, 'pack': 1669, 'hower': 1670, 'lupita': 1671, 'vu': 1672, 'dramatic': 1673, 'beador': 1674, 'conrad': 1675, '‘bachelor': 1676, 'costum': 1677, 'christopher': 1678, 'hollywoodlife': 1679, 'craig': 1680, 'eddie': 1681, 'fix': 1682, 'mcphee': 1683, 'transgender': 1684, 'ladies': 1685, 'charlotte': 1686, 'shoot': 1687, 'bf': 1688, 'rap': 1689, 'hotel': 1690, 'collins': 1691, 'alexander': 1692, 'ice': 1693, 'vergara': 1694, 'excited': 1695, 'palace': 1696, 'breakdown': 1697, 'breast': 1698, 'becoming': 1699, 'ray': 1700, 'doesn’t': 1701, 'dr': 1702, 'enough': 1703, 'art': 1704, 'bash': 1705, 'problem': 1706, 'cult': 1707, '2020': 1708, 'try': 1709, 'among': 1710, 'kept': 1711, 'games': 1712, 'use': 1713, 'exactly': 1714, 'harrison': 1715, 'dirty': 1716, 'ons': 1717, 'joel': 1718, 'milo': 1719, '‘this': 1720, 'wardrobe': 1721, 'plus': 1722, 'morning': 1723, 'ara': 1724, 'intimate': 1725, 'rocks': 1726, 'speaks': 1727, 'austin': 1728, 'katharine': 1729, 'adele': 1730, 'tars’': 1731, 'disneyland': 1732, 'attends': 1733, 'napchat': 1734, 'done': 1735, 'boys': 1736, 'tunning': 1737, 'mov': 1738, 'annual': 1739, 'receives': 1740, 'audrina': 1741, 'joan': 1742, 'higgins': 1743, 'fiancé': 1744, 'tony': 1745, 'potter': 1746, 'product': 1747, 'rank': 1748, 'nyfw': 1749, 'zolciakbiermann': 1750, 'globe': 1751, 'runway': 1752, 'urgeri': 1753, 'anne': 1754, 'barrymore': 1755, 'brandi': 1756, 'bennington': 1757, 'relive': 1758, 'tess': 1759, 'dunham': 1760, 'proof': 1761, 'bodi': 1762, 'viall': 1763, 'fir': 1764, 'delivery': 1765, 'trahan': 1766, 'bit': 1767, 'hid': 1768, 'singer': 1769, 'expect': 1770, 'single': 1771, 'bride': 1772, 'flip': 1773, 'pain': 1774, 'control': 1775, 'alone': 1776, 'band': 1777, 'complicated': 1778, 'weird': 1779, 'fires': 1780, 'elle': 1781, 'theron': 1782, 'daily': 1783, 'pending': 1784, 'cost': 1785, '‘a': 1786, 'firing': 1787, 'mansion': 1788, 'edwards': 1789, 'eminem': 1790, 'chmerkovskiy': 1791, 'issu': 1792, 'alec': 1793, 'puerto': 1794, 'rico': 1795, 'eat': 1796, 'tale': 1797, 'decision': 1798, 'jayzs': 1799, 'blood': 1800, 'guthrie': 1801, 'tarring': 1802, 'duggar': 1803, 'whole': 1804, 'ventimiglia': 1805, 'us’': 1806, 'fam': 1807, 'iggy': 1808, 'exwife': 1809, 'th': 1810, 'vmas': 1811, 'style': 1812, 'rest': 1813, 'radio': 1814, 'panther': 1815, 'busy': 1816, 'trong': 1817, 'di': 1818, 'enjoys': 1819, 'idol’': 1820, 'ings': 1821, 'topless': 1822, 'cmt': 1823, 'dui': 1824, '35': 1825, 'hefner': 1826, 'childhood': 1827, 'woody': 1828, 'catelynn': 1829, 'behindthecenes': 1830, 'pumpkin': 1831, 'designer': 1832, 'bob': 1833, 'doctor': 1834, 'natalie': 1835, 'outhern': 1836, 'parties': 1837, 'incredible': 1838, 'second': 1839, 'joy': 1840, 'linkin': 1841, 'tream': 1842, 'freak': 1843, 'katherine': 1844, 'headed': 1845, 'player': 1846, 'models': 1847, 'hopping': 1848, 'granted': 1849, 'tand': 1850, 'meltdown': 1851, 'levine': 1852, 'charact': 1853, 'vows': 1854, 'pants': 1855, 'messages': 1856, 'treat': 1857, 'rosie': 1858, 'wendy': 1859, 'eyes': 1860, 'fka': 1861, 'confirmed': 1862, 'eating': 1863, 'propos': 1864, 'i’m': 1865, 'harington': 1866, 'hero': 1867, 'scand': 1868, 'barr': 1869, 'makeover': 1870, 'postbaby': 1871, 'omething': 1872, 'fiance': 1873, 'false': 1874, 'trial': 1875, 'wolf': 1876, 'ama': 1877, 'remember': 1878, 'upton': 1879, 'ame': 1880, 'fac': 1881, 'image': 1882, 'thats': 1883, 'huts': 1884, 'niall': 1885, 'billie': 1886, 'sister': 1887, 'longer': 1888, 'equel': 1889, 'tamos': 1890, 'follow': 1891, 'investigation': 1892, 'youtube': 1893, 'joining': 1894, 'cries': 1895, 'hosts': 1896, 'phone': 1897, 'low': 1898, 'ora': 1899, 'invite': 1900, 'nene': 1901, 'lucy': 1902, 'hidden': 1903, 'ranking': 1904, 'celebrating': 1905, 'praises': 1906, 'tonya': 1907, 'amazon': 1908, 'boot': 1909, 'wells': 1910, 'deadpool': 1911, 'accid': 1912, 'luis': 1913, 'dax': 1914, 'race': 1915, 'jill': 1916, 'urprises': 1917, 'rhoa': 1918, 'prouse': 1919, 'hbo': 1920, 'reinhart': 1921, 'cw': 1922, 'rippon': 1923, 'lana': 1924, 'w': 1925, 'creator': 1926, 'urvivor': 1927, 'charm': 1928, 'olympic': 1929, 'zendaya': 1930, '2016': 1931, 'tea': 1932, 'reported': 1933, 'exes': 1934, 'porn': 1935, 'alert': 1936, 'dobrev': 1937, 'omerhalder': 1938, 'cher': 1939, 'cameo': 1940, 'adopt': 1941, 'facts': 1942, 'beloved': 1943, 'crush': 1944, 'beauti': 1945, 'row': 1946, 'came': 1947, 'obsessed': 1948, 'covers': 1949, 'lawyer': 1950, 'afraid': 1951, 'school': 1952, 'dropped': 1953, 'washington': 1954, 'stop': 1955, 'oon': 1956, 'completely': 1957, 'lavish': 1958, 'pick': 1959, 'dreams': 1960, 'on': 1961, 'paid': 1962, 'weetest': 1963, 'watson': 1964, 'proposal': 1965, 'west’s': 1966, 'erika': 1967, 'introduces': 1968, 'c': 1969, 'announc': 1970, 'ive': 1971, 'jenny': 1972, 'confirm': 1973, 'hear': 1974, 'chelsea': 1975, 'moves': 1976, 'linmanuel': 1977, 'erin': 1978, 'plot': 1979, 'tarek': 1980, 'also': 1981, 'thank': 1982, 'davis': 1983, 'accident': 1984, 'vega': 1985, 'bachelors': 1986, 'babys': 1987, 'wimbledon': 1988, 'freed': 1989, 'blasts': 1990, 'explosive': 1991, 'fail': 1992, 'demario': 1993, 'aying': 1994, 'apparent': 1995, 'treet': 1996, 'rid': 1997, 'view': 1998, 'talent': 1999, 'delivers': 2000, 'histori': 2001, 'charges': 2002, 'ivy': 2003, 'exually': 2004, 'patridge': 2005, 'memorable': 2006, 'share': 2007, 'treatment': 2008, 'claire': 2009, 'films': 2010, 'controversi': 2011, 'funny': 2012, 'color': 2013, 'cfda': 2014, 'kerry': 2015, 'works': 2016, 'ight': 2017, 'halsey': 2018, 'charity': 2019, 'lala': 2020, 'prom': 2021, 'dagostino': 2022, 'metz': 2023, 'murphy': 2024, 'kill': 2025, 'episodes': 2026, 'dan': 2027, 'ideas': 2028, 'paradise’': 2029, 'kailyn': 2030, 'island': 2031, 'bieber’s': 2032, 'diss': 2033, 'hut': 2034, 'aldean': 2035, 'hollywoods': 2036, 'therouxs': 2037, 'pleads': 2038, 'worried': 2039, 'office': 2040, 'breaking': 2041, 'backstage': 2042, 'father’s': 2043, 'malibu': 2044, 'bruce': 2045, 'mary': 2046, 'potlight': 2047, 'heading': 2048, 'eeing': 2049, 'cientology': 2050, 'french': 2051, 'duet': 2052, 'forced': 2053, 'members': 2054, 'plea': 2055, 'jlo': 2056, 'born': 2057, 'time’': 2058, 'cotars': 2059, 'imple': 2060, 'cry': 2061, 'v': 2062, 'cuoco': 2063, 'clooneys': 2064, 'gym': 2065, 'babies': 2066, 'tru': 2067, 'teaser': 2068, 'words': 2069, 'coupl': 2070, 'modern': 2071, 'test': 2072, 'aw': 2073, 'pictur': 2074, 'broadway': 2075, 'asghari': 2076, 'ford': 2077, 'member': 2078, 'hosting': 2079, 'holland': 2080, 'press': 2081, 'tella': 2082, 'labor': 2083, 'ign': 2084, 'g': 2085, 'cattrall': 2086, 'forev': 2087, 'youre': 2088, 'number': 2089, 'clinton': 2090, 'include': 2091, 'hasnt': 2092, 'arent': 2093, 'speak': 2094, 'emergency': 2095, 'isters': 2096, 'elton': 2097, 'depression': 2098, 'heartfelt': 2099, 'dances': 2100, 'hanks': 2101, 'teven': 2102, 'needs': 2103, 'knows': 2104, 'baskett': 2105, 'celebrated': 2106, 'olsen': 2107, 'story': 2108, 'hillary': 2109, 'surgery': 2110, 'noah': 2111, 'loses': 2112, 'record': 2113, 'direct': 2114, 'tragic': 2115, 'winslet': 2116, 'tunt': 2117, 'reallife': 2118, 'boo': 2119, 'lives': 2120, 'leakes': 2121, 'ranked': 2122, 'horan': 2123, 'burke': 2124, 'faces': 2125, 'appears': 2126, 'hooting': 2127, 'blunt': 2128, 'hints': 2129, 'tease': 2130, 'bushnell': 2131, 'patient': 2132, 'lily': 2133, 'honors': 2134, 'pade': 2135, 'viewers': 2136, 'nfw': 2137, 'jordyn': 2138, 'iheartradio': 2139, 'hakira': 2140, 'pounds': 2141, 'feminist': 2142, 'jeans': 2143, 'fixer': 2144, 'kenya': 2145, 'vampire': 2146, 'danica': 2147, 'pills': 2148, 'aniston’s': 2149, 'producers': 2150, 'ave': 2151, 'ord': 2152, 'christma': 2153, 'finding': 2154, 'divorcing': 2155, 'writing': 2156, 'kathy': 2157, 'calvin': 2158, 'feelings': 2159, 'avoid': 2160, 'harris': 2161, 'khaled': 2162, 'feuds': 2163, 'definitive': 2164, 'tran': 2165, 'target': 2166, 'hand': 2167, 'shock': 2168, 'asking': 2169, 'considering': 2170, 'harry’s': 2171, 'lyr': 2172, 'batman': 2173, 'tarted': 2174, 'parenting': 2175, 'ban': 2176, 'feuding': 2177, '‘game': 2178, 'thrones’': 2179, 'gq': 2180, 'cary': 2181, 'sequel': 2182, 'jake': 2183, 'trouble': 2184, 'palac': 2185, '‘big': 2186, 'busted': 2187, 'blames': 2188, '4th': 2189, 'bizarre': 2190, 'twigs': 2191, 'january': 2192, 'tip': 2193, '2’': 2194, 'fath': 2195, 'warns': 2196, 'vikander': 2197, 'ordered': 2198, 'haters': 2199, 'courteney': 2200, 'growing': 2201, 'nothing': 2202, 'husbands': 2203, 'peta': 2204, 'marie': 2205, 'confused': 2206, 'hottest': 2207, 'jodie': 2208, 'believes': 2209, 'id': 2210, 'producer': 2211, 'mia': 2212, 'highlights': 2213, 'tries': 2214, 'fat': 2215, 'reunited': 2216, 'hgtv': 2217, 'dallas': 2218, 'howard': 2219, 'entire': 2220, 'becomes': 2221, 'launch': 2222, 'overdos': 2223, 'gabrielle': 2224, 'hope': 2225, 'threatens': 2226, 'jewelry': 2227, 'van': 2228, 'memorial': 2229, 'azalea': 2230, 'ball': 2231, 'regrets': 2232, 'unexpected': 2233, 'current': 2234, 'experience': 2235, 'airport': 2236, '18': 2237, 'played': 2238, 'aint': 2239, 'looked': 2240, 'hour': 2241, 'leah': 2242, 'popular': 2243, 'heather': 2244, 'orry': 2245, 'fatal': 2246, 'pends': 2247, 'definitely': 2248, 'tri': 2249, 'petty': 2250, 'series': 2251, 'epy': 2252, 'ongs': 2253, 'rich': 2254, 'important': 2255, 'anything': 2256, 'hawaii': 2257, 'meyers': 2258, 'brooks': 2259, 'youll': 2260, 'caribbean': 2261, 'raising': 2262, 'grandes': 2263, 'key': 2264, 'pro': 2265, 'group': 2266, 'ratajkowski': 2267, 'reading': 2268, 'alexa': 2269, 'tylist': 2270, 'acm': 2271, 'guardians': 2272, 'galaxy': 2273, 'baltierra': 2274, 'haynes': 2275, 'glee': 2276, 'routin': 2277, 'costumes': 2278, 'zolciak': 2279, 'hay': 2280, 'flash': 2281, 'pelling': 2282, 'kincare': 2283, 'upper': 2284, 'chic': 2285, 'jedi': 2286, 'og': 2287, 'coach': 2288, 'business': 2289, 'professor': 2290, 'reed': 2291, 'cri': 2292, 'hangs': 2293, 'daddy': 2294, 'crystal': 2295, 'zoe': 2296, 'alcohol': 2297, 'names': 2298, 'ir': 2299, 'violence': 2300, 'billion': 2301, 'grimaldi': 2302, 'craziest': 2303, 'tanaka': 2304, 'touch': 2305, 'festiv': 2306, 'lips': 2307, 'un': 2308, 'gf': 2309, 'rep': 2310, 'australia': 2311, 'sexy': 2312, 'irina': 2313, 'reactions': 2314, 'hous': 2315, 'karaoke': 2316, 'middleton’s': 2317, 'attending': 2318, 'beyond': 2319, 'irwin': 2320, 'derek': 2321, 'leg': 2322, 'heltons': 2323, 'richi': 2324, 'cook': 2325, 'kesha': 2326, 'apple': 2327, 'lam': 2328, 'union': 2329, 'tape': 2330, 'avage': 2331, 'reacted': 2332, 'absolutely': 2333, 'leads': 2334, 'hia': 2335, 'rodgers': 2336, 'tatus': 2337, 'released': 2338, 'pecul': 2339, 'casting': 2340, 'handmaids': 2341, 'ounds': 2342, 'drunk': 2343, 'ep': 2344, 'failed': 2345, 'lourd': 2346, '‘very': 2347, 'remake': 2348, 'knowles': 2349, 'toxic': 2350, 'justice': 2351, 'hayes': 2352, 'lion': 2353, 'ent': 2354, 'cannon': 2355, 'amas': 2356, 'pool': 2357, 'kendrick': 2358, 'lingerie': 2359, 'christine': 2360, 'bringing': 2361, 'said': 2362, 'maria': 2363, 'lin': 2364, 'worlds': 2365, 'spotted': 2366, 'longtime': 2367, 'others': 2368, 'h': 2369, 'collect': 2370, 'sing': 2371, 'benefit': 2372, 'umm': 2373, 'tech2': 2374, 'doctors': 2375, 'fonsi': 2376, 'lowell': 2377, 'easy': 2378, 'luna': 2379, 'anatomy’': 2380, 'kent': 2381, 'ricky': 2382, 'omeone': 2383, 'tommy': 2384, 'closet': 2385, 'frozen': 2386, 'bourdain': 2387, 'bristol': 2388, 'peter': 2389, 'tops': 2390, 'kimmy': 2391, 'brandon': 2392, 'routine': 2393, 'nia': 2394, 'eek': 2395, 'todd': 2396, 'jet': 2397, 'event': 2398, 'drugstore': 2399, 'featuring': 2400, 'lesson': 2401, 'jail': 2402, 'announced': 2403, 'arrang': 2404, 'delevingne': 2405, 'protest': 2406, 'anyone': 2407, 'nice': 2408, 'despacito': 2409, 'aronofsky': 2410, 'wintour': 2411, 'womens': 2412, 'don': 2413, 'hoping': 2414, 'uk': 2415, 'threatening': 2416, 'quest': 2417, 'lewis': 2418, '24': 2419, 'cal': 2420, 'chrisley': 2421, 'karrueche': 2422, 'icon': 2423, 'truggles': 2424, 'obsess': 2425, 'quad': 2426, 'jerry': 2427, 'kennedy': 2428, 'what’s': 2429, 'ride': 2430, 'afflecks': 2431, 'nasty': 2432, 'cards': 2433, 'legal': 2434, 'gucci': 2435, 'joint': 2436, '‘': 2437, 'out’': 2438, 'cohost': 2439, 'gyllenhaal': 2440, 'teenage': 2441, 'mixed': 2442, 'jam': 2443, 'crew': 2444, 'water': 2445, 'zetajones': 2446, 'lifestyle': 2447, 'steps': 2448, 'casey': 2449, 'richards': 2450, 'shooting': 2451, 'quitting': 2452, 'judd': 2453, 'tributes': 2454, 'inging': 2455, 'wif': 2456, 'raise': 2457, 'thompsons': 2458, 'bust': 2459, 'erious': 2460, 'idea': 2461, 'flight': 2462, 'igns': 2463, 'forum': 2464, 'evil': 2465, 'up’': 2466, 'drakes': 2467, '‘tranger': 2468, 'things’': 2469, 'brain': 2470, 'penn': 2471, 'action': 2472, 'impsons': 2473, 'af': 2474, 'glam': 2475, 'urrogate': 2476, 'jok': 2477, 'emilia': 2478, 'exchange': 2479, 'nine': 2480, 'harmony': 2481, 'center': 2482, 'vogue': 2483, 'apology': 2484, 'chalamet': 2485, 'countdown': 2486, 'pulled': 2487, 'douglas': 2488, 'port': 2489, 'town': 2490, 'nfl': 2491, 'wasn’t': 2492, 'fonda': 2493, 'ceremony': 2494, 'positive': 2495, 'truly': 2496, 'mind': 2497, 'flashback': 2498, 'hape': 2499, 'traight': 2500, 'goop': 2501, 'fit': 2502, 'hoes': 2503, 'discusses': 2504, 'board': 2505, 'lets': 2506, 'fell': 2507, 'klum': 2508, 'abus': 2509, 'early': 2510, 'flowers': 2511, 'later': 2512, 'karlie': 2513, 'queens': 2514, 'universe': 2515, 'box': 2516, 'tyrese': 2517, '‘he': 2518, 'curry': 2519, 'pulls': 2520, 'wright': 2521, 'oh': 2522, 'hours': 2523, 'lindsey': 2524, 'florida': 2525, 'favourite': 2526, 'prank': 2527, 'people’s': 2528, 'murray': 2529, 'hort': 2530, 'bold': 2531, 'tennis': 2532, 'round': 2533, '“i': 2534, 'half': 2535, 'mario': 2536, 'jean': 2537, 'donates': 2538, 'nyongo': 2539, 'laguna': 2540, 'chanel': 2541, 'company': 2542, 'hale': 2543, 'gianni': 2544, 'janney': 2545, '‘grey’s': 2546, 'childrens': 2547, 'characters': 2548, 'ramona': 2549, 'heath': 2550, 'dylan': 2551, 'trolls': 2552, 'tory’': 2553, 'imone': 2554, 'boots': 2555, 'unglert': 2556, 'edit': 2557, 'brooke': 2558, 'reviews': 2559, 'palm': 2560, 'viral': 2561, 'healthy': 2562, 'canc': 2563, 'honored': 2564, 'peci': 2565, 'liars': 2566, 'lowry': 2567, 'hathaway': 2568, 'modeling': 2569, 'leann': 2570, 'glanville': 2571, 'addiction': 2572, 'weighs': 2573, 'mother’s': 2574, 'tellall': 2575, 'elf': 2576, 'costs': 2577, 'jost': 2578, 'cuts': 2579, 'pr': 2580, 'dump': 2581, 'preview': 2582, 'twain': 2583, 'clothes': 2584, 'process': 2585, 'futur': 2586, '60th': 2587, 'physical': 2588, 'cheat': 2589, 'onstage': 2590, 'demands': 2591, 'helping': 2592, 'blond': 2593, 'restaurant': 2594, 'dollar': 2595, 'blog': 2596, 'guys': 2597, 'ick': 2598, 'spend': 2599, 'bang': 2600, 'taken': 2601, 'announcement': 2602, 'buckingham': 2603, 'fallout': 2604, 'miscarriage': 2605, 'lonely': 2606, 'hayk': 2607, 'videos': 2608, 'quentin': 2609, 'drinking': 2610, 'flirting': 2611, 'eniko': 2612, 'present': 2613, 'paying': 2614, 'tap': 2615, 'ok': 2616, 'whether': 2617, 'united': 2618, 'planned': 2619, 'exboyfriend': 2620, 'accus': 2621, 'bed': 2622, 'trainer': 2623, 'twilight': 2624, 'proposed': 2625, 'received': 2626, 'phillippe': 2627, 'paltrows': 2628, 'lunch': 2629, 'beyoncés': 2630, 'footage': 2631, 'start': 2632, 'mccarthy': 2633, 'tate': 2634, 'eparation': 2635, 'loved': 2636, 'cov': 2637, 'residency': 2638, 'literally': 2639, 'maksim': 2640, 'dornan': 2641, 'terrified': 2642, 'mourn': 2643, 'lbs': 2644, 'stories': 2645, 'changing': 2646, 'remembers': 2647, 'trevor': 2648, 'train': 2649, 'pent': 2650, 'invited': 2651, 'ashlee': 2652, 'madison': 2653, 'convinced': 2654, 'theories': 2655, 'accusations': 2656, 'rips': 2657, 'banks': 2658, 'hint': 2659, '31': 2660, 'leather': 2661, 'barbra': 2662, 'disses': 2663, 'worries': 2664, 'armie': 2665, 'hammer': 2666, 'chastain': 2667, 'magic': 2668, 'basketball': 2669, 'robberi': 2670, 'wrote': 2671, 'macaulay': 2672, 'expensive': 2673, 'recent': 2674, 'montana': 2675, 'protect': 2676, 'includes': 2677, 'cat': 2678, 'renee': 2679, 'omarosa': 2680, 'twins’': 2681, 'ecurity': 2682, 'anta': 2683, 'tatement': 2684, 'joke': 2685, 'extra': 2686, '‘dancing': 2687, 'pet': 2688, 'mcgraw': 2689, 'exiest': 2690, 'lorde': 2691, 'par': 2692, 'injury': 2693, 'itali': 2694, 'outing': 2695, 'dropping': 2696, 'fiancee': 2697, 'pitch': 2698, 'favorit': 2699, 'alexandra': 2700, 'grey': 2701, 'bear': 2702, 'karaok': 2703, 'live’': 2704, 'bass': 2705, 'nomination': 2706, 'australian': 2707, 'lowe': 2708, 'involved': 2709, 'trick': 2710, 'cutler': 2711, '32': 2712, 'features': 2713, 'launches': 2714, 'hade': 2715, 'brutal': 2716, 'eggs': 2717, 'kristina': 2718, 'urpris': 2719, 'wrinkle': 2720, 'promises': 2721, 'accuser': 2722, 'briana': 2723, '“the': 2724, 'fellow': 2725, 'carole': 2726, 'madness': 2727, 'offset': 2728, 'rivera': 2729, 'philipps': 2730, 'recreate': 2731, 'enrique': 2732, 'iglesias': 2733, 'palin': 2734, 'empowering': 2735, 'nassif': 2736, 'burnham': 2737, 'jordin': 2738, 'maryse': 2739, 'uweekli': 2740, 'logan': 2741, 'menendez': 2742, 'morrison': 2743, 'vicki': 2744, 'mitchell': 2745, 'guests': 2746, 'ortizmagro': 2747, 'hat': 2748, 'kathryn': 2749, 'wimsuit': 2750, 'transformation': 2751, 'yara': 2752, '‘bachelorette’': 2753, 'ituation': 2754, 'becky': 2755, 'georgia': 2756, 'poilers': 2757, 'portrait': 2758, 'olympics': 2759, 'coat': 2760, 'piderman': 2761, 'balvin': 2762, 'hayley': 2763, 'javi': 2764, 'chad': 2765, 'easons': 2766, 'surprises': 2767, 'willow': 2768, 'coco': 2769, 'grand': 2770, 'god': 2771, 'tarting': 2772, 'mccain': 2773, 'miracle': 2774, 'reconciliation': 2775, 'rings': 2776, 'propose': 2777, 'international': 2778, 'political': 2779, 'crisi': 2780, 'joshua': 2781, 'along': 2782, 'tan': 2783, 'die': 2784, 'crushing': 2785, 'marrying': 2786, 'beef': 2787, 'property': 2788, 'heartbroken': 2789, 'antonoff': 2790, 'hang': 2791, 'images': 2792, 'moth': 2793, 'dolly': 2794, 'rihannas': 2795, 'prenup': 2796, 'levi': 2797, 'hadid’s': 2798, 'hania': 2799, 'costars': 2800, 'nub': 2801, 'begs': 2802, 'pitt’s': 2803, 'obriety': 2804, 'eugenie': 2805, 'abs': 2806, 'amidst': 2807, 'reached': 2808, 'behati': 2809, 'google': 2810, 'madeup': 2811, 'oliver': 2812, 'love’': 2813, 'upporting': 2814, 'ues': 2815, 'spark': 2816, 'building': 2817, 'rainbow': 2818, 'welcoming': 2819, 'kinny': 2820, 'text': 2821, 'billionaire': 2822, 'vow': 2823, 'theory': 2824, 'eparate': 2825, 'ended': 2826, 'dumps': 2827, 'pot': 2828, 'bitter': 2829, 'agree': 2830, 'therapy': 2831, 'gig': 2832, 'terror': 2833, 'mans': 2834, 'thinking': 2835, 'visiting': 2836, 'rule': 2837, 'workouts': 2838, 'note': 2839, 'heen': 2840, 'freaking': 2841, 'replace': 2842, 'offered': 2843, 'respond': 2844, 'cleveland': 2845, 'grab': 2846, '444': 2847, 'latenight': 2848, 'postpartum': 2849, 'drink': 2850, 'comprehensive': 2851, 'maxwell': 2852, 'elon': 2853, 'turning': 2854, 'netflixs': 2855, 'barely': 2856, '47': 2857, 'kicks': 2858, 'helton’s': 2859, 'prepare': 2860, 'tight': 2861, 'flirty': 2862, 'labeouf': 2863, 'lyrics': 2864, 'carry': 2865, 'buys': 2866, 'english': 2867, 'leto': 2868, 'kids’': 2869, 'alleges': 2870, 'empir': 2871, 'ne': 2872, 'tole': 2873, 'unique': 2874, 'peopl': 2875, 'ued': 2876, 'cozy': 2877, 'honest': 2878, 'moores': 2879, 'opinion': 2880, 'haron': 2881, 'aged': 2882, 'cruis': 2883, 'casual': 2884, 'interest': 2885, 'barbara': 2886, 'memb': 2887, 'treisand': 2888, 'hiding': 2889, '‘i’m': 2890, 'teigens': 2891, 'rebecca': 2892, 'mack': 2893, 'homes': 2894, 'aved': 2895, 'mocks': 2896, 'heels': 2897, 'culkin': 2898, 'multiple': 2899, 'blame': 2900, 'creen': 2901, 'weds': 2902, 'deadly': 2903, 'moretz': 2904, 'potential': 2905, 'hared': 2906, 'lines': 2907, 'lies’': 2908, 'hailene': 2909, 'woodley': 2910, 'tough': 2911, 'expert': 2912, 'francia': 2913, 'dennis': 2914, 'jacks': 2915, 'title': 2916, 'criticized': 2917, 'abrina': 2918, 'housew': 2919, 'kloss': 2920, 'gonna': 2921, 'messy': 2922, 'creepy': 2923, 'penelope': 2924, 'regret': 2925, 'goldie': 2926, 'bag': 2927, 'bar': 2928, 'younger': 2929, 'ups': 2930, 'lands': 2931, 'camera': 2932, '33': 2933, 'alist': 2934, 'fatherhood': 2935, 'lil': 2936, '·': 2937, 'lookalike': 2938, 'killer': 2939, 'pair': 2940, '‘total': 2941, 'haircut': 2942, 'x': 2943, 'maroon': 2944, 'truggle': 2945, 'hulu': 2946, 'lindsays': 2947, 'tylish': 2948, 'wine': 2949, 'bunch': 2950, 'carmelo': 2951, 'meaning': 2952, 'viol': 2953, 'monday': 2954, 'matthews': 2955, 'contestants': 2956, 'unfold': 2957, 'diane': 2958, 'wood': 2959, 'changes': 2960, 'hield': 2961, 'hall': 2962, 'zig': 2963, 'nci': 2964, 'pauley': 2965, 'magical': 2966, 'unbreakable': 2967, '26': 2968, 'bekah': 2969, 'cene': 2970, 'del': 2971, 'famously': 2972, 'timothée': 2973, 'tarbucks': 2974, 'raps': 2975, 'describes': 2976, 'iaconetti': 2977, 'brett': 2978, 'cristiano': 2979, 'uperstar': 2980, 'newlyweds': 2981, 'adorably': 2982, 'poil': 2983, 'ebastian': 2984, 'charg': 2985, 'chilling': 2986, 'carly': 2987, 'fresh': 2988, 'mac': 2989, 'design': 2990, 'arrow': 2991, 'acceptance': 2992, 'brian': 2993, 'rise': 2994, 'natural': 2995, 'hack': 2996, 'emmi': 2997, 'hired': 2998, 'voic': 2999, 'rimes': 3000, 'crisis': 3001, 'women’s': 3002, 'bottom': 3003, 'slammed': 3004, 'howing': 3005, 'revelations': 3006, 'falling': 3007, 'hip': 3008, 'artists': 3009, 'diagnosis': 3010, 'six': 3011, 'warning': 3012, 'display': 3013, '‘roseanne’': 3014, 'elope': 3015, 'arms': 3016, 'manager': 3017, 'there’s': 3018, '10th': 3019, 'gif': 3020, 'rescue': 3021, 'kathie': 3022, 'promoting': 3023, 'biopic': 3024, 'garrett': 3025, 'releas': 3026, 'arnold': 3027, 'hide': 3028, 'mart': 3029, 'urprised': 3030, 'prinsloo': 3031, 'mess': 3032, 'continue': 3033, 'kates': 3034, '‘in': 3035, 'els': 3036, 'bought': 3037, 'must': 3038, 'introduce': 3039, 'tal': 3040, 'project': 3041, 'jealousy': 3042, 'mistakes': 3043, 'weisz': 3044, 'plits': 3045, 'instead': 3046, 'flop': 3047, 'clarifies': 3048, 'cuddles': 3049, 'aspen': 3050, 'partying': 3051, 'plane': 3052, 'laughs': 3053, 'tarantino': 3054, 'cassidy': 3055, 'access': 3056, 'creators': 3057, 'boob': 3058, 'nation': 3059, 'theyve': 3060, 'clean': 3061, 'mem': 3062, 'couric': 3063, 'fish': 3064, 'crowd': 3065, 'defend': 3066, 'uffered': 3067, 'able': 3068, 'shared': 3069, 'confronted': 3070, 'beat': 3071, 'depress': 3072, 'gone': 3073, 'skin': 3074, 'dianas': 3075, 'watts': 3076, 'meek': 3077, 'hock': 3078, 'rel': 3079, 'tribut': 3080, 'email': 3081, 'goals': 3082, 'enquirer': 3083, 'dismiss': 3084, 'question': 3085, 'elling': 3086, 'tickets': 3087, 'hocker': 3088, 'baseball': 3089, 'italy': 3090, 'celebration': 3091, 'leak': 3092, 'dern': 3093, 'youngest': 3094, 'aisle': 3095, 'crews': 3096, 'kensington': 3097, 'murgatroyd': 3098, 'downey': 3099, 'proposes': 3100, 'hiddleston': 3101, 'removed': 3102, 'songs': 3103, 'discuss': 3104, 'pilot': 3105, 'who’s': 3106, 'confronts': 3107, 'elsa': 3108, 'replacing': 3109, 'common': 3110, 'banned': 3111, 'highestpaid': 3112, 'misses': 3113, 'chicken': 3114, 'gain': 3115, 'sparks': 3116, 'angela': 3117, 'venus': 3118, 'pranks': 3119, 'jackson’s': 3120, 'comment': 3121, 'finger': 3122, 'outh': 3123, 'phoenix': 3124, 'robbery': 3125, 'der': 3126, 'mil': 3127, 'fk': 3128, 'céline': 3129, 'marykate': 3130, 'lionel': 3131, 'arthur': 3132, 'pin': 3133, 'falls': 3134, 'manson': 3135, 'tadium': 3136, 'angry': 3137, 'torm': 3138, 'doherty': 3139, 'groping': 3140, 'learn': 3141, 'kick': 3142, '21st': 3143, 'hocked': 3144, '1st': 3145, 'oceans': 3146, 'updates': 3147, 'driver': 3148, 'booty': 3149, 'cann': 3150, 'arrive': 3151, 'laughing': 3152, 'network': 3153, 'ham': 3154, 'houghs': 3155, 'vin': 3156, 'bitch': 3157, 'cleared': 3158, 'charge': 3159, 'audience': 3160, 'lynn': 3161, 'troll': 3162, 'seen': 3163, 'tyra': 3164, 'clear': 3165, 'teals': 3166, 'nubs': 3167, 'picks': 3168, 'deep': 3169, 'grandmother': 3170, 'surprise': 3171, 'results': 3172, 'walsh': 3173, 'victoria’s': 3174, 'biop': 3175, 'filing': 3176, 'eight': 3177, 'photographer': 3178, 'how’': 3179, 'ruined': 3180, 'harding': 3181, 'fin': 3182, 'unday': 3183, 'dustin': 3184, 'puppy': 3185, 'harper': 3186, 'funniest': 3187, 'compares': 3188, 'titl': 3189, 'catches': 3190, 'richest': 3191, 'checks': 3192, 'photographed': 3193, 'candace': 3194, 'closing': 3195, 'diego': 3196, 'piece': 3197, 'possession': 3198, 'thor': 3199, 'rae': 3200, 'audition': 3201, 'ansel': 3202, 'dove': 3203, 'bobbi': 3204, 'omg': 3205, 'lgbtq': 3206, 'lace': 3207, 'edition': 3208, 'glamorous': 3209, 'reviv': 3210, 'medley': 3211, 'naya': 3212, 'calendar': 3213, 'asia': 3214, 'eugenies': 3215, 'dish': 3216, 'gina': 3217, 'tear': 3218, 'quiet': 3219, 'lat': 3220, '28': 3221, 'frances': 3222, 'nicky': 3223, 'dubrow': 3224, 'mcadams': 3225, 'martinez': 3226, 'recovering': 3227, 'exits': 3228, 'disney’s': 3229, 'tiger': 3230, 'lessons': 3231, 'clothing': 3232, 'wow': 3233, '‘teen': 3234, '50th': 3235, 'participant': 3236, 'tiny': 3237, 'spoilers': 3238, 'ann': 3239, 'arrangement’': 3240, 'documentary': 3241, 'mini': 3242, 'tvs': 3243, 'middle': 3244, 'geazy': 3245, 'platform': 3246, 'classic': 3247, 'dave': 3248, 'aly': 3249, 'gellar': 3250, 'production': 3251, 'louisdreyfus': 3252, 'lipstick': 3253, 'inspiring': 3254, '‘once': 3255, 'gilmore': 3256, 'stunning': 3257, 'cartwright': 3258, 'impression': 3259, 'outlander': 3260, 'clarke': 3261, 'arrives': 3262, 'conners': 3263, 'theme': 3264, 'commerci': 3265, 'diagnosi': 3266, 'pirit': 3267, 'time’s': 3268, 'mirror': 3269, 'timeless': 3270, 'lawrences': 3271, 'maternity': 3272, 'secretly': 3273, 'wig': 3274, 'busi': 3275, 'statement': 3276, 'hookup': 3277, 'kyli': 3278, 'woman’': 3279, 'refusing': 3280, 'impress': 3281, 'bündchen': 3282, 'cheated': 3283, 'pamela': 3284, 'malia': 3285, 'again’': 3286, 'heartthrob': 3287, 'defending': 3288, 'involving': 3289, 'aldana': 3290, 'cen': 3291, 'throwing': 3292, 'hacked': 3293, 'careys': 3294, 'drugs': 3295, 'parton': 3296, 'answer': 3297, 'meaden': 3298, 'reuniting': 3299, 'hanging': 3300, 'exuality': 3301, 'garners': 3302, 'fil': 3303, 'quite': 3304, 'holm': 3305, 'mit': 3306, 'underwear': 3307, 'coffee': 3308, 'tefanis': 3309, 'chaos': 3310, 'carey’s': 3311, 'tephanie': 3312, 'clooney’s': 3313, 'per': 3314, '‘will': 3315, 'nursery': 3316, 'cotts': 3317, 'snub': 3318, 'renew': 3319, 'bedroom': 3320, 'save': 3321, 'wake': 3322, 'holds': 3323, 'pull': 3324, 'johnsons': 3325, 'parrish': 3326, 'rocky': 3327, 'offic': 3328, 'ess': 3329, 'memes': 3330, 'posted': 3331, 'beard': 3332, 'deny': 3333, 'point': 3334, 'step': 3335, 'hopes': 3336, 'pushed': 3337, 'gotten': 3338, 'aunt': 3339, 'drunken': 3340, 'arm': 3341, 'fine': 3342, 'surrogate': 3343, 'lawr': 3344, 'demanding': 3345, 'land': 3346, 'forget': 3347, 'pear': 3348, 'decade': 3349, 'you’ll': 3350, 'dinn': 3351, 'battles': 3352, 'fate': 3353, 'it’': 3354, 'attended': 3355, 'thirt': 3356, 'needed': 3357, 'daughter’s': 3358, 'human': 3359, 'lovingly': 3360, 'hiloh': 3361, 'pari': 3362, 'trange': 3363, 'address': 3364, '‘really': 3365, 'da': 3366, 'kind': 3367, 'november': 3368, 'reconcile': 3369, 'funer': 3370, 'lack': 3371, 'jurassic': 3372, '‘nl’': 3373, 'cars': 3374, 'upports': 3375, 'surgeri': 3376, 'titanic': 3377, 'tattoos': 3378, 'blast': 3379, 'deserves': 3380, 'beckinsale': 3381, 'williams’': 3382, 'beek': 3383, 'battling': 3384, 'rihanna’s': 3385, 'daytime': 3386, '100000': 3387, 'apartment': 3388, 'halftime': 3389, 'freaks': 3390, 'screen': 3391, 'ink': 3392, 'beyoncé’s': 3393, 'ask': 3394, 'tokyo': 3395, 'tern': 3396, 'remini': 3397, 'light': 3398, 'deletes': 3399, 'rul': 3400, 'mermaid': 3401, 'hamill': 3402, 'hoax': 3403, 'lovers': 3404, 'putting': 3405, 'cash': 3406, 'bett': 3407, 'beyonces': 3408, 'forbes': 3409, 'chemistry': 3410, 'offensive': 3411, 'snap': 3412, 'global': 3413, 'citizen': 3414, 'hunting': 3415, 'disease': 3416, 'criticism': 3417, 'alyssa': 3418, 'transform': 3419, 'cate': 3420, 'blanchett': 3421, 'near': 3422, 'we’re': 3423, 'musk': 3424, 'maggie': 3425, 'pad': 3426, 'chadwick': 3427, 'continues': 3428, 'bridesmaid': 3429, 'miserable': 3430, 'witch': 3431, 'era': 3432, 'anxiety': 3433, 'inspire': 3434, 'raisa': 3435, 'rejected': 3436, 'hed': 3437, 'perfectly': 3438, 'phelps': 3439, 'izzling': 3440, 'issue': 3441, 'tands': 3442, 'disorder': 3443, 'breakfast': 3444, 'beer': 3445, 'connection': 3446, 'leaked': 3447, 'bachelorett': 3448, 'lazy': 3449, 'dogs': 3450, 'ugar': 3451, '‘bachelor’': 3452, 'windsor': 3453, 'insane': 3454, 'sons': 3455, 'mara': 3456, 'chapman': 3457, 'uspect': 3458, 'mom’s': 3459, '•': 3460, 'ervic': 3461, 'donating': 3462, 'forces': 3463, 'equal': 3464, 'tupac': 3465, 'italian': 3466, 'lo': 3467, 'announcing': 3468, 'learns': 3469, 'cam': 3470, 'tree': 3471, 'funeral': 3472, 'patton': 3473, 'county': 3474, 'braxton': 3475, 'experi': 3476, 'hometown': 3477, 'cheap': 3478, 'hairstyles': 3479, 'running': 3480, 'candals': 3481, 'issa': 3482, 'bachelorettes': 3483, 'bestdressed': 3484, 'grey’s': 3485, 'handmaid’s': 3486, 'gary': 3487, 'brow': 3488, 'assassination': 3489, 'scene': 3490, 'b’s': 3491, 'cryptic': 3492, 'chef': 3493, 'honda': 3494, 'meyer': 3495, 'lesley': 3496, 'culpo': 3497, 'perrette': 3498, 'li': 3499, 'exact': 3500, 'charged': 3501, 'crossover': 3502, 'jade': 3503, 'honey': 3504, 'monica': 3505, 'lineup': 3506, 'cazorla': 3507, 'postpones': 3508, 'fur': 3509, 't': 3510, 'emot': 3511, 'consuelos': 3512, 'deals': 3513, 'biermann': 3514, 'fuller': 3515, 'asha': 3516, 'gunvalson': 3517, 'dodd': 3518, 'birdie': 3519, 'peele': 3520, 'mackenzie': 3521, 'references': 3522, 'eiza': 3523, 'taraji': 3524, 'liveaction': 3525, 'based': 3526, 'barbie': 3527, 'arrivals': 3528, 'glow': 3529, 'lovatos': 3530, 'leav': 3531, 'kournikova': 3532, 'hairstylist': 3533, 'dick': 3534, 'lit': 3535, 'greenlights': 3536, 'daenerys': 3537, 'hurley': 3538, 'reminds': 3539, 'force': 3540, 'threw': 3541, '20th': 3542, 'donate': 3543, 'patricks': 3544, 'unicorn': 3545, 'inappropriate': 3546, 'tark': 3547, 'contact': 3548, 'evolution': 3549, 'monroe': 3550, 'ingl': 3551, 'bure': 3552, 'dons': 3553, 'tv’s': 3554, 'fre': 3555, 'kil': 3556, 'bffs': 3557, 'critics’': 3558, 'jeffrey': 3559, 'xfiles': 3560, 'newest': 3561, 'conrads': 3562, 'gosselin': 3563, 'mckinnon': 3564, 'cocaine': 3565, 'mission': 3566, 'rumour': 3567, 'inspiration': 3568, 'cibrian': 3569, 'apparently': 3570, 'publicly': 3571, 'aubrey': 3572, 'ward': 3573, 'jayz’s': 3574, 'kirsten': 3575, 'andler': 3576, 'theroux’s': 3577, 'rey': 3578, 'chose': 3579, 'rumi': 3580, 'attorney': 3581, 'disast': 3582, 'community': 3583, 'attacks': 3584, 'meghans': 3585, 'obsession': 3586, 'digital': 3587, 'cyber': 3588, 'broth': 3589, 'her': 3590, 'runin': 3591, 'believ': 3592, 'direction': 3593, 'industry': 3594, 'thin': 3595, 'cowell': 3596, 'disicks': 3597, 'august': 3598, 'whirlwind': 3599, 'aisl': 3600, 'acne': 3601, 'jacksons': 3602, 'language': 3603, 'homecoming': 3604, 'widow': 3605, 'inner': 3606, 'jump': 3607, 'transplant': 3608, 'incid': 3609, 'forward': 3610, 'leaks': 3611, 'ound': 3612, 'cent': 3613, 'push': 3614, '2s': 3615, 'faux': 3616, 'addict': 3617, 'across': 3618, 'fak': 3619, 'lord': 3620, 'decided': 3621, 'bans': 3622, 'foxx’s': 3623, 'driving': 3624, 'letterman': 3625, 'pray': 3626, 'embraces': 3627, 'learning': 3628, 'weekli': 3629, 'infidelity': 3630, 'karl': 3631, 'facing': 3632, 'ditch': 3633, 'rodriguezs': 3634, 'pow': 3635, '‘furious’': 3636, 'allow': 3637, 'garn': 3638, 'lauers': 3639, 'makeov': 3640, 'arriv': 3641, 'weinsteins': 3642, 'you’re': 3643, 'neeson': 3644, 'buzz': 3645, 'foxxs': 3646, 'ditches': 3647, 'england': 3648, 'weinstein’s': 3649, 'held': 3650, 'brunette': 3651, 'cambridge': 3652, 'me’': 3653, 'hires': 3654, 'bid': 3655, '‘friends’': 3656, 'hire': 3657, 'ugly': 3658, 'verge': 3659, 'yolanda': 3660, 'year’s': 3661, 'diaz': 3662, 'thrilled': 3663, 'taylors': 3664, '‘not': 3665, 'ever’': 3666, 'publ': 3667, 'feet': 3668, 'attention': 3669, '‘kuwtk’': 3670, 'injuri': 3671, 'created': 3672, 'presid': 3673, 'chedule': 3674, 'perry’s': 3675, 'earning': 3676, 'creaming': 3677, 'tiller': 3678, '54': 3679, 'casually': 3680, 'pressparti': 3681, 'elfi': 3682, 'marilyn': 3683, 'uccess': 3684, '911': 3685, 'flynn': 3686, 'basically': 3687, 'he’ll': 3688, 'league': 3689, 'pread': 3690, 'cloth': 3691, 'answ': 3692, 'erial': 3693, 'fr': 3694, 'amantha': 3695, 'char': 3696, 'mccartney': 3697, 'thi': 3698, 'hailee': 3699, '‘gma’': 3700, 'kirby': 3701, 'eyebrow': 3702, 'renewal': 3703, 'upermodel': 3704, 'wilmer': 3705, 'fortune': 3706, 'uicid': 3707, 'benson': 3708, 'freeman': 3709, 'impact': 3710, 'source': 3711, 'kelsey': 3712, 'oul': 3713, 'fey': 3714, 'it': 3715, 'locklear': 3716, 'aquaman': 3717, 'accept': 3718, 'rogen': 3719, 'momoa': 3720, 'explained': 3721, 'relationships': 3722, 'suicide': 3723, 'solo': 3724, 'milano': 3725, 'leep': 3726, 'lauer’s': 3727, 'carino': 3728, 'glover': 3729, 'categori': 3730, 'comedi': 3731, 'hoots': 3732, 'alary': 3733, 'hearing': 3734, 'incident': 3735, 'retir': 3736, 'version': 3737, 'baywatch': 3738, 'teal': 3739, 'legends': 3740, 'declares': 3741, 'tumor': 3742, 'nod': 3743, 'betty': 3744, 'paula': 3745, 'events': 3746, 'mrs': 3747, 'awesome': 3748, 'tia': 3749, 'anymor': 3750, 'rhys': 3751, 'judy': 3752, 'cruz': 3753, 'assaulted': 3754, 'december': 3755, 'nail': 3756, 'guild': 3757, 'rhonj': 3758, 'teeth': 3759, 'farm': 3760, 'camille': 3761, 'ruby': 3762, 'rebel': 3763, 'paradis': 3764, 'netflix’s': 3765, 'lovely': 3766, 'friendly': 3767, 'vonn': 3768, 'laugh': 3769, 'heigl': 3770, 'accidental': 3771, 'reception': 3772, 'agrees': 3773, 'toronto': 3774, 'telling': 3775, '23': 3776, 'morris': 3777, 'diddy': 3778, '2000': 3779, 'bora': 3780, 'kourtneys': 3781, '‘real': 3782, '70': 3783, 'ghost': 3784, 'enters': 3785, 'resid': 3786, 'proved': 3787, 'level': 3788, 'gerard': 3789, 'dry': 3790, 'least': 3791, 'terence': 3792, 'unforgettable': 3793, 'gifford': 3794, 'jingle': 3795, 'bal': 3796, 'quinn': 3797, 'forever': 3798, 'pope': 3799, 'celebritymaximumcom': 3800, 'prepares': 3801, 'oral': 3802, 'not': 3803, '‘never': 3804, 'documentari': 3805, 'iman': 3806, 'flaunts': 3807, 'goto': 3808, 'breastfeeding': 3809, 'marvels': 3810, 'anymore': 3811, 'summer': 3812, 'kaitlyn': 3813, 'bristowe': 3814, 'throw': 3815, 'ava': 3816, 'boobs': 3817, 'choic': 3818, 'controversy': 3819, 'boat': 3820, 'mic': 3821, 'donation': 3822, 'lays': 3823, 'champion': 3824, 'cak': 3825, 'amendola': 3826, 'weapon': 3827, 'respect': 3828, 'campbell': 3829, 'olympian': 3830, 'dead’': 3831, 'beasts': 3832, 'agents': 3833, 'phil': 3834, 'alma': 3835, 'lay': 3836, 'uma': 3837, 'nap': 3838, 'candice': 3839, 'accuse': 3840, 'chmidt': 3841, 'howcases': 3842, 'meeks': 3843, 'es': 3844, 'eliza': 3845, 'remix': 3846, 'presley': 3847, 'jaden': 3848, 'kaylin': 3849, 'jurrjens': 3850, 'haibon': 3851, 'julianna': 3852, 'malika': 3853, 'bridesmaids': 3854, 'ohanian': 3855, 'elfies': 3856, 'rick': 3857, 'riverdal': 3858, 'harley': 3859, 'bares': 3860, 'vegan': 3861, 'melt': 3862, 'hahidi': 3863, '‘jersey': 3864, 'connects': 3865, 'taco': 3866, 'kentucky': 3867, 'unbelievable': 3868, 'buffy': 3869, 'riverdales': 3870, 'kirt': 3871, 'eleanor': 3872, 'captain': 3873, 'raisman': 3874, 'henri': 3875, 'autopsy': 3876, 'feldman': 3877, 'christ': 3878, 'cancelled': 3879, 'bank': 3880, 'ync': 3881, 'cynthia': 3882, 'hores': 3883, 'cheana': 3884, 'saved': 3885, 'iron': 3886, 'judges': 3887, 'biles': 3888, 'ador': 3889, 'maluma': 3890, 'tearful': 3891, 'roundup': 3892, 'infamous': 3893, 'edmonds': 3894, 'hadow': 3895, 'tower': 3896, 'heknow': 3897, 'cup': 3898, 'lots': 3899, 'jacob': 3900, 'runs': 3901, 'sings': 3902, 'rules’': 3903, 'goodman': 3904, 'nickelodeon': 3905, 'qa': 3906, 'junes': 3907, 'fallen': 3908, 'jenni': 3909, 'quintanilla': 3910, 'she’s': 3911, 'norm': 3912, 'losers': 3913, 'kelsea': 3914, 'zara': 3915, 'shirtless': 3916, 'regular': 3917, 'diesel': 3918, 'packs': 3919, 'hacks': 3920, 'guid': 3921, 'pirates': 3922, 'stage': 3923, 'warrior': 3924, 'fury': 3925, 'enlists': 3926, 'listening': 3927, 'ettles': 3928, 'demand': 3929, 'caroline': 3930, 'honoring': 3931, 'osbourne': 3932, 'gavin': 3933, 'ella': 3934, 'deck': 3935, 'offici': 3936, 'bells': 3937, 'weigh': 3938, 'kardashians’': 3939, 'caused': 3940, 'tronger': 3941, 'ure': 3942, 'animal': 3943, 'garfield': 3944, 'relaps': 3945, 'roles': 3946, 'leo': 3947, 'kelli': 3948, 'via': 3949, 'poehler': 3950, '‘can’t': 3951, 'cared': 3952, 'maddox': 3953, 'toy': 3954, 'assistant': 3955, 'hepherd': 3956, 'college': 3957, 'breakups': 3958, 'fraud': 3959, 'finalize': 3960, 'cravings': 3961, 'robbi': 3962, '‘live’': 3963, 'spending': 3964, 'manganiello': 3965, 'disick’s': 3966, 'mitten': 3967, '‘we': 3968, 'eats': 3969, 'jackie': 3970, 'agreement': 3971, 'knot': 3972, 'kipping': 3973, 'outside': 3974, 'replaced': 3975, 'comfort': 3976, 'farewell': 3977, 'waiting': 3978, 'plitting': 3979, 'understand': 3980, '‘how': 3981, 'hello': 3982, 'worry': 3983, 'reboots': 3984, 'tisdale': 3985, 'adopting': 3986, 'dispute': 3987, 'anwar': 3988, 'bindi': 3989, 'predicted': 3990, 'truggling': 3991, 'irma': 3992, 'dying': 3993, 'paparazzi': 3994, 'crazi': 3995, 'devastating': 3996, 'built': 3997, 'niro': 3998, 'curse': 3999, 'worri': 4000, 'pals': 4001, 'guard': 4002, 'claimed': 4003, 'separ': 4004, 'cousin': 4005, 'congratulates': 4006, 'stuns': 4007, 'friends’': 4008, 'tool': 4009, 'agdal': 4010, 'alon': 4011, 'wax': 4012, 'challenges': 4013, 'mill': 4014, 'urging': 4015, 'blam': 4016, 'grave': 4017, 'injured': 4018, 'holidays': 4019, 'roots': 4020, 'tense': 4021, 'museum': 4022, 'federline': 4023, '‘black': 4024, 'meg': 4025, '200': 4026, 'rebound': 4027, 'ignores': 4028, 'bullied': 4029, 'reign': 4030, 'broderick': 4031, 'exgirlfriends': 4032, 'accusers': 4033, 'price': 4034, 'alessandra': 4035, 'ties': 4036, 'ronda': 4037, 'deleted': 4038, 'forgotten': 4039, 'conan': 4040, 'lammed': 4041, 'clark': 4042, 'haring': 4043, 'chynas': 4044, 'embarrass': 4045, 'clears': 4046, 'haunted': 4047, 'vaughn': 4048, 'prior': 4049, 'wahlberg': 4050, 'igned': 4051, 'adopted': 4052, 'maid': 4053, 'highlight': 4054, 'gushing': 4055, '‘last': 4056, 'remak': 4057, 'baldwins': 4058, 'thick': 4059, 'forgot': 4060, 'cosmetics': 4061, 'ettle': 4062, '‘today’': 4063, 'conspiracy': 4064, 'trapped': 4065, 'replaces': 4066, 'maybe': 4067, 'julie': 4068, 'chandler': 4069, 'competitive': 4070, 'frustrated': 4071, '500000': 4072, 'cruise’s': 4073, 'sell': 4074, 'item': 4075, 'admit': 4076, 'fanning': 4077, 'weed': 4078, 'overdose': 4079, 'ilverman': 4080, 'lowkey': 4081, 'newly': 4082, 'gloria': 4083, 'eemingly': 4084, 'continu': 4085, 'questioning': 4086, 'wanting': 4087, 'ey': 4088, 'badass': 4089, 'steal': 4090, 'haines': 4091, 'secrets': 4092, 'zero': 4093, 'degener': 4094, 'valderrama': 4095, 'diaries': 4096, 'stori': 4097, 'olange': 4098, 'kinney': 4099, 'beyonce’s': 4100, '46': 4101, 'blowout': 4102, 'shocking': 4103, 'pal': 4104, 'shuts': 4105, 'grammer': 4106, 'attempt': 4107, 'girls’': 4108, 'televis': 4109, '»': 4110, 'genius': 4111, 'rhobh': 4112, 'warren': 4113, 'weve': 4114, 'glenn': 4115, 'introduced': 4116, 'rushed': 4117, 'medical': 4118, 'yankee': 4119, 'means': 4120, 'bigger': 4121, 'ist': 4122, 'tudio': 4123, '400': 4124, 'millions': 4125, 'advic': 4126, 'written': 4127, 'dancers': 4128, 'detailed': 4129, 'spinoff': 4130, 'mysteri': 4131, 'pine': 4132, 'hil': 4133, 'tank': 4134, 'fact': 4135, 'pressure': 4136, 'giuliana': 4137, 'boseman': 4138, 'spends': 4139, 'parody': 4140, 'cript': 4141, 'earth': 4142, 'closer': 4143, 'hamilton': 4144, 'effort': 4145, 'newsbeez': 4146, 'jawdropping': 4147, 'shut': 4148, 'lochte': 4149, 'curtis': 4150, 'stay': 4151, 'compared': 4152, 'special': 4153, 'promote': 4154, 'murphi': 4155, 'candy': 4156, 'quot': 4157, 'idris': 4158, 'tolen': 4159, 'finn': 4160, 'author': 4161, 'superhero': 4162, 'alive': 4163, 'debunking': 4164, 'sets': 4165, 'beckhams': 4166, 'brolin': 4167, 'maks': 4168, 'piss': 4169, 'items': 4170, '500': 4171, 'carrying': 4172, '39': 4173, '34': 4174, 'lifetime': 4175, 'directors': 4176, 'numb': 4177, 'disappointed': 4178, 'uch': 4179, 'reunit': 4180, 'temporary': 4181, 'bachelor’': 4182, 'drake’s': 4183, 'that’s': 4184, 'aren’t': 4185, 'accusing': 4186, 'jackman': 4187, 'roller': 4188, 'glass': 4189, 'minute': 4190, 'saying': 4191, 'remove': 4192, 'traveling': 4193, 'extortion': 4194, 'guardian': 4195, 'tomb': 4196, 'surpris': 4197, 'gagas': 4198, 'nak': 4199, 'bombshell': 4200, 'football': 4201, 'masterson': 4202, '70s': 4203, 'twinning': 4204, 'marathon': 4205, 'urprisingly': 4206, 'bliss': 4207, 'darkest': 4208, 'gregg': 4209, 'billboards': 4210, 'splits': 4211, 'nephew': 4212, 'timberlakes': 4213, 'pokes': 4214, 'crashes': 4215, 'inspires': 4216, 'afi': 4217, 'pass': 4218, '‘dwt’': 4219, 'treaming': 4220, 'gayle': 4221, 'powell': 4222, 'recept': 4223, '‘hollywood': 4224, 'sues': 4225, 'matter': 4226, 'promotes': 4227, 'macklemore': 4228, 'catch': 4229, 'judg': 4230, 'nights': 4231, 'kidmans': 4232, 'ussex': 4233, 'uffers': 4234, 'miscarriag': 4235, 'rent': 4236, '25th': 4237, 'bundchen': 4238, 'familys': 4239, 'resurfaces': 4240, 'oswalt': 4241, 'trainor': 4242, 'appeal': 4243, 'barrett': 4244, 'keaton': 4245, '42': 4246, 'fking': 4247, 'danc': 4248, 'ragnarok': 4249, 'legendary': 4250, 'contest': 4251, 'westwick': 4252, 'evening': 4253, 'rupauls': 4254, 'westworld': 4255, 'robby': 4256, 'wifes': 4257, 'panth': 4258, 'disneys': 4259, 'elgort': 4260, 'remembering': 4261, 'trash': 4262, 'val': 4263, 'originals': 4264, 'culpos': 4265, 'tassi': 4266, 'dejesus': 4267, 'clown': 4268, 'tuck': 4269, 'dorinda': 4270, 'grant': 4271, 'bryant': 4272, 'mcqueen': 4273, 'fischer': 4274, 'argento': 4275, 'dated': 4276, '90': 4277, 'rowland': 4278, 'evangelista': 4279, 'rough': 4280, 'fantastic': 4281, 'actual': 4282, 'hiatus': 4283, 'grace’': 4284, 'alling': 4285, 'relatable': 4286, 'christening': 4287, 'miguel': 4288, 'thurman': 4289, 'wanepoel': 4290, 'foundation': 4291, 'grown': 4292, 'gymnast': 4293, 'mask': 4294, 'games’': 4295, 'casts': 4296, 'kkw': 4297, 'rhett': 4298, 'precious': 4299, 'vocal': 4300, 'cabrera': 4301, 'allegation': 4302, 'heartwarming': 4303, 'murd': 4304, 'onja': 4305, 'cofounder': 4306, 'tech': 4307, 'nelly': 4308, 'za': 4309, 'eliminated': 4310, '37': 4311, 'glamour': 4312, 'kingdom': 4313, 'collection': 4314, 'atlantas': 4315, 'virgin': 4316, 'haqq': 4317, 'moon': 4318, 'andrews': 4319, '90s': 4320, 'lori': 4321, 'heer': 4322, 'comic': 4323, 'tequila': 4324, 'robot': 4325, 'medium’': 4326, 'penis': 4327, 'feature': 4328, 'scen': 4329, 'ammi': 4330, 'weetheart': 4331, 'disord': 4332, 'urvivors': 4333, 'hirt': 4334, 'rhoc': 4335, 'cornells': 4336, 'ponytail': 4337, 'miths': 4338, 'tamar': 4339, 'vincent': 4340, 'thong': 4341, 'wags': 4342, 'haun': 4343, 'considers': 4344, 'waddell': 4345, 'outrageous': 4346, '30000': 4347, 'battery': 4348, 'clues': 4349, 'quick': 4350, 'involv': 4351, 'answers': 4352, 'oz': 4353, 'earned': 4354, 'nattie': 4355, 'chmidt’': 4356, 'writes': 4357, 'jesus': 4358, 'mckayla': 4359, 'maroney': 4360, 'professional': 4361, 'naps': 4362, 'pitbull': 4363, 'hunt': 4364, 'babymoon': 4365, 'hayden': 4366, 'pizza': 4367, 'facial': 4368, 'marroquin': 4369, 'brands': 4370, 'zarin': 4371, 'hields': 4372, 'ten': 4373, 'laid': 4374, 'hocus': 4375, 'pocus': 4376, 'independent': 4377, 'collaboration': 4378, 'leading': 4379, 'ignature': 4380, 'earli': 4381, 'eyeliner': 4382, 'hairstyl': 4383, 'incredibles': 4384, 'anxieti': 4385, 'zon': 4386, 'revel': 4387, 'investigating': 4388, 'pa': 4389, 'rockwell': 4390, 'duffs': 4391, '‘tar': 4392, 'monique': 4393, 'pinks': 4394, 'tanner': 4395, 'starstudded': 4396, 'baier': 4397, 'voting': 4398, 'vol': 4399, 'radziwill': 4400, 'bourdains': 4401, 'success': 4402, 'highs': 4403, 'steals': 4404, 'benedict': 4405, 'cumberbatch': 4406, 'deckers': 4407, 'asiah': 4408, 'ballerini': 4409, 'blank': 4410, 'phaedra': 4411, 'mile': 4412, 'ass': 4413, 'write': 4414, 'bil': 4415, 'trust': 4416, 'wrap': 4417, 'keanu': 4418, 'nervous': 4419, 'file': 4420, 'flipflops': 4421, 'promise': 4422, 'ruin': 4423, 'on’s': 4424, 'unlikely': 4425, 'chang': 4426, 'monaco': 4427, 'her’': 4428, 'cold': 4429, 'tension': 4430, 'eagles': 4431, 'homeless': 4432, 'warned': 4433, 'managers': 4434, '‘keeping': 4435, 'allowed': 4436, 'triangl': 4437, 'stand': 4438, 'cancellation': 4439, 'considered': 4440, 'lover': 4441, 'liar': 4442, 'beg': 4443, 'bodysuit': 4444, 'difficult': 4445, 'copying': 4446, 'touring': 4447, 'eleven': 4448, 'investig': 4449, 'healing': 4450, 'views': 4451, 'focused': 4452, 'regarding': 4453, 'hamm': 4454, 'manning': 4455, 'ferrell': 4456, 'uperman': 4457, 'cordens': 4458, 'ue': 4459, 'kicked': 4460, 'nightmare': 4461, 'rekindle': 4462, 'headlin': 4463, 'blow': 4464, 'thron': 4465, 'sight': 4466, 'karsgard': 4467, 'bathroom': 4468, 'fling': 4469, 'fabulous': 4470, 'increasingly': 4471, 'slam': 4472, 'brok': 4473, 'nominee': 4474, '‘harry': 4475, 'figur': 4476, 'falchuk': 4477, 'gorg': 4478, 'leeping': 4479, 'belafonte': 4480, 'moved': 4481, 'nubbed': 4482, 'analysis': 4483, 'ange': 4484, 'recounts': 4485, 'crying': 4486, 'lift': 4487, 'rock’': 4488, 'crashed': 4489, 'musicians': 4490, 'styl': 4491, '‘dating': 4492, 'dna': 4493, 'troy': 4494, 'america’s': 4495, 'reach': 4496, 'afford': 4497, 'shaded': 4498, 'recording': 4499, 'howdown': 4500, 'quits': 4501, 'dragged': 4502, 'hookups': 4503, 'lambert’s': 4504, 'niece': 4505, 'causes': 4506, 'congress': 4507, 'diapers': 4508, 'opened': 4509, 'hady': 4510, 'flying': 4511, 'valentine’s': 4512, 'except': 4513, 'fassbender': 4514, 'ense': 4515, 'lopez’s': 4516, '‘aturday': 4517, 'loose': 4518, 'tormis': 4519, 'melanie': 4520, 'jonah': 4521, 'unrecognizable': 4522, 'overthetop': 4523, 'watches': 4524, 'natalia': 4525, 'fuels': 4526, 'perrie': 4527, 'confirming': 4528, 'imagine': 4529, 'yacht': 4530, 'began': 4531, 'il': 4532, 'crowe': 4533, 'divorced': 4534, 'warm': 4535, 'ant': 4536, 'marital': 4537, 'fascinating': 4538, 'tat': 4539, 'blind': 4540, 'reput': 4541, 'weetin': 4542, 'notorious': 4543, 'marks': 4544, 'joliepitt': 4545, 'adult': 4546, 'troubl': 4547, 'missouri': 4548, 'thread': 4549, 'awkwardly': 4550, 'handling': 4551, 'transpl': 4552, 'ilver': 4553, 'compete': 4554, 'started': 4555, 'interviews': 4556, 'topped': 4557, 'erenades': 4558, 'extreme': 4559, 'haming': 4560, '‘my': 4561, 'cops': 4562, 'ridiculous': 4563, 'staff': 4564, 'tealing': 4565, 'teach': 4566, '50k': 4567, 'hutchins': 4568, 'eyed': 4569, 'arr': 4570, 'weeknd’s': 4571, 'braless': 4572, 'fest': 4573, 'debbie': 4574, 'accepting': 4575, 'tore': 4576, 'retire': 4577, 'gordon': 4578, 'ticket': 4579, 'confident': 4580, 'nashville': 4581, 'fault': 4582, 'apologize': 4583, 'africa': 4584, 'offer': 4585, 'rooney': 4586, 'explod': 4587, 'addressed': 4588, 'chwarzenegger': 4589, 'failing': 4590, 'teinfeld': 4591, 'none': 4592, 'plac': 4593, 'richies': 4594, 'concern': 4595, 'mock': 4596, 'trol': 4597, 'master': 4598, 'rumoured': 4599, 'smiles': 4600, 'stalker': 4601, 'emerged': 4602, 'kudrow': 4603, 'perrys': 4604, 'happening': 4605, 'gap': 4606, 'rapp': 4607, 'breakout': 4608, 'spent': 4609, 'nurseri': 4610, 'schedule': 4611, 'joey': 4612, 'disgusting': 4613, 'mistak': 4614, 'facetime': 4615, 'wreck': 4616, 'usher': 4617, 'underwoods': 4618, 'bye': 4619, 'patti': 4620, 'pissed': 4621, 'hannen': 4622, '‘it': 4623, 'lashes': 4624, 'surprised': 4625, 'passing': 4626, 'hamers': 4627, 'tupid': 4628, 'crit': 4629, 'chloë': 4630, 'toilet': 4631, 'zellweger': 4632, 'vito': 4633, 'chnabel': 4634, 'buddy': 4635, 'tanton': 4636, 'mischa': 4637, 'dewans': 4638, 'remark': 4639, 'tlc': 4640, 'racial': 4641, 'mistaken': 4642, 'coast': 4643, 'filled': 4644, 'scenes': 4645, 'kim’s': 4646, 'peculation': 4647, 'uffering': 4648, 'sexist': 4649, 'chocolate': 4650, 'dismisses': 4651, 'fishers': 4652, 'theori': 4653, 'mcconaughey': 4654, 'bafta': 4655, 'rather': 4656, 'youve': 4657, 'uccessful': 4658, 'arrival': 4659, 'staying': 4660, 'download': 4661, 'performed': 4662, 'taying': 4663, 'girl’': 4664, '45': 4665, 'extremely': 4666, 'produce': 4667, 'cyrus’': 4668, 'robinson': 4669, 'jj': 4670, 'hearts': 4671, 'letting': 4672, 'texas': 4673, 'picked': 4674, 'paulson': 4675, 'sexually': 4676, 'hopeful': 4677, 'mayim': 4678, 'crowned': 4679, 'dangerous': 4680, 'dior': 4681, 'cooter': 4682, 'devastated': 4683, 'presenters': 4684, 'rekindled': 4685, 'couldn’t': 4686, 'coaster': 4687, 'isterhood': 4688, 'harts': 4689, '‘live': 4690, 'barcelona': 4691, 'cheers': 4692, 'lake': 4693, 'roger': 4694, 'diplo': 4695, 'hug': 4696, 'ystem': 4697, 'struggles': 4698, 'hollywood’s': 4699, 'edward': 4700, 'alums': 4701, 'addest': 4702, 'tomlinson': 4703, 'glimpse': 4704, '38': 4705, 'mr': 4706, 'neil': 4707, 'freaked': 4708, 'tuff': 4709, 'amount': 4710, 'zombie': 4711, 'avril': 4712, 'lavigne': 4713, 'showing': 4714, 'nancy': 4715, 'sells': 4716, 'killing': 4717, 'why’': 4718, 'dealing': 4719, 'embrace': 4720, 'pratts': 4721, 'writers': 4722, 'hemsworths': 4723, 'maisie': 4724, 'anthoni': 4725, 'fing': 4726, 'moss': 4727, 'odell': 4728, 'yeah': 4729, 'build': 4730, 'lucky': 4731, 'quiz': 4732, '43': 4733, 'hines': 4734, 'wave': 4735, 'fairy': 4736, 'alltar': 4737, 'servic': 4738, 'tation': 4739, '5th': 4740, 'tamblyn': 4741, 'bonds': 4742, 'dazzle': 4743, 'poster': 4744, 'twice': 4745, 'ang': 4746, 'helen': 4747, 'albas': 4748, 'assaulting': 4749, 'bachelorette’s': 4750, 'kj': 4751, 'apa': 4752, 'foot': 4753, 'henderson': 4754, 'hiltons': 4755, 'laich': 4756, 'clu': 4757, 'fortun': 4758, 'uperhero': 4759, 'kandi': 4760, 'poem': 4761, 'uicidal': 4762, 'carson': 4763, 'titles': 4764, 'chroeder': 4765, 'copy': 4766, 'doubl': 4767, 'baio': 4768, 'alison': 4769, 'hilarie': 4770, 'burton': 4771, 'browns': 4772, 'involves': 4773, 'gowns': 4774, 'broadcast': 4775, 'effect': 4776, 'lethal': 4777, 'bon': 4778, 'alongside': 4779, 'receive': 4780, '29': 4781, 'hayek': 4782, 'batali': 4783, 'trek': 4784, 'knight': 4785, 'prep': 4786, 'f': 4787, 'completes': 4788, 'tessa': 4789, 'dunst': 4790, 'gymnastics': 4791, 'parenthood': 4792, 'clue': 4793, 'goodwin': 4794, 'bee': 4795, 'fantasy': 4796, 'honestly': 4797, 'fandom': 4798, 'sends': 4799, 'unite': 4800, 'meme': 4801, 'cried': 4802, 'lara': 4803, 'jayne': 4804, 'beyhive': 4805, 'livelys': 4806, 'fiancée': 4807, 'patients': 4808, 'lb': 4809, 'beast’': 4810, 'premieres': 4811, 'margulies': 4812, 'chumers': 4813, 'ratner': 4814, 'athletes': 4815, 'bridal': 4816, 'fx': 4817, '«': 4818, 'coy': 4819, 'marvelous': 4820, 'blackish': 4821, 'ixpack': 4822, 'henson': 4823, 'heeran’s': 4824, 'afterparty': 4825, 'gabbana': 4826, 'bel': 4827, 'tara': 4828, '73': 4829, 'tinsley': 4830, 'photoshop': 4831, 'confess': 4832, 'runner': 4833, 'girardi': 4834, 'revisit': 4835, 'type': 4836, 'nostalgic': 4837, 'alpha': 4838, 'photobombs': 4839, 'orrentino': 4840, 'mariska': 4841, 'priceless': 4842, 'grandma': 4843, 'zeke': 4844, 'kimmels': 4845, 'moore’s': 4846, 'house’': 4847, 'legacy': 4848, 'worked': 4849, 'bravo': 4850, 'harassed': 4851, 'kings': 4852, 'frappuccino': 4853, '‘queer': 4854, 'related': 4855, 'illustrated': 4856, 'criminal': 4857, 'harmonys': 4858, 'jasper': 4859, 'marciano': 4860, 'braid': 4861, 'porsha': 4862, 'rac': 4863, 'brit': 4864, 'suicid': 4865, 'dads': 4866, 'down': 4867, 'mak': 4868, 'blair': 4869, 'dedicates': 4870, 'lowes': 4871, 'maren': 4872, 'farrow': 4873, 'adventures': 4874, 'trailers': 4875, '‘wonder': 4876, 'bra': 4877, 'bohan': 4878, 'taught': 4879, 'sorry': 4880, 'rush': 4881, 'nipple': 4882, 'klein': 4883, 'khalid': 4884, 'minutes': 4885, 'tomach': 4886, 'dane': 4887, 'toll': 4888, 'accepts': 4889, 'tiles': 4890, 'posey': 4891, 'polish': 4892, 'pompeo': 4893, 'helena': 4894, 'ellie': 4895, 'parking': 4896, 'cheeky': 4897, 'layer': 4898, 'eq': 4899, 'floral': 4900, 'bunny': 4901, 'amnayzh': 4902, 'lie': 4903, 'kobe': 4904, 'dragons': 4905, 'elimin': 4906, 'cross': 4907, 'dae': 4908, 'hoffman': 4909, 'normani': 4910, 'blanket': 4911, 'kardashianjenner': 4912, 'otunga': 4913, 'tuesday': 4914, 'maci': 4915, 'riding': 4916, 'gonzalez': 4917, 'han': 4918, 'elma': 4919, 'teamy': 4920, 'yellow': 4921, 'jwoww': 4922, 'view’': 4923, 'eyeshadow': 4924, 'alan': 4925, '‘beauty': 4926, 'bathing': 4927, 'galecki': 4928, 'martha': 4929, 'ninja': 4930, 'tuns': 4931, 'marcille': 4932, 'accurate': 4933, 'tricks': 4934, 'upergirl': 4935, 'dear': 4936, 'mccullough': 4937, 'emoji': 4938, 'jojo': 4939, 'banana': 4940, 'caus': 4941, 'deliver': 4942, 'aoirse': 4943, 'hm': 4944, 'lamming': 4945, 'ferrera': 4946, 'ilent': 4947, 'cruel': 4948, 'harvard': 4949, 'annabelle': 4950, 'wiki': 4951, 'taste': 4952, 'movement': 4953, 'ketch': 4954, 'tax': 4955, 'adoption': 4956, 'manag': 4957, 'label': 4958, '‘best': 4959, 'on’': 4960, '‘he’s': 4961, 'fill': 4962, 'bonding': 4963, 'occer': 4964, 'course': 4965, 'plenty': 4966, 'cory': 4967, 'ewan': 4968, 'piers': 4969, 'victory': 4970, 'hitting': 4971, 'obamas': 4972, 'earring': 4973, 'griffin’s': 4974, 'axl': 4975, 'linda': 4976, 'phan': 4977, 'kipped': 4978, 'inherit': 4979, 'blindsided': 4980, 'cinderella': 4981, 'pinterest': 4982, 'uncomfortable': 4983, 'blige': 4984, 'gamble': 4985, 'fals': 4986, 'legs': 4987, 'tanding': 4988, 'gush': 4989, 'charlottesville': 4990, 'contract': 4991, '2049': 4992, 'anger': 4993, 'panic': 4994, 'shocked': 4995, 'politics': 4996, 'selfie': 4997, 'outburst': 4998, 'outs': 4999, 'together’': 5000, 'surrog': 5001, '49th': 5002, 'gere': 5003, 'pushing': 5004, 'easier': 5005, 'recoveri': 5006, 'channeling': 5007, 'rinna': 5008, 'abused': 5009, 'lgbt': 5010, 'epn': 5011, 'poor': 5012, 'oldest': 5013, 'brangelina': 5014, 'insan': 5015, '25m': 5016, 'experts': 5017, 'odd': 5018, 'exec': 5019, 'gadots': 5020, 'pitt–angelina': 5021, 'responded': 5022, 'yrian': 5023, 'claiming': 5024, 'mane': 5025, 'elite': 5026, 'ali': 5027, 'hooku': 5028, 'on”': 5029, 'lamberts': 5030, 'reynold': 5031, 'swimsuit': 5032, 'anytime': 5033, 'miling': 5034, 'holmes’': 5035, 'trials': 5036, 'causing': 5037, 'castl': 5038, 'mum': 5039, 'confesses': 5040, 'franchise': 5041, 'intens': 5042, 'comedian': 5043, 'humanitarian': 5044, 'onet': 5045, 'buying': 5046, 'wellness': 5047, 'proposing': 5048, 'nync': 5049, 'aap': 5050, 'huntingtonwhiteley': 5051, 'bette': 5052, 'lying': 5053, 'agr': 5054, 'exbf': 5055, '‘new': 5056, 'barefoot': 5057, 'faced': 5058, 'alreadi': 5059, 'dissing': 5060, 'cutting': 5061, 'civil': 5062, 'airlines': 5063, '‘to': 5064, 'destroy': 5065, 'bullying': 5066, 'expos': 5067, 'lesbian': 5068, 'pursuing': 5069, 'rift': 5070, 'china': 5071, 'mana': 5072, 'welfare': 5073, 'flirt': 5074, 'urbans': 5075, '‘top': 5076, 'app': 5077, 'deni': 5078, 'annette': 5079, 'defamation': 5080, 'impson’s': 5081, 'paternity': 5082, 'hockey': 5083, '‘bad': 5084, 'lifestyl': 5085, 'risk': 5086, 'chung': 5087, 'crack': 5088, 'rising': 5089, 'river': 5090, 'glowing': 5091, 'bendjimas': 5092, 'posting': 5093, 'leaning': 5094, 'cooking': 5095, '3rd': 5096, 'backyard': 5097, 'remarks': 5098, '‘good': 5099, 'memoriam': 5100, 'beyonc': 5101, 'duti': 5102, 'ron': 5103, 'away’': 5104, 'prov': 5105, 'livid': 5106, 'jen’s': 5107, 'rage': 5108, 'naming': 5109, '‘till': 5110, 'jermaine': 5111, 'yoga': 5112, 'billionair': 5113, 'branch': 5114, 'hefn': 5115, 'villain': 5116, '‘econd': 5117, 'hilaria': 5118, 'blows': 5119, 'wikipedia': 5120, '51': 5121, 'warn': 5122, 'ros': 5123, 'furi': 5124, 'tedman': 5125, 'bottle': 5126, 'udden': 5127, 'hiring': 5128, 'doug': 5129, 'overcome': 5130, 'tabloids': 5131, 'sisters': 5132, 'brother’': 5133, 'undercover': 5134, 'liked': 5135, 'franklin': 5136, 'pill': 5137, 'lavery': 5138, 'hampoo': 5139, 'pusha': 5140, 'bs': 5141, 'pepsi': 5142, 'talked': 5143, 'life’': 5144, 'garden': 5145, 'catwalk': 5146, 'ki': 5147, 'anchor': 5148, 'apologises': 5149, 'transformed': 5150, 'coldplay': 5151, 'checked': 5152, 'weekly': 5153, 'basic': 5154, 'tumbles': 5155, 'eriously': 5156, 'timberlak': 5157, 'gotham': 5158, 'uki': 5159, 'nake': 5160, 'rejects': 5161, 'happiness': 5162, 'jeal': 5163, 'city’': 5164, 'cameras': 5165, 'clippers': 5166, 'wardrob': 5167, 'debt': 5168, 'witness': 5169, 'threatened': 5170, 'military': 5171, 'man’': 5172, 'meal': 5173, 'request': 5174, 'ettling': 5175, 'estate': 5176, 'records': 5177, 'abc’s': 5178, 'ize': 5179, 'begins': 5180, 'ozzy': 5181, 'audio': 5182, 'whose': 5183, 'ferguson': 5184, 'horrible': 5185, 'ralphie': 5186, 'advance': 5187, 'rounds': 5188, 'murders': 5189, 'super': 5190, 'brinkley': 5191, 'binge': 5192, '‘mean': 5193, 'hilari': 5194, 'delay': 5195, 'liev': 5196, 'chreiber': 5197, 'website': 5198, 'focus': 5199, 'charmed': 5200, 'presidential': 5201, 'struggle': 5202, 'pan': 5203, 'bisexual': 5204, 'acts': 5205, 'justic': 5206, 'zandy': 5207, 'reich': 5208, '‘no': 5209, 'paltrow’s': 5210, '‘despacito’': 5211, 'ources': 5212, 'minut': 5213, 'panel': 5214, 'chicago’s': 5215, 'door': 5216, 'barton': 5217, 'thighhigh': 5218, 'wel': 5219, 'hunnam': 5220, 'cringeworthy': 5221, 'brigitte': 5222, 'pictured': 5223, '68': 5224, 'explodes': 5225, 'link': 5226, 'pure': 5227, '‘all': 5228, 'anyth': 5229, 'urfaces': 5230, 'hart’s': 5231, 'chedul': 5232, 'lawyers': 5233, 'dominate': 5234, '‘america’s': 5235, 'threats': 5236, 'lynch': 5237, 'gad': 5238, 'ident': 5239, 'halfnaked': 5240, 'sad': 5241, 'adidas': 5242, 'given': 5243, 'vince': 5244, 'romances': 5245, 'here’': 5246, 'sent': 5247, 'bio': 5248, 'eeking': 5249, 'dig': 5250, 'dirt': 5251, 'tie': 5252, 'evidence': 5253, 'urrog': 5254, 'meaningful': 5255, 'nanny': 5256, 'jude': 5257, 'verlander': 5258, 'quavo': 5259, '‘just': 5260, 'israel': 5261, 'audit': 5262, 'arizona': 5263, 'glen': 5264, 'queen’s': 5265, 'haven’t': 5266, 'ackerley': 5267, 'elba': 5268, 'eyfried': 5269, 'introducing': 5270, 'farrell': 5271, 'mamma': 5272, 'dominic': 5273, 'fiery': 5274, 'lett': 5275, 'tel': 5276, 'investigated': 5277, 'compani': 5278, 'competing': 5279, 'trap': 5280, 'hoodie': 5281, 'everywher': 5282, 'nightclub': 5283, 'mistake': 5284, 'contour': 5285, 'tick': 5286, 'treats': 5287, 'invites': 5288, 'amp': 5289, 'texans': 5290, 'fujikawa': 5291, 'daniels': 5292, 'costa': 5293, 'selling': 5294, 'shade': 5295, 'world’': 5296, 'coaches': 5297, 'anstead': 5298, 'him’': 5299, 'parts': 5300, 'feminine': 5301, 'thompson’s': 5302, 'embarrassing': 5303, 'how’s': 5304, 'known': 5305, 'statu': 5306, 'owens': 5307, 'teemit': 5308, 'postpregnancy': 5309, 'jumpsuit': 5310, 'bledel': 5311, 'short': 5312, 'seeks': 5313, 'fl': 5314, 'fly': 5315, 'attacked': 5316, 'compare': 5317, 'thoughts': 5318, 'violent': 5319, 'patch': 5320, 'fully': 5321, 'panish': 5322, 'dressing': 5323, 'cleavage': 5324, 'injections': 5325, 'ugg': 5326, 'happier': 5327, 'ocean’s': 5328, 'aka': 5329, 'photoshoot': 5330, 'daddario': 5331, '7th': 5332, 'bug': 5333, 'preparing': 5334, 'approach': 5335, 'draws': 5336, 'abcs': 5337, 'ego': 5338, 'behindthescenes': 5339, 'tragedi': 5340, 'backup': 5341, 'lebron': 5342, 'disturbing': 5343, 'accessori': 5344, 'terrifying': 5345, 'expose': 5346, 'balance': 5347, '’13': 5348, 'insists': 5349, 'difference': 5350, 'jeter': 5351, 'defended': 5352, 'liv': 5353, 'dempsey': 5354, 'jillian': 5355, 'onscreen': 5356, 'poken': 5357, 'nathan': 5358, 'bike': 5359, 'destiny’s': 5360, 'lance': 5361, 'ell': 5362, 'world’s': 5363, '44': 5364, 'moms’': 5365, '‘twin': 5366, 'table': 5367, 'monthly': 5368, 'wilde': 5369, 'crushes': 5370, 'reporter': 5371, 'grills': 5372, 'wait’': 5373, 'gallery': 5374, 'george’s': 5375, 'protective': 5376, '49': 5377, 'aside': 5378, 'affordable': 5379, 'eptember': 5380, 'signs': 5381, 'enjoying': 5382, '30th': 5383, 'krasinski': 5384, 'punch': 5385, 'shell': 5386, 'botch': 5387, 'jokingly': 5388, 'buble': 5389, 'tackle': 5390, 'tamra': 5391, 'unglasses': 5392, 'kimberly': 5393, 'kills': 5394, 'selfi': 5395, 'nominated': 5396, 'riskiest': 5397, 'pauly': 5398, 'haking': 5399, 'fallons': 5400, '“it’s': 5401, 'bowling': 5402, 'gotta': 5403, 'taub': 5404, 'howrunner': 5405, 'postop': 5406, 'tale’': 5407, 'bachelor’s': 5408, 'mass': 5409, 'wouldnt': 5410, 'lane': 5411, 'baskin': 5412, 'capshaw': 5413, 'burruss': 5414, 'nev': 5415, 'chulman': 5416, 'pros': 5417, 'mcdonalds': 5418, 'flawless': 5419, 'amc': 5420, '‘kevin': 5421, 'regina': 5422, 'dana': 5423, 'danes': 5424, 'girl’s': 5425, 'deontay': 5426, 'telli': 5427, 'lilly': 5428, 'coordinator': 5429, 'racy': 5430, 'dorsey': 5431, 'recreates': 5432, 'nack': 5433, 'japanese': 5434, 'frankie': 5435, 'whit': 5436, 'americans': 5437, 'skips': 5438, 'disappoint': 5439, 'mowry': 5440, 'amelia': 5441, 'maltby': 5442, 'agent': 5443, 'blossom': 5444, 'training': 5445, 'rhimes': 5446, 'joseph': 5447, 'pieces': 5448, 'pump': 5449, 'exist': 5450, 'amuel': 5451, 'copies': 5452, 'paper': 5453, 'hantel': 5454, 'giraffe': 5455, 'revived': 5456, 'bonet': 5457, 'brides': 5458, 'respons': 5459, 'empire': 5460, 'bynes': 5461, 'deserv': 5462, 'mag': 5463, 'walked': 5464, 'franchis': 5465, '‘botched’': 5466, 'raised': 5467, 'diari': 5468, 'renner': 5469, 'peck': 5470, 'paige': 5471, 'vagina': 5472, 'ydney': 5473, 'margaret': 5474, 'ripped': 5475, 'comparison': 5476, 'maddie': 5477, 'hiva': 5478, 'arch': 5479, 'thickes': 5480, 'tackles': 5481, 'within': 5482, 'autumn': 5483, 'approv': 5484, 'achieve': 5485, 'karina': 5486, 'f–king': 5487, 'singing': 5488, 'howman': 5489, 'lola': 5490, 'hardy': 5491, 'decis': 5492, 'raid': 5493, 'poss': 5494, 'haved': 5495, 'kroy': 5496, 'shot': 5497, 'reddit': 5498, 'seat': 5499, 'glambot': 5500, 'destinys': 5501, 'clap': 5502, 'vacations': 5503, 'arya': 5504, 'cannot': 5505, 'outdoor': 5506, 'renews': 5507, 'makeout': 5508, 'recruit': 5509, 'mickey': 5510, 'bialik': 5511, 'heiress': 5512, 'hutdown': 5513, 'ti': 5514, 'ledger': 5515, 'sist': 5516, 'loughlin': 5517, 'charms': 5518, 'service': 5519, 'firstever': 5520, '2yearold': 5521, 'cherry': 5522, 'bath': 5523, 'murray’s': 5524, 'slut': 5525, 'marissa’s': 5526, 'cheater': 5527, 'dolce': 5528, 'downton': 5529, 'lipinski': 5530, 'roselyn': 5531, 'garth': 5532, 'teigen’s': 5533, 'phillips': 5534, 'poof': 5535, 'laurel': 5536, 'bnn': 5537, 'showcases': 5538, 'harveys': 5539, 'marvel’s': 5540, 'animated': 5541, 'relat': 5542, 'included': 5543, 'holly': 5544, 'peaking': 5545, 'bipolar': 5546, 'performances': 5547, 'fiona': 5548, 'burgess': 5549, 'mouth': 5550, 'lima': 5551, 'create': 5552, 'romain': 5553, 'ubway': 5554, 'kayla': 5555, 'herbert': 5556, 'gained': 5557, 'polo': 5558, 'emotionally': 5559, 'caitlin': 5560, 'recreated': 5561, 'decades': 5562, 'bellas’': 5563, 'tuxedos': 5564, 'opulent': 5565, 'aladdin': 5566, 'cody': 5567, 'champ': 5568, 'goss': 5569, 'invictus': 5570, 'masters': 5571, 'motion': 5572, 'alycia': 5573, 'unveils': 5574, 'aguileras': 5575, 'fredrik': 5576, 'eklund': 5577, 'krupa': 5578, '‘true': 5579, 'tor': 5580, 'place’': 5581, 'imag': 5582, 'eye’': 5583, 'rupaul': 5584, 'bachelorette’': 5585, 'dorado': 5586, 'hemar': 5587, 'futuristic': 5588, 'afterparti': 5589, 'anders': 5590, 'downfall': 5591, 'achievement': 5592, 'womans': 5593, 'plummer': 5594, '11th': 5595, 'irl': 5596, 'medalist': 5597, 'assy': 5598, 'begin': 5599, 'jawdroppers': 5600, 'sued': 5601, 'viola': 5602, 'lesseps’': 5603, 'ozuna': 5604, 'nbcs': 5605, 'rousey': 5606, 'jewelri': 5607, 'bbc': 5608, 'development': 5609, 'ronaldo': 5610, 'biography': 5611, 'courtney': 5612, 'graces': 5613, 'quietly': 5614, 'impressions': 5615, 'chainsmokers': 5616, 'vacationing': 5617, 'wal': 5618, 'ronan': 5619, 'ck': 5620, 'ill': 5621, 'brielle': 5622, 'zodiac': 5623, 'mentions': 5624, 'cares': 5625, 'deserve': 5626, 'hadowhunters': 5627, 'darnell': 5628, 'cohosts': 5629, 'ubject': 5630, 'monster': 5631, 'hubby': 5632, 'wilsons': 5633, 'divas’': 5634, 'yeezy': 5635, 'mcgowan’s': 5636, 'jury': 5637, 'print': 5638, 'zendayas': 5639, 'hargitay': 5640, 'raped': 5641, 'des': 5642, 'trolled': 5643, 'musics': 5644, 'pixar': 5645, 'fab': 5646, 'carmen': 5647, 'choose': 5648, 'kym': 5649, 'lifechanging': 5650, 'heldon': 5651, 'watched': 5652, 'remains': 5653, 'neakers': 5654, 'mix': 5655, 'marchesa': 5656, 'rocking': 5657, 'eagal': 5658, 'lol': 5659, 'beast': 5660, 'tanding’': 5661, 'neidhart': 5662, 'karsgård': 5663, 'liza': 5664, 'tracy': 5665, 'carlos': 5666, 'christensen': 5667, 'wag’': 5668, 'dc': 5669, 'talker': 5670, 'ew': 5671, 'elimination': 5672, 'ells': 5673, 'hairstyle': 5674, 'gabriel': 5675, 'commun': 5676, 'univers': 5677, 'cultur': 5678, 'creates': 5679, 'fund': 5680, 'clarksons': 5681, 'mtvs': 5682, 'peach': 5683, 'aving': 5684, 'grandson': 5685, 'circle': 5686, 'entertain': 5687, 'tapleton': 5688, 'daisy': 5689, 'beats': 5690, 'jamielynn': 5691, 'bookout': 5692, 'portman': 5693, 'podcast': 5694, 'teaches': 5695, 'horrific': 5696, 'keri': 5697, 'expens': 5698, 'champagne': 5699, 'portwoods': 5700, 'combs': 5701, 'disappearance': 5702, '“it': 5703, 'dawson': 5704, 'mortimer': 5705, 'weat': 5706, 'encounter': 5707, 'blade': 5708, 'backstreet': 5709, 'ww': 5710, 'tolbert': 5711, 'height': 5712, '‘candal’': 5713, 'reaches': 5714, 'am': 5715, 'romeo': 5716, 'creative': 5717, 'trans': 5718, '‘hawaii': 5719, 'daphne': 5720, 'nyong’o': 5721, 'cornel': 5722, 'raven': 5723, 'travels': 5724, 'cuddle': 5725, 'ayesha': 5726, 'puppi': 5727, 'wim': 5728, 'janelle': 5729, 'race’': 5730, 'bright': 5731, 'parodi': 5732, 'festive': 5733, 'suit': 5734, 'parkers': 5735, 'happy’': 5736, 'bibb': 5737, 'davidsons': 5738, 'performers': 5739, 'concealer': 5740, 'kara': 5741, 'predictions': 5742, 'normal': 5743, 'gates': 5744, 'ace': 5745, 'bode': 5746, 'bread': 5747, 'mixup': 5748, 'blown': 5749, 'ptd': 5750, 'bailey': 5751, 'ingers': 5752, '300': 5753, '20year': 5754, 'bravorealhousew': 5755, 'wildest': 5756, 'drags': 5757, 'cornell': 5758, 'entenced': 5759, 'patty': 5760, 'wheeler': 5761, 'nails': 5762, 'derby': 5763, 'gus': 5764, 'kenworthy': 5765, 'ravenel': 5766, 'rancic': 5767, 'thicke': 5768, 'impossible': 5769, '88': 5770, 'grenfell': 5771, 'ni': 5772, 'kfc': 5773, 'likes': 5774, '‘amazing': 5775, 'crawfords': 5776, 'reassignment': 5777, 'royalty': 5778, 'alwyns': 5779, 'reeves': 5780, 'attract': 5781, 'bowles': 5782, 'tepping': 5783, 'picer': 5784, 'wozniacki': 5785, 'relieved': 5786, 'surgeon': 5787, 'mcgregor': 5788, 'plaza': 5789, 'tud': 5790, 'psych': 5791, 'lii': 5792, 'patriots': 5793, 'prevent': 5794, 'bono': 5795, 'u2': 5796, 'hefners': 5797, 'search': 5798, 'hudsons': 5799, 'daddi': 5800, 'oar': 5801, 'isaacs': 5802, 'theat': 5803, 'mishap': 5804, 'ny': 5805, 'parrow': 5806, 'canceling': 5807, 'appearances': 5808, 'kennard': 5809, 'concerned': 5810, 'overnight': 5811, 'oreilly': 5812, 'settlement': 5813, 'seeing': 5814, 'mood': 5815, 'wheelchair': 5816, 'chosen': 5817, 'hottie': 5818, 'actresses': 5819, 'experienced': 5820, 'older': 5821, 'fari': 5822, 'eastwood': 5823, '‘ready': 5824, 'strong': 5825, 'pfeiffer': 5826, 'taryn': 5827, 'divided': 5828, 'other’': 5829, 'mileston': 5830, 'negative': 5831, 'orders': 5832, 'retiring': 5833, 'stream': 5834, 'penthouse': 5835, 'kany': 5836, 'butterfly': 5837, 'transparent': 5838, 'denzel': 5839, 'refuge': 5840, 'veterans': 5841, 'pedophiles': 5842, 'tired': 5843, '‘doesn’t': 5844, 'owen': 5845, 'dad’s': 5846, 'erving': 5847, 'cruises': 5848, 'guessing': 5849, 'brody': 5850, 'reconciling': 5851, 'ceo': 5852, 'payne’s': 5853, 'theory’': 5854, 'botox': 5855, 'walker': 5856, 'nightmar': 5857, 'praying': 5858, 'apatow': 5859, 'refer': 5860, 'ruining': 5861, 'katrina': 5862, 'pierson': 5863, 'memory': 5864, 'winters': 5865, 'grabs': 5866, 'tayed': 5867, 'gentry': 5868, 'sought': 5869, 'pig': 5870, 'urface': 5871, 'cnn': 5872, 'f—': 5873, 'giant': 5874, 'entourage': 5875, 'mural': 5876, 'cressida': 5877, 'insight': 5878, 'manchest': 5879, 'ladi': 5880, 'khlo': 5881, 'postits': 5882, '‘betrayed’': 5883, 'passenger': 5884, 'atan': 5885, 'odonnells': 5886, 'absurd': 5887, 'illuminati': 5888, 'nasti': 5889, 'wissam': 5890, 'kylie’s': 5891, 'keys': 5892, 'replica': 5893, 'heel': 5894, 'teaching': 5895, 'shed': 5896, 'removes': 5897, 'bromance': 5898, 'kutchers': 5899, 'betrayed': 5900, 'hewitt': 5901, 'fm': 5902, 'primary': 5903, 'custodi': 5904, 'riley': 5905, 'earthquake': 5906, 'canada': 5907, 'midnight': 5908, 'jona': 5909, 'disorderly': 5910, 'conduct': 5911, 'heaton': 5912, 'article': 5913, 'day’': 5914, 'answered': 5915, 'initial': 5916, 'wings': 5917, 'wall': 5918, 'punched': 5919, 'sunglasses': 5920, 'diana’s': 5921, 'empty': 5922, 'haded': 5923, 'leader': 5924, 'reform': 5925, 'previously': 5926, 'retires': 5927, 'tragedy': 5928, 'watsons': 5929, 'visited': 5930, 'retreat': 5931, 'vicious': 5932, 'penc': 5933, 'limelight': 5934, 'antics': 5935, 'seasons': 5936, 'internets': 5937, 'twig': 5938, 'cambridg': 5939, 'bonkers': 5940, 'moder': 5941, 'earching': 5942, 'dawsons': 5943, 'creek': 5944, 'cake': 5945, 'olive': 5946, '79': 5947, 'relapse': 5948, 'jewish': 5949, 'bilson': 5950, 'thre': 5951, 'pax': 5952, 'le': 5953, 'booth': 5954, 'poiled': 5955, 'confer': 5956, 'recorded': 5957, 'pooky': 5958, 'distance': 5959, 'donovan': 5960, 'chwimmer': 5961, 'pablo': 5962, 'chuck': 5963, 'eem': 5964, 'trips': 5965, 'admitted': 5966, 'halftim': 5967, 'bald': 5968, 'determined': 5969, 'naughty': 5970, 'uck': 5971, 'ervice': 5972, 'einfeld': 5973, '‘secret': 5974, 'aretha': 5975, 'magazines': 5976, 'wasting': 5977, 'peas': 5978, 'france': 5979, 'pataky': 5980, 'dazzling': 5981, 'racing': 5982, 'timothee': 5983, 'commercial': 5984, 'cavaliers': 5985, 'chat': 5986, '‘fifty': 5987, 'ultimatum': 5988, 'willa': 5989, 'junior': 5990, 'kims': 5991, 'debate': 5992, 'commit': 5993, 'jlaw': 5994, '‘gossip': 5995, 'cop’': 5996, 'david’s': 5997, 'ees': 5998, 'trendy': 5999, 'gaining': 6000, 'appearing': 6001, 'pielberg': 6002, '‘way': 6003, 'joaquin': 6004, 'krein': 6005, 'peace': 6006, 'eager': 6007, 'olar': 6008, 'burning': 6009, 'tyson': 6010, '‘ex': 6011, 'jelena': 6012, 'dion’s': 6013, 'previous': 6014, 'charl': 6015, 'crib': 6016, 'credit': 6017, '2013': 6018, 'produc': 6019, 'carried': 6020, 'tewart’s': 6021, 'officiate': 6022, 'hayna': 6023, 'denied': 6024, 'wet': 6025, 'tearfully': 6026, 'forcing': 6027, 'roll': 6028, 'nicholas': 6029, 'neighbor': 6030, 'obviously': 6031, 'william’s': 6032, 'confession': 6033, 'forrest': 6034, 'debra': 6035, 'messing': 6036, 'weetly': 6037, 'urvived': 6038, '‘terrified’': 6039, 'highest': 6040, 'interesting': 6041, 'cure': 6042, 'retired': 6043, 'minajs': 6044, 'chief': 6045, 'buzzing': 6046, 'madden': 6047, '‘love': 6048, 'insecure': 6049, 'stag': 6050, 'bare': 6051, 'delivered': 6052, 'sweetheart': 6053, 'betray': 6054, 'upreme': 6055, 'lucki': 6056, '80': 6057, 'ground': 6058, 'puth': 6059, 'minnie': 6060, 'terrible': 6061, 'pit': 6062, 'joined': 6063, 'worse': 6064, 'howie': 6065, 'mens': 6066, 'lovedup': 6067, 'quote': 6068, 'handl': 6069, 'deb': 6070, 'leno': 6071, 'racially': 6072, 'gallagher': 6073, 'godfather': 6074, 'ignored': 6075, 'romcom': 6076, 'insider': 6077, 'definition': 6078, 'mercy': 6079, 'onagain': 6080, 'offagain': 6081, 'boost': 6082, '‘cares': 6083, 'deeply’': 6084, 'threat': 6085, 'nielsen': 6086, 'confus': 6087, 'purple': 6088, 'rip': 6089, 'editor': 6090, 'hannibal': 6091, 'deeply': 6092, 'igning': 6093, 'hell’': 6094, 'alien': 6095, 'grow': 6096, 'unborn': 6097, 'ucks': 6098, 'essions': 6099, 'path': 6100, 'attracted': 6101, 'amberg': 6102, 'repair': 6103, 'texting': 6104, 'blunder': 6105, 'blamed': 6106, 'houldnt': 6107, 'favor': 6108, 'kravitz': 6109, 'departur': 6110, 'damons': 6111, 'laying': 6112, 'poiling': 6113, 'doc': 6114, 'heist': 6115, 'realize': 6116, '3yearold': 6117, '21yearold': 6118, 'francisco': 6119, 'odds': 6120, 'pm': 6121, 'trashed': 6122, 'baby’s': 6123, 'jab': 6124, 'culture': 6125, 'remov': 6126, 'alt': 6127, 'truck': 6128, 'parad': 6129, 'merch': 6130, 'tages': 6131, 'lyric': 6132, 'midlife': 6133, 'chopras': 6134, 'uspended': 6135, 'dicaprios': 6136, 'conway': 6137, 'settle': 6138, 'hales': 6139, 'bikiniclad': 6140, 'piegel': 6141, 'supporting': 6142, 'nobody': 6143, 'exciting': 6144, 'pound': 6145, 'turks': 6146, 'i’ve': 6147, 'watt': 6148, 'large': 6149, '‘it’s': 6150, 'polit': 6151, 'rica': 6152, 'pattinsons': 6153, 'urfac': 6154, 'hudson’s': 6155, 'abusing': 6156, 'cyruss': 6157, 'garland': 6158, 'laichs': 6159, 'cart': 6160, 'jagger': 6161, 'bother': 6162, 'postplit': 6163, 'tefani’s': 6164, 'braun': 6165, 'lingeri': 6166, 'abasolo': 6167, 'mika': 6168, 'brzezinski': 6169, 'petti': 6170, 'chill': 6171, 'finish': 6172, 'withdraws': 6173, 'roque': 6174, 'kurt': 6175, 'hartley': 6176, 'downs': 6177, 'resigns': 6178, 'blankets': 6179, 'welcomed': 6180, 'bullocks': 6181, 'lincoln': 6182, 'flaunt': 6183, 'm': 6184, 'night’': 6185, 'pectacular': 6186, 'historic': 6187, 'eattle': 6188, 'rocked': 6189, 'sick': 6190, 'darker': 6191, 'doll': 6192, 'felony': 6193, 'fits': 6194, 'ignore': 6195, 'purs': 6196, 'germani': 6197, 'nbc’s': 6198, 'pres': 6199, 'way’': 6200, 'juan': 6201, 'friday': 6202, 'life”': 6203, 'waist': 6204, 'theatre': 6205, 'permission': 6206, 'brown’s': 6207, 'cellulite': 6208, 'motorcycle': 6209, '90210': 6210, 'bale': 6211, 'foy': 6212, 'gross': 6213, 'dame': 6214, 'judi': 6215, 'dench': 6216, 'undergoes': 6217, 'resurfaced': 6218, 'pregrammys': 6219, 'ted': 6220, 'independence': 6221, 'hager': 6222, 'flub': 6223, 'puma': 6224, 'collapses': 6225, 'mald': 6226, 'iowa': 6227, 'twic': 6228, 'enemies': 6229, 'oprahs': 6230, 'news’': 6231, 'taff': 6232, 'gma': 6233, 'heughan': 6234, 'covered': 6235, 'tygas': 6236, 'column': 6237, 'amfar': 6238, 'collin': 6239, 'tone’s': 6240, 'jets': 6241, 'idol’s': 6242, 'performing': 6243, 'peaks’': 6244, 'elisabeth': 6245, 'monologue': 6246, 'millers': 6247, 'duke': 6248, '95': 6249, 'mirrors': 6250, 'clos': 6251, 'dawn': 6252, 'ens': 6253, 'butler': 6254, 'tab': 6255, 'terri': 6256, 'method': 6257, 'conversation': 6258, 'auct': 6259, 'cozies': 6260, 'holding': 6261, 'pickup': 6262, 'donna': 6263, 'threaten': 6264, 'bellamy': 6265, 'wango': 6266, 'tango': 6267, 'haken': 6268, 'pirits': 6269, 'resume': 6270, 'med': 6271, 'lastminute': 6272, 'fi': 6273, 'pairs': 6274, 'leggings': 6275, 'rocco': 6276, 'ralph': 6277, 'christen': 6278, 'writer': 6279, 'alad': 6280, 'hine': 6281, 'tagecoach': 6282, 'wednesday': 6283, 'tacy': 6284, 'panics': 6285, 'brosnahan': 6286, '‘riverdale’': 6287, '250': 6288, 'cabo': 6289, 'cameran': 6290, 'eubanks': 6291, 'sentenced': 6292, 'midseason': 6293, 'boyega': 6294, 'maynard': 6295, 'dewantatum': 6296, 'thatll': 6297, 'saga': 6298, 'veteran': 6299, 'transphobic': 6300, 'jazz': 6301, '60': 6302, 'ofía': 6303, 'goodby': 6304, 'tevie': 6305, 'pussycat': 6306, 'dolls': 6307, 'oldman': 6308, 'waves': 6309, 'send': 6310, 'accusation': 6311, 'counti': 6312, 'py': 6313, 'doria': 6314, 'bosworth': 6315, 'theatr': 6316, 'erinn': 6317, 'levy': 6318, 'astrid': 6319, 'weirdly': 6320, 'balmain': 6321, 'pac': 6322, 'woon': 6323, 'abusive': 6324, 'harbour': 6325, 'worn': 6326, 'thanksgiv': 6327, 'alexi': 6328, 'exposes': 6329, 'aidy': 6330, 'ilva': 6331, 'marissa': 6332, 'a…': 6333, 'themed': 6334, 'keira': 6335, 'knightley': 6336, 'forest': 6337, 'haves': 6338, 'unleashes': 6339, 'chitown': 6340, 'rides': 6341, 'von': 6342, 'herrera': 6343, 'trauma': 6344, 'neverbeforeeen': 6345, 'nas': 6346, 'grop': 6347, 'jonbenet': 6348, 'roses': 6349, 'hunky': 6350, 'tissues': 6351, 'cinematic': 6352, 'ninenine': 6353, 'freeform': 6354, 'donal': 6355, 'dominique': 6356, 'absolute': 6357, 'platt': 6358, 'unconventional': 6359, 'amongst': 6360, 'brooksbank': 6361, 'books': 6362, 'porter': 6363, 'essentials': 6364, 'ridiculously': 6365, 'adrienne': 6366, 'portraits': 6367, 'rebeccas': 6368, 'orvino': 6369, 'factchecking': 6370, 'blacklist': 6371, 'arena': 6372, 'previews': 6373, 'molly': 6374, 'lookalik': 6375, 'veronica': 6376, 'shoes': 6377, 'ogs': 6378, 'dolores': 6379, 'cavallari’': 6380, 'completed': 6381, 'form': 6382, 'halfsister': 6383, 'reza': 6384, 'felon': 6385, 'governors': 6386, 'charvet': 6387, 'numbers': 6388, '“o': 6389, 'practically': 6390, 'weirdest': 6391, 'descendants': 6392, 'vibes': 6393, 'paradises': 6394, 'mirnoff': 6395, 'royce': 6396, 'miz': 6397, 'facebook': 6398, 'nerd': 6399, 'venom': 6400, '70th': 6401, 'dare': 6402, 'guillermo': 6403, 'winston': 6404, 'ones': 6405, 'yvonne': 6406, 'trahovski': 6407, 'roman': 6408, 'postheart': 6409, 'complaints': 6410, 'discovery': 6411, 'heated': 6412, '‘girls’': 6413, 'credits': 6414, 'bell’s': 6415, 'panther’': 6416, 'pieterse': 6417, 'abigail': 6418, 'grimes': 6419, 'gunn': 6420, 'devin': 6421, 'talkedabout': 6422, 'og’': 6423, 'annie': 6424, 'lorenzo': 6425, 'goldman': 6426, 'wicked': 6427, 'comfortable': 6428, 'grande’s': 6429, 'competition': 6430, 'leatham': 6431, 'university': 6432, 'club’': 6433, 'titch': 6434, 'maisel’': 6435, 'reprise': 6436, 'wolfhard': 6437, 'organization': 6438, 'eaborn': 6439, 'kaya': 6440, 'equined': 6441, 'hamil': 6442, 'antebellums': 6443, 'erve': 6444, 'revisiting': 6445, 'personality': 6446, 'ally': 6447, 'naacp': 6448, 'ongoing': 6449, 'brenda': 6450, 'dedicated': 6451, 'hussey': 6452, 'digviralcom': 6453, 'oleil': 6454, 'bomber': 6455, 'anchez': 6456, 'pixie': 6457, 'jennie': 6458, 'poiler': 6459, 'landed': 6460, 'vogu': 6461, 'ads': 6462, 'instagrams': 6463, 'sexu': 6464, 'con': 6465, 'surprisingly': 6466, 'mouse': 6467, 'hamptons': 6468, 'polanski': 6469, 'arie’s': 6470, 'exercise': 6471, 'regime': 6472, 'hippo': 6473, 'bidi': 6474, 'bom': 6475, 'tituss': 6476, '37th': 6477, 'we’ve': 6478, 'padma': 6479, 'lakshmi': 6480, 'revivals': 6481, 'ting': 6482, 'tag': 6483, 'defense': 6484, 'ledg': 6485, 'koma': 6486, 'vot': 6487, 'oil': 6488, '59': 6489, 'carolina': 6490, 'add': 6491, 'foxs': 6492, 'houska': 6493, 'rugby': 6494, 'originals’': 6495, 'ale': 6496, 'tuart': 6497, 'weitzman': 6498, 'medals': 6499, 'sheds': 6500, 'prosecutor': 6501, '‘most': 6502, 'privacy': 6503, 'ights': 6504, 'riveras': 6505, 'ansa': 6506, 'calf': 6507, 'chil': 6508, 'molli': 6509, 'dushku': 6510, 'kotbs': 6511, 'epys': 6512, 'stylish': 6513, 'bow': 6514, 'immigrant': 6515, 'texa': 6516, 'poppins': 6517, 'amira': 6518, 'wiley': 6519, 'hills’': 6520, 'targaryen': 6521, 'jourdan': 6522, 'idina': 6523, 'menzel': 6524, 'rubs': 6525, 'ock': 6526, 'had': 6527, 'ominous': 6528, 'rivers': 6529, 'television': 6530, 'facials': 6531, 'housewife': 6532, 'blazer': 6533, 'pric': 6534, '‘unbreakable': 6535, 'venic': 6536, 'isaiah': 6537, 'apolog': 6538, 'cameos': 6539, 'remind': 6540, 'murder’': 6541, 'karla': 6542, 'failure': 6543, 'recast': 6544, 'arrangements': 6545, 'gilbert': 6546, 'haley': 6547, 'discussion': 6548, 'seeking': 6549, 'skating': 6550, 'tripper': 6551, 'dions': 6552, 'beth': 6553, 'bombing': 6554, 'wrinkles': 6555, 'lakers': 6556, 'botcheds': 6557, 'balancing': 6558, 'ambassador': 6559, 'wrestlemania': 6560, 'morley': 6561, 'reads': 6562, 'sure': 6563, 'unlock': 6564, 'greta': 6565, 'gerwig': 6566, 'crossed': 6567, 'taubs': 6568, 'ab': 6569, 'kat': 6570, '2’s': 6571, 'co': 6572, 'unicornthemed': 6573, 'castle': 6574, 'iblings': 6575, 'acn': 6576, 'donatella': 6577, 'everyday': 6578, 'redmayne': 6579, 'deena': 6580, 'hahidis': 6581, 'zoo': 6582, 'ideal': 6583, 'audi': 6584, 'pnk': 6585, 'jace': 6586, 'presidents': 6587, 'wraps': 6588, 'showed': 6589, 'greek': 6590, 'wimwear': 6591, '“i’m': 6592, 'venice': 6593, 'damn': 6594, 'hader': 6595, 'rendition': 6596, 'zsa': 6597, 'rod': 6598, 'awarded': 6599, 'thousands': 6600, 'eugenio': 6601, 'derbez': 6602, 'bangs': 6603, 'laurie': 6604, 'metcalf': 6605, 'parkland': 6606, 'fyre': 6607, 'expected': 6608, 'chapmans': 6609, 'madeleine': 6610, '2011': 6611, 'aj': 6612, 'thoughtful': 6613, 'disaster': 6614, 'willows': 6615, 'mysterious': 6616, 'filmmaker': 6617, 'herjavec': 6618, 'evolut': 6619, 'scare': 6620, 'canadian': 6621, 'fatherdaughter': 6622, 'gradu': 6623, 'rhim': 6624, 'accessories': 6625, 'central': 6626, 'gel': 6627, '‘444’': 6628, 'juli': 6629, 'tre': 6630, 'neon': 6631, 'grim': 6632, 'cord': 6633, 'kemper': 6634, 'malls': 6635, 'bun': 6636, 'bestie': 6637, 'photograph': 6638, 'weil': 6639, 'web': 6640, 'obrien': 6641, 'mexican': 6642, 'biels': 6643, 'funni': 6644, 'oklahoma': 6645, 'ireland': 6646, '57': 6647, 'apply': 6648, 'theresa': 6649, 'caputo': 6650, 'whove': 6651, 'embraced': 6652, '⋆': 6653, 'designs': 6654, 'horts': 6655, 'apocalypse': 6656, 'ramsey': 6657, 'uh': 6658, 'neverending': 6659, '‘third': 6660, 'charm’': 6661, 'fails': 6662, 'drinks': 6663, 'stopped': 6664, 'do’': 6665, 'worldwide': 6666, 'backtracks': 6667, 'closes': 6668, 'doute': 6669, 'horoscopes': 6670, 'nooki': 6671, 'octavia': 6672, 'menu': 6673, 'footag': 6674, 'connect': 6675, 'leeanne': 6676, 'ridley': 6677, 'morrisons': 6678, 'impl': 6679, 'influential': 6680, 'likely': 6681, 'igler': 6682, '‘vanderpump': 6683, 'creening': 6684, 'argument': 6685, 'ginnifer': 6686, 'emilie': 6687, 'parole': 6688, 'efrons': 6689, 'dietland': 6690, 'subject': 6691, 'gunner': 6692, 'hw': 6693, 'kordei': 6694, 'carmella': 6695, 'khaleds': 6696, 'rabbit': 6697, 'walmart': 6698, '300th': 6699, 'jinger': 6700, 'roper': 6701, 'paisley': 6702, 'hondaland': 6703, 'market': 6704, '55': 6705, '‘avengers': 6706, 'dyed': 6707, 'roasts': 6708, 'leblanc': 6709, 'unscreen': 6710, 'block': 6711, 'farley': 6712, 'achieving': 6713, 'featured': 6714, 'migos': 6715, 'tambor': 6716, 'bottles': 6717, 'whoopi': 6718, 'goldberg': 6719, 'memori': 6720, 'mason': 6721, 'glitter': 6722, 'five0’': 6723, 'etting': 6724, 'amaz': 6725, 'mtv’s': 6726, 'arielle': 6727, 'black’': 6728, 'jephte': 6729, 'hawniece': 6730, 'madelaine': 6731, 'rosé': 6732, 'rupaul’s': 6733, 'poland': 6734, 'frank': 6735, 'alessia': 6736, 'burns': 6737, 'essential': 6738, 'favorites': 6739, 'atlanta’s': 6740, 'entry': 6741, 'verdict': 6742, 'floor': 6743, 'mcdormand': 6744, 'redcarpet': 6745, 'primetime': 6746, 'mi': 6747, 'bella’s': 6748, 'counting': 6749, 'wav': 6750, 'cow': 6751, 'custom': 6752, 'nylon': 6753, 'embracing': 6754, 'headlines': 6755, 'ho': 6756, '1year': 6757, 'collabor': 6758, 'jasmine': 6759, 'ja': 6760, 'program': 6761, 'valley': 6762, 'roma': 6763, 'nance': 6764, 'ravens': 6765, 'tj': 6766, 'shopping': 6767, 'weater': 6768, 'possess': 6769, 'bday': 6770, 'anaa': 6771, 'lathan': 6772, 'bughead': 6773, 'prize': 6774, 'neck': 6775, 'jrs': 6776, 'goldblum': 6777, 'andals': 6778, 'bail': 6779, 'pearson': 6780, 'tania': 6781, 'liten': 6782, 'mchugh': 6783, 'shark': 6784, 'knox': 6785, 'groped': 6786, 'wedish': 6787, 'juicy': 6788, 'rant': 6789, 'burger': 6790, 'natalya': 6791, 'cringe': 6792, 'homage': 6793, 'ales': 6794, 'families': 6795, 'pilling': 6796, '26th': 6797, 'wisdom': 6798, 'grandmoth': 6799, 'hubbard': 6800, 'uperfan': 6801, 'loyal': 6802, 'aziz': 6803, 'ansari': 6804, 'everybody': 6805, 'brendan': 6806, 'predict': 6807, 'reference': 6808, 'fetch': 6809, 'housewives’': 6810, 'origin': 6811, 'boston': 6812, 'hahs': 6813, 'unset': 6814, 'vancamp': 6815, 'award”': 6816, 'st': 6817, '‘law': 6818, 'mccreery': 6819, 'fanny': 6820, 'dol': 6821, 'bubble': 6822, 'locks': 6823, 'dubai': 6824, 'raw': 6825, 'finalist': 6826, 'parkling': 6827, 'myers': 6828, 'reba': 6829, 'mcentire': 6830, 'magroortiz': 6831, 'kufrins': 6832, 'haunt': 6833, 'globetrotting': 6834, 'lewinsky': 6835, '‘wag': 6836, 'longterm': 6837, 'hated': 6838, 'iphone': 6839, 'teas': 6840, 'undeniable': 6841, 'who’ve': 6842, 'kimmel’s': 6843, 'mascara': 6844, 'curls': 6845, 'gurlcom': 6846, 'necklace': 6847, 'cenas': 6848, '2022': 6849, 'flips': 6850, 'arminarm': 6851, 'pades': 6852, 'wwes': 6853, 'milliondollar': 6854, 'charlottes': 6855, 'nico': 6856, 'greene': 6857, 'bam': 6858, 'margera': 6859, '22nd': 6860, 'mirai': 6861, 'pools': 6862, '100s': 6863, 'bus': 6864, 'ac': 6865, 'hutchin': 6866, 'accent': 6867, 'redhead': 6868, '‘mother’': 6869, 'altered': 6870, 'immigration': 6871, 'lapd': 6872, '‘absolutely': 6873, 'patrol': 6874, 'uing': 6875, 'procedures': 6876, 'rossdale': 6877, 'julian': 6878, 'emerge': 6879, 'hysterical': 6880, 'alisters': 6881, 'nic': 6882, 'committed': 6883, 'jrod': 6884, 'redempt': 6885, 'lifetimes': 6886, 'woo': 6887, 'palsy': 6888, 'teri': 6889, 'hatcher': 6890, 'noth': 6891, 'smil': 6892, 'affectionate': 6893, 'relaxed': 6894, 'asahd': 6895, 'malawi': 6896, 'smitten': 6897, 'proven': 6898, 'wang': 6899, 'let’s': 6900, 'they’ll': 6901, 'critic': 6902, 'rally': 6903, '‘ecret': 6904, 'lovato’s': 6905, 'renewing': 6906, 'oneyear': 6907, 'tepdad': 6908, 'zooey': 6909, 'fronts': 6910, 'elena’s': 6911, 'disguise': 6912, 'inks': 6913, 'coaching': 6914, 'beyoncé': 6915, 'evere': 6916, 'retro': 6917, 'actor’s': 6918, 'ridicul': 6919, 'lept': 6920, 'diseas': 6921, 'oconnell': 6922, 'pesky': 6923, '‘me': 6924, 'wheel': 6925, 'exercis': 6926, 'n': 6927, 'russia': 6928, 'casper': 6929, 'pace—but': 6930, 'game’': 6931, 'hamlin': 6932, 'example': 6933, 'wo': 6934, 'embarrasses': 6935, 'bucks': 6936, 'comey': 6937, 'eason’s': 6938, 'duo': 6939, '‘radar': 6940, 'online’': 6941, 'wouldn’t': 6942, 'petra': 6943, 'butter': 6944, 'uccession': 6945, 'yikes': 6946, 'tormed': 6947, 'recovery': 6948, 'supports': 6949, 'plead': 6950, 'troops': 6951, 'hunning': 6952, 'ite': 6953, 'hangover': 6954, 'atanic': 6955, 'ritual': 6956, 'morphing': 6957, 'invit': 6958, 'ripas': 6959, 'acms': 6960, 'annoyed': 6961, 'ushi': 6962, 'tying': 6963, '41st': 6964, 'versus': 6965, 'facelift': 6966, 'elaborate': 6967, 'pap': 6968, 'denise': 6969, 'mcgowans': 6970, '‘don’t': 6971, 'cout': 6972, 'disrespect': 6973, 'caramucci': 6974, 'mingle': 6975, 'tunes': 6976, 'tatu': 6977, 'detective': 6978, 'up”': 6979, 'chao': 6980, 'efforts': 6981, 'bomer': 6982, 'montgomery': 6983, 'swear': 6984, 'fought': 6985, 'notic': 6986, 'tatham': 6987, 'midler': 6988, 'pierce': 6989, 'bless': 6990, 'mistress': 6991, 'bonas': 6992, 'jo': 6993, 'plan’': 6994, 'resurrecting': 6995, '‘amazing’': 6996, 'attempts': 6997, 'damage': 6998, 'politicians': 6999, 'float': 7000, 'forgive': 7001, 'pas': 7002, 'outrag': 7003, 'kylies': 7004, 'upposed': 7005, 'elop': 7006, 'trusting': 7007, 'baby’': 7008, 'restaurants': 7009, 'affleck’s': 7010, 'triangle': 7011, 'behaviour': 7012, 'bullock’s': 7013, 'malicious': 7014, 'heart’': 7015, 'bogus': 7016, 'desperately': 7017, 'mind’': 7018, 'wors': 7019, 'flag': 7020, 'possibility': 7021, 'knee': 7022, 'launched': 7023, '‘jealous': 7024, 'trained': 7025, 'baldwin’s': 7026, 'forgives': 7027, 'quality': 7028, 'begged': 7029, 'epitome': 7030, 'pastor': 7031, 'ibiza': 7032, 'weekly’': 7033, 'born’': 7034, 'cinemacon': 7035, 'liar’': 7036, 'til': 7037, 'insecur': 7038, 'brace': 7039, '‘everything': 7040, 'juice': 7041, 'parol': 7042, 'doubt': 7043, 'colbert’s': 7044, 'kimye': 7045, 'pratt’s': 7046, '‘more': 7047, 'unusual': 7048, 'nye': 7049, 'reconnecting': 7050, 'cott’s': 7051, 'friend’': 7052, 'amuels': 7053, 'decorating': 7054, 'trategi': 7055, 'interested': 7056, 'code': 7057, 'cousins': 7058, 'khloe’s': 7059, 'offender': 7060, 'kohanski': 7061, 'doubles': 7062, 'vib': 7063, 'klums': 7064, 'spotlight': 7065, 'rooms': 7066, 'handler': 7067, 'lot’': 7068, 'shop': 7069, 'gon': 7070, 'firstpost': 7071, '41': 7072, 'uggests': 7073, 'counseling': 7074, 'rande': 7075, 'heroes': 7076, 'carf': 7077, 'jealous’': 7078, '‘revenge': 7079, 'farrells': 7080, 'cosmetic': 7081, 'snubbed': 7082, 'forbid': 7083, 'notes': 7084, 'ferrari': 7085, 'drive': 7086, 'replac': 7087, 'dupri': 7088, 'lowly': 7089, 'develop': 7090, 'qb': 7091, 'ruling': 7092, '‘alone': 7093, '200000': 7094, 'rebounds': 7095, 'lists': 7096, 'prepping': 7097, 'insid': 7098, 'sham': 7099, 'fever': 7100, 'carl': 7101, 'marion': 7102, 'cotillard': 7103, 'rafael': 7104, 'enate': 7105, 'willis': 7106, '‘disgusting’': 7107, 'circl': 7108, 'alyson': 7109, 'encyclopedia': 7110, 'embarrassed': 7111, 'henrie': 7112, 'tretch': 7113, 'nastier': 7114, 'arnett': 7115, 'headline': 7116, '‘mamma': 7117, 'ol': 7118, 'refused': 7119, 'destroyed': 7120, 'october': 7121, 'candalous': 7122, 'pact': 7123, 'uitors': 7124, 'moder’s': 7125, 'kip': 7126, 'dye': 7127, 'overhaul': 7128, 'teased': 7129, 'kisser': 7130, 'clause': 7131, 'rodg': 7132, 'odom’s': 7133, 'damon’s': 7134, '240': 7135, 'mcgraws': 7136, '‘beautiful’': 7137, '‘quietly': 7138, 'dating’': 7139, 'meeting’': 7140, 'ethan': 7141, 'clive': 7142, '19year': 7143, 'faq': 7144, 'bryce': 7145, 'pulling': 7146, 'widely': 7147, 'mocked': 7148, 'inform': 7149, 'walter': 7150, '67': 7151, 'quare': 7152, 'privaci': 7153, 'russian': 7154, 'matchmaker': 7155, 'minds': 7156, 'mail': 7157, 'februari': 7158, 'selena': 7159, 'burglar': 7160, 'emerg': 7161, 'sales': 7162, '2015': 7163, '‘o': 7164, 'florence': 7165, 'pulse': 7166, 'radar': 7167, 'student': 7168, 'powel': 7169, 'diaper': 7170, 'ramsay': 7171, 'healthcare': 7172, 'fools': 7173, 'congressional': 7174, 'ivi': 7175, 'minders': 7176, 'ban’': 7177, 'fertility': 7178, 'essay': 7179, 'rain': 7180, 'insensitive': 7181, 'sport': 7182, 'altar': 7183, 'rushes': 7184, 'stardom': 7185, 'seems': 7186, 'carys': 7187, 'dance’': 7188, 'hemsworth’s': 7189, 'cosy': 7190, 'paulina': 7191, 'home’': 7192, '‘awkward’': 7193, 'eclipse': 7194, 'reignites': 7195, 'batgirl': 7196, 'opts': 7197, 'la’s': 7198, 'boasts': 7199, 'scam': 7200, 'pilates': 7201, 'simple': 7202, 'call’': 7203, 'blooms': 7204, 'cnns': 7205, 'confusing': 7206, 'situation': 7207, 'kate’s': 7208, 'gwen’s': 7209, 'joking': 7210, 'peac': 7211, 'traditions': 7212, 'blak': 7213, 'michel': 7214, 'uspicious': 7215, 'atlantic': 7216, 'mega': 7217, 'caleb': 7218, 'minor': 7219, 'knife': 7220, 'earch': 7221, 'complaint': 7222, 'radaronline': 7223, 'enduring': 7224, 'bashing': 7225, 'someone': 7226, 'refuse': 7227, 'prague': 7228, 'reshoot': 7229, 'lau': 7230, 'assets': 7231, 'betrayal': 7232, 'explicit': 7233, 'click': 7234, 'quaid': 7235, 'caitlyn’s': 7236, 'designing': 7237, '“love': 7238, 'execs': 7239, 'aints': 7240, 'atlanna': 7241, 'brunch': 7242, 'lupone': 7243, 'ye': 7244, 'complications': 7245, '‘life': 7246, 'kylie’': 7247, 'hugs': 7248, 'ditching': 7249, 'pdafilled': 7250, 'attendees': 7251, 'lautner': 7252, 'invitation': 7253, 'recover': 7254, 'mcenroe': 7255, 'rib': 7256, 'african': 7257, 'ipad': 7258, 'tones': 7259, 'bondage': 7260, 'hel': 7261, '‘twilight’': 7262, 'requests': 7263, 'feuded': 7264, 'disput': 7265, 'izzle': 7266, 'bodyhaming': 7267, 'hooking': 7268, 'destined': 7269, '‘justice': 7270, 'league’': 7271, 'bollywood': 7272, 'cocktail': 7273, '‘lost': 7274, 'witnessed': 7275, 'pattinson’s': 7276, '‘locked': 7277, 'transylvania': 7278, 'aging': 7279, 'starting': 7280, 'triple': 7281, 'poke': 7282, 'advisor': 7283, 'slavery': 7284, 'spot': 7285, 'snaps': 7286, 'outlet': 7287, 'potter’': 7288, 'danceoff': 7289, 'backs': 7290, 'balloon': 7291, 'displays': 7292, 'tobey': 7293, 'mar': 7294, 'buress': 7295, 'ampaio': 7296, '2014': 7297, 'manhattan': 7298, 'pree': 7299, 'hots': 7300, 'imagin': 7301, 'booz': 7302, 'exmanager': 7303, 'waterhouse': 7304, 'collaps': 7305, 'employees': 7306, 'mocking': 7307, 'talent’': 7308, 'nolan': 7309, 'child’s': 7310, 'popstar': 7311, 'tunned': 7312, 'biel’s': 7313, 'gunning': 7314, 'skip': 7315, 'trivia': 7316, 'instantly': 7317, '52': 7318, 'ryan’s': 7319, '“less': 7320, 'pleased”': 7321, 'kitrip': 7322, 'stolen': 7323, 'jewellery': 7324, 'zoë': 7325, 'inauguration': 7326, '‘tronger': 7327, 'influence': 7328, 'bentley': 7329, 'unity': 7330, 'undergo': 7331, '‘heartbroken’': 7332, '‘loves’': 7333, 'wondering': 7334, 'unnecessary': 7335, 'texts': 7336, '3’': 7337, 'pun': 7338, 'shower': 7339, 'bags': 7340, 'auditions': 7341, 'donor': 7342, 'down”': 7343, 'therapi': 7344, 'y': 7345, 'untold': 7346, '‘pretty': 7347, 'superstar': 7348, 'ripa’s': 7349, 'lights': 7350, 'tink': 7351, 'problems': 7352, 'education': 7353, 'liz': 7354, 'goslings': 7355, 'wimming': 7356, 'fool': 7357, 'holy': 7358, 'mokes': 7359, 'jewels': 7360, 'mountain': 7361, 'btch’': 7362, 'menounos': 7363, '‘work': 7364, 'dumping': 7365, '‘mallville’': 7366, '48': 7367, 'spin': 7368, 'singers': 7369, 'bucket': 7370, 'guru': 7371, 'wolves': 7372, 'straight': 7373, 'youthful': 7374, 'venue': 7375, 'towards': 7376, 'ivana': 7377, 'duggars': 7378, 'pregnancies': 7379, 'solid': 7380, 'trade': 7381, 'bummed': 7382, 'eparated': 7383, 'kellyanne': 7384, 'europe': 7385, 'weightloss': 7386, 'lax': 7387, 'lynne': 7388, 'burglarized': 7389, '15000': 7390, 'islam': 7391, 'pleasure': 7392, 'clash': 7393, 'nelsan': 7394, 'frequently': 7395, 'treep’s': 7396, 'offering': 7397, 'degeneres’': 7398, 'ignor': 7399, 'tormy': 7400, 'dater': 7401, 'mvp': 7402, 'grief': 7403, 'centre': 7404, 'pag': 7405, 'recall': 7406, 'marijuana': 7407, 'leap': 7408, 'dust': 7409, 'lock': 7410, 'attent': 7411, 'hates': 7412, '“one': 7413, 'wellbeing': 7414, 'end’': 7415, 'blowup': 7416, 'madly': 7417, '‘gave': 7418, 'yesterday’': 7419, 'targeted': 7420, 'sail': 7421, 'followers': 7422, 'carries': 7423, 'apollo': 7424, 'pressuring': 7425, 'prop': 7426, 'chronic': 7427, 'princesses': 7428, 'removal': 7429, 'tar’s': 7430, 'presenting': 7431, 'explode': 7432, 'hugely': 7433, 'ci': 7434, 'crap': 7435, 'afety': 7436, 'macpherson': 7437, 'throat': 7438, 'rickles': 7439, '2012': 7440, 'recognize': 7441, 'tates': 7442, 'biological': 7443, 'butl': 7444, 'anyway': 7445, 'terrell': 7446, 'gaga’s': 7447, 'lends': 7448, '20000': 7449, 'hides': 7450, 'raider': 7451, 'steamy': 7452, 'responses': 7453, 'denying': 7454, 'neighbors': 7455, 'anim': 7456, 'trict': 7457, 'taunting': 7458, '5year': 7459, 'preoscars': 7460, 'acrific': 7461, '‘house': 7462, 'cards’': 7463, 'miller’s': 7464, 'cookies': 7465, 'enlisted': 7466, 'belt': 7467, 'pranked': 7468, 'refugee': 7469, 'hunger': 7470, 'booze': 7471, 'dud': 7472, 'nud': 7473, 'blakes': 7474, 'surrogacy': 7475, 'tinashe': 7476, 'erupts': 7477, 'crutiny': 7478, 'debunks': 7479, 'ervices': 7480, 'score': 7481, 'identical': 7482, 'movein': 7483, 'heche': 7484, 'burden': 7485, 'endless': 7486, 'kelley': 7487, 'chelsy': 7488, 'pony': 7489, 'catsuit': 7490, 'touched': 7491, 'max': 7492, 'uncle': 7493, 'mehgan': 7494, 'tbt': 7495, 'bridezilla': 7496, 'accepted': 7497, 'happiest': 7498, 'dissed': 7499, 'woods’': 7500, 'tuxedo': 7501, 'milk': 7502, 'promising': 7503, 'perez': 7504, 'reporting': 7505, 'momtobe': 7506, 'prayers': 7507, 'eeks': 7508, 'convert': 7509, 'highway': 7510, 'prewedding': 7511, 'certain': 7512, 'norton': 7513, 'demon': 7514, 'agre': 7515, 'mobb': 7516, 'rappers': 7517, 'royal’s': 7518, 'around’': 7519, 'websit': 7520, 'abdul': 7521, 'serious': 7522, 'dragging': 7523, 'serial': 7524, 'tewarts': 7525, 'bischoff': 7526, 'kirk': 7527, 'bomb': 7528, 'industri': 7529, 'differ': 7530, 'biceps': 7531, 'theyll': 7532, 'cable': 7533, 'trength': 7534, 'kickoff': 7535, 'troian': 7536, 'bellisario': 7537, 'franken': 7538, 'pataki': 7539, '30k': 7540, 'denial': 7541, 'durham': 7542, 'convinc': 7543, 'eems': 7544, 'loui': 7545, 'tellal': 7546, 'trolling': 7547, 'flo': 7548, 'blocking': 7549, 'kunis’': 7550, 'mann': 7551, 'biden': 7552, 'girly': 7553, 'miser': 7554, 'belongs': 7555, 'error': 7556, 'terrorist': 7557, '60k': 7558, 'udeikis': 7559, 'familiar': 7560, 'factor': 7561, 'adaptation': 7562, 'colosseum': 7563, '20yearold': 7564, 'flinch': 7565, 'fairytale': 7566, 'okay': 7567, 'crop': 7568, 'period': 7569, 'curs': 7570, 'faris’': 7571, 'pole': 7572, 'lifelong': 7573, 'flood': 7574, 'children’s': 7575, 'lacheys': 7576, 'consciously': 7577, 'trafficking': 7578, 'plants': 7579, 'hamed': 7580, 'ov': 7581, 'ca': 7582, 'kfmb': 7583, 'drivers': 7584, 'available': 7585, 'noop': 7586, 'dogg': 7587, 'toni': 7588, 'devil': 7589, 'prada': 7590, 'photoshopping': 7591, 'goldbergs': 7592, 'lohans': 7593, 'mitchel': 7594, 'munn’s': 7595, 'curly': 7596, 'benningtons': 7597, 'wap': 7598, 'langford': 7599, '98': 7600, 'cavallaris': 7601, 'uc': 7602, 'mirren': 7603, 'desert': 7604, 'sharing': 7605, 'grandfather': 7606, 'relays': 7607, 'letitia': 7608, 'mollen': 7609, 'beforeandafter': 7610, 'tavis': 7611, 'pb': 7612, 'troubling': 7613, 'lib': 7614, 'metzs': 7615, 'alley': 7616, 'exhibit': 7617, 'cropped': 7618, 'donuts': 7619, 'nippl': 7620, 'impromptu': 7621, 'howtime': 7622, 'spiritual': 7623, 'cutout': 7624, 'contouring': 7625, 'bearing': 7626, 'oulcycle': 7627, 'kellan': 7628, 'lutz': 7629, 'catfish': 7630, 'larson': 7631, 'fry': 7632, 'bartons': 7633, 'strips': 7634, 'daryl': 7635, 'taps': 7636, 'ession': 7637, 'gerb': 7638, 'sitcom': 7639, 'mulan': 7640, 'kermit': 7641, 'frog': 7642, 'ascot': 7643, 'jk': 7644, 'rowling': 7645, 'scary': 7646, '‘homeland’': 7647, 'eggert': 7648, 'prosecuted': 7649, 'man”': 7650, 'reverse': 7651, 'inger’s': 7652, 'sweats': 7653, 'advent': 7654, 'demo': 7655, 'moana': 7656, 'counselling': 7657, 'instru': 7658, 'neyo': 7659, 'broad': 7660, 'thing’': 7661, 'wimsuits': 7662, 'mey': 7663, 'auditioned': 7664, 'gray': 7665, 'anorexia': 7666, 'lemonade': 7667, 'coolest': 7668, 'unveil': 7669, 'evolved': 7670, 'basics': 7671, 'bathe': 7672, 'discovered': 7673, 'beatty': 7674, 'faye': 7675, 'dunaway': 7676, 'bridget': 7677, 'dumbledore': 7678, 'culpa': 7679, 'approves': 7680, 'threes': 7681, 'tearjerking': 7682, 'observ': 7683, 'jovi': 7684, 'frankels': 7685, 'ettlement': 7686, 'income': 7687, 'translated': 7688, 'lur': 7689, 'thursday': 7690, 'gratitude': 7691, '5s': 7692, 'waverly': 7693, 'converse': 7694, 'burst': 7695, 'main': 7696, 'goal': 7697, 'usan': 7698, 'rosario': 7699, 'mira': 7700, 'ankle': 7701, 'malfunction': 7702, 'goahead': 7703, 'painful': 7704, 'bean': 7705, 'cobain': 7706, 'egg': 7707, 'listing': 7708, '175': 7709, 'heights': 7710, 'competit': 7711, 'felicity': 7712, 'seek': 7713, 'korean': 7714, 'wrestler': 7715, 'hutchinson': 7716, 'scores': 7717, '36th': 7718, 'motherdaughter': 7719, 'oras': 7720, 'farahan': 7721, 'fragr': 7722, 'kanyes': 7723, 'geary': 7724, '‘descendants': 7725, 'vintage': 7726, 'carissa': 7727, 'culiner': 7728, 'you’': 7729, 'christie': 7730, 'cheban': 7731, 'legally': 7732, 'og’s': 7733, 'vaginal': 7734, 'eye’s': 7735, 'fe': 7736, 'tamp': 7737, '‘tonight': 7738, 'the100': 7739, 'couture': 7740, 'reinharts': 7741, '2008': 7742, 'castillo': 7743, 'alejandro': 7744, 'turkey': 7745, 'maple': 7746, 'monsters': 7747, 'coats': 7748, 'washingtons': 7749, 'ylvester': 7750, 'behalf': 7751, 'phillip': 7752, 'delayed': 7753, 'strategi': 7754, 'croft': 7755, 'toro': 7756, 'hout': 7757, 'parodies': 7758, 'cancertricken': 7759, 'revisits': 7760, 'filmed': 7761, 'confidence': 7762, 'ratajkowskis': 7763, 'luxurious': 7764, 'mimic': 7765, 'boom': 7766, 'challeng': 7767, 'tandard': 7768, 'founder': 7769, 'besties': 7770, 'dominates': 7771, 'lettermans': 7772, 'he’d': 7773, 'tint': 7774, 'antin': 7775, 'zahara': 7776, '‘citizen': 7777, 'rose’': 7778, 'site': 7779, 'hawna': 7780, 'lamas': 7781, 'maher': 7782, 'nword': 7783, 'surprising': 7784, 'executive': 7785, 'fragrance': 7786, 'bries': 7787, 'subway': 7788, '‘e': 7789, 'weath': 7790, 'ronaldos': 7791, 'afai': 7792, 'hep': 7793, 'worstdressed': 7794, 'ometh': 7795, 'boring': 7796, 'gonzález': 7797, 'ate': 7798, '75': 7799, 'laverne': 7800, 'eymour': 7801, 'codelario': 7802, '53': 7803, 'jones’': 7804, 'rental': 7805, 'abbeys': 7806, 'emojis': 7807, '89': 7808, 'teddy': 7809, 'jack’s': 7810, 'gunvalsons': 7811, 'thumbs': 7812, 'aaliyah': 7813, 'trace': 7814, 'telecast': 7815, 'packing': 7816, 'charleston': 7817, 'nupti': 7818, 'brits': 7819, 'frye': 7820, 'lucifer': 7821, 'violating': 7822, 'probation': 7823, 'burglary': 7824, 'kumail': 7825, 'nanjiani': 7826, 'bombshells': 7827, 'mississippi': 7828, 'chops': 7829, 'mith’s': 7830, 'georges': 7831, 'chasers': 7832, 'bo': 7833, '‘kids’': 7834, 'policy': 7835, 'beginning': 7836, 'patricia': 7837, 'ear': 7838, '2018’s': 7839, 'biting': 7840, 'ronaldo’s': 7841, 'boykins': 7842, 'grownish': 7843, '10yearold': 7844, 'pell': 7845, 'kirke': 7846, 'vacation’': 7847, 'famed': 7848, 'whittaker': 7849, 'settles': 7850, 'blaine': 7851, '7year': 7852, 'viacom': 7853, 'radziwills': 7854, 'implants': 7855, 'remaining': 7856, 'trey': 7857, 'ongz': 7858, 'cleaning': 7859, 'verlanders': 7860, 'marlon': 7861, 'raping': 7862, '1990': 7863, 'points': 7864, 'olympia': 7865, 'poils': 7866, 'blush': 7867, 'pam': 7868, 'yrigoyen': 7869, 'volavola': 7870, '80s': 7871, 'underway': 7872, 'traumatized': 7873, 'murphys': 7874, '‘fuller': 7875, 'convers': 7876, 'hayla': 7877, 'eductive': 7878, 'apologizing': 7879, 'tak': 7880, 'rockin': 7881, 'tomlin': 7882, '’90s': 7883, 'photographs': 7884, 'itting': 7885, 'redemption': 7886, '71': 7887, 'forest’': 7888, 'notebook': 7889, 'grac': 7890, 'editors': 7891, 'austen': 7892, 'survivor': 7893, '1984': 7894, 'ashes': 7895, 'jaime': 7896, '‘walking': 7897, 'outed': 7898, 'zago': 7899, 'badgley': 7900, 'charming': 7901, 'daring': 7902, 'varner': 7903, 'transgend': 7904, 'olodomusic': 7905, 'hub': 7906, 'overcame': 7907, 'chappelle': 7908, 'ya': 7909, 'kips': 7910, 'closure': 7911, 'wheres': 7912, 'fills': 7913, '11yearold': 7914, 'lukasiak': 7915, 'booties': 7916, 'eugeni': 7917, 'heroin': 7918, 'halcro': 7919, 'bloody': 7920, 'kinda': 7921, 'veep': 7922, 'prepar': 7923, 'faci': 7924, 'uncommon': 7925, 'geeks': 7926, 'dutch': 7927, 'hameless': 7928, 'flame': 7929, 'doting': 7930, '…': 7931, 'hiphop': 7932, 'receiving': 7933, 'brilliant': 7934, 'jungle': 7935, 'rb': 7936, 'sobs': 7937, 'traditional': 7938, 'bali': 7939, '91': 7940, 'condo': 7941, 'budget': 7942, 'ouza': 7943, 'cod': 7944, 'tongue': 7945, 'mermaidthemed': 7946, '12year': 7947, 'striped': 7948, 'pryor': 7949, 'ibling': 7950, 'congratulate': 7951, 'trl': 7952, 'city’s': 7953, 'wrestling': 7954, 'molest': 7955, 'hakeup': 7956, 'flipping': 7957, 'nl’s': 7958, 'esame': 7959, 'peechless': 7960, 'wieber': 7961, 'prostitution': 7962, 'experiences': 7963, 'danger': 7964, 'collab': 7965, 'purpose': 7966, 'itll': 7967, 'closeup': 7968, 'ranks': 7969, 'icons': 7970, 'chew': 7971, 'wearable': 7972, 'childs': 7973, 'fitting': 7974, 'juggling': 7975, 'avicii': 7976, 'vacay': 7977, 'tropical': 7978, 'homemade': 7979, 'includ': 7980, 'dua': 7981, 'lipa': 7982, 'exism': 7983, 'breezy': 7984, 'panels': 7985, 'reunions': 7986, 'brewer': 7987, 'princ': 7988, 'humble': 7989, 'singl': 7990, 'lanter': 7991, 'trooping': 7992, 'mob': 7993, 'henstridg': 7994, 'howered': 7995, 'presents': 7996, '50000': 7997, 'radiant': 7998, 'nixon': 7999, 'treated': 8000, 'kashs': 8001, '‘there': 8002, 'imposters': 8003, 'exposed': 8004, 'everly': 8005, 'stylist': 8006, 'cups': 8007, 'headey': 8008, 'romano': 8009, 'fangirl': 8010, 'aronofski': 8011, 'ortizmagros': 8012, 'winterpring': 8013, 'cranston': 8014, 'helf': 8015, 'gr': 8016, 'import': 8017, 'lamars': 8018, 'fergies': 8019, 'nate': 8020, 'wagner': 8021, 'delicate': 8022, 'lid': 8023, 'aboard': 8024, 'companies': 8025, 'ugliest': 8026, 'carell': 8027, 'descend': 8028, 'toast': 8029, 'skater': 8030, 'mashup': 8031, 'hearth': 8032, 'wade': 8033, 'map': 8034, 'dunn': 8035, 'tracksuit': 8036, 'tumultuous': 8037, 'ratajkowski’s': 8038, 'mj': 8039, 'keshas': 8040, 'newtonjohn': 8041, 'colombian': 8042, '3’s': 8043, 'lap': 8044, '66': 8045, 'claflin': 8046, '10year': 8047, 'under100': 8048, 'firefighters': 8049, 'it”': 8050, 'noshow': 8051, 'chaotic': 8052, 'tensions': 8053, 'twerking': 8054, '3year': 8055, 'enjoyed': 8056, 'justine': 8057, 'britt': 8058, 'skipped': 8059, 'attempted': 8060, 'vet': 8061, 'colors': 8062, 'hark': 8063, 'immigr': 8064, 'kenzo': 8065, 'hore’': 8066, 'facetimes': 8067, 'mudslide': 8068, 'cooki': 8069, 'stunt': 8070, 'chipotle': 8071, '“this': 8072, '–t': 8073, 'miamis': 8074, 'faven': 8075, 'goats': 8076, 'convince': 8077, 'johns': 8078, 'terrifi': 8079, 'weeknds': 8080, 'hung': 8081, 'carlson': 8082, 'recordbreaking': 8083, 'bapt': 8084, 'iris': 8085, 'bargain': 8086, '1000': 8087, 'hears': 8088, 'layers': 8089, 'bourdain’s': 8090, 'golfer': 8091, 'lifes': 8092, 'athleisure': 8093, 'script': 8094, '38th': 8095, 'condit': 8096, 'blackout': 8097, 'valletta': 8098, 'madix': 8099, 'tarz': 8100, 'adventur': 8101, 'lawson': 8102, 'ranch': 8103, 'offerman': 8104, 'delight': 8105, 'havana': 8106, 'generation': 8107, 'misty': 8108, 'joys': 8109, 'ortiz': 8110, 'omewhere': 8111, 'lessep': 8112, 'backtochool': 8113, 'insult': 8114, 'isaac': 8115, 'repeat': 8116, '‘long': 8117, 'wrist': 8118, 'mustwatch': 8119, 'musthave': 8120, 'jonbenét': 8121, 'trinity': 8122, 'roddick': 8123, 'depps': 8124, 'ix’': 8125, 'andrea': 8126, 'actionpacked': 8127, 'praising': 8128, 'aves': 8129, 'ana': 8130, 'zach': 8131, 'exfiancé': 8132, 'tremblay': 8133, 'instant': 8134, 'driv': 8135, 'platten': 8136, 'odonnell': 8137, 'polizzi': 8138, 'oxygen': 8139, 'five0': 8140, 'victor': 8141, 'coverag': 8142, 'bullst': 8143, 'sponsor': 8144, 'slur': 8145, 'rejoice': 8146, 'pott': 8147, 'eyelin': 8148, 'mermaids': 8149, 'onair': 8150, 'unofficial': 8151, 'chapter': 8152, 'vial': 8153, 'upp': 8154, 'adding': 8155, 'della': 8156, 'locken': 8157, 'sale': 8158, 'unstoppable': 8159, 'bates': 8160, 'wipes': 8161, 'anyon': 8162, 'eclips': 8163, 'ravin': 8164, '‘arrested': 8165, 'development’': 8166, 'aspiring': 8167, 'krystal': 8168, 'peep': 8169, 'aviciis': 8170, 'implies': 8171, 'djs': 8172, 'youth': 8173, 'wtf': 8174, 'stops': 8175, 'ramirez': 8176, 'severe': 8177, 'cotland': 8178, 'mustache': 8179, 'bulli': 8180, 'flags': 8181, 'grindelwald': 8182, 'rian': 8183, 'latina': 8184, 'corpion': 8185, 'gener': 8186, 'revamped': 8187, 'bod': 8188, 'bands': 8189, 'hiking': 8190, 'thanking': 8191, 'war’': 8192, 'reflect': 8193, 'degrassi': 8194, 'clapback': 8195, 'wvlc999': 8196, 'summ': 8197, 'nbcuniversal': 8198, 'worthy': 8199, 'bazaar': 8200, 'blackface': 8201, 'higher’': 8202, 'button': 8203, 'wash': 8204, 'illy': 8205, 'easi': 8206, 'hostage': 8207, 'discovers': 8208, 'warnings': 8209, 'resurrected': 8210, 'hunter': 8211, 'trut': 8212, 'chain': 8213, 'hats': 8214, 'denis': 8215, 'random': 8216, 'testing': 8217, 'ming': 8218, 'poton': 8219, 'antos': 8220, '350': 8221, 'carol': 8222, 'metallic': 8223, 'glitters': 8224, 'athlet': 8225, 'rivalri': 8226, 'equality': 8227, 'deaths': 8228, 'japan': 8229, 'debacle': 8230, 'wayne': 8231, 'ensemble': 8232, '‘rhony’': 8233, 'mulder': 8234, 'tudents': 8235, 'choker': 8236, 'weber': 8237, 'halloweentown': 8238, 'conceal': 8239, 'stint': 8240, 'leaders': 8241, 'trainers': 8242, 'boyd': 8243, 'zylka': 8244, 'piec': 8245, 'grandparents': 8246, 'kyhigh': 8247, 'kingsman': 8248, 'duhon': 8249, 'diy': 8250, 'monae': 8251, 'gente': 8252, 'hencha': 8253, 'voigt': 8254, 'backstag': 8255, 'twisted': 8256, 'lyme': 8257, 'lovebirds’': 8258, '“will': 8259, 'passionately': 8260, 'cortese': 8261, 'releasing': 8262, 'else': 8263, 'retirement': 8264, 'jedediah': 8265, 'bila': 8266, 'escapes': 8267, 'jedi’': 8268, 'kpop': 8269, 'wealthy': 8270, 'clarks': 8271, 'kraus': 8272, 'clare': 8273, 'rudd': 8274, '‘pirates': 8275, 'bay': 8276, 'telethon': 8277, 'nxivm': 8278, 'heaven': 8279, 'inn': 8280, 'roseann': 8281, 'telemundo': 8282, 'f–k': 8283, 'artem': 8284, 'waco': 8285, 'mohamed': 8286, 'jana': 8287, '‘truth': 8288, 'ilverstone': 8289, 'clueless': 8290, 'josephine': 8291, 'resort': 8292, 'olve': 8293, 'whispers': 8294, 'pearl': 8295, 'erves': 8296, 'redefining': 8297, 'extravagant': 8298, 'headtohead': 8299, 'ro': 8300, 'firsts': 8301, 'loc': 8302, 'robbies': 8303, 'largest': 8304, 'glad': 8305, 'melton': 8306, 'reel': 8307, 'brandnew': 8308, 'maliks': 8309, 'yo': 8310, 'kushner': 8311, 'tshirt': 8312, 'crown’': 8313, 'courage': 8314, 'commencement': 8315, 'ajirotutu': 8316, 'bars': 8317, 'mooch': 8318, 'tindall': 8319, 'missy': 8320, 'elliott': 8321, 'mixtape': 8322, 'lbd': 8323, 'pati': 8324, 'comme': 8325, 'ski': 8326, 'storm': 8327, 'relax': 8328, 'chri': 8329, 'brandy': 8330, 'boykin': 8331, 'kel': 8332, 're': 8333, 'flower': 8334, 'parsons': 8335, 'titan': 8336, 'charlott': 8337, 'powder': 8338, '‘outlander’': 8339, 'facialist': 8340, 'musthav': 8341, 'figuring': 8342, 'nickname': 8343, 'cours': 8344, 'pearce': 8345, 'nipples': 8346, 'finalizing': 8347, 'rosemarie': 8348, 'ouray': 8349, 'armstrong': 8350, 'rhonys': 8351, 'grateful': 8352, 'arc': 8353, 'chair': 8354, 'returned': 8355, 'moistur': 8356, 'insanely': 8357, 'toms': 8358, 'gymnasts': 8359, 'postponed': 8360, 'matches': 8361, 'thanos': 8362, 'contemplated': 8363, 'hanson': 8364, 'illness': 8365, 'trading': 8366, '‘rupaul’s': 8367, 'moynihan': 8368, 'wat': 8369, 'aisha': 8370, 'edaris': 8371, '130000': 8372, 'charitable': 8373, '7yearold': 8374, 'infection': 8375, 'kraines': 8376, 'hearling': 8377, 'taglin': 8378, 'hardwick': 8379, 'proudly': 8380, 'sees': 8381, 'ultra': 8382, 'tatue': 8383, 'bennet': 8384, '360': 8385, '‘jimmy': 8386, 'lesli': 8387, 'decoding': 8388, 'resemblance': 8389, 'emilio': 8390, 'maintain': 8391, 'upernatural': 8392, 'whisper': 8393, 'hearthaped': 8394, 'dragon': 8395, 'bushs': 8396, 'antoni': 8397, 'muscle': 8398, 'elverum': 8399, 'pregrammy': 8400, 'ia': 8401, 'tutorial': 8402, 'leek': 8403, 'vu’': 8404, 'dot': 8405, 'diversity': 8406, '‘you': 8407, 'spirit': 8408, 'assemble': 8409, 'pf': 8410, 'popped': 8411, 'nigeria': 8412, 'chuman': 8413, 'puberme': 8414, 'vogues': 8415, 'charli': 8416, 'xcx': 8417, 'confessions': 8418, 'offsets': 8419, '58': 8420, 'lenny': 8421, 'cotty': 8422, 'dorit': 8423, 'spoof': 8424, 'lucas': 8425, 'finales': 8426, 'bonham': 8427, 'beachs': 8428, 'lamyia': 8429, 'realized': 8430, 'lowrys': 8431, 'mummy': 8432, 'disorders': 8433, 'fruit': 8434, 'abrahams': 8435, 'darling': 8436, 'gifs': 8437, 'estefan': 8438, 'zedd': 8439, 'jenkins': 8440, 'tasty': 8441, 'honorary': 8442, 'harsh': 8443, 'toward': 8444, 'lows': 8445, 'whatever': 8446, 'josie': 8447, 'groom': 8448, 'rosanna': 8449, 'arquette': 8450, 'wank': 8451, 'cr': 8452, 'prings': 8453, 'aces': 8454, 'shocks': 8455, 'ic': 8456, 'devast': 8457, 'toned': 8458, 'medal': 8459, 'pyeongchang': 8460, 'maxim': 8461, 'maisel': 8462, 'shaming': 8463, 'dagostinos': 8464, 'finalizes': 8465, 'chateau': 8466, 'obvi': 8467, 'me”': 8468, 'fathaming': 8469, 'pall': 8470, 'eminems': 8471, 'gadot’s': 8472, 'freezing': 8473, 'pharrell': 8474, 'suffers': 8475, 'willing': 8476, 'famer': 8477, 'week’s': 8478, 'nudity': 8479, 'articl': 8480, 'betch': 8481, 'zarins': 8482, 'epi': 8483, 'greece': 8484, 'clowns': 8485, 'olivier': 8486, 'forgiving': 8487, 'emerges': 8488, 'cocreator': 8489, 'outlanders': 8490, 'prequel': 8491, 'splash': 8492, 'cooks': 8493, 'carters': 8494, 'zarin’s': 8495, 'riverdale’s': 8496, 'terminal': 8497, 'bird': 8498, 'security': 8499, '‘nci’': 8500, 'recip': 8501, 'tortorella': 8502, 'resurfac': 8503, 'figures': 8504, 'fletcher': 8505, 'posthumous': 8506, 'gasp': 8507, 'bahama': 8508, 'improve': 8509, 'wows': 8510, '918kiss': 8511, 'apk': 8512, 'hanisch': 8513, 'saf': 8514, 'kramer': 8515, 'ricardo': 8516, 'qvc': 8517, 'hardly': 8518, 'dumb': 8519, 'pt': 8520, 'filthy': 8521, 'derulo': 8522, 'dyes': 8523, 'newton': 8524, 'weden': 8525, 'adriana': 8526, 'scar': 8527, 'knocked': 8528, 'flies': 8529, 'bateman': 8530, 'creek’': 8531, 'versac': 8532, 'attacking': 8533, 'directions': 8534, 'lc': 8535, 'urvive': 8536, 'traumatic': 8537, 'witched': 8538, 'ode': 8539, 'gifting': 8540, 'tidal': 8541, 'declared': 8542, '‘happy': 8543, 'permanent': 8544, 'obs': 8545, 'keiynan': 8546, 'talan': 8547, 'torriero': 8548, 'rosss': 8549, 'dali': 8550, 'nagasu': 8551, '‘kimmy': 8552, 'pretend': 8553, 'architect': 8554, 'jellyfish': 8555, 'lounge': 8556, 'casino': 8557, 'kierra': 8558, 'grade': 8559, 'fingers': 8560, 'renovations': 8561, 'wynonna': 8562, 'arrangement’s': 8563, 'reminder': 8564, 'tandifer': 8565, 'er': 8566, 'teller': 8567, 'provides': 8568, 'tacey': 8569, 'dash': 8570, 'docuseries': 8571, 'adness': 8572, 'budding': 8573, 'toya': 8574, 'babe': 8575, 'size': 8576, 'balm': 8577, 'ziegler': 8578, 'grows': 8579, 'bashes': 8580, 'prosecutors': 8581, 'searches': 8582, 'bip': 8583, 'fbomb': 8584, 'welch': 8585, 'seven': 8586, '‘doing': 8587, 'lupus': 8588, 'roast': 8589, 'dining': 8590, 'scandals': 8591, 'hiddleston’s': 8592, 'bombshel': 8593, 'questionable': 8594, 'lópez': 8595, 'self': 8596, 'flick': 8597, 'lives’': 8598, '‘back': 8599, 'angering': 8600, '‘barbie’': 8601, '‘impressed’': 8602, 'fulltime': 8603, 'itcom': 8604, 'checking': 8605, 'barb': 8606, 'kopelman': 8607, 'immediately': 8608, 'wirel': 8609, 'kalings': 8610, 'bathrooms': 8611, 'cookbook': 8612, 'bender': 8613, 'magnum': 8614, 'pi': 8615, 'elect': 8616, 'gong': 8617, 'lied': 8618, 'pinches': 8619, 'margo': 8620, 'jefferson': 8621, 'injur': 8622, 'fouryearold': 8623, 'irish': 8624, 'status': 8625, 'avoids': 8626, 'bosses': 8627, 'greec': 8628, 'bulging': 8629, 'urgeon': 8630, 'line’': 8631, 'robyn': 8632, 'ger': 8633, 'davids': 8634, 'pampered': 8635, 'pooch': 8636, '‘they': 8637, 'angers': 8638, 'modelling': 8639, 'ignites': 8640, 'beams': 8641, 'svelte': 8642, 'frock': 8643, 'uni': 8644, '‘have': 8645, 'suffering': 8646, 'poignant': 8647, 'dyslexia': 8648, 'pregnant’': 8649, '2017’': 8650, 'cougar': 8651, 'claws': 8652, 'hedlund': 8653, 'hey': 8654, 'handsome': 8655, 'rents': 8656, 'guns': 8657, 'limit': 8658, 'lunatic': 8659, 'notalent': 8660, 'dumbest': 8661, '‘passionate’': 8662, 'conor': 8663, 'kennedi': 8664, 'bodies': 8665, 'sleep': 8666, 'stands': 8667, 'children’': 8668, 'wages': 8669, 'thejasminebrand': 8670, 'knives': 8671, 'testimoni': 8672, 'currys': 8673, 'yep': 8674, '“honeymoon’s': 8675, 'over”': 8676, 'papers': 8677, 'nannies': 8678, 'isabella': 8679, '9th': 8680, 'commitment': 8681, 'factcheck': 8682, 'parental': 8683, 'choices': 8684, 'landau': 8685, 'peanut': 8686, 'pickl': 8687, 'absolutely’': 8688, 'speculating': 8689, 'houlder': 8690, 'impressed': 8691, 'mums': 8692, 'referring': 8693, 'finess': 8694, 'unicorns': 8695, 'bulimia': 8696, 'psychiatric': 8697, 'hyde': 8698, 'later’': 8699, 'priv': 8700, 'hurtful’': 8701, 'npr': 8702, 'angie': 8703, 'illuminati”': 8704, 'destruction': 8705, 'kuwk': 8706, 'want’': 8707, 'tbh': 8708, '‘deadpool': 8709, 'brianna': 8710, 'hijab': 8711, 'sparking': 8712, 'sultry': 8713, 'turbulent': 8714, 'arguing': 8715, 'indepth': 8716, 'def': 8717, 'apart’': 8718, 'quart': 8719, 'tain': 8720, 'tears’': 8721, 'hefner’s': 8722, 'launching': 8723, 'gotti': 8724, 'meadow': 8725, 'massacre': 8726, 'gaines’': 8727, 'reev': 8728, 'restore': 8729, 'criticizes': 8730, '‘baywatch’': 8731, 'muscles': 8732, 'purposely': 8733, 'transforming': 8734, 'fairs': 8735, 'boozy': 8736, 'cambodia': 8737, 'upstage': 8738, 'tiara': 8739, 'wentworth': 8740, 'devastated’': 8741, 'alivetal': 8742, 'unblock': 8743, 'eighthour': 8744, 'approval': 8745, 'flaunting': 8746, 'president’': 8747, 'butterflies': 8748, 'booked': 8749, 'away”': 8750, '‘they’re': 8751, '‘escape': 8752, 'pears’': 8753, 'babies’': 8754, 'administration': 8755, '‘humiliated’': 8756, 'justin’s': 8757, 'colleg': 8758, 'colours': 8759, 'cuocos': 8760, 'arguments': 8761, 'oconnel': 8762, 'dines': 8763, 'wikinow': 8764, 'dairy': 8765, 'mixing': 8766, 'jamaican': 8767, '‘that': 8768, 'sushi': 8769, 'field': 8770, 'nowhere': 8771, 'dodges': 8772, 'carefully': 8773, 'family’': 8774, 'catfight': 8775, 'joe’s': 8776, 'postoscars': 8777, '‘upsetting’': 8778, '“true': 8779, 'pepe': 8780, 'marisa': 8781, 'tomei': 8782, '2009': 8783, 'several': 8784, 'mto': 8785, 'blowing': 8786, 'martins': 8787, 'pattie': 8788, 'locations': 8789, 'controlling': 8790, 'kong': 8791, '‘hooking': 8792, 'lohan’s': 8793, 'sue': 8794, 'en': 8795, '‘blow': 8796, 'chef’': 8797, 'glastonbury': 8798, 'cait': 8799, 'dinero': 8800, 'levines': 8801, 'hippie': 8802, 'ubpoenas': 8803, 'deposition': 8804, 'benet': 8805, 'outstanding': 8806, 'disgraced': 8807, '100k': 8808, 'hillsong': 8809, 'fianceé': 8810, 'hayk’s': 8811, '‘relationship': 8812, 'rocks’': 8813, 'pittangelina': 8814, 'gas': 8815, 'bbmas': 8816, 'brutally': 8817, 'rag': 8818, 'exwives': 8819, 'expressed': 8820, 'doubts': 8821, 'perfected': 8822, 'narr': 8823, 'edition’': 8824, 'keough': 8825, 'order’': 8826, 'popularity': 8827, 'collaborating': 8828, 'twerk': 8829, 'griffith': 8830, '‘heartbreaking’': 8831, 'cheek': 8832, 'cuddling': 8833, '‘close': 8834, '‘upset’': 8835, 'cradles': 8836, 'posh': 8837, 'dyer': 8838, 'sideeyed': 8839, 'torms': 8840, 'tress': 8841, 'cope': 8842, 'quickie': 8843, 'voice’s’': 8844, 'preps': 8845, 'fariss': 8846, 'maniac': 8847, 'uperbad': 8848, 'vietnam': 8849, 'nag': 8850, 'treets': 8851, 'hadid‘s': 8852, 'glows': 8853, 'regis': 8854, 'appeared': 8855, 'beautiful’': 8856, 'daylewis': 8857, 'consider': 8858, 'planner': 8859, '‘blown': 8860, '‘obsessed’': 8861, 'bully': 8862, 'neither': 8863, 'posed': 8864, 'billiondollar': 8865, 'yovanna': 8866, 'ventura': 8867, 'stealing': 8868, 'tays': 8869, 'shaking': 8870, 'haim': 8871, 'postit': 8872, 'separation': 8873, 'present’': 8874, 'debuted': 8875, 'tradit': 8876, 'packers': 8877, 'worried’': 8878, 'hurtful': 8879, 'postbreakup': 8880, 'ambrosio': 8881, 'plu': 8882, 'wiig': 8883, 'denounces': 8884, 'divorces': 8885, 'empires': 8886, '1999': 8887, 'brainwashing': 8888, '“girl': 8889, 'instructor': 8890, 'eiffel': 8891, 'tow': 8892, '120k': 8893, 'carred': 8894, 'streaming': 8895, 'potify': 8896, 'nova': 8897, '‘party': 8898, 'upposedly': 8899, 'randal': 8900, 'waitress': 8901, 'sources': 8902, 'jut': 8903, 'exi': 8904, 'adel': 8905, 'circulating': 8906, 'recr': 8907, 'goat': 8908, 'flops': 8909, 'nicole’s': 8910, 'olid’': 8911, 'spokesman': 8912, '47yearold': 8913, 'cring': 8914, 'hal': 8915, 'carlotta': 8916, 'opera': 8917, 'talks’': 8918, 'ugli': 8919, 'ybn': 8920, 'almighty': 8921, 'condoms': 8922, 'whattup': 8923, '‘kim': 8924, 'divorce’': 8925, 'travolta': 8926, '”': 8927, '5monthold': 8928, 'dunkirk': 8929, 'ettl': 8930, 'unrecognisable': 8931, '700': 8932, 'publicist': 8933, 'filed': 8934, 'unfollow': 8935, 'hollywoodlife’s': 8936, '12th': 8937, '‘fixer': 8938, 'upper’': 8939, '‘up': 8940, 'lang': 8941, 'insecurity': 8942, '‘these': 8943, 'zone’': 8944, 'appendectomi': 8945, 'examining': 8946, '‘aved': 8947, 'douchebag': 8948, 'glanvil': 8949, 'rushing': 8950, 'invasion': 8951, 'messin': 8952, '9year': 8953, 'plotting': 8954, 'couple’s': 8955, 'g20': 8956, 'recently': 8957, 'karma': 8958, 'furniture': 8959, 'texted': 8960, 'troubled': 8961, 'lighting': 8962, 'technique': 8963, 'roasting': 8964, 'ex’s': 8965, 'lowest': 8966, '‘couldn’t': 8967, 'significant': 8968, 'monroes': 8969, 'griffins': 8970, 'errands': 8971, 'date”': 8972, 'union’s': 8973, 'kenneth': 8974, 'arts': 8975, 'district': 8976, 'mia’': 8977, 'tested': 8978, 'dementia': 8979, 'instinct': 8980, 'permanently': 8981, 'bowen': 8982, 'speculation': 8983, 'k’s': 8984, 'brags': 8985, 'youn': 8986, 'pains': 8987, 'muguruza': 8988, '‘splits’': 8989, '‘calls': 8990, 'wedding’': 8991, 'fiveyear': 8992, 'eachoth': 8993, 'testify': 8994, 'adjusts': 8995, 'depp’s': 8996, 'takei': 8997, 'maddow': 8998, 'brokaw': 8999, 'exhausted': 9000, 'timesup': 9001, 'struggling': 9002, 'kourtney’s': 9003, 'biracial': 9004, 'afe': 9005, 'edgerton': 9006, 'az': 9007, 'shameless': 9008, 'undergoing': 9009, 'lipo': 9010, 'uri’s': 9011, 'mediatakeout': 9012, 'weathered': 9013, 'allure': 9014, 'exs': 9015, 'jens': 9016, 'zeta': 9017, 'proud’': 9018, '‘world': 9019, 'tourist': 9020, 'neaky': 9021, 'marathons': 9022, 'footbal': 9023, 'off': 9024, 'wills': 9025, 'jealou': 9026, 'aimed': 9027, 'gambl': 9028, 'blackballed': 9029, 'tonight’s': 9030, 'consolation': 9031, 'existence': 9032, '‘booty': 9033, 'ploy': 9034, '300000': 9035, 'intimidation': 9036, '‘first': 9037, 'fueled': 9038, 'lookalikes': 9039, 'waps': 9040, 'horter': 9041, 'ongwriter': 9042, '‘happier’': 9043, 'uitcas': 9044, 'junk': 9045, 'die’': 9046, 'minogue': 9047, 'absentee': 9048, 'small': 9049, 'bouquet': 9050, 'trademark': 9051, 'choice’': 9052, '‘end’': 9053, '‘journey’': 9054, 'meddling': 9055, 'clickbait': 9056, 'proposals': 9057, 'out': 9058, 'flew': 9059, 'brows': 9060, 'lawy': 9061, 'tevens': 9062, 'ketches': 9063, 'trousers': 9064, 'vinegar': 9065, 'sibling': 9066, 'rope': 9067, 'published': 9068, 'kendalls': 9069, 'cargile': 9070, '‘cut': 9071, 'off’': 9072, 'dip': 9073, 'mayers': 9074, 'fleeing': 9075, 'brad’s': 9076, 'opinions': 9077, 'hasn’t': 9078, 'years’': 9079, '1995': 9080, 'conference': 9081, 'decides': 9082, 'boxer': 9083, 'risks': 9084, 'bound': 9085, 'impulsive': 9086, '250k': 9087, 'meetings': 9088, 'fed': 9089, 'detransition': 9090, 'mantra': 9091, 'thousand': 9092, 'disapproval': 9093, 'underwent': 9094, 'hen': 9095, 'fict': 9096, 'healed': 9097, 'galore': 9098, 'grandkid': 9099, 'sleeping': 9100, 'daca': 9101, 'explanation': 9102, 'transit': 9103, 'herpes': 9104, 'norman': 9105, '“revenge”': 9106, 'imposed': 9107, 'labour': 9108, 'monst': 9109, 'cheats': 9110, 'harrowing': 9111, '‘under': 9112, 'agency': 9113, 'clarkson’s': 9114, 'descript': 9115, 'boosted': 9116, 'ambit': 9117, 'shoots': 9118, 'mandel': 9119, 'peculate': 9120, 'disastrous': 9121, 'blocked': 9122, 'damor': 9123, 'unknowingly': 9124, 'advanced': 9125, 'truths': 9126, 'molester': 9127, 'eugenie’s': 9128, 'garlic': 9129, 'dethroned': 9130, 'lifethreatening': 9131, 'century': 9132, 'eal': 9133, 'religion': 9134, 'praise': 9135, 'chemistri': 9136, 'scared': 9137, 'tragedy’': 9138, 'dollars': 9139, 'odor': 9140, 'frenchcanadian': 9141, 'solution': 9142, 'immon': 9143, 'shops': 9144, 'clan': 9145, 'dwarfs': 9146, 'noel': 9147, 'couldve': 9148, 'victorian': 9149, 'category': 9150, 'chicagos': 9151, 'pneumonia': 9152, 'doyle': 9153, '“tone': 9154, 'untru': 9155, 'dredg': 9156, 'tarantino’s': 9157, 'ubtly': 9158, '‘working': 9159, 'juliannes': 9160, 'sounds': 9161, 'reject': 9162, 'wilson’s': 9163, 'angelinas': 9164, 'overshadowed': 9165, 'drives': 9166, 'timothy': 9167, 'olyphant': 9168, '‘on': 9169, 'hrouded': 9170, 'radcliffe': 9171, 'noticed': 9172, 'molly’s': 9173, 'escorts': 9174, '‘ecretly': 9175, 'pies': 9176, 'namibia': 9177, '225': 9178, '‘daddy’s': 9179, 'townhouse': 9180, 'terr': 9181, 'acc': 9182, '‘ober’': 9183, 'howering': 9184, 'whitewashing': 9185, 'halls': 9186, 'elites': 9187, 'though': 9188, 'involve': 9189, 'angeles’': 9190, 'urges': 9191, 'accounts': 9192, 'phony': 9193, 'pink’s': 9194, 'bulletproof': 9195, 'vest': 9196, 'wannabe': 9197, 'kicking': 9198, '‘publicly': 9199, 'humiliating’': 9200, 'shamed': 9201, 'perils': 9202, 'sunny': 9203, 'seem': 9204, 'investigators': 9205, 'everal': 9206, 'funding': 9207, 'holliday': 9208, 'courting': 9209, 'spel': 9210, 'disgusted': 9211, '‘desperate': 9212, 'he’': 9213, 'bannon': 9214, 'renting': 9215, 'leans': 9216, 'deaf': 9217, 'rio': 9218, '‘worried': 9219, 'uv': 9220, 'everyones': 9221, 'factori': 9222, 'pedophile': 9223, 'behar': 9224, 'wished': 9225, 'divorce”': 9226, 'mgm': 9227, 'regrets’': 9228, 'angelina’s': 9229, 'publicity': 9230, 'etiquette': 9231, 'confrontation': 9232, 'kri': 9233, 'cashing': 9234, '1m': 9235, 'bland': 9236, 'bendjima’s': 9237, 'benjamin': 9238, 'journalist': 9239, 'alves': 9240, 'lilyrose': 9241, 'enemi': 9242, 'athome': 9243, 'rupturing': 9244, 'eardrum': 9245, 'raises': 9246, 'knowing': 9247, 'educ': 9248, 'packer': 9249, 'branded': 9250, 'consort': 9251, 'mend': 9252, 'moke': 9253, 'su': 9254, 'dina': 9255, 'nonstop': 9256, 'signing': 9257, 'olved': 9258, 'enemy': 9259, '‘threatened’': 9260, 'pasta': 9261, 'refusal': 9262, '56': 9263, 'dieting': 9264, 'ister’s': 9265, 'adventure': 9266, 'renovating': 9267, '‘needed': 9268, 'bodyhamed': 9269, 'luxury': 9270, 'btage': 9271, 'spills': 9272, 'general': 9273, 'aggress': 9274, 'glastonburi': 9275, 'thirst': 9276, 'fined': 9277, '25k': 9278, 'anywher': 9279, '19yearold': 9280, 'nursing': 9281, 'pokesperson': 9282, 'hapeshifting': 9283, 'urrounded': 9284, '“harry': 9285, 'potter”': 9286, 'fooled': 9287, 'talk’': 9288, 'houldn’t': 9289, 'cowardly': 9290, 'te': 9291, 'newlywed': 9292, 'gath': 9293, 'oops': 9294, 'renaissance': 9295, 'cafe': 9296, '‘totally': 9297, 'couple’': 9298, 'caicos': 9299, 'boytoy': 9300, 'negotiations': 9301, 'bestiality': 9302, 'burn': 9303, 'cusp': 9304, 'selfmade': 9305, 'estimating': 9306, 'eriou': 9307, 'tamed': 9308, 'them’': 9309, 'tepped': 9310, 'alexandria': 9311, 'injures': 9312, 'clint': 9313, 'interact': 9314, 'wolfs': 9315, 'correspondents': 9316, 'sign': 9317, 'smoking': 9318, 'crumbling': 9319, 'nothing’': 9320, 'you’d': 9321, 'cor': 9322, 'offduty': 9323, 'miscarriages': 9324, 'belair': 9325, 'legit': 9326, '‘drunk’': 9327, 'exploive': 9328, 'bracelet': 9329, 'booed': 9330, 'leopold': 9331, 'blacklisting': 9332, '45th': 9333, 'marriage’': 9334, 'bang’': 9335, 'alludes': 9336, 'flay': 9337, '‘tomb': 9338, 'raider’': 9339, 'mummy’': 9340, '‘jealous’': 9341, '10k': 9342, 'hair’': 9343, '‘radar’': 9344, '12yearold': 9345, '24th': 9346, 'canine': 9347, 'hockingly': 9348, 'exploited': 9349, 'horses': 9350, 'glasses': 9351, 'gag': 9352, 'tarving': 9353, 'problemat': 9354, 'cambodian': 9355, 'offcamera': 9356, '20m': 9357, 'helpful': 9358, 'gladly': 9359, 'think’s': 9360, 'neaks': 9361, 'onto': 9362, 'properti': 9363, 'emotions': 9364, 'actu': 9365, 'weaver': 9366, '‘relieved’': 9367, 'confederate': 9368, 'speci': 9369, 'teph': 9370, 'russel': 9371, 'urprised’': 9372, 'um': 9373, 'reconnected': 9374, 'childbirth': 9375, 'antitrump': 9376, 'passionate': 9377, 'bothered': 9378, 'cheese': 9379, 'twelve': 9380, 'tati': 9381, 'unexpect': 9382, 'births': 9383, 'blueprint': 9384, 'construction': 9385, 'harder': 9386, 'facetoface': 9387, 'convicted': 9388, 'leaking': 9389, 'amal’s': 9390, '‘1': 9391, 'announcement’': 9392, 'pil': 9393, 'captures': 9394, 'they’ve': 9395, 'vuitton': 9396, 'tox': 9397, 'apologies': 9398, '‘orry’': 9399, 'declined': 9400, 'politicizing': 9401, 'disrespectful': 9402, 'empow': 9403, '‘hilarious’': 9404, 'protection': 9405, 'balconi': 9406, 'mogul': 9407, 'wing': 9408, 'protesters': 9409, 'wandering': 9410, 'coping': 9411, 'migr': 9412, 'dilemma': 9413, 'chips': 9414, 'banning': 9415, 'exfiancee': 9416, 'lifeize': 9417, '‘getting': 9418, 'racism': 9419, 'mos': 9420, 'believed': 9421, 'kits': 9422, 'baec': 9423, 'expertly': 9424, 'avoided': 9425, 'juiciest': 9426, '‘tears’': 9427, 'pattern': 9428, 'ides': 9429, 'llc': 9430, 'alike': 9431, 'molestation': 9432, 'restaur': 9433, 'exposing': 9434, 'wham': 9435, 'swap': 9436, 'cullen': 9437, '‘idol’': 9438, 'taping': 9439, 'expressions': 9440, 'sum': 9441, 'kanye’s': 9442, 'categories': 9443, '‘closer': 9444, 'indefinitely': 9445, 'therapist': 9446, 'awesomely': 9447, 'hesitant': 9448, 'tempting': 9449, 'nicholson': 9450, 'heating': 9451, 'madonnas': 9452, '“at': 9453, 'paramount': 9454, 'hangouts': 9455, 'coanchor': 9456, 'inc': 9457, 'showdown': 9458, 'drown': 9459, 'commonwealth': 9460, 'to…': 9461, 'pie': 9462, 'originally': 9463, 'divid': 9464, 'heartache': 9465, 'charlotte’s': 9466, 'priscilla': 9467, 'criticizing': 9468, 'dickys': 9469, 'greetings': 9470, 'coordinating': 9471, 'ross’': 9472, 'sense': 9473, '5000': 9474, 'wrecking': 9475, 'players': 9476, 'detox': 9477, 'heal': 9478, 'debated': 9479, 'hurting': 9480, 'brexit': 9481, 'moders': 9482, 'burtka': 9483, 'avoiding': 9484, 'sun': 9485, 'organizing': 9486, 'frustrating': 9487, '‘baby': 9488, 'truce': 9489, 'hollywood’': 9490, 'takeaway': 9491, 'prodigy': 9492, 'todo': 9493, 'blogs': 9494, 'fakery': 9495, '‘turned': 9496, '“revenge': 9497, 'body”': 9498, 'auna': 9499, 'year’': 9500, 'tracks': 9501, 'kerrigans': 9502, 'cannabis': 9503, 'strain': 9504, '‘reputation’': 9505, 'finals': 9506, 'caico': 9507, 'retweeted': 9508, 'amused': 9509, 'influ': 9510, 'mayhem': 9511, 'avag': 9512, 'garner’s': 9513, 'trespassing': 9514, 'perfume': 9515, 'gifted': 9516, 'mcconaugheys': 9517, 'truggled': 9518, 'tila': 9519, 'amic': 9520, 'rage’': 9521, '‘uits’': 9522, 'relives': 9523, 'crush”': 9524, 'burt': 9525, 'benét': 9526, 'omeday': 9527, '‘two': 9528, 'pen': 9529, 'leftovers’': 9530, 'ig': 9531, 'shades': 9532, '‘everyone': 9533, 'holidaythemed': 9534, 'ensational': 9535, 'undertheradar': 9536, 'reconcili': 9537, 'koko': 9538, 'flings': 9539, 'venu': 9540, 'crow': 9541, 'ignificant': 9542, 'down’': 9543, '‘playboy’': 9544, 'urinating': 9545, 'balfe': 9546, 'ans': 9547, 'abroad': 9548, 'orri': 9549, 'wahlbergs': 9550, '90th': 9551, 'taffer': 9552, 'matchmaking': 9553, 'confirmation': 9554, 'maguire': 9555, 'cored': 9556, 'villainous': 9557, 'jumps': 9558, 'deserved': 9559, 'recital': 9560, 'rida': 9561, 'developing': 9562, '‘perfect': 9563, 'breakers': 9564, '‘bitter’': 9565, 'violates': 9566, 'amendment': 9567, 'parkerbowles': 9568, 'exiting': 9569, 'apprentice’': 9570, '‘get': 9571, 'erious’': 9572, 'rome': 9573, 'harden': 9574, 'hq': 9575, 'collaborate': 9576, 'mcdermott': 9577, 'tomboy': 9578, 'required': 9579, 'term': 9580, 'refus': 9581, 'disagreement': 9582, 'lie’': 9583, 'pringsteen': 9584, 'discussed': 9585, 'disappointing': 9586, 'apologise': 9587, 'cycle': 9588, 'awards®': 9589, 'throne': 9590, 'pressured': 9591, 'chest': 9592, 'ardinia': 9593, 'ocean': 9594, 'berri': 9595, 'hill’s': 9596, 'forbids': 9597, '‘magic': 9598, 'turmoil': 9599, '“a': 9600, 'thing”': 9601, 'ailes': 9602, 'thr': 9603, 'capitol': 9604, 'inaugural': 9605, 'bradshaw': 9606, 'wife’': 9607, 'comforting': 9608, 'bacon': 9609, 'blessed': 9610, '10000': 9611, 'picking': 9612, '24yearold': 9613, 'autotune': 9614, 'bloom’s': 9615, 'lucif': 9616, 'intruder': 9617, 'horse': 9618, 'bernie': 9619, 'morrone': 9620, 'mckenna': 9621, 'handled': 9622, '“best': 9623, 'meals': 9624, 'lockdown': 9625, 'bu': 9626, 'funds': 9627, 'practic': 9628, 'idaho': 9629, 'beaten': 9630, 'parents’': 9631, 'bashed': 9632, 'repaired': 9633, 'payn': 9634, 'putin': 9635, 'eizure': 9636, 'clinton’s': 9637, 'triumphs': 9638, 'beguiled': 9639, 'mcdaid': 9640, 'trashes': 9641, 'karan': 9642, 'nacar': 9643, 'proceeds': 9644, 'copper': 9645, 'maine': 9646, 'tilley': 9647, 'reiterates': 9648, 'insta': 9649, '‘worst': 9650, 'transition': 9651, 'jonas’s': 9652, 'luisana': 9653, 'lopilato': 9654, 'february': 9655, 'moron': 9656, 'delilah': 9657, 'trashtalktv': 9658, 'encouraged': 9659, 'houtout': 9660, 'criss': 9661, 'hocks': 9662, 'musso': 9663, 'eyeopening': 9664, 'econds': 9665, 'readers': 9666, 'wavy': 9667, 'retri': 9668, '48th': 9669, 'colorful': 9670, 'cannavale': 9671, 'yells': 9672, 'percent': 9673, '3minute': 9674, 'masks': 9675, 'kerr’s': 9676, 'pimple': 9677, '“catfight”': 9678, 'dwyane': 9679, 'wades': 9680, 'praised': 9681, 'anorexic': 9682, 'harassing': 9683, 'verbally': 9684, 'ole': 9685, '‘nothing': 9686, 'spa': 9687, 'exfiance': 9688, 'cyru': 9689, 'ambrosio’s': 9690, 'unhappy': 9691, 'vergara’s': 9692, 'thril': 9693, 'dunkin': 9694, 'pleasur': 9695, 'wifties': 9696, 'ble': 9697, 'peterson': 9698, 'palins': 9699, 'baron': 9700, 'dildo': 9701, 'chases': 9702, 'cws': 9703, 'derick': 9704, 'dillard': 9705, 'origins': 9706, 'reyes': 9707, 'michele’s': 9708, 'awaken': 9709, 'discover': 9710, 'heritage': 9711, 'devito': 9712, 'perfectli': 9713, 'mal': 9714, 'edited': 9715, 'jennings': 9716, 'tish': 9717, 'pumpkins': 9718, 'hunks': 9719, 'hriver': 9720, 'discussing': 9721, 'engelson': 9722, 'boho': 9723, 'vinny': 9724, '2year': 9725, 'cred': 9726, 'mraz': 9727, 'bi': 9728, 'carls': 9729, 'veng': 9730, 'geno': 9731, 'abara': 9732, 'toner': 9733, 'stepfather': 9734, 'zoey': 9735, 'gladiator': 9736, 'and': 9737, 'paddle': 9738, 'boarding': 9739, 'wait’s’': 9740, 'reveng': 9741, 'biggs': 9742, 'eugene': 9743, 'handle': 9744, 'pretti': 9745, 'asham': 9746, 'maloney': 9747, 'cassidi': 9748, 'oprah’s': 9749, 'provide': 9750, 'bavaresco': 9751, 'immons’': 9752, 'culli': 9753, 'jwan': 9754, 'yosef': 9755, 'mckinnons': 9756, 'abbott': 9757, 'mommy': 9758, '‘late': 9759, 'lawn': 9760, 'trimester': 9761, 'che': 9762, 'wilder': 9763, 'wilder’s': 9764, 'kulture': 9765, 'unfortunate': 9766, 'rang': 9767, '“you': 9768, 'excuse': 9769, 'radziwil': 9770, 'evangeline': 9771, 'crotch': 9772, 'josey': 9773, 'superfan': 9774, 'ric': 9775, 'flair': 9776, '‘tough’': 9777, 'ledgers': 9778, 'gypsy': 9779, 'evans’': 9780, 'reduced': 9781, 'keepers': 9782, 'kylar': 9783, 'identity': 9784, 'nintendo': 9785, 'geazy’s': 9786, 'menswear': 9787, 'dramas': 9788, 'dog”': 9789, '85000': 9790, '61': 9791, 'rinnas': 9792, 'gav': 9793, 'kelis': 9794, 'violetta': 9795, 'komyshan': 9796, 'diving': 9797, 'gordonlevitt': 9798, 'tasha': 9799, 'mccauley': 9800, '‘man': 9801, 'muggles': 9802, 'nip': 9803, 'chrissi': 9804, 'contessa': 9805, 'heartbeat': 9806, 'fonsis': 9807, 'uas': 9808, 'cloak': 9809, 'commerce': 9810, 'wayans': 9811, 'clayne': 9812, 'logue': 9813, 'luthaming': 9814, 'hoppys': 9815, '‘insecure’': 9816, '201718': 9817, 'tv’': 9818, 'raves': 9819, 'hardest': 9820, 'diverse': 9821, 'paycheck': 9822, 'hash': 9823, 'octob': 9824, 'wizards': 9825, 'playful': 9826, 'challenging': 9827, 'pat': 9828, 'mcgraths': 9829, 'palettes': 9830, 'hatner': 9831, 'kelechi': 9832, 'wonderful': 9833, 'hane': 9834, 'predators': 9835, 'ruffled': 9836, 'utterly': 9837, 'impressive': 9838, 'tonights': 9839, 'rangers': 9840, '97': 9841, '“time': 9842, 'tranded': 9843, 'body’': 9844, 'contestant’s': 9845, 'ugarland': 9846, 'kintight': 9847, 'unit': 9848, 'robbie’s': 9849, 'nearfatal': 9850, 'guthries': 9851, 'topher': 9852, 'hinshaw': 9853, 'mabel': 9854, '“dancing': 9855, 'tars”': 9856, 'bensons': 9857, 'piven': 9858, 'hansen': 9859, 'conflicted': 9860, 'robb': 9861, 'swaps': 9862, 'comfy': 9863, 'o’brien': 9864, 'sexuality': 9865, '‘women': 9866, 'pep': 9867, 'conquering': 9868, 'parnes': 9869, 'asians': 9870, 'directly': 9871, 'asian': 9872, 'adie': 9873, 'robertson': 9874, 'waldo': 9875, 'catania': 9876, 'flicker': 9877, 'store': 9878, 'bodybuilding': 9879, 'rubber': 9880, 'lovebirds': 9881, 'poppe': 9882, 'wide': 9883, 'receiver': 9884, 'marquise': 9885, 'touchdown': 9886, 'rhythm': 9887, 'traff': 9888, '40pound': 9889, 'kemp': 9890, 'wintours': 9891, 'haffer': 9892, 'kinnygirl': 9893, 'mckenzie': 9894, 'mahoney': 9895, 'michaels': 9896, 'uite': 9897, 'int': 9898, 'procedur': 9899, 'demanded': 9900, 'heathers': 9901, 'ob': 9902, 'exercises': 9903, 'i’d': 9904, 'egot': 9905, 'time”': 9906, 'posturgery': 9907, 'offthehoulder': 9908, 'detained': 9909, 'pollard': 9910, 'prime': 9911, 'anz': 9912, 'captions': 9913, 'spice': 9914, 'latte': 9915, 'handing': 9916, 'janice': 9917, 'dickinson': 9918, 'bankruptci': 9919, 'stitch': 9920, 'wiz': 9921, '14yearold': 9922, 'notoecret': 9923, 'backstory': 9924, 'crisis’': 9925, 'ummers': 9926, 'morbid': 9927, 'opportunity': 9928, 'stepping': 9929, 'afar': 9930, '‘murder': 9931, 'drugs’': 9932, 'aiko': 9933, 'saint': 9934, 'breasts': 9935, 'mackie': 9936, 'entencing': 9937, 'hackers': 9938, 'truecrime': 9939, 'carter’s': 9940, 'fearlessli': 9941, 'grins': 9942, 'potifi': 9943, 'baker': 9944, 'outraged': 9945, 'dos': 9946, '‘it’': 9947, 'theaters': 9948, 'appétit': 9949, 'mug': 9950, '‘happy’': 9951, 'fulfill': 9952, 'poseoff': 9953, 'innoc': 9954, 'latavia': 9955, 'roberson': 9956, 'kress': 9957, 'saves': 9958, 'careers': 9959, 'wildlife': 9960, 'endangered': 9961, 'talents': 9962, 'cowells': 9963, 'prais': 9964, 'glorious': 9965, 'surreal': 9966, 'feared': 9967, 'lippers': 9968, 'combines': 9969, 'classless': 9970, 'eid': 9971, 'mccord': 9972, 'henae': 9973, 'pursue': 9974, 'treatments': 9975, 'tarstruck': 9976, 'scoop': 9977, 'cuteness': 9978, 'martina': 9979, 'ihop': 9980, 'ihob': 9981, 'prevention': 9982, 'hayn': 9983, 'mediterranean': 9984, 'heavy': 9985, 'trilog': 9986, '43rd': 9987, '74': 9988, 'kamilla': 9989, 'osman': 9990, 'checkpoint': 9991, 'peppi': 9992, 'harrelson': 9993, 'maries': 9994, 'nikkis': 9995, 'lochtes': 9996, 'chick': 9997, 'elli': 9998, '‘ghosts’': 9999, 'climbed': 10000, 'condemns': 10001, 'jackets': 10002, 'relationhep': 10003, 'dwt’': 10004, 'sexcult': 10005, 'mckees': 10006, 'hakur': 10007, 'joker': 10008, 'gia': 10009, 'companion': 10010, 'kilmer': 10011, 'crying’': 10012, '23rd': 10013, 'aget': 10014, 'ravenymone': 10015, 'whispered': 10016, 'ashleys': 10017, 'hailey’s': 10018, 'users': 10019, 'mulligan': 10020, 'brock': 10021, 'io': 10022, 'ruthie': 10023, 'night’s': 10024, 'marcus': 10025, 'antonio': 10026, 'kellys': 10027, 'macfarlane': 10028, 'culberson': 10029, 'enior': 10030, 'kapostasy': 10031, 'ultraromantic': 10032, 'planes': 10033, 'islands': 10034, 'blackstock': 10035, '‘younger’': 10036, 'newman': 10037, 'mom’': 10038, 'alanis': 10039, 'castm': 10040, 'chop': 10041, '3s': 10042, 'muniz': 10043, 'haddishs': 10044, 'inlaws': 10045, 'triggers': 10046, 'manzo': 10047, 'ambien': 10048, 'macks': 10049, 'twitp': 10050, '‘blade': 10051, 'cifi': 10052, 'eileen': 10053, 'partn': 10054, 'edie': 10055, 'falco': 10056, 'closeddoor': 10057, 'glov': 10058, '1989': 10059, 'pride': 10060, '‘hape': 10061, 'water’': 10062, 'negrotti': 10063, 'recreating': 10064, 'outpouring': 10065, 'tanley': 10066, 'choir': 10067, 'drugstor': 10068, 'treeps': 10069, 'mismatched': 10070, 'rauch': 10071, 'pul': 10072, 'jemima': 10073, 'britains': 10074, 'erratos': 10075, 'imperson': 10076, 'hype': 10077, 'giancola': 10078, 'caitriona': 10079, 'castmates': 10080, 'upported': 10081, 'bailon': 10082, 'matthews’': 10083, 'jayne’s': 10084, 'photography': 10085, 'heet': 10086, 'bips': 10087, 'calafior': 10088, 'sews': 10089, 'abbi': 10090, 'lipyncing': 10091, '‘corpion’': 10092, 'indicates': 10093, 'crowns': 10094, 'dauriac': 10095, 'budapest': 10096, 'deliveri': 10097, 'diddys': 10098, 'comm': 10099, 'akins': 10100, 'vice': 10101, 'reid': 10102, 'convention': 10103, 'uptons': 10104, 'pryor’s': 10105, 'brando': 10106, 'palermo': 10107, 'govan': 10108, 'woman’s': 10109, 'chrisley’s': 10110, 'lifted': 10111, '“life': 10112, 'molesting': 10113, 'reg': 10114, 'navy': 10115, 'krugers': 10116, 'foreign': 10117, 'behold': 10118, 'versace’s': 10119, 'portray': 10120, 'vartan': 10121, 'conflict': 10122, 'crockpot': 10123, 'unfiltered': 10124, 'covfefe': 10125, 'giv': 10126, 'labeled': 10127, 'lolo': 10128, 'haiti': 10129, 'bronze': 10130, 'apps': 10131, 'apron': 10132, 'suddenly': 10133, 'ponders': 10134, 'sandwich': 10135, 'headshot': 10136, 'bottoms': 10137, 'cocktails': 10138, 'responsible': 10139, 'conditioner': 10140, 'commented': 10141, 'geazys': 10142, 'cosmopolitan': 10143, '‘brooklyn': 10144, 'ninenine’': 10145, 'blend': 10146, 'dierks': 10147, 'curvy': 10148, 'crofano': 10149, 'debnamcarey': 10150, 'is…': 10151, 'alias': 10152, 'ips': 10153, 'fergie’s': 10154, 'disappear': 10155, '8yearold': 10156, 'helenas': 10157, 'jonny': 10158, 'essenti': 10159, 'rises': 10160, 'rog': 10161, 'pressly': 10162, 'limbs': 10163, 'injuries': 10164, 'unreal': 10165, 'anywhere': 10166, 'protocol': 10167, 'mat': 10168, 'glori': 10169, 'oriordan': 10170, 'meredith': 10171, 'essence': 10172, 'wisin': 10173, 'yandel': 10174, 'bling': 10175, 'internal': 10176, 'picturesque': 10177, 'maya': 10178, 'rudolph': 10179, 'fakeri': 10180, 'maverick’': 10181, 'longawaited': 10182, 'firt': 10183, 'frenzi': 10184, 'malfunctions': 10185, 'vocabulari': 10186, 'lind': 10187, 'defenders': 10188, 'go”': 10189, 'neaker': 10190, 'georg': 10191, 'beatrice': 10192, 'buckley': 10193, 'prefers': 10194, 'rec': 10195, 'cyborg': 10196, 'brittainy': 10197, 'tweeted': 10198, 'henry’s': 10199, 'reporters': 10200, 'bartoli': 10201, '‘got': 10202, 'annable': 10203, 'wisely': 10204, 'adrift': 10205, 'kutch': 10206, 'portmans': 10207, 'clay': 10208, 'chwartz': 10209, 'nom': 10210, 'justified': 10211, 'prettymuch': 10212, 'pins': 10213, 'route': 10214, 'pite': 10215, 'hartleys': 10216, 'chrishell': 10217, 'bareilles': 10218, 'lasso': 10219, 'escape': 10220, 'oped': 10221, 'jose': 10222, 'baston': 10223, 'comedians': 10224, 'sobriety': 10225, 'chum': 10226, '6yearold': 10227, 'rené': 10228, 'riot': 10229, 'ambrosios': 10230, 'prepared': 10231, 'outcri': 10232, 'bearmcclard': 10233, 'bb8': 10234, 'inspir': 10235, 'charlene': 10236, 'pade’s': 10237, 'genz': 10238, 'resident': 10239, 'floribama': 10240, 'carlet': 10241, 'undecided': 10242, 'enter': 10243, 'tind': 10244, 'ebbing': 10245, 'designed': 10246, 'encount': 10247, 'crim': 10248, 'leslies': 10249, 'cale': 10250, 'argue': 10251, 'henrik': 10252, 'cape': 10253, 'pleaded': 10254, 'window': 10255, 'graduation': 10256, '‘bitch': 10257, 'oak': 10258, '”i’m': 10259, 'calafiore': 10260, 'lansbury': 10261, 'resumes': 10262, 'pileup': 10263, 'mirrorball': 10264, 'trophi': 10265, 'exclusively': 10266, 'howtim': 10267, 'rodríguez': 10268, 'pledge': 10269, 'gorga': 10270, 'fearless': 10271, 'zs': 10272, 'cenery': 10273, 'jawdropp': 10274, 'attraction': 10275, 'remembered': 10276, 'maintains': 10277, '300lb': 10278, 'bardot': 10279, 'mccormack': 10280, 'fixing': 10281, 'dascha': 10282, 'polanco': 10283, 'help’': 10284, '‘deep': 10285, 'dive’': 10286, 'kyle’s': 10287, 'nov': 10288, '4200': 10289, 'cheryl’s': 10290, 'halloweenthemed': 10291, 'lightweight': 10292, 'incredibly': 10293, 'pout': 10294, 'mackenle': 10295, 'husband’s': 10296, 'justice’': 10297, 'thornton': 10298, 'urrounding': 10299, 'fav': 10300, 'controversies': 10301, 'ballerina': 10302, 'uniforms': 10303, 'kiyokos': 10304, 'excit': 10305, 'earn': 10306, 'fan’s': 10307, 'cystic': 10308, 'cohosting': 10309, 'carney': 10310, 'dunhams': 10311, 'urgeries': 10312, 'preemptive': 10313, '1950s': 10314, 'friendships': 10315, 'byrne': 10316, 'rude': 10317, 'comparing': 10318, 'teu': 10319, 'pajamas': 10320, 'shamers': 10321, 'horoscope': 10322, 'chools': 10323, 'vir': 10324, 'matched': 10325, 'corden’s': 10326, 'expanding': 10327, 'vili': 10328, 'vj': 10329, 'loretta': 10330, 'devine': 10331, 'anybody': 10332, 'wint': 10333, 'weddings': 10334, 'lainie': 10335, 'geniu': 10336, 'heds': 10337, 'oday': 10338, 'teaming': 10339, 'corcoran': 10340, 'hurdl': 10341, 'colberts': 10342, 'aguilera’s': 10343, 'andré': 10344, 'quizzed': 10345, 'dalton': 10346, 'cookie': 10347, 'intro': 10348, 'name’': 10349, 'horrifying': 10350, 'pumping': 10351, 'standard': 10352, 'machine': 10353, 'barn': 10354, 'decks': 10355, 'lifts': 10356, 'span': 10357, 'geazi': 10358, 'friend’s': 10359, 'quincy': 10360, 'takeov': 10361, 'lim': 10362, 'brittani': 10363, 'republ': 10364, '125': 10365, 'dine': 10366, 'engage': 10367, '“final': 10368, 'traw”': 10369, 'partial': 10370, 'ense8': 10371, 'twohour': 10372, 'airs': 10373, 'skit': 10374, 'vu’s': 10375, 'curb': 10376, 'govern': 10377, 'vagina”': 10378, 'romanced': 10379, 'libel': 10380, 'reinvent': 10381, 'depaola': 10382, 'entertainer': 10383, 'crutches': 10384, 'bullet': 10385, 'challenge’': 10386, 'auctioned': 10387, 'kelly’': 10388, 'cardiac': 10389, '‘meltdown’': 10390, 'legend’s': 10391, 'brat': 10392, 'lipsticks': 10393, 'thackery': 10394, 'binx': 10395, 'schools': 10396, 'classy': 10397, 'frozens': 10398, 'the…': 10399, 'gorilla': 10400, 'bounce': 10401, 'behrs': 10402, 'grieves': 10403, 'monteith': 10404, 'minka': 10405, 'kye': 10406, 'nilsson': 10407, 'byrn': 10408, '‘la': 10409, 'lighter': 10410, 'witherspoon’s': 10411, 'dale': 10412, 'earnhardt': 10413, 'reigning': 10414, 'matchmak': 10415, 'bettys': 10416, 'possibly': 10417, 'historymaking': 10418, 'ongstress': 10419, 'cinnamon': 10420, 'recipe': 10421, 'batteri': 10422, 'barrymores': 10423, 'theater': 10424, 'jacobs': 10425, 'karen': 10426, 'sens': 10427, 'fad': 10428, 'kushn': 10429, 'cmas': 10430, 'chnapp': 10431, 'grants': 10432, 'choos': 10433, 'bralette': 10434, 'seethrough': 10435, '2nd': 10436, 'chemo': 10437, 'liuget': 10438, 'recasting': 10439, 'fainted': 10440, 'jaw': 10441, 'retouching': 10442, 'pajama': 10443, 'cracks': 10444, 'molested': 10445, 'andi': 10446, 'dorfman': 10447, 'portrayed': 10448, 'elves': 10449, 'featurette': 10450, 'revolut': 10451, 'damaging': 10452, 'gretchen': 10453, 'war’s': 10454, 'officer': 10455, 'stats': 10456, '71st': 10457, 'dga': 10458, 'kellie': 10459, 'crown’s': 10460, 'cami': 10461, 'ilvestre': 10462, 'waterproof': 10463, 'nyong’o’s': 10464, 'westworld’s': 10465, 'bambi': 10466, 'tyling': 10467, 'plots': 10468, 'attacker': 10469, 'besti': 10470, 'tmz': 10471, 'chyna’s': 10472, '‘bye': 10473, 'evas': 10474, 'guitar': 10475, 'marquardt': 10476, 'perry39s': 10477, 'european': 10478, 'urv': 10479, 'herri': 10480, '10m': 10481, 'reinhardt': 10482, 'ledger’s': 10483, 'barry': 10484, 'palmer': 10485, 'bachelortyle': 10486, 'layed': 10487, 'dealt': 10488, 'kesha’s': 10489, 'nephews': 10490, 'astros': 10491, '‘thor': 10492, 'ragnarok’': 10493, 'connie': 10494, 'britton': 10495, '‘charmed’': 10496, 'herrington': 10497, 'downside': 10498, 'mokey': 10499, 'hicks': 10500, 'evalu': 10501, 'classroom': 10502, 'hosk': 10503, 'pitting': 10504, '‘izombie’': 10505, 'copeland': 10506, 'happen”': 10507, 'flipped': 10508, 'mud': 10509, 'goops': 10510, 'angels': 10511, 'frenzy': 10512, 'crashing': 10513, 'belly': 10514, 'eventh': 10515, 'kelly’s': 10516, 'retrial': 10517, 'tinder': 10518, 'recreation': 10519, 'haylie': 10520, 'felicitys': 10521, 'blaming': 10522, 'peru': 10523, 'fa': 10524, 'takeaways': 10525, 'dead’s': 10526, 'katelyn': 10527, 'son’s': 10528, 'massage': 10529, 'hennessy': 10530, 'haunts': 10531, 'fatu': 10532, 'olution': 10533, 'blissful': 10534, 'lyle': 10535, 'cnco': 10536, 'paean’': 10537, 'beguil': 10538, 'cassidys': 10539, 'obtains': 10540, 'femin': 10541, 'donated': 10542, 'traffic': 10543, '101': 10544, 'activists': 10545, 'germany': 10546, 'probst': 10547, 'thrilling': 10548, 'literal': 10549, 'asa': 10550, 'oltan': 10551, 'rahmati': 10552, 'kier': 10553, '‘carpool': 10554, 'karaoke’': 10555, 'drowning': 10556, 'mine': 10557, 'drank': 10558, 'abba': 10559, 'speaking': 10560, 'bry': 10561, 'tirs': 10562, 'nostalgia': 10563, 'vibe': 10564, 'homestretch': 10565, 'initiative': 10566, 'diagnosed': 10567, 'earrings': 10568, 'hosted': 10569, 'rais': 10570, 'dismissed': 10571, 'uber': 10572, 'remarkable': 10573, 'elgort’s': 10574, 'creed': 10575, 'handsy': 10576, 'eaon': 10577, 'e’': 10578, 'erie': 10579, 'polarizing': 10580, 'lancaster': 10581, 'keeganmichael': 10582, 'elisa': 10583, 'puglies': 10584, 'ailing': 10585, 'parr': 10586, 'champlin': 10587, 'maroneys': 10588, 'roland': 10589, 'mouret': 10590, 'khloes': 10591, 'keys’': 10592, 'trailblazers': 10593, 'hensons': 10594, 'eldredge': 10595, 'chills': 10596, 'wilkinsonbaskett': 10597, 'aulii': 10598, 'cravalho': 10599, 'inaba': 10600, 'hap': 10601, 'wizarding': 10602, 'zack': 10603, 'nyder': 10604, 'parrots': 10605, 'amazingly': 10606, 'pousal': 10607, 'tender': 10608, 'migrant': 10609, 'purses': 10610, 'indictment': 10611, 'bonner': 10612, 'bolton': 10613, 'harna': 10614, 'placenta': 10615, 'practice': 10616, 'livetweeting': 10617, 'burnham’s': 10618, 'cosies': 10619, 'fascin': 10620, 'cancelling': 10621, '86': 10622, 'idomex': 10623, 'manage': 10624, 'czuchry': 10625, 'exfi': 10626, 'degrees': 10627, 'parade': 10628, 'association': 10629, 'cuter': 10630, 'goofy': 10631, 'mund': 10632, 'drunkest': 10633, 'ept': 10634, 'macht': 10635, 'dykstra': 10636, 'warrant': 10637, 'eissa': 10638, 'feed': 10639, 'cooke': 10640, 'vinessa': 10641, 'hollaback': 10642, 'decorations': 10643, 'fisch': 10644, 'moran': 10645, 'ingalong': 10646, 'appl': 10647, 'impersonator': 10648, 'cripted': 10649, 'waffle': 10650, '01e01': 10651, 'conner': 10652, 'ferrara': 10653, 'breanne': 10654, 'racano': 10655, 'grandmas': 10656, 'stable': 10657, 'wentz': 10658, 'colt': 10659, 'dote': 10660, 'e’s': 10661, 'madam': 10662, 'ecretari': 10663, 'gofundme': 10664, 'wishing': 10665, 'perfectionists': 10666, 'lady”': 10667, 'championship': 10668, 'cass': 10669, 'bodypositive': 10670, 'finesse': 10671, 'politically': 10672, '69': 10673, 'cavill': 10674, 'convict': 10675, 'toback’s': 10676, 'breastfeeds': 10677, 'cassadee': 10678, 'birdi': 10679, 'carla': 10680, 'bruni': 10681, 'channeled': 10682, 'erupt': 10683, 'fiesta': 10684, 'magazine’s': 10685, '“exiest': 10686, 'predicts': 10687, 'docs': 10688, 'naked’': 10689, 'couts': 10690, 'sudden': 10691, 'fields': 10692, 'us”': 10693, 'awareness': 10694, 'tressful': 10695, 'revolution': 10696, 'pk': 10697, 'congratulated': 10698, 'morn': 10699, '‘candal’’how': 10700, '‘htgawm’': 10701, 'kidnap': 10702, 'flashbacks': 10703, '4yearold': 10704, 'onstag': 10705, '8000': 10706, 'thriller': 10707, 'locked': 10708, 'hilfiger': 10709, 'upfront': 10710, 'macy': 10711, 'hoe': 10712, 'fosters': 10713, 'omehow': 10714, 'cosbys': 10715, 'disturbance': 10716, 'meant': 10717, 'performer': 10718, '2010': 10719, 'depressing': 10720, 'weatherman': 10721, 'daly': 10722, 'opt': 10723, 'kroeg': 10724, 'tvline': 10725, 'doves': 10726, 'hah': 10727, 'imilar': 10728, 'wrongful': 10729, 'luddington': 10730, 'timely': 10731, 'kating': 10732, 'kazakhstan': 10733, 'tmi': 10734, 'undressed': 10735, 'esparza': 10736, 'brooch': 10737, 'sartorial': 10738, 'coords': 10739, 'confronting': 10740, 'tenley': 10741, 'molzahn': 10742, 'morans': 10743, 'liquid': 10744, 'breath': 10745, 'lawmaker': 10746, 'roem': 10747, 'creams': 10748, 'targets': 10749, 'mowri': 10750, 'turner’s': 10751, 'wept': 10752, 'tgif': 10753, 'matters': 10754, 'rebooted': 10755, 'bears': 10756, 'gerbers': 10757, 'nypd': 10758, 'hashimotos': 10759, 'nevada': 10760, 'roseannes': 10761, 'ánchez': 10762, 'petsch': 10763, 'maf': 10764, 'onia': 10765, 'granados': 10766, 'recites': 10767, 'weaty': 10768, 'trapeze': 10769, 'aquaria': 10770, 'pansexu': 10771, 'nashvil': 10772, 'pos': 10773, 'lunas': 10774, 'barney': 10775, 'manicure': 10776, 'hasty': 10777, 'rookie': 10778, 'wanna': 10779, 'logic': 10780, 'razzie': 10781, 'counts': 10782, 'pornographi': 10783, 'auctioning': 10784, 'pageant': 10785, 'deepli': 10786, 'egerton': 10787, 'caldwell': 10788, 'rhodes': 10789, 'flash’': 10790, 'gabourey': 10791, 'idibe': 10792, 'liner': 10793, 'organ': 10794, 'polici': 10795, '‘rhoc’': 10796, 'honoree': 10797, 'flagg': 10798, 'trudeau': 10799, 'puzzle': 10800, 'cage': 10801, 'ituation’': 10802, 'sob': 10803, 'indonesia': 10804, 'q': 10805, 'promotion': 10806, 'keyshia': 10807, 'kaoir': 10808, 'memo': 10809, 'guy’': 10810, 'hurleys': 10811, 'makeawish': 10812, 'temple': 10813, 'electric': 10814, 'hysteria': 10815, 'wond': 10816, 'montags': 10817, 'bavarescos': 10818, 'malumas': 10819, 'evacuate': 10820, 'fashions': 10821, 'michelangelo': 10822, 'blockbust': 10823, 'fetish': 10824, 'paint': 10825, 'grace”': 10826, 'junglethemed': 10827, 'hinee': 10828, '30year': 10829, 'bik': 10830, 'rife': 10831, 'alejandra': 10832, 'otis': 10833, 'lopes': 10834, 'buckn': 10835, 'hirts': 10836, 'orlean': 10837, 'back’': 10838, 'brendon': 10839, 'ummerlam': 10840, 'grammers': 10841, 'mattel': 10842, 'cabellos': 10843, 'colour': 10844, 'smal': 10845, 'often': 10846, 'identify': 10847, 'snow': 10848, 'boyband': 10849, '42nd': 10850, 'pantsless': 10851, 'equin': 10852, 'nativity': 10853, 'effects': 10854, 'verbal': 10855, 'disneyland’s': 10856, 'shaved': 10857, 'patriot': 10858, 'weep': 10859, 'hump': 10860, 'jock': 10861, 'berrys': 10862, 'adventurous': 10863, 'trues': 10864, 'ailor': 10865, 'davy': 10866, 'taye': 10867, 'diggs': 10868, 'emmynominated': 10869, 'millenni': 10870, 'testimony': 10871, 'impsonross': 10872, 'celebinspired': 10873, 'kluth': 10874, 'rachels': 10875, 'revamps': 10876, 'shakes': 10877, '‘eric': 10878, 'jessie’': 10879, '1993': 10880, 'cast’s': 10881, 'koresh': 10882, 'kitsch': 10883, 'reminisces': 10884, 'runaways': 10885, '13yearold': 10886, 'jaspers': 10887, 'bayer': 10888, '‘valor’': 10889, 'dukes': 10890, 'targaryen’s': 10891, 'intagram': 10892, '”i': 10893, 'universal': 10894, 'longlost': 10895, 'izombie': 10896, 'outrage': 10897, '‘why': 10898, 'deleting': 10899, 'anillo': 10900, 'brown’': 10901, 'angri': 10902, 'mixes': 10903, 'coconut': 10904, 'aja': 10905, 'cheyenne': 10906, 'alling’s': 10907, 'pulitzer': 10908, 'eries’': 10909, 'barulich': 10910, 'sound': 10911, 'kai': 10912, 'rhoa’s': 10913, 'overboard': 10914, 'bassett': 10915, 'nacho': 10916, '‘veep’': 10917, 'tca': 10918, 'grandchildren': 10919, 'baranski': 10920, 'documents': 10921, 'arianas': 10922, 'missguided': 10923, 'versaces': 10924, 'toxicology': 10925, 'lynda': 10926, 'geoffrey': 10927, 'hylands': 10928, 'glaad': 10929, 'chainz': 10930, 'alice': 10931, 'hake': 10932, 'barelythere': 10933, 'charts': 10934, 'mourning': 10935, 'feisty': 10936, 'hotels': 10937, 'kelvin': 10938, 'blanca': 10939, 'tarts': 10940, 'crosswalk': 10941, 'genie': 10942, 'ayers': 10943, 'project’': 10944, 'vid': 10945, 'ft': 10946, 'footsteps': 10947, 'expresses': 10948, 'ditched': 10949, '“more': 10950, '‘agents': 10951, 'hield’': 10952, 'dynam': 10953, 'dreaming': 10954, 'riffoff': 10955, 'celebrations': 10956, 'aggressive': 10957, 'prostate': 10958, 'goldsmith': 10959, 'tags': 10960, 'consoles': 10961, 'patriots’': 10962, 'athlete': 10963, 'iis': 10964, 'granddaughter': 10965, 'her”': 10966, 'merchandise': 10967, 'palermos': 10968, 'xxxtentacion': 10969, 'mehra': 10970, 'carriage': 10971, 'ty': 10972, 'taged': 10973, 'teenagers’': 10974, 'grimmies': 10975, 'troop': 10976, 'disappeared': 10977, 'decode': 10978, 'porterbenson': 10979, 'ankl': 10980, 'orkin': 10981, 'garcía': 10982, 'allblack': 10983, 'pirelli': 10984, 'garçon': 10985, 'bridges': 10986, 'shortest': 10987, 'bundy': 10988, 'rewind': 10989, 'chapel': 10990, '‘uncomfortable’': 10991, 'ness': 10992, 'minus': 10993, 'mourned': 10994, 'kenan': 10995, '“very': 10996, 'highly': 10997, 'infect': 10998, 'larsa': 10999, 'pippen': 11000, 'winstead': 11001, 'wendy’s': 11002, 'giraffes': 11003, 'view’s': 11004, 'milestone': 11005, 'purlock': 11006, 'marts': 11007, 'oosterhouse': 11008, 'untangling': 11009, 'waited': 11010, 'giggle': 11011, 'ort': 11012, 'napier': 11013, 'tability': 11014, '‘olo’': 11015, 'jumanji': 11016, 'se': 11017, 'toddler': 11018, 'mamas': 11019, 'gonzales': 11020, 'cection': 11021, 'new’': 11022, 'gods': 11023, 'overal': 11024, 'nhl': 11025, 'princes': 11026, 'penni': 11027, 'earns': 11028, 'extensions': 11029, '6000': 11030, 'carpets': 11031, 'personally': 11032, 'troubles': 11033, 'imply': 11034, 'playfully': 11035, 'snuggles': 11036, 'behaving': 11037, 'badly’': 11038, 'ihm': 11039, 'anchors': 11040, 'marcil': 11041, 'cakes': 11042, 'slightly': 11043, 'auntie': 11044, 'kendricks': 11045, 'wor': 11046, 'strok': 11047, 'philosophy': 11048, 'ronan’s': 11049, 'erica': 11050, 'transpar': 11051, 'brokeback': 11052, 'trilogy': 11053, 'arrowvers': 11054, 'innovative': 11055, 'krakowski': 11056, 'india': 11057, 'villains': 11058, 'salary': 11059, 'pike': 11060, 'weekends': 11061, 'ignite': 11062, 'eps': 11063, '92': 11064, 'arraignment': 11065, 'ur': 11066, 'pd': 11067, 'dotes': 11068, 'crapped': 11069, 'keepers’': 11070, '‘making': 11071, 'murderer’': 11072, 'kenney': 11073, 'omebody': 11074, '2004': 11075, '109': 11076, 'alway': 11077, 'aldanas': 11078, '‘flash’': 11079, '‘upergirl’': 11080, 'kreisberg': 11081, 'bible': 11082, 'accidents': 11083, 'rethink': 11084, 'tanton’s': 11085, 'ingleeason': 11086, 'mayo': 11087, 'owes': 11088, 'graham’s': 11089, 'destini': 11090, 'veronika': 11091, 'mehras': 11092, 'consuelo': 11093, 'puppies': 11094, 'parker’s': 11095, 'condolences': 11096, 'fountains': 11097, 'hushing': 11098, 'peed': 11099, 'commentari': 11100, 'thoma': 11101, 'booted': 11102, 'garfields': 11103, 'unsuspecting': 11104, 'achiev': 11105, 'fuel': 11106, 'absence': 11107, 'uperlatives': 11108, 'moschino': 11109, 'pancakes': 11110, 'ciaras': 11111, 'topshop': 11112, 'mugshot': 11113, 'hopefully': 11114, 'boos': 11115, 'days’': 11116, 'mutant': 11117, 'rollercoaster': 11118, 'exotic': 11119, 'fallwinter': 11120, 'kiyoko': 11121, 'tonedeaf': 11122, 'bonus': 11123, 'struggl': 11124, 'glossy': 11125, 'tinted': 11126, 'retrospective': 11127, 'rowan': 11128, 'blanchard': 11129, 'piqués': 11130, '”you': 11131, 'kidd': 11132, 'belle': 11133, 'moët': 11134, 'brink': 11135, 'clearly': 11136, 'hasselhoff': 11137, 'butterfli': 11138, 'madcap': 11139, 'hfpa': 11140, 'murderer': 11141, 'conover': 11142, 'kebbels': 11143, 'butchers': 11144, 'mcgregors': 11145, 'penélope': 11146, 'jan': 11147, 'dodgeball': 11148, 'suits': 11149, 'labeoufs': 11150, 'claus': 11151, 'freedom': 11152, '16hour': 11153, 'egyptian': 11154, 'cully': 11155, 'unfollows': 11156, 'dared': 11157, 'hoped': 11158, 'tours': 11159, 'frappuccinos': 11160, 'elfish': 11161, 'pace': 11162, 'maloneychwartz': 11163, 'rory': 11164, 'readi': 11165, 'silly': 11166, 'exmanagers': 11167, 'benoist': 11168, 'firsttime': 11169, 'snake': 11170, 'hike': 11171, '‘orange': 11172, '‘ellen’': 11173, '29th': 11174, 'mast': 11175, 'bowman': 11176, 'piggi': 11177, 'haims': 11178, 'people’': 11179, 'gamechanging': 11180, 'mooth': 11181, 'dri': 11182, 'naomie': 11183, 'olindo': 11184, 'antman': 11185, 'harpers': 11186, 'royalti': 11187, 'xray': 11188, 'device': 11189, 'suspension': 11190, 'tardom': 11191, 'beautyzoninfo': 11192, 'indefinite': 11193, 'pushat': 11194, 'snubs': 11195, 'urreal': 11196, 'signature': 11197, 'valerie': 11198, 'jarrett': 11199, 'explaining': 11200, '‘every': 11201, 'pistorius': 11202, 'khal': 11203, 'drogo': 11204, 'bridge': 11205, 'monitor': 11206, 'oitnb': 11207, 'thandie': 11208, 'newspaper': 11209, 'foster’s': 11210, 'belts': 11211, 'please': 11212, 'auction': 11213, 'normally': 11214, 'bj': 11215, 'pettys': 11216, '14month': 11217, 'crimes': 11218, 'unglass': 11219, 'mychael': 11220, 'resembling': 11221, 'overalls': 11222, 'reviving': 11223, 'baftas': 11224, 'kára': 11225, 'dmv': 11226, 'user': 11227, 'lele': 11228, 'trophy': 11229, 'storms': 11230, 'envelope': 11231, '“multiple': 11232, 'assaults”': 11233, 'honeymooning': 11234, 'variety': 11235, 'kemsley': 11236, 'remy': 11237, 'duvernay': 11238, 'mills': 11239, 'suffered': 11240, 'guilt': 11241, 'feeding': 11242, 'felton': 11243, 'wallis': 11244, 'busts': 11245, 'cathy': 11246, 'haircuts': 11247, 'geraldo': 11248, 'etheridge': 11249, 'bord': 11250, 'hakiras': 11251, 'youd': 11252, 'tyles’': 11253, 'cupcake': 11254, '150': 11255, 'nightmares': 11256, 'lagfueled': 11257, '77': 11258, 'latino': 11259, 'eden': 11260, 'assoon': 11261, 'intentions': 11262, 'proving': 11263, 'courtside': 11264, 'kaulitz': 11265, 'ea': 11266, 'bahamas': 11267, 'wickstead': 11268, 'plaid': 11269, 'fighter': 11270, 'uperfans': 11271, 'kyles': 11272, 'inister': 11273, 'excellent': 11274, 'gail': 11275, 'rhetts': 11276, 'hairstylists': 11277, 'cherzinger': 11278, 'anticipated': 11279, 'tact': 11280, 'bradys': 11281, 'demileigh': 11282, 'bumps': 11283, 'gayheart': 11284, 'comforts': 11285, 'luca': 11286, 'crav': 11287, 'colorist': 11288, 'gene': 11289, 'scan': 11290, 'basi': 11291, 'flu': 11292, 'ober': 11293, 'dushku’s': 11294, 'reckless': 11295, 'beach’s': 11296, 'cameron’s': 11297, 'kater': 11298, 'liars’': 11299, 'chers': 11300, 'ixth': 11301, 'hooked': 11302, 'cheerlead': 11303, 'writ': 11304, 'hannity': 11305, 'tennessee': 11306, 'melrose': 11307, 'follows': 11308, 'armed': 11309, 'miami’': 11310, 'marshmello': 11311, 'kimora': 11312, '‘suicide': 11313, 'ignals': 11314, 'hiv': 11315, 'eldest': 11316, 'fainting': 11317, 'countri': 11318, 'ultry': 11319, 'roar': 11320, 'iceland': 11321, 'amthemed': 11322, 'bryiana': 11323, 'growth': 11324, 'applauds': 11325, 'dynasty': 11326, 'lut': 11327, 'lfo': 11328, 'londons': 11329, 'neilson': 11330, 'spoofs': 11331, 'backside': 11332, 'remini’s': 11333, 'cientologist': 11334, 'pierre': 11335, 'teary': 11336, 'uperheroes': 11337, 'oncreen': 11338, 'trim': 11339, 'representation': 11340, 'basketts': 11341, 'unscreens': 11342, 'gesture': 11343, 'samesex': 11344, 'pressures': 11345, 'sk': 11346, 'mckidd': 11347, 'onetep': 11348, 'headtotoe': 11349, 'christmas’': 11350, 'jensen': 11351, 'ackles': 11352, 'ina': 11353, 'td': 11354, 'marmiz': 11355, 'rusev': 11356, '‘firing’': 11357, '‘dance': 11358, 'zachary': 11359, 'baking': 11360, 'beginnings': 11361, 'rossum': 11362, 'woodward': 11363, 'cctv': 11364, 'michelob': 11365, 'linden': 11366, 'vision': 11367, 'ziplines': 11368, 'indiana': 11369, 'alter': 11370, 'andoval': 11371, 'parkles': 11372, 'asylum': 11373, 'transformations': 11374, 'corrects': 11375, 'colombia': 11376, 'neve': 11377, 'ensembl': 11378, 'tradition': 11379, 'wars’': 11380, 'arrests': 11381, 'patterson': 11382, 'urviving': 11383, 'tumble': 11384, 'mall': 11385, '17year': 11386, 'chronological': 11387, 'arrows': 11388, 'potomac': 11389, 'kinnaman': 11390, 'moky': 11391, 'prepon': 11392, 'ordeal': 11393, 'wesley': 11394, 'xmen': 11395, 'concerts': 11396, 'valentino': 11397, 'flavors': 11398, '152': 11399, 'kavanaugh': 11400, 'la’': 11401, 'baby2baby': 11402, '‘rob': 11403, 'big’': 11404, 'black”': 11405, 'abraham’s': 11406, 'complaining': 11407, 'obrieti': 11408, 'greg': 11409, 'messer': 11410, 'beige': 11411, 'fave': 11412, 'burnett': 11413, 'landon': 11414, 'defied': 11415, 'dancer': 11416, 'creating': 11417, 'dazzles': 11418, 'herald': 11419, 'kruger': 11420, 'catchphrases': 11421, 'aran': 11422, 'groups': 11423, '‘colbert’': 11424, 'grahams': 11425, 'andersons': 11426, 'wan': 11427, 'accur': 11428, '‘dynasty’': 11429, 'cks': 11430, 'voight': 11431, 'firth’s': 11432, 'stalk': 11433, 'piritual': 11434, 'parent': 11435, 'zone': 11436, '“divorce”': 11437, 'rosalyn': 11438, 'goldonwude': 11439, 'london’': 11440, 'louder': 11441, 'handles': 11442, '07': 11443, 'polic': 11444, 'horribly': 11445, 'azealia': 11446, 'timelapse': 11447, 'meditation': 11448, 'danai': 11449, 'gurira': 11450, 'chmidts': 11451, 'chefs': 11452, 'woons': 11453, 'insults': 11454, 'alaska': 11455, 'condom': 11456, 'state': 11457, 'photobomb': 11458, '153': 11459, 'midterm': 11460, 'elections': 11461, 'mostwatched': 11462, 'hallmark': 11463, 'benji': 11464, 'passes': 11465, 'brid': 11466, 'progress': 11467, 'raísa': 11468, 'ubstance': 11469, 'utter': 11470, 'thankful': 11471, 'fraser': 11472, 'cheetah': 11473, 'belgium': 11474, 'glennon': 11475, 'disneyfox': 11476, 'hbo’s': 11477, 'potentially': 11478, 'bacterial': 11479, 'directing': 11480, 'twitters': 11481, 'boldest': 11482, 'thorn': 11483, 'discount': 11484, '‘has': 11485, 'apollo’': 11486, 'hardcover': 11487, 'atin': 11488, 'loan': 11489, 'efron’s': 11490, 'danskin': 11491, 'rocha': 11492, 'influenced': 11493, 'eyebrows': 11494, 'uperteas': 11495, 'nicu': 11496, 'alexs': 11497, 'flare': 11498, 'vine': 11499, 'furlan': 11500, 'trunfio': 11501, 'mandalay': 11502, 'harmon': 11503, 'indicted': 11504, '‘family': 11505, 'revives': 11506, 'detector': 11507, 'reminisce': 11508, 'jazzy': 11509, 'estefans': 11510, 'tresses': 11511, 'emmett': 11512, 'dah': 11513, 'failur': 11514, 'best’': 11515, 'ight’s': 11516, 'firefighter': 11517, 'lacks': 11518, 'handbag': 11519, 'milan': 11520, 'jeopardy': 11521, 'out100': 11522, 'cientolog': 11523, 'chen': 11524, 'parliament': 11525, 'decoded': 11526, 'groot': 11527, 'flavor': 11528, 'evelyn': 11529, 'childish': 11530, 'gambino': 11531, 'space': 11532, 'sold': 11533, '‘frozen': 11534, 'hurry': 11535, 'shown': 11536, 'eptemb': 11537, 'herwood': 11538, 'latifah': 11539, 'overdue': 11540, 'tramp': 11541, 'circus': 11542, 'lugo': 11543, 'givenchy': 11544, 'upgrades': 11545, 'boxing': 11546, 'sexism': 11547, 'shirt': 11548, 'patridges': 11549, 'dermatologists': 11550, 'relieving': 11551, '‘hameless’': 11552, 'ohio': 11553, 'palette': 11554, 'finalit': 11555, 'blues': 11556, 'jobs': 11557, '‘babe’': 11558, 'osteen': 11559, 'megachurchs': 11560, 'doors': 11561, 'amell': 11562, 'useless': 11563, '‘look': 11564, 'martinezs': 11565, 'lung': 11566, 'transforms': 11567, 'blonder': 11568, 'officiated': 11569, 'relentlessly': 11570, 'result': 11571, 'ri': 11572, 'stages': 11573, 'purse': 11574, 'tobias': 11575, 'menzies': 11576, 'fantasia': 11577, 'freeforms': 11578, 'muses': 11579, 'hakeups': 11580, 'longoria’s': 11581, 'mooches': 11582, 'howers': 11583, 'updated': 11584, 'motherinlaw': 11585, 'victim’': 11586, 'dug': 11587, 'blue’': 11588, 'weir': 11589, 'farewel': 11590, 'touts': 11591, 'tales': 11592, 'madame': 11593, 'tussauds': 11594, 'papa': 11595, 'daley': 11596, 'javier': 11597, 'bardem': 11598, 'naa': 11599, 'wrot': 11600, 'onset': 11601, 'count': 11602, 'upplies': 11603, '‘jesus': 11604, 'exnba': 11605, 'huntsman': 11606, 'followed': 11607, 'joss': 11608, 'whedon': 11609, 'quintanillas': 11610, 'emas': 11611, 'emt': 11612, 'donut': 11613, 'claudia': 11614, 'ampedro': 11615, 'compl': 11616, 'exception': 11617, 'eacrests': 11618, 'doppelganger': 11619, 'mona': 11620, 'animals': 11621, 'boundaries': 11622, 'chewbacca': 11623, 'animaniacs': 11624, 'lloyd': 11625, 'uggest': 11626, 'berkshir': 11627, 'perrettes': 11628, 'ujprd': 11629, 'hadiest': 11630, 'uitor': 11631, 'fcking': 11632, 'chumer’s': 11633, 'terminally': 11634, 'torylines': 11635, '‘maf’': 11636, 'separate': 11637, 'tests': 11638, 'earp': 11639, 'dewitt': 11640, 'character’s': 11641, 'ightings': 11642, 'raver': 11643, 'courtroom': 11644, '325': 11645, 'wrapped': 11646, 'louis’': 11647, 'drill': 11648, 'anastasia': 11649, 'mauricio': 11650, 'boneta': 11651, 'electra': 11652, 'invas': 11653, 'disrupted': 11654, 'alden': 11655, 'ehrenreich': 11656, 'finland': 11657, 'peth': 11658, 'disguis': 11659, 'cornell’s': 11660, 'playoff': 11661, 'reaching': 11662, 'broadcat': 11663, '4hour': 11664, 'dorothy': 11665, 'entenc': 11666, 'rethinks': 11667, 'buck': 11668, '5’': 11669, 'mchale': 11670, 'interior': 11671, 'kylo': 11672, 'ren': 11673, 'grocery': 11674, 'premio': 11675, 'nuestro': 11676, 'nuptials': 11677, '5yearold': 11678, 'better’': 11679, 'tomorrow': 11680, 'exbiz': 11681, '“not': 11682, 'brooklynn': 11683, 'paces': 11684, 'recipi': 11685, 'giraffe’s': 11686, 'memorials': 11687, 'bul': 11688, 'clone': 11689, 'facinelli': 11690, 'rebuilt': 11691, 'rehearsals': 11692, 'cheney': 11693, 'simpson': 11694, 'brolin’s': 11695, 'cazzie': 11696, 'mountbatten': 11697, 'rated': 11698, '‘tation': 11699, '19’': 11700, 'committee': 11701, 'deschanel': 11702, 'ahol': 11703, 'restless': 11704, 'échame': 11705, 'jackass': 11706, 'tú': 11707, 'walt': 11708, 'spring': 11709, 'pleas': 11710, '‘mary': 11711, 'returns’': 11712, 'dark’': 11713, 'midriff': 11714, 'creepi': 11715, 'hanola': 11716, 'cartwright’s': 11717, 'lasting': 11718, 'ginger': 11719, 'zee': 11720, 'ashe': 11721, 'kacey': 11722, 'eriouly': 11723, 'ummer’s': 11724, '“no': 11725, 'kitchen': 11726, 'oth': 11727, 'oneill': 11728, 'physically': 11729, 'tournament': 11730, 'networks': 11731, 'legaci': 11732, 'tabs': 11733, 'britain’s': 11734, 'ghalichi': 11735, 'ashanti': 11736, '2000s': 11737, 'airplane': 11738, 'imdb': 11739, 'healthi': 11740, 'torn': 11741, 'lonsdale': 11742, 'uperstore': 11743, 'ken': 11744, 'paynes': 11745, 'braids': 11746, 'zuckerberg': 11747, 'hampton': 11748, 'awake': 11749, 'fangirls': 11750, 'flask': 11751, 'channel’s': 11752, '‘andi': 11753, 'mack’': 11754, 'storylin': 11755, 'disguised': 11756, 'radiohead': 11757, 'pottery': 11758, 'sang': 11759, 'flat': 11760, 'extuplets': 11761, 'root': 11762, 'avail': 11763, 'formal': 11764, 'aldeans': 11765, 'leftovers': 11766, 'dusty': 11767, 'coparenting': 11768, 'anderson’s': 11769, 'honoured': 11770, 'vienna': 11771, 'toxicity': 11772, '‘feud’': 11773, 'z1035': 11774, 'kiernan': 11775, 'hipka': 11776, 'roommates': 11777, 'adeles': 11778, 'rehearsal': 11779, 'winfreys': 11780, 'ibley': 11781, 'coles': 11782, 'viewing': 11783, 'compar': 11784, 'shines': 11785, 'houses': 11786, 'valued': 11787, 'gentleman': 11788, 'you”': 11789, 'bodyhamers': 11790, 'memories': 11791, 'houseguest': 11792, 'rhomiami': 11793, 'institute': 11794, 'mistri': 11795, '‘dick': 11796, 'papa”': 11797, 'tub': 11798, 'popcorn': 11799, 'josiah': 11800, 'wanson': 11801, 'elbas': 11802, '100lb': 11803, 'cease': 11804, 'desist': 11805, 'helt': 11806, 'hood': 11807, 'jams': 11808, 'iriano': 11809, 'pences': 11810, 'hiatu': 11811, 'upportive': 11812, 'altman': 11813, 'terribly': 11814, 'waithe': 11815, 'takeover': 11816, 'rottman': 11817, 'delta': 11818, 'minimes': 11819, 'anthonys': 11820, 'carborough': 11821, 'curri': 11822, 'orry’': 11823, 'diazs': 11824, 'palett': 11825, 'great’': 11826, 'abotage': 11827, 'witches': 11828, 'ludacris': 11829, 'freebies': 11830, 'duos': 11831, 'thus': 11832, 'helicopter': 11833, 'playboys': 11834, 'harmoni': 11835, 'trangest': 11836, 'hirtdress': 11837, 'reigns': 11838, 'colored': 11839, 'wanda': 11840, 'notice': 11841, 'gains': 11842, 'hemorrhag': 11843, 'tied': 11844, 'harknado': 11845, 'donations': 11846, 'pivarnick': 11847, 'desiree': 11848, 'mani': 11849, 'stabbing': 11850, 'grandkids': 11851, 'ubscribers': 11852, 'popup': 11853, 'zelda': 11854, 'ears': 11855, 'decad': 11856, 'convincing': 11857, 'republican': 11858, 'uzette': 11859, 'logo': 11860, 'gut': 11861, 'behind’': 11862, 'defeat': 11863, 'kirts': 11864, 'ingapor': 11865, 'boxes': 11866, 'callie': 11867, 'torr': 11868, 'teams': 11869, 'erected': 11870, 'hepards': 11871, 'ax': 11872, 'brief': 11873, 'awe': 11874, 'emerging': 11875, 'aim': 11876, 'kindle': 11877, '‘harknado': 11878, 'rowlands': 11879, 'chemistry’': 11880, 'jfk': 11881, 'tybee': 11882, '‘atan': 11883, 'misunderstood’': 11884, 'fostering': 11885, 'grahamcassidy': 11886, 'ipping': 11887, 'militarylike': 11888, 'sexiest': 11889, 'usual': 11890, 'scowling': 11891, 'wick': 11892, '‘robsten’': 11893, 'ordering': 11894, 'watting': 11895, 'clarifi': 11896, 'bl': 11897, 'fuming’': 11898, 'maker': 11899, 'royalinspired': 11900, 'assange': 11901, 'massmedia': 11902, 'purnell': 11903, '‘name': 11904, 'booker': 11905, 'kaling’s': 11906, 'craps': 11907, '‘shamelessly': 11908, 'flirted’': 11909, 'ptt': 11910, 'larg': 11911, 'caregiver': 11912, '‘expose’': 11913, 'leepovers': 11914, 'intriguing': 11915, 'expectant': 11916, '‘wearing': 11917, 'fur’': 11918, 'cenetealing': 11919, 'emmastone': 11920, 'emmastoneofficial': 11921, 'emmastones': 11922, 'emmastonearmy': 11923, 'emmastoneandandrewgarfield': 11924, 'e…': 11925, 'rearranges': 11926, 'chairs': 11927, 'redacted': 11928, 'maydecember': 11929, 'rescinds': 11930, '‘fears': 11931, '‘casual’': 11932, 'guiding': 11933, '23k': 11934, 'chaz': 11935, 'elleck': 11936, 'hapeshift': 11937, 'appar': 11938, 'plemons': 11939, 'dunst’s': 11940, 'mccarthyism': 11941, 'wiretapping': 11942, 'omerhalder’s': 11943, 'affleckmatt': 11944, 'overrated': 11945, 'richie’s': 11946, 'giggles': 11947, 'ruth': 11948, 'negga': 11949, '‘tearful’': 11950, 'liposuction': 11951, 'jolielookalik': 11952, 'kendu': 11953, 'cringeworthi': 11954, 'divide': 11955, 'spanning': 11956, 'kardashiankanye': 11957, 'humiliation': 11958, 'toyboy': 11959, 'california’s': 11960, '‘biblical': 11961, 'disasters’': 11962, 'punishment': 11963, '‘embracing': 11964, 'atan’': 11965, 'sustainable’': 11966, 'veins': 11967, 'elfpromot': 11968, '‘down': 11969, 'kody': 11970, 'work’': 11971, 'refers': 11972, 'nationalists': 11973, 'va': 11974, 'fix’': 11975, 'ferguson’s': 11976, 'kiwi': 11977, 'you’ve': 11978, 'months’': 11979, 'forbidding': 11980, '“new': 11981, 'girl”show': 11982, 'jake’s': 11983, 'set…not': 11984, 'zooey’s': 11985, 'swings': 11986, 'bladerunner': 11987, 'breathe': 11988, 'pion': 11989, 'hrugs': 11990, '‘tell': 11991, '‘dwt': 11992, '\\u200bangelina': 11993, 'adore': 11994, 'honeys': 11995, 'orta': 11996, 'assisting': 11997, 'nest': 11998, 'brainy': 11999, 'infatuated': 12000, 'glum': 12001, '‘reclusive’': 12002, 'oulja': 12003, 'karreuche': 12004, 'fli': 12005, '‘wild’': 12006, 'arod’s': 12007, '‘next': 12008, 'level’': 12009, '“exaggerated”': 12010, '‘dumps': 12011, 'roberts’': 12012, 'kabbalah': 12013, 'wrinkl': 12014, '‘covfefe’': 12015, 'unites': 12016, 'bewildered': 12017, 'westfeldt': 12018, 'rudy': 12019, 'giuliani': 12020, 'prob': 12021, '‘house’': 12022, '‘part': 12023, 'flirtatious': 12024, 'respects': 12025, 'bootcamp': 12026, '‘etting': 12027, 'affleckjennifer': 12028, 'brom': 12029, 'employee': 12030, 'payments': 12031, 'tempers': 12032, '‘riddled': 12033, 'anxiety’': 12034, '‘isolated’': 12035, 'greet': 12036, '“homesickness”': 12037, 'docu': 12038, '‘demanding’': 12039, 'insisting': 12040, 'tipper': 12041, 'reaffirms': 12042, 'overseeing': 12043, 'majorly': 12044, '‘mitten’': 12045, '50cent': 12046, 'relationhip': 12047, 'jasmin': 12048, 'tarzan': 12049, 'fale': 12050, 'literacy': 12051, 'authorities': 12052, '“iding”': 12053, 'botches': 12054, '‘ooner': 12055, 'mangagement': 12056, 'salute': 12057, 'untruthful': 12058, '“expose': 12059, 'romance’': 12060, 'aronofsky—does': 12061, 'kellog': 12062, '‘creeped': 12063, '‘manipulating’': 12064, 'oppos': 12065, '“fulfills': 12066, 'freckle': 12067, 'fetish”': 12068, 'overjoyed': 12069, 'band’s': 12070, 'beckham’s': 12071, 'rihannaleonardo': 12072, '“replacement': 12073, 'tye': 12074, 'heridan': 12075, 'hog': 12076, 'khlo├â┬⌐': 12077, '‘palace': 12078, 'answering': 12079, 'calabasas': 12080, 'croiss': 12081, 'hildebrand': 12082, 'negasonic': 12083, 'warhead': 12084, 'midnuptial': 12085, 'correspondence': 12086, 'context': 12087, 'mentalist': 12088, '\\u202a\\u202akristen': 12089, 'tewart\\u202c': 12090, '\\u202aaturday': 12091, 'live\\u202c\\u202c': 12092, '‘fall': 12093, 'whoever': 12094, 'pee': 12095, 'pilled': 12096, 'area': 12097, '‘fillers': 12098, 'peels’': 12099, '‘brought': 12100, '“refuses': 12101, 'kourtney”': 12102, 'miraval': 12103, 'enormously': 12104, 'pentagon': 12105, 'maddoxs': 12106, '‘mainly': 12107, 'of’': 12108, 'suspending': 12109, 'midwest': 12110, 'hrc': 12111, 'conversion': 12112, 'miscarry': 12113, 'oneup': 12114, 'jost’s': 12115, '“dirty”': 12116, 'jt': 12117, 'sil': 12118, 'jamboree': 12119, 'uninvited': 12120, '‘huge': 12121, 'turnon’': 12122, 'tillis': 12123, '‘infuriated’': 12124, '‘calmer': 12125, 'focused’': 12126, '‘flourishing’': 12127, 'calland': 12128, 'starts': 12129, 'men’s': 12130, 'pe': 12131, 'khloé\\u200b': 12132, '“cozying': 12133, 'boyles': 12134, 'cheekily': 12135, 'tush': 12136, 'hammered': 12137, 'tantrums': 12138, 'orchestrated': 12139, '‘completely': 12140, 'weather': 12141, '“dream': 12142, 'home”': 12143, '‘crush': 12144, 'leto’': 12145, 'disagree': 12146, '250000': 12147, 'bills': 12148, 'bodylam': 12149, 'ines’': 12150, '‘bleaching': 12151, 'syndrome’': 12152, 'disck': 12153, '“crazy”': 12154, '“pushing': 12155, 'governor’s': 12156, 'mcgraw’s': 12157, 'giphi': 12158, 'maleficent’': 12159, 'concentrate': 12160, '“complicated”': 12161, 'cargil': 12162, '‘upermodel': 12163, 'defence': 12164, 'picer’s': 12165, 'resign': 12166, 'tampede': 12167, 'dashing': 12168, 'robsten': 12169, 'tring': 12170, '‘freaks': 12171, 'idea’': 12172, '‘uncomfortable': 12173, 'questions’': 12174, 'alcoholic': 12175, 'caking': 12176, 'fasttrack': 12177, 'three’s': 12178, 'karsgards': 12179, 'rendezvous’': 12180, 'confront': 12181, 'soaked': 12182, 'bitchy': 12183, '‘our': 12184, 'conjugal': 12185, 'ruthless': 12186, 'moor': 12187, 'videostub': 12188, 'burntout': 12189, 'kippy': 12190, 'skippyisheretostay': 12191, 'runaway': 12192, 'encouraging': 12193, '‘follow': 12194, 'trashtalks': 12195, 'destroys': 12196, 'osborne': 12197, '“class': 12198, 'act”': 12199, 'gentleman”': 12200, 'flaky': 12201, 'josé': 12202, 'bastón': 12203, 'hollywoodlif': 12204, 'dadbod': 12205, 'idekick': 12206, 'rockhard': 12207, '“biggest': 12208, 'fan”': 12209, 'natur': 12210, 'multimilliondollar': 12211, 'teefey': 12212, 'quash': 12213, 'nuts': 12214, 'forgiveness’': 12215, 'pedog': 12216, 'hong': 12217, 'tricked': 12218, 'exless': 12219, '‘slanderous': 12220, 'comments’': 12221, 'anti': 12222, 'repetit': 12223, '412': 12224, '‘naked': 12225, 'teenager’s': 12226, 'oxmans': 12227, 'builds': 12228, 'oval': 12229, 'sextape': 12230, 'particularly': 12231, 'crippling': 12232, 'tiletto': 12233, 'choreography': 12234, 'val’s': 12235, 'cooled': 12236, 'hulman': 12237, 'artificial': 12238, 'intellig': 12239, 'wift’': 12240, '‘envious’': 12241, 'roques': 12242, 'prehow': 12243, 'can': 12244, 'flakes': 12245, 'hideaway': 12246, 'groomsmen': 12247, 'wedding—and': 12248, 'pluson': 12249, '69th': 12250, 'limited': 12251, 'exbodyguard': 12252, 'refutes': 12253, 'malone’s': 12254, '‘vogue’': 12255, 'janets': 12256, '500k': 12257, 'deportation': 12258, 'jampacked': 12259, '‘tarboy’': 12260, 'elsie': 12261, 'abandon': 12262, '929': 12263, 'patern': 12264, 'cardena': 12265, 'live’s’': 12266, '‘weekend': 12267, 'fcc': 12268, 'holster': 12269, '‘flirty’': 12270, 'bitcoin': 12271, '149': 12272, 'buds': 12273, 'tempt': 12274, '‘aggressive’': 12275, 'tealth': 12276, 'women—leave': 12277, '“explosive': 12278, 'howdown”': 12279, 'underboob': 12280, 'exlover': 12281, 'afaree': 12282, 'craigslist': 12283, 'furnitur': 12284, 'limmed': 12285, 'becks': 12286, 'surfac': 12287, '‘tough': 12288, '‘reservations’': 12289, 'exhaustive': 12290, 'lopez–alex': 12291, 'courtship': 12292, '‘leave': 12293, 'past’': 12294, 'doctored': 12295, 'adopts': 12296, 'prebirth': 12297, '2404': 12298, 'musk’s': 12299, '‘pedo’': 12300, 'inquiry': 12301, 'thai': 12302, 'diver’s': 12303, '‘both': 12304, 'ides’': 12305, 'gulf': 12306, 'astonishing': 12307, 'charlotte’': 12308, '‘dreaming’': 12309, 'buried': 12310, 'mary’s': 12311, 'beside': 12312, 'althorp': 12313, 'location': 12314, 'philbin': 12315, 'egmentit': 12316, '‘truggling': 12317, 'cravings’': 12318, '‘challenging’': 12319, 'mammogram': 12320, 'tunningly': 12321, 'elizabeths': 12322, 'shouldnt': 12323, 'renaming': 12324, 'month’': 12325, 'flirtation': 12326, 'perlman': 12327, '‘coward’': 12328, 'emmy’s': 12329, 'right…us': 12330, 'fixedit': 12331, 'unimpress': 12332, 'feasts': 12333, 'andreja': 12334, 'pejic': 12335, 'entice': 12336, 'sentenc': 12337, 'medusa': 12338, 'wating': 12339, 'mojo': 12340, 'takedown': 12341, 'interlocking': 12342, 'overized': 12343, '‘furious': 12344, 'mode’': 12345, '1–20': 12346, 'murgatroyds': 12347, 'mila’s': 12348, 'flirts': 12349, 'wiktionari': 12350, 'facetiming': 12351, 'sleepovers': 12352, '‘push': 12353, 'reeling’': 12354, 'grimy': 12355, 'issued': 12356, 'freehia': 12357, 'centuries': 12358, 'dis': 12359, 'margolius': 12360, 'punchlin': 12361, '“none': 12362, 'ense”': 12363, 'uncertain': 12364, '‘said': 12365, '‘offtherails’': 12366, 'disgraceful': 12367, 'beneficial': 12368, 'snacks': 12369, 'hh': 12370, 'secretary': 12371, 'resumé': 12372, '‘tripping’': 12373, 'pelting': 12374, 'neglecting': 12375, 'mellencamp': 12376, 'nigerian': 12377, 'assaulter': 12378, 'chmerkovskiys': 12379, 'extending': 12380, '‘pass’': 12381, 'fragile': 12382, '14yearolds': 12383, 'lentz': 12384, 'fergi': 12385, 'ange’s': 12386, 'matrix': 12387, 'worshipping': 12388, '‘barely': 12389, '‘ok': 12390, 'magazine’': 12391, 'code”': 12392, 'advocates': 12393, 'restraint': 12394, 'big’s': 12395, 'qualifications': 12396, 'o’brien’s': 12397, 'bandanas': 12398, 'slender': 12399, 'rosh': 12400, 'hashanah': 12401, 'universidad': 12402, 'icel': 12403, 'hannigan': 12404, 'denisof': 12405, '“on': 12406, 'rocks”': 12407, '716': 12408, 'services': 12409, 'splitting': 12410, 'focusing': 12411, 'boy’': 12412, '‘went': 12413, 'ballistic’': 12414, 'tristan’s': 12415, 'either': 12416, 'fastest': 12417, 'carracing': 12418, 'fabricated': 12419, 'allows': 12420, 'likelihood': 12421, '“adult': 12422, 'diapers”': 12423, 'badli': 12424, 'unsinkable': 12425, '“totalitarian': 12426, 'order”': 12427, 'helms': 12428, 'flesh': 12429, 'tanley’s': 12430, 'smelling': 12431, 'uptodate': 12432, 'coverage': 12433, 'aggregated': 12434, 'headlineboothcom': 12435, 'contemplate': 12436, 'else’': 12437, 'angeline': 12438, '‘accepted’': 12439, '‘bonding’': 12440, 'incendiary': 12441, 'diap': 12442, 'milian': 12443, 'hadows': 12444, 'dials': 12445, '‘inevitable’': 12446, 'garry': 12447, 'anmer': 12448, 'trackbytrack': 12449, 'looking’': 12450, 'phantom': 12451, 'rented': 12452, 'berry’s': 12453, '‘hail': 12454, '‘intense': 12455, 'downright': 12456, '‘political’': 12457, '‘desperately’': 12458, 'fakest': 12459, 'tormi’s': 12460, '‘crushed’': 12461, 'nonnudity': 12462, 'realtionship': 12463, 'weet’': 12464, '‘angry’': 12465, 'muffins': 12466, 'nazi': 12467, 'atanism': 12468, '‘den': 12469, 'parasites’': 12470, '‘feast': 12471, 'sixyear': 12472, 'gotterba': 12473, 'journeys': 12474, 'believin': 12475, 'greatgrandmother': 12476, 'mjs': 12477, '‘pities’': 12478, '‘pulverise’': 12479, 'httpstmbwnewsyounesbendjimapitiesscottdisic…': 12480, '‘annoyed’': 12481, '‘hung': 12482, 'calorie': 12483, 'honour': 12484, 'glenne': 12485, 'headlys': 12486, '62': 12487, 'obama’s': 12488, 'yahoo': 12489, 'alvaged': 12490, 'hawke': 12491, 'rearranging': 12492, 'debate’': 12493, 'costn': 12494, 'embryo’': 12495, 'obeed': 12496, 'bigg': 12497, 'integrity’': 12498, 'thomalla': 12499, 'rossdale’s': 12500, 'german': 12501, 'presenter': 12502, '‘waiting’': 12503, '‘friend': 12504, 'laughing’': 12505, 'frenemy': 12506, 'dailymot': 12507, 'flattered': 12508, 'horan’s': 12509, '2m': 12510, 'thenewyorkevening': 12511, 'resources': 12512, 'tractor': 12513, 'parted': 12514, 'teely': 12515, 'dan’s': 12516, 'becker': 12517, 'lautn': 12518, '“lockdown”': 12519, 'conquer': 12520, 'kendall’s': 12521, 'tiffed': 12522, '‘kardashians’': 12523, 'newspap': 12524, 'calum': 12525, 'life…here’s': 12526, 'lapping': 12527, 'fernandezversini': 12528, 'folks': 12529, 'is…guess': 12530, 'birthed': 12531, 'publishes': 12532, 'misleading': 12533, 'abandons': 12534, '‘et’': 12535, 'unlikes': 12536, 'movietv': 12537, 'moonlighting': 12538, 'guthrie’s': 12539, 'vampires': 12540, 'surpass': 12541, 'enamored': 12542, 'korea': 12543, 'intervene': 12544, 'khloe’': 12545, 'spar': 12546, 'exploit': 12547, 'hades’': 12548, '“double': 12549, 'dedicated’': 12550, '3monthold': 12551, 'holmes’s': 12552, 'dorias': 12553, 'apprentice': 12554, 'ethnicity': 12555, 'moshers': 12556, 'environmental': 12557, 'tnts': 12558, 'father’': 12559, 'criminalinchief': 12560, 'categorias': 12561, 'vídeos': 12562, 'clinical': 12563, 'tunk': 12564, 'backseat': 12565, 'jennif': 12566, 'derail': 12567, 'garbiñe': 12568, 'chatt': 12569, 'hubbys': 12570, 'immun': 12571, 'liability': 12572, 'agd': 12573, 'williams’s': 12574, 'overwhelm': 12575, '‘poiling’': 12576, '‘classless’': 12577, 'helplessly': 12578, 'womanizing': 12579, 'preoscar': 12580, 'showtim': 12581, 'barstool': 12582, 'braves': 12583, '‘permanently’': 12584, '4months': 12585, 'addicted': 12586, 'opioids': 12587, 'suction': 12588, 'profit': 12589, 'antidefamation': 12590, 'concentration': 12591, '“offensive': 12592, 'unfunny”': 12593, 'cruffy': 12594, 'tuds': 12595, 'cruise’': 12596, 'unrequited': 12597, 'jacki': 12598, '‘ballistic’': 12599, 'contractions': 12600, 'ivf': 12601, 'waterhouses': 12602, 'mention': 12603, 'purim': 12604, 'piel': 12605, 'slated': 12606, 'esth': 12607, 'sleepov': 12608, 'beheading': 12609, 'proceedings': 12610, 'stall': 12611, 'marjorie': 12612, 'doubledate': 12613, 'withtom': 12614, 'rapturous': 12615, '‘time': 12616, 'themselves’': 12617, '‘carrie': 12618, 'tranny’': 12619, 'joliejohnny': 12620, 'pleading': 12621, 'attach': 12622, 'rubio': 12623, 'forthcoming': 12624, 'metro': 12625, 'sporty': 12626, 'ldol’': 12627, 'mara’s': 12628, 'worldclass': 12629, 'prima': 12630, 'dionna': 12631, 'kung': 12632, 'fu': 12633, 'panda': 12634, '‘inspired': 12635, 'fatherhood’': 12636, 'toths': 12637, '“hillary': 12638, 'prolific': 12639, 'killer”': 12640, 'massag': 12641, 'prototype': 12642, 'pinkettmith': 12643, 'chubby': 12644, 'breastreduction': 12645, 'relaxing': 12646, 'eligible': 12647, 'elin': 12648, 'nordegren': 12649, 'tipped': 12650, 'cannibal': 12651, '‘kendall': 12652, 'welcome’': 12653, '‘positively': 12654, 'ickness’': 12655, 'weating': 12656, 'risky': 12657, '‘autere’': 12658, '35m': 12659, 'budge': 12660, '‘grow': 12661, '‘crap’': 12662, 'validate': 12663, 'muñoz': 12664, 'coopers': 12665, '‘neak': 12666, 'pot’': 12667, 'nods': 12668, 'misfortunes': 12669, 'communications': 12670, 'cringey': 12671, 'finalized': 12672, 'pitching': 12673, 'single’': 12674, 'yom': 12675, 'kippur': 12676, 'aton': 12677, 'misses’': 12678, 'rossi’s': 12679, '‘tay': 12680, 'brad’': 12681, 'traitor': 12682, 'hairlin': 12683, 'coron': 12684, 'hatters': 12685, 'jeopardi': 12686, 'spoils': 12687, 'actorfilm': 12688, 'tyga’s': 12689, '‘dream': 12690, '‘asks': 12691, 'seniorsselfhelp': 12692, 'urrogate’s': 12693, 'cruisey': 12694, 'kgs': 12695, '‘diet': 12696, 'vetting': 12697, 'heavyweight': 12698, '259': 12699, '083018': 12700, 'teele': 12701, 'protests': 12702, 'ubsided': 12703, 'examined': 12704, 'azeala’s': 12705, '7500': 12706, 'rockn': 12707, 'dirrty': 12708, 'hoult': 12709, 'rekindling': 12710, 'rail': 12711, '‘tunned’': 12712, 'musician’': 12713, 'tight’': 12714, 'celebgo': 12715, 'wigs': 12716, 'thund': 12717, 'singer’s': 12718, 'hamefully': 12719, 'unscathed': 12720, 'na': 12721, '‘heartfelt’': 12722, 'lovey': 12723, 'dovey': 12724, 'waterhous': 12725, 'successful': 12726, 'maxwell’s': 12727, '‘hopeless': 12728, 'romantic’': 12729, 'payday': 12730, 'spill': 12731, 'wims': 12732, 'ummed': 12733, '450': 12734, 'inevitable': 12735, 'critical': 12736, 'crumble': 12737, 'schedul': 12738, 'osbourn': 12739, 'calms': 12740, 'shapes': 12741, '‘about': 12742, 'fodd': 12743, 'witherspoonjennifer': 12744, 'howrunn': 12745, 'bragging': 12746, '‘exhausted’': 12747, 'laps': 12748, 'yusaf': 12749, 'croll': 12750, 'spicy': 12751, 'cankl': 12752, 'gambling': 12753, 'spoiled': 12754, 'nightclubs': 12755, 'allnatural': 12756, 'preggolip': 12757, '051917': 12758, 'career…': 12759, 'stroll': 12760, 'jloaffleck': 12761, 'darker’': 12762, 'catastroph': 12763, '“right': 12764, '“belongs': 12765, 'prison”': 12766, 'gagged': 12767, 'abel': 12768, 'tesfayes': 12769, 'mentoring': 12770, 'fairmont': 12771, 'terrace': 12772, '‘urprised’': 12773, 'exyankee': 12774, 'bible’': 12775, 'tiller’s': 12776, 'paranoia': 12777, 'regret’': 12778, 'biographer': 12779, 'ptc': 12780, 'content': 12781, 'myanmar': 12782, 'dam': 12783, 'overflow': 12784, 'displaces': 12785, 'fivetar': 12786, 'dinners': 12787, '‘dirt': 12788, 'diary’': 12789, 'boozingviolent': 12790, 'rages': 12791, 'volatile': 12792, 'reassign': 12793, 'unfollowing': 12794, 'madeit': 12795, 'wagon': 12796, 'fatone': 12797, 'mahone': 12798, 'especially': 12799, 'fishi': 12800, 'adjust': 12801, 'actre’': 12802, 'omber': 12803, 'recluse': 12804, 'pickles': 12805, 'atisfy': 12806, '‘if': 12807, 'trouble’': 12808, 'messed': 12809, 'prevalentine’s': 12810, 'homemaker': 12811, 'callous': 12812, 'boycotting': 12813, 'cersei': 12814, 'lannister': 12815, 'nest”': 12816, 'togethergossip': 12817, 'paxton': 12818, 'commits': 12819, 'smokin': 12820, 'profil': 12821, 'yogaesoteric': 12822, '‘atanic’': 12823, 'ritually': 12824, 'partynextdoor': 12825, 'boondock': 12826, 'reedus': 12827, 'escaped': 12828, 'unscath': 12829, 'postpitt': 12830, '‘unset': 12831, 'boulevard’': 12832, 'hadi': 12833, 'whitney’s': 12834, '‘adventurous’': 12835, 'tomping': 12836, 'howmance': 12837, '‘taging’': 12838, 'wraps’': 12839, 'driver’s': 12840, 'marke': 12841, 'jongun': 12842, '‘adorable’': 12843, 'interview’': 12844, 'outdo': 12845, 'aritzia': 12846, 'earnings': 12847, 'trahan’s': 12848, 'pyramid': 12849, 'springboard': 12850, 'ish': 12851, '‘another': 12852, 'definite': 12853, 'grab’': 12854, 'lourds': 12855, '‘one': 12856, 'circuit': 12857, 'thinn': 12858, 'adorns': 12859, 'way’s': 12860, '‘socalled': 12861, 'judge’': 12862, 'temporarily': 12863, '‘rhobh’': 12864, 'ladies’': 12865, 'recite': 12866, 'ancestor’s': 12867, 'ageknow': 12868, 'markle’': 12869, 'allergy': 12870, 'restricting': 12871, 'cheapyonce': 12872, 'habit': 12873, '“tormi”': 12874, 'understands': 12875, 'ought': 12876, '‘thor’': 12877, '‘crazy’': 12878, '‘majorly': 12879, 'hopeless': 12880, 'romant': 12881, '‘set': 12882, 'shame’': 12883, 'argentina': 12884, 'tandin': 12885, 'pressure’': 12886, 'nagged': 12887, '‘overwhelmed': 12888, 'portias': 12889, 'aftermath': 12890, 'purnel': 12891, 'businessman': 12892, 'kindly': 12893, '‘romance’': 12894, 'withdrawn': 12895, 'ignoring': 12896, 'girlfriendas': 12897, 'chasing': 12898, 'profiled': 12899, 'headscarf': 12900, 'hotter': 12901, 'tolerate': 12902, 'clogged': 12903, '‘explore': 12904, 'fantasies’': 12905, 'chumming': 12906, 'whoever’s': 12907, 'insisted': 12908, 'payoff': 12909, '‘oulmate’': 12910, 'bramhall': 12911, 'deaf”': 12912, '“divorce': 12913, 'hock”': 12914, 'yearns': 12915, 'divides': 12916, '‘parity': 12917, 'transparency’': 12918, 'inequity': 12919, 'antimadonna': 12920, '‘aap’': 12921, 'immedi': 12922, 'liftetime': 12923, 'relatives’': 12924, 'irritated': 12925, '‘legendary’': 12926, 'cool’': 12927, 'defiant': 12928, 'fullon': 12929, 'terrorism': 12930, '‘les': 12931, 'unhealthy': 12932, 'habits': 12933, '‘miserable': 12934, 'bastard’': 12935, '‘loner’': 12936, '‘gq’': 12937, 'lando': 12938, '‘jumanji’': 12939, 'escape’': 12940, 'brosnan’s': 12941, 'backfir': 12942, '‘express’': 12943, 'blessing': 12944, '3229': 12945, 'station': 12946, 'outsize': 12947, 'downtime': 12948, 'clarita': 12949, 'hold’': 12950, 'managing': 12951, 'worrisom': 12952, 'panicking': 12953, 'darke': 12954, 'obvious': 12955, 'pours': 12956, 'kutcher’s': 12957, 'mayim’s': 12958, 'icy': 12959, 'nobu': 12960, '200k': 12961, 'porsch': 12962, 'hates’': 12963, 'hideout': 12964, 'compens': 12965, 'accord': 12966, 'countersuing': 12967, 'itinerary': 12968, 'moonlit': 12969, 'julia’s': 12970, 'maguir': 12971, 'certificates': 12972, 'intox': 12973, '‘victoria': 12974, 'ecret’': 12975, 'gordonstoun': 12976, 'kashing': 12977, 'inane': 12978, 'blurbs': 12979, 'himizu': 12980, '“look': 12981, 'do”': 12982, 'demme': 12983, 'nationalist': 12984, 'mcfarlane': 12985, '‘laughing’': 12986, '‘embarrass’': 12987, 'library': 12988, 'rancic’s': 12989, 'pawelw': 12990, 'ladziak': 12991, 'handson': 12992, 'offbroadway': 12993, 'grove': 12994, 'lorne': 12995, '‘boss': 12996, 'mistreats': 12997, 'reptiles': 12998, '“rule”': 12999, '‘afraid’': 13000, '‘greatest': 13001, 'tamron': 13002, 'honeytrap': 13003, 'seize': 13004, 'ugandas': 13005, 'koni': 13006, 'dork': 13007, 'absurdly': 13008, '‘couple’s': 13009, 'therapy’': 13010, 'complicit': 13011, '‘er’': 13012, 'actress’': 13013, '‘nci': 13014, 'loveless': 13015, 'halladay': 13016, 'mlb': 13017, 'pitcher': 13018, 'jurors': 13019, 'conflicting': 13020, 'deadlock': 13021, 'fiercely': 13022, 'cecily': 13023, 'analyzing': 13024, 'limiting': 13025, '“causing': 13026, 'problems”': 13027, 'itdown': 13028, '‘blocked’': 13029, 'suggests': 13030, 'they’r': 13031, 'uncomfort': 13032, 'bouncers': 13033, 'recognizing': 13034, 'limitless': 13035, 'lighthouse': 13036, 'bullsplit': 13037, 'envy': 13038, 'diesel’s': 13039, 'western': 13040, '‘damsel’': 13041, '“definitely”': 13042, 'franchiseland': 13043, '‘talk': 13044, 'gyllenha': 13045, 'bargh': 13046, 'jetting': 13047, 'fck': 13048, 'virtue': 13049, 'ignalling': 13050, 'mannequin': 13051, 'finace': 13052, 'transporter': 13053, 'revenge’': 13054, 'katheryn': 13055, 'scary’': 13056, '‘morning': 13057, 'joe’': 13058, 'trueknow': 13059, 'trategist': 13060, 'repossessed': 13061, 'huh': 13062, 'falsereport': 13063, '‘explosive’': 13064, 'werent': 13065, 'eith': 13066, 'travi': 13067, 'bark': 13068, 'countrysid': 13069, 'feasible': 13070, 'blowbyblow': 13071, 'examin': 13072, 'west…': 13073, 'roleplays': 13074, 'camilla’s': 13075, 'bankrupt': 13076, 'giudices': 13077, '90000': 13078, 'lexus': 13079, 'richardson': 13080, 'worhip': 13081, 'lecter': 13082, '“cream': 13083, 'queens”': 13084, '“blow': 13085, 'whistle': 13086, 'ring”': 13087, '“‘ick’': 13088, '‘control’': 13089, 'industry”': 13090, '“270': 13091, 'ouzounian': 13092, 'trumpcare': 13093, 'gang': 13094, '‘legally': 13095, 'bridetobe': 13096, '‘major': 13097, 'gomez’': 13098, 'hitch': 13099, 'holmestom': 13100, 'uris': 13101, 'upbringing': 13102, 'iraq': 13103, '‘overwhelmed’': 13104, 'webster': 13105, 'kaqh': 13106, 'expulsion': 13107, 'gle': 13108, 'sourc': 13109, 'romijn': 13110, 'moran’s': 13111, 'trays': 13112, '“break': 13113, 'confession”': 13114, 'leaner': 13115, '‘embarrassing’': 13116, 'dumpl': 13117, 'dental': 13118, 'satan': 13119, '“cash': 13120, 'cow”': 13121, 'what': 13122, 'xmas': 13123, '‘definite': 13124, 'tension’': 13125, 'rumi’s': 13126, 'col': 13127, 'decline': 13128, 'mobbed': 13129, 'netanyahu': 13130, '‘ok’': 13131, 'temper': 13132, 'tearing': 13133, 'asund': 13134, 'install': 13135, 'afdie': 13136, 'brothers’': 13137, 'a24': 13138, 'uncut': 13139, 'gem': 13140, 'campbells': 13141, 'peculating': 13142, 'hiloh’s': 13143, 'mummi': 13144, 'midflight': 13145, 'lush': 13146, 'grading': 13147, 'northern': 13148, 'heigl’s': 13149, '‘kind': 13150, 'liked’': 13151, 'ecretary': 13152, 'betsy': 13153, 'devos': 13154, 'grip': 13155, 'teenagers': 13156, 'gces': 13157, 'attractive': 13158, 'taunt': 13159, 'bursting': 13160, 'trees': 13161, 'aprils': 13162, 'hotgun': 13163, 'manafort': 13164, 'indict': 13165, 'ick’': 13166, 'httpstmbwnewskimkardashianworriedsickkanyewestsfe…': 13167, '‘ungrateful': 13168, 'lindsay’s': 13169, 'galaxys': 13170, 'eething': 13171, 'suing': 13172, 'labels': 13173, 'womengossip': 13174, 'alves’': 13175, 'parading': 13176, 'atop': 13177, 'rosenbaum': 13178, '‘detransitioning’': 13179, 'rutler': 13180, 'ly': 13181, 'dc’s': 13182, 'corvett': 13183, 'tickthin': 13184, '150lb': 13185, '‘truggling’': 13186, '‘acting': 13187, 'attention’': 13188, 'flagpole': 13189, '95yearold': 13190, 'white’s': 13191, 'exting': 13192, 'khloé’s': 13193, 'baller': 13194, '‘tepdad’': 13195, '‘connected’': 13196, 'dazed': 13197, 'embroidered': 13198, 'pillowcas': 13199, '£14million': 13200, '“tea”themed': 13201, 'postresignation': 13202, 'hann': 13203, '45m': 13204, '‘lastditch': 13205, 'effort’': 13206, 'thrived': 13207, '‘hurt’': 13208, 'housewivestype': 13209, 'illegal': 13210, 'publish': 13211, 'bait': 13212, 'portraying': 13213, 'ladders': 13214, 'holdups': 13215, 'jabs': 13216, '‘inappropriate’': 13217, 'shoulder': 13218, 'choking': 13219, 'altercation': 13220, 'cannons': 13221, 'turban': 13222, '‘fishing’': 13223, 'unsu': 13224, '“message”': 13225, '‘go': 13226, 'ivanka’s': 13227, 'stuff’': 13228, '‘curse’': 13229, 'alwyn’s': 13230, '‘built': 13231, 'mutual': 13232, 'trust’': 13233, '‘lot': 13234, '‘phasing': 13235, '‘used': 13236, '11100': 13237, '‘dearly’': 13238, '‘trong': 13239, 'untrue': 13240, 'rubbing': 13241, 'krazy': 13242, 'substandard': 13243, 'confuses': 13244, 'faithevanscnnmistak': 13245, 'rutl': 13246, 'isolating': 13247, 'booking': 13248, 'hand’': 13249, 'mariahs': 13250, 'learnt': 13251, 'boils': 13252, 'hawaiian': 13253, 'luau': 13254, 'mentor': 13255, 'converting': 13256, 'undergone': 13257, 'reduction': 13258, 'abdul’s': 13259, 'pardoning': 13260, 'heriff': 13261, 'arpaio': 13262, 'alarm': 13263, 'baggy': 13264, '“miserable”': 13265, 'mueller’s': 13266, '‘katy': 13267, 'cannibal’': 13268, 'believable': 13269, 'barbado': 13270, '“hanging': 13271, 'out”': 13272, 'googoo': 13273, 'rendezv': 13274, 'nun': 13275, 'thumbsup': 13276, 'ganged': 13277, '‘trouble’': 13278, 'weren’t': 13279, 'expected’': 13280, 'ucceeded': 13281, 'cyndi': 13282, 'lauper': 13283, 'disbelief': 13284, 'different’': 13285, '‘works': 13286, 'themes': 13287, 'congressman': 13288, 'eatwood': 13289, 'perpetrated': 13290, 'brangelinas': 13291, 'thighs': 13292, 'gosselin’s': 13293, 'autobiographi': 13294, 'upremacy': 13295, 'bostons': 13296, 'counterprotestor': 13297, 'zika': 13298, 'virus': 13299, 'converts': 13300, 'religions': 13301, 'impeach': 13302, 'flipsflops': 13303, 'warped': 13304, 'femaledriven': 13305, 'cheme': 13306, 'obamacare': 13307, 'connolli': 13308, 'johannson': 13309, 'grav': 13310, '‘freaking': 13311, 'rails': 13312, 'sipping': 13313, 'dueling': 13314, 'apprentic': 13315, 'autoline': 13316, 'хладилни': 13317, 'бусове': 13318, 'boynton': 13319, 'humiliating': 13320, 'taylorwiftisoverparty': 13321, 'despises’': 13322, '“nice': 13323, 'guy”': 13324, '“misunderstood”': 13325, 'bury': 13326, '‘traightlaced’': 13327, '‘contacts': 13328, 'craig’s': 13329, 'nonudity': 13330, 'denouncing': 13331, '‘misses’': 13332, '‘them': 13333, 'poll': 13334, 'disaster’': 13335, '‘mortified’': 13336, '“ditching': 13337, 'helton”': 13338, '‘dating’': 13339, 'nadine': 13340, 'execut': 13341, 'dance”': 13342, 'parent’s': 13343, 'improving': 13344, '‘kinny’': 13345, 'eyeing': 13346, '“turnin’': 13347, 'mick': 13348, 'business—and': 13349, '‘miserable’': 13350, '‘off': 13351, '‘stupid': 13352, 'escal': 13353, 'gunnin’': 13354, '‘gunsmoke’': 13355, 'locker': 13356, 'plagiarizing': 13357, 'investigations': 13358, 'graydon': 13359, '0764920179634': 13360, 'superstiti': 13361, 'coverup': 13362, 'rinsing': 13363, 'homme': 13364, 'investigator': 13365, 'tail': 13366, 'testicles': 13367, 'fibromyalgia': 13368, '“rubbing': 13369, 'elbows”': 13370, 'elit': 13371, 'overseas': 13372, 'xma': 13373, 'philanthropy': 13374, 'everythings': 13375, 'mand': 13376, '“drugged': 13377, 'raped”': 13378, 'rose’s': 13379, '‘becky': 13380, 'reigniting': 13381, 'phillipa': 13382, 'coan': 13383, '‘ultimate': 13384, 'referenced': 13385, 'unday’s': 13386, 'vile': 13387, 'transplants': 13388, 'laxative': 13389, 'veggies': 13390, 'confidant': 13391, '‘flips': 13392, 'ices': 13393, 'can’t’': 13394, 'ad’': 13395, 'halfis': 13396, 'postponing': 13397, '2381': 13398, '‘pregnant': 13399, 'room’': 13400, '‘destroy’': 13401, 'unfairly': 13402, 'demonizing': 13403, 'notables': 13404, 'anistonbrad': 13405, 'punkd': 13406, '‘unpredictable’': 13407, 'promise’': 13408, '£194k': 13409, 'conspired': 13410, '\\x91the': 13411, 'librarians’': 13412, 'buddha': 13413, 'giudic': 13414, 'allencompassing': 13415, '‘cheated': 13416, 'ergey': 13417, 'brin': 13418, 'rosenberg': 13419, 'cofounder’s': 13420, 'marketing': 13421, '‘vindicated’': 13422, 'britney’s': 13423, '‘desperately': 13424, 'aint’s': 13425, 'generous': 13426, 'fbi': 13427, 'laund': 13428, 'sooner': 13429, 'multihyphen': 13430, 'teasing': 13431, 'hasselhoff’s': 13432, 'bleak': 13433, '“exist”': 13434, 'nationally': 13435, 'syndicated': 13436, 'gossipcop': 13437, 'caitlins': 13438, '‘fake': 13439, 'story’': 13440, 'lusting': 13441, 'momhamed': 13442, 'traightening': 13443, 'cairo': 13444, 'potu': 13445, 'gomezjustin': 13446, 'fault’': 13447, 'uggestive': 13448, '‘ocean’s': 13449, 'eight’': 13450, 'rkellyassisted': 13451, 'thorough': 13452, '“prove”': 13453, 'genuine': 13454, 'jameel’s': 13455, 'makeups': 13456, 'agony': 13457, 'elsa’s': 13458, 'londoners': 13459, 'portions': 13460, 'avanna': 13461, 'republicans': 13462, 'neves': 13463, 'resolution': 13464, 'minaj’s': 13465, '‘exy': 13466, 'af’': 13467, 'anytim': 13468, 'ophia’s': 13469, 'topecret': 13470, 'beysus': 13471, 'talling': 13472, 'rootsy': 13473, '‘pooks’': 13474, 'poisoning': 13475, 'liking': 13476, 'bff’s': 13477, 'demoralized': 13478, 'romp': 13479, 'separately': 13480, 'winslets': 13481, 'publication': 13482, 'partly': 13483, 'envious': 13484, 'gigs': 13485, '“nightmare”': 13486, 'commutes': 13487, 'sentence': 13488, 'soldier': 13489, 'classified': 13490, 'vodafone': 13491, 'tpg': 13492, 'merg': 13493, 'monk': 13494, '‘maleficent': 13495, 'tiff': 13496, 'unhinged': 13497, '‘trict’': 13498, 'bing': 13499, 'pider': 13500, 'wellchosen': 13501, 'intelligence': 13502, 'stole': 13503, '‘maleficent’': 13504, '“ruled': 13505, 'pedophiles”': 13506, '‘icy’': 13507, 'sceptical': 13508, 'pre': 13509, '‘avengers’': 13510, 'equels': 13511, 'cuba': 13512, 'gooding': 13513, 'broadway’s': 13514, '‘hotel': 13515, '‘tormented’': 13516, 'loved’': 13517, 'hilarious’': 13518, 'reconnects': 13519, 'trike': 13520, 'pooh': 13521, 'akash': 13522, 'yadav': 13523, 'removing': 13524, 'powered': 13525, 'scolded': 13526, 'kneeling': 13527, '“reptilian': 13528, 'loppy': 13529, 'inaugur': 13530, '1998–2006': 13531, 'assertion': 13532, 'supremacists': 13533, 'firestorm': 13534, 'worth—and': 13535, 'urrogacy': 13536, '‘powerless': 13537, 'control’': 13538, 'como': 13539, 'neighbours': 13540, 'patriarch': 13541, 'ensitivity': 13542, 'digs': 13543, 'meaningless': 13544, '400m': 13545, 'humili': 13546, 'rooneys': 13547, '‘frosty’': 13548, 'xii': 13549, '\\u200e–': 13550, 'ocialmedia': 13551, '‘super': 13552, 'flirty’': 13553, 'usu': 13554, '585': 13555, 'dianacharles': 13556, '‘invasive’': 13557, 'hameful': 13558, 'antsy’': 13559, 'peculative': 13560, '1997': 13561, 'fullbody': 13562, '‘love’': 13563, 'residents': 13564, 'clipp': 13565, 'wedded': 13566, 'allmans': 13567, 'inexplicably': 13568, 'dubbing': 13569, 'glorias': 13570, 'cher’s': 13571, 'teinfeld’': 13572, 'alsina': 13573, 'signed': 13574, 'caution': 13575, '‘bully’': 13576, 'brewing': 13577, 'tats': 13578, 'picturewinning': 13579, 'dev': 13580, 'patel': 13581, 'wenham': 13582, '‘hoping’': 13583, 'goe': 13584, 'plurge': 13585, 'garbine': 13586, '‘funny': 13587, '‘break': 13588, 'ilence’': 13589, 'floating': 13590, 'voter': 13591, 'dogeatcandidate': 13592, 'flowy': 13593, 'zlist': 13594, '‘committed’': 13595, '‘had': 13596, 'jhud': 13597, 'urbanmet': 13598, 'refue': 13599, 'arjun': 13600, 'ogale': 13601, 'makers': 13602, 'armtwist': 13603, 'constant': 13604, 'johnson’s': 13605, '“uspicious”': 13606, '‘tamed’': 13607, 'creech': 13608, 'bruvaaa': 13609, 'presented': 13610, 'cools': 13611, 'kanye’': 13612, 'rap’s': 13613, 'complex': 13614, 'raunchy': 13615, 'point”': 13616, '£7000': 13617, 'piders': 13618, '‘come': 13619, 'hiding’': 13620, 'halperin': 13621, '9780981239668': 13622, 'goth': 13623, 'resents': 13624, '25000': 13625, 'celibacy': 13626, 'prompting': 13627, 'davi': 13628, '“romance': 13629, 'public”': 13630, 'iran': 13631, '▼': 13632, 'successor': 13633, 'jennifer’s': 13634, 'worker': 13635, 'hermit': 13636, 'rauxey': 13637, '2111': 13638, 'buted': 13639, '‘touched’': 13640, 'climate': 13641, 'marchers': 13642, 'gore': 13643, 'namechecking': 13644, '‘cute': 13645, '“300': 13646, 'degeneresellen': 13647, 'presleys': 13648, 'jelenanetwork': 13649, 'mayor': 13650, 'freaky': 13651, 'feat': 13652, 'midday': 13653, '“paranoia': 13654, 'whatsapp': 13655, '‘falling': 13656, 'postjen': 13657, 'condemnation': 13658, 'supremacy': 13659, 'neonazi': 13660, 'sneers': 13661, 'overdr': 13662, 'triplets': 13663, '‘prize’': 13664, 'dissected': 13665, 'overhauled': 13666, '413': 13667, 'birthdays': 13668, '‘comment': 13669, 'creeping’': 13670, '‘ad': 13671, 'desperate’': 13672, 'doorman': 13673, 'dailybreak': 13674, 'ben’s': 13675, 'reacttiger': 13676, 'presidency': 13677, '2pac': 13678, '4life': 13679, 'curv': 13680, '11year': 13681, 'twotxt': 13682, 'hrldcprbuzzfeed': 13683, 'github': 13684, 'drenched': 13685, '‘relishing’': 13686, 'postvacation': 13687, 'quotoul': 13688, 'pactquot': 13689, 'quotall': 13690, 'eternityquot': 13691, '‘trolling’': 13692, '‘crumbling’gossip': 13693, 'individu': 13694, 'kneel': 13695, 'viii': 13696, '‘inging': 13697, 'pir': 13698, 'milano’s': 13699, 'condone': 13700, 'space’': 13701, 'anything’': 13702, '“never': 13703, 'poke”': 13704, 'alzheimer': 13705, 'lo’s': 13706, 'ultratrict': 13707, 'refugees': 13708, 'ellens': 13709, 'paints': 13710, 'ungrateful': 13711, 'poker': 13712, 'ickness': 13713, 'urvival': 13714, 'miserable’': 13715, 'dracula': 13716, 'gettogeth': 13717, 'fever’': 13718, 'teamed': 13719, 'vlogmail': 13720, '“gossip': 13721, '3136': 13722, 'celebritynews': 13723, 'celebrityrumors': 13724, 'fakenews': 13725, 'gossipcop…”': 13726, '‘unpopular': 13727, 'heyer’s': 13728, 'coffs': 13729, 'hurts': 13730, 'possessed': 13731, 'eyesight': 13732, 'tartling': 13733, 'stokes': 13734, 'gritty': 13735, '‘absolute': 13736, 'dynamite’': 13737, 'amus': 13738, 'wordpress': 13739, 'strict': 13740, '‘taged’': 13741, 'malfunct': 13742, 'emulating': 13743, 'carting': 13744, 'daddy’': 13745, '‘pleading’': 13746, 'phon': 13747, 'withhold': 13748, 'distancing': 13749, 'jealousi': 13750, 'cartoon': 13751, 'mildly': 13752, 'pringsteen’s': 13753, 'departed': 13754, 'vowing': 13755, 'celibate’': 13756, 'doe': 13757, 'do': 13758, '‘illuminati’': 13759, 'athenaeum': 13760, 'intrigued': 13761, 'groupie': 13762, 'evicted': 13763, 'close’': 13764, 'januari': 13765, 'elfprotective': 13766, 'wills’': 13767, 'walk’': 13768, 'horrified': 13769, '‘fuming’': 13770, '‘copycat’': 13771, 'bundi': 13772, 'complains': 13773, 'talls': 13774, '760m': 13775, '‘massively': 13776, 'disturbing’': 13777, 'tequilas': 13778, 'tearyeyed': 13779, 'fences': 13780, 'archbishop': 13781, 'canterburi': 13782, 'dad’': 13783, 'img': 13784, 'nbcu': 13785, '1060': 13786, 'creeping': 13787, 'biblical': 13788, '189': 13789, '“bonding': 13790, 'before”': 13791, 'abotaging': 13792, 'forg': 13793, 'reconcil': 13794, 'pits': 13795, 'exploitative': 13796, 'consid': 13797, '“hade”': 13798, '‘doubtful’': 13799, 'environmentalist': 13800, 'eaplane': 13801, 'fev': 13802, 'dceu': 13803, 'cozied': 13804, '‘hesitant’': 13805, 'britishphilanthropist': 13806, '‘evil’': 13807, 'handwriting': 13808, 'abolute': 13809, 'guet': 13810, '“he’s': 13811, 'trying”': 13812, 'riddance': 13813, '‘disappointed’': 13814, '‘divulge': 13815, 'ecrets’': 13816, 'pitt–and': 13817, 'feeling’s': 13818, 'mutu': 13819, 'nutritionist': 13820, 'coparent': 13821, 'steroids': 13822, '‘peasants’': 13823, 'bahing': 13824, 'hivposit': 13825, 'walters': 13826, 'cosmo': 13827, '16yearold': 13828, 'livetweets': 13829, 'day—and': 13830, 'foil': 13831, 'vulnerability': 13832, 'roundtheclock': 13833, '‘tand': 13834, '‘excited’': 13835, '247': 13836, 'separated': 13837, 'penelop': 13838, 'testifies': 13839, 'trademarks': 13840, '‘kimkanye': 13841, 'anctity': 13842, '‘only': 13843, 'painfully': 13844, 'sanctioned': 13845, 'heryl': 13846, 'leeann': 13847, 'tweeden': 13848, 'oftware': 13849, 'freeware': 13850, 'shareware': 13851, 'typhoon': 13852, 'knowl': 13853, 'rival': 13854, 'partyloving': 13855, 'zellner': 13856, 'tressed': 13857, '‘melting': 13858, 'bonded': 13859, 'fashionista': 13860, '“outlander”': 13861, '\\u200ecaitriona': 13862, '“gma”': 13863, 'neighbour': 13864, 'sausage': 13865, 'split’': 13866, 'dynasti': 13867, 'roker': 13868, 'ebay': 13869, 'reincarnation': 13870, 'rhea': 13871, 'скачать': 13872, 'видео': 13873, 'с': 13874, 'ютуба': 13875, 'без': 13876, 'программ': 13877, 'бесплатно': 13878, 'teyana': 13879, 'tickled': 13880, 'dien': 13881, 'ohhcom': 13882, 'beckford': 13883, 'turchin': 13884, 'consoled': 13885, 'gears': 13886, 'bounced': 13887, 'ocar': 13888, 'megynkellyvil': 13889, 'fonda’s': 13890, 'idgaf': 13891, 'villa': 13892, 'moking': 13893, 'we': 13894, 'cathing': 13895, 'married’': 13896, '18th': 13897, 'manta': 13898, '‘complete': 13899, '‘lies’': 13900, 'vindication’': 13901, 'rimes’': 13902, 'ignify': 13903, 'schooling': 13904, 'ensu': 13905, 'countersuit': 13906, 'mueller': 13907, 'resides': 13908, 'unperturbed': 13909, 'bf’': 13910, '3200': 13911, 'allergic': 13912, '‘protect': 13913, 'fired’': 13914, '7inch': 13915, 'cartoonish': 13916, '‘berlin': 13917, 'tation’': 13918, 'veeps': 13919, 'stick': 13920, 'louisdreyfu': 13921, 'luther': 13922, 'xxxviii': 13923, 'supreme': 13924, '‘flirting’': 13925, 'ironclad': 13926, 'majority': 13927, 'erv': 13928, '‘curious’': 13929, 'ventur': 13930, 'suggest': 13931, 'prevents': 13932, '‘tired': 13933, 'manns': 13934, '‘kill’': 13935, 'ghosts': 13936, 'pushing’': 13937, 'gems': 13938, '‘urrogacy': 13939, 'adoption’': 13940, 'colletti': 13941, 'herry': 13942, 'lansing': 13943, '‘gangnam': 13944, 'tyle’': 13945, '“flirt”': 13946, 'thiem': 13947, 'vitamin': 13948, 'drip': 13949, 'sneaking': 13950, 'sienna': 13951, '‘torn’': 13952, 'uspet': 13953, 'hathaway’s': 13954, 'lovehateredemption': 13955, '‘desperate’': 13956, '‘rude’': 13957, 'obv': 13958, 'bradi': 13959, 'househunting': 13960, 'cotswold': 13961, '‘eat': 13962, 'teering': 13963, 'tuning': 13964, '¿jennifer': 13965, 'tienen': 13966, 'hashtag': 13967, 'igotbusted': 13968, '3062430': 13969, '‘took': 13970, 'toll’': 13971, 'oscarnominated': 13972, '2001': 13973, 'wolverin': 13974, '‘lure’': 13975, '‘flying’': 13976, 'dominance': 13977, 'economi': 13978, '‘preapproved’': 13979, '‘husband': 13980, 'gouge': 13981, 'revelation': 13982, '‘tirade’': 13983, 'traddling': 13984, '‘celeb': 13985, 'rejecting': 13986, '“turn': 13987, 'ex”': 13988, '“marriage': 13989, 'meltdown”': 13990, 'goods': 13991, 'economist': 13992, 'pous': 13993, 'erver': 13994, 'soldiers': 13995, 'wilkerson': 13996, 'pictori': 13997, 'torment': 13998, 'kuni': 13999, 'drugtaking': 14000, '‘ingoff’': 14001, 'lepore': 14002, 'murfs': 14003, '1b': 14004, 'reportedli': 14005, 'seemingly': 14006, 'protected': 14007, 'waterfront': 14008, 'madoffs': 14009, 'lakeside': 14010, 'cozying': 14011, 'pacino’s': 14012, 'stepdaughter': 14013, 'feldstein': 14014, 'dec': 14015, 'mitten’': 14016, 'oxenberg': 14017, 'brainwashed': 14018, 'effective': 14019, 'rabid': 14020, 'fanat': 14021, 'jesus’': 14022, 'wrong”': 14023, '“attack”': 14024, 'momentum': 14025, '‘uper': 14026, '‘own': 14027, '‘chose': 14028, 'happiness’': 14029, 'bros': 14030, 'frenemies”': 14031, 'lunches': 14032, 'organising': 14033, 'shutting': 14034, 'painful’': 14035, 'jesu': 14036, 'waiters': 14037, '‘angel’': 14038, 'curfew': 14039, 'decisions': 14040, 'fine…': 14041, '27yearold': 14042, 'landry': 14043, 'urged': 14044, 'instigated': 14045, 'isol': 14046, 'weasels': 14047, 'aga': 14048, 'props': 14049, 'baitandwitch': 14050, 'associated': 14051, 'lepor': 14052, 'accelerated': 14053, 'reader': 14054, 'recoupl': 14055, '‘touchy': 14056, 'feely’': 14057, 'degenres’s': 14058, 'slits': 14059, 'wrists': 14060, 'yelled': 14061, 'overtipping': 14062, 'vp': 14063, 'pence': 14064, 'montia': 14065, 'abbag': 14066, 'flirtathon': 14067, 'cameramen': 14068, 'head’': 14069, 'rfk': 14070, 'candis': 14071, 'cayn': 14072, 'backhanded': 14073, 'compli': 14074, 'pouring': 14075, 'slave': 14076, 'lopsided': 14077, 'cursed': 14078, 'child’': 14079, 'play’s': 14080, 'hermion': 14081, 'precamera': 14082, 'ritu': 14083, 'bingewatching': 14084, 'levin’s': 14085, 'cocain': 14086, 'in’': 14087, '‘hy': 14088, 'cah': 14089, 'dictator': 14090, 'vladimir': 14091, '‘his': 14092, 'bored': 14093, 'narrates': 14094, 'coppola': 14095, 'suspenseful': 14096, '“terrified”': 14097, 'elfman': 14098, 'wiftli': 14099, 'cox’s': 14100, 'irrationally': 14101, 'houdini': 14102, 'diabolical': 14103, 'fawns': 14104, 'owners': 14105, '2999': 14106, 'perkin': 14107, '‘claws’': 14108, 'boys’': 14109, '‘darling’': 14110, 'somebody': 14111, 'reward': 14112, 'unearthed': 14113, '‘parent': 14114, '‘addened’': 14115, 'charles’': 14116, 'torrey': 14117, 'devitto': 14118, 'nicolette': 14119, 'ottavio': 14120, 'misunderstood': 14121, 'wier': 14122, 'kents': 14123, 'vpr': 14124, 'tann': 14125, 'hitchhiking': 14126, 'mars’': 14127, 'wellgood': 14128, 'halloweentowns': 14129, 'kountz': 14130, 'musks': 14131, 'ensembles': 14132, '‘reputation': 14133, 'tour’': 14134, 'vlogger': 14135, 'nikkietutorials': 14136, 'byrnes': 14137, 'namesake': 14138, 'oftball': 14139, 'dieter': 14140, 'chmitz': 14141, 'panther‘s': 14142, '‘wakanda': 14143, 'ometimes’': 14144, '14th': 14145, 'bak': 14146, 'exbodyguards': 14147, 'unsafe': 14148, 'conditions': 14149, 'unpaid': 14150, 'newmediasearch': 14151, 'rn': 14152, '‘fk': 14153, 'trump’': 14154, 'standing': 14155, 'lumet': 14156, 'violated': 14157, 'addicts': 14158, 'barker': 14159, 'urvives': 14160, 'bad’': 14161, 'pds': 14162, 'beghe': 14163, 'shouldn’t': 14164, 'sums': 14165, 'creation': 14166, 'flock': 14167, 'housemates': 14168, 'motley': 14169, 'malinas': 14170, '“men': 14171, 'all”': 14172, 'neakyish': 14173, 'aloneinspired': 14174, 'mccallister': 14175, 'knitwear': 14176, 'aryn': 14177, 'drakelee': 14178, 'sleeper': 14179, '64m': 14180, 'reynolds’': 14181, '‘gorgeous’': 14182, 'texasraised': 14183, 'postrobbery': 14184, 'sips': 14185, 'apa’s': 14186, 'goop’s': 14187, 'evered': 14188, 'sneaker': 14189, 'baier’s': 14190, 'mileys': 14191, 'reindeer': 14192, 'vma’s': 14193, 'ay’s': 14194, 'access”': 14195, 'particular': 14196, 'tarters': 14197, 'nelson': 14198, 'mandela': 14199, 'trades': 14200, 'messicks': 14201, 'blistering': 14202, 'employe': 14203, 'cradling': 14204, 'munchkins': 14205, 'lillian': 14206, 'vilchez': 14207, 'cats': 14208, 'fredericks': 14209, 'marty': 14210, 'caffreys': 14211, 'rings’': 14212, 'multieason': 14213, 'traumatizing': 14214, 'jennerapproved': 14215, 'laci': 14216, 'modesto': 14217, 'be': 14218, 'extortionist': 14219, 'acha': 14220, 'flesheating': 14221, 'bacteria': 14222, 'slept': 14223, 'catchphrase': 14224, 'unhear': 14225, 'ilenc': 14226, 'duggar’s': 14227, 'hangout': 14228, 'zellwegers': 14229, '‘exual': 14230, 'favors’': 14231, 'romy': 14232, 'elfimposed': 14233, 'rationalizes': 14234, '‘drop': 14235, 'attdirectv': 14236, 'masterchef': 14237, 'nicks': 14238, '‘prostitution': 14239, 'ring’': 14240, 'musthaves': 14241, 'postmortem': 14242, 'ambitious': 14243, 'camerons': 14244, 'washingtonlevel': 14245, 'desper': 14246, 'evolve': 14247, 'guadagnino': 14248, '56000': 14249, 'hugging': 14250, 'koala': 14251, 'wirl': 14252, 'nicky’s': 14253, 'joyanna': 14254, 'forsyth': 14255, 'gonzal': 14256, 'motivate': 14257, 'repay': 14258, 'gala’s': 14259, 'rule’': 14260, 'sweeps': 14261, 'fork': 14262, 'infuriatingly': 14263, 'stupid': 14264, 'doak': 14265, 'rooks': 14266, 'meghan’s': 14267, 'kate’': 14268, 'ragland': 14269, 'bridalinspired': 14270, '8216fool8217': 14271, '20lbs': 14272, 'daly’s': 14273, 'underprivileged': 14274, 'mossimo': 14275, '“desperate”': 14276, 'boatmances': 14277, 'fanfavorites': 14278, 'onale': 14279, 'unny': 14280, 'jaws': 14281, 'bespoke': 14282, 'witherspoons': 14283, 'zolciakbierman': 14284, 'monochrome': 14285, 'givenchi': 14286, 'dembabies': 14287, 'jay’s': 14288, 'proclaims': 14289, 'stoked': 14290, 'lively’s': 14291, 'pastoral': 14292, 'exampl': 14293, 'apologized’': 14294, 'grid': 14295, 'weeklong': 14296, 'mottola': 14297, 'irk': 14298, 'pooper': 14299, 'repeatedly': 14300, 'pooping': 14301, 'colorado': 14302, 'tinseltown': 14303, 'terrors': 14304, 'filmdom': 14305, 'phantoms': 14306, 'movieland': 14307, 'ogden': 14308, '9781493015771': 14309, '‘deeply': 14310, 'welcomeback': 14311, 'ever”': 14312, '‘diamonds': 14313, 'harapova': 14314, 'aydin': 14315, 'unpleasant': 14316, 'bunny—and': 14317, 'kiari': 14318, 'foreword': 14319, 'aeon': 14320, 'flux': 14321, 'uncool': 14322, 'udol': 14323, 'contracts': 14324, 'gangrene': 14325, 'tummy': 14326, 'dangerously': 14327, 'stomachchurning': 14328, 'breyton': 14329, '4eva': 14330, 'centenary': 14331, 'armistice': 14332, 'yup': 14333, 'tove': 14334, 'tuffing': 14335, 'tretchy': 14336, 'hamelessly': 14337, 'vasectomi': 14338, 'tennessees': 14339, 'preseason': 14340, '‘misogynistic’': 14341, '‘lost’': 14342, 'halfnude': 14343, 'quot21yearold': 14344, 'panelquot': 14345, 'rhony…': 14346, 'tamo': 14347, 'embryo': 14348, 'jointcustody': 14349, 'mendes’': 14350, 'holidayready': 14351, '2and': 14352, 'abbey’s': 14353, 'quotf': 14354, 'kboy': 14355, 'whispererquot': 14356, '‘needs': 14357, 'pounds’': 14358, 'nautical': 14359, 'reclaim': 14360, '1849': 14361, 'puddle': 14362, '‘colette’': 14363, 'psoriasis': 14364, 'contemporary': 14365, 'velcro': 14366, 'negoti': 14367, 'reliev': 14368, 'annalisa': 14369, 'azaredo': 14370, 'partyon': 14371, 'tecker': 14372, 'grownup': 14373, 'labo': 14374, 'panishlanguage': 14375, '“tart”': 14376, 'brilliantli': 14377, 'contractor': 14378, '“pink': 14379, 'furstenberg': 14380, 'viagra': 14381, 'belligerent': 14382, 'tamera': 14383, 'jackée': 14384, 'crystals': 14385, 'fabr': 14386, 'tons': 14387, 'spinoffs': 14388, 'duh': 14389, '‘f–ked': 14390, 'homophobia': 14391, 'dishwasher': 14392, 'dayna': 14393, 'fraz': 14394, 'techno': 14395, 'magician': 14396, 'daredevil': 14397, 'clifford': 14398, 'jordana': 14399, 'brewster': 14400, 'lowcut': 14401, 'chained': 14402, 'whale': 14403, 'whopping': 14404, '122000': 14405, 'antiharassment': 14406, 'altogether': 14407, 'donda’s': 14408, 'mispronounced': 14409, 'uganda': 14410, 'oulbaring': 14411, '‘liberation’': 14412, 'ballad': 14413, '‘twice’': 14414, 'quintessentially': 14415, 'numberone': 14416, '‘meet': 14417, 'dillard’': 14418, 'dumbledor': 14419, 'gemma': 14420, 'explicitly': 14421, '2—but': 14422, 'regulations': 14423, '1top': 14424, 'mikaela': 14425, 'echame': 14426, 'ami': 14427, 'sess': 14428, '‘marvel’s': 14429, 'dagger’': 14430, 'olsens': 14431, 'tps': 14432, 'cience': 14433, 'piced': 14434, 'crepe': 14435, 'dearli': 14436, 'torre': 14437, '9781940941714': 14438, 'flack': 14439, 'porters': 14440, 'dire': 14441, 'traits': 14442, 'moody': 14443, 'blu': 14444, 'tamagotchi': 14445, 'paradise’s': 14446, 'vellies': 14447, 'aurora': 14448, 'elaine': 14449, 'welteroth': 14450, '‘carmen': 14451, 'andiego’': 14452, 'la’myia': 14453, 'assembl': 14454, 'arunas': 14455, 'groupon': 14456, '‘mustee': 14457, 'upporters': 14458, 'identified': 14459, 'trait': 14460, '‘loving’': 14461, 'unglerts': 14462, 'brescia': 14463, 'aryabrienne': 14464, 'negativity': 14465, 'lup': 14466, 'inviting': 14467, 'suggesting': 14468, 'lazlo': 14469, 'urveillance': 14470, 'bedtime': 14471, 'life—and': 14472, 'existing': 14473, 'unblocks': 14474, 'alleging': 14475, 'tattoo–but': 14476, 'wedens': 14477, 'taylorwifts': 14478, 'televisions': 14479, 'jameela': 14480, 'jamil': 14481, 'emile': 14482, 'hirsch': 14483, 'caity': 14484, 'lotz': 14485, 'untimely': 14486, 'rejoices': 14487, 'lobbying': 14488, 'ranger': 14489, 'rumer': 14490, 'sober': 14491, 'gentl': 14492, 'gaffes': 14493, 'warsaw': 14494, '‘fake’': 14495, 'acting’': 14496, 'disguises': 14497, 'quar': 14498, '4ev': 14499, 'ht': 14500, 'bent': 14501, 'heavenly': 14502, 'unburn': 14503, '‘terrifying’': 14504, '‘barf’': 14505, 'undaunted': 14506, 'kurts': 14507, 'roloff': 14508, 'ilvius’': 14509, 'mell': 14510, 'boy’s': 14511, 'galecki’s': 14512, 'begun': 14513, 'flamm': 14514, 'copied': 14515, 'excitement': 14516, 'soon': 14517, 'cardboard': 14518, 'investor': 14519, 'annaophia': 14520, 'ignific': 14521, '‘drake': 14522, 'josh’': 14523, 'plemon': 14524, 'offlin': 14525, 'tgit': 14526, 'annalise': 14527, 'selfdoubt': 14528, 'touted': 14529, '‘benefits’': 14530, 'culturally': 14531, 'nuanced': 14532, 'outtake': 14533, 'byobed': 14534, 'ky': 14535, 'cowel': 14536, '‘manifest’': 14537, 'additional': 14538, '16episode': 14539, 'rascals': 14540, 'approve': 14541, '“game': 14542, 'thrones”': 14543, 'lejuan': 14544, 'shots': 14545, 'sides': 14546, 'curses': 14547, 'fbombs': 14548, 'snafu': 14549, 'ias': 14550, '‘nazi': 14551, 'supremacist': 14552, 'jerks’': 14553, '“bridal': 14554, 'camp”': 14555, '45lb': 14556, 'pregnant—despite': 14557, 'flashing': 14558, 'judds': 14559, 'baseless': 14560, 'portiest': 14561, 'vader': 14562, '63': 14563, 'effs': 14564, 'scott': 14565, 'cornered': 14566, 'paparazzi—did': 14567, '49ers': 14568, 'carolyn': 14569, 'composer': 14570, 'alf': 14571, 'clausen': 14572, 'yuki': 14573, 'ection': 14574, 'weatpants': 14575, 'snuggle': 14576, 'volatil': 14577, 'grams': 14578, 'hindrances': 14579, 'afai’s': 14580, 'tactics': 14581, 'consistent': 14582, 'andringham': 14583, 'coordinated': 14584, 'defuse': 14585, 'fulfilled': 14586, 'argentinian': 14587, 'augmentations': 14588, '‘bigger’': 14589, 'pissed”': 14590, '“ame': 14591, 'outfit”': 14592, 'madekwe': 14593, 'cutoff': 14594, 'hotp': 14595, 'ocs': 14596, 'reeser': 14597, 'oulful': 14598, '‘week': 14599, 'treasure’s': 14600, 'garretts': 14601, 'would’ve': 14602, 'blurred': 14603, 'bane': 14604, '‘foodgod’': 14605, 'rejuvenation': 14606, 'karamo': 14607, 'preparations': 14608, '“made': 14609, 'ass”': 14610, 'formally': 14611, 'inring': 14612, 'paddington': 14613, 'ante': 14614, 'garfield’s': 14615, 'fatherhuntpol': 14616, 'jamora': 14617, 'it’ll': 14618, 'assorted': 14619, 'interests': 14620, 'tend': 14621, 'listened’': 14622, 'bellarke': 14623, 'eonline': 14624, 'artful': 14625, '“baby': 14626, 'choolgirl': 14627, 'deborralee': 14628, 'furness': 14629, 'pisses': 14630, '‘messing': 14631, 'telemundo’s': 14632, '“todos': 14633, 'unidos': 14634, 'chyno': 14635, 'roberto': 14636, 'tapia': 14637, 'thalia': 14638, 'yanke': 14639, 'vowed': 14640, 'legalized': 14641, 'ameex': 14642, 'dimitri': 14643, 'pecan': 14644, 'hemorrhage': 14645, 'how”': 14646, 'milla': 14647, 'jovovich': 14648, 'pinkthemed': 14649, 'filters': 14650, '‘here': 14651, 'pops': 14652, 'cloverfield': 14653, 'paradox': 14654, 'izombies': 14655, 'khalifa': 14656, 'houting': 14657, 'europ': 14658, '76ers': 14659, '‘crazy': 14660, 'exgirlfriend’': 14661, 'rebecca’s': 14662, 'nathaniel’s': 14663, 'josh’s': 14664, '‘quarterlife': 14665, 'tpain': 14666, '‘lemonade’': 14667, 'uncomfortable’': 14668, 'pontaneous': 14669, 'milked': 14670, 'ston': 14671, 'hyland’s': 14672, 'vagina’': 14673, 'hellish': 14674, 'jhené': 14675, 'speeding': 14676, 'aldridge’s': 14677, 'pointy': 14678, 'taste—ee': 14679, 'prebirthday': 14680, 'portman’s': 14681, '‘allmale': 14682, 'nominees’': 14683, 'trove': 14684, 'documentaries': 14685, '‘intyle’': 14686, 'millennials': 14687, 'lwymmd': 14688, '‘please': 14689, 'alexanderraj': 14690, 'fiances': 14691, 'stock': 14692, 'wind': 14693, 'fire’s': 14694, '‘eptember’': 14695, 'fowler': 14696, 'donts': 14697, 'adjustment': 14698, 'heron': 14699, 'guy’s': 14700, '43lb': 14701, 'feldsteins': 14702, 'pock': 14703, '‘ingle’': 14704, 'combine': 14705, '4…': 14706, 'lange': 14707, '“respect”': 14708, 'hutting': 14709, 'filmmaking': 14710, 'assessing': 14711, 'exgirlfriend’s': 14712, 'sequences': 14713, '“power': 14714, 'couple”': 14715, 'bloggers': 14716, 'tribe': 14717, 'pielbergs': 14718, 'dystopia': 14719, 'madne': 14720, 'serum': 14721, 'critically': 14722, 'umatran': 14723, 'cub': 14724, 'agts': 14725, 'evie': 14726, 'clair': 14727, 'ribbons': 14728, 'brooksbanks': 14729, 'illiteracy': 14730, 'overcam': 14731, '‘curb': 14732, 'enthusiasm’': 14733, '‘giving': 14734, 'advice’': 14735, 'breslin': 14736, 'cgi': 14737, 'birdies': 14738, 'soulcrushing': 14739, 'béi': 14740, 'drove': 14741, 'legendthemed': 14742, 'tarve': 14743, 'frontrunner': 14744, 'rbpop': 14745, 'storylines': 14746, 'ignorant': 14747, 'speechless': 14748, 'tellar': 14749, 'zayns': 14750, 'kollin': 14751, 'annalynne': 14752, 'waking': 14753, 'motorboat': 14754, 'omeon': 14755, 'reinstatement': 14756, 'magicians’': 14757, 'nixed': 14758, 'huri': 14759, 'tem': 14760, 'year39s': 14761, 'tack': 14762, 'fertilizer': 14763, 'regrowth': 14764, 'saddest': 14765, 'ts': 14766, 'boxers': 14767, 'briefs': 14768, 'quickfire': 14769, 'defies': 14770, 'mentioned': 14771, 'arabella': 14772, 'takers': 14773, 'natched': 14774, 'trainwreck': 14775, 'secondari': 14776, 'mcbride': 14777, 'retaliation': 14778, 'inseparable': 14779, 'cube': 14780, 'tirred': 14781, 'ultimately': 14782, 'extend': 14783, 'streak': 14784, '030': 14785, 'overwhelmed': 14786, '“homophobic': 14787, 'behavior”': 14788, 'rapping': 14789, 'tatist': 14790, 'suspicion': 14791, 'resisting': 14792, 'wrestle': 14793, 'unbeliev': 14794, 'oficial': 14795, 'amino': 14796, 'charm’s': 14797, 'ouths': 14798, 'latinos': 14799, 'touches': 14800, 'pippa’s': 14801, 'pageboy': 14802, '510': 14803, 'uspension': 14804, 'martinis': 14805, 'autograph': 14806, 'peretti': 14807, 'beaumont': 14808, 'days—heres': 14809, 'commuters': 14810, 'megawatt': 14811, 'elenas': 14812, 'yea': 14813, 'youtube’s': 14814, '‘bestcoverever’': 14815, 'ingingcompetition': 14816, '“ecret': 14817, 'friend”': 14818, 'mount': 14819, 'kilimanjaro': 14820, 'breathtak': 14821, 'wreckage': 14822, 'limousin': 14823, 'treasure': 14824, 'properly': 14825, 'prosecute': 14826, 'makeupfree': 14827, 'wigfree': 14828, 'lilo': 14829, 'titches': 14830, 'farber’s': 14831, 'duchovny': 14832, '19minute': 14833, 'eagram': 14834, 'funday': 14835, 'allegra': 14836, 'megabreasts': 14837, 'improved': 14838, '‘anything': 14839, 'possibility’': 14840, 'unironically': 14841, '40k': 14842, 'jayn': 14843, 'crispy': 14844, 'pitbulls': 14845, 'anistonangelina': 14846, 'floyd': 14847, 'mayweatherconor': 14848, 'conversecom': 14849, 'knights': 14850, 'dearest': 14851, 'iceman': 14852, 'painting': 14853, 'exboyfriend’s': 14854, 'natties': 14855, 'skydive': 14856, 'dres': 14857, 'defy': 14858, 'dutchess': 14859, 'anzac': 14860, 'minority': 14861, 'cosmopolitans': 14862, 'bethennys': 14863, '“dad”': 14864, 'dmed': 14865, 'cloud': 14866, 'nin': 14867, 'avicii’s': 14868, 'yoyoing’': 14869, 'cringes': 14870, 'unleashing': 14871, 'towel': 14872, 'zipper': 14873, 'francesco': 14874, 'carrozzini': 14875, '121': 14876, 'iphones': 14877, '‘a—hole’': 14878, 'bathes': 14879, 'flattering': 14880, '33rd': 14881, 'trevorlive': 14882, 'recapping': 14883, 'bozo': 14884, '”kisses': 14885, 'cuddles”': 14886, 'grodd': 14887, 'lutar': 14888, 'banderas': 14889, 'zyrus': 14890, 'charic': 14891, 'onlinepage3': 14892, 'predicting': 14893, 'oakley': 14894, 'separating': 14895, 'haunting': 14896, 'epps': 14897, 'individual': 14898, 'chim': 14899, 'initially': 14900, 'oninlaw': 14901, 'marine': 14902, 'corp': 14903, 'httpsmeonlinecomnews954111riverdaletruthordarefunimpressionsnewloveinterestsandmoreseason3scooprevealed': 14904, 'empowered': 14905, 'cults': 14906, 'bjo': 14907, 'brinkleys': 14908, 'machu': 14909, 'picchu': 14910, '“real': 14911, 'maher”': 14912, 'prefer': 14913, 'fight’': 14914, 'citing': 14915, 'glowy': 14916, 'sitch': 14917, 'reasoning': 14918, 'agame': 14919, 'honeymoons': 14920, '8eater': 14921, 'ortizmagro’s': 14922, 'este': 14923, 'howcasing': 14924, 'linked': 14925, 'brussels': 14926, 'manigault': 14927, 'coobydoo': 14928, 'morissette': 14929, 'oughta': 14930, 'vanisher': 14931, 'collaborations': 14932, 'mortim': 14933, 'tyrell': 14934, 'ballroom': 14935, 'disposing': 14936, 'tarana': 14937, 'trampoline': 14938, 'crazyfit': 14939, 'celebritiesturnedactivists': 14940, 'throughout': 14941, 'aww': 14942, 'dina’s': 14943, 'wholesome': 14944, 'mathew': 14945, '2049’': 14946, 'occurs': 14947, 'prestigious': 14948, 'barri': 14949, '10lb': 14950, 'nickelodeon’s': 14951, '2018’': 14952, 'dawna': 14953, 'polinsky': 14954, 'plug': 14955, 'fluctuating': 14956, 'urfer': 14957, 'barbados': 14958, 'pansexual': 14959, 'possible’': 14960, 'giambrone': 14961, 'blasting': 14962, 'rooting': 14963, '1975': 14964, 'offeason': 14965, '‘pointless’': 14966, 'lighted': 14967, 'no3': 14968, 'evasion': 14969, 'balfes': 14970, 'mcgil': 14971, 'contributed': 14972, 'mccarthy’': 14973, 'wilders': 14974, 'preserve': 14975, 'appreciating': 14976, '29m': 14977, 'grail': 14978, 'frighten': 14979, 'hargitays': 14980, 'expels': 14981, 'embattled': 14982, 'illusion': 14983, 'sunken': 14984, 'disrupts': 14985, 'forstmann': 14986, '85million': 14987, 'dude': 14988, 'ballsand': 14989, 'palvin': 14990, 'ilana': 14991, 'glazer': 14992, 'jacobson': 14993, 'luigi': 14994, 'kart': 14995, 'masturbated': 14996, 'clin': 14997, 'unprecedented': 14998, 'autonomy': 14999, 'elfmade': 15000, 'bonnie': 15001, 'clyd': 15002, 'indignant': 15003, 'embarrassingly': 15004, 'ellecoms': 15005, 'deutch': 15006, '‘meh’': 15007, 'valuable': 15008, 'haggy': 15009, 'reputable': 15010, 'hypocrisy': 15011, 'rejoiced': 15012, 'decor': 15013, 'misdemeanors': 15014, 'destroying': 15015, 'fahion': 15016, 'sites': 15017, 'suede': 15018, 'skirts': 15019, 'aronofskys': 15020, 'redhot': 15021, '‘gypsy’': 15022, 'knits': 15023, 'giveaway': 15024, 'luke…': 15025, 'hammers': 15026, 'fatherinlaw': 15027, 'hostess': 15028, 'mostess®': 15029, 'ample': 15030, 'iconically': 15031, 'rhett’s': 15032, 'changes”': 15033, 'ramsey’': 15034, 'pieth': 15035, 'cathey': 15036, 'entebale': 15037, 'lafca': 15038, '‘roma’': 15039, 'granik': 15040, 'lamp': 15041, 'livemusical': 15042, 'martin’s': 15043, '‘ridiculous’': 15044, '‘marriage': 15045, 'wasted': 15046, 'offices': 15047, 'innocent': 15048, 'guilti': 15049, '“black': 15050, 'rose”': 15051, 'fineamid': 15052, 'hyperthyroidism': 15053, 'tailoring': 15054, 'perfect’': 15055, 'handrolled': 15056, 'pretzels': 15057, 'haskell': 15058, 'brass': 15059, 'yanny': 15060, 'mchughs': 15061, '“big”': 15062, 'massive”': 15063, '4piece': 15064, 'notorandom': 15065, 'hannan': 15066, 'discussions': 15067, 'godmoth': 15068, 'celebrityloved': 15069, '‘terrible': 15070, 'kisser’': 15071, 'humanitarianism': 15072, 'erykah': 15073, 'badu': 15074, 'caleswild': 15075, 'urgent': 15076, 'gringo': 15077, 'grandfathers': 15078, 'nellys': 15079, 'parks’': 15080, 'amazing’': 15081, 'grieve': 15082, '65': 15083, 'fullest': 15084, 'tothe': 15085, 'greenfield': 15086, 'monte': 15087, 'cristo': 15088, 'liquor': 15089, 'jafar': 15090, 'rehearses': 15091, 'melling': 15092, 'winnipesauke': 15093, 'luc': 15094, 'besson': 15095, 'fowl': 15096, 'eals': 15097, 'knapek': 15098, 'degroot': 15099, 'disso': 15100, 'tends': 15101, 'harassers': 15102, 'underestimate': 15103, 'ghostbusters”': 15104, 'like’': 15105, 'tyle…': 15106, 'bowen’s': 15107, 'leavein': 15108, 'unbuttoned': 15109, 'energy': 15110, 'aaliyah’s': 15111, 'trendhop': 15112, 'eonlin': 15113, 'loudlyprinted': 15114, 'sobbing': 15115, '‘i’ve': 15116, 'everything’': 15117, 'philippines': 15118, 'ers': 15119, 'marquez': 15120, '“pread': 15121, 'light”': 15122, '“chaotic': 15123, 'octavia’s': 15124, 'littlefing': 15125, 'nettles': 15126, '‘king': 15127, 'preferred': 15128, '‘uicide': 15129, 'vedder': 15130, 'petty’s': 15131, '‘room': 15132, 'top’': 15133, 'wheels': 15134, 'philipps’': 15135, 'country’s': 15136, 'eparating': 15137, 'estates': 15138, 'adlon’s': 15139, '‘better': 15140, 'critic’s': 15141, 'atwoods': 15142, 'wast': 15143, 'eichner': 15144, 'pumbaa': 15145, 'timon': 15146, 'fries': 15147, '‘enchanté’': 15148, 'vocals': 15149, 'hangov': 15150, 'legitish': 15151, 'rydell': 15152, 'stalled': 15153, 'soulcrush': 15154, 'gräfin': 15155, 'walderdorff': 15156, 'datenight': 15157, 'captivated': 15158, 'amicably': 15159, 'tiniet': 15160, 'twinsplus': 15161, '2028': 15162, 'tuntman': 15163, 'bernecker': 15164, 'places': 15165, 'unpredictable': 15166, 'pectacle': 15167, 'cringing': 15168, 'uplift': 15169, 'izabel': 15170, 'goulart': 15171, 'trapp': 15172, 'aweinspiring': 15173, 'mustard': 15174, 'otherworldly': 15175, 'wonderland': 15176, 'moisturizer': 15177, 'staffer': 15178, 'crudely': 15179, 'lockerroom': 15180, 'liposuct': 15181, 'gather': 15182, 'repos': 15183, '‘aca’': 15184, '‘makes': 15185, 'ense’': 15186, 'hir': 15187, 'blackest': 15188, 'fiebre': 15189, 'milestones': 15190, 'meta': 15191, 'exualize': 15192, 'priestley': 15193, 'bowwowchallenge': 15194, '05e02': 15195, 'finalists': 15196, 'nerve': 15197, 'tapping': 15198, 'groundhogs': 15199, 'tale’s': 15200, 'moira’s': 15201, 'adultery': 15202, 'corrected': 15203, 'roachg': 15204, 'downass': 15205, '‘flava': 15206, 'ear’': 15207, 'naturi': 15208, 'naughton': 15209, '‘nailed': 15210, '‘purpose’': 15211, 'everwood': 15212, 'hooketh': 15213, '‘instigator’': 15214, 'dunns': 15215, '”let': 15216, 'escalate': 15217, 'vomit': 15218, 'trench': 15219, 'wizard': 15220, 'keshia': 15221, 'pulliams': 15222, '‘treet': 15223, 'cred’': 15224, 'spawned': 15225, 'ai': 15226, 'censored': 15227, 'recieve': 15228, 'meage': 15229, 'hi': 15230, 'ecstasy': 15231, 'cultural': 15232, 'ouch': 15233, 'inducte': 15234, 'tampon': 15235, 'tandout': 15236, 'dedivanovic': 15237, 'abuser': 15238, 'grissom': 15239, 'huckabee': 15240, 'anton': 15241, 'yelchin': 15242, 'noahs': 15243, 'patience': 15244, 'tamina': 15245, 'fortitud': 15246, 'saluting': 15247, 'evacuating': 15248, '“lifetime': 15249, 'lana’s': 15250, 'heats': 15251, '‘rape’': 15252, 'airline': 15253, 'spade': 15254, 'eleanors': 15255, 'missions': 15256, 'matte': 15257, 'whor': 15258, 'eulogy': 15259, 'tougher': 15260, 'fisher’s': 15261, 'trunk': 15262, '”great': 15263, 'place”': 15264, 'rid’': 15265, 'fillers': 15266, 'odette': 15267, 'introspection—and': 15268, '‘overwhelming’': 15269, 'janina': 15270, 'gavankar': 15271, 'wilkinson’s': 15272, 'awesom': 15273, '‘kidnap': 15274, 'witchhunt': 15275, 'hitmak': 15276, 'doppelgang': 15277, 'harbor': 15278, 'gilinsky': 15279, 'holk': 15280, 'garb': 15281, '280': 15282, 'morena': 15283, 'baccarin': 15284, 'chugging': 15285, 'taus': 15286, 'bones': 15287, '\\u200bkhloe': 15288, 'pounds—but': 15289, 'postbachelor': 15290, 'andor': 15291, 'tangl': 15292, 'problem’': 15293, 'linney': 15294, 'bigs': 15295, 'mandatory': 15296, 'preading': 15297, 'rayya': 15298, 'elia': 15299, '‘nl': 15300, 'mckinnon’s': 15301, 'ingraham': 15302, 'roachgate': 15303, 'lamar’s': 15304, 'maternal': 15305, 'participants': 15306, 'skirt': 15307, 'peeve': 15308, '’70s’': 15309, 'responding': 15310, '‘definitely': 15311, 'bottom’': 15312, 'runner’': 15313, 'post’': 15314, '“rough': 15315, 'night”': 15316, '“baby”': 15317, 'angélil': 15318, 'willie': 15319, 'garson': 15320, 'cattral': 15321, 'zechuan': 15322, 'auce': 15323, 'bryans': 15324, 'crawford’s': 15325, 'wolverine': 15326, 'centr': 15327, 'awful': 15328, 'recognition': 15329, 'foxella': 15330, 'gabrielkane': 15331, 'excus': 15332, 'bowed': 15333, 'romes': 15334, 'bravolebrities': 15335, 'concealing': 15336, 'olut': 15337, 'aden': 15338, 'melly': 15339, 'cooch': 15340, 'cult’': 15341, 'significance': 15342, 'glammed': 15343, 'selfdiscovery': 15344, 'ilently': 15345, 'inciting': 15346, 'mccarthys': 15347, 'copulating': 15348, 'puppet': 15349, 'watchers': 15350, 'sneak': 15351, 'janes': 15352, 'luann’s': 15353, 'cheduling': 15354, '“inappropriate': 15355, 'comments”': 15356, 'kordell': 15357, 'beautycon': 15358, 'torture': 15359, 'endanger': 15360, 'boll': 15361, 'soliciting': 15362, 'sting': 15363, 'oper': 15364, 'ledecky': 15365, 'certainly': 15366, 'separates': 15367, 'jussipekka': 15368, 'kajaala': 15369, '“ayonara”': 15370, 'kaluuya': 15371, '‘wizards': 15372, 'electrify': 15373, '“awful”': 15374, 'reshooting': 15375, 'plumm': 15376, 'criss’': 15377, 'oulmate': 15378, 'ometimes': 15379, 'bumpy': 15380, 'bites': 15381, 'cutlers': 15382, 'teammate': 15383, 'hott': 15384, 'ritter': 15385, 'denmarks': 15386, '83': 15387, 'letos': 15388, 'reinvention': 15389, 'powering': 15390, 'underwood’s': 15391, 'offset’s': 15392, '‘god': 15393, 'lennon': 15394, 'maisy': 15395, 'eat’': 15396, 'nafu': 15397, 'galentine’s': 15398, 'galpals': 15399, 'defined': 15400, 'yanic': 15401, 'truesdale': 15402, 'drinkers': 15403, 'obesity': 15404, 'parents”': 15405, '‘broken’': 15406, 'words’': 15407, 'louisa': 15408, 'alcotts': 15409, '‘are': 15410, 'gianna': 15411, 'routines': 15412, 'witty': 15413, 'fiercest': 15414, 'toback': 15415, 'uperhot': 15416, 'calm': 15417, 'beliebers': 15418, 'paola': 15419, 'paulin': 15420, 'piral': 15421, 'accentuates': 15422, 'todays': 15423, 'yesterdays': 15424, '‘praying': 15425, 'manchester’': 15426, 'bivens': 15427, 'bloodied': 15428, 'dougla': 15429, '‘numbencore’': 15430, 'park’s': 15431, 'unshine': 15432, 'att': 15433, 'directv': 15434, 'transl': 15435, 'newlyweds—and': 15436, 'produced': 15437, 'posit': 15438, 'oftcore': 15439, 'fraternity': 15440, 'hazing': 15441, 'benioff': 15442, 'indian': 15443, 'express': 15444, '2002': 15445, 'hypocritical': 15446, 'treak': 15447, 'tomeeka': 15448, 'braci': 15449, 'mindblowing': 15450, 'marvelstudio': 15451, 'galaworthy': 15452, 'adair': 15453, 'fical': 15454, 'wellnessdry': 15455, 'brushing': 15456, 'granola': 15457, 'infrared': 15458, 'cuddly': 15459, 'albe': 15460, '‘dear': 15461, 'hate’': 15462, 'ema': 15463, 'alternatives': 15464, 'misconcept': 15465, 'ninth': 15466, 'plump': 15467, 'shoutout': 15468, 'ranch’': 15469, 'cuddl': 15470, 'grandfath': 15471, 'comingout': 15472, 'aliens': 15473, 'ocd': 15474, 'conviction': 15475, '39n': 15476, 'hollywood39s': 15477, '‘winced’': 15478, 'sat': 15479, 'duhamels': 15480, 'ampquotcapegoatampquot': 15481, 'bai': 15482, 'kittl': 15483, '‘got’': 15484, 'elfacceptance': 15485, 'carps': 15486, 'parisian': 15487, 'tough”': 15488, 'do’s': 15489, 'prodigies': 15490, 'himmering': 15491, 'raciest': 15492, 'prodigys': 15493, 'blackhead': 15494, 'preads': 15495, 'craigs': 15496, 'kaepernick': 15497, 'muhammad': 15498, 'hulk': 15499, 'bodydouble': 15500, '“coming”': 15501, 'clever': 15502, 'expresidents': 15503, '‘devastated’': 15504, 'fans’': 15505, 'tapleton’s': 15506, 'anika': 15507, 'noni': 15508, 'houhed': 15509, 'parido': 15510, 'roxy': 15511, 'fantast': 15512, '84’': 15513, 'cientific': 15514, 'madness”': 15515, '46th': 15516, 'cortes': 15517, 'shelter': 15518, 'disputes': 15519, 'lambi': 15520, 'pomp': 15521, 'pageantry': 15522, 'onward': 15523, 'upward': 15524, '‘bridezillas’': 15525, 'beans': 15526, '‘agt’': 15527, 'dreamy': 15528, 'radically': 15529, 'loyalti': 15530, 'commemorates': 15531, 'modelo': 15532, 'tulle': 15533, 'couch': 15534, 'inch': 15535, 'amazons': 15536, 'collectibles': 15537, 'backstabbing': 15538, '‘body': 15539, 'double’': 15540, 'cartoons': 15541, 'cursing': 15542, 'drivethrough': 15543, 'sixyearold': 15544, 'ivys': 15545, 'shopp': 15546, 'nearidentical': 15547, 'aninteresting': 15548, 'housewifes': 15549, 'impsons’': 15550, '£335': 15551, 'closest': 15552, 'keepsak': 15553, 'peeches': 15554, 'invention': 15555, 'breakthrough': 15556, 'unresolvedmysteri': 15557, 'define': 15558, 'dictionarycom': 15559, 'kay': 15560, 'letourneau': 15561, 'tudentturnedhusband': 15562, 'fualaau': 15563, '‘going': 15564, 'ct': 15565, 'mop': 15566, 'anatomys': 15567, '2b': 15568, 'clary': 15569, 'chooses': 15570, 'motors': 15571, 'rake': 15572, 'dockett': 15573, 'colonoscopi': 15574, 'tained': 15575, 'tandem': 15576, 'unlike': 15577, 'choosing': 15578, 'kazan': 15579, 'hoplift': 15580, 'washes': 15581, 'maxwel': 15582, 'cervical': 15583, 'lucky”': 15584, 'tisdale—and': 15585, 'kerrigan’s': 15586, 'cyclist': 15587, 'strang': 15588, '“krippy': 15589, 'kush”': 15590, 'minspired': 15591, 'vuittons': 15592, 'tudded': 15593, 'quotlove': 15594, 'allquot': 15595, 'timetravel': 15596, 'homebodies': 15597, 'cryptically': 15598, 'longrumored': 15599, 'tiana': 15600, 'marunde': 15601, 'reno': 15602, 'ford’s': 15603, 'encourages': 15604, 'twoweek': 15605, 'kanyeproduced': 15606, '“maria”': 15607, 'brent': 15608, 'bushnel': 15609, 'hallelujah': 15610, 'murillo': 15611, 'jackies': 15612, 'becki': 15613, 'salty': 15614, 'highness': 15615, 'hinchcliffe': 15616, 'minnesotaborn': 15617, 'conquest': 15618, 'battled': 15619, '‘empire’': 15620, 'cross’': 15621, 'introduction': 15622, '‘call': 15623, 'unraveled': 15624, '‘…readi': 15625, 'impersonate': 15626, 'avgeropoulos': 15627, 'и': 15628, 'fashionistas': 15629, '‘ah': 15630, 'apocalypse’': 15631, 'punky': 15632, 'warburtonadams': 15633, 'valor': 15634, 'kroll': 15635, 'residuals': 15636, 'kardashian39s': 15637, 'you39re': 15638, '97yearold': 15639, 'granny': 15640, '11000': 15641, '80000': 15642, 'rereleases': 15643, 'dnc': 15644, '40yearold': 15645, 'lohr': 15646, '942': 15647, 'royalties': 15648, 'hera': 15649, 'aloneget': 15650, 'juelia': 15651, 'bass’': 15652, '“assassination': 15653, 'versace”': 15654, 'happily': 15655, 'fee': 15656, 'arrangement”': 15657, 'openly': 15658, 'hanson’s': 15659, 'mmmbop': 15660, 'ei': 15661, 'dubrows': 15662, 'reconstruction': 15663, 'paraplegic': 15664, 'ixyearold': 15665, 'sucks': 15666, 'choreographer': 15667, 'robsons': 15668, 'client': 15669, 'apologized': 15670, 'perlas': 15671, 'artinspired': 15672, 'strawberry': 15673, 'chugs': 15674, 'revision': 15675, 'bootcut': 15676, 'amassing': 15677, 'bootleg': 15678, 'quaaludes': 15679, 'crabs': 15680, 'bohans': 15681, 'urrendered': 15682, '“butterflies': 15683, 'eleanor’s': 15684, '84th': 15685, 'briefly': 15686, 'churchil': 15687, 'triumph': 15688, 'vents': 15689, 'elfcentered': 15690, 'pelosi': 15691, 'hudgen': 15692, 'bishop': 15693, 'outline': 15694, 'ermon': 15695, 'gadon': 15696, 'px': 15697, 'minnette': 15698, 'gayhearts': 15699, 'memorabilia': 15700, 'diem': 15701, 'raymund': 15702, 'lachapelle’s': 15703, '‘harvey': 15704, 'everybody’': 15705, 'commes': 15706, 'garçons': 15707, 'mooney': 15708, 'fiancè': 15709, 'billingsley': 15710, 'noms': 15711, 'chapters’': 15712, 'eacrest’s': 15713, 'brighten': 15714, '‘ewwww’': 15715, 'goos': 15716, 'sinks': 15717, 'meat’': 15718, 'partridge': 15719, 'turners': 15720, 'adrienn': 15721, 'michalka': 15722, 'everywhere': 15723, '“don’t': 15724, 'pronounce': 15725, 'lengths': 15726, 'weathers': 15727, 'meownific': 15728, '‘unwedding’': 15729, 'becca’s': 15730, '‘lap': 15731, 'face’': 15732, '156': 15733, 'pred': 15734, 'peeloff': 15735, 'charcoal': 15736, 'sexualmisconduct': 15737, 'foam': 15738, 'thiccsgiving': 15739, 'mikey': 15740, '‘getaway': 15741, 'car’': 15742, 'conceived': 15743, 'blunders': 15744, 'alarms': 15745, 'keet': 15746, 'ulrich': 15747, 'thinner': 15748, 'teen’s': 15749, 'land’': 15750, 'prompos': 15751, 'homecoming’s': 15752, 'endcredits': 15753, 'anatomy’s': 15754, 'caterina': 15755, 'corsone': 15756, 'e11': 15757, 'whaaat': 15758, 'cleansing': 15759, 'election': 15760, 'wrapup': 15761, 'ahora': 15762, 'boyfriend’s': 15763, 'eraphina': 15764, 'pullman': 15765, '“malibu”': 15766, 'palandjian': 15767, 'ophisticated': 15768, 'intellectual': 15769, 'tosh': 15770, 'corset': 15771, 'catapulting': 15772, 'burglari': 15773, 'bjs': 15774, 'triptease': 15775, 'mostly': 15776, 'midi': 15777, 'dreamers': 15778, 'oundtrack': 15779, 'urr': 15780, 'kash': 15781, 'unimaginably': 15782, 'heroic': 15783, 'treetwear': 15784, 'kyes': 15785, 'highlighter': 15786, 'average': 15787, 'groove': 15788, 'clim': 15789, 'doping': 15790, 'nirvana': 15791, 'halcros': 15792, 'balloons': 15793, 'doozi': 15794, 'debacl': 15795, '“nice”': 15796, '50m': 15797, 'neighborhood': 15798, 'survivors': 15799, 'celebloved': 15800, 'microblad': 15801, 'feige': 15802, 'unzipped': 15803, 'washington’s': 15804, 'bodycon': 15805, 'rourke': 15806, 'guilts': 15807, 'defrancesco': 15808, 'multi': 15809, 'freed’': 15810, 'brant': 15811, 'daugherty': 15812, 'hidalgo': 15813, '7yearolds': 15814, 'soontodisappear': 15815, 'someth': 15816, 'ammo': 15817, 'britain': 15818, 'witching': 15819, 'barefaced': 15820, 'unprompted': 15821, 'goose': 15822, 'oaks': 15823, '‘lowriders’': 15824, 'o…does': 15825, 'glinda': 15826, 'bandmates': 15827, '‘nide’': 15828, 'monologu': 15829, 'ripert': 15830, 'gabbery': 15831, 'real”': 15832, 'uzo': 15833, 'aduba’s': 15834, 'dramat': 15835, 'sheer': 15836, 'conqueror': 15837, 'parenthamed': 15838, 'maralago': 15839, 'groan': 15840, 'johnathon': 15841, 'chaech': 15842, 'zeffirelli': 15843, 'zanatta': 15844, 'tucky': 15845, 'allude': 15846, 'reaper': 15847, 'prettylittleliar': 15848, 'hayeks': 15849, 'debuting': 15850, 'paired': 15851, 'black’s': 15852, 'soaks': 15853, 'remainder': 15854, 'chrisleys': 15855, 'moto': 15856, 'armageddon': 15857, 'rocketed': 15858, '“bizarre”': 15859, 'crunchie': 15860, 'catholic': 15861, 'pickler': 15862, '“orry”': 15863, 'goanywhere': 15864, 'shin': 15865, 'gretzky': 15866, 'levin': 15867, 'fashionably': 15868, 'cardiff': 15869, 'narcos’': 15870, 'pedro': 15871, 'pascal': 15872, 'ángel': 15873, 'txb': 15874, 'grad': 15875, 'limes': 15876, 'spoil': 15877, 'upvot': 15878, 'homelessness': 15879, 'sorri': 15880, 'roden': 15881, 'fischers': 15882, 'wralcom': 15883, 'pacino': 15884, 'voteout': 15885, 'represent': 15886, 'jax’s': 15887, 'barrons': 15888, 'masterminded': 15889, 'panties': 15890, 'ritzcarlton': 15891, 'nations': 15892, 'augmentation': 15893, 'trio': 15894, 'haas': 15895, '‘quasimodo’': 15896, 'davis’': 15897, '30off': 15898, 'hoodi': 15899, 'quartz': 15900, 'mechie': 15901, 'america’': 15902, 'felicia’': 15903, 'roseanneand': 15904, 'lancaster’s': 15905, 'foo': 15906, 'fighters': 15907, 'starlord': 15908, 'mesmerizing': 15909, 'lubomirski': 15910, 'hairspray': 15911, 'jordans': 15912, 'glo': 15913, 'package': 15914, 'wackiest': 15915, '‘bummed': 15916, '‘lighten': 15917, 'street': 15918, 'adler': 15919, 'fuelled': 15920, 'archvillain': 15921, 'ringo': 15922, 'tarr': 15923, 'gibb': 15924, 'knighthoods': 15925, '£495million': 15926, 'tagged': 15927, 'whathappensattheabbey': 15928, 'donna’s': 15929, '“learn': 15930, 'uplifting': 15931, 'interrupted': 15932, 'erenas': 15933, '“character': 15934, 'building”': 15935, 'nerv': 15936, 'correa': 15937, 'victori': 15938, '‘john': 15939, 'wick’': 15940, 'posters': 15941, 'happening–with': 15942, 'haibons': 15943, 'frogging': 15944, 'rayna': 15945, 'jaym': 15946, '‘free’': 15947, 'lecy': 15948, 'goranson': 15949, 'wonky': 15950, 'fixed': 15951, 'caffeineinfused': 15952, 'birchbox': 15953, 'marroquins': 15954, 'chneiderman': 15955, 'rights': 15956, 'heléa': 15957, 'alute…': 15958, 'bianca': 15959, 'deet': 15960, 'izes': 15961, 'debilitating': 15962, 'crafty': 15963, 'punoff': 15964, 'awaiting': 15965, '42—and': 15966, 'boone': 15967, 'dynamic': 15968, 'reeeally': 15969, 'hitandrun': 15970, 'olu': 15971, 'promised': 15972, 'nosebut': 15973, 'opposite': 15974, '“meant': 15975, 'freezes': 15976, 'nutty': 15977, 'jinx': 15978, 'perfumes': 15979, 'camouflage': 15980, 'financial': 15981, 'denial’': 15982, 'tabler': 15983, 'battered': 15984, 'maytreanors': 15985, 'mele': 15986, 'jaina': 15987, 'selftann': 15988, 'this”': 15989, '“now': 15990, 'lovin”': 15991, 'againit’s': 15992, 'monologues': 15993, 'attitudes': 15994, '”happy”': 15995, 'mommies': 15996, '“ituational': 15997, 'depression”': 15998, 'panned': 15999, 'steampunk': 16000, 'cosplay': 16001, '‘trained’': 16002, 'lav': 16003, 'loo': 16004, 'grabbing': 16005, 'discoveri': 16006, 'cheetos': 16007, 'chopstick': 16008, 'kaskade’s': 16009, 'don’ts': 16010, 'elmo': 16011, 'floati': 16012, 'grindr': 16013, '“calm': 16014, 'parlor': 16015, 'tich': 16016, 'bootyperfecting': 16017, 'yl': 16018, 'beauté': 16019, 'rewriting': 16020, 'trailblazing': 16021, 'nacon': 16022, 'hugt': 16023, '‘champs': 16024, 'dms': 16025, '”love': 16026, 'nyongos': 16027, 'bosworths': 16028, 'hormonal': 16029, 'falcone': 16030, 'heyers': 16031, 'muic': 16032, '“reggaetón': 16033, 'lento': 16034, 'remix”': 16035, 'cribe': 16036, '“oul': 16037, 'mate”': 16038, '“aggressive”': 16039, 'fifa': 16040, 'russia™': 16041, 'paves': 16042, 'bodyguards': 16043, 'counsel': 16044, 'jenner39s': 16045, 'podcasts': 16046, 'progressing': 16047, 'mandated': 16048, 'recount': 16049, '2024': 16050, 'benchetrit': 16051, 'inches': 16052, 'neverland': 16053, 'deck’s': 16054, 'rosbach': 16055, 'charter': 16056, 'tucci': 16057, 'giovanna': 16058, '180': 16059, 'quotdonequot': 16060, 'explosive…': 16061, 'pranksters': 16062, 'fool’s': 16063, 'depressed': 16064, '‘william’': 16065, '‘page': 16066, 'dowd': 16067, 'darn': 16068, 'citys': 16069, 'intylecom': 16070, 'lived': 16071, 'agt': 16072, 'beckinsale’s': 16073, 'headpieces': 16074, 'golnesa': 16075, 'gg': 16076, 'gharachedaghis': 16077, 'halom': 16078, 'yeroushalmi': 16079, 'lipynching': 16080, 'ateens': 16081, 'miscarri': 16082, 'embellished': 16083, 'cantan': 16084, 'afterparties': 16085, 'statist': 16086, 'inclusion': 16087, 'braff': 16088, 'chalkes': 16089, 'crubs': 16090, 'awar': 16091, 'birthday🎂': 16092, 'pals👭': 16093, 'adkin': 16094, 'wildflowers': 16095, 'queers”': 16096, 'vers': 16097, 'bufanda': 16098, 'burrusss': 16099, 'disgust': 16100, 'rancics': 16101, 'adkins': 16102, 'peanuts': 16103, '“epic': 16104, 'close”': 16105, 'licked': 16106, 'tana': 16107, 'mongeaus': 16108, 'faceappee': 16109, 'benefits': 16110, 'bribed': 16111, 'marti': 16112, 'ghosting': 16113, 'ticketbuying': 16114, 'cabs': 16115, 'influences': 16116, 'vand': 16117, 'fueling': 16118, 'nurse': 16119, 'recycles': 16120, 'dvf': 16121, 'aveng': 16122, 'boseman’s': 16123, 'customer': 16124, 'rapid': 16125, 'ketogenic': 16126, '793': 16127, 'serv': 16128, 'basket': 16129, 'oher': 16130, 'premiered': 16131, 'glittery': 16132, 'hoothuntpol': 16133, 'cigna': 16134, 'teveo': 16135, 'four—and': 16136, 'future★': 16137, 'isla': 16138, 'party’': 16139, 'culpted': 16140, '‘operation': 16141, 'repo’': 16142, 'pumps': 16143, 'laduré': 16144, '“total': 16145, 'diva”': 16146, 'wedneday': 16147, '9pm': 16148, 'etpt': 16149, 'pundit': 16150, '20172018': 16151, 'pulitz': 16152, 'complicity': 16153, 'machin': 16154, 'kors': 16155, '‘professional': 16156, 'fluid': 16157, 'programming': 16158, 'bracket': 16159, 'exgf': 16160, 'medalworthy': 16161, 'taglines': 16162, '“calling”': 16163, '2200': 16164, 'cassidy’s': 16165, 'mistletoe': 16166, 'lessep’s': 16167, 'd’agostino': 16168, 'bündchens': 16169, 'baffling': 16170, 'induction': 16171, '19th': 16172, 'crossing’': 16173, 'squad': 16174, '‘cola’': 16175, '4e04': 16176, 'guarded”': 16177, 'shaman': 16178, 'rance': 16179, '“fixer': 16180, 'upper”': 16181, 'aestheticians': 16182, 'fuzz': 16183, 'invades': 16184, 'ceptical': 16185, 'tyler’s': 16186, '‘being': 16187, 'jane’': 16188, '2hour': 16189, 'babit': 16190, 'ways’': 16191, 'mustee': 16192, 'archie': 16193, 'jugheads': 16194, 'reprises': 16195, 'acrificing': 16196, 'butterbeer': 16197, 'grung': 16198, 'stud': 16199, 'wrestl': 16200, 'superheroes': 16201, 'describing': 16202, 'shelt': 16203, 'zwierzynski': 16204, 'swanby': 16205, 'cowork': 16206, 'christenings': 16207, 'inches—and': 16208, 'pel': 16209, 'cliqu': 16210, 'jennifers': 16211, 'shovel': 16212, 'damaged': 16213, 'cords': 16214, 'exploring': 16215, 'unmentionables': 16216, 'privilege': 16217, '‘untouchable’': 16218, 'koreanpop': 16219, 'erupted': 16220, 'fleetwood': 16221, 'colett': 16222, 'money’': 16223, 'slips': 16224, 'gear': 16225, 'boyz': 16226, '‘isterhood': 16227, 'pants’': 16228, 'unintentional': 16229, 'winding': 16230, 'moanas': 16231, 'urgical': 16232, 'annoying': 16233, 'f—ck': 16234, 'alerted': 16235, 'garni': 16236, 'hooker': 16237, 'lyft': 16238, 'andlot’': 16239, 'changeup': 16240, 'notonice': 16241, 'wits': 16242, 'demeaning': 16243, 'alzheimer’s': 16244, 'observers': 16245, 'macys': 16246, 'transf': 16247, 'kameron': 16248, 'westscott': 16249, 'dandra': 16250, 'lightsaber': 16251, 'roe': 16252, 'jackjack': 16253, 'dormer': 16254, 'cincinnati': 16255, 'willi': 16256, '‘intensive': 16257, 'program’': 16258, 'maller': 16259, '“worst': 16260, 'nightmare”': 16261, 'fallon’s': 16262, '20foot': 16263, '‘hocked': 16264, 'core’': 16265, 'recy': 16266, 'cutter': 16267, 'nonhodgkin39s': 16268, 'lymphoma': 16269, 'twoyear': 16270, 'luscious': 16271, 'refollows': 16272, 'perfecting': 16273, 'annabella': 16274, 'ciorra': 16275, 'lovin': 16276, 'haw': 16277, 'kards': 16278, 'huck': 16279, 'tefon': 16280, 'babyhark': 16281, 'aunts': 16282, 'jetblue': 16283, 'nicknames': 16284, 'preston': 16285, 'shotgun': 16286, 'languag': 16287, 'hookus’': 16288, 'nervewracking': 16289, 'chainsmok': 16290, 'incest': 16291, 'sharp': 16292, 'necklac': 16293, 'horseback': 16294, 'scheduled': 16295, 'toby': 16296, 'keiths': 16297, 'revive': 16298, '“tem': 16299, 'cells': 16300, 'vodka”': 16301, 'twain’s': 16302, 'latex': 16303, 'bodyham': 16304, 'utah’s': 16305, 'decide': 16306, 'fuck': 16307, 'president’s': 16308, '‘tep': 16309, 'brady’s': 16310, '”divorce”': 16311, 'kitti': 16312, '1114': 16313, 'poet': 16314, 'swim': 16315, 'sunburn': 16316, 'spots': 16317, 'kyoto': 16318, 'wagn': 16319, 'corny': 16320, 'cyberbullying': 16321, 'gosl': 16322, 'crushed': 16323, 'fountain': 16324, '‘financially': 16325, 'logistically': 16326, 'impossible’': 16327, '“danny': 16328, 'mindy”': 16329, 'instal': 16330, 'foods': 16331, 'bandmate': 16332, 'pets': 16333, 'fourlegged': 16334, 'odin': 16335, 'pyrenees': 16336, 'boing': 16337, 'lettuce': 16338, 'lug': 16339, 'bestelling': 16340, 'cv': 16341, '0': 16342, 'broken’': 16343, 'luncheon': 16344, 'wahler': 16345, 'mine’': 16346, 'exualized': 16347, 'aerosmith’s': 16348, '“dude': 16349, 'beautifully': 16350, 'e3': 16351, 'phenomenon': 16352, 'relive’': 16353, 'keepin': 16354, 'golfing': 16355, 'today’s': 16356, 'dreyer': 16357, 'rainbowthemed': 16358, 'asahds': 16359, 'rub': 16360, 'schooled': 16361, 'dinosaurs': 16362, 'extinction': 16363, 'colorinspired': 16364, 'aul': 16365, 'chappel': 16366, 'lowells': 16367, 'posttreatment': 16368, 'morocco': 16369, 'invent': 16370, 'hips': 16371, 'liugets': 16372, 'kidder': 16373, 'bids': 16374, 'sentimental': 16375, 'everybloke': 16376, 'pub': 16377, 'stadium': 16378, 'shol': 16379, 'teewhyhive': 16380, 'braidtobun': 16381, 'downplays': 16382, 'erious”': 16383, 'longrunning': 16384, 'lcd': 16385, 'oundsystem’s': 16386, 'russom': 16387, 'cloned': 16388, 'travolta’s': 16389, '‘gotti’': 16390, '‘drag': 16391, 'kid’': 16392, 'feeds': 16393, 'piano': 16394, 'microphone': 16395, '1983': 16396, 'lhuilli': 16397, 'brunett': 16398, 'kewers': 16399, 'crotum': 16400, 'society': 16401, 'debutantes': 16402, '‘reign’': 16403, 'hamer': 16404, '‘great': 16405, 'comedic': 16406, 'creator’s': 16407, 'overbearing': 16408, 'reflecting': 16409, 'dagger': 16410, 'bynes’': 16411, 'taging': 16412, 'iheartmedia': 16413, 'pimpl': 16414, 'betterelationshipscom': 16415, 'alexand': 16416, '‘fetish’': 16417, 'rousey’s': 16418, '‘welcome': 16419, 'izzie': 16420, 'cristina—but': 16421, 'dysmorphia': 16422, 'criticize': 16423, 'marshall': 16424, '‘fully': 16425, '‘boy’': 16426, 'ba': 16427, 'morenos': 16428, 'ovation': 16429, 'exhibition': 16430, '“there': 16431, 'lives”': 16432, 'milf': 16433, '“late': 16434, 'waddells': 16435, 'ubban': 16436, 'shaving': 16437, 'reignited': 16438, 'distraught': 16439, 'dickerson': 16440, 'aluminum': 16441, 'foilchic': 16442, 'rim': 16443, 'attempting': 16444, 'muscular': 16445, 'walkin': 16446, '47day': 16447, 'kidnapping': 16448, 'ga': 16449, 'anniversaries': 16450, 'arra': 16451, 'goalie': 16452, 'erums': 16453, 'bae': 16454, 'savings': 16455, 'sandals': 16456, 'bench': 16457, '‘hard': 16458, '‘raven’s': 16459, '‘that’s': 16460, 'raven’': 16461, 'now—hop': 16462, 'gram': 16463, 'awkward…': 16464, 'tudios’': 16465, 'mcu': 16466, 'broadwaybound': 16467, 'headphones': 16468, 'passengers': 16469, '6monthold': 16470, 'illiter': 16471, 'markpaul': 16472, 'gosselaar': 16473, 'tiffani': 16474, 'thiessen': 16475, 'thursdays': 16476, 'giraff': 16477, 'doused': 16478, 'wastika': 16479, 'delaneys': 16480, 'emifin': 16481, 'mitch': 16482, 'landrieu': 16483, 'cotton': 16484, 'rand': 16485, 'gridiron': 16486, 'mccann': 16487, 'incredibles’': 16488, 'edna': 16489, 'mode': 16490, 'harper’s': 16491, '394': 16492, 'foxiest': 16493, 'windswept': 16494, 'reset': 16495, 'sidewalk': 16496, 'struts': 16497, 'eye’s’': 16498, 'bindis': 16499, 'demario’': 16500, '“high': 16501, 'musical”': 16502, 'vogue’s': 16503, '411': 16504, 'builtin': 16505, 'jefferi': 16506, 'reprimands': 16507, 'soundtrack': 16508, 'headrest': 16509, 'trok': 16510, 'raffaella': 16511, 'modugno': 16512, '‘ave’': 16513, 'increas': 16514, 'unseen': 16515, 'leia': 16516, 'nickelback': 16517, 'dannielynn': 16518, 'birkhead': 16519, 'ontrend': 16520, 'authors': 16521, 'moviestar': 16522, '‘i’d': 16523, 'bollywood’': 16524, 'rukh': 16525, 'khan': 16526, 'colorcorrecting': 16527, 'concealers': 16528, 'fascinators': 16529, '‘ozark’': 16530, 'beetlejuice': 16531, 'altandpepper': 16532, 'silver': 16533, 'cyclon': 16534, 'royale’': 16535, 'bridges’': 16536, 'priest': 16537, 'krista': 16538, 'vernoff': 16539, 'magnet': 16540, 'clicksmileworldwid': 16541, 'hough’s': 16542, '20k': 16543, '15k': 16544, 'firework': 16545, 'tabbed': 16546, '‘maisel’': 16547, 'dannemora’': 16548, 'visibility': 16549, 'arrogant': 16550, 'grill': 16551, 'trending': 16552, 'raúl': 16553, 'livingstone': 16554, 'botswana': 16555, 'bleeder': 16556, 'dens': 16557, 'twirl': 16558, 'deactivated': 16559, '‘elf’': 16560, 'burgess’': 16561, 'hint…': 16562, 'creepily': 16563, 'wherever': 16564, 'dispels': 16565, 'wage': 16566, 'warfare': 16567, '‘thinking': 16568, 'lovato’': 16569, 'upport’': 16570, 'busty': 16571, 'bizarr': 16572, 'beefs': 16573, 'addit': 16574, 'chlo': 16575, 'roswell': 16576, 'avannah’s': 16577, '“millie': 16578, 'homophobic”': 16579, 'harmless': 16580, 'gleekl': 16581, '233': 16582, 'pricey': 16583, 'marque': 16584, '“wasn’t': 16585, 'back”': 16586, 'ashas': 16587, 'fatheron': 16588, 'ravenymoné': 16589, 'chastains': 16590, 'fizz': 16591, 'belvedere': 16592, 'prosecco': 16593, 'himmer': 16594, 'pigment': 16595, 'decoration': 16596, 'travelers': 16597, 'volcano': 16598, 'carteris': 16599, 'pumaand': 16600, 'dop': 16601, 'quotcared': 16602, 'bottlesquot': 16603, 'rallies': 16604, 'oscars—and': 16605, 'theron’s': 16606, 'iii': 16607, 'milkshak': 16608, 'rarely': 16609, 'easy’': 16610, 'eñor': 16611, 'cielos': 16612, 'fernanda': 16613, 'diarist': 16614, 'ingle’': 16615, 'interstellar': 16616, 'nickihndrxx': 16617, 'parrilla': 16618, 'equally': 16619, 'polished': 16620, 'narrate': 16621, 'trimest': 16622, 'ghosts’': 16623, 'buckl': 16624, '50sthemed': 16625, 'pancreatic': 16626, 'eizures': 16627, 'riveting': 16628, 'workplace': 16629, '8k': 16630, 'kebbel': 16631, 'boeman': 16632, '“magnetic”': 16633, 'chemitry': 16634, 'hazard': 16635, 'contempt': 16636, 'bed—revisit': 16637, '‘men': 16638, 'firstlook': 16639, 'neuralyze': 16640, 'allnew': 16641, 'estim': 16642, 'censoring': 16643, 'gestational': 16644, '“tortuous”': 16645, 'lwd': 16646, 'william’': 16647, 'cullys': 16648, 'mythology': 16649, '‘evaluation': 16650, 'treatment’': 16651, 'makai': 16652, 'cancellations': 16653, 'cupid': 16654, 'trea': 16655, 'mettemarit': 16656, 'flyest': 16657, 'veuve': 16658, 'clicquot': 16659, 'advantag': 16660, 'pacifica': 16661, 'mthemed': 16662, 'moussas': 16663, 'potters': 16664, 'godrics': 16665, 'hollow': 16666, 'cruelly': 16667, '“strategy”': 16668, 'backfired': 16669, '9781501181825': 16670, 'financially': 16671, 'bramhal': 16672, 'jcrew': 16673, '40lb': 16674, 'classes': 16675, 'nicest': 16676, 'hovino': 16677, 'girlie': 16678, 'connick': 16679, 'goodacre': 16680, 'educate': 16681, 'lemonadeing': 16682, 'potteri': 16683, 'hues': 16684, 'detour': 16685, 'upsidedown': 16686, 'emiformal': 16687, 'hijacks': 16688, '‘buffy’': 16689, 'raven’s': 16690, 'cranky': 16691, 'butthead': 16692, 'vday': 16693, 'darcy': 16694, 'japan’s': 16695, '‘immaturity’': 16696, 'harvards': 16697, 'pudding': 16698, 'troupe': 16699, '174': 16700, 'paceys': 16701, 'willcocks': 16702, '“dinero”': 16703, 'antigua': 16704, 'longlasting': 16705, 'testino': 16706, 'mercilessly': 16707, 'dazzled': 16708, 'floods': 16709, 'sloth': 16710, 'laws': 16711, 'bailing': 16712, 'rodgers’': 16713, 'antifur': 16714, 'disrupt': 16715, 'panx': 16716, '“bad': 16717, 'liar”': 16718, 'christy': 16719, 'mudslid': 16720, 'draining': 16721, 'marni': 16722, '‘healthier': 16723, 'happier’': 16724, 'taron': 16725, 'niche': 16726, 'convinces': 16727, 'improv': 16728, 'earpiece': 16729, 'teasers': 16730, '24k': 16731, 'erenade': 16732, 'narcotics': 16733, 'sinister': 16734, 'grimmie’s': 16735, 'humane': 16736, 'ociety': 16737, 'prepped': 16738, 'wilkos': 16739, 'louis’s': 16740, 'breather': 16741, 'exmiss': 16742, 'suff': 16743, '“does': 16744, 'well”': 16745, 'raptors': 16746, 'middletoninspired': 16747, 'aleswoman': 16748, 'cutrone': 16749, 'cliffhangers': 16750, 'tanger': 16751, 'adoptive': 16752, 'harvest': 16753, 'bliges': 16754, 'televise': 16755, 'pulitzerwinning': 16756, 'playwright': 16757, 'za’s': 16758, '‘ctrl’': 16759, 'peppermint': 16760, 'cascading': 16761, 'proclaim': 16762, '13episode': 16763, 'c’s': 16764, 'java': 16765, 'drybar’s': 16766, 'alli': 16767, 'webb': 16768, 'tufted': 16769, 'upholstered': 16770, 'inpire': 16771, 'hugh’s': 16772, 'ymbolism': 16773, 'destiny': 16774, 'daeneri': 16775, 'jacqueline': 16776, 'onassi': 16777, 'delevingne’s': 16778, 'breakoutfree': 16779, 'meanpirited': 16780, 'constand': 16781, 'kaitlynn': 16782, 'oceanside': 16783, 'juno': 16784, 'dicks': 16785, 'balvins': 16786, 'dixie': 16787, 'chicks': 16788, 'pesc': 16789, 'fairley': 16790, 'beginners': 16791, 'wildfir': 16792, 'family’s': 16793, 'transitioning': 16794, 'bonanza': 16795, '“ocean’s': 16796, '8”': 16797, 'awkwafina': 16798, 'nudges': 16799, 'finishes': 16800, 'anyone”': 16801, 'iasat': 16802, 'daili': 16803, 'haddock': 16804, 'nextgen': 16805, 'ambien’': 16806, 'destin': 16807, 'atisfyin': 16808, 'affect': 16809, 'beachy': 16810, 'turtle': 16811, 'met’s': 16812, 'easy—hop': 16813, 'phones': 16814, 'reeds': 16815, 'hysterically': 16816, 'dominos®': 16817, 'appreciation': 16818, 'york’': 16819, 'aerob': 16820, 'tovey': 16821, 'brockman': 16822, 'danson': 16823, 'increase': 16824, 'elv': 16825, 'overstockcom': 16826, 'migos’s': 16827, '“motorsport”': 16828, 'differences': 16829, 'range': 16830, 'jonghyuns': 16831, 'exclusion': 16832, 'ooner': 16833, 'thought—and': 16834, 'premiereher': 16835, 'reclaiming': 16836, 'pollans': 16837, '‘f–king': 16838, 'b–ch': 16839, 'financier': 16840, 'hazy': 16841, 'poppin': 16842, 'ui': 16843, 'proenza': 16844, 'chouler': 16845, 'ecretive': 16846, 'baios': 16847, 'microvascular': 16848, 'itonya': 16849, 'hallucinates': 16850, 'alternate': 16851, 'psychedelic': 16852, 'mushrooms': 16853, 'proposal’': 16854, 'facilitating': 16855, 'borderline': 16856, 'decadeold': 16857, 'tostitos': 16858, '“ex': 16859, '3”': 16860, 'depiction': 16861, '“mentally': 16862, 'ill”': 16863, 'scandalous': 16864, 'invented': 16865, 'cameraready': 16866, 'alisan': 16867, 'autenrieth': 16868, 'baskett’s': 16869, 'trixie': 16870, 'ilenced': 16871, 'rowdy': 16872, 'pale': 16873, 'tonya’': 16874, 'commentary': 16875, 'abruptly': 16876, 'mccann’s': 16877, '‘whatever': 16878, 'takes’': 16879, 'argento’s': 16880, '‘hypocrisy’': 16881, 'davon': 16882, 'fleming': 16883, 'mlk': 16884, 'goliath': 16885, '‘mile’': 16886, 'eo': 16887, 'minwoo': 16888, 'francesca': 16889, 'pique': 16890, 'intentionally': 16891, 'excluded': 16892, 'salsa': 16893, 'taci': 16894, 'felker': 16895, 'hanks’': 16896, '‘high': 16897, 'maintenance’': 16898, 'eve—if': 16899, 'uperbowl': 16900, 'wwe’s': 16901, 'ambrose': 16902, 'youngs': 16903, 'paxtons': 16904, 'dubs': 16905, 'crawley': 16906, 'gothchic': 16907, 'infinitely': 16908, 'rippling': 16909, 'disagreed': 16910, '“assaulting': 16911, 'reality”': 16912, 'crewmemb': 16913, 'arizonas': 16914, 'deluca': 16915, '‘antman': 16916, 'wasp’': 16917, 'mychal': 16918, 'moroccan': 16919, 'monro': 16920, 'alana': 16921, 'caribbean’': 16922, '‘want': 16923, 'grayson': 16924, 'lured': 16925, 'viaemail': 16926, '25yearold': 16927, 'tookes': 16928, '‘bedroom': 16929, 'floor’': 16930, 'tudios': 16931, 'expir': 16932, 'anya': 16933, 'richardsross': 16934, 'abortion': 16935, 'refund': 16936, 'tormiinspired': 16937, 'manicur': 16938, 'geek': 16939, 'jfks': 16940, 'chlossberg': 16941, 'buzzer': 16942, 'recipient': 16943, 'blindness': 16944, 'strengthened': 16945, 'suspended': 16946, 'situ': 16947, 'thrill': 16948, 'locicero': 16949, 'haywood': 16950, 'prices': 16951, '72yearold': 16952, 'morgans': 16953, 'nos': 16954, 'juvonen': 16955, 'ganador': 16956, '“would': 16957, 'grandkids”': 16958, 'prediction': 16959, 'kellywise': 16960, 'students’': 16961, 'tuition': 16962, 'glory': 16963, 'onesie': 16964, 'can39t': 16965, 'guido': 16966, 'chigvintsev': 16967, 'amys': 16968, 'offlimits': 16969, 'drews': 16970, '14s': 16971, 'byebye': 16972, 'tarfighter': 16973, 'udsy': 16974, 'enigmatic': 16975, 'projects': 16976, 'feimster': 16977, 'jacquelyn': 16978, 'slays': 16979, 'keane': 16980, 'animates': 16981, 'apnea': 16982, 'boycott': 16983, 'ds': 16984, 'popculture': 16985, 'wipe': 16986, '1bn': 16987, 'redesign': 16988, 'something': 16989, 'kramer’s': 16990, 'eriespremiere': 16991, 'realizing': 16992, 'cuties': 16993, 'evanescence': 16994, 'upstages': 16995, 'mischievous': 16996, 'balcony': 16997, 'touni': 16998, 'stunned': 16999, 'misdemeanor': 17000, 'tisha': 17001, 'campbellmartin': 17002, 'cue': 17003, 'coreys’': 17004, 'barges': 17005, 'esh': 17006, 'complexion': 17007, 'kin’': 17008, 'stumbled': 17009, 'nipplegate': 17010, 'accountability': 17011, 'rend': 17012, 'parknotes': 17013, 'overview': 17014, 'sacrifice': 17015, 'kirakira': 17016, 'porno': 17017, 'mags”': 17018, 'indecent': 17019, 'longestrunning': 17020, 'vests': 17021, 'kriver’s': 17022, 'poon': 17023, 'danvers': 17024, '“midvale”': 17025, 'walker’': 17026, 'charismatic': 17027, 'hakes': 17028, 'indecis': 17029, 'catchi': 17030, 'boyegas': 17031, 'kailans': 17032, 'quotduct': 17033, 'prisonquot': 17034, 'hissed': 17035, 'berlin': 17036, 'partpike': 17037, 'partjames': 17038, '‘urvivor’': 17039, 'transgender’': 17040, 'indirectly': 17041, 'triggered': 17042, '426': 17043, 'rusevs': 17044, 'bulgarian': 17045, 'alisters’': 17046, '‘young': 17047, 'heldon’': 17048, '‘magnum': 17049, 'pi’': 17050, '‘murphy': 17051, 'traightup': 17052, 'zahir': 17053, 'treisands': 17054, 'brosnan': 17055, 's': 17056, 'gymhark': 17057, 'sleev': 17058, '“15': 17059, 'tylishly': 17060, 'admiss': 17061, 'hairstylist’s': 17062, 'texture': 17063, 'econdday': 17064, '‘7': 17065, 'spinal': 17066, 'unrelated': 17067, 'parkinson': 17068, 'existential': 17069, 'pubescent': 17070, 'translate': 17071, 'baited': 17072, 'jeannie': 17073, 'mai': 17074, 'deciphers': 17075, 'tdes': 17076, 'teamwork': 17077, 'physiqu': 17078, 'ketti': 17079, 'eyepopping': 17080, '92nd': 17081, 'heindlin': 17082, '75th': 17083, 'glued': 17084, 'tance': 17085, 'feminism': 17086, 'rights’': 17087, 'guards': 17088, 'wouldve': 17089, '20omething': 17090, 'ingleyear': 17091, 'bracelets': 17092, 'mundane': 17093, 'costco': 17094, 'galavis': 17095, 'osmariel': 17096, 'villalobo': 17097, 'therons': 17098, 'ving': 17099, 'rhames': 17100, 'gunpoint': 17101, 'tales’': 17102, 'frivol': 17103, 'recaps': 17104, 'karate': 17105, 'cobra': 17106, 'macchio': 17107, 'zabka': 17108, '‘chilling’': 17109, 'cavallari’s': 17110, 'deceased': 17111, 'nashvilles': 17112, 'esten': 17113, 'anymore”': 17114, 'stereotyp': 17115, 'schmoozes': 17116, '‘found': 17117, 'figueras': 17118, '‘hellboy’': 17119, '‘whitewashing’': 17120, 'busk': 17121, 'winnies': 17122, 'howcased': 17123, '“dad': 17124, 'moves”': 17125, 'assang': 17126, 'rumba': 17127, 'brothels': 17128, 'acing': 17129, 'girlnextdoor': 17130, 'kenny': 17131, 'cry’': 17132, 'capital': 17133, '9780785216308': 17134, 'focuses': 17135, 'advocate8': 17136, '‘already': 17137, 'anoth': 17138, 'conveys': 17139, 'uttering': 17140, 'joyful': 17141, 'spectacular': 17142, 'tweezing': 17143, 'visual': 17144, 'equivalent': 17145, 'masturb': 17146, 'grasshoppers': 17147, '£20': 17148, 'cicada': 17149, 'barry’s': 17150, 'measur': 17151, 'acrifice': 17152, 'soul': 17153, 'montana’s': 17154, 'fahi': 17155, 'tahiti': 17156, 'furstenburg': 17157, '11m': 17158, 'expands': 17159, 'forehead': 17160, 'moped': 17161, '‘eal': 17162, 'team’': 17163, 'brave': 17164, 'eparates': 17165, '‘absurd’': 17166, 'celebrityinspired': 17167, 'valentine': 17168, 'jennette': 17169, 'mccurdys': 17170, 'enamoré': 17171, 'hoechlin': 17172, 'lois': 17173, 'mccullough’s': 17174, 'acnefree': 17175, 'oap': 17176, 'wildcards': 17177, 'eethrough': 17178, '‘karma’': 17179, '‘personal': 17180, 'hygiene': 17181, 'bits': 17182, 'practices': 17183, 'masquerade': 17184, 'heaven”': 17185, 'wrestlers': 17186, 'delevingn': 17187, 'pb’s': 17188, '—calls': 17189, '“level': 17190, 'where’s': 17191, 'bonafide': 17192, 'bb': 17193, 'cc': 17194, 'dd': 17195, 'budgetfriendly': 17196, 'goode': 17197, 'phase': 17198, 'aitana': 17199, 'lhuillier': 17200, 'chiffon': 17201, 'cortisone': 17202, 'acid': 17203, 'peels': 17204, 'ampamp': 17205, 'ventlyf': 17206, 'powerless': 17207, '1130': 17208, 'cassandra': 17209, 'dist': 17210, 'daughterblue': 17211, 'ivy’s': 17212, 'reinhardts': 17213, 'typical': 17214, 'ovari': 17215, 'shawna': 17216, 'trappy': 17217, 'dolph': 17218, 'elftanners': 17219, 'mahershala': 17220, 'profiling': 17221, '‘aladdin’': 17222, 'ful': 17223, 'coos': 17224, 'grinning': 17225, 'artist’': 17226, 'whitford': 17227, 'landecker': 17228, '‘parks': 17229, 'recreation’': 17230, '‘would': 17231, 'nakeskin': 17232, '‘mighty': 17233, 'ducks’': 17234, '‘mindy': 17235, 'ike': 17236, 'barinholtz': 17237, 'comedys': 17238, 'survived': 17239, 'season’': 17240, 'patriotic': 17241, 'hemlin': 17242, 'ladygaga': 17243, 'locklears': 17244, 'jonathan’s': 17245, 'drift': 17246, 'farther': 17247, 'calypso': 17248, 'tefflon': 17249, '‘red': 17250, 'parrow’': 17251, 'love—in': 17252, 'foursom': 17253, 'danks': 17254, 'owned': 17255, 'capitaljbb': 17256, 'deeper': 17257, '24newsreadcom': 17258, 'venezuela': 17259, 'studio': 17260, 'camo': 17261, 'pellings': 17262, 'iphon': 17263, 'gend': 17264, '100and': 17265, 'hoppers': 17266, 'fitzhunter': 17267, 'momentous': 17268, '1e1': 17269, 'remain': 17270, 'wallace': 17271, 'creenplay': 17272, 'oct': 17273, '17th': 17274, 'jughead': 17275, 'unions': 17276, 'infertility': 17277, 'shouting': 17278, 'tammin': 17279, 'ursok': 17280, 'dainty': 17281, 'limits': 17282, 'faded': 17283, 'laundry': 17284, 'orville': 17285, 'ashamed': 17286, 'sho': 17287, 'suspect': 17288, 'slaying': 17289, 'cattrall–arah': 17290, 'creamin': 17291, 'afais': 17292, 'leepover': 17293, 'moak': 17294, 'rendezvous': 17295, 'teamiest': 17296, '‘made': 17297, 'laugh’': 17298, 'kali': 17299, 'uchis': 17300, 'hayek’s': 17301, 'dusk': 17302, 'olanges': 17303, 'teacher': 17304, 'dolla': 17305, 'prada39s': 17306, 'priestly': 17307, 'fierce': 17308, '‘itin’': 17309, 'tropez': 17310, 'ashayed': 17311, 'prous': 17312, '“unequivocally”': 17313, 'embry': 17314, 'opiate': 17315, 'itpippa': 17316, 'maxwells': 17317, 'fangirling': 17318, 'motorsport': 17319, '‘oth’': 17320, 'tom’s': 17321, 'motorbike': 17322, 'ultrasexy': 17323, 'more—watch': 17324, 'hardy’s': 17325, 'cliffhang': 17326, '22301': 17327, 'galactic': 17328, 'kendal': 17329, 'inappropri': 17330, 'unleash': 17331, 'mash': 17332, 'supportive': 17333, 'adulting': 17334, 'ubscription': 17335, 'slim': 17336, 'tamos’': 17337, 'earhart': 17338, 'mightily': 17339, 'margulies’s': 17340, 'gael': 17341, 'bernal': 17342, 'orient': 17343, 'express’': 17344, 'thankfully': 17345, 'ravenels': 17346, 'andlot': 17347, 'phillippes': 17348, '12k': 17349, 's02e02': 17350, 'haunie': 17351, 'argued': 17352, 'thors': 17353, '18yearold': 17354, 'campos': 17355, 'gunman': 17356, 'paddock': 17357, 'noring': 17358, 'remixes': 17359, 'annemarie': 17360, 'losique': 17361, 'adulthood': 17362, 'corley': 17363, 'konner': 17364, 'christensens': 17365, 'holts': 17366, 'kaplan': 17367, 'baptised': 17368, 'dentist': 17369, 'veneers': 17370, 'eefvi': 17371, '‘westworld’': 17372, 'oj’s': 17373, 'massaging': 17374, '35th': 17375, 'baaaack': 17376, 'roasted': 17377, 'daughter—thanks': 17378, 'corgis': 17379, 'kercher': 17380, 'gruesome': 17381, 'peyton': 17382, 'lambton': 17383, 'consciousness': 17384, '‘’trapped’’': 17385, 'objectified': 17386, 'zeroes': 17387, 'ummery': 17388, 'disappointed”': 17389, '‘guess': 17390, 'metoo’': 17391, '“italian': 17392, 'tallion”': 17393, 'and…porn': 17394, '‘ilence': 17395, 'lambs’': 17396, 'trumprussia': 17397, 'callister': 17398, 'thrive': 17399, 'arianna': 17400, 'huffington': 17401, 'wildes': 17402, 'paco': 17403, 'bathtub': 17404, 'showers': 17405, 'criticise': 17406, 'recommend': 17407, 'bankrolled': 17408, 'tajiri': 17409, 'swears': 17410, 'mes': 17411, 'jonghyun': 17412, 'paige’s': 17413, 'party—invite': 17414, 'drey': 17415, 'modelartist': 17416, 'kohl': 17417, 'bamboozled': 17418, 'bronz': 17419, 'hearingimpaired': 17420, 'volume': 17421, 'grudges': 17422, 'piewak': 17423, 'exstylist': 17424, 'endured': 17425, 'coworker': 17426, '‘dad’': 17427, 'decked': 17428, 'assi': 17429, 'buttonup': 17430, 'passion': 17431, '350000': 17432, 'renesmee': 17433, 'kinnyjean': 17434, 't’s': 17435, 'anthrax': 17436, 'clairejamie': 17437, 'trengthened': 17438, 'winger': 17439, 'clarissa': 17440, 'oneal': 17441, 'teens': 17442, 'lunchboxes': 17443, 'attende': 17444, 'planting': 17445, 'lucasfilm': 17446, 'hani': 17447, 'darden': 17448, 'skincare': 17449, 'halt': 17450, 'bop': 17451, '‘mommy’s': 17452, 'uperherothemed': 17453, 'chalamets': 17454, 'offscreen': 17455, 'gosselins': 17456, 'incom': 17457, 'eagle': 17458, 'imon’': 17459, 'moreno': 17460, '1962': 17461, 'dias': 17462, 'carface': 17463, 'morgane': 17464, 'mcdreamy': 17465, 'kylie”': 17466, 'googling': 17467, 'cleft': 17468, 'palate': 17469, 'tyled': 17470, 'gripping': 17471, 'oaked': 17472, 'extra—but': 17473, 'pitup': 17474, 'tallone’s': 17475, 'gimmick': 17476, 'mixer': 17477, 'drama—of': 17478, 'confidential’': 17479, '‘thankfully': 17480, '14’': 17481, 'ila': 17482, 'historical': 17483, 'tressfree': 17484, 'fantastical': 17485, '‘fighter': 17486, 'thumbs’': 17487, 'prebafta': 17488, 'tenhouse': 17489, 'hockey’': 17490, 'womb': 17491, 'virgin’s': 17492, 'baldoni': 17493, 'fkhk': 17494, 'novel': 17495, 'johansson’s': 17496, 'eagerly': 17497, 'await': 17498, 'endgame’': 17499, 'unclothed': 17500, '‘jessica': 17501, '‘collateral’': 17502, '‘benji’': 17503, 'aquilina': 17504, 'billowy': 17505, '42000': 17506, 'gabon': 17507, 'tatums': 17508, 'raking': 17509, 'tripp': 17510, 'harasser': 17511, 'abandoning': 17512, 'carpetlevel': 17513, '65000': 17514, 'outta': 17515, 'xxx': 17516, 'moanainspired': 17517, 'kidding': 17518, 'cycl': 17519, 'fanciest': 17520, 'registry': 17521, 'audible': 17522, 'macmillan': 17523, 'o’day': 17524, 'wrc': 17525, '1134pm1237am': 17526, 'edt': 17527, 'borrow': 17528, 'chiquis': 17529, '‘terribly': 17530, 'android': 17531, '‘we’re': 17532, 'plagued': 17533, 'retreating': 17534, '8216issy': 17535, 'walk8217': 17536, 'egarian': 17537, 'ventimiglias': 17538, 'iaconettis': 17539, 'perpetually': 17540, 'overwhelming': 17541, 'hysterectomy': 17542, 'bffffffs': 17543, 'boutique': 17544, '‘chronic': 17545, 'joke’': 17546, '‘transformers': 17547, 'march’s': 17548, 'richer': 17549, 'viciousness': 17550, 'kardashianjenners': 17551, 'kissable': 17552, 'mischer': 17553, 'confidentiality': 17554, 'basted': 17555, 'kneaded': 17556, 'served': 17557, 'skinbaring': 17558, 'annes': 17559, 'pretzel': 17560, 'undocumented': 17561, 'princeton': 17562, 'marter': 17563, 'wendt': 17564, 'blairs': 17565, 'wink': 17566, 'moussa’s': 17567, 'lumps': 17568, 'bicep': 17569, 'lululemon': 17570, 'curated': 17571, '‘like': 17572, 'prayer’': 17573, 'shirts': 17574, '‘rhoa': 17575, 'eronok': 17576, 'kabar': 17577, 'unruly': 17578, 'jair': 17579, 'recovered': 17580, 'delightfully': 17581, 'kourt': 17582, 'lockwoods': 17583, 'frida': 17584, 'mexico’s': 17585, 'amplified': 17586, 'patient’s': 17587, 'quotrebornquot': 17588, 'quothornsquot': 17589, 'stylized': 17590, 'corni': 17591, 'matrix’': 17592, '‘jackie': 17593, 'covergirl': 17594, 'hift': 17595, 'confidenceboosting': 17596, 'dancings': 17597, 'prattes': 17598, 'branding': 17599, 'interactive': 17600, 'taple': 17601, 'eyeglasses': 17602, 'coparents': 17603, 'bunton': 17604, 'crazyfunny': 17605, 'o’malley': 17606, 'ammith': 17607, 'riviera': 17608, 'engines': 17609, 'kia': 17610, 'tinger': 17611, 'coon': 17612, 'whiten': 17613, 'cranberries': 17614, 'rosamund': 17615, 'crocs': 17616, 'behav': 17617, 'randall’s': 17618, 'altnpepa': 17619, '‘whatta': 17620, 'commends': 17621, 'trawberry': 17622, 'margaritas': 17623, 'applebees': 17624, 'times’s': 17625, 'portwood’s': 17626, 'late’': 17627, '‘dryness’': 17628, 'wildly': 17629, 'clooneys’': 17630, 'whywewearblack': 17631, 'moonlight’s': 17632, 'jharrel': 17633, 'jerome': 17634, 'pageants': 17635, 'alliances': 17636, '”that': 17637, 'mash”': 17638, 'chlamydia': 17639, 'unsure': 17640, 'jepsen': 17641, 'lavin': 17642, 'moesha': 17643, 'kydiving': 17644, 'daniels’': 17645, 'glendon': 17646, 'crain': 17647, 'hautest': 17648, 'chapped': 17649, 'exdj': 17650, 'mailed': 17651, 'hunts': 17652, 'ucki': 17653, 'spotlights': 17654, 'defect': 17655, 'twerks': 17656, 'lipoma': 17657, 'rig': 17658, 'jedi’s': 17659, 'frequent': 17660, 'empathy': 17661, 'grein': 17662, 'partnership': 17663, '‘disturbing’': 17664, '‘racially': 17665, 'insensitive’': 17666, 'okurrr': 17667, 'wideleg': 17668, 'lube': 17669, 'jackmans': 17670, 'post’s': 17671, 'hereé': 17672, 'coogler': 17673, 'trumpish': 17674, 'climactic': 17675, '‘abrina': 17676, 'witch’': 17677, '1’s': 17678, 'televised': 17679, 'bowlsize': 17680, 'tidak': 17681, 'ditemukan': 17682, 'controversially': 17683, 'joanne': 17684, 'brightened': 17685, 'standoff': 17686, 'hashian': 17687, 'unable': 17688, 'britannia': 17689, 'insured': 17690, '750000': 17691, 'taiwan': 17692, 'thoughtless': 17693, 'discrediting': 17694, 'anitta': 17695, '“downtown”': 17696, 'hideous': 17697, '‘heart': 17698, 'condition’': 17699, 'ightsees': 17700, 'obeng': 17701, 'blocks': 17702, 'nakes': 17703, 'wacky': 17704, 'fawcetts': 17705, 'redmond': 17706, 'o’neal': 17707, 'ultrasound': 17708, 'giants': 17709, 'buddies': 17710, 'vendettas': 17711, 'kayleighs': 17712, 'belongings': 17713, 'lousy': 17714, 'exploiting': 17715, 'paz': 17716, 'huerta': 17717, 'hin': 17718, 'portfolio': 17719, 'morelli': 17720, 'care’': 17721, 'vodka': 17722, 'offs': 17723, 'bartender': 17724, 'lagu': 17725, 'mp3': 17726, 'mp4': 17727, 'amyschumer': 17728, '“here’s': 17729, 'to…”': 17730, 'breakneck': 17731, 'newcastle': 17732, 'momdaughter': 17733, 'supplies': 17734, 'garths': 17735, 'upsid': 17736, 'requiring': 17737, '125000': 17738, '‘god’s': 17739, 'labels’': 17740, 'overprotective': 17741, '‘talking': 17742, 'kerrs': 17743, 'weddingday': 17744, 'artorius': 17745, 'cemented': 17746, 'picasso': 17747, 'kroys': 17748, 'pediatric': 17749, 'fuchsia': 17750, 'agenda': 17751, 'shouts': 17752, 'mam': 17753, 'queen—orry': 17754, '‘spiked’': 17755, 'chees': 17756, 'woke': 17757, 'disheartened': 17758, 'xk': 17759, 'erbert': 17760, 'deepdive': 17761, 'rogue': 17762, 'profanely': 17763, 'plashy': 17764, 'vengeful': 17765, 'chelseas': 17766, 'gradon’s': 17767, 'margulies’': 17768, 'fierc': 17769, 'aucy': 17770, 'butts': 17771, 'vacuumed': 17772, '”it': 17773, 'uckin’': 17774, 'groban’s': 17775, 'pantone': 17776, 'violet': 17777, 'pivotal': 17778, 'breeding': 17779, 'ketchy': 17780, 'gamora': 17781, 'friendsinspired': 17782, 'moonlight': 17783, 'protester': 17784, 'turtl': 17785, 'glitzy': 17786, 'lemonad': 17787, 'oversized': 17788, 'weaters': 17789, 'ease': 17790, 'indigest': 17791, 'articles—natched': 17792, 'omgworthi': 17793, 'harm': 17794, 'voices': 17795, 'freestyles': 17796, '‘heathers’': 17797, 'nymeria': 17798, 'insecure”': 17799, 'injection': 17800, 'moisturizing': 17801, 'gloss': 17802, '‘keep': 17803, 'contributing’': 17804, 'jayden': 17805, 'glossi': 17806, 'cattralls': 17807, 'bennett': 17808, 'jaymes': 17809, '2600': 17810, 'cabinet': 17811, '“unhireable”': 17812, 'adnan': 17813, 'yed’': 17814, 'docuseri': 17815, 'dora': 17816, 'dmx': 17817, 'teflon': 17818, 'candalplagued': 17819, 'golf': 17820, 'him”': 17821, 'bunches': 17822, 'oats': 17823, 'emails': 17824, 'messick': 17825, 'owns': 17826, 'hame”': 17827, 'live’s': 17828, 'uspend': 17829, 'chandon’s': 17830, 'pre–golden': 17831, 'demarchelier': 17832, 'highend': 17833, 'assist': 17834, 'womaninspired': 17835, 'coast–west': 17836, 'shamed’': 17837, 'position': 17838, 'prompts': 17839, 'scavenger': 17840, 'materializes': 17841, 'cabello’s': 17842, 'twitterinspired': 17843, 'rihannalupita': 17844, 'enormou': 17845, '8carat': 17846, 'frasers': 17847, 'mitzvahthemed': 17848, '31st': 17849, '‘natched’': 17850, 'uneven': 17851, 'misadventur': 17852, 'lineand': 17853, 'now–you': 17854, 'airdate': 17855, 'psychotic': 17856, '‘hallelujah’': 17857, 'momsen': 17858, '‘won’t': 17859, 'sending': 17860, 'letters': 17861, 'undresses': 17862, 'traddles': 17863, 'brandons': 17864, 'nordstrom': 17865, '2–but': 17866, 'fletch': 17867, 'learnings': 17868, 'finest': 17869, 'grapefruit': 17870, '8makeup': 17871, 'jeanine': 17872, 'pirro': 17873, 'cruzs': 17874, 'estevez': 17875, 'conners’': 17876, '06e11': 17877, 'tbts': 17878, '300pound': 17879, '”drip”': 17880, 'hanoi': 17881, 'omaze': 17882, 'cuoco’s': 17883, '‘left': 17884, '‘competitive': 17885, '‘wanted': 17886, 'ucked': 17887, 'leathams': 17888, 'detainment': 17889, '‘greatly': 17890, 'exaggerated’': 17891, 'represents': 17892, 'pre2018': 17893, '‘borderline': 17894, 'abusive’': 17895, '‘ruined’': 17896, 'cedric': 17897, 'yarbrough': 17898, 'muld': 17899, 'baby—but': 17900, 'bugs': 17901, 'rats': 17902, '“face': 17903, 'forward”': 17904, '\\x91real': 17905, 'strikes': 17906, 'brazilian': 17907, 'notranjosti': 17908, 'sistema': 17909, 'podpore': 17910, 'kako': 17911, 'njeni': 17912, 'najbližji': 17913, 'odnosi': 17914, 'ohranili': 17915, 'upadali': 17916, 'skozi': 17917, 'leta': 17918, 'taxi': 17919, 'uccessor': 17920, 'magically': 17921, 'delici': 17922, 'profits': 17923, '‘joanne’': 17924, '‘judy’': 17925, 'potter™': 17926, '34™': 17927, 'pillow': 17928, '‘monster’': 17929, '‘wonderful’': 17930, 'trangers': 17931, 'remakes': 17932, 'porowski': 17933, 'fives': 17934, 'nial': 17935, '‘gilmore': 17936, 'math': 17937, 'henry’': 17938, 'nighttime': 17939, 'redeemer': 17940, 'diddi': 17941, 'gutpunch': 17942, 'allman': 17943, 'macon': 17944, 'rehears': 17945, 'airbnb': 17946, 'colonoscopy': 17947, '40m': 17948, 'gustin': 17949, 'pirtually': 17950, 'rumble': 17951, 'postfacelift': 17952, 'tless': 17953, '“elated': 17954, 'humbled”': 17955, 'pastels': 17956, 'noh': 17957, 'bitten': 17958, 'thailand': 17959, 'tathams': 17960, '3month': 17961, '9780385543910': 17962, 'heritag': 17963, 'humans': 17964, 'hahn': 17965, 'elevator': 17966, 'on15year': 17967, 'blossomed': 17968, 'fullfledged': 17969, 'perky': 17970, 'weeter': 17971, 'marfuggi': 17972, 'taunted': 17973, 'founders': 17974, 'randy': 17975, 'laught': 17976, 'howed': 17977, '‘be': 17978, 'god’s': 17979, 'dishonest': 17980, 'stinks': 17981, 'jennerben': 17982, 'floaties': 17983, 'boobbaring': 17984, 'chooled': 17985, 'with…': 17986, 'categorically': 17987, 'correctly': 17988, 'guessed': 17989, 'vault': 17990, 'redefine': 17991, 'revolve': 17992, 'franca': 17993, 'ozzani': 17994, 'mugged': 17995, 'babes': 17996, 'brisbane': 17997, 'petrol': 17998, 'foundations': 17999, 'ensitive': 18000, '‘chicago': 18001, 'pd’': 18002, '‘mallest': 18003, 'wound’': 18004, 'easiest': 18005, 'groff': 18006, '‘maid': 18007, 'conov': 18008, 'garrn': 18009, 'bandm': 18010, 'misunderstand': 18011, 'krasinski’s': 18012, 'office’': 18013, 'badly': 18014, 'endgame': 18015, 'lant': 18016, 'frayed': 18017, 'cottie': 18018, 'kleins': 18019, 'jessa': 18020, 'surviving': 18021, '8hour': 18022, 'nowher': 18023, 'remingtons': 18024, 'implanted': 18025, 'troke': 18026, 'carily': 18027, 'tarot': 18028, 'foreshadowed': 18029, '60day': 18030, '‘tupid’': 18031, 'openness': 18032, 'impulses': 18033, 'aris': 18034, 'bulldog': 18035, 'juliette': 18036, 'weddinglike': 18037, 'bimbo': 18038, 'issues’': 18039, 'ummertofall': 18040, 'sorry’': 18041, 'collecting': 18042, 'ash': 18043, 'climb': 18044, 'sacred': 18045, 'ruben': 18046, 'tuddard': 18047, 'shag': 18048, 'powerpuff': 18049, 'decorates': 18050, 'gwagon': 18051, 'tarred': 18052, 'cheesy': 18053, 'threeyear': 18054, 'speeches': 18055, 'activist': 18056, 'astin': 18057, 'acaengag': 18058, 'core': 18059, 'haped': 18060, 'bobs': 18061, 'pegg': 18062, 'preparation': 18063, 'chapt': 18064, 'cathriona': 18065, 'advising': 18066, '100th': 18067, 'fitz': 18068, 'controlled': 18069, 'oc': 18070, 'juliet': 18071, 'sheep': 18072, 'selfdef': 18073, 'teamsters': 18074, 'nor’easter': 18075, 'postpone': 18076, 'newark': 18077, 'barrier': 18078, 'maplewood': 18079, 'redecorated': 18080, 'mcneely': 18081, 'arranged': 18082, 'penned': 18083, 'jumping': 18084, 'htgawm': 18085, 'registering': 18086, 'harrier': 18087, 'marvelthemed': 18088, 'threeome': 18089, 'highlyrated': 18090, 'twd': 18091, 'newtons': 18092, 'propheci': 18093, 'dobrevs': 18094, 'clogs': 18095, 'diva’': 18096, 'economical': 18097, 'robs': 18098, '‘overboard’': 18099, 'pantelion': 18100, 'culkins': 18101, 'swoon': 18102, 'dipping': 18103, 'rolls': 18104, 'ippy': 18105, 'traws': 18106, 'travers': 18107, '‘piderman': 18108, 'homecoming’': 18109, 'respectful': 18110, 'endoff': 18111, 'ferreras': 18112, 'greenwichs': 18113, 'benoit': 18114, 'natgeo': 18115, 'cappella': 18116, 'crowes': 18117, 'fetches': 18118, '7k': 18119, 'rakes': 18120, '‘pathological': 18121, 'okieriete': 18122, 'onaodowan': 18123, 'avre': 18124, 'doss': 18125, 'seallike': 18126, 'hyster': 18127, 'collaborative': 18128, 'pedding': 18129, 'novak’s': 18130, 'annakim': 18131, 'violette': 18132, 'corching': 18133, 'kelis’': 18134, '‘milkshake’': 18135, '‘lip': 18136, 'battle’': 18137, 'hain': 18138, 'antidoping': 18139, '‘fantastic': 18140, 'grindelwald’': 18141, '‘freaky': 18142, 'friday’': 18143, 'overdosed': 18144, 'applying': 18145, 'eyelashes': 18146, 'ladytobe': 18147, 'reid’s': 18148, 'quickli': 18149, 'floored': 18150, 'dramafilled': 18151, 'return’': 18152, '‘lie': 18153, 'low’': 18154, 'charleys': 18155, 'rice': 18156, 'andiego': 18157, 'closed': 18158, 'waterston': 18159, 'doutzen': 18160, 'kro': 18161, 'rudeness': 18162, 'lumley': 18163, '33acre': 18164, 'williamson': 18165, '1monthold': 18166, 'enthusiast': 18167, 'plates': 18168, 'onion': 18169, 'abccom': 18170, 'experienc': 18171, 'elspeth': 18172, 'keller': 18173, 'orthodontists': 18174, 'license': 18175, '‘pizzagate’': 18176, 'hunk': 18177, 'ginas': 18178, 'censor': 18179, 'hreks': 18180, 'donkey': 18181, 'extravaganza': 18182, 'winter’s': 18183, 'crossbody': 18184, 'pons': 18185, 'lollapalooza': 18186, 'evacuated': 18187, '“film': 18188, 'passed': 18189, 'today”': 18190, 'hay’s': 18191, 'parksvalletta': 18192, 'dejesu': 18193, 'groenings': 18194, 'bullies': 18195, 'beards': 18196, 'cliff': 18197, 'cocos': 18198, 'rememb': 18199, 'protege': 18200, 'allo': 18201, 'babylon': 18202, 'depravity': 18203, 'carr': 18204, '9780986193309': 18205, 'petas': 18206, '“kevin': 18207, 'day”': 18208, 'indies': 18209, 'rohrbach': 18210, 'teuart': 18211, 'walton': 18212, 'chastain’s': 18213, 'chenoweth': 18214, 'hairless': 18215, 'dildos': 18216, 'humphries': 18217, 'incognito': 18218, 'steve': 18219, 'nowinfamous': 18220, 'deemed': 18221, '‘13': 18222, 'uriah': 18223, 'injuring': 18224, 'stomach': 18225, 'unni': 18226, 'lletgets': 18227, '40th': 18228, 'ucanada': 18229, 'tephanie’s': 18230, 'birdnest': 18231, 'copar': 18232, 'randalls': 18233, 'infulcolors': 18234, 'bundle': 18235, 'motel': 18236, 'bunney': 18237, 'godmother': 18238, 'calledoff': 18239, 'kaiser': 18240, 'yan': 18241, 'postgrammys': 18242, 'funct': 18243, 'brynn': 18244, '“we’re': 18245, 'moment”': 18246, 'hooks': 18247, '‘entertainer’': 18248, 'i’': 18249, '“becoming': 18250, 'tuna': 18251, 'duffy': 18252, 'fudge': 18253, '“kiwi”': 18254, 'immortalized': 18255, 'departing': 18256, 'oscarworthy': 18257, 'lowcarb': 18258, 'watkins': 18259, 'videographi': 18260, 'wowzers': 18261, 'ciara’s': 18262, 'onny': 18263, 'bereav': 18264, 'vanish': 18265, 'paul’s': 18266, 'conch': 18267, 'bankruptcy': 18268, 'revokes': 18269, 'nondisclosure': 18270, 'housekeeper': 18271, 'zoila': 18272, 'chavez': 18273, 'hanina': 18274, 'haik': 18275, 'ruckuss': 18276, 'raf': 18277, 'youtuber': 18278, 'fking’': 18279, 'pedophilia': 18280, 'panabaker': 18281, 'flashs': 18282, 'avitar': 18283, '21—and': 18284, 'extraordinary': 18285, 'tepbytep': 18286, 'roachthemed': 18287, 'bublés': 18288, 'murrel': 18289, '“greatest”': 18290, 'blowdry': 18291, 'quotit': 18292, 'rightquot': 18293, 'cavil': 18294, 'pauls': 18295, 'crambled': 18296, 'francais': 18297, '\\u200b\\u200bdream': 18298, 'playdate': 18299, 'outoddcouple': 18300, 'foray': 18301, 'homophobic': 18302, 'porizkova': 18303, 'cadaver': 18304, 'producing': 18305, 'hingle': 18306, 'makereadi': 18307, 'alterego': 18308, '‘unsolved’': 18309, 'ballet': 18310, 'grimm': 18311, 'luthame': 18312, 'back–check': 18313, '3tep': 18314, 'guaranteed': 18315, 'carson’s': 18316, 'manolo': 18317, 'quat': 18318, 'codepending': 18319, 'pawn': 18320, 'shampoos': 18321, '‘end': 18322, 'camping': 18323, 'burk': 18324, 'transformers': 18325, 'tirring': 18326, 'expletivefilled': 18327, 'neurological': 18328, 'he39ll': 18329, 'nightshades': 18330, 'anctuary': 18331, 'ecur': 18332, 'nelpet': 18333, 'strategy': 18334, 'royally': 18335, 'amada': 18336, 'defensive': 18337, 'mix’s': 18338, 'kimpy': 18339, 'beaded': 18340, 'rye': 18341, '‘bright’': 18342, 'ayer': 18343, 'sadden': 18344, 'vulgar': 18345, 'galia': 18346, 'lahav': 18347, 'teigan': 18348, 'eeher': 18349, 'femaleled': 18350, 'homework': 18351, 'gzoho': 18352, 'keo': 18353, 'motsep': 18354, 'kiss’': 18355, 'albert': 18356, 'ochoa': 18357, 'grohl': 18358, 'metallica': 18359, 'renov': 18360, 'tame': 18361, 'frizzy': 18362, 'meth': 18363, 'hallucinate': 18364, '“el': 18365, 'anillo”': 18366, 'tir': 18367, 'peculation—7': 18368, 'implore': 18369, 'kinder': 18370, 'dassey': 18371, 'indie': 18372, 'musician': 18373, 'anatomy‘s': 18374, 'scheduling': 18375, 'photobombing': 18376, 'patrick’s': 18377, 'officiates': 18378, 'unqualified': 18379, 'arnas': 18380, 'defeats': 18381, 'mackdown': 18382, 'men’': 18383, '06e03': 18384, 'realised': 18385, '‘weetener’': 18386, 'futures': 18387, 'ah': 18388, 'fargo': 18389, 'langdon': 18390, 'franzese': 18391, 'insulting': 18392, 'terrorised': 18393, 'reeva': 18394, 'teenkamp': 18395, '“hocked”': 18396, 'courageous”': 18397, 'sea': 18398, 'richmond': 18399, 'bc': 18400, 'kiifms': 18401, 'crawl': 18402, 'dreamed': 18403, 'tamar’s': 18404, 'floundering': 18405, 'reids': 18406, 'buff': 18407, 'lingerieinspired': 18408, 'hln': 18409, 'swimsuits': 18410, 'frumpi': 18411, 'urving': 18412, 'medit': 18413, 'blended': 18414, 'correa’s': 18415, '“finesse”': 18416, 'critique': 18417, 'gardens': 18418, 'sometimes': 18419, '‘diaper': 18420, 'duty’': 18421, 'borrowed': 18422, 'genr': 18423, 'condition': 18424, 'imul': 18425, 'unravel': 18426, 'izable': 18427, 'ely': 18428, 'andvik': 18429, 'leaps': 18430, 'gillian': 18431, '‘xfiles’': 18432, 'oncamera': 18433, 'consent': 18434, 'khloés': 18435, 'cbc': 18436, 'mitchells': 18437, 'highwaisted': 18438, 'igniting': 18439, '‘marital': 18440, 'problems’': 18441, 'bissett': 18442, 'labeouf’s': 18443, '‘rule’': 18444, 'students': 18445, 'mayweathermcgregor': 18446, 'unisex': 18447, 'thirts': 18448, 'sal': 18449, 'actions': 18450, 'deadmau5': 18451, 'aoki': 18452, 'handsom': 18453, 'chevel': 18454, 'vlogging': 18455, 'prohibits': 18456, 'resist': 18457, 'concealed': 18458, 'aspirin': 18459, 'opi': 18460, 'republic': 18461, 'gilead': 18462, 'kinky': 18463, 'rae’s': 18464, 'resplendent': 18465, '‘rub': 18466, 'tug’': 18467, 'femininity': 18468, 'noodle': 18469, 'imitadora': 18470, '‘highquality': 18471, 'person’': 18472, 'treason': 18473, 'overheating': 18474, 'watermelon': 18475, 'bailed': 18476, 'avatar': 18477, 'ronson': 18478, 'baume': 18479, 'retail': 18480, 'puns': 18481, 'who': 18482, 'grapefruiting': 18483, 'trip—heres': 18484, 'zazie': 18485, 'beetz': 18486, 'joi': 18487, 'screaming': 18488, 'fedor': 18489, 'andreev': 18490, 'cancun': 18491, 'chrome': 18492, 'abductor': 18493, '‘officially': 18494, 'fled': 18495, 'country’': 18496, '32nd': 18497, '‘devastated': 18498, 'hock’': 18499, 'minkoff': 18500, 'zohr': 18501, 'zebraprint': 18502, 'prix': 18503, 'types': 18504, 'bodyguard': 18505, 'fassbend': 18506, 'breastfeed': 18507, 'dyrdek': 18508, 'conditional': 18509, 'paltrowapproved': 18510, 'steam': 18511, 'carmen’s': 18512, 'welldeserved': 18513, 'meagan': 18514, 'showrunner': 18515, 'j’s': 18516, 'heree': 18517, 'whitfield': 18518, '‘rhoa’': 18519, 'cronin': 18520, 'perlongo': 18521, 'degre': 18522, 'krystals': 18523, 'campbel': 18524, 'stumbling': 18525, 'satire': 18526, '‘downsizing’': 18527, 'curling': 18528, 'cider': 18529, 'piercing': 18530, 'archies': 18531, 'aide': 18532, 'befriended': 18533, 'grossed': 18534, 'raptor': 18535, '“jurassic': 18536, '2”': 18537, 'fairytales': 18538, 'lapped': 18539, 'genit': 18540, 'tenniss': 18541, 'grudge': 18542, 'downhill': 18543, 'spitfire': 18544, 'disturbed': 18545, '60s': 18546, 'oni': 18547, 'graduated': 18548, 'atomophere': 18549, 'wi': 18550, 'reservations': 18551, 'redeemed': 18552, 'albright': 18553, 'beware': 18554, 'cheaters': 18555, 'spouse': 18556, 'balding': 18557, 'detroit': 18558, 'furtado': 18559, 'demacio': 18560, 'castellon': 18561, 'z’': 18562, 'dwi': 18563, 'flocks': 18564, 'wyoming': 18565, 'organic': 18566, '“insanely': 18567, 'jealous”': 18568, '“unnatural”': 18569, 'pastel': 18570, 'tomachbaring': 18571, 'roof': 18572, 'chans': 18573, 'etta': 18574, 'ng': 18575, 'mcnearnys': 18576, 'livetweet': 18577, 'thoughtstell': 18578, '22k': 18579, 'likens': 18580, 'tightrope’': 18581, 'bor': 18582, 'could’ve': 18583, 'brandos': 18584, 'rashad': 18585, 'attendant': 18586, '‘i’ll': 18587, 'electively': 18588, 'chew’': 18589, 'washing': 18590, 'kamp': 18591, 'padalecki': 18592, 'keg': 18593, 'herjavecs': 18594, 'charters': 18595, 'taring': 18596, 'grimesbeech': 18597, 'beech': 18598, 'coup': 18599, 'chopping': 18600, 'investigates': 18601, 'gartens': 18602, 'haggis': 18603, 'imprisonment': 18604, 'typo': 18605, 'pragu': 18606, 'bulgaria': 18607, 'jersey’': 18608, 'expectation': 18609, 'seal': 18610, 'traditionbreaking': 18611, 'baptized': 18612, 'trouser': 18613, 'btch': 18614, '275': 18615, 'fancy': 18616, 'meaty': 18617, '3000': 18618, 'mimi': 18619, 'leder': 18620, 'bossy': 18621, 'club’s': 18622, '”except': 18623, 'sidebyside': 18624, 'insati': 18625, '2017s': 18626, 'resurgence': 18627, 'narcissistic': 18628, 'foe': 18629, 'am…': 18630, 'intimidated': 18631, 'buttoned': 18632, 'rwanda': 18633, 'residencies': 18634, 'retirement”': 18635, 'meyer’s': 18636, '‘jewelry': 18637, '‘honored’': 18638, 'belong': 18639, 'chroed': 18640, 'evenyear': 18641, 'entrepreneurial': 18642, 'instincts': 18643, 'feelgood': 18644, 'achy': 18645, 'breaky': 18646, 'worthless': 18647, 'verses': 18648, '‘delete': 18649, 'instagram’': 18650, 'upside': 18651, 'icarlys': 18652, 'armas': 18653, 'ylvia': 18654, 'hoeks': 18655, 'xwf': 18656, 'charad': 18657, 'rebekka': 18658, 'harajuku': 18659, 'auditioning': 18660, 'valium': 18661, 'expelled': 18662, 'horny': 18663, 'jenner—will': 18664, '41month': 18665, 'madix’s': 18666, 'gerber’s': 18667, 'week—a': 18668, 'gilmour': 18669, 'motown': 18670, '“inister': 18671, 'energy”': 18672, 'rural': 18673, 'attorneys': 18674, 'abusers': 18675, 'rentals': 18676, 'hotspot': 18677, '“framed”': 18678, 'tommys': 18679, 'uperite': 18680, 'yearlong': 18681, 'bart': 18682, '747': 18683, 'darlen': 18684, 'overload': 18685, 'wiccans': 18686, 'plungers': 18687, 'candle': 18688, 'idesteps': 18689, 'cientologyobsess': 18690, 'commissioned': 18691, 'uso': 18692, '‘having': 18693, 'relations’': 18694, 'ponce': 18695, '“he': 18696, '‘opranos’': 18697, 'revolutionari': 18698, 'prinkle': 18699, 'ellers': 18700, 'montanas': 18701, 'earles': 18702, 'drysen': 18703, '‘jetsons’': 18704, 'filt': 18705, '“horrible”': 18706, '“i’ve': 18707, 'bad”': 18708, 'iraqi': 18709, 'mithsonian': 18710, 'homeland': 18711, 'auf': 18712, 'wiedersehen': 18713, 'iama': 18714, 'flowing': 18715, '‘banked’': 18716, 'hampoos': 18717, '‘empowered’': 18718, 'activity': 18719, 'africanamerican': 18720, 'omebodys': 18721, 'herrrrrrr': 18722, 'eagrams': 18723, 'nabbed': 18724, 'mallville': 18725, 'ashmore': 18726, '‘hocker': 18727, 'noah’s': 18728, 'twists': 18729, 'camillas': 18730, 'olid': 18731, 'tarcrossed’': 18732, 'aturdays': 18733, 'lowrated': 18734, '‘charles': 18735, 'charge’': 18736, 'skyhigh': 18737, 'cousin’s': 18738, 'graphic': 18739, 'alari': 18740, 'azaleas': 18741, 'burned': 18742, '‘tiny': 18743, 'dancer’': 18744, 'valkyrie': 18745, 'baria': 18746, 'pathological': 18747, 'dubbed': 18748, '“america’s': 18749, 'swaddled': 18750, 'deafening': 18751, 'bonnaroo': 18752, 'prompt': 18753, 'drs': 18754, '135000': 18755, 'endometriosis': 18756, 'gaten': 18757, 'matarazzo': 18758, 'decent': 18759, 'meanings': 18760, 'outh’s': 18761, 'ecker': 18762, 'tood': 18763, 'morissettes': 18764, 'embezzling': 18765, 'hefty': 18766, 'est': 18767, 'gala—but': 18768, 'complement': 18769, 'houewive': 18770, 'chet”': 18771, 'kwad': 18772, 'insert': 18773, 'graffiti': 18774, 'ighting': 18775, 'valid': 18776, '4tep': 18777, 'halfbirthday': 18778, 'crazier': 18779, 'peaches': 18780, 'fost': 18781, 'frolics': 18782, 'turpin': 18783, 'oledad': 18784, 'yeun': 18785, 'glenn’s': 18786, '‘existential': 18787, 'luxe': 18788, '\\ufefflily': 18789, 'overcoming': 18790, 'deformed': 18791, 'tutorials': 18792, 'hailie': 18793, 'sextuplets’': 18794, 'hobo': 18795, 'hogg': 18796, 'jerri': 18797, 'matter’': 18798, 'streetwear': 18799, 'westapprov': 18800, 's02e09': 18801, 'crawleys': 18802, 'teenag': 18803, 'cholarship': 18804, 'coke': 18805, 'rolled': 18806, '“person': 18807, 'year”': 18808, '2700': 18809, 'mod': 18810, 'abilities': 18811, 'emotionless': 18812, '‘fuel’': 18813, 'buttless': 18814, 'buttock': 18815, 'added': 18816, 'teapot': 18817, 'overwhelms': 18818, 'amend': 18819, 'unflattering': 18820, 'mostviewed': 18821, 'dorff': 18822, 'melyssa': 18823, 'skull': 18824, 'fracture': 18825, 'concussion': 18826, '“big': 18827, 'azaria': 18828, 'apu': 18829, 'uniquely': 18830, 'weather’': 18831, 'recognizes': 18832, 'ezekiel': 18833, 'diegos': 18834, 'nikolai': 18835, 'volkoff': 18836, 'dre': 18837, 'thoroughbreds': 18838, 'oz’s': 18839, 'realness': 18840, 'bounceback': 18841, 'ezra': 18842, 'miler': 18843, 'hairdo': 18844, 'chile': 18845, 'fel': 18846, 'tamara': 18847, 'mellons': 18848, 'mellon': 18849, 'gradon': 18850, 'deliverance': 18851, 'exactli': 18852, 'moothies': 18853, 'quadrangl': 18854, 'domino': 18855, 'nototwisted': 18856, '‘wine': 18857, 'necessary’': 18858, 'murder’s': 18859, 'falahee': 18860, 'condemning': 18861, 'autonomic': 18862, 'coal': 18863, 'exu': 18864, 'curtsy': 18865, 'posie': 18866, 'monarch': 18867, 'chef’s': 18868, 'guitarist': 18869, 'crapping': 18870, 'resolve': 18871, 'downeys': 18872, 'semifin': 18873, 'myths': 18874, 'o…vanessa': 18875, 'groovy': 18876, 'alaric': 18877, 'textured': 18878, 'offreds': 18879, 'airbrushing': 18880, 'doubleided': 18881, 'lacma': 18882, 'chan': 18883, 'zoes': 18884, 'ofglen': 18885, 'accurately': 18886, 'poked': 18887, 'bibiana': 18888, 'clem': 18889, 'dumplin': 18890, 'clauses': 18891, 'reluctance': 18892, 'painstakingly': 18893, 'unanswered': 18894, 'mok': 18895, 'crudup': 18896, 'greysanatomi': 18897, 'cabaret': 18898, 'outpatient': 18899, 'tongan': 18900, 'igourney': 18901, 'weavers': 18902, 'lyla': 18903, 'garr': 18904, 'cections': 18905, 'dayslong': 18906, 'breech': 18907, 'dare’': 18908, 'lair': 18909, 'petalfilled': 18910, 'implest': 18911, 'bunni': 18912, 'fancier': 18913, 'pjs': 18914, 'assures': 18915, 'stride': 18916, 'labased': 18917, 'imultaneously': 18918, 'regal': 18919, 'avageness': 18920, 'entourages': 18921, 'here\\x92s': 18922, 'punches': 18923, 'tampa': 18924, 'thurmans': 18925, 'irwins': 18926, 'appendix': 18927, 'bit’': 18928, 'pinki': 18929, 'gtl': 18930, 'vacation’s': 18931, '52nd': 18932, 'eparately': 18933, 'napshot': 18934, 'redecor': 18935, 'five’': 18936, 'adamant': 18937, 'voted': 18938, '650': 18939, 'win’': 18940, 'affected': 18941, 'be”': 18942, 'neardeath': 18943, 'highfive': 18944, 'lombard’s': 18945, 'ducktales': 18946, 'felicia': 18947, 'malachi': 18948, 'loos': 18949, 'flushed': 18950, 'sip': 18951, 'moniques': 18952, 'cocaine’': 18953, 'vicki’s': 18954, 'worship': 18955, 'existed': 18956, '3lw': 18957, '‘west': 18958, 'swimwear': 18959, 'unedited': 18960, 'falloutt': 18961, 'chin': 18962, 'vivica': 18963, 'terences': 18964, 'retracts': 18965, '‘vanity': 18966, 'fair’': 18967, 'hands…again': 18968, 'mcnamaras': 18969, 'dial': 18970, 'victimized': 18971, 'airing': 18972, 'congrats': 18973, 'quarter': 18974, 'grey’': 18975, 'jeica': 18976, 'caphaw': 18977, 'banner': 18978, 'fri': 18979, 'charted': 18980, 'seducing': 18981, 'hades’style': 18982, 'fannings': 18983, 'obe': 18984, 'arkozys': 18985, '‘boys': 18986, 'dresses’': 18987, 'frontmans': 18988, 'mortified': 18989, 'regale': 18990, 'huntingtonwhiteleys': 18991, 'vacayready': 18992, 'deliciously': 18993, 'dwayn': 18994, 'doula': 18995, 'nickelodeons': 18996, 'dvd': 18997, 'dozenplus': 18998, 'perfects': 18999, '‘huge’': 19000, 'raging': 19001, 'scooter': 19002, 'transformative': 19003, 'belieb': 19004, 'premi': 19005, 'helved': 19006, '“leaving': 19007, 'country”': 19008, 'torrential': 19009, 'downpour': 19010, 'warsthemed': 19011, 'dixon': 19012, '‘cloud': 19013, 'nine’': 19014, 'astrology': 19015, 'livetream': 19016, 'babysit': 19017, 'danielson': 19018, 'lightest': 19019, 'taller': 19020, 'whiski': 19021, 'wildfire': 19022, '‘waitress’': 19023, 'lui': 19024, 'violated”': 19025, 'unremarkable': 19026, '‘criminal': 19027, 'minds’': 19028, 'osment': 19029, 'creeped': 19030, 'scrubs': 19031, 'observe': 19032, 'robotic': 19033, 'fright': 19034, 'bethani': 19035, 'remembrance': 19036, 'contenders': 19037, 'marlins': 19038, 'mascot': 19039, 'carmichael': 19040, '’ladies': 19041, 'bandlead': 19042, '‘never’': 19043, '‘done’': 19044, 'chord': 19045, 'overstreet': 19046, 'housem': 19047, 'spoke': 19048, 'rossis': 19049, 'coupledom': 19050, 'leonard': 19051, 'nimoys': 19052, 'treks': 19053, 'farrel': 19054, 'carbon': 19055, 'resleeve': 19056, '142': 19057, 'corfu': 19058, 'dar': 19059, 'peeks': 19060, 'millionaire': 19061, 'brawl': 19062, 'cald': 19063, 'tormtrooper': 19064, 'joannas': 19065, 'cherzing': 19066, 'curry’s': 19067, '‘withdrawn’': 19068, '‘nasty’': 19069, 'antigunviolence': 19070, 'mule': 19071, 'dominican': 19072, 'rugrats': 19073, 'sociopath': 19074, 'dykstra’s': 19075, 'seduction': 19076, '‘horny’': 19077, 'mended': 19078, 'hopkins': 19079, 'flak': 19080, 'mlt': 19081, 'entertainmentdaphne': 19082, 'streamline': 19083, 'mma': 19084, 'guilherme': 19085, 'bomba': 19086, 'vasconcelo': 19087, 'lowel': 19088, 'incomplete': 19089, 'depressingly': 19090, 'celebrities’': 19091, 'mcm': 19092, 'browne': 19093, 'backpedals': 19094, 'rendit': 19095, 'mercedes': 19096, 'javid': 19097, 'unmade': 19098, 'engagements': 19099, 'neptunes': 19100, 'hugo': 19101, 'mists': 19102, 'prays—and': 19103, 'terms': 19104, 'readying': 19105, 'fluffy': 19106, 'biscuits': 19107, 'mothered': 19108, 'yrup': 19109, 'rescues': 19110, 'cliffhanger': 19111, 'cap': 19112, 'protrump': 19113, 'vibrant': 19114, 'dose': 19115, 'traditionally': 19116, 'idiot': 19117, 'quickly': 19118, 'rhooc': 19119, 'kirschenheiter': 19120, 'tune': 19121, 'floaty': 19122, 'manilow': 19123, 'ummit': 19124, 'prisoner': 19125, 'buyer': 19126, 'howcase': 19127, 'divers': 19128, 'goosebumps': 19129, 'rockets': 19130, 'diamondencrusted': 19131, 'athletic': 19132, 'apparel': 19133, 'village': 19134, 'stocked': 19135, 'kamala': 19136, 'spr': 19137, '‘originals’': 19138, 'holt': 19139, 'aggravated': 19140, 'trebunskaya': 19141, 'fiveo’': 19142, '“ense': 19143, 'worth”': 19144, 'jinxy': 19145, '220000': 19146, 'default': 19147, 'myers’s': 19148, 'oho': 19149, '132m': 19150, 'multimillion': 19151, 'kfed': 19152, 'heck': 19153, 'cruh': 19154, 'brown…chri': 19155, 'intereted…': 19156, 'peeling': 19157, 'bennington’s': 19158, 'partners': 19159, 'artois': 19160, 'trista': 19161, 'triking': 19162, 'rematch': 19163, 'i’ll': 19164, 'regrets”': 19165, 'hola': 19166, '‘ex’': 19167, 'lac': 19168, 'reliving': 19169, 'valastro’s': 19170, 'desserts': 19171, 'pddz': 19172, 'galleri': 19173, 'divin': 19174, '“be': 19175, 'careful”': 19176, 'angelic': 19177, 'winona': 19178, 'ryder': 19179, 'dyslexic': 19180, 'unsolved': 19181, 'hardearned': 19182, 'dree': 19183, 'pintized': 19184, '‘entirely': 19185, 'producer’': 19186, 'deuce’': 19187, 'cobie': 19188, 'mulders': 19189, 'accompanied': 19190, 'faceoff': 19191, 'o’donnell’s': 19192, 'prescription': 19193, 'nailed': 19194, 'mosttweeted': 19195, 'dissolving': 19196, 'cheer': 19197, 'kimoji': 19198, 'offwhites': 19199, 'virgil': 19200, 'ablohs': 19201, 'tassis': 19202, 'hoopla': 19203, 'proport': 19204, 'caiden': 19205, 'zan': 19206, '‘empowered': 19207, 'business’': 19208, '2003s': 19209, 'canne': 19210, 'livenaps': 19211, 'extends': 19212, 'enhances': 19213, 'assets–and': 19214, 'lonergan': 19215, 'abominably’': 19216, 'investment': 19217, 'pinning': 19218, 'alterc': 19219, 'epitomizes': 19220, 'celebrityfriendly': 19221, 'ferrell’s': 19222, 'burgundy': 19223, 'federer': 19224, 'escort': 19225, 'lengthy': 19226, 'mommyyi': 19227, 'sticks': 19228, 'cyberbulli': 19229, 'cared’': 19230, 'face—but': 19231, 'izzles': 19232, 'daniela': 19233, 'ospina': 19234, 'migo': 19235, 'overcomes': 19236, 'paralysis': 19237, '81000': 19238, 'crowdfund': 19239, '”clear': 19240, 'head”': 19241, 'played’': 19242, 'delights': 19243, 'careful': 19244, 'glees': 19245, 'needing': 19246, 'nadal': 19247, 'death’': 19248, '“in': 19249, 'of”': 19250, 'indefens': 19251, '2021': 19252, 'pendants': 19253, 'lamps': 19254, 'lumenscom': 19255, '‘domestic': 19256, 'dispute’': 19257, 'to': 19258, 'dillon': 19259, 'veils': 19260, 'improvement': 19261, 'librari': 19262, 'bobby’s': 19263, 'vacuous': 19264, 'ocialclimbing': 19265, 'luts': 19266, 'faking': 19267, 'leighton': 19268, 'meester': 19269, 'vanguard': 19270, 'tattooed': 19271, 'coleen': 19272, 'keegan': 19273, 'jarecki': 19274, 'mowryhardrict': 19275, 'verify': 19276, 'revengers': 19277, 'horvitz': 19278, 'maestro': 19279, 'elsewhere': 19280, 'alonga': 19281, '‘mulan’': 19282, 'egerstrom': 19283, 'rousteing': 19284, 'armi': 19285, 'fineand': 19286, 'cummings': 19287, '9780735212602': 19288, 'relegated': 19289, 'easing': 19290, 'oulcycl': 19291, 'prematur': 19292, '‘done': 19293, 'whassup': 19294, 'pitches': 19295, 'nab': 19296, 'universal’s': 19297, 'flailing': 19298, 'makeupcom': 19299, 'open’': 19300, 'borrowing': 19301, 'fashionable': 19302, 'macklemore’s': 19303, 'starring': 19304, '99yearold': 19305, '‘glorious’': 19306, 'declare': 19307, 'arlen': 19308, 'outlook': 19309, 'chocolates': 19310, 'cleansers': 19311, 'maia': 19312, 'hibutani': 19313, 'faces–including': 19314, 'decorate': 19315, 'briefcase': 19316, '‘deal': 19317, 'deal’': 19318, 'leblan': 19319, 'dope': 19320, 'envelopeg': 19321, 'leeri': 19322, 'waite': 19323, 'queso': 19324, 'feud’': 19325, 'anonymously': 19326, 'pacif': 19327, 'clapton': 19328, 'marshmallow': 19329, '‘pump': 19330, 'nortons': 19331, 'harlem': 19332, 'quilt': 19333, 'pyjama': 19334, 'urban’s': 19335, 'wyd': 19336, 'roster': 19337, 'genderfluid': 19338, 'dm': 19339, 'distractingly': 19340, 'telluride': 19341, 'influencer': 19342, 'distressed': 19343, 'nastia': 19344, 'liukin': 19345, 'diapershuntpol': 19346, 'litness': 19347, 'lovefilled': 19348, '‘blank': 19349, 'pace’': 19350, 'wine’': 19351, 'afis': 19352, 'swimming': 19353, 'gentle': 19354, 'tores': 19355, 'disappointment': 19356, 'usie': 19357, 'essman': 19358, 'enthusiasm': 19359, 'tirade': 19360, 'motherinlaws': 19361, 'wak': 19362, 'inmates': 19363, '‘buck': 19364, 'goo': 19365, '‘altered': 19366, 'carbon’': 19367, '‘chrisley': 19368, 'heila': 19369, 'uncovers': 19370, 'true’': 19371, 'dawg': 19372, 'gruelling': 19373, '21hour': 19374, 'emme': 19375, 'timberland': 19376, 'stretch': 19377, 'acrificed': 19378, 'freakin': 19379, 'perla': 19380, 'mustee—if': 19381, 'flor': 19382, 'docked': 19383, 'gangster': 19384, 'gangsta': 19385, 'nemo': 19386, 'radical': 19387, 'ignited': 19388, 'guiltypleasure': 19389, 'developer': 19390, 'skirting': 19391, 'beyh': 19392, 'norths': 19393, 'reflections': 19394, 'prisonerchic': 19395, 'regan': 19396, 'moseley': 19397, 'merrit': 19398, 'groot’s': 19399, 'kristmas': 19400, 'flav': 19401, 'empowers': 19402, 'edgy': 19403, 'topknot': 19404, 'misfit': 19405, '！': 19406, 'bonu': 19407, 'seduc': 19408, '‘queen’': 19409, 'selfobsess': 19410, 'wreaks': 19411, 'havoc': 19412, 'breathless': 19413, 'dcs': 19414, 'embarrassment': 19415, 'sav': 19416, 'businesswoman': 19417, 'hadn’t': 19418, 'candidly': 19419, 'avagexfenty': 19420, 'xccessories': 19421, 'unmasked': 19422, 'romances–and': 19423, 'valderrama’s': 19424, 'whores': 19425, '£1': 19426, 'antisexual': 19427, '‘millions’': 19428, 'wung': 19429, '‘ick': 19430, 'movement’': 19431, '‘architect’': 19432, 'mathilde': 19433, 'ada': 19434, 'vox': 19435, 'tooges': 19436, 'teenmom': 19437, 'intergalactic': 19438, 'tawny': 19439, 'kitaen': 19440, 'cag': 19441, 'michigan': 19442, 'nassars': 19443, 'meras': 19444, 'firth': 19445, 'hernandez': 19446, 'terence’s': 19447, 'adamari': 19448, 'extort': 19449, '‘et': 19450, 'os': 19451, 'ropers': 19452, 'girlygirl': 19453, 'caspe': 19454, 'extinguish': 19455, 'cruelti': 19456, '‘almost': 19457, 'murdered’': 19458, 'stranger': 19459, 'ub': 19460, 'ship': 19461, 'tancil': 19462, 'manushi': 19463, 'chhillar': 19464, 'newsroom”': 19465, 'dorm': 19466, 'tanford': 19467, 'upertarry': 19468, 'askreddit': 19469, 'lowed': 19470, 'hapewear': 19471, '‘depression': 19472, 'discriminate’': 19473, 'wasp': 19474, 'levels’': 19475, 'rannells': 19476, 'counselor': 19477, '1tep': 19478, 'halfup': 19479, 'rebuilding': 19480, 'lipync': 19481, 'twinkies': 19482, 'own': 19483, 'psyched': 19484, 'invisible': 19485, 'hermione': 19486, 'lodg': 19487, 'unprepared': 19488, 'tupper': 19489, 'wir': 19490, 'fatigu': 19491, '‘felt': 19492, 'god’': 19493, 'unfit': 19494, 'barware': 19495, 'pinoffs': 19496, 'cutkosky': 19497, '‘celebration': 19498, 'women’': 19499, 'confid': 19500, '“napped”': 19501, 'ranting': 19502, 'houstons': 19503, 'cissy': 19504, 'unfathom': 19505, 'whiny': 19506, 'categorie': 19507, 'choen': 19508, '26yearold': 19509, 'stares': 19510, 'adoringly': 19511, 'byrd': 19512, 'captive': 19513, 'wig”': 19514, 'platelet': 19515, 'plasma': 19516, 'hampshire': 19517, 'nh': 19518, 'medicine': 19519, 'cudi': 19520, '“father': 19521, '1”': 19522, 'gracie': 19523, 'lou': 19524, 'modeled': 19525, 'uspends': 19526, 'operations': 19527, 'homewrecking': 19528, 'ugarland’s': 19529, '‘mad': 19530, 'men’inspired': 19531, 'ip': 19532, 'chai': 19533, 'latt': 19534, 'copperfield': 19535, 'reedtook': 19536, 'mutters': 19537, '‘oh': 19538, 'st’': 19539, '‘aquaman': 19540, 'hore’s': 19541, 'loosefitting': 19542, 'drunkenness': 19543, 'winces': 19544, 'mudbounds': 19545, 'resilient': 19546, 'collid': 19547, '‘rise’': 19548, 'ucceed': 19549, 'braves’': 19550, 'netherlands': 19551, 'goreski': 19552, 'janetti': 19553, 'malias': 19554, 'khoury’s': 19555, 'exy’': 19556, 'bell’': 19557, 'rochas': 19558, 'floats': 19559, 'cowell’s': 19560, 'lima’s': 19561, 'slit': 19562, 'astroworld': 19563, 'implant': 19564, '‘adrift’': 19565, 'myspace': 19566, 'beat’': 19567, '“wonder': 19568, 'woman”': 19569, 'frantic': 19570, 'tens': 19571, 'uncanny': 19572, 'rees': 19573, 'whobitbeyoncé': 19574, 'nda': 19575, 'creations': 19576, 'lulu': 19577, 'talitha': 19578, 'document': 19579, 'promis': 19580, 'ducki': 19581, 'photocall': 19582, '‘chitt’s': 19583, 'alaries': 19584, '400k': 19585, 'tare': 19586, '53rd': 19587, '‘mission': 19588, 'fallout’': 19589, 'cunanan': 19590, 'guianni': 19591, 'ight’': 19592, 'organized': 19593, 'playroom': 19594, 'fumes': 19595, 'lobbied': 19596, 'lletget': 19597, 'neighbor’s': 19598, 'alaina': 19599, 'chace': 19600, 'dapper': 19601, 'limbo': 19602, 'devon': 19603, 'dreamiest': 19604, 'cabot': 19605, '“racist': 19606, 'ancestors”': 19607, 'limiest': 19608, 'infographic': 19609, 'tallies': 19610, 'palatial': 19611, 'grinch': 19612, 'patridg': 19613, 'wasteland': 19614, 'ruins': 19615, 'comedies': 19616, 'woonworthy': 19617, 'overtakes': 19618, 'influenc': 19619, 'designers': 19620, '‘coyote': 19621, 'ugly’': 19622, 'terl': 19623, 'phys': 19624, 'oti': 19625, 'minireunion': 19626, 'exhale': 19627, 'newlyreleased': 19628, 'standards': 19629, 'gosling’s': 19630, '‘fbomb’': 19631, 'courtland': 19632, 'rogers': 19633, 'premios': 19634, 'juventud': 19635, 'univisions': 19636, 'hathaways': 19637, 'shutdown': 19638, 'bombs': 19639, 'dalys': 19640, 'caruso': 19641, 'barrino': 19642, 'married…': 19643, 'mateo': 19644, '‘target': 19645, 'greedy': 19646, 'conscious': 19647, 'conspiracy’': 19648, 'imitates': 19649, 'realworld': 19650, 'james’': 19651, '‘’doesn’t': 19652, 'approve’’': 19653, 'prepregnancy': 19654, 'prominent': 19655, 'cellulit': 19656, 'rc': 19657, 'hopital': 19658, '38week': 19659, 'constantly': 19660, 'decept': 19661, 'preeaster': 19662, 'rues': 19663, 'pjthemed': 19664, 'clouds': 19665, 'gentri': 19666, 'mul': 19667, 'latinas': 19668, 'mumford': 19669, 'parked': 19670, 'grew': 19671, 'courti': 19672, 'months—but': 19673, 'interrupts': 19674, 'merger': 19675, 'reinhart’s': 19676, '“riverdale': 19677, 'dcc': 19678, '‘messed’': 19679, 'nicoles': 19680, '110000': 19681, 'flow': 19682, '‘britishness’': 19683, 'widower': 19684, 'cot': 19685, 'matteson': 19686, 'bunny’s': 19687, '3939rrated3939': 19688, 'garbage': 19689, 'bochco': 19690, '‘nypd': 19691, '‘hill': 19692, 'blues’': 19693, 'antifemicide': 19694, 'excruciating': 19695, 'navigate': 19696, 'pentatonix': 19697, 'chambers': 19698, 'impostor': 19699, 'momager': 19700, 'mastermind': 19701, '‘was': 19702, 'viewership': 19703, 'gorillas': 19704, 'rule’s': 19705, 'favourite’': 19706, 'vivian': 19707, '40000': 19708, 'epa': 19709, 'penalty': 19710, 'commands': 19711, 'hulu’s': 19712, 'catch22': 19713, 'coolgirl': 19714, 'exbachelorette': 19715, 'unreleased': 19716, '“manus': 19717, 'machina”': 19718, '‘nooki’': 19719, 'momham': 19720, 'realest': 19721, 'isaiahs': 19722, 'warrant’': 19723, '‘arrow’': 19724, 'masturbation': 19725, 'palin’s': 19726, 'upply': 19727, 'crucial': 19728, 'lear': 19729, '‘’exclusive’’': 19730, 'stranded': 19731, 'narwhal': 19732, 'tastes': 19733, 'tarburst': 19734, 'treads': 19735, 'grilled': 19736, 'represent”': 19737, 'unsung': 19738, 'rashida': 19739, '‘toy': 19740, '4’': 19741, 'unwanted': 19742, 'lasset': 19743, 'waggiest': 19744, '9yearold': 19745, 'applies': 19746, 'heartbreakers': 19747, 'throwbacks': 19748, '”definitely': 19749, 'deserves”': 19750, 'offcreen': 19751, 'moral’': 19752, '‘whose': 19753, 'boat’': 19754, 'tweeting': 19755, 'karjenner': 19756, 'stuntman': 19757, '‘mom’s’': 19758, 'flaws': 19759, 'laurina': 19760, '39th': 19761, 'commiss': 19762, 'maddies': 19763, 'bayonas': 19764, 'dinosaur': 19765, 'traces': 19766, '“bed”': 19767, 'unmatched': 19768, 'multiplatform': 19769, '“live': 19770, '“dose”': 19771, 'unless': 19772, 'ransom': 19773, '94': 19774, 'a': 19775, 'villag': 19776, 'dewanda': 19777, 'wise': 19778, '‘captain': 19779, 'marvel’': 19780, 'mistrial': 19781, 'deadlocked': 19782, 'divine': 19783, 'dedication': 19784, '50′': 19785, 'petsch’s': 19786, 'diplomaci': 19787, 'labelle': 19788, 'versace’': 19789, '‘married': 19790, 'graduate’': 19791, 'palladio': 19792, 'unsets': 19793, 'zolciakbiermanns': 19794, 'constipated': 19795, 'weepie': 19796, 'discreet': 19797, 'earlier': 19798, 'rink': 19799, 'balanced': 19800, 'innout': 19801, 'burg': 19802, 'breakup—but': 19803, 'robbed': 19804, 'addison': 19805, 'timlin': 19806, '’90': 19807, 'autobiography': 19808, 'cheerleaderinspired': 19809, 'klein’s': 19810, 'warrants': 19811, 'mislabeled': 19812, 'ling': 19813, 'tiniest': 19814, 'perspective': 19815, 'bernard': 19816, 'reenactment': 19817, 'jami': 19818, 'longest': 19819, 'kyler': 19820, 'kaius': 19821, 'snuggl': 19822, 'lone': 19823, 'brentwood': 19824, 'oregon’s': 19825, 'ucks’': 19826, 'chandon': 19827, 'champagnes': 19828, 'premium': 19829, 'champagn': 19830, 'threesome': 19831, 'wards': 19832, 'wintry': 19833, 'fred': 19834, 'aremisens': 19835, 'symbols': 19836, 'philippe': 19837, 'lonsdal': 19838, 'capitalizing': 19839, 'glad”': 19840, 'carly’s': 19841, 'backless': 19842, 'bundles': 19843, 'larsons': 19844, 'frisky': 19845, 'yearold': 19846, 'enhancements': 19847, '‘addiction’': 19848, 'ethical': 19849, 'beastglam': 19850, 'laughed': 19851, 'seconds': 19852, 'dudeoir': 19853, 'pinup': 19854, 'tantrum': 19855, 'fatigue': 19856, 'unsee’': 19857, 'opry': 19858, 'friedpickle': 19859, 'potato': 19860, 'frito': 19861, 'regionthemed': 19862, 'snack': 19863, '‘handson’': 19864, 'petition': 19865, 'mistake”': 19866, 'eyegrabbing': 19867, 'feather': 19868, 'egypt': 19869, 'tindal': 19870, 'checklist': 19871, 'f–ked': 19872, 'nashville’s': 19873, 'bluebird': 19874, 'caf': 19875, 'bodyshamers': 19876, 'musings': 19877, 'oseary': 19878, 'fishbowl': 19879, 'porg': 19880, 'palermo’s': 19881, 'similar': 19882, 'ambushed': 19883, 'perp': 19884, '“orange': 19885, 'rompers': 19886, 'grabandgo': 19887, 'highprofile': 19888, 'archbalt': 19889, 'westworlds': 19890, 'fulaau': 19891, 'exteacher': 19892, 'rey’s': 19893, 'cateye': 19894, '‘troubled’': 19895, 'tonys': 19896, '‘a’': 19897, 'kazan’s': 19898, 'lemon’s': 19899, 'staples': 19900, 'corpio': 19901, 'holes': 19902, 'drinking”': 19903, 'turtles': 19904, '—and': 19905, 'bellagio': 19906, 'pendant': 19907, 'fdny': 19908, 'badge': 19909, 'jd': 19910, 'treasury': 19911, 'secretary’s': 19912, 'government': 19913, 'hermes': 19914, 'embark': 19915, 'monogram': 19916, 'perm': 19917, 'wife’s': 19918, '3tiered': 19919, '‘phil': 19920, 'future’': 19921, '‘longburied': 19922, 'emotions’': 19923, '20lb': 19924, 'postengagement': 19925, 'glimmers': 19926, 'polka': 19927, 'chiseled': 19928, 'glitt': 19929, 'wertlow': 19930, 'feb': 19931, 'adder': 19932, 'mistr': 19933, 'outtak': 19934, 'wallpapers': 19935, 'commitmentphobes': 19936, 'cj': 19937, 'bellassai': 19938, 'mirnoffs': 19939, 'rejection': 19940, 'conjures': 19941, 'kinkle': 19942, 'ambulance': 19943, 'riots': 19944, 'anticellulite': 19945, 'bellinger': 19946, 'racinginspired': 19947, 'cufflinks': 19948, '15year': 19949, 'birthday’': 19950, 'we’d': 19951, 'coming’': 19952, 'falduto': 19953, '”young': 19954, 'figurehead”': 19955, 'boycotts': 19956, 'bodyhames': 19957, 'wallet': 19958, 'quads': 19959, 'fuscia': 19960, 'redux': 19961, 'blythe': 19962, 'danner': 19963, 'plimpton': 19964, 'weintein': 19965, 'abotages': 19966, 'pretty’': 19967, 'animalinspired': 19968, '5million': 19969, 'maze': 19970, 'dashner': 19971, 'publisher': 19972, '‘’bad': 19973, 'ass’’': 19974, '‘carface’': 19975, 'mcvey': 19976, 'jangl': 19977, 'baywatchinspired': 19978, 'les': 19979, 'moonves': 19980, '‘constantly': 19981, 'pressured’': 19982, 'ravishing': 19983, 'lozada': 19984, 'jaclyn': 19985, 'warriors': 19986, 'quirrel': 19987, '‘rough': 19988, 'anthony’s': 19989, 'suitcase': 19990, 'hockeys': 19991, 'groundbreaking': 19992, 'jocelyne': 19993, 'lamoureux': 19994, 'torso': 19995, 'fascinator': 19996, 'eyeopeners': 19997, 'will…': 19998, '£110000': 19999, 'trippers': 20000, 'cared”': 20001, 'wilsonliam': 20002, 'hemsworthpriyanka': 20003, 'discovery’': 20004, 'adoring': 20005, 'vonns': 20006, 'capture': 20007, '134': 20008, '2018—glamour': 20009, 'teddi': 20010, 'sis': 20011, 'kelsi': 20012, '520': 20013, 'rundown': 20014, 'unifier': 20015, 'ririapproved': 20016, 'notoweet': 20017, 'deandre': 20018, 'hopkin': 20019, 'soulmate': 20020, 'ghosted': 20021, 'bromantic': 20022, 'inéad': 20023, 'o’connor': 20024, '‘fed': 20025, 'o’hara': 20026, 'hardi': 20027, 'lee’s': 20028, 'unconscious': 20029, '15th': 20030, 'gamechang': 20031, 'xscap': 20032, 'lowriders’': 20033, 'yvette': 20034, 'monreal': 20035, 'anklewrap': 20036, 'godparents': 20037, 'technically': 20038, 'nichol': 20039, 'inject': 20040, 'norovirus': 20041, 'symptoms': 20042, 'illnesses': 20043, 'tripes': 20044, 'runners': 20045, 'overconditioning': 20046, 'drunk’': 20047, 'matron': 20048, 'elijah': 20049, 'haylijah': 20050, 'oneliners': 20051, 'paved': 20052, 'celebnewgr': 20053, 'blooper': 20054, '600': 20055, '110': 20056, 'groban': 20057, 'horoscop': 20058, 'phillippe’s': 20059, 'grammy®': 20060, 'rosalía': 20061, 'aguilar': 20062, 'jorge': 20063, 'drexler': 20064, 'lafourcade': 20065, 'rengifo': 20066, 'andrés': 20067, 'torres': 20068, 'nevertheless': 20069, 'underneath': 20070, 'megans': 20071, 'swift': 20072, 'fakes': 20073, 'westbrook': 20074, '30s': 20075, 'technology': 20076, 'slimmeddown': 20077, 'houston’s': 20078, 'drugtrewn': 20079, 'lucius': 20080, 'malfoy': 20081, 'rivalry': 20082, 'responsibility': 20083, 'validated': 20084, 'penny': 20085, 'cucumber': 20086, 'housing': 20087, '“horrible': 20088, 'boil”': 20089, 'edge': 20090, 'recycled': 20091, 'twister': 20092, 'cabin': 20093, 'janel': 20094, 'akin': 20095, 'bosun': 20096, 'frenchi': 20097, 'movie’': 20098, 'torched': 20099, 'ongs’': 20100, 'mertz': 20101, 'wrights': 20102, 'hopper': 20103, 'millennial': 20104, '‘confidence': 20105, 'patient’': 20106, 'outlander’s': 20107, 'pantry': 20108, 'boomers': 20109, 'shakeup': 20110, 'roomie': 20111, 'day’s': 20112, 'díganle—plus': 20113, 'fischer’s': 20114, 'kardashianjenn': 20115, 'odays': 20116, 'pixar’s': 20117, '‘coco’': 20118, 'mickey’s': 20119, 'oundsational': 20120, 'marshals': 20121, 'ned': 20122, 'masterfully': 20123, 'erik': 20124, 'omo': 20125, 'live”': 20126, 'univiion': 20127, 'norvell': 20128, 'sleeps': 20129, 'hutchison': 20130, 'frightened': 20131, 'frontman': 20132, 'jaret': 20133, 'winokur': 20134, 'coroner': 20135, 'loeb’s': 20136, 'embryos': 20137, 'divergent': 20138, 'mcdormand’s': 20139, 'pantsuit': 20140, 'furry': 20141, '‘exceedingly': 20142, 'high’': 20143, 'fentanyl': 20144, 'recalling': 20145, 'pleasures': 20146, 'daytona': 20147, 'bedazzled': 20148, 'barbados’': 20149, 'carnival': 20150, 'adelovecom': 20151, 'jauregui': 20152, 'inflammatory': 20153, 'zendaya’s': 20154, '“body': 20155, 'lam”': 20156, 'molders': 20157, 'lipup': 20158, 'kufrin’s': 20159, '‘pain’': 20160, 'antilatino': 20161, 'avvy': 20162, 'calming': 20163, 'porgs': 20164, '‘curvy': 20165, 'hadid’': 20166, 'treadmill': 20167, 'nooze': 20168, 'photographic': 20169, 'admiration': 20170, 'waxing': 20171, 'endorsement': 20172, 'twotime': 20173, 'skinni': 20174, 'project’s': 20175, 'reactivated': 20176, '‘project': 20177, 'runway’': 20178, 'olafs': 20179, 'philanthropic': 20180, 'gift’': 20181, '‘diva’': 20182, 'alignment': 20183, 'bite': 20184, 'tiffany’': 20185, 'tares': 20186, 'medically': 20187, 'induced': 20188, 'coma': 20189, '‘who': 20190, 'gharachedaghi': 20191, 'dreyfuss': 20192, '‘fit': 20193, 'guys’': 20194, 'kateboarding': 20195, 'bodybuilder': 20196, 'pilotto': 20197, 'havent': 20198, 'urvivor’s': 20199, 'morasco': 20200, 'hardcore': 20201, 'employing': 20202, 'tepsons': 20203, '6th': 20204, 'tepmom': 20205, 'teinfelds': 20206, 'tapped': 20207, 'pachon': 20208, 'xxxtentacions': 20209, 'fair’s': 20210, 'abtu': 20211, 'tabungan': 20212, 'urang': 20213, 'frontdasi': 20214, 'pepelakan': 20215, 'dupi': 20216, 'ayeuna': 20217, 'namedrop': 20218, 'dime': 20219, 'millionair': 20220, 'jury”': 20221, 'life’s': 20222, 'yracuse': 20223, 'festivals': 20224, 'ews': 20225, 'strange': 20226, 'mullally': 20227, '‘volatile’': 20228, 'ownership': 20229, 'copyright': 20230, 'lawusit': 20231, 'fond': 20232, 'kian': 20233, 'lawley': 20234, 'fox’s': 20235, 'give’': 20236, 'unleashed': 20237, 'gaping': 20238, 'hole—or': 20239, 'nuggly': 20240, 'astronauts': 20241, '00s': 20242, 'barron': 20243, 'meter': 20244, 'ensa': 20245, 'cattrall’s': 20246, 'appreciate': 20247, 'ordinariness': 20248, 'burgeoning': 20249, 'fulfil': 20250, 'luckiest': 20251, 'whisks': 20252, 'proteinpacked': 20253, 'plumps': 20254, '“clown”': 20255, '‘marvelous’': 20256, 'informed': 20257, '‘modern': 20258, 'grain': 20259, 'eighth': 20260, 'emblazoned': 20261, 'demos': 20262, 'blesses': 20263, 'bloodline': 20264, 'kwan': 20265, 'gellars': 20266, 'unwritten': 20267, 'maines': 20268, 'monaes': 20269, 'pynk': 20270, 'anatomi': 20271, 'breckin': 20272, 'film’s': 20273, '‘cb': 20274, 'morning’': 20275, 'quand': 20276, 'pok': 20277, 'quashed': 20278, 'moanastyle': 20279, 'bleaching': 20280, 'cent’s': 20281, 'mechanical': 20282, 'delays': 20283, 'tatuminspired': 20284, 'usefully': 20285, 'pitefully': 20286, 'greens': 20287, 'chant': 20288, 'reply': 20289, 'elflove': 20290, 'cute”': 20291, 'rotem': 20292, 'partnerships': 20293, 'delightful': 20294, 'barrino’s': 20295, 'regimen': 20296, '‘hades': 20297, 'eleven’s’': 20298, 'persons': 20299, 'jaynes': 20300, 'truthful': 20301, 'mccarthi': 20302, 'umansky': 20303, 'darkness': 20304, 'dahmer': 20305, 'backderf': 20306, 'english’s': 20307, 'lenon': 20308, 'nikki’s': 20309, '“eeing': 20310, 'goosebumps”': 20311, 'fattened': 20312, '‘vice’': 20313, 'generations': 20314, 'upgraded': 20315, 'kent’s': 20316, '‘thank': 20317, 'freakiest': 20318, 'champions': 20319, 'simply': 20320, 'horans': 20321, 'rodriquez': 20322, '‘bummed’': 20323, 'wojcicki': 20324, '23andm': 20325, 'garten': 20326, 'opentoe': 20327, 'nyt': 20328, 'bestseller': 20329, 'insecurities': 20330, 'tux': 20331, 'recruiting': 20332, 'krol': 20333, 'reeve': 20334, 'keleigh': 20335, 'keletons': 20336, 'plaintiffs': 20337, 'harmony’s': 20338, 'cocacola': 20339, 'vanilla': 20340, 'ellas': 20341, 'alexanders': 20342, 'basketbal': 20343, 'toppaid': 20344, 'rhobh’s': 20345, 'arandon': 20346, 'feudthemed': 20347, 'pingpong': 20348, 'paddles': 20349, 'subdued': 20350, '“hameless”': 20351, 'homecooked': 20352, 'dany': 20353, '‘cried’': 20354, 'organizations': 20355, 'plumb': 20356, '‘keeps': 20357, 'touch’': 20358, 'ligh': 20359, '‘madam': 20360, 'ecretary’': 20361, 'joked': 20362, 'dawson’s': 20363, 'insights': 20364, '‘safe': 20365, 'word’': 20366, 'hik': 20367, 'photoshopped': 20368, 'recogn': 20369, 'ubtle': 20370, 'traw': 20371, 'monáe': 20372, 'duty': 20373, 'albums': 20374, 'cosbi': 20375, 'veronicas': 20376, '7m': 20377, 'yorker': 20378, '‘unconditional': 20379, '‘wild': 20380, '’n': 20381, 'garage': 20382, 'rebuffs': 20383, 'nymphomaniac': 20384, 'wifelike': 20385, '‘zootopia’': 20386, 'sloths': 20387, '‘unequivocally’': 20388, 'highlyanticipated': 20389, 'fletchers': 20390, 'irianos': 20391, 'serve': 20392, 'sports': 20393, 'jelly': 20394, 'oreos': 20395, '“la': 20396, '“technically”': 20397, 'tans': 20398, 'flooded': 20399, 'arkansas': 20400, 'grips': 20401, 'postreunion': 20402, 'typecasting': 20403, 'metoo’s': 20404, 'arkozy': 20405, 'uncl': 20406, 'tirling': 20407, 'vaca': 20408, 'promposals': 20409, 'catwoman': 20410, 'beatrices': 20411, 'bounty': 20412, 'chapman’s': 20413, 'darlene': 20414, 'currently': 20415, 'vicelands': 20416, 'zombi': 20417, 'belittled': 20418, 'moment’': 20419, 'dismay': 20420, 'tossing': 20421, 'towels': 20422, 'acclaimed': 20423, 'retracting': 20424, 'powders': 20425, 'mckee': 20426, 'toking': 20427, 'pretending': 20428, '7yrold': 20429, '‘viral': 20430, 'ensation’': 20431, 'humor': 20432, 'quips': 20433, 'lais': 20434, 'ribeiro': 20435, 'hush': 20436, 'hospitalization': 20437, 'velvet': 20438, 'velour': 20439, 'uiting': 20440, 'tuffi': 20441, 'aware': 20442, 'louisdreyfus’': 20443, '‘dusty': 20444, 'rusty': 20445, 'hoe’': 20446, 'nappy': 20447, 'readings': 20448, 'octuplet': 20449, 'importance': 20450, 'tiebreak': 20451, 'bloodbath': 20452, 'bergeron': 20453, '“nack”': 20454, 'kardshian': 20455, 'tweet—and': 20456, 'erections': 20457, 'regulars': 20458, 'alpacas': 20459, 'jcpenney': 20460, 'capule': 20461, 'kevin’s': 20462, 'fairyland': 20463, 'pigmented': 20464, 'pallet10': 20465, 'matteshimmer': 20466, 'hightlight': 20467, 'brushwaterproof': 20468, 'blendable': 20469, 'palettemup': 20470, '01': 20471, 'dyer’s': 20472, 'hays': 20473, '‘lavery': 20474, 'musgraves': 20475, 'ruston': 20476, 'vlog': 20477, 'bizzl': 20478, 'iq': 20479, 'breakdowns': 20480, 'blowups': 20481, 'forgets': 20482, 'dorito': 20483, '‘twilight': 20484, 'unexpectedli': 20485, '‘using’': 20486, 'indulg': 20487, 'identifi': 20488, 'consults': 20489, 'downward': 20490, 'urfing': 20491, 'prouses': 20492, 'cook’s': 20493, 'abato': 20494, 'underland': 20495, 'perman': 20496, '‘access': 20497, 'herron': 20498, 'adelstein': 20499, 'brainer”': 20500, 'equel’s': 20501, 'whoa': 20502, 'reckoning': 20503, '007': 20504, 'sneez': 20505, 'ophomore': 20506, 'lump': 20507, 'altnpepa’s': 20508, 'quothoopquot': 20509, 'ahole': 20510, 'wreath': 20511, 'berries': 20512, 'unexplained': 20513, 'maura': 20514, 'mays': 20515, 'astrolog': 20516, 'beefing': 20517, 'comicbook': 20518, 'heineken': 20519, 'eyfrieds': 20520, 'broadcaster': 20521, 'recongize': 20522, 'kitchens': 20523, 'notoriously': 20524, 'clinch': 20525, 'chances': 20526, 'bro’': 20527, 'twilights': 20528, 'disobeying': 20529, '1937': 20530, 'ae': 20531, '‘cientology’': 20532, 'smothers': 20533, 'leni': 20534, 'hana': 20535, 'insepar': 20536, 'uncooperative': 20537, 'flexes': 20538, '‘omething': 20539, 'done’': 20540, 'morri': 20541, 'vivid': 20542, 'imagination': 20543, 'torytel': 20544, 'decemb': 20545, 'customers': 20546, 'shoddily': 20547, 'andy’s': 20548, '“toy': 20549, 'tory”': 20550, '‘bohemian': 20551, 'rhapsody’': 20552, 'weighed': 20553, 'yoself': 20554, 'symbol': 20555, 'passion’': 20556, 'puked': 20557, 'marlee': 20558, 'matlin': 20559, 'outlives': 20560, 'guides': 20561, 'massacr': 20562, 'mill’s': 20563, 'entence': 20564, '“unjust': 20565, 'handed”': 20566, 'lewd': 20567, 'cavanagh': 20568, 'categorised': 20569, '‘ignoring’': 20570, 'munns': 20571, 'paramed': 20572, 'globes’': 20573, 'featurett': 20574, 'foreshadow': 20575, 'heckled': 20576, 'ferrel': 20577, 'handbags': 20578, 'people…': 20579, 'now’': 20580, 'whobitbeyonce': 20581, '‘real’': 20582, 'real’': 20583, 'tristans': 20584, 'imon’s': 20585, 'yourself”': 20586, 'in': 20587, 'pepper': 20588, 'anto': 20589, 'rodrigo': 20590, 'excessive': 20591, 'lateummer': 20592, 'blood’': 20593, 'intervention': 20594, 'withdraw': 20595, 'theft': 20596, 'auto': 20597, 'posthumously': 20598, 'maintaining': 20599, 'xi': 20600, 'waits': 20601, 'churchill': 20602, 'laser': 20603, 'paralyzed': 20604, 'gravy': 20605, 'hortag': 20606, 'that’ll': 20607, 'eonlinecom': 20608, 'forte': 20609, 'hbos': 20610, 'cowboy': 20611, 'booster': 20612, 'pocketing': 20613, 'calories': 20614, 'smartphones': 20615, 'majesty': 20616, 'serving': 20617, 'sass': 20618, 'remarries': 20619, 'graziano': 20620, 'network’s': 20621, 'foxy': 20622, 'knoxy': 20623, 'nicknam': 20624, 'esteban': 20625, 'loaiza': 20626, 'listings': 20627, 'bikinis': 20628, 'geyer': 20629, 'remaking': 20630, 'ifting': 20631, 'prevented': 20632, 'caylee': 20633, 'marches': 20634, 'heartland': 20635, 'charttopping': 20636, 'juvenile': 20637, 'arrived': 20638, 'doorstep': 20639, 'unrelenting': 20640, 'tolberts': 20641, '\\x91olaf\\x92s': 20642, 'adventure\\x92': 20643, 'water’s': 20644, '”are': 20645, 'alone”': 20646, 'bravo’s': 20647, 'montecito': 20648, '💕justin': 20649, 'news💕': 20650, 'spoiler': 20651, 'howgirl': 20652, 'marla': 20653, 'maples': 20654, 'haul': 20655, 'carnahan': 20656, 'ran': 20657, 'robinsons': 20658, 'feathered': 20659, 'kicktart': 20660, 'zeppelins': 20661, 'conveyed': 20662, 'sunshine': 20663, 'hadley': 20664, 'buckman': 20665, 'lay—e': 20666, 'guilfoyle': 20667, '‘blackface’': 20668, 'battlestar': 20669, 'galactica': 20670, 'mcdonnell': 20671, 'katee': 20672, 'ackhoff': 20673, 'kunnis': 20674, 'snowboard': 20675, 'plussize': 20676, 'rocky’s': 20677, 'burgled': 20678, 'chappaquiddick': 20679, 'incere': 20680, 'fiction': 20681, '‘whaboom’': 20682, 'afanasieff': 20683, 'edmonds’': 20684, '‘upports’': 20685, 'fibroid': 20686, 'tumors': 20687, 'uterus': 20688, 'rewards': 20689, 'cracked': 20690, 'herbs': 20691, 'pices': 20692, 'editorapproved': 20693, 'wheeling': 20694, 'tormzy': 20695, 'technical': 20696, '“creep”': 20697, 'giuseppe': 20698, 'zanotti': 20699, 'zararun': 20700, 'momapproved': 20701, 'intern': 20702, 'unified': 20703, 'emeraude': 20704, 'toubia': 20705, 'nominate': 20706, 'glasgow': 20707, 'evictee': 20708, 'powers': 20709, 'attn': 20710, 'tracksuits': 20711, 'seats': 20712, 'elseworlds': 20713, 'dartmouth': 20714, 'dolled': 20715, '‘abotaged’': 20716, 'edc': 20717, 'hazam': 20718, 'scantilyclad': 20719, 'females': 20720, 'angelil': 20721, 'spitting': 20722, 'jenkinss': 20723, 'sank': 20724, 'buttons': 20725, 'brook': 20726, '’do': 20727, 'dodged': 20728, 'puths': 20729, 'wrongdoing': 20730, 'royals’': 20731, 'uperexy': 20732, 'upa': 20733, 'booti': 20734, 'leopard': 20735, 'ratn': 20736, 'plann': 20737, 'quares': 20738, 'mate': 20739, 'screenings': 20740, 'devilish': 20741, 'catholicthemed': 20742, 'aw17': 20743, 'flashforward': 20744, 'daria': 20745, 'hame': 20746, '13th': 20747, 'bittersweet': 20748, 'hudgens’': 20749, 'striking': 20750, 'chart': 20751, 'tracey': 20752, 'cunningham': 20753, 'motiv': 20754, 'rebellion': 20755, 'heelsonly': 20756, 'swarming': 20757, 'tarantula': 20758, 'galway': 20759, 'muy': 20760, 'bien': 20761, 'hallway': 20762, '78yearold': 20763, 'fools’': 20764, 'cosmet': 20765, 'parkinsons': 20766, '‘cowboy’': 20767, 'ammy': 20768, 'osa': 20769, 'diamonds': 20770, 'birkins': 20771, 'maybachs': 20772, 'healers': 20773, 'hustl': 20774, 'boyfriends': 20775, 'caputos': 20776, 'campy': 20777, 'gothic': 20778, 'aesthet': 20779, 'tidelands': 20780, 'bull': 20781, 'holi': 20782, '“wag': 20783, 'atlanta”': 20784, 'jennerinspired': 20785, 'ar': 20786, 'madi': 20787, '37pound': 20788, 'daze’': 20789, 'denmark': 20790, 'fiction’': 20791, 'idolall': 20792, 'dog’': 20793, 'peni': 20794, '“curvier”': 20795, 'weeting': 20796, 'finished': 20797, 'soules': 20798, '‘acted': 20799, 'reasonably’': 20800, 'rollin': 20801, 'lindelof': 20802, 'carpenter': 20803, 'worldrenowned': 20804, 'peakers': 20805, 'kocian': 20806, 'kyla': 20807, '5’s': 20808, 'bjork': 20809, '“blue’s': 20810, 'freestyle”': 20811, 'nuzzles': 20812, 'lizard': 20813, 'carlys': 20814, 'guetta': 20815, 'fourong': 20816, 'unexpected—and': 20817, 'unforgettable—night': 20818, 'neiman’': 20819, 'physique': 20820, 'appropriately': 20821, 'animatronic': 20822, '76': 20823, 'smiths': 20824, 'onthe': 20825, '‘over': 20826, 'blonde’': 20827, 'hows4': 20828, 'lick': 20829, 'lime': 20830, '‘taken’': 20831, 'urrender”': 20832, 'wreckit': 20833, 'upandcoming': 20834, 'navi': 20835, 'up—again': 20836, 'blink182': 20837, 'dissect': 20838, 'ufficiently': 20839, 'lowriders': 20840, 'montreuil': 20841, 'ubverting': 20842, 'cliché': 20843, 'plaguing': 20844, 'schoolgirl': 20845, 'reenacted': 20846, 'o’donnell': 20847, 'exwife’s': 20848, 'carv': 20849, 'needles': 20850, 'fivefigure': 20851, 'taught”': 20852, 'kirras': 20853, 'firstdegree': 20854, 'ghana': 20855, 'linky': 20856, 'pecks': 20857, 'miniature': 20858, 'ponies': 20859, 'cheryls': 20860, 'porowski’s': 20861, 'doppelgänger': 20862, 'tickle': 20863, 'whaboom': 20864, 'deceptive': 20865, 'quirm': 20866, 'deltas': 20867, 'panicked': 20868, 'flee': 20869, 'cinema': 20870, 'scariest': 20871, 'hereditary': 20872, 'helpless': 20873, 'maintained': 20874, '80pound': 20875, 'kbeauty': 20876, 'huntingtonwhiteley’s': 20877, 'xfil': 20878, 'epar': 20879, 'utility': 20880, 'leagues': 20881, '‘popular’': 20882, 'murphy’s': 20883, 'sophisticated': 20884, 'eizur': 20885, 'trainee': 20886, 'midwif': 20887, '‘unday': 20888, 'nuggles’': 20889, 'recurring': 20890, 'diona': 20891, 'reasonov': 20892, 'kid’s': 20893, 'porting': 20894, 'avagely': 20895, 'blasted': 20896, 'toy’': 20897, 'hallows': 20898, 'meters': 20899, 'okoye': 20900, 'deja': 20901, '“vogue”': 20902, 'robach': 20903, 'vargas': 20904, 'confrontations': 20905, 'guidelin': 20906, 'chunki': 20907, '‘upernatural’': 20908, '‘wayward': 20909, 'isters’': 20910, 'backdoor': 20911, '“when': 20912, 'skinny': 20913, 'myself”': 20914, 'forbidden': 20915, 'pdas': 20916, 'boohoo': 20917, 'cooler': 20918, 'covering': 20919, 'crossov': 20920, 'jaxs': 20921, 'grimmie': 20922, 'nonsense': 20923, 'udeiki': 20924, 'humid': 20925, '‘heartthrob’': 20926, 'mcilroy': 20927, 'visionary': 20928, 'chopard': 20929, 'potter’s’': 20930, 'diagon': 20931, 'driveway': 20932, 'trophies': 20933, 'here39s': 20934, 'cargo': 20935, 'parentshamed': 20936, 'everlasting': 20937, '‘ladies': 20938, 'neilson’s': 20939, 'theatrical': 20940, '‘urban': 20941, 'culture’': 20942, 'chewbacca’s': 20943, 'farts': 20944, '9780916291525': 20945, 'hinta': 20946, 'cho': 20947, 'tinchecum': 20948, 'therapeutic': 20949, '‘does': 20950, 'damian': 20951, 'flawlessly': 20952, 'moosh': 20953, 'cheetahs': 20954, 'donovan’': 20955, 'xavier': 20956, 'dolan’s': 20957, 'incubus': 20958, 'atualização': 20959, '3ª': 20960, 'etapa': 20961, 'quem': 20962, 'deve': 20963, 'ser': 20964, 'nomeada': 20965, 'votem': 20966, 'dumbo': 20967, 'buttondown': 20968, 'cassie': 20969, 'woes': 20970, 'stamp': 20971, 'aclu': 20972, 'installments': 20973, '72k': 20974, 'kriver': 20975, 'shimmer': 20976, 'frocks': 20977, 'protein': 20978, 'raul': 20979, 'hockers': 20980, 'mesnick': 20981, 'inide': 20982, 'daughter’': 20983, 'nureri': 20984, 'mtvchalleng': 20985, 'sofia': 20986, 'bulgari': 20987, '‘weet': 20988, 'daddarios': 20989, 'theyd': 20990, 'adores': 20991, 'frontier': 20992, 'pares': 20993, 'expense': 20994, 'beatboxer': 20995, '£170': 20996, 'fundraising': 20997, 'foul': 20998, 'zolciak’s': 20999, '‘wig’': 21000, 'birthing': 21001, 'soapy': 21002, 'luxembourgs': 21003, 'pouses': 21004, '“unreal”': 21005, 'flaw': 21006, '70lb': 21007, 'faucet': 21008, 'perfectfit': 21009, 'tussbal': 21010, 'gatorade': 21011, 'creases': 21012, 'laurence': 21013, 'fishburne': 21014, '14monthold': 21015, 'unusually': 21016, 'winless': 21017, 'cayley': 21018, 'dg': 21019, 'medalion': 21020, 'rahimi': 21021, 'hondaland’s': 21022, 'frill': 21023, 'hem': 21024, 'wwhl': 21025, 'immigrated': 21026, 'd23': 21027, 'expo': 21028, 'announcements': 21029, 'convent': 21030, 'heards': 21031, 'thriving': 21032, 'educe': 21033, 'glovers': 21034, '“winter': 21035, 'coming”': 21036, 'scrutiny': 21037, 'preemptively': 21038, 'endangerment': 21039, '295': 21040, 'prequels': 21041, 'betting': 21042, 'insider’s': 21043, 'livestream': 21044, 'challenge’s': 21045, 'portillo': 21046, 'mathews': 21047, 'delaying': 21048, 'rode': 21049, 'shuttles': 21050, 'oundgarden': 21051, 'committing': 21052, 'ulkin': 21053, 'brittanys': 21054, 'conceiving': 21055, 'effortlessly': 21056, 'risqué': 21057, 'clark’s': 21058, 'rockin’': 21059, 'eve’': 21060, 'hundreds': 21061, 'lusth': 21062, 'witnessing': 21063, 'showered': 21064, '24inch': 21065, 'waistline': 21066, 'marsden': 21067, '“proud': 21068, 'apocalypses': 21069, 'grossman': 21070, 'coven': 21071, 'henson’s': 21072, '“empire”': 21073, 'grohl’s': 21074, '“uncomfortable”': 21075, 'temperatures': 21076, '140': 21077, 'topping': 21078, 'reverses': 21079, 'poop': 21080, '4500': 21081, 'turkeys': 21082, 'entering': 21083, 'facility': 21084, 'palms': 21085, '‘too': 21086, 'ex’': 21087, 'clear’': 21088, 'threekate': 21089, 'highlighters': 21090, 'strobe': 21091, 'tracing': 21092, 'steep': 21093, 'descent': 21094, 'untouchable': 21095, 'obituary': 21096, 'fajardo': 21097, 'pranking': 21098, 'malina': 21099, 'vivienne': 21100, 'westwood': 21101, 'associ': 21102, 'technicolor': 21103, 'loreal': 21104, 'equal’': 21105, 'yun': 21106, 'portland': 21107, 'beijing': 21108, 'hadowed': 21109, 'distract': 21110, 'bandaid': 21111, 'magicians': 21112, 'trangling': 21113, '‘feels’': 21114, 'reconciles': 21115, '825m': 21116, 'absent': 21117, 'uzi': 21118, 'vert': 21119, 'unimpressed': 21120, 'vultur': 21121, 'khouri': 21122, 'poisonous': 21123, '“marry': 21124, 'person”': 21125, '‘austin': 21126, 'powers’': 21127, 'verne': 21128, 'troyer': 21129, 'youman': 21130, 'point’': 21131, 'decemberists': 21132, 'unused': 21133, '“ben': 21134, 'franklin’s': 21135, 'ong”': 21136, 'humphri': 21137, 'blacked': 21138, 'thrifty': 21139, 'fawning': 21140, 'indulge': 21141, 'prinsloos': 21142, 'khalifas': 21143, 'reign’s': 21144, 'novela': 21145, '‘role': 21146, 'lifetime’': 21147, 'halfway': 21148, 'leona': 21149, 'crushs': 21150, 'pardon': 21151, 'imprisoned': 21152, 'cots': 21153, '‘delicate’': 21154, 'grebeel': 21155, 'harpay': 21156, 'task': 21157, '‘female': 21158, 'advancement’': 21159, 'undanceable': 21160, 'weighin': 21161, 'logic’s': 21162, 'increased': 21163, 'lifelin': 21164, 'pudding’s': 21165, 'olympias': 21166, 'edelmans': 21167, 'chewbaccas': 21168, 'kushners': 21169, 'pechenik': 21170, 'murin': 21171, 'axel': 21172, 'boutella': 21173, 'thumb': 21174, 'soilver': 21175, 'uperstars’': 21176, 'flam': 21177, 'emberlin': 21178, 'isbirthing': 21179, 'unsparing': 21180, 'honesty': 21181, 'demons': 21182, 'huntingtonwhitley': 21183, 'pupil': 21184, 'sailing': 21185, 'purser': 21186, 'queerbait': 21187, 'thyroid': 21188, 'graves': 21189, '3week': 21190, '“familiar”': 21191, 'thiev': 21192, 'peidi': 21193, 'styles': 21194, 'ritchie': 21195, 'hunnams': 21196, 'tamra’s': 21197, '“unstable”': 21198, 'twinss': 21199, 'corn': 21200, 'maz': 21201, 'homi': 21202, 'confessional': 21203, 'einfelds': 21204, 'ferns': 21205, 'galifianaki': 21206, 'production—and': 21207, 'kellyclarksongrammi': 21208, 'poisoned': 21209, 'femalefronted': 21210, 'jhene': 21211, 'dietary': 21212, 'fertil': 21213, 'cornwall': 21214, 'bilyeu': 21215, 'buttnaked': 21216, 'mavrakis': 21217, 'ama’': 21218, 'pantheon': 21219, 'highgrossing': 21220, 'urkel': 21221, 'designer’s': 21222, 'lakewood': 21223, 'chalamet’s': 21224, 'helter': 21225, 'balms': 21226, 'cohn': 21227, 'patty’s': 21228, 'dream…': 21229, 'jerseys': 21230, 'gias': 21231, '‘rhonj’': 21232, 'jailbird': 21233, 'flagged': 21234, 'deport': 21235, '‘terrible’': 21236, 'totaled': 21237, 'kywalker': 21238, 'millennium': 21239, 'falcon': 21240, 'xena': 21241, 'therompdev': 21242, 'knowleslawson': 21243, '“nailed': 21244, 'chantel': 21245, 'jeffries': 21246, 'alloccasion': 21247, 'petite': 21248, 'salon': 21249, 'dissects': 21250, 'mixin’': 21251, 'pronunciation': 21252, 'reaffirmed': 21253, '80glam': 21254, 'addams': 21255, 'gingham': 21256, 'carols': 21257, 'mist': 21258, '“wicked”': 21259, 'kailan': 21260, '15minute': 21261, 'ervin': 21262, 'keibler': 21263, 'pobr': 21264, 'geri': 21265, 'horner': 21266, '‘angels': 21267, 'chains’': 21268, 'magnificent': 21269, 'cena’s': 21270, 'piritday': 21271, 'klaus': 21272, 'beignets': 21273, 'rooftop': 21274, 'burgers': 21275, 'nagasus': 21276, 'backstori': 21277, 'charities': 21278, '‹': 21279, '”in': 21280, 'feelings”': 21281, 'maliko': 21282, '‘bae’': 21283, 'minkoffs': 21284, 'delivering': 21285, 'av': 21286, 'coped': 21287, '19monthold': 21288, 'regretted': 21289, 'waithes': 21290, 'andre': 21291, 'innocence': 21292, 'exchang': 21293, 'nascarlevel': 21294, 'peednascar': 21295, '‘ashamed’': 21296, 'meow': 21297, 'unwinds': 21298, 'millspeninsula': 21299, 'bariatric': 21300, 'vivianne': 21301, 'oscarwinning': 21302, 'june’s': 21303, '‘pumpkin’': 21304, 'monarchy’s': 21305, 'narcos': 21306, 'holbrook': 21307, 'stuff': 21308, 'baggage': 21309, '‘helping’': 21310, 'machado': 21311, 'niplip': 21312, 'camels': 21313, 'disqualified': 21314, 'mykono': 21315, 'uggestion': 21316, 'capshawarah': 21317, 'pompeos': 21318, 'managed': 21319, '10yearolds': 21320, 'defens': 21321, '‘despicable': 21322, 'referencing': 21323, 'cheekbones': 21324, '‘sawed’': 21325, 'silicone': 21326, 'batistes': 21327, 'blakey': 21328, 'mouseketeers': 21329, 'montroses': 21330, 'coveted': 21331, 'enclave': 21332, 'nazanin': 21333, 'mandi': 21334, 'toxins': 21335, 'bias': 21336, 'prince’s': 21337, 'irresistible': 21338, 'incomeshousecarslifestyleageheightfamili': 21339, 'resolut': 21340, 'entitlement': 21341, 'anarchy': 21342, 'specul': 21343, '9780062434234': 21344, 'pants—thought': 21345, 'upermodels': 21346, 'nor': 21347, '‘perfect’': 21348, 'journal': 21349, 'tudi': 21350, 'daya': 21351, 'resonates': 21352, 'eminem39s': 21353, '‘forgive’': 21354, 'toughest': 21355, 'lingback': 21356, 'omeones': 21357, '‘dawson’s': 21358, 'squeezes': 21359, 'mommydaughter': 21360, 'ettled': 21361, 'less’': 21362, '15pound': 21363, 'bourbon’': 21364, 'liotta': 21365, 'noreaster': 21366, 'devine’s': 21367, 'espn': 21368, 'crazy’': 21369, 'freddi': 21370, 'lightening': 21371, 'fanfavorite': 21372, '‘racist’': 21373, 'torpedoed': 21374, 'quittman': 21375, '‘housewife’': 21376, 'scor': 21377, 'handed': 21378, 'inflight': 21379, 'alisons': 21380, 'cited': 21381, 'loaded': 21382, 'jac': 21383, 'gheesling': 21384, 'greenlight': 21385, 'hater': 21386, '“ucky': 21387, 'model”': 21388, 'festival’s': 21389, 'lovemaking': 21390, '1981': 21391, 'opranos': 21392, 'goodfellas': 21393, '78': 21394, 'bandeau': 21395, 'neal': 21396, 'amcs': 21397, 'hurd': 21398, 'newlyw': 21399, '‘elfworth’': 21400, 'crafting': 21401, 'olympians': 21402, 'gym—her': 21403, 'genderbending': 21404, 'polyamorous': 21405, '“modern': 21406, 'tupac”': 21407, '91st': 21408, 'suffer': 21409, 'hipping': 21410, 'derailed': 21411, 'gunns': 21412, 'lawrence’s': 21413, '‘fck': 21414, 'you…': 21415, 'motivations': 21416, 'feys': 21417, '‘harassing’': 21418, 'crazyexgirlfriend': 21419, 'ect': 21420, 'norvina': 21421, 'minist': 21422, 'webby': 21423, 'banking': 21424, 'babywear': 21425, 'ratner’s': 21426, 'trikes': 21427, '‘grub': 21428, 'worm’': 21429, 'reenacts': 21430, 'strol': 21431, 'refiles': 21432, 'demotes': 21433, 'tripping': 21434, 'shave': 21435, 'manscaping': 21436, 'minutia': 21437, 'declines': 21438, '‘mtv': 21439, 'generation’…': 21440, 'militaryinspired': 21441, 'tairs': 21442, 'horrorinspired': 21443, 'urprise—his': 21444, 'stunts': 21445, '“tronger”': 21446, 'kookaburra': 21447, 'paradiseand': 21448, 'callop': 21449, 'reactivates': 21450, 'gravity': 21451, '“rare': 21452, 'pox”': 21453, 'changer': 21454, 'obering': 21455, 'examination': 21456, 'posing': 21457, 'wme': 21458, '“rabid': 21459, 'venit': 21460, 'surgeries': 21461, 'agreed': 21462, '‘girls': 21463, 'trip’': 21464, 'information': 21465, 'ginuwine': 21466, 'bravolebrity': 21467, 'poni': 21468, 'tidals': 21469, 'fun’': 21470, 'bookies': 21471, 'doodl': 21472, 'ensure': 21473, 'isqos': 21474, 'jcy': 21475, 'modesty': 21476, 'uperglued': 21477, 'fresno': 21478, 'kensli': 21479, 'on…': 21480, 'conclude': 21481, 'showrunn': 21482, 'concluding': 21483, 'engine': 21484, 'ame’': 21485, 'norway': 21486, 'ope': 21487, 'aluko': 21488, 'haman': 21489, 'devoted': 21490, 'dominguezheithoff': 21491, '“grownish”': 21492, 'dismissal': 21493, 'lonelylooking': 21494, 'pawned': 21495, 'amusing': 21496, 'gaston': 21497, 'disneyla': 21498, 'assassin': 21499, 'nappily': 21500, '312018': 21501, 'whimsi': 21502, 'democratic': 21503, 'primari': 21504, '1yearold': 21505, 'buttocks': 21506, 'intimaci': 21507, 'chmerkovskiy’s': 21508, '‘laguna': 21509, 'beach’': 21510, 'manchester’s': 21511, 'pharrell’s': 21512, 'muse': 21513, 'mette': 21514, 'towley': 21515, 'gp': 21516, 'toasting': 21517, 'colleagues': 21518, 'unfazed': 21519, 'hipst': 21520, 'hayes’': 21521, 'cherished': 21522, 'duel': 21523, 'racist’': 21524, 'tackling': 21525, 'maintenance': 21526, 'horn': 21527, 'research': 21528, 'nabs': 21529, 'politician’': 21530, 'deen': 21531, 'elliot': 21532, 'kerdil': 21533, 'cosby’s': 21534, 'puffy': 21535, 'dives': 21536, 'phelp': 21537, 'bt’': 21538, 'runnerup': 21539, 'openheart': 21540, 'lauryn': 21541, 'cirque': 21542, 'du': 21543, 'aerialist': 21544, 'ines': 21545, 'rau': 21546, 'playm': 21547, '6year': 21548, '101st': 21549, 'potatoes': 21550, 'lcid': 21551, 'vuolo': 21552, 'irrelev': 21553, 'pendergrast': 21554, 'yerrid': 21555, 'pastor’': 21556, '99': 21557, 'morningtonight': 21558, 'elgorts': 21559, 'pharrellinspired': 21560, 'pinault': 21561, 'hesitated': 21562, 'pond': 21563, 'tboz': 21564, '‘ducktales’': 21565, 'xd’s': 21566, 'toon': 21567, 'hag': 21568, 'nasim': 21569, 'bch': 21570, 'bereft': 21571, '’emboldened’': 21572, 'ampquoti’m': 21573, 'didampquot': 21574, 'poptopia': 21575, 'rvpd': 21576, 'scraps': 21577, 'spat': 21578, 'howtimes': 21579, 'heartwrench': 21580, 'accessory': 21581, 'pitched': 21582, '“intriguing”': 21583, 'louiss': 21584, 'reagan': 21585, 'banished': 21586, '“younger': 21587, 'now”': 21588, 'standup': 21589, 'goatees': 21590, 'kristoff': 21591, 'ghostbusters': 21592, 'deutschendorf': 21593, '”despacito”': 21594, 'john”': 21595, 'gilford': 21596, 'kiele': 21597, 'devour': 21598, 'weati': 21599, 'tallone': 21600, 'urver': 21601, 'soccer': 21602, 'nbd': 21603, 'estelle': 21604, 'parson': 21605, 'conception': 21606, 'montr': 21607, 'erum': 21608, 'recited': 21609, 'heron’s': 21610, 'damages': 21611, 'iheartradios': 21612, 'everlys': 21613, 'individuality': 21614, 'midwife': 21615, 'regaining': 21616, '12m': 21617, 'nowboarder': 21618, 'petschs': 21619, 'weekendready': 21620, 'winns': 21621, 'karas': 21622, 'enviable': 21623, 'cratches': 21624, 'georginas': 21625, 'laidback’': 21626, 'thief': 21627, 'eyeliners': 21628, 'kidnapper': 21629, 'barzee': 21630, '17yearold': 21631, 'tinki': 21632, 'hernandezs': 21633, 'hayanna': 21634, 'buzzfeed': 21635, '‘roswell’': 21636, '‘tvd’’originals': 21637, 'offshoot': 21638, 'berlanti': 21639, 'roastchicken': 21640, 'tories”': 21641, 'pettyfer’s': 21642, 'mike’': 21643, 'baño': 21644, 'sweatpants': 21645, 'gabriellas': 21646, '£200000': 21647, 'dislike': 21648, 'elvis': 21649, 'walkers': 21650, 'porsche': 21651, 'wrongfuldeath': 21652, 'vic': 21653, 'laich’s': 21654, 'photobombed': 21655, 'infinity’': 21656, 'abercrombies': 21657, '610m': 21658, 'hairremoval': 21659, 'techniques': 21660, 'musgrav': 21661, 'hops': 21662, 'plastics': 21663, 'typ': 21664, 'dada': 21665, '22000': 21666, 'kimono': 21667, 'trejo': 21668, 'logue’s': 21669, 'show’s': 21670, '‘superstar’': 21671, 'olidarity': 21672, 'omos': 21673, 'baseline': 21674, 'kerber': 21675, 'yncing': 21676, 'calloped': 21677, 'kidman’s': 21678, 'austria': 21679, '“nirvana': 21680, 'blonde”': 21681, 'malec': 21682, 'champs': 21683, 'waith': 21684, 'dystopian': 21685, 'tock': 21686, '”get': 21687, 'lit”': 21688, 'grooming': 21689, '‘free': 21690, 'thought’ing': 21691, 'cholars': 21692, '“baywatch”': 21693, 'ideas—no': 21694, 'requir': 21695, '‘crosswalk': 21696, 'musical’': 21697, 'party—and': 21698, 'phenomen': 21699, 'juri': 21700, 'clarkes': 21701, 'plunging': 21702, 'necklines': 21703, 'feathers': 21704, 'mickelson': 21705, 'flattop': 21706, 'turtleneck': 21707, 'varsity': 21708, 'wiseaus': 21709, '“blessed”': 21710, 'harrisons': 21711, 'heartfelt—and': 21712, 'hilarious—thank': 21713, 'hungri': 21714, 'olsen’s': 21715, 'heerans': 21716, 'colonel': 21717, 'costanza': 21718, 'collected': 21719, 'headlinerorg': 21720, 'aijia': 21721, 'burch’s': 21722, '‘baffled’': 21723, 'chamber': 21724, 'md': 21725, 'contagious': 21726, 'jokester': 21727, 'ladder': 21728, 'orbo': 21729, 'girlboss': 21730, 'routine—and': 21731, 'harpie': 21732, 'weeney': 21733, '‘days': 21734, '‘as': 21735, 'trokes': 21736, 'bieber39s': 21737, 'valentine39s': 21738, 'gronkowski’s': 21739, 'gronk': 21740, 'dianna': 21741, 'onerepublics': 21742, 'tedder': 21743, 'lade': 21744, 'laments': 21745, 'puzzling': 21746, '54th': 21747, 'elects': 21748, 'warmings': 21749, 'hirley': 21750, 'pornography': 21751, 'usually': 21752, 'entail': 21753, 'winds': 21754, 'healthylooking': 21755, 'crochet': 21756, 'platic': 21757, 'yeager’s': 21758, 'quotnormal': 21759, 'lifequot': 21760, 'by…': 21761, 'argues': 21762, 'religious': 21763, 'starred': 21764, 'nugget': 21765, '“pregnancy': 21766, 'pillow”': 21767, 'fiasco': 21768, 'gallacher': 21769, 'brand’s': 21770, 'kirsy': 21771, 'gallacher’s': 21772, 'whittak': 21773, 'lent': 21774, 'nut': 21775, 'lamborghini': 21776, 'clowning': 21777, 'clapped': 21778, 'ageism': 21779, 'cement': 21780, 'nixons': 21781, 'governor': 21782, 'halfpipe': 21783, 'maxima’s': 21784, 'ombre': 21785, 'atkin': 21786, 'drawings': 21787, 'accessorized': 21788, '‘100': 21789, 'tattoos’': 21790, 'heavily': 21791, 'inked': 21792, 'connected': 21793, '61pound': 21794, 'expansion': 21795, 'implify': 21796, '‘constant': 21797, 'fear’': 21798, 'burying': 21799, 'hatchet': 21800, 'portugal': 21801, 'towering': 21802, 'deads': 21803, 'windell': 21804, 'toryline': 21805, 'placement': 21806, 'yearslong': 21807, 'lightning': 21808, 'obsesses': 21809, 'celebutantes': 21810, '‘complicated': 21811, 'relationship’': 21812, 'leazy': 21813, 'limeball': 21814, 'yall': 21815, 'jerk': 21816, 'logues': 21817, 'proceed': 21818, 'credentials': 21819, 'medalists': 21820, 'mj’s': 21821, 'marriages': 21822, 'disadvantages': 21823, 'wolf’': 21824, '6b': 21825, 'abound': 21826, 'yard': 21827, 'jessi': 21828, 'zane': 21829, 'reconnect': 21830, '”piraled': 21831, 'control”': 21832, 'hor': 21833, 'rainy': 21834, 'hobbies': 21835, 'tyraism': 21836, 'hartsock': 21837, 'iegfri': 21838, 'states': 21839, '9yearsold': 21840, '‘fashion': 21841, 'police’': 21842, 'hurrah': 21843, 'parttime': 21844, 'overjoy': 21845, 'navarro': 21846, 'bushwick': 21847, 'lides': 21848, 'reviewed': 21849, 'barrs': 21850, 'winnie': 21851, 'harlow': 21852, 'model’': 21853, 'monday—the': 21854, '👏': 21855, 'oldfashioned': 21856, 'refrains': 21857, 'googl': 21858, 'dadda': 21859, 'applaud': 21860, 'willis’': 21861, 'assaults': 21862, 'trevorrow': 21863, 'creole': 21864, 'midtown': 21865, 'brash': 21866, 'haws': 21867, 'winifred': 21868, 'andersonapprov': 21869, '79m': 21870, 'dionne': 21871, 'rodman': 21872, '‘bitter': 21873, 'despit': 21874, 'hazzard': 21875, '“mom’s': 21876, 'paghetti”': 21877, 'vying': 21878, 'froelich': 21879, 'heady': 21880, 'versatile': 21881, 'survives': 21882, 'headon': 21883, 'collision': 21884, 'elevenyearold': 21885, 'clinic': 21886, '‘road': 21887, 'dias’': 21888, 'mirror’': 21889, 'tracking': 21890, 'pussycats': 21891, '32g': 21892, 'substance': 21893, 'wiped': 21894, 'nerdist': 21895, 'founded': 21896, 'ynonymous': 21897, 'channeluperbhub': 21898, 'diary': 21899, 'lauren’s': 21900, 'pamming': 21901, 'rat': 21902, 'eventually': 21903, 'aikman': 21904, 'capa': 21905, 'mooti': 21906, 'upercheap': 21907, 'fullfrontal': 21908, 'woodsen': 21909, 'lean': 21910, 'peacock': 21911, 'brother’s': 21912, 'flashdance': 21913, 'literary': 21914, 'karjenners': 21915, 'pmoy': 21916, 'novak': 21917, 'bryants': 21918, 'brushes': 21919, 'aldean’s': 21920, 'keyboard': 21921, 'chatty': 21922, 'floralfilled': 21923, 'diffusing': 21924, 'tunn': 21925, 'cloudlike': 21926, 'problematic': 21927, '‘payback’s': 21928, 'bih’': 21929, 'middivorc': 21930, 'parking”': 21931, 'pukes': 21932, 'francos': 21933, 'terrif': 21934, 'charrisse': 21935, 'oddly': 21936, 'blushes': 21937, 'madonna’s': 21938, 'oaking': 21939, 'parkle': 21940, 'morphs': 21941, 'iege': 21942, '‘timeless’': 21943, 'peggy': 21944, 'ulahian': 21945, 'county’': 21946, 'uperprivate': 21947, 'kraem': 21948, 'criticised': 21949, 'privileg': 21950, 'mime': 21951, 'addition': 21952, 'aired': 21953, 'willy': 21954, 'nickys': 21955, 'counterclaims': 21956, 'luk': 21957, 'ohanians': 21958, 'bahamian': 21959, 'queeze': 21960, '‘psychiatric': 21961, 'meds’': 21962, '80th': 21963, 'rican': 21964, 'cruella': 21965, 'vil': 21966, 'feast': 21967, 'e1': 21968, 'curl': 21969, 'drastic': 21970, 'buzzcut': 21971, 'frow': 21972, 'jw': 21973, 'piqué': 21974, 'trains': 21975, 'rampage': 21976, 'olang': 21977, 'clumpy': 21978, 'limp': 21979, 'lash': 21980, 'avengers’': 21981, 'nichole': 21982, 'ufc': 21983, 'tito': 21984, 'allens': 21985, 'flashed': 21986, 'backburn': 21987, 'yfi': 21988, 'prevalentines': 21989, '“accept”': 21990, 'viewer': 21991, 'candac': 21992, 'boykin’s': 21993, 'hurricanes': 21994, 'natures': 21995, 'angelia': 21996, 'cheyne': 21997, 'hoppy': 21998, 'forensic': 21999, 'evaluations': 22000, 'bryn': 22001, 'activ': 22002, 'longleeved': 22003, 'wrenching': 22004, 'thumbprint': 22005, '“extremely': 22006, 'competitive”': 22007, 'transport': 22008, 'ensually': 22009, 'passage': 22010, 'outdraked': 22011, 'lifelike': 22012, 'eriesfinale': 22013, 'blur’': 22014, 'huma': 22015, 'abedin': 22016, 'selfindulgent': 22017, '62nd': 22018, 'daughters’': 22019, '‘cocaine': 22020, 'godmother’': 22021, 'brownface': 22022, 'chlocky': 22023, '‘narcos’': 22024, 'knockoff': 22025, 'yearly': 22026, 'sidelin': 22027, 'frogmore': 22028, 'playmate': 22029, 'berglund': 22030, 'purchases': 22031, 'voters': 22032, '“lucky”': 22033, 'wonders': 22034, 'uncles': 22035, 'bodyhugging': 22036, 'dodds': 22037, 'marmont': 22038, 'leasttalented': 22039, '‘meaning': 22040, 'conn': 22041, 'peeing': 22042, 'blinders': 22043, 'indiscret': 22044, 'tarted—poiler': 22045, 'cobb': 22046, 'autistic': 22047, 'visa': 22048, 'hearings': 22049, 'alabama': 22050, 'bozeman': 22051, 'pelted': 22052, 'fastfood': 22053, 'chains': 22054, '“bolted”': 22055, 'ummertime': 22056, 'eg': 22057, '160k': 22058, 'workwear': 22059, 'nnamdi': 22060, 'asomugha': 22061, 'whittakers': 22062, 'vgx': 22063, 'dares': 22064, 'mysteriously': 22065, 'delete': 22066, 'nelpeters': 22067, 'enhancement': 22068, 'mcdormands': 22069, 'bello': 22070, 'russo': 22071, '“they': 22072, 'ged”': 22073, 'homewreck': 22074, 'grant’s': 22075, '90s—plus': 22076, 'loring': 22077, 'counterpart': 22078, 'sunscreen': 22079, 'higher': 22080, 'hydrating': 22081, 'moisturizers': 22082, 'oily': 22083, 'acneprone': 22084, 'galas': 22085, 'ramadan': 22086, 'spencer': 22087, 'activewear': 22088, 'dedicate': 22089, 'lydia': 22090, 'mclaughlin': 22091, 'county…': 22092, 'officers': 22093, 'quashes': 22094, 'not”': 22095, '“increased': 22096, 'pain”': 22097, 'cowgirl': 22098, 'pasti': 22099, 'abbys': 22100, '‘mindhunter’': 22101, 'ronald': 22102, 'stepped': 22103, 'retainer': 22104, 'ocar®': 22105, 'et5': 22106, 'oulm': 22107, 'dab': 22108, 'bunheads': 22109, 'pons’': 22110, '“dicen': 22111, 'pierced': 22112, 'openingly': 22113, 'vixen': 22114, 'ugarlands': 22115, 'spy': 22116, 'pencers': 22117, 'lipsyncing': 22118, 'slain': 22119, 'loredana': 22120, 'nesci': 22121, 'antebellum': 22122, 'toddlers': 22123, 'tiaras': 22124, '“havana”': 22125, '‘ugly': 22126, 'neaker’': 22127, 'corgi': 22128, 'bre': 22129, 'rewore': 22130, 'wu': 22131, 'capsul': 22132, 'mad’': 22133, 'hakur’s': 22134, 'mengering': 22135, 'haq': 22136, 'ringing': 22137, 'kilm': 22138, 'mms': 22139, 'peanutbased': 22140, 'toffee': 22141, 'jalapeno': 22142, 'cows': 22143, 'heard’s': 22144, 'petit': 22145, 'yuletide': 22146, 'pictorials': 22147, 'fai': 22148, 'khadra': 22149, 'byer': 22150, 'ykes': 22151, 'houghton': 22152, 'bradie': 22153, 'tennell': 22154, 'h’': 22155, 'blackboard': 22156, 'jungl': 22157, 'igler’s': 22158, 'ilverstone’s': 22159, '‘clueless’': 22160, 'copes': 22161, 'advantage': 22162, 'tonestreet': 22163, 'wrestles': 22164, 'prankster': 22165, 'payback': 22166, 'tourists': 22167, 'mesmer': 22168, 'wollen': 22169, 'bruised': 22170, 'upsetting': 22171, 'evades': 22172, 'west39s': 22173, 'warner': 22174, 'thecelebrityclub': 22175, 'postracing': 22176, 'waffles': 22177, 'bottling': 22178, 'diplomatic': 22179, 'livingston': 22180, 'riv': 22181, 'negligent': 22182, 'concertgo': 22183, 'dyrdeks': 22184, 'noelle': 22185, 'flores': 22186, 'hijinks': 22187, 'visions': 22188, 'duggal': 22189, 'shorter': 22190, '51st': 22191, 'compassion': 22192, 'gadsby’s': 22193, '‘nanette’': 22194, 'abrams': 22195, 'choreographed': 22196, 'neverbeforeseen': 22197, 'epilogu': 22198, 'airbrushed': 22199, 'mistakenly': 22200, 'fishtail': 22201, 'plait': 22202, 'well’': 22203, 'collapsing': 22204, 'laptop': 22205, 'ony': 22206, '4k': 22207, 'anjaya': 22208, 'awakened': 22209, 'reality’': 22210, 'essentially': 22211, 'urie': 22212, 'clarity': 22213, 'openended': 22214, 'prejudice': 22215, 'responders': 22216, 'poofs': 22217, 'graf': 22218, 'martinez’s': 22219, 'declar': 22220, '‘degrassi’': 22221, 'riffs': 22222, 'cruisekatie': 22223, 'hehner': 22224, 'taboo': 22225, 'minime': 22226, 'footstep': 22227, 'residual': 22228, 'storyline': 22229, 'cycles': 22230, 'ohs': 22231, 'titans': 22232, 'robins': 22233, 'beating': 22234, 'moral': 22235, 'consci': 22236, 'monkey': 22237, 'gabby': 22238, 'circles': 22239, 'faked': 22240, 'blunts': 22241, '120000': 22242, 'thrones’at': 22243, 'penn’s': 22244, 'abbie': 22245, 'wakeup': 22246, 'pielburg': 22247, 'malin': 22248, 'akerman': 22249, 'donnelly': 22250, 'tubing': 22251, 'justina': 22252, 'valentin': 22253, '\\u200b\\u200bkardashian': 22254, 'gameless': 22255, 'liu': 22256, 'yifei': 22257, 'chinese': 22258, 'prints': 22259, 'myth’': 22260, 'pringfield': 22261, 'landfill': 22262, 'dangers': 22263, 'decompos': 22264, 'elwes': 22265, 'perris': 22266, 'itv': 22267, 'tracklist': 22268, 'wherearekatepadebagsmadewhicharefak': 22269, 'vans': 22270, '‘kiss': 22271, 'ass’': 22272, 'gronkowski': 22273, 'picers': 22274, 'prodded': 22275, 'nickalive': 22276, 'shape': 22277, 'climbs': 22278, 'desk': 22279, 'bilingual': 22280, 'ukulele': 22281, 'australia–but': 22282, 'loughlins': 22283, 'ecofriendly': 22284, '‘safe’': 22285, 'ocialite': 22286, 'persona': 22287, 'communicates': 22288, 'candidate': 22289, 'suspends': 22290, 'membership': 22291, 'telltale': 22292, 'heart”': 22293, 'explores': 22294, 'departure': 22295, 'endgam': 22296, '3econd': 22297, 'fatally': 22298, 'unwomen': 22299, 'deathdefying': 22300, 'likely’': 22301, 'tardombut': 22302, 'fizzled': 22303, 'okay’': 22304, 'colleagu': 22305, 'lining': 22306, 'goddard': 22307, 'leeches': 22308, 'drain': 22309, 'actress’s': 22310, 'ballerinis': 22311, '‘redbone’': 22312, '113': 22313, 'allings': 22314, 'cremated': 22315, 'federal': 22316, '‘exact': 22317, 'workout’': 22318, 'moststreamed': 22319, 'godzilla': 22320, 'kaijufilled': 22321, 'goldrath': 22322, 'clips': 22323, 'jarret': 22324, '820': 22325, 'carrier': 22326, 'intyles': 22327, '‘fawning’': 22328, '‘celebrity': 22329, 'entrepreneur': 22330, 'derogatori': 22331, 'flexing': 22332, 'ultra’s': 22333, 'mbe': 22334, '‘might': 22335, 'martini': 22336, 'bonnets': 22337, 'raes': 22338, 'elegant': 22339, 'demise': 22340, 'markleworthy': 22341, 'chiefs': 22342, '5minute': 22343, 'federlin': 22344, 'backpacks': 22345, 'toddl': 22346, 'adjusting': 22347, 'raismans': 22348, 'nassers': 22349, 'avery': 22350, 'reopening': 22351, 'benson’s': 22352, 'wounds': 22353, 'heroine”': 22354, 'pigs': 22355, 'entirely': 22356, 'lail': 22357, 'quotexualquot': 22358, 'quothoe': 22359, 'freakquot': 22360, 'truggl': 22361, 'inhumans': 22362, 'cubs': 22363, 'garcons': 22364, 'rei': 22365, 'kawakubos': 22366, 'clubs': 22367, 'opposit': 22368, 'sisterinlaw': 22369, 'hartnett': 22370, 'tamsin': 22371, 'vwar': 22372, 'grandpas': 22373, 'hoods': 22374, 'prettier': 22375, 'summery': 22376, 'nexos': 22377, 'spread': 22378, 'adg': 22379, 'voluminous': 22380, 'frilly': 22381, 'istine': 22382, 'competes': 22383, 'hootout': 22384, 'beyday': 22385, 'kelleys': 22386, '“ugar': 22387, 'baby”': 22388, '“expanding': 22389, 'problem”': 22390, 'yanked': 22391, 'liter': 22392, 'melancholy': 22393, 'peedman': 22394, 'compet': 22395, 'rs600x600180402192835600tiatameramowryshowerct040218jpg': 22396, 'rosi': 22397, 'buttery': 22398, 'carb': 22399, '64th': 22400, 'remarried': 22401, 'chieffo': 22402, 'consecutive': 22403, 'obsessing': 22404, 'squeeze': 22405, 'jp': 22406, 'arencibia': 22407, 'limitededition': 22408, 'droptwo': 22409, 'occas': 22410, 'pirituality': 22411, 'ebooks': 22412, 'fogelman': 22413, 'minivan': 22414, 'ucce': 22415, 'arabia': 22416, 'ivankas': 22417, 'contradict': 22418, 'decod': 22419, '6’': 22420, 'chwarzenegger’s': 22421, 'invitations': 22422, 'duct': 22423, '“cooby': 22424, 'doo': 22425, '‘footnotes': 22426, 'oj”‘': 22427, 'goodrem': 22428, 'relatives': 22429, 'tayc': 22430, 'caterpillar': 22431, 'guts': 22432, 'middlechool': 22433, 'dropout': 22434, 'cromwell': 22435, 'protesting': 22436, 'upstate': 22437, 'portner': 22438, 'juniors': 22439, 'vampirina': 22440, 'nephew’s': 22441, 'pain’': 22442, 'moonman': 22443, 'frenemies': 22444, 'lauded': 22445, 'leaping': 22446, 'morales': 22447, 'thing…': 22448, '1ds': 22449, 'immortal': 22450, 'henrietta': 22451, 'extraordinari': 22452, 'borrows': 22453, 'completing': 22454, 'rhonycs': 22455, 'duke’s': 22456, 'aspir': 22457, 'timeout': 22458, 'schumer': 22459, 'ceiling’': 22460, 'intend': 22461, 'hortterm': 22462, 'valve': 22463, 'backand': 22464, 'razzies': 22465, 'loudon': 22466, '“condition': 22467, 'terminal”': 22468, 'comeback’': 22469, 'fey’s': 22470, '“mean': 22471, 'girls”': 22472, '‘wet': 22473, 'shampoo': 22474, '‘feartwd’': 22475, 'lennie': 22476, 'bijou': 22477, 'gayhaming': 22478, 'franzes': 22479, 'gil': 22480, 'duldulao': 22481, '‘tate': 22482, 'discrimin': 22483, '‘hypocrite': 22484, 'preaching': 22485, 'ideals’': 22486, 'mirandas': 22487, 'uppers': 22488, 'shaves': 22489, 'highestgrossing': 22490, 'stereotypical': 22491, 'avannahversary': 22492, 'isolated': 22493, 'crank': 22494, 'mp': 22495, 'pennywise': 22496, 'ivar': 22497, '‘katrina’': 22498, 'regeneration': 22499, 'hail': 22500, 'tempts': 22501, '‘amityville': 22502, 'awakening’': 22503, 'grosses': 22504, 'miniscule': 22505, '742': 22506, 'zachariah': 22507, 'exhibited': 22508, 'hoop': 22509, 'adornmade': 22510, 'alba’s': 22511, 'royaltyproof': 22512, 'webberthemed': 22513, '“ruin': 22514, 'friendship”': 22515, '“didn’t': 22516, 'push”': 22517, 'continuing': 22518, 'giada': 22519, 'laurentiis': 22520, 'mouths': 22521, '‘lift': 22522, 'yourself’': 22523, 'wealthier': 22524, 'hadish': 22525, 'mashes': 22526, 'professes': 22527, 'davidson’s': 22528, 'moonwalking': 22529, 'trashtalking': 22530, '“diddy”': 22531, 'khaled’s': 22532, 'goldwyn': 22533, 'fitzolivia': 22534, 'anti–kinny': 22535, 'xscape': 22536, 'leas': 22537, 'nicola': 22538, 'aloud': 22539, 'kimberley': 22540, 'dita': 22541, 'teese': 22542, 'tunts': 22543, 'mouthing': 22544, 'denni': 22545, 'truts': 22546, '‘ten': 22547, 'valley’': 22548, 'unconditional': 22549, 'ardine': 22550, 'moothie': 22551, 'isterss': 22552, 'king’': 22553, 'barrage': 22554, 'empower': 22555, 'rededicate': 22556, 'blink': 22557, 'teemkr': 22558, 'tamos’s': 22559, '‘full': 22560, 'favourit': 22561, 'earps': 22562, 'streetstyle': 22563, 'peters': 22564, 'phobia': 22565, 'gladis': 22566, 'giudici': 22567, 'doughnut': 22568, 'cycling': 22569, 'shorts': 22570, 'thunder': 22571, '10s': 22572, 'exhilarating': 22573, 'mm’s': 22574, '30econd': 22575, 'applegate': 22576, 'ovaries': 22577, 'fallopian': 22578, 'tubes': 22579, 'domination': 22580, 'pause…': 22581, 'madisons': 22582, 'longestlasting': 22583, '”hi': 22584, 'dad”': 22585, 'maybellin': 22586, 'mcbeal': 22587, 'courted': 22588, 'kinnyhaming': 22589, 'justices': 22590, 'pearheading': 22591, 'checkout': 22592, 'eliminations': 22593, 'moons': 22594, 'eclipsed': 22595, 'rave': 22596, 'cyberbullies': 22597, 'lucille': 22598, 'leveled': 22599, 'botching': 22600, 'anka': 22601, 'balazs': 22602, '‘mmmbop’': 22603, 'endorses': 22604, 'inlaw': 22605, 'plague': 22606, 'dogsmuggling': 22607, 'graduates': 22608, '“please': 22609, 'uperstar’': 22610, 'hospice': 22611, '“we': 22612, 'desirable”': 22613, 'ilicon': 22614, 'tandards': 22615, 'harrymeghan': 22616, 'eli': 22617, 'serenading': 22618, 'scone': 22619, 'balenciaga': 22620, 'froyo': 22621, 'paparassicom': 22622, '“deeply': 22623, 'disturbed”': 22624, 'iders': 22625, '‘amor': 22626, 'amor': 22627, 'amor’': 22628, 'mclean': 22629, 'spathemed': 22630, 'quintanilla’s': 22631, 'pectatorship': 22632, 'glitz': 22633, 'cell': 22634, 'unauthorized': 22635, 'wendys': 22636, 'mcdonald': 22637, 'rems': 22638, 'extended': 22639, 'philosophers': 22640, 'weddingdress': 22641, 'lobster': 22642, 'vibranium': 22643, '‘girl': 22644, '‘boy': 22645, 'dacre': 22646, 'montgomerys': 22647, 'oulearching': 22648, 'bagged': 22649, 'rifts': 22650, 'gottschalk': 22651, 'exited': 22652, 'diaries’': 22653, '“fifty': 22654, 'freed”': 22655, '“for': 22656, 'stress': 22657, 'weiner': 22658, 'jailed': 22659, 'sexting': 22660, 'underage': 22661, 'jun': 22662, 'jenkins’': 22663, 'tnt': 22664, '58k': 22665, 'headband': 22666, 'egment': 22667, 'wyatt': 22668, 'courtesy': 22669, 'ingredi': 22670, 'lithgow': 22671, 'fractured': 22672, 'duff’s': 22673, 'draymond': 22674, 'candidates': 22675, 'tissu': 22676, 'etsi': 22677, 'inspirational': 22678, 'xli': 22679, 'donnie': 22680, 'cuddliest': 22681, 'competitors': 22682, 'elfdoubt': 22683, '“tory': 22684, 'oj”': 22685, '“wakeandbaker”': 22686, 'ahs': 22687, 'marge': 22688, '¡ay': 22689, 'caramba': 22690, 'powerful’': 22691, 'frankly': 22692, 'noughties': 22693, '40ounce': 22694, 'bottl': 22695, 'gabi': 22696, 'butttouching': 22697, '88yearold': 22698, 'ymptoms': 22699, 'ingredient': 22700, 'cemetery': 22701, 'allfemale': 22702, 'victimhood': 22703, 'outcast': 22704, 'relate': 22705, 'brenton': 22706, 'thwaites': 22707, 'subtly': 22708, 'lourdes': 22709, 'stronger': 22710, 'aurélie': 22711, 'wynn': 22712, 'lak': 22713, 'bellamys': 22714, 'optimism': 22715, 'hartsocks': 22716, 'uniform': 22717, 'nprs': 22718, '‘oj': 22719, 'confession’': 22720, 'jiggy': 22721, 'bowies': 22722, 'bowie': 22723, 'doomed': 22724, 'reys': 22725, 'leeves': 22726, '72': 22727, 'oceandraw': 22728, 'activate': 22729, 'chakra': 22730, 'truth’': 22731, 'boozefilled': 22732, 'piñata': 22733, 'xxxtentacion’s': 22734, 'weatshirt': 22735, 'entrepreneurs': 22736, '‘annihilation’': 22737, '“nothing': 22738, 'cynical': 22739, 'conspiratorial”': 22740, 'movie’s': 22741, 'tigers': 22742, 'population': 22743, 'peaker': 22744, 'lullaby': 22745, 'cleavag': 22746, 'longburied': 22747, 'tandup': 22748, 'nycs': 22749, 'cellar': 22750, 'benched': 22751, 'farber': 22752, 'jesuit': 22753, 'arkansa': 22754, '“frozen”': 22755, 'promposal': 22756, 'charo': 22757, 'fabio': 22758, 'weei': 22759, '‘annoying': 22760, 'pissant’': 22761, 'mounts': 22762, '3939wish': 22763, 'wish3939': 22764, 'punching': 22765, 'denton': 22766, 'batemans': 22767, 'ongwriting': 22768, 'fenty': 22769, 'ephora': 22770, 'oxford': 22771, '‘ultimately': 22772, 'addened’': 22773, 'gaslight”': 22774, 'awyer': 22775, 'chats': 22776, 'mirka': 22777, 'feder': 22778, 'theresas': 22779, 'together”': 22780, 'dublin': 22781, 'champion”': 22782, 'frontal': 22783, 'mysteries': 22784, 'friendshipending': 22785, 'multicar': 22786, 'vicky': 22787, 'travelling': 22788, 'vulture': 22789, 'offspring': 22790, 'orleans': 22791, 'mulberry': 22792, 'coventry': 22793, 'trebek': 22794, 'ubdural': 22795, 'hematoma': 22796, 'funerals': 22797, 'screened': 22798, 'bigget': 22799, 'hxg': 22800, 'kh': 22801}\n"
          ]
        }
      ]
    },
    {
      "cell_type": "code",
      "source": [
        "tokenizer.word_counts"
      ],
      "metadata": {
        "id": "Hl84WIhd_dGL",
        "colab": {
          "base_uri": "https://localhost:8080/"
        },
        "outputId": "d032ef87-7fd6-492f-c76d-3a80c2c391b5"
      },
      "execution_count": 41,
      "outputs": [
        {
          "output_type": "execute_result",
          "data": {
            "text/plain": [
              "OrderedDict([('miley', 150),\n",
              "             ('cyrus', 151),\n",
              "             ('liam', 131),\n",
              "             ('hemsworth', 81),\n",
              "             ('secretly', 9),\n",
              "             ('get', 334),\n",
              "             ('marri', 49),\n",
              "             ('paris', 149),\n",
              "             ('jackson', 173),\n",
              "             ('cara', 22),\n",
              "             ('delevingne', 13),\n",
              "             ('enjoy', 43),\n",
              "             ('night', 184),\n",
              "             ('matching', 29),\n",
              "             ('outfits', 27),\n",
              "             ('‘amazing', 4),\n",
              "             ('chemistry’', 1),\n",
              "             ('celebrities', 153),\n",
              "             ('join', 40),\n",
              "             ('tax', 5),\n",
              "             ('march', 31),\n",
              "             ('protest', 13),\n",
              "             ('donald', 106),\n",
              "             ('trump', 238),\n",
              "             ('cindy', 23),\n",
              "             ('crawfords', 4),\n",
              "             ('daughter', 252),\n",
              "             ('kaia', 30),\n",
              "             ('gerber', 25),\n",
              "             ('wears', 92),\n",
              "             ('wig', 9),\n",
              "             ('dining', 2),\n",
              "             ('harry', 384),\n",
              "             ('tyl', 36),\n",
              "             ('full', 86),\n",
              "             ('list', 172),\n",
              "             ('2018', 754),\n",
              "             ('oscar', 87),\n",
              "             ('nominations', 57),\n",
              "             ('–', 460),\n",
              "             ('varieti', 137),\n",
              "             ('heres', 131),\n",
              "             ('really', 153),\n",
              "             ('happened', 35),\n",
              "             ('jfk', 1),\n",
              "             ('jr', 81),\n",
              "             ('met', 168),\n",
              "             ('princess', 148),\n",
              "             ('diana', 51),\n",
              "             ('biggest', 87),\n",
              "             ('celebrity', 190),\n",
              "             ('scandals', 2),\n",
              "             ('2016', 17),\n",
              "             ('caitlyn', 137),\n",
              "             ('jenner', 617),\n",
              "             ('addresses', 62),\n",
              "             ('rumored', 42),\n",
              "             ('romance', 96),\n",
              "             ('ophia', 24),\n",
              "             ('hutchin', 3),\n",
              "             ('taylor', 419),\n",
              "             ('wift', 278),\n",
              "             ('reportedly', 174),\n",
              "             ('reacts', 37),\n",
              "             ('tom', 228),\n",
              "             ('hiddleston’s', 2),\n",
              "             ('golden', 135),\n",
              "             ('globes', 89),\n",
              "             ('win', 65),\n",
              "             ('love', 294),\n",
              "             ('god', 11),\n",
              "             ('cant', 65),\n",
              "             ('anyone', 13),\n",
              "             ('write', 6),\n",
              "             ('kate', 375),\n",
              "             ('mckinnon', 8),\n",
              "             ('good', 107),\n",
              "             ('movie', 147),\n",
              "             ('rol', 24),\n",
              "             ('married', 162),\n",
              "             ('tybee', 1),\n",
              "             ('island', 16),\n",
              "             ('despite', 155),\n",
              "             ('report', 335),\n",
              "             ('claims', 98),\n",
              "             ('‘atan', 1),\n",
              "             ('nice', 13),\n",
              "             ('guy', 21),\n",
              "             ('he’s', 130),\n",
              "             ('misunderstood’', 1),\n",
              "             ('elena', 450),\n",
              "             ('gomez', 369),\n",
              "             ('perfect', 84),\n",
              "             ('response', 24),\n",
              "             ('news', 158),\n",
              "             ('justin', 583),\n",
              "             ('bieber’s', 16),\n",
              "             ('engag', 63),\n",
              "             ('critics', 27),\n",
              "             ('choice', 117),\n",
              "             ('awards', 393),\n",
              "             ('winners', 74),\n",
              "             ('complete', 96),\n",
              "             ('jennifer', 794),\n",
              "             ('aniston', 292),\n",
              "             ('theroux', 133),\n",
              "             ('tarting', 11),\n",
              "             ('dog', 63),\n",
              "             ('fostering', 1),\n",
              "             ('adoption', 5),\n",
              "             ('busi', 9),\n",
              "             ('angelina', 349),\n",
              "             ('jolie', 264),\n",
              "             ('can’t', 47),\n",
              "             ('heartbreak', 28),\n",
              "             ('losing', 33),\n",
              "             ('brad', 473),\n",
              "             ('pitt', 397),\n",
              "             ('—', 442),\n",
              "             ('real', 241),\n",
              "             ('reason', 67),\n",
              "             ('fury', 7),\n",
              "             ('ays', 376),\n",
              "             ('ourc', 39),\n",
              "             ('hired', 10),\n",
              "             ('ben', 212),\n",
              "             ('affleck', 148),\n",
              "             ('enlists', 7),\n",
              "             ('best', 421),\n",
              "             ('friend', 84),\n",
              "             ('matt', 130),\n",
              "             ('damon', 30),\n",
              "             ('life', 209),\n",
              "             ('coach', 14),\n",
              "             ('statement', 9),\n",
              "             ('john', 219),\n",
              "             ('mccain', 11),\n",
              "             ('vote', 48),\n",
              "             ('grahamcassidy', 1),\n",
              "             ('health', 51),\n",
              "             ('care', 26),\n",
              "             ('bil', 6),\n",
              "             ('bieber', 246),\n",
              "             ('despacito', 13),\n",
              "             ('julia', 53),\n",
              "             ('roberts', 48),\n",
              "             ('miracle', 11),\n",
              "             ('baby', 607),\n",
              "             ('50', 53),\n",
              "             ('beyonce', 101),\n",
              "             ('ipping', 1),\n",
              "             ('tea', 17),\n",
              "             ('listening', 7),\n",
              "             ('wift’s', 27),\n",
              "             ('album', 81),\n",
              "             ('loving', 25),\n",
              "             ('kanye', 278),\n",
              "             ('west', 286),\n",
              "             ('diss', 16),\n",
              "             ('track', 26),\n",
              "             ('blake', 306),\n",
              "             ('helton', 192),\n",
              "             ('gwen', 193),\n",
              "             ('tefani', 171),\n",
              "             ('talk', 80),\n",
              "             ('hookup', 9),\n",
              "             ('voic', 10),\n",
              "             ('miranda', 105),\n",
              "             ('lambert', 50),\n",
              "             ('desperate', 28),\n",
              "             ('meet', 87),\n",
              "             ('reported', 17),\n",
              "             ('plit', 260),\n",
              "             ('pregnant', 250),\n",
              "             ('middleton', 215),\n",
              "             ('hit', 52),\n",
              "             ('cocaine', 8),\n",
              "             ('bombshel', 2),\n",
              "             ('jen', 32),\n",
              "             ('aniston’s', 15),\n",
              "             ('think', 64),\n",
              "             ('emmys', 41),\n",
              "             ('2017', 414),\n",
              "             ('nominees', 32),\n",
              "             ('ay', 101),\n",
              "             ('lams', 62),\n",
              "             ('kardashians', 152),\n",
              "             ('didnt', 74),\n",
              "             ('trust', 6),\n",
              "             ('know', 223),\n",
              "             ('gender', 24),\n",
              "             ('reassignment', 4),\n",
              "             ('urgeri', 19),\n",
              "             ('chris', 298),\n",
              "             ('brown', 119),\n",
              "             ('want', 104),\n",
              "             ('royalty', 4),\n",
              "             ('like', 218),\n",
              "             ('north', 45),\n",
              "             ('7', 131),\n",
              "             ('questionable', 2),\n",
              "             ('details', 94),\n",
              "             ('joe', 106),\n",
              "             ('alwyns', 4),\n",
              "             ('relationship', 296),\n",
              "             ('including', 26),\n",
              "             ('militarylike', 1),\n",
              "             ('mission', 8),\n",
              "             ('keep', 53),\n",
              "             ('wrap', 6),\n",
              "             ('lopez', 175),\n",
              "             ('lópez', 2),\n",
              "             ('accent', 3),\n",
              "             ('peoples', 45),\n",
              "             ('nam', 42),\n",
              "             ('nicole', 161),\n",
              "             ('kidman', 104),\n",
              "             ('prince', 550),\n",
              "             ('named', 33),\n",
              "             ('sexiest', 1),\n",
              "             ('redhead', 3),\n",
              "             ('lawrence', 106),\n",
              "             ('‘mother’', 3),\n",
              "             ('led', 23),\n",
              "             ('darren', 21),\n",
              "             ('aronofsky', 13),\n",
              "             ('kristen', 119),\n",
              "             ('tewart', 64),\n",
              "             ('usual', 1),\n",
              "             ('scowling', 1),\n",
              "             ('self', 2),\n",
              "             ('robert', 163),\n",
              "             ('pattinson', 102),\n",
              "             ('johnny', 52),\n",
              "             ('depp', 37),\n",
              "             ('ettles', 7),\n",
              "             ('lawsuit', 43),\n",
              "             ('former', 85),\n",
              "             ('business', 14),\n",
              "             ('manag', 5),\n",
              "             ('halle', 29),\n",
              "             ('berry', 26),\n",
              "             ('keanu', 6),\n",
              "             ('reeves', 4),\n",
              "             ('third', 43),\n",
              "             ('wick', 1),\n",
              "             ('flick', 2),\n",
              "             ('air', 22),\n",
              "             ('ryan', 225),\n",
              "             ('eacrest', 52),\n",
              "             ('calls', 150),\n",
              "             ('label', 5),\n",
              "             ('nervous', 6),\n",
              "             ('pop', 33),\n",
              "             ('kim', 705),\n",
              "             ('kardashian', 1065),\n",
              "             ('‘best', 5),\n",
              "             ('ex', 274),\n",
              "             ('lives’', 2),\n",
              "             ('attract', 4),\n",
              "             ('kylie', 390),\n",
              "             ('slams', 24),\n",
              "             ('altered', 3),\n",
              "             ('photos', 139),\n",
              "             ('amid', 144),\n",
              "             ('pregnancy', 153),\n",
              "             ('rumor', 141),\n",
              "             ('kris', 143),\n",
              "             ('kyli', 9),\n",
              "             ('pictures', 32),\n",
              "             ('year', 232),\n",
              "             ('katy', 161),\n",
              "             ('perry', 142),\n",
              "             ('orlando', 51),\n",
              "             ('bloom', 50),\n",
              "             ('‘back', 2),\n",
              "             ('on’', 5),\n",
              "             ('‘robsten’', 1),\n",
              "             ('parties', 18),\n",
              "             ('together', 136),\n",
              "             ('la', 130),\n",
              "             ('garner', 104),\n",
              "             ('file', 6),\n",
              "             ('divorce', 220),\n",
              "             ('reconciliation', 11),\n",
              "             ('josh', 87),\n",
              "             ('duhamel', 36),\n",
              "             ('gushes', 36),\n",
              "             ('dating', 252),\n",
              "             ('rumors', 169),\n",
              "             ('‘he’s', 5),\n",
              "             ('incredible', 18),\n",
              "             ('woman’', 9),\n",
              "             ('hollywoodlife', 20),\n",
              "             ('flipflops', 6),\n",
              "             ('meghan', 583),\n",
              "             ('markle', 340),\n",
              "             ('anne', 19),\n",
              "             ('hathaway', 12),\n",
              "             ('angering', 2),\n",
              "             ('‘barbie’', 2),\n",
              "             ('producers', 15),\n",
              "             ('demand', 7),\n",
              "             ('charles', 45),\n",
              "             ('ordering', 1),\n",
              "             ('camilla', 21),\n",
              "             ('parker', 75),\n",
              "             ('bowles', 4),\n",
              "             ('plastic', 44),\n",
              "             ('urgery', 46),\n",
              "             ('ave', 15),\n",
              "             ('marriag', 77),\n",
              "             ('‘impressed’', 2),\n",
              "             ('travis', 112),\n",
              "             ('cott', 313),\n",
              "             ('tepping', 4),\n",
              "             ('taking', 45),\n",
              "             ('tormi', 49),\n",
              "             ('react', 98),\n",
              "             ('trumps', 27),\n",
              "             ('immigration', 3),\n",
              "             ('ord', 15),\n",
              "             ('ean', 35),\n",
              "             ('picer', 4),\n",
              "             ('moment', 45),\n",
              "             ('ee', 380),\n",
              "             ('victims', 31),\n",
              "             ('watting', 1),\n",
              "             ('lapd', 3),\n",
              "             ('clarifi', 1),\n",
              "             ('engagement', 100),\n",
              "             ('rings', 11),\n",
              "             ('cardi', 82),\n",
              "             ('b', 112),\n",
              "             ('caroline', 7),\n",
              "             ('wozniacki', 4),\n",
              "             ('celeb', 63),\n",
              "             ('diamond', 21),\n",
              "             ('bl', 1),\n",
              "             ('anna', 98),\n",
              "             ('wintour', 13),\n",
              "             ('net', 193),\n",
              "             ('worth', 221),\n",
              "             ('mad', 28),\n",
              "             ('refusing', 9),\n",
              "             ('wear', 73),\n",
              "             ('promise', 6),\n",
              "             ('r', 80),\n",
              "             ('queen', 108),\n",
              "             ('‘absolutely', 3),\n",
              "             ('fuming’', 1),\n",
              "             ('fake', 56),\n",
              "             ('philip', 26),\n",
              "             ('death', 205),\n",
              "             ('rumour', 8),\n",
              "             ('ruin', 6),\n",
              "             ('reunion', 154),\n",
              "             ('kendall', 173),\n",
              "             ('quit', 32),\n",
              "             ('modeling', 12),\n",
              "             ('patrol', 3),\n",
              "             ('video', 408),\n",
              "             ('marry', 40),\n",
              "             ('propose', 11),\n",
              "             ('christma', 15),\n",
              "             ('relieved', 4),\n",
              "             ('fill', 5),\n",
              "             ('kelly', 190),\n",
              "             ('ripa', 36),\n",
              "             ('l', 57),\n",
              "             ('call', 52),\n",
              "             ('wedding', 490),\n",
              "             ('ch', 29),\n",
              "             ('tyga', 22),\n",
              "             ('disick', 153),\n",
              "             ('party', 119),\n",
              "             ('bonding', 5),\n",
              "             ('dumped', 24),\n",
              "             ('finding', 15),\n",
              "             ('inspiration', 8),\n",
              "             ('another', 65),\n",
              "             ('janet', 43),\n",
              "             ('tory', 106),\n",
              "             ('true', 74),\n",
              "             ('find', 56),\n",
              "             ('gossip', 43),\n",
              "             ('cop', 21),\n",
              "             ('say', 54),\n",
              "             ('biographi', 37),\n",
              "             ('craig', 20),\n",
              "             ('morgan', 31),\n",
              "             ('uing', 3),\n",
              "             ('jacket', 22),\n",
              "             ('maker', 1),\n",
              "             ('on’s', 6),\n",
              "             ('going', 89),\n",
              "             ('back', 358),\n",
              "             ('chool', 43),\n",
              "             ('impress', 9),\n",
              "             ('professor', 14),\n",
              "             ('girlfriend', 131),\n",
              "             ('neri', 25),\n",
              "             ('oxman', 22),\n",
              "             ('could', 110),\n",
              "             ('fulltime', 2),\n",
              "             ('kid', 82),\n",
              "             ('custody', 58),\n",
              "             ('battl', 28),\n",
              "             ('david', 173),\n",
              "             ('victoria', 66),\n",
              "             ('beckham', 90),\n",
              "             ('divorcing', 15),\n",
              "             ('occer', 5),\n",
              "             ('tar', 433),\n",
              "             ('hut', 16),\n",
              "             ('hits', 42),\n",
              "             ('tabloid', 30),\n",
              "             ('mystery', 34),\n",
              "             ('man', 117),\n",
              "             ('dream', 67),\n",
              "             ('1', 92),\n",
              "             ('jenner’s', 33),\n",
              "             ('boyfriend', 181),\n",
              "             ('break', 102),\n",
              "             ('drew', 42),\n",
              "             ('barrymore', 19),\n",
              "             ('gisele', 21),\n",
              "             ('bündchen', 9),\n",
              "             ('tars', 253),\n",
              "             ('honoring', 7),\n",
              "             ('international', 11),\n",
              "             ('womens', 13),\n",
              "             ('day', 294),\n",
              "             ('eddie', 20),\n",
              "             ('cibrian', 8),\n",
              "             ('cheated', 9),\n",
              "             ('leann', 12),\n",
              "             ('rimes', 10),\n",
              "             ('brandi', 19),\n",
              "             ('glanville', 12),\n",
              "             ('course', 5),\n",
              "             ('oscars', 102),\n",
              "             ('plenty', 5),\n",
              "             ('political', 11),\n",
              "             ('mo', 53),\n",
              "             ('marriage', 157),\n",
              "             ('plans', 67),\n",
              "             ('crisis', 10),\n",
              "             ('crisi', 11),\n",
              "             ('elizabeth', 64),\n",
              "             ('upset', 36),\n",
              "             ('markle’s', 35),\n",
              "             ('exhusband', 30),\n",
              "             ('making', 72),\n",
              "             ('royalinspired', 1),\n",
              "             ('itcom', 2),\n",
              "             ('apparently', 8),\n",
              "             ('wait', 22),\n",
              "             ('khloé', 91),\n",
              "             ('leaves', 30),\n",
              "             ('tristan', 135),\n",
              "             ('thompson', 125),\n",
              "             ('osbourne', 7),\n",
              "             ('addiction', 12),\n",
              "             ('people', 110),\n",
              "             ('need', 104),\n",
              "             ('rehab', 45),\n",
              "             ('doesnt', 44),\n",
              "             ('fix', 20),\n",
              "             ('surgeon', 4),\n",
              "             ('weighs', 12),\n",
              "             ('procedures', 3),\n",
              "             ('might', 65),\n",
              "             ('don', 13),\n",
              "             ('hoping', 13),\n",
              "             ('exes', 17),\n",
              "             ('gavin', 7),\n",
              "             ('rossdale', 3),\n",
              "             ('happy', 100),\n",
              "             ('children', 52),\n",
              "             ('future', 44),\n",
              "             ('pamela', 9),\n",
              "             ('anderson', 31),\n",
              "             ('julian', 3),\n",
              "             ('assange', 1),\n",
              "             ('emerge', 3),\n",
              "             ('unlikely', 6),\n",
              "             ('25', 47),\n",
              "             ('hocking', 45),\n",
              "             ('weight', 67),\n",
              "             ('chang', 6),\n",
              "             ('anistons', 27),\n",
              "             ('second', 18),\n",
              "             ('joy', 18),\n",
              "             ('gal', 38),\n",
              "             ('gadot', 26),\n",
              "             ('porn', 17),\n",
              "             ('massmedia', 1),\n",
              "             ('broke', 35),\n",
              "             ('ella', 7),\n",
              "             ('purnell', 1),\n",
              "             ('monaco', 6),\n",
              "             ('rihanna', 97),\n",
              "             ('feels', 48),\n",
              "             ('publicly', 8),\n",
              "             ('‘name', 1),\n",
              "             ('checking', 2),\n",
              "             ('her’', 6),\n",
              "             ('cory', 5),\n",
              "             ('booker', 1),\n",
              "             ('father', 49),\n",
              "             ('mindy', 35),\n",
              "             ('kaling’s', 1),\n",
              "             ('ewan', 5),\n",
              "             ('mcgregor', 4),\n",
              "             ('craps', 1),\n",
              "             ('uk', 13),\n",
              "             ('visit', 53),\n",
              "             ('piers', 5),\n",
              "             ('women’s', 10),\n",
              "             ('barb', 2),\n",
              "             ('‘shamelessly', 1),\n",
              "             ('flirted’', 1),\n",
              "             ('ptt', 1),\n",
              "             ('gold', 25),\n",
              "             ('glob', 27),\n",
              "             ('larg', 1),\n",
              "             ('mother’s', 12),\n",
              "             ('caregiver', 1),\n",
              "             ('writing', 15),\n",
              "             ('tellall', 12),\n",
              "             ('book', 52),\n",
              "             ('‘expose’', 1),\n",
              "             ('actress', 80),\n",
              "             ('ecretly', 40),\n",
              "             ('leepovers', 1),\n",
              "             ('kopelman', 2),\n",
              "             ('jason', 62),\n",
              "             ('aldean', 16),\n",
              "             ('weeknd', 85),\n",
              "             ('two', 121),\n",
              "             ('got', 155),\n",
              "             ('dinner', 56),\n",
              "             ('immediately', 2),\n",
              "             ('et', 94),\n",
              "             ('jamie', 149),\n",
              "             ('foxx', 95),\n",
              "             ('katie', 180),\n",
              "             ('holmes', 130),\n",
              "             ('joshua', 11),\n",
              "             ('talking', 29),\n",
              "             ('exclu', 95),\n",
              "             ('watch', 430),\n",
              "             ('linkin', 18),\n",
              "             ('parks', 35),\n",
              "             ('chester', 23),\n",
              "             ('bennington', 19),\n",
              "             ('tribute', 93),\n",
              "             ('concert', 81),\n",
              "             ('live', 106),\n",
              "             ('tream', 18),\n",
              "             ('aubrey', 8),\n",
              "             ('plaza', 4),\n",
              "             ('intriguing', 1),\n",
              "             ('new', 1137),\n",
              "             ('couple', 71),\n",
              "             ('alert', 17),\n",
              "             ('wirel', 2),\n",
              "             ('payne', 40),\n",
              "             ('cheryl', 39),\n",
              "             ('cole', 34),\n",
              "             ('fighting', 30),\n",
              "             ('hollywoods', 16),\n",
              "             ('expectant', 1),\n",
              "             ('moms', 44),\n",
              "             ('inside', 221),\n",
              "             ('kalings', 2),\n",
              "             ('private', 49),\n",
              "             ('olo', 24),\n",
              "             ('journey', 25),\n",
              "             ('babi', 82),\n",
              "             ('pitts', 24),\n",
              "             ('victory', 5),\n",
              "             ('joli', 31),\n",
              "             ('meeting', 39),\n",
              "             ('hitting', 5),\n",
              "             ('rock', 54),\n",
              "             ('bottom', 10),\n",
              "             ('khloe', 270),\n",
              "             ('kourtney', 209),\n",
              "             ('slammed', 10),\n",
              "             ('‘wearing', 1),\n",
              "             ('fur’', 1),\n",
              "             ('throwback', 26),\n",
              "             ('relive', 19),\n",
              "             ('pippa', 78),\n",
              "             ('middletons', 46),\n",
              "             ('cenetealing', 1),\n",
              "             ('appearance', 42),\n",
              "             ('wed', 185),\n",
              "             ('nina', 29),\n",
              "             ('dobrev', 17),\n",
              "             ('nikki', 117),\n",
              "             ('reed', 14),\n",
              "             ('ian', 22),\n",
              "             ('omerhalder', 17),\n",
              "             ('friends', 97),\n",
              "             ('along', 11),\n",
              "             ('may', 92),\n",
              "             ('freak', 18),\n",
              "             ('emma', 98),\n",
              "             ('tone', 52),\n",
              "             ('caught', 45),\n",
              "             ('howing', 10),\n",
              "             ('pda', 45),\n",
              "             ('emmastone', 1),\n",
              "             ('emmastoneofficial', 1),\n",
              "             ('emmastones', 1),\n",
              "             ('emmastonearmy', 1),\n",
              "             ('emmastoneandandrewgarfield', 1),\n",
              "             ('e…', 1),\n",
              "             ('hassan', 30),\n",
              "             ('jameel', 28),\n",
              "             ('years', 212),\n",
              "             ('urprising', 28),\n",
              "             ('revelations', 10),\n",
              "             ('mean', 40),\n",
              "             ('rearranges', 1),\n",
              "             ('deck', 7),\n",
              "             ('chairs', 1),\n",
              "             ('malia', 9),\n",
              "             ('obamas', 5),\n",
              "             ('redacted', 1),\n",
              "             ('pring', 22),\n",
              "             ('katherine', 18),\n",
              "             ('mcphee', 20),\n",
              "             ('foster', 26),\n",
              "             ('engaged', 129),\n",
              "             ('make', 132),\n",
              "             ('maydecember', 1),\n",
              "             ('offici', 7),\n",
              "             ('gets', 221),\n",
              "             ('hysterical', 3),\n",
              "             ('lost', 50),\n",
              "             ('earring', 5),\n",
              "             ('jenn', 51),\n",
              "             ('alisters', 3),\n",
              "             ('bradley', 35),\n",
              "             ('cooper', 30),\n",
              "             ('elf', 12),\n",
              "             ('tan', 11),\n",
              "             ('rescinds', 1),\n",
              "             ('rules', 56),\n",
              "             ('bathrooms', 2),\n",
              "             ('transgender', 20),\n",
              "             ('tud', 4),\n",
              "             ('cold', 6),\n",
              "             ('mith', 101),\n",
              "             ('nic', 3),\n",
              "             ('cause', 21),\n",
              "             ('tension', 6),\n",
              "             ('therouxs', 16),\n",
              "             ('e', 81),\n",
              "             ('threatening', 13),\n",
              "             ('committed', 3),\n",
              "             ('psych', 4),\n",
              "             ('ward', 8),\n",
              "             ('‘fears', 1),\n",
              "             ('falling', 10),\n",
              "             ('again’', 9),\n",
              "             ('keeping', 36),\n",
              "             ('‘casual’', 1),\n",
              "             ('cotar', 34),\n",
              "             ('eric', 56),\n",
              "             ('johnson', 83),\n",
              "             ('uper', 81),\n",
              "             ('bowl', 58),\n",
              "             ('lii', 4),\n",
              "             ('patriots', 4),\n",
              "             ('vs', 44),\n",
              "             ('eagles', 6),\n",
              "             ('date', 190),\n",
              "             ('tim', 87),\n",
              "             ('claim', 85),\n",
              "             ('guiding', 1),\n",
              "             ('nude', 49),\n",
              "             ('cookbook', 2),\n",
              "             ('way', 104),\n",
              "             ('jayz’s', 8),\n",
              "             ('gift', 64),\n",
              "             ('costs', 12),\n",
              "             ('23k', 1),\n",
              "             ('hollywood', 206),\n",
              "             ('lif', 73),\n",
              "             ('jrod', 3),\n",
              "             ('alex', 133),\n",
              "             ('rodriguez', 121),\n",
              "             ('beauty', 126),\n",
              "             ('redempt', 3),\n",
              "             ('obama', 51),\n",
              "             ('pleads', 16),\n",
              "             ('jayz', 103),\n",
              "             ('prevent', 4),\n",
              "             ('hip', 10),\n",
              "             ('hop', 34),\n",
              "             ('artists', 10),\n",
              "             ('cenes', 21),\n",
              "             ('lifetimes', 3),\n",
              "             ('probably', 24),\n",
              "             ('happen', 28),\n",
              "             ('cher', 17),\n",
              "             ('worried', 16),\n",
              "             ('chaz', 1),\n",
              "             ('bono', 4),\n",
              "             ('die', 11),\n",
              "             ('issues', 31),\n",
              "             ('tori', 82),\n",
              "             ('begging', 27),\n",
              "             ('econd', 104),\n",
              "             ('hot', 79),\n",
              "             ('go', 101),\n",
              "             ('crushing', 11),\n",
              "             ('jolie’s', 30),\n",
              "             ('ecret', 192),\n",
              "             ('plan', 60),\n",
              "             ('woo', 3),\n",
              "             ('heartthrob', 9),\n",
              "             ('reveals', 460),\n",
              "             ('bells', 7),\n",
              "             ('palsy', 3),\n",
              "             ('diagnosis', 10),\n",
              "             ('breaks', 108),\n",
              "             ('silence', 24),\n",
              "             ('fans', 209),\n",
              "             ('u2', 4),\n",
              "             ('cancels', 26),\n",
              "             ('louis', 37),\n",
              "             ('police', 34),\n",
              "             ('fergie', 38),\n",
              "             ('split', 105),\n",
              "             ('bender', 2),\n",
              "             ('took', 39),\n",
              "             ('ource', 34),\n",
              "             ('elleck', 1),\n",
              "             ('magnum', 2),\n",
              "             ('pi', 2),\n",
              "             ('reboot', 45),\n",
              "             ('hell', 25),\n",
              "             ('cameo', 17),\n",
              "             ('hapeshift', 1),\n",
              "             ('teri', 3),\n",
              "             ('hatcher', 3),\n",
              "             ('homeless', 6),\n",
              "             ('warned', 6),\n",
              "             ('marrying', 11),\n",
              "             ('harri', 32),\n",
              "             ('kathy', 15),\n",
              "             ('griffin’s', 5),\n",
              "             ('career', 43),\n",
              "             ('top', 160),\n",
              "             ('managers', 6),\n",
              "             ('weigh', 7),\n",
              "             ('ends', 31),\n",
              "             ('six', 10),\n",
              "             ('beef', 11),\n",
              "             ('calvin', 15),\n",
              "             ('gives', 136),\n",
              "             ('birth', 162),\n",
              "             ('inger', 51),\n",
              "             ('welcome', 94),\n",
              "             ('boy', 82),\n",
              "             ('axl', 5),\n",
              "             ('jack', 38),\n",
              "             ('property', 11),\n",
              "             ('brothers', 34),\n",
              "             ('linda', 5),\n",
              "             ('phan', 5),\n",
              "             ('tess', 19),\n",
              "             ('tyles', 59),\n",
              "             ('still', 43),\n",
              "             ('feelings', 15),\n",
              "             ('appar', 1),\n",
              "             ('cri', 14),\n",
              "             ('warning', 10),\n",
              "             ('tay', 32),\n",
              "             ('away', 74),\n",
              "             ('jesse', 21),\n",
              "             ('plemons', 1),\n",
              "             ('kipped', 5),\n",
              "             ('kirsten', 8),\n",
              "             ('dunst’s', 1),\n",
              "             ('premiere', 99),\n",
              "             ('avoid', 15),\n",
              "             ('quest', 13),\n",
              "             ('hangs', 14),\n",
              "             ('daddy', 14),\n",
              "             ('drama', 147),\n",
              "             ('hugh', 44),\n",
              "             ('hefners', 4),\n",
              "             ('wife', 191),\n",
              "             ('crystal', 14),\n",
              "             ('harris', 15),\n",
              "             ('inherit', 5),\n",
              "             ('noth', 3),\n",
              "             ('mccarthyism', 1),\n",
              "             ('accuses', 29),\n",
              "             ('wiretapping', 1),\n",
              "             ('office', 16),\n",
              "             ('elect', 2),\n",
              "             ('blindsided', 5),\n",
              "             ('heartbroken', 11),\n",
              "             ('dont', 57),\n",
              "             ('smil', 3),\n",
              "             ('15', 88),\n",
              "             ('ecrets', 44),\n",
              "             ('behind', 107),\n",
              "             ('omerhalder’s', 1),\n",
              "             ('breaking', 16),\n",
              "             ('affleckmatt', 1),\n",
              "             ('friendship', 45),\n",
              "             ('gong', 2),\n",
              "             ('tv', 313),\n",
              "             ('marc', 26),\n",
              "             ('anthony', 65),\n",
              "             ('lena', 30),\n",
              "             ('dunham', 19),\n",
              "             ('affectionate', 3),\n",
              "             ('3', 210),\n",
              "             ('months', 83),\n",
              "             ('antonoff', 11),\n",
              "             ('breakup', 85),\n",
              "             ('colin', 27),\n",
              "             ('jost', 12),\n",
              "             ('carlett', 36),\n",
              "             ('johansson', 33),\n",
              "             ('first', 546),\n",
              "             ('george', 140),\n",
              "             ('clooney', 103),\n",
              "             ('everyone', 37),\n",
              "             ('called', 43),\n",
              "             ('overrated', 1),\n",
              "             ('twitt', 23),\n",
              "             ('adam', 70),\n",
              "             ('andler', 8),\n",
              "             ('cuts', 12),\n",
              "             ('relaxed', 3),\n",
              "             ('figure', 31),\n",
              "             ('famili', 59),\n",
              "             ('whats', 35),\n",
              "             ('hang', 11),\n",
              "             ('backstage', 16),\n",
              "             ('dj', 31),\n",
              "             ('khaled', 15),\n",
              "             ('son', 58),\n",
              "             ('asahd', 3),\n",
              "             ('won’t', 34),\n",
              "             ('four', 31),\n",
              "             ('talks', 172),\n",
              "             ('eason', 519),\n",
              "             ('‘keeping', 6),\n",
              "             ('kardashians’', 7),\n",
              "             ('says', 156),\n",
              "             ('lied', 2),\n",
              "             ('father’s', 16),\n",
              "             ('reasons', 62),\n",
              "             ('defending', 9),\n",
              "             ('oj', 26),\n",
              "             ('impson', 68),\n",
              "             ('u', 90),\n",
              "             ('wins', 55),\n",
              "             ('pinches', 2),\n",
              "             ('ofia', 121),\n",
              "             ('richie’s', 1),\n",
              "             ('butt', 23),\n",
              "             ('giggles', 1),\n",
              "             ('weeks', 42),\n",
              "             ('cheating', 98),\n",
              "             ('search', 4),\n",
              "             ('pr', 12),\n",
              "             ('divorc', 87),\n",
              "             ('prison', 38),\n",
              "             ('cinderella', 5),\n",
              "             ('margo', 2),\n",
              "             ('jefferson', 2),\n",
              "             ('markl', 51),\n",
              "             ('markles', 97),\n",
              "             ('dress', 167),\n",
              "             ('display', 10),\n",
              "             ('see', 30),\n",
              "             ('person', 37),\n",
              "             ('21', 21),\n",
              "             ('images', 11),\n",
              "             ('pinterest', 5),\n",
              "             ('malibu', 16),\n",
              "             ('crash', 47),\n",
              "             ('involving', 9),\n",
              "             ('bruce', 16),\n",
              "             ('dead', 91),\n",
              "             ('5', 204),\n",
              "             ('injur', 2),\n",
              "             ('faris', 56),\n",
              "             ('uncomfortable', 5),\n",
              "             ('watching', 32),\n",
              "             ('pratt', 99),\n",
              "             ('zoe', 14),\n",
              "             ('aldana', 9),\n",
              "             ('romantic', 66),\n",
              "             ('cen', 9),\n",
              "             ('madonna', 29),\n",
              "             ('allowed', 6),\n",
              "             ('adopt', 17),\n",
              "             ('fouryearold', 2),\n",
              "             ('twin', 79),\n",
              "             ('girls', 81),\n",
              "             ('malawi', 3),\n",
              "             ('moth', 11),\n",
              "             ('hudsons', 4),\n",
              "             ('daddi', 4),\n",
              "             ('irish', 2),\n",
              "             ('ruth', 1),\n",
              "             ('negga', 1),\n",
              "             ('star', 163),\n",
              "             ('status', 2),\n",
              "             ('oar', 4),\n",
              "             ('hudson', 66),\n",
              "             ('fight', 80),\n",
              "             ('‘tearful’', 1),\n",
              "             ('theroux’s', 8),\n",
              "             ('throwing', 9),\n",
              "             ('ingle', 57),\n",
              "             ('ladies', 20),\n",
              "             ('amal', 64),\n",
              "             ('headed', 18),\n",
              "             ('lewis', 13),\n",
              "             ('celebs', 63),\n",
              "             ('abc', 55),\n",
              "             ('‘roseanne’', 10),\n",
              "             ('liposuction', 1),\n",
              "             ('feuds', 15),\n",
              "             ('smitten', 3),\n",
              "             ('young', 50),\n",
              "             ('jolielookalik', 1),\n",
              "             ('charlotte', 20),\n",
              "             ('mary', 16),\n",
              "             ('j', 49),\n",
              "             ('blige', 5),\n",
              "             ('hacked', 9),\n",
              "             ('kendu', 1),\n",
              "             ('isaacs', 4),\n",
              "             ('hate', 23),\n",
              "             ('tweet', 58),\n",
              "             ('jenners', 66),\n",
              "             ('avoids', 2),\n",
              "             ('potlight', 16),\n",
              "             ('admits', 90),\n",
              "             ('cringeworthi', 1),\n",
              "             ('divide', 1),\n",
              "             ('us', 163),\n",
              "             ('el', 54),\n",
              "             ('rey', 8),\n",
              "             ('theat', 4),\n",
              "             ('mariah', 68),\n",
              "             ('careys', 9),\n",
              "             ('eve', 27),\n",
              "             ('mishap', 4),\n",
              "             ('caused', 7),\n",
              "             ('drugs', 9),\n",
              "             ('alcohol', 14),\n",
              "             ('cruise', 84),\n",
              "             ('exual', 112),\n",
              "             ('misconduct', 56),\n",
              "             ('allegations', 50),\n",
              "             ('spanning', 1),\n",
              "             ('24', 13),\n",
              "             ('one', 201),\n",
              "             ('timelin', 28),\n",
              "             ('corey', 29),\n",
              "             ('gamble', 5),\n",
              "             ('photo', 355),\n",
              "             ('richie', 90),\n",
              "             ('triangl', 6),\n",
              "             ('kardashiankanye', 1),\n",
              "             ('proven', 3),\n",
              "             ('fals', 5),\n",
              "             ('humiliation', 1),\n",
              "             ('toyboy', 1),\n",
              "             ('dump', 12),\n",
              "             ('definitive', 15),\n",
              "             ('proof', 19),\n",
              "             ('timberlake', 60),\n",
              "             ('jessica', 187),\n",
              "             ('biel', 37),\n",
              "             ('tronger', 7),\n",
              "             ('ev', 86),\n",
              "             ('dolly', 11),\n",
              "             ('parton', 9),\n",
              "             ('california’s', 1),\n",
              "             ('‘biblical', 1),\n",
              "             ('disasters’', 1),\n",
              "             ('punishment', 1),\n",
              "             ...])"
            ]
          },
          "metadata": {},
          "execution_count": 41
        }
      ]
    },
    {
      "cell_type": "code",
      "source": [
        "text_sentences= df['news'].to_numpy()\n",
        "text_sequences= tokenizer.texts_to_sequences(X)\n"
      ],
      "metadata": {
        "id": "omMPl3LC_dIn"
      },
      "execution_count": 42,
      "outputs": []
    },
    {
      "cell_type": "code",
      "source": [
        "print(text_sentences[100])\n",
        "print(text_sequences[100])"
      ],
      "metadata": {
        "id": "Qk78A46v_dLa",
        "colab": {
          "base_uri": "https://localhost:8080/"
        },
        "outputId": "359e6651-0c00-4aaf-e380-5b3a434d70b6"
      },
      "execution_count": 43,
      "outputs": [
        {
          "output_type": "stream",
          "name": "stdout",
          "text": [
            "throwback alert relive pippa middletons cenetealing appearance kate middletons wed\n",
            "[1334, 1936, 1758, 417, 741, 11919, 825, 31, 741, 109]\n"
          ]
        }
      ]
    },
    {
      "cell_type": "code",
      "source": [
        "#reversing tokenization\n",
        "# test_sequences"
      ],
      "metadata": {
        "id": "n71a1WOJiKaj"
      },
      "execution_count": 44,
      "outputs": []
    },
    {
      "cell_type": "code",
      "source": [
        "# min and max lengh of train sequences\n",
        "train_min_lenght= len(min(text_sequences, key= len))\n",
        "train_max_lenght= len(max(text_sequences, key= len))\n",
        "train_min_lenght , train_max_lenght\n"
      ],
      "metadata": {
        "id": "iSQ8HJg-mbUj",
        "colab": {
          "base_uri": "https://localhost:8080/"
        },
        "outputId": "2b10619e-b466-4a63-b72b-148657a0fd49"
      },
      "execution_count": 45,
      "outputs": [
        {
          "output_type": "execute_result",
          "data": {
            "text/plain": [
              "(0, 26)"
            ]
          },
          "metadata": {},
          "execution_count": 45
        }
      ]
    },
    {
      "cell_type": "code",
      "source": [
        "# plotting len of each sentence\n",
        "plt.hist([len(x) for x in X], bins=500);"
      ],
      "metadata": {
        "colab": {
          "base_uri": "https://localhost:8080/",
          "height": 430
        },
        "id": "GSH0hzx_wGPH",
        "outputId": "e44690b4-4353-46f2-944c-36623a2ee61a"
      },
      "execution_count": 46,
      "outputs": [
        {
          "output_type": "display_data",
          "data": {
            "text/plain": [
              "<Figure size 640x480 with 1 Axes>"
            ],
            "image/png": "[encoded data removed]"
          },
          "metadata": {}
        }
      ]
    },
    {
      "cell_type": "code",
      "source": [
        "sentence_len= np.array([len(x) for x in X])\n",
        "print(f'There are {len(sentence_len[sentence_len > 15])} sentences which have more than 25 words.')\n",
        "max_len= 15"
      ],
      "metadata": {
        "colab": {
          "base_uri": "https://localhost:8080/"
        },
        "id": "9MiECpfZoKlG",
        "outputId": "edc29f18-e9cc-4c25-eaf0-c24d842491f6"
      },
      "execution_count": 48,
      "outputs": [
        {
          "output_type": "stream",
          "name": "stdout",
          "text": [
            "There are 126 sentences which have more than 25 words.\n"
          ]
        }
      ]
    },
    {
      "cell_type": "code",
      "source": [
        "# padding\n",
        "def padding_sequences(seq, max_len):\n",
        "  return pad_sequences(seq, maxlen= max_len, padding= \"post\", truncating=\"post\")"
      ],
      "metadata": {
        "id": "3dFcV1E1_dNo"
      },
      "execution_count": 49,
      "outputs": []
    },
    {
      "cell_type": "code",
      "source": [
        "text_padded= padding_sequences(text_sequences, max_len)"
      ],
      "metadata": {
        "id": "87G5KHHin_OF"
      },
      "execution_count": 50,
      "outputs": []
    },
    {
      "cell_type": "code",
      "source": [
        "print(text_sentences[100])\n",
        "print(text_sequences[100])\n",
        "print(text_padded[100])"
      ],
      "metadata": {
        "id": "cPgFVB3un_fN",
        "colab": {
          "base_uri": "https://localhost:8080/"
        },
        "outputId": "7faba6cf-b2e2-4ec0-b185-3bb90e83ade3"
      },
      "execution_count": 52,
      "outputs": [
        {
          "output_type": "stream",
          "name": "stdout",
          "text": [
            "throwback alert relive pippa middletons cenetealing appearance kate middletons wed\n",
            "[1334, 1936, 1758, 417, 741, 11919, 825, 31, 741, 109]\n",
            "[ 1334  1936  1758   417   741 11919   825    31   741   109     0     0\n",
            "     0     0     0]\n"
          ]
        }
      ]
    },
    {
      "cell_type": "code",
      "source": [
        "# checking tokenization by reversing from sequences to sentences\n",
        "# filp word_index dictionay index and value\n",
        "reversed_index= dict([(idx, word) for (word, idx) in word_index.items()])"
      ],
      "metadata": {
        "id": "GhkFOO1U7gI6"
      },
      "execution_count": 53,
      "outputs": []
    },
    {
      "cell_type": "code",
      "source": [
        "def decode(seq):\n",
        "  result= \" \".join([reversed_index.get(idx, \"?\") for idx in seq])\n",
        "  return result"
      ],
      "metadata": {
        "id": "rApX9AaO8KbH"
      },
      "execution_count": 54,
      "outputs": []
    },
    {
      "cell_type": "code",
      "source": [
        "decoded_news= decode(text_sequences[100])\n",
        "print(text_sequences[100])\n",
        "print(text_sentences[100])\n",
        "print(decoded_news)"
      ],
      "metadata": {
        "id": "RDpHAw0S8ozW",
        "colab": {
          "base_uri": "https://localhost:8080/"
        },
        "outputId": "fc5ef4ce-b9d7-4ca2-b237-d7355a326af2"
      },
      "execution_count": 55,
      "outputs": [
        {
          "output_type": "stream",
          "name": "stdout",
          "text": [
            "[1334, 1936, 1758, 417, 741, 11919, 825, 31, 741, 109]\n",
            "throwback alert relive pippa middletons cenetealing appearance kate middletons wed\n",
            "throwback alert relive pippa middletons cenetealing appearance kate middletons wed\n"
          ]
        }
      ]
    },
    {
      "cell_type": "code",
      "source": [
        "#concatinating other features to tokenized data"
      ],
      "metadata": {
        "id": "JbLcImg3iKeZ"
      },
      "execution_count": 56,
      "outputs": []
    },
    {
      "cell_type": "code",
      "source": [
        "##### concatnate if other features exist\n",
        "# train_padded= np.hstack([train_padded, train_other_features])\n",
        "# test_padded= np.hstack([test_padded, test_other_features])\n"
      ],
      "metadata": {
        "id": "WQiAkFioiKi9"
      },
      "execution_count": 57,
      "outputs": []
    },
    {
      "cell_type": "code",
      "source": [
        "# unique_words_num\n",
        "# other_feauter_lengh= test_other_features.shape[1]\n",
        "# other_feauter_lengh"
      ],
      "metadata": {
        "id": "FkP9JmtaYIio"
      },
      "execution_count": 58,
      "outputs": []
    },
    {
      "cell_type": "code",
      "source": [],
      "metadata": {
        "id": "qDMZ1K4I1vDV"
      },
      "execution_count": 58,
      "outputs": []
    },
    {
      "cell_type": "code",
      "source": [
        "# vocab_size\n",
        "vocab_size= len(tokenizer.word_index) +1 # because word_index starts from zero"
      ],
      "metadata": {
        "id": "h93A6-w-1vOy"
      },
      "execution_count": 59,
      "outputs": []
    },
    {
      "cell_type": "code",
      "source": [
        "def get_weight_matrix(model):\n",
        "  weight_matrix= np.zeros((vocab_size, embedding_dim))\n",
        "  for word, i in tokenizer.word_index.items():\n",
        "    weight_matrix[i]= model.wv[word]\n",
        "  return weight_matrix\n"
      ],
      "metadata": {
        "id": "bQruASl41fER"
      },
      "execution_count": 60,
      "outputs": []
    },
    {
      "cell_type": "code",
      "source": [
        "embedding_vectors= get_weight_matrix(w2v_mdl)"
      ],
      "metadata": {
        "id": "20Ii6aSu2qw_"
      },
      "execution_count": 61,
      "outputs": []
    },
    {
      "cell_type": "code",
      "source": [
        "X_train, X_test, y_train, y_test= train_test_split(text_padded, label, test_size= 0.2, random_state= 10)"
      ],
      "metadata": {
        "id": "sEM76j2W4sv5"
      },
      "execution_count": 62,
      "outputs": []
    },
    {
      "cell_type": "code",
      "source": [
        "\n",
        "# create LSTM model\n",
        "model= keras.models.Sequential()\n",
        "model.add(layers.Embedding(vocab_size, output_dim= embedding_dim,  input_length= max_len , trainable=False)) # with other features\n",
        "model.add(layers.LSTM(128, dropout= 0.1))\n",
        "model.add(layers.Dense(1,  activation='sigmoid'))\n",
        "model.summary()"
      ],
      "metadata": {
        "colab": {
          "base_uri": "https://localhost:8080/"
        },
        "id": "shoAUoLZ9HQ0",
        "outputId": "c5e9e186-200d-4b49-df2f-77a73fec1317"
      },
      "execution_count": 63,
      "outputs": [
        {
          "output_type": "stream",
          "name": "stdout",
          "text": [
            "Model: \"sequential\"\n",
            "_________________________________________________________________\n",
            " Layer (type)                Output Shape              Param #   \n",
            "=================================================================\n",
            " embedding (Embedding)       (None, 15, 100)           2280200   \n",
            "                                                                 \n",
            " lstm (LSTM)                 (None, 128)               117248    \n",
            "                                                                 \n",
            " dense (Dense)               (None, 1)                 129       \n",
            "                                                                 \n",
            "=================================================================\n",
            "Total params: 2,397,577\n",
            "Trainable params: 117,377\n",
            "Non-trainable params: 2,280,200\n",
            "_________________________________________________________________\n"
          ]
        }
      ]
    },
    {
      "cell_type": "code",
      "source": [
        "loss= keras.losses.BinaryCrossentropy(from_logits= False)\n",
        "optim= keras.optimizers.Adam(learning_rate=0.005)\n",
        "metrics= [\"accuracy\"]#,  Precision(), Recall()]\n",
        "model.compile(loss= loss, optimizer= optim, metrics= metrics)"
      ],
      "metadata": {
        "id": "UPpoUpJYiKmK"
      },
      "execution_count": 64,
      "outputs": []
    },
    {
      "cell_type": "code",
      "source": [
        "model.fit(X_train, y_train, epochs=50, validation_data=(X_test, y_test), verbose=2)\n"
      ],
      "metadata": {
        "id": "uUp8wSo_iKo7",
        "colab": {
          "base_uri": "https://localhost:8080/"
        },
        "outputId": "3ae4e3f1-f065-447e-dba9-d39c9ae08356"
      },
      "execution_count": 65,
      "outputs": [
        {
          "output_type": "stream",
          "name": "stdout",
          "text": [
            "Epoch 1/50\n",
            "554/554 - 13s - loss: 0.5508 - accuracy: 0.7604 - val_loss: 0.5556 - val_accuracy: 0.7550 - 13s/epoch - 23ms/step\n",
            "Epoch 2/50\n",
            "554/554 - 3s - loss: 0.5518 - accuracy: 0.7607 - val_loss: 0.5567 - val_accuracy: 0.7550 - 3s/epoch - 6ms/step\n",
            "Epoch 3/50\n",
            "554/554 - 3s - loss: 0.5507 - accuracy: 0.7607 - val_loss: 0.5588 - val_accuracy: 0.7550 - 3s/epoch - 5ms/step\n",
            "Epoch 4/50\n",
            "554/554 - 3s - loss: 0.5511 - accuracy: 0.7607 - val_loss: 0.5586 - val_accuracy: 0.7550 - 3s/epoch - 5ms/step\n",
            "Epoch 5/50\n",
            "554/554 - 4s - loss: 0.5506 - accuracy: 0.7607 - val_loss: 0.5609 - val_accuracy: 0.7550 - 4s/epoch - 7ms/step\n",
            "Epoch 6/50\n",
            "554/554 - 3s - loss: 0.5523 - accuracy: 0.7607 - val_loss: 0.5571 - val_accuracy: 0.7550 - 3s/epoch - 5ms/step\n",
            "Epoch 7/50\n",
            "554/554 - 3s - loss: 0.5355 - accuracy: 0.7658 - val_loss: 0.5113 - val_accuracy: 0.7818 - 3s/epoch - 5ms/step\n",
            "Epoch 8/50\n",
            "554/554 - 3s - loss: 0.5064 - accuracy: 0.7826 - val_loss: 0.4927 - val_accuracy: 0.7855 - 3s/epoch - 5ms/step\n",
            "Epoch 9/50\n",
            "554/554 - 2s - loss: 0.4823 - accuracy: 0.7915 - val_loss: 0.4808 - val_accuracy: 0.7911 - 2s/epoch - 4ms/step\n",
            "Epoch 10/50\n",
            "554/554 - 3s - loss: 0.4644 - accuracy: 0.7973 - val_loss: 0.4697 - val_accuracy: 0.7970 - 3s/epoch - 6ms/step\n",
            "Epoch 11/50\n",
            "554/554 - 3s - loss: 0.4468 - accuracy: 0.8034 - val_loss: 0.4555 - val_accuracy: 0.7983 - 3s/epoch - 5ms/step\n",
            "Epoch 12/50\n",
            "554/554 - 2s - loss: 0.4329 - accuracy: 0.8112 - val_loss: 0.4670 - val_accuracy: 0.8044 - 2s/epoch - 4ms/step\n",
            "Epoch 13/50\n",
            "554/554 - 2s - loss: 0.4148 - accuracy: 0.8188 - val_loss: 0.4411 - val_accuracy: 0.8085 - 2s/epoch - 4ms/step\n",
            "Epoch 14/50\n",
            "554/554 - 3s - loss: 0.4010 - accuracy: 0.8230 - val_loss: 0.4359 - val_accuracy: 0.8123 - 3s/epoch - 5ms/step\n",
            "Epoch 15/50\n",
            "554/554 - 3s - loss: 0.3887 - accuracy: 0.8333 - val_loss: 0.4446 - val_accuracy: 0.8033 - 3s/epoch - 5ms/step\n",
            "Epoch 16/50\n",
            "554/554 - 2s - loss: 0.3749 - accuracy: 0.8388 - val_loss: 0.4344 - val_accuracy: 0.8119 - 2s/epoch - 4ms/step\n",
            "Epoch 17/50\n",
            "554/554 - 2s - loss: 0.3600 - accuracy: 0.8474 - val_loss: 0.4389 - val_accuracy: 0.8085 - 2s/epoch - 4ms/step\n",
            "Epoch 18/50\n",
            "554/554 - 3s - loss: 0.3467 - accuracy: 0.8543 - val_loss: 0.4544 - val_accuracy: 0.8117 - 3s/epoch - 5ms/step\n",
            "Epoch 19/50\n",
            "554/554 - 3s - loss: 0.3286 - accuracy: 0.8599 - val_loss: 0.4547 - val_accuracy: 0.8175 - 3s/epoch - 6ms/step\n",
            "Epoch 20/50\n",
            "554/554 - 2s - loss: 0.3139 - accuracy: 0.8666 - val_loss: 0.4610 - val_accuracy: 0.8103 - 2s/epoch - 4ms/step\n",
            "Epoch 21/50\n",
            "554/554 - 3s - loss: 0.2951 - accuracy: 0.8737 - val_loss: 0.4641 - val_accuracy: 0.8065 - 3s/epoch - 5ms/step\n",
            "Epoch 22/50\n",
            "554/554 - 2s - loss: 0.2796 - accuracy: 0.8827 - val_loss: 0.4974 - val_accuracy: 0.7958 - 2s/epoch - 4ms/step\n",
            "Epoch 23/50\n",
            "554/554 - 3s - loss: 0.2607 - accuracy: 0.8922 - val_loss: 0.4945 - val_accuracy: 0.8004 - 3s/epoch - 6ms/step\n",
            "Epoch 24/50\n",
            "554/554 - 3s - loss: 0.2461 - accuracy: 0.8970 - val_loss: 0.5218 - val_accuracy: 0.8033 - 3s/epoch - 5ms/step\n",
            "Epoch 25/50\n",
            "554/554 - 3s - loss: 0.2300 - accuracy: 0.9040 - val_loss: 0.5306 - val_accuracy: 0.8031 - 3s/epoch - 5ms/step\n",
            "Epoch 26/50\n",
            "554/554 - 3s - loss: 0.2099 - accuracy: 0.9137 - val_loss: 0.5337 - val_accuracy: 0.8026 - 3s/epoch - 5ms/step\n",
            "Epoch 27/50\n",
            "554/554 - 3s - loss: 0.1963 - accuracy: 0.9203 - val_loss: 0.5460 - val_accuracy: 0.8008 - 3s/epoch - 5ms/step\n",
            "Epoch 28/50\n",
            "554/554 - 3s - loss: 0.1844 - accuracy: 0.9261 - val_loss: 0.5849 - val_accuracy: 0.7902 - 3s/epoch - 5ms/step\n",
            "Epoch 29/50\n",
            "554/554 - 3s - loss: 0.1759 - accuracy: 0.9316 - val_loss: 0.6143 - val_accuracy: 0.7983 - 3s/epoch - 5ms/step\n",
            "Epoch 30/50\n",
            "554/554 - 2s - loss: 0.1668 - accuracy: 0.9331 - val_loss: 0.6240 - val_accuracy: 0.8105 - 2s/epoch - 4ms/step\n",
            "Epoch 31/50\n",
            "554/554 - 3s - loss: 0.1498 - accuracy: 0.9406 - val_loss: 0.6786 - val_accuracy: 0.8119 - 3s/epoch - 5ms/step\n",
            "Epoch 32/50\n",
            "554/554 - 3s - loss: 0.1405 - accuracy: 0.9450 - val_loss: 0.6413 - val_accuracy: 0.7877 - 3s/epoch - 5ms/step\n",
            "Epoch 33/50\n",
            "554/554 - 3s - loss: 0.1360 - accuracy: 0.9468 - val_loss: 0.6834 - val_accuracy: 0.8033 - 3s/epoch - 5ms/step\n",
            "Epoch 34/50\n",
            "554/554 - 3s - loss: 0.1255 - accuracy: 0.9522 - val_loss: 0.7556 - val_accuracy: 0.8089 - 3s/epoch - 5ms/step\n",
            "Epoch 35/50\n",
            "554/554 - 2s - loss: 0.1236 - accuracy: 0.9517 - val_loss: 0.7134 - val_accuracy: 0.8028 - 2s/epoch - 4ms/step\n",
            "Epoch 36/50\n",
            "554/554 - 3s - loss: 0.1104 - accuracy: 0.9588 - val_loss: 0.7482 - val_accuracy: 0.8076 - 3s/epoch - 6ms/step\n",
            "Epoch 37/50\n",
            "554/554 - 2s - loss: 0.1087 - accuracy: 0.9599 - val_loss: 0.7790 - val_accuracy: 0.8089 - 2s/epoch - 4ms/step\n",
            "Epoch 38/50\n",
            "554/554 - 2s - loss: 0.1004 - accuracy: 0.9606 - val_loss: 0.8765 - val_accuracy: 0.8117 - 2s/epoch - 4ms/step\n",
            "Epoch 39/50\n",
            "554/554 - 2s - loss: 0.0985 - accuracy: 0.9634 - val_loss: 0.8108 - val_accuracy: 0.8008 - 2s/epoch - 4ms/step\n",
            "Epoch 40/50\n",
            "554/554 - 2s - loss: 0.0937 - accuracy: 0.9645 - val_loss: 0.7679 - val_accuracy: 0.8022 - 2s/epoch - 4ms/step\n",
            "Epoch 41/50\n",
            "554/554 - 3s - loss: 0.0876 - accuracy: 0.9678 - val_loss: 0.7757 - val_accuracy: 0.7936 - 3s/epoch - 6ms/step\n",
            "Epoch 42/50\n",
            "554/554 - 3s - loss: 0.0842 - accuracy: 0.9690 - val_loss: 0.9569 - val_accuracy: 0.8089 - 3s/epoch - 5ms/step\n",
            "Epoch 43/50\n",
            "554/554 - 3s - loss: 0.0837 - accuracy: 0.9681 - val_loss: 0.7606 - val_accuracy: 0.8049 - 3s/epoch - 5ms/step\n",
            "Epoch 44/50\n",
            "554/554 - 3s - loss: 0.0798 - accuracy: 0.9710 - val_loss: 0.8345 - val_accuracy: 0.8130 - 3s/epoch - 5ms/step\n",
            "Epoch 45/50\n",
            "554/554 - 3s - loss: 0.0687 - accuracy: 0.9742 - val_loss: 0.9515 - val_accuracy: 0.8047 - 3s/epoch - 6ms/step\n",
            "Epoch 46/50\n",
            "554/554 - 3s - loss: 0.0751 - accuracy: 0.9714 - val_loss: 0.8219 - val_accuracy: 0.7943 - 3s/epoch - 5ms/step\n",
            "Epoch 47/50\n",
            "554/554 - 2s - loss: 0.0698 - accuracy: 0.9747 - val_loss: 0.8977 - val_accuracy: 0.8148 - 2s/epoch - 4ms/step\n",
            "Epoch 48/50\n",
            "554/554 - 3s - loss: 0.0677 - accuracy: 0.9762 - val_loss: 0.9055 - val_accuracy: 0.8056 - 3s/epoch - 5ms/step\n",
            "Epoch 49/50\n",
            "554/554 - 3s - loss: 0.0715 - accuracy: 0.9743 - val_loss: 0.9078 - val_accuracy: 0.8094 - 3s/epoch - 5ms/step\n",
            "Epoch 50/50\n",
            "554/554 - 3s - loss: 0.0666 - accuracy: 0.9751 - val_loss: 0.8545 - val_accuracy: 0.8076 - 3s/epoch - 5ms/step\n"
          ]
        },
        {
          "output_type": "execute_result",
          "data": {
            "text/plain": [
              "<keras.callbacks.History at 0x7a6c29a0e050>"
            ]
          },
          "metadata": {},
          "execution_count": 65
        }
      ]
    },
    {
      "cell_type": "code",
      "source": [
        "y_pred= (model.predict(X_test) > 0.5).astype(int)\n",
        "print(classification_report(y_test, y_pred))"
      ],
      "metadata": {
        "id": "lA4DgD4b_dQB",
        "colab": {
          "base_uri": "https://localhost:8080/"
        },
        "outputId": "0dd44fbc-c517-4853-8dd9-fcf11d480db3"
      },
      "execution_count": 66,
      "outputs": [
        {
          "output_type": "stream",
          "name": "stdout",
          "text": [
            "139/139 [==============================] - 1s 2ms/step\n",
            "              precision    recall  f1-score   support\n",
            "\n",
            "           0       0.64      0.50      0.56      1085\n",
            "           1       0.85      0.91      0.88      3343\n",
            "\n",
            "    accuracy                           0.81      4428\n",
            "   macro avg       0.74      0.70      0.72      4428\n",
            "weighted avg       0.80      0.81      0.80      4428\n",
            "\n"
          ]
        }
      ]
    },
    {
      "cell_type": "code",
      "source": [
        "# Bidirectional LSTM"
      ],
      "metadata": {
        "id": "nTc-_LEhB5lK"
      },
      "execution_count": 67,
      "outputs": []
    },
    {
      "cell_type": "code",
      "source": [
        "bi_model =  keras.models.Sequential()\n",
        "bi_model.add(layers.Embedding(vocab_size, output_dim= embedding_dim,  input_length= max_len , trainable=False))\n",
        "bi_model.add(layers.Bidirectional(layers.LSTM(128, dropout=0.1)))  # Use Bidirectional LSTM layer\n",
        "bi_model.add(layers.Dense(1, activation='sigmoid'))\n",
        "loss = tf.keras.losses.BinaryCrossentropy(from_logits=False)\n",
        "optim = tf.keras.optimizers.Adam(learning_rate=0.0001)\n",
        "metrics = [\"accuracy\"] #, Precision(), Recall()]\n",
        "\n",
        "bi_model.compile(loss=loss, optimizer=optim, metrics=metrics)"
      ],
      "metadata": {
        "id": "9MRcDvri77CN"
      },
      "execution_count": 68,
      "outputs": []
    },
    {
      "cell_type": "code",
      "source": [
        "bi_model.fit(X_train, y_train, epochs=50, validation_data=(X_test, y_test), verbose=2)\n"
      ],
      "metadata": {
        "colab": {
          "base_uri": "https://localhost:8080/"
        },
        "id": "xHX7aAeK8bZd",
        "outputId": "ffa5677d-faab-4ef2-90e7-e18bca0de184"
      },
      "execution_count": 69,
      "outputs": [
        {
          "output_type": "stream",
          "name": "stdout",
          "text": [
            "Epoch 1/50\n",
            "554/554 - 8s - loss: 0.5639 - accuracy: 0.7589 - val_loss: 0.5538 - val_accuracy: 0.7550 - 8s/epoch - 14ms/step\n",
            "Epoch 2/50\n",
            "554/554 - 4s - loss: 0.5379 - accuracy: 0.7620 - val_loss: 0.5305 - val_accuracy: 0.7633 - 4s/epoch - 7ms/step\n",
            "Epoch 3/50\n",
            "554/554 - 3s - loss: 0.5200 - accuracy: 0.7718 - val_loss: 0.5228 - val_accuracy: 0.7674 - 3s/epoch - 6ms/step\n",
            "Epoch 4/50\n",
            "554/554 - 3s - loss: 0.5148 - accuracy: 0.7717 - val_loss: 0.5193 - val_accuracy: 0.7660 - 3s/epoch - 6ms/step\n",
            "Epoch 5/50\n",
            "554/554 - 3s - loss: 0.5123 - accuracy: 0.7733 - val_loss: 0.5170 - val_accuracy: 0.7683 - 3s/epoch - 6ms/step\n",
            "Epoch 6/50\n",
            "554/554 - 4s - loss: 0.5106 - accuracy: 0.7734 - val_loss: 0.5157 - val_accuracy: 0.7685 - 4s/epoch - 7ms/step\n",
            "Epoch 7/50\n",
            "554/554 - 3s - loss: 0.5085 - accuracy: 0.7754 - val_loss: 0.5143 - val_accuracy: 0.7690 - 3s/epoch - 6ms/step\n",
            "Epoch 8/50\n",
            "554/554 - 3s - loss: 0.5077 - accuracy: 0.7746 - val_loss: 0.5129 - val_accuracy: 0.7703 - 3s/epoch - 6ms/step\n",
            "Epoch 9/50\n",
            "554/554 - 4s - loss: 0.5061 - accuracy: 0.7777 - val_loss: 0.5177 - val_accuracy: 0.7712 - 4s/epoch - 7ms/step\n",
            "Epoch 10/50\n",
            "554/554 - 3s - loss: 0.5052 - accuracy: 0.7769 - val_loss: 0.5122 - val_accuracy: 0.7726 - 3s/epoch - 6ms/step\n",
            "Epoch 11/50\n",
            "554/554 - 3s - loss: 0.5036 - accuracy: 0.7785 - val_loss: 0.5125 - val_accuracy: 0.7739 - 3s/epoch - 6ms/step\n",
            "Epoch 12/50\n",
            "554/554 - 4s - loss: 0.5036 - accuracy: 0.7774 - val_loss: 0.5095 - val_accuracy: 0.7739 - 4s/epoch - 7ms/step\n",
            "Epoch 13/50\n",
            "554/554 - 3s - loss: 0.5031 - accuracy: 0.7801 - val_loss: 0.5096 - val_accuracy: 0.7751 - 3s/epoch - 6ms/step\n",
            "Epoch 14/50\n",
            "554/554 - 3s - loss: 0.5030 - accuracy: 0.7800 - val_loss: 0.5129 - val_accuracy: 0.7728 - 3s/epoch - 6ms/step\n",
            "Epoch 15/50\n",
            "554/554 - 3s - loss: 0.5011 - accuracy: 0.7804 - val_loss: 0.5105 - val_accuracy: 0.7757 - 3s/epoch - 6ms/step\n",
            "Epoch 16/50\n",
            "554/554 - 4s - loss: 0.5022 - accuracy: 0.7803 - val_loss: 0.5113 - val_accuracy: 0.7760 - 4s/epoch - 7ms/step\n",
            "Epoch 17/50\n",
            "554/554 - 3s - loss: 0.5010 - accuracy: 0.7802 - val_loss: 0.5061 - val_accuracy: 0.7764 - 3s/epoch - 6ms/step\n",
            "Epoch 18/50\n",
            "554/554 - 3s - loss: 0.4994 - accuracy: 0.7834 - val_loss: 0.5052 - val_accuracy: 0.7773 - 3s/epoch - 6ms/step\n",
            "Epoch 19/50\n",
            "554/554 - 3s - loss: 0.4984 - accuracy: 0.7830 - val_loss: 0.5050 - val_accuracy: 0.7769 - 3s/epoch - 6ms/step\n",
            "Epoch 20/50\n",
            "554/554 - 4s - loss: 0.4971 - accuracy: 0.7838 - val_loss: 0.5046 - val_accuracy: 0.7771 - 4s/epoch - 7ms/step\n",
            "Epoch 21/50\n",
            "554/554 - 3s - loss: 0.4973 - accuracy: 0.7824 - val_loss: 0.5040 - val_accuracy: 0.7794 - 3s/epoch - 6ms/step\n",
            "Epoch 22/50\n",
            "554/554 - 3s - loss: 0.4946 - accuracy: 0.7845 - val_loss: 0.5011 - val_accuracy: 0.7794 - 3s/epoch - 6ms/step\n",
            "Epoch 23/50\n",
            "554/554 - 4s - loss: 0.4932 - accuracy: 0.7867 - val_loss: 0.5010 - val_accuracy: 0.7805 - 4s/epoch - 7ms/step\n",
            "Epoch 24/50\n",
            "554/554 - 3s - loss: 0.4916 - accuracy: 0.7871 - val_loss: 0.4989 - val_accuracy: 0.7800 - 3s/epoch - 6ms/step\n",
            "Epoch 25/50\n",
            "554/554 - 3s - loss: 0.4900 - accuracy: 0.7877 - val_loss: 0.4965 - val_accuracy: 0.7803 - 3s/epoch - 6ms/step\n",
            "Epoch 26/50\n",
            "554/554 - 3s - loss: 0.4881 - accuracy: 0.7883 - val_loss: 0.4984 - val_accuracy: 0.7807 - 3s/epoch - 6ms/step\n",
            "Epoch 27/50\n",
            "554/554 - 4s - loss: 0.4853 - accuracy: 0.7899 - val_loss: 0.4936 - val_accuracy: 0.7821 - 4s/epoch - 7ms/step\n",
            "Epoch 28/50\n",
            "554/554 - 3s - loss: 0.4843 - accuracy: 0.7897 - val_loss: 0.4981 - val_accuracy: 0.7818 - 3s/epoch - 6ms/step\n",
            "Epoch 29/50\n",
            "554/554 - 3s - loss: 0.4814 - accuracy: 0.7912 - val_loss: 0.4907 - val_accuracy: 0.7861 - 3s/epoch - 6ms/step\n",
            "Epoch 30/50\n",
            "554/554 - 4s - loss: 0.4792 - accuracy: 0.7913 - val_loss: 0.4911 - val_accuracy: 0.7825 - 4s/epoch - 7ms/step\n",
            "Epoch 31/50\n",
            "554/554 - 3s - loss: 0.4792 - accuracy: 0.7909 - val_loss: 0.4903 - val_accuracy: 0.7857 - 3s/epoch - 6ms/step\n",
            "Epoch 32/50\n",
            "554/554 - 3s - loss: 0.4780 - accuracy: 0.7930 - val_loss: 0.4884 - val_accuracy: 0.7827 - 3s/epoch - 6ms/step\n",
            "Epoch 33/50\n",
            "554/554 - 3s - loss: 0.4760 - accuracy: 0.7944 - val_loss: 0.4876 - val_accuracy: 0.7852 - 3s/epoch - 6ms/step\n",
            "Epoch 34/50\n",
            "554/554 - 4s - loss: 0.4758 - accuracy: 0.7921 - val_loss: 0.4855 - val_accuracy: 0.7848 - 4s/epoch - 7ms/step\n",
            "Epoch 35/50\n",
            "554/554 - 4s - loss: 0.4745 - accuracy: 0.7956 - val_loss: 0.4881 - val_accuracy: 0.7866 - 4s/epoch - 7ms/step\n",
            "Epoch 36/50\n",
            "554/554 - 3s - loss: 0.4723 - accuracy: 0.7958 - val_loss: 0.4830 - val_accuracy: 0.7859 - 3s/epoch - 6ms/step\n",
            "Epoch 37/50\n",
            "554/554 - 4s - loss: 0.4715 - accuracy: 0.7952 - val_loss: 0.4870 - val_accuracy: 0.7850 - 4s/epoch - 7ms/step\n",
            "Epoch 38/50\n",
            "554/554 - 3s - loss: 0.4705 - accuracy: 0.7970 - val_loss: 0.4804 - val_accuracy: 0.7877 - 3s/epoch - 6ms/step\n",
            "Epoch 39/50\n",
            "554/554 - 3s - loss: 0.4692 - accuracy: 0.7951 - val_loss: 0.4813 - val_accuracy: 0.7864 - 3s/epoch - 6ms/step\n",
            "Epoch 40/50\n",
            "554/554 - 4s - loss: 0.4690 - accuracy: 0.7957 - val_loss: 0.4845 - val_accuracy: 0.7848 - 4s/epoch - 7ms/step\n",
            "Epoch 41/50\n",
            "554/554 - 3s - loss: 0.4671 - accuracy: 0.7974 - val_loss: 0.4774 - val_accuracy: 0.7900 - 3s/epoch - 6ms/step\n",
            "Epoch 42/50\n",
            "554/554 - 3s - loss: 0.4653 - accuracy: 0.7988 - val_loss: 0.4745 - val_accuracy: 0.7907 - 3s/epoch - 6ms/step\n",
            "Epoch 43/50\n",
            "554/554 - 3s - loss: 0.4631 - accuracy: 0.7991 - val_loss: 0.4718 - val_accuracy: 0.7922 - 3s/epoch - 6ms/step\n",
            "Epoch 44/50\n",
            "554/554 - 4s - loss: 0.4596 - accuracy: 0.8023 - val_loss: 0.4745 - val_accuracy: 0.7979 - 4s/epoch - 7ms/step\n",
            "Epoch 45/50\n",
            "554/554 - 3s - loss: 0.4575 - accuracy: 0.8032 - val_loss: 0.4757 - val_accuracy: 0.8001 - 3s/epoch - 6ms/step\n",
            "Epoch 46/50\n",
            "554/554 - 3s - loss: 0.4547 - accuracy: 0.8043 - val_loss: 0.4608 - val_accuracy: 0.7999 - 3s/epoch - 6ms/step\n",
            "Epoch 47/50\n",
            "554/554 - 4s - loss: 0.4485 - accuracy: 0.8081 - val_loss: 0.4598 - val_accuracy: 0.7983 - 4s/epoch - 7ms/step\n",
            "Epoch 48/50\n",
            "554/554 - 3s - loss: 0.4471 - accuracy: 0.8070 - val_loss: 0.4706 - val_accuracy: 0.7936 - 3s/epoch - 6ms/step\n",
            "Epoch 49/50\n",
            "554/554 - 3s - loss: 0.4446 - accuracy: 0.8097 - val_loss: 0.4579 - val_accuracy: 0.7988 - 3s/epoch - 6ms/step\n",
            "Epoch 50/50\n",
            "554/554 - 3s - loss: 0.4419 - accuracy: 0.8105 - val_loss: 0.4560 - val_accuracy: 0.7983 - 3s/epoch - 6ms/step\n"
          ]
        },
        {
          "output_type": "execute_result",
          "data": {
            "text/plain": [
              "<keras.callbacks.History at 0x7a6c0f707250>"
            ]
          },
          "metadata": {},
          "execution_count": 69
        }
      ]
    },
    {
      "cell_type": "code",
      "source": [
        "y_pred= (bi_model.predict(X_test) > 0.5).astype(int)\n",
        "print(classification_report(y_test, y_pred))"
      ],
      "metadata": {
        "id": "vMY4JFeX8ccc",
        "colab": {
          "base_uri": "https://localhost:8080/"
        },
        "outputId": "85a280a9-bc60-4126-ff54-419ad4cee364"
      },
      "execution_count": 70,
      "outputs": [
        {
          "output_type": "stream",
          "name": "stdout",
          "text": [
            "139/139 [==============================] - 1s 4ms/step\n",
            "              precision    recall  f1-score   support\n",
            "\n",
            "           0       0.70      0.31      0.43      1085\n",
            "           1       0.81      0.96      0.88      3343\n",
            "\n",
            "    accuracy                           0.80      4428\n",
            "   macro avg       0.75      0.63      0.66      4428\n",
            "weighted avg       0.78      0.80      0.77      4428\n",
            "\n"
          ]
        }
      ]
    },
    {
      "cell_type": "code",
      "source": [],
      "metadata": {
        "id": "ecdxU7d-CBLh"
      },
      "execution_count": 70,
      "outputs": []
    },
    {
      "cell_type": "code",
      "source": [
        "S_model =  keras.models.Sequential()\n",
        "S_model.add(layers.Embedding(vocab_size, output_dim= embedding_dim,  input_length= max_len , trainable=False))\n",
        "S_model.add(layers.SimpleRNN(128, dropout=0.1))\n",
        "S_model.add(layers.Dense(1, activation='sigmoid'))\n",
        "loss = tf.keras.losses.BinaryCrossentropy(from_logits=False)\n",
        "optim = tf.keras.optimizers.Adam(learning_rate=0.0001)\n",
        "metrics = [\"accuracy\"] #, Precision(), Recall()]\n",
        "\n",
        "S_model.compile(loss=loss, optimizer=optim, metrics=metrics)"
      ],
      "metadata": {
        "id": "iyklCr8MCBaA"
      },
      "execution_count": 71,
      "outputs": []
    },
    {
      "cell_type": "code",
      "source": [
        "S_model.fit(X_train, y_train, epochs=50, validation_data=(X_test, y_test), verbose=2)\n"
      ],
      "metadata": {
        "colab": {
          "base_uri": "https://localhost:8080/"
        },
        "id": "MIbJFcsDCBdS",
        "outputId": "4b8b2631-2bb9-4a35-df20-5c0361573d70"
      },
      "execution_count": 72,
      "outputs": [
        {
          "output_type": "stream",
          "name": "stdout",
          "text": [
            "Epoch 1/50\n",
            "554/554 - 11s - loss: 0.5339 - accuracy: 0.7676 - val_loss: 0.5133 - val_accuracy: 0.7778 - 11s/epoch - 20ms/step\n",
            "Epoch 2/50\n",
            "554/554 - 9s - loss: 0.5005 - accuracy: 0.7824 - val_loss: 0.5005 - val_accuracy: 0.7803 - 9s/epoch - 17ms/step\n",
            "Epoch 3/50\n",
            "554/554 - 10s - loss: 0.4940 - accuracy: 0.7837 - val_loss: 0.4952 - val_accuracy: 0.7850 - 10s/epoch - 18ms/step\n",
            "Epoch 4/50\n",
            "554/554 - 10s - loss: 0.4880 - accuracy: 0.7865 - val_loss: 0.4917 - val_accuracy: 0.7852 - 10s/epoch - 18ms/step\n",
            "Epoch 5/50\n",
            "554/554 - 9s - loss: 0.4838 - accuracy: 0.7876 - val_loss: 0.4913 - val_accuracy: 0.7848 - 9s/epoch - 17ms/step\n",
            "Epoch 6/50\n",
            "554/554 - 8s - loss: 0.4819 - accuracy: 0.7912 - val_loss: 0.4891 - val_accuracy: 0.7836 - 8s/epoch - 15ms/step\n",
            "Epoch 7/50\n",
            "554/554 - 10s - loss: 0.4777 - accuracy: 0.7938 - val_loss: 0.4890 - val_accuracy: 0.7846 - 10s/epoch - 17ms/step\n",
            "Epoch 8/50\n",
            "554/554 - 10s - loss: 0.4767 - accuracy: 0.7925 - val_loss: 0.4857 - val_accuracy: 0.7888 - 10s/epoch - 18ms/step\n",
            "Epoch 9/50\n",
            "554/554 - 10s - loss: 0.4749 - accuracy: 0.7916 - val_loss: 0.4871 - val_accuracy: 0.7857 - 10s/epoch - 18ms/step\n",
            "Epoch 10/50\n",
            "554/554 - 11s - loss: 0.4736 - accuracy: 0.7942 - val_loss: 0.4849 - val_accuracy: 0.7891 - 11s/epoch - 19ms/step\n",
            "Epoch 11/50\n",
            "554/554 - 9s - loss: 0.4723 - accuracy: 0.7940 - val_loss: 0.4876 - val_accuracy: 0.7848 - 9s/epoch - 16ms/step\n",
            "Epoch 12/50\n",
            "554/554 - 10s - loss: 0.4689 - accuracy: 0.7982 - val_loss: 0.4902 - val_accuracy: 0.7855 - 10s/epoch - 17ms/step\n",
            "Epoch 13/50\n",
            "554/554 - 10s - loss: 0.4681 - accuracy: 0.7969 - val_loss: 0.4887 - val_accuracy: 0.7895 - 10s/epoch - 17ms/step\n",
            "Epoch 14/50\n",
            "554/554 - 10s - loss: 0.4668 - accuracy: 0.7974 - val_loss: 0.4846 - val_accuracy: 0.7884 - 10s/epoch - 17ms/step\n",
            "Epoch 15/50\n",
            "554/554 - 8s - loss: 0.4650 - accuracy: 0.7989 - val_loss: 0.4852 - val_accuracy: 0.7841 - 8s/epoch - 15ms/step\n",
            "Epoch 16/50\n",
            "554/554 - 10s - loss: 0.4646 - accuracy: 0.7984 - val_loss: 0.4881 - val_accuracy: 0.7839 - 10s/epoch - 17ms/step\n",
            "Epoch 17/50\n",
            "554/554 - 9s - loss: 0.4631 - accuracy: 0.7992 - val_loss: 0.4845 - val_accuracy: 0.7846 - 9s/epoch - 17ms/step\n",
            "Epoch 18/50\n",
            "554/554 - 10s - loss: 0.4623 - accuracy: 0.7991 - val_loss: 0.4834 - val_accuracy: 0.7857 - 10s/epoch - 18ms/step\n",
            "Epoch 19/50\n",
            "554/554 - 8s - loss: 0.4604 - accuracy: 0.7986 - val_loss: 0.4844 - val_accuracy: 0.7859 - 8s/epoch - 15ms/step\n",
            "Epoch 20/50\n",
            "554/554 - 10s - loss: 0.4594 - accuracy: 0.7989 - val_loss: 0.4846 - val_accuracy: 0.7848 - 10s/epoch - 17ms/step\n",
            "Epoch 21/50\n",
            "554/554 - 11s - loss: 0.4584 - accuracy: 0.8008 - val_loss: 0.4850 - val_accuracy: 0.7873 - 11s/epoch - 19ms/step\n",
            "Epoch 22/50\n",
            "554/554 - 10s - loss: 0.4585 - accuracy: 0.7992 - val_loss: 0.4879 - val_accuracy: 0.7823 - 10s/epoch - 17ms/step\n",
            "Epoch 23/50\n",
            "554/554 - 9s - loss: 0.4571 - accuracy: 0.7986 - val_loss: 0.4862 - val_accuracy: 0.7861 - 9s/epoch - 17ms/step\n",
            "Epoch 24/50\n",
            "554/554 - 9s - loss: 0.4556 - accuracy: 0.7966 - val_loss: 0.4951 - val_accuracy: 0.7859 - 9s/epoch - 16ms/step\n",
            "Epoch 25/50\n",
            "554/554 - 10s - loss: 0.4567 - accuracy: 0.8000 - val_loss: 0.4865 - val_accuracy: 0.7848 - 10s/epoch - 18ms/step\n",
            "Epoch 26/50\n",
            "554/554 - 10s - loss: 0.4564 - accuracy: 0.7992 - val_loss: 0.4840 - val_accuracy: 0.7897 - 10s/epoch - 17ms/step\n",
            "Epoch 27/50\n",
            "554/554 - 10s - loss: 0.4561 - accuracy: 0.8020 - val_loss: 0.4826 - val_accuracy: 0.7877 - 10s/epoch - 17ms/step\n",
            "Epoch 28/50\n",
            "554/554 - 9s - loss: 0.4555 - accuracy: 0.8002 - val_loss: 0.4867 - val_accuracy: 0.7834 - 9s/epoch - 16ms/step\n",
            "Epoch 29/50\n",
            "554/554 - 9s - loss: 0.4533 - accuracy: 0.8012 - val_loss: 0.4919 - val_accuracy: 0.7846 - 9s/epoch - 17ms/step\n",
            "Epoch 30/50\n",
            "554/554 - 9s - loss: 0.4520 - accuracy: 0.8035 - val_loss: 0.4882 - val_accuracy: 0.7852 - 9s/epoch - 17ms/step\n",
            "Epoch 31/50\n",
            "554/554 - 10s - loss: 0.4528 - accuracy: 0.8002 - val_loss: 0.4878 - val_accuracy: 0.7843 - 10s/epoch - 18ms/step\n",
            "Epoch 32/50\n",
            "554/554 - 9s - loss: 0.4520 - accuracy: 0.8003 - val_loss: 0.4871 - val_accuracy: 0.7846 - 9s/epoch - 15ms/step\n",
            "Epoch 33/50\n",
            "554/554 - 9s - loss: 0.4534 - accuracy: 0.8010 - val_loss: 0.4894 - val_accuracy: 0.7855 - 9s/epoch - 17ms/step\n",
            "Epoch 34/50\n",
            "554/554 - 9s - loss: 0.4513 - accuracy: 0.8032 - val_loss: 0.4906 - val_accuracy: 0.7836 - 9s/epoch - 17ms/step\n",
            "Epoch 35/50\n",
            "554/554 - 10s - loss: 0.4498 - accuracy: 0.8019 - val_loss: 0.4867 - val_accuracy: 0.7843 - 10s/epoch - 17ms/step\n",
            "Epoch 36/50\n",
            "554/554 - 9s - loss: 0.4482 - accuracy: 0.8045 - val_loss: 0.4889 - val_accuracy: 0.7884 - 9s/epoch - 17ms/step\n",
            "Epoch 37/50\n",
            "554/554 - 9s - loss: 0.4477 - accuracy: 0.8041 - val_loss: 0.4881 - val_accuracy: 0.7846 - 9s/epoch - 16ms/step\n",
            "Epoch 38/50\n",
            "554/554 - 9s - loss: 0.4462 - accuracy: 0.8021 - val_loss: 0.4881 - val_accuracy: 0.7886 - 9s/epoch - 17ms/step\n",
            "Epoch 39/50\n",
            "554/554 - 9s - loss: 0.4457 - accuracy: 0.8034 - val_loss: 0.4918 - val_accuracy: 0.7850 - 9s/epoch - 17ms/step\n",
            "Epoch 40/50\n",
            "554/554 - 11s - loss: 0.4437 - accuracy: 0.8041 - val_loss: 0.4829 - val_accuracy: 0.7882 - 11s/epoch - 19ms/step\n",
            "Epoch 41/50\n",
            "554/554 - 8s - loss: 0.4433 - accuracy: 0.8030 - val_loss: 0.4922 - val_accuracy: 0.7800 - 8s/epoch - 15ms/step\n",
            "Epoch 42/50\n",
            "554/554 - 9s - loss: 0.4420 - accuracy: 0.8069 - val_loss: 0.4893 - val_accuracy: 0.7870 - 9s/epoch - 17ms/step\n",
            "Epoch 43/50\n",
            "554/554 - 10s - loss: 0.4420 - accuracy: 0.8056 - val_loss: 0.4908 - val_accuracy: 0.7836 - 10s/epoch - 18ms/step\n",
            "Epoch 44/50\n",
            "554/554 - 10s - loss: 0.4400 - accuracy: 0.8060 - val_loss: 0.4827 - val_accuracy: 0.7916 - 10s/epoch - 18ms/step\n",
            "Epoch 45/50\n",
            "554/554 - 9s - loss: 0.4389 - accuracy: 0.8076 - val_loss: 0.4883 - val_accuracy: 0.7873 - 9s/epoch - 16ms/step\n",
            "Epoch 46/50\n",
            "554/554 - 11s - loss: 0.4377 - accuracy: 0.8082 - val_loss: 0.4868 - val_accuracy: 0.7857 - 11s/epoch - 19ms/step\n",
            "Epoch 47/50\n",
            "554/554 - 9s - loss: 0.4381 - accuracy: 0.8079 - val_loss: 0.4906 - val_accuracy: 0.7864 - 9s/epoch - 17ms/step\n",
            "Epoch 48/50\n",
            "554/554 - 9s - loss: 0.4367 - accuracy: 0.8073 - val_loss: 0.4877 - val_accuracy: 0.7877 - 9s/epoch - 17ms/step\n",
            "Epoch 49/50\n",
            "554/554 - 10s - loss: 0.4355 - accuracy: 0.8087 - val_loss: 0.4866 - val_accuracy: 0.7877 - 10s/epoch - 17ms/step\n",
            "Epoch 50/50\n",
            "554/554 - 9s - loss: 0.4354 - accuracy: 0.8100 - val_loss: 0.4853 - val_accuracy: 0.7814 - 9s/epoch - 16ms/step\n"
          ]
        },
        {
          "output_type": "execute_result",
          "data": {
            "text/plain": [
              "<keras.callbacks.History at 0x7a6ba41720b0>"
            ]
          },
          "metadata": {},
          "execution_count": 72
        }
      ]
    },
    {
      "cell_type": "code",
      "source": [
        "y_pred= (S_model.predict(X_test) > 0.5).astype(int)\n",
        "print(classification_report(y_test, y_pred))"
      ],
      "metadata": {
        "id": "682eZSmPCBgg",
        "colab": {
          "base_uri": "https://localhost:8080/"
        },
        "outputId": "167c8b77-5b25-4cc9-ac38-3bb04f80b5e8"
      },
      "execution_count": 73,
      "outputs": [
        {
          "output_type": "stream",
          "name": "stdout",
          "text": [
            "139/139 [==============================] - 1s 3ms/step\n",
            "              precision    recall  f1-score   support\n",
            "\n",
            "           0       0.61      0.30      0.40      1085\n",
            "           1       0.81      0.94      0.87      3343\n",
            "\n",
            "    accuracy                           0.78      4428\n",
            "   macro avg       0.71      0.62      0.64      4428\n",
            "weighted avg       0.76      0.78      0.75      4428\n",
            "\n"
          ]
        }
      ]
    },
    {
      "cell_type": "code",
      "source": [],
      "metadata": {
        "id": "TIKNwN5NCBjj"
      },
      "execution_count": null,
      "outputs": []
    }
  ]
}