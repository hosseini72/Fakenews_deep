{
  "nbformat": 4,
  "nbformat_minor": 0,
  "metadata": {
    "colab": {
      "provenance": [],
      "gpuType": "T4"
    },
    "kernelspec": {
      "name": "python3",
      "display_name": "Python 3"
    },
    "language_info": {
      "name": "python"
    },
    "accelerator": "GPU"
  },
  "cells": [
    {
      "cell_type": "code",
      "execution_count": 1,
      "metadata": {
        "id": "n8jI_MXV4S40"
      },
      "outputs": [],
      "source": [
        "import tensorflow as tf\n",
        "from tensorflow import keras\n",
        "import pandas as pd\n",
        "import numpy as np\n",
        "import os\n",
        "import matplotlib.pyplot as plt\n",
        "import time\n",
        "# preprocessing\n",
        "import re\n",
        "import string\n",
        "import nltk\n",
        "from nltk import  pos_tag\n",
        "from nltk.corpus import stopwords\n",
        "import nltk.stem as stemmer\n",
        "\n",
        "from sklearn.model_selection import train_test_split\n",
        "from gensim.models import Word2Vec\n",
        "\n",
        "\n",
        "from collections import Counter\n",
        "# Tokenizer\n",
        "from tensorflow.keras.preprocessing.text import Tokenizer\n",
        "from tensorflow.keras.preprocessing.sequence import pad_sequences\n",
        "from tensorflow.keras import layers\n",
        "from tensorflow.keras.metrics import Precision, Recall\n",
        "from sklearn.metrics import classification_report\n",
        "\n"
      ]
    },
    {
      "cell_type": "code",
      "source": [
        "#read data\n",
        "dataset= pd.read_csv('gossipcop_stp_fS_fe_stm.csv')\n",
        "dataset"
      ],
      "metadata": {
        "id": "5G2VPSGA42nP",
        "colab": {
          "base_uri": "https://localhost:8080/",
          "height": 424
        },
        "outputId": "3dd47f0d-5eb0-41d4-b9c9-e92646b9e2cb"
      },
      "execution_count": 2,
      "outputs": [
        {
          "output_type": "execute_result",
          "data": {
            "text/plain": [
              "                                                    news  polarity  source  \\\n",
              "0                                          donald glover      0.00       0   \n",
              "1      everything know kevin harts alleged extortion ...     -0.10       1   \n",
              "2      oscars memorable academy awards acceptance spe...      0.50       2   \n",
              "3      ariana grande arrives england manchester benef...      0.00       3   \n",
              "4      prince royce goes shirtless dancing underwear ...      0.25       4   \n",
              "...                                                  ...       ...     ...   \n",
              "19992    would thought kylie would successful kardashian      0.75     807   \n",
              "19993  beyonce shows flawless figure serena williams ...      1.00      34   \n",
              "19994  met gala katy perry flew kim kardashians nails la      0.00       1   \n",
              "19995  caitlyn jenner caught dinner date ex girlfrien...      0.00     185   \n",
              "19996  angelina jolie syrian refugee hunger strike vs...      0.00    1686   \n",
              "\n",
              "       label  \n",
              "0          1  \n",
              "1          0  \n",
              "2          1  \n",
              "3          1  \n",
              "4          1  \n",
              "...      ...  \n",
              "19992      0  \n",
              "19993      1  \n",
              "19994      1  \n",
              "19995      0  \n",
              "19996      0  \n",
              "\n",
              "[19997 rows x 4 columns]"
            ],
            "text/html": [
              "\n",
              "  <div id=\"df-0cf8d1e0-9249-4451-86cf-681c96bab67c\" class=\"colab-df-container\">\n",
              "    <div>\n",
              "<style scoped>\n",
              "    .dataframe tbody tr th:only-of-type {\n",
              "        vertical-align: middle;\n",
              "    }\n",
              "\n",
              "    .dataframe tbody tr th {\n",
              "        vertical-align: top;\n",
              "    }\n",
              "\n",
              "    .dataframe thead th {\n",
              "        text-align: right;\n",
              "    }\n",
              "</style>\n",
              "<table border=\"1\" class=\"dataframe\">\n",
              "  <thead>\n",
              "    <tr style=\"text-align: right;\">\n",
              "      <th></th>\n",
              "      <th>news</th>\n",
              "      <th>polarity</th>\n",
              "      <th>source</th>\n",
              "      <th>label</th>\n",
              "    </tr>\n",
              "  </thead>\n",
              "  <tbody>\n",
              "    <tr>\n",
              "      <th>0</th>\n",
              "      <td>donald glover</td>\n",
              "      <td>0.00</td>\n",
              "      <td>0</td>\n",
              "      <td>1</td>\n",
              "    </tr>\n",
              "    <tr>\n",
              "      <th>1</th>\n",
              "      <td>everything know kevin harts alleged extortion ...</td>\n",
              "      <td>-0.10</td>\n",
              "      <td>1</td>\n",
              "      <td>0</td>\n",
              "    </tr>\n",
              "    <tr>\n",
              "      <th>2</th>\n",
              "      <td>oscars memorable academy awards acceptance spe...</td>\n",
              "      <td>0.50</td>\n",
              "      <td>2</td>\n",
              "      <td>1</td>\n",
              "    </tr>\n",
              "    <tr>\n",
              "      <th>3</th>\n",
              "      <td>ariana grande arrives england manchester benef...</td>\n",
              "      <td>0.00</td>\n",
              "      <td>3</td>\n",
              "      <td>1</td>\n",
              "    </tr>\n",
              "    <tr>\n",
              "      <th>4</th>\n",
              "      <td>prince royce goes shirtless dancing underwear ...</td>\n",
              "      <td>0.25</td>\n",
              "      <td>4</td>\n",
              "      <td>1</td>\n",
              "    </tr>\n",
              "    <tr>\n",
              "      <th>...</th>\n",
              "      <td>...</td>\n",
              "      <td>...</td>\n",
              "      <td>...</td>\n",
              "      <td>...</td>\n",
              "    </tr>\n",
              "    <tr>\n",
              "      <th>19992</th>\n",
              "      <td>would thought kylie would successful kardashian</td>\n",
              "      <td>0.75</td>\n",
              "      <td>807</td>\n",
              "      <td>0</td>\n",
              "    </tr>\n",
              "    <tr>\n",
              "      <th>19993</th>\n",
              "      <td>beyonce shows flawless figure serena williams ...</td>\n",
              "      <td>1.00</td>\n",
              "      <td>34</td>\n",
              "      <td>1</td>\n",
              "    </tr>\n",
              "    <tr>\n",
              "      <th>19994</th>\n",
              "      <td>met gala katy perry flew kim kardashians nails la</td>\n",
              "      <td>0.00</td>\n",
              "      <td>1</td>\n",
              "      <td>1</td>\n",
              "    </tr>\n",
              "    <tr>\n",
              "      <th>19995</th>\n",
              "      <td>caitlyn jenner caught dinner date ex girlfrien...</td>\n",
              "      <td>0.00</td>\n",
              "      <td>185</td>\n",
              "      <td>0</td>\n",
              "    </tr>\n",
              "    <tr>\n",
              "      <th>19996</th>\n",
              "      <td>angelina jolie syrian refugee hunger strike vs...</td>\n",
              "      <td>0.00</td>\n",
              "      <td>1686</td>\n",
              "      <td>0</td>\n",
              "    </tr>\n",
              "  </tbody>\n",
              "</table>\n",
              "<p>19997 rows × 4 columns</p>\n",
              "</div>\n",
              "    <div class=\"colab-df-buttons\">\n",
              "\n",
              "  <div class=\"colab-df-container\">\n",
              "    <button class=\"colab-df-convert\" onclick=\"convertToInteractive('df-0cf8d1e0-9249-4451-86cf-681c96bab67c')\"\n",
              "            title=\"Convert this dataframe to an interactive table.\"\n",
              "            style=\"display:none;\">\n",
              "\n",
              "  <svg xmlns=\"http://www.w3.org/2000/svg\" height=\"24px\" viewBox=\"0 -960 960 960\">\n",
              "    <path d=\"M120-120v-720h720v720H120Zm60-500h600v-160H180v160Zm220 220h160v-160H400v160Zm0 220h160v-160H400v160ZM180-400h160v-160H180v160Zm440 0h160v-160H620v160ZM180-180h160v-160H180v160Zm440 0h160v-160H620v160Z\"/>\n",
              "  </svg>\n",
              "    </button>\n",
              "\n",
              "  <style>\n",
              "    .colab-df-container {\n",
              "      display:flex;\n",
              "      gap: 12px;\n",
              "    }\n",
              "\n",
              "    .colab-df-convert {\n",
              "      background-color: #E8F0FE;\n",
              "      border: none;\n",
              "      border-radius: 50%;\n",
              "      cursor: pointer;\n",
              "      display: none;\n",
              "      fill: #1967D2;\n",
              "      height: 32px;\n",
              "      padding: 0 0 0 0;\n",
              "      width: 32px;\n",
              "    }\n",
              "\n",
              "    .colab-df-convert:hover {\n",
              "      background-color: #E2EBFA;\n",
              "      box-shadow: 0px 1px 2px rgba(60, 64, 67, 0.3), 0px 1px 3px 1px rgba(60, 64, 67, 0.15);\n",
              "      fill: #174EA6;\n",
              "    }\n",
              "\n",
              "    .colab-df-buttons div {\n",
              "      margin-bottom: 4px;\n",
              "    }\n",
              "\n",
              "    [theme=dark] .colab-df-convert {\n",
              "      background-color: #3B4455;\n",
              "      fill: #D2E3FC;\n",
              "    }\n",
              "\n",
              "    [theme=dark] .colab-df-convert:hover {\n",
              "      background-color: #434B5C;\n",
              "      box-shadow: 0px 1px 3px 1px rgba(0, 0, 0, 0.15);\n",
              "      filter: drop-shadow(0px 1px 2px rgba(0, 0, 0, 0.3));\n",
              "      fill: #FFFFFF;\n",
              "    }\n",
              "  </style>\n",
              "\n",
              "    <script>\n",
              "      const buttonEl =\n",
              "        document.querySelector('#df-0cf8d1e0-9249-4451-86cf-681c96bab67c button.colab-df-convert');\n",
              "      buttonEl.style.display =\n",
              "        google.colab.kernel.accessAllowed ? 'block' : 'none';\n",
              "\n",
              "      async function convertToInteractive(key) {\n",
              "        const element = document.querySelector('#df-0cf8d1e0-9249-4451-86cf-681c96bab67c');\n",
              "        const dataTable =\n",
              "          await google.colab.kernel.invokeFunction('convertToInteractive',\n",
              "                                                    [key], {});\n",
              "        if (!dataTable) return;\n",
              "\n",
              "        const docLinkHtml = 'Like what you see? Visit the ' +\n",
              "          '<a target=\"_blank\" href=https://colab.research.google.com/notebooks/data_table.ipynb>data table notebook</a>'\n",
              "          + ' to learn more about interactive tables.';\n",
              "        element.innerHTML = '';\n",
              "        dataTable['output_type'] = 'display_data';\n",
              "        await google.colab.output.renderOutput(dataTable, element);\n",
              "        const docLink = document.createElement('div');\n",
              "        docLink.innerHTML = docLinkHtml;\n",
              "        element.appendChild(docLink);\n",
              "      }\n",
              "    </script>\n",
              "  </div>\n",
              "\n",
              "\n",
              "<div id=\"df-780fb38a-a1f2-4a59-9959-0e43e1a75168\">\n",
              "  <button class=\"colab-df-quickchart\" onclick=\"quickchart('df-780fb38a-a1f2-4a59-9959-0e43e1a75168')\"\n",
              "            title=\"Suggest charts.\"\n",
              "            style=\"display:none;\">\n",
              "\n",
              "<svg xmlns=\"http://www.w3.org/2000/svg\" height=\"24px\"viewBox=\"0 0 24 24\"\n",
              "     width=\"24px\">\n",
              "    <g>\n",
              "        <path d=\"M19 3H5c-1.1 0-2 .9-2 2v14c0 1.1.9 2 2 2h14c1.1 0 2-.9 2-2V5c0-1.1-.9-2-2-2zM9 17H7v-7h2v7zm4 0h-2V7h2v10zm4 0h-2v-4h2v4z\"/>\n",
              "    </g>\n",
              "</svg>\n",
              "  </button>\n",
              "\n",
              "<style>\n",
              "  .colab-df-quickchart {\n",
              "    background-color: #E8F0FE;\n",
              "    border: none;\n",
              "    border-radius: 50%;\n",
              "    cursor: pointer;\n",
              "    display: none;\n",
              "    fill: #1967D2;\n",
              "    height: 32px;\n",
              "    padding: 0 0 0 0;\n",
              "    width: 32px;\n",
              "  }\n",
              "\n",
              "  .colab-df-quickchart:hover {\n",
              "    background-color: #E2EBFA;\n",
              "    box-shadow: 0px 1px 2px rgba(60, 64, 67, 0.3), 0px 1px 3px 1px rgba(60, 64, 67, 0.15);\n",
              "    fill: #174EA6;\n",
              "  }\n",
              "\n",
              "  [theme=dark] .colab-df-quickchart {\n",
              "    background-color: #3B4455;\n",
              "    fill: #D2E3FC;\n",
              "  }\n",
              "\n",
              "  [theme=dark] .colab-df-quickchart:hover {\n",
              "    background-color: #434B5C;\n",
              "    box-shadow: 0px 1px 3px 1px rgba(0, 0, 0, 0.15);\n",
              "    filter: drop-shadow(0px 1px 2px rgba(0, 0, 0, 0.3));\n",
              "    fill: #FFFFFF;\n",
              "  }\n",
              "</style>\n",
              "\n",
              "  <script>\n",
              "    async function quickchart(key) {\n",
              "      const charts = await google.colab.kernel.invokeFunction(\n",
              "          'suggestCharts', [key], {});\n",
              "    }\n",
              "    (() => {\n",
              "      let quickchartButtonEl =\n",
              "        document.querySelector('#df-780fb38a-a1f2-4a59-9959-0e43e1a75168 button');\n",
              "      quickchartButtonEl.style.display =\n",
              "        google.colab.kernel.accessAllowed ? 'block' : 'none';\n",
              "    })();\n",
              "  </script>\n",
              "</div>\n",
              "    </div>\n",
              "  </div>\n"
            ]
          },
          "metadata": {},
          "execution_count": 2
        }
      ]
    },
    {
      "cell_type": "code",
      "source": [
        "print((dataset.label == 1).sum()) # real news number\n",
        "print((dataset.label == 0).sum()) # fake news number"
      ],
      "metadata": {
        "colab": {
          "base_uri": "https://localhost:8080/"
        },
        "id": "yhbOQIbOHu2c",
        "outputId": "c7e17151-a857-47be-86f0-fb142ae74866"
      },
      "execution_count": 3,
      "outputs": [
        {
          "output_type": "stream",
          "name": "stdout",
          "text": [
            "15167\n",
            "4830\n"
          ]
        }
      ]
    },
    {
      "cell_type": "code",
      "source": [
        "#rename the title column to news\n",
        "dataset.rename(columns= {'title': 'news'}, inplace= True)"
      ],
      "metadata": {
        "id": "4B746I0dHxrS"
      },
      "execution_count": 4,
      "outputs": []
    },
    {
      "cell_type": "code",
      "source": [
        "df= dataset[['news']]\n",
        "label= dataset[['label']]\n",
        "other_features= dataset.drop(['news', 'label'], axis= 1)\n",
        "df.head(3)"
      ],
      "metadata": {
        "id": "cXViQE-GifxK",
        "colab": {
          "base_uri": "https://localhost:8080/",
          "height": 143
        },
        "outputId": "cb408ccf-07e8-48b5-8201-3427b78890ec"
      },
      "execution_count": 5,
      "outputs": [
        {
          "output_type": "execute_result",
          "data": {
            "text/plain": [
              "                                                news\n",
              "0                                      donald glover\n",
              "1  everything know kevin harts alleged extortion ...\n",
              "2  oscars memorable academy awards acceptance spe..."
            ],
            "text/html": [
              "\n",
              "  <div id=\"df-b53df941-1309-4ee1-b364-7a4245f99ef3\" class=\"colab-df-container\">\n",
              "    <div>\n",
              "<style scoped>\n",
              "    .dataframe tbody tr th:only-of-type {\n",
              "        vertical-align: middle;\n",
              "    }\n",
              "\n",
              "    .dataframe tbody tr th {\n",
              "        vertical-align: top;\n",
              "    }\n",
              "\n",
              "    .dataframe thead th {\n",
              "        text-align: right;\n",
              "    }\n",
              "</style>\n",
              "<table border=\"1\" class=\"dataframe\">\n",
              "  <thead>\n",
              "    <tr style=\"text-align: right;\">\n",
              "      <th></th>\n",
              "      <th>news</th>\n",
              "    </tr>\n",
              "  </thead>\n",
              "  <tbody>\n",
              "    <tr>\n",
              "      <th>0</th>\n",
              "      <td>donald glover</td>\n",
              "    </tr>\n",
              "    <tr>\n",
              "      <th>1</th>\n",
              "      <td>everything know kevin harts alleged extortion ...</td>\n",
              "    </tr>\n",
              "    <tr>\n",
              "      <th>2</th>\n",
              "      <td>oscars memorable academy awards acceptance spe...</td>\n",
              "    </tr>\n",
              "  </tbody>\n",
              "</table>\n",
              "</div>\n",
              "    <div class=\"colab-df-buttons\">\n",
              "\n",
              "  <div class=\"colab-df-container\">\n",
              "    <button class=\"colab-df-convert\" onclick=\"convertToInteractive('df-b53df941-1309-4ee1-b364-7a4245f99ef3')\"\n",
              "            title=\"Convert this dataframe to an interactive table.\"\n",
              "            style=\"display:none;\">\n",
              "\n",
              "  <svg xmlns=\"http://www.w3.org/2000/svg\" height=\"24px\" viewBox=\"0 -960 960 960\">\n",
              "    <path d=\"M120-120v-720h720v720H120Zm60-500h600v-160H180v160Zm220 220h160v-160H400v160Zm0 220h160v-160H400v160ZM180-400h160v-160H180v160Zm440 0h160v-160H620v160ZM180-180h160v-160H180v160Zm440 0h160v-160H620v160Z\"/>\n",
              "  </svg>\n",
              "    </button>\n",
              "\n",
              "  <style>\n",
              "    .colab-df-container {\n",
              "      display:flex;\n",
              "      gap: 12px;\n",
              "    }\n",
              "\n",
              "    .colab-df-convert {\n",
              "      background-color: #E8F0FE;\n",
              "      border: none;\n",
              "      border-radius: 50%;\n",
              "      cursor: pointer;\n",
              "      display: none;\n",
              "      fill: #1967D2;\n",
              "      height: 32px;\n",
              "      padding: 0 0 0 0;\n",
              "      width: 32px;\n",
              "    }\n",
              "\n",
              "    .colab-df-convert:hover {\n",
              "      background-color: #E2EBFA;\n",
              "      box-shadow: 0px 1px 2px rgba(60, 64, 67, 0.3), 0px 1px 3px 1px rgba(60, 64, 67, 0.15);\n",
              "      fill: #174EA6;\n",
              "    }\n",
              "\n",
              "    .colab-df-buttons div {\n",
              "      margin-bottom: 4px;\n",
              "    }\n",
              "\n",
              "    [theme=dark] .colab-df-convert {\n",
              "      background-color: #3B4455;\n",
              "      fill: #D2E3FC;\n",
              "    }\n",
              "\n",
              "    [theme=dark] .colab-df-convert:hover {\n",
              "      background-color: #434B5C;\n",
              "      box-shadow: 0px 1px 3px 1px rgba(0, 0, 0, 0.15);\n",
              "      filter: drop-shadow(0px 1px 2px rgba(0, 0, 0, 0.3));\n",
              "      fill: #FFFFFF;\n",
              "    }\n",
              "  </style>\n",
              "\n",
              "    <script>\n",
              "      const buttonEl =\n",
              "        document.querySelector('#df-b53df941-1309-4ee1-b364-7a4245f99ef3 button.colab-df-convert');\n",
              "      buttonEl.style.display =\n",
              "        google.colab.kernel.accessAllowed ? 'block' : 'none';\n",
              "\n",
              "      async function convertToInteractive(key) {\n",
              "        const element = document.querySelector('#df-b53df941-1309-4ee1-b364-7a4245f99ef3');\n",
              "        const dataTable =\n",
              "          await google.colab.kernel.invokeFunction('convertToInteractive',\n",
              "                                                    [key], {});\n",
              "        if (!dataTable) return;\n",
              "\n",
              "        const docLinkHtml = 'Like what you see? Visit the ' +\n",
              "          '<a target=\"_blank\" href=https://colab.research.google.com/notebooks/data_table.ipynb>data table notebook</a>'\n",
              "          + ' to learn more about interactive tables.';\n",
              "        element.innerHTML = '';\n",
              "        dataTable['output_type'] = 'display_data';\n",
              "        await google.colab.output.renderOutput(dataTable, element);\n",
              "        const docLink = document.createElement('div');\n",
              "        docLink.innerHTML = docLinkHtml;\n",
              "        element.appendChild(docLink);\n",
              "      }\n",
              "    </script>\n",
              "  </div>\n",
              "\n",
              "\n",
              "<div id=\"df-1417ced3-14d3-41e6-9985-2815a0ac3d93\">\n",
              "  <button class=\"colab-df-quickchart\" onclick=\"quickchart('df-1417ced3-14d3-41e6-9985-2815a0ac3d93')\"\n",
              "            title=\"Suggest charts.\"\n",
              "            style=\"display:none;\">\n",
              "\n",
              "<svg xmlns=\"http://www.w3.org/2000/svg\" height=\"24px\"viewBox=\"0 0 24 24\"\n",
              "     width=\"24px\">\n",
              "    <g>\n",
              "        <path d=\"M19 3H5c-1.1 0-2 .9-2 2v14c0 1.1.9 2 2 2h14c1.1 0 2-.9 2-2V5c0-1.1-.9-2-2-2zM9 17H7v-7h2v7zm4 0h-2V7h2v10zm4 0h-2v-4h2v4z\"/>\n",
              "    </g>\n",
              "</svg>\n",
              "  </button>\n",
              "\n",
              "<style>\n",
              "  .colab-df-quickchart {\n",
              "    background-color: #E8F0FE;\n",
              "    border: none;\n",
              "    border-radius: 50%;\n",
              "    cursor: pointer;\n",
              "    display: none;\n",
              "    fill: #1967D2;\n",
              "    height: 32px;\n",
              "    padding: 0 0 0 0;\n",
              "    width: 32px;\n",
              "  }\n",
              "\n",
              "  .colab-df-quickchart:hover {\n",
              "    background-color: #E2EBFA;\n",
              "    box-shadow: 0px 1px 2px rgba(60, 64, 67, 0.3), 0px 1px 3px 1px rgba(60, 64, 67, 0.15);\n",
              "    fill: #174EA6;\n",
              "  }\n",
              "\n",
              "  [theme=dark] .colab-df-quickchart {\n",
              "    background-color: #3B4455;\n",
              "    fill: #D2E3FC;\n",
              "  }\n",
              "\n",
              "  [theme=dark] .colab-df-quickchart:hover {\n",
              "    background-color: #434B5C;\n",
              "    box-shadow: 0px 1px 3px 1px rgba(0, 0, 0, 0.15);\n",
              "    filter: drop-shadow(0px 1px 2px rgba(0, 0, 0, 0.3));\n",
              "    fill: #FFFFFF;\n",
              "  }\n",
              "</style>\n",
              "\n",
              "  <script>\n",
              "    async function quickchart(key) {\n",
              "      const charts = await google.colab.kernel.invokeFunction(\n",
              "          'suggestCharts', [key], {});\n",
              "    }\n",
              "    (() => {\n",
              "      let quickchartButtonEl =\n",
              "        document.querySelector('#df-1417ced3-14d3-41e6-9985-2815a0ac3d93 button');\n",
              "      quickchartButtonEl.style.display =\n",
              "        google.colab.kernel.accessAllowed ? 'block' : 'none';\n",
              "    })();\n",
              "  </script>\n",
              "</div>\n",
              "    </div>\n",
              "  </div>\n"
            ]
          },
          "metadata": {},
          "execution_count": 5
        }
      ]
    },
    {
      "cell_type": "code",
      "source": [
        "# cleanning dataset"
      ],
      "metadata": {
        "id": "D8ucKYFGJKvg"
      },
      "execution_count": 6,
      "outputs": []
    },
    {
      "cell_type": "code",
      "source": [
        "def remove_URL(text):\n",
        "  url= re.compile(r'https?://\\S+|www\\.|S+')\n",
        "  return url.sub(r\"\", text)"
      ],
      "metadata": {
        "id": "RCtVRiRE4-QA"
      },
      "execution_count": 7,
      "outputs": []
    },
    {
      "cell_type": "code",
      "source": [
        "def remove_punctuation(text):\n",
        "  trnsltr= str.maketrans(\"\",\"\", string.punctuation)\n",
        "  return text.translate(trnsltr)"
      ],
      "metadata": {
        "id": "dNcQOzRl4-ql"
      },
      "execution_count": 8,
      "outputs": []
    },
    {
      "cell_type": "code",
      "source": [
        "df['news']= df.news.map(remove_punctuation)\n",
        "df['news']= df.news.map(remove_URL)"
      ],
      "metadata": {
        "id": "Z8SW5aVK4-tF",
        "colab": {
          "base_uri": "https://localhost:8080/"
        },
        "outputId": "13d4f205-0191-4e22-82ef-d3d092f545a6"
      },
      "execution_count": 9,
      "outputs": [
        {
          "output_type": "stream",
          "name": "stderr",
          "text": [
            "<ipython-input-9-a35a6abdf14c>:1: SettingWithCopyWarning: \n",
            "A value is trying to be set on a copy of a slice from a DataFrame.\n",
            "Try using .loc[row_indexer,col_indexer] = value instead\n",
            "\n",
            "See the caveats in the documentation: https://pandas.pydata.org/pandas-docs/stable/user_guide/indexing.html#returning-a-view-versus-a-copy\n",
            "  df['news']= df.news.map(remove_punctuation)\n",
            "<ipython-input-9-a35a6abdf14c>:2: SettingWithCopyWarning: \n",
            "A value is trying to be set on a copy of a slice from a DataFrame.\n",
            "Try using .loc[row_indexer,col_indexer] = value instead\n",
            "\n",
            "See the caveats in the documentation: https://pandas.pydata.org/pandas-docs/stable/user_guide/indexing.html#returning-a-view-versus-a-copy\n",
            "  df['news']= df.news.map(remove_URL)\n"
          ]
        }
      ]
    },
    {
      "cell_type": "code",
      "source": [
        "#remove stop words"
      ],
      "metadata": {
        "id": "Kf7oNETu4-vq"
      },
      "execution_count": 10,
      "outputs": []
    },
    {
      "cell_type": "code",
      "source": [
        "nltk.download('stopwords')\n",
        "stop= set(stopwords.words(\"english\"))\n",
        "def remove_stopwords(text):\n",
        "  result= [word.lower() for word in text.split() if word.lower() not in stop]\n",
        "  return ' '.join(result)\n"
      ],
      "metadata": {
        "id": "4m5pteo0KHq_",
        "colab": {
          "base_uri": "https://localhost:8080/"
        },
        "outputId": "cf463c17-e2ff-43f6-f398-ba97ca4901f6"
      },
      "execution_count": 11,
      "outputs": [
        {
          "output_type": "stream",
          "name": "stderr",
          "text": [
            "[nltk_data] Downloading package stopwords to /root/nltk_data...\n",
            "[nltk_data]   Package stopwords is already up-to-date!\n"
          ]
        }
      ]
    },
    {
      "cell_type": "code",
      "source": [
        "df['news']= df.news.map(remove_stopwords)"
      ],
      "metadata": {
        "id": "OPldIi3eKyTw",
        "colab": {
          "base_uri": "https://localhost:8080/"
        },
        "outputId": "b79fe363-a446-4fbc-8f6f-e400a54af7f6"
      },
      "execution_count": 12,
      "outputs": [
        {
          "output_type": "stream",
          "name": "stderr",
          "text": [
            "<ipython-input-12-b1b16693267d>:1: SettingWithCopyWarning: \n",
            "A value is trying to be set on a copy of a slice from a DataFrame.\n",
            "Try using .loc[row_indexer,col_indexer] = value instead\n",
            "\n",
            "See the caveats in the documentation: https://pandas.pydata.org/pandas-docs/stable/user_guide/indexing.html#returning-a-view-versus-a-copy\n",
            "  df['news']= df.news.map(remove_stopwords)\n"
          ]
        }
      ]
    },
    {
      "cell_type": "code",
      "source": [
        "nltk.download('averaged_perceptron_tagger')\n"
      ],
      "metadata": {
        "colab": {
          "base_uri": "https://localhost:8080/"
        },
        "id": "_nE3seq87y_k",
        "outputId": "ffd14b86-0359-4d32-97c8-2227d8ab51e6"
      },
      "execution_count": 13,
      "outputs": [
        {
          "output_type": "stream",
          "name": "stderr",
          "text": [
            "[nltk_data] Downloading package averaged_perceptron_tagger to\n",
            "[nltk_data]     /root/nltk_data...\n",
            "[nltk_data]   Package averaged_perceptron_tagger is already up-to-\n",
            "[nltk_data]       date!\n"
          ]
        },
        {
          "output_type": "execute_result",
          "data": {
            "text/plain": [
              "True"
            ]
          },
          "metadata": {},
          "execution_count": 13
        }
      ]
    },
    {
      "cell_type": "code",
      "source": [
        "from nltk.stem import *\n",
        "from nltk.stem.porter import *\n",
        "stemmer = PorterStemmer()\n",
        "\n",
        "pos= pos_tag(df['news'])\n",
        "df['news'] = [stemmer.stem(tagged_word[0]) for tagged_word in pos]\n",
        "\n"
      ],
      "metadata": {
        "id": "t71s3CTz7haq",
        "colab": {
          "base_uri": "https://localhost:8080/"
        },
        "outputId": "a86e743a-c723-41dc-8fdf-a2286590b48e"
      },
      "execution_count": 14,
      "outputs": [
        {
          "output_type": "stream",
          "name": "stderr",
          "text": [
            "<ipython-input-14-75a18c877c3d>:6: SettingWithCopyWarning: \n",
            "A value is trying to be set on a copy of a slice from a DataFrame.\n",
            "Try using .loc[row_indexer,col_indexer] = value instead\n",
            "\n",
            "See the caveats in the documentation: https://pandas.pydata.org/pandas-docs/stable/user_guide/indexing.html#returning-a-view-versus-a-copy\n",
            "  df['news'] = [stemmer.stem(tagged_word[0]) for tagged_word in pos]\n"
          ]
        }
      ]
    },
    {
      "cell_type": "code",
      "source": [
        "df"
      ],
      "metadata": {
        "colab": {
          "base_uri": "https://localhost:8080/",
          "height": 424
        },
        "id": "j02d3pNlKyjt",
        "outputId": "f046d7fe-cfe5-4557-919d-981c082c4fd3"
      },
      "execution_count": 15,
      "outputs": [
        {
          "output_type": "execute_result",
          "data": {
            "text/plain": [
              "                                                    news\n",
              "0                                            donald glov\n",
              "1      everything know kevin harts alleged extortion ...\n",
              "2      oscars memorable academy awards acceptance speech\n",
              "3      ariana grande arrives england manchester benef...\n",
              "4      prince royce goes shirtless dancing underwear ...\n",
              "...                                                  ...\n",
              "19992    would thought kylie would successful kardashian\n",
              "19993  beyonce shows flawless figure serena williams wed\n",
              "19994  met gala katy perry flew kim kardashians nails la\n",
              "19995  caitlyn jenner caught dinner date ex girlfrien...\n",
              "19996  angelina jolie syrian refugee hunger strike vs...\n",
              "\n",
              "[19997 rows x 1 columns]"
            ],
            "text/html": [
              "\n",
              "  <div id=\"df-c9e57f71-3a84-4d6c-8097-9ec0e055713a\" class=\"colab-df-container\">\n",
              "    <div>\n",
              "<style scoped>\n",
              "    .dataframe tbody tr th:only-of-type {\n",
              "        vertical-align: middle;\n",
              "    }\n",
              "\n",
              "    .dataframe tbody tr th {\n",
              "        vertical-align: top;\n",
              "    }\n",
              "\n",
              "    .dataframe thead th {\n",
              "        text-align: right;\n",
              "    }\n",
              "</style>\n",
              "<table border=\"1\" class=\"dataframe\">\n",
              "  <thead>\n",
              "    <tr style=\"text-align: right;\">\n",
              "      <th></th>\n",
              "      <th>news</th>\n",
              "    </tr>\n",
              "  </thead>\n",
              "  <tbody>\n",
              "    <tr>\n",
              "      <th>0</th>\n",
              "      <td>donald glov</td>\n",
              "    </tr>\n",
              "    <tr>\n",
              "      <th>1</th>\n",
              "      <td>everything know kevin harts alleged extortion ...</td>\n",
              "    </tr>\n",
              "    <tr>\n",
              "      <th>2</th>\n",
              "      <td>oscars memorable academy awards acceptance speech</td>\n",
              "    </tr>\n",
              "    <tr>\n",
              "      <th>3</th>\n",
              "      <td>ariana grande arrives england manchester benef...</td>\n",
              "    </tr>\n",
              "    <tr>\n",
              "      <th>4</th>\n",
              "      <td>prince royce goes shirtless dancing underwear ...</td>\n",
              "    </tr>\n",
              "    <tr>\n",
              "      <th>...</th>\n",
              "      <td>...</td>\n",
              "    </tr>\n",
              "    <tr>\n",
              "      <th>19992</th>\n",
              "      <td>would thought kylie would successful kardashian</td>\n",
              "    </tr>\n",
              "    <tr>\n",
              "      <th>19993</th>\n",
              "      <td>beyonce shows flawless figure serena williams wed</td>\n",
              "    </tr>\n",
              "    <tr>\n",
              "      <th>19994</th>\n",
              "      <td>met gala katy perry flew kim kardashians nails la</td>\n",
              "    </tr>\n",
              "    <tr>\n",
              "      <th>19995</th>\n",
              "      <td>caitlyn jenner caught dinner date ex girlfrien...</td>\n",
              "    </tr>\n",
              "    <tr>\n",
              "      <th>19996</th>\n",
              "      <td>angelina jolie syrian refugee hunger strike vs...</td>\n",
              "    </tr>\n",
              "  </tbody>\n",
              "</table>\n",
              "<p>19997 rows × 1 columns</p>\n",
              "</div>\n",
              "    <div class=\"colab-df-buttons\">\n",
              "\n",
              "  <div class=\"colab-df-container\">\n",
              "    <button class=\"colab-df-convert\" onclick=\"convertToInteractive('df-c9e57f71-3a84-4d6c-8097-9ec0e055713a')\"\n",
              "            title=\"Convert this dataframe to an interactive table.\"\n",
              "            style=\"display:none;\">\n",
              "\n",
              "  <svg xmlns=\"http://www.w3.org/2000/svg\" height=\"24px\" viewBox=\"0 -960 960 960\">\n",
              "    <path d=\"M120-120v-720h720v720H120Zm60-500h600v-160H180v160Zm220 220h160v-160H400v160Zm0 220h160v-160H400v160ZM180-400h160v-160H180v160Zm440 0h160v-160H620v160ZM180-180h160v-160H180v160Zm440 0h160v-160H620v160Z\"/>\n",
              "  </svg>\n",
              "    </button>\n",
              "\n",
              "  <style>\n",
              "    .colab-df-container {\n",
              "      display:flex;\n",
              "      gap: 12px;\n",
              "    }\n",
              "\n",
              "    .colab-df-convert {\n",
              "      background-color: #E8F0FE;\n",
              "      border: none;\n",
              "      border-radius: 50%;\n",
              "      cursor: pointer;\n",
              "      display: none;\n",
              "      fill: #1967D2;\n",
              "      height: 32px;\n",
              "      padding: 0 0 0 0;\n",
              "      width: 32px;\n",
              "    }\n",
              "\n",
              "    .colab-df-convert:hover {\n",
              "      background-color: #E2EBFA;\n",
              "      box-shadow: 0px 1px 2px rgba(60, 64, 67, 0.3), 0px 1px 3px 1px rgba(60, 64, 67, 0.15);\n",
              "      fill: #174EA6;\n",
              "    }\n",
              "\n",
              "    .colab-df-buttons div {\n",
              "      margin-bottom: 4px;\n",
              "    }\n",
              "\n",
              "    [theme=dark] .colab-df-convert {\n",
              "      background-color: #3B4455;\n",
              "      fill: #D2E3FC;\n",
              "    }\n",
              "\n",
              "    [theme=dark] .colab-df-convert:hover {\n",
              "      background-color: #434B5C;\n",
              "      box-shadow: 0px 1px 3px 1px rgba(0, 0, 0, 0.15);\n",
              "      filter: drop-shadow(0px 1px 2px rgba(0, 0, 0, 0.3));\n",
              "      fill: #FFFFFF;\n",
              "    }\n",
              "  </style>\n",
              "\n",
              "    <script>\n",
              "      const buttonEl =\n",
              "        document.querySelector('#df-c9e57f71-3a84-4d6c-8097-9ec0e055713a button.colab-df-convert');\n",
              "      buttonEl.style.display =\n",
              "        google.colab.kernel.accessAllowed ? 'block' : 'none';\n",
              "\n",
              "      async function convertToInteractive(key) {\n",
              "        const element = document.querySelector('#df-c9e57f71-3a84-4d6c-8097-9ec0e055713a');\n",
              "        const dataTable =\n",
              "          await google.colab.kernel.invokeFunction('convertToInteractive',\n",
              "                                                    [key], {});\n",
              "        if (!dataTable) return;\n",
              "\n",
              "        const docLinkHtml = 'Like what you see? Visit the ' +\n",
              "          '<a target=\"_blank\" href=https://colab.research.google.com/notebooks/data_table.ipynb>data table notebook</a>'\n",
              "          + ' to learn more about interactive tables.';\n",
              "        element.innerHTML = '';\n",
              "        dataTable['output_type'] = 'display_data';\n",
              "        await google.colab.output.renderOutput(dataTable, element);\n",
              "        const docLink = document.createElement('div');\n",
              "        docLink.innerHTML = docLinkHtml;\n",
              "        element.appendChild(docLink);\n",
              "      }\n",
              "    </script>\n",
              "  </div>\n",
              "\n",
              "\n",
              "<div id=\"df-13be15a6-8262-4314-b51a-104f10e95c2e\">\n",
              "  <button class=\"colab-df-quickchart\" onclick=\"quickchart('df-13be15a6-8262-4314-b51a-104f10e95c2e')\"\n",
              "            title=\"Suggest charts.\"\n",
              "            style=\"display:none;\">\n",
              "\n",
              "<svg xmlns=\"http://www.w3.org/2000/svg\" height=\"24px\"viewBox=\"0 0 24 24\"\n",
              "     width=\"24px\">\n",
              "    <g>\n",
              "        <path d=\"M19 3H5c-1.1 0-2 .9-2 2v14c0 1.1.9 2 2 2h14c1.1 0 2-.9 2-2V5c0-1.1-.9-2-2-2zM9 17H7v-7h2v7zm4 0h-2V7h2v10zm4 0h-2v-4h2v4z\"/>\n",
              "    </g>\n",
              "</svg>\n",
              "  </button>\n",
              "\n",
              "<style>\n",
              "  .colab-df-quickchart {\n",
              "    background-color: #E8F0FE;\n",
              "    border: none;\n",
              "    border-radius: 50%;\n",
              "    cursor: pointer;\n",
              "    display: none;\n",
              "    fill: #1967D2;\n",
              "    height: 32px;\n",
              "    padding: 0 0 0 0;\n",
              "    width: 32px;\n",
              "  }\n",
              "\n",
              "  .colab-df-quickchart:hover {\n",
              "    background-color: #E2EBFA;\n",
              "    box-shadow: 0px 1px 2px rgba(60, 64, 67, 0.3), 0px 1px 3px 1px rgba(60, 64, 67, 0.15);\n",
              "    fill: #174EA6;\n",
              "  }\n",
              "\n",
              "  [theme=dark] .colab-df-quickchart {\n",
              "    background-color: #3B4455;\n",
              "    fill: #D2E3FC;\n",
              "  }\n",
              "\n",
              "  [theme=dark] .colab-df-quickchart:hover {\n",
              "    background-color: #434B5C;\n",
              "    box-shadow: 0px 1px 3px 1px rgba(0, 0, 0, 0.15);\n",
              "    filter: drop-shadow(0px 1px 2px rgba(0, 0, 0, 0.3));\n",
              "    fill: #FFFFFF;\n",
              "  }\n",
              "</style>\n",
              "\n",
              "  <script>\n",
              "    async function quickchart(key) {\n",
              "      const charts = await google.colab.kernel.invokeFunction(\n",
              "          'suggestCharts', [key], {});\n",
              "    }\n",
              "    (() => {\n",
              "      let quickchartButtonEl =\n",
              "        document.querySelector('#df-13be15a6-8262-4314-b51a-104f10e95c2e button');\n",
              "      quickchartButtonEl.style.display =\n",
              "        google.colab.kernel.accessAllowed ? 'block' : 'none';\n",
              "    })();\n",
              "  </script>\n",
              "</div>\n",
              "    </div>\n",
              "  </div>\n"
            ]
          },
          "metadata": {},
          "execution_count": 15
        }
      ]
    },
    {
      "cell_type": "code",
      "source": [
        "# counting unique words of news column\n",
        "def count_words(text_col):\n",
        "  counter= Counter()\n",
        "  for text in text_col:\n",
        "    for word in text.split():\n",
        "      counter[word] += 1\n",
        "  return counter\n"
      ],
      "metadata": {
        "id": "Uci-BLs44-zJ"
      },
      "execution_count": 16,
      "outputs": []
    },
    {
      "cell_type": "code",
      "source": [
        "counter= count_words(df['news'])"
      ],
      "metadata": {
        "id": "P5WujK969t2k"
      },
      "execution_count": 17,
      "outputs": []
    },
    {
      "cell_type": "code",
      "source": [
        "# number of unique words\n",
        "len(counter)"
      ],
      "metadata": {
        "colab": {
          "base_uri": "https://localhost:8080/"
        },
        "id": "q4lNc8eg_crU",
        "outputId": "3bdc2f32-360a-415f-974f-b7b9fb276c1e"
      },
      "execution_count": 18,
      "outputs": [
        {
          "output_type": "execute_result",
          "data": {
            "text/plain": [
              "20735"
            ]
          },
          "metadata": {},
          "execution_count": 18
        }
      ]
    },
    {
      "cell_type": "code",
      "source": [
        "unique_words_num= len(counter)"
      ],
      "metadata": {
        "id": "pUQ_Gg3X_c50"
      },
      "execution_count": 19,
      "outputs": []
    },
    {
      "cell_type": "code",
      "source": [
        "embedding_dim= 100"
      ],
      "metadata": {
        "id": "OU2s-FYnaNrH"
      },
      "execution_count": 20,
      "outputs": []
    },
    {
      "cell_type": "code",
      "source": [
        "# Word2Vec"
      ],
      "metadata": {
        "id": "qOgG_RQTYZxG"
      },
      "execution_count": 21,
      "outputs": []
    },
    {
      "cell_type": "code",
      "source": [
        "X= [x.split() for x in df['news'].tolist()]"
      ],
      "metadata": {
        "id": "qlkV183XYZ5j"
      },
      "execution_count": 22,
      "outputs": []
    },
    {
      "cell_type": "code",
      "source": [
        "print(X[0])"
      ],
      "metadata": {
        "colab": {
          "base_uri": "https://localhost:8080/"
        },
        "id": "kMoCjdZ3YZ7W",
        "outputId": "3079ac3d-61c0-4a61-c06c-02fb25974731"
      },
      "execution_count": 23,
      "outputs": [
        {
          "output_type": "stream",
          "name": "stdout",
          "text": [
            "['donald', 'glov']\n"
          ]
        }
      ]
    },
    {
      "cell_type": "code",
      "source": [
        "w2v_mdl= Word2Vec(sentences= X, window= 10, min_count=1 )"
      ],
      "metadata": {
        "id": "wtQys_t1YZ9P"
      },
      "execution_count": 24,
      "outputs": []
    },
    {
      "cell_type": "code",
      "source": [
        "len(w2v_mdl.wv.index_to_key)"
      ],
      "metadata": {
        "colab": {
          "base_uri": "https://localhost:8080/"
        },
        "id": "JtZf8frMapsm",
        "outputId": "5283f194-cd2f-441d-80fc-c8605ae25f7d"
      },
      "execution_count": 25,
      "outputs": [
        {
          "output_type": "execute_result",
          "data": {
            "text/plain": [
              "20735"
            ]
          },
          "metadata": {},
          "execution_count": 25
        }
      ]
    },
    {
      "cell_type": "code",
      "source": [
        "# most similarity of 5 most common words"
      ],
      "metadata": {
        "id": "nfb4ksmGuHYE"
      },
      "execution_count": 26,
      "outputs": []
    },
    {
      "cell_type": "code",
      "source": [
        "print(most_common:= counter.most_common(5))"
      ],
      "metadata": {
        "colab": {
          "base_uri": "https://localhost:8080/"
        },
        "id": "vabP4rHw_c0j",
        "outputId": "4cee97b1-b3ab-4d5a-9547-63a3e1e87720"
      },
      "execution_count": 27,
      "outputs": [
        {
          "output_type": "stream",
          "name": "stdout",
          "text": [
            "[('new', 1018), ('kardashian', 970), ('jennifer', 724), ('kim', 645), ('season', 589)]\n"
          ]
        }
      ]
    },
    {
      "cell_type": "code",
      "source": [
        "print('word is: ',wrd:= most_common[0][0])\n",
        "w2v_mdl.wv.most_similar(wrd)"
      ],
      "metadata": {
        "colab": {
          "base_uri": "https://localhost:8080/"
        },
        "id": "GnSC1--Xtwmd",
        "outputId": "611a43b1-67c4-4e82-c29d-04463852d6eb"
      },
      "execution_count": 28,
      "outputs": [
        {
          "output_type": "stream",
          "name": "stdout",
          "text": [
            "word is:  new\n"
          ]
        },
        {
          "output_type": "execute_result",
          "data": {
            "text/plain": [
              "[('goes', 0.9991451501846313),\n",
              " ('concert', 0.9988021850585938),\n",
              " ('beyoncé', 0.9987795352935791),\n",
              " ('home', 0.9987487196922302),\n",
              " ('give', 0.9987163543701172),\n",
              " ('emotional', 0.998708963394165),\n",
              " ('gift', 0.9986947178840637),\n",
              " ('fake', 0.998670220375061),\n",
              " ('house', 0.9986678957939148),\n",
              " ('hair', 0.9986645579338074)]"
            ]
          },
          "metadata": {},
          "execution_count": 28
        }
      ]
    },
    {
      "cell_type": "code",
      "source": [
        "print('word is: ',wrd:= most_common[1][0])\n",
        "w2v_mdl.wv.most_similar(wrd)"
      ],
      "metadata": {
        "colab": {
          "base_uri": "https://localhost:8080/"
        },
        "id": "Yp-_JTXGt9Cs",
        "outputId": "f1a83ed9-e733-4d19-8957-a370ba20b169"
      },
      "execution_count": 29,
      "outputs": [
        {
          "output_type": "stream",
          "name": "stdout",
          "text": [
            "word is:  kardashian\n"
          ]
        },
        {
          "output_type": "execute_result",
          "data": {
            "text/plain": [
              "[('kanye', 0.9917224645614624),\n",
              " ('west', 0.9900138974189758),\n",
              " ('saint', 0.9861228466033936),\n",
              " ('wests', 0.9846968650817871),\n",
              " ('khloe', 0.9819588661193848),\n",
              " ('cattrall', 0.9806944131851196),\n",
              " ('tristan', 0.9806145429611206),\n",
              " ('kim', 0.9802826642990112),\n",
              " ('khloé', 0.9802665710449219),\n",
              " ('thompson', 0.9781670570373535)]"
            ]
          },
          "metadata": {},
          "execution_count": 29
        }
      ]
    },
    {
      "cell_type": "code",
      "source": [
        "print('word is: ',wrd:= most_common[2][0])\n",
        "w2v_mdl.wv.most_similar(wrd)"
      ],
      "metadata": {
        "colab": {
          "base_uri": "https://localhost:8080/"
        },
        "id": "jtKT8VV5t9HU",
        "outputId": "08782525-f722-49ff-8e84-a2556881d636"
      },
      "execution_count": 30,
      "outputs": [
        {
          "output_type": "stream",
          "name": "stdout",
          "text": [
            "word is:  jennifer\n"
          ]
        },
        {
          "output_type": "execute_result",
          "data": {
            "text/plain": [
              "[('affleck', 0.9883584976196289),\n",
              " ('rodriguez', 0.9872601628303528),\n",
              " ('aronofsky', 0.9870384335517883),\n",
              " ('alex', 0.9856786727905273),\n",
              " ('courteney', 0.9842956066131592),\n",
              " ('lawrence', 0.9840560555458069),\n",
              " ('garner', 0.9792057275772095),\n",
              " ('lopezs', 0.9789650440216064),\n",
              " ('casually', 0.9789186716079712),\n",
              " ('lopez', 0.9784950017929077)]"
            ]
          },
          "metadata": {},
          "execution_count": 30
        }
      ]
    },
    {
      "cell_type": "code",
      "source": [
        "print('word is: ',wrd:= most_common[3][0])\n",
        "w2v_mdl.wv.most_similar(wrd)"
      ],
      "metadata": {
        "colab": {
          "base_uri": "https://localhost:8080/"
        },
        "id": "xu8nHQMWt9Ml",
        "outputId": "93f395d2-ca6a-4a53-fdac-e420daadbe2b"
      },
      "execution_count": 31,
      "outputs": [
        {
          "output_type": "stream",
          "name": "stdout",
          "text": [
            "word is:  kim\n"
          ]
        },
        {
          "output_type": "execute_result",
          "data": {
            "text/plain": [
              "[('khloe', 0.9963376522064209),\n",
              " ('khloé', 0.9950051307678223),\n",
              " ('wests', 0.9931265115737915),\n",
              " ('tristan', 0.9925058484077454),\n",
              " ('west', 0.9920579791069031),\n",
              " ('thompson', 0.9911680817604065),\n",
              " ('kanye', 0.990503191947937),\n",
              " ('kourtney', 0.9885752201080322),\n",
              " ('kuwtk', 0.9883404970169067),\n",
              " ('surrogate', 0.9863811731338501)]"
            ]
          },
          "metadata": {},
          "execution_count": 31
        }
      ]
    },
    {
      "cell_type": "code",
      "source": [
        "print('word is: ',wrd:= most_common[4][0])\n",
        "w2v_mdl.wv.most_similar(wrd)"
      ],
      "metadata": {
        "colab": {
          "base_uri": "https://localhost:8080/"
        },
        "id": "SPAUkNZUt9WM",
        "outputId": "2ae74fbb-34a9-45b5-a570-e59ef9708ccd"
      },
      "execution_count": 32,
      "outputs": [
        {
          "output_type": "stream",
          "name": "stdout",
          "text": [
            "word is:  season\n"
          ]
        },
        {
          "output_type": "execute_result",
          "data": {
            "text/plain": [
              "[('premiere', 0.9988766312599182),\n",
              " ('star', 0.9985666275024414),\n",
              " ('series', 0.9984685778617859),\n",
              " ('trailer', 0.9983885884284973),\n",
              " ('cast', 0.9983813166618347),\n",
              " ('finale', 0.9981799721717834),\n",
              " ('episode', 0.998087465763092),\n",
              " ('stars', 0.9979003071784973),\n",
              " ('ratings', 0.9978751540184021),\n",
              " ('live', 0.9978693127632141)]"
            ]
          },
          "metadata": {},
          "execution_count": 32
        }
      ]
    },
    {
      "cell_type": "code",
      "source": [
        "# vectorize a text into a sequence of integers by tokenizing\n",
        "# converting text into a sequence of integers\n",
        "def tokenize(text):\n",
        "  tokenizer= Tokenizer(num_words= unique_words_num)\n",
        "  tokenizer.fit_on_texts(text)\n",
        "  return tokenizer"
      ],
      "metadata": {
        "id": "x4i7rBNk_c_T"
      },
      "execution_count": 33,
      "outputs": []
    },
    {
      "cell_type": "code",
      "source": [
        "tokenizer= tokenize(X)\n"
      ],
      "metadata": {
        "id": "ElPB97MH_dBW"
      },
      "execution_count": 34,
      "outputs": []
    },
    {
      "cell_type": "code",
      "source": [
        "print(word_index:= tokenizer.word_index)"
      ],
      "metadata": {
        "id": "YILhT7Sa_dDe",
        "colab": {
          "base_uri": "https://localhost:8080/"
        },
        "outputId": "09b721d0-58ab-41bd-d68e-a8440eda365e"
      },
      "execution_count": 35,
      "outputs": [
        {
          "output_type": "stream",
          "name": "stdout",
          "text": [
            "{'new': 1, 'kardashian': 2, 'jennifer': 3, 'kim': 4, 'season': 5, 'jenner': 6, 'star': 7, 'meghan': 8, 'justin': 9, 'prince': 10, 'baby': 11, 'first': 12, 'says': 13, 'wedding': 14, 'brad': 15, '–': 16, 'selena': 17, 'reveals': 18, '—': 19, 'watch': 20, 'best': 21, 'show': 22, 'taylor': 23, 'see': 24, 'video': 25, 'pitt': 26, 'kylie': 27, 'harry': 28, 'gomez': 29, 'kate': 30, 'awards': 31, 'split': 32, 'angelina': 33, 'back': 34, 'photo': 35, 'markle': 36, 'report': 37, 'get': 38, 'award': 39, 'scott': 40, 'tv': 41, 'royal': 42, 'blake': 43, 'stars': 44, 'relationship': 45, 'chris': 46, 'birthday': 47, 'family': 48, 'aniston': 49, 'west': 50, 'love': 51, 'day': 52, 'look': 53, 'kanye': 54, 'khloe': 55, 'jolie': 56, 'swift': 57, 'daughter': 58, 'bieber': 59, 'pregnant': 60, 'music': 61, 'dating': 62, 'red': 63, 'shares': 64, 'bella': 65, 'james': 66, 'mom': 67, 'trump': 68, 'secret': 69, 'tom': 70, 'real': 71, 'ryan': 72, 'year': 73, 'divorce': 74, 'us': 75, 'inside': 76, 'know': 77, 'worth': 78, 'gets': 79, 'cast': 80, 'time': 81, 'john': 82, 'carpet': 83, 'years': 84, 'middleton': 85, 'like': 86, 'ben': 87, 'kourtney': 88, 'life': 89, 'fans': 90, 'hollywood': 91, 'big': 92, 'death': 93, 'one': 94, 'son': 95, 'net': 96, 'instagram': 97, 'bachelor': 98, 'date': 99, 'celebrity': 100, 'wife': 101, 'wed': 102, 'shelton': 103, 'gwen': 104, 'jessica': 105, 'kelly': 106, 'night': 107, 'child': 108, 'lopez': 109, 'exclus': 110, 'katie': 111, 'fashion': 112, 'david': 113, 'boyfriend': 114, 'sexual': 115, 'wants': 116, 'list': 117, 'reportedly': 118, 'shows': 119, 'jackson': 120, 'katy': 121, 'williams': 122, 'kids': 123, 'rumors': 124, 'hadid': 125, 'met': 126, 'stefani': 127, 'dress': 128, 'birth': 129, 'married': 130, 'news': 131, '‘the': 132, 'kendall': 133, 'talks': 134, 'makes': 135, 'p': 136, 'husband': 137, 'robert': 138, 'ex': 139, 'harvey': 140, 'still': 141, 'pregnancy': 142, 'nicole': 143, 'celebrities': 144, 'got': 145, 'calls': 146, 'disick': 147, 'marriage': 148, 'everything': 149, 'really': 150, 'despite': 151, 'things': 152, 'say': 153, 'reunion': 154, 'perry': 155, 'cyrus': 156, 'kardashians': 157, 'million': 158, 'girl': 159, 'affleck': 160, 'drama': 161, 'american': 162, 'jamie': 163, 'amid': 164, 'kris': 165, 'paris': 166, 'jimmy': 167, 'gala': 168, 'miley': 169, 'tour': 170, 'shes': 171, 'rumor': 172, 'princess': 173, 'opens': 174, 'movie': 175, 'sex': 176, 'matt': 177, 'william': 178, 'heres': 179, 'george': 180, 'caitlyn': 181, 'varieti': 182, 'golden': 183, 'alex': 184, 'together': 185, 'd': 186, 'song': 187, 'ellen': 188, 'chrissy': 189, 'la': 190, 'body': 191, 'gives': 192, 'getting': 193, 'michael': 194, 'tristan': 195, 'set': 196, 'feud': 197, 'liam': 198, 'photos': 199, 'beauty': 200, 'theroux': 201, 'christmas': 202, 'babi': 203, 'make': 204, 'holmes': 205, 'engaged': 206, 'girlfriend': 207, 'party': 208, 'thompson': 209, 'teen': 210, 'weinstein': 211, 'looks': 212, 'rodriguez': 213, 'gigi': 214, 'return': 215, 'sofia': 216, 'brown': 217, 'man': 218, 'housewives': 219, 'made': 220, 'story': 221, 'nick': 222, 'second': 223, 'two': 224, 'choice': 225, 'kristen': 226, 'never': 227, 'travis': 228, 'black': 229, 'style': 230, 'game': 231, 'recap': 232, 'donald': 233, 'nikki': 234, 'beyoncé': 235, 'ariana': 236, 'every': 237, 'last': 238, 'world': 239, 'b': 240, 'lawrence': 241, 'need': 242, 'hair': 243, 'live': 244, 'film': 245, 'week': 246, 'good': 247, 'women': 248, 'de': 249, 'sarah': 250, 'could': 251, 'little': 252, 'finale': 253, 'behind': 254, 'people': 255, 'woman': 256, 'breaks': 257, 'celebrates': 258, 'joe': 259, 'premiere': 260, 'queen': 261, 'jayz': 262, 'beyonce': 263, 'dancing': 264, 'miranda': 265, 'sweet': 266, 'smith': 267, 'break': 268, 'oscars': 269, 'engagement': 270, 'garner': 271, 'home': 272, 'lindsay': 273, 'netflix': 274, 'demi': 275, 'pattinson': 276, 'interview': 277, 'rose': 278, 'cheating': 279, 'kidman': 280, 'bachelorette': 281, 'clooney': 282, 'much': 283, 'pratt': 284, 'explains': 285, 'top': 286, 'go': 287, 'markles': 288, 'dad': 289, 'anna': 290, 'way': 291, 'want': 292, 'actor': 293, 'friends': 294, 'react': 295, 'teigen': 296, 'take': 297, 'moments': 298, 'claims': 299, 'welcome': 300, 'foxx': 301, 'togeth': 302, 'late': 303, 'house': 304, 'happy': 305, 'tribute': 306, 'kevin': 307, 'emma': 308, 'finally': 309, 'complete': 310, 'series': 311, 'end': 312, 'billboard': 313, 'following': 314, 'final': 315, 'since': 316, 'romance': 317, 'may': 318, 'makeup': 319, 'parti': 320, 'mtv': 321, 'richie': 322, 'rihanna': 323, 'tim': 324, 'hes': 325, 'admits': 326, 'would': 327, 'biggest': 328, 'she’s': 329, 'details': 330, 'celebrate': 331, 'dead': 332, 'responds': 333, 'serena': 334, 'claim': 335, 'ev': 336, 'rachel': 337, 'beckham': 338, 'twitter': 339, 'full': 340, 'degeneres': 341, 'slams': 342, 'weeknd': 343, 'fan': 344, 'going': 345, 'breakup': 346, 'meet': 347, 'trailer': 348, 'globes': 349, 'months': 350, 'lady': 351, 'total': 352, 'ashley': 353, 'expecting': 354, 'oscar': 355, '’': 356, 'rob': 357, 'former': 358, 'cardi': 359, 'cruise': 360, 'britney': 361, 'khloé': 362, 'im': 363, 'help': 364, 'girls': 365, 'ever': 366, 'grande': 367, 'revenge': 368, 'josh': 369, 'divorc': 370, 'christina': 371, 'media': 372, 'emotional': 373, 'boy': 374, 'twins': 375, 'white': 376, 'support': 377, 'hemsworth': 378, 'perfect': 379, 'wears': 380, 'friend': 381, 'jr': 382, 'lauren': 383, 'goes': 384, 'lovato': 385, 'vegas': 386, 'fight': 387, 'today': 388, 'kid': 389, 'tyler': 390, 'next': 391, 'host': 392, 'jonas': 393, 'times': 394, 'carrie': 395, 'single': 396, 'jokes': 397, 'twin': 398, 'thrones': 399, 'car': 400, 'amber': 401, 'super': 402, 'rev': 403, 'timeline': 404, 'marriag': 405, 'johnson': 406, 'true': 407, 'e': 408, 'album': 409, 'winners': 410, 'r': 411, 'name': 412, 'lif': 413, 'concert': 414, 'adorable': 415, 'spears': 416, 'pippa': 417, 'scandal': 418, 'bump': 419, 'vanessa': 420, 'blac': 421, 'drake': 422, 'actress': 423, 'halloween': 424, 'didnt': 425, 'surprise': 426, 'kimmel': 427, 'away': 428, 'parker': 429, 'mariah': 430, 'york': 431, 'leaving': 432, 'talk': 433, 'wear': 434, 'denies': 435, 'singer': 436, 'sag': 437, 'oprah': 438, 'reason': 439, 'latest': 440, 'heart': 441, 'stori': 442, 'ready': 443, 'las': 444, 'simpson': 445, 'perform': 446, 'adam': 447, 'baldwin': 448, 'making': 449, 'gwyneth': 450, 'lov': 451, 'emmy': 452, 'sister': 453, 'king': 454, 'wags': 455, 'assault': 456, 'social': 457, 'jenna': 458, 'miss': 459, 'takes': 460, 'hudson': 461, 'review': 462, 'debut': 463, 'win': 464, 'war': 465, 'stop': 466, 'winter': 467, 'chyna': 468, 'model': 469, 'summer': 470, 'dream': 471, 'public': 472, 'alleged': 473, 'play': 474, 'weight': 475, 'costar': 476, 'silence': 477, 'history': 478, 'rom': 479, 'jenners': 480, 'couple': 481, 'anthony': 482, 'paradise': 483, 'favorite': 484, 'dog': 485, 'seri': 486, 'disney': 487, 'order': 488, 'jason': 489, 'romantic': 490, 'plans': 491, 'shoot': 492, 'hot': 493, 'plan': 494, 'pink': 495, 'ed': 496, 'celeb': 497, 'apologizes': 498, 'olivia': 499, 'truth': 500, 'celebs': 501, 'trip': 502, 'tells': 503, 'elizabeth': 504, 'cover': 505, 'speaks': 506, 'corden': 507, 'reveal': 508, 'stewart': 509, 'epic': 510, 'swifts': 511, 'returns': 512, 'might': 513, 'announces': 514, 'revealed': 515, 'victoria': 516, 'wont': 517, 'addresses': 518, 'eva': 519, 'camila': 520, 'famili': 521, 'cant': 522, 'sneak': 523, 'peek': 524, 'grammys': 525, 'speech': 526, 'brother': 527, 'planning': 528, 'confirms': 529, 'clarkson': 530, 'timberlake': 531, 'medium': 532, 'michelle': 533, 'carey': 534, 'gift': 535, 'tweet': 536, 'fallon': 537, 'custody': 538, 'engag': 539, 'amal': 540, 'pay': 541, 'without': 542, 'surgery': 543, 'dont': 544, 'work': 545, 'luann': 546, 'rock': 547, 'paul': 548, 'tatum': 549, 'message': 550, 'anniversary': 551, 'bryan': 552, 'mark': 553, 'think': 554, 'rules': 555, 'sexy': 556, 'arrested': 557, 'k': 558, 'face': 559, 'another': 560, 'great': 561, 'battle': 562, 'fake': 563, 'give': 564, 'ring': 565, 'reunite': 566, 'reasons': 567, 'amy': 568, 'mother': 569, 'styles': 570, 'keith': 571, 'misconduct': 572, 'cena': 573, 'bad': 574, 'three': 575, 'abc': 576, 'wins': 577, 'scand': 578, 'moore': 579, 'hailey': 580, 'performance': 581, 'bikini': 582, 'kiss': 583, 'saturday': 584, 'post': 585, 'nominations': 586, 'bell': 587, 'markl': 588, 'exclusive': 589, 'reese': 590, 'found': 591, 'school': 592, 'even': 593, 'mo': 594, 'ahead': 595, 'jersey': 596, 'decker': 597, 'younes': 598, 'episode': 599, 'faris': 600, 'actually': 601, 'paltrow': 602, 'reports': 603, 'gaga': 604, 'national': 605, 'eric': 606, 'mendes': 607, 'seacrest': 608, 'share': 609, 'sam': 610, 'worst': 611, 'dressed': 612, 'pregn': 613, 'lee': 614, 'find': 615, 'visit': 616, 'couples': 617, 'it’s': 618, 'bowl': 619, 'call': 620, 'arie': 621, 'reality': 622, 'secrets': 623, 'wore': 624, 'teases': 625, 'he’s': 626, 'keep': 627, 'marries': 628, 'hit': 629, 'diana': 630, 'el': 631, 'open': 632, 'miami': 633, 'mandy': 634, 'riverdale': 635, 'attack': 636, 'feel': 637, 'father': 638, 'old': 639, 'shocking': 640, 'outfit': 641, 'obama': 642, 'anatomy': 643, 'matthew': 644, 'bobby': 645, 'lively': 646, 'brie': 647, 'jenn': 648, 'book': 649, 'lost': 650, 'feels': 651, 'coming': 652, 'london': 653, 'daught': 654, 'aaron': 655, 'allegations': 656, 'said': 657, 'fall': 658, 'julia': 659, 'here’s': 660, 'zayn': 661, 'gave': 662, 'children': 663, 'orlando': 664, 'bloom': 665, 'jessie': 666, 'stephen': 667, 'l': 668, 'coachella': 669, 'arrest': 670, 'los': 671, 'roseanne': 672, 'giving': 673, 'vacation': 674, 'j': 675, 'thinks': 676, 'johnny': 677, 'dinner': 678, 'harassment': 679, 'marri': 680, 'pretty': 681, 'america': 682, 'middletons': 683, 'fox': 684, '‘i': 685, 'far': 686, 'beach': 687, 'witherspoon': 688, 'loss': 689, 'month': 690, 'nicki': 691, 'release': 692, 'stone': 693, 'holiday': 694, 'stormi': 695, 'dance': 696, 'young': 697, 'didn’t': 698, 'can’t': 699, 'nude': 700, 'isnt': 701, 'shades': 702, 'start': 703, 'nyc': 704, 'trail': 705, 'urban': 706, 'wars': 707, 'vanderpump': 708, 'hugh': 709, 'cutest': 710, 'dies': 711, 'tears': 712, 'private': 713, 'margot': 714, 'reboot': 715, 'vs': 716, 'health': 717, 'reynolds': 718, 'peoples': 719, 'renewed': 720, 'left': 721, 'city': 722, 'spotted': 723, 'ross': 724, 'roberts': 725, 'russell': 726, 'andy': 727, 'theyre': 728, 'went': 729, 'artist': 730, 'guide': 731, 'heidi': 732, 'luyendyk': 733, 'days': 734, 'mila': 735, 'lambert': 736, 'working': 737, 'run': 738, 'role': 739, 'hilarious': 740, 'voice': 741, 'greys': 742, 'vote': 743, 'crash': 744, 'long': 745, 'episod': 746, 'emily': 747, 'already': 748, 'thing': 749, 'cabello': 750, 'legend': 751, 'called': 752, 'channing': 753, 'cute': 754, 'malik': 755, 'miller': 756, 'taking': 757, 'jay': 758, 'underwood': 759, 'bill': 760, 'caught': 761, 'welcomes': 762, 'friendship': 763, 'defends': 764, 'major': 765, 'duchess': 766, 'doesnt': 767, 'wearing': 768, 'special': 769, 'high': 770, 'bff': 771, 'moment': 772, 'charles': 773, 'di': 774, 'carter': 775, 'right': 776, 'spend': 777, 'alleg': 778, 'manchester': 779, 'team': 780, 'cancer': 781, 'hurricane': 782, 'third': 783, 'sheeran': 784, 'plastic': 785, 'lawsuit': 786, 'walk': 787, 'hom': 788, 'north': 789, 'enjoy': 790, 'source': 791, 'hilton': 792, 'gossip': 793, 'future': 794, 'moms': 795, 'lauer': 796, 'shore': 797, 'drew': 798, 'returning': 799, 'mean': 800, 'weeks': 801, 'money': 802, 'guest': 803, 'career': 804, 'grammy': 805, 'bendjima': 806, 'trend': 807, 'accused': 808, 'kendra': 809, 'mike': 810, 'secretly': 811, 'premier': 812, 'pda': 813, 'awkward': 814, 'kardashian’s': 815, 'minaj': 816, 'past': 817, 'kunis': 818, 'emmys': 819, 'kuwtk': 820, 'rehab': 821, 'joins': 822, 'wests': 823, 'portia': 824, 'payne': 825, 'president': 826, 'pete': 827, 'steps': 828, 'cheryl': 829, 'lot': 830, 'dewan': 831, 'janet': 832, 'melania': 833, 'idol': 834, 'sing': 835, 'styl': 836, 'almost': 837, 'eye': 838, 'officially': 839, 'part': 840, 'evans': 841, 'daniel': 842, 'famous': 843, 'changed': 844, 'savings': 845, 'sourc': 846, 'according': 847, 'abuse': 848, 'mama': 849, 'blue': 850, 'larry': 851, 'due': 852, 'hits': 853, 'allegedly': 854, 'alum': 855, 'join': 856, 'come': 857, 'hart': 858, 'cavallari': 859, 'read': 860, 'becca': 861, 'stranger': 862, 'amazoncom': 863, 'hoda': 864, 'biographi': 865, 'movi': 866, 'stay': 867, 'lesseps': 868, 'appearance': 869, 'stage': 870, 'drops': 871, 'grace': 872, 'meeting': 873, 'ripa': 874, 'always': 875, 'advice': 876, 'tiffany': 877, 'gomezs': 878, 'debuts': 879, 'check': 880, 'alwyn': 881, 'backlash': 882, 'jordan': 883, 'rumored': 884, 'reputation': 885, 'fergie': 886, 'horror': 887, 'diet': 888, 'law': 889, 'megan': 890, 'took': 891, 'gay': 892, 'hospital': 893, 'posts': 894, 'divas': 895, 'leonardo': 896, 'sean': 897, 'keeping': 898, 'bradley': 899, 'scarlett': 900, 'hills': 901, 'thought': 902, 'jones': 903, 'louis': 904, 'products': 905, 'person': 906, 'reunites': 907, 'reaction': 908, 'revival': 909, 'danny': 910, 'gal': 911, 'robin': 912, 'winn': 913, 'gam': 914, 'wwe': 915, 'davidson': 916, 'charlie': 917, 'attend': 918, 'female': 919, 'iconic': 920, 'don’t': 921, 'tried': 922, 'fun': 923, 'hilariously': 924, 'dresses': 925, 'whats': 926, 'atlanta': 927, 'bethenny': 928, 'men': 929, 'spinoff': 930, 'asked': 931, 'recalls': 932, 'crazy': 933, 'dwts': 934, 'botched': 935, 'trying': 936, 'robbie': 937, 'priyanka': 938, 'step': 939, 'fifth': 940, 'ceremoni': 941, 'sets': 942, 'thanks': 943, 'director': 944, 'platinum': 945, 'diva': 946, 'nomin': 947, 'depp': 948, 'kristin': 949, 'prison': 950, 'canceled': 951, 'marry': 952, 'winfrey': 953, 'looking': 954, 'nbc': 955, 'martin': 956, 'mel': 957, 'twist': 958, 'parents': 959, 'comes': 960, 'avengers': 961, 'harri': 962, 'close': 963, 'fisher': 964, 'cameron': 965, 'wilkinson': 966, 'xl': 967, 'cole': 968, 'reacts': 969, 'markle’s': 970, 'sandra': 971, 'julianne': 972, 'dicaprio': 973, 'chicago': 974, 'biel': 975, 'act': 976, 'easter': 977, 'gushes': 978, 'jack': 979, 'line': 980, 'aguilera': 981, 'cohen': 982, 'beautiful': 983, 'nam': 984, 'dakota': 985, 'jon': 986, 'upset': 987, 'ways': 988, 'everyone': 989, 'royals': 990, 'rossi': 991, 'pays': 992, 'moussa': 993, 'meryl': 994, 'honeymoon': 995, 'tips': 996, 'walking': 997, 'rape': 998, 'daughters': 999, 'won’t': 1000, 'brings': 1001, 'weekend': 1002, 'johansson': 1003, 'henry': 1004, 'workout': 1005, 'brothers': 1006, 'duhamel': 1007, 'turns': 1008, 'snl': 1009, 'moving': 1010, 'jax': 1011, 'billy': 1012, 'lamar': 1013, 'police': 1014, 'skin': 1015, 'kotb': 1016, 'turn': 1017, 'figure': 1018, 'ashton': 1019, 'infinity': 1020, 'pics': 1021, 'mindy': 1022, 'appear': 1023, 'named': 1024, 'mystery': 1025, 'head': 1026, 'wonder': 1027, 'luke': 1028, 'motherhood': 1029, 'judge': 1030, 'releases': 1031, 'chloe': 1032, 'quit': 1033, 'rare': 1034, 'jenner’s': 1035, 'four': 1036, 'lisa': 1037, 'solo': 1038, 'explain': 1039, 'honor': 1040, 'biebers': 1041, 'naked': 1042, 'lip': 1043, 'sterling': 1044, 'chopra': 1045, 'seen': 1046, 'rapper': 1047, 'longoria': 1048, 'helped': 1049, 'zac': 1050, 'nominees': 1051, 'farrah': 1052, 'using': 1053, 'playing': 1054, 'musical': 1055, 'tonight': 1056, 'speak': 1057, 'damon': 1058, 'official': 1059, 'shawn': 1060, 'beau': 1061, 'reflects': 1062, 'lies': 1063, 'deal': 1064, 'morgan': 1065, 'losing': 1066, 'movies': 1067, 'let': 1068, 'actors': 1069, 'gown': 1070, 'acting': 1071, 'comments': 1072, 'starstudded': 1073, 'watching': 1074, 'bet': 1075, 'haddish': 1076, 'apart': 1077, 'jada': 1078, 'told': 1079, 'joanna': 1080, 'happened': 1081, 'card': 1082, 'leaves': 1083, 'sequel': 1084, 'broke': 1085, 'pictures': 1086, 'jolie’s': 1087, 'furious': 1088, 'megyn': 1089, 'dates': 1090, 'living': 1091, 'shookus': 1092, 'tattoo': 1093, 'meets': 1094, 'graham': 1095, 'files': 1096, 'suit': 1097, 'knew': 1098, 'savannah': 1099, 'issues': 1100, 'rita': 1101, 'six': 1102, 'personal': 1103, 'sparks': 1104, 'leave': 1105, 'comeback': 1106, 'double': 1107, 'around': 1108, 'boss': 1109, 'ag': 1110, 'lohan': 1111, 'july': 1112, 'club': 1113, 'cooper': 1114, 'jen': 1115, 'com': 1116, 'questions': 1117, 'internet': 1118, 'gaines': 1119, 'selfie': 1120, 'dwayne': 1121, 'queer': 1122, 'gorgeous': 1123, 'mad': 1124, 'kaia': 1125, 'job': 1126, 'dj': 1127, 'amanda': 1128, 'surprising': 1129, 'stories': 1130, 'asks': 1131, 'streep': 1132, 'thomas': 1133, 'isn’t': 1134, 'ago': 1135, 'sophie': 1136, 'denim': 1137, 'abby': 1138, 'mexico': 1139, 'bush': 1140, 'used': 1141, 'shooting': 1142, 'wilson': 1143, 'crown': 1144, 'matching': 1145, 'alicia': 1146, 'corey': 1147, 'frankel': 1148, 'believe': 1149, 'onlin': 1150, 'christian': 1151, 'arod': 1152, 'tweets': 1153, 'hough': 1154, 'thorne': 1155, 'fighting': 1156, 'anthem': 1157, 'arrangement': 1158, 'cannes': 1159, 'mental': 1160, 'march': 1161, 'bieb': 1162, 'timelin': 1163, 'pop': 1164, 'missing': 1165, 'chance': 1166, 'lea': 1167, 'nearly': 1168, 'exhusband': 1169, 'bruno': 1170, 'anderson': 1171, 'hard': 1172, 'griffin': 1173, 'colbert': 1174, 'critics': 1175, 'change': 1176, 'anistons': 1177, 'schumer': 1178, 'drug': 1179, 'ad': 1180, 'lose': 1181, 'gun': 1182, 'online': 1183, 'poses': 1184, 'lena': 1185, 'hassan': 1186, 'yet': 1187, 'trumps': 1188, 'begging': 1189, 'pinkett': 1190, 'proves': 1191, 'glob': 1192, 'totally': 1193, 'controversial': 1194, 'male': 1195, 'millie': 1196, 'move': 1197, 'suicide': 1198, 'brittany': 1199, 'latin': 1200, 'ston': 1201, 'costars': 1202, 'steve': 1203, 'ch': 1204, 'happens': 1205, 'channels': 1206, 'restraining': 1207, 'hands': 1208, 'become': 1209, 'became': 1210, 'comiccon': 1211, 'track': 1212, 'wanted': 1213, 'dean': 1214, 'scoop': 1215, 'victims': 1216, 'shirtless': 1217, 'fifty': 1218, 'evan': 1219, 'mars': 1220, 'country': 1221, 'suri': 1222, 'ellis': 1223, 'stunning': 1224, 'surprises': 1225, 'lead': 1226, 'jealous': 1227, 'battl': 1228, 'mus': 1229, 'court': 1230, 'room': 1231, 'detail': 1232, 'picture': 1233, 'winner': 1234, 'wives': 1235, 'upon': 1236, 'jared': 1237, 'eve': 1238, 'front': 1239, 'mcgowan': 1240, 'jameel': 1241, 'offers': 1242, 'tabloid': 1243, 'allison': 1244, 'anniversari': 1245, 'drop': 1246, 'five': 1247, 'suits': 1248, 'jane': 1249, '‘american': 1250, 'affair': 1251, 'fourth': 1252, 'shop': 1253, 'bellas': 1254, 'catherine': 1255, 'accuses': 1256, 'different': 1257, 'st': 1258, 'crime': 1259, 'turned': 1260, 'u': 1261, 'killed': 1262, 'foster': 1263, 'happen': 1264, 'halle': 1265, 'melissa': 1266, 'efron': 1267, 'abraham': 1268, 'campaign': 1269, 'usa': 1270, 'franco': 1271, 'better': 1272, 'hilary': 1273, 'joli': 1274, 'sienna': 1275, 'kisses': 1276, 'ii': 1277, 'fitness': 1278, 'patrick': 1279, 'wasnt': 1280, 'update': 1281, 'fights': 1282, 'fired': 1283, 'spacey': 1284, 'cbs': 1285, 'bullock': 1286, 'gosling': 1287, 'powerful': 1288, 'simmons': 1289, 'colin': 1290, 'surgeri': 1291, 'spencer': 1292, 'huge': 1293, 'puts': 1294, 'leslie': 1295, 'swift’s': 1296, 'bring': 1297, 'missed': 1298, 'goodbye': 1299, 'fal': 1300, 'buy': 1301, 'desperate': 1302, 'sings': 1303, 'hurt': 1304, 'dishes': 1305, 'fame': 1306, 'pitts': 1307, 'grammi': 1308, 'victorias': 1309, 'kerr': 1310, 'ronnie': 1311, 'calling': 1312, 'dark': 1313, 'loving': 1314, 'case': 1315, 'performs': 1316, 'neri': 1317, 'heartbreak': 1318, 'shower': 1319, 'claps': 1320, 'allen': 1321, 'tracee': 1322, 'feeling': 1323, 'orange': 1324, 'ciara': 1325, 'led': 1326, 'fast': 1327, 'proud': 1328, 'madonna': 1329, 'gomez’s': 1330, 'park': 1331, 'metoo': 1332, 'uses': 1333, 'outfits': 1334, 'magazine': 1335, 'stand': 1336, 'channel': 1337, 'candid': 1338, 'pose': 1339, 'wishes': 1340, 'kyle': 1341, 'cancels': 1342, 'amazing': 1343, 'including': 1344, 'loves': 1345, 'cma': 1346, 'beverly': 1347, 'spice': 1348, 'corinne': 1349, 'olympios': 1350, 'ratings': 1351, 'guess': 1352, 'oj': 1353, 'philip': 1354, 'touching': 1355, 'shepard': 1356, 'challenge': 1357, 'winning': 1358, 'free': 1359, 'food': 1360, 'comedy': 1361, 'heartbreaking': 1362, 'journey': 1363, 'thanksgiving': 1364, 'gadot': 1365, 'character': 1366, 'saying': 1367, 'berry': 1368, 'prove': 1369, 'gender': 1370, 'throws': 1371, 'place': 1372, 'shannon': 1373, 'happi': 1374, 'portwood': 1375, 'behavior': 1376, 'relief': 1377, 'scenes': 1378, 'alexis': 1379, 'listen': 1380, 'sophia': 1381, 'spending': 1382, 'ariel': 1383, 'kaling': 1384, 'cancel': 1385, 'hank': 1386, 'songs': 1387, 'celebr': 1388, 'shuts': 1389, 'dumped': 1390, 'teresa': 1391, 'giudice': 1392, 'many': 1393, 'age': 1394, 'refuses': 1395, 'wish': 1396, 'brand': 1397, 'jim': 1398, 'cut': 1399, 'guilty': 1400, 'keeps': 1401, 'nina': 1402, 'rol': 1403, 'fire': 1404, 'chip': 1405, 'heard': 1406, 'americas': 1407, 'yes': 1408, 'fear': 1409, 'roy': 1410, 'shock': 1411, 'newborn': 1412, 'shut': 1413, 'hill': 1414, 'talking': 1415, 'rolling': 1416, 'tyga': 1417, 'woods': 1418, 'gerber': 1419, 'kutcher': 1420, 'broken': 1421, 'possible': 1422, 'exit': 1423, 'bond': 1424, 'brady': 1425, 'felt': 1426, 'soules': 1427, 'cindy': 1428, 'danielle': 1429, 'marc': 1430, 'jenelle': 1431, 'put': 1432, 'road': 1433, 'cool': 1434, 'andrew': 1435, 'festival': 1436, 'sons': 1437, 'domestic': 1438, 'sexually': 1439, 'pic': 1440, 'wild': 1441, 'connecting': 1442, 'seth': 1443, 'british': 1444, 'drag': 1445, 'angeles': 1446, 'mourns': 1447, 'sight': 1448, 'pens': 1449, 'filming': 1450, 'behindthescenes': 1451, 'mov': 1452, 'gold': 1453, 'sorry': 1454, 'brooklyn': 1455, 'costume': 1456, 'christopher': 1457, 'charlize': 1458, 'getaway': 1459, 'accidentally': 1460, 'angel': 1461, 'nba': 1462, 'victim': 1463, 'randall': 1464, 'original': 1465, 'church': 1466, 'simon': 1467, 'munn': 1468, 'trends': 1469, 'abbey': 1470, 'nomine': 1471, 'fair': 1472, 'visits': 1473, 'michele': 1474, 'camp': 1475, 'kufrin': 1476, 'bts': 1477, 'died': 1478, 'guy': 1479, 'oxman': 1480, 'memoir': 1481, 'nassar': 1482, 'cas': 1483, 'sal': 1484, 'conrad': 1485, 'greatest': 1486, 'ultimate': 1487, 'upd': 1488, 'fears': 1489, 'tori': 1490, 'voice’': 1491, 'they’re': 1492, 'adams': 1493, 'vac': 1494, 'entertainment': 1495, 'opening': 1496, 'word': 1497, 'try': 1498, 'ian': 1499, 'olymp': 1500, 'versace': 1501, 'heat': 1502, 'jesse': 1503, 'alba': 1504, 'massive': 1505, 'z': 1506, 'hannah': 1507, 'less': 1508, 'kidney': 1509, 'murder': 1510, 'al': 1511, 'tina': 1512, 'intense': 1513, 'lik': 1514, 'eddie': 1515, 'playboy': 1516, 'ending': 1517, 'faith': 1518, 'green': 1519, 'jeremy': 1520, 'clip': 1521, 'partner': 1522, 'hudgens': 1523, 'lopezs': 1524, 'montag': 1525, 'response': 1526, 'whos': 1527, 'wait': 1528, 'diamond': 1529, 'contestant': 1530, 'tell': 1531, 'travel': 1532, 'hospit': 1533, 'lili': 1534, 'palace': 1535, 'hospitalized': 1536, 'ivanka': 1537, 'rap': 1538, 'hollywoodlife': 1539, 'stream': 1540, 'butt': 1541, 'cara': 1542, 'hate': 1543, 'air': 1544, 'odom': 1545, 'vanity': 1546, 'celine': 1547, 'dion': 1548, 'letter': 1549, 'morning': 1550, 'cause': 1551, 'duff': 1552, 'surrogate': 1553, 'learned': 1554, 'plus': 1555, 'jolies': 1556, 'jonathan': 1557, 'gibson': 1558, 'art': 1559, 'laura': 1560, 'helps': 1561, 'darren': 1562, 'spring': 1563, 'crawford': 1564, 'plays': 1565, 'costum': 1566, 'sports': 1567, 'probably': 1568, 'kissing': 1569, 'guthrie': 1570, 'finds': 1571, 'svu': 1572, 'survivor': 1573, 'perri': 1574, 'milo': 1575, 'whitney': 1576, 'throwback': 1577, 'relive': 1578, '‘bachelor': 1579, 'kit': 1580, 'california': 1581, 'stunt': 1582, 'statement': 1583, 'june': 1584, 'decision': 1585, 'hefner': 1586, 'attends': 1587, 'something': 1588, 'blonde': 1589, 'natalie': 1590, 'false': 1591, 'vma': 1592, 'marvel': 1593, 'georgina': 1594, 'houston': 1595, 'cult': 1596, 'class': 1597, 'announce': 1598, 'cop': 1599, 'done': 1600, 'theron': 1601, 'save': 1602, 'terry': 1603, 'pack': 1604, 'turner': 1605, 'naomi': 1606, 'audrina': 1607, 'twitt': 1608, 'boys': 1609, 'doesn’t': 1610, 'match': 1611, 'adds': 1612, 'scene': 1613, 'barack': 1614, 'racist': 1615, 'hold': 1616, 'power': 1617, 'mayer': 1618, 'woody': 1619, 'account': 1620, 'heads': 1621, 'trump’s': 1622, 'globe': 1623, 'harass': 1624, 'dirty': 1625, 'katharine': 1626, 'mcphee': 1627, 'complicated': 1628, 'harrys': 1629, 'issu': 1630, 'alec': 1631, 'flashes': 1632, 'childhood': 1633, 'stars’': 1634, 'brandi': 1635, 'spends': 1636, 'exgirlfriend': 1637, 'hyland': 1638, 'april': 1639, 'rhony': 1640, 'beador': 1641, 'academy': 1642, 'ora': 1643, 'among': 1644, 'estranged': 1645, 'ventimiglia': 1646, 'obsessed': 1647, 'carpool': 1648, 'wardrobe': 1649, 'saved': 1650, 'radio': 1651, 'hbo': 1652, 'cost': 1653, 'rumours': 1654, 'zolciakbiermann': 1655, 'boot': 1656, 'craig': 1657, 'lupita': 1658, 'panther': 1659, 'richard': 1660, 'strahan': 1661, 'delivery': 1662, 'camilla': 1663, 'spoilers': 1664, 'higgins': 1665, 'mothers': 1666, 'vmas': 1667, 'chmerkovskiy': 1668, 'promo': 1669, 'wrong': 1670, 'adele': 1671, 'murphy': 1672, 'fiancé': 1673, 'sent': 1674, 'messag': 1675, 'hotel': 1676, '‘this': 1677, 'us’': 1678, 'walks': 1679, 'idol’': 1680, 'celebrating': 1681, 'hell': 1682, 'nyfw': 1683, 'elle': 1684, 'meltdown': 1685, 'bodi': 1686, 'tess': 1687, 'seeing': 1688, 'jacket': 1689, 'sends': 1690, 'wolf': 1691, 'barrymore': 1692, 'wendy': 1693, 'stylist': 1694, 'image': 1695, 'cw': 1696, 'hadids': 1697, 'jeff': 1698, 'cries': 1699, 'excited': 1700, 'chester': 1701, 'proof': 1702, 'becoming': 1703, 'starring': 1704, 'sara': 1705, 'edwards': 1706, 'joining': 1707, 'fathers': 1708, 'runway': 1709, 'ray': 1710, 'cox': 1711, 'theres': 1712, 'exactly': 1713, 'colton': 1714, 'bf': 1715, 'control': 1716, 'receives': 1717, 'valentines': 1718, 'flip': 1719, 'ladies': 1720, 'side': 1721, 'quotes': 1722, 'th': 1723, 'memorable': 1724, 'upcoming': 1725, 'freed': 1726, 'revealing': 1727, 'enjoys': 1728, 'lucy': 1729, 'rank': 1730, 'rhoa': 1731, 'spotlight': 1732, '‘a': 1733, 'accident': 1734, 'announc': 1735, 'hosts': 1736, 'longer': 1737, 'sues': 1738, 'messages': 1739, 'stamos': 1740, 'deadpool': 1741, 'product': 1742, 'hid': 1743, 'games': 1744, 'creator': 1745, 'couldnt': 1746, 'summ': 1747, 'street': 1748, 'nene': 1749, 'halsey': 1750, 'parties': 1751, 'praises': 1752, 'lachey': 1753, 'snapchat': 1754, 'smiles': 1755, 'beloved': 1756, 'levine': 1757, 'tonya': 1758, 'kept': 1759, 'joel': 1760, 'follow': 1761, 'pain': 1762, 'rosie': 1763, 'explosive': 1764, 'niall': 1765, 'porn': 1766, 'fam': 1767, 'dramatic': 1768, 'use': 1769, 'alone': 1770, 'dax': 1771, 'upton': 1772, 'harrison': 1773, 'reinhart': 1774, 'kaley': 1775, 'came': 1776, 'charlotte': 1777, 'fires': 1778, 'ice': 1779, 'eminem': 1780, 'mansion': 1781, 'exwife': 1782, 'delivers': 1783, 'spark': 1784, 'hidden': 1785, 'fiance': 1786, 'simple': 1787, 'band': 1788, 'anne': 1789, 'catelynn': 1790, 'care': 1791, 'crush': 1792, 'austin': 1793, 'ivy': 1794, 'joan': 1795, 'investigation': 1796, 'shared': 1797, 'gifts': 1798, 'bash': 1799, 'kerry': 1800, 'completely': 1801, 'inspired': 1802, 'ama': 1803, 'everyth': 1804, 'fir': 1805, 'tony': 1806, 'olympic': 1807, 'wimbledon': 1808, 'brought': 1809, 'blood': 1810, 'disneyland': 1811, 'dunham': 1812, 'shot': 1813, 'viall': 1814, 'designer': 1815, 'slammed': 1816, 'magazin': 1817, 'view': 1818, 'enough': 1819, 'ive': 1820, 'page': 1821, 'treat': 1822, 'intimate': 1823, 'hanks': 1824, 'hasnt': 1825, 'hints': 1826, 'ranking': 1827, 'struggles': 1828, 'postbaby': 1829, 'pants': 1830, 'beauti': 1831, 'plot': 1832, 'fixer': 1833, 'dropped': 1834, 'color': 1835, 'breaking': 1836, 'dr': 1837, 'cfda': 1838, 'dan': 1839, 'phone': 1840, 'i’m': 1841, 'chelsea': 1842, 'seasons': 1843, 'babys': 1844, 'katherine': 1845, 'controversi': 1846, 'snap': 1847, 'nose': 1848, 'collins': 1849, 'surpris': 1850, 'race': 1851, 'forced': 1852, 'started': 1853, 'models': 1854, 'celebrated': 1855, 'watson': 1856, 'dagostino': 1857, 'transgender': 1858, 'incredible': 1859, 'splits': 1860, 'bit': 1861, 'steven': 1862, 'w': 1863, 'coupl': 1864, 'carrey': 1865, 'jill': 1866, 'sisters': 1867, 'cher': 1868, 'barr': 1869, 'charm': 1870, 'scientology': 1871, 'daily': 1872, 'gym': 1873, 'shopping': 1874, 'expect': 1875, 'sign': 1876, 'doctor': 1877, 'erin': 1878, 'seek': 1879, 'knows': 1880, 'dreams': 1881, 'hear': 1882, 'fac': 1883, 'vergara': 1884, 'lawyer': 1885, 'lives': 1886, 'charges': 1887, 'luis': 1888, 'puerto': 1889, 'rico': 1890, 'forev': 1891, 'patridge': 1892, 'bride': 1893, 'spent': 1894, 'row': 1895, 'pleads': 1896, 'singing': 1897, 'youtube': 1898, 'lala': 1899, 'time’': 1900, 'trial': 1901, 'bieber’s': 1902, 'vows': 1903, 'introduces': 1904, 'freak': 1905, 'demario': 1906, 'rocks': 1907, 'problem': 1908, 'soon': 1909, 'shoes': 1910, 'east': 1911, '‘': 1912, 'lana': 1913, 'cosby': 1914, 'gisele': 1915, 'washington': 1916, 'makeover': 1917, 'snow': 1918, 'firing': 1919, 'breakdown': 1920, 'babies': 1921, 'fka': 1922, 'diss': 1923, 'bob': 1924, 'invite': 1925, 'tea': 1926, 'afraid': 1927, 'straight': 1928, 'fix': 1929, 'ends': 1930, 'direct': 1931, 'cattrall': 1932, 'noah': 1933, 'appears': 1934, 'films': 1935, 'tru': 1936, 'topless': 1937, 'aldean': 1938, 'prom': 1939, 'shocked': 1940, 'writing': 1941, 'busy': 1942, 'tragic': 1943, 'steals': 1944, 'hgtv': 1945, 'hosting': 1946, 'cameo': 1947, 'facts': 1948, 'reported': 1949, 'confirmed': 1950, 'asghari': 1951, 'ford': 1952, 'proposal': 1953, 'broadway': 1954, 'paradise’': 1955, 'harington': 1956, 'sweetest': 1957, 'situation': 1958, 'sounds': 1959, 'surprised': 1960, 'histori': 1961, 'adopt': 1962, 'meyers': 1963, 'burke': 1964, 'baskett': 1965, 'ranked': 1966, 'serious': 1967, 'scary': 1968, 'words': 1969, 'episodes': 1970, 'potter': 1971, 'screen': 1972, 'winslet': 1973, 'swimsuit': 1974, 'howard': 1975, 'thank': 1976, 'eyes': 1977, 'stella': 1978, 'guardians': 1979, 'headed': 1980, 'leakes': 1981, 'zolciak': 1982, 'rich': 1983, 'confused': 1984, 'harris': 1985, 'launch': 1986, 'amazon': 1987, 'well': 1988, 'mary': 1989, 'jlo': 1990, 'peta': 1991, 'annual': 1992, 'dances': 1993, 'cmt': 1994, 'charity': 1995, 'current': 1996, 'therouxs': 1997, 'snub': 1998, 'talent': 1999, 'horan': 2000, 'whole': 2001, 'southern': 2002, 'joy': 2003, 'regrets': 2004, 'low': 2005, 'island': 2006, 'gabrielle': 2007, 'rippon': 2008, 'paid': 2009, 'trouble': 2010, 'granted': 2011, 'jayzs': 2012, 'rid': 2013, 'claire': 2014, 'sprouse': 2015, 'c': 2016, 'og': 2017, 'record': 2018, 'holland': 2019, 'needs': 2020, 'davis': 2021, 'shakira': 2022, 'pick': 2023, 'ord': 2024, 'billie': 2025, 'pounds': 2026, 'alexander': 2027, 'parks': 2028, 'bennington': 2029, 'clooneys': 2030, 'fath': 2031, 'blasts': 2032, 'someone': 2033, 'linmanuel': 2034, 'cream': 2035, 'stylish': 2036, 'sued': 2037, 'member': 2038, 'producers': 2039, 'loses': 2040, 'target': 2041, 'arent': 2042, 'skincare': 2043, 'husbands': 2044, 'heartfelt': 2045, 'teaser': 2046, 'people’s': 2047, 'slam': 2048, 'confirm': 2049, 'festiv': 2050, 'brooks': 2051, 'patient': 2052, 'palac': 2053, 'duggar': 2054, 'feminist': 2055, 'fail': 2056, 'g': 2057, 'wells': 2058, 'somerhalder': 2059, 'include': 2060, 'accid': 2061, 'lyr': 2062, 'tarek': 2063, 'treatment': 2064, 'ideas': 2065, 'shade': 2066, 'benefit': 2067, 'asking': 2068, 'elton': 2069, 'tease': 2070, 'event': 2071, 'featuring': 2072, 'kesha': 2073, 'separation': 2074, 'blunt': 2075, 'hangs': 2076, 'covers': 2077, 'worried': 2078, 'idea': 2079, 'worlds': 2080, 'alert': 2081, 'squad': 2082, 'dui': 2083, 'duet': 2084, 'kill': 2085, 'cri': 2086, 'lily': 2087, 'routin': 2088, 'flash': 2089, 'knowles': 2090, 'divorcing': 2091, 'vikander': 2092, 'hottest': 2093, 'bristol': 2094, 'hollywoods': 2095, 'nothing': 2096, 'galaxy': 2097, 'gq': 2098, 'key': 2099, 'specul': 2100, 'bringing': 2101, 'members': 2102, '‘game': 2103, 'thrones’': 2104, 'jeans': 2105, 'suicid': 2106, 'showing': 2107, 'eating': 2108, 'group': 2109, 'union': 2110, 'born': 2111, 'alcohol': 2112, 'bizarre': 2113, 'heading': 2114, 'san': 2115, 'steal': 2116, 'definitely': 2117, 'number': 2118, 'todd': 2119, 'strong': 2120, 'kent': 2121, 'australia': 2122, 'iggy': 2123, 'vampire': 2124, 'van': 2125, 'believes': 2126, 'feuding': 2127, 'thats': 2128, 'sad': 2129, 'mia': 2130, 'kailyn': 2131, 'batman': 2132, 'v': 2133, 'spade': 2134, 'reading': 2135, 'reactions': 2136, 'player': 2137, 'luna': 2138, 'names': 2139, 'remake': 2140, 'baltierra': 2141, 'hook': 2142, 'sick': 2143, 'important': 2144, 'signs': 2145, 'casting': 2146, 'hour': 2147, 'press': 2148, 'linkin': 2149, 'calvin': 2150, 'hero': 2151, 'honors': 2152, 'remember': 2153, 'nsfw': 2154, 'works': 2155, 'kathy': 2156, 'also': 2157, 'derek': 2158, 'released': 2159, 'supporting': 2160, 'ordered': 2161, 'office': 2162, 'hand': 2163, 'toxic': 2164, 'west’s': 2165, 'zoe': 2166, 'scen': 2167, 'petty': 2168, 'heather': 2169, 'zendaya': 2170, 'blames': 2171, 'savage': 2172, 'tale': 2173, 'bruce': 2174, 'apparent': 2175, 'experience': 2176, 'arrang': 2177, 'lavish': 2178, 'success': 2179, 'leah': 2180, 'french': 2181, 'bachelors': 2182, 'others': 2183, 'test': 2184, 'charact': 2185, 'bushnell': 2186, 'shia': 2187, 'spelling': 2188, 'father’s': 2189, 'olsen': 2190, 'sheltons': 2191, 'threatens': 2192, 'busted': 2193, 'overdos': 2194, 'malibu': 2195, 'failed': 2196, 'hayes': 2197, 'rest': 2198, 'moves': 2199, 'backstage': 2200, 'tri': 2201, 'memorial': 2202, 'jenny': 2203, 'erika': 2204, 'breast': 2205, 'haters': 2206, 'played': 2207, 'definitive': 2208, 'ban': 2209, 'sobriety': 2210, '‘big': 2211, 'story’': 2212, 'kenya': 2213, 'upper': 2214, 'saint': 2215, 'announced': 2216, 'uk': 2217, 'on': 2218, 'glam': 2219, 'irwin': 2220, 'richi': 2221, 'iheartradio': 2222, 'dallas': 2223, 'brain': 2224, 'crystal': 2225, 'chrisley': 2226, 'middleton’s': 2227, 'karlie': 2228, 'irina': 2229, 'depression': 2230, 'joint': 2231, 'canc': 2232, 'ratajkowski': 2233, 'vega': 2234, 'dobrev': 2235, 'leg': 2236, 'funny': 2237, 'unexpected': 2238, 'storm': 2239, 'shay': 2240, 'jodie': 2241, 'hours': 2242, 'lingerie': 2243, 'closet': 2244, 'doctors': 2245, 'caribbean': 2246, 'state': 2247, 'speci': 2248, 'justice': 2249, 'glee': 2250, 'metz': 2251, 'jet': 2252, 'positive': 2253, 'easy': 2254, 'harmony': 2255, 'klum': 2256, 'fonsi': 2257, 'pumpkin': 2258, 'finding': 2259, 'cuoco': 2260, 'youre': 2261, 'starting': 2262, 'prank': 2263, 'madness': 2264, 'viewers': 2265, 'tip': 2266, 'emergency': 2267, 'tran': 2268, 'anything': 2269, 'evil': 2270, 'craziest': 2271, 'business': 2272, 'quitting': 2273, 'exes': 2274, 'weird': 2275, 'acm': 2276, 'legal': 2277, 'tries': 2278, 'becomes': 2279, 'jedi': 2280, 'christine': 2281, 'lion': 2282, 'judd': 2283, 'selling': 2284, '‘grey’s': 2285, 'anatomy’': 2286, 'lin': 2287, 'nia': 2288, 'fit': 2289, 'chanel': 2290, 'boots': 2291, 'struggle': 2292, 'airport': 2293, 'youll': 2294, 'touch': 2295, 'grandes': 2296, 'harry’s': 2297, 'donates': 2298, 'propos': 2299, 'jean': 2300, 'drugstore': 2301, 'aniston’s': 2302, 'twigs': 2303, 'grimaldi': 2304, 'pictur': 2305, 'plea': 2306, 'simpsons': 2307, 'spills': 2308, 'christma': 2309, 'simone': 2310, 'rep': 2311, 'producer': 2312, 'send': 2313, 'nfl': 2314, 'things’': 2315, 'peter': 2316, 'modern': 2317, 'jordyn': 2318, 'favourite': 2319, 'courteney': 2320, 'reallife': 2321, 'involved': 2322, 'addiction': 2323, 'process': 2324, 'fat': 2325, 'ricky': 2326, 'company': 2327, 'hale': 2328, 'tellall': 2329, 'costumes': 2330, 'douglas': 2331, 'ashlee': 2332, 'pulls': 2333, 'santa': 2334, 'entire': 2335, 'twain': 2336, 'daddy': 2337, 'hayley': 2338, 'danica': 2339, 'nine': 2340, 'pro': 2341, 'stuns': 2342, 'flashback': 2343, 'snubs': 2344, 'hawaii': 2345, 'casey': 2346, 'honored': 2347, 'quest': 2348, 'reacted': 2349, 'security': 2350, 'footage': 2351, 'omarosa': 2352, '‘bachelorette’': 2353, 'vicki': 2354, 'feelings': 2355, 'pool': 2356, 'penn': 2357, 'barbra': 2358, 'palin': 2359, 'magic': 2360, 'highlights': 2361, 'discusses': 2362, 'wrinkle': 2363, 'ep': 2364, 'servic': 2365, 'maksim': 2366, 'shape': 2367, 'cannon': 2368, 'florida': 2369, 'mind': 2370, 'beyond': 2371, 'avoid': 2372, 'invited': 2373, 'jail': 2374, 'paying': 2375, 'popular': 2376, 'sir': 2377, 'leads': 2378, 'gianni': 2379, 'ok': 2380, 'jost': 2381, 'emmi': 2382, 'coach': 2383, 'tommy': 2384, 'lewis': 2385, 'water': 2386, 'abs': 2387, 'oh': 2388, 'bourdain': 2389, 'kennedy': 2390, 'buckingham': 2391, 'collect': 2392, 'robberi': 2393, 'round': 2394, 'futur': 2395, 'bass': 2396, 'azalea': 2397, 'cry': 2398, 'accuser': 2399, 'itali': 2400, 'lowry': 2401, 'truly': 2402, 'lbs': 2403, 'laguna': 2404, 'up’': 2405, 'includes': 2406, 'clinton': 2407, 'cook': 2408, 'outing': 2409, 'looked': 2410, 'trainer': 2411, 'tanaka': 2412, 'lesson': 2413, 'warns': 2414, 'helping': 2415, 'longtime': 2416, 'childrens': 2417, 'features': 2418, 'obsess': 2419, 'emilia': 2420, 'board': 2421, 'announcement': 2422, 'stops': 2423, 'tape': 2424, 'clothes': 2425, 'queens': 2426, 'out’': 2427, 'jordin': 2428, 'growing': 2429, 'separate': 2430, 'schedule': 2431, 'chic': 2432, 'lowell': 2433, 'yara': 2434, 'khaled': 2435, 'don': 2436, 'jewelry': 2437, 'tyrese': 2438, 'exchange': 2439, 'alexa': 2440, 'action': 2441, 'absolutely': 2442, 'raising': 2443, 'lowe': 2444, 'drinking': 2445, 'parenting': 2446, 'superstar': 2447, 'frozen': 2448, 'convinced': 2449, '‘stranger': 2450, 'fell': 2451, 'aronofsky': 2452, 'mans': 2453, 'wif': 2454, 'brooke': 2455, 'wright': 2456, 'unglert': 2457, 'flowers': 2458, 'kimmy': 2459, 'spiderman': 2460, 'macaulay': 2461, 'hous': 2462, 'kristina': 2463, 'cal': 2464, 'abus': 2465, '’s': 2466, 'renee': 2467, 'leann': 2468, 'billion': 2469, 'faces': 2470, 'cutler': 2471, 'delevingne': 2472, 'cards': 2473, 'morrison': 2474, '‘very': 2475, 'lets': 2476, 'scare': 2477, 'teenage': 2478, 'present': 2479, 'haynes': 2480, 'exboyfriend': 2481, 'cheat': 2482, 'palm': 2483, 'pet': 2484, 'glanville': 2485, 'eat': 2486, 'jerry': 2487, 'modeling': 2488, 'nice': 2489, 'id': 2490, 'favorit': 2491, 'edit': 2492, 'marie': 2493, 'grand': 2494, 'considering': 2495, 'madeup': 2496, 'later': 2497, 'bang': 2498, 'whether': 2499, 'philipps': 2500, 'settle': 2501, 'violence': 2502, 'routine': 2503, 'icon': 2504, 'rodgers': 2505, 'labor': 2506, 'anyone': 2507, 'tap': 2508, 'phillippe': 2509, 'freaking': 2510, 'weds': 2511, 'rainbow': 2512, 'literally': 2513, 'lindsey': 2514, 'jake': 2515, 'ended': 2516, 'bear': 2517, 'zig': 2518, 'reviews': 2519, 'live’': 2520, 'mixed': 2521, 'arrow': 2522, 'terrified': 2523, 'kendrick': 2524, 'note': 2525, 'kloss': 2526, 'fiancee': 2527, 'shayk': 2528, 'halftime': 2529, 'postpartum': 2530, 'potential': 2531, 'videos': 2532, 'cruis': 2533, 'forum': 2534, 'staying': 2535, 'shield': 2536, 'wintour': 2537, 'twilight': 2538, 'pulled': 2539, 'nasty': 2540, 'chalamet': 2541, 'unfold': 2542, '“the': 2543, 'mitchell': 2544, 'mocks': 2545, 'reunited': 2546, 'camera': 2547, 'sell': 2548, 'residency': 2549, 'onstage': 2550, 'ramona': 2551, 'grab': 2552, 'coco': 2553, 'x': 2554, 'barely': 2555, 'usweekli': 2556, 'worries': 2557, 'chad': 2558, 'english': 2559, 'self': 2560, 'brandon': 2561, 'deadly': 2562, 'beyoncés': 2563, 'casual': 2564, 'remembers': 2565, 'mccain': 2566, 'sweetheart': 2567, 'bold': 2568, 'carole': 2569, 'mother’s': 2570, 'theory': 2571, 'heath': 2572, 'agree': 2573, 'launches': 2574, 'empowering': 2575, 'oliver': 2576, 'housew': 2577, 'guests': 2578, 'ride': 2579, 'loved': 2580, 'train': 2581, 'gf': 2582, 'buys': 2583, 'carmelo': 2584, 'fin': 2585, 'stands': 2586, 'hillary': 2587, 'lips': 2588, 'viral': 2589, 'spot': 2590, 'eniko': 2591, 'interest': 2592, 'blond': 2593, 'rips': 2594, 'karrueche': 2595, 'hulu': 2596, 'january': 2597, 'lourd': 2598, 'australian': 2599, 'janney': 2600, 'attending': 2601, 'protest': 2602, 'thompsons': 2603, 'sham': 2604, 'gucci': 2605, 'costs': 2606, 'propose': 2607, 'transformation': 2608, 'professor': 2609, 'offset': 2610, 'gig': 2611, 'cov': 2612, 'latenight': 2613, 'drink': 2614, 'pauley': 2615, 'behati': 2616, 'center': 2617, 'ball': 2618, 'hat': 2619, 'hall': 2620, 'dump': 2621, 'af': 2622, 'cuts': 2623, 'maria': 2624, 'skinny': 2625, 'iaconetti': 2626, 'sun': 2627, 'chastain': 2628, 'reed': 2629, 'mario': 2630, 'apple': 2631, 'marrying': 2632, 'extra': 2633, 'madison': 2634, 'dylan': 2635, 'selfi': 2636, 'mccarthy': 2637, 'international': 2638, 'spirit': 2639, 'enrique': 2640, 'iglesias': 2641, 'restaurant': 2642, 'lifestyle': 2643, 'liars': 2644, 'coat': 2645, 'heartbroken': 2646, 'culkin': 2647, 'leather': 2648, 'box': 2649, 'lunch': 2650, 'kicks': 2651, 'expensive': 2652, 'apology': 2653, 'begs': 2654, 'bitter': 2655, '“i': 2656, 'labeouf': 2657, 'fallout': 2658, 'streisand': 2659, 'raise': 2660, 'murray': 2661, 'pitch': 2662, 'armie': 2663, 'hammer': 2664, 'short': 2665, 'trevor': 2666, 'beef': 2667, 'bust': 2668, 'countdown': 2669, 'jam': 2670, 'tshirt': 2671, 'rebecca': 2672, 'sabrina': 2673, 'wasn’t': 2674, 'hadid’s': 2675, 'afflecks': 2676, 'trick': 2677, 'menendez': 2678, 'lindsays': 2679, 'willow': 2680, 'proposed': 2681, 'vogue': 2682, 'gyllenhaal': 2683, 'fellow': 2684, 'visiting': 2685, 'goop': 2686, 'portrait': 2687, 'showcases': 2688, 'despacito': 2689, 'raps': 2690, 'fatal': 2691, 'hiding': 2692, 'womens': 2693, 'adorably': 2694, 'becky': 2695, 'honest': 2696, 'carry': 2697, 'healthy': 2698, 'injury': 2699, 'zetajones': 2700, 'characters': 2701, 'google': 2702, 'wood': 2703, 'ortizmagro': 2704, 'logan': 2705, 'acceptance': 2706, 'arrives': 2707, 'bekah': 2708, 'sexuality': 2709, 'half': 2710, 'memb': 2711, 'cann': 2712, 'stalker': 2713, 'building': 2714, 'grey': 2715, 'hope': 2716, '‘i’m': 2717, 'jacks': 2718, 'weisz': 2719, 'creepy': 2720, 'quiet': 2721, 'banks': 2722, 'recreate': 2723, 'tight': 2724, 'shania': 2725, 'depress': 2726, 'rihannas': 2727, 'lookalike': 2728, 'inspire': 2729, 'amas': 2730, 'mirror': 2731, 'levi': 2732, 'suffers': 2733, 'describes': 2734, 'groping': 2735, 'jok': 2736, 'ups': 2737, 'eggs': 2738, 'dianas': 2739, 'paltrows': 2740, 'cohost': 2741, 'mcadams': 2742, 'sheen': 2743, 'elsa': 2744, 'production': 2745, 'angela': 2746, 'bunch': 2747, 'kick': 2748, 'elope': 2749, 'leto': 2750, 'medley': 2751, 'messy': 2752, 'welcoming': 2753, '‘total': 2754, 'status': 2755, 'sold': 2756, 'richards': 2757, 'demands': 2758, 'removed': 2759, 'sebastian': 2760, 'meek': 2761, 'glamorous': 2762, 'experi': 2763, 'victoria’s': 2764, 'mini': 2765, 'karaok': 2766, 'lil': 2767, 'lies’': 2768, 'sound': 2769, 'murgatroyd': 2770, 'moretz': 2771, 'elon': 2772, 'leak': 2773, 'laughs': 2774, 'participant': 2775, 'empir': 2776, 'wow': 2777, 'insane': 2778, 'grey’s': 2779, 'sleep': 2780, 'harding': 2781, 'drunk': 2782, 'karaoke': 2783, 'timeless': 2784, 'hired': 2785, 'clean': 2786, 'theyve': 2787, 'diego': 2788, 'starbucks': 2789, 'hint': 2790, 'gonna': 2791, 'god': 2792, 'preview': 2793, 'what’s': 2794, 'kathie': 2795, 'accus': 2796, 'mcgraw': 2797, 'rings': 2798, 'outlander': 2799, 'cozy': 2800, 'shocker': 2801, 'expert': 2802, 'sure': 2803, 'hop': 2804, 'maroon': 2805, 'mistakes': 2806, 'barbara': 2807, 'catches': 2808, 'falls': 2809, 'offered': 2810, 'coop': 2811, 'sist': 2812, 'stadium': 2813, 'jackson’s': 2814, 'inspiring': 2815, 'monday': 2816, 'maternity': 2817, 'der': 2818, 'stopped': 2819, 'naya': 2820, 'rivera': 2821, 'angry': 2822, 'hathaway': 2823, 'images': 2824, 'flirty': 2825, 'unique': 2826, 'boo': 2827, 'brian': 2828, 'question': 2829, 'javi': 2830, 'workouts': 2831, 'lgbtq': 2832, 'bitch': 2833, 'teigens': 2834, 'laughing': 2835, 'replace': 2836, 'universe': 2837, 'pitt’s': 2838, 'rule': 2839, 'project': 2840, 'promises': 2841, 'reconciliation': 2842, 'twins’': 2843, 'smart': 2844, 'weighs': 2845, 'taken': 2846, 'deep': 2847, 'die': 2848, 'maryse': 2849, 'united': 2850, 'flight': 2851, 'newlyweds': 2852, 'along': 2853, 'balvin': 2854, 'arrangement’': 2855, 'crushing': 2856, 'curry': 2857, 'alleges': 2858, 'received': 2859, 'prinsloo': 2860, 'nyongo': 2861, 'misses': 2862, 'supports': 2863, 'text': 2864, 'vow': 2865, 'theories': 2866, 'par': 2867, 'settles': 2868, 'moores': 2869, 'scandals': 2870, 'edition': 2871, 'handmaids': 2872, 'ncis': 2873, 'alist': 2874, 'prenup': 2875, 'drakes': 2876, 'compares': 2877, 'vin': 2878, 'francia': 2879, 'disney’s': 2880, 'transform': 2881, 'kates': 2882, 'arthur': 2883, 'rise': 2884, 'quentin': 2885, 'political': 2886, 'property': 2887, 'kensington': 2888, 'lonely': 2889, 'montana': 2890, 'filing': 2891, 'surrog': 2892, 'peopl': 2893, 'time’s': 2894, 'gilmore': 2895, 'h': 2896, 'updates': 2897, 'espys': 2898, 'cassidy': 2899, 'sexiest': 2900, 'who’s': 2901, '‘dancing': 2902, 'superhero': 2903, 'haircut': 2904, 'partying': 2905, 'penelope': 2906, 'basketball': 2907, 'seat': 2908, 'carly': 2909, 'rimes': 2910, 'viol': 2911, 'dollar': 2912, 'bag': 2913, '·': 2914, 'dave': 2915, 'title': 2916, 'promoting': 2917, 'baseball': 2918, 'cat': 2919, 'diane': 2920, 'opinion': 2921, 'aly': 2922, 'flirting': 2923, 'love’': 2924, 'del': 2925, 'stole': 2926, 'goals': 2927, 'therapy': 2928, 'recent': 2929, 'photographed': 2930, 'dish': 2931, 'burnham': 2932, 'crew': 2933, 'mourn': 2934, 'italy': 2935, 'alexandra': 2936, 'audience': 2937, 'changes': 2938, 'meaning': 2939, 'swish': 2940, 'youngest': 2941, 'planned': 2942, 'picks': 2943, 'chemistry': 2944, 'suffered': 2945, 'plane': 2946, 'miracle': 2947, 'ceremony': 2948, 'serial': 2949, 'ruined': 2950, 'bobbi': 2951, 'script': 2952, 'regret': 2953, 'joke': 2954, 'shed': 2955, 'georgia': 2956, 'brett': 2957, 'multiple': 2958, 'natural': 2959, 'mac': 2960, 'wrote': 2961, 'cleared': 2962, '‘teen': 2963, 'threatening': 2964, 'wine': 2965, 'brutal': 2966, 'tal': 2967, 'lipstick': 2968, 'biopic': 2969, 'martinez': 2970, 'lovatos': 2971, 'tiny': 2972, 'donating': 2973, 'stolen': 2974, 'holm': 2975, 'famously': 2976, 'highestpaid': 2977, 'daughter’s': 2978, 'smitten': 2979, 'meaden': 2980, 'guid': 2981, 'chadwick': 2982, 'younger': 2983, 'matthews': 2984, 'arrive': 2985, 'crossover': 2986, 'shelton’s': 2987, 'jealousy': 2988, 'cleveland': 2989, 'gina': 2990, 'gunvalson': 2991, 'dinn': 2992, 'hunting': 2993, 'sunday': 2994, 'pushed': 2995, 'cazorla': 2996, 'beyonces': 2997, 'bett': 2998, 'classic': 2999, 's': 3000, 'forbes': 3001, 'glow': 3002, 'beard': 3003, 'scotts': 3004, 'streaming': 3005, 'cristiano': 3006, 'falling': 3007, 'geazy': 3008, 'network': 3009, 'forces': 3010, 'williams’': 3011, 'light': 3012, 'se': 3013, 'defending': 3014, 'perfectly': 3015, 'arms': 3016, 'stephanie': 3017, 'reviv': 3018, 'town': 3019, 'musk': 3020, 'careys': 3021, 'drugs': 3022, 'blame': 3023, '‘he': 3024, 'prepare': 3025, 'oceans': 3026, 'nassif': 3027, 'kind': 3028, 'protect': 3029, 'shaming': 3030, 'assassination': 3031, 'goldie': 3032, 'hawn': 3033, 'shoots': 3034, 'fonda': 3035, 'suspect': 3036, 'thinking': 3037, 'hide': 3038, 'lands': 3039, 'kids’': 3040, 'louisdreyfus': 3041, '‘roseanne’': 3042, 'lines': 3043, 'shaded': 3044, 'bottom': 3045, 'tree': 3046, 'crisis': 3047, 'crisi': 3048, 'cheap': 3049, 'results': 3050, 'driver': 3051, 'magical': 3052, 'women’s': 3053, 'blog': 3054, 'gary': 3055, 'bed': 3056, 'monica': 3057, 'skirt': 3058, 'beek': 3059, 'biermann': 3060, 'asia': 3061, 'critics’': 3062, 'culpo': 3063, 'battles': 3064, 'calendar': 3065, 'cartwright': 3066, 'peele': 3067, 'rihanna’s': 3068, 'hack': 3069, 'johnsons': 3070, 'banned': 3071, 'gosselin': 3072, 'attended': 3073, 'anxiety': 3074, 'pair': 3075, 'consuelos': 3076, 'tributes': 3077, 'presid': 3078, 'carey’s': 3079, 'deletes': 3080, 'disses': 3081, 'hang': 3082, 'arrivals': 3083, 'bffs': 3084, 'tennis': 3085, 'nicky': 3086, 'ansel': 3087, 'cuddles': 3088, 'exact': 3089, 'scar': 3090, 'fine': 3091, 'woman’': 3092, 'again’': 3093, 'perrette': 3094, 'b’s': 3095, 'titl': 3096, 'joshua': 3097, 'sentenced': 3098, 'crowd': 3099, 'possession': 3100, 'shirt': 3101, 'needed': 3102, 'hoax': 3103, 'trolls': 3104, 'saldana': 3105, 'pari': 3106, 'it’': 3107, 'contestants': 3108, 'tickets': 3109, 'physical': 3110, 'dern': 3111, 'beer': 3112, 'raisa': 3113, 'jade': 3114, 'bar': 3115, 'comment': 3116, 'design': 3117, 'show’': 3118, 'garrett': 3119, 'marykate': 3120, 'freaks': 3121, 'lesley': 3122, 'tarantino': 3123, 'kournikova': 3124, 'daytime': 3125, 'spread': 3126, 'artists': 3127, 'unbreakable': 3128, 'refusing': 3129, 'jeffrey': 3130, 'lazy': 3131, 'singl': 3132, 'sharing': 3133, 'gellar': 3134, 'ask': 3135, 'introduce': 3136, 'strange': 3137, 'olympics': 3138, 'lionel': 3139, 'eugenie': 3140, 'bedroom': 3141, 'eiza': 3142, 'scared': 3143, 'lawr': 3144, 'memes': 3145, 'theme': 3146, 'gotten': 3147, 'netflixs': 3148, 'pull': 3149, 'chapman': 3150, 'continues': 3151, 'chilling': 3152, 'bought': 3153, 'celebration': 3154, 'proposes': 3155, 'couric': 3156, 'coffee': 3157, 'recovering': 3158, 'involving': 3159, 'discuss': 3160, 'omg': 3161, 'instead': 3162, 'revelations': 3163, 'els': 3164, 'eight': 3165, 'chicken': 3166, 'gif': 3167, 'conrads': 3168, 'lovers': 3169, 'phoenix': 3170, 'continue': 3171, 'demanding': 3172, 'garners': 3173, 'rocky': 3174, 'point': 3175, 'maxwell': 3176, 'address': 3177, 'staff': 3178, 'busi': 3179, 'display': 3180, 'rel': 3181, 'dornan': 3182, 'hairstyles': 3183, 'beckinsale': 3184, 'surprisingly': 3185, 'tv’s': 3186, 'must': 3187, 'flop': 3188, 'evolution': 3189, 'newest': 3190, 'contact': 3191, 'juli': 3192, 'threw': 3193, 'impression': 3194, 'hoping': 3195, 'checks': 3196, 'hiddleston': 3197, 'venus': 3198, 'changing': 3199, 'fre': 3200, 'clarke': 3201, 'timothée': 3202, '‘once': 3203, 'reconcile': 3204, 'lorde': 3205, 'dick': 3206, 'references': 3207, 'aspen': 3208, 'lat': 3209, 'mem': 3210, 'puppy': 3211, 'fate': 3212, 'spoil': 3213, 'decade': 3214, 'snaps': 3215, 'harper': 3216, 'dennis': 3217, 'boob': 3218, 'grandmother': 3219, 'clothing': 3220, 'charg': 3221, 'antonoff': 3222, 'shonda': 3223, 'screaming': 3224, 'cheated': 3225, 'maggie': 3226, 'criticized': 3227, 'gain': 3228, 'common': 3229, 'comprehensive': 3230, 'reached': 3231, 'frances': 3232, 'early': 3233, 'biop': 3234, 'platform': 3235, 'tiger': 3236, 'deserves': 3237, 'homes': 3238, '‘snl’': 3239, 'land': 3240, 'xfiles': 3241, 'underwear': 3242, 'goto': 3243, 'greenlights': 3244, 'cate': 3245, 'blanchett': 3246, 'inappropriate': 3247, 'hairstylist': 3248, 'tyra': 3249, 'stronger': 3250, 'slip': 3251, 'briana': 3252, 'county': 3253, 'announcing': 3254, 'rul': 3255, 'heels': 3256, 'believ': 3257, 'phil': 3258, 'beat': 3259, 'drunken': 3260, 'singers': 3261, 'documentary': 3262, 'hamill': 3263, 'we’re': 3264, 'candace': 3265, 'language': 3266, 'snubbed': 3267, 'mermaid': 3268, 'boseman': 3269, 'hacked': 3270, 'anymore': 3271, 'cloth': 3272, 'clooney’s': 3273, 'stag': 3274, 'you’ll': 3275, 'arnold': 3276, 'windsor': 3277, 'sugar': 3278, 'junes': 3279, 'uma': 3280, 'rhonj': 3281, 'aisle': 3282, 'cambridge': 3283, 'access': 3284, 'kaitlyn': 3285, 'bristowe': 3286, 'scheana': 3287, 'italian': 3288, 'birdie': 3289, 'riverdal': 3290, 'kaylin': 3291, 'allow': 3292, 'hearing': 3293, 'stern': 3294, 'packs': 3295, 'feldman': 3296, 'leaked': 3297, 'audition': 3298, 'reminds': 3299, 'heartthrob': 3300, 'struggling': 3301, 'thor': 3302, 'fact': 3303, 'widow': 3304, 'forward': 3305, 'agents': 3306, 'quite': 3307, 'voic': 3308, 'mack': 3309, 'forget': 3310, 'arm': 3311, 'bridesmaid': 3312, 'connection': 3313, 'subject': 3314, 'version': 3315, 'south': 3316, 'daenerys': 3317, 'iron': 3318, 'disast': 3319, 'billionaire': 3320, 'neeson': 3321, 'shell': 3322, 'dismiss': 3323, 'beasts': 3324, 'rae': 3325, 'earning': 3326, '•': 3327, 'rumi': 3328, 'agrees': 3329, 'carino': 3330, 'piece': 3331, 'celebritymaximumcom': 3332, 'barbie': 3333, 'hires': 3334, 'fil': 3335, 'impact': 3336, 'campbell': 3337, 'titanic': 3338, 'tia': 3339, 'weinsteins': 3340, 'accusations': 3341, 'gifford': 3342, 'saw': 3343, 'jump': 3344, '‘real': 3345, 'braxton': 3346, 'blast': 3347, 'numb': 3348, 'unicorn': 3349, 'manager': 3350, 'tattoos': 3351, 'sells': 3352, '£': 3353, 'pirates': 3354, 'walsh': 3355, 'faux': 3356, 'fur': 3357, 'kyli': 3358, 'emot': 3359, 'global': 3360, 'deals': 3361, 'liveaction': 3362, 'throwing': 3363, 'toronto': 3364, 'judges': 3365, 'offensive': 3366, 'warrior': 3367, 'learn': 3368, 'relationships': 3369, 'fak': 3370, 'separ': 3371, 'malia': 3372, 'funniest': 3373, 'beyoncé’s': 3374, 'service': 3375, 'criticism': 3376, 'connects': 3377, 'jurassic': 3378, 'reception': 3379, 'retir': 3380, 'killer': 3381, 'studio': 3382, 'jurrjens': 3383, '‘jersey': 3384, 'sunglasses': 3385, 'shamers': 3386, 'mess': 3387, 'events': 3388, 'robbery': 3389, 'breakfast': 3390, 'mackenzie': 3391, 'year’s': 3392, 'enquirer': 3393, 'hometown': 3394, 'donation': 3395, 'her': 3396, 'sandler': 3397, 'tough': 3398, 'acne': 3399, 'letterman': 3400, 'olympian': 3401, 'survivors': 3402, 'tower': 3403, 'seeking': 3404, 'hailee': 3405, 'breastfeeding': 3406, 'booty': 3407, 'least': 3408, 'shadow': 3409, 'jaden': 3410, 'garn': 3411, 'moth': 3412, 'weapon': 3413, 'casually': 3414, 'bridesmaids': 3415, 'ne': 3416, 'paradis': 3417, 'aquaman': 3418, 'spear': 3419, 'sit': 3420, 'swears': 3421, 'splitting': 3422, 'quits': 3423, 'stark': 3424, 'wake': 3425, 'created': 3426, 'shahidi': 3427, 'bares': 3428, 'hookup': 3429, 'chose': 3430, 'mara': 3431, 'locklear': 3432, 'haibon': 3433, 'rick': 3434, 'lauers': 3435, 'kentucky': 3436, 'ann': 3437, 'photographer': 3438, 'eugenies': 3439, 'port': 3440, 'accidental': 3441, 'near': 3442, 'kelsey': 3443, 'embraces': 3444, 'rodriguezs': 3445, 'issue': 3446, 'eliza': 3447, 'aubrey': 3448, 'taylors': 3449, 'captain': 3450, 'diesel': 3451, 'lyrics': 3452, 'transplant': 3453, 'impress': 3454, 'christ': 3455, 'charge': 3456, 'runin': 3457, 'doherty': 3458, 'terence': 3459, 'broth': 3460, 'char': 3461, 'amidst': 3462, '‘bachelor’': 3463, 'soul': 3464, 'signature': 3465, 'losers': 3466, 'sharon': 3467, 'malika': 3468, 'troll': 3469, 'tokyo': 3470, 'riverdales': 3471, '‘not': 3472, 'remini': 3473, 'brow': 3474, 'candice': 3475, 'era': 3476, 'autopsy': 3477, 'tupac': 3478, 'sue': 3479, 'stefanis': 3480, 'miscarriage': 3481, 'pilot': 3482, 'jayz’s': 3483, 'lots': 3484, 'rejected': 3485, 'skipped': 3486, 'feet': 3487, 'alyssa': 3488, 'cak': 3489, 'wig': 3490, 'push': 3491, 'homecoming': 3492, 'cibrian': 3493, 'cancelled': 3494, 'incid': 3495, 'learns': 3496, 'anymor': 3497, 'based': 3498, 'answ': 3499, 'mic': 3500, 'fk': 3501, 'glover': 3502, 'categori': 3503, 'foxxs': 3504, 'clears': 3505, 'replacing': 3506, 'shiloh': 3507, 'spr': 3508, 'hanging': 3509, 'raisman': 3510, 'eats': 3511, 'tvs': 3512, 'subway': 3513, 'kathryn': 3514, 'rogen': 3515, 'netflix’s': 3516, 'supermodel': 3517, 'patton': 3518, 'fish': 3519, 'lace': 3520, 'pow': 3521, 'makeov': 3522, 'rules’': 3523, 'biles': 3524, 'sasha': 3525, 'injuri': 3526, 'accuse': 3527, 'enters': 3528, 'downey': 3529, 'publ': 3530, 'tear': 3531, 'respond': 3532, 'rescue': 3533, 'chaos': 3534, 'able': 3535, 'relaps': 3536, 'ward': 3537, 'unforgettable': 3538, 'funeral': 3539, 'email': 3540, 'tribut': 3541, 'bachelorettes': 3542, 'attention': 3543, 'dogs': 3544, 'clear': 3545, 'nomination': 3546, 'lessons': 3547, 'statu': 3548, 'stealing': 3549, 'yolanda': 3550, 'seeks': 3551, 'exits': 3552, 'terror': 3553, 'cryptic': 3554, 'deny': 3555, 'answer': 3556, 'offic': 3557, 'commerci': 3558, 'dolly': 3559, 'nation': 3560, '‘furious’': 3561, 'learning': 3562, 'per': 3563, 'strip': 3564, 'middle': 3565, 'across': 3566, 'lo': 3567, 'diagnosi': 3568, 'henri': 3569, 'judy': 3570, 'renew': 3571, 'parrish': 3572, 'not': 3573, 'direction': 3574, 'creators': 3575, 'disorder': 3576, 'thin': 3577, 'phelps': 3578, 'guys': 3579, 'perry’s': 3580, 'sess': 3581, 'dove': 3582, 'held': 3583, 'fatherhood': 3584, 'meyer': 3585, '‘in': 3586, 'houghs': 3587, 'chef': 3588, 'theroux’s': 3589, 'hopes': 3590, 'crews': 3591, 'cup': 3592, 'extortion': 3593, 'england': 3594, 'disappointed': 3595, 'matter': 3596, 'mil': 3597, 'recept': 3598, 'garfield': 3599, 'richest': 3600, 'documentari': 3601, 'poehler': 3602, 'hurley': 3603, 'flaunts': 3604, 'jawdropping': 3605, 'effort': 3606, 'apartment': 3607, 'traveling': 3608, 'showdown': 3609, 'turning': 3610, 'baier': 3611, 'dustin': 3612, 'brunette': 3613, 'claimed': 3614, 'disease': 3615, 'tech': 3616, 'digital': 3617, 'bure': 3618, 'ditches': 3619, 'vonn': 3620, 'bombshell': 3621, 'cynthia': 3622, 'football': 3623, 'cyber': 3624, 'seriously': 3625, 'mrs': 3626, 'heartwarming': 3627, 'irma': 3628, 'allegation': 3629, 'bindi': 3630, 'chandler': 3631, 'grave': 3632, 'thurman': 3633, 'pope': 3634, 'human': 3635, 'farm': 3636, 'hire': 3637, 'attorney': 3638, 'miserable': 3639, 'solange': 3640, 'rushed': 3641, 'zon': 3642, 'dancers': 3643, 'baywatch': 3644, 'meeks': 3645, 'rhobh': 3646, 'mccartney': 3647, 'mission': 3648, 'oz': 3649, 'compared': 3650, 'battling': 3651, 'whirlwind': 3652, 'ties': 3653, 'charged': 3654, 'comfort': 3655, 'forgotten': 3656, 'eyebrow': 3657, 'rebound': 3658, 'murd': 3659, 'bestdressed': 3660, 'legends': 3661, 'that’s': 3662, 'shaking': 3663, 'clarifies': 3664, '‘gma’': 3665, 'nail': 3666, 'stiller': 3667, 'salling': 3668, 'roundup': 3669, 'dubrow': 3670, 'closer': 3671, 'rent': 3672, 'gone': 3673, 'morris': 3674, 'pressure': 3675, 'trainor': 3676, 'disord': 3677, 'league': 3678, 'finn': 3679, 'tearful': 3680, 'kirby': 3681, '‘never': 3682, 'ever’': 3683, 'watts': 3684, 'westworld': 3685, 'urging': 3686, 'qa': 3687, '‘how': 3688, 'norm': 3689, 'kardashians’': 3690, 'bourdains': 3691, 'maks': 3692, 'roots': 3693, 'fraud': 3694, 'barrett': 3695, 'cofounder': 3696, 'dropping': 3697, 'fanning': 3698, 'kirsten': 3699, 'remak': 3700, 'grant': 3701, 'finger': 3702, 'inspires': 3703, 'penis': 3704, 'vincent': 3705, 'beyonce’s': 3706, 'understand': 3707, 'kourtneys': 3708, 'hip': 3709, 'drake’s': 3710, 'price': 3711, 'zarin': 3712, 'rhys': 3713, 'casts': 3714, 'pal': 3715, 'salary': 3716, 'verge': 3717, 'seemingly': 3718, 'masterson': 3719, 'fr': 3720, 'infamous': 3721, 'speaking': 3722, 'cowell': 3723, 'argento': 3724, 'battery': 3725, 'freeman': 3726, 'amendola': 3727, 'industry': 3728, 'wanting': 3729, 'mckinnon': 3730, '‘kuwtk’': 3731, 'questioning': 3732, 'sees': 3733, 'defend': 3734, 'stupid': 3735, 'spin': 3736, 'honey': 3737, 'sheer': 3738, 'rockwell': 3739, 'directors': 3740, 'conspiracy': 3741, 'vegan': 3742, '‘friends’': 3743, 'genius': 3744, 'sleeping': 3745, 'meghans': 3746, 'newsbeez': 3747, 'museum': 3748, 'karl': 3749, 'bachelorett': 3750, 'haines': 3751, 'fey': 3752, 'ten': 3753, 'miscarriag': 3754, 'disicks': 3755, 'heigl': 3756, 'posted': 3757, 'cabrera': 3758, 'bid': 3759, 'clark': 3760, 'lord': 3761, 'holidays': 3762, 'dorinda': 3763, 'boobs': 3764, 'ugly': 3765, 'disneys': 3766, 'mit': 3767, 'mckayla': 3768, 'successful': 3769, 'rupauls': 3770, 'evangelista': 3771, 'robbi': 3772, 'predicted': 3773, 'challenges': 3774, 'premieres': 3775, 'incident': 3776, 'marvels': 3777, 'releas': 3778, 'li': 3779, 'there’s': 3780, 'kelsea': 3781, 'rumour': 3782, 'tumor': 3783, 'forever': 3784, 'haunted': 3785, 'apparently': 3786, 'arriv': 3787, 'choic': 3788, 'fuller': 3789, 'dumps': 3790, 'highlight': 3791, '»': 3792, 'atlantas': 3793, 'broderick': 3794, 'funer': 3795, 'fresh': 3796, 'smiths': 3797, 'rough': 3798, 'broadcast': 3799, 'anxieti': 3800, 'bank': 3801, 'infidelity': 3802, 'bs': 3803, 'devastating': 3804, 'goodman': 3805, 'explained': 3806, 'conners': 3807, 'addict': 3808, 'buzz': 3809, 'collaboration': 3810, 'melt': 3811, 'meg': 3812, 'diaz': 3813, 'jackman': 3814, 'prepares': 3815, 'nickelodeon': 3816, 'andrews': 3817, 'hayden': 3818, 'eleanor': 3819, 'revel': 3820, 'guardian': 3821, 'iman': 3822, 'remix': 3823, 'jesus': 3824, 'cocaine': 3825, 'tanner': 3826, 'newly': 3827, 'item': 3828, 'tomb': 3829, 'accept': 3830, 'finalize': 3831, 'haqq': 3832, 'dodd': 3833, 'champion': 3834, 'lovingly': 3835, 'glamour': 3836, 'mask': 3837, 'tisdale': 3838, 'jacob': 3839, 'diddy': 3840, 'ohanian': 3841, 'brok': 3842, 'vol': 3843, 'ditch': 3844, 'swanepoel': 3845, 'schmidt': 3846, 'lauer’s': 3847, 'facing': 3848, 'baldwins': 3849, 'quintanilla': 3850, 'westwick': 3851, 'ruby': 3852, 'momoa': 3853, 'millions': 3854, 'dons': 3855, 'cruise’s': 3856, 'stuff': 3857, 'julie': 3858, 'roller': 3859, 'handmaid’s': 3860, 'fantastic': 3861, 'betty': 3862, '‘will': 3863, 'obsession': 3864, 'da': 3865, 'disick’s': 3866, 'babymoon': 3867, 'cruz': 3868, 'cornells': 3869, 'gerard': 3870, 'continu': 3871, 'sync': 3872, 'sweat': 3873, 'milano': 3874, 'fortune': 3875, 'answers': 3876, 'waddell': 3877, '‘last': 3878, 'via': 3879, 'brolin': 3880, 'closing': 3881, 'teeth': 3882, 'signed': 3883, 'professional': 3884, 'espy': 3885, 'hiatus': 3886, 'kelli': 3887, 'relatable': 3888, 'eliminated': 3889, 'postpones': 3890, 'vocal': 3891, 'explod': 3892, 'mill': 3893, 'judg': 3894, 'steamy': 3895, 'accusers': 3896, 'settlement': 3897, 'lovely': 3898, 'confronted': 3899, 'dated': 3900, 'billboards': 3901, 'seven': 3902, 'eyeliner': 3903, 'built': 3904, 'taraji': 3905, 'contest': 3906, 'leaks': 3907, 'selfies': 3908, 'robby': 3909, 'writes': 3910, 'sussex': 3911, 'thrilled': 3912, 'miles': 3913, 'saddest': 3914, 'crashes': 3915, 'honoring': 3916, 'shailene': 3917, 'woodley': 3918, 'outrageous': 3919, 'ronda': 3920, 'pass': 3921, 'detailed': 3922, 'dead’': 3923, 'televis': 3924, 'respect': 3925, 'duffs': 3926, 'wilmer': 3927, 'driving': 3928, 'ador': 3929, 'silver': 3930, 'accusing': 3931, 'decided': 3932, 'donate': 3933, '‘really': 3934, 'august': 3935, 'awesome': 3936, 'holds': 3937, 'parton': 3938, 'mom’s': 3939, 'rhoc': 3940, 'monique': 3941, 'lineup': 3942, 'ava': 3943, '‘secret': 3944, 'giuliana': 3945, 'nelly': 3946, 'diagnosis': 3947, 'slut': 3948, 'listening': 3949, 'means': 3950, 'flynn': 3951, 'items': 3952, 'putting': 3953, 'paula': 3954, 'farewell': 3955, 'onset': 3956, 'degener': 3957, 'cash': 3958, 'trash': 3959, 'throw': 3960, 'nights': 3961, 'aisl': 3962, 'minutes': 3963, 'phaedra': 3964, 'pranks': 3965, 'deleted': 3966, 'dispute': 3967, 'nurseri': 3968, 'slavery': 3969, 'advic': 3970, 'pamela': 3971, 'moon': 3972, '‘today’': 3973, 'lawrences': 3974, 'shields': 3975, 'harley': 3976, 'schmidt’': 3977, 'reboots': 3978, 'confronts': 3979, 'feature': 3980, 'outside': 3981, 'nursery': 3982, 'marathon': 3983, 'maroney': 3984, 'agreement': 3985, 'darkest': 3986, 'equal': 3987, 'taco': 3988, 'céline': 3989, 'basically': 3990, 'lynn': 3991, 'weekli': 3992, 'quinn': 3993, 'attacks': 3994, 'promotes': 3995, 'harts': 3996, 'deckers': 3997, 'kidmans': 3998, 'criminal': 3999, 'tank': 4000, 'filled': 4001, 'bridal': 4002, 'eyed': 4003, 'knot': 4004, 'zara': 4005, 'sisterhood': 4006, 'bravo': 4007, 'belafonte': 4008, 'overthetop': 4009, 'lack': 4010, 'silent': 4011, 'moore’s': 4012, 'harassed': 4013, 'ferrera': 4014, 'thong': 4015, 'frustrated': 4016, 'accepting': 4017, 'slays': 4018, 'fest': 4019, 'analysis': 4020, 'running': 4021, 'rebel': 4022, '‘beauty': 4023, 'beast’': 4024, 'december': 4025, 'show’s': 4026, 'ferrell': 4027, 'quot': 4028, 'sorrentino': 4029, 'dae': 4030, 'views': 4031, 'joey': 4032, 'rekindled': 4033, 'signing': 4034, 'demand': 4035, 'warned': 4036, 'trailers': 4037, 'cars': 4038, 'cheeky': 4039, 'ponytail': 4040, 'gagas': 4041, 'weigh': 4042, 'medical': 4043, 'bye': 4044, 'dazzle': 4045, 'sparking': 4046, 'hocus': 4047, 'pocus': 4048, 'tool': 4049, 'legacy': 4050, 'extreme': 4051, 'fx': 4052, 'valentine’s': 4053, 'replaces': 4054, 'breakout': 4055, 'thron': 4056, 'tlc': 4057, 'warning': 4058, 'son’s': 4059, 'wrap': 4060, 'neil': 4061, 'gowns': 4062, 'twice': 4063, 'pals': 4064, 'replaced': 4065, 'pompeo': 4066, 'debunk': 4067, 'ignores': 4068, 'none': 4069, 'kinney': 4070, 'niece': 4071, 'shepherd': 4072, 'ellie': 4073, 'eagles': 4074, 'kim’s': 4075, 'crowned': 4076, 'tops': 4077, 'resurfaces': 4078, 'yeah': 4079, 'ticket': 4080, 'monroe': 4081, 'crit': 4082, 'glimpse': 4083, 'seems': 4084, 'issa': 4085, 'write': 4086, 'candy': 4087, 'grown': 4088, 'marks': 4089, 'catch': 4090, 'blank': 4091, 'goodby': 4092, 'avril': 4093, 'lavigne': 4094, 'declares': 4095, 'lifetime': 4096, 'snack': 4097, 'sources': 4098, 'benedict': 4099, 'cumberbatch': 4100, '‘keeping': 4101, 'texas': 4102, 'hacks': 4103, 'loose': 4104, 'normani': 4105, 'caused': 4106, 'jasper': 4107, 'passing': 4108, 'pratts': 4109, 'station': 4110, 'marciano': 4111, 'fking': 4112, 'sammi': 4113, 'dunst': 4114, '‘dwts’': 4115, 'stomach': 4116, 'radziwill': 4117, 'attempt': 4118, 'tamar': 4119, 'hairstyl': 4120, '‘can’t': 4121, 'lucky': 4122, 'jonah': 4123, 'confirming': 4124, 'began': 4125, 'cent': 4126, 'pitbull': 4127, '‘wonder': 4128, 'benson': 4129, 'buddy': 4130, 'kj': 4131, 'apa': 4132, 'stassi': 4133, 'hopeful': 4134, 'paulson': 4135, 'sale': 4136, 'killing': 4137, 'murphi': 4138, 'diplo': 4139, 'presenters': 4140, 'alpha': 4141, 'hamm': 4142, '‘my': 4143, 'trek': 4144, 'chynas': 4145, 'nashville': 4146, 'cyrus’': 4147, 'manning': 4148, 'pokes': 4149, 'superman': 4150, 'introduced': 4151, 'plac': 4152, 'quiz': 4153, 'mcconaughey': 4154, 'robinson': 4155, 'idris': 4156, 'publicly': 4157, 'competitive': 4158, 'headlin': 4159, 'kicked': 4160, 'cops': 4161, 'salma': 4162, 'richies': 4163, 'cancellation': 4164, 'bil': 4165, 'gordon': 4166, 'pine': 4167, 'bel': 4168, 'clues': 4169, 'guild': 4170, 'zeke': 4171, 'fallen': 4172, 'kingdom': 4173, 'musicians': 4174, 'mistaken': 4175, 'reunit': 4176, 'weve': 4177, 'marilyn': 4178, 'parody': 4179, 'injured': 4180, 'drags': 4181, 'trapped': 4182, 'mariska': 4183, 'shines': 4184, 'gonzalez': 4185, 'dismisses': 4186, 'stages': 4187, 'troy': 4188, 'healing': 4189, 'ghost': 4190, 'lambert’s': 4191, 'embarrass': 4192, 'keanu': 4193, 'ski': 4194, 'sheeran’s': 4195, 'nervous': 4196, 'embrace': 4197, 'tara': 4198, 'maci': 4199, 'farrow': 4200, 'elgort': 4201, 'steinfeld': 4202, 'offici': 4203, 'snake': 4204, 'silverman': 4205, 'fing': 4206, 'freaked': 4207, 'sho': 4208, 'tequila': 4209, 'scam': 4210, 'aunt': 4211, 'henderson': 4212, 'lethal': 4213, 'nod': 4214, 'bündchen': 4215, 'adult': 4216, 'troubl': 4217, 'panth': 4218, 'ninja': 4219, 'comic': 4220, 'reign': 4221, 'beckhams': 4222, 'ballerini': 4223, 'gymnast': 4224, 'hutchins': 4225, 'awkwardly': 4226, 'jackie': 4227, 'girl’': 4228, 'miguel': 4229, 'tricks': 4230, '‘dating': 4231, 'prior': 4232, 'dry': 4233, 'download': 4234, 'alums': 4235, 'dads': 4236, 'lowkey': 4237, 'rapp': 4238, 'jacksons': 4239, 'renewal': 4240, 'effect': 4241, 'blowout': 4242, 'letting': 4243, 'diari': 4244, 'except': 4245, 'master': 4246, 'facetime': 4247, 'ass': 4248, 'elimin': 4249, '‘it': 4250, 'slamming': 4251, 'thick': 4252, 'november': 4253, 'mccullough': 4254, 'extremely': 4255, 'friendly': 4256, 'games’': 4257, 'fabulous': 4258, 'strips': 4259, 'gavin': 4260, 'nattie': 4261, 'sense': 4262, 'espn': 4263, 'recording': 4264, 'shannen': 4265, 'gushing': 4266, 'helen': 4267, 'sudden': 4268, 'lara': 4269, 'buffy': 4270, 'aren’t': 4271, 'system': 4272, 'mistak': 4273, 'comedi': 4274, 'bliss': 4275, 'osbourne': 4276, 'independent': 4277, 'edward': 4278, 'capshaw': 4279, 'congratulates': 4280, 'hilarie': 4281, 'burton': 4282, 'leav': 4283, 'arr': 4284, 'foundation': 4285, 'cheers': 4286, 'goodwin': 4287, 'inner': 4288, 'bachelorette’s': 4289, 'sport': 4290, 'remembering': 4291, 'trol': 4292, 'considers': 4293, 'coaster': 4294, 'anthoni': 4295, '‘star': 4296, 'telling': 4297, 'receive': 4298, 'toilet': 4299, 'rumoured': 4300, 'emerged': 4301, 'brit': 4302, 'worry': 4303, 'helena': 4304, 'curse': 4305, 'confess': 4306, 'citizen': 4307, '‘live’': 4308, 'leading': 4309, 'gymnastics': 4310, 'badass': 4311, 'coy': 4312, 'wax': 4313, 'exgirlfriends': 4314, 'skipping': 4315, 'temporary': 4316, 'stitch': 4317, 'hamilton': 4318, 'alon': 4319, 'maid': 4320, 'superfan': 4321, 'pressparti': 4322, 'minute': 4323, 'accepts': 4324, 'reput': 4325, 'maddox': 4326, 'dangerous': 4327, 'feuds': 4328, 'bal': 4329, 'samantha': 4330, 'manson': 4331, 'photoshop': 4332, 'spoof': 4333, 'thread': 4334, 'mayim': 4335, 'weinstein’s': 4336, 'illustrated': 4337, 'gap': 4338, '‘we': 4339, 'soccer': 4340, 'sizzling': 4341, 'kkw': 4342, 'rooney': 4343, 'prep': 4344, 'oswalt': 4345, 'maybe': 4346, 'controversy': 4347, 'witch': 4348, 'albas': 4349, 'flipflops': 4350, 'gregg': 4351, 'managers': 4352, 'swear': 4353, 'foxx’s': 4354, 'skating': 4355, 'dealing': 4356, 'asiah': 4357, 'yellow': 4358, 'robot': 4359, 'saoirse': 4360, 'paparazzi': 4361, 'debbie': 4362, '”': 4363, 'manganiello': 4364, 'odell': 4365, 'gorg': 4366, 'medium’': 4367, 'zellweger': 4368, 'standing': 4369, 'touring': 4370, 'earned': 4371, 'doubl': 4372, 'waiting': 4373, 'evening': 4374, 'tamblyn': 4375, 'unite': 4376, 'poem': 4377, 'bachelor’': 4378, 'picked': 4379, 'fairy': 4380, 'boat': 4381, 'maluma': 4382, 'marital': 4383, 'sixpack': 4384, 'focused': 4385, 'valderrama': 4386, '‘harry': 4387, 'lori': 4388, 'force': 4389, 'college': 4390, 'size': 4391, 'zero': 4392, 'causes': 4393, 'stanton': 4394, 'completes': 4395, 'produce': 4396, 'stalking': 4397, 'appeal': 4398, 'shores': 4399, 'originals': 4400, 'clown': 4401, 'cosmetics': 4402, 'bans': 4403, 'skips': 4404, 'wiki': 4405, 'stat': 4406, 'aid': 4407, 'mcqueen': 4408, 'shaun': 4409, 'alison': 4410, 'lochte': 4411, 'cross': 4412, 'danc': 4413, 'assaulting': 4414, 'clue': 4415, 'resid': 4416, 'sobs': 4417, 'moss': 4418, 'rather': 4419, 'bullied': 4420, 'keaton': 4421, 'nostalgic': 4422, 'ey': 4423, 'shady': 4424, 'hollywood’s': 4425, 'diapers': 4426, 'shutdown': 4427, 'shaved': 4428, 'fassbender': 4429, 'edmonds': 4430, 'christening': 4431, 'bryant': 4432, 'concern': 4433, 'perrie': 4434, 'speculation': 4435, 'lowes': 4436, 'caroline': 4437, 'vaughn': 4438, 'livelys': 4439, 'fischer': 4440, 'f': 4441, 'lopez’s': 4442, 'stiles': 4443, 'ratner': 4444, 'suffering': 4445, 'couldn’t': 4446, '‘queer': 4447, 'actual': 4448, 'figur': 4449, 'precious': 4450, 'laugh': 4451, 'perrys': 4452, 'gayle': 4453, 'unbelievable': 4454, 'tense': 4455, 'rock’': 4456, 'bundchen': 4457, 'missouri': 4458, 'afi': 4459, 'hunt': 4460, 'macklemore': 4461, 'inspiration': 4462, 'warren': 4463, 'eleven': 4464, 'amnayzh': 4465, 'dewans': 4466, 'failing': 4467, 'worked': 4468, 'lie': 4469, 'shark': 4470, 'twinning': 4471, 'youve': 4472, 'proved': 4473, 'her’': 4474, 'sheknow': 4475, 'sza': 4476, '‘black': 4477, 'sonja': 4478, 'animal': 4479, 'blackish': 4480, 'julianna': 4481, 'involv': 4482, 'divorced': 4483, 'sexist': 4484, 'fortun': 4485, 'admit': 4486, 'adventures': 4487, 'roles': 4488, 'jenni': 4489, 'strategi': 4490, 'pizza': 4491, 'happening': 4492, 'fascinating': 4493, 'voting': 4494, 'cam': 4495, 'eyeshadow': 4496, 'niro': 4497, 'reach': 4498, 'stepping': 4499, 'laich': 4500, 'curtis': 4501, 'regular': 4502, '‘live': 4503, 'stumbles': 4504, 'brangelina': 4505, 'shemar': 4506, 'basic': 4507, 'rhett': 4508, 'adoption': 4509, 'house’': 4510, 'assistant': 4511, 'tie': 4512, 'agr': 4513, 'flying': 4514, 'flirt': 4515, 'sydney': 4516, 'causing': 4517, 'queen’s': 4518, 'bledel': 4519, 'hunnam': 4520, 'sting': 4521, 'krasinski': 4522, 'place’': 4523, 'bachelor’s': 4524, 'fault': 4525, 'hoffman': 4526, 'worri': 4527, 'destinys': 4528, 'away’': 4529, 'furi': 4530, 'regina': 4531, 'grop': 4532, 'marcille': 4533, 'intens': 4534, 'marvelous': 4535, 'supreme': 4536, 'rejects': 4537, 'writers': 4538, 'happiness': 4539, 'margaret': 4540, 'descend': 4541, 'piss': 4542, 'coordinator': 4543, 'ange': 4544, 'triangl': 4545, 'ugg': 4546, 'create': 4547, 'piers': 4548, 'skip': 4549, 'swoon': 4550, 'poss': 4551, 'nyong’o': 4552, 'supergirl': 4553, 'related': 4554, 'sens': 4555, 'invictus': 4556, 'disappoint': 4557, 'gabbana': 4558, 'stud': 4559, 'punch': 4560, 'hello': 4561, 'arizona': 4562, 'tamra': 4563, 'neverbeforeseen': 4564, 'stardom': 4565, 'entertain': 4566, 'bellas’': 4567, 'caitlin': 4568, 'bottle': 4569, 'toy': 4570, 'clap': 4571, 'klein': 4572, 'slay': 4573, 'dragons': 4574, 'cleavage': 4575, 'showed': 4576, 'tessa': 4577, 'cuddle': 4578, 'ragnarok': 4579, 'biography': 4580, 'world’': 4581, 'podcast': 4582, 'wel': 4583, 'recruit': 4584, 'copying': 4585, 'urbans': 4586, 'monster': 4587, 'marchesa': 4588, 'chosen': 4589, 'approach': 4590, 'trust': 4591, 'notorious': 4592, 'blige': 4593, 'origin': 4594, 'tomlinson': 4595, 'expose': 4596, 'han': 4597, 'africa': 4598, 'wifes': 4599, 'crushes': 4600, 'usher': 4601, 'city’': 4602, 'adopted': 4603, 'maren': 4604, 'investigating': 4605, 'riding': 4606, 'racy': 4607, 'remains': 4608, 'tragedi': 4609, 'huntingtonwhiteley': 4610, 'fallons': 4611, 'dna': 4612, 'wasting': 4613, 'wardrob': 4614, 'romain': 4615, 'glass': 4616, 'enlists': 4617, 'conan': 4618, 'womans': 4619, 'likes': 4620, 'jj': 4621, 'suki': 4622, 'compete': 4623, 'deliver': 4624, 'leo': 4625, 'afterparty': 4626, 'cinderella': 4627, 'aside': 4628, 'backstreet': 4629, 'type': 4630, 'grills': 4631, 'herbert': 4632, 'earth': 4633, 'girls’': 4634, 'wheeler': 4635, 'poor': 4636, 'portwoods': 4637, 'fujikawa': 4638, 'build': 4639, 'wal': 4640, 'hockey': 4641, 'warm': 4642, 'dominic': 4643, 'blows': 4644, 'martha': 4645, 'fiona': 4646, 'photobombs': 4647, 'monaco': 4648, 'tackle': 4649, 'schroeder': 4650, 'nsync': 4651, 'champagne': 4652, 'aladdin': 4653, 'pissed': 4654, 'pictured': 4655, 'clarksons': 4656, 'balance': 4657, 'performers': 4658, 'makeout': 4659, 'maddie': 4660, 'bonds': 4661, 'bisexual': 4662, 'lynch': 4663, 'sexism': 4664, 'pan': 4665, 'flawless': 4666, 'allowed': 4667, '‘to': 4668, 'racial': 4669, 'slur': 4670, 'autumn': 4671, 'sucks': 4672, 'browns': 4673, 'puppi': 4674, 'cultur': 4675, 'harvard': 4676, 'warn': 4677, 'weed': 4678, 'owens': 4679, 'shadowhunters': 4680, 'timberlak': 4681, 'teigen’s': 4682, 'china': 4683, 'thoughts': 4684, 'binge': 4685, 'hairstyle': 4686, 'jewelri': 4687, 'annabelle': 4688, 'bibb': 4689, 'downfall': 4690, 'homeless': 4691, 'handling': 4692, 'nephew': 4693, 'skarsgard': 4694, 'recreates': 4695, '‘still': 4696, 'hilari': 4697, 'irl': 4698, 'ident': 4699, 'janelle': 4700, '«': 4701, 'hearts': 4702, 'hargitay': 4703, 'hemsworths': 4704, 'livid': 4705, 'blade': 4706, 'runner': 4707, 'val': 4708, '‘despacito’': 4709, 'bachelorette’': 4710, 'abc’s': 4711, 'affordable': 4712, 'tinsley': 4713, 'legendary': 4714, 'deck': 4715, 'fl': 4716, 'surfaces': 4717, 'delay': 4718, 'silly': 4719, 'liv': 4720, 'mcgowan’s': 4721, 'glambot': 4722, 'lipinski': 4723, 'bookout': 4724, 'duti': 4725, 'ronan': 4726, 'khalid': 4727, 'invites': 4728, 'grenfell': 4729, 'natalia': 4730, '‘bad': 4731, 'copies': 4732, 'meaningful': 4733, 'eastwood': 4734, 'seagal': 4735, 'imagine': 4736, 'crack': 4737, 'claiming': 4738, 'lett': 4739, 'friends’': 4740, 'banana': 4741, 'bonet': 4742, 'kings': 4743, 'bonding': 4744, 'trolled': 4745, 'plummer': 4746, 'dana': 4747, 'wahlberg': 4748, 'lover': 4749, 'course': 4750, 'dear': 4751, '‘saturday': 4752, 'oral': 4753, 'ww': 4754, 'taste': 4755, 'lesbian': 4756, 'amelia': 4757, 'phillips': 4758, 'devastated': 4759, '‘scandal’': 4760, 'lesseps’': 4761, 'promise': 4762, 'blow': 4763, 'mysteri': 4764, 'gotham': 4765, 'pepsi': 4766, 'blown': 4767, 'schumers': 4768, 'gallery': 4769, 'explodes': 4770, 'riskiest': 4771, 'divas’': 4772, 'hilaria': 4773, 'axl': 4774, 'saving': 4775, 'caus': 4776, 'brands': 4777, 'theori': 4778, 'nanny': 4779, 'store': 4780, 'uncomfortable': 4781, 'champ': 4782, 'she’ll': 4783, 'federline': 4784, 'fill': 4785, 'keri': 4786, 'mane': 4787, 'gloria': 4788, 'posey': 4789, 'spoken': 4790, 'spectacular': 4791, 'fantasy': 4792, 'quietly': 4793, 'blossom': 4794, 'kfc': 4795, 'masters': 4796, 'manag': 4797, 'you’re': 4798, 'view’': 4799, 'showman': 4800, 'rocking': 4801, 'cravings': 4802, 'amount': 4803, 'patricks': 4804, 'paper': 4805, 'print': 4806, 'alan': 4807, 'paige': 4808, 'earli': 4809, 'braless': 4810, 'anger': 4811, 'pure': 4812, 'camille': 4813, 'franchise': 4814, 'chung': 4815, 'fandom': 4816, 'mana': 4817, '‘true': 4818, 'difficult': 4819, 'catwalk': 4820, 'nails': 4821, 'chang': 4822, 'amc': 4823, 'renews': 4824, 'brother’': 4825, 'glowing': 4826, 'remark': 4827, 'tolbert': 4828, 'bells': 4829, 'facial': 4830, 'dorado': 4831, 'slayer': 4832, 'hefn': 4833, 'underwoods': 4834, 'musics': 4835, 'civil': 4836, 'search': 4837, 'baskin': 4838, 'aw': 4839, 'combs': 4840, 'expos': 4841, 'anchor': 4842, 'carmen': 4843, 'mtvs': 4844, 'otunga': 4845, 'protective': 4846, 'race’': 4847, 'trans': 4848, 'outdoor': 4849, 'agdal': 4850, '‘hawaii': 4851, 'jermaine': 4852, 'stor': 4853, 'arch': 4854, 'wikipedia': 4855, 'rey': 4856, 'goss': 4857, '‘hollywood': 4858, 'file': 4859, 'garth': 4860, 'threatened': 4861, 'ella': 4862, 'evidence': 4863, 'shampoo': 4864, 'bbc': 4865, 'enjoying': 4866, 'incredibles': 4867, 'risk': 4868, 'wreck': 4869, 'fling': 4870, 'jamielynn': 4871, 'fishers': 4872, 'schulman': 4873, 'lilly': 4874, 'girardi': 4875, 'performances': 4876, 'ant': 4877, 'shiva': 4878, 'ego': 4879, '‘new': 4880, 'swap': 4881, 'inherit': 4882, 'staub': 4883, 'performed': 4884, 'commun': 4885, 'down': 4886, 'reddit': 4887, 'standing’': 4888, 'mock': 4889, 'shameless': 4890, 'eq': 4891, 'sending': 4892, 'dig': 4893, 'disappearance': 4894, 'serve': 4895, 'kardashianjenner': 4896, 'unlikely': 4897, 'ti': 4898, 'mass': 4899, 'rowland': 4900, 'pad': 4901, 'cory': 4902, 'cornel': 4903, 'lake': 4904, 'stedman': 4905, 'shooku': 4906, 'serenades': 4907, 'roselyn': 4908, 'quavo': 4909, 'charmed': 4910, 'diaries': 4911, 'kudrow': 4912, 'scooter': 4913, 'postop': 4914, 'buble': 4915, 'bialik': 4916, 'lying': 4917, 'lebron': 4918, 'legs': 4919, 'reynold': 4920, 'regarding': 4921, 'franchis': 4922, 'seem': 4923, 'deontay': 4924, 'telli': 4925, 'wednesday': 4926, 'arrival': 4927, 'highs': 4928, 'jude': 4929, 'lawyers': 4930, 'skarsgård': 4931, 'chocolate': 4932, 'written': 4933, 'cutting': 4934, 'onscreen': 4935, 'henson': 4936, 'community': 4937, 'bathing': 4938, 'yankee': 4939, 'griffin’s': 4940, 'cold': 4941, 'elimination': 4942, 'kimmels': 4943, 'dorsey': 4944, 'allstar': 4945, 'bon': 4946, 'girl’s': 4947, 'botch': 4948, 'treats': 4949, 'moved': 4950, 'knight': 4951, 'crashed': 4952, 'overdose': 4953, 'sheds': 4954, 'animated': 4955, 'relat': 4956, 'firstever': 4957, 'reaches': 4958, 'comedian': 4959, 'pr': 4960, 'harmonys': 4961, 'sibling': 4962, 'barcelona': 4963, 'me’': 4964, 'achievement': 4965, 'panel': 4966, 'foot': 4967, 'priceless': 4968, 'carrying': 4969, 'world’s': 4970, 'afford': 4971, 'minut': 4972, 'dedicates': 4973, 'addressed': 4974, 'exec': 4975, 'man’': 4976, 'swimwear': 4977, 'backyard': 4978, 'runs': 4979, 'maisie': 4980, 'americans': 4981, 'sought': 4982, 'vito': 4983, 'schnabel': 4984, 'sweetin': 4985, 'zombie': 4986, 'frappuccino': 4987, 'baio': 4988, 'patty': 4989, 'thighhigh': 4990, 'ackerley': 4991, 'tabloids': 4992, 'coast': 4993, 'aka': 4994, 'ridiculous': 4995, 'meal': 4996, 'honestly': 4997, 'competing': 4998, 'blanket': 4999, 'earring': 5000, 'destroy': 5001, 'chloë': 5002, 'ripped': 5003, 'rift': 5004, 'compani': 5005, 'insan': 5006, 'mamma': 5007, 'liar': 5008, 'pauly': 5009, 'mix': 5010, 'unrecognizable': 5011, 'sexu': 5012, 'braid': 5013, 'tension': 5014, 'melanie': 5015, 'kimberly': 5016, 'bathroom': 5017, 'fuels': 5018, 'welfare': 5019, 'wilsons': 5020, 'proposing': 5021, 'wave': 5022, 'pinks': 5023, 'derby': 5024, 'blind': 5025, 'cherry': 5026, 'fiancée': 5027, 'cohosts': 5028, 'alongside': 5029, 'creative': 5030, 'afterparti': 5031, 'krupa': 5032, 'grace’': 5033, 'news’': 5034, 'recreated': 5035, 'dane': 5036, 'difference': 5037, 'nak': 5038, 'stuck': 5039, 'karina': 5040, 'stan': 5041, 'kayla': 5042, 'witness': 5043, 'normal': 5044, 'author': 5045, 'marroquin': 5046, 'site': 5047, 'promote': 5048, 'floral': 5049, 'defamation': 5050, 'pixar': 5051, 'pushing': 5052, 'link': 5053, 'spiritual': 5054, 'responded': 5055, 'fully': 5056, 'kobe': 5057, 'beg': 5058, 'walked': 5059, 'familys': 5060, 'channeling': 5061, 'lift': 5062, 'murray’s': 5063, 'marissa’s': 5064, 'cheater': 5065, 'coaches': 5066, 'settling': 5067, 'vince': 5068, 'rac': 5069, 'movement': 5070, 'portman': 5071, 'jeter': 5072, 'porsha': 5073, 'deserve': 5074, 'ewan': 5075, 'cooking': 5076, 'bipolar': 5077, 'revived': 5078, 'lamberts': 5079, 'smile': 5080, 'falchuk': 5081, 'hiring': 5082, 'emoji': 5083, 'alessandra': 5084, 'nominee': 5085, 'exist': 5086, 'rhimes': 5087, 'happy’': 5088, 'fredrik': 5089, 'eklund': 5090, '‘botched’': 5091, 'achieve': 5092, 'graces': 5093, '‘best': 5094, 'crazi': 5095, 'es': 5096, 'laid': 5097, 'here’': 5098, 'bullying': 5099, 'remove': 5100, 'ace': 5101, 'debunking': 5102, 'cousin': 5103, 'stapleton': 5104, 'dissing': 5105, 'seyfried': 5106, 'shouldnt': 5107, 'rancic': 5108, 'f–king': 5109, 'america’s': 5110, 'cameras': 5111, 'holly': 5112, 'kym': 5113, 'garden': 5114, 'anyth': 5115, 'adopting': 5116, 'parodi': 5117, 'oldest': 5118, 'reporter': 5119, 'severe': 5120, 'pinterest': 5121, 'ralphie': 5122, 'forgot': 5123, 'mixup': 5124, 'nev': 5125, 'fury': 5126, 'bunny': 5127, 'pieces': 5128, 'mickey': 5129, 'deserv': 5130, 'adidas': 5131, 'mowry': 5132, 'arya': 5133, 'presidential': 5134, 'courtney': 5135, 'recoveri': 5136, 'gates': 5137, 'roger': 5138, 'lol': 5139, 'blam': 5140, 'alreadi': 5141, 'fly': 5142, 'increasingly': 5143, 'pitt–angelina': 5144, 'contract': 5145, 'watches': 5146, 'included': 5147, 'burgess': 5148, 'compare': 5149, 'audio': 5150, 'nipple': 5151, 'schwarzenegger': 5152, 'joliepitt': 5153, '‘all': 5154, 'bafta': 5155, 'anwar': 5156, 'lb': 5157, 'carson': 5158, 'reuniting': 5159, 'within': 5160, 'outs': 5161, 'laurel': 5162, 'jayne': 5163, 'mouth': 5164, 'giraffe': 5165, 'posting': 5166, 'selma': 5167, 'blair': 5168, 'weeknd’s': 5169, 'branch': 5170, 'medalist': 5171, 'bnn': 5172, 'bright': 5173, 'glenn': 5174, 'alive': 5175, 'vagina': 5176, 'bra': 5177, 'margulies': 5178, 'mischa': 5179, 'ronaldo': 5180, 'joseph': 5181, 'daphne': 5182, 'barefoot': 5183, 'watched': 5184, 'naming': 5185, 'copy': 5186, 'jeal': 5187, 'records': 5188, 'rousey': 5189, 'motion': 5190, 'gadots': 5191, 'transformed': 5192, 'lashes': 5193, 'eye’': 5194, 'offer': 5195, 'linda': 5196, 'phan': 5197, 'amp': 5198, 'retire': 5199, 'height': 5200, 'festive': 5201, 'chicago’s': 5202, 'frankie': 5203, 'focus': 5204, 'holmes’': 5205, 'jumpsuit': 5206, 'teaches': 5207, 'photoshoot': 5208, 'bohan': 5209, 'surgeon': 5210, 'ni': 5211, 'label': 5212, 'known': 5213, 'grandma': 5214, 'bath': 5215, 'timberlakes': 5216, 'lifechanging': 5217, 'revisit': 5218, 'jojo': 5219, 'horrible': 5220, 'mak': 5221, 'agent': 5222, 'kroy': 5223, 'wilde': 5224, 'ferguson': 5225, 'raid': 5226, 'audit': 5227, 'nancy': 5228, 'liked': 5229, 'bike': 5230, 'ill': 5231, 'recounts': 5232, 'preparing': 5233, 'introducing': 5234, 'raven': 5235, 'trials': 5236, 'rinna': 5237, 'investig': 5238, 'yacht': 5239, 'darnell': 5240, 'satan': 5241, 'cringeworthy': 5242, 'royce': 5243, 'families': 5244, 'wheelchair': 5245, 'polit': 5246, 'peas': 5247, 'vancamp': 5248, 'jury': 5249, 'rush': 5250, 'life’': 5251, 'prosecutor': 5252, 'sanders': 5253, 'clu': 5254, 'apologises': 5255, 'column': 5256, 'transpl': 5257, 'fetch': 5258, 'stewart’s': 5259, 'dawn': 5260, 'oreilly': 5261, 'crowe': 5262, 'forrest': 5263, 'hewitt': 5264, 'bother': 5265, 'lane': 5266, 'ruin': 5267, 'horrific': 5268, 'bailey': 5269, 'web': 5270, 'bigger': 5271, 'samberg': 5272, 'sketch': 5273, 'downs': 5274, 'eager': 5275, 'patti': 5276, 'unconventional': 5277, 'shaken': 5278, 'thousands': 5279, 'officiate': 5280, 'drinks': 5281, 'doll': 5282, 'solid': 5283, '‘amazing': 5284, 'estate': 5285, 'romances': 5286, 'rupaul’s': 5287, 'porter': 5288, 'surreal': 5289, 'nightmare': 5290, 'motorcycle': 5291, 'pataky': 5292, 'nbc’s': 5293, 'minajs': 5294, 'greek': 5295, 'royalty': 5296, 'hardy': 5297, 'venom': 5298, 'tania': 5299, 'ali': 5300, 'ultimatum': 5301, 'roman': 5302, 'wicked': 5303, 'several': 5304, 'defended': 5305, 'backup': 5306, 'carmella': 5307, 'training': 5308, 'competition': 5309, 'cure': 5310, 'kennard': 5311, 'willows': 5312, 'trap': 5313, 'fanny': 5314, 'titles': 5315, 'crying': 5316, 'mchugh': 5317, 'welcomed': 5318, 'skrein': 5319, 'governors': 5320, 'wag': 5321, 'dicaprios': 5322, 'transphobic': 5323, 'jazz': 5324, 'racially': 5325, 'possess': 5326, 'burns': 5327, 'mexican': 5328, 'easier': 5329, 'dolce': 5330, 'butler': 5331, 'tracy': 5332, 'practically': 5333, 'junior': 5334, 'bail': 5335, 'hefners': 5336, 'scrutiny': 5337, 'actresses': 5338, 'texting': 5339, 'timothee': 5340, 'kemper': 5341, 'patriots': 5342, 'him’': 5343, 'castl': 5344, 'univers': 5345, 'awards”': 5346, 'breakups': 5347, 'unveils': 5348, 'portraits': 5349, 'shook': 5350, 'grimes': 5351, 'annette': 5352, 'pearson': 5353, 'together’': 5354, 'other’': 5355, 'marvel’s': 5356, 'rubs': 5357, 'sparkling': 5358, 'shocks': 5359, 'bravorealhousew': 5360, 'cart': 5361, 'kotbs': 5362, 'padma': 5363, 'lakshmi': 5364, 'stretch': 5365, 'bashing': 5366, 'sheldon': 5367, 'merch': 5368, 'gush': 5369, 'paternity': 5370, 'bell’s': 5371, 'dragged': 5372, 'chopras': 5373, 'viola': 5374, 'murder’': 5375, 'duke': 5376, 'obrien': 5377, 'le': 5378, 'diana’s': 5379, 'skater': 5380, 'leblanc': 5381, 'rendition': 5382, 'watt': 5383, 'concealer': 5384, 'contour': 5385, 'door': 5386, 'mishap': 5387, 'midnight': 5388, 'prize': 5389, 'pregrammys': 5390, 'exposes': 5391, 'quote': 5392, 'carlos': 5393, 'suing': 5394, 'venice': 5395, 'experts': 5396, 'sunscreen': 5397, 'heughan': 5398, 'mr': 5399, 'farrell': 5400, 'facials': 5401, 'verlander': 5402, 'astrid': 5403, 'minnie': 5404, 'cannot': 5405, 'disorderly': 5406, 'conduct': 5407, 'pfeiffer': 5408, 'oldman': 5409, 'winston': 5410, 'presidents': 5411, 'schools': 5412, 'lewinsky': 5413, 'sneakers': 5414, 'hug': 5415, 'hippo': 5416, 'blindsided': 5417, 'peace': 5418, 'enemies': 5419, 'development': 5420, 'friday': 5421, 'hussey': 5422, 'venic': 5423, 'transparent': 5424, 'wall': 5425, 'punched': 5426, 'cambridg': 5427, 'cnn': 5428, 'pierson': 5429, 'brielle': 5430, 'deni': 5431, 'bikiniclad': 5432, 'swimming': 5433, 'spoiling': 5434, 'discovery': 5435, 'victory': 5436, 'ones': 5437, 'gotta': 5438, 'sweetly': 5439, 'bangs': 5440, 'taryn': 5441, 'antebellums': 5442, 'someth': 5443, 'pursuing': 5444, 'theresa': 5445, 'caputo': 5446, 'day’': 5447, 'elba': 5448, 'curls': 5449, 'heist': 5450, 'toll': 5451, 'alessia': 5452, 'prov': 5453, 'imag': 5454, 'unleashes': 5455, 'bun': 5456, 'conversation': 5457, 'market': 5458, 'i’ve': 5459, 'bosworth': 5460, 'surfac': 5461, 'donal': 5462, 'illuminati': 5463, 'jasmine': 5464, 'clippers': 5465, 'stagecoach': 5466, 'searching': 5467, 'gad': 5468, 'level': 5469, 'zandy': 5470, 'reich': 5471, 'amongst': 5472, 'harveys': 5473, 'mistake': 5474, 'facebook': 5475, 'given': 5476, 'ireland': 5477, 'ominous': 5478, 'everywher': 5479, 'shondaland': 5480, 'gentry': 5481, 'request': 5482, 'leader': 5483, 'yeezy': 5484, 'tan': 5485, 'dressing': 5486, 'we’ve': 5487, 'plenty': 5488, 'med': 5489, 'zendayas': 5490, 'romeo': 5491, 'ink': 5492, 'terrifying': 5493, 'balmain': 5494, 'emotionally': 5495, 'interviews': 5496, 'flips': 5497, 'screening': 5498, 'goldman': 5499, 'hitting': 5500, 'platt': 5501, 'ignore': 5502, 'airlines': 5503, 'hiltons': 5504, 'bowles': 5505, 'parkland': 5506, 'pedophiles': 5507, 'lola': 5508, 'worn': 5509, 'insider': 5510, '‘just': 5511, 'bread': 5512, 'daisy': 5513, 'circle': 5514, '‘second': 5515, 'ayesha': 5516, 'isaiah': 5517, 'mtv’s': 5518, 'wildest': 5519, 'wango': 5520, 'tango': 5521, 'con': 5522, 'retired': 5523, 'jab': 5524, 'collin': 5525, 'internets': 5526, 'cordens': 5527, 'confession': 5528, 'alwyns': 5529, 'quick': 5530, 'considered': 5531, 'attacked': 5532, 'knox': 5533, 'assaulted': 5534, 'bonkers': 5535, 'reform': 5536, 'hayek': 5537, 'pickup': 5538, 'mentions': 5539, 'natalya': 5540, 'lucki': 5541, 'pm': 5542, 'stacy': 5543, 'chapmans': 5544, 'nightmar': 5545, 'swaps': 5546, 'shine': 5547, 'raised': 5548, 'iphone': 5549, 'burger': 5550, 'pixie': 5551, 'dare': 5552, 'whove': 5553, 'walker': 5554, 'co': 5555, 'haven’t': 5556, 'francisco': 5557, 'aidy': 5558, 'commercial': 5559, 'greene': 5560, 'forest': 5561, 'odd': 5562, 'slit': 5563, 'aj': 5564, 'score': 5565, 'commit': 5566, 'absurd': 5567, 'apatow': 5568, 'thicke': 5569, 'arena': 5570, 'path': 5571, 'obamas': 5572, 'dominate': 5573, 'sessions': 5574, 'kara': 5575, 'grammer': 5576, 'awarded': 5577, 'fund': 5578, 'bilson': 5579, 'christensen': 5580, 'mcgregor': 5581, 'wissam': 5582, 'dushku': 5583, 'plaza': 5584, 'blankets': 5585, 'vogu': 5586, 'neidhart': 5587, 'embarrassing': 5588, 'schwimmer': 5589, 'meme': 5590, 'bendjimas': 5591, 'teach': 5592, 'september': 5593, 'hil': 5594, 'culture': 5595, 'saves': 5596, 'steemit': 5597, 'gained': 5598, 'lgbt': 5599, 'kutchers': 5600, 'mirai': 5601, '‘terrified’': 5602, 'redmayne': 5603, 'finalist': 5604, 'jlaw': 5605, 'rocked': 5606, 'ramsey': 5607, 'mcdonalds': 5608, 'sock': 5609, 'mortimer': 5610, 'opened': 5611, 'charvet': 5612, 'charl': 5613, 'kil': 5614, 'magroortiz': 5615, 'galecki': 5616, 'whit': 5617, 'showered': 5618, 'batali': 5619, 'empire': 5620, 'doug': 5621, 'necklace': 5622, 'shaves': 5623, 'jona': 5624, 'costa': 5625, 'organization': 5626, 'tambor': 5627, 'migos': 5628, 'beast': 5629, 'brinkley': 5630, 'ginnifer': 5631, 'emilie': 5632, 'leggings': 5633, 'arrangements': 5634, 'bynes': 5635, 'godfather': 5636, 'discussion': 5637, 'sat': 5638, 'downton': 5639, 'samuels': 5640, 'congress': 5641, 'wisdom': 5642, 'theat': 5643, 'draws': 5644, 'morley': 5645, '‘’': 5646, 'riley': 5647, '“it': 5648, 'bus': 5649, 'cenas': 5650, '‘riverdale’': 5651, 'japanese': 5652, 'doc': 5653, 'outburst': 5654, 'halfnaked': 5655, 'distance': 5656, 'blacklist': 5657, 'rage': 5658, '‘betrayed’': 5659, 'originals’': 5660, 'gallagher': 5661, 'older': 5662, 'apologize': 5663, 'futuristic': 5664, 'sigler': 5665, 'thoughtful': 5666, 'kimmel’s': 5667, 'grabs': 5668, 'paradises': 5669, 'anstead': 5670, 'botox': 5671, 'highest': 5672, 'tissues': 5673, 'haley': 5674, 'dolores': 5675, 'valley': 5676, 'locks': 5677, 'speechless': 5678, '‘avengers': 5679, 'staubs': 5680, 'gunner': 5681, 'filmmaker': 5682, 'books': 5683, 'charlottesville': 5684, 'acn': 5685, 'impossible': 5686, 'bella’s': 5687, 'slept': 5688, 'kravitz': 5689, 'octavia': 5690, 'bellamy': 5691, 'standard': 5692, 'apocalypse': 5693, 'su': 5694, 'cord': 5695, 'khaleds': 5696, 'retiring': 5697, 'veteran': 5698, 'predictions': 5699, 'dubai': 5700, 'ros': 5701, 'patients': 5702, 'previous': 5703, 'yoga': 5704, 'fari': 5705, 'separated': 5706, 'ck': 5707, 'moder': 5708, 'pusha': 5709, 'polo': 5710, '‘doesn’t': 5711, 'sanchez': 5712, 'waist': 5713, 'unicornthemed': 5714, 'dior': 5715, 'keira': 5716, 'knightley': 5717, '‘sex': 5718, 'involves': 5719, 'orders': 5720, 'hager': 5721, 'guard': 5722, 'remarks': 5723, 'betrayed': 5724, 'gel': 5725, 'madden': 5726, 'kany': 5727, 'ridiculously': 5728, 'trendy': 5729, 'sushi': 5730, 'antics': 5731, 'morrisons': 5732, 'weekly': 5733, 'cavaliers': 5734, 'experienced': 5735, 'accessories': 5736, 'small': 5737, 'spac': 5738, 'ron': 5739, 'spielberg': 5740, 'ravenel': 5741, 'eugenio': 5742, 'derbez': 5743, 'jen’s': 5744, 'pound': 5745, 'buying': 5746, 'ambassador': 5747, 'e’s': 5748, 'glitter': 5749, 'joaquin': 5750, 'tre': 5751, 'worse': 5752, 'roper': 5753, 'pres': 5754, 'trauma': 5755, 'rivers': 5756, 'rides': 5757, 'petti': 5758, 'life”': 5759, 'weirdly': 5760, 'spray': 5761, 'alien': 5762, 'khlo': 5763, 'homage': 5764, 'dempsey': 5765, 'vacationing': 5766, 'cabo': 5767, 'jrs': 5768, 'essentials': 5769, '‘vanderpump': 5770, 'koma': 5771, 'aap': 5772, 'scandalous': 5773, 'roasts': 5774, 'riveras': 5775, 'concerned': 5776, 'refer': 5777, 'spoiled': 5778, 'entry': 5779, 'madelaine': 5780, 'betray': 5781, 'wwes': 5782, 'milliondollar': 5783, 'alycia': 5784, 'bestie': 5785, 'praying': 5786, 'fails': 5787, 'jawdroppers': 5788, 'roma': 5789, 'rounds': 5790, 'pairs': 5791, 'chainsmokers': 5792, 'decades': 5793, 'dying': 5794, 'delivered': 5795, 'appearing': 5796, 'calf': 5797, 'ozuna': 5798, 'article': 5799, 'gurlcom': 5800, 'donovan': 5801, 'begin': 5802, 'mason': 5803, 'burning': 5804, 'rebeccas': 5805, 'guillermo': 5806, 'rekindle': 5807, 'poster': 5808, '‘cares': 5809, 'deeply’': 5810, 'confus': 5811, 'confident': 5812, 'mald': 5813, 'sitcom': 5814, 'apolog': 5815, 'rocco': 5816, 'boost': 5817, 'dame': 5818, 'leaning': 5819, 'twig': 5820, 'ladi': 5821, 'bee': 5822, 'adrienne': 5823, 'cruel': 5824, 'canceling': 5825, 'slate': 5826, 'gunn': 5827, 'roses': 5828, 'failure': 5829, 'bromance': 5830, 'annie': 5831, 'mileston': 5832, 'arie’s': 5833, 'counti': 5834, 'fm': 5835, 'donna': 5836, 'bomber': 5837, 'juicy': 5838, 'wav': 5839, 'halfsister': 5840, 'mi': 5841, 'athletes': 5842, 'retires': 5843, 'bora': 5844, 'brown’s': 5845, 'reeves': 5846, 'seattle': 5847, 'creates': 5848, 'rabbit': 5849, 'frank': 5850, 'begins': 5851, 'loughlin': 5852, 'everyday': 5853, 'terrible': 5854, 'beyhive': 5855, 'skyhigh': 5856, 'foy': 5857, 'nightclub': 5858, 'bullocks': 5859, 'nasti': 5860, 'murders': 5861, 'jun': 5862, 'chitown': 5863, 'neighbor': 5864, 'embracing': 5865, 'essential': 5866, 'george’s': 5867, 'lit': 5868, 'solution': 5869, 'counting': 5870, 'threaten': 5871, 'lincoln': 5872, 'dolls': 5873, 'fiery': 5874, 'landed': 5875, 'panic': 5876, 'tackles': 5877, 'seinfeld': 5878, 'destiny’s': 5879, 'atlanta’s': 5880, 'peach': 5881, 'conway': 5882, 'seaborn': 5883, 'happier': 5884, 'dawson': 5885, 'brides': 5886, 'vibes': 5887, 'bette': 5888, 'argument': 5889, 'insists': 5890, 'central': 5891, 'christen': 5892, 'cody': 5893, '‘way': 5894, 'eason': 5895, 'checked': 5896, 'schedul': 5897, 'reza': 5898, 'medals': 5899, 'choose': 5900, 'television': 5901, 'smirnoff': 5902, 'stormis': 5903, '‘top': 5904, 'serving': 5905, 'previously': 5906, 'polanski': 5907, 'liev': 5908, 'schreiber': 5909, 'roll': 5910, 'pray': 5911, 'exbf': 5912, 'devin': 5913, 'raw': 5914, 'sang': 5915, 'monthly': 5916, 'elisabeth': 5917, 'dol': 5918, 'oklahoma': 5919, 'likely': 5920, 'dawsons': 5921, 'creek': 5922, 'puma': 5923, 'threat': 5924, 'investigated': 5925, 'forcing': 5926, 'redcarpet': 5927, 'swim': 5928, 'exciting': 5929, 'collection': 5930, 'heiress': 5931, 'credits': 5932, 'twic': 5933, 'taught': 5934, 'kaya': 5935, 'uh': 5936, 'verdict': 5937, 'ja': 5938, 'zodiac': 5939, 'swimsuits': 5940, 'anytime': 5941, 'arielle': 5942, 'mccreery': 5943, 'hated': 5944, 'menu': 5945, 'tax': 5946, 'wozniacki': 5947, 'lakers': 5948, 'dash': 5949, 'zsa': 5950, 'parts': 5951, 'hunky': 5952, 'ignored': 5953, 'hales': 5954, 'jace': 5955, 'dion’s': 5956, 'resume': 5957, 'samuel': 5958, 'lyric': 5959, 'rhim': 5960, 'februari': 5961, 'abused': 5962, 'tuesday': 5963, 'slips': 5964, 'bode': 5965, 'postpregnancy': 5966, 'jelena': 5967, 'significant': 5968, 'digviralcom': 5969, 'pig': 5970, 'israel': 5971, 'aziz': 5972, 'ansari': 5973, 'scream': 5974, 'do’': 5975, 'cameran': 5976, 'eubanks': 5977, 'embraced': 5978, 'cameos': 5979, 'justic': 5980, 'fab': 5981, 'leno': 5982, 'chil': 5983, 'lima': 5984, 'empty': 5985, 'skills': 5986, 'suicidal': 5987, 'fyre': 5988, 'mercy': 5989, 'virgin': 5990, 'herjavec': 5991, 'fatherdaughter': 5992, 'ptsd': 5993, 'parenthood': 5994, 'psa': 5995, 'weirdest': 5996, 'bodysuit': 5997, 'impressions': 5998, 'judi': 5999, 'dench': 6000, 'spilling': 6001, 'gabriel': 6002, 'undeniable': 6003, 'tearfully': 6004, 'tuxedos': 6005, 'opulent': 6006, 'shorts': 6007, 'moms’': 6008, '‘mean': 6009, 'aguileras': 6010, 'rod': 6011, 'stint': 6012, 'ocean’s': 6013, 'prevent': 6014, 'politics': 6015, 'ny': 6016, 'mens': 6017, 'visited': 6018, 'tragedy': 6019, 'leeanne': 6020, 'mouse': 6021, 'repair': 6022, 'nbcs': 6023, 'spades': 6024, '‘third': 6025, 'charm’': 6026, 'william’s': 6027, 'hookups': 6028, 'lifestyl': 6029, 'rising': 6030, 'cried': 6031, 'mysterious': 6032, 'custodi': 6033, 'peak': 6034, 'tyson': 6035, 'hubby': 6036, 'kordei': 6037, 'removes': 6038, 'revisiting': 6039, 'loyal': 6040, 'polish': 6041, 'initial': 6042, 'elit': 6043, 'jonbenet': 6044, 'attract': 6045, 'humanitarian': 6046, 'bale': 6047, 'accessori': 6048, 'dirt': 6049, 'jets': 6050, 'gamble': 6051, 'undergoes': 6052, 'buzzing': 6053, 'nance': 6054, 'freeform': 6055, 'psych': 6056, 'themed': 6057, 'idol’s': 6058, 'covered': 6059, 'damons': 6060, 'storms': 6061, 'soleil': 6062, 'dazzling': 6063, 'thickes': 6064, 'way’': 6065, '“it’s': 6066, 'floor': 6067, 'appearances': 6068, 'wolfhard': 6069, 'jokingly': 6070, 'pieterse': 6071, 'laichs': 6072, 'grandson': 6073, 'olive': 6074, 'tituss': 6075, 'chat': 6076, 'disturbing': 6077, 'flaunt': 6078, 'pussycat': 6079, 'method': 6080, 'og’': 6081, 'bubble': 6082, 'presley': 6083, 'bow': 6084, 'bug': 6085, '‘wags': 6086, 'paltrow’s': 6087, 'bughead': 6088, '‘girls’': 6089, 'services': 6090, 'stuart': 6091, 'weitzman': 6092, 'insecure': 6093, 'oil': 6094, 'pax': 6095, '‘unbreakable': 6096, 'evolut': 6097, 'soar': 6098, 'puth': 6099, 'globetrotting': 6100, 'barton': 6101, 'defense': 6102, 'renner': 6103, 'heated': 6104, 'spa': 6105, 'bono': 6106, 'fals': 6107, 'wrinkles': 6108, 'peaks': 6109, 'memory': 6110, 'debate': 6111, 'naacp': 6112, 'sansa': 6113, 'surface': 6114, 'vicious': 6115, 'privacy': 6116, 'sorvino': 6117, 'jingle': 6118, 'cyruss': 6119, 'butterfly': 6120, 'texans': 6121, 'realize': 6122, 'abusing': 6123, 'messing': 6124, 'tale’': 6125, 'raped': 6126, 'postsplit': 6127, 'poland': 6128, 'threats': 6129, 'sofía': 6130, 'respons': 6131, 'booth': 6132, 'debra': 6133, 'overcome': 6134, 'juan': 6135, 'website': 6136, 'shayna': 6137, 'magazines': 6138, 'shots': 6139, 'showrunner': 6140, 'cow': 6141, 'daddi': 6142, 'felony': 6143, 'memoriam': 6144, 'accurate': 6145, 'parkers': 6146, 'memori': 6147, 'zoo': 6148, 'deb': 6149, 'revivals': 6150, 'waves': 6151, '‘fifty': 6152, 'abusive': 6153, 'ledg': 6154, 'flub': 6155, 'snooki': 6156, 'hart’s': 6157, 'botcheds': 6158, 'danes': 6159, 'definition': 6160, 'millers': 6161, 'pin': 6162, 'pills': 6163, 'powell': 6164, 'monologue': 6165, 'rupaul': 6166, 'hudsons': 6167, 'simpson’s': 6168, 'shantel': 6169, 'mag': 6170, 'isaacs': 6171, 'tygas': 6172, 'confesses': 6173, 'howie': 6174, 'shahs': 6175, 'sunset': 6176, 'who’ve': 6177, 'mika': 6178, 'brzezinski': 6179, 'smiling': 6180, 'karla': 6181, 'germani': 6182, 'bowling': 6183, 'rant': 6184, 'why’': 6185, 'writer': 6186, 'crib': 6187, 'whoopi': 6188, 'goldberg': 6189, 'ruining': 6190, 'daddario': 6191, 'f—': 6192, 'remov': 6193, 'cake': 6194, 'black’': 6195, 'permission': 6196, 'garland': 6197, 'ground': 6198, 'night’': 6199, 'military': 6200, 'damn': 6201, 'naughty': 6202, 'historic': 6203, 'injections': 6204, 'midseason': 6205, 'reference': 6206, 'oprahs': 6207, 'gma': 6208, 'katrina': 6209, 'wellness': 6210, 'app': 6211, 'lance': 6212, 'ongoing': 6213, 'strict': 6214, 'ozzy': 6215, 'amfar': 6216, 'saf': 6217, 'salad': 6218, 'castle': 6219, 'hannibal': 6220, 'crawfords': 6221, 'footag': 6222, 'hader': 6223, '‘it’s': 6224, 'ravens': 6225, 'stick': 6226, 'reads': 6227, 'watsons': 6228, 'onagain': 6229, 'offagain': 6230, 'produc': 6231, 'shahidis': 6232, 'absolute': 6233, '‘america’s': 6234, 'instagrams': 6235, 'odds': 6236, 'travels': 6237, 'expected': 6238, '‘most': 6239, 'expens': 6240, 'boyega': 6241, 'molli': 6242, 'nathan': 6243, 'billionair': 6244, 'sassy': 6245, 'midlife': 6246, 'vacations': 6247, '‘law': 6248, 'aint': 6249, 'gross': 6250, 'acts': 6251, 'kandi': 6252, 'relieved': 6253, 'deeply': 6254, 'spy': 6255, 'negative': 6256, 'stefani’s': 6257, 'dedicated': 6258, 'aretha': 6259, 'franklin': 6260, 'collapses': 6261, 'housewives’': 6262, 'shouldn’t': 6263, 'untold': 6264, 'sinc': 6265, 'fronts': 6266, 'groom': 6267, 'donatella': 6268, 'toya': 6269, 'collabor': 6270, 'insecur': 6271, 'theatre': 6272, 'manhattan': 6273, 'jewellery': 6274, 'cornell': 6275, 'diy': 6276, 'theory’': 6277, 'lends': 6278, 'kierra': 6279, '‘e': 6280, 'achieving': 6281, 'thre': 6282, 'bourdain’s': 6283, 'ensemble': 6284, 'clause': 6285, 'survive': 6286, 'motherdaughter': 6287, 'hubbard': 6288, 'espi': 6289, 'baldwin’s': 6290, 'up”': 6291, 'discovered': 6292, 'resemblance': 6293, 'lovato’s': 6294, 'else': 6295, 'remind': 6296, 'scarf': 6297, 'bucks': 6298, 'gaining': 6299, 'keshas': 6300, 'designs': 6301, 'lyme': 6302, 'smooch': 6303, 'hw': 6304, 'kisser': 6305, 'handler': 6306, 'versus': 6307, 'owen': 6308, 'chao': 6309, 'liza': 6310, 'weil': 6311, 'dance’': 6312, 'franken': 6313, 'setting': 6314, 'facialist': 6315, 'critic': 6316, 'miser': 6317, 'maisel': 6318, 'woods’': 6319, 'syrian': 6320, 'alexi': 6321, 'pesky': 6322, 'powel': 6323, 'rudd': 6324, 'apologizing': 6325, 'jungle': 6326, 'solve': 6327, '“so': 6328, 'manchest': 6329, 'maxim': 6330, 'renovations': 6331, 'sailing': 6332, 'rushes': 6333, '‘good': 6334, 'he’ll': 6335, 'congratulate': 6336, 'curly': 6337, 'valletta': 6338, 'youthful': 6339, 'gere': 6340, 'wondering': 6341, 'eyelin': 6342, 'neverending': 6343, 'presents': 6344, 'si': 6345, 'neyo': 6346, 'somebody': 6347, 'pierce': 6348, 'founder': 6349, 'sultry': 6350, 'goslings': 6351, 'pratt’s': 6352, 'lamars': 6353, 'humble': 6354, '‘truth': 6355, 'unborn': 6356, 'felon': 6357, 'funni': 6358, 'burglary': 6359, '‘mamma': 6360, 'headey': 6361, 'daring': 6362, 'amaz': 6363, 'showers': 6364, 'offering': 6365, 'gwen’s': 6366, 'ronaldo’s': 6367, 'contouring': 6368, 'children’s': 6369, 'pataki': 6370, 'welch': 6371, 'foxs': 6372, 'neck': 6373, 'mimic': 6374, 'trafficking': 6375, 'farley': 6376, 'supportive': 6377, 'firsts': 6378, 'nbcuniversal': 6379, 'jewels': 6380, 'brigitte': 6381, 'ridicul': 6382, 'answered': 6383, 'strained': 6384, 'storylines': 6385, 'prayers': 6386, 'sequined': 6387, 'prop': 6388, 'rosanna': 6389, 'arquette': 6390, 'chasers': 6391, 'finalists': 6392, 'pearl': 6393, 'boykin': 6394, 'saga': 6395, 'brewer': 6396, 'nud': 6397, '‘lost': 6398, 'russia': 6399, 'violent': 6400, 'hills’': 6401, 'prosecutors': 6402, 'crossed': 6403, 'previews': 6404, 'roque': 6405, 'leap': 6406, 'knocked': 6407, 'unlock': 6408, 'detective': 6409, 'performing': 6410, 'dua': 6411, 'lipa': 6412, 'primetime': 6413, 'statham': 6414, 'giant': 6415, 'ashes': 6416, 'dewantatum': 6417, 'instru': 6418, 'week’s': 6419, 'marissa': 6420, 'a…': 6421, 'thatll': 6422, 'caitlyn’s': 6423, 'nxivm': 6424, 'relaxed': 6425, 'trace': 6426, 'wade': 6427, 'sil': 6428, 'flood': 6429, 'juice': 6430, 'parol': 6431, 'testing': 6432, 'nye': 6433, 'lacheys': 6434, 'novemb': 6435, 'ca': 6436, 'kfmb': 6437, 'gifs': 6438, 'convers': 6439, 'maple': 6440, 'boring': 6441, 'spf': 6442, 'mermaidthemed': 6443, '‘outlander’': 6444, 'aaliyah': 6445, 'subtly': 6446, 'lanter': 6447, 'grief': 6448, 'kohanski': 6449, 'pump': 6450, 'turks': 6451, 'matches': 6452, 'jedediah': 6453, 'bila': 6454, 'hencha': 6455, 'voigt': 6456, 'beth': 6457, 'brits': 6458, 'kraines': 6459, 'charms': 6460, 'adding': 6461, 'example': 6462, 'let’s': 6463, 'pressuring': 6464, 'biels': 6465, 'veep': 6466, 'attendees': 6467, 'bargain': 6468, 'sinn': 6469, 'behaviour': 6470, 'bullst': 6471, 'lau': 6472, 'unveil': 6473, 'consciously': 6474, 'blocking': 6475, 'lookalik': 6476, 'mar': 6477, 'faced': 6478, 'prepping': 6479, 'insid': 6480, 'halcro': 6481, 'bloody': 6482, 'ziegler': 6483, 'prewedding': 6484, 'accusation': 6485, 'forgives': 6486, 'apollo': 6487, 'exfiancé': 6488, 'blaine': 6489, 'hears': 6490, 'vet': 6491, 'blakes': 6492, 'points': 6493, 'lucas': 6494, 'lock': 6495, 'lii': 6496, 'parodies': 6497, 'mountain': 6498, 'maher': 6499, 'beachs': 6500, 'forgiving': 6501, 'wags’': 6502, 'ajirotutu': 6503, 'it”': 6504, 'titan': 6505, 'explicit': 6506, 'loui': 6507, 'terrell': 6508, 'cozies': 6509, 'nas': 6510, 'golfer': 6511, 'hiphop': 6512, 'icons': 6513, 'ferrari': 6514, 'overcame': 6515, 'ear': 6516, 'favorites': 6517, 'aging': 6518, 'reverse': 6519, 'trusting': 6520, 'doubles': 6521, 'delicate': 6522, 'they’ll': 6523, 'ramsay': 6524, 'resurfac': 6525, 'mohamed': 6526, 'neon': 6527, 'favor': 6528, 'austen': 6529, 'greta': 6530, 'gerwig': 6531, 'varner': 6532, 'transgend': 6533, 'bryce': 6534, 'myers': 6535, 'bip': 6536, 'aspiring': 6537, 'affectionate': 6538, 'carolina': 6539, 'herrera': 6540, 'powder': 6541, 'smalls': 6542, 'lucifer': 6543, 'clive': 6544, 'pregrammy': 6545, 'vacation’': 6546, 'connect': 6547, 'monae': 6548, 'burglarized': 6549, 'decoding': 6550, 'clapback': 6551, 'seymour': 6552, 'identical': 6553, 'lastminute': 6554, 'kurt': 6555, 'endless': 6556, 'fragr': 6557, 'jk': 6558, 'rowling': 6559, 'reba': 6560, 'mcentire': 6561, 'praising': 6562, 'montgomery': 6563, 'anyon': 6564, 'diseas': 6565, 'waco': 6566, 'villain': 6567, 'alisters': 6568, 'code': 6569, 'athleisure': 6570, 'standifer': 6571, 'requests': 6572, 'nic': 6573, 'malfunction': 6574, 'lib': 6575, '⋆': 6576, 'dyed': 6577, 'puberme': 6578, 'fry': 6579, 'epitome': 6580, 'siblings': 6581, 'surrogacy': 6582, '—and': 6583, 'er': 6584, 'charleston': 6585, 'nupti': 6586, 'willa': 6587, 'beforeandafter': 6588, 'upp': 6589, 'mobb': 6590, 'substance': 6591, 'hemsworth’s': 6592, 'apply': 6593, 'il': 6594, 'liar’': 6595, 'miz': 6596, 'n': 6597, 'lax': 6598, 'arminarm': 6599, 'paulina': 6600, 'smil': 6601, 'patch': 6602, 'forbid': 6603, 'satanic': 6604, 'colbert’s': 6605, 'warnings': 6606, 'pastor': 6607, 'pattinsons': 6608, 'ridley': 6609, 'teas': 6610, 'hutchin': 6611, 'shakeup': 6612, 'club’': 6613, 'imagin': 6614, '‘ncis’': 6615, 'finish': 6616, 'aces': 6617, 'talked': 6618, 'lays': 6619, '‘smallville’': 6620, 'kpop': 6621, 'staffer': 6622, 'thanksgiv': 6623, 'stamp': 6624, 'cleaning': 6625, 'boston': 6626, 'splash': 6627, 'pact': 6628, 'apk': 6629, 'trey': 6630, 'songz': 6631, 'finalizes': 6632, 'perez': 6633, 'probation': 6634, 'boykins': 6635, 'viacom': 6636, 'denial': 6637, 'troubling': 6638, 'dad’s': 6639, 'simply': 6640, 'hearth': 6641, 'seductive': 6642, 'resurfaced': 6643, 'trashed': 6644, 'carried': 6645, 'bahama': 6646, 'shelf': 6647, 'grande’s': 6648, 'abrahams': 6649, '‘you': 6650, 'hamlin': 6651, 'winterspring': 6652, 'advance': 6653, '‘heartbroken’': 6654, 'parsons': 6655, 'spoofs': 6656, 'kate’s': 6657, 'pit': 6658, 'unstoppable': 6659, 'heaven': 6660, 'culpos': 6661, 'familiar': 6662, 'bam': 6663, 'margera': 6664, 'procedures': 6665, 'cod': 6666, 'period': 6667, 'auditions': 6668, 'fairytale': 6669, 'butter': 6670, 'adriana': 6671, 'recognize': 6672, 'dissed': 6673, 'movein': 6674, 'emerg': 6675, 'counseling': 6676, 'on’': 6677, 'sweats': 6678, 'joined': 6679, 'factor': 6680, 'newton': 6681, 'romcom': 6682, 'retirement': 6683, 'grows': 6684, 'university': 6685, 'murphys': 6686, 'bio': 6687, 'resigns': 6688, 'filthy': 6689, 'couture': 6690, 'wealthy': 6691, 'rossdale': 6692, 'industri': 6693, 'designing': 6694, '“love': 6695, 'pati': 6696, 'gilbert': 6697, 'pryor': 6698, 'romano': 6699, 'unusual': 6700, 'table': 6701, 'eye’s': 6702, 'filmed': 6703, 'speculating': 6704, 'dominates': 6705, 'nagasu': 6706, 'sweden': 6707, 'recordbreaking': 6708, 'stats': 6709, 'croft': 6710, 'raider': 6711, 'pleasure': 6712, 'feuded': 6713, 'yrigoyen': 6714, 'clare': 6715, 'enjoyed': 6716, 'jonbenét': 6717, 'knife': 6718, 'venue': 6719, 'wellbeing': 6720, 'lights': 6721, 'nolan': 6722, 'hiking': 6723, 'atlanna': 6724, 'keiynan': 6725, '‘house': 6726, 'cards’': 6727, 'grade': 6728, 'outrag': 6729, 'wouldnt': 6730, 'shad': 6731, 'tremblay': 6732, 'stone’s': 6733, 'exmanager': 6734, 'victor': 6735, 'grownish': 6736, 'heights': 6737, '‘beautiful’': 6738, 'space': 6739, 'wipes': 6740, 'unity': 6741, 'dud': 6742, 'minor': 6743, 'bald': 6744, 'sedaris': 6745, 'smoking': 6746, 'marijuana': 6747, 'rica': 6748, '‘rupaul’s': 6749, 'decis': 6750, 'heroin': 6751, 'clowns': 6752, 'knee': 6753, 'attacking': 6754, 'grateful': 6755, 'maynard': 6756, 'christie': 6757, 'ravin': 6758, 'prosecuted': 6759, 'figuring': 6760, 'sudeikis': 6761, 'harsh': 6762, 'grim': 6763, 'dupri': 6764, 'slowly': 6765, 'hell’': 6766, 'vial': 6767, 'doria': 6768, 'kelley': 6769, 'bottles': 6770, 'fits': 6771, 'closeup': 6772, 'minders': 6773, 'ban’': 6774, 'hooking': 6775, 'glad': 6776, 'redhead': 6777, 'bridezilla': 6778, 'strut': 6779, 'shorter': 6780, 'hanisch': 6781, 'lipsyncing': 6782, 'bentley': 6783, 'grindelwald': 6784, 'scares': 6785, 'blunder': 6786, 'forgive': 6787, 'twisted': 6788, 'complaints': 6789, 'youth': 6790, 'trading': 6791, 'tracksuit': 6792, 'russian': 6793, '‘awkward’': 6794, 'beyonc': 6795, 'oconnell': 6796, 'zylka': 6797, 'wows': 6798, 'jrod': 6799, 'redempt': 6800, 'determined': 6801, 'lot’': 6802, 'bonham': 6803, 'brunch': 6804, 'biel’s': 6805, 'mcenroe': 6806, 'adventur': 6807, 'gonzález': 6808, 'supplies': 6809, 'winters': 6810, 'resurrecting': 6811, 'pablo': 6812, 'pools': 6813, 'bomer': 6814, 'wrestler': 6815, '‘jealous': 6816, 'sand': 6817, 'm': 6818, 'facelift': 6819, 'andrea': 6820, 'aronofski': 6821, 'declared': 6822, 'tired': 6823, 'safai': 6824, 'brilliant': 6825, 'daniels': 6826, 'danceoff': 6827, 'silva': 6828, 'fatshaming': 6829, 'spoton': 6830, 'terrifi': 6831, 'max': 6832, 'gunvalsons': 6833, 'royal’s': 6834, 'suspended': 6835, 'brody': 6836, 'program': 6837, 'resurrected': 6838, 'war’': 6839, 'homemade': 6840, 'outlet': 6841, 'disput': 6842, 'equality': 6843, 'tab': 6844, 'scout': 6845, 'transylvania': 6846, 'suck': 6847, 'avail': 6848, 'uncommon': 6849, 'hooked': 6850, 'zoë': 6851, 'pnk': 6852, 'baftas': 6853, 'qvc': 6854, 'nate': 6855, 'medal': 6856, 'escapes': 6857, 'jennie': 6858, 'michel': 6859, 'lupus': 6860, 'african': 6861, 'spree': 6862, 'shearling': 6863, 'spoke': 6864, 'showtime': 6865, 'betch': 6866, 'abbeys': 6867, 'possibility': 6868, 'reflect': 6869, 'season’s': 6870, 'chappelle': 6871, 'salt': 6872, 'starz': 6873, 'glitters': 6874, 'dc': 6875, 'postits': 6876, 'culpa': 6877, 'switch': 6878, 'brandnew': 6879, 'kushner': 6880, 'supposed': 6881, 'error': 6882, 'emerge': 6883, 'rafael': 6884, 'braun': 6885, 'von': 6886, 'brosnahan': 6887, 'princ': 6888, 'abigail': 6889, 'insensitive': 6890, 'aged': 6891, 'jaime': 6892, 'nicholas': 6893, 'hunger': 6894, 'immigr': 6895, 'geeks': 6896, 'farrells': 6897, 'mehgan': 6898, 'efrons': 6899, 'jinger': 6900, 'soulcycle': 6901, 'radiant': 6902, 'hm': 6903, 'riverdale’s': 6904, 'traditions': 6905, 'juggling': 6906, 'on”': 6907, 'wint': 6908, 'cooki': 6909, 'bateman': 6910, 'closes': 6911, 'immigrant': 6912, 'texa': 6913, '‘mother’': 6914, 'parole': 6915, 'cousins': 6916, 'chain': 6917, 'dumbledore': 6918, 'posthumous': 6919, 'spooky': 6920, 'coldplay': 6921, 'complaint': 6922, 'pap': 6923, 'waverly': 6924, 'articl': 6925, 'petra': 6926, 'stepdad': 6927, 'jillian': 6928, 'okay': 6929, 'ye': 6930, 'olympia': 6931, 'delayed': 6932, 'tunes': 6933, 'gratitude': 6934, 'maisel’': 6935, 'wrist': 6936, 'stil': 6937, 'postheart': 6938, 'imposters': 6939, 'limelight': 6940, 'facetimes': 6941, 'og’s': 6942, 'veronica': 6943, 'joys': 6944, 'friend’': 6945, '‘ready': 6946, 'ryan’s': 6947, 'lifes': 6948, 'dragging': 6949, 'reel': 6950, 'musthav': 6951, 'jagger': 6952, 'odonnell': 6953, 'chateau': 6954, 'shayla': 6955, 'nerd': 6956, 'quality': 6957, 'bodyshaming': 6958, 'healthcare': 6959, 'goldbergs': 6960, 'toro': 6961, 'approves': 6962, 'thompson’s': 6963, 'trade': 6964, 'cavallaris': 6965, 'influence': 6966, 'creek’': 6967, 'levy': 6968, 'scorpion': 6969, 'canadian': 6970, 'vacay': 6971, 'emerges': 6972, 'vintage': 6973, 'tearjerking': 6974, '‘kevin': 6975, 'erinn': 6976, 'cosmetic': 6977, 'traumatized': 6978, '‘no': 6979, 'impl': 6980, 'tore': 6981, 'muscle': 6982, 'theatr': 6983, 'lettermans': 6984, 'cellulite': 6985, 'selena’s': 6986, 'arc': 6987, 'bod': 6988, 'challeng': 6989, 'basics': 6990, 'reshoot': 6991, 'singer’s': 6992, 'abasolo': 6993, 'oxygen': 6994, 'tj': 6995, 'sentenc': 6996, 'samira': 6997, 'wiley': 6998, 'refugee': 6999, 'shout': 7000, 'doute': 7001, 'policy': 7002, 'passenger': 7003, 'removal': 7004, 'game’': 7005, 'tutorial': 7006, 'texts': 7007, 'kenzo': 7008, 'reignites': 7009, 'ol': 7010, 'woo': 7011, 'telecast': 7012, 'gr': 7013, 'counselling': 7014, '‘walking': 7015, 'selfmade': 7016, 'large': 7017, 'emilio': 7018, 'nelsan': 7019, 'sesame': 7020, 'backtracks': 7021, 'monsters': 7022, 'slim': 7023, 'proven': 7024, 'demo': 7025, '‘me': 7026, 'fruit': 7027, 'suspicious': 7028, 'jones’': 7029, 'fool': 7030, 'recover': 7031, 'pony': 7032, 'scotland': 7033, 'differ': 7034, 'backstag': 7035, 'belt': 7036, 'around’': 7037, 'alley': 7038, 'moistur': 7039, 'me”': 7040, 'holy': 7041, 'devast': 7042, 'editor': 7043, 'cooks': 7044, 'hardwick': 7045, '‘radar': 7046, 'online’': 7047, 'aboard': 7048, 'hardly': 7049, 'wash': 7050, 'prequel': 7051, 'carters': 7052, 'robbies': 7053, 'demon': 7054, 'agre': 7055, 'jwoww': 7056, 'instant': 7057, 'walter': 7058, 'piec': 7059, 'arnett': 7060, 'alyson': 7061, 'taps': 7062, 'ritual': 7063, 'shamed': 7064, '“will': 7065, 'yikes': 7066, 'munn’s': 7067, 'deena': 7068, 'kimye': 7069, 'un': 7070, 'pearce': 7071, 'thing’': 7072, 'redefining': 7073, 'preoscars': 7074, 'rooms': 7075, 'carl': 7076, 'actor’s': 7077, 'keys': 7078, 'mirrors': 7079, 'ripas': 7080, 'river': 7081, 'remaining': 7082, 'scor': 7083, 'notebook': 7084, 'gente': 7085, 'chill': 7086, 'kellyanne': 7087, '‘pretty': 7088, 'joking': 7089, 'faris’': 7090, 'threes': 7091, 'replica': 7092, 'baby’': 7093, 'affleck’s': 7094, 'contemplated': 7095, 'circl': 7096, 'jovi': 7097, 'midler': 7098, 'waterhouse': 7099, 'badgley': 7100, 'madix': 7101, 'lovebirds’': 7102, 'tasty': 7103, 'farahan': 7104, 'popped': 7105, 'nigeria': 7106, 'france': 7107, 'boasts': 7108, 'condo': 7109, 'personality': 7110, 'lingeri': 7111, 'tel': 7112, 'chipotle': 7113, 'worldwide': 7114, 'sorry’': 7115, 'nword': 7116, 'strength': 7117, 'discovers': 7118, 'loc': 7119, 'advisor': 7120, 'gon': 7121, 'stevie': 7122, 'reassignment': 7123, '‘arrested': 7124, 'development’': 7125, 'wait’': 7126, 'horoscopes': 7127, 'ted': 7128, 'ranch': 7129, 'castillo': 7130, 'jealous’': 7131, 'spill': 7132, 'carlson': 7133, 'abcs': 7134, 'cinemacon': 7135, 'safety': 7136, 'attent': 7137, 'laurie': 7138, 'metcalf': 7139, 'famed': 7140, 'kylie’s': 7141, 'stranded': 7142, 'bali': 7143, 'advent': 7144, 'encounter': 7145, 'stones': 7146, 'pranked': 7147, 'worthy': 7148, 'certain': 7149, 'derulo': 7150, 'ix': 7151, 'reconciling': 7152, 'quaid': 7153, 'fe': 7154, 'fitting': 7155, 'nobody': 7156, '‘absolutely': 7157, 'toward': 7158, 'auct': 7159, 'handl': 7160, 'taunting': 7161, 'doting': 7162, 'radziwills': 7163, 'headline': 7164, 'clarks': 7165, 'rockin': 7166, 'sides': 7167, '‘pirates': 7168, 'scodelario': 7169, 'ship': 7170, 'paisley': 7171, 'ruling': 7172, 'crown’': 7173, 'metzs': 7174, 'butl': 7175, 'dutch': 7176, '‘gossip': 7177, 'cop’': 7178, 'scotty': 7179, 'slap': 7180, 'hugely': 7181, 'bollywood': 7182, 'blak': 7183, 'wrestlemania': 7184, 'trivia': 7185, 'ugliest': 7186, 'coverag': 7187, 'committed': 7188, 'laying': 7189, 'ov': 7190, 'debunks': 7191, 'des': 7192, 'f–k': 7193, 'tongue': 7194, 'misty': 7195, 'raping': 7196, 'kunis’': 7197, 'float': 7198, 'abdul': 7199, 'penthouse': 7200, 'besties': 7201, 'suggests': 7202, 'photoshopping': 7203, 'targaryen': 7204, 'ricardo': 7205, 'ankle': 7206, 'immigration': 7207, 'flinch': 7208, 'mummy': 7209, 'wings': 7210, 'spoiler': 7211, 'potter’': 7212, 'lawson': 7213, 'pott': 7214, 'goahead': 7215, 'whose': 7216, 'altar': 7217, 'grandmoth': 7218, 'admitted': 7219, 'peck': 7220, 'leatham': 7221, 'hartley': 7222, 'prepar': 7223, 'lessep': 7224, 'sob': 7225, 'companies': 7226, 'aisha': 7227, 'henstridg': 7228, 'pilates': 7229, 'lautner': 7230, 'cheban': 7231, 'chuck': 7232, 'mulan': 7233, 'infection': 7234, 'kraus': 7235, 'hunter': 7236, 'boyd': 7237, 'heart’': 7238, 'sparrow': 7239, 'canada': 7240, 'annoyed': 7241, '“this': 7242, 'supernatural': 7243, 'depps': 7244, 'cinematic': 7245, 'grac': 7246, 'rosario': 7247, 'pdafilled': 7248, 'rhonys': 7249, 'panels': 7250, 'mj': 7251, 'mcgraws': 7252, 'complications': 7253, 'dust': 7254, 'scores': 7255, 'wolves': 7256, 'recall': 7257, 'donuts': 7258, 'headlines': 7259, 'boom': 7260, 'converse': 7261, 'pell': 7262, 'hysterical': 7263, 'dali': 7264, 'charlott': 7265, 'ya': 7266, 'springs': 7267, 'seal': 7268, 'lenny': 7269, 'firstpost': 7270, 'divided': 7271, 'nominated': 7272, '‘long': 7273, 'noth': 7274, 'rejoice': 7275, 'income': 7276, 'shore’': 7277, 'shaving': 7278, '‘happy': 7279, 'donor': 7280, 'schuman': 7281, 'headtohead': 7282, 'housewife': 7283, 'noshow': 7284, 'estefan': 7285, 'sis': 7286, 'fools': 7287, 'somewhere': 7288, 'darker': 7289, 'decorating': 7290, 'exercis': 7291, 'sanaa': 7292, 'lathan': 7293, 'striped': 7294, 'rb': 7295, 'packing': 7296, 'locken': 7297, 'madly': 7298, 'chops': 7299, 'smith’s': 7300, 'pam': 7301, 'zarin’s': 7302, 'man”': 7303, 'arrangement’s': 7304, 'frankels': 7305, 'silverstone': 7306, 'poppins': 7307, 'glen': 7308, 'mermaids': 7309, 'prostitution': 7310, 'scaramucci': 7311, 'ate': 7312, 'primary': 7313, 'crop': 7314, 'freezing': 7315, 'cocreator': 7316, 'form': 7317, 'competit': 7318, 'toned': 7319, 'triple': 7320, 'bates': 7321, 'finales': 7322, '‘so': 7323, 'obvi': 7324, 'cobain': 7325, 'bean': 7326, 'trl': 7327, 'morphing': 7328, 'popstar': 7329, 'elf': 7330, 'dyes': 7331, 'doubt': 7332, 'elverum': 7333, 'pas': 7334, 'bless': 7335, 'rickles': 7336, 'liz': 7337, 'pulling': 7338, 'hates': 7339, 'wagner': 7340, 'translated': 7341, 'wraps': 7342, 'highway': 7343, 'disaster': 7344, 'factchecking': 7345, 'mollen': 7346, 'odom’s': 7347, 'prague': 7348, 'sitting': 7349, 'retreat': 7350, 'session': 7351, 'nylon': 7352, 'melton': 7353, 'menounos': 7354, 'whispers': 7355, 'feminine': 7356, '‘locked': 7357, 'dumb': 7358, 'maintain': 7359, 'chronic': 7360, 'condit': 7361, 'returned': 7362, 'acms': 7363, 'followers': 7364, 'moynihan': 7365, 'willing': 7366, 'latina': 7367, 'ivana': 7368, 'kanyes': 7369, 'eugeni': 7370, 'confessions': 7371, 'frye': 7372, 'qb': 7373, 'walmart': 7374, 'kufrins': 7375, '‘jimmy': 7376, '‘kids’': 7377, 'receiving': 7378, 'madeleine': 7379, 'mississippi': 7380, '“one': 7381, 'lukasiak': 7382, 'bashes': 7383, 'goal': 7384, 'student': 7385, 'retro': 7386, 'itll': 7387, 'confusing': 7388, 'sales': 7389, 'wynonna': 7390, 'gifting': 7391, 'josephine': 7392, 'coolest': 7393, 'ic': 7394, 'stirs': 7395, 'mascara': 7396, 'wieber': 7397, '‘kimmy': 7398, 'dagostinos': 7399, 'sadness': 7400, 'sunny': 7401, 'spoils': 7402, 'block': 7403, 'solar': 7404, 'panther’': 7405, 'stalk': 7406, 'influential': 7407, 'jewish': 7408, 'holding': 7409, 'directions': 7410, 'spicer': 7411, 'therapi': 7412, 'flag': 7413, 'relays': 7414, 'wo': 7415, 'plants': 7416, 'notic': 7417, 'zooey': 7418, 'recast': 7419, 'searches': 7420, 'miamis': 7421, '‘everything': 7422, 'elop': 7423, 'pros': 7424, 'teaching': 7425, 'goldblum': 7426, 'letitia': 7427, 'provides': 7428, 'carys': 7429, 'chew': 7430, 'add': 7431, 'sizzle': 7432, 'disgusting': 7433, 'revisits': 7434, 'repeat': 7435, 'kellan': 7436, 'lutz': 7437, 'mum': 7438, 'marlon': 7439, '‘more': 7440, 'blazer': 7441, '‘twin': 7442, 'attracted': 7443, 'touched': 7444, 'della': 7445, 'spanish': 7446, 'convert': 7447, 'islam': 7448, 'phillip': 7449, 'coats': 7450, '“less': 7451, 'pleased”': 7452, 'skitrip': 7453, 'undercover': 7454, 'ultra': 7455, 'talan': 7456, 'torriero': 7457, 'mocking': 7458, 'illness': 7459, 'kirke': 7460, 'spirits': 7461, 'mira': 7462, 'iris': 7463, 'treated': 7464, 'worstdressed': 7465, 'commencement': 7466, 'bomb': 7467, 'emojis': 7468, 'bodyshamers': 7469, 'behalf': 7470, 'fever': 7471, 'zach': 7472, 'blackface': 7473, '‘twilight’': 7474, 'nixon': 7475, 'patrol': 7476, 'catsuit': 7477, 'space—but': 7478, 'florence': 7479, 'alejandro': 7480, 'exhibit': 7481, 'beatty': 7482, 'sampaio': 7483, 'mural': 7484, 'stripper': 7485, 'bands': 7486, '‘alone': 7487, 'execs': 7488, 'bay': 7489, 'tumultuous': 7490, 'balloon': 7491, 'eminems': 7492, 'mcdormand': 7493, 'mann': 7494, 'cookies': 7495, 'ortizmagros': 7496, 'wearable': 7497, 'swank': 7498, 'regime': 7499, 'iowa': 7500, 'enlisted': 7501, '‘gave': 7502, 'yesterday’': 7503, 'years’': 7504, 'lorenzo': 7505, 'bennet': 7506, 'renewing': 7507, 'grandparents': 7508, 'versac': 7509, 'convince': 7510, 'traditional': 7511, '‘there': 7512, 'khloe’s': 7513, 'mistress': 7514, 'ignor': 7515, 'sorri': 7516, 'dragon': 7517, 'unofficial': 7518, 'halloweentown': 7519, 'problems': 7520, 'convinc': 7521, 'embarrasses': 7522, 'spiegel': 7523, '‘quietly': 7524, 'dating’': 7525, 'meeting’': 7526, 'hamil': 7527, 'lesli': 7528, 'idina': 7529, 'menzel': 7530, 'custom': 7531, 'october': 7532, 'child’s': 7533, 'zago': 7534, 'witnessed': 7535, 'mustwatch': 7536, '“i’m': 7537, 'collab': 7538, 'famer': 7539, 'toms': 7540, 'evolved': 7541, 'vaginal': 7542, 'rebounds': 7543, 'ipad': 7544, 'city’s': 7545, 'patricia': 7546, 'kylies': 7547, 'molest': 7548, 'erupts': 7549, 'hides': 7550, 'earthquake': 7551, 'overnight': 7552, 'cable': 7553, 'cr': 7554, 'dejesus': 7555, 'fertility': 7556, 'spenc': 7557, 'chair': 7558, 'wheres': 7559, 'biden': 7560, 'payne’s': 7561, 'widely': 7562, 'everybody': 7563, 'tidal': 7564, 'reminder': 7565, 'platten': 7566, 'mirren': 7567, 'presenting': 7568, 'gener': 7569, 'dumping': 7570, 'purpose': 7571, 'frequently': 7572, 'struggl': 7573, 'ana': 7574, 'rosé': 7575, 'vib': 7576, 'opts': 7577, 'nastier': 7578, '‘revenge': 7579, 'passionately': 7580, 'hanson': 7581, 'yo': 7582, 'jo': 7583, 'odonnells': 7584, 'childs': 7585, 'includ': 7586, 'musthave': 7587, 'rental': 7588, 'courage': 7589, 'roast': 7590, 'interested': 7591, 'recorded': 7592, 'streep’s': 7593, 'degrassi': 7594, 'sinister': 7595, 'haunt': 7596, 'nickname': 7597, 'daryl': 7598, 'switched': 7599, 'education': 7600, 'athlet': 7601, 'bapt': 7602, 'souza': 7603, 'ton': 7604, 'bartons': 7605, 'matchmaker': 7606, 'weath': 7607, 'eclips': 7608, 'mingle': 7609, 'jenkins': 7610, 'teddy': 7611, 'largest': 7612, 'europe': 7613, 'ditching': 7614, '‘love': 7615, 'suggest': 7616, 'ledger': 7617, 'numbers': 7618, 'home’': 7619, 'mood': 7620, 'yvonne': 7621, 'strahovski': 7622, 'kumail': 7623, 'nanjiani': 7624, 'grow': 7625, 'dater': 7626, 'dye': 7627, 'cringe': 7628, 'launched': 7629, 'mob': 7630, 'antin': 7631, 'flipping': 7632, 'hudson’s': 7633, 'cruises': 7634, 'claflin': 7635, 'maltby': 7636, '‘stronger': 7637, 'harbour': 7638, 'random': 7639, 'cavallari’': 7640, '‘suicide': 7641, 'forest’': 7642, 'stormy': 7643, 'brooksbank': 7644, 'fi': 7645, 'shawna': 7646, 'whatever': 7647, 'stress': 7648, 'attempted': 7649, 'burst': 7650, 'mvp': 7651, 'redemption': 7652, 'stakes': 7653, 'higher’': 7654, 'everly': 7655, 'mitchel': 7656, 'davidsons': 7657, 'finalizing': 7658, 'caleb': 7659, 'hutchinson': 7660, 'burden': 7661, 'fletcher': 7662, 'bries': 7663, 'jack’s': 7664, 'mashup': 7665, 'sandals': 7666, 'pretend': 7667, 'bullock’s': 7668, 'rosemarie': 7669, 'greece': 7670, 'polizzi': 7671, 'malawi': 7672, 'deaths': 7673, 'reconnecting': 7674, 'faye': 7675, 'dunaway': 7676, 'end’': 7677, 'cropped': 7678, 'lynne': 7679, 'baby’s': 7680, 'auditioned': 7681, 'reunions': 7682, 'exercise': 7683, 'josie': 7684, 'adaptation': 7685, 'flame': 7686, 'thanking': 7687, 'drivers': 7688, 'septemb': 7689, 'you’': 7690, 'buress': 7691, 'happiest': 7692, 'zarins': 7693, 'trophy': 7694, 'breezy': 7695, 'nippl': 7696, 'guessing': 7697, 'peac': 7698, 'purple': 7699, 'pole': 7700, 'norton': 7701, '‘life': 7702, 'kylie’': 7703, 'flower': 7704, 'vot': 7705, 'terminal': 7706, 'gus': 7707, 'kenworthy': 7708, 'photograph': 7709, 'impromptu': 7710, 'violating': 7711, 'truck': 7712, 'snoop': 7713, 'dogg': 7714, 'figures': 7715, 'triangle': 7716, 'overhaul': 7717, 'wheel': 7718, 'beyoncé': 7719, 'unnecessary': 7720, 'comparison': 7721, 'brendan': 7722, 'ethan': 7723, 'dwt': 7724, '‘amazing’': 7725, 'snl’s': 7726, 'belongs': 7727, 'hottie': 7728, 'blamed': 7729, 'usc': 7730, 'heche': 7731, 'heaton': 7732, 'reprise': 7733, 'clos': 7734, 'degeneres’': 7735, 'chaotic': 7736, 'stormed': 7737, 'shakes': 7738, 'blackout': 7739, 'senate': 7740, 'susan': 7741, 'cancerstricken': 7742, 'julian': 7743, 'flags': 7744, 'terri': 7745, 'cosy': 7746, 'tinashe': 7747, 'david’s': 7748, 'notes': 7749, 'lohans': 7750, 'btch’': 7751, 'devil': 7752, 'catfish': 7753, 'featured': 7754, 'proudly': 7755, 'sights': 7756, 'georges': 7757, 'responses': 7758, 'weightloss': 7759, 'docuseries': 7760, 'stepped': 7761, '‘tonight': 7762, 'spel': 7763, 'ivi': 7764, 'releasing': 7765, 'rally': 7766, 'betrayal': 7767, 'mulder': 7768, 'hugs': 7769, 'denzel': 7770, 'sponsor': 7771, 'trolling': 7772, 'peep': 7773, 'longterm': 7774, 'heroes': 7775, 'gymnasts': 7776, 'encyclopedia': 7777, 'departur': 7778, 'shoutout': 7779, 'ibiza': 7780, 'burruss': 7781, 'avicii': 7782, 'driv': 7783, 'mudslide': 7784, 'klums': 7785, 'danger': 7786, 'stayed': 7787, 'experiences': 7788, 'ads': 7789, 'girly': 7790, 'clash': 7791, 'tobey': 7792, 'bombing': 7793, 'ralph': 7794, 'bummed': 7795, 'insight': 7796, 'shunning': 7797, 'restaurants': 7798, 'diaper': 7799, 'faven': 7800, 'biceps': 7801, 'politicians': 7802, 'observ': 7803, 'metallic': 7804, 'brenda': 7805, 'charli': 7806, 'xcx': 7807, 'ming': 7808, 'sober': 7809, 'houska': 7810, 'gerb': 7811, 'svu’': 7812, 'wrestling': 7813, 'square': 7814, 'survived': 7815, 'dot': 7816, 'willis': 7817, 'colors': 7818, 'broad': 7819, 'succession': 7820, 'jourdan': 7821, 'dunn': 7822, 'eggert': 7823, 'oras': 7824, 'glov': 7825, 'pimple': 7826, 'choos': 7827, 'wrongful': 7828, 'waxing': 7829, 'minds': 7830, 'glennon': 7831, 'poignant': 7832, 'matched': 7833, 'turbulent': 7834, 'payn': 7835, '‘fuller': 7836, 'scherzinger': 7837, 'salari': 7838, 'wisin': 7839, 'yandel': 7840, 'bowman': 7841, 'offerman': 7842, 'sew': 7843, 'delight': 7844, 'geoffrey': 7845, 'waited': 7846, 'apart’': 7847, 'norman': 7848, 'simpsonross': 7849, '‘firing’': 7850, 'stroll': 7851, 'behind’': 7852, 'desiree': 7853, 'morbid': 7854, 'writ': 7855, 'brexit': 7856, 'baker': 7857, 'culberson': 7858, 'sneaky': 7859, 'bischoff': 7860, 'charts': 7861, 'latavia': 7862, 'roberson': 7863, '‘blown': 7864, '‘obsessed’': 7865, 'tropical': 7866, 'singleseason': 7867, 'settl': 7868, 'brutally': 7869, 'rag': 7870, 'arrows': 7871, 'amell': 7872, 'sixth': 7873, 'detox': 7874, 'teenagers’': 7875, 'tuxedo': 7876, 'graduation': 7877, 'thus': 7878, 'indepth': 7879, 'captions': 7880, 'heartbeat': 7881, '‘blow': 7882, 'mind’': 7883, '‘world': 7884, 'ignites': 7885, 'accounts': 7886, 'langford': 7887, 'wiig': 7888, 'sexting': 7889, 'refuge': 7890, 'ashe': 7891, 'hasty': 7892, 'papers': 7893, 'drank': 7894, 'lovedup': 7895, 'fills': 7896, 'depaola': 7897, 'ken': 7898, 'alves': 7899, 'surgeries': 7900, 'quizzed': 7901, 'chicagos': 7902, 'aquaria': 7903, 'neighbors': 7904, 'bothered': 7905, 'anim': 7906, 'shampoos': 7907, 'rupturing': 7908, 'eardrum': 7909, 'superlatives': 7910, 'pregnancies': 7911, 'trespassing': 7912, 'damage': 7913, 'trim': 7914, 'insults': 7915, 'molesting': 7916, 'priscilla': 7917, 'weeknds': 7918, '‘bye': 7919, 'bassett': 7920, 'hijab': 7921, 'bernie': 7922, 'husband’s': 7923, 'booz': 7924, 'freeforms': 7925, 'obviously': 7926, 'brock': 7927, 'mehra': 7928, 'engage': 7929, 'protection': 7930, 'butterfli': 7931, 'bodybuilding': 7932, 'felton': 7933, 'muggles': 7934, 'sunshine': 7935, 'beautyzoninfo': 7936, 'montags': 7937, 'restore': 7938, 'effects': 7939, 'muscles': 7940, '‘babe’': 7941, 'honeymooning': 7942, 'fragrance': 7943, '…': 7944, 'careers': 7945, 'mia’': 7946, 'illuminati”': 7947, 'derick': 7948, 'dillard': 7949, 'lie’': 7950, 'plead': 7951, 'lfo': 7952, 'princes': 7953, 'rodríguez': 7954, 'bearmcclard': 7955, 'papa”': 7956, 'milan': 7957, 'trudeau': 7958, '“': 7959, 'divorce”': 7960, 'burtka': 7961, 'nacho': 7962, 'mills': 7963, 'shotgun': 7964, 'milk': 7965, 'stock': 7966, 'uni': 7967, 'armed': 7968, 'behold': 7969, 'gesture': 7970, 'disguise': 7971, 'shapeshifting': 7972, 'mayers': 7973, 'spinoffs': 7974, 'dog”': 7975, 'matters': 7976, 'alden': 7977, 'ehrenreich': 7978, 'monro': 7979, '‘they’re': 7980, 'spencers': 7981, 'sooner': 7982, 'to…': 7983, 'sweaty': 7984, 'compar': 7985, 'tags': 7986, 'weekly’': 7987, 'leopold': 7988, 'gaga’s': 7989, 'scouts': 7990, 'space’': 7991, 'demileigh': 7992, 'cape': 7993, 'marisa': 7994, 'tomei': 7995, 'breakers': 7996, '‘fixer': 7997, 'upper’': 7998, 'schooled': 7999, 'mackie': 8000, 'envelope': 8001, 'hostage': 8002, 'azealia': 8003, 'wandering': 8004, 'halls': 8005, 'circulating': 8006, 'alludes': 8007, 'dodgeball': 8008, 'onstag': 8009, 'line’': 8010, 'comforts': 8011, 'belle': 8012, 'shoe': 8013, '‘insecure’': 8014, '‘working': 8015, 'flat': 8016, 'trapeze': 8017, 'audi': 8018, 'egg': 8019, 'wtf': 8020, 'vartan': 8021, 'conflict': 8022, 'tempting': 8023, 'zack': 8024, 'snyder': 8025, 'souray': 8026, 'guru': 8027, 'nintendo': 8028, '‘carpool': 8029, 'karaoke’': 8030, 'tested': 8031, 'victim’': 8032, 'tomlin': 8033, 'flash’': 8034, 'directing': 8035, 'dieting': 8036, 'star’s': 8037, '‘radar’': 8038, 'dauriac': 8039, 'lagfueled': 8040, 'leans': 8041, 'deaf': 8042, 'hotels': 8043, 'suspends': 8044, 'macks': 8045, 'mantra': 8046, 'celebinspired': 8047, 'deleting': 8048, 'carries': 8049, 'aids': 8050, 'initiative': 8051, 'reinvent': 8052, 'pursue': 8053, 'portmans': 8054, '‘up': 8055, 'rowlands': 8056, 'instructor': 8057, 'electric': 8058, 'neve': 8059, 'chefs': 8060, 'interact': 8061, 'havana': 8062, 'classroom': 8063, 'angeles’': 8064, 'fergie’s': 8065, 'backtoschool': 8066, 'excellent': 8067, 'margo': 8068, 'jefferson': 8069, 'latte': 8070, 'xray': 8071, 'device': 8072, '‘upsetting’': 8073, 'caitriona': 8074, 'balfe': 8075, 'giancola': 8076, 'mackenle': 8077, 'beguiled': 8078, 'upstage': 8079, 'back’': 8080, 'sneaks': 8081, 'sexi': 8082, 'handbag': 8083, 'view’s': 8084, 'sch': 8085, 'bavarescos': 8086, 'vine': 8087, 'furlan': 8088, 'januari': 8089, 'hair’': 8090, 'sci': 8091, 'behrs': 8092, 'ledgers': 8093, 'kulture': 8094, 'claudia': 8095, 'sampedro': 8096, 'aim': 8097, 'children’': 8098, 'conor': 8099, 'kennedi': 8100, 'riot': 8101, '‘kim': 8102, 'divorce’': 8103, 'balconi': 8104, 'sandwich': 8105, 'roland': 8106, 'mouret': 8107, 'pep': 8108, 'conquering': 8109, 'selfdoubt': 8110, 'emerging': 8111, 'blooms': 8112, '‘threatened’': 8113, 'nyong’o’s': 8114, 'bland': 8115, 'dominique': 8116, 'denise': 8117, 'khloes': 8118, 'felicitys': 8119, 'teary': 8120, 'hilfiger': 8121, 'stressful': 8122, 'maloney': 8123, 'beginnings': 8124, 'chyna’s': 8125, 'violates': 8126, 'amendment': 8127, 'genie': 8128, 'ignite': 8129, 'suv': 8130, 'flipped': 8131, 'streets': 8132, 'retweeted': 8133, 'beyh': 8134, 'kinda': 8135, 'window': 8136, 'closeddoor': 8137, 'memo': 8138, 'guy’': 8139, 'mediterranean': 8140, 'voight': 8141, 'stevens': 8142, 'faci': 8143, 'truecrime': 8144, 'discussed': 8145, 'linden': 8146, 'coordinating': 8147, 'garlic': 8148, 'spade’s': 8149, '‘sober’': 8150, 'cred': 8151, 'fad': 8152, 'ginger': 8153, 'zee': 8154, 'lookalikes': 8155, 'pneumonia': 8156, 'practic': 8157, 'slippers': 8158, 'mums': 8159, 'pleas': 8160, 'spitting': 8161, '‘hooking': 8162, 'chemistri': 8163, 'brokaw': 8164, 'sensational': 8165, 'gorilla': 8166, 'maniac': 8167, 'born’': 8168, 'apologise': 8169, 'permanent': 8170, 'horribly': 8171, 'noticed': 8172, 'wallis': 8173, 'bralette': 8174, 'seethrough': 8175, 'biological': 8176, 'probst': 8177, 'maloneyschwartz': 8178, 'revives': 8179, 'midterm': 8180, 'elections': 8181, 'graham’s': 8182, 'sidomex': 8183, 'regrets’': 8184, 'swifties': 8185, 'channel’s': 8186, '‘andi': 8187, 'mack’': 8188, 'storylin': 8189, 'courtside': 8190, 'encouraged': 8191, 'scripted': 8192, 'savag': 8193, 'liner': 8194, 'skit': 8195, 'replac': 8196, 'kiernan': 8197, 'shipka': 8198, 'valerie': 8199, 'jarrett': 8200, 'supper': 8201, 'amthemed': 8202, 'ang': 8203, 'gunning': 8204, 'lifesize': 8205, 'vj': 8206, 'chainz': 8207, 'purses': 8208, 'cowardly': 8209, 'luxurious': 8210, 'odor': 8211, 'russel': 8212, 'farewel': 8213, '‘scandal’’how': 8214, '‘htgawm’': 8215, 'pins': 8216, 'bambi': 8217, 'waffle': 8218, 'utterly': 8219, 'classless': 8220, 'arrests': 8221, 'denied': 8222, 'kitsch': 8223, 'koresh': 8224, 'izombie': 8225, 'spad': 8226, 'danskin': 8227, 'crutches': 8228, 'boxer': 8229, 'prefers': 8230, 'rec': 8231, 'makeawish': 8232, 'theater': 8233, 'diddys': 8234, 'posh': 8235, 'bahamas': 8236, 'budget': 8237, 'veronika': 8238, 'mehras': 8239, 'santos': 8240, 'bday': 8241, 'freebies': 8242, 'restaur': 8243, 'reev': 8244, 'confer': 8245, 'rauch': 8246, 'toxicology': 8247, 'pittangelina': 8248, 'transition': 8249, 'oosterhouse': 8250, 'kellys': 8251, 'cornell’s': 8252, '‘idol’': 8253, 'coping': 8254, 'locked': 8255, 'songwriter': 8256, 'egot': 8257, 'molested': 8258, 'duos': 8259, 'poseoff': 8260, 'kapostasy': 8261, 'ultraromantic': 8262, 'rhetts': 8263, 'gray': 8264, 'devine': 8265, 'moran': 8266, 'reporting': 8267, 'logic': 8268, 'malumas': 8269, 'barulich': 8270, 'mug': 8271, 'kims': 8272, 'import': 8273, 'insta': 8274, 'condom': 8275, 'bodypositive': 8276, '“final': 8277, 'straw”': 8278, 'gradu': 8279, 'collaborating': 8280, 'spurs': 8281, 'exposing': 8282, 'refusal': 8283, 'elite': 8284, 'rehearsals': 8285, 'reporters': 8286, 'tbt': 8287, 'aja': 8288, 'radziwil': 8289, 'factcheck': 8290, 'hillsong': 8291, 'insecurity': 8292, 'risks': 8293, '“at': 8294, 'maroneys': 8295, 'earns': 8296, 'bestiality': 8297, 'you’d': 8298, 'attacker': 8299, 'proving': 8300, 'penni': 8301, 'tiara': 8302, 'washingtons': 8303, 'latifah': 8304, 'off’': 8305, 'chips': 8306, 'sextuplets': 8307, 'plu': 8308, 'olivier': 8309, 'villains': 8310, 'serratos': 8311, 'kushn': 8312, 'inlaws': 8313, 'protocol': 8314, 'dwyane': 8315, 'wades': 8316, 'questionable': 8317, 'responsible': 8318, 'debated': 8319, 'wrecking': 8320, 'name’': 8321, 'verlanders': 8322, 'hung': 8323, '‘splits’': 8324, '‘calls': 8325, 'wedding’': 8326, 'fiveyear': 8327, 'dukes': 8328, 'lunas': 8329, 'mckidd': 8330, 'thanos': 8331, 'sacrific': 8332, 'readers': 8333, 'kopelman': 8334, 'joe’s': 8335, 'progress': 8336, 'tavis': 8337, 'pbs': 8338, 'adv': 8339, 'tish': 8340, 'barn': 8341, 'pst': 8342, 'strangest': 8343, 'hardest': 8344, 'amused': 8345, 'libel': 8346, 'theyll': 8347, 'examining': 8348, 'climbed': 8349, 'comfy': 8350, 'cuocos': 8351, 'click': 8352, 'turner’s': 8353, 'masks': 8354, 'them’': 8355, 'rinnas': 8356, 'anorexia': 8357, 'kits': 8358, 'completed': 8359, 'bloom’s': 8360, 'clickbait': 8361, 'meadow': 8362, 'adventurous': 8363, 'elgort’s': 8364, 'violetta': 8365, 'komyshan': 8366, 'brags': 8367, 'bulimia': 8368, 'secur': 8369, 'hoodi': 8370, 'carter’s': 8371, 'whattup': 8372, 'nov': 8373, 'huntsman': 8374, 'fariss': 8375, 'bry': 8376, 'obtains': 8377, 'lifethreatening': 8378, 'sharknado': 8379, 'peanut': 8380, 'pickl': 8381, 'prais': 8382, 'bj': 8383, 'cookie': 8384, 'thrilling': 8385, 'thousand': 8386, 'marathons': 8387, '‘playboy’': 8388, 'stanley': 8389, 'felicity': 8390, 'suspension': 8391, 'published': 8392, 'implies': 8393, '“multiple': 8394, 'assaults”': 8395, 'republican': 8396, 'convention': 8397, 'bushs': 8398, 'ratajkowskis': 8399, '‘she’s': 8400, 'alexandria': 8401, 'injures': 8402, 'grammers': 8403, 'weber': 8404, 'offcamera': 8405, 'wisely': 8406, 'silvestre': 8407, 'superstore': 8408, 'nico': 8409, 'recreation': 8410, 'pleaded': 8411, 'undecided': 8412, 'dusty': 8413, 'jobs': 8414, 'disguis': 8415, 'procedur': 8416, 'compl': 8417, 'impulsive': 8418, 'corden’s': 8419, 'controversies': 8420, 'dickys': 8421, 'suri’s': 8422, 'shepards': 8423, 'samesex': 8424, 'parr': 8425, 'students': 8426, 'journalist': 8427, 'indicates': 8428, '‘sorry’': 8429, 'booted': 8430, 'palsy': 8431, 'erica': 8432, 'vergara’s': 8433, 'talks’': 8434, 'edgerton': 8435, 'actionpacked': 8436, 'chapel': 8437, 'pharrell': 8438, 'kellie': 8439, 'whitewashing': 8440, 'comfortable': 8441, 'drives': 8442, '‘he’s': 8443, 'decorations': 8444, '‘relieved’': 8445, 'donut': 8446, '‘publicly': 8447, 'humiliating’': 8448, 'connie': 8449, 'britton': 8450, 'quart': 8451, 'luxury': 8452, 'peth': 8453, 'reinhardt': 8454, 'junk': 8455, 'lele': 8456, 'fought': 8457, 'armstrong': 8458, 'designed': 8459, 'magnum': 8460, 'pi': 8461, 'lonsdale': 8462, 'tomorrow': 8463, 'comm': 8464, 'untangling': 8465, 'debacle': 8466, 'conditioner': 8467, 'struts': 8468, 'songstress': 8469, 'justine': 8470, 'stays': 8471, 'oversized': 8472, 'disapproval': 8473, 'groped': 8474, 'mckees': 8475, 'jensen': 8476, 'ackles': 8477, 'roommates': 8478, 'cups': 8479, 'straw': 8480, 'surprised’': 8481, 'electra': 8482, 'tmz': 8483, 'indiana': 8484, 'networks': 8485, 'expressions': 8486, 'conflicted': 8487, 'maine': 8488, 'wor': 8489, 'cuteness': 8490, 'lowest': 8491, 'harmon': 8492, 'inks': 8493, 'joss': 8494, 'whedon': 8495, 'youn': 8496, 'absentee': 8497, 'heel': 8498, 'cait': 8499, 'relentlessly': 8500, 'booze': 8501, 'anywhere': 8502, 'present’': 8503, 'collaborate': 8504, 'tca': 8505, 'pleasur': 8506, 'sailor': 8507, 'goat': 8508, 'mega': 8509, 'develop': 8510, 'macy': 8511, 'alanis': 8512, 'firefighters': 8513, '‘escape': 8514, 'plan’': 8515, 'glossy': 8516, 'companion': 8517, 'gambl': 8518, 'hurtful’': 8519, '‘veep’': 8520, 'reid': 8521, 'lohan’s': 8522, 'rookie': 8523, 'scars': 8524, 'disneyfox': 8525, 'balancing': 8526, 'kuwk': 8527, 'papa': 8528, '‘getting': 8529, 'serious’': 8530, 'possibly': 8531, 'historymaking': 8532, 'nipples': 8533, 'dildo': 8534, 'chases': 8535, 'skier': 8536, 'auntie': 8537, 'sixyearold': 8538, 'keough': 8539, 'piven': 8540, 'curri': 8541, 'praised': 8542, 'anorexic': 8543, 'fangirl': 8544, 'nephews': 8545, 'untru': 8546, 'bodies': 8547, 'shin': 8548, 'championship': 8549, 'cass': 8550, 'helenas': 8551, '‘dynasty’': 8552, 'jedi’': 8553, 'absolutely’': 8554, 'actress’': 8555, 'parental': 8556, 'hump': 8557, 'skintight': 8558, 'fict': 8559, 'advanced': 8560, 'bling': 8561, 'hannity': 8562, 'denying': 8563, 'blonder': 8564, '‘izombie’': 8565, 'fountains': 8566, 'weddings': 8567, 'attempts': 8568, 'thejasminebrand': 8569, 'clone': 8570, 'twelve': 8571, 'feed': 8572, 'oprah’s': 8573, 'cameron’s': 8574, 'dykstra': 8575, 'thursday': 8576, 'nannies': 8577, 'wouldn’t': 8578, 'recovery': 8579, 'jumps': 8580, 'creed': 8581, 'ghalichi': 8582, 'architect': 8583, 'jellyfish': 8584, 'lounge': 8585, 'casino': 8586, 'bombshells': 8587, 'wentworth': 8588, 'vienna': 8589, 'salling’s': 8590, 'rage’': 8591, 'immediately': 8592, 'hysteria': 8593, '‘shape': 8594, 'water’': 8595, 'lady”': 8596, 'drowning': 8597, 'jonny': 8598, 'rethink': 8599, '‘tough’': 8600, 'grandchildren': 8601, 'alter': 8602, 'keyshia': 8603, 'kaoir': 8604, 'please': 8605, 'closure': 8606, 'catania': 8607, 'dancer': 8608, 'convict': 8609, 'inaba': 8610, 'canine': 8611, 'offtheshoulder': 8612, '‘baby': 8613, 'flops': 8614, 'keepers’': 8615, 'cathy': 8616, 'blues': 8617, 'patriot': 8618, 'spousal': 8619, 'nursing': 8620, 'siggy': 8621, 'flicker': 8622, 'rory': 8623, 'stoll': 8624, '‘disgusting’': 8625, 'friend’s': 8626, 'cracks': 8627, 'fianceé': 8628, 'shayk’s': 8629, '‘relationship': 8630, 'rocks’': 8631, 'spawned': 8632, 'keeganmichael': 8633, 'elisa': 8634, 'puglies': 8635, 'suzette': 8636, 'filed': 8637, 'hopefully': 8638, 'colosseum': 8639, '‘happier’': 8640, 'london’': 8641, 'hel': 8642, 'jana': 8643, 'kramer': 8644, 'ankl': 8645, 'employees': 8646, 'charlotte’s': 8647, 'crow': 8648, 'flagg': 8649, 'streetwear': 8650, 'rethinks': 8651, 'lbd': 8652, 'kendricks': 8653, 'kacey': 8654, 'garfields': 8655, 'awaken': 8656, 'bounce': 8657, 'twerking': 8658, 'challenging': 8659, 'cycle': 8660, '”i’m': 8661, 'bronze': 8662, 'essenti': 8663, 'asylum': 8664, 'criss': 8665, 'scraps': 8666, 't': 8667, 'belly': 8668, 'beige': 8669, 'frock': 8670, 'cowells': 8671, 'prettymuch': 8672, 'influenced': 8673, 'etheridge': 8674, 'bord': 8675, 'diversity': 8676, 'childish': 8677, 'gambino': 8678, 'messer': 8679, 'biting': 8680, 'palins': 8681, 'baron': 8682, 'posed': 8683, 'scott’s': 8684, 'lynda': 8685, 'reckless': 8686, 'i’d': 8687, 'mat': 8688, 'towards': 8689, 'currys': 8690, 'britt': 8691, 'robertson': 8692, 'want’': 8693, 'rivalri': 8694, 'fuel': 8695, 'weatherman': 8696, 'chrisley’s': 8697, 'fonsis': 8698, 'castm': 8699, 'tales': 8700, '‘women': 8701, 'skylar': 8702, 'decides': 8703, 'valentino': 8704, 'styles’': 8705, 'slow': 8706, 'jams': 8707, 'alias': 8708, 'versace’s': 8709, 'portray': 8710, 'quincy': 8711, 'tellal': 8712, 'mast': 8713, 'thornton': 8714, 'davids': 8715, 'popularity': 8716, 'serves': 8717, 'andersons': 8718, 'meetings': 8719, 'down’': 8720, 'stepfather': 8721, 'fairs': 8722, 'manicure': 8723, 'pressly': 8724, 'mulligan': 8725, 'benji': 8726, 'moders': 8727, 'parker’s': 8728, 'followed': 8729, 'garcía': 8730, 'hype': 8731, 'kruger': 8732, 'locations': 8733, 'wham': 8734, 'sherwood': 8735, 'listing': 8736, 'prepon': 8737, '‘solo’': 8738, 'help’': 8739, 'jacobs': 8740, '“true': 8741, 'begged': 8742, 'nicu': 8743, '“time': 8744, 'troop': 8745, 'disappeared': 8746, 'monteith': 8747, 'plotting': 8748, 'wilder': 8749, 'wilder’s': 8750, 'glaad': 8751, 'nevada': 8752, 'footbal': 8753, 'soaked': 8754, 'dina': 8755, 'similar': 8756, 'crimes': 8757, 'artem': 8758, '”i': 8759, 'gains': 8760, 'invas': 8761, 'seizure': 8762, 'amal’s': 8763, 'announcement’': 8764, 'pushat': 8765, 'crying’': 8766, 'hollywood’': 8767, 'celebrations': 8768, 'henrie': 8769, 'charlottes': 8770, '‘bitter’': 8771, 'mustache': 8772, '“dancing': 8773, 'stars”': 8774, 'trunfio': 8775, 'wirel': 8776, 'burglar': 8777, 'carefully': 8778, '‘colbert’': 8779, 'angelina’s': 8780, 'publicity': 8781, 'emmett': 8782, 'eissa': 8783, 'cast’s': 8784, 'échame': 8785, 'moana': 8786, '‘thor': 8787, 'ragnarok’': 8788, 'colorful': 8789, 'palmer': 8790, 'summerslam': 8791, 'relapse': 8792, 'baking': 8793, 'kitchen': 8794, 'sabotage': 8795, 'mayhem': 8796, 'bracelet': 8797, 'outraged': 8798, 'blanca': 8799, 'fueled': 8800, 'hosted': 8801, 'guthries': 8802, 'handsome': 8803, 'wanna': 8804, 'basi': 8805, 'cartwright’s': 8806, 'marmiz': 8807, 'landon': 8808, 'radaronline': 8809, 'gong': 8810, 'reg': 8811, 'ledger’s': 8812, 'joker': 8813, 'pall': 8814, 'woodward': 8815, 'cctv': 8816, 'antman': 8817, 'condemns': 8818, 'lay': 8819, '‘deadpool': 8820, 'brianna': 8821, 'giraffes': 8822, 'carla': 8823, 'bruni': 8824, 'trousers': 8825, 'you”': 8826, 'rife': 8827, 'laverne': 8828, 'notsosecret': 8829, 'mine': 8830, '“honeymoon’s': 8831, 'over”': 8832, 'lacks': 8833, 'shave': 8834, 'svu’s': 8835, 'cannabis': 8836, 'strain': 8837, '‘frozen': 8838, 'oriordan': 8839, 'creating': 8840, '“revenge”': 8841, 'lyle': 8842, 'exfiance': 8843, 'talkedabout': 8844, 'wages': 8845, 'pedophile': 8846, 'field': 8847, 'strok': 8848, 'wait’s’': 8849, 'reveng': 8850, 'consuelo': 8851, 'tbh': 8852, 'best’': 8853, 'wilson’s': 8854, 'haiti': 8855, 'demanded': 8856, 'woman’s': 8857, 'doyle': 8858, 'viewing': 8859, 'nicholson': 8860, 'choices': 8861, 'rib': 8862, 'fainted': 8863, 'taping': 8864, 'robyn': 8865, 'lemonade': 8866, 'mayo': 8867, 'rents': 8868, 'strengthened': 8869, 'supported': 8870, 'bailon': 8871, 'disagreement': 8872, 'wahlbergs': 8873, 'sister’s': 8874, 'standards': 8875, 'concerts': 8876, 'mraz': 8877, 'bi': 8878, 'sartorial': 8879, 'coords': 8880, 'detransition': 8881, 'berrys': 8882, 'sh': 8883, 'grahams': 8884, 'floribama': 8885, 'surv': 8886, 'gotti': 8887, 'rangers': 8888, 'levines': 8889, 'gamechanging': 8890, 'booed': 8891, '‘homeland’': 8892, 'gas': 8893, 'cusp': 8894, 'estimating': 8895, 'button': 8896, 'schwartz': 8897, 'trainers': 8898, 'ew': 8899, 'referring': 8900, 'finess': 8901, 'blaming': 8902, 'morans': 8903, 'legally': 8904, 'instal': 8905, 'wilkinsonbaskett': 8906, 'zeta': 8907, 'karan': 8908, 'handles': 8909, 'rubber': 8910, 'ab': 8911, 'inc': 8912, 'cargile': 8913, 'mourned': 8914, 'bang’': 8915, 'brown’': 8916, 'sexes': 8917, 'schoolgirl': 8918, 'ts': 8919, 'shirts': 8920, 'gail': 8921, 'pressured': 8922, 'ludacris': 8923, 'townhouse': 8924, 'migr': 8925, 'threesome': 8926, 'tradit': 8927, 'bradys': 8928, 'remarkable': 8929, 'pivarnick': 8930, 'apologies': 8931, 'ble': 8932, 'saints': 8933, 'toddler': 8934, 'wannabe': 8935, 'sculli': 8936, 'valued': 8937, 'muguruza': 8938, 'order’': 8939, 'tinted': 8940, 'rope': 8941, 'drive': 8942, 'flashbacks': 8943, 'controlling': 8944, 'meals': 8945, 'sews': 8946, 'spurlock': 8947, 'discover': 8948, 'heritage': 8949, 'horrifying': 8950, 'chick': 8951, 'flick': 8952, 'maliks': 8953, 'smal': 8954, 'tgif': 8955, '‘worst': 8956, 'logo': 8957, 'booties': 8958, 'fixing': 8959, 'mail': 8960, 'organizing': 8961, 'explaining': 8962, 'parentshamed': 8963, 'xxxtentacion': 8964, 'slaying': 8965, 'reminisces': 8966, 'serv': 8967, 'ax': 8968, 'puzzle': 8969, 'boundaries': 8970, 'duggars': 8971, 'chemo': 8972, 'carell': 8973, 'stoner': 8974, 'lind': 8975, 'destruction': 8976, 'excit': 8977, 'griffith': 8978, 'acc': 8979, 'grace”': 8980, 'eyeopening': 8981, 'often': 8982, 'trashtalktv': 8983, 'cortese': 8984, 'buckn': 8985, 'creepi': 8986, 'morrone': 8987, 'anastasia': 8988, 'kamilla': 8989, 'osman': 8990, '‘every': 8991, 'states': 8992, 'lighting': 8993, 'technique': 8994, 'patridges': 8995, 'skil': 8996, 'frenchcanadian': 8997, 'sandoval': 8998, 'pileup': 8999, 'performer': 9000, 'fave': 9001, 'bachelorstyle': 9002, 'dwarfs': 9003, 'bottoms': 9004, 'cocktails': 9005, 'project’': 9006, 'lipo': 9007, 'k’s': 9008, '‘it’': 9009, 'clips': 9010, 'eid': 9011, 'lilyrose': 9012, 'drown': 9013, 'shane': 9014, 'dairy': 9015, 'mixing': 9016, 'ina': 9017, 'weaver': 9018, 'bradshaw': 9019, 'commerce': 9020, 'ri': 9021, 'jan': 9022, 'reduced': 9023, 'brooklynn': 9024, 'nhl': 9025, 'helicopter': 9026, 'reviving': 9027, 'miscarriages': 9028, 'takeover': 9029, 'geazi': 9030, 'undressed': 9031, 'mchale': 9032, 'roar': 9033, 'headtotoe': 9034, 'sour': 9035, 'planes': 9036, '‘ghosts’': 9037, 'carls': 9038, 'cease': 9039, 'desist': 9040, 'comforting': 9041, 'emas': 9042, 'todo': 9043, 'cassidys': 9044, 'ascot': 9045, 'newspaper': 9046, 'giv': 9047, 'tears’': 9048, 'hicks': 9049, 'evalu': 9050, 'exbiz': 9051, 'feeding': 9052, 'soundtrack': 9053, '‘couldn’t': 9054, 'geazy’s': 9055, 'menswear': 9056, 'maverick’': 9057, 'haims': 9058, 'johns': 9059, 'karen': 9060, 'chen': 9061, 'marquise': 9062, 'kingsman': 9063, 'consider': 9064, 'colored': 9065, 'balm': 9066, 'smokey': 9067, 'dazzles': 9068, 'doppelganger': 9069, '‘heartbreaking’': 9070, 'gene': 9071, 'undergo': 9072, 'potomac': 9073, 'outed': 9074, 'remini’s': 9075, 'scientolog': 9076, 'smack': 9077, 'truce': 9078, 'officiated': 9079, 'lowrys': 9080, 'bundy': 9081, 'empires': 9082, 'fantasia': 9083, 'shushing': 9084, 'modelling': 9085, 'exfi': 9086, 'pric': 9087, 'reminisce': 9088, 'haim': 9089, 'fingers': 9090, 'smoky': 9091, 'instinct': 9092, 'subpoenas': 9093, 'deposition': 9094, 'singalong': 9095, 'hollaback': 9096, 'schumer’s': 9097, 'fisch': 9098, 'onto': 9099, 'properti': 9100, 'evacuate': 9101, 'takeaway': 9102, 'honoured': 9103, 'clarkson’s': 9104, 'vili': 9105, 'prodigy': 9106, 'rappers': 9107, 'crockpot': 9108, '“catfight”': 9109, 'ferrara': 9110, 'breanne': 9111, 'racano': 9112, '‘impressed’': 9113, 'destroyed': 9114, 'backside': 9115, 'fed': 9116, 'muses': 9117, 'jose': 9118, 'baston': 9119, 'claus': 9120, 'pressures': 9121, 'root': 9122, 'malfunctions': 9123, 'troops': 9124, 'sunburn': 9125, 'slutshaming': 9126, 'decad': 9127, 'improve': 9128, 'gayheart': 9129, 'wolfs': 9130, 'correspondents': 9131, 'comparing': 9132, 'yep': 9133, 'beaten': 9134, 'sexcult': 9135, 'waithe': 9136, 'trailblazers': 9137, '“not': 9138, 'arraignment': 9139, 'postponed': 9140, 'ziplines': 9141, 'targeted': 9142, 'racism': 9143, 'wesley': 9144, 'recital': 9145, 'polici': 9146, 'showtim': 9147, 'extend': 9148, 'shown': 9149, 'twitters': 9150, 'tying': 9151, 'stable': 9152, 'kebbels': 9153, 'minus': 9154, '‘man': 9155, 'starving': 9156, 'problemat': 9157, 'angers': 9158, '‘valor’': 9159, 'forbids': 9160, '‘magic': 9161, 'easi': 9162, 'houseguest': 9163, '‘end’': 9164, '‘journey’': 9165, 'rehearsal': 9166, 'subscribers': 9167, 'saldanas': 9168, 'edie': 9169, 'falco': 9170, 'crim': 9171, 'fighter': 9172, 'intruder': 9173, 'stacey': 9174, 'congressional': 9175, 'hq': 9176, 'saran': 9177, 'throat': 9178, 'identity': 9179, 'manage': 9180, 'pulitzer': 9181, 'mcgregors': 9182, 'disappointing': 9183, 'irish': 9184, 'venu': 9185, 'negrotti': 9186, 'pansexu': 9187, 'sum': 9188, 'copeland': 9189, 'britain’s': 9190, 'wavy': 9191, '”you': 9192, 'her”': 9193, 'beguil': 9194, 'brittainy': 9195, 'starts': 9196, 'lugo': 9197, 'exotic': 9198, 'ambrosios': 9199, 'seventh': 9200, 'gath': 9201, 'radcliffe': 9202, 'suddenly': 9203, 'centre': 9204, 'kiyokos': 9205, 'texted': 9206, 'machine': 9207, 'az': 9208, 'separately': 9209, 'turkey': 9210, 'josey': 9211, 'pampered': 9212, 'opinions': 9213, 'sept': 9214, 'pattinson’s': 9215, 'commented': 9216, 'ybn': 9217, 'almighty': 9218, 'condoms': 9219, 'o’brien': 9220, 'feared': 9221, 'legit': 9222, 'gretchen': 9223, 'baranski': 9224, 'dreaming': 9225, 'assets': 9226, 'westworld’s': 9227, 'kirk': 9228, 'alivetal': 9229, 'oops': 9230, 'swearing': 9231, 'situation’': 9232, 'apprentice’': 9233, 'coparenting': 9234, 'flavor': 9235, 'royalti': 9236, 's–t': 9237, 'cheyenne': 9238, 'bayer': 9239, 'mostwatched': 9240, 'predators': 9241, 'rude': 9242, 'breath': 9243, 'pink’s': 9244, 'altman': 9245, 'mud': 9246, 'goops': 9247, '‘look': 9248, 'paint': 9249, 'undergoing': 9250, 'fascin': 9251, 'sardinia': 9252, 'efforts': 9253, 'launching': 9254, 'imdb': 9255, 'henry’s': 9256, 'marshmello': 9257, 'offscreen': 9258, 'cuter': 9259, 'asham': 9260, 'spaces': 9261, 'mccord': 9262, 'shenae': 9263, 'teaming': 9264, 'dunkin': 9265, 'momtobe': 9266, '‘deep': 9267, 'dive’': 9268, 'kyle’s': 9269, 'tati': 9270, 'depp’s': 9271, 'slid': 9272, '‘jesus': 9273, 'superfans': 9274, 'tick': 9275, 'ex’s': 9276, 'fooled': 9277, 'pul': 9278, 'normally': 9279, 'bridge': 9280, 'pences': 9281, 'mona': 9282, 'heating': 9283, 'dared': 9284, 'outpouring': 9285, 'clay': 9286, 'krystal': 9287, 'callie': 9288, 'torr': 9289, 'approv': 9290, 'rottman': 9291, 'hampton': 9292, 'maintains': 9293, 'recip': 9294, 'rodg': 9295, 'benjamin': 9296, 'us”': 9297, 'asian': 9298, 'unfollows': 9299, 'puppies': 9300, 'ls': 9301, 'bacterial': 9302, 'helpful': 9303, 'salon': 9304, 'days’': 9305, 'revamped': 9306, 'ponders': 9307, 'eps': 9308, 'pil': 9309, 'postsurgery': 9310, 'boos': 9311, 'luca': 9312, 'anyway': 9313, 'foster’s': 9314, 'sunscreens': 9315, 'bags': 9316, 'standup': 9317, 'hesitant': 9318, 'mckinnons': 9319, 'abbott': 9320, 'gorga': 9321, 'cours': 9322, 'saget': 9323, 'castmates': 9324, 'skat': 9325, 'takei': 9326, 'bavaresco': 9327, 'horses': 9328, 'galore': 9329, '“no': 9330, 'therapist': 9331, 'brooch': 9332, 'jazzy': 9333, '“very': 9334, 'cks': 9335, 'labeled': 9336, 'pun': 9337, 'fbomb': 9338, 'ix’': 9339, 'daylewis': 9340, 'kong': 9341, 'intimidation': 9342, 'ger': 9343, 'premio': 9344, 'nuestro': 9345, 'divorces': 9346, 'urges': 9347, 'impressive': 9348, 'bacon': 9349, 'longoria’s': 9350, 'magazine’s': 9351, '“sexiest': 9352, 'surviving': 9353, 'pd': 9354, 'nuptials': 9355, 'playoff': 9356, 'nashvil': 9357, 'winfreys': 9358, 'clueless': 9359, 'blissful': 9360, 'crav': 9361, 'degrees': 9362, '‘mary': 9363, 'returns’': 9364, 'featurette': 9365, 'perfume': 9366, 'rio': 9367, 'rosss': 9368, 'femin': 9369, 'madcap': 9370, 'boneta': 9371, 'depressing': 9372, 'adrift': 9373, 'branded': 9374, 'cnco': 9375, 'hollywoodlife’s': 9376, 'date”': 9377, 'am': 9378, 'bound': 9379, 'bathe': 9380, 'midriff': 9381, 'postoscars': 9382, 'delta': 9383, 'purs': 9384, 'formal': 9385, 'hoped': 9386, 'labeoufs': 9387, '‘brooklyn': 9388, 'ninenine’': 9389, 'ploy': 9390, '‘drunk’': 9391, 'millenni': 9392, 'longawaited': 9393, 'dalton': 9394, 'malicious': 9395, 'pageant': 9396, 'disturbance': 9397, 'courtroom': 9398, 'terr': 9399, 'harassing': 9400, 'unicorns': 9401, 'hoodie': 9402, 'challenge’': 9403, 'auctioned': 9404, 'gods': 9405, 'excuse': 9406, 'talk’': 9407, 'ailes': 9408, 'thr': 9409, 'transforming': 9410, 'vid': 9411, '‘dick': 9412, 'healed': 9413, '‘tears’': 9414, 'mafs': 9415, 'sonia': 9416, 'granados': 9417, 'sutter': 9418, 'thankful': 9419, 'kimora': 9420, 'innoc': 9421, 'anillo': 9422, 'storyline': 9423, 'bensons': 9424, 'martina': 9425, 'potentially': 9426, 'infect': 9427, 'polarizing': 9428, 'talents': 9429, 'indefinitely': 9430, 'friendships': 9431, 'rewind': 9432, 'hurleys': 9433, 'jeopardy': 9434, 'anatomy’s': 9435, 'aldeans': 9436, 'elbas': 9437, 'oconnel': 9438, 'healthi': 9439, 'jens': 9440, 'angering': 9441, '‘barbie’': 9442, 'avoiding': 9443, 'mccormack': 9444, 'streak': 9445, 'juiciest': 9446, 'indictment': 9447, 'chapter': 9448, 'hurdl': 9449, 'deliveri': 9450, 'bouquet': 9451, 'harder': 9452, 'brid': 9453, 'josiah': 9454, 'swanson': 9455, 'dynasty': 9456, 'finesse': 9457, 'cassidi': 9458, 'ramirez': 9459, 'madam': 9460, 'secretari': 9461, 'photographs': 9462, 'classy': 9463, 'drugstor': 9464, 'indefinite': 9465, 'bonner': 9466, 'bolton': 9467, 'sharna': 9468, 'toxicity': 9469, 'shockingly': 9470, 'monitor': 9471, 'karma': 9472, 'sugarland': 9473, 'pinches': 9474, 'dushku’s': 9475, 'stain': 9476, 'renting': 9477, 'predict': 9478, 'wildlife': 9479, 'european': 9480, 'mychael': 9481, 'corrects': 9482, 'maxwel': 9483, 'sophisticated': 9484, 'jawdropp': 9485, 'narr': 9486, 'tact': 9487, 'mcdaid': 9488, 'detector': 9489, 'kinnaman': 9490, 'naked’': 9491, 'scifi': 9492, 'jumanji': 9493, 'agency': 9494, 'superbad': 9495, 'beatrice': 9496, 'weir': 9497, 'wentz': 9498, 'colt': 9499, 'choker': 9500, 'pen': 9501, 'till': 9502, '‘ellen’': 9503, '‘they': 9504, 'oneyear': 9505, 'sylvester': 9506, 'injur': 9507, '‘hilarious’': 9508, 'smoke': 9509, 'involve': 9510, 'memories': 9511, 'choice’': 9512, 'geraldo': 9513, 'disrespect': 9514, 'somos': 9515, 'telemundo': 9516, 'pasta': 9517, 'wat': 9518, 'wintours': 9519, 'shaffer': 9520, 'mirrorball': 9521, 'flaunting': 9522, 'tila': 9523, 'main': 9524, 'chrishell': 9525, 'hartleys': 9526, 'newlywed': 9527, 'babe': 9528, 'documents': 9529, 'arianas': 9530, 'michele’s': 9531, 'renovating': 9532, 'disrespectful': 9533, 'diagnosed': 9534, 'livetweeting': 9535, '‘back': 9536, 'toback’s': 9537, 'displays': 9538, 'gladly': 9539, 'think’s': 9540, 'stresses': 9541, 'ordeal': 9542, 'bosses': 9543, 'beats': 9544, 'philosophy': 9545, 'wayans': 9546, 'predicts': 9547, 'picking': 9548, 'toni': 9549, 'psychiatric': 9550, 'wang': 9551, 'clayne': 9552, 'india': 9553, 'tradition': 9554, 'uniforms': 9555, 'rushing': 9556, 'lolo': 9557, 'annable': 9558, 'eclipse': 9559, 'shap': 9560, 'statue': 9561, '‘descendants': 9562, 'sinner': 9563, 'charming': 9564, 'csection': 9565, 'descript': 9566, 'wrapped': 9567, 'stability': 9568, 'twohour': 9569, 'autotune': 9570, 'explanation': 9571, 'promotion': 9572, 'blogs': 9573, 'channeled': 9574, 'heartache': 9575, 'bryiana': 9576, '‘la': 9577, 'pirelli': 9578, 'ig': 9579, 'applauds': 9580, 'tub': 9581, '‘needed': 9582, 'miami’': 9583, 'clearly': 9584, 'londons': 9585, 'exiting': 9586, 'generation': 9587, 'bazaar': 9588, 'devastated’': 9589, 'patterson': 9590, 'llc': 9591, 'bendjima’s': 9592, 'bondage': 9593, 'martinezs': 9594, 'disappear': 9595, 'shakiras': 9596, 'deschanel': 9597, 'zelda': 9598, 'kiyoko': 9599, 'tonedeaf': 9600, 'astros': 9601, 'tests': 9602, 'endangered': 9603, 'esparza': 9604, 'kidnap': 9605, 'mos': 9606, 'teri': 9607, 'hatcher': 9608, '‘scorpion’': 9609, 'trinity': 9610, 'heavy': 9611, 'trilog': 9612, 'beach’s': 9613, 'steam': 9614, 'gasp': 9615, 'bare': 9616, 'argue': 9617, 'notice': 9618, 'sideeyed': 9619, 'geniu': 9620, 'marcil': 9621, 'mowri': 9622, 'dietland': 9623, 'squeeze': 9624, '‘feud’': 9625, '‘have': 9626, 'marriage’': 9627, 'harmoni': 9628, 'simmons’': 9629, 'monroes': 9630, 'swoons': 9631, 'photobomb': 9632, 'insanely': 9633, 'scenery': 9634, 'injuries': 9635, 'cancelling': 9636, 'gut': 9637, 'overboard': 9638, 'pantsless': 9639, 'zone': 9640, 'consort': 9641, 'macfarlane': 9642, 'tmi': 9643, 'marion': 9644, 'cotillard': 9645, 'serum': 9646, 'daca': 9647, 'tinder': 9648, 'fan’s': 9649, 'emt': 9650, 'griffins': 9651, 'exposed': 9652, 'smiley': 9653, 'offender': 9654, 'trues': 9655, 'randal': 9656, 'messin': 9657, 'zone’': 9658, 'hosk': 9659, 'call’': 9660, 'abraham’s': 9661, 'sips': 9662, 'janice': 9663, 'dickinson': 9664, 'gia': 9665, 'targets': 9666, 'boxing': 9667, 'gentleman': 9668, 'nearfatal': 9669, 'hallmark': 9670, 'avoids': 9671, 'banning': 9672, 'existence': 9673, 'penélope': 9674, 'sheet': 9675, 'brandy': 9676, 'intro': 9677, 'retrospective': 9678, 'accur': 9679, 'playfully': 9680, 'harrelson': 9681, 'alike': 9682, 'snuggles': 9683, 'essay': 9684, 'biracial': 9685, 'michelangelo': 9686, 'renaissance': 9687, 'blockbust': 9688, 'showering': 9689, 'underway': 9690, 'tabs': 9691, 'contessa': 9692, 'disgusted': 9693, 'mahoney': 9694, '‘desperate': 9695, 'perfected': 9696, 'onair': 9697, 'takeov': 9698, '‘daddy’s': 9699, 'michelob': 9700, 'decode': 9701, 'krakowski': 9702, 'kemp': 9703, 'monst': 9704, 'popcorn': 9705, 'organ': 9706, 'moron': 9707, 'confirmation': 9708, 'rain': 9709, 'hailey’s': 9710, 'halloweenthemed': 9711, 'ambit': 9712, 'traff': 9713, 'iceland': 9714, 'govan': 9715, 'caldwell': 9716, 'rhodes': 9717, 'outstanding': 9718, '‘she': 9719, 'praise': 9720, 'ayers': 9721, 'tied': 9722, 'proposals': 9723, 'earrings': 9724, 'perfectionists': 9725, 'marcus': 9726, 'honorary': 9727, 'cheerlead': 9728, 'mgm': 9729, 'ratajkowski’s': 9730, 'repaired': 9731, 'result': 9732, 'buckley': 9733, 'physically': 9734, 'accepted': 9735, 'exclusively': 9736, 'down”': 9737, 'lawn': 9738, 'rebooted': 9739, 'groot': 9740, '“more': 9741, '‘humiliated’': 9742, 'credit': 9743, '‘work': 9744, 'ruins': 9745, 'lc': 9746, 'tv’': 9747, 'ripa’s': 9748, 'skirts': 9749, 'sail': 9750, 'germany': 9751, 'privaci': 9752, 'horse': 9753, 'foreign': 9754, 'sia': 9755, 'springsteen': 9756, 'sobrieti': 9757, 'vogues': 9758, 'victorian': 9759, 'photography': 9760, 'emmynominated': 9761, 'representation': 9762, 'eden': 9763, 'sassoon': 9764, 'otis': 9765, 'molestation': 9766, 'reyes': 9767, 'mcgowans': 9768, 'mixtape': 9769, 'couple’s': 9770, 'worried’': 9771, 'mandalay': 9772, 'takeaways': 9773, 'lasting': 9774, 'rugby': 9775, 'dyslexia': 9776, 'abandons': 9777, 'mocked': 9778, 'elaborate': 9779, 'crown’s': 9780, 'refuse': 9781, 'troubled': 9782, 'remy': 9783, 'partial': 9784, 'docs': 9785, 'family’': 9786, 'packer': 9787, 'couldve': 9788, 'arts': 9789, 'bird': 9790, '‘passionate’': 9791, '‘two': 9792, 'kat': 9793, 'lamas': 9794, 'exwives': 9795, 'expressed': 9796, 'doubts': 9797, 'damon’s': 9798, 'truths': 9799, 'finland': 9800, 'waterproof': 9801, 'charitable': 9802, 'recreating': 9803, 'pottery': 9804, 'dead’s': 9805, 'grandfather': 9806, 'hbo’s': 9807, 'horoscope': 9808, 'rusev': 9809, 'preemptive': 9810, 'quickie': 9811, 'ninenine': 9812, 'spotify': 9813, 'recasting': 9814, 'chewbacca': 9815, 'wiz': 9816, 'peru': 9817, 'rip': 9818, 'indicted': 9819, 'funding': 9820, 'stink': 9821, 'frappuccinos': 9822, 'successor': 9823, 'leaking': 9824, 'sea': 9825, 'aguilera’s': 9826, 'suitors': 9827, 'timelapse': 9828, 'facinelli': 9829, '‘get': 9830, 'als': 9831, 'booked': 9832, 'shah': 9833, 'recites': 9834, 'meredith': 9835, 'sentence': 9836, 'convicted': 9837, 'inform': 9838, 'dredg': 9839, 'safe': 9840, 'czuchry': 9841, 'go”': 9842, 'cafe': 9843, '‘totally': 9844, 'couple’': 9845, 'innovative': 9846, 'keys’': 9847, 'topher': 9848, 'hinshaw': 9849, 'mabel': 9850, 'ideal': 9851, 'ihm': 9852, 'absence': 9853, 'rhomiami': 9854, 'paynes': 9855, 'auction': 9856, 'secretary': 9857, 'confederate': 9858, 'handsy': 9859, 'hadid‘s': 9860, 'la’s': 9861, 'cookbook': 9862, 'justified': 9863, 'postbreakup': 9864, 'chrissi': 9865, 'livestream': 9866, 'surrounded': 9867, 'booti': 9868, 'spar': 9869, 'cardiac': 9870, 'jwan': 9871, 'yosef': 9872, 'hangouts': 9873, 'restless': 9874, 'purposely': 9875, 'better’': 9876, 'holidaythemed': 9877, '‘blade': 9878, 'provide': 9879, 'invit': 9880, 'onestep': 9881, '‘super': 9882, 'glanvil': 9883, 'molly': 9884, 'thril': 9885, 'boldest': 9886, 'govern': 9887, 'priv': 9888, '‘has': 9889, 'namibia': 9890, 'trimester': 9891, 'origins': 9892, 'giraffe’s': 9893, 'moder’s': 9894, 'struggled': 9895, 'oday': 9896, 'bartoli': 9897, 'bumps': 9898, 'nostalgia': 9899, 'milestone': 9900, 'teams': 9901, 'amic': 9902, '‘perfect': 9903, 'copper': 9904, 'upfront': 9905, 'henrik': 9906, 'pancakes': 9907, 'players': 9908, 'shanola': 9909, 'hamptons': 9910, 'mixes': 9911, 'coconut': 9912, 'dodges': 9913, 'offsets': 9914, 'shops': 9915, 'upgrades': 9916, 'gonzales': 9917, 'eyebrows': 9918, 'aggress': 9919, 'useless': 9920, 'opportunity': 9921, 'raver': 9922, 'isabella': 9923, 'evelyn': 9924, 'chef’': 9925, 'district': 9926, 'lancaster': 9927, 'proceeds': 9928, 'twerk': 9929, 'countri': 9930, 'hurting': 9931, 'though': 9932, 'sur': 9933, 'muniz': 9934, 'series’': 9935, 'overal': 9936, 'mismatched': 9937, 'tensions': 9938, 'roem': 9939, 'crotch': 9940, 'racing': 9941, 'nightmares': 9942, 'hackers': 9943, 'flay': 9944, 'collaps': 9945, 'legaci': 9946, 'disastrous': 9947, 'petsch': 9948, 'negotiations': 9949, 'body’': 9950, 'belts': 9951, 'georg': 9952, 'maries': 9953, 'ally': 9954, 'pollard': 9955, 'glows': 9956, 'deepli': 9957, 'owes': 9958, 'tú': 9959, 'shatner': 9960, 'vuitton': 9961, 'zs': 9962, 'testify': 9963, 'alexs': 9964, 'they’ve': 9965, 'seacrests': 9966, 'dynam': 9967, 'cinnamon': 9968, 'recipe': 9969, 'carney': 9970, 'justin’s': 9971, 'hasn’t': 9972, 'ruffled': 9973, 'tramp': 9974, 'dote': 9975, '‘don’t': 9976, 'dark’': 9977, 'ensembl': 9978, 'resident': 9979, 'kri': 9980, 'ios': 9981, 'tvline': 9982, 'revolut': 9983, 'apps': 9984, 'adel': 9985, 'summery': 9986, 'revamps': 9987, 'grins': 9988, 'sanz': 9989, 'kyles': 9990, 'saudi': 9991, 'websit': 9992, 'dollars': 9993, 'dethroned': 9994, 'chest': 9995, 'bankruptci': 9996, 'wide': 9997, 'receiver': 9998, 'touchdown': 9999, 'smelling': 10000, 'sabara': 10001, 'dmv': 10002, 'heal': 10003, 'mandel': 10004, 'invitation': 10005, 'colleg': 10006, 'chelsy': 10007, 'davy': 10008, 'time”': 10009, 'wars’': 10010, 'conference': 10011, 'pumping': 10012, 'sort': 10013, 'map': 10014, 'signals': 10015, 'brolin’s': 10016, 'sauna': 10017, 'separates': 10018, 'scarborough': 10019, '‘nothing': 10020, 'ebbing': 10021, 'curs': 10022, 'hiddleston’s': 10023, 'someday': 10024, 'asians': 10025, 'offduty': 10026, 'committee': 10027, 'boxes': 10028, 'wills': 10029, 'politically': 10030, 'shriver': 10031, 'tilley': 10032, 'bible': 10033, 'missguided': 10034, 'efron’s': 10035, 'clan': 10036, 'basketts': 10037, 'fergies': 10038, 'verbally': 10039, 'sherri': 10040, 'whittaker': 10041, 'inspir': 10042, 'lamyia': 10043, 'panics': 10044, 'scrubs': 10045, 'mutant': 10046, 'colours': 10047, 'witherspoon’s': 10048, 'society': 10049, 'sneaker': 10050, 'inaugural': 10051, 'confrontation': 10052, 'permanently': 10053, 'sometimes': 10054, 'flings': 10055, 'tournament': 10056, 'fulfill': 10057, 'theaters': 10058, 'reconnected': 10059, 'altered': 10060, 'follows': 10061, 'footsteps': 10062, 'jemima': 10063, 'hats': 10064, 'maya': 10065, 'rudolph': 10066, 'peppi': 10067, 'stuntman': 10068, 'scarred': 10069, 'consolation': 10070, 'shoulder': 10071, 'palett': 10072, 'bathrooms': 10073, 'rian': 10074, 'behar': 10075, 'wished': 10076, 'zuckerberg': 10077, 'contestant’s': 10078, '‘that': 10079, 'glasses': 10080, 'snafu': 10081, '‘orange': 10082, 'naomie': 10083, 'olindo': 10084, 'billiondollar': 10085, 'limbs': 10086, 'undertheradar': 10087, 'kashs': 10088, 'sav': 10089, 'fiesta': 10090, 'styling': 10091, 'wife’': 10092, 'logue': 10093, 'coanchor': 10094, 'dismissed': 10095, 'tamed': 10096, 'president’': 10097, '‘cut': 10098, 'kel': 10099, 'siriano': 10100, 'convincing': 10101, 'svelte': 10102, 'timothy': 10103, 'olyphant': 10104, 'sk': 10105, 'thoma': 10106, 'justice’': 10107, 'villainous': 10108, 'construction': 10109, 'mani': 10110, 'kenan': 10111, 'beams': 10112, 'lovebirds': 10113, 'poppe': 10114, 'placenta': 10115, 'dug': 10116, 'nova': 10117, 'awesomely': 10118, 'destined': 10119, 'awe': 10120, 'dascha': 10121, 'polanco': 10122, 'lloyd': 10123, 'homestretch': 10124, 'retouching': 10125, 'criticizing': 10126, 'oth': 10127, 'colombian': 10128, 'shadiest': 10129, 'earp': 10130, 'ons': 10131, 'trilogy': 10132, '‘uncomfortable’': 10133, 'diazs': 10134, 'reaching': 10135, 'pat': 10136, 'mcgraths': 10137, 'everyones': 10138, 'veterans': 10139, 'exhausted': 10140, 'dewitt': 10141, 'pajama': 10142, 'packers': 10143, 'ugli': 10144, 'goats': 10145, 'britains': 10146, 'madonnas': 10147, 'singapor': 10148, 'bettys': 10149, 'longlost': 10150, 'kidd': 10151, 'partn': 10152, 'tak': 10153, 'devito': 10154, 'heathers': 10155, 'merchandise': 10156, 'scheduling': 10157, 'murderer': 10158, 'blend': 10159, 'razzie': 10160, 'transforms': 10161, 'lives’': 10162, 'dorit': 10163, 'madame': 10164, 'tussauds': 10165, 'ross’': 10166, 'mamas': 10167, 'unhappy': 10168, 'prostate': 10169, 'biggs': 10170, 'eugene': 10171, 'blowing': 10172, 'melrose': 10173, 'meant': 10174, 'union’s': 10175, 'kindle': 10176, 'walt': 10177, 'larson': 10178, 'plots': 10179, 'q': 10180, 'batgirl': 10181, 'kicking': 10182, 'exs': 10183, 'curvy': 10184, 'terminally': 10185, 'barb': 10186, 'grimmies': 10187, 'evangeline': 10188, 'berkshir': 10189, 'abroad': 10190, 'la’': 10191, 'nicole’s': 10192, 'ft': 10193, 'relax': 10194, 'blue’': 10195, 'andré': 10196, 'mommy': 10197, 'beautiful’': 10198, 'sparkles': 10199, 'shake': 10200, 'lifts': 10201, 'lapd': 10202, 'caico': 10203, 'cloak': 10204, 'kaulitz': 10205, 'roseannes': 10206, 'kermit': 10207, 'frog': 10208, 'noel': 10209, 'triggers': 10210, 'hemorrhag': 10211, 'decoded': 10212, 'relives': 10213, 'fashions': 10214, 'seconds': 10215, 'term': 10216, 'throne': 10217, 'che': 10218, 'directly': 10219, 'thing”': 10220, 'shirtdress': 10221, 'bridget': 10222, 'marquardt': 10223, 'publicist': 10224, 'nudity': 10225, 'lochtes': 10226, 'enter': 10227, 'boho': 10228, 'terribly': 10229, 'hiv': 10230, 'mund': 10231, 'parliament': 10232, 'clint': 10233, '‘under': 10234, 'slightly': 10235, '‘secretly': 10236, 'louis’': 10237, 'criticizes': 10238, 'stewarts': 10239, 'indonesia': 10240, 'cami': 10241, 'entourage': 10242, 'perrettes': 10243, 'tennessee': 10244, 'bulli': 10245, 'oped': 10246, 'bars': 10247, 'withdraws': 10248, 'louder': 10249, 'daly': 10250, 'peaks’': 10251, 'reject': 10252, 'debt': 10253, 'adeles': 10254, 'dorothy': 10255, 'dealt': 10256, 'impressed': 10257, 'mom’': 10258, 'pag': 10259, 'downside': 10260, 'cannavale': 10261, 'unrecognisable': 10262, 'whisper': 10263, 'general': 10264, 'ravensymone': 10265, 'lifetimes': 10266, '‘making': 10267, 'murderer’': 10268, '‘mafs’': 10269, 'picturesque': 10270, 'amazingly': 10271, 'guns': 10272, 'mountbatten': 10273, 'realized': 10274, '‘baywatch’': 10275, 'defenders': 10276, 'wors': 10277, 'mckenzie': 10278, 'superheroes': 10279, 'cougar': 10280, 'claws': 10281, 'hedlund': 10282, 'tourist': 10283, 'lifted': 10284, 'switches': 10285, 'doves': 10286, 'stabbing': 10287, 'desert': 10288, 'casper': 10289, 'terrorist': 10290, 'brainwashing': 10291, 'rosalyn': 10292, 'goldonwude': 10293, 'tomboy': 10294, 'smokes': 10295, 'unexpect': 10296, 'stanton’s': 10297, 'cohosting': 10298, 'cazzie': 10299, 'pattie': 10300, 'sweater': 10301, 'cressida': 10302, 'bonas': 10303, 'carol': 10304, 'jackets': 10305, 'talent’': 10306, 'kelechi': 10307, 'eachoth': 10308, 'fakeri': 10309, 'descendants': 10310, 'kenney': 10311, 'beginning': 10312, 'simmon': 10313, 'twitp': 10314, 'complaining': 10315, '“tone': 10316, 'brink': 10317, 'bully': 10318, 'later’': 10319, '‘first': 10320, 'glastonburi': 10321, 'educ': 10322, 'reiterates': 10323, 'prada': 10324, 'troian': 10325, 'bellisario': 10326, 'juliannes': 10327, 'motherinlaw': 10328, 'sweatpants': 10329, 'damaging': 10330, 'nonstop': 10331, 'urinating': 10332, 'fulltime': 10333, 'cystic': 10334, 'fosters': 10335, 'revolution': 10336, 'blessed': 10337, 'hairstylists': 10338, 'pettys': 10339, '‘shameless’': 10340, 'fcking': 10341, 'prepared': 10342, 'reconcili': 10343, 'flo': 10344, 'faq': 10345, 'winstead': 10346, 'fetish': 10347, 'extravagant': 10348, 'corcoran': 10349, 'leftovers’': 10350, 'lópez': 10351, 'accent': 10352, 'condolences': 10353, 'tragedy’': 10354, 'roddick': 10355, 'ciaras': 10356, 'fa': 10357, 'ahol': 10358, 'rossum': 10359, 'prime': 10360, 'behaving': 10361, 'badly’': 10362, 'roseann': 10363, 'stake': 10364, 'martins': 10365, 'wonderful': 10366, '“harry': 10367, 'potter”': 10368, 'reinharts': 10369, 'spokesperson': 10370, 'honoree': 10371, 'engelson': 10372, 'discussing': 10373, 'idaho': 10374, 'cheryl’s': 10375, 'rang': 10376, 'bidi': 10377, 'bom': 10378, 'kickoff': 10379, 'ranks': 10380, 'schnapp': 10381, 'breasts': 10382, 'dale': 10383, 'cws': 10384, 'bashed': 10385, 'confronting': 10386, 'rocha': 10387, 'haunts': 10388, 'angri': 10389, 'flavors': 10390, 'goldsmith': 10391, 'bogus': 10392, 'consoles': 10393, 'patriots’': 10394, 'entertainer': 10395, 'fainting': 10396, 'olodomusic': 10397, 'hub': 10398, 'nielsen': 10399, 'herald': 10400, 'fearless': 10401, 'detained': 10402, 'dilemma': 10403, 'unit': 10404, 'backs': 10405, 'unfollow': 10406, 'bul': 10407, 'acs': 10408, 'parrots': 10409, 'solved': 10410, 'zahara': 10411, 'die’': 10412, 'herrington': 10413, 'sánchez': 10414, 'grants': 10415, 'glori': 10416, 'navy': 10417, 'nasa': 10418, '‘party': 10419, 'akins': 10420, 'aulii': 10421, 'cravalho': 10422, 'glastonbury': 10423, '‘citizen': 10424, 'rose’': 10425, 'mto': 10426, 'appeared': 10427, 'administration': 10428, 'transpar': 10429, 'sacrifice': 10430, 'cosbys': 10431, 'playboys': 10432, 'jayne’s': 10433, 'spokesman': 10434, 'executive': 10435, 'lansbury': 10436, 'radar': 10437, 'durham': 10438, 'fearlessli': 10439, 'categories': 10440, 'limit': 10441, 'identify': 10442, 'association': 10443, 'diving': 10444, 'duvernay': 10445, 'backstory': 10446, 'crisis’': 10447, 'vinessa': 10448, 'single’': 10449, 'soak': 10450, 'greg': 10451, 'he’d': 10452, 'musso': 10453, 'sadie': 10454, 'manzo': 10455, '“a': 10456, 'warrant': 10457, 'paean’': 10458, '“you': 10459, 'war’s': 10460, 'luisana': 10461, 'lopilato': 10462, 'pledge': 10463, 'colberts': 10464, 'disneyland’s': 10465, '‘rob': 10466, 'big’': 10467, 'black”': 10468, 'catchphrases': 10469, 'dining': 10470, 'sketches': 10471, 'antonio': 10472, 'toast': 10473, 'users': 10474, 'wond': 10475, 'off': 10476, 'dierks': 10477, 'gabourey': 10478, 'sidibe': 10479, 'eiffel': 10480, 'tow': 10481, 'swedish': 10482, 'byrne': 10483, 'porterbenson': 10484, 'imperson': 10485, 'speculate': 10486, 'gadot’s': 10487, 'drill': 10488, '‘everyone': 10489, 'fouryearold': 10490, 'perfectli': 10491, 'diverse': 10492, 'matthews’': 10493, 'refused': 10494, 'hasselhoff': 10495, 'painful': 10496, 'wrot': 10497, 'bullet': 10498, 'mey': 10499, 'mistri': 10500, 'dementia': 10501, 'desperately': 10502, 'eugenie’s': 10503, 'firsttime': 10504, 'stunned': 10505, 'budding': 10506, 'afar': 10507, 'encount': 10508, 'away”': 10509, 'pooch': 10510, 'isis': 10511, 'unknowingly': 10512, 'glorious': 10513, 'disrupted': 10514, '‘doing': 10515, 'mcconaugheys': 10516, 'escorts': 10517, 'lawmaker': 10518, 'politicizing': 10519, 'usas': 10520, 'vision': 10521, 'butterflies': 10522, 'expresses': 10523, 'leaders': 10524, 'scored': 10525, 'ujprd': 10526, 'pot': 10527, 'dunkirk': 10528, '‘loves’': 10529, 'selves': 10530, 'cakes': 10531, 'pattern': 10532, 'colorist': 10533, 'flies': 10534, 'ohio': 10535, 'bonus': 10536, 'expanding': 10537, 'targaryen’s': 10538, 'resembling': 10539, 'user': 10540, 'waitress': 10541, 'boozy': 10542, 'supremacy': 10543, 'arguing': 10544, 'cheese': 10545, 'rowan': 10546, 'blanchard': 10547, 'regis': 10548, 'japan': 10549, 'cuddling': 10550, '‘close': 10551, '‘upset’': 10552, 'maguire': 10553, 'um': 10554, 'jephte': 10555, 'shawniece': 10556, 'accidents': 10557, 'congratulated': 10558, 'investigators': 10559, 'apron': 10560, 'evas': 10561, 'cooke': 10562, 'telethon': 10563, 'angelinas': 10564, 'dotes': 10565, 'weathered': 10566, 'kai': 10567, 'antoni': 10568, 'cyru': 10569, 'scully': 10570, 'timesup': 10571, 'cranston': 10572, 'bulging': 10573, 'blacklisting': 10574, 'counts': 10575, 'pornographi': 10576, 'percent': 10577, 'tox': 10578, 'phony': 10579, 'newman': 10580, 'budapest': 10581, 'delilah': 10582, 'liuget': 10583, 'pryor’s': 10584, 'brando': 10585, 'edited': 10586, 'tonights': 10587, 'keepers': 10588, 'interesting': 10589, 'burnham’s': 10590, 'practice': 10591, 'activists': 10592, 'benét': 10593, 'kelly’': 10594, 'douchebag': 10595, 'flare': 10596, 'frenzi': 10597, 'palette': 10598, 'blush': 10599, 'torn': 10600, 'scrapped': 10601, 'batteri': 10602, 'approval': 10603, 'jonas’s': 10604, 're': 10605, 'bareilles': 10606, 'dinero': 10607, 'gordonlevitt': 10608, 'tasha': 10609, 'mccauley': 10610, 'auctioning': 10611, 'massacre': 10612, 'category': 10613, '‘agents': 10614, 'shield’': 10615, 'isaac': 10616, 'plaid': 10617, 'childbirth': 10618, 'embarrassed': 10619, 'dos': 10620, 'edition’': 10621, 'covfefe': 10622, 'kutch': 10623, 'discount': 10624, 'flew': 10625, 'brows': 10626, 'ambien': 10627, 'macpherson': 10628, 'ceo': 10629, 'refus': 10630, 'shimmer': 10631, 'bucket': 10632, 'pie': 10633, 'slayed': 10634, 'institute': 10635, 'npr': 10636, 'lawy': 10637, 'traffic': 10638, 'suitor': 10639, 'voice’s’': 10640, 'soulmate': 10641, 'barry': 10642, 'starred': 10643, 'y': 10644, 'hoppys': 10645, 'unfortunate': 10646, 'coaching': 10647, 'highly': 10648, 'bridges': 10649, 'shortest': 10650, 'dions': 10651, 'groups': 10652, 'besti': 10653, 'mattel': 10654, 'apollo’': 10655, 'hardcover': 10656, 'riffoff': 10657, 'births': 10658, 'cheney': 10659, 'nowhere': 10660, 'minimes': 10661, 'anthonys': 10662, 'resort': 10663, 'angie': 10664, 'kelvin': 10665, 'landau': 10666, 'elect': 10667, 'rebuilt': 10668, 'troubles': 10669, 'cashing': 10670, 'breastfeeds': 10671, 'pumpkins': 10672, 'parkerbowles': 10673, 'spain': 10674, 'chronological': 10675, 'achiev': 10676, 'genz': 10677, 'guilt': 10678, 'bearing': 10679, 'outlanders': 10680, 'wizards': 10681, 'hurtful': 10682, 'hangover': 10683, 'tracks': 10684, 'aimed': 10685, 'champlin': 10686, 'supposedly': 10687, 'independence': 10688, 'planner': 10689, 'parad': 10690, 'liquid': 10691, 'interior': 10692, 'waldo': 10693, 'knowing': 10694, 'shakeups': 10695, 'sleepovers': 10696, 'escape': 10697, 'rande': 10698, 'conner': 10699, 'ric': 10700, 'flair': 10701, 'jaspers': 10702, 'defeat': 10703, 'greec': 10704, 'liars’': 10705, 'neilson': 10706, 'piggi': 10707, 'postit': 10708, 'lists': 10709, 'egyptian': 10710, 'orlean': 10711, 'elliott': 10712, 'dushon': 10713, 'danai': 10714, 'gurira': 10715, 'lighter': 10716, 'mend': 10717, 'cage': 10718, 'geazys': 10719, 'bowen': 10720, 'checkpoint': 10721, 'bombshel': 10722, 'overalls': 10723, 'ogs': 10724, 'aiko': 10725, 'lasso': 10726, 'appl': 10727, 'missy': 10728, 'earnhardt': 10729, 'veng': 10730, 'freedom': 10731, 'cmas': 10732, 'uncle': 10733, 'sink': 10734, 'knives': 10735, 'ronan’s': 10736, 'hurry': 10737, 'athlete': 10738, 'kazakhstan': 10739, 'kára': 10740, '‘worried': 10741, 'chers': 10742, 'starstruck': 10743, 'editors': 10744, 'matchmaking': 10745, 'benningtons': 10746, 'gag': 10747, 'tay': 10748, 'strikes': 10749, 'kluth': 10750, 'shelt': 10751, 'available': 10752, 'kesha’s': 10753, 'curb': 10754, 'awareness': 10755, 'facetoface': 10756, 'attraction': 10757, 'hash': 10758, 'separating': 10759, 'earn': 10760, '‘younger’': 10761, 'octob': 10762, 'dip': 10763, 'abbi': 10764, 'travolta': 10765, 'grandkids': 10766, 'palermo': 10767, 'overshadowed': 10768, 'carriage': 10769, 'finals': 10770, 'captures': 10771, 'summers': 10772, 'cradles': 10773, 'sipping': 10774, 'century': 10775, 'miller’s': 10776, 'meddling': 10777, 'sequin': 10778, 'lunatic': 10779, 'notalent': 10780, 'dumbest': 10781, 'burnett': 10782, 'conceal': 10783, '‘bitch': 10784, 'semifin': 10785, 'rog': 10786, 'sunglass': 10787, 'grandkid': 10788, 'enduring': 10789, 'allure': 10790, 'testimoni': 10791, 'sibley': 10792, 'scoles': 10793, 'wendy’s': 10794, 'blueprint': 10795, 'seizur': 10796, 'kerr’s': 10797, 'albert': 10798, 'ochoa': 10799, 'towering': 10800, 'paxtons': 10801, 'winding': 10802, 'hydrating': 10803, 'moisturizers': 10804, 'oily': 10805, 'acneprone': 10806, 'halperin': 10807, 'oscarnominated': 10808, 'shav': 10809, 'ole': 10810, 'opry': 10811, 'matte': 10812, 'your': 10813, 'breathe': 10814, 'pion': 10815, '‘straightlaced’': 10816, 'lumps': 10817, 'bicep': 10818, 'girlie': 10819, 'stiffed': 10820, '‘kardashians’': 10821, 'fiebre': 10822, 'confidentiality': 10823, 'crafty': 10824, 'punoff': 10825, '‘saved': 10826, 'roof': 10827, '‘devastated': 10828, 'shock’': 10829, '‘fall': 10830, 'granddaughter': 10831, 'tindall': 10832, 'cj': 10833, '“person': 10834, 'year”': 10835, 'greenlight': 10836, 'moonlight’s': 10837, 'jharrel': 10838, 'jerome': 10839, 'resolut': 10840, 'stapleton’s': 10841, 'dine': 10842, 'soulcrushing': 10843, 'hartsock': 10844, 'siegfri': 10845, 'unleashed': 10846, 'gaping': 10847, 'hole—or': 10848, 'moschino': 10849, 'originally': 10850, 'gillian': 10851, '‘xfiles’': 10852, 'hairspray': 10853, 'refugees': 10854, 'life…here’s': 10855, 'carolyn': 10856, 'duo': 10857, 'citing': 10858, 'def': 10859, 'vivid': 10860, 'imagination': 10861, 'storytel': 10862, '“level': 10863, 'defies': 10864, 'slingback': 10865, 'monk': 10866, 'sisqos': 10867, 'jcy': 10868, 'skewers': 10869, 'scrotum': 10870, 'elsie': 10871, 'influencer': 10872, 'kardashianjenn': 10873, 'scenestealing': 10874, 'shay’s': 10875, 'smyers': 10876, '‘ugly': 10877, 'sneaker’': 10878, 'trophies': 10879, 'piano': 10880, 'microphone': 10881, 'reaffirmed': 10882, 'cosmo': 10883, 'conclude': 10884, 'showrunn': 10885, 'melyssa': 10886, 'skull': 10887, 'fracture': 10888, 'concussion': 10889, 'pronunciation': 10890, 'witty': 10891, 'taye': 10892, 'diggs': 10893, 'outoddcouple': 10894, 'ultrasound': 10895, 'conspired': 10896, 'leeann': 10897, 'tweeden': 10898, 'powders': 10899, 'fey’s': 10900, '“mean': 10901, 'girls”': 10902, 'spiral': 10903, 'baskett’s': 10904, 'attdirectv': 10905, '”great': 10906, 'place”': 10907, 'xscap': 10908, 'reacttiger': 10909, 'butchers': 10910, '‘hallelujah’': 10911, 'sanctity': 10912, '‘inspired': 10913, 'fatherhood’': 10914, 'weiner': 10915, 'jailed': 10916, 'underage': 10917, 'lupone': 10918, 'senior': 10919, 'freezes': 10920, 'accentuates': 10921, 'todays': 10922, 'yesterdays': 10923, 'dedication': 10924, 'fli': 10925, 'rededicate': 10926, 'pudding’s': 10927, 'hey': 10928, 'unanswered': 10929, 'tgit': 10930, 'annalise': 10931, 'lopsided': 10932, 'rodrigo': 10933, 'excessive': 10934, 'pupil': 10935, '‘ballistic’': 10936, 'contractions': 10937, 'fight’': 10938, 'officiates': 10939, 'unqualified': 10940, 'sim': 10941, 'sarnas': 10942, 'planting': 10943, 'borrowed': 10944, 'randalls': 10945, 'dad’': 10946, 'conover': 10947, 'shays': 10948, 'faucet': 10949, 'ben’s': 10950, 'rhooc': 10951, 'kirschenheiter': 10952, 'presleys': 10953, 'thackery': 10954, 'binx': 10955, 'anybody': 10956, 'photoshopped': 10957, 'recogn': 10958, 'jennerben': 10959, 'floaties': 10960, 'laments': 10961, 'puzzling': 10962, 'scrap': 10963, 'kaepernick': 10964, 'muhammad': 10965, 'alexanderraj': 10966, 'martinis': 10967, 'removing': 10968, 'jerk': 10969, 'moonwalking': 10970, 'trashtalking': 10971, 'incognito': 10972, 'absurdly': 10973, 'hangov': 10974, 'reward': 10975, 'att': 10976, 'directv': 10977, 'streisands': 10978, 'brosnan': 10979, 'barrs': 10980, 'speidi': 10981, 'coreys’': 10982, 'handle': 10983, 'snuggle': 10984, 'rippling': 10985, 'golnesa': 10986, 'gg': 10987, 'gharachedaghis': 10988, 'shalom': 10989, 'yeroushalmi': 10990, 'universidad': 10991, 'icel': 10992, 'businesswoman': 10993, '‘bedroom': 10994, 'floor’': 10995, 'adnan': 10996, 'syed’': 10997, 'docuseri': 10998, 'wizard': 10999, 'regimen': 11000, 'unsu': 11001, '“reptilian': 11002, 'duggar’s': 11003, 'skeet': 11004, 'ulrich': 11005, 'rhoa’s': 11006, 'therompdev': 11007, 'supporters': 11008, 'identified': 11009, 'trait': 11010, 'wagn': 11011, '‘only': 11012, 'cronin': 11013, 'whisks': 11014, 'deliverance': 11015, 'allfemale': 11016, 'marsden': 11017, '“proud': 11018, 'fulfil': 11019, 'evolve': 11020, '‘found': 11021, 'figueras': 11022, 'charities': 11023, '‹': 11024, 'somerhalder’s': 11025, 'scheduled': 11026, 'drenched': 11027, 'beastglam': 11028, 'squand': 11029, 'rival': 11030, 'partyloving': 11031, 'lamp': 11032, 'livemusical': 11033, 'pdas': 11034, 'sighting': 11035, 'masterchef': 11036, 'myths': 11037, '“lucky”': 11038, '“pink': 11039, 'chewbaccas': 11040, 'moroccan': 11041, 'maleficent’': 11042, 'bunney': 11043, 'godmother': 11044, 'thought—and': 11045, 'abba': 11046, 'cringeworthi': 11047, 'villag': 11048, 'dainty': 11049, 'prohibits': 11050, 'bigs': 11051, '‘closer': 11052, 'bardot': 11053, 'hypocritical': 11054, 'nadine': 11055, '‘joanne’': 11056, '‘boy’': 11057, 'bsa': 11058, 'mundane': 11059, 'costco': 11060, 'cheer': 11061, '‘ahs': 11062, 'apocalypse’': 11063, 'rejoiced': 11064, '‘protect': 11065, '‘blank': 11066, 'nelpeters': 11067, 'letos': 11068, 'roseanneand': 11069, 'recognizing': 11070, 'perils': 11071, 'limitless': 11072, '“didn’t': 11073, 'push”': 11074, 'continuing': 11075, 'khal': 11076, 'drogo': 11077, 'whittak': 11078, 'misconcept': 11079, 'ferreras': 11080, 'bit’': 11081, 'pinki': 11082, '‘touched’': 11083, 'bestselling': 11084, 'cv': 11085, 'moran’s': 11086, 'masturbation': 11087, 'slant': 11088, 'frayed': 11089, 'omaze': 11090, 'guards': 11091, 'pornography': 11092, 'tissu': 11093, 'simultaneously': 11094, '“deeply': 11095, 'disturbed”': 11096, 'nettles': 11097, '‘king': 11098, '‘bummed’': 11099, '“manus': 11100, 'machina”': 11101, 'huntingtonwhitley': 11102, 'antimadonna': 11103, '‘falling': 11104, 'postjen': 11105, 'domination': 11106, 'aware': 11107, 'vocabulari': 11108, 'pastels': 11109, 'chant': 11110, 'contributed': 11111, 'versace’': 11112, 'marlee': 11113, 'matlin': 11114, 'nurse': 11115, '“divorce”': 11116, 'spreads': 11117, 'craigs': 11118, 'labo': 11119, 'nickelback': 11120, 'kroeg': 11121, 'cavanagh': 11122, 'crossing’': 11123, 'esteban': 11124, 'loaiza': 11125, 'stickthin': 11126, 'kourt': 11127, 'abbey’s': 11128, 'quotf': 11129, 'kboy': 11130, 'whispererquot': 11131, 'staples': 11132, 'reigniting': 11133, 'brewing': 11134, 'mended': 11135, 'places': 11136, 'operations': 11137, 'davis’': 11138, 'europ': 11139, 'package': 11140, 'frolics': 11141, 'censor': 11142, 'paramount': 11143, 'cloverfield': 11144, 'paradox': 11145, 'point’': 11146, 'loudlyprinted': 11147, 'nicest': 11148, 'teapot': 11149, 'funds': 11150, 'oscarworthy': 11151, '‘ozark’': 11152, 'leonard': 11153, 'nimoys': 11154, 'treks': 11155, 'farrel': 11156, 'lemonad': 11157, 'waterhouses': 11158, 'eleanors': 11159, 'missions': 11160, 'rbpop': 11161, 'trees': 11162, 'migo': 11163, 'curated': 11164, 'personally': 11165, '‘maleficent’': 11166, 'nbd': 11167, 'correa’s': 11168, 'chambers': 11169, 'impostor': 11170, 'tours': 11171, 'taxi': 11172, '‘want': 11173, 'notables': 11174, 'mowryhardrict': 11175, 'bounced': 11176, 'kirras': 11177, 'pecan': 11178, 'leveled': 11179, 'wherever': 11180, 'implanted': 11181, 'stroke': 11182, 'bears': 11183, 'higher': 11184, 'jami': 11185, 'unmade': 11186, 'meditation': 11187, 'jesus’': 11188, 'borderline': 11189, '“horrible”': 11190, '“i’ve': 11191, 'bad”': 11192, 'diamondencrusted': 11193, 'galleri': 11194, 'beards': 11195, 'cliff': 11196, 'grips': 11197, 'postreunion': 11198, '‘depression': 11199, 'discriminate’': 11200, 'superteas': 11201, 'caicos': 11202, 'semiformal': 11203, '‘carrie': 11204, 'tranny’': 11205, 'ripert': 11206, 'rose’s': 11207, '‘becky': 11208, 'rises': 11209, '‘safe': 11210, 'word’': 11211, 'anything’': 11212, 'marshmallow': 11213, '‘setting': 11214, 'cadaver': 11215, 'producing': 11216, 'shingle': 11217, 'makereadi': 11218, 'inciting': 11219, '”in': 11220, 'feelings”': 11221, 'maliko': 11222, 'botching': 11223, 'feldstein': 11224, 'wrinkl': 11225, 'blowdry': 11226, 'churchill': 11227, 'feige': 11228, 'grading': 11229, '‘rhony’': 11230, 'gaslight”': 11231, 'snakeskin': 11232, 'gutpunch': 11233, 'blythe': 11234, 'danner': 11235, 'plimpton': 11236, 'torpedoed': 11237, '“greatest”': 11238, 'everybloke': 11239, 'pub': 11240, 'sarunas': 11241, 'drugtaking': 11242, 'mostviewed': 11243, 'archie': 11244, 'jugheads': 11245, 'racinginspired': 11246, 'privilege': 11247, '‘untouchable’': 11248, 'am…': 11249, 'disagree': 11250, 'thrive': 11251, 'arianna': 11252, 'huffington': 11253, 'mechie': 11254, 'reliev': 11255, 'recalling': 11256, 'fck': 11257, 'virtue': 11258, 'signalling': 11259, 'whitford': 11260, 'landecker': 11261, 'cartoon': 11262, 'frighten': 11263, 'protected': 11264, 'bodydouble': 11265, 'tampon': 11266, 'reinvention': 11267, 'powering': 11268, 'meanspirited': 11269, 'visual': 11270, 'equivalent': 11271, 'masturb': 11272, 'miscarri': 11273, 'webster': 11274, 'adores': 11275, 'cgi': 11276, 'defens': 11277, 'broken’': 11278, 'spock': 11279, 'documentaries': 11280, '‘surrogacy': 11281, 'adoption’': 11282, 'stylized': 11283, 'corni': 11284, 'leagues': 11285, 'allergy': 11286, 'conveyed': 11287, 'hadley': 11288, 'debuted': 11289, 'maestro': 11290, 'elsewhere': 11291, '‘troubled’': 11292, 'celebsgo': 11293, 'flipsflops': 11294, 'holes': 11295, 'soontodisappear': 11296, 'birdnest': 11297, 'copar': 11298, 'taboo': 11299, 'lwymmd': 11300, 'accelerated': 11301, 'reader': 11302, 'turkeys': 11303, 'birdies': 11304, '‘tormented’': 11305, 'murrel': 11306, 'butts': 11307, 'vacuumed': 11308, '”it': 11309, 'suckin’': 11310, 'derail': 11311, 'wowzers': 11312, 'ciara’s': 11313, 'brenton': 11314, 'thwaites': 11315, 'cleft': 11316, 'palate': 11317, 'princesses': 11318, 'feasible': 11319, 'blowbyblow': 11320, 'examin': 11321, 'recited': 11322, 'hog': 11323, 'hayeks': 11324, 'debuting': 11325, 'bleeder': 11326, 'dens': 11327, 'mickelson': 11328, 'ambushed': 11329, 'perp': 11330, 'jennette': 11331, 'mccurdys': 11332, 'flashdance': 11333, '‘ex’': 11334, 'songwriting': 11335, 'cringes': 11336, 'faked': 11337, 'adultery': 11338, 'corrected': 11339, 'piercing': 11340, 'rapturous': 11341, 'britain': 11342, 'sustainable’': 11343, 'gordonstoun': 11344, 'gabrielkane': 11345, 'psyched': 11346, 'heineken': 11347, 'flattered': 11348, 'horan’s': 11349, 'palatial': 11350, 'rydell': 11351, '‘rule’': 11352, 'absent': 11353, 'janina': 11354, 'gavankar': 11355, 'powers': 11356, 'plussize': 11357, 'selectively': 11358, '‘katy': 11359, 'cannibal’': 11360, 'believable': 11361, '‘bitter': 11362, 'network’s': 11363, 'venezuela': 11364, 'robinsons': 11365, 'logues': 11366, '‘anything': 11367, 'possibility’': 11368, 'brothels': 11369, '‘miserable': 11370, 'bastard’': 11371, '‘loner’': 11372, '‘gq’': 11373, '‘silence': 11374, 'lambs’': 11375, 'trumprussia': 11376, 'imposed': 11377, 'labour': 11378, 'newsroom”': 11379, 'reeling’': 11380, '“power': 11381, 'couple”': 11382, '‘oj': 11383, 'confession’': 11384, 'destin': 11385, 'superhot': 11386, '‘exceedingly': 11387, 'high’': 11388, 'fentanyl': 11389, 'zolciakbierman': 11390, 'athenaeum': 11391, 'aldean’s': 11392, 'keyboard': 11393, 'mod': 11394, 'luckiest': 11395, 'aftermath': 11396, 'route': 11397, 'marshall': 11398, 'voteout': 11399, 'stoked': 11400, 'minireunion': 11401, 'ignorant': 11402, 'alisters’': 11403, 'bandmate': 11404, 'edge': 11405, 'snacks': 11406, 'kilmer': 11407, 'trademark': 11408, 'anders': 11409, 'partspike': 11410, 'partjames': 11411, 'yusaf': 11412, 'scroll': 11413, 'spicy': 11414, 'ouch': 11415, 'aryn': 11416, 'drakelee': 11417, 'sole': 11418, 'mortim': 11419, 'kerdil': 11420, 'unrequited': 11421, 'washington’s': 11422, 'tiniest': 11423, 'polic': 11424, 'realest': 11425, 'deactivated': 11426, 'boatmances': 11427, 'fanfavorites': 11428, 'emmy’s': 11429, 'right…us': 11430, 'neither': 11431, 'fixedit': 11432, 'shanina': 11433, 'shaik': 11434, 'ruckuss': 11435, 'esi': 11436, 'obeng': 11437, 'imitadora': 11438, '‘bonding’': 11439, 'selects': 11440, 'krol': 11441, 'fresno': 11442, 'faded': 11443, 'incendiary': 11444, 'chatty': 11445, 'charles’': 11446, 'slopes': 11447, 'livetweet': 11448, 'thoughtstell': 11449, 'cuddl': 11450, 'safdie': 11451, 'brothers’': 11452, 'uncut': 11453, 'gem': 11454, 'context': 11455, '‘powerless': 11456, 'control’': 11457, 'physique': 11458, 'kraem': 11459, 'paves': 11460, 'constipated': 11461, 'weepie': 11462, 'flashing': 11463, 'goddard': 11464, 'indecis': 11465, 'joannas': 11466, 'prodigys': 11467, '“game': 11468, 'thrones”': 11469, '‘despicable': 11470, 'highfive': 11471, '‘definitely': 11472, 'bottom’': 11473, 'knowleslawson': 11474, '‘laguna': 11475, 'beach’': 11476, 'minaj’s': 11477, '‘sexy': 11478, 'af’': 11479, 'anytim': 11480, 'seduce': 11481, '‘covfefe’': 11482, 'unites': 11483, 'bewildered': 11484, 'keepin': 11485, '‘originals’': 11486, 'holt': 11487, 'ordering': 11488, 'rubio': 11489, 'forthcoming': 11490, 'flowy': 11491, 'shaman': 11492, '“expose': 11493, 'nikki’s': 11494, '“seeing': 11495, 'goosebumps”': 11496, 'whores': 11497, 'buckl': 11498, 'fcc': 11499, 'holster': 11500, 'palermos': 11501, 'aggravated': 11502, 'thund': 11503, 'invent': 11504, 'ships': 11505, 'yup': 11506, 'plagiarizing': 11507, 'coogler': 11508, 'postvacation': 11509, 'autobiographi': 11510, 'refutes': 11511, 'malone’s': 11512, 'rudy': 11513, 'giuliani': 11514, 'prob': 11515, 'auditioning': 11516, 'valium': 11517, 'expelled': 11518, 'rematch': 11519, 'i’ll': 11520, 'regrets”': 11521, '“sinister': 11522, 'energy”': 11523, 'porgs': 11524, 'kylo': 11525, 'ren': 11526, '‘ten': 11527, 'valley’': 11528, 'sashayed': 11529, '‘volatile’': 11530, '‘ultimate': 11531, 'fakery': 11532, 'manafort': 11533, 'indict': 11534, '‘fears': 11535, '‘casual’': 11536, 'mercilessly': 11537, 'winnipesauke': 11538, 'day’s': 11539, 'zedd': 11540, 'kiisfms': 11541, 'people…': 11542, 'now’': 11543, 'diplomatic': 11544, 'aerob': 11545, 'camping': 11546, 'kidnapper': 11547, 'wanda': 11548, 'barzee': 11549, 'overdue': 11550, '‘set': 11551, '‘got': 11552, 'rid’': 11553, 'fillers': 11554, 'francos': 11555, 'terrif': 11556, 'friedpickle': 11557, 'potato': 11558, 'frito': 11559, 'regionthemed': 11560, 'honeytrap': 11561, 'seize': 11562, 'ugandas': 11563, 'koni': 11564, 'demotes': 11565, 'chans': 11566, 'etta': 11567, 'ng': 11568, 'seo': 11569, 'minwoo': 11570, 'boyband': 11571, 'crowns': 11572, 'embarrassingly': 11573, 'crudely': 11574, 'lockerroom': 11575, 'stove': 11576, 'stuffing': 11577, 'stretchy': 11578, 'shamelessly': 11579, 'guiding': 11580, '‘sweet': 11581, 'trampoline': 11582, 'crazyfit': 11583, 'rousteing': 11584, 'armi': 11585, 'deads': 11586, 'goldwyn': 11587, 'fitzolivia': 11588, 'stonestreet': 11589, 'wrestles': 11590, 'prankster': 11591, 'payback': 11592, 'steinfeld’': 11593, 'militarylike': 11594, '‘racist’': 11595, 'washing': 11596, 'foxy': 11597, 'knoxy': 11598, 'nicknam': 11599, 'gerbers': 11600, 'hysterically': 11601, '‘call': 11602, '！': 11603, 'bonu': 11604, 'ruben': 11605, 'studdard': 11606, 'visionary': 11607, 'misdemeanors': 11608, 'destroying': 11609, 'hazzard': 11610, '‘instyle’': 11611, 'ices': 11612, 'pos': 11613, 'unisex': 11614, 'tshirts': 11615, 'rail': 11616, '‘trolling’': 11617, '‘crumbling’gossip': 11618, 'complement': 11619, 'lup': 11620, 'deborralee': 11621, 'furness': 11622, 'patriarch': 11623, 'grav': 11624, 'smileys': 11625, 'plann': 11626, 'justina': 11627, 'valentin': 11628, 'angels': 11629, 'paige’s': 11630, 'syracuse': 11631, 'fischers': 11632, 'wralcom': 11633, 'tidals': 11634, 'spunky': 11635, 'hippie': 11636, 'lowel': 11637, 'gringo': 11638, 'oscars®': 11639, 'temper': 11640, 'someones': 11641, 'arkansas': 11642, 'mildly': 11643, 'ecofriendly': 11644, 'twd': 11645, 'sevenyear': 11646, 'momshamed': 11647, 'straightening': 11648, '”clear': 11649, 'head”': 11650, 'bikinis': 11651, 'endorsement': 11652, 'underestimate': 11653, 'drybar’s': 11654, 'alli': 11655, 'webb': 11656, '‘afraid’': 11657, 'therapeutic': 11658, 'rosamund': 11659, 'pike': 11660, 'horoscop': 11661, '‘bright’': 11662, 'ayer': 11663, 'annasophia': 11664, 'robb': 11665, 'moor': 11666, 'floating': 11667, 'voter': 11668, 'dogeatcandidate': 11669, 'dembabies': 11670, 'jay’s': 11671, '“marry': 11672, 'person”': 11673, 'momdaughter': 11674, 'ptc': 11675, 'content': 11676, 'fleeing': 11677, 'brad’s': 11678, 'addicts': 11679, 'erections': 11680, '“familiar”': 11681, 'ririapproved': 11682, 'floralfilled': 11683, 'outlander’s': 11684, 'coopers': 11685, 'reaffirms': 11686, 'commitment': 11687, '“bridal': 11688, 'camp”': 11689, 'shani': 11690, 'darden': 11691, 'spiewak': 11692, 'scalloped': 11693, '“flirt”': 11694, 'thiem': 11695, 'wildflowers': 11696, 'strangling': 11697, '“italian': 11698, 'stallion”': 11699, 'and…porn': 11700, '“horrible': 11701, 'boil”': 11702, 'asahd': 11703, 'teyana': 11704, 'tickled': 11705, 'dien': 11706, 'sohhcom': 11707, 'incest': 11708, 'outlives': 11709, 'medusa': 11710, 'dreamy': 11711, 'rewards': 11712, 'cracked': 11713, 'herbs': 11714, 'spices': 11715, 'cosies': 11716, 'zombi': 11717, 'pronounce': 11718, 'doused': 11719, 'swastika': 11720, 'adair': 11721, 'fiscal': 11722, 'bulgari': 11723, 'limits': 11724, 'charlotte’': 11725, 'nag': 11726, 'gabriellas': 11727, '“when': 11728, 'myself”': 11729, 'dysmorphia': 11730, 'criticize': 11731, 'counsel': 11732, '‘psychiatric': 11733, 'meds’': 11734, '‘meltdown’': 11735, 'habit': 11736, 'doping': 11737, 'swarmings': 11738, 'khoury’s': 11739, 'associated': 11740, 'lima’s': 11741, 'mclean': 11742, 'novak’s': 11743, 'dowd': 11744, 'darn': 11745, 'scrunchie': 11746, 'postracing': 11747, 'waffles': 11748, 'bottling': 11749, 'alisan': 11750, 'autenrieth': 11751, 'myanmar': 11752, 'dam': 11753, 'overflow': 11754, 'displaces': 11755, 'sporty': 11756, 'belittled': 11757, 'moment’': 11758, 'dismay': 11759, 'tossing': 11760, 'towels': 11761, 'hugging': 11762, 'koala': 11763, '“does': 11764, 'well”': 11765, 'tucci': 11766, 'giovanna': 11767, 'footstep': 11768, 'loring': 11769, 'moons': 11770, 'eclipsed': 11771, 'shamefully': 11772, 'mathew': 11773, '‘turned': 11774, 'republicans': 11775, 'oddly': 11776, 'stance': 11777, 'feminism': 11778, 'rights’': 11779, 'brighten': 11780, 'unclothed': 11781, 'rugrats': 11782, 'thandie': 11783, 'congressman': 11784, 'birthing': 11785, 'testino': 11786, 'nailed': 11787, 'erupted': 11788, 'frow': 11789, 'jw': 11790, 'resides': 11791, 'cope': 11792, 'floyd': 11793, 'mayweatherconor': 11794, 'santo': 11795, 'krystals': 11796, 'nevertheless': 11797, 'hautest': 11798, 'elin': 11799, 'nordegren': 11800, '“film': 11801, 'passed': 11802, 'today”': 11803, 'exstylist': 11804, 'endured': 11805, 'coworker': 11806, 'larsons': 11807, 'nest”': 11808, 'togethergossip': 11809, 'bandeau': 11810, 'anti': 11811, 'repetit': 11812, 'jampacked': 11813, 'slang': 11814, 'inhumans': 11815, 'spieth': 11816, 'invented': 11817, 'pictorials': 11818, 'ocean’': 11819, 'plates': 11820, 'spielbergs': 11821, 'dystopia': 11822, 'freaky': 11823, 'feat': 11824, 'kirbi': 11825, 'choreographed': 11826, 'helpless': 11827, 'vowed': 11828, 'legalized': 11829, '“fulfills': 11830, 'freckle': 11831, 'fetish”': 11832, 'recy': 11833, 'floored': 11834, 'ar': 11835, 'contempt': 11836, 'andy’s': 11837, '“toy': 11838, 'story”': 11839, 'converts': 11840, 'religions': 11841, '‘heathers’': 11842, 'frantic': 11843, 'gadsby’s': 11844, '‘nanette’': 11845, 'broadwaybound': 11846, 'wahler': 11847, 'slack': 11848, 'tookes': 11849, 'adjust': 11850, 'napier': 11851, '‘never’': 11852, '‘done’': 11853, '‘intense': 11854, 'sistine': 11855, 'vibe': 11856, '‘feels’': 11857, 'eleven’s’': 11858, 'donated': 11859, 'inches': 11860, 'pickler': 11861, 'chieffo': 11862, 'tamron': 11863, 'herpes': 11864, 'mixin’': 11865, 'crawleys': 11866, 'minka': 11867, 'rainbowthemed': 11868, 'indulg': 11869, 'szechuan': 11870, 'sauce': 11871, 'messicks': 11872, 'blistering': 11873, 'johnathon': 11874, 'schaech': 11875, 'zeffirelli': 11876, 'mateo': 11877, 'ronaldos': 11878, 'olsen’s': 11879, 'heyers': 11880, 'surrogate’s': 11881, 'pons': 11882, '‘aquaman': 11883, 'selv': 11884, 'gradon’s': 11885, 'coppola': 11886, 'triumphs': 11887, 'suspenseful': 11888, 'galaxys': 11889, 'coolgirl': 11890, 'selleck': 11891, 'anti–skinny': 11892, '“nightmare”': 11893, 'seniorsselfhelp': 11894, 'viciousness': 11895, 'animals': 11896, 'eighth': 11897, 'grudges': 11898, 'ihop': 11899, 'ihob': 11900, 'dieter': 11901, 'schmitz': 11902, 'deemed': 11903, 'fundraising': 11904, 'sidewalk': 11905, 'skyes': 11906, 'highlighter': 11907, 'average': 11908, 'prices': 11909, 'img': 11910, 'nbcu': 11911, 'camilla’s': 11912, 'sippy': 11913, 'tammin': 11914, 'sursok': 11915, '‘vindicated’': 11916, 'ellecoms': 11917, 'carissa': 11918, 'culiner': 11919, 'baseline': 11920, 'kerber': 11921, 'maker': 11922, 'salvaged': 11923, 'ae': 11924, '‘scientology’': 11925, 'water’s': 11926, '”are': 11927, 'alone”': 11928, 'misfit': 11929, '‘dusty': 11930, 'rusty': 11931, 'hoe’': 11932, 'nappy': 11933, 'luscious': 11934, 'platelet': 11935, 'plasma': 11936, 'hampshire': 11937, 'nh': 11938, 'borrows': 11939, 'overload': 11940, 'mtvchalleng': 11941, 'intervene': 11942, 'vanguard': 11943, 'pouring': 11944, 'learnt': 11945, 'homecoming’s': 11946, 'endcredits': 11947, 'unfollowing': 11948, 'dianna': 11949, 'ecstasy': 11950, 'unmasked': 11951, 'crippling': 11952, 'stiletto': 11953, '‘angel’': 11954, 'coparent': 11955, 'sloppy': 11956, 'mogul': 11957, '‘was': 11958, '”drip”': 11959, 'prevalentines': 11960, 'supply': 11961, 'unprompted': 11962, 'goose': 11963, 'fiveo’': 11964, '“sense': 11965, 'worth”': 11966, 'superherothemed': 11967, 'remembrance': 11968, 'broadcaster': 11969, 'underwood’s': 11970, 'aide': 11971, 'hallucinates': 11972, 'alternate': 11973, 'psychedelic': 11974, 'mushrooms': 11975, 'adorns': 11976, 'way’s': 11977, '‘funny': 11978, '‘talk': 11979, 'smell': 11980, 'morissettes': 11981, 'embezzling': 11982, 'increas': 11983, 'wolverin': 11984, 'jauregui': 11985, 'ragland': 11986, 'linney': 11987, 'careful': 11988, 'intergalactic': 11989, 'concealed': 11990, 'aspirin': 11991, 'opi': 11992, '‘deeply': 11993, 'foo': 11994, 'fighters': 11995, 'guitar': 11996, 'rings’': 11997, 'multiseason': 11998, 'elspeth': 11999, 'keller': 12000, 'phones': 12001, 'sen': 12002, '‘slanderous': 12003, 'comments’': 12004, 'rearranging': 12005, 'kelleys': 12006, 'avengers’': 12007, 'problematic': 12008, '‘payback’s': 12009, 'bih’': 12010, 'lear': 12011, 'divide': 12012, 'stitches': 12013, 'henry’': 12014, 'surr': 12015, '‘fighter': 12016, 'thumbs’': 12017, 'stares': 12018, 'bellamys': 12019, 'optimism': 12020, 'taught”': 12021, 'flesheating': 12022, 'bacteria': 12023, 'kroll': 12024, '‘smile’': 12025, 'annes': 12026, 'pretzel': 12027, '“hanging': 12028, 'out”': 12029, '“unequivocally”': 12030, 'happen”': 12031, 'repossessed': 12032, 'netherlands': 12033, 'nab': 12034, 'backstori': 12035, 'yuki': 12036, 'sparknotes': 12037, 'overview': 12038, 'gaines’': 12039, 'definite': 12040, 'grab’': 12041, '‘flying’': 12042, 'sifting': 12043, 'prevented': 12044, 'caylee': 12045, 'unauthorized': 12046, 'complicit': 12047, '‘er’': 12048, 'satisfyin': 12049, 'whittakers': 12050, 'pumaand': 12051, 'dop': 12052, 'unprecedented': 12053, 'autonomy': 12054, 'out': 12055, 'newspap': 12056, 'takers': 12057, '‘celebrity': 12058, 'cb': 12059, 'wagon': 12060, 'moanainspired': 12061, 'ers': 12062, 'marquez': 12063, 'chasing': 12064, 'playmate': 12065, 'berglund': 12066, 'nnamdi': 12067, 'asomugha': 12068, 'playful': 12069, 'selenas': 12070, 'yea': 12071, 'leighton': 12072, 'meester': 12073, '‘flirting’': 12074, 'vodka': 12075, 'offs': 12076, 'bartender': 12077, 'lagu': 12078, 'toughest': 12079, 'gosling’s': 12080, 'sexualize': 12081, 'mayweathermcgregor': 12082, 'highlyrated': 12083, 'refollows': 12084, '“causing': 12085, 'problems”': 12086, 'livingstone': 12087, 'botswana': 12088, 'cornwall': 12089, 'avatar': 12090, 'cutter': 12091, '‘shocked': 12092, 'core’': 12093, '‘rhonj’': 12094, 'jailbird': 12095, 'flagged': 12096, 'deport': 12097, 'daughters’': 12098, 'insisting': 12099, 'rootsy': 12100, 'cheekily': 12101, 'tush': 12102, 'thiev': 12103, 'dissect': 12104, 'sufficiently': 12105, 'religious': 12106, 'javier': 12107, 'bardem': 12108, 'celebritiesturnedactivists': 12109, 'throughout': 12110, 'spok': 12111, 'walkers': 12112, 'porsche': 12113, 'wrongfuldeath': 12114, 'richardson': 12115, 'dreamed': 12116, 'vader': 12117, 'jessa': 12118, 'bandlead': 12119, 'ports': 12120, 'meow': 12121, 'purchases': 12122, 'tyga’s': 12123, 'mudslid': 12124, 'piqués': 12125, 'aerosmith’s': 12126, '“dude': 12127, 'anyone”': 12128, 'battled': 12129, 'dental': 12130, 'safais': 12131, 'sleepover': 12132, 'spitefully': 12133, 'greens': 12134, 'wideleg': 12135, 'swept': 12136, 'strippers': 12137, 'scared”': 12138, 'latex': 12139, 'rig': 12140, 'rebekka': 12141, 'harajuku': 12142, 'clinch': 12143, 'withdrawn': 12144, 'ignoring': 12145, 'rues': 12146, 'backpedals': 12147, 'alejandra': 12148, 'insati': 12149, 'zellwegers': 12150, '‘sexual': 12151, 'favors’': 12152, 'magicians': 12153, 'fedor': 12154, 'andreev': 12155, 'creepily': 12156, 'greenfield': 12157, 'buttons': 12158, 'brook': 12159, 'deck’s': 12160, 'rosbach': 12161, 'charter': 12162, 'crazyexgirlfriend': 12163, '“ruled': 12164, 'pedophiles”': 12165, 'frida': 12166, 'mexico’s': 12167, 'chmerkovskiy’s': 12168, 'scholars': 12169, 'pantheon': 12170, 'highgrossing': 12171, 'smoak': 12172, 'northern': 12173, 'coon': 12174, 'unable': 12175, 'britannia': 12176, 'fever’': 12177, 'hipst': 12178, 'cuddliest': 12179, 'interrupts': 12180, 'ellas': 12181, 'alexanders': 12182, 'vonns': 12183, 'capture': 12184, 'fishi': 12185, 'discrimin': 12186, 'allencompassing': 12187, 'vasectomi': 12188, '‘ocean’s': 12189, 'eight’': 12190, 'pissed”': 12191, '“same': 12192, 'outfit”': 12193, 'horny': 12194, 'uzi': 12195, 'vert': 12196, 'unimpressed': 12197, '‘flirty’': 12198, 'mcilroy': 12199, 'jamboree': 12200, 'suggesting': 12201, 'pubescent': 12202, '‘hotel': 12203, 'recaps': 12204, 'ai': 12205, '‘ladies': 12206, 'neilson’s': 12207, 'tonya’': 12208, 'dc’s': 12209, '‘positively': 12210, 'sickness’': 12211, 'bilingual': 12212, 'snagged': 12213, 'lullaby': 12214, 'rallies': 12215, 'doughnut': 12216, 'unexplained': 12217, 'maura': 12218, 'seronok': 12219, 'kabar': 12220, 'unruly': 12221, 'sheryl': 12222, 'comingout': 12223, 'gruelling': 12224, 'listings': 12225, 'westapprov': 12226, 'musgraves': 12227, 'ruston': 12228, 'yearold': 12229, 'rudeness': 12230, 'lumley': 12231, 'hurts': 12232, 'ashmore': 12233, 'meras': 12234, 'mcdermott': 12235, 'dissects': 12236, 'obesity': 12237, 'parents”': 12238, 'downhill': 12239, 'pyeongchang': 12240, '“framed”': 12241, 'swier': 12242, 'spat': 12243, 'freakiest': 12244, 'appendectomi': 12245, 'symptoms': 12246, 'jetting': 12247, 'airs': 12248, 'proclaims': 12249, 'earlier': 12250, 'sling': 12251, '‘britishness’': 12252, 'munns': 12253, 'uscanada': 12254, 'survivor’s': 12255, 'morasco': 12256, 'library': 12257, 'sacha': 12258, 'dirrty': 12259, 'moststreamed': 12260, 'spotifi': 12261, 'underboob': 12262, 'endangerment': 12263, 'manushi': 12264, 'chhillar': 12265, 'listened’': 12266, 'zwierzynski': 12267, 'swanby': 12268, 'cowork': 12269, 'liposuct': 12270, 'analyzing': 12271, 'greet': 12272, 's—': 12273, '‘made': 12274, 'laugh’': 12275, 'girlboss': 12276, '‘instigator’': 12277, 't’s': 12278, 'forbidden': 12279, 'antifur': 12280, 'protesters': 12281, 'disrupt': 12282, 'journeys': 12283, 'believin': 12284, 'sartorius': 12285, 'anchors': 12286, 'buttery': 12287, 'carb': 12288, 'luke…': 12289, 'sneers': 12290, 'mugshot': 12291, 'singleyear': 12292, 'mikaela': 12293, 'echame': 12294, 'bribed': 12295, 'smarti': 12296, 'astin': 12297, 'acaengag': 12298, 'sp': 12299, 'suitcase': 12300, 'agony': 12301, 'elsa’s': 12302, '‘freaks': 12303, 'idea’': 12304, 'cocos': 12305, 'rememb': 12306, 'tipped': 12307, 'greysanatomi': 12308, '“kiwi”': 12309, 'cupcake': 12310, 'bodysham': 12311, 'undanceable': 12312, 'gadon': 12313, 'sspx': 12314, 'chenoweth': 12315, 'hairless': 12316, 'martin’s': 12317, '‘ridiculous’': 12318, 'tommys': 12319, 'supersite': 12320, 'royalties': 12321, 'scots': 12322, 'comeback’': 12323, 'nadal': 12324, 'nicola': 12325, 'aloud': 12326, 'kimberley': 12327, 'dita': 12328, 'teese': 12329, 'delightfully': 12330, 'anatomys': 12331, 'loretta': 12332, 'silverstone’s': 12333, '‘clueless’': 12334, 'showcased': 12335, '“dad': 12336, 'moves”': 12337, 'annabella': 12338, 'sciorra': 12339, '‘going': 12340, 'cnns': 12341, 'awake': 12342, 'lenon': 12343, 'hoult': 12344, 'rekindling': 12345, 'airbnb': 12346, 'grammy®': 12347, 'rosalía': 12348, 'aguilar': 12349, 'jorge': 12350, 'drexler': 12351, 'lafourcade': 12352, 'mauricio': 12353, 'rengifo': 12354, 'andrés': 12355, 'torres': 12356, 'fluffy': 12357, 'clifford': 12358, 'notsonice': 12359, 'bullsplit': 12360, 'thurmans': 12361, 'activity': 12362, 'spectatorship': 12363, 'fulfilled': 12364, 'choir': 12365, 'amplified': 12366, 'rumba': 12367, 'countrysid': 12368, 'swirl': 12369, 'bandanas': 12370, 'slender': 12371, 'lipsync': 12372, 'bishop': 12373, 'outline': 12374, 'sermon': 12375, 'parnes': 12376, 'hoods': 12377, 'simpsons’': 12378, 'back–check': 12379, 'zika': 12380, 'virus': 12381, 'minkoffs': 12382, 'lucasfilm': 12383, 'jennerinspired': 12384, 'commuters': 12385, 'spanishlanguage': 12386, 'sweet’': 12387, 'hospice': 12388, 'docu': 12389, 'mouthing': 12390, 'denni': 12391, 'osborne': 12392, '“class': 12393, 'act”': 12394, 'gentleman”': 12395, '‘asap’': 12396, 'chastain’s': 12397, 'enhances': 12398, 'assets–and': 12399, 'cannons': 12400, 'turban': 12401, 'anywher': 12402, '‘getaway': 12403, 'car’': 12404, 'izabel': 12405, 'goulart': 12406, 'trapp': 12407, 'outdo': 12408, 'dianacharles': 12409, '“total': 12410, 'divas”': 12411, 'etpt': 12412, 'bark': 12413, 'overcomes': 12414, 'paralysis': 12415, 'crowdfund': 12416, 'different’': 12417, '‘works': 12418, 'hefner’s': 12419, 'scolded': 12420, 'kneeling': 12421, 'touni': 12422, 'mara’s': 12423, '‘riddled': 12424, 'anxiety’': 12425, '‘isolated’': 12426, 'lindsay’s': 12427, '“‘sick’': 12428, '‘control’': 12429, 'industry”': 12430, 'remarries': 12431, 'thumbprint': 12432, '‘fantastic': 12433, 'grindelwald’': 12434, '‘ultimately': 12435, 'saddened’': 12436, 'quotdonequot': 12437, 'explosive…': 12438, 'kuni': 12439, 'tolberts': 12440, 'dwts’': 12441, '”despacito”': 12442, 'john”': 12443, 'accountability': 12444, 'momager': 12445, 'mastermind': 12446, 'gaten': 12447, 'matarazzo': 12448, 'recognizes': 12449, 'selflove': 12450, 'rems': 12451, 'buck': 12452, '“paranoia': 12453, 'musthaves': 12454, 'kameron': 12455, 'westscott': 12456, 'dandra': 12457, 'needing': 12458, 'factori': 12459, 'sleeps': 12460, 'slapped': 12461, 'genit': 12462, 'aeon': 12463, 'flux': 12464, 'col': 12465, 'plemon': 12466, 'sexualized': 12467, 'silenc': 12468, 'issues’': 12469, 'painting': 12470, 'exboyfriend’s': 12471, '‘access': 12472, 'physiqu': 12473, 'reptiles': 12474, '“rule”': 12475, 'victimhood': 12476, 'sizzles': 12477, 'satin': 12478, 'hues': 12479, 'harrymeghan': 12480, 'pentagon': 12481, '‘wizards': 12482, 'buzzfeed': 12483, 'dime': 12484, 'millionair': 12485, 'outcast': 12486, 'relate': 12487, 'commands': 12488, 'hulu’': 12489, 'trevorrow': 12490, 'alarms': 12491, 'treads': 12492, 'grilled': 12493, 'sweaters': 12494, 'ease': 12495, 'decent': 12496, 'charleys': 12497, '‘west': 12498, 'koko': 12499, 'iraq': 12500, 'farber': 12501, 'ful': 12502, 'mitch': 12503, 'landrieu': 12504, 'cotton': 12505, 'rand': 12506, 'gridiron': 12507, 'sudsy': 12508, 'mispronounced': 12509, 'men’s': 12510, 'pe': 12511, 'hotter': 12512, 'archbalt': 12513, 'divine': 12514, 'posters': 12515, 'gunnin’': 12516, '‘gunsmoke’': 12517, 'kollin': 12518, '‘a—hole’': 12519, 'crafting': 12520, 'awkward…': 12521, 'summertime': 12522, 'rink': 12523, '”spiraled': 12524, 'control”': 12525, 'bufanda': 12526, 'petschs': 12527, 'weekendready': 12528, '“nailed': 12529, 'adelstein': 12530, '‘aladdin’': 12531, '‘diamonds': 12532, 'walk’': 12533, 'ottavio': 12534, 'conceiving': 12535, '“siding”': 12536, 'reids': 12537, 'buff': 12538, 'breakup—but': 12539, 'clowning': 12540, 'epitomizes': 12541, 'blooper': 12542, 'veronicas': 12543, 'szohr': 12544, '\\u200bangelina': 12545, '‘peasants’': 12546, 'pantry': 12547, 'ensa': 12548, 'vengeful': 12549, 'chelseas': 12550, 'meth': 12551, 'hallucinate': 12552, 'gouge': 12553, 'reflecting': 12554, 'clinton’s': 12555, 'walters': 12556, 'galway': 12557, 'torture': 12558, 'endanger': 12559, 'fuelled': 12560, 'archvillain': 12561, 'wasp': 12562, 'span': 12563, 'wreckage': 12564, 'limousin': 12565, 'tattoos’': 12566, 'heavily': 12567, 'inked': 12568, 'hildebrand': 12569, 'negasonic': 12570, 'warhead': 12571, 'montanas': 12572, 'earles': 12573, 'drysen': 12574, 'tajiri': 12575, 'modelo': 12576, '‘time': 12577, 'themselves’': 12578, 'tutorials': 12579, '“fifty': 12580, 'freed”': 12581, '“for': 12582, 'cattralls': 12583, 'balanced': 12584, 'innout': 12585, 'burg': 12586, 'cosmopolitans': 12587, 'stomachbaring': 12588, 'anika': 12589, 'noni': 12590, 'fatherson': 12591, '“sex': 12592, 'borrowing': 12593, 'immortal': 12594, 'henrietta': 12595, 'extraordinari': 12596, 'copi': 12597, 'garretts': 12598, 'suite': 12599, 'int': 12600, 'threekate': 12601, 'criticised': 12602, 'privileg': 12603, 'hudgens’': 12604, 'waith': 12605, 'charrisse': 12606, 'hathaways': 12607, 'portman’s': 12608, '‘allmale': 12609, 'nominees’': 12610, 'manscaping': 12611, 'clipp': 12612, 'whimsi': 12613, 'cliffhang': 12614, 'mp': 12615, 'palms': 12616, '‘too': 12617, 'sex’': 12618, 'gather': 12619, 'repos': 12620, '‘schitt’s': 12621, 'fork': 12622, 'infuriatingly': 12623, 'ruthie': 12624, 'doublesided': 12625, 'lacma': 12626, 'unsinkable': 12627, 'supermodels': 12628, 'snor': 12629, 'recovered': 12630, 'seeher': 12631, 'femaleled': 12632, 'barrymores': 12633, '‘chrisley': 12634, 'hideous': 12635, 'daddarios': 12636, 'theyd': 12637, 'escape’': 12638, 'brosnan’s': 12639, 'worship': 12640, '‘desperately’': 12641, 'fakest': 12642, 'baaaack': 12643, 'thrones’at': 12644, 'penn’s': 12645, 'olafs': 12646, 'courti': 12647, 'giveaway': 12648, 'financially': 12649, 'bramhal': 12650, '‘real’': 12651, 'real’': 12652, 'unwinds': 12653, 'smaller': 12654, 'achy': 12655, 'breaky': 12656, 'sneez': 12657, 'housemates': 12658, 'underprivileged': 12659, 'stellar': 12660, 'gretzky': 12661, 'cascading': 12662, 'perlas': 12663, 'artinspired': 12664, 'whor': 12665, 'tribe': 12666, 'bruvaaa': 12667, 'kody': 12668, '‘free’': 12669, 'franca': 12670, 'sozzani': 12671, '‘transformers': 12672, 'muscular': 12673, 'walkin': 12674, 'hln': 12675, 'nest': 12676, 'brainy': 12677, 'sheléa': 12678, 'salute…': 12679, 'soulbaring': 12680, '‘liberation’': 12681, 'ballad': 12682, '‘twice’': 12683, '‘millions’': 12684, 'ritter': 12685, '“extremely': 12686, 'competitive”': 12687, 'volavola': 12688, 'sidelin': 12689, 'tens': 12690, 'businessman': 12691, 'programming': 12692, 'finace': 12693, 'longest': 12694, 'spares': 12695, 'expense': 12696, '‘sisterhood': 12697, 'pants’': 12698, 'holmes’s': 12699, 'roachthemed': 12700, 'goliath': 12701, 'grove': 12702, 'tale’s': 12703, 'moira’s': 12704, 'sfi': 12705, 'thursdays': 12706, '‘complicated': 12707, 'relationship’': 12708, 'regret’': 12709, 'biographer': 12710, '‘asks': 12711, 'unedited': 12712, 'somehow': 12713, 'magnet': 12714, 'clicksmileworldwid': 12715, 'lone': 12716, 'caputos': 12717, 'cooled': 12718, 'filters': 12719, 'pixar’s': 12720, '‘coco’': 12721, 'sulkin': 12722, 'nun': 12723, 'wonderland': 12724, 'o’donnell': 12725, 'exwife’s': 12726, 'simpl': 12727, 'flam': 12728, '‘baffled’': 12729, '’emboldened’': 12730, 'sorta': 12731, '‘taken’': 12732, 'surrender”': 12733, '‘harvey': 12734, 'everybody’': 12735, 'fev': 12736, '‘couple’s': 12737, 'therapy’': 12738, 'colombia': 12739, 'massage': 12740, 'legendthemed': 12741, 'appar': 12742, '“epic': 12743, 'close”': 12744, 'inspirational': 12745, 'envelopeg': 12746, 'churchil': 12747, 'jenkinss': 12748, 'sank': 12749, 'aclu': 12750, 'bracelets': 12751, 'estevez': 12752, 'trashes': 12753, 'tiffany’': 12754, 'brinkleys': 12755, 'yelled': 12756, 'overtipping': 12757, 'prisonerchic': 12758, 'boyles': 12759, '‘agt’': 12760, 'blood’': 12761, 'ducki': 12762, 'sandringham': 12763, 'sophia’s': 12764, 'topsecret': 12765, 'depiction': 12766, '“mentally': 12767, 'ill”': 12768, 'maxwell’s': 12769, '‘young': 12770, 'sheldon’': 12771, '‘magnum': 12772, 'pi’': 12773, '‘murphy': 12774, 'godzilla': 12775, 'kaijufilled': 12776, 'ultimately': 12777, 'chef’s': 12778, 'labased': 12779, 'headpieces': 12780, '‘austin': 12781, 'powers’': 12782, 'verne': 12783, 'troyer': 12784, 'reclaim': 12785, 'reconcil': 12786, 'plumb': 12787, 'illiter': 12788, 'naps': 12789, 'bobby’s': 12790, 'copperfield': 12791, 'nightshades': 12792, 'serenading': 12793, 'scone': 12794, 'okay’': 12795, 'colleagu': 12796, 'rannells': 12797, 'counselor': 12798, 'pranksters': 12799, 'fool’s': 12800, '”hi': 12801, 'dad”': 12802, 'yearslong': 12803, 'motley': 12804, 'abductor': 12805, 'suggestive': 12806, 'pintsized': 12807, 'insisted': 12808, '‘wearing': 12809, 'fur’': 12810, 'cap': 12811, 'protrump': 12812, 'climbs': 12813, 'desk': 12814, 'finishes': 12815, 'desper': 12816, 'spains': 12817, 'garbiñe': 12818, 'bramhall': 12819, 'petalfilled': 12820, '‘messing': 12821, 'itpippa': 12822, 'bitcoin': 12823, 'potter’s’': 12824, 'diagon': 12825, 'driveway': 12826, 'bunny’s': 12827, 'selfpromot': 12828, '‘struggling’': 12829, '‘acting': 12830, 'attention’': 12831, 'grandmas': 12832, 'homemaker': 12833, 'houses': 12834, '“please': 12835, 'sht': 12836, 'estefans': 12837, 'quilt': 12838, 'pyjama': 12839, 'celebloved': 12840, 'microblad': 12841, 'skye': 12842, 'kidnapping': 12843, 'malec': 12844, 'nuts': 12845, 'oldfashioned': 12846, 'refrains': 12847, 'googl': 12848, 'mes': 12849, '‘talking': 12850, 'unraveled': 12851, 'holmestom': 12852, 'suris': 12853, 'upbringing': 12854, 'beyday': 12855, 'stereotypical': 12856, 'lombard’s': 12857, 'splurge': 12858, 'wept': 12859, 'interstellar': 12860, 'thorn': 12861, 'inlaw': 12862, 'plague': 12863, 'improvement': 12864, 'librari': 12865, '‘saddened’': 12866, '‘like': 12867, 'prayer’': 12868, 'philosophers': 12869, 'balenciaga': 12870, 'froyo': 12871, 'tosh': 12872, 'interlocking': 12873, 'busk': 12874, 'lak': 12875, 'overseas': 12876, 'xma': 12877, '‘relishing’': 12878, 'parent': 12879, 'escort': 12880, 'pocketing': 12881, 'nickys': 12882, '‘dwts': 12883, 'possessed': 12884, 'grain': 12885, 'ohanians': 12886, 'bahamian': 12887, 'obama’s': 12888, 'haul': 12889, 'gettogeth': 12890, 'standoff': 12891, 'swat': 12892, 'chapt': 12893, 'ds': 12894, 'scientologyobsess': 12895, 'reactivates': 12896, 'customer': 12897, 'rapid': 12898, 'ketogenic': 12899, 'slashes': 12900, 'steely': 12901, 'dan’s': 12902, 'becker': 12903, 'slimmed': 12904, 'bait': 12905, 'saltandpepper': 12906, 'housewifes': 12907, 'facetiming': 12908, 'easiest': 12909, 'kellog': 12910, 'terms': 12911, 'campos': 12912, 'gunman': 12913, 'paddock': 12914, 'hulk': 12915, 'tweezing': 12916, 'halloweentowns': 12917, 'kountz': 12918, 'veils': 12919, 'cooler': 12920, 'sabtu': 12921, 'tabungan': 12922, 'urang': 12923, 'frontdasi': 12924, 'pepelakan': 12925, 'dupi': 12926, 'ayeuna': 12927, 'promposals': 12928, 'defiant': 12929, 'fischer’s': 12930, 'snoring': 12931, 'remixes': 12932, 'investigations': 12933, 'compens': 12934, 'barrier': 12935, 'canne': 12936, 'crochet': 12937, '\\u200b\\u200bdream': 12938, 'playdate': 12939, 'eefvi': 12940, 'frankly': 12941, 'noughties': 12942, 'elijah': 12943, 'haylijah': 12944, 'organising': 12945, 'brescia': 12946, 'wherearekatespadebagsmadewhicharefak': 12947, 'artful': 12948, 'lentz': 12949, 'ageism': 12950, 'paddle': 12951, 'boarding': 12952, 'hairdo': 12953, 'tennessees': 12954, 'preseason': 12955, 'collaborations': 12956, 'breathless': 12957, 'lightsaber': 12958, 'abccom': 12959, 'stained': 12960, 'madix’s': 12961, 'multicar': 12962, 'bizarr': 12963, 'nixons': 12964, 'governor': 12965, 'barri': 12966, 'bandm': 12967, 'ideas—no': 12968, 'requir': 12969, 'guiltypleasure': 12970, 'epilogu': 12971, 'deathdefying': 12972, 'stathams': 12973, 'fun’': 12974, 'zolciak’s': 12975, '‘wig’': 12976, 'suggestion': 12977, 'capshawsarah': 12978, 'pompeos': 12979, 'rais': 12980, 'kissable': 12981, 'willy': 12982, 'pendants': 12983, 'lamps': 12984, 'lumenscom': 12985, 'wards': 12986, 'wintry': 12987, 'kellywise': 12988, '“wags': 12989, 'atlanta”': 12990, 'fountain': 12991, 'zayns': 12992, 'juvenile': 12993, 'arrived': 12994, 'doorstep': 12995, 'gentri': 12996, 'youtuber': 12997, 'sty': 12998, 'fking’': 12999, 'pedophilia': 13000, 'bu': 13001, 'pique': 13002, 'luigi': 13003, 'kart': 13004, 'benet': 13005, '‘celebration': 13006, 'women’': 13007, 'gothchic': 13008, 'garten': 13009, '‘another': 13010, 'engines': 13011, 'kia': 13012, 'stinger': 13013, 'alsina': 13014, 'spotlights': 13015, 'defect': 13016, 'dire': 13017, 'straits': 13018, 'moody': 13019, 'blu': 13020, 'namesake': 13021, 'boondock': 13022, 'reedus': 13023, 'chamber': 13024, 'md': 13025, '‘spooks’': 13026, 'poisoning': 13027, 'rice': 13028, 'that’ll': 13029, 'hubbys': 13030, 'hanoi': 13031, 'jurors': 13032, 'conflicting': 13033, 'deadlock': 13034, 'aronofskys': 13035, 'lail': 13036, 'settled': 13037, 'less’': 13038, 'puddle': 13039, 'balms': 13040, 'perfumes': 13041, 'skydive': 13042, 'engine': 13043, 'animaniacs': 13044, 'orleans': 13045, 'confidenceboosting': 13046, 'bamboozled': 13047, 'serenas': 13048, 'lowriders’': 13049, 'yvette': 13050, 'monreal': 13051, 'nightclubs': 13052, 'ribbons': 13053, 'leopard': 13054, 'smelly': 13055, 'cooch': 13056, 'charters': 13057, 'transport': 13058, 'wakeup': 13059, 'spielburg': 13060, 'cowell’s': 13061, 'gayhearts': 13062, 'jameela': 13063, 'jamil': 13064, 'emile': 13065, 'hirsch': 13066, 'monochrome': 13067, 'givenchi': 13068, 'vicelands': 13069, 'robs': 13070, 'incubus': 13071, '‘brought': 13072, 'wiktionari': 13073, 'awaiting': 13074, 'annalisa': 13075, 'azaredo': 13076, '‘absolute': 13077, 'dynamite’': 13078, 'guidelin': 13079, 'snowboard': 13080, 'confidant': 13081, 'floundering': 13082, 'focusing': 13083, 'khloe’': 13084, 'defrancesco': 13085, 'succeeded': 13086, 'cyndi': 13087, 'lauper': 13088, 'lawrence’s': 13089, '‘fck': 13090, 'you…': 13091, 'dacre': 13092, 'montgomerys': 13093, '“real': 13094, 'maher”': 13095, 'exploited': 13096, 'bradie': 13097, 'tennell': 13098, '‘pleading’': 13099, 'year’': 13100, 'c’s': 13101, 'switching': 13102, 'ballsand': 13103, 'disposing': 13104, 'sabotages': 13105, 'expertly': 13106, 'avoided': 13107, 'adkins': 13108, 'adjusts': 13109, 'bootleg': 13110, 'quaaludes': 13111, 'crabs': 13112, 'catapulting': 13113, 'grant’s': 13114, '—plus': 13115, 'alaina': 13116, 'tomeeka': 13117, 'braci': 13118, 'cliffhangers': 13119, 'meter': 13120, 'nom': 13121, 'kiss’': 13122, 'induction': 13123, 'rayya': 13124, 'elia': 13125, 'xmen': 13126, 'chest”': 13127, 'capital': 13128, 'jasmin': 13129, 'emmastone': 13130, 'emmastoneofficial': 13131, 'emmastones': 13132, 'emmastonearmy': 13133, 'emmastoneandandrewgarfield': 13134, 'e…': 13135, 'minutia': 13136, 'struck': 13137, 'hennessy': 13138, '‘champs': 13139, 'jayn': 13140, 'humphri': 13141, 'mykono': 13142, 'tates': 13143, 'tuning': 13144, 'cavill': 13145, 'bids': 13146, 'whobitbeyoncé': 13147, 'nda': 13148, 'yearly': 13149, 'televise': 13150, 'straightup': 13151, 'decemb': 13152, 'sweeting': 13153, 'barrino': 13154, 'married…': 13155, 'againit’s': 13156, 'lovey': 13157, 'dovey': 13158, 'research': 13159, 'christy': 13160, 'unhinged': 13161, '“drugged': 13162, 'raped”': 13163, 'drunk’': 13164, 'defy': 13165, 'longestrunning': 13166, 'sinfulcolors': 13167, 'bundle': 13168, 'ghosts': 13169, 'laidback’': 13170, 'smurfs': 13171, '“don’t': 13172, 'aunts': 13173, 'bigg': 13174, 'shreks': 13175, 'donkey': 13176, 'til': 13177, 'rn': 13178, 'champions': 13179, 'unimpress': 13180, 'wildfire': 13181, 'heyer’s': 13182, 'vetting': 13183, 'mbe': 13184, '‘colette’': 13185, 'surveillance': 13186, 'employing': 13187, 'iis': 13188, 'corgi': 13189, 'bre': 13190, 'meghan’s': 13191, 'kate’': 13192, 'selfdef': 13193, 'applying': 13194, 'eyelashes': 13195, '‘lie': 13196, 'low’': 13197, 'fulaau': 13198, 'exteacher': 13199, '‘envious’': 13200, 'serie': 13201, 'innocent': 13202, 'guilti': 13203, 'creation': 13204, 'briefly': 13205, 'romanced': 13206, 'strategy': 13207, 'harvards': 13208, 'pudding': 13209, 'troupe': 13210, 'decked': 13211, 'entourages': 13212, 'hardi': 13213, 'travelers': 13214, 'volcano': 13215, 'erupt': 13216, 'tristans': 13217, 'montr': 13218, 'coparents': 13219, 'hunks': 13220, '‘quasimodo’': 13221, 'rejoices': 13222, 'rendezvous’': 13223, 'abrams': 13224, 'majority': 13225, 'brightened': 13226, '‘fit': 13227, 'guys’': 13228, 'poet': 13229, 'shouhed': 13230, 'parido': 13231, 'béi': 13232, 'kidding': 13233, 'mentioned': 13234, 'shapeshift': 13235, 'empowers': 13236, 'smitten’': 13237, 'anzac': 13238, 'rotem': 13239, 'hashian': 13240, 'props': 13241, 'fairmont': 13242, 'terrace': 13243, 'villa': 13244, 'rode': 13245, 'shuttles': 13246, 'slave': 13247, 'coordinated': 13248, 'seagram': 13249, 'housekeeper': 13250, 'zoila': 13251, 'chavez': 13252, 'jury”': 13253, 'shame': 13254, 'erykah': 13255, 'badu': 13256, 'shaggy': 13257, 'aestheticians': 13258, 'stanger': 13259, 'adoptive': 13260, 'rican': 13261, 'hater': 13262, '“sucky': 13263, 'model”': 13264, 'rancic’s': 13265, 'ofglen': 13266, '‘timeless’': 13267, 'can': 13268, 'urkel': 13269, 'fertil': 13270, 'neighbor’s': 13271, 'peters': 13272, 'phobia': 13273, 'nellys': 13274, 'blushes': 13275, 'madonna’s': 13276, '‘amityville': 13277, 'awakening’': 13278, 'grosses': 13279, 'miniscule': 13280, 'chatt': 13281, 'bayonas': 13282, 'dinosaur': 13283, 'mix’s': 13284, 'fullbody': 13285, 'agd': 13286, 'bstage': 13287, 'cankl': 13288, 'trains': 13289, 'rampage': 13290, 'panicked': 13291, 'flee': 13292, 'cinema': 13293, 'scariest': 13294, 'hereditary': 13295, 'hashtag': 13296, 'igotbusted': 13297, 'quotsexualquot': 13298, 'quotshoe': 13299, 'freakquot': 13300, 'watkins': 13301, 'mosttweet': 13302, 'insights': 13303, 'pippa’s': 13304, 'pageboy': 13305, 'halt': 13306, 'bop': 13307, 'baios': 13308, 'microvascular': 13309, 'cults': 13310, 'bjo': 13311, '“biggest': 13312, 'fan”': 13313, '‘curvy': 13314, 'hadid’': 13315, 'uplift': 13316, 'psychotic': 13317, 'grasshoppers': 13318, 'elgorts': 13319, 'pharrellinspired': 13320, 'refers': 13321, 'amada': 13322, 'worth—and': 13323, 'evasion': 13324, 'embellished': 13325, 'pastel': 13326, 'jinxy': 13327, 'passes': 13328, 'mathews': 13329, 'bl': 13330, 'philanthropy': 13331, 'nyt': 13332, 'bestseller': 13333, 'thinner': 13334, 'fai': 13335, 'khadra': 13336, '‘down': 13337, '“bed”': 13338, 'chapped': 13339, 'partynextdoor': 13340, 'mma': 13341, 'guilherme': 13342, 'bomba': 13343, 'vasconcelo': 13344, 'pulitzerwinning': 13345, 'playwright': 13346, 'blowup': 13347, 'withdraw': 13348, 'bulldog': 13349, 'surving': 13350, '‘needs': 13351, 'pounds’': 13352, 'hawaiian': 13353, 'luau': 13354, 'betting': 13355, 'insider’s': 13356, 'huh': 13357, 'kellyclarksongrammi': 13358, 'investigates': 13359, 'prequels': 13360, 'culkins': 13361, 'patty’s': 13362, 'dream…': 13363, 'crumbling': 13364, 'nothing’': 13365, 'tdes': 13366, 'teamwork': 13367, 'speeches': 13368, 'tisha': 13369, 'campbellmartin': 13370, 'mavrakis': 13371, 'bossy': 13372, 'comme': 13373, 'garçon': 13374, 'amcs': 13375, 'hurd': 13376, 'newlyw': 13377, 'urgent': 13378, 'lang': 13379, 'cows': 13380, 'hefty': 13381, 'est': 13382, 'onesie': 13383, 'olu': 13384, 'clary': 13385, 'chooses': 13386, 'luc': 13387, 'besson': 13388, 'paradise’s': 13389, 'sweeter': 13390, 'stressed': 13391, '‘melting': 13392, 'penthous': 13393, 'notsotwisted': 13394, '“dose”': 13395, 'evicted': 13396, 'cena’s': 13397, '“soul': 13398, 'mate”': 13399, '“aggressive”': 13400, 'ford’s': 13401, 'schmoozes': 13402, 'bathes': 13403, 'flattering': 13404, 'mightily': 13405, 'pacif': 13406, 'diarist': 13407, 'changeup': 13408, '‘explosive’': 13409, 'tenley': 13410, 'molzahn': 13411, 'negligent': 13412, 'concertgo': 13413, 'face—but': 13414, 'razzies': 13415, 'swiftli': 13416, 'vanisher': 13417, 'baywatchinspired': 13418, 'darke': 13419, 'blurred': 13420, 'bane': 13421, 'mammogram': 13422, 'weddinglike': 13423, 'tantrums': 13424, 'equally': 13425, 'polished': 13426, 'demarchelier': 13427, 'instigated': 13428, 'haylie': 13429, 'ovari': 13430, 'greetings': 13431, 'manns': 13432, 'standout': 13433, 'bublés': 13434, 'jointcustody': 13435, 'rey’s': 13436, 'cateye': 13437, 'pets': 13438, 'fourlegged': 13439, 'shapes': 13440, 'paved': 13441, '‘bully’': 13442, '‘drake': 13443, 'josh’': 13444, 'rochas': 13445, 'founders': 13446, 'whiten': 13447, 'momentous': 13448, 'bodycon': 13449, 'wwe’s': 13450, 'ambrose': 13451, 'youngs': 13452, 'upvot': 13453, 'twotime': 13454, 'bravo’s': 13455, 'stunn': 13456, 'allman': 13457, 'macon': 13458, 'software': 13459, 'freeware': 13460, 'shareware': 13461, 'rss': 13462, 'typhoon': 13463, 'smartphones': 13464, '‘housewife’': 13465, 'weather': 13466, '“dream': 13467, 'home”': 13468, 'upside': 13469, 'homewrecking': 13470, 'sugarland’s': 13471, '‘mad': 13472, 'men’inspired': 13473, 'nuzzles': 13474, 'lizard': 13475, 'proceedings': 13476, 'stall': 13477, '‘celeb': 13478, 'evictee': 13479, 'schneiderman': 13480, 'rights': 13481, 'keibler': 13482, 'pobr': 13483, 'startling': 13484, 'sweating': 13485, 'albums': 13486, 'cosbi': 13487, 'lourds': 13488, 'vacuous': 13489, 'socialclimbing': 13490, 'sluts': 13491, 'flav': 13492, 'enemy': 13493, 'afis': 13494, 'liu': 13495, 'yifei': 13496, 'chinese': 13497, 'mirka': 13498, 'feder': 13499, 'dude': 13500, 'breastfeed': 13501, 'pons’': 13502, '“dicen': 13503, 'preston': 13504, 'encouraging': 13505, '‘follow': 13506, 'real”': 13507, 'uzo': 13508, 'aduba’s': 13509, 'dramat': 13510, 'padalecki': 13511, 'keg': 13512, 'benchetrit': 13513, 'sweati': 13514, '‘fake': 13515, '“cozying': 13516, 'lonelylooking': 13517, 'amusing': 13518, 'agame': 13519, 'adkin': 13520, 'thoughtless': 13521, 'luxe': 13522, 'highlyanticipated': 13523, 'subdued': 13524, 'champion”': 13525, 'xena': 13526, 'detour': 13527, 'upsidedown': 13528, 'texasraised': 13529, 'builds': 13530, 'oval': 13531, 'could’ve': 13532, 'mick': 13533, 'bilyeu': 13534, 'novak': 13535, 'sexy’': 13536, 'peeks': 13537, 'dejesu': 13538, 'epa': 13539, 'penalty': 13540, 'crispy': 13541, 'eye’s’': 13542, 'cufflinks': 13543, 'albe': 13544, 'speck': 13545, 'dorias': 13546, 'finished': 13547, 'addicted': 13548, 'opioids': 13549, 'suction': 13550, 'coos': 13551, 'grinning': 13552, 'corvett': 13553, 'mindblowing': 13554, 'marvelstudio': 13555, 'imitates': 13556, 'realworld': 13557, 'empow': 13558, 'impeach': 13559, 'limitededition': 13560, 'droptwo': 13561, 'occas': 13562, '‘fillers': 13563, 'peels’': 13564, '“would': 13565, 'grandkids”': 13566, 'prediction': 13567, 'chalamets': 13568, 'sexless': 13569, 'triplets': 13570, '‘chose': 13571, 'happiness’': 13572, 'babyshark': 13573, 'portner': 13574, 'annalynne': 13575, 'shazam': 13576, '‘phil': 13577, 'future’': 13578, 'munchkins': 13579, 'outcri': 13580, 'ranch’': 13581, 'assures': 13582, 'latino': 13583, 'immortalized': 13584, 'unsure': 13585, 'steemkr': 13586, 'liability': 13587, 'elevenyearold': 13588, '‘drag': 13589, 'kid’': 13590, 'flushed': 13591, 'admiration': 13592, 'decisions': 13593, 'remaking': 13594, 'gharachedaghi': 13595, 'dms': 13596, 'timetravel': 13597, 'scrambled': 13598, 'francais': 13599, 'jp': 13600, 'arencibia': 13601, 'floods': 13602, 'sloth': 13603, 'boils': 13604, 'arizonas': 13605, 'deluca': 13606, 'gosl': 13607, 'insured': 13608, 'backand': 13609, '‘does': 13610, 'exception': 13611, 'truth’': 13612, 'tongan': 13613, 'bros': 13614, 'seraphina': 13615, 'communicates': 13616, 'jumping': 13617, 'donations': 13618, 'egypt': 13619, 'cools': 13620, 'bugs': 13621, 'rats': 13622, 'bracket': 13623, 'rye': 13624, 'adler': 13625, 'defied': 13626, 'sentimental': 13627, 'bloggers': 13628, 'pants—thought': 13629, 'demme': 13630, 'experienc': 13631, 'queso': 13632, '‘arrow’': 13633, 'roswell': 13634, 'mobbed': 13635, 'netanyahu': 13636, '‘fbomb’': 13637, 'spinal': 13638, 'unrelated': 13639, 'parkinson': 13640, 'argued': 13641, 'thors': 13642, 'dany': 13643, 'sceptical': 13644, 'scherzing': 13645, 'buddies': 13646, 'assemble': 13647, 'marvelthemed': 13648, 'honour': 13649, 'implant': 13650, '“winter': 13651, 'coming”': 13652, '“never': 13653, 'spoke”': 13654, 'macht': 13655, 'newlyweds—and': 13656, 'groove': 13657, 'clim': 13658, 'coroner': 13659, '“late': 13660, 'ballerina': 13661, 'prebirth': 13662, 'lowcarb': 13663, 'rusevs': 13664, 'bulgarian': 13665, 'winns': 13666, 'reigns': 13667, 'karas': 13668, 'kenny': 13669, 'censoring': 13670, '“diddy”': 13671, 'khaled’s': 13672, 'governor’s': 13673, '‘winced’': 13674, 'toths': 13675, 'organic': 13676, 'hana': 13677, 'insepar': 13678, 'kh': 13679, 'cheapyonce': 13680, 'mustsee': 13681, 'lancaster’s': 13682, 'kbeauty': 13683, 'huntingtonwhiteley’s': 13684, 'orchestrated': 13685, 'steinfelds': 13686, 'atlantic': 13687, 'ines’': 13688, 'franzese': 13689, 'secretive': 13690, 'landry': 13691, 'luncheon': 13692, 'aikman': 13693, 'capa': 13694, 'mooti': 13695, 'watermelon': 13696, 'lonsdal': 13697, 'cbc': 13698, 'sunsets': 13699, 'zolciakbiermanns': 13700, 'rereleases': 13701, 'dnc': 13702, 'beat’': 13703, 'torrey': 13704, 'devitto': 13705, 'hed': 13706, 'parking”': 13707, 'vivian': 13708, 'assisting': 13709, 'cousin’s': 13710, 'jost’s': 13711, '“dirty”': 13712, 'ness': 13713, 'redeemed': 13714, 'makers': 13715, 'nappily': 13716, 'wage': 13717, 'warfare': 13718, 'trouser': 13719, 'longrunning': 13720, 'realizing': 13721, 'lush': 13722, '“outlander”': 13723, '\\u200ecaitriona': 13724, '“gma”': 13725, 'disgraced': 13726, 'hitmak': 13727, '”get': 13728, 'lit”': 13729, 'together”': 13730, 'dublin': 13731, 'thinn': 13732, '‘aca’': 13733, 'pitching': 13734, 'powerful’': 13735, 'wikinow': 13736, 'unleash': 13737, 'smash': 13738, 'syncing': 13739, 'circuit': 13740, 'lipsynching': 13741, 'ventlyf': 13742, 'altogeth': 13743, 'aprils': 13744, '‘sunday': 13745, 'snuggles’': 13746, 'keshia': 13747, 'pulliams': 13748, '“condition': 13749, 'terminal”': 13750, 'reigning': 13751, 'queen—sorry': 13752, 'pride': 13753, 'dreamers': 13754, 'julia’s': 13755, 'bundles': 13756, 'plug': 13757, 'musings': 13758, 'narcos': 13759, 'holbrook': 13760, 'fergi': 13761, 'loveless': 13762, 'taylorswifts': 13763, 'pjthemed': 13764, 'testicles': 13765, 'ty': 13766, 'dolla': 13767, 'ign': 13768, 'woes': 13769, 'empower': 13770, 'oneill': 13771, 'recongize': 13772, 'budge': 13773, 'loosefitting': 13774, 'tight’': 13775, 'backstabbing': 13776, 'generations': 13777, 'radically': 13778, 'movietv': 13779, 'teigan': 13780, 'antebellum': 13781, 'ghana': 13782, 'japan’s': 13783, '‘immaturity’': 13784, 'shiloh’s': 13785, 'mummi': 13786, 'romance’': 13787, 'macys': 13788, 'parade': 13789, 'taglines': 13790, 'rendit': 13791, 'houdini': 13792, 'shep': 13793, 'relationshep': 13794, 'keane': 13795, 'animates': 13796, 'boll': 13797, 'soliciting': 13798, 'oper': 13799, 'communications': 13800, '‘fuming’': 13801, '‘copycat’': 13802, 'baptized': 13803, 'redeemer': 13804, 'diddi': 13805, 'departure': 13806, 'endgam': 13807, 'prompts': 13808, 'scavenger': 13809, 'jefferies': 13810, 'calories': 13811, 'archbishop': 13812, 'canterburi': 13813, '“reggaetón': 13814, 'lento': 13815, 'remix”': 13816, '“double': 13817, 'exchang': 13818, 'selfacceptance': 13819, 'gagged': 13820, 'distancing': 13821, '‘chronic': 13822, 'joke’': 13823, 'temperatures': 13824, 'goosebumps': 13825, 'rockets': 13826, 'promising': 13827, 'taron': 13828, 'egerton': 13829, 'forgiveness’': 13830, 'pedog': 13831, 'bias': 13832, 'roden': 13833, '‘unconditional': 13834, '‘wild': 13835, '’n': 13836, 'connected': 13837, 'raymund': 13838, 'saucy': 13839, 'motel': 13840, 'colett': 13841, 'aww': 13842, 'dedicated’': 13843, 'hinchcliffe': 13844, 'influ': 13845, '“intriguing”': 13846, 'cincinnati': 13847, '‘target': 13848, 'greedy': 13849, 'conscious': 13850, 'conspiracy’': 13851, 'wilkerson': 13852, 'buyer': 13853, 'drawings': 13854, 'mckenna': 13855, '“frozen”': 13856, 'promposal': 13857, 'ohs': 13858, 'memorabilia': 13859, 'diem': 13860, 'scaleswild': 13861, 'novel': 13862, 'cathey': 13863, 'stripping': 13864, 'househunting': 13865, 'cotswold': 13866, 'pleading': 13867, 'attach': 13868, 'laws': 13869, 'bailing': 13870, 'fluid': 13871, 'smashes': 13872, '“hillary': 13873, 'prolific': 13874, 'killer”': 13875, 'kordell': 13876, 'shutting': 13877, 'masterfully': 13878, '‘over': 13879, 'blonde’': 13880, 'pickles': 13881, 'satisfy': 13882, 'zendaya’s': 13883, '“body': 13884, 'slam”': 13885, 'lepore': 13886, 'capitalizing': 13887, 'h’': 13888, 'hernandez': 13889, 'unprepared': 13890, 'sportiest': 13891, 'cyberbullies': 13892, 'delete': 13893, 'lwd': 13894, 'trista': 13895, 'corgis': 13896, '“millie': 13897, 'homophobic”': 13898, 'harmless': 13899, 'diamonds': 13900, 'birkins': 13901, 'maybachs': 13902, 'residual': 13903, 'bury': 13904, 'pitting': 13905, 'boone': 13906, 'dynamic': 13907, 'panties': 13908, 'begun': 13909, 'mcbride': 13910, 'retaliation': 13911, 'shereé': 13912, 'toppaid': 13913, 'situ': 13914, 'loyalti': 13915, 'family’s': 13916, 'isbirthing': 13917, 'docked': 13918, 'gangster': 13919, 'gangsta': 13920, 'swigs': 13921, 'vinegar': 13922, 'louisdreyfus’': 13923, 'banner': 13924, 'monogram': 13925, 'speaker': 13926, 'pause…': 13927, 'mulberry': 13928, 'coventry': 13929, 'everythings': 13930, '“rubbing': 13931, 'elbows”': 13932, 'hovino': 13933, 'forbidding': 13934, 'charlene': 13935, 'johansson’s': 13936, 'eagerly': 13937, 'await': 13938, 'endgame’': 13939, 'romijn': 13940, 'megynkellyvil': 13941, 'cambodian': 13942, '“stronger”': 13943, 'sidesteps': 13944, 'commits': 13945, 'technicolor': 13946, 'gameless': 13947, 'annemarie': 13948, 'losique': 13949, 'kindly': 13950, 'bronz': 13951, 'boy’s': 13952, 'protege': 13953, 'allo': 13954, 'dracula': 13955, 'speedman': 13956, 'horrified': 13957, 'schmidts': 13958, 'cliffhanger': 13959, 'quintanillas': 13960, 'relatives': 13961, 'torre': 13962, 'homecooked': 13963, 'perspective': 13964, 'diabolical': 13965, '‘hurt’': 13966, 'antitrump': 13967, 'potus': 13968, 'starfighter': 13969, 'lube': 13970, 'jackmans': 13971, 'marunde': 13972, 'reno': 13973, 'swift’': 13974, 'crossov': 13975, 'crazier': 13976, 'balfes': 13977, 'mcgil': 13978, 'colorinspired': 13979, 'paycheck': 13980, 'ferrell’s': 13981, 'burgundy': 13982, 'federer': 13983, '‘annoyed’': 13984, '‘hung': 13985, 'garbine': 13986, 'khlo├â┬⌐': 13987, 'ema': 13988, 'unintentional': 13989, 'validated': 13990, '‘we’re': 13991, 'obe': 13992, 'enormously': 13993, 'grad': 13994, 'hoopla': 13995, 'proport': 13996, '“sugar': 13997, 'baby”': 13998, '“expanding': 13999, 'problem”': 14000, 'gps': 14001, 'winces': 14002, 'rhett’s': 14003, '“life': 14004, 'changes”': 14005, 'diffusing': 14006, 'wilders': 14007, 'benched': 14008, '‘ncis': 14009, 'delightful': 14010, 'squar': 14011, 'richie’s': 14012, 'giggles': 14013, 'covergirl': 14014, 'ess': 14015, 'twinss': 14016, 'laich’s': 14017, 'photobombed': 14018, '“shocked”': 14019, 'courageous”': 14020, 'vp': 14021, 'pence': 14022, 'where’s': 14023, 'groban': 14024, 'blur’': 14025, 'khloé\\u200b': 14026, 'theft': 14027, 'auto': 14028, 'allows': 14029, 'jenner—will': 14030, 'buttondown': 14031, 'kills': 14032, 'pee': 14033, 'spilled': 14034, 'area': 14035, 'landfill': 14036, 'dangers': 14037, 'decompos': 14038, 'rule’s': 14039, 'pigs': 14040, 'expels': 14041, 'embattled': 14042, 'bespoke': 14043, '“snack”': 14044, 'clear’': 14045, 'lung': 14046, 'tweet—and': 14047, '‘fuel’': 14048, 'ravishing': 14049, '‘shamelessly': 14050, 'flirted’': 14051, 'ptt': 14052, 'cargil': 14053, 'coverup': 14054, 'rinsing': 14055, 'mccarthy’': 14056, 'outsize': 14057, 'midwife': 14058, 'i’': 14059, '“becoming': 14060, 'rayna': 14061, 'jaym': 14062, 'ritchie': 14063, 'hunnams': 14064, 'lletgets': 14065, '‘cocaine': 14066, 'godmother’': 14067, 'brownface': 14068, 'schlocky': 14069, '‘narcos’': 14070, 'knockoff': 14071, 'azaria': 14072, 'apu': 14073, 'neurological': 14074, 'disorders': 14075, 'twotxt': 14076, 'hrldcprbuzzfeed': 14077, 'github': 14078, 'cox’s': 14079, 'categorised': 14080, 'typecasting': 14081, 'showgirl': 14082, 'marla': 14083, 'maples': 14084, 'butterbeer': 14085, 'wizarding': 14086, 'vile': 14087, 'customers': 14088, 'shoddily': 14089, 'beckinsale’s': 14090, '‘buck': 14091, 'goo': 14092, '‘altered': 14093, 'carbon’': 14094, 'fiercely': 14095, 'sergey': 14096, 'brin': 14097, 'rosenberg': 14098, 'cofounder’s': 14099, 'marketing': 14100, 'defuse': 14101, 'colonoscopy': 14102, 'dinosaurs': 14103, 'extinction': 14104, '‘comment': 14105, 'creeping’': 14106, '‘sad': 14107, 'desperate’': 14108, 'dadbod': 14109, 'sidekick': 14110, 'rockhard': 14111, 'busts': 14112, 'nowinfamous': 14113, 'stride': 14114, 'pentatonix': 14115, 'showcasing': 14116, 'fasttrack': 14117, 'summed': 14118, 'tom’s': 14119, 'hockeys': 14120, 'groundbreaking': 14121, 'jocelyne': 14122, 'lamoureux': 14123, 'pragu': 14124, 'eyeing': 14125, 'millennials': 14126, 'zoes': 14127, 'deserved': 14128, 'scared’': 14129, 'humans': 14130, 'hahn': 14131, '‘criminal': 14132, 'minds’': 14133, 'father’': 14134, 'palvin': 14135, 'moët': 14136, 'chandon': 14137, 'champagnes': 14138, 'premium': 14139, 'champagn': 14140, '‘freaking': 14141, 'rails': 14142, 'cloudlike': 14143, '‘embarrassing’': 14144, 'geary': 14145, 'slime': 14146, 'spellings': 14147, 'massmedia': 14148, 'purnell': 14149, 'stepsons': 14150, 'stepmom': 14151, 'stallone': 14152, 'thirst': 14153, '‘explore': 14154, 'fantasies’': 14155, 'financier': 14156, 'softcore': 14157, 'fraternity': 14158, 'hazing': 14159, 'america’': 14160, 'felicia’': 14161, 'namechecking': 14162, '‘cute': 14163, 'shame”': 14164, '‘stupid’': 14165, 'consistent': 14166, 'sharp': 14167, 'necklac': 14168, 'nickihndrxx': 14169, 'pesc': 14170, 'livetweets': 14171, 'day—and': 14172, 'tame': 14173, 'frizzy': 14174, 'heavyweight': 14175, 'fangirls': 14176, '“ruin': 14177, 'friendship”': 14178, 'wiccans': 14179, 'plungers': 14180, 'candle': 14181, 'dominican': 14182, 'republ': 14183, 'milano’s': 14184, 'condone': 14185, '‘slavery': 14186, 'gomezjustin': 14187, 'trashtalks': 14188, 'whispered': 14189, 'hush': 14190, '‘infuriated’': 14191, 'tidelands': 14192, 'bull': 14193, 'headband': 14194, 'segment': 14195, 'life’s': 14196, 'mommyyi': 14197, 'hargitays': 14198, 'grip': 14199, 'teenagers': 14200, 'gcses': 14201, '‘something': 14202, 'done’': 14203, 'jealousi': 14204, 'kerrigan’s': 14205, 'live”': 14206, 'univis': 14207, 'encourages': 14208, 'giada': 14209, 'laurentiis': 14210, 'mouths': 14211, '‘calmer': 14212, 'focused’': 14213, '‘flourishing’': 14214, 'jetblue': 14215, 'challenge’s': 14216, 'portillo': 14217, 'trophi': 14218, 'foe': 14219, 'kaluuya': 14220, 'wishing': 14221, 'lamborghini': 14222, 'selfindulgent': 14223, 'mcneely': 14224, 'allergic': 14225, 'life—and': 14226, 'undocumented': 14227, 'princeton': 14228, 'rebuffs': 14229, 'vixen': 14230, 'sugarlands': 14231, 'cheek': 14232, 'romy': 14233, 'verbal': 14234, 'orthodontists': 14235, 'eventually': 14236, 'disbelief': 14237, 'groomsmen': 14238, 'wedding—and': 14239, 'pluson': 14240, 'oct': 14241, 'jughead': 14242, '‘almost': 14243, 'murdered’': 14244, 'ub': 14245, 'prince’s': 14246, 'fernandezversini': 14247, 'loo': 14248, '‘go': 14249, 'ivanka’s': 14250, 'stuff’': 14251, 'earps': 14252, 'scrofano': 14253, '‘rub': 14254, 'tug’': 14255, 'headshot': 14256, 'pushing’': 14257, 'tyres': 14258, 'skriver’s': 14259, 'spoon': 14260, 'lletget': 14261, 'surprise—his': 14262, '‘angry’': 14263, 'roster': 14264, 'turpin': 14265, 'harrowing': 14266, 'soledad': 14267, 'indie': 14268, 'musician': 14269, 'candac': 14270, '‘name': 14271, 'checking': 14272, '‘kendall': 14273, 'welcome’': 14274, 'chocolates': 14275, '“racist': 14276, 'ancestors”': 14277, 'kardshian': 14278, 'extending': 14279, '‘pass’': 14280, 'wellchosen': 14281, 'intelligence': 14282, '‘diaper': 14283, 'duty’': 14284, 'moussa’s': 14285, 'delights': 14286, 'adopts': 14287, 'psoriasis': 14288, 'authorities': 14289, 'stirling': 14290, 'diesel’s': 14291, 'buddha': 14292, 'foods': 14293, 'deen': 14294, 'elliot': 14295, 'retri': 14296, 'distressed': 14297, 'scale': 14298, 'graphic': 14299, 'savagexfenty': 14300, 'xccessories': 14301, '‘gilmore': 14302, 'math': 14303, 'shal': 14304, 'zane': 14305, 'voted': 14306, '‘terrible': 14307, 'kisser’': 14308, 'arguments': 14309, '‘queen’': 14310, 'selfobsess': 14311, 'scarface': 14312, 'odette': 14313, 'unimaginably': 14314, 'sacrificing': 14315, '‘prostitution': 14316, 'ring’': 14317, 'vwar': 14318, 'vodafone': 14319, 'tpg': 14320, 'merg': 14321, 'cattrall’s': 14322, 'jhud': 14323, 'undresses': 14324, 'straddles': 14325, 'carson’s': 14326, 'effective': 14327, 'meta': 14328, 'estim': 14329, 'xxxtentacions': 14330, 'lejuan': 14331, 'gamechang': 14332, 'hands…again': 14333, '‘singoff’': 14334, 'hxg': 14335, '‘blackface’': 14336, 'nations': 14337, 'augmentation': 14338, 'yanked': 14339, 'liter': 14340, 'dyrdek': 14341, 'teen’s': 14342, 'land’': 14343, 'prompos': 14344, 'articles—snatched': 14345, 'omgworthi': 14346, 'cutrone': 14347, 'loos': 14348, 'happily': 14349, 'postresignation': 14350, 'hann': 14351, 'fine…': 14352, 'friendli': 14353, 'piqué': 14354, 'yahoo': 14355, '‘desperate’': 14356, '‘rude’': 14357, 'waithes': 14358, '“homesickness”': 14359, 'hola': 14360, 'activist': 14361, '‘dance': 14362, 'staple': 14363, 'eyeglasses': 14364, 'urban’s': 14365, 'spiders': 14366, 'groan': 14367, 'haywood': 14368, '“assaulting': 14369, 'reality”': 14370, 'wyatt': 14371, 'fired’': 14372, 'nelpet': 14373, 'herron': 14374, 'recipi': 14375, 'harpers': 14376, 'signific': 14377, 'hammers': 14378, '‘completely': 14379, 'hen': 14380, 'regan': 14381, 'moseley': 14382, 'merrit': 14383, 'balding': 14384, 'xmas': 14385, '‘definite': 14386, 'tension’': 14387, 'dist': 14388, 'migos’s': 14389, '“motorsport”': 14390, 'pechenik': 14391, 'makeupcom': 14392, 'surfing': 14393, 'chri': 14394, 'strawberry': 14395, 'chugs': 14396, 'pollans': 14397, 'dazed': 14398, 'glasgow': 14399, 'escalate': 14400, 'translate': 14401, 'critically': 14402, 'sumatran': 14403, 'cub': 14404, 'economical': 14405, 'antsy’': 14406, '‘heartfelt’': 14407, 'bagged': 14408, 'shoppers': 14409, '‘degrassi’': 14410, 'raul': 14411, 'sleepov': 14412, 'reeve': 14413, 'attempting': 14414, 'competes': 14415, 'shootout': 14416, 'wedded': 14417, 'chats': 14418, 'oregon’s': 14419, 'sucks’': 14420, 'aired': 14421, 'ratn': 14422, 'style…': 14423, 'filt': 14424, 'rossis': 14425, 'tubing': 14426, 'washes': 14427, 'shannan': 14428, 'kelsi': 14429, 'cultural': 14430, 'kitti': 14431, '‘katrina’': 14432, 'harmony’s': 14433, 'stooges': 14434, 'teenmom': 14435, 'lobster': 14436, 'vibranium': 14437, '‘doubtful’': 14438, 'english’s': 14439, 'maze': 14440, 'dashner': 14441, 'publisher': 14442, 'apologized’': 14443, 'chalamet’s': 14444, '‘’trapped’’': 14445, 'objectified': 14446, 'noahs': 14447, 'ruth': 14448, 'negga': 14449, 'mule': 14450, '‘messed’': 14451, 'vanish': 14452, 'gaston': 14453, 'disneyla': 14454, 'kiari': 14455, 'michigan': 14456, 'nassars': 14457, 'retracting': 14458, 'unsuspecting': 14459, 'fullon': 14460, 'terrorism': 14461, 'chiseled': 14462, 'mand': 14463, 'fannings': 14464, 'spinning': 14465, 'altercation': 14466, 'ghosted': 14467, 'bromantic': 14468, 'theresas': 14469, 'mirror’': 14470, 'tracking': 14471, 'jelenanetwork': 14472, 'debacl': 14473, 'babit': 14474, 'nazi': 14475, 'satanism': 14476, 'wrenching': 14477, 'khouri': 14478, 'glimmers': 14479, 'duchovny': 14480, 'giuseppe': 14481, 'zanotti': 14482, 'predicting': 14483, 'conception': 14484, 'dm': 14485, 'doppelgang': 14486, 'transformations': 14487, 'afanasieff': 14488, 'twitterinspired': 14489, 'rihannalupita': 14490, 'rockn': 14491, 'callous': 14492, '‘sharknado': 14493, 'grindr': 14494, '“coming”': 14495, 'clever': 14496, 'lange': 14497, 'screened': 14498, '‘karma’': 14499, '‘personal': 14500, 'highness': 14501, 'treatments': 14502, 'walker’': 14503, 'charismatic': 14504, 'deja': 14505, 'vu': 14506, 'gonzal': 14507, '‘destroy’': 14508, 'oz’s': 14509, 'realness': 14510, 'bounceback': 14511, 'flu': 14512, 'unusually': 14513, 'focuses': 14514, 'brandos': 14515, 'rehearses': 14516, '‘waiting’': 14517, '‘friend': 14518, 'morgane': 14519, 'yearns': 14520, 'labelle': 14521, 'exnba': 14522, 'toasting': 14523, 'environmentalist': 14524, 'seaplane': 14525, 'flak': 14526, '‘here': 14527, 'leblan': 14528, 'foursom': 14529, 'oscars—and': 14530, 'wir': 14531, 'vulgar': 14532, 'invisible': 14533, 'dreyfuss': 14534, 'sheindlin': 14535, 'effortlessly': 14536, 'portraying': 14537, 'luxembourgs': 14538, 'spouses': 14539, 'peppermint': 14540, 'mount': 14541, 'kilimanjaro': 14542, 'breathtak': 14543, 'return’': 14544, 'eileen': 14545, 'cancun': 14546, 'alignment': 14547, 'cyberbullying': 14548, 'valkyrie': 14549, 'latinas': 14550, 'natties': 14551, '‘aggressive’': 14552, 'gravity': 14553, 'roundtheclock': 14554, 'cruzs': 14555, 'colorcorrecting': 14556, 'concealers': 14557, 'repay': 14558, 'moesha': 14559, 'deepdive': 14560, 'coupledom': 14561, 'rub': 14562, 'donda’s': 14563, 'dedivanovic': 14564, '‘delete': 14565, 'instagram’': 14566, 'everlys': 14567, 'individuality': 14568, 'reopening': 14569, 'benson’s': 14570, 'wounds': 14571, 'heroine”': 14572, 'nerve': 14573, 'tapping': 14574, 'divid': 14575, 'galas': 14576, 'is…': 14577, 'rutler': 14578, 'mate': 14579, 'environmental': 14580, 'hoechlin': 14581, 'lois': 14582, 'serums': 14583, 'ronald': 14584, 'investor': 14585, 'twain’s': 14586, 'stripes': 14587, 'runners': 14588, 'penned': 14589, 'bethani': 14590, 'hand’': 14591, 'sro': 14592, 'turtle': 14593, 'met’s': 14594, 'awesom': 14595, 'wrights': 14596, 'hopper': 14597, 'homophobic': 14598, 'usually': 14599, 'entail': 14600, 'spiced': 14601, 'crepe': 14602, 'laptop': 14603, 'sony': 14604, 'sos': 14605, '‘struggling': 14606, 'cravings’': 14607, '‘challenging’': 14608, 'cycl': 14609, 'surver': 14610, 'unpredictable': 14611, 'spectacle': 14612, 'likens': 14613, 'tightrope’': 14614, '‘purpose’': 14615, 'humanitarianism': 14616, 'btch': 14617, 'delevingne’s': 14618, 'breakoutfree': 14619, 'define': 14620, 'dictionarycom': 14621, 'revenge’': 14622, 'strolls': 14623, 'alterego': 14624, 'hivposit': 14625, 'bankruptcy': 14626, 'revokes': 14627, 'nondisclosure': 14628, 'peaches': 14629, 'highprofile': 14630, 'contagious': 14631, 'jokester': 14632, 'smarter': 14633, 'expectant': 14634, 'kalings': 14635, 'incredibly': 14636, 'burt': 14637, 'henson’s': 14638, '“empire”': 14639, 'failur': 14640, '‘foodgod’': 14641, 'idgaf': 14642, 'suff': 14643, 'fries': 14644, '“look': 14645, 'do”': 14646, 'cabinet': 14647, 'cuddly': 14648, 'rapping': 14649, 'statist': 14650, 'colleagues': 14651, 'domino': 14652, 'springboard': 14653, 'medit': 14654, 'tamar’s': 14655, '“wakeandbaker”': 14656, 'niche': 14657, 'convinces': 14658, 'improv': 14659, 'commiss': 14660, 'disagreed': 14661, 'deet': 14662, 'iheartradios': 14663, 'draymond': 14664, '‘thinking': 14665, 'lovato’': 14666, 'support’': 14667, 'godmoth': 14668, 'withhold': 14669, '‘reputation’': 14670, '‘tirade’': 14671, 'bundi': 14672, 'pomp': 14673, 'pageantry': 14674, 'dumplin': 14675, 'filmmaking': 14676, 'slowed': 14677, 'dynasti': 14678, 'korean': 14679, 'ivf': 14680, 'existential': 14681, 'kelly’s': 14682, '‘trained’': 14683, 'slav': 14684, 'barney': 14685, '‘mission': 14686, 'fallout’': 14687, 'brunett': 14688, 'peeve': 14689, 'hoop': 14690, 'adornmade': 14691, 'jamaican': 14692, 'do’s': 14693, 'mumford': 14694, 'dartmouth': 14695, 'cyclon': 14696, 'assessing': 14697, 'exgirlfriend’s': 14698, 'sequences': 14699, 'songs’': 14700, 'pharrell’s': 14701, 'muse': 14702, 'mette': 14703, 'towley': 14704, 'gang': 14705, '‘legally': 14706, 'raúl': 14707, 'theatrical': 14708, 'baptised': 14709, 'telltale': 14710, 'heart”': 14711, 'explores': 14712, 'recieves': 14713, 'february': 14714, 'lillian': 14715, 'vilchez': 14716, 'preemptively': 14717, 'uspet': 14718, 'malin': 14719, 'akerman': 14720, 'donnelly': 14721, 'ely': 14722, 'sandvik': 14723, '‘scarface’': 14724, 'celebrityinspired': 14725, 'valentine': 14726, 'devine’s': 14727, 'marke': 14728, 'asap': 14729, 'seinfelds': 14730, 'ferns': 14731, 'galifianaki': 14732, 'unseen': 14733, 'leia': 14734, '“complicated”': 14735, 'calm': 14736, 'beliebers': 14737, 'paola': 14738, 'paulin': 14739, '“break': 14740, 'confession”': 14741, 'guitarist': 14742, 'witherspoons': 14743, 'arabella': 14744, 'parrilla': 14745, 'feast': 14746, 'baier’s': 14747, 'affected': 14748, 'be”': 14749, '‘devastated’': 14750, 'fans’': 14751, 'declined': 14752, 'spre': 14753, 'reset': 14754, '‘might': 14755, 'stich': 14756, 'justices': 14757, 'iran': 14758, '▼': 14759, 'tbts': 14760, 'snag': 14761, 'superstiti': 14762, 'thyroid': 14763, 'graves': 14764, 'hiatu': 14765, 'diplomaci': 14766, 'whywewearblack': 14767, 'carlys': 14768, '‘maleficent': 14769, 'gracie': 14770, 'lou': 14771, 'silently': 14772, 'regretted': 14773, 'dolled': 14774, 'voters': 14775, 'smolders': 14776, 'suffer': 14777, 'krugers': 14778, 'brawl': 14779, 'cald': 14780, 'offices': 14781, 'isaiahs': 14782, 'boobbaring': 14783, 'majesty': 14784, 'argentinian': 14785, 'augmentations': 14786, 'information': 14787, 'eulogy': 14788, 'tougher': 14789, 'markpaul': 14790, 'gosselaar': 14791, 'tiffani': 14792, 'thiessen': 14793, 'preserve': 14794, 'appreciating': 14795, 'calabasas': 14796, 'croiss': 14797, 'kaiser': 14798, 'handsom': 14799, 'nilsson': 14800, 'byrn': 14801, 'amys': 14802, 'cersei': 14803, 'lannister': 14804, 'disturbed': 14805, 'stormzy': 14806, 'departing': 14807, 'blended': 14808, 'photocall': 14809, '‘lemonade’': 14810, 'uncomfortable’': 14811, 'crawl': 14812, 'nighttime': 14813, 'kamala': 14814, 'disck': 14815, '‘unpredictable’': 14816, 'blackest': 14817, 'bradi': 14818, 'kards': 14819, 'huck': 14820, '“rough': 14821, 'night”': 14822, 'mistrial': 14823, 'deadlocked': 14824, 'roachg': 14825, 'uptodate': 14826, 'coverage': 14827, 'aggregated': 14828, 'headlineboothcom': 14829, 'hardy’s': 14830, 'vlogmail': 14831, '“gossip': 14832, 'celebritynews': 14833, 'celebrityrumors': 14834, 'fakenews': 14835, 'gossipcop…”': 14836, 'royaltyproof': 14837, 'uncertain': 14838, 'lafca': 14839, '‘roma’': 14840, 'granik': 14841, 'nickelodeons': 14842, '‘manifest’': 14843, 'additional': 14844, 'barware': 14845, 'booker': 14846, 'kaling’s': 14847, 'campbells': 14848, 'defensive': 14849, 'jaxs': 14850, 'cycling': 14851, 'incomeshousecarslifestyleageheightfamili': 14852, 'starlord': 14853, 'goldrath': 14854, 'fawns': 14855, 'flagpole': 14856, 'klaus': 14857, 'beignets': 14858, 'alana': 14859, '‘icy’': 14860, 'warsaw': 14861, '‘overboard’': 14862, 'pantelion': 14863, 'shrugs': 14864, 'savagely': 14865, 'halcros': 14866, 'balloons': 14867, 'doozi': 14868, 'torment': 14869, '‘selfworth’': 14870, 'duff’s': 14871, 'in': 14872, 'galavis': 14873, 'osmariel': 14874, 'villalobo': 14875, 'duct': 14876, 'deafening': 14877, 'bonnaroo': 14878, 'prompt': 14879, 'hardcore': 14880, 'stassis': 14881, 'ir': 14882, 'karjenners': 14883, 'metro': 14884, '“sorry”': 14885, 'moral': 14886, 'consci': 14887, 'nationally': 14888, 'syndicated': 14889, '‘these': 14890, 'integrity’': 14891, 'uss': 14892, 'callister': 14893, 'gabby': 14894, '‘stepdad’': 14895, 'typ': 14896, 'pelting': 14897, '‘cbs': 14898, 'morning’': 14899, 'nirvana': 14900, 'eichner': 14901, 'pumbaa': 14902, 'timon': 14903, 'oni': 14904, 'graduated': 14905, 'atomophere': 14906, 'wi': 14907, 'chew’': 14908, 'gear': 14909, 'izzie': 14910, 'cristina—but': 14911, 'damages': 14912, 'bik': 14913, '‘modern': 14914, 'norths': 14915, 'cheetah': 14916, '“calling”': 14917, 'kookaburra': 14918, '‘wild’': 14919, 'arod’s': 14920, '‘next': 14921, 'level’': 14922, '“unstable”': 14923, 'garni': 14924, 'cabaret': 14925, 'outpatient': 14926, 'degenres’s': 14927, 'slits': 14928, 'wrists': 14929, 'anitta': 14930, '“downtown”': 14931, 'purnel': 14932, 'connick': 14933, 'goodacre': 14934, 'archies': 14935, 'recoupl': 14936, 'inevitable': 14937, 'critical': 14938, 'crumble': 14939, 'patern': 14940, 'universal': 14941, 'fashionista': 14942, 'streetstyle': 14943, 'entirely': 14944, 'erected': 14945, 'jerseys': 14946, 'gias': 14947, 'bankrupt': 14948, 'giudices': 14949, 'lexus': 14950, '‘bridezillas’': 14951, 'confrontations': 14952, 'robbed': 14953, 'proclaim': 14954, 'bese': 14955, 'showcase': 14956, 'divers': 14957, 'cunanan': 14958, 'guianni': 14959, 'arjun': 14960, 'ogale': 14961, 'ets': 14962, 'thief': 14963, 'unglerts': 14964, 'bivens': 14965, 'offlin': 14966, '‘entirely': 14967, 'producer’': 14968, 'deuce’': 14969, 'tuna': 14970, 'duffy': 14971, 'fudge': 14972, 'iama': 14973, 'megans': 14974, 'congrats': 14975, 'contracts': 14976, 'gangrene': 14977, 'tummy': 14978, 'tuck': 14979, 'dangerously': 14980, 'stomachchurning': 14981, 'mendes’': 14982, 'holidayready': 14983, '‘banked’': 14984, 'pops': 14985, 'hunk': 14986, 'ginas': 14987, 'dodds': 14988, 'caregiver': 14989, '‘expose’': 14990, '‘touchy': 14991, 'feely’': 14992, 'prevents': 14993, 'harasser': 14994, 'abandoning': 14995, 'laughing’': 14996, 'frenemy': 14997, 'paparassicom': 14998, 'khalifa': 14999, 'pardoning': 15000, 'sheriff': 15001, 'arpaio': 15002, 'wallpapers': 15003, 'commitmentphobes': 15004, 'mouseketeers': 15005, 'portwood’s': 15006, 'late’': 15007, 'magically': 15008, 'delici': 15009, 'marni': 15010, 'ham': 15011, 'lowriders': 15012, 'montreuil': 15013, 'subverting': 15014, 'cliché': 15015, 'kashing': 15016, 'pepe': 15017, 'muñoz': 15018, 'dominance': 15019, 'economi': 15020, 'motivations': 15021, 'everwood': 15022, '\\u200b\\u200bkardashian': 15023, 'bloodline': 15024, 'assaulter': 15025, '“black': 15026, 'rose”': 15027, 'stripp': 15028, 'scrib': 15029, 'richmond': 15030, 'bc': 15031, '“now': 15032, 'lovin”': 15033, 'emme': 15034, 'mcm': 15035, 'browne': 15036, 'shapewear': 15037, 'enigmatic': 15038, 'enormous': 15039, 'requiring': 15040, 'womb': 15041, 'pepper': 15042, '‘i’d': 15043, 'bollywood’': 15044, 'rukh': 15045, 'khan': 15046, 'intentionally': 15047, 'excluded': 15048, 'celibacy': 15049, 'prompting': 15050, 'work’': 15051, 'commutes': 15052, 'soldier': 15053, 'classified': 15054, 'jeannie': 15055, 'mai': 15056, 'скачать': 15057, 'видео': 15058, 'с': 15059, 'ютуба': 15060, 'без': 15061, 'программ': 15062, 'бесплатно': 15063, 'dubrows': 15064, 'reconstruction': 15065, 'paraplegic': 15066, 'fatherinlaw': 15067, 'dismissal': 15068, 'heartbreakers': 15069, '”let': 15070, 'gosselins': 15071, 'incom': 15072, 'humiliation': 15073, 'toyboy': 15074, 'busty': 15075, 'retrial': 15076, 'eyeliners': 15077, '“younger': 15078, 'now”': 15079, 'decod': 15080, 'branding': 15081, 'interactive': 15082, 'narcos’': 15083, 'pedro': 15084, 'pascal': 15085, 'ángel': 15086, 'txb': 15087, 'beatboxer': 15088, 'leathams': 15089, 'neardeath': 15090, 'grebeel': 15091, 'sharpay': 15092, 'relive’': 15093, 'officer': 15094, 'errands': 15095, 'shades’': 15096, 'lymphoma': 15097, 'stamos’s': 15098, '‘full': 15099, 'pinkthemed': 15100, 'vagina”': 15101, 'teenager’s': 15102, 'tearyeyed': 15103, 'fences': 15104, 'smooth': 15105, 'sleek': 15106, 'dri': 15107, 'davidson’s': 15108, 'crowes': 15109, 'jock': 15110, 'strap': 15111, 'fetches': 15112, 'rakes': 15113, 'retail': 15114, 'hhs': 15115, 'thrifty': 15116, 'wifelike': 15117, 'mcvey': 15118, 'nichole': 15119, 'ufc': 15120, 'tito': 15121, 'ortiz': 15122, 'prevalentine’s': 15123, 'fel': 15124, 'giudic': 15125, 'critique': 15126, 'gardens': 15127, 'boynton': 15128, 'charted': 15129, 'petition': 15130, 'mistake”': 15131, 'touted': 15132, '‘benefits’': 15133, '‘fashion': 15134, 'police’': 15135, 'hurrah': 15136, '‘offtherails’': 15137, 'nut': 15138, 'runnerup': 15139, 'benefits': 15140, 'nip': 15141, 'quintessentially': 15142, 'restricting': 15143, 'embryo’': 15144, 'schum': 15145, 'supa': 15146, 'dadda': 15147, 'mesmerizing': 15148, 'nextgen': 15149, '“big”': 15150, 'massive”': 15151, 'devour': 15152, 'sligh': 15153, 'jordana': 15154, 'brewster': 15155, 'lowcut': 15156, 'stepbystep': 15157, 'qualifications': 15158, 'mad’': 15159, 'shakur’s': 15160, 'johannson': 15161, 'cement': 15162, '‘huge': 15163, 'turnon’': 15164, 'unsolved': 15165, 'shakur': 15166, 'layers': 15167, 'surrounding': 15168, 'litness': 15169, 'lovefilled': 15170, 'welldeserved': 15171, 'anticellulite': 15172, 'creams': 15173, '‘who': 15174, 'frustrating': 15175, 'reindeer': 15176, 'runner’': 15177, 'post’': 15178, 'waterfront': 15179, 'madoffs': 15180, 'wife’s': 15181, '“assassination': 15182, 'versace”': 15183, 'breckin': 15184, 'film’s': 15185, 'segmentit': 15186, 'risky': 15187, 'collaborative': 15188, 'rkellyassisted': 15189, '“none': 15190, 'sense”': 15191, 'exampl': 15192, 'onsale': 15193, 'costn': 15194, '‘fishing’': 15195, 'lamar’s': 15196, 'alba’s': 15197, 'sellers': 15198, 'career…': 15199, 'bodyguards': 15200, 'flirty’': 15201, 'murgatroyds': 15202, 'boomers': 15203, 'strangers': 15204, 'ris': 15205, 'lilo': 15206, 'beefing': 15207, 'comicbook': 15208, 'jonathan’s': 15209, 'drift': 15210, 'farther': 15211, '‘confidence': 15212, 'patient’': 15213, 'softball': 15214, 'friendsinspired': 15215, 'moonlight': 15216, 'uppers': 15217, 'strahan’s': 15218, 'pyramid': 15219, 'dildos': 15220, 'humphries': 15221, 'poisonous': 15222, 'masturbated': 15223, 'clin': 15224, 'nycs': 15225, 'cellar': 15226, 'dissolving': 15227, 'confidence': 15228, '‘superstar’': 15229, 'revelation': 15230, 'kenneth': 15231, 'lonergan': 15232, 'abominably’': 15233, 'cheetahs': 15234, 'foreshadow': 15235, 'kushners': 15236, 'catchphrase': 15237, 'unhear': 15238, 'dorff': 15239, 'extraordinary': 15240, 'lana’s': 15241, 'heats': 15242, 'joanne': 15243, 'lakeside': 15244, 'certificates': 15245, 'soulja': 15246, 'karreuche': 15247, 'solid’': 15248, '‘makes': 15249, 'sense’': 15250, 'hir': 15251, 'dixie': 15252, 'chicks': 15253, 'midday': 15254, 'groot’s': 15255, '‘legendary’': 15256, 'cool’': 15257, 'intimidated': 15258, 'cathriona': 15259, 'dga': 15260, 'mischer': 15261, '¿jennifer': 15262, 'tienen': 15263, 'chills': 15264, 'beachy': 15265, 'resolve': 15266, 'sextuplets’': 15267, 'marroquins': 15268, 'mentoring': 15269, 'intend': 15270, 'astroworld': 15271, 'shelter': 15272, 'weren’t': 15273, 'expected’': 15274, 'penelop': 15275, 'complexion': 15276, 'skin’': 15277, 'minnette': 15278, 'hylands': 15279, 'alzheimer’s': 15280, '‘helping’': 15281, 'wiseaus': 15282, 'nymeria': 15283, 'denmark': 15284, '‘spiked’': 15285, 'chees': 15286, 'winless': 15287, 'schroed': 15288, 'lucif': 15289, 'eldredge': 15290, 'readings': 15291, 'gaffes': 15292, 'hairstylist’s': 15293, 'texture': 15294, 'secondday': 15295, 'ruthless': 15296, 'subtle': 15297, 'grimmie': 15298, 'witchhunt': 15299, 'skinni': 15300, 'baria': 15301, 'aliens': 15302, 'ocd': 15303, 'halfup': 15304, '‘flash’': 15305, '‘supergirl’': 15306, 'kreisberg': 15307, 'tattooed': 15308, 'coleen': 15309, 'keegan': 15310, 'smoothies': 15311, 'irrationally': 15312, 'crudup': 15313, 'royals’': 15314, 'supersexy': 15315, 'endometriosis': 15316, 'malias': 15317, '‘chilling’': 15318, 'cavallari’s': 15319, 'deceased': 15320, 'teddi': 15321, '‘being': 15322, 'jane’': 15323, '‘naked': 15324, 'sherry': 15325, 'lansing': 15326, 'acing': 15327, 'girlnextdoor': 15328, 'kensli': 15329, 'on…': 15330, 'seals': 15331, 'penny': 15332, 'partners': 15333, 'artois': 15334, 'developing': 15335, 'insecure”': 15336, '‘shocker': 15337, 'ballroom': 15338, 'lightest': 15339, 'identifi': 15340, 'becca’s': 15341, '‘slap': 15342, 'face’': 15343, 'heigl’s': 15344, 'danvers': 15345, '“midvale”': 15346, 'bottl': 15347, 'halfnude': 15348, 'trove': 15349, 'nashville’s': 15350, 'bluebird': 15351, 'caf': 15352, 'kay': 15353, 'letourneau': 15354, 'studentturnedhusband': 15355, 'fualaau': 15356, 'cabello’s': 15357, 'yeager’s': 15358, 'quotnormal': 15359, 'lifequot': 15360, 'by…': 15361, 'march’s': 15362, 'richer': 15363, 'chubby': 15364, 'breastreduction': 15365, 'refiles': 15366, 'unscathed': 15367, '‘sabotaged’': 15368, 'edc': 15369, 'priestley': 15370, 'pacifica': 15371, 'boycott': 15372, 'wayne': 15373, 'guetta': 15374, 'foursong': 15375, 'hunts': 15376, 'sucki': 15377, 'grodd': 15378, 'lutar': 15379, '“grownish”': 15380, '‘mmmbop’': 15381, 'grinch': 15382, '‘terribly': 15383, '“men': 15384, 'all”': 15385, 'touches': 15386, 'torched': 15387, 'default': 15388, 'jayden': 15389, 'unblocks': 15390, 'enhancements': 15391, 'ladders': 15392, 'holdups': 15393, 'immun': 15394, 'exploring': 15395, 'unmentionables': 15396, 'wrapup': 15397, 'abruptly': 15398, 'offwhites': 15399, 'virgil': 15400, 'ablohs': 15401, 'colonoscopi': 15402, 'ronson': 15403, 'baume': 15404, 'cocacola': 15405, 'vanilla': 15406, 'agenda': 15407, 'flirts': 15408, '‘gangnam': 15409, 'style’': 15410, 'cervical': 15411, 'lucky”': 15412, 'somebodys': 15413, 'herrrrrrr': 15414, '‘about': 15415, 'palermo’s': 15416, 'katelyn': 15417, 'nacon': 15418, 'hugt': 15419, 'nordstrom': 15420, 'scoffs': 15421, 'activate': 15422, 'chakra': 15423, 'twerks': 15424, '‘ewwww’': 15425, 'sensitivity': 15426, 'digs': 15427, 'legitish': 15428, 'finalized': 15429, 'batemans': 15430, 'morgans': 15431, 'nos': 15432, 'iphones': 15433, 'powerless': 15434, '“lifetime': 15435, 'crush”': 15436, '‘dad’': 15437, 'loughlins': 15438, 'organized': 15439, 'playroom': 15440, 'nexos': 15441, 'motivate': 15442, 'thumbsup': 15443, 'vgx': 15444, '“we’re': 15445, 'moment”': 15446, 'rented': 15447, 'surpass': 15448, 'duke’s': 15449, 'aspir': 15450, '‘mustsee': 15451, 'exited': 15452, 'diaries’': 15453, 'blurbs': 15454, 'raking': 15455, 'camels': 15456, 'disqualified': 15457, 'glees': 15458, 'monarchy’s': 15459, 'dias': 15460, 'steering': 15461, 'multimillion': 15462, 'drunkenness': 15463, 'muffins': 15464, '‘tomb': 15465, 'raider’': 15466, 'stanley’s': 15467, 'autonomic': 15468, '‘zootopia’': 15469, 'sloths': 15470, 'rosenbaum': 15471, '‘kiss': 15472, 'ass’': 15473, 'daughterblue': 15474, 'ivy’s': 15475, 'bathtub': 15476, 'selftanners': 15477, 'ombre': 15478, 'atkin': 15479, 'xii': 15480, 'a': 15481, 'ringing': 15482, 'rauxey': 15483, 'cucumber': 15484, '“baby': 15485, 'groenings': 15486, 'africanamerican': 15487, 'firstdegree': 15488, 'bloodied': 15489, 'clogged': 15490, 'thriller': 15491, 'redecor': 15492, 'dial': 15493, 'spitup': 15494, 'showmance': 15495, '‘staging’': 15496, 'dawson’s': 15497, 'supercheap': 15498, 'minogue': 15499, 'clarissa': 15500, 'oneal': 15501, 'postponing': 15502, 'peni': 15503, 'tussbal': 15504, 'attn': 15505, 'tracksuits': 15506, 'enthusiast': 15507, '‘preapproved’': 15508, 'leeches': 15509, 'drain': 15510, 'actress’s': 15511, 'staus': 15512, 'readying': 15513, '‘project': 15514, 'runway’': 15515, 'bellassai': 15516, 'demoralized': 15517, 'correctly': 15518, 'guessed': 15519, 'vault': 15520, '“shameless”': 15521, 'puns': 15522, 'lennon': 15523, 'maisy': 15524, '‘redbone’': 15525, 'phenomen': 15526, 'perfectfit': 15527, 'bosworths': 15528, 'hormonal': 15529, 'steveo': 15530, 'ducktales': 15531, 'felicia': 15532, 'malachi': 15533, 'gatorade': 15534, 'odays': 15535, 'ambitious': 15536, 'mime': 15537, 'ratner’s': 15538, 'heartland': 15539, '‘cheated': 15540, 'disappointed”': 15541, 'dentist': 15542, 'veneers': 15543, 'flirtathon': 15544, 'okurrr': 15545, 'paltrowapproved': 15546, 'modesty': 15547, 'superglued': 15548, 'transit': 15549, 'dumbledor': 15550, 'uriah': 15551, 'injuring': 15552, 'pace': 15553, 'extinguish': 15554, 'circus': 15555, 'cruelti': 15556, '”kisses': 15557, 'cuddles”': 15558, '‘left': 15559, '‘competitive': 15560, 'worships': 15561, 'increase': 15562, 'raging': 15563, 'carnahan': 15564, 'delaying': 15565, '‘great': 15566, 'comedic': 15567, 'creator’s': 15568, 'overbearing': 15569, 'twinkies': 15570, 'own': 15571, 'moviestar': 15572, 'momapproved': 15573, 'pretti': 15574, 'project’s': 15575, 'allegra': 15576, 'megabreasts': 15577, 'improved': 15578, 'shift': 15579, '‘drop': 15580, '‘shy': 15581, 'badli': 15582, '‘bummed': 15583, '‘lighten': 15584, 'warner': 15585, 'implants': 15586, 'louiss': 15587, 'inexplicably': 15588, 'dubbing': 15589, 'glorias': 15590, 'mustard': 15591, 'otherworldly': 15592, 'freed’': 15593, 'brant': 15594, 'daugherty': 15595, 'hidalgo': 15596, 'vicky': 15597, '‘guess': 15598, 'metoo’': 15599, 'sight’': 15600, 'falsereport': 15601, 'bellinger': 15602, 'roachgate': 15603, '“el': 15604, 'anillo”': 15605, 'speculation—': 15606, 'braff': 15607, 'chalkes': 15608, 'nichol': 15609, 'blunders': 15610, 'groban’s': 15611, 'turtles': 15612, 'daze’': 15613, 'fix’': 15614, 'reputable': 15615, 'officers': 15616, 'daddy’': 15617, 'knights': 15618, 'debutantes': 15619, 'funerals': 15620, 'pricey': 15621, 'marque': 15622, 'loan': 15623, 'brynn': 15624, 'capitol': 15625, '‘dream': 15626, 'lydia': 15627, 'mclaughlin': 15628, 'county…': 15629, 'trumpcare': 15630, '‘architect’': 15631, 'memorials': 15632, 'michaels': 15633, 'tarzan': 15634, 'jeanine': 15635, 'pirro': 15636, 'aoki': 15637, 'gronkowski': 15638, 'spicers': 15639, 'brief': 15640, 'allens': 15641, 'stampede': 15642, 'damaged': 15643, 'cords': 15644, 'rancics': 15645, 'empathy': 15646, 'aijia': 15647, 'responsibility': 15648, 'spous': 15649, 'overrated': 15650, 'boutella': 15651, 'usual': 15652, 'scowling': 15653, 'slinky': 15654, 'discrediting': 15655, 'valid': 15656, 'resents': 15657, 'tone': 15658, 'pecks': 15659, 'miniature': 15660, 'ponies': 15661, 'fuscia': 15662, 'avgeropoulos': 15663, 'longburied': 15664, 'bumpy': 15665, 'kourtney’s': 15666, '‘classless’': 15667, 'irwins': 15668, 'appendix': 15669, 'akash': 15670, 'yadav': 15671, 'hain': 15672, 'videographi': 15673, '“tea”themed': 15674, 'cullen': 15675, 'soninlaw': 15676, 'marine': 15677, 'corp': 15678, 'combine': 15679, 'spreading': 15680, 'federlin': 15681, 'lcd': 15682, 'soundsystem’s': 15683, 'russom': 15684, 'aloneinspired': 15685, 'mccallister': 15686, 'graziano': 15687, 'lui': 15688, 'violated”': 15689, 'gallacher': 15690, 'brand’s': 15691, 'kirsy': 15692, 'gallacher’s': 15693, 'calms': 15694, 'sentencing': 15695, 'parents’': 15696, 'hasselhoff’s': 15697, 'bleak': 15698, 'wrongdoing': 15699, 'fletchers': 15700, 'smooches': 15701, 'norway': 15702, 'sight’s': 15703, 'duhon': 15704, 'sheila': 15705, 'baby—but': 15706, 'speeding': 15707, 'fascinators': 15708, 'fright': 15709, '‘romance’': 15710, 'deformed': 15711, 'shirley': 15712, 'breakneck': 15713, 'speed': 15714, 'commentari': 15715, 'wheeling': 15716, 'spanning': 15717, 'norvina': 15718, 'rescinds': 15719, 'meat’': 15720, 'collid': 15721, 'fatigu': 15722, 'consecutive': 15723, 'dyrdeks': 15724, 'noelle': 15725, 'flores': 15726, '‘fake’': 15727, 'acting’': 15728, 'googoo': 15729, 'clairejamie': 15730, 'firth': 15731, 'partyon': 15732, 'trimest': 15733, 'excus': 15734, 'highlighters': 15735, 'strobe': 15736, 'promis': 15737, 'headphones': 15738, 'passengers': 15739, 'guilts': 15740, 'reliving': 15741, 'valastro’s': 15742, 'desserts': 15743, 'pddz': 15744, 'haas': 15745, 'curses': 15746, 'fbombs': 15747, 'coup': 15748, 'chopping': 15749, 'openingly': 15750, 'taste—see': 15751, '“ditching': 15752, 'shelton”': 15753, 'vlogging': 15754, 'foundations': 15755, 'sensitive': 15756, 'haddock': 15757, 'kimoji': 15758, 'bittersweet': 15759, 'tidak': 15760, 'ditemukan': 15761, 'recycles': 15762, 'dvf': 15763, 'plunging': 15764, 'necklines': 15765, 'feathers': 15766, 'lunchboxes': 15767, 'attende': 15768, 'doula': 15769, 'abusers': 15770, 'sears': 15771, 'scold': 15772, 'overdosed': 15773, 'cruisey': 15774, 'iheartmedia': 15775, 'symbols': 15776, 'shayn': 15777, 'nypd': 15778, 'condemning': 15779, 'hypocrisy': 15780, 'ampquoti’m': 15781, 'didampquot': 15782, 'buttonup': 15783, '‘husband': 15784, '‘tough': 15785, 'sunni': 15786, 'harassers': 15787, '‘annihilation’': 15788, '“nothing': 15789, 'cynical': 15790, 'conspiratorial”': 15791, 'movie’s': 15792, 'sheree': 15793, 'whitfield': 15794, '‘rhoa’': 15795, 'invitations': 15796, 'monkey': 15797, 'burglari': 15798, 'accessory': 15799, 'dearli': 15800, 'choosing': 15801, 'gheesling': 15802, 'gorillas': 15803, 'rationalizes': 15804, 'mal': 15805, 'posing': 15806, 'lachapelle’s': 15807, 'bodyslam': 15808, '‘kidnap': 15809, 'asahds': 15810, 'residencies': 15811, 'retirement”': 15812, 'ravensymoné': 15813, 'blasting': 15814, 'nickalive': 15815, 'shipping': 15816, '‘rough': 15817, 'distraught': 15818, 'pulse': 15819, 'alwyn’s': 15820, '‘built': 15821, 'mutual': 15822, 'trust’': 15823, '‘lot': 15824, 'reynolds’': 15825, '‘gorgeous’': 15826, 'unsee’': 15827, 'rundown': 15828, 'proteinpacked': 15829, 'twinsplus': 15830, 'dope': 15831, 'goalie': 15832, 'reconnect': 15833, 'to': 15834, 'arranged': 15835, 'gustin': 15836, 'spirtually': 15837, 'stamos’': 15838, 'preoscar': 15839, 'bandmates': 15840, '‘snide’': 15841, 'peggy': 15842, 'sulahian': 15843, 'county’': 15844, 'stalling': 15845, 'fowler': 15846, 'urbanmet': 15847, 'ocean': 15848, 'ledecky': 15849, 'remingtons': 15850, 'guido': 15851, 'sip': 15852, 'chai': 15853, 'latt': 15854, 'sloan': 15855, 'new’': 15856, 'wilsonliam': 15857, 'hemsworthpriyanka': 15858, 'dearest': 15859, 'maddow': 15860, 'utah’s': 15861, 'decide': 15862, 'placement': 15863, 'banking': 15864, 'babywear': 15865, 'resumes': 15866, '‘seal': 15867, 'team’': 15868, 'brave': 15869, 'reenacts': 15870, 'strol': 15871, 'tisdale—and': 15872, 'garbage': 15873, 'sharapova': 15874, 'cute”': 15875, 'swindell': 15876, 'graduates': 15877, 'nicolette': 15878, 'unconditional': 15879, 'aldridge’s': 15880, '‘professional': 15881, 'wyd': 15882, 'implore': 15883, 'kinder': 15884, 'pimpl': 15885, 'mccarthys': 15886, 'copulating': 15887, 'puppet': 15888, 'girlfriendas': 15889, 'fibroid': 15890, 'tumors': 15891, 'uterus': 15892, 'williamson': 15893, 'grabbing': 15894, 'nikkis': 15895, 'webberthemed': 15896, 'crosswalk': 15897, 'holk': 15898, 'informed': 15899, '‘illuminati’': 15900, 'cheats': 15901, 'lessep’s': 15902, 'd’agostino': 15903, 'glovers': 15904, 'exercises': 15905, 'tend': 15906, 'sardine': 15907, 'smoothie': 15908, 'sisterss': 15909, 'travolta’s': 15910, '‘gotti’': 15911, 'barbado': 15912, 'goatees': 15913, 'flowing': 15914, 'dceu': 15915, 'haunting': 15916, 'mode’': 15917, 'investigator': 15918, 'tail': 15919, 'infatuated': 15920, 'evacuating': 15921, 'dionne': 15922, 'mayor': 15923, '‘adrift’': 15924, 'hanson’s': 15925, 'mmmbop': 15926, 'romances–and': 15927, 'valderrama’s': 15928, 'snatched': 15929, 'trainwreck': 15930, 'recount': 15931, 'potatoes': 15932, 'lcid': 15933, 'cheekbones': 15934, '‘sawed’': 15935, 'silicone': 15936, 'refund': 15937, 'abuser': 15938, 'grissom': 15939, 'alexand': 15940, 'matrix’': 15941, '‘jackie': 15942, 'starters': 15943, 'mul': 15944, 'unresolvedmysteri': 15945, 'range': 15946, 'robach': 15947, 'varga': 15948, 'birthday🎂': 15949, 'pals👭': 15950, 'hissed': 15951, 'berlin': 15952, 'francesco': 15953, 'carrozzini': 15954, 'yells': 15955, '‘fk': 15956, 'trump’': 15957, 'sums': 15958, 'palettes': 15959, 'existing': 15960, '‘divulge': 15961, 'secrets’': 15962, '‘mainly': 15963, 'of’': 15964, 'anton': 15965, 'yelchin': 15966, 'selfish': 15967, 'bitchy': 15968, 'catfight': 15969, 'overwhelm': 15970, 'minkoff': 15971, 'cortes': 15972, 'alleging': 15973, 'aronofsky—does': 15974, 'laurence': 15975, 'fishburne': 15976, 'easing': 15977, 'soulcycl': 15978, 'nicky’s': 15979, 'melancholy': 15980, 'so…does': 15981, 'glinda': 15982, '‘snooki’': 15983, 'momsham': 15984, '‘barely': 15985, '‘ok': 15986, 'magazine’': 15987, 'plastics': 15988, '‘jessica': 15989, '‘collateral’': 15990, '‘benji’': 15991, 'goth': 15992, '“finesse”': 15993, 'swung': 15994, 'exfiancee': 15995, 'cuoco’s': 15996, 'rollin': 15997, 'pelosi': 15998, 'hudgen': 15999, 'merger': 16000, 'tales’': 16001, 'frivol': 16002, 'falcone': 16003, 'hazy': 16004, 'blocks': 16005, 'bourbon’': 16006, 'downright': 16007, 'odin': 16008, 'pyrenees': 16009, 'steph': 16010, 'deliciously': 16011, 'pediatric': 16012, 'ramadan': 16013, 'essence': 16014, 'savvy': 16015, 'sanctioned': 16016, 'hartsocks': 16017, 'clumpy': 16018, 'limp': 16019, 'lash': 16020, '‘disappointed’': 16021, 'bobs': 16022, 'wouldve': 16023, 'berri': 16024, 'marmont': 16025, 'denton': 16026, 'presented': 16027, 'tandem': 16028, '‘mtv': 16029, 'generation’…': 16030, 'aquilina': 16031, 'boyz': 16032, 'trooping': 16033, 'ammo': 16034, 'shimizu': 16035, 'sza’s': 16036, '‘ctrl’': 16037, '“there': 16038, 'lives”': 16039, 'employe': 16040, 'staci': 16041, 'felker': 16042, 'calorie': 16043, 'jafar': 16044, 'painfully': 16045, 'romp': 16046, 'vuittons': 16047, 'studded': 16048, 'skill': 16049, 'advantag': 16050, 'mm’s': 16051, 'lozada': 16052, 'longestlasting': 16053, '‘committed’': 16054, '‘wanted': 16055, '‘won’t': 16056, 'confessional': 16057, '“inappropriate': 16058, 'comments”': 16059, 'gronkowski’s': 16060, 'gronk': 16061, 'tumbles': 16062, 'stairs': 16063, '‘tired': 16064, 'straddling': 16065, 'artificial': 16066, 'intellig': 16067, 'lauded': 16068, 'leaping': 16069, 'eth': 16070, '“secret': 16071, 'friend”': 16072, 'transformers': 16073, 'fredericks': 16074, 'cring': 16075, 'cyborg': 16076, 'readi': 16077, 'foxiest': 16078, 'overtakes': 16079, 'influenc': 16080, 'lipsticks': 16081, 'carmichael': 16082, 'exdj': 16083, 'mailed': 16084, 'greenwichs': 16085, 'employee': 16086, 'payments': 16087, '‘stay': 16088, 'brad’': 16089, 'choking': 16090, '‘boys': 16091, 'dresses’': 16092, 'kemsley': 16093, 'pk': 16094, 'saltnpepa': 16095, 'en': 16096, '‘whatta': 16097, 'bohans': 16098, 'debnamcarey': 16099, 'realtionship': 16100, 'lautn': 16101, 'kamp': 16102, 'louis’s': 16103, 'obsesses': 16104, '‘trouble’': 16105, 'love—in': 16106, 'spite': 16107, 'chappaquiddick': 16108, 'unifier': 16109, '‘heart': 16110, 'condition’': 16111, 'zararun': 16112, 'extra—but': 16113, 'portfolio': 16114, 'morelli': 16115, 'rebellion': 16116, 'heelsonly': 16117, 'overseeing': 16118, 'cary': 16119, 'elwes': 16120, 'femininity': 16121, '“high': 16122, 'musical”': 16123, 'vogue’s': 16124, 'cartoonish': 16125, 'ghostbusters”': 16126, 'sizable': 16127, 'pies': 16128, 'dog’': 16129, '‘safe’': 16130, 'teamed': 16131, 'tillis': 16132, 'bffffffs': 16133, 'dance”': 16134, 'conversecom': 16135, 'bissett': 16136, 'matter’': 16137, 'daley': 16138, 'festivals': 16139, '“baby”': 16140, 'jiggy': 16141, 'stancil': 16142, 'expulsion': 16143, 'gle': 16144, 'monday—the': 16145, '👏': 16146, 'rimes’': 16147, 'signify': 16148, 'tiebreak': 16149, 'briefcase': 16150, '‘deal': 16151, 'deal’': 16152, 'arrangement”': 16153, '‘body': 16154, 'double’': 16155, 'standin': 16156, 'kardashianjenners': 16157, 'bellagio': 16158, 'sociopath': 16159, 'intellectual': 16160, '‘john': 16161, 'wick’': 16162, 'reactivated': 16163, 'especially': 16164, 'emotions': 16165, 'injection': 16166, 'moisturizing': 16167, 'gloss': 16168, 'molly’s': 16169, 'religion': 16170, 'spirituality': 16171, 'ebooks': 16172, '‘unequivocally’': 16173, 'routine—and': 16174, 'sharpie': 16175, 'ganged': 16176, 'chrisleys': 16177, 'moto': 16178, 'clinic': 16179, 'medalworthy': 16180, 'prototype': 16181, 'wendt': 16182, 'teal': 16183, 'taunt': 16184, 'tamera': 16185, 'jackée': 16186, 'they’r': 16187, 'fuming’': 16188, 'zanatta': 16189, 'stucky': 16190, 'allude': 16191, 'mention': 16192, 'synonymous': 16193, 'channelsuperbhub': 16194, 'webby': 16195, '‘raven’s': 16196, '‘that’s': 16197, 'raven’': 16198, 'burntout': 16199, 'loved’': 16200, 'hilarious’': 16201, 'whiny': 16202, 'butttouching': 16203, 'anthony’s': 16204, 'martini': 16205, 'discovery’': 16206, 'character’s': 16207, 'tobias': 16208, 'menzies': 16209, '‘antman': 16210, 'wasp’': 16211, 'nascar': 16212, 'owners': 16213, 'expresidents': 16214, '’do': 16215, 'housewivestype': 16216, '‘misogynistic’': 16217, '‘lost’': 16218, 'gilmour': 16219, '“wasn’t': 16220, 'back”': 16221, 'stormi’s': 16222, 'handrolled': 16223, 'pretzels': 16224, 'cloud': 16225, 'nin': 16226, '‘already': 16227, 'overwhelms': 16228, '‘hesitant’': 16229, 'calypso': 16230, 'stefflon': 16231, '‘adventurous’': 16232, 'homi': 16233, '‘thor’': 16234, 'khloé’s': 16235, 'baller': 16236, 'constand': 16237, '‘come': 16238, 'hiding’': 16239, 'nautical': 16240, 'chumming': 16241, 'harvest': 16242, '‘shades': 16243, 'started—spoiler': 16244, 'cobb': 16245, 'anka': 16246, 'balazs': 16247, 'punching': 16248, 'nominate': 16249, 'hyde': 16250, 'stunningly': 16251, 'prematur': 16252, 'minime': 16253, 'soaks': 16254, 'jennifer’s': 16255, 'worker': 16256, 'exbodyguard': 16257, 'wildcards': 16258, 'kendal': 16259, 'exhibition': 16260, 'decks': 16261, 'warburtonadams': 16262, 'lid': 16263, 'valor': 16264, 'naturi': 16265, 'naughton': 16266, 'majorly': 16267, '‘smitten’': 16268, 'leona': 16269, 'hobo': 16270, 'hogg': 16271, 'jerri': 16272, 'membership': 16273, 'mellencamp': 16274, 'dagger': 16275, 'extends': 16276, '‘vogue’': 16277, 'mugged': 16278, 'vday': 16279, '“new': 16280, 'girl”show': 16281, 'jake’s': 16282, 'set…not': 16283, 'zooey’s': 16284, 'swings': 16285, 'bills': 16286, 'crawley': 16287, 'neglecting': 16288, 'wreath': 16289, 'berries': 16290, 'pooper': 16291, 'repeatedly': 16292, 'pooping': 16293, 'colorado': 16294, 'avery': 16295, 'wrestl': 16296, 'misunderstood': 16297, 'minnesotaborn': 16298, 'conquest': 16299, 'sin': 16300, 'leslies': 16301, 'sunken': 16302, 'swollen': 16303, 'bruised': 16304, 'upsetting': 16305, 'reignited': 16306, 'cromwell': 16307, 'protesting': 16308, 'upstate': 16309, 'viewer': 16310, 'oppos': 16311, 'either': 16312, 'fastest': 16313, 'carracing': 16314, 'lightweight': 16315, 'alternatives': 16316, 'techno': 16317, 'magician': 16318, 'daredevil': 16319, 'potters': 16320, 'godrics': 16321, 'hollow': 16322, 'pettyfer’s': 16323, 'mike’': 16324, 'residents': 16325, 'anniversaries': 16326, '“face': 16327, 'forward”': 16328, 'bochco': 16329, '‘nypd': 16330, '‘hill': 16331, 'blues’': 16332, 'estelle': 16333, 'parson': 16334, 'hitchhiking': 16335, 'mars’': 16336, 'derogatori': 16337, 'danks': 16338, 'offspring': 16339, 'trueknow': 16340, 'andre': 16341, 'that': 16342, 'rachels': 16343, 'consults': 16344, 'downward': 16345, 'culturally': 16346, 'nuanced': 16347, 'actu': 16348, 'lhuillier': 16349, 'chiffon': 16350, 'more—watch': 16351, 'preparations': 16352, 'hobbies': 16353, 'atwoods': 16354, 'chaz': 16355, 'squares': 16356, 'westworlds': 16357, 'frumpi': 16358, 'rodriquez': 16359, 'grandfathers': 16360, 'paz': 16361, 'huerta': 16362, 'glittery': 16363, 'shoothuntpol': 16364, 'rarely': 16365, 'easy’': 16366, 'ganador': 16367, 'partridge': 16368, 'lewd': 16369, 'travelling': 16370, 'vulture': 16371, 'milked': 16372, 'backpacks': 16373, 'toddl': 16374, 'garb': 16375, 'sobbing': 16376, '‘i’ve': 16377, 'everything’': 16378, 'offbroadway': 16379, 'afterparties': 16380, 'jonghyun': 16381, 'kailan': 16382, 'djs': 16383, 'extravaganza': 16384, 'winter’s': 16385, 'crossbody': 16386, 'reid’s': 16387, '‘married': 16388, 'graduate’': 16389, '“she’s': 16390, 'trying”': 16391, 'banished': 16392, 'grieve': 16393, 'bunton': 16394, 'perpetrated': 16395, '‘parks': 16396, 'recreation’': 16397, '‘would': 16398, 'rutl': 16399, 'cleavag': 16400, '‘constantly': 16401, 'pressured’': 16402, 'shera': 16403, 'aloneget': 16404, 'tboz': 16405, 'lopes': 16406, 'erik': 16407, 'weather’': 16408, 'oncamera': 16409, 'consent': 16410, 'exlover': 16411, 'angelia': 16412, 'resist': 16413, 'hallelujah': 16414, 'murillo': 16415, 'medicine': 16416, 'celebrityfriendly': 16417, '‘urban': 16418, 'culture’': 16419, 'enamored': 16420, 'cardena': 16421, 'despises’': 16422, 'scholarship': 16423, 'godparents': 16424, 'oneup': 16425, 'ownership': 16426, 'copyright': 16427, 'lawusit': 16428, 'newcastle': 16429, 'buttless': 16430, 'buttock': 16431, 'milla': 16432, 'jovovich': 16433, 'incomplete': 16434, 'depressingly': 16435, 'celebrities’': 16436, 'tipper': 16437, '‘as': 16438, 'tequilas': 16439, 'moisturizer': 16440, 'kaitlynn': 16441, 'oceanside': 16442, 'on’s': 16443, 'essentially': 16444, 'tiana': 16445, 'athome': 16446, 'hospitalization': 16447, 'booking': 16448, 'mummy’': 16449, 'universal’s': 16450, 'flailing': 16451, '”love': 16452, 'antidoping': 16453, 'movie’': 16454, 'moreno': 16455, 'mueller’s': 16456, 'affleckjennifer': 16457, 'grein': 16458, 'lusth': 16459, 'witnessing': 16460, 'intervention': 16461, 'schooling': 16462, 'ensu': 16463, 'represents': 16464, 'wildfir': 16465, 'vans': 16466, 'stood': 16467, '‘claws’': 16468, 'combines': 16469, 'bonded': 16470, 'knitwear': 16471, 'spit': 16472, 'bizzl': 16473, 'believed': 16474, 'beetlejuice': 16475, 'beckford': 16476, 'turchin': 16477, 'motorbike': 16478, '′': 16479, 'simul': 16480, 'devilish': 16481, 'catholicthemed': 16482, 'plaguing': 16483, 'stephanie’s': 16484, 'bowlsize': 16485, 'furstenberg': 16486, 'viagra': 16487, '‘berlin': 16488, 'station’': 16489, 'trunk': 16490, 'skydiving': 16491, 'glammed': 16492, 'starve': 16493, 'extortionist': 16494, 'fond': 16495, 'rabid': 16496, 'fanat': 16497, 'jennings': 16498, '“fixer': 16499, 'upper”': 16500, 'parking': 16501, 'mengering': 16502, 'crawford’s': 16503, 'tpain': 16504, 'negativity': 16505, 'nixed': 16506, '“stormi”': 16507, 'philippe': 16508, 'donna’s': 16509, 'evans’': 16510, 'riveting': 16511, 'workplace': 16512, 'sitch': 16513, 'tyraism': 16514, 'fastfood': 16515, 'chains': 16516, 'shack': 16517, 'lining': 16518, 'hfpa': 16519, 'frasers': 16520, 'misdemeanor': 16521, 'kali': 16522, 'uchis': 16523, 'hayek’s': 16524, 'dusk': 16525, 'freakin': 16526, 'ampquotscapegoatampquot': 16527, 'byrnes': 16528, 'azaleas': 16529, 'burned': 16530, 'embry': 16531, 'opiate': 16532, 'tackling': 16533, 'gritty': 16534, 'warsthemed': 16535, 'gabbery': 16536, '‘dawson’s': 16537, 'pacey': 16538, 'isolated': 16539, 'crank': 16540, 'lavin': 16541, 'stefon': 16542, 'rhonycs': 16543, 'thiccsgiving': 16544, 'practices': 16545, 'masquerade': 16546, 'heaven”': 16547, 'yall': 16548, 'spots': 16549, 'kyoto': 16550, 'hairremoval': 16551, 'techniques': 16552, 'undergone': 16553, 'reduction': 16554, '‘f–ked': 16555, 'homophobia': 16556, 'pinault': 16557, 'hesitated': 16558, 'paired': 16559, 'brainer”': 16560, 'cloned': 16561, 'dassey': 16562, 'hehner': 16563, 'ivys': 16564, 'shopp': 16565, 'escaped': 16566, 'unscath': 16567, 'ldol’': 16568, 'outtak': 16569, 'colletti': 16570, 'blackboard': 16571, 'jungl': 16572, 'madi': 16573, 'staged': 16574, 'license': 16575, 'quartz': 16576, 'derailed': 16577, 'mcnamaras': 16578, 'glum': 16579, 'fairytales': 16580, 'bozo': 16581, 'men’': 16582, 'judds': 16583, 'baseless': 16584, 'weekends': 16585, 'huckabee': 16586, 'oscarwinning': 16587, 'crucial': 16588, 'rossi’s': 16589, 'not”': 16590, '“increased': 16591, 'pain”': 16592, 'adulting': 16593, 'subscription': 16594, 'sigourney': 16595, 'weavers': 16596, 'completing': 16597, 'solidarity': 16598, 'sprous': 16599, 'kebbel': 16600, 'ocs': 16601, 'reeser': 16602, 'epps': 16603, 'individual': 16604, 'chim': 16605, 'cruella': 16606, 'vil': 16607, 'selfdiscovery': 16608, 'soulful': 16609, '‘week': 16610, '‘mindhunter’': 16611, 'frontal': 16612, 'tory': 16613, 'burch’s': 16614, 'greatgrandmother': 16615, 'mjs': 16616, 'dutchess': 16617, 'thomalla': 16618, 'rossdale’s': 16619, 'german': 16620, 'presenter': 16621, 'medalion': 16622, 'rahimi': 16623, 'shondaland’s': 16624, 'arra': 16625, 'therons': 16626, 'sinks': 16627, 'compet': 16628, 'jfk': 16629, 'joliejohnny': 16630, 'cocaine’': 16631, 'vicki’s': 16632, 'pansexual': 16633, 'shadowed': 16634, 'distract': 16635, 'unified': 16636, 'austria': 16637, 'anthrax': 16638, 'attendant': 16639, '‘i’ll': 16640, 'christmas’': 16641, 'ga': 16642, '‘frosty’': 16643, 'konner': 16644, 'feathered': 16645, 'asc': 16646, 'intox': 16647, 'teefey': 16648, 'quash': 16649, 'swaddled': 16650, 'client': 16651, 'postrobbery': 16652, 'teenag': 16653, '‘detransitioning’': 16654, 'iconically': 16655, 'carteris': 16656, 'falloutt': 16657, 'carmen’s': 16658, 'growth': 16659, '“belongs': 16660, 'prison”': 16661, 'militaryinspired': 16662, 'stinki': 16663, 'adulthood': 16664, 'hansen': 16665, '‘curb': 16666, 'enthusiasm’': 16667, 'nephew’s': 16668, 'pain’': 16669, 'sanctuary': 16670, 'izombies': 16671, 'indulge': 16672, 'prinsloos': 16673, 'telluride': 16674, 'mccann': 16675, 'scantilyclad': 16676, 'females': 16677, 'hawke': 16678, 'colonel': 16679, 'costanza': 16680, 'equal’': 16681, 'upstages': 16682, 'mischievous': 16683, 'balcony': 16684, 'sample': 16685, 'sisterinlaw': 16686, '“leaving': 16687, 'country”': 16688, '‘broken’': 16689, 'words’': 16690, 'solanges': 16691, 'athletic': 16692, 'apparel': 16693, 'boyfriends': 16694, 'gems': 16695, 'vying': 16696, 'shovel': 16697, 'audible': 16698, 'macmillan': 16699, 'mill’s': 16700, '“unjust': 16701, 'handed”': 16702, 'hockey’': 16703, 'concealing': 16704, 'solut': 16705, 'craigslist': 16706, 'furnitur': 16707, '‘wine': 16708, 'necessary’': 16709, 'waterston': 16710, 'intriguing': 16711, 'nugget': 16712, 'staring': 16713, 'negoti': 16714, '‘freaky': 16715, 'friday’': 16716, 'offseason': 16717, '‘unpopular': 16718, 'dalys': 16719, 'caruso': 16720, '‘took': 16721, 'toll’': 16722, 'divergent': 16723, 'james’': 16724, '‘’doesn’t': 16725, 'approve’’': 16726, 'donnie': 16727, 'vomit': 16728, 'onerepublics': 16729, 'tedder': 16730, 'production—and': 16731, 'vibrant': 16732, 'dose': 16733, 'slay—se': 16734, 'applegate': 16735, 'ovaries': 16736, 'fallopian': 16737, 'tubes': 16738, 'mile': 16739, 'nikolai': 16740, 'volkoff': 16741, 'ambrosio’s': 16742, 'dcs': 16743, 'embarrassment': 16744, 'cabs': 16745, 'stare': 16746, 'sleazy': 16747, 'slimeball': 16748, 'confid': 16749, 'bender': 16750, 'dykstra’s': 16751, 'seduction': 16752, '‘horny’': 16753, 'vests': 16754, 'trench': 16755, 'jackass': 16756, 'renov': 16757, 'empowered': 16758, 'quickly': 16759, 'na': 16760, 'assembl': 16761, 'twister': 16762, 'joyful': 16763, 'belong': 16764, 'zeroes': 16765, '‘fetish’': 16766, 'reinstatement': 16767, 'bowwowchallenge': 16768, 'ladygaga': 16769, 'maintained': 16770, 'inches—and': 16771, 'collecting': 16772, 'ash': 16773, 'utility': 16774, '‘terrifying’': 16775, '‘barf’': 16776, 'unfit': 16777, 'bianca': 16778, 'mchughs': 16779, 'warped': 16780, 'students’': 16781, 'tuition': 16782, '‘pities’': 16783, '‘pulverise’': 16784, 'livingston': 16785, 'riv': 16786, 'wraps’': 16787, 'xxxviii': 16788, 'bimbo': 16789, 'neptunes': 16790, 'hugo': 16791, 'gingham': 16792, 'election': 16793, 'reprises': 16794, 'smthemed': 16795, '‘express’': 16796, 'alzheimer': 16797, 'fenty': 16798, 'sephora': 16799, 'transitioning': 16800, 'mitchells': 16801, 'highwaisted': 16802, 'igniting': 16803, 'offreds': 16804, 'fault’': 16805, 'assange': 16806, '‘tell': 16807, 'pregnant’': 16808, 'val’s': 16809, 'и': 16810, 'fashionistas': 16811, 'brisbane': 16812, 'petrol': 16813, 'conn': 16814, 'pastor’': 16815, 'biblical': 16816, 'gleekl': 16817, 'nicknames': 16818, 'pawn': 16819, 'bindis': 16820, 'oj’s': 16821, 'variety': 16822, 'boys’': 16823, 'mistr': 16824, 'sticks': 16825, 'cyberbulli': 16826, 'handwriting': 16827, '‘sooner': 16828, 'stores': 16829, 'misses’': 16830, '‘reputation': 16831, 'tour’': 16832, 'antidefamation': 16833, 'concentration': 16834, '“offensive': 16835, 'unfunny”': 16836, 'remarried': 16837, 'guaranteed': 16838, 'savannahversary': 16839, 'tenniss': 16840, 'grudge': 16841, 'shen': 16842, 'yun': 16843, 'portland': 16844, 'beijing': 16845, 'strappy': 16846, '‘flava': 16847, 'ear’': 16848, 'enviable': 16849, '‘parent': 16850, 'ahora': 16851, '‘stupid': 16852, 'escal': 16853, '“spread': 16854, 'light”': 16855, '“chaotic': 16856, 'stalked': 16857, 'aviciis': 16858, 'caiden': 16859, 'zan': 16860, 'barstool': 16861, 'trending': 16862, 'sweep': 16863, 'femalefronted': 16864, 'curling': 16865, 'blacked': 16866, 'lais': 16867, 'ribeiro': 16868, 'democratic': 16869, 'primari': 16870, 'panther‘s': 16871, '‘wakanda': 16872, 'sometimes’': 16873, 'grooming': 16874, 'sid': 16875, 'shinee': 16876, 'jonghyuns': 16877, 'exclusion': 16878, '‘blocked’': 16879, 'argues': 16880, 'leftovers': 16881, 'rim': 16882, 'affect': 16883, 'porters': 16884, '“miserable”': 16885, 'remainder': 16886, 'fullest': 16887, 'tothe': 16888, 'candidly': 16889, 'smothers': 16890, 'leni': 16891, 'stealth': 16892, 'dormer': 16893, '‘push': 16894, 'csections': 16895, 'dayslong': 16896, 'breech': 16897, 'mcbeal': 16898, 'courted': 16899, 'skinnyshaming': 16900, 'fumes': 16901, '‘prize’': 16902, '‘den': 16903, 'parasites’': 16904, '‘feast': 16905, 'chord': 16906, 'overstreet': 16907, 'frisky': 16908, 'armas': 16909, 'sylvia': 16910, 'hoeks': 16911, 'xwf': 16912, 'shockers': 16913, 'mesnick': 16914, 'trades': 16915, 'faceappsee': 16916, 'reasoning': 16917, 'meyer’s': 16918, '‘jewelry': 16919, 'spir': 16920, 'unfairly': 16921, 'demonizing': 16922, 'pachon': 16923, 'south’s': 16924, 'ecker': 16925, '‘overwhelmed’': 16926, 'etiquette': 16927, 'lakewood': 16928, '‘part': 16929, 'flirtatious': 16930, 'spanx': 16931, '“bad': 16932, 'liar”': 16933, '\\x91olaf\\x92s': 16934, 'adventure\\x92': 16935, 'annakim': 16936, 'violette': 16937, 'cutkosky': 16938, 'pundit': 16939, 'ahole': 16940, 'conceived': 16941, 'sightsees': 16942, 'middleschool': 16943, 'dropout': 16944, 'jacqueline': 16945, 'onassi': 16946, 'grieves': 16947, 'sleeper': 16948, 'mysteries': 16949, 'friendshipending': 16950, 'ingredient': 16951, 'recycled': 16952, 'discoveri': 16953, 'dada': 16954, 'cobie': 16955, 'smulders': 16956, 'york’': 16957, 'goodrem': 16958, 'juno': 16959, 'temple': 16960, 'dicks': 16961, 'perkin': 16962, 'winnies': 16963, 'mimi': 16964, 'leder': 16965, '‘greatest': 16966, 'unleashing': 16967, 'agts': 16968, 'evie': 16969, 'clair': 16970, '‘stop': 16971, 'exploiting': 16972, '‘bae’': 16973, 'precamera': 16974, 'ritu': 16975, 'sarandon': 16976, 'feudthemed': 16977, 'pingpong': 16978, 'paddles': 16979, '“turn': 16980, 'ex”': 16981, '“marriage': 16982, 'meltdown”': 16983, 'embark': 16984, 'premiereher': 16985, '“situational': 16986, 'depression”': 16987, 'panned': 16988, 'isolating': 16989, '‘f–king': 16990, 'b–ch': 16991, 'okieriete': 16992, 'onaodowan': 16993, 'savre': 16994, 'doss': 16995, 'prepped': 16996, 'pendergrast': 16997, 'yerrid': 16998, 'envy': 16999, 'buds': 17000, 'whassup': 17001, 'pitches': 17002, 'sass': 17003, 'karamo': 17004, 'vivienne': 17005, 'westwood': 17006, '‘empire’': 17007, 'cross’': 17008, 'introduction': 17009, 'shaped': 17010, 'boozefilled': 17011, 'piñata': 17012, 'patience': 17013, 'stamina': 17014, 'fortitud': 17015, '‘accepted’': 17016, 'pivotal': 17017, 'nprs': 17018, 'splashy': 17019, 'allmans': 17020, 'gym—her': 17021, 'sneakyish': 17022, 'impersonate': 17023, 'sparkle': 17024, '‘starboy’': 17025, 'locker': 17026, 'screams': 17027, 'quotscared': 17028, 'bottlesquot': 17029, 'airbrushed': 17030, 'mistakenly': 17031, 'rwanda': 17032, 'londoners': 17033, 'telemundo’s': 17034, '“todos': 17035, 'unidos': 17036, 'chyno': 17037, 'roberto': 17038, 'tapia': 17039, 'thalia': 17040, 'yanke': 17041, 'alisons': 17042, 'musks': 17043, 'covering': 17044, 'endgame': 17045, 'vlogger': 17046, 'nikkietutorials': 17047, 'womengossip': 17048, 'reconnects': 17049, 'cozying': 17050, 'pacino’s': 17051, 'stepdaughter': 17052, 'spears’': 17053, '“be': 17054, 'careful”': 17055, 'angelic': 17056, 'yard': 17057, 'jessi': 17058, '‘strict’': 17059, 'bing': 17060, 'multimilliondollar': 17061, 'lucius': 17062, 'malfoy': 17063, 'dockett': 17064, '‘leave': 17065, 'past’': 17066, 'autoline': 17067, 'хладилни': 17068, 'бусове': 17069, 'dystopian': 17070, 'mays': 17071, 'referencing': 17072, 'stereotyp': 17073, 'mlst': 17074, 'entertainmentdaphne': 17075, 'makeupfree': 17076, 'wigfree': 17077, 'frenemies': 17078, 'lollapalooza': 17079, 'evacuated': 17080, 'haddishs': 17081, 'ran': 17082, '‘unsolved’': 17083, 'carbon': 17084, 'resleeve': 17085, 'dougla': 17086, 'oficial': 17087, 'amino': 17088, 'choreographer': 17089, 'robsons': 17090, 'shrouded': 17091, 'bibiana': 17092, '‘acted': 17093, 'reasonably’': 17094, 'stiller’s': 17095, 'paranoia': 17096, 'katheryn': 17097, 'scary’': 17098, 'winslets': 17099, 'publication': 17100, 'partly': 17101, 'cube': 17102, 'stirred': 17103, 'jacki': 17104, 'profil': 17105, 'prisoner': 17106, 'inducte': 17107, 'markleworthy': 17108, '‘buffy’': 17109, 'reagan': 17110, 'fowl': 17111, 'care’': 17112, '‘ducktales’': 17113, 'xd’s': 17114, 'toon': 17115, 'varsity': 17116, 'daniela': 17117, 'ospina': 17118, 'waiters': 17119, '‘creeped': 17120, '‘manipulating’': 17121, 'denial’': 17122, 'pains': 17123, 'tumble': 17124, 'cyclist': 17125, 'strang': 17126, 'envious': 17127, 'gigs': 17128, 'caterpillar': 17129, 'guts': 17130, 'booster': 17131, 'fallon’s': 17132, 'radical': 17133, 'strokes': 17134, 'ponce': 17135, '“she': 17136, 'conners’': 17137, 'suspending': 17138, 'kufrin’s': 17139, 'barrino’s': 17140, 'cranky': 17141, 'butthead': 17142, 'vellies': 17143, 'aurora': 17144, 'elaine': 17145, 'welteroth': 17146, '‘went': 17147, 'ballistic’': 17148, 'tristan’s': 17149, 'saul': 17150, 'dogsmuggling': 17151, 'symbol': 17152, 'slimmeddown': 17153, 'approve': 17154, 'rejuvenation': 17155, 'slipup': 17156, 'draining': 17157, 'calafiore': 17158, 'brent': 17159, 'bushnel': 17160, 'basket': 17161, 'myers’s': 17162, 'soho': 17163, 'sel': 17164, 'who': 17165, 'nelson': 17166, 'mandela': 17167, 'unflattering': 17168, 'diap': 17169, '‘waitress’': 17170, 'airbrushing': 17171, 'kutcher’s': 17172, 'christenings': 17173, 'gosselin’s': 17174, 'formally': 17175, 'inring': 17176, 'reconciles': 17177, 'preparation': 17178, '“blue’s': 17179, 'freestyle”': 17180, 'toddlers': 17181, 'tiaras': 17182, 'opentoe': 17183, 'cassie': 17184, 'actorfilm': 17185, 'sawyer': 17186, 'antisexual': 17187, 'craig’s': 17188, 'nonudity': 17189, 'bijou': 17190, 'gayshaming': 17191, 'franzes': 17192, '‘bigger’': 17193, 'teewhyhive': 17194, 'braidtobun': 17195, 'clubs': 17196, 'opposit': 17197, 'bedazzled': 17198, 'barbados’': 17199, 'carnival': 17200, 'adelovecom': 17201, 'clark’s': 17202, 'rockin’': 17203, 'eve’': 17204, 'king’': 17205, 'barrage': 17206, 'youtube’s': 17207, '‘bestcoverever’': 17208, 'singingcompetition': 17209, 'mounts': 17210, 'pitbulls': 17211, 'cherished': 17212, 'lobbying': 17213, 'ranger': 17214, 'bernard': 17215, 'dashing': 17216, 'robsten': 17217, '“worst': 17218, 'nightmare”': 17219, 'drey': 17220, 'mcdormand’s': 17221, 'pantsuit': 17222, 'furry': 17223, 'zazie': 17224, 'beetz': 17225, 'joi': 17226, 'sj': 17227, 'vivica': 17228, '‘hard': 17229, 'fakes': 17230, 'westbrook': 17231, 'shaunie': 17232, 'mms': 17233, 'peanutbased': 17234, 'toffee': 17235, 'jalapeno': 17236, 'margulies’s': 17237, 'monaes': 17238, 'pynk': 17239, 'anatomi': 17240, '‘addiction’': 17241, 'types': 17242, 'codepending': 17243, 'bootcamp': 17244, 'falduto': 17245, '”young': 17246, 'figurehead”': 17247, 'snak': 17248, '“revenge': 17249, 'body”': 17250, 'longrumored': 17251, 'makai': 17252, 'froelich': 17253, 'humili': 17254, 'trejo': 17255, 'logue’s': 17256, 'cubs': 17257, 'stardombut': 17258, 'fizzled': 17259, 'punches': 17260, 'tampa': 17261, 'sketchy': 17262, '‘domestic': 17263, 'dispute’': 17264, 'alerted': 17265, 'benoit': 17266, 'geek': 17267, 'bodyshamed': 17268, 'rifts': 17269, 'bedtime': 17270, 'cent’s': 17271, 'icarlys': 17272, 'kress': 17273, 'crazy’': 17274, 'freddi': 17275, 'laxative': 17276, 'veggies': 17277, 'excruciating': 17278, 'navigate': 17279, 'sally': 17280, 'fields': 17281, 'matchmak': 17282, 'kung': 17283, 'fu': 17284, 'panda': 17285, 'byebye': 17286, 'nabs': 17287, 'politician’': 17288, 'brittanys': 17289, 'bunches': 17290, 'oats': 17291, 'este': 17292, 'accord': 17293, 'accessorized': 17294, 'flask': 17295, 'president’s': 17296, '‘step': 17297, 'mechanical': 17298, 'responding': 17299, 'fiction': 17300, 'inject': 17301, 'moonman': 17302, 'answering': 17303, 'forg': 17304, '‘forgive’': 17305, 'hates’': 17306, '‘diet': 17307, 'slade': 17308, 'wasteland': 17309, 'comedies': 17310, 'nationalists': 17311, 'va': 17312, '‘keeps': 17313, 'touch’': 17314, 'duh': 17315, 'ama’': 17316, 'shag': 17317, 'peterson': 17318, 'unrelenting': 17319, 'oakley': 17320, 'sandlot’': 17321, 'cook’s': 17322, 'workwear': 17323, 'savageness': 17324, '‘ungrateful': 17325, 'engagements': 17326, 'intentions': 17327, 'nutritionist': 17328, 'minivan': 17329, 'calledoff': 17330, 'reedtook': 17331, 'roques': 17332, 'edelmans': 17333, 'comedys': 17334, '‘both': 17335, 'sides’': 17336, 'cranberries': 17337, 'betterelationshipscom': 17338, '‘eric': 17339, 'jessie’': 17340, '‘dating’': 17341, 'twirl': 17342, 'driver’s': 17343, 'wojcicki': 17344, 'massag': 17345, 'seduc': 17346, 'sightings': 17347, 'postpitt': 17348, 'eliminations': 17349, '‘major': 17350, 'kelis': 17351, 'milkshak': 17352, 'theron’s': 17353, 'pregnant—despite': 17354, 'criminalinchief': 17355, 'dyer': 17356, 'courting': 17357, 'sentebale': 17358, 'closed': 17359, '‘be': 17360, 'god’s': 17361, 'bombs': 17362, 'licked': 17363, 'tana': 17364, 'mongeaus': 17365, 'farts': 17366, 'shinta': 17367, 'cho': 17368, 'stinchecum': 17369, 'daria': 17370, 'galaworthy': 17371, 'becks': 17372, 'scan': 17373, 'ghosts’': 17374, 'rated': 17375, 'centenary': 17376, 'armistice': 17377, 'nods': 17378, 'months—but': 17379, 'speculative': 17380, 'astronauts': 17381, '‘officially': 17382, 'fled': 17383, 'country’': 17384, 'eli': 17385, 'boy’': 17386, 'alaska': 17387, 'porizkova': 17388, 'hailie': 17389, 'deaf”': 17390, 'lubomirski': 17391, 'coron': 17392, '‘operation': 17393, 'repo’': 17394, 'sextape': 17395, 'particularly': 17396, 'buckman': 17397, 'awful': 17398, 'recognition': 17399, 'foxella': 17400, 'waking': 17401, 'motorboat': 17402, 'someon': 17403, 'distractingly': 17404, 'tnts': 17405, '‘late': 17406, 'ambien’': 17407, 'rashida': 17408, '‘toy': 17409, 'unwanted': 17410, 'lasset': 17411, 'compassion': 17412, 'traces': 17413, 'will…': 17414, 'sage': 17415, 'steele': 17416, 'protests': 17417, 'goop’s': 17418, 'confront': 17419, 'designers': 17420, 'bragging': 17421, '“nice': 17422, 'guy”': 17423, '“misunderstood”': 17424, 'occurs': 17425, 'prestigious': 17426, 'molester': 17427, 'backburn': 17428, 'bernecker': 17429, 'hadish': 17430, 'centuries': 17431, 'salaries': 17432, 'juri': 17433, 'ines': 17434, 'rau': 17435, 'playm': 17436, '“krippy': 17437, 'kush”': 17438, 'sminspired': 17439, 'mottola': 17440, '‘lastditch': 17441, 'effort’': 17442, 'littlefing': 17443, 'dawna': 17444, 'ving': 17445, 'rhames': 17446, 'gunpoint': 17447, 'mettemarit': 17448, 'quotlove': 17449, 'allquot': 17450, 'beatrices': 17451, 'chastains': 17452, 'fizz': 17453, 'belvedere': 17454, 'prosecco': 17455, 'pacino': 17456, 'shadi': 17457, 'leas': 17458, 'saluting': 17459, 'wet': 17460, 'phillippes': 17461, 'migrant': 17462, 'irresistible': 17463, 'runn': 17464, 'kaqh': 17465, 'et': 17466, 'freeshia': 17467, 'illegal': 17468, 'picturewinning': 17469, 'tybee': 17470, 'flexing': 17471, 'ultra’s': 17472, 'anistonbrad': 17473, '‘popular’': 17474, 'murphy’s': 17475, 'ahss': 17476, 'marge': 17477, '¡ay': 17478, 'caramba': 17479, 'night’s': 17480, 'trevorlive': 17481, 'allblack': 17482, '‘greatly': 17483, 'exaggerated’': 17484, 'winger': 17485, 'damor': 17486, 'viewership': 17487, 'bored': 17488, 'timberland': 17489, '‘men': 17490, 'firstlook': 17491, 'neuralyze': 17492, 'transf': 17493, 'galia': 17494, 'lahav': 17495, 'deeper': 17496, 'royale’': 17497, 'bridges’': 17498, 'priest': 17499, 'preshow': 17500, '“pregnancy': 17501, 'pillow”': 17502, 'widower': 17503, 'scot': 17504, 'matteson': 17505, 'rida': 17506, 'barefaced': 17507, 'disheartened': 17508, 'xsk': 17509, 'days—heres': 17510, 'horvitz': 17511, 'raptor': 17512, '“jurassic': 17513, 'ramsey’': 17514, 'overjoyed': 17515, 'band’s': 17516, 'beckham’s': 17517, 'iraqi': 17518, 'huntingtonwhiteleys': 17519, 'vacayready': 17520, '‘unwedding’': 17521, 'drove': 17522, '“kevin': 17523, 'day”': 17524, 'yan': 17525, '“homophobic': 17526, 'behavior”': 17527, 'steamiest': 17528, 'she’d': 17529, '‘crazy': 17530, 'exgirlfriend’': 17531, 'rebecca’s': 17532, 'nathaniel’s': 17533, 'josh’s': 17534, '‘quarterlife': 17535, 'limited': 17536, 'bynes’': 17537, 'staging': 17538, 'belligerent': 17539, 'shaws': 17540, 'winifred': 17541, 'sandersonapprov': 17542, 'kramer’s': 17543, 'jarret': 17544, 'bips': 17545, 'calafior': 17546, '‘pregnant': 17547, 'room’': 17548, 'ghostbusters': 17549, 'deutschendorf': 17550, 'galentine’s': 17551, 'galpals': 17552, 'tans': 17553, '“mom’s': 17554, 'spaghetti”': 17555, 'popup': 17556, 'myspace': 17557, 'brooksbanks': 17558, '‘charmed’': 17559, '‘roswell’': 17560, '‘tvd’’originals': 17561, 'offshoot': 17562, 'berlanti': 17563, 'indignant': 17564, 'electrify': 17565, 'antigunviolence': 17566, 'loeb’s': 17567, 'embryos': 17568, 'shuri': 17569, 'stem': 17570, 'women—leave': 17571, 'demeaning': 17572, 'regulations': 17573, 'stormiinspired': 17574, 'manicur': 17575, 'themes': 17576, '‘’exclusive’’': 17577, 'berry’s': 17578, '‘hail': 17579, 'octuplet': 17580, 'carpets': 17581, 'shortterm': 17582, 'valve': 17583, 'magnificent': 17584, 'tune': 17585, 'huma': 17586, 'abedin': 17587, 'persons': 17588, 'waterhous': 17589, 'manta': 17590, 'skimpy': 17591, 'beaded': 17592, '‘perfect’': 17593, 'competitors': 17594, 'doodl': 17595, 'stalls': 17596, 'clarity': 17597, 'openended': 17598, 'oc': 17599, '‘praying': 17600, 'manchester’': 17601, '‘thank': 17602, 'brat': 17603, '‘mortified’': 17604, 'quintanilla’s': 17605, 'profits': 17606, 'dyslexic': 17607, 'possible’': 17608, 'giambrone': 17609, 'dolph': 17610, 'dvd': 17611, 'dozenplus': 17612, 'fav': 17613, 'glitzy': 17614, 'mojo': 17615, 'disguised': 17616, 'femaledriven': 17617, 'same’': 17618, '“scooby': 17619, 'doo': 17620, 'commends': 17621, 'airline': 17622, 'striptease': 17623, 'mostly': 17624, 'mentor': 17625, 'ghosting': 17626, 'kickstart': 17627, 'darlene': 17628, 'climactic': 17629, 'exbodyguards': 17630, 'unsafe': 17631, 'conditions': 17632, 'unpaid': 17633, '‘sick': 17634, 'movement’': 17635, 'roker': 17636, 'recapping': 17637, 'ballet': 17638, 'charm’s': 17639, 'cringey': 17640, 'grimm': 17641, 'palandjian': 17642, 'geri': 17643, 'horner': 17644, '‘angels': 17645, 'chains’': 17646, 'caribbean’': 17647, 'thumb': 17648, 'sosilver': 17649, '“big': 17650, 'juelia': 17651, 'bass’': 17652, 'jersey’': 17653, 'abercrombies': 17654, '‘flips': 17655, 'decor': 17656, 'disguises': 17657, 'lengths': 17658, '‘exact': 17659, 'workout’': 17660, 'nudges': 17661, 'fraser': 17662, 'bargh': 17663, 'hijinks': 17664, 'visions': 17665, 'humid': 17666, 'palin’s': 17667, '“vogue”': 17668, 'neverland': 17669, 'señor': 17670, 'cielos': 17671, 'fernanda': 17672, 'whaaat': 17673, 'cleansing': 17674, 'ish': 17675, 'examined': 17676, 'heckled': 17677, 'ferrel': 17678, 'sabato': 17679, 'shelved': 17680, 'gabon': 17681, 'kocian': 17682, 'kyla': 17683, 'carpetlevel': 17684, 'copied': 17685, 'scorching': 17686, 'impersonator': 17687, 'infinitely': 17688, 'iaconettis': 17689, 'perpetually': 17690, 'unravel': 17691, 'myth’': 17692, 'eldest': 17693, '‘highquality': 17694, 'person’': 17695, 'treason': 17696, 'android': 17697, 'maines': 17698, 'immigrated': 17699, 'crushs': 17700, 'f–ked': 17701, 'fangirling': 17702, 'bae': 17703, 'overheating': 17704, 'duggal': 17705, 'sheerans': 17706, 'saleswoman': 17707, 'respectful': 17708, 'sendoff': 17709, 'robbie’s': 17710, 'bent': 17711, 'z’': 17712, 'relegated': 17713, 'vir': 17714, 'fuck': 17715, 'caking': 17716, 'jaclyn': 17717, 'sparks’': 17718, 'amazing’': 17719, 'open’': 17720, 'baitandswitch': 17721, 'bf’': 17722, 'halladay': 17723, 'mlb': 17724, 'fawcetts': 17725, 'redmond': 17726, 'o’neal': 17727, 'secondari': 17728, 'wordpress': 17729, 'elizabeths': 17730, 'taglin': 17731, 'ticketbuying': 17732, 'marches': 17733, 'declines': 17734, 'frogging': 17735, 'unzipped': 17736, 'cryptically': 17737, 'westfeldt': 17738, 'siasat': 17739, 'daili': 17740, 'breather': 17741, 'owns': 17742, 'herjavecs': 17743, 'slayers': 17744, 'trio': 17745, 'nor’easter': 17746, 'postpone': 17747, 'newark': 17748, 'literacy': 17749, 'yearlong': 17750, 'bart': 17751, 'bb': 17752, 'cc': 17753, 'dd': 17754, 'bite': 17755, 'traumatic': 17756, 'delaneys': 17757, 'tortorella': 17758, 'genderfluid': 17759, 'jordans': 17760, 'glo': 17761, 'lohr': 17762, 'multihyphen': 17763, 'expletivefilled': 17764, 'marfuggi': 17765, 'upsid': 17766, 'montana’s': 17767, 'fahi': 17768, 'labels’': 17769, 'brangelinas': 17770, 'anderson’s': 17771, '“baywatch”': 17772, 'agt': 17773, 'we': 17774, 'threeyear': 17775, 'would’ve': 17776, 'como': 17777, 'neighbours': 17778, 'gartens': 17779, 'gambling': 17780, 'tearing': 17781, 'asund': 17782, 'screenplay': 17783, 'tolerate': 17784, 'dodged': 17785, 'carrier': 17786, 'perfects': 17787, 'peretti': 17788, 'beaumont': 17789, 'reenacted': 17790, 'cosby’s': 17791, 'converting': 17792, 'unblock': 17793, 'prints': 17794, 'celebrityloved': 17795, 'petas': 17796, 'authors': 17797, 'languag': 17798, 'burying': 17799, 'hatchet': 17800, 'remakes': 17801, 'inflammatory': 17802, 'blessing': 17803, 'transporter': 17804, 'tantrum': 17805, 'skittl': 17806, 'circles': 17807, 'porno': 17808, 'mags”': 17809, 'rc': 17810, 'maydecember': 17811, 'controlled': 17812, 'rainy': 17813, 'survives': 17814, 'headon': 17815, 'collision': 17816, 'boosted': 17817, 'flocks': 17818, 'wyoming': 17819, 'registering': 17820, 'grimy': 17821, 'montecito': 17822, '‘demanding’': 17823, 'kimono': 17824, 'baño': 17825, 'amicably': 17826, 'milian': 17827, 'teller': 17828, 'keleigh': 17829, 'sperry': 17830, 'payoff': 17831, 'dumbo': 17832, 'stak': 17833, 'yom': 17834, 'kippur': 17835, 'aton': 17836, 'now—shop': 17837, 'decadeold': 17838, 'tostitos': 17839, 'whoever’s': 17840, 'flattop': 17841, 'turtleneck': 17842, 'reign’s': 17843, 'musician’': 17844, 'morri': 17845, 'simplest': 17846, 'party—invite': 17847, '“elated': 17848, 'humbled”': 17849, 'referenced': 17850, 'cameraready': 17851, 'irrelev': 17852, 'hangout': 17853, 'htgawm': 17854, 'oitnb': 17855, 'inmates': 17856, 'conviction': 17857, 'curl': 17858, 'scruffy': 17859, 'studs': 17860, 'gamora': 17861, 'buzzer': 17862, 'recipient': 17863, 'blindness': 17864, 'unexpected—and': 17865, 'unforgettable—night': 17866, 'neiman’': 17867, 'strays': 17868, '‘kill’': 17869, 'monte': 17870, 'cristo': 17871, 'galecki’s': 17872, 'pelted': 17873, 'jaws': 17874, 'csi': 17875, 'rosi': 17876, 'wheels': 17877, 'kanye’': 17878, 'rap’s': 17879, 'complex': 17880, 'newmediasearch': 17881, 'xfil': 17882, 'madekwe': 17883, 'cutoff': 17884, 'hotp': 17885, 'rumi’s': 17886, 'mychal': 17887, 'floaty': 17888, 'faking': 17889, 'poppin': 17890, 'inclusion': 17891, '“right': 17892, 'gifted': 17893, 'curv': 17894, 'shamer': 17895, 'bunny—and': 17896, 'armtwist': 17897, 'liftetime': 17898, 'stenhouse': 17899, '“bonding': 17900, 'before”': 17901, 'proceed': 17902, 'publish': 17903, '‘kind': 17904, 'liked’': 17905, 'delevingn': 17906, 'cycles': 17907, 'twilights': 17908, 'coke': 17909, 'rolled': 17910, 'goods': 17911, 'economist': 17912, 'improving': 17913, '‘skinny’': 17914, 'republic': 17915, 'gilead': 17916, 'exbachelorette': 17917, 'parksvalletta': 17918, '‘jumanji’': 17919, '“replacement': 17920, 'son”': 17921, 'tye': 17922, 'sheridan': 17923, '‘rhoa': 17924, 'entering': 17925, 'facility': 17926, 'imprisonment': 17927, 'std': 17928, 'nonsense': 17929, 'damian': 17930, 'gael': 17931, 'bernal': 17932, 'stunts': 17933, 'carols': 17934, 'adjustment': 17935, 'well’': 17936, 'collapsing': 17937, 'commes': 17938, 'garçons': 17939, 'tovey': 17940, 'brockman': 17941, 'bethennys': 17942, 'kian': 17943, 'lawley': 17944, 'fox’s': 17945, 'give’': 17946, 'club’s': 17947, '”except': 17948, 'dancings': 17949, 'prattes': 17950, 'nobu': 17951, 'porsch': 17952, 'randy': 17953, 'seallike': 17954, 'hyster': 17955, 'olympians': 17956, 'philanthropic': 17957, 'koreanpop': 17958, 'cabin': 17959, 'giraff': 17960, 'laught': 17961, '‘welcome': 17962, 'phase': 17963, 'scarlet': 17964, 'counterpart': 17965, 'nazanin': 17966, 'mandi': 17967, 'toxins': 17968, 'lockwoods': 17969, 'cher’s': 17970, 'aden': 17971, 'promised': 17972, 'nosebut': 17973, 'opposite': 17974, 'kneel': 17975, '‘massively': 17976, 'disturbing’': 17977, 'michalka': 17978, 'slater': 17979, 'virgin’s': 17980, 'baldoni': 17981, 'fkhsk': 17982, 'beginners': 17983, 'brittani': 17984, 'finest': 17985, 'vlog': 17986, 'mcdreamy': 17987, 'favourite’': 17988, '”definitely': 17989, 'deserves”': 17990, 'ange’s': 17991, 'zahir': 17992, 'uptons': 17993, 'andi': 17994, 'dorfman': 17995, 'reply': 17996, 'lazlo': 17997, 'asa': 17998, 'soltan': 17999, 'rahmati': 18000, 'conjures': 18001, 'kinkle': 18002, '“exaggerated”': 18003, '“crazy”': 18004, '“pushing': 18005, 'grandpas': 18006, 'remain': 18007, 'clapton': 18008, 'expectation': 18009, 'treasury': 18010, 'secretary’s': 18011, 'government': 18012, 'touts': 18013, 'hermes': 18014, 'hideout': 18015, 'pageants': 18016, 'magicians’': 18017, 'caffeineinfused': 18018, 'birchbox': 18019, '‘station': 18020, 'mckee': 18021, 'stoking': 18022, 'hitandrun': 18023, '‘fawning’': 18024, 'nearidentical': 18025, 'andreja': 18026, 'pejic': 18027, 'revision': 18028, '“we': 18029, 'desirable”': 18030, 'silicon': 18031, 'longlasting': 18032, 'meaningless': 18033, 'darlen': 18034, 'reprimands': 18035, 'gomez’': 18036, 'petite': 18037, 'animatronic': 18038, 'shouts': 18039, 'mam': 18040, 'sarkozy': 18041, 'west…': 18042, 'frogmore': 18043, 'prettylittleliar': 18044, '‘complete': 18045, 'fonda’s': 18046, 'treasure’s': 18047, 'aitana': 18048, 'diva’': 18049, 'gabi': 18050, 'dawg': 18051, 'sits': 18052, 'volatil': 18053, 'nicoles': 18054, 'flow': 18055, 'treasure': 18056, 'moussas': 18057, 'itv': 18058, 'reflections': 18059, 'contenders': 18060, 'applies': 18061, 'cannibal': 18062, 'lemon’s': 18063, 'idolall': 18064, 'crushed': 18065, 'cares': 18066, 'tracey': 18067, 'cunningham': 18068, 'christensens': 18069, 'velvet': 18070, 'velour': 18071, 'humiliating': 18072, 'three’s': 18073, 'postgrammys': 18074, 'funct': 18075, 'moonlighting': 18076, 'furniture': 18077, 'freestyles': 18078, 'mediatakeout': 18079, 'matrix': 18080, 'quickli': 18081, 'puths': 18082, 'hopeless': 18083, 'romant': 18084, 'cecily': 18085, 'grail': 18086, '‘twilight': 18087, 'interrupted': 18088, 'boxers': 18089, 'briefs': 18090, 'quickfire': 18091, 'oher': 18092, 'uber': 18093, 'britney’s': 18094, '‘desperately': 18095, 'kitchens': 18096, 'notoriously': 18097, 'uganda': 18098, 'squashes': 18099, 'waddells': 18100, 'inseparable': 18101, 'ladytobe': 18102, '‘pizzagate’': 18103, 'counterclaims': 18104, 'luk': 18105, 'maintaining': 18106, 'braids': 18107, 'slimiest': 18108, 'infographic': 18109, 'tallies': 18110, 'server': 18111, 'soldiers': 18112, 'hammered': 18113, '“unnatural”': 18114, 'cantan': 18115, 'studios': 18116, 'expir': 18117, 'condemnation': 18118, 'neonazi': 18119, 'fancier': 18120, 'fogelman': 18121, 'phys': 18122, 'snakes': 18123, 'wacky': 18124, 'carpenter': 18125, 'worldrenowned': 18126, 'speakers': 18127, 'rooting': 18128, 'currently': 18129, 'amend': 18130, 'tps': 18131, 'science': 18132, 'philbin': 18133, 'stumbling': 18134, 'satire': 18135, '‘downsizing’': 18136, 'nymphomaniac': 18137, 'brace': 18138, 'fatherhuntpol': 18139, 'healers': 18140, 'hustl': 18141, 'riviera': 18142, 'pardon': 18143, 'imprisoned': 18144, '“curvier”': 18145, 'uniquely': 18146, 'edmonds’': 18147, '‘supports’': 18148, 'despit': 18149, 'you’ve': 18150, 'criss’': 18151, 'lettuce': 18152, 'slug': 18153, 'gilinsky': 18154, 'taylorswiftisoverparty': 18155, '‘meet': 18156, 'dillard’': 18157, 'slutshame': 18158, 'pantone': 18159, 'violet': 18160, 'brady’s': 18161, '”divorce”': 18162, 'khalifas': 18163, 'historical': 18164, 'stressfree': 18165, 'fantastical': 18166, 'granny': 18167, 'rourke': 18168, 'cursing': 18169, 'drivethrough': 18170, 'irk': 18171, 'spic': 18172, 'lingerieinspired': 18173, '“magnetic”': 18174, 'nigerian': 18175, 'jedi’s': 18176, 'boytoy': 18177, '‘stunned’': 18178, 'kwan': 18179, 'gellars': 18180, 'shore’s': 18181, 'carting': 18182, 'teased': 18183, 'pout': 18184, 'initially': 18185, 'plemons': 18186, 'dunst’s': 18187, 'guthrie’s': 18188, '“made': 18189, 'ass”': 18190, 'golfing': 18191, 'today’s': 18192, 'dreyer': 18193, 'tatuminspired': 18194, 'moanas': 18195, '‘are': 18196, 'gianna': 18197, '‘excited’': 18198, '‘crosswalk': 18199, 'musical’': 18200, 'alliances': 18201, 'ironclad': 18202, 'roxy': 18203, 'worthless': 18204, 'lean': 18205, 'reinhart’s': 18206, '“riverdale': 18207, 'embroidered': 18208, 'pillowcas': 18209, 'breakdowns': 18210, 'blowups': 18211, 'daniels’': 18212, 'glendon': 18213, 'crain': 18214, 'karate': 18215, 'cobra': 18216, 'macchio': 18217, 'zabka': 18218, 'porowski': 18219, 'fives': 18220, 'represent”': 18221, 'ventur': 18222, 'teasers': 18223, 'airplane': 18224, 'puked': 18225, 'halfpipe': 18226, 'serenade': 18227, 'ritzcarlton': 18228, 'the…': 18229, 'recluse': 18230, 'alice': 18231, 'neves': 18232, 'lorne': 18233, 'kristoff': 18234, 'gift’': 18235, 'dramas': 18236, '‘overwhelmed': 18237, '‘gypsy’': 18238, 'issued': 18239, 'backfir': 18240, '‘oth’': 18241, 'veins': 18242, 'sorbo': 18243, 'oxenberg': 18244, 'brainwashed': 18245, '‘free': 18246, 'thought’ing': 18247, 'divin': 18248, 'forgets': 18249, 'dorito': 18250, 'renaming': 18251, 'month’': 18252, 'denounces': 18253, '‘nazi': 18254, 'supremacist': 18255, 'jerks’': 18256, 'bites': 18257, 'cutlers': 18258, 'teammate': 18259, 'hott': 18260, 'machu': 18261, 'picchu': 18262, 'kanyeproduced': 18263, '“maria”': 18264, 'wonky': 18265, 'fixed': 18266, 'individu': 18267, 'hashimotos': 18268, 'nial': 18269, 'tempt': 18270, '“romance': 18271, 'public”': 18272, 'jennif': 18273, 'maintenance': 18274, 'horn': 18275, 'unfazed': 18276, 'tweeted': 18277, 'brown…chris': 18278, 'interested…': 18279, 'hermit': 18280, 'projects': 18281, 'feimster': 18282, 'jacquelyn': 18283, 'stunk': 18284, 'backseat': 18285, 'sabotaging': 18286, 'complains': 18287, 'rooneys': 18288, 'creole': 18289, 'midtown': 18290, 'selfprotective': 18291, 'wills’': 18292, 'catchi': 18293, 'darling': 18294, 'victimized': 18295, 'addams': 18296, 'wme': 18297, '“rabid': 18298, 'venit': 18299, 'captivated': 18300, 'sitdown': 18301, '‘furious': 18302, 'swertlow': 18303, 'feb': 18304, 'resolution': 18305, 'kendu': 18306, 'reshooting': 18307, 'plumm': 18308, 'understands': 18309, 'misfortunes': 18310, 'kabbalah': 18311, 'untimely': 18312, 'spedding': 18313, 'alabama': 18314, 'bozeman': 18315, '‘empowered': 18316, 'business’': 18317, 'jesu': 18318, 'miscarry': 18319, 'portions': 18320, 'differences': 18321, 'apocalypses': 18322, 'grossman': 18323, 'coven': 18324, 'him”': 18325, 'conveys': 18326, 'uttering': 18327, 'fluctuating': 18328, 'heron’s': 18329, 'importance': 18330, 'karjenner': 18331, 'springfield': 18332, 'recently': 18333, 'cheyne': 18334, 'caity': 18335, 'lotz': 18336, 'scullys': 18337, 'mythology': 18338, 'raísa': 18339, 'frontier': 18340, 'mossimo': 18341, 'zoey': 18342, 'gladiator': 18343, 'snowboarder': 18344, 'pond': 18345, 'machado': 18346, 'nipslip': 18347, 'clauses': 18348, 'reluctance': 18349, 'painstakingly': 18350, 'surgical': 18351, 'reverses': 18352, 'deltas': 18353, '‘contacts': 18354, 'luther': 18355, 'pulitz': 18356, 'conjugal': 18357, 'seacrest’s': 18358, 'sopranos': 18359, 'goodfellas': 18360, 'enamoré': 18361, 'advising': 18362, 'demos': 18363, 'introspection—and': 18364, 'levin’s': 18365, 'cocain': 18366, 'tamagotchi': 18367, '‘heartthrob’': 18368, 'deciphers': 18369, 'dina’s': 18370, 'orville': 18371, 'towel': 18372, 'zipper': 18373, 'adlon’s': 18374, '‘better': 18375, 'critic’s': 18376, 'fashionable': 18377, 'meanings': 18378, 'cupid': 18379, 'trea': 18380, 'fairyland': 18381, 'pigmented': 18382, 'mattesshimmer': 18383, 'hightlight': 18384, 'brushwaterproof': 18385, 'blendable': 18386, 'palettemup': 18387, 'whobitbeyonce': 18388, 'larsa': 18389, 'pippen': 18390, 'bankrolled': 18391, 'fee': 18392, 'baggage': 18393, 'gossipcop': 18394, 'blackhead': 18395, 'nationalist': 18396, 'brash': 18397, 'passionate': 18398, '‘ashamed’': 18399, 'xxx': 18400, 'patridg': 18401, 'consid': 18402, '‘avengers’': 18403, 'sequels': 18404, 'graf': 18405, 'martinez’s': 18406, 'declar': 18407, 'routines': 18408, 'pointy': 18409, 'sites': 18410, 'suede': 18411, 'lengthy': 18412, 'basted': 18413, 'kneaded': 18414, 'served': 18415, 'skinbaring': 18416, 'appétit': 18417, 'carps': 18418, 'parisian': 18419, 'tough”': 18420, 'feldsteins': 18421, 'lighted': 18422, 'surrendered': 18423, 'lhuilli': 18424, 'drunkest': 18425, 'demario’': 18426, 'classes': 18427, 'muld': 18428, 'rhobh’s': 18429, 'swoonworthy': 18430, 'kercher': 18431, 'gruesome': 18432, 'beheading': 18433, 'murin': 18434, 'unreleased': 18435, 'agreed': 18436, '‘girls': 18437, 'trip’': 18438, 'firth’s': 18439, 'indecent': 18440, 'racist’': 18441, 'jcpenney': 18442, 'capsule': 18443, 'zeppelins': 18444, 'cheetos': 18445, 'chopstick': 18446, 'caspe': 18447, 'kevin’s': 18448, 'cartoons': 18449, 'pajamas': 18450, 'leasttalented': 18451, 'rooks': 18452, 'superprivate': 18453, '‘hellboy’': 18454, '‘whitewashing’': 18455, 'upandcoming': 18456, 'poptopia': 18457, '‘road': 18458, 'dias’': 18459, 'spathemed': 18460, 'fost': 18461, 'unwritten': 18462, '“girl': 18463, 'code”': 18464, 'respects': 18465, 'joked': 18466, 'hugh’s': 18467, 'skwad': 18468, '‘had': 18469, 'yorker': 18470, 'passion': 18471, 'smirnoffs': 18472, 'rejection': 18473, 'heard’s': 18474, 'rehears': 18475, 'billowy': 18476, 'donts': 18477, 'live’s’': 18478, '‘weekend': 18479, 'gestational': 18480, 'internal': 18481, 'crocs': 18482, 'typo': 18483, 'sleev': 18484, 'reeds': 18485, 'raven’s': 18486, 'versaces': 18487, 'destroys': 18488, 'managed': 18489, 'havent': 18490, 'wrong”': 18491, '“attack”': 18492, 'mortified': 18493, 'wreaks': 18494, 'havoc': 18495, 'sui': 18496, 'proenza': 18497, 'schouler': 18498, 'wellnessdry': 18499, 'brushing': 18500, 'granola': 18501, 'infrared': 18502, 'hermione': 18503, 'lodg': 18504, 'lando': 18505, '‘cried’': 18506, 'backhanded': 18507, 'compli': 18508, 'itinerary': 18509, 'moonlit': 18510, 'grimesbeech': 18511, 'beech': 18512, '‘nasty’': 18513, 'mistletoe': 18514, 'whop': 18515, 'passion’': 18516, 'bryants': 18517, 'bullies': 18518, 'sexualmisconduct': 18519, 'armageddon': 18520, 'rocketed': 18521, 'bch': 18522, 'paul’s': 18523, 'candidates': 18524, 'cassandra': 18525, 'feisty': 18526, 'porg': 18527, 'squashed': 18528, 'excitement': 18529, 'unmatched': 18530, 'multiplatform': 18531, '“live': 18532, 'skriver': 18533, 'frocks': 18534, '‘snl': 18535, 'mckinnon’s': 18536, 'ingraham': 18537, 'laundry': 18538, 'alpacas': 18539, '‘done': 18540, 'cowel': 18541, 'clooneys’': 18542, '“rare': 18543, 'pox”': 18544, 'nemo': 18545, 'sneaking': 18546, 'lured': 18547, 'viaemail': 18548, 'poisoned': 18549, 'labeouf’s': 18550, 'lows': 18551, '‘curse’': 18552, 'bridalinspired': 18553, 'skateboarding': 18554, 'bodybuilder': 18555, 'flaw': 18556, 'ginuwine': 18557, 'bravolebrity': 18558, 'poni': 18559, 'airdate': 18560, 'jair': 18561, 'les': 18562, 'moonves': 18563, 'in’': 18564, 'tahiti': 18565, 'furstenburg': 18566, 'patriotic': 18567, 'wick': 18568, 'monologues': 18569, 'medalists': 18570, 'fisher’s': 18571, 'willcocks': 18572, 'tickle': 18573, 'whaboom': 18574, '‘one': 18575, '“ocean’s': 18576, 'awkwafina': 18577, 'xi': 18578, 'abbys': 18579, 'askreddit': 18580, '‘elf’': 18581, 'homebodies': 18582, 'wholesome': 18583, 'sila': 18584, '“bolted”': 18585, 'alves’': 18586, '‘end': 18587, 'fitzhunter': 18588, 'maddies': 18589, 'like’': 18590, 'garage': 18591, 'scientific': 18592, 'madness”': 18593, 'winona': 18594, 'ryder': 18595, 'blinders': 18596, 'indiscret': 18597, 'played’': 18598, 'lauryn': 18599, '“adult': 18600, 'diapers”': 18601, '‘phasing': 18602, '‘used': 18603, 'reincarnation': 18604, 'midnuptial': 18605, 'apa’s': 18606, 'countersuit': 18607, 'mueller': 18608, 'profiled': 18609, 'headscarf': 18610, 'fair’s': 18611, '‘is': 18612, 'homeland': 18613, 'auf': 18614, 'wiedersehen': 18615, 'manilow': 18616, 'expansion': 18617, 'tigers': 18618, 'popul': 18619, 'cheesy': 18620, 'fragile': 18621, 'stomping': 18622, '“explosive': 18623, 'showdown”': 18624, 'blink': 18625, 'shaq': 18626, 'harden': 18627, 'heron': 18628, 'wiped': 18629, 'nerdist': 18630, 'founded': 18631, 'prodigies': 18632, 'exmiss': 18633, 'fiances': 18634, 'potter™': 18635, '™': 18636, 'pillow': 18637, 'fiercest': 18638, 'womaninspired': 18639, 'o’hara': 18640, 'stack': 18641, 'fanfavorite': 18642, 'rance': 18643, '‘empowered’': 18644, '‘laughing’': 18645, '‘embarrass’': 18646, 'elli': 18647, 'misunderstand': 18648, 'explicitly': 18649, '—but': 18650, 'courtesy': 18651, 'ingredi': 18652, 'close’': 18653, 'mentalist': 18654, 'battlestar': 18655, 'galactica': 18656, 'giggle': 18657, 'mcdonnell': 18658, 'katee': 18659, 'sackhoff': 18660, '‘curious’': 18661, 'explode': 18662, 'weep': 18663, 'xxxtentacion’s': 18664, '“wonder': 18665, 'woman”': 18666, 'firefighter': 18667, 'quips': 18668, 'futures': 18669, 'ahs': 18670, 'fargo': 18671, '‘political’': 18672, 'trailblazing': 18673, 'boohoo': 18674, 'ropers': 18675, 'girlygirl': 18676, 'superstars’': 18677, 'grams': 18678, 'chunki': 18679, 'lied': 18680, 'realised': 18681, 'testimony': 18682, '‘reign’': 18683, 'parlor': 18684, 'modeled': 18685, 'twoyear': 18686, 'goode': 18687, 'spiritday': 18688, 'zachary': 18689, 'quittman': 18690, 'hooker': 18691, 'courtland': 18692, 'rogers': 18693, '💕justin': 18694, 'news💕': 18695, 'comedians': 18696, 'lululemon': 18697, '“malibu”': 18698, 'vic': 18699, 'balvins': 18700, 'veeps': 18701, 'louisdreyfu': 18702, 'grohl': 18703, 'metallica': 18704, 'skeletons': 18705, 'generous': 18706, 'fbi': 18707, 'laund': 18708, 'weei': 18709, '‘annoying': 18710, 'pissant’': 18711, 'denmarks': 18712, 'smoosh': 18713, 'symbolism': 18714, 'destiny': 18715, 'daeneri': 18716, 'grahamcassidy': 18717, 'pukes': 18718, 'brendon': 18719, 'urie': 18720, 'brushes': 18721, 'maia': 18722, 'shibutani': 18723, 'emeraude': 18724, 'toubia': 18725, '‘chicago': 18726, 'pd’': 18727, 'adamant': 18728, 'russo': 18729, 'fostering': 18730, 'vedder': 18731, 'petty’s': 18732, '‘room': 18733, 'top’': 18734, 'nonnudity': 18735, '‘healthier': 18736, 'happier’': 18737, 'vendettas': 18738, 'kayleighs': 18739, 'belongings': 18740, 'lousy': 18741, 'hannigan': 18742, 'denisof': 18743, '“on': 18744, 'rocks”': 18745, 'exploit': 18746, 'bryans': 18747, 'chiefs': 18748, 'petsch’s': 18749, 'breyton': 18750, 'sketti': 18751, 'eyepopping': 18752, 'disobeying': 18753, 'marjorie': 18754, 'parkinsons': 18755, 'daly’s': 18756, 'superstarry': 18757, 'burgess’': 18758, 'hint…': 18759, 'murder’s': 18760, 'falahee': 18761, 'bereft': 18762, 'zachariah': 18763, 'premiered': 18764, 'sleeves': 18765, 'oceandraw': 18766, 'o’day': 18767, 'bunheads': 18768, 'lyft': 18769, 'parent’s': 18770, 'lent': 18771, 'developer': 18772, 'skirting': 18773, '‘fully': 18774, 'musgrav': 18775, 'soulsearching': 18776, '‘evaluation': 18777, 'treatment’': 18778, 'defined': 18779, '‘felt': 18780, 'god’': 18781, '“dinero”': 18782, '‘sopranos’': 18783, 'revolutionari': 18784, 'reys': 18785, 'nyongos': 18786, '‘set’': 18787, 'warriors': 18788, 'squirrel': 18789, 'underneath': 18790, 'unions': 18791, 'infertility': 18792, 'blunts': 18793, 'bulletproof': 18794, 'vest': 18795, 'sweeney': 18796, '‘days': 18797, 'etsi': 18798, 'motors': 18799, 'rake': 18800, '‘marriage': 18801, 'jongun': 18802, '‘adorable’': 18803, 'interview’': 18804, 'scrapping': 18805, 'narcotics': 18806, 'posie': 18807, 'monarch': 18808, 'country’s': 18809, 'aurélie': 18810, 'wynn': 18811, 'animalinspired': 18812, 'dishonest': 18813, 'stinks': 18814, 'overwhelming': 18815, 'hysterectomy': 18816, 'anoth': 18817, 'nascarlevel': 18818, 'speednascar': 18819, 'tarana': 18820, 'season’': 18821, 'deportation': 18822, 'tropez': 18823, 'anonymously': 18824, 'cleansers': 18825, 'eyeopeners': 18826, 'crazyfunny': 18827, 'turners': 18828, 'bjork': 18829, 'swan': 18830, 'snuggly': 18831, 'polka': 18832, 'wrestle': 18833, 'unbeliev': 18834, 'spaceys': 18835, 'kaskade’s': 18836, 'don’ts': 18837, 'elmo': 18838, 'floati': 18839, 'prosecute': 18840, 'floats': 18841, 'laser': 18842, 'paralyzed': 18843, 'bjs': 18844, 'required': 18845, 'batistes': 18846, 'gymshark': 18847, 'commissioned': 18848, 'perfecting': 18849, 'pennywise': 18850, 'travers': 18851, '‘spiderman': 18852, 'homecoming’': 18853, 'morales': 18854, 'thing…': 18855, 'relatives’': 18856, 'defeats': 18857, 'smackdown': 18858, 'pmoy': 18859, 'saltnpepa’s': 18860, 'quotshoopquot': 18861, 'instyles': 18862, 'liquor': 18863, 'birthday’': 18864, 'we’d': 18865, 'coming’': 18866, '‘judy’': 18867, 'voluminous': 18868, 'frilly': 18869, 'jcrew': 18870, 'sudol': 18871, 'elevator': 18872, 'regeneration': 18873, 'literary': 18874, 'portrayed': 18875, 'birdi': 18876, 'premi': 18877, 'sweatshirt': 18878, 'cornered': 18879, 'paparazzi—did': 18880, 'weighed': 18881, 'juliet': 18882, 'instantly': 18883, 'dayna': 18884, 'fraz': 18885, 'coped': 18886, '‘darling’': 18887, '‘murder': 18888, 'orient': 18889, 'express’': 18890, 'seducing': 18891, 'shades’style': 18892, 'furtado': 18893, 'demacio': 18894, 'castellon': 18895, 'demise': 18896, 'willie': 18897, 'garson': 18898, 'cattral': 18899, '“cash': 18900, 'cow”': 18901, 'narcissistic': 18902, 'exmanagers': 18903, 'advocates': 18904, 'restraint': 18905, 'livesnaps': 18906, 'margoliu': 18907, 'earpiece': 18908, '‘said': 18909, 'liking': 18910, 'bff’s': 18911, 'toby': 18912, 'keiths': 18913, 'cameramen': 18914, 'wendys': 18915, 'mcdonald': 18916, 'breeding': 18917, 'brokeback': 18918, 'hik': 18919, 'homework': 18920, 'gzoho': 18921, 'spitfire': 18922, 'post’s': 18923, 'maguir': 18924, 'rocky’s': 18925, 'burgled': 18926, 'sizes': 18927, 'skinnygirl': 18928, 'buried': 18929, 'mary’s': 18930, 'beside': 18931, 'althorp': 18932, 'location': 18933, 'months’': 18934, 'zellner': 18935, 'amyschumer': 18936, '“here’s': 18937, 'to…”': 18938, 'elites': 18939, 'buttnaked': 18940, 'dimitri': 18941, 'bor': 18942, 'exgf': 18943, 'inauguration': 18944, 'burk': 18945, 'usu': 18946, 'assist': 18947, '‘crazy’': 18948, '‘majorly': 18949, 'immedi': 18950, 'isol': 18951, 'cairo': 18952, 'headrest': 18953, 'rumble': 18954, 'lainie': 18955, 'kazan': 18956, 'shoplift': 18957, 'hundreds': 18958, 'fivestar': 18959, 'dinners': 18960, 'peanuts': 18961, 'bulgaria': 18962, 'televised': 18963, '‘inappropriate’': 18964, 'bingewatching': 18965, 'dyer’s': 18966, 'massaging': 18967, 'dannielynn': 18968, 'birkhead': 18969, 'inst': 18970, 'pigment': 18971, 'decoration': 18972, 'meaty': 18973, 'influences': 18974, 'vand': 18975, 'safaree': 18976, '‘handson’': 18977, 'artist’': 18978, 'waistline': 18979, 'barelythere': 18980, 'worshipping': 18981, 'goreski': 18982, 'janetti': 18983, 'apnea': 18984, 'paxton': 18985, '“awful”': 18986, 'yogaesoteric': 18987, '‘satanic’': 18988, 'ritually': 18989, '“they': 18990, 'ged”': 18991, '‘pump': 18992, 'confuses': 18993, 'roasting': 18994, 'faithevanscnnmistak': 18995, 'francesca': 18996, 'hrc': 18997, 'conversion': 18998, 'campy': 18999, 'gothic': 19000, 'aesthet': 19001, 'starcrossed’': 19002, 'saturdays': 19003, 'lowrated': 19004, 'giudici': 19005, 'adamari': 19006, 'conquer': 19007, 'kendall’s': 19008, 'washingtonlevel': 19009, 'picasso': 19010, 'corn': 19011, 'maz': 19012, 'numberone': 19013, 'poked': 19014, 'petit': 19015, 'takedown': 19016, 'traumatizing': 19017, '‘bleaching': 19018, 'syndrome’': 19019, 'chrome': 19020, 'salonga': 19021, '‘mulan’': 19022, 'segerstrom': 19023, 'valuable': 19024, '“desperate”': 19025, '‘viral': 19026, 'sensation’': 19027, 'humor': 19028, 'notranjosti': 19029, 'sistema': 19030, 'podpore': 19031, 'kako': 19032, 'njeni': 19033, 'najbližji': 19034, 'odnosi': 19035, 'ohranili': 19036, 'upadali': 19037, 'skozi': 19038, 'leta': 19039, '‘on': 19040, 'hold’': 19041, 'onthe': 19042, 'fantast': 19043, 'eyesight': 19044, 'hostess': 19045, 'mostess®': 19046, 'popculture': 19047, 'levin': 19048, 'roasted': 19049, 'daughter—thanks': 19050, 'caitlins': 19051, 'composer': 19052, 'alf': 19053, 'clausen': 19054, 'radiohead': 19055, 'uncl': 19056, 'seriesfinale': 19057, 'flack': 19058, 'technically': 19059, 'correa': 19060, 'victori': 19061, 'checklist': 19062, '‘soulmate’': 19063, 'hoppy': 19064, 'forensic': 19065, 'evaluations': 19066, 'bryn': 19067, 'bodyguard': 19068, 'girlfriends': 19069, 'skippy': 19070, 'skippyisheretostay': 19071, 'runaway': 19072, 'darker’': 19073, 'catastroph': 19074, 'guarded”': 19075, 'revive': 19076, '“stem': 19077, 'cells': 19078, 'vodka”': 19079, '‘amor': 19080, 'amor': 19081, 'amor’': 19082, 'stumbled': 19083, 'nipplegate': 19084, 'jenkins’': 19085, 'tnt': 19086, 'doe': 19087, 'do': 19088, '‘tearful’': 19089, 'simplify': 19090, 'saint’s': 19091, 'uncovers': 19092, 'liotta': 19093, 'noreaster': 19094, 'glossi': 19095, 'houstons': 19096, 'cissy': 19097, 'unfathom': 19098, 'feeds': 19099, 'homme': 19100, '‘pain’': 19101, 'antilatino': 19102, 'dares': 19103, 'goanywhere': 19104, 'bowed': 19105, '‘dreaming’': 19106, 'foam': 19107, 'fifa': 19108, 'russia™': 19109, 'parted': 19110, 'betsy': 19111, 'devos': 19112, 'styled': 19113, 'minist': 19114, 'heards': 19115, 'mist': 19116, '“wicked”': 19117, 'pathological': 19118, 'housem': 19119, 'moral’': 19120, '‘whose': 19121, 'boat’': 19122, 'screech': 19123, 'lighthous': 19124, 'midwest': 19125, 'vitamin': 19126, 'drip': 19127, 'mccarthyism': 19128, 'wiretapping': 19129, 'skywalker': 19130, 'millennium': 19131, 'falcon': 19132, 'kiwi': 19133, 'shameful': 19134, 'haggis': 19135, 'autobiography': 19136, '‘booty': 19137, 'rome': 19138, '‘rape’': 19139, 'ashanti': 19140, 'changer': 19141, 'sobering': 19142, 'examination': 19143, '“nirvana': 19144, 'blonde”': 19145, '‘pathological': 19146, 'scoobydoo': 19147, 'arrogant': 19148, 'worldclass': 19149, 'prima': 19150, 'dionna': 19151, 'rascals': 19152, 'wolverine': 19153, 'centr': 19154, 'professes': 19155, 'substandard': 19156, 'yanic': 19157, 'truesdale': 19158, '‘carmen': 19159, 'sandiego’': 19160, 'sacrificed': 19161, 'krazy': 19162, 'streamline': 19163, 'insecurities': 19164, 'astrology': 19165, '‘surprised’': 19166, 'unlikes': 19167, 'dueling': 19168, 'tarantino’s': 19169, 'madisons': 19170, 'sky': 19171, 'bbmas': 19172, 'calming': 19173, 'lightning': 19174, 'fined': 19175, '“modern': 19176, 'tupac”': 19177, 'boing': 19178, 'bo': 19179, 'anymore”': 19180, 'destini': 19181, 'upgraded': 19182, 'barges': 19183, 'sesh': 19184, 'ignited': 19185, 'toback': 19186, 'transl': 19187, 'housing': 19188, 'garfield’s': 19189, 'hearingimpaired': 19190, 'volume': 19191, 'olympias': 19192, 'shallows': 19193, 'meters': 19194, 'torrential': 19195, 'downpour': 19196, 'activewear': 19197, 'trumpish': 19198, 'unpleasant': 19199, 'attitudes': 19200, 'striking': 19201, 'insulting': 19202, 'aydin': 19203, 'osbourn': 19204, 'conditional': 19205, 'mahershala': 19206, 'profiling': 19207, 'dailybreak': 19208, 'clinical': 19209, 'jabs': 19210, 'campbel': 19211, 'hernandezs': 19212, 'shayanna': 19213, 'mcfarlane': 19214, 'fassbend': 19215, 'frontmans': 19216, 'pictori': 19217, '‘love’': 19218, 'foreword': 19219, 'autistic': 19220, 'terence’s': 19221, '‘charles': 19222, 'charge’': 19223, 'smithsonian': 19224, 'sassi': 19225, 'photobombing': 19226, 'ave': 19227, '‘if': 19228, 'trouble’': 19229, 'siders': 19230, 'black’s': 19231, 'kirakira': 19232, 'shadows': 19233, 'party—and': 19234, 'vultur': 19235, 'fishtail': 19236, 'plait': 19237, 'xscape': 19238, 'tagged': 19239, 'whathappensattheabbey': 19240, 'salsa': 19241, 'dmx': 19242, 'redux': 19243, 'exhilarating': 19244, 'stirring': 19245, 'cringing': 19246, 'gladis': 19247, '‘cloud': 19248, 'nine’': 19249, 'slides': 19250, 'reviewed': 19251, 'wonders': 19252, '‘misses’': 19253, '‘them': 19254, '‘overwhelming’': 19255, 'scottie': 19256, 'designer’s': 19257, 'hong': 19258, 'tricked': 19259, 'cohn': 19260, 'tracing': 19261, 'steep': 19262, 'descent': 19263, 'untouchable': 19264, 'inviting': 19265, 'prejudice': 19266, 'burn': 19267, 'concluding': 19268, '‘sabrina': 19269, 'witch’': 19270, 'gypsy': 19271, 'te': 19272, 'faces–including': 19273, 'ezekiel': 19274, 'drinkers': 19275, 'honeys': 19276, 'seats': 19277, 'weasels': 19278, '“orange': 19279, 'shatters': 19280, 'jeopardi': 19281, 'okoye': 19282, '‘austere’': 19283, 'verify': 19284, 'trebunskaya': 19285, 'pussycats': 19286, 'teamsters': 19287, 'paddington': 19288, 'coal': 19289, 'bladerunn': 19290, 'apprentic': 19291, '‘cowboy’': 19292, 'sammy': 19293, 'sosa': 19294, 'certainly': 19295, 'allnew': 19296, 'prebirthday': 19297, 'fatone': 19298, 'heavenly': 19299, 'kerrigans': 19300, 'rentals': 19301, 'hotspot': 19302, 'mertz': 19303, 'duhamels': 19304, '“refuses': 19305, 'kourtney”': 19306, 'haibons': 19307, 'residuals': 19308, 'midi': 19309, 'participants': 19310, 'swedens': 19311, 'graffiti': 19312, 'choreography': 19313, 'flamm': 19314, 'invention': 19315, 'breakthrough': 19316, 'gtl': 19317, 'vacation’s': 19318, 'thunder': 19319, 'seg': 19320, 'phillippe’s': 19321, 'what': 19322, 'hines': 19323, 'head’': 19324, 'rfk': 19325, 'energy': 19326, 'beneficial': 19327, 'honeymoons': 19328, 'islands': 19329, 'urged': 19330, '‘reclusive’': 19331, 'maybellin': 19332, 'overwhelmed': 19333, 'titans': 19334, 'robins': 19335, 'kendalls': 19336, 'applaud': 19337, 'octavia’s': 19338, 'unironically': 19339, 'recite': 19340, 'ancestor’s': 19341, 'ageknow': 19342, 'seyfrieds': 19343, 'giants': 19344, '“respect”': 19345, 'airing': 19346, 'stamo': 19347, 'pancreatic': 19348, 'commemorates': 19349, 'davon': 19350, 'fleming': 19351, 'mlk': 19352, '‘morning': 19353, 'joe’': 19354, 'overjoy': 19355, 'liugets': 19356, 'leaner': 19357, 'sandlot': 19358, 'cited': 19359, 'loaded': 19360, 'jolielookalik': 19361, '‘maisel’': 19362, 'dannemora’': 19363, 'visibility': 19364, '“clown”': 19365, 'trebek': 19366, 'subdural': 19367, 'hematoma': 19368, 'banderas': 19369, 'givenchy': 19370, 'seagrams': 19371, 'nabbed': 19372, 'smallville': 19373, 'sigler’s': 19374, 'leeri': 19375, 'roastchicken': 19376, 'lecy': 19377, 'goranson': 19378, 'doubledate': 19379, 'withtom': 19380, 'chlo': 19381, 'tailoring': 19382, 'aryabrienne': 19383, 'censored': 19384, 'spicer’s': 19385, 'resign': 19386, 'oneliners': 19387, 'sucked': 19388, 'krasinski’s': 19389, 'office’': 19390, 'badly': 19391, 'jhene': 19392, 'yovanna': 19393, 'ventura': 19394, 'buttoned': 19395, 'outrage': 19396, 'sacred': 19397, 'andor': 19398, 'tangl': 19399, 'cheryls': 19400, 'cah': 19401, 'dictator': 19402, 'vladimir': 19403, 'putin': 19404, 'thumbs': 19405, 'motorsport': 19406, 'bodyhugging': 19407, 'presidency': 19408, 'trixie': 19409, '‘robsten’': 19410, 'unhealthy': 19411, 'habits': 19412, 'limiting': 19413, 'bones': 19414, 'suitcas': 19415, 'visa': 19416, 'jesuit': 19417, 'biscuits': 19418, 'smothered': 19419, 'syrup': 19420, '“totalitarian': 19421, 'order”': 19422, 'skyler': 19423, 'kaius': 19424, 'snuggl': 19425, 'googling': 19426, 'swarming': 19427, 'tarantula': 19428, 'plagued': 19429, 'retreating': 19430, 'tiff': 19431, 'worrisom': 19432, 'jloaffleck': 19433, 'uncanny': 19434, 'rees': 19435, 'delays': 19436, 'zebraprint': 19437, 'prix': 19438, 'sincere': 19439, 'appreciate': 19440, 'ordinariness': 19441, '‘why': 19442, 'fishbowl': 19443, 'jackjack': 19444, 'genuine': 19445, 'unfiltered': 19446, 'timeout': 19447, 'whiski': 19448, 'tonys': 19449, 'madeit': 19450, 'kanye’s': 19451, 'adg': 19452, 'hyland’s': 19453, 'lusting': 19454, 'connolli': 19455, 'o’malley': 19456, 'everlasting': 19457, 'faceoff': 19458, 'fiasco': 19459, 'argentina': 19460, 'souths': 19461, 'latinos': 19462, 'drastic': 19463, 'buzzcut': 19464, '‘miserable’': 19465, '‘off': 19466, 'hill’s': 19467, 'leaps': 19468, 'legend’s': 19469, '“nice”': 19470, '‘torn’': 19471, 'organizations': 19472, 'uniform': 19473, '‘parity': 19474, 'transparency’': 19475, 'inequity': 19476, 'teflon': 19477, 'scandalplagued': 19478, 'golf': 19479, 'unbuttoned': 19480, 'commentary': 19481, 'kerrs': 19482, 'weddingday': 19483, 'phon': 19484, 'caution': 19485, 'benoist': 19486, '“in': 19487, 'of”': 19488, 'indefens': 19489, 'jamora': 19490, 'superstar’': 19491, 'morena': 19492, 'baccarin': 19493, 'eonlinecom': 19494, 'forte': 19495, 'hbos': 19496, 'rsvpd': 19497, 'marty': 19498, 'caffreys': 19499, 'lifelong': 19500, 'obv': 19501, 'unsparing': 19502, 'honesty': 19503, 'demons': 19504, 'turtl': 19505, 'needles': 19506, 'fivefigure': 19507, 'added': 19508, 'gerber’s': 19509, 'week—a': 19510, '‘evil’': 19511, 'inappropri': 19512, 'hitch': 19513, 'four—and': 19514, 'future★': 19515, 'frequent': 19516, 'adore': 19517, 'kristmas': 19518, 'diegos': 19519, 'sudeiki': 19520, 'traitor': 19521, 'willis’': 19522, 'adoring': 19523, 'dramafilled': 19524, 'rubbing': 19525, 'cudi': 19526, '“father': 19527, 'pt': 19528, 'brazilian': 19529, 'bts’': 19530, 'waite': 19531, 'ballerinis': 19532, 'harbor': 19533, 'itonya': 19534, 'intern': 19535, 'bonnie': 19536, 'clyd': 19537, '‘marital': 19538, 'problems’': 19539, '‘girl': 19540, '‘boy': 19541, 'pred': 19542, '‘kimkanye': 19543, 'verses': 19544, 'tonight’s': 19545, 'sidebyside': 19546, 'denis': 19547, 'stabbed': 19548, 'idiot': 19549, 'chopard': 19550, 'happening–with': 19551, 'linked': 19552, 'brussels': 19553, 'cassidy’s': 19554, 'invasion': 19555, 'keo': 19556, 'motsep': 19557, 'vowing': 19558, 'celibate’': 19559, 'pitched': 19560, '‘red': 19561, 'sparrow’': 19562, 'ravenels': 19563, '‘suits’': 19564, 'stories”': 19565, 'responders': 19566, 'java': 19567, 'dispels': 19568, 'dubbed': 19569, '“america’s': 19570, 'guy’s': 19571, 'maytreanors': 19572, 'mele': 19573, 'burrusss': 19574, 'nortons': 19575, 'harlem': 19576, 'schwarzenegger’s': 19577, 'summertofall': 19578, '‘bohemian': 19579, 'rhapsody’': 19580, 'monáe': 19581, 'resurgence': 19582, 'brother’s': 19583, 'openness': 19584, 'impulses': 19585, 'aris': 19586, 'insert': 19587, 'whoa': 19588, 'reckoning': 19589, 'learnings': 19590, 'transplants': 19591, 'village': 19592, 'stocked': 19593, 'tind': 19594, 'twists': 19595, 'camillas': 19596, 'triumph': 19597, 'norvell': 19598, 'point”': 19599, 'kurts': 19600, 'sparked': 19601, 'cursed': 19602, 'child’': 19603, 'play’s': 19604, 'hermion': 19605, 'axel': 19606, 'spike': 19607, 'rogue': 19608, 'profanely': 19609, 'fanciest': 19610, 'blakey': 19611, 'poke': 19612, 'riffs': 19613, 'cruisekatie': 19614, 'flock': 19615, 'fashionably': 19616, 'cardiff': 19617, '‘les': 19618, 'ensembles': 19619, 'rivalry': 19620, 'accurately': 19621, 'reclaiming': 19622, 'taller': 19623, 'entrepreneurial': 19624, 'instincts': 19625, 'feelgood': 19626, 'tindal': 19627, 'smarts': 19628, 'porowski’s': 19629, 'doppelgänger': 19630, '‘terrible’': 19631, 'totaled': 19632, 'chace': 19633, 'dapper': 19634, 'maralago': 19635, 'neal': 19636, 'preferred': 19637, 'pilotto': 19638, 'arlen': 19639, 'outlook': 19640, 'youd': 19641, 'loudon': 19642, 'vaca': 19643, '\\x91real': 19644, 'tempers': 19645, 'rompers': 19646, 'grabandgo': 19647, '‘street': 19648, 'cred’': 19649, '‘coyote': 19650, 'ugly’': 19651, 'screenings': 19652, 'minority': 19653, 'likelihood': 19654, 'entice': 19655, 'wilkinson’s': 19656, 'degre': 19657, 'motown': 19658, 'onion': 19659, 'williams’s': 19660, 'meagan': 19661, 'logic’s': 19662, 'increased': 19663, 'prevention': 19664, 'lifelin': 19665, 'morphs': 19666, 'siege': 19667, 'vinny': 19668, '‘nailed': 19669, '“bizarre”': 19670, 'categorically': 19671, 'advantage': 19672, 'kidder': 19673, 'arabia': 19674, 'ivankas': 19675, 'contradict': 19676, 'activ': 19677, 'allnatural': 19678, 'preggolip': 19679, 'raismans': 19680, 'nassers': 19681, 'frozens': 19682, 'sophomore': 19683, 'slump': 19684, 'sinéad': 19685, 'o’connor': 19686, '‘fed': 19687, 'adventure': 19688, 'screamin': 19689, 'validate': 19690, 'feys': 19691, 'forstmann': 19692, 'handbags': 19693, 'susie': 19694, 'essman': 19695, 'enthusiasm': 19696, 'tirade': 19697, 'motherinlaws': 19698, 'wak': 19699, 'slaps': 19700, 'darkness': 19701, 'dahmer': 19702, 'backderf': 19703, 'mutters': 19704, '‘oh': 19705, 'st’': 19706, 'assassin': 19707, 'oseary': 19708, 'groff': 19709, '‘maid': 19710, 'glitz': 19711, 'momentum': 19712, 'chemistry’': 19713, 'flawlessly': 19714, '‘borderline': 19715, 'abusive’': 19716, '‘ruined’': 19717, 'cedric': 19718, 'yarbrough': 19719, 'simon’s': 19720, 'yourself”': 19721, 'aluminum': 19722, 'foilchic': 19723, 'apprentice': 19724, 'harrisons': 19725, 'heartfelt—and': 19726, 'hilarious—thank': 19727, 'cassadee': 19728, 'palladio': 19729, 'bliges': 19730, 'sallings': 19731, 'cremated': 19732, 'federal': 19733, 'poll': 19734, 'disaster’': 19735, '‘giving': 19736, 'advice’': 19737, '‘our': 19738, 'mahone': 19739, 'mccann’s': 19740, '‘whatever': 19741, 'takes’': 19742, 'vents': 19743, 'selfcentered': 19744, 'measur': 19745, 'beware': 19746, 'cheaters': 19747, 'spouse': 19748, 'champs': 19749, 'juliette': 19750, 'haircuts': 19751, 'cowboy': 19752, 'rural': 19753, 'bootyperfecting': 19754, 'horans': 19755, '’’': 19756, 'cry’': 19757, 'priestly': 19758, 'fierce': 19759, 'gilford': 19760, 'kiele': 19761, 'fineamid': 19762, 'hyperthyroidism': 19763, 'awards®': 19764, 'cruise’': 19765, 'conov': 19766, 'estates': 19767, '‘financially': 19768, 'logistically': 19769, 'impossible’': 19770, 'genderbending': 19771, 'polyamorous': 19772, '‘pointless’': 19773, 'duty': 19774, 'outdraked': 19775, 'lifelike': 19776, 'dar': 19777, 'recruiting': 19778, 'particular': 19779, 'hindrances': 19780, 'safai’s': 19781, 'tactics': 19782, '‘sneak': 19783, 'spot’': 19784, 'blairs': 19785, 'wink': 19786, 'ivar': 19787, 'nutty': 19788, 'jinx': 19789, 'emberlin': 19790, 'apologized': 19791, 'boutique': 19792, 'swims': 19793, 'pumps': 19794, 'laduré': 19795, 'bowies': 19796, 'bowie': 19797, 'doomed': 19798, 'pegg': 19799, 'grohl’s': 19800, '“uncomfortable”': 19801, 'wolf’': 19802, 'abound': 19803, 'confidential’': 19804, '‘thankfully': 19805, 'rebuilding': 19806, 'literal': 19807, 'lived': 19808, 'groundhogs': 19809, 'bench': 19810, 'mathilde': 19811, 'belgium': 19812, 'kid’s': 19813, 'sporting': 19814, 'rhythm': 19815, 'sect': 19816, 'moanastyle': 19817, 'bleaching': 19818, 'stokes': 19819, '“lockdown”': 19820, 'lumet': 19821, 'violated': 19822, 'sixyear': 19823, 'gotterba': 19824, '‘break': 19825, 'silence’': 19826, '“blow': 19827, 'whistle': 19828, 'ring”': 19829, 'pinkettsmith': 19830, 'pleasures': 19831, 'notsorandom': 19832, 'backless': 19833, 'elvis': 19834, '”that': 19835, 'smash”': 19836, 'groupie': 19837, 'chop': 19838, 'groupon': 19839, 'clapped': 19840, 'flaky': 19841, 'rave': 19842, 'arrowvers': 19843, 'manigault': 19844, 'five’': 19845, 'mourning': 19846, 'runaways': 19847, 'seriespremiere': 19848, 'morningtonight': 19849, 'sick’': 19850, 'jd': 19851, 'albright': 19852, 'natur': 19853, 'traditionbreaking': 19854, 'loreal': 19855, 'cosmet': 19856, '’ladies': 19857, '‘mindy': 19858, 'ike': 19859, 'barinholtz': 19860, 'tinseltown': 19861, 'terrors': 19862, 'filmdom': 19863, 'phantoms': 19864, 'movieland': 19865, 'ogden': 19866, 'raves': 19867, '‘loving’': 19868, 'glued': 19869, 'bostons': 19870, 'counterprotestor': 19871, 'perky': 19872, 'studios’': 19873, 'mcu': 19874, 'velcro': 19875, 'amassing': 19876, 'horseback': 19877, 'death’': 19878, 'chances': 19879, 'bro’': 19880, '“terrified”': 19881, 'elfman': 19882, 'aggressive': 19883, 'fatally': 19884, 'gunns': 19885, 'innocence': 19886, 'bennington’s': 19887, 'fallwinter': 19888, 'purser': 19889, 'queerbait': 19890, 'pretty’': 19891, 'weddingdress': 19892, 'inaugur': 19893, 'pretending': 19894, 'danson': 19895, 'shooketh': 19896, 'birthdays': 19897, 'fractured': 19898, 'uso': 19899, '‘having': 19900, 'relations’': 19901, '‘justice': 19902, 'league’': 19903, 'incredibles’': 19904, 'edna': 19905, 'mode': 19906, 'harper’s': 19907, 'devon': 19908, 'dreamiest': 19909, 'married’': 19910, 'fri': 19911, 'fairley': 19912, 'blossomed': 19913, 'fullfledged': 19914, 'decemberists': 19915, 'unused': 19916, '“ben': 19917, 'franklin’s': 19918, 'song”': 19919, 'bonanza': 19920, 'teacher': 19921, 'royally': 19922, 'thighs': 19923, 'woodsen': 19924, 'levels’': 19925, 'multi': 19926, 'healthylooking': 19927, 'dab': 19928, '“story': 19929, 'oj”': 19930, '‘exhausted’': 19931, 'untruthful': 19932, 'cattrall–sarah': 19933, '‘using’': 19934, 'crystals': 19935, 'fabr': 19936, 'postbachelor': 19937, 'weighin': 19938, 'pjs': 19939, 'observe': 19940, 'robotic': 19941, 'fibromyalgia': 19942, 'langdon': 19943, '‘constant': 19944, 'fear’': 19945, 'maternal': 19946, 'fred': 19947, 'aremisens': 19948, 'argento’s': 19949, '‘hypocrisy’': 19950, 'flirtation': 19951, 'jennifers': 19952, 'wrestlers': 19953, 'cosmopolitan': 19954, 'philippines': 19955, 'messed': 19956, 'surfer': 19957, 'barbados': 19958, '‘’bad': 19959, 'ass’’': 19960, 'momsen': 19961, 'sonny': 19962, 'spider': 19963, 'sanya': 19964, 'richardsross': 19965, 'abortion': 19966, 'consciousness': 19967, '“la': 19968, '“technically”': 19969, 'prettier': 19970, 'goofy': 19971, 'antigua': 19972, '‘enchanté’': 19973, 'vocals': 19974, 'assang': 19975, 'bounty': 19976, 'chapman’s': 19977, 'unless': 19978, 'ransom': 19979, 'stecker': 19980, 'grownup': 19981, 'business—and': 19982, 'heritag': 19983, 'wu': 19984, 'capsul': 19985, 'dives': 19986, 'phelp': 19987, 'benioff': 19988, 'indian': 19989, 'express': 19990, 'gottschalk': 19991, 'awakened': 19992, 'reality’': 19993, 'cats': 19994, 'pendant': 19995, 'fdny': 19996, 'badge': 19997, 'lithgow': 19998, 'gyllenha': 19999, 'vietnam': 20000, 'gulf': 20001, 'astonishing': 20002, 'skinnyjean': 20003, '‘mommy’s': 20004, 'thrill': 20005, '‘delicate’': 20006, 'invades': 20007, 'fabricated': 20008, 'dazzled': 20009, 'jaynes': 20010, 'truthful': 20011, 'mccarthi': 20012, 'dres': 20013, '‘footnotes': 20014, 'oj”‘': 20015, 'textured': 20016, 'shouting': 20017, '‘dryness’': 20018, 'wildly': 20019, 'elegant': 20020, 'promise’': 20021, 'gav': 20022, 'illiteracy': 20023, 'overcam': 20024, 'unearthed': 20025, 'premios': 20026, 'juventud': 20027, 'univisions': 20028, 'rumer': 20029, 'gentl': 20030, 'flesh': 20031, 'stalled': 20032, 'soulcrush': 20033, 'managing': 20034, 'lightening': 20035, '‘lure’': 20036, 'diary': 20037, 'lauren’s': 20038, 'creations': 20039, 'lulu': 20040, 'talitha': 20041, 'document': 20042, 'kash': 20043, '‘meaning': 20044, 'spamming': 20045, 'rat': 20046, 'awar': 20047, 'tupper': 20048, 'yanny': 20049, 'uninvited': 20050, 'nastia': 20051, 'liukin': 20052, 'glowy': 20053, 'noms': 20054, 'chapters’': 20055, 'unlike': 20056, 'nasim': 20057, 'doutzen': 20058, 'kro': 20059, 'raises': 20060, 'sandiego': 20061, 'paramed': 20062, 'noah’s': 20063, 'malinas': 20064, 'downtime': 20065, 'clarita': 20066, 'frontrunner': 20067, 'boycotting': 20068, 'yeun': 20069, 'glenn’s': 20070, '‘existential': 20071, 'overconditioning': 20072, 'dixon': 20073, 'dubs': 20074, 'technology': 20075, 'houghton': 20076, 'bennett': 20077, 'jaymes': 20078, '“learn': 20079, 'uplifting': 20080, 'lively’s': 20081, 'pastoral': 20082, 'eve—if': 20083, 'ouzounian': 20084, 'offlimits': 20085, 'party’': 20086, 'committing': 20087, 'anatomy‘s': 20088, 'milestones': 20089, 'painful’': 20090, 'downeys': 20091, 'decorate': 20092, 'hensons': 20093, 'nickelodeon’s': 20094, 'puffy': 20095, 'cancellations': 20096, 'panabaker': 20097, 'flashs': 20098, 'savitar': 20099, 'beans': 20100, 'ethical': 20101, 'debate’': 20102, '“turnin’': 20103, 'chained': 20104, 'whale': 20105, 'morenos': 20106, 'ovation': 20107, 'hood': 20108, 'georginas': 20109, 'sunderland': 20110, 'perman': 20111, 'scientologist': 20112, 'junglethemed': 20113, 'gravy': 20114, 'shortag': 20115, 'rihannaleonardo': 20116, '‘jealous’': 20117, 'noh': 20118, 'rodman': 20119, 'natgeo': 20120, 'she’': 20121, 'handing': 20122, '“best': 20123, 'show”': 20124, 'miraval': 20125, 'jarecki': 20126, 'wickstead': 20127, 'raf': 20128, 'eyegrabbing': 20129, 'feather': 20130, 'babes': 20131, 'selfimposed': 20132, 'payday': 20133, 'discreet': 20134, 'ysl': 20135, 'beauté': 20136, 'rewriting': 20137, 'addition': 20138, 'tamra’s': 20139, 'depressed': 20140, 'california’s': 20141, '‘biblical': 20142, 'disasters’': 20143, 'punishment': 20144, '‘embracing': 20145, 'satan’': 20146, 'postfacelift': 20147, 'stless': 20148, 'morissette': 20149, 'oughta': 20150, 'shaw': 20151, 'soapy': 20152, '\\x91the': 20153, 'librarians’': 20154, '“accept”': 20155, 'millennial': 20156, 'kilm': 20157, 'fitz': 20158, 'lecter': 20159, '“scream': 20160, 'queens”': 20161, 'jax’s': 20162, 'handed': 20163, 'inflight': 20164, 'neighborhood': 20165, '‘house’': 20166, 'iq': 20167, '“start”': 20168, 'brilliantli': 20169, 'hathaway’s': 20170, 'lovehateredemption': 20171, 'bootcut': 20172, 'overstockcom': 20173, 'disgust': 20174, 'catholic': 20175, 'purse': 20176, 'smokin': 20177, 'stylishly': 20178, 'admiss': 20179, 'money’': 20180, 'opera': 20181, 'risqué': 20182, 'knits': 20183, 'dwi': 20184, 'anticipated': 20185, 'trainee': 20186, 'midwif': 20187, 'unperturbed': 20188, 'squads': 20189, 'dunhams': 20190, 'problem’': 20191, 'ilana': 20192, 'glazer': 20193, 'jacobson': 20194, 'skarsgards': 20195, '‘rhobh’': 20196, 'ladies’': 20197, 'markle’': 20198, 'accompanied': 20199, '‘dearly’': 20200, '‘strong': 20201, 'vampires': 20202, 'streeps': 20203, 'vice': 20204, 'arkansa': 20205, 'bursting': 20206, '“snapped”': 20207, 'ranting': 20208, 'frill': 20209, 'hem': 20210, 'purim': 20211, 'spiel': 20212, 'slated': 20213, 'esth': 20214, 'globes’': 20215, 'timely': 20216, 'wine’': 20217, '‘inevitable’': 20218, 'homelessness': 20219, 'eagle': 20220, 'simon’': 20221, 'homewreck': 20222, 'postengagement': 20223, 'quadrangl': 20224, 'egarian': 20225, 'ventimiglias': 20226, 'charttopping': 20227, 'winnie': 20228, 'harlow': 20229, 'model’': 20230, 'addison': 20231, 'timlin': 20232, 'sprinkle': 20233, 'usefully': 20234, 'dare’': 20235, '‘ignoring’': 20236, '\\u202a\\u202akristen': 20237, 'stewart\\u202c': 20238, '\\u202asaturday': 20239, 'live\\u202c\\u202c': 20240, 'latesummer': 20241, 'namedrop': 20242, 'genr': 20243, 'cuties': 20244, 'evanescence': 20245, 'rodgers’': 20246, 'breslin': 20247, '‘uncomfortable': 20248, 'questions’': 20249, 'ladder': 20250, 'turmoil': 20251, 'raunchy': 20252, 'ringo': 20253, 'starr': 20254, 'gibb': 20255, 'knighthoods': 20256, 'grill': 20257, 'plumps': 20258, 'giphi': 20259, '‘satan': 20260, 'misunderstood’': 20261, 'ambulance': 20262, 'riots': 20263, 'grossed': 20264, 'smok': 20265, 'gil': 20266, 'duldulao': 20267, '‘state': 20268, 'savanna': 20269, 'updated': 20270, 'sheep': 20271, 'nativity': 20272, 'rewore': 20273, 'wing': 20274, 'sorkin': 20275, '‘monster’': 20276, 'zlist': 20277, 'sly': 20278, 'pisses': 20279, 'tufted': 20280, 'upholstered': 20281, '‘marvelous’': 20282, '—glamour': 20283, '‘family': 20284, 'debilitating': 20285, 'pits': 20286, 'exploitative': 20287, '‘marvel’s': 20288, 'dagger’': 20289, 'likely’': 20290, 'criticise': 20291, 'recommend': 20292, 'phillipa': 20293, 'coan': 20294, 'kardashiankanye': 20295, 'cortisone': 20296, 'acid': 20297, 'peels': 20298, 'ampamp': 20299, 'barrons': 20300, 'masterminded': 20301, '”happy”': 20302, 'mommies': 20303, 'seat’': 20304, 'seating': 20305, 'gripping': 20306, 'chappel': 20307, 'existed': 20308, 'fatu': 20309, 'perris': 20310, 'luann’s': 20311, 'sans': 20312, 'underwent': 20313, 'reassign': 20314, 'janel': 20315, '‘whaboom’': 20316, 'dailymot': 20317, 'carv': 20318, 'with…': 20319, 'jhené': 20320, '‘spoiling’': 20321, '“unreal”': 20322, 'camouflage': 20323, 'guilfoyle': 20324, 'resumé': 20325, '‘stripping’': 20326, 'sterl': 20327, 'wipe': 20328, 'redesign': 20329, 'weathers': 20330, 'recurring': 20331, 'diona': 20332, 'reasonov': 20333, 'sirianos': 20334, 'credentials': 20335, 'garner’s': 20336, '“unhireable”': 20337, 'ashamed': 20338, 'mcnearnys': 20339, 'bed—revisit': 20340, '“insanely': 20341, 'jealous”': 20342, 'televisions': 20343, 'cutout': 20344, 'materializes': 20345, 'peeloff': 20346, 'charcoal': 20347, 'oaks': 20348, 'rooftop': 20349, 'burgers': 20350, 'nagasus': 20351, 'hopkins': 20352, 'mercedes': 20353, 'javid': 20354, 'attorneys': 20355, '‘wet': 20356, 'teasing': 20357, 'juniors': 20358, 'vampirina': 20359, 'donovan’': 20360, 'xavier': 20361, 'dolan’s': 20362, 'dwayn': 20363, 'kents': 20364, 'vpr': 20365, '‘grub': 20366, 'worm’': 20367, 'chmerkovskiys': 20368, 'socialite': 20369, 'persona': 20370, 'dominos®': 20371, 'appreciation': 20372, 'controversially': 20373, 'devoted': 20374, 'incred': 20375, 'extensions': 20376, 'scratches': 20377, 'alway': 20378, 'juvonen': 20379, 'jelly': 20380, 'oreos': 20381, 'foul': 20382, 'aveng': 20383, 'contemplate': 20384, 'else’': 20385, 'glitt': 20386, 'intrigued': 20387, 'macklemore’s': 20388, '‘glorious’': 20389, 'declare': 20390, 'heroic': 20391, 'dietary': 20392, 'boseman’s': 20393, 'jaw': 20394, 'kroys': 20395, 'harm': 20396, 'antiharassment': 20397, 'rendezv': 20398, 'medically': 20399, 'induced': 20400, 'coma': 20401, 'grayson': 20402, 'rescues': 20403, 'cappella': 20404, 'britishphilanthropist': 20405, '‘reservations’': 20406, 'here\\x92s': 20407, 'cirque': 20408, 'du': 20409, 'aerialist': 20410, 'ferguson’s': 20411, 'abel': 20412, 'tesfayes': 20413, 'clarkes': 20414, 'june’s': 20415, '‘pumpkin’': 20416, 'parttime': 20417, 'swatch': 20418, 'citys': 20419, 'instylecom': 20420, 'irritated': 20421, 'flashed': 20422, 'overprotective': 20423, 'thoroughbreds': 20424, 'detainment': 20425, 'ellens': 20426, 'paints': 20427, 'ungrateful': 20428, 'poker': 20429, 'mcdormands': 20430, 'o’donnell’s': 20431, 'prescription': 20432, 'pill': 20433, 'powered': 20434, 'stayc': 20435, 'boykin’s': 20436, 'fancy': 20437, 'aninteresting': 20438, 'gentle': 20439, 'shor': 20440, 'perlongo': 20441, 'chin': 20442, 'shookus’': 20443, 'newtonjohn': 20444, 'decline': 20445, 'suiting': 20446, 'stuffi': 20447, 'disgraceful': 20448, 'wallace': 20449, 'typical': 20450, 'cuba': 20451, 'gooding': 20452, 'broadway’s': 20453, 'reservations': 20454, 'sante': 20455, 'brom': 20456, 'mcgraw’s': 20457, 'hygiene': 20458, 'bits': 20459, 'cheerleaderinspired': 20460, 'klein’s': 20461, 'postmortem': 20462, 'tyl': 20463, 'bündchens': 20464, 'baffling': 20465, 'crap': 20466, 'sl': 20467, '‘victoria': 20468, 'secret’': 20469, 'great’': 20470, 'goos': 20471, 'matron': 20472, 'live’s': 20473, 'suspend': 20474, 'indigest': 20475, 'exactli': 20476, 'copes': 20477, 'aweinspiring': 20478, 'frenzy': 20479, 'crashing': 20480, 'this”': 20481, 'hazard': 20482, 'chlamydia': 20483, 'fattened': 20484, '‘vice’': 20485, 'lovin': 20486, 'locicero': 20487, '‘harassing’': 20488, 'outtake': 20489, 'highend': 20490, 'exyankee': 20491, 'eighthour': 20492, 'caterina': 20493, 'scorsone': 20494, 'watchers': 20495, 'dumpl': 20496, 'sadden': 20497, 'properly': 20498, 'motiv': 20499, '‘hypocrite': 20500, 'preaching': 20501, 'ideals’': 20502, 'ambrosio': 20503, 'lunches': 20504, 'dora': 20505, 'ensure': 20506, '‘stand': 20507, 'ears': 20508, 'pierced': 20509, 'suspicion': 20510, 'resisting': 20511, 'easy—shop': 20512, 'grid': 20513, 'grung': 20514, 'parading': 20515, 'atop': 20516, '‘smallest': 20517, 'wound’': 20518, 'stab': 20519, 'kavanaugh': 20520, 'newlyreleased': 20521, 'louisa': 20522, 'alcotts': 20523, '–but': 20524, 'rousey’s': 20525, 'jfks': 20526, 'schlossberg': 20527, 'insult': 20528, 'steampunk': 20529, 'cosplay': 20530, 'affleckmatt': 20531, '‘feartwd’': 20532, 'lennie': 20533, 'kelis’': 20534, '‘milkshake’': 20535, '‘lip': 20536, 'battle’': 20537, 'babylon': 20538, 'depravity': 20539, 'carr': 20540, 'baec': 20541, 'montia': 20542, 'sabbag': 20543, 'looking’': 20544, 'dorm': 20545, 'stanford': 20546, 'denouncing': 20547, 'rearranges': 20548, 'chairs': 20549, 'redacted': 20550, 'daya': 20551, 'wellgood': 20552, 'chantel': 20553, 'jeffries': 20554, 'alloccasion': 20555, 'galactic': 20556, 'scheme': 20557, 'bandaid': 20558, 'wasted': 20559, 'bowen’s': 20560, 'leavein': 20561, '“character': 20562, 'building”': 20563, 'nerv': 20564, 'osteen': 20565, 'megachurchs': 20566, 'doors': 20567, 'comey': 20568, 'sickness': 20569, 'survival': 20570, 'miserable’': 20571, 'brentwood': 20572, 'proud’': 20573, 'handled': 20574, '‘own': 20575, 'vivianne': 20576, 'catwoman': 20577, 'bookies': 20578, 'aaliyah’s': 20579, 'trendshop': 20580, 'eonlin': 20581, 'neighbour': 20582, 'sausage': 20583, 'split’': 20584, 'beysus': 20585, 'steroids': 20586, 'sensually': 20587, 'passage': 20588, 'foil': 20589, 'william’': 20590, 'iphon': 20591, 'erbert': 20592, 'abbie': 20593, 'hungri': 20594, 'alaric': 20595, 'knowl': 20596, 'regulars': 20597, 'randall’s': 20598, 'mandatory': 20599, 'bravolebrities': 20600, 'slain': 20601, 'loredana': 20602, 'nesci': 20603, 'hemorrhage': 20604, 'maxima’s': 20605, 'drews': 20606, 'slimes': 20607, 'bannon': 20608, 'chief': 20609, 'strategist': 20610, 'it’ll': 20611, 'offset’s': 20612, '‘god': 20613, 'liposuction': 20614, 'lo’s': 20615, 'ultrastrict': 20616, 'baited': 20617, 'consoled': 20618, 'gears': 20619, 'remembered': 20620, 'abilities': 20621, 'emotionless': 20622, 'bellarke': 20623, 'eonline': 20624, 'lobbied': 20625, 'regale': 20626, 'hough’s': 20627, 'firework': 20628, 'obvious': 20629, 'sculpted': 20630, 'mysteriously': 20631, 'wrc': 20632, 'edt': 20633, 'borrow': 20634, 'vuolo': 20635, '‘mom’s’': 20636, 'flaws': 20637, 'count': 20638, 'mangagement': 20639, 'dermatologists': 20640, 'relieving': 20641, '“danny': 20642, 'mindy”': 20643, 'luddington': 20644, 'tulle': 20645, 'couch': 20646, 'inch': 20647, 'amazons': 20648, 'collectibles': 20649, 'azeala’s': 20650, 'commonwealth': 20651, 'flexes': 20652, 'tender': 20653, '‘tiny': 20654, 'dancer’': 20655, '“sexist”': 20656, 'tweeting': 20657, 'western': 20658, '‘damsel’': 20659, '“definitely”': 20660, 'franchiseland': 20661, 'cicada': 20662, 'barry’s': 20663, 'adjusting': 20664, 'marlins': 20665, 'mascot': 20666, 'cliqu': 20667, 'ervin': 20668, 'ada': 20669, 'vox': 20670, 'entrepreneurs': 20671, 'olsens': 20672, 'osment': 20673, 'dev': 20674, 'patel': 20675, 'wenham': 20676, 'prepregnancy': 20677, 'prominent': 20678, 'cellulit': 20679, '‘a’': 20680, 'scarily': 20681, 'tarot': 20682, 'foreshadowed': 20683, 'swaggiest': 20684, 'morocco': 20685, 'sias': 20686, '‘single’': 20687, '‘happy’': 20688, 'sad’': 20689, 'halfsis': 20690, 'lowells': 20691, 'posttreatment': 20692, 'taiwan': 20693, 'chile': 20694, 'wackiest': 20695, 'monologu': 20696, 'quem': 20697, 'deve': 20698, 'ser': 20699, 'nomeada': 20700, 'votem': 20701, '‘socalled': 20702, 'judge’': 20703, 'temporarily': 20704, 'blocked': 20705, 'quotit': 20706, 'rightquot': 20707, 'vulnerability': 20708, 'tux': 20709, 'subsided': 20710, '‘dirt': 20711, 'diary’': 20712, 'boozingviolent': 20713, 'rages': 20714, 'volatile': 20715, 'hutchison': 20716, 'frightened': 20717, 'frontman': 20718, 'limbo': 20719, 'earhart': 20720, 'beefs': 20721, 'addit': 20722, 'cabellos': 20723, 'concentrate': 20724, 'collected': 20725, 'headlinerorg': 20726, '“blessed”': 20727, 'can’t’': 20728, 'everywhere': 20729, 'grimmie’s': 20730, 'humane': 20731, 'candis': 20732, 'cayn': 20733, 'strike': 20734, 'pooh': 20735}\n"
          ]
        }
      ]
    },
    {
      "cell_type": "code",
      "source": [
        "tokenizer.word_counts"
      ],
      "metadata": {
        "id": "Hl84WIhd_dGL",
        "colab": {
          "base_uri": "https://localhost:8080/"
        },
        "outputId": "c704123f-9678-42c2-93c3-302ae3aff9e4"
      },
      "execution_count": 36,
      "outputs": [
        {
          "output_type": "execute_result",
          "data": {
            "text/plain": [
              "OrderedDict([('donald', 101),\n",
              "             ('glov', 2),\n",
              "             ('everything', 136),\n",
              "             ('know', 203),\n",
              "             ('kevin', 86),\n",
              "             ('harts', 6),\n",
              "             ('alleged', 60),\n",
              "             ('extortion', 7),\n",
              "             ('case', 23),\n",
              "             ('cheating', 90),\n",
              "             ('scand', 51),\n",
              "             ('oscars', 92),\n",
              "             ('memorable', 17),\n",
              "             ('academy', 18),\n",
              "             ('awards', 332),\n",
              "             ('acceptance', 10),\n",
              "             ('speech', 55),\n",
              "             ('ariana', 100),\n",
              "             ('grande', 75),\n",
              "             ('arrives', 10),\n",
              "             ('england', 7),\n",
              "             ('manchester', 39),\n",
              "             ('benefit', 14),\n",
              "             ('concert', 68),\n",
              "             ('prince', 501),\n",
              "             ('royce', 4),\n",
              "             ('goes', 73),\n",
              "             ('shirtless', 25),\n",
              "             ('dancing', 93),\n",
              "             ('underwear', 8),\n",
              "             ('watch', 392),\n",
              "             ('hot', 58),\n",
              "             ('video', 359),\n",
              "             ('nikki', 101),\n",
              "             ('bella', 217),\n",
              "             ('really', 136),\n",
              "             ('disappointed', 7),\n",
              "             ('brie', 46),\n",
              "             ('asking', 14),\n",
              "             ('daniel', 36),\n",
              "             ('bryan', 53),\n",
              "             ('put', 21),\n",
              "             ('good', 98),\n",
              "             ('word', 20),\n",
              "             ('wwe', 33),\n",
              "             ('jessie', 45),\n",
              "             ('james', 217),\n",
              "             ('deckers', 6),\n",
              "             ('brother', 55),\n",
              "             ('involved', 12),\n",
              "             ('car', 70),\n",
              "             ('crash', 41),\n",
              "             ('seizur', 1),\n",
              "             ('shouldn’t', 3),\n",
              "             ('try', 20),\n",
              "             ('miranda', 93),\n",
              "             ('kerr’s', 1),\n",
              "             ('goto', 8),\n",
              "             ('pimple', 2),\n",
              "             ('treat', 16),\n",
              "             ('albert', 1),\n",
              "             ('ochoa', 1),\n",
              "             ('prom', 15),\n",
              "             ('date', 173),\n",
              "             ('kylie', 354),\n",
              "             ('jenn', 46),\n",
              "             ('ashley', 77),\n",
              "             ('graham', 28),\n",
              "             ('stumbles', 5),\n",
              "             ('towering', 1),\n",
              "             ('jimmy', 130),\n",
              "             ('choos', 2),\n",
              "             ('time', 195),\n",
              "             ('gala', 130),\n",
              "             ('red', 222),\n",
              "             ('carpet', 193),\n",
              "             ('bill', 40),\n",
              "             ('paxtons', 1),\n",
              "             ('family', 264),\n",
              "             ('files', 28),\n",
              "             ('wrongful', 2),\n",
              "             ('death', 180),\n",
              "             ('suit', 28),\n",
              "             ('jennifer', 724),\n",
              "             ('aniston', 262),\n",
              "             ('knew', 28),\n",
              "             ('matter', 7),\n",
              "             ('exhusband', 26),\n",
              "             ('brad', 429),\n",
              "             ('pitt', 359),\n",
              "             ('split', 327),\n",
              "             ('angelina', 320),\n",
              "             ('joli', 24),\n",
              "             ('caught', 40),\n",
              "             ('intimate', 16),\n",
              "             ('dinner', 44),\n",
              "             ('sienna', 24),\n",
              "             ('mil', 7),\n",
              "             ('inside', 205),\n",
              "             ('nicole', 140),\n",
              "             ('kidmans', 6),\n",
              "             ('long', 41),\n",
              "             ('winding', 1),\n",
              "             ('road', 21),\n",
              "             ('true', 69),\n",
              "             ('happi', 22),\n",
              "             ('hydrating', 1),\n",
              "             ('moisturizers', 1),\n",
              "             ('oily', 1),\n",
              "             ('acneprone', 1),\n",
              "             ('skin', 30),\n",
              "             ('brangelina', 5),\n",
              "             ('untold', 3),\n",
              "             ('story', 108),\n",
              "             ('jolie', 245),\n",
              "             ('ian', 20),\n",
              "             ('halperin', 1),\n",
              "             ('amazoncom', 35),\n",
              "             ('book', 46),\n",
              "             ('meryl', 31),\n",
              "             ('streep', 27),\n",
              "             ('shocked', 15),\n",
              "             ('tom', 212),\n",
              "             ('hanks', 16),\n",
              "             ('hasnt', 16),\n",
              "             ('oscarnominated', 1),\n",
              "             ('sinc', 3),\n",
              "             ('elton', 14),\n",
              "             ('john', 195),\n",
              "             ('performs', 23),\n",
              "             ('royal', 279),\n",
              "             ('wedding', 439),\n",
              "             ('recept', 7),\n",
              "             ('famous', 36),\n",
              "             ('women', 98),\n",
              "             ('waxing', 2),\n",
              "             ('shav', 1),\n",
              "             ('hoda', 35),\n",
              "             ('kotb', 30),\n",
              "             ('savannah', 28),\n",
              "             ('guthrie', 19),\n",
              "             ('today', 72),\n",
              "             ('show', 378),\n",
              "             ('team', 39),\n",
              "             ('reunite', 52),\n",
              "             ('families', 4),\n",
              "             ('olymp', 20),\n",
              "             ('shemar', 5),\n",
              "             ('moore', 51),\n",
              "             ('returns', 56),\n",
              "             ('guest', 38),\n",
              "             ('star', 540),\n",
              "             ('upcoming', 17),\n",
              "             ('criminal', 6),\n",
              "             ('minds', 2),\n",
              "             ('episod', 41),\n",
              "             ('hailey', 51),\n",
              "             ('baldwin', 63),\n",
              "             ('makes', 147),\n",
              "             ('basic', 5),\n",
              "             ('white', 74),\n",
              "             ('tank', 6),\n",
              "             ('look', 253),\n",
              "             ('cool', 21),\n",
              "             ('despite', 136),\n",
              "             ('season', 589),\n",
              "             ('issues', 28),\n",
              "             ('netflix', 91),\n",
              "             ('greenlights', 8),\n",
              "             ('reasons', 52),\n",
              "             ('amber', 70),\n",
              "             ('portwood', 22),\n",
              "             ('hints', 16),\n",
              "             ('might', 56),\n",
              "             ('married', 149),\n",
              "             ('boyfriend', 159),\n",
              "             ('andrew', 21),\n",
              "             ('glennon', 2),\n",
              "             ('kids', 151),\n",
              "             ('performance', 51),\n",
              "             ('grand', 11),\n",
              "             ('ole', 1),\n",
              "             ('opry', 1),\n",
              "             ('adorable', 68),\n",
              "             ('eric', 49),\n",
              "             ('final', 84),\n",
              "             ('wear', 65),\n",
              "             ('matte', 1),\n",
              "             ('lipstick', 9),\n",
              "             ('without', 54),\n",
              "             ('looking', 32),\n",
              "             ('like', 192),\n",
              "             ('your', 1),\n",
              "             ('breathe', 1),\n",
              "             ('review', 61),\n",
              "             ('–', 419),\n",
              "             ('garfield', 7),\n",
              "             ('fronts', 3),\n",
              "             ('poignant', 2),\n",
              "             ('biopic', 9),\n",
              "             ('wheelchair', 4),\n",
              "             ('pion', 1),\n",
              "             ('plan', 58),\n",
              "             ('get', 300),\n",
              "             ('matched', 2),\n",
              "             ('celebrity', 173),\n",
              "             ('groom', 3),\n",
              "             ('finds', 19),\n",
              "             ('sobriety', 13),\n",
              "             ('support', 74),\n",
              "             ('‘straightlaced’', 1),\n",
              "             ('girlfriend', 114),\n",
              "             ('neri', 23),\n",
              "             ('donatella', 3),\n",
              "             ('versace', 20),\n",
              "             ('biographi', 35),\n",
              "             ('la', 121),\n",
              "             ('toya', 3),\n",
              "             ('jackson', 155),\n",
              "             ('svu', 19),\n",
              "             ('renewed', 42),\n",
              "             ('nbc', 32),\n",
              "             ('fifty', 25),\n",
              "             ('shades', 43),\n",
              "             ('freed', 17),\n",
              "             ('liam', 119),\n",
              "             ('payne', 37),\n",
              "             ('rita', 28),\n",
              "             ('ora', 18),\n",
              "             ('tease', 14),\n",
              "             ('collabor', 3),\n",
              "             ('ranking', 16),\n",
              "             ('richest', 7),\n",
              "             ('real', 212),\n",
              "             ('housewives', 109),\n",
              "             ('every', 100),\n",
              "             ('bachelor', 174),\n",
              "             ('bekah', 10),\n",
              "             ('martinez', 9),\n",
              "             ('pregnant', 227),\n",
              "             ('first', 499),\n",
              "             ('child', 167),\n",
              "             ('miley', 130),\n",
              "             ('cyrus', 134),\n",
              "             ('hemsworth', 74),\n",
              "             ('honeymoon', 31),\n",
              "             ('sexuality', 10),\n",
              "             ('addiction', 12),\n",
              "             ('heartbreak', 23),\n",
              "             ('demi', 91),\n",
              "             ('lovatos', 9),\n",
              "             ('six', 28),\n",
              "             ('revealing', 17),\n",
              "             ('moments', 87),\n",
              "             ('documentari', 7),\n",
              "             ('jenner', 559),\n",
              "             ('travis', 103),\n",
              "             ('scott', 286),\n",
              "             ('make', 116),\n",
              "             ('fashion', 164),\n",
              "             ('event', 14),\n",
              "             ('debut', 61),\n",
              "             ('met', 150),\n",
              "             ('thomas', 27),\n",
              "             ('rhett', 5),\n",
              "             ('wife', 172),\n",
              "             ('open', 47),\n",
              "             ('turbulent', 2),\n",
              "             ('adoption', 5),\n",
              "             ('process', 12),\n",
              "             ('cancer', 39),\n",
              "             ('survivor', 19),\n",
              "             ('left', 42),\n",
              "             ('lumps', 1),\n",
              "             ('fat', 12),\n",
              "             ('bicep', 1),\n",
              "             ('payn', 2),\n",
              "             ('never', 104),\n",
              "             ('say', 135),\n",
              "             ('kim', 645),\n",
              "             ('kardashian', 970),\n",
              "             ('considering', 11),\n",
              "             ('career', 38),\n",
              "             ('polit', 4),\n",
              "             ('mom', 216),\n",
              "             ('struggles', 16),\n",
              "             ('postbaby', 16),\n",
              "             ('body', 121),\n",
              "             ('insecur', 3),\n",
              "             ('serena', 80),\n",
              "             ('williams', 152),\n",
              "             ('enjoys', 17),\n",
              "             ('surprise', 66),\n",
              "             ('filled', 6),\n",
              "             ('girlie', 1),\n",
              "             ('bridal', 6),\n",
              "             ('shower', 23),\n",
              "             ('miami', 47),\n",
              "             ('‘fuller', 2),\n",
              "             ('house’', 5),\n",
              "             ('announces', 56),\n",
              "             ('premiere', 94),\n",
              "             ('second', 107),\n",
              "             ('half', 10),\n",
              "             ('william', 124),\n",
              "             ('says', 475),\n",
              "             ('fergie', 34),\n",
              "             ('black', 103),\n",
              "             ('eyed', 6),\n",
              "             ('peas', 4),\n",
              "             ('could', 97),\n",
              "             ('scherzinger', 2),\n",
              "             ('new', 1018),\n",
              "             ('memb', 10),\n",
              "             ('personal', 28),\n",
              "             ('assistant', 5),\n",
              "             ('salari', 2),\n",
              "             ('stiffed', 1),\n",
              "             ('‘kardashians’', 1),\n",
              "             ('ricky', 12),\n",
              "             ('martin', 32),\n",
              "             ('turn', 30),\n",
              "             ('heat', 20),\n",
              "             ('music', 227),\n",
              "             ('fiebre', 1),\n",
              "             ('featuring', 14),\n",
              "             ('wisin', 2),\n",
              "             ('yandel', 2),\n",
              "             ('revenge', 75),\n",
              "             ('stars', 271),\n",
              "             ('emily', 41),\n",
              "             ('vancamp', 4),\n",
              "             ('josh', 75),\n",
              "             ('bowman', 2),\n",
              "             ('tie', 5),\n",
              "             ('knot', 6),\n",
              "             ('cate', 8),\n",
              "             ('blanchett', 8),\n",
              "             ('jury', 4),\n",
              "             ('president', 37),\n",
              "             ('festival', 21),\n",
              "             ('de', 98),\n",
              "             ('cann', 10),\n",
              "             ('matt', 125),\n",
              "             ('damon', 29),\n",
              "             ('opens', 127),\n",
              "             ('harvey', 142),\n",
              "             ('weinstein', 113),\n",
              "             ('sexual', 159),\n",
              "             ('harassment', 44),\n",
              "             ('confidentiality', 1),\n",
              "             ('agr', 5),\n",
              "             ('lovato', 73),\n",
              "             ('dating', 223),\n",
              "             ('jesse', 20),\n",
              "             ('report', 302),\n",
              "             ('claims', 87),\n",
              "             ('sparks', 28),\n",
              "             ('flying', 5),\n",
              "             ('start', 43),\n",
              "             ('flirt', 5),\n",
              "             ('amy', 52),\n",
              "             ('poehler', 7),\n",
              "             ('nick', 108),\n",
              "             ('offerman', 2),\n",
              "             ('crafty', 1),\n",
              "             ('punoff', 1),\n",
              "             ('sew', 2),\n",
              "             ('delight', 2),\n",
              "             ('kimmel', 66),\n",
              "             ('reveals', 417),\n",
              "             ('details', 81),\n",
              "             ('sons', 21),\n",
              "             ('heart', 64),\n",
              "             ('surgery', 54),\n",
              "             ('geoffrey', 2),\n",
              "             ('rush', 4),\n",
              "             ('denies', 65),\n",
              "             ('inappropriate', 8),\n",
              "             ('behavior', 22),\n",
              "             ('sydney', 5),\n",
              "             ('theatre', 3),\n",
              "             ('company', 12),\n",
              "             ('play', 60),\n",
              "             ('blake', 276),\n",
              "             ('shelton', 171),\n",
              "             ('gwen', 171),\n",
              "             ('stefani', 150),\n",
              "             ('‘saved', 1),\n",
              "             ('life’', 4),\n",
              "             ('divorc', 75),\n",
              "             ('elizabeth', 57),\n",
              "             ('hurley', 7),\n",
              "             ('flaunts', 7),\n",
              "             ('jawdropping', 7),\n",
              "             ('figure', 30),\n",
              "             ('tiny', 9),\n",
              "             ('pink', 58),\n",
              "             ('bikini', 51),\n",
              "             ('donating', 9),\n",
              "             ('hurricane', 39),\n",
              "             ('relief', 22),\n",
              "             ('effort', 7),\n",
              "             ('taylor', 371),\n",
              "             ('swift', 244),\n",
              "             ('stalker', 10),\n",
              "             ('waited', 2),\n",
              "             ('roof', 1),\n",
              "             ('manhattan', 3),\n",
              "             ('apartment', 7),\n",
              "             ('building', 10),\n",
              "             ('prosecutor', 4),\n",
              "             ('lucy', 17),\n",
              "             ('hale', 12),\n",
              "             ('jewellery', 3),\n",
              "             ('worth', 202),\n",
              "             ('stolen', 9),\n",
              "             ('writing', 15),\n",
              "             ('tellall', 12),\n",
              "             ('madeup', 11),\n",
              "             ('cover', 57),\n",
              "             ('stori', 64),\n",
              "             ('‘devastated', 1),\n",
              "             ('shock’', 1),\n",
              "             ('chris', 266),\n",
              "             ('cornell', 3),\n",
              "             ('grey', 10),\n",
              "             ('sex', 126),\n",
              "             ('city', 42),\n",
              "             ('years', 193),\n",
              "             ('later', 11),\n",
              "             ('rank', 17),\n",
              "             ('selena', 418),\n",
              "             ('gomez', 339),\n",
              "             ('justin', 533),\n",
              "             ('bieber', 231),\n",
              "             ('spotted', 42),\n",
              "             ('making', 63),\n",
              "             ('d', 122),\n",
              "             ('diy', 3),\n",
              "             ('costumes', 12),\n",
              "             ('tv', 281),\n",
              "             ('shows', 157),\n",
              "             ('movi', 35),\n",
              "             ('‘big', 13),\n",
              "             ('bang', 11),\n",
              "             ('theory’', 3),\n",
              "             ('drama', 133),\n",
              "             ('behind', 95),\n",
              "             ('scenes', 22),\n",
              "             ('causing', 5),\n",
              "             ('‘fall', 1),\n",
              "             ('apart’', 2),\n",
              "             ('queen’s', 5),\n",
              "             ('granddaughter', 1),\n",
              "             ('zara', 6),\n",
              "             ('tindall', 1),\n",
              "             ('welcomes', 40),\n",
              "             ('alexis', 22),\n",
              "             ('bledel', 5),\n",
              "             ('lends', 3),\n",
              "             ('hope', 10),\n",
              "             ('third', 39),\n",
              "             ('sisterhood', 6),\n",
              "             ('traveling', 7),\n",
              "             ('pants', 16),\n",
              "             ('wags', 62),\n",
              "             ('kesha', 14),\n",
              "             ('norman', 2),\n",
              "             ('kierra', 3),\n",
              "             ('douglas', 12),\n",
              "             ('separation', 14),\n",
              "             ('cj', 1),\n",
              "             ('jessica', 171),\n",
              "             ('alba', 20),\n",
              "             ('whether', 11),\n",
              "             ('shes', 129),\n",
              "             ('planning', 55),\n",
              "             ('kid', 72),\n",
              "             ('claps', 23),\n",
              "             ('back', 317),\n",
              "             ('trump', 215),\n",
              "             ('“person', 1),\n",
              "             ('year”', 1),\n",
              "             ('claim', 80),\n",
              "             ('e', 69),\n",
              "             ('ashlee', 12),\n",
              "             ('simpsonross', 2),\n",
              "             ('evan', 25),\n",
              "             ('ross', 42),\n",
              "             ('busy', 15),\n",
              "             ('philipps', 11),\n",
              "             ('series', 85),\n",
              "             ('‘e', 3),\n",
              "             ('hollywood', 181),\n",
              "             ('story’', 13),\n",
              "             ('return', 112),\n",
              "             ('among', 18),\n",
              "             ('greenlight', 1),\n",
              "             ('moonlight’s', 1),\n",
              "             ('ashton', 30),\n",
              "             ('sanders', 4),\n",
              "             ('jharrel', 1),\n",
              "             ('jerome', 1),\n",
              "             ('win', 61),\n",
              "             ('best', 384),\n",
              "             ('kiss', 51),\n",
              "             ('mtv', 83),\n",
              "             ('movie', 127),\n",
              "             ('award', 294),\n",
              "             ('christina', 75),\n",
              "             ('perri', 19),\n",
              "             ('net', 175),\n",
              "             ('it’s', 48),\n",
              "             ('official', 29),\n",
              "             ('kenya', 13),\n",
              "             ('rhoa', 17),\n",
              "             ('revealed', 56),\n",
              "             ('‘firing’', 2),\n",
              "             ('showdown', 7),\n",
              "             ('bravo', 6),\n",
              "             ('pete', 37),\n",
              "             ('davidson', 33),\n",
              "             ('kisses', 24),\n",
              "             ('nyc', 43),\n",
              "             ('stroll', 2),\n",
              "             ('love', 261),\n",
              "             ('beauti', 16),\n",
              "             ('mel', 32),\n",
              "             ('b', 99),\n",
              "             ('estranged', 18),\n",
              "             ('husband', 145),\n",
              "             ('stephen', 45),\n",
              "             ('belafonte', 6),\n",
              "             ('settle', 11),\n",
              "             ('domestic', 21),\n",
              "             ('violence', 11),\n",
              "             ('divorce', 206),\n",
              "             ('steps', 37),\n",
              "             ('achieving', 3),\n",
              "             ('resolut', 1),\n",
              "             ('cardi', 76),\n",
              "             ('pulls', 12),\n",
              "             ('bruno', 26),\n",
              "             ('mars', 25),\n",
              "             ('tour', 130),\n",
              "             ('‘i’m', 10),\n",
              "             ('ready', 64),\n",
              "             ('leave', 28),\n",
              "             ('baby', 501),\n",
              "             ('behind’', 2),\n",
              "             ('stapleton’s', 1),\n",
              "             ('country', 25),\n",
              "             ('album', 69),\n",
              "             ('grammy', 38),\n",
              "             ('gives', 121),\n",
              "             ('thre', 3),\n",
              "             ('dine', 1),\n",
              "             ('dont', 54),\n",
              "             ('go', 89),\n",
              "             ('us', 206),\n",
              "             ('milo', 19),\n",
              "             ('ventimiglia', 18),\n",
              "             ('calls', 138),\n",
              "             ('jacks', 10),\n",
              "             ('soulcrushing', 1),\n",
              "             ('ev', 80),\n",
              "             ('shares', 218),\n",
              "             ('photos', 119),\n",
              "             ('super', 70),\n",
              "             ('secret', 214),\n",
              "             ('wed', 172),\n",
              "             ('anthony', 59),\n",
              "             ('bourdain’s', 3),\n",
              "             ('mother', 52),\n",
              "             ('speaks', 57),\n",
              "             ('tragic', 15),\n",
              "             ('desiree', 2),\n",
              "             ('hartsock', 1),\n",
              "             ('expecting', 77),\n",
              "             ('siegfri', 1),\n",
              "             ('suri', 25),\n",
              "             ('cruise', 76),\n",
              "             ('turning', 7),\n",
              "             ('looks', 113),\n",
              "             ('katie', 165),\n",
              "             ('holm', 9),\n",
              "             ('american', 133),\n",
              "             ('horror', 34),\n",
              "             ('unleashed', 1),\n",
              "             ('gaping', 1),\n",
              "             ('plot', 16),\n",
              "             ('hole—or', 1),\n",
              "             ('massive', 20),\n",
              "             ('clu', 4),\n",
              "             ('robert', 145),\n",
              "             ('pattinson', 91),\n",
              "             ('charlie', 33),\n",
              "             ('hunnam', 5),\n",
              "             ('lost', 46),\n",
              "             ('z', 20),\n",
              "             ('steals', 15),\n",
              "             ('spotlight', 17),\n",
              "             ('overthetop', 6),\n",
              "             ('moschino', 1),\n",
              "             ('ensemble', 3),\n",
              "             ('queen', 94),\n",
              "             ('ii', 24),\n",
              "             ('attend', 33),\n",
              "             ('sting', 5),\n",
              "             ('shawn', 29),\n",
              "             ('mendes', 49),\n",
              "             ('birthday', 265),\n",
              "             ('tim', 82),\n",
              "             ('allen', 23),\n",
              "             ('santa', 12),\n",
              "             ('clause', 3),\n",
              "             ('originally', 1),\n",
              "             ('morbid', 2),\n",
              "             ('twist', 32),\n",
              "             ('gillian', 1),\n",
              "             ('anderson', 26),\n",
              "             ('‘xfiles’', 1),\n",
              "             ('lack', 6),\n",
              "             ('female', 33),\n",
              "             ('writ', 2),\n",
              "             ('tracee', 23),\n",
              "             ('ellis', 25),\n",
              "             ('hairstylist', 8),\n",
              "             ('obsessed', 18),\n",
              "             ('hairspray', 1),\n",
              "             ('rachel', 80),\n",
              "             ('weisz', 10),\n",
              "             ('parents', 32),\n",
              "             ('refugees', 1),\n",
              "             ('brexit', 2),\n",
              "             ('feels', 46),\n",
              "             ('blunt', 14),\n",
              "             ('krasinski', 5),\n",
              "             ('stay', 35),\n",
              "             ('silent', 6),\n",
              "             ('survive', 3),\n",
              "             ('creepy', 10),\n",
              "             ('‘a', 17),\n",
              "             ('quiet', 10),\n",
              "             ('place’', 5),\n",
              "             ('trail', 43),\n",
              "             ('hannah', 20),\n",
              "             ('baker', 2),\n",
              "             ('isn’t', 27),\n",
              "             ('coming', 46),\n",
              "             ('ago', 27),\n",
              "             ('kanye', 252),\n",
              "             ('west', 262),\n",
              "             ('accident', 17),\n",
              "             ('changed', 36),\n",
              "             ('life…here’s', 1),\n",
              "             ('entire', 12),\n",
              "             ('fixer', 16),\n",
              "             ('upper', 13),\n",
              "             ('end', 85),\n",
              "             ('hgtv', 15),\n",
              "             ('tyra', 8),\n",
              "             ('banks', 10),\n",
              "             ('carolyn', 1),\n",
              "             ('london', 46),\n",
              "             ('recreate', 10),\n",
              "             ('iconic', 33),\n",
              "             ('motherdaughter', 3),\n",
              "             ('duo', 1),\n",
              "             ('kardashians', 134),\n",
              "             ('diet', 34),\n",
              "             ('fitness', 24),\n",
              "             ('routine', 11),\n",
              "             ('feeling', 23),\n",
              "             ('stronger', 8),\n",
              "             ('tight', 10),\n",
              "             ('harry', 349),\n",
              "             ('styles', 52),\n",
              "             ('style', 103),\n",
              "             ('icon', 11),\n",
              "             ('shania', 10),\n",
              "             ('twain', 12),\n",
              "             ('kourtney', 188),\n",
              "             ('hangs', 14),\n",
              "             ('amid', 131),\n",
              "             ('daddy', 12),\n",
              "             ('apologises', 4),\n",
              "             ('citing', 1),\n",
              "             ('lawrence', 99),\n",
              "             ('def', 1),\n",
              "             ('saturday', 51),\n",
              "             ('savings', 36),\n",
              "             ('mandy', 47),\n",
              "             ('moore’s', 6),\n",
              "             ('stunning', 25),\n",
              "             ('slip', 8),\n",
              "             ('dress', 150),\n",
              "             ('tyler', 72),\n",
              "             ('hubbard', 3),\n",
              "             ('hayley', 12),\n",
              "             ('welcome', 87),\n",
              "             ('daught', 46),\n",
              "             ('danica', 12),\n",
              "             ('patrick', 24),\n",
              "             ('aaron', 46),\n",
              "             ('rodgers', 11),\n",
              "             ('hosting', 15),\n",
              "             ('espi', 3),\n",
              "             ('david', 164),\n",
              "             ('beckham', 80),\n",
              "             ('marriage', 137),\n",
              "             ('victoria', 56),\n",
              "             ('hard', 26),\n",
              "             ('work', 54),\n",
              "             ('need', 99),\n",
              "             ('see', 363),\n",
              "             ('briana', 8),\n",
              "             ('culberson', 2),\n",
              "             ('sneaky', 2),\n",
              "             ('cameo', 15),\n",
              "             ('orange', 23),\n",
              "             ('county', 8),\n",
              "             ('reunion', 135),\n",
              "             ('bachelor’s', 5),\n",
              "             ('whitney', 19),\n",
              "             ('bischoff', 2),\n",
              "             ('marri', 44),\n",
              "             ('baier', 7),\n",
              "             ('breakup', 78),\n",
              "             ('fault', 5),\n",
              "             ('covers', 14),\n",
              "             ('daughter', 232),\n",
              "             ('vivid', 1),\n",
              "             ('imagination', 1),\n",
              "             ('comes', 32),\n",
              "             ('storytel', 1),\n",
              "             ('avengers', 32),\n",
              "             ('infinity', 30),\n",
              "             ('war', 61),\n",
              "             ('cast', 196),\n",
              "             ('surprises', 25),\n",
              "             ('fans', 184),\n",
              "             ('l', 45),\n",
              "             ('dustin', 7),\n",
              "             ('hoffman', 5),\n",
              "             ('sexually', 21),\n",
              "             ('harassed', 6),\n",
              "             ('column', 4),\n",
              "             ('worried', 14),\n",
              "             ('baldwin’s', 3),\n",
              "             ('engagement', 92),\n",
              "             ('don’t', 33),\n",
              "             ('worri', 5),\n",
              "             ('ciara', 23),\n",
              "             ('charts', 2),\n",
              "             ('comeback', 28),\n",
              "             ('“level', 1),\n",
              "             ('up”', 3),\n",
              "             ('latavia', 2),\n",
              "             ('roberson', 2),\n",
              "             ('wasnt', 24),\n",
              "             ('pretty', 44),\n",
              "             ('dropped', 16),\n",
              "             ('destinys', 5),\n",
              "             ('led', 23),\n",
              "             ('depress', 10),\n",
              "             ('luann', 54),\n",
              "             ('lesseps', 35),\n",
              "             ('announcing', 8),\n",
              "             ('‘blown', 2),\n",
              "             ('away’', 5),\n",
              "             ('people', 95),\n",
              "             ('‘obsessed’', 2),\n",
              "             ('pregnancy', 141),\n",
              "             ('labor', 11),\n",
              "             ('rumor', 129),\n",
              "             ('rihannas', 10),\n",
              "             ('defies', 1),\n",
              "             ('rul', 8),\n",
              "             ('kendall', 148),\n",
              "             ('griffin', 26),\n",
              "             ('meet', 78),\n",
              "             ('heres', 124),\n",
              "             ('emma', 86),\n",
              "             ('roberts', 42),\n",
              "             ('nine', 12),\n",
              "             ('slingback', 1),\n",
              "             ('heels', 8),\n",
              "             ('less', 20),\n",
              "             ('idea', 14),\n",
              "             ('kidney', 20),\n",
              "             ('transpl', 4),\n",
              "             ('america', 44),\n",
              "             ('ferrera', 6),\n",
              "             ('assault', 62),\n",
              "             ('keith', 52),\n",
              "             ('urban', 43),\n",
              "             ('sophie', 27),\n",
              "             ('monk', 1),\n",
              "             ('furi', 5),\n",
              "             ('rumors', 151),\n",
              "             ('stop', 61),\n",
              "             ('believ', 8),\n",
              "             ('paradise', 59),\n",
              "             ('announc', 17),\n",
              "             ('twitter', 80),\n",
              "             ('discovered', 3),\n",
              "             ('regina', 5),\n",
              "             ('george', 124),\n",
              "             ('lookalike', 10),\n",
              "             ('resemblance', 3),\n",
              "             ('fetch', 4),\n",
              "             ('brunette', 7),\n",
              "             ('hair', 99),\n",
              "             ('color', 16),\n",
              "             ('tips', 31),\n",
              "             ('kristen', 106),\n",
              "             ('stewart’s', 4),\n",
              "             ('breaking', 16),\n",
              "             ('dawn', 4),\n",
              "             ('pro', 12),\n",
              "             ('lovato’s', 3),\n",
              "             ('fast', 23),\n",
              "             ('facts', 15),\n",
              "             ('meghan', 534),\n",
              "             ('markles', 89),\n",
              "             ('dad', 89),\n",
              "             ('wont', 56),\n",
              "             ('harri', 32),\n",
              "             ('sisqos', 1),\n",
              "             ('thong', 6),\n",
              "             ('song', 122),\n",
              "             ('gets', 197),\n",
              "             ('tropical', 2),\n",
              "             ('update', 24),\n",
              "             ('jcy', 1),\n",
              "             ('listen', 22),\n",
              "             ('famously', 9),\n",
              "             ('singleseason', 2),\n",
              "             ('anyone', 11),\n",
              "             ('else', 3),\n",
              "             ('worlds', 14),\n",
              "             ('highestpaid', 9),\n",
              "             ('hosts', 17),\n",
              "             ('dr', 16),\n",
              "             ('phil', 8),\n",
              "             ('ellen', 122),\n",
              "             ('degeneres', 79),\n",
              "             ('ryan', 208),\n",
              "             ('seacrest', 49),\n",
              "             ('lead', 25),\n",
              "             ('colbert', 26),\n",
              "             ('skewers', 1),\n",
              "             ('scrotum', 1),\n",
              "             ('oreilly', 4),\n",
              "             ('allegations', 46),\n",
              "             ('reported', 15),\n",
              "             ('million', 134),\n",
              "             ('settl', 2),\n",
              "             ('longer', 17),\n",
              "             ('saint', 13),\n",
              "             ('set', 120),\n",
              "             ('britney', 76),\n",
              "             ('spears', 68),\n",
              "             ('tap', 11),\n",
              "             ('russell', 42),\n",
              "             ('crowe', 4),\n",
              "             ('slams', 79),\n",
              "             ('hes', 82),\n",
              "             ('sophia', 22),\n",
              "             ('forrest', 4),\n",
              "             ('frustrated', 6),\n",
              "             ('jealous', 25),\n",
              "             ('beau', 29),\n",
              "             ('younes', 50),\n",
              "             ('bendjima', 38),\n",
              "             ('phillippe', 11),\n",
              "             ('sues', 17),\n",
              "             ('ex', 145),\n",
              "             ('elsie', 1),\n",
              "             ('hewitt', 4),\n",
              "             ('claimed', 7),\n",
              "             ('brutally', 2),\n",
              "             ('beat', 8),\n",
              "             ('drunken', 8),\n",
              "             ('rag', 2),\n",
              "             ('addresses', 56),\n",
              "             ('critics', 26),\n",
              "             ('accepting', 6),\n",
              "             ('cfda', 16),\n",
              "             ('influencer', 1),\n",
              "             ('bother', 4),\n",
              "             ('sourc', 36),\n",
              "             ('messages', 17),\n",
              "             ('remind', 3),\n",
              "             ('close', 32),\n",
              "             ('kardashianjenn', 1),\n",
              "             ('sofia', 111),\n",
              "             ('richie', 83),\n",
              "             ('freaking', 11),\n",
              "             ('getting', 121),\n",
              "             ('garner', 92),\n",
              "             ('slays', 6),\n",
              "             ('carpool', 18),\n",
              "             ('lane', 4),\n",
              "             ('daughter’s', 9),\n",
              "             ('scarf', 3),\n",
              "             ('throwback', 19),\n",
              "             ('alert', 14),\n",
              "             ('relive', 19),\n",
              "             ('pippa', 68),\n",
              "             ('middletons', 44),\n",
              "             ('scenestealing', 1),\n",
              "             ('appearance', 35),\n",
              "             ('kate', 339),\n",
              "             ('rihanna', 83),\n",
              "             ('spending', 22),\n",
              "             ('big', 181),\n",
              "             ('bucks', 3),\n",
              "             ('wardrobe', 18),\n",
              "             ('gaining', 3),\n",
              "             ('weight', 60),\n",
              "             ('inspire', 10),\n",
              "             ('double', 28),\n",
              "             ('denim', 27),\n",
              "             ('dan', 16),\n",
              "             ('shay’s', 1),\n",
              "             ('smyers', 1),\n",
              "             ('weds', 11),\n",
              "             ('abby', 27),\n",
              "             ('law', 34),\n",
              "             ('times', 71),\n",
              "             ('hadid', 151),\n",
              "             ('made', 109),\n",
              "             ('‘ugly', 1),\n",
              "             ('sneaker’', 1),\n",
              "             ('megan', 34),\n",
              "             ('fox', 44),\n",
              "             ('stuns', 12),\n",
              "             ('fest', 6),\n",
              "             ('mexico', 27),\n",
              "             ('amas', 10),\n",
              "             ('trophies', 1),\n",
              "             ('kidman', 90),\n",
              "             ('piano', 1),\n",
              "             ('microphone', 1),\n",
              "             ('announced', 13),\n",
              "             ('singers', 8),\n",
              "             ('arrows', 2),\n",
              "             ('amell', 2),\n",
              "             ('coachella', 45),\n",
              "             ('reaffirmed', 1),\n",
              "             ('post', 51),\n",
              "             ('trailer', 78),\n",
              "             ('keshas', 3),\n",
              "             ('documentary', 8),\n",
              "             ('rainbow', 11),\n",
              "             ('literally', 11),\n",
              "             ('saved', 18),\n",
              "             ('life', 187),\n",
              "             ('—', 398),\n",
              "             ('still', 142),\n",
              "             ('smitten', 9),\n",
              "             ('tried', 33),\n",
              "             ('change', 26),\n",
              "             ('exclus', 166),\n",
              "             ('designs', 3),\n",
              "             ('around', 28),\n",
              "             ('lyme', 3),\n",
              "             ('disease', 7),\n",
              "             ('battl', 25),\n",
              "             ('mirror', 10),\n",
              "             ('tech', 7),\n",
              "             ('ariel', 22),\n",
              "             ('winter', 61),\n",
              "             ('levi', 10),\n",
              "             ('meaden', 9),\n",
              "             ('share', 49),\n",
              "             ('smooch', 3),\n",
              "             ('sixth', 2),\n",
              "             ('woman', 95),\n",
              "             ('hw', 3),\n",
              "             ('bush', 27),\n",
              "             ('grop', 5),\n",
              "             ('used', 27),\n",
              "             ('phone', 16),\n",
              "             ('ed', 58),\n",
              "             ('sheeran', 39),\n",
              "             ('reflects', 29),\n",
              "             ('digital', 7),\n",
              "             ('detox', 2),\n",
              "             ('wars', 43),\n",
              "             ('mark', 53),\n",
              "             ('hamill', 8),\n",
              "             ('‘i', 44),\n",
              "             ('said', 46),\n",
              "             ('carrie', 71),\n",
              "             ('fisher', 32),\n",
              "             ('i’m', 16),\n",
              "             ...])"
            ]
          },
          "metadata": {},
          "execution_count": 36
        }
      ]
    },
    {
      "cell_type": "code",
      "source": [
        "text_sentences= df['news'].to_numpy()\n",
        "text_sequences= tokenizer.texts_to_sequences(X)\n"
      ],
      "metadata": {
        "id": "omMPl3LC_dIn"
      },
      "execution_count": 37,
      "outputs": []
    },
    {
      "cell_type": "code",
      "source": [
        "print(text_sentences[100])\n",
        "print(text_sequences[100])"
      ],
      "metadata": {
        "id": "Qk78A46v_dLa",
        "colab": {
          "base_uri": "https://localhost:8080/"
        },
        "outputId": "3103f85f-d937-4e6a-9cd9-f53f216bd81b"
      },
      "execution_count": 38,
      "outputs": [
        {
          "output_type": "stream",
          "name": "stdout",
          "text": [
            "kim kardashians diet fitness routine left feeling stronger tight\n",
            "[4, 157, 888, 1278, 2503, 721, 1323, 3250, 2724]\n"
          ]
        }
      ]
    },
    {
      "cell_type": "code",
      "source": [
        "#reversing tokenization\n",
        "# test_sequences"
      ],
      "metadata": {
        "id": "n71a1WOJiKaj"
      },
      "execution_count": 39,
      "outputs": []
    },
    {
      "cell_type": "code",
      "source": [
        "# min and max lengh of train sequences\n",
        "train_min_lenght= len(min(text_sequences, key= len))\n",
        "train_max_lenght= len(max(text_sequences, key= len))\n",
        "train_min_lenght , train_max_lenght\n"
      ],
      "metadata": {
        "id": "iSQ8HJg-mbUj",
        "colab": {
          "base_uri": "https://localhost:8080/"
        },
        "outputId": "b6a84a48-a6ab-4627-b4b1-7f3466a542fc"
      },
      "execution_count": 40,
      "outputs": [
        {
          "output_type": "execute_result",
          "data": {
            "text/plain": [
              "(1, 26)"
            ]
          },
          "metadata": {},
          "execution_count": 40
        }
      ]
    },
    {
      "cell_type": "code",
      "source": [
        "# plotting len of each sentence\n",
        "plt.hist([len(x) for x in X], bins=500);"
      ],
      "metadata": {
        "colab": {
          "base_uri": "https://localhost:8080/",
          "height": 430
        },
        "id": "GSH0hzx_wGPH",
        "outputId": "4534eacc-af1a-4108-a021-6a74e6e6c4f7"
      },
      "execution_count": 41,
      "outputs": [
        {
          "output_type": "display_data",
          "data": {
            "text/plain": [
              "<Figure size 640x480 with 1 Axes>"
            ],
            "image/png": "[encoded data removed]"
          },
          "metadata": {}
        }
      ]
    },
    {
      "cell_type": "code",
      "source": [
        "sentence_len= np.array([len(x) for x in X])\n",
        "print(f'There are {len(sentence_len[sentence_len > 15])} sentences which have more than 25 words.')\n",
        "max_len= 15"
      ],
      "metadata": {
        "colab": {
          "base_uri": "https://localhost:8080/"
        },
        "id": "9MiECpfZoKlG",
        "outputId": "020940f6-26ec-4773-a08b-4829e7a386cb"
      },
      "execution_count": 42,
      "outputs": [
        {
          "output_type": "stream",
          "name": "stdout",
          "text": [
            "There are 92 sentences which have more than 25 words.\n"
          ]
        }
      ]
    },
    {
      "cell_type": "code",
      "source": [
        "# padding\n",
        "def padding_sequences(seq, max_len):\n",
        "  return pad_sequences(seq, maxlen= max_len, padding= \"post\", truncating=\"post\")"
      ],
      "metadata": {
        "id": "3dFcV1E1_dNo"
      },
      "execution_count": 43,
      "outputs": []
    },
    {
      "cell_type": "code",
      "source": [
        "text_padded= padding_sequences(text_sequences, max_len)"
      ],
      "metadata": {
        "id": "87G5KHHin_OF"
      },
      "execution_count": 44,
      "outputs": []
    },
    {
      "cell_type": "code",
      "source": [
        "print(text_sentences[100])\n",
        "print(text_sequences[100])\n",
        "print(text_padded[100])"
      ],
      "metadata": {
        "id": "cPgFVB3un_fN",
        "colab": {
          "base_uri": "https://localhost:8080/"
        },
        "outputId": "bf1b21d5-5b3e-470e-ba76-5553464cfce1"
      },
      "execution_count": 45,
      "outputs": [
        {
          "output_type": "stream",
          "name": "stdout",
          "text": [
            "kim kardashians diet fitness routine left feeling stronger tight\n",
            "[4, 157, 888, 1278, 2503, 721, 1323, 3250, 2724]\n",
            "[   4  157  888 1278 2503  721 1323 3250 2724    0    0    0    0    0\n",
            "    0]\n"
          ]
        }
      ]
    },
    {
      "cell_type": "code",
      "source": [
        "# checking tokenization by reversing from sequences to sentences\n",
        "# filp word_index dictionay index and value\n",
        "reversed_index= dict([(idx, word) for (word, idx) in word_index.items()])"
      ],
      "metadata": {
        "id": "GhkFOO1U7gI6"
      },
      "execution_count": 46,
      "outputs": []
    },
    {
      "cell_type": "code",
      "source": [
        "def decode(seq):\n",
        "  result= \" \".join([reversed_index.get(idx, \"?\") for idx in seq])\n",
        "  return result"
      ],
      "metadata": {
        "id": "rApX9AaO8KbH"
      },
      "execution_count": 47,
      "outputs": []
    },
    {
      "cell_type": "code",
      "source": [
        "decoded_news= decode(text_sequences[100])\n",
        "print(text_sequences[100])\n",
        "print(text_sentences[100])\n",
        "print(decoded_news)"
      ],
      "metadata": {
        "id": "RDpHAw0S8ozW",
        "colab": {
          "base_uri": "https://localhost:8080/"
        },
        "outputId": "3865ce06-2b66-4332-bca6-acd495362ab9"
      },
      "execution_count": 48,
      "outputs": [
        {
          "output_type": "stream",
          "name": "stdout",
          "text": [
            "[4, 157, 888, 1278, 2503, 721, 1323, 3250, 2724]\n",
            "kim kardashians diet fitness routine left feeling stronger tight\n",
            "kim kardashians diet fitness routine left feeling stronger tight\n"
          ]
        }
      ]
    },
    {
      "cell_type": "code",
      "source": [
        "#concatinating other features to tokenized data"
      ],
      "metadata": {
        "id": "JbLcImg3iKeZ"
      },
      "execution_count": 49,
      "outputs": []
    },
    {
      "cell_type": "code",
      "source": [
        "full_df_padded= np.hstack([text_padded, other_features])\n",
        "max_len+= len(other_features.columns)\n"
      ],
      "metadata": {
        "id": "WQiAkFioiKi9"
      },
      "execution_count": 50,
      "outputs": []
    },
    {
      "cell_type": "code",
      "source": [
        "# vocab_size\n",
        "vocab_size= len(tokenizer.word_index) +1 # because word_index starts from zero"
      ],
      "metadata": {
        "id": "h93A6-w-1vOy"
      },
      "execution_count": 51,
      "outputs": []
    },
    {
      "cell_type": "code",
      "source": [
        "def get_weight_matrix(model):\n",
        "  weight_matrix= np.zeros((vocab_size, embedding_dim))\n",
        "  for word, i in tokenizer.word_index.items():\n",
        "    weight_matrix[i]= model.wv[word]\n",
        "  return weight_matrix\n"
      ],
      "metadata": {
        "id": "bQruASl41fER"
      },
      "execution_count": 52,
      "outputs": []
    },
    {
      "cell_type": "code",
      "source": [
        "embedding_vectors= get_weight_matrix(w2v_mdl)"
      ],
      "metadata": {
        "id": "20Ii6aSu2qw_"
      },
      "execution_count": 53,
      "outputs": []
    },
    {
      "cell_type": "code",
      "source": [
        "X_train, X_test, y_train, y_test= train_test_split(full_df_padded, label, test_size= 0.2, random_state= 10)"
      ],
      "metadata": {
        "id": "sEM76j2W4sv5"
      },
      "execution_count": 54,
      "outputs": []
    },
    {
      "cell_type": "code",
      "source": [
        "\n",
        "# create LSTM model\n",
        "model= keras.models.Sequential()\n",
        "model.add(layers.Embedding(vocab_size, output_dim= embedding_dim,  weights=[embedding_vectors], input_length= max_len , trainable=False)) # with other features\n",
        "model.add(layers.LSTM(128, dropout= 0.1))\n",
        "model.add(layers.Dense(1,  activation='sigmoid'))\n",
        "model.summary()"
      ],
      "metadata": {
        "colab": {
          "base_uri": "https://localhost:8080/"
        },
        "id": "shoAUoLZ9HQ0",
        "outputId": "bbbbfd49-038d-4471-d1e6-605d2a52c937"
      },
      "execution_count": 55,
      "outputs": [
        {
          "output_type": "stream",
          "name": "stdout",
          "text": [
            "Model: \"sequential\"\n",
            "_________________________________________________________________\n",
            " Layer (type)                Output Shape              Param #   \n",
            "=================================================================\n",
            " embedding (Embedding)       (None, 17, 100)           2073600   \n",
            "                                                                 \n",
            " lstm (LSTM)                 (None, 128)               117248    \n",
            "                                                                 \n",
            " dense (Dense)               (None, 1)                 129       \n",
            "                                                                 \n",
            "=================================================================\n",
            "Total params: 2,190,977\n",
            "Trainable params: 117,377\n",
            "Non-trainable params: 2,073,600\n",
            "_________________________________________________________________\n"
          ]
        }
      ]
    },
    {
      "cell_type": "code",
      "source": [
        "loss= keras.losses.BinaryCrossentropy(from_logits= False)\n",
        "optim= keras.optimizers.Adam(learning_rate=0.005)\n",
        "metrics= [\"accuracy\"]#,  Precision(), Recall()]\n",
        "model.compile(loss= loss, optimizer= optim, metrics= metrics)"
      ],
      "metadata": {
        "id": "UPpoUpJYiKmK"
      },
      "execution_count": 56,
      "outputs": []
    },
    {
      "cell_type": "code",
      "source": [
        "model.fit(X_train, y_train, epochs=50, validation_data=(X_test, y_test), verbose=2)\n"
      ],
      "metadata": {
        "id": "uUp8wSo_iKo7",
        "colab": {
          "base_uri": "https://localhost:8080/"
        },
        "outputId": "fa308127-e996-44e4-85f4-020f4340b195"
      },
      "execution_count": 57,
      "outputs": [
        {
          "output_type": "stream",
          "name": "stdout",
          "text": [
            "Epoch 1/50\n",
            "500/500 - 14s - loss: 0.5534 - accuracy: 0.7569 - val_loss: 0.5395 - val_accuracy: 0.7675 - 14s/epoch - 27ms/step\n",
            "Epoch 2/50\n",
            "500/500 - 2s - loss: 0.5035 - accuracy: 0.7787 - val_loss: 0.4657 - val_accuracy: 0.8012 - 2s/epoch - 5ms/step\n",
            "Epoch 3/50\n",
            "500/500 - 2s - loss: 0.4667 - accuracy: 0.8009 - val_loss: 0.4358 - val_accuracy: 0.8138 - 2s/epoch - 4ms/step\n",
            "Epoch 4/50\n",
            "500/500 - 3s - loss: 0.4428 - accuracy: 0.8148 - val_loss: 0.4217 - val_accuracy: 0.8265 - 3s/epoch - 6ms/step\n",
            "Epoch 5/50\n",
            "500/500 - 2s - loss: 0.4330 - accuracy: 0.8185 - val_loss: 0.4181 - val_accuracy: 0.8285 - 2s/epoch - 5ms/step\n",
            "Epoch 6/50\n",
            "500/500 - 2s - loss: 0.4265 - accuracy: 0.8205 - val_loss: 0.4212 - val_accuracy: 0.8245 - 2s/epoch - 5ms/step\n",
            "Epoch 7/50\n",
            "500/500 - 2s - loss: 0.4229 - accuracy: 0.8261 - val_loss: 0.4109 - val_accuracy: 0.8290 - 2s/epoch - 5ms/step\n",
            "Epoch 8/50\n",
            "500/500 - 2s - loss: 0.4206 - accuracy: 0.8262 - val_loss: 0.4076 - val_accuracy: 0.8335 - 2s/epoch - 5ms/step\n",
            "Epoch 9/50\n",
            "500/500 - 3s - loss: 0.4140 - accuracy: 0.8305 - val_loss: 0.4080 - val_accuracy: 0.8340 - 3s/epoch - 6ms/step\n",
            "Epoch 10/50\n",
            "500/500 - 2s - loss: 0.4121 - accuracy: 0.8307 - val_loss: 0.4099 - val_accuracy: 0.8300 - 2s/epoch - 4ms/step\n",
            "Epoch 11/50\n",
            "500/500 - 2s - loss: 0.4083 - accuracy: 0.8331 - val_loss: 0.4082 - val_accuracy: 0.8357 - 2s/epoch - 5ms/step\n",
            "Epoch 12/50\n",
            "500/500 - 2s - loss: 0.4060 - accuracy: 0.8348 - val_loss: 0.4075 - val_accuracy: 0.8290 - 2s/epoch - 5ms/step\n",
            "Epoch 13/50\n",
            "500/500 - 2s - loss: 0.4007 - accuracy: 0.8377 - val_loss: 0.4098 - val_accuracy: 0.8282 - 2s/epoch - 5ms/step\n",
            "Epoch 14/50\n",
            "500/500 - 3s - loss: 0.3989 - accuracy: 0.8359 - val_loss: 0.4089 - val_accuracy: 0.8310 - 3s/epoch - 6ms/step\n",
            "Epoch 15/50\n",
            "500/500 - 2s - loss: 0.3951 - accuracy: 0.8390 - val_loss: 0.3970 - val_accuracy: 0.8353 - 2s/epoch - 4ms/step\n",
            "Epoch 16/50\n",
            "500/500 - 2s - loss: 0.3885 - accuracy: 0.8415 - val_loss: 0.3984 - val_accuracy: 0.8320 - 2s/epoch - 5ms/step\n",
            "Epoch 17/50\n",
            "500/500 - 2s - loss: 0.3857 - accuracy: 0.8438 - val_loss: 0.3998 - val_accuracy: 0.8380 - 2s/epoch - 4ms/step\n",
            "Epoch 18/50\n",
            "500/500 - 2s - loss: 0.3831 - accuracy: 0.8431 - val_loss: 0.4022 - val_accuracy: 0.8372 - 2s/epoch - 4ms/step\n",
            "Epoch 19/50\n",
            "500/500 - 3s - loss: 0.3774 - accuracy: 0.8485 - val_loss: 0.4003 - val_accuracy: 0.8393 - 3s/epoch - 6ms/step\n",
            "Epoch 20/50\n",
            "500/500 - 2s - loss: 0.3734 - accuracy: 0.8488 - val_loss: 0.4025 - val_accuracy: 0.8353 - 2s/epoch - 5ms/step\n",
            "Epoch 21/50\n",
            "500/500 - 2s - loss: 0.3698 - accuracy: 0.8490 - val_loss: 0.4143 - val_accuracy: 0.8320 - 2s/epoch - 4ms/step\n",
            "Epoch 22/50\n",
            "500/500 - 2s - loss: 0.3648 - accuracy: 0.8539 - val_loss: 0.4123 - val_accuracy: 0.8330 - 2s/epoch - 4ms/step\n",
            "Epoch 23/50\n",
            "500/500 - 2s - loss: 0.3587 - accuracy: 0.8572 - val_loss: 0.4110 - val_accuracy: 0.8380 - 2s/epoch - 5ms/step\n",
            "Epoch 24/50\n",
            "500/500 - 3s - loss: 0.3571 - accuracy: 0.8579 - val_loss: 0.4010 - val_accuracy: 0.8407 - 3s/epoch - 6ms/step\n",
            "Epoch 25/50\n",
            "500/500 - 2s - loss: 0.3508 - accuracy: 0.8607 - val_loss: 0.4175 - val_accuracy: 0.8345 - 2s/epoch - 5ms/step\n",
            "Epoch 26/50\n",
            "500/500 - 2s - loss: 0.3436 - accuracy: 0.8662 - val_loss: 0.4042 - val_accuracy: 0.8370 - 2s/epoch - 5ms/step\n",
            "Epoch 27/50\n",
            "500/500 - 2s - loss: 0.3354 - accuracy: 0.8670 - val_loss: 0.4213 - val_accuracy: 0.8303 - 2s/epoch - 5ms/step\n",
            "Epoch 28/50\n",
            "500/500 - 2s - loss: 0.3378 - accuracy: 0.8643 - val_loss: 0.4170 - val_accuracy: 0.8360 - 2s/epoch - 5ms/step\n",
            "Epoch 29/50\n",
            "500/500 - 3s - loss: 0.3268 - accuracy: 0.8711 - val_loss: 0.4265 - val_accuracy: 0.8342 - 3s/epoch - 6ms/step\n",
            "Epoch 30/50\n",
            "500/500 - 2s - loss: 0.3203 - accuracy: 0.8759 - val_loss: 0.4254 - val_accuracy: 0.8330 - 2s/epoch - 4ms/step\n",
            "Epoch 31/50\n",
            "500/500 - 2s - loss: 0.3113 - accuracy: 0.8782 - val_loss: 0.4303 - val_accuracy: 0.8338 - 2s/epoch - 5ms/step\n",
            "Epoch 32/50\n",
            "500/500 - 2s - loss: 0.3109 - accuracy: 0.8782 - val_loss: 0.4201 - val_accuracy: 0.8385 - 2s/epoch - 5ms/step\n",
            "Epoch 33/50\n",
            "500/500 - 2s - loss: 0.3048 - accuracy: 0.8797 - val_loss: 0.4418 - val_accuracy: 0.8310 - 2s/epoch - 4ms/step\n",
            "Epoch 34/50\n",
            "500/500 - 3s - loss: 0.2976 - accuracy: 0.8827 - val_loss: 0.4478 - val_accuracy: 0.8317 - 3s/epoch - 6ms/step\n",
            "Epoch 35/50\n",
            "500/500 - 2s - loss: 0.2965 - accuracy: 0.8828 - val_loss: 0.4565 - val_accuracy: 0.8155 - 2s/epoch - 4ms/step\n",
            "Epoch 36/50\n",
            "500/500 - 2s - loss: 0.2872 - accuracy: 0.8865 - val_loss: 0.4602 - val_accuracy: 0.8307 - 2s/epoch - 4ms/step\n",
            "Epoch 37/50\n",
            "500/500 - 2s - loss: 0.2808 - accuracy: 0.8909 - val_loss: 0.4658 - val_accuracy: 0.8145 - 2s/epoch - 5ms/step\n",
            "Epoch 38/50\n",
            "500/500 - 2s - loss: 0.2786 - accuracy: 0.8919 - val_loss: 0.4710 - val_accuracy: 0.8278 - 2s/epoch - 5ms/step\n",
            "Epoch 39/50\n",
            "500/500 - 4s - loss: 0.2742 - accuracy: 0.8921 - val_loss: 0.4645 - val_accuracy: 0.8202 - 4s/epoch - 7ms/step\n",
            "Epoch 40/50\n",
            "500/500 - 2s - loss: 0.2680 - accuracy: 0.8931 - val_loss: 0.4851 - val_accuracy: 0.8207 - 2s/epoch - 4ms/step\n",
            "Epoch 41/50\n",
            "500/500 - 2s - loss: 0.2625 - accuracy: 0.8965 - val_loss: 0.4845 - val_accuracy: 0.8202 - 2s/epoch - 4ms/step\n",
            "Epoch 42/50\n",
            "500/500 - 2s - loss: 0.2607 - accuracy: 0.8960 - val_loss: 0.4993 - val_accuracy: 0.8140 - 2s/epoch - 5ms/step\n",
            "Epoch 43/50\n",
            "500/500 - 2s - loss: 0.2564 - accuracy: 0.8987 - val_loss: 0.4954 - val_accuracy: 0.8210 - 2s/epoch - 4ms/step\n",
            "Epoch 44/50\n",
            "500/500 - 3s - loss: 0.2492 - accuracy: 0.9039 - val_loss: 0.5117 - val_accuracy: 0.8227 - 3s/epoch - 6ms/step\n",
            "Epoch 45/50\n",
            "500/500 - 2s - loss: 0.2424 - accuracy: 0.9037 - val_loss: 0.5100 - val_accuracy: 0.8223 - 2s/epoch - 5ms/step\n",
            "Epoch 46/50\n",
            "500/500 - 2s - loss: 0.2387 - accuracy: 0.9067 - val_loss: 0.5040 - val_accuracy: 0.8255 - 2s/epoch - 4ms/step\n",
            "Epoch 47/50\n",
            "500/500 - 2s - loss: 0.2407 - accuracy: 0.9082 - val_loss: 0.5135 - val_accuracy: 0.8140 - 2s/epoch - 5ms/step\n",
            "Epoch 48/50\n",
            "500/500 - 2s - loss: 0.2258 - accuracy: 0.9127 - val_loss: 0.5288 - val_accuracy: 0.8165 - 2s/epoch - 5ms/step\n",
            "Epoch 49/50\n",
            "500/500 - 3s - loss: 0.2250 - accuracy: 0.9126 - val_loss: 0.5199 - val_accuracy: 0.8270 - 3s/epoch - 6ms/step\n",
            "Epoch 50/50\n",
            "500/500 - 2s - loss: 0.2336 - accuracy: 0.9099 - val_loss: 0.5209 - val_accuracy: 0.8167 - 2s/epoch - 5ms/step\n"
          ]
        },
        {
          "output_type": "execute_result",
          "data": {
            "text/plain": [
              "<keras.callbacks.History at 0x7993c0ac2ef0>"
            ]
          },
          "metadata": {},
          "execution_count": 57
        }
      ]
    },
    {
      "cell_type": "code",
      "source": [
        "y_pred= (model.predict(X_test) > 0.5).astype(int)\n",
        "print(classification_report(y_test, y_pred))"
      ],
      "metadata": {
        "id": "lA4DgD4b_dQB",
        "colab": {
          "base_uri": "https://localhost:8080/"
        },
        "outputId": "130dff96-a699-4e61-cbc0-05ba42024755"
      },
      "execution_count": 58,
      "outputs": [
        {
          "output_type": "stream",
          "name": "stdout",
          "text": [
            "125/125 [==============================] - 1s 2ms/step\n",
            "              precision    recall  f1-score   support\n",
            "\n",
            "           0       0.65      0.49      0.56       943\n",
            "           1       0.85      0.92      0.88      3057\n",
            "\n",
            "    accuracy                           0.82      4000\n",
            "   macro avg       0.75      0.70      0.72      4000\n",
            "weighted avg       0.80      0.82      0.81      4000\n",
            "\n"
          ]
        }
      ]
    },
    {
      "cell_type": "code",
      "source": [
        "# Bidirectional LSTM"
      ],
      "metadata": {
        "id": "nTc-_LEhB5lK"
      },
      "execution_count": 59,
      "outputs": []
    },
    {
      "cell_type": "code",
      "source": [
        "bi_model =  keras.models.Sequential()\n",
        "bi_model.add(layers.Embedding(vocab_size, output_dim= embedding_dim,  weights=[embedding_vectors], input_length= max_len , trainable=False))\n",
        "bi_model.add(layers.Bidirectional(layers.LSTM(128, dropout=0.1)))  # Use Bidirectional LSTM layer\n",
        "bi_model.add(layers.Dense(1, activation='sigmoid'))\n",
        "loss = tf.keras.losses.BinaryCrossentropy(from_logits=False)\n",
        "optim = tf.keras.optimizers.Adam(learning_rate=0.0001)\n",
        "metrics = [\"accuracy\"] #, Precision(), Recall()]\n",
        "\n",
        "bi_model.compile(loss=loss, optimizer=optim, metrics=metrics)"
      ],
      "metadata": {
        "id": "9MRcDvri77CN"
      },
      "execution_count": 60,
      "outputs": []
    },
    {
      "cell_type": "code",
      "source": [
        "bi_model.fit(X_train, y_train, epochs=50, validation_data=(X_test, y_test), verbose=2)\n"
      ],
      "metadata": {
        "colab": {
          "base_uri": "https://localhost:8080/"
        },
        "id": "xHX7aAeK8bZd",
        "outputId": "9ba1cf18-b1da-4c67-e6cc-bf40c789cb7f"
      },
      "execution_count": 61,
      "outputs": [
        {
          "output_type": "stream",
          "name": "stdout",
          "text": [
            "Epoch 1/50\n",
            "500/500 - 9s - loss: 0.5058 - accuracy: 0.7821 - val_loss: 0.4727 - val_accuracy: 0.7910 - 9s/epoch - 17ms/step\n",
            "Epoch 2/50\n",
            "500/500 - 3s - loss: 0.4730 - accuracy: 0.7918 - val_loss: 0.4555 - val_accuracy: 0.8023 - 3s/epoch - 7ms/step\n",
            "Epoch 3/50\n",
            "500/500 - 3s - loss: 0.4670 - accuracy: 0.7961 - val_loss: 0.4530 - val_accuracy: 0.8040 - 3s/epoch - 6ms/step\n",
            "Epoch 4/50\n",
            "500/500 - 4s - loss: 0.4627 - accuracy: 0.7990 - val_loss: 0.4496 - val_accuracy: 0.8108 - 4s/epoch - 7ms/step\n",
            "Epoch 5/50\n",
            "500/500 - 3s - loss: 0.4600 - accuracy: 0.7994 - val_loss: 0.4475 - val_accuracy: 0.8095 - 3s/epoch - 6ms/step\n",
            "Epoch 6/50\n",
            "500/500 - 4s - loss: 0.4573 - accuracy: 0.8025 - val_loss: 0.4398 - val_accuracy: 0.8100 - 4s/epoch - 8ms/step\n",
            "Epoch 7/50\n",
            "500/500 - 3s - loss: 0.4541 - accuracy: 0.8023 - val_loss: 0.4458 - val_accuracy: 0.8075 - 3s/epoch - 6ms/step\n",
            "Epoch 8/50\n",
            "500/500 - 4s - loss: 0.4510 - accuracy: 0.8062 - val_loss: 0.4433 - val_accuracy: 0.8073 - 4s/epoch - 7ms/step\n",
            "Epoch 9/50\n",
            "500/500 - 3s - loss: 0.4488 - accuracy: 0.8072 - val_loss: 0.4332 - val_accuracy: 0.8175 - 3s/epoch - 6ms/step\n",
            "Epoch 10/50\n",
            "500/500 - 3s - loss: 0.4448 - accuracy: 0.8109 - val_loss: 0.4340 - val_accuracy: 0.8167 - 3s/epoch - 6ms/step\n",
            "Epoch 11/50\n",
            "500/500 - 3s - loss: 0.4455 - accuracy: 0.8117 - val_loss: 0.4329 - val_accuracy: 0.8155 - 3s/epoch - 7ms/step\n",
            "Epoch 12/50\n",
            "500/500 - 3s - loss: 0.4406 - accuracy: 0.8128 - val_loss: 0.4271 - val_accuracy: 0.8165 - 3s/epoch - 7ms/step\n",
            "Epoch 13/50\n",
            "500/500 - 4s - loss: 0.4387 - accuracy: 0.8130 - val_loss: 0.4279 - val_accuracy: 0.8145 - 4s/epoch - 7ms/step\n",
            "Epoch 14/50\n",
            "500/500 - 3s - loss: 0.4370 - accuracy: 0.8125 - val_loss: 0.4212 - val_accuracy: 0.8188 - 3s/epoch - 7ms/step\n",
            "Epoch 15/50\n",
            "500/500 - 4s - loss: 0.4356 - accuracy: 0.8159 - val_loss: 0.4207 - val_accuracy: 0.8205 - 4s/epoch - 7ms/step\n",
            "Epoch 16/50\n",
            "500/500 - 3s - loss: 0.4323 - accuracy: 0.8162 - val_loss: 0.4326 - val_accuracy: 0.8138 - 3s/epoch - 6ms/step\n",
            "Epoch 17/50\n",
            "500/500 - 3s - loss: 0.4301 - accuracy: 0.8183 - val_loss: 0.4176 - val_accuracy: 0.8240 - 3s/epoch - 6ms/step\n",
            "Epoch 18/50\n",
            "500/500 - 3s - loss: 0.4271 - accuracy: 0.8205 - val_loss: 0.4132 - val_accuracy: 0.8278 - 3s/epoch - 7ms/step\n",
            "Epoch 19/50\n",
            "500/500 - 4s - loss: 0.4259 - accuracy: 0.8218 - val_loss: 0.4141 - val_accuracy: 0.8242 - 4s/epoch - 7ms/step\n",
            "Epoch 20/50\n",
            "500/500 - 3s - loss: 0.4234 - accuracy: 0.8236 - val_loss: 0.4158 - val_accuracy: 0.8242 - 3s/epoch - 7ms/step\n",
            "Epoch 21/50\n",
            "500/500 - 3s - loss: 0.4218 - accuracy: 0.8220 - val_loss: 0.4074 - val_accuracy: 0.8298 - 3s/epoch - 6ms/step\n",
            "Epoch 22/50\n",
            "500/500 - 3s - loss: 0.4201 - accuracy: 0.8258 - val_loss: 0.4081 - val_accuracy: 0.8280 - 3s/epoch - 7ms/step\n",
            "Epoch 23/50\n",
            "500/500 - 3s - loss: 0.4189 - accuracy: 0.8225 - val_loss: 0.4078 - val_accuracy: 0.8300 - 3s/epoch - 7ms/step\n",
            "Epoch 24/50\n",
            "500/500 - 3s - loss: 0.4177 - accuracy: 0.8256 - val_loss: 0.4111 - val_accuracy: 0.8267 - 3s/epoch - 6ms/step\n",
            "Epoch 25/50\n",
            "500/500 - 3s - loss: 0.4160 - accuracy: 0.8265 - val_loss: 0.4061 - val_accuracy: 0.8305 - 3s/epoch - 7ms/step\n",
            "Epoch 26/50\n",
            "500/500 - 4s - loss: 0.4145 - accuracy: 0.8259 - val_loss: 0.4150 - val_accuracy: 0.8248 - 4s/epoch - 8ms/step\n",
            "Epoch 27/50\n",
            "500/500 - 3s - loss: 0.4128 - accuracy: 0.8284 - val_loss: 0.4103 - val_accuracy: 0.8273 - 3s/epoch - 6ms/step\n",
            "Epoch 28/50\n",
            "500/500 - 3s - loss: 0.4124 - accuracy: 0.8298 - val_loss: 0.3996 - val_accuracy: 0.8350 - 3s/epoch - 6ms/step\n",
            "Epoch 29/50\n",
            "500/500 - 3s - loss: 0.4103 - accuracy: 0.8297 - val_loss: 0.4022 - val_accuracy: 0.8315 - 3s/epoch - 6ms/step\n",
            "Epoch 30/50\n",
            "500/500 - 4s - loss: 0.4090 - accuracy: 0.8305 - val_loss: 0.4052 - val_accuracy: 0.8310 - 4s/epoch - 8ms/step\n",
            "Epoch 31/50\n",
            "500/500 - 3s - loss: 0.4077 - accuracy: 0.8329 - val_loss: 0.3978 - val_accuracy: 0.8340 - 3s/epoch - 6ms/step\n",
            "Epoch 32/50\n",
            "500/500 - 3s - loss: 0.4063 - accuracy: 0.8307 - val_loss: 0.3976 - val_accuracy: 0.8365 - 3s/epoch - 6ms/step\n",
            "Epoch 33/50\n",
            "500/500 - 3s - loss: 0.4055 - accuracy: 0.8317 - val_loss: 0.4104 - val_accuracy: 0.8345 - 3s/epoch - 7ms/step\n",
            "Epoch 34/50\n",
            "500/500 - 3s - loss: 0.4063 - accuracy: 0.8307 - val_loss: 0.3984 - val_accuracy: 0.8403 - 3s/epoch - 7ms/step\n",
            "Epoch 35/50\n",
            "500/500 - 3s - loss: 0.4036 - accuracy: 0.8327 - val_loss: 0.4079 - val_accuracy: 0.8330 - 3s/epoch - 6ms/step\n",
            "Epoch 36/50\n",
            "500/500 - 3s - loss: 0.4022 - accuracy: 0.8326 - val_loss: 0.3974 - val_accuracy: 0.8370 - 3s/epoch - 6ms/step\n",
            "Epoch 37/50\n",
            "500/500 - 4s - loss: 0.4005 - accuracy: 0.8351 - val_loss: 0.3941 - val_accuracy: 0.8393 - 4s/epoch - 7ms/step\n",
            "Epoch 38/50\n",
            "500/500 - 3s - loss: 0.4019 - accuracy: 0.8350 - val_loss: 0.3940 - val_accuracy: 0.8410 - 3s/epoch - 6ms/step\n",
            "Epoch 39/50\n",
            "500/500 - 3s - loss: 0.3975 - accuracy: 0.8368 - val_loss: 0.3938 - val_accuracy: 0.8397 - 3s/epoch - 6ms/step\n",
            "Epoch 40/50\n",
            "500/500 - 3s - loss: 0.3965 - accuracy: 0.8367 - val_loss: 0.3929 - val_accuracy: 0.8397 - 3s/epoch - 6ms/step\n",
            "Epoch 41/50\n",
            "500/500 - 4s - loss: 0.3964 - accuracy: 0.8370 - val_loss: 0.3915 - val_accuracy: 0.8428 - 4s/epoch - 7ms/step\n",
            "Epoch 42/50\n",
            "500/500 - 3s - loss: 0.3975 - accuracy: 0.8366 - val_loss: 0.3936 - val_accuracy: 0.8393 - 3s/epoch - 7ms/step\n",
            "Epoch 43/50\n",
            "500/500 - 3s - loss: 0.3949 - accuracy: 0.8382 - val_loss: 0.3890 - val_accuracy: 0.8443 - 3s/epoch - 6ms/step\n",
            "Epoch 44/50\n",
            "500/500 - 3s - loss: 0.3943 - accuracy: 0.8387 - val_loss: 0.4011 - val_accuracy: 0.8330 - 3s/epoch - 7ms/step\n",
            "Epoch 45/50\n",
            "500/500 - 4s - loss: 0.3953 - accuracy: 0.8377 - val_loss: 0.3905 - val_accuracy: 0.8415 - 4s/epoch - 7ms/step\n",
            "Epoch 46/50\n",
            "500/500 - 3s - loss: 0.3916 - accuracy: 0.8402 - val_loss: 0.3877 - val_accuracy: 0.8432 - 3s/epoch - 6ms/step\n",
            "Epoch 47/50\n",
            "500/500 - 3s - loss: 0.3904 - accuracy: 0.8407 - val_loss: 0.3871 - val_accuracy: 0.8435 - 3s/epoch - 6ms/step\n",
            "Epoch 48/50\n",
            "500/500 - 3s - loss: 0.3907 - accuracy: 0.8413 - val_loss: 0.3910 - val_accuracy: 0.8385 - 3s/epoch - 7ms/step\n",
            "Epoch 49/50\n",
            "500/500 - 3s - loss: 0.3904 - accuracy: 0.8402 - val_loss: 0.3860 - val_accuracy: 0.8445 - 3s/epoch - 7ms/step\n",
            "Epoch 50/50\n",
            "500/500 - 3s - loss: 0.3855 - accuracy: 0.8425 - val_loss: 0.3938 - val_accuracy: 0.8345 - 3s/epoch - 7ms/step\n"
          ]
        },
        {
          "output_type": "execute_result",
          "data": {
            "text/plain": [
              "<keras.callbacks.History at 0x79936717d840>"
            ]
          },
          "metadata": {},
          "execution_count": 61
        }
      ]
    },
    {
      "cell_type": "code",
      "source": [
        "y_pred= (bi_model.predict(X_test) > 0.5).astype(int)\n",
        "print(classification_report(y_test, y_pred))"
      ],
      "metadata": {
        "id": "vMY4JFeX8ccc",
        "colab": {
          "base_uri": "https://localhost:8080/"
        },
        "outputId": "0906a3e6-ca6d-475c-cc55-a7c089bedd71"
      },
      "execution_count": 62,
      "outputs": [
        {
          "output_type": "stream",
          "name": "stdout",
          "text": [
            "125/125 [==============================] - 1s 2ms/step\n",
            "              precision    recall  f1-score   support\n",
            "\n",
            "           0       0.74      0.46      0.57       943\n",
            "           1       0.85      0.95      0.90      3057\n",
            "\n",
            "    accuracy                           0.83      4000\n",
            "   macro avg       0.80      0.70      0.73      4000\n",
            "weighted avg       0.82      0.83      0.82      4000\n",
            "\n"
          ]
        }
      ]
    },
    {
      "cell_type": "code",
      "source": [],
      "metadata": {
        "id": "ecdxU7d-CBLh"
      },
      "execution_count": 62,
      "outputs": []
    },
    {
      "cell_type": "code",
      "source": [
        "S_model =  keras.models.Sequential()\n",
        "S_model.add(layers.Embedding(vocab_size, output_dim= embedding_dim,  weights=[embedding_vectors], input_length= max_len , trainable=False))\n",
        "S_model.add(layers.SimpleRNN(128, dropout=0.1))\n",
        "S_model.add(layers.Dense(1, activation='sigmoid'))\n",
        "loss = tf.keras.losses.BinaryCrossentropy(from_logits=False)\n",
        "optim = tf.keras.optimizers.Adam(learning_rate=0.0001)\n",
        "metrics = [\"accuracy\"] #, Precision(), Recall()]\n",
        "\n",
        "S_model.compile(loss=loss, optimizer=optim, metrics=metrics)"
      ],
      "metadata": {
        "id": "iyklCr8MCBaA"
      },
      "execution_count": 63,
      "outputs": []
    },
    {
      "cell_type": "code",
      "source": [
        "S_model.fit(X_train, y_train, epochs=50, validation_data=(X_test, y_test), verbose=2)\n"
      ],
      "metadata": {
        "colab": {
          "base_uri": "https://localhost:8080/"
        },
        "id": "MIbJFcsDCBdS",
        "outputId": "ed9c49ae-8bb5-408a-b3ff-3eff787c448c"
      },
      "execution_count": 64,
      "outputs": [
        {
          "output_type": "stream",
          "name": "stdout",
          "text": [
            "Epoch 1/50\n",
            "500/500 - 12s - loss: 0.5099 - accuracy: 0.7751 - val_loss: 0.4671 - val_accuracy: 0.8018 - 12s/epoch - 24ms/step\n",
            "Epoch 2/50\n",
            "500/500 - 10s - loss: 0.4804 - accuracy: 0.7916 - val_loss: 0.4485 - val_accuracy: 0.8165 - 10s/epoch - 20ms/step\n",
            "Epoch 3/50\n",
            "500/500 - 10s - loss: 0.4677 - accuracy: 0.7990 - val_loss: 0.4455 - val_accuracy: 0.8105 - 10s/epoch - 21ms/step\n",
            "Epoch 4/50\n",
            "500/500 - 10s - loss: 0.4643 - accuracy: 0.8012 - val_loss: 0.4466 - val_accuracy: 0.8110 - 10s/epoch - 20ms/step\n",
            "Epoch 5/50\n",
            "500/500 - 9s - loss: 0.4624 - accuracy: 0.8008 - val_loss: 0.4420 - val_accuracy: 0.8140 - 9s/epoch - 19ms/step\n",
            "Epoch 6/50\n",
            "500/500 - 9s - loss: 0.4587 - accuracy: 0.8041 - val_loss: 0.4359 - val_accuracy: 0.8138 - 9s/epoch - 18ms/step\n",
            "Epoch 7/50\n",
            "500/500 - 10s - loss: 0.4558 - accuracy: 0.8057 - val_loss: 0.4458 - val_accuracy: 0.8033 - 10s/epoch - 20ms/step\n",
            "Epoch 8/50\n",
            "500/500 - 10s - loss: 0.4552 - accuracy: 0.8048 - val_loss: 0.4530 - val_accuracy: 0.8020 - 10s/epoch - 20ms/step\n",
            "Epoch 9/50\n",
            "500/500 - 10s - loss: 0.4528 - accuracy: 0.8047 - val_loss: 0.4362 - val_accuracy: 0.8115 - 10s/epoch - 19ms/step\n",
            "Epoch 10/50\n",
            "500/500 - 9s - loss: 0.4505 - accuracy: 0.8095 - val_loss: 0.4337 - val_accuracy: 0.8130 - 9s/epoch - 18ms/step\n",
            "Epoch 11/50\n",
            "500/500 - 10s - loss: 0.4474 - accuracy: 0.8100 - val_loss: 0.4322 - val_accuracy: 0.8145 - 10s/epoch - 19ms/step\n",
            "Epoch 12/50\n",
            "500/500 - 10s - loss: 0.4467 - accuracy: 0.8101 - val_loss: 0.4329 - val_accuracy: 0.8148 - 10s/epoch - 20ms/step\n",
            "Epoch 13/50\n",
            "500/500 - 10s - loss: 0.4455 - accuracy: 0.8090 - val_loss: 0.4405 - val_accuracy: 0.8163 - 10s/epoch - 19ms/step\n",
            "Epoch 14/50\n",
            "500/500 - 10s - loss: 0.4437 - accuracy: 0.8138 - val_loss: 0.4308 - val_accuracy: 0.8150 - 10s/epoch - 20ms/step\n",
            "Epoch 15/50\n",
            "500/500 - 12s - loss: 0.4419 - accuracy: 0.8132 - val_loss: 0.4282 - val_accuracy: 0.8175 - 12s/epoch - 24ms/step\n",
            "Epoch 16/50\n",
            "500/500 - 12s - loss: 0.4431 - accuracy: 0.8122 - val_loss: 0.4333 - val_accuracy: 0.8148 - 12s/epoch - 24ms/step\n",
            "Epoch 17/50\n",
            "500/500 - 10s - loss: 0.4383 - accuracy: 0.8148 - val_loss: 0.4259 - val_accuracy: 0.8188 - 10s/epoch - 19ms/step\n",
            "Epoch 18/50\n",
            "500/500 - 10s - loss: 0.4374 - accuracy: 0.8148 - val_loss: 0.4268 - val_accuracy: 0.8177 - 10s/epoch - 20ms/step\n",
            "Epoch 19/50\n",
            "500/500 - 10s - loss: 0.4380 - accuracy: 0.8140 - val_loss: 0.4253 - val_accuracy: 0.8210 - 10s/epoch - 20ms/step\n",
            "Epoch 20/50\n",
            "500/500 - 10s - loss: 0.4346 - accuracy: 0.8156 - val_loss: 0.4259 - val_accuracy: 0.8213 - 10s/epoch - 20ms/step\n",
            "Epoch 21/50\n",
            "500/500 - 9s - loss: 0.4372 - accuracy: 0.8167 - val_loss: 0.4260 - val_accuracy: 0.8235 - 9s/epoch - 17ms/step\n",
            "Epoch 22/50\n",
            "500/500 - 10s - loss: 0.4360 - accuracy: 0.8157 - val_loss: 0.4231 - val_accuracy: 0.8213 - 10s/epoch - 20ms/step\n",
            "Epoch 23/50\n",
            "500/500 - 10s - loss: 0.4341 - accuracy: 0.8178 - val_loss: 0.4283 - val_accuracy: 0.8210 - 10s/epoch - 20ms/step\n",
            "Epoch 24/50\n",
            "500/500 - 10s - loss: 0.4312 - accuracy: 0.8190 - val_loss: 0.4244 - val_accuracy: 0.8202 - 10s/epoch - 20ms/step\n",
            "Epoch 25/50\n",
            "500/500 - 10s - loss: 0.4314 - accuracy: 0.8164 - val_loss: 0.4219 - val_accuracy: 0.8207 - 10s/epoch - 20ms/step\n",
            "Epoch 26/50\n",
            "500/500 - 9s - loss: 0.4299 - accuracy: 0.8172 - val_loss: 0.4242 - val_accuracy: 0.8207 - 9s/epoch - 18ms/step\n",
            "Epoch 27/50\n",
            "500/500 - 10s - loss: 0.4299 - accuracy: 0.8198 - val_loss: 0.4181 - val_accuracy: 0.8238 - 10s/epoch - 19ms/step\n",
            "Epoch 28/50\n",
            "500/500 - 10s - loss: 0.4277 - accuracy: 0.8206 - val_loss: 0.4261 - val_accuracy: 0.8205 - 10s/epoch - 20ms/step\n",
            "Epoch 29/50\n",
            "500/500 - 10s - loss: 0.4271 - accuracy: 0.8207 - val_loss: 0.4288 - val_accuracy: 0.8230 - 10s/epoch - 19ms/step\n",
            "Epoch 30/50\n",
            "500/500 - 9s - loss: 0.4250 - accuracy: 0.8206 - val_loss: 0.4227 - val_accuracy: 0.8165 - 9s/epoch - 17ms/step\n",
            "Epoch 31/50\n",
            "500/500 - 9s - loss: 0.4252 - accuracy: 0.8198 - val_loss: 0.4197 - val_accuracy: 0.8232 - 9s/epoch - 19ms/step\n",
            "Epoch 32/50\n",
            "500/500 - 10s - loss: 0.4223 - accuracy: 0.8215 - val_loss: 0.4261 - val_accuracy: 0.8227 - 10s/epoch - 19ms/step\n",
            "Epoch 33/50\n",
            "500/500 - 10s - loss: 0.4224 - accuracy: 0.8236 - val_loss: 0.4323 - val_accuracy: 0.8198 - 10s/epoch - 20ms/step\n",
            "Epoch 34/50\n",
            "500/500 - 10s - loss: 0.4206 - accuracy: 0.8237 - val_loss: 0.4176 - val_accuracy: 0.8242 - 10s/epoch - 20ms/step\n",
            "Epoch 35/50\n",
            "500/500 - 9s - loss: 0.4188 - accuracy: 0.8262 - val_loss: 0.4161 - val_accuracy: 0.8288 - 9s/epoch - 18ms/step\n",
            "Epoch 36/50\n",
            "500/500 - 10s - loss: 0.4197 - accuracy: 0.8233 - val_loss: 0.4182 - val_accuracy: 0.8260 - 10s/epoch - 19ms/step\n",
            "Epoch 37/50\n",
            "500/500 - 10s - loss: 0.4183 - accuracy: 0.8270 - val_loss: 0.4210 - val_accuracy: 0.8220 - 10s/epoch - 20ms/step\n",
            "Epoch 38/50\n",
            "500/500 - 10s - loss: 0.4158 - accuracy: 0.8276 - val_loss: 0.4158 - val_accuracy: 0.8255 - 10s/epoch - 20ms/step\n",
            "Epoch 39/50\n",
            "500/500 - 10s - loss: 0.4149 - accuracy: 0.8267 - val_loss: 0.4186 - val_accuracy: 0.8238 - 10s/epoch - 19ms/step\n",
            "Epoch 40/50\n",
            "500/500 - 8s - loss: 0.4147 - accuracy: 0.8285 - val_loss: 0.4179 - val_accuracy: 0.8267 - 8s/epoch - 17ms/step\n",
            "Epoch 41/50\n",
            "500/500 - 10s - loss: 0.4137 - accuracy: 0.8258 - val_loss: 0.4173 - val_accuracy: 0.8248 - 10s/epoch - 20ms/step\n",
            "Epoch 42/50\n",
            "500/500 - 10s - loss: 0.4130 - accuracy: 0.8268 - val_loss: 0.4201 - val_accuracy: 0.8235 - 10s/epoch - 19ms/step\n",
            "Epoch 43/50\n",
            "500/500 - 10s - loss: 0.4106 - accuracy: 0.8277 - val_loss: 0.4157 - val_accuracy: 0.8245 - 10s/epoch - 19ms/step\n",
            "Epoch 44/50\n",
            "500/500 - 9s - loss: 0.4095 - accuracy: 0.8295 - val_loss: 0.4197 - val_accuracy: 0.8220 - 9s/epoch - 18ms/step\n",
            "Epoch 45/50\n",
            "500/500 - 10s - loss: 0.4086 - accuracy: 0.8287 - val_loss: 0.4196 - val_accuracy: 0.8270 - 10s/epoch - 19ms/step\n",
            "Epoch 46/50\n",
            "500/500 - 10s - loss: 0.4043 - accuracy: 0.8330 - val_loss: 0.4184 - val_accuracy: 0.8248 - 10s/epoch - 20ms/step\n",
            "Epoch 47/50\n",
            "500/500 - 10s - loss: 0.4071 - accuracy: 0.8322 - val_loss: 0.4254 - val_accuracy: 0.8253 - 10s/epoch - 20ms/step\n",
            "Epoch 48/50\n",
            "500/500 - 10s - loss: 0.4066 - accuracy: 0.8309 - val_loss: 0.4168 - val_accuracy: 0.8253 - 10s/epoch - 20ms/step\n",
            "Epoch 49/50\n",
            "500/500 - 9s - loss: 0.4052 - accuracy: 0.8309 - val_loss: 0.4165 - val_accuracy: 0.8282 - 9s/epoch - 17ms/step\n",
            "Epoch 50/50\n",
            "500/500 - 11s - loss: 0.4028 - accuracy: 0.8324 - val_loss: 0.4168 - val_accuracy: 0.8195 - 11s/epoch - 22ms/step\n"
          ]
        },
        {
          "output_type": "execute_result",
          "data": {
            "text/plain": [
              "<keras.callbacks.History at 0x79933a203b80>"
            ]
          },
          "metadata": {},
          "execution_count": 64
        }
      ]
    },
    {
      "cell_type": "code",
      "source": [
        "y_pred= (S_model.predict(X_test) > 0.5).astype(int)\n",
        "print(classification_report(y_test, y_pred))"
      ],
      "metadata": {
        "id": "682eZSmPCBgg",
        "colab": {
          "base_uri": "https://localhost:8080/"
        },
        "outputId": "bb588d32-b677-45d7-999b-5a855f5f8a13"
      },
      "execution_count": 65,
      "outputs": [
        {
          "output_type": "stream",
          "name": "stdout",
          "text": [
            "125/125 [==============================] - 0s 3ms/step\n",
            "              precision    recall  f1-score   support\n",
            "\n",
            "           0       0.73      0.37      0.49       943\n",
            "           1       0.83      0.96      0.89      3057\n",
            "\n",
            "    accuracy                           0.82      4000\n",
            "   macro avg       0.78      0.67      0.69      4000\n",
            "weighted avg       0.81      0.82      0.80      4000\n",
            "\n"
          ]
        }
      ]
    }
  ]
}